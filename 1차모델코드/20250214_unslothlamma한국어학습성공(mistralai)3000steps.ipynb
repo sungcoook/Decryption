{
 "cells": [
  {
   "cell_type": "markdown",
   "metadata": {},
   "source": [
    "## 1. 환경설정"
   ]
  },
  {
   "cell_type": "code",
   "execution_count": 1,
   "metadata": {
    "colab": {
     "base_uri": "https://localhost:8080/"
    },
    "executionInfo": {
     "elapsed": 4399,
     "status": "ok",
     "timestamp": 1739483472905,
     "user": {
      "displayName": "송채원",
      "userId": "07880515647457255886"
     },
     "user_tz": -540
    },
    "id": "4jxAklQnwJXO",
    "outputId": "e8c3d8f8-4d6a-4a52-c625-c1a3cd6a01f3"
   },
   "outputs": [
    {
     "data": {
      "text/plain": [
       "(8, 0)"
      ]
     },
     "execution_count": 1,
     "metadata": {},
     "output_type": "execute_result"
    }
   ],
   "source": [
    "import torch\n",
    "\n",
    "# CUDA 장치의 주요 버전과 부 버전을 가져옵니다.\n",
    "major_version, minor_version = torch.cuda.get_device_capability()\n",
    "major_version, minor_version"
   ]
  },
  {
   "cell_type": "code",
   "execution_count": 2,
   "metadata": {
    "executionInfo": {
     "elapsed": 108037,
     "status": "ok",
     "timestamp": 1739483580939,
     "user": {
      "displayName": "송채원",
      "userId": "07880515647457255886"
     },
     "user_tz": -540
    },
    "id": "H5OBFJ_5wbcH"
   },
   "outputs": [],
   "source": [
    "%%capture\n",
    "# Colab에서 torch 2.2.1을 사용하고 있으므로, 패키지 충돌을 방지하기 위해 별도로 설치해야 합니다.\n",
    "!pip install \"unsloth[colab-new] @ git+https://github.com/unslothai/unsloth.git\"\n",
    "if major_version >= 8:\n",
    "    # 새로운 GPU(예: Ampere, Hopper GPUs - RTX 30xx, RTX 40xx, A100, H100, L40)에 사용하세요.\n",
    "    !pip install --no-deps packaging ninja einops flash-attn xformers trl peft accelerate bitsandbytes\n",
    "else:\n",
    "    # 오래된 GPU(예: V100, Tesla T4, RTX 20xx)에 사용하세요.\n",
    "    !pip install --no-deps xformers trl peft accelerate bitsandbytes\n",
    "pass"
   ]
  },
  {
   "cell_type": "code",
   "execution_count": 4,
   "metadata": {
    "colab": {
     "base_uri": "https://localhost:8080/",
     "height": 1000
    },
    "executionInfo": {
     "elapsed": 10880,
     "status": "ok",
     "timestamp": 1739483699287,
     "user": {
      "displayName": "송채원",
      "userId": "07880515647457255886"
     },
     "user_tz": -540
    },
    "id": "3FkGFryXToGq",
    "outputId": "8039c682-2b9f-45ee-abe9-24ca99e3e2ac"
   },
   "outputs": [
    {
     "name": "stdout",
     "output_type": "stream",
     "text": [
      "Collecting git+https://github.com/huggingface/trl.git@82d12eb75103821cd4af1978e99b1026a90ac67d\n",
      "  Cloning https://github.com/huggingface/trl.git (to revision 82d12eb75103821cd4af1978e99b1026a90ac67d) to /tmp/pip-req-build-fg7t_405\n",
      "  Running command git clone --filter=blob:none --quiet https://github.com/huggingface/trl.git /tmp/pip-req-build-fg7t_405\n",
      "  Running command git rev-parse -q --verify 'sha^82d12eb75103821cd4af1978e99b1026a90ac67d'\n",
      "  Running command git fetch -q https://github.com/huggingface/trl.git 82d12eb75103821cd4af1978e99b1026a90ac67d\n",
      "  Running command git checkout -q 82d12eb75103821cd4af1978e99b1026a90ac67d\n",
      "  Resolved https://github.com/huggingface/trl.git to commit 82d12eb75103821cd4af1978e99b1026a90ac67d\n",
      "  Installing build dependencies ... \u001b[?25l\u001b[?25hdone\n",
      "  Getting requirements to build wheel ... \u001b[?25l\u001b[?25hdone\n",
      "  Preparing metadata (pyproject.toml) ... \u001b[?25l\u001b[?25hdone\n",
      "Requirement already satisfied: accelerate>=0.34.0 in /usr/local/lib/python3.11/dist-packages (from trl==0.15.0.dev0) (1.3.0)\n",
      "Requirement already satisfied: datasets>=2.21.0 in /usr/local/lib/python3.11/dist-packages (from trl==0.15.0.dev0) (3.2.0)\n",
      "Requirement already satisfied: rich in /usr/local/lib/python3.11/dist-packages (from trl==0.15.0.dev0) (13.9.4)\n",
      "Requirement already satisfied: transformers>=4.46.0 in /usr/local/lib/python3.11/dist-packages (from trl==0.15.0.dev0) (4.48.2)\n",
      "Requirement already satisfied: numpy<3.0.0,>=1.17 in /usr/local/lib/python3.11/dist-packages (from accelerate>=0.34.0->trl==0.15.0.dev0) (1.26.4)\n",
      "Requirement already satisfied: packaging>=20.0 in /usr/local/lib/python3.11/dist-packages (from accelerate>=0.34.0->trl==0.15.0.dev0) (24.2)\n",
      "Requirement already satisfied: psutil in /usr/local/lib/python3.11/dist-packages (from accelerate>=0.34.0->trl==0.15.0.dev0) (5.9.5)\n",
      "Requirement already satisfied: pyyaml in /usr/local/lib/python3.11/dist-packages (from accelerate>=0.34.0->trl==0.15.0.dev0) (6.0.2)\n",
      "Requirement already satisfied: torch>=2.0.0 in /usr/local/lib/python3.11/dist-packages (from accelerate>=0.34.0->trl==0.15.0.dev0) (2.5.1+cu124)\n",
      "Requirement already satisfied: huggingface-hub>=0.21.0 in /usr/local/lib/python3.11/dist-packages (from accelerate>=0.34.0->trl==0.15.0.dev0) (0.28.1)\n",
      "Requirement already satisfied: safetensors>=0.4.3 in /usr/local/lib/python3.11/dist-packages (from accelerate>=0.34.0->trl==0.15.0.dev0) (0.5.2)\n",
      "Requirement already satisfied: filelock in /usr/local/lib/python3.11/dist-packages (from datasets>=2.21.0->trl==0.15.0.dev0) (3.17.0)\n",
      "Requirement already satisfied: pyarrow>=15.0.0 in /usr/local/lib/python3.11/dist-packages (from datasets>=2.21.0->trl==0.15.0.dev0) (17.0.0)\n",
      "Requirement already satisfied: dill<0.3.9,>=0.3.0 in /usr/local/lib/python3.11/dist-packages (from datasets>=2.21.0->trl==0.15.0.dev0) (0.3.8)\n",
      "Requirement already satisfied: pandas in /usr/local/lib/python3.11/dist-packages (from datasets>=2.21.0->trl==0.15.0.dev0) (2.2.2)\n",
      "Requirement already satisfied: requests>=2.32.2 in /usr/local/lib/python3.11/dist-packages (from datasets>=2.21.0->trl==0.15.0.dev0) (2.32.3)\n",
      "Requirement already satisfied: tqdm>=4.66.3 in /usr/local/lib/python3.11/dist-packages (from datasets>=2.21.0->trl==0.15.0.dev0) (4.67.1)\n",
      "Requirement already satisfied: xxhash in /usr/local/lib/python3.11/dist-packages (from datasets>=2.21.0->trl==0.15.0.dev0) (3.5.0)\n",
      "Requirement already satisfied: multiprocess<0.70.17 in /usr/local/lib/python3.11/dist-packages (from datasets>=2.21.0->trl==0.15.0.dev0) (0.70.16)\n",
      "Requirement already satisfied: fsspec<=2024.9.0,>=2023.1.0 in /usr/local/lib/python3.11/dist-packages (from fsspec[http]<=2024.9.0,>=2023.1.0->datasets>=2.21.0->trl==0.15.0.dev0) (2024.9.0)\n",
      "Requirement already satisfied: aiohttp in /usr/local/lib/python3.11/dist-packages (from datasets>=2.21.0->trl==0.15.0.dev0) (3.11.12)\n",
      "Requirement already satisfied: regex!=2019.12.17 in /usr/local/lib/python3.11/dist-packages (from transformers>=4.46.0->trl==0.15.0.dev0) (2024.11.6)\n",
      "Requirement already satisfied: tokenizers<0.22,>=0.21 in /usr/local/lib/python3.11/dist-packages (from transformers>=4.46.0->trl==0.15.0.dev0) (0.21.0)\n",
      "Requirement already satisfied: markdown-it-py>=2.2.0 in /usr/local/lib/python3.11/dist-packages (from rich->trl==0.15.0.dev0) (3.0.0)\n",
      "Requirement already satisfied: pygments<3.0.0,>=2.13.0 in /usr/local/lib/python3.11/dist-packages (from rich->trl==0.15.0.dev0) (2.18.0)\n",
      "Requirement already satisfied: aiohappyeyeballs>=2.3.0 in /usr/local/lib/python3.11/dist-packages (from aiohttp->datasets>=2.21.0->trl==0.15.0.dev0) (2.4.4)\n",
      "Requirement already satisfied: aiosignal>=1.1.2 in /usr/local/lib/python3.11/dist-packages (from aiohttp->datasets>=2.21.0->trl==0.15.0.dev0) (1.3.2)\n",
      "Requirement already satisfied: attrs>=17.3.0 in /usr/local/lib/python3.11/dist-packages (from aiohttp->datasets>=2.21.0->trl==0.15.0.dev0) (25.1.0)\n",
      "Requirement already satisfied: frozenlist>=1.1.1 in /usr/local/lib/python3.11/dist-packages (from aiohttp->datasets>=2.21.0->trl==0.15.0.dev0) (1.5.0)\n",
      "Requirement already satisfied: multidict<7.0,>=4.5 in /usr/local/lib/python3.11/dist-packages (from aiohttp->datasets>=2.21.0->trl==0.15.0.dev0) (6.1.0)\n",
      "Requirement already satisfied: propcache>=0.2.0 in /usr/local/lib/python3.11/dist-packages (from aiohttp->datasets>=2.21.0->trl==0.15.0.dev0) (0.2.1)\n",
      "Requirement already satisfied: yarl<2.0,>=1.17.0 in /usr/local/lib/python3.11/dist-packages (from aiohttp->datasets>=2.21.0->trl==0.15.0.dev0) (1.18.3)\n",
      "Requirement already satisfied: typing-extensions>=3.7.4.3 in /usr/local/lib/python3.11/dist-packages (from huggingface-hub>=0.21.0->accelerate>=0.34.0->trl==0.15.0.dev0) (4.12.2)\n",
      "Requirement already satisfied: mdurl~=0.1 in /usr/local/lib/python3.11/dist-packages (from markdown-it-py>=2.2.0->rich->trl==0.15.0.dev0) (0.1.2)\n",
      "Requirement already satisfied: charset-normalizer<4,>=2 in /usr/local/lib/python3.11/dist-packages (from requests>=2.32.2->datasets>=2.21.0->trl==0.15.0.dev0) (3.4.1)\n",
      "Requirement already satisfied: idna<4,>=2.5 in /usr/local/lib/python3.11/dist-packages (from requests>=2.32.2->datasets>=2.21.0->trl==0.15.0.dev0) (3.10)\n",
      "Requirement already satisfied: urllib3<3,>=1.21.1 in /usr/local/lib/python3.11/dist-packages (from requests>=2.32.2->datasets>=2.21.0->trl==0.15.0.dev0) (2.3.0)\n",
      "Requirement already satisfied: certifi>=2017.4.17 in /usr/local/lib/python3.11/dist-packages (from requests>=2.32.2->datasets>=2.21.0->trl==0.15.0.dev0) (2025.1.31)\n",
      "Requirement already satisfied: networkx in /usr/local/lib/python3.11/dist-packages (from torch>=2.0.0->accelerate>=0.34.0->trl==0.15.0.dev0) (3.4.2)\n",
      "Requirement already satisfied: jinja2 in /usr/local/lib/python3.11/dist-packages (from torch>=2.0.0->accelerate>=0.34.0->trl==0.15.0.dev0) (3.1.5)\n",
      "Requirement already satisfied: nvidia-cuda-nvrtc-cu12==12.4.127 in /usr/local/lib/python3.11/dist-packages (from torch>=2.0.0->accelerate>=0.34.0->trl==0.15.0.dev0) (12.4.127)\n",
      "Requirement already satisfied: nvidia-cuda-runtime-cu12==12.4.127 in /usr/local/lib/python3.11/dist-packages (from torch>=2.0.0->accelerate>=0.34.0->trl==0.15.0.dev0) (12.4.127)\n",
      "Requirement already satisfied: nvidia-cuda-cupti-cu12==12.4.127 in /usr/local/lib/python3.11/dist-packages (from torch>=2.0.0->accelerate>=0.34.0->trl==0.15.0.dev0) (12.4.127)\n",
      "Requirement already satisfied: nvidia-cudnn-cu12==9.1.0.70 in /usr/local/lib/python3.11/dist-packages (from torch>=2.0.0->accelerate>=0.34.0->trl==0.15.0.dev0) (9.1.0.70)\n",
      "Requirement already satisfied: nvidia-cublas-cu12==12.4.5.8 in /usr/local/lib/python3.11/dist-packages (from torch>=2.0.0->accelerate>=0.34.0->trl==0.15.0.dev0) (12.4.5.8)\n",
      "Requirement already satisfied: nvidia-cufft-cu12==11.2.1.3 in /usr/local/lib/python3.11/dist-packages (from torch>=2.0.0->accelerate>=0.34.0->trl==0.15.0.dev0) (11.2.1.3)\n",
      "Requirement already satisfied: nvidia-curand-cu12==10.3.5.147 in /usr/local/lib/python3.11/dist-packages (from torch>=2.0.0->accelerate>=0.34.0->trl==0.15.0.dev0) (10.3.5.147)\n",
      "Requirement already satisfied: nvidia-cusolver-cu12==11.6.1.9 in /usr/local/lib/python3.11/dist-packages (from torch>=2.0.0->accelerate>=0.34.0->trl==0.15.0.dev0) (11.6.1.9)\n",
      "Requirement already satisfied: nvidia-cusparse-cu12==12.3.1.170 in /usr/local/lib/python3.11/dist-packages (from torch>=2.0.0->accelerate>=0.34.0->trl==0.15.0.dev0) (12.3.1.170)\n",
      "Requirement already satisfied: nvidia-nccl-cu12==2.21.5 in /usr/local/lib/python3.11/dist-packages (from torch>=2.0.0->accelerate>=0.34.0->trl==0.15.0.dev0) (2.21.5)\n",
      "Requirement already satisfied: nvidia-nvtx-cu12==12.4.127 in /usr/local/lib/python3.11/dist-packages (from torch>=2.0.0->accelerate>=0.34.0->trl==0.15.0.dev0) (12.4.127)\n",
      "Requirement already satisfied: nvidia-nvjitlink-cu12==12.4.127 in /usr/local/lib/python3.11/dist-packages (from torch>=2.0.0->accelerate>=0.34.0->trl==0.15.0.dev0) (12.4.127)\n",
      "Requirement already satisfied: triton==3.1.0 in /usr/local/lib/python3.11/dist-packages (from torch>=2.0.0->accelerate>=0.34.0->trl==0.15.0.dev0) (3.1.0)\n",
      "Requirement already satisfied: sympy==1.13.1 in /usr/local/lib/python3.11/dist-packages (from torch>=2.0.0->accelerate>=0.34.0->trl==0.15.0.dev0) (1.13.1)\n",
      "Requirement already satisfied: mpmath<1.4,>=1.1.0 in /usr/local/lib/python3.11/dist-packages (from sympy==1.13.1->torch>=2.0.0->accelerate>=0.34.0->trl==0.15.0.dev0) (1.3.0)\n",
      "Requirement already satisfied: python-dateutil>=2.8.2 in /usr/local/lib/python3.11/dist-packages (from pandas->datasets>=2.21.0->trl==0.15.0.dev0) (2.8.2)\n",
      "Requirement already satisfied: pytz>=2020.1 in /usr/local/lib/python3.11/dist-packages (from pandas->datasets>=2.21.0->trl==0.15.0.dev0) (2025.1)\n",
      "Requirement already satisfied: tzdata>=2022.7 in /usr/local/lib/python3.11/dist-packages (from pandas->datasets>=2.21.0->trl==0.15.0.dev0) (2025.1)\n",
      "Requirement already satisfied: six>=1.5 in /usr/local/lib/python3.11/dist-packages (from python-dateutil>=2.8.2->pandas->datasets>=2.21.0->trl==0.15.0.dev0) (1.17.0)\n",
      "Requirement already satisfied: MarkupSafe>=2.0 in /usr/local/lib/python3.11/dist-packages (from jinja2->torch>=2.0.0->accelerate>=0.34.0->trl==0.15.0.dev0) (3.0.2)\n",
      "Building wheels for collected packages: trl\n",
      "  Building wheel for trl (pyproject.toml) ... \u001b[?25l\u001b[?25hdone\n",
      "  Created wheel for trl: filename=trl-0.15.0.dev0-py3-none-any.whl size=316099 sha256=be33333dc6fd7182b05acdd57db76d301cb97b190fe3a114db3d2342cfdebea6\n",
      "  Stored in directory: /root/.cache/pip/wheels/9a/73/31/6f0a776a79d16e5815537387486b7257d29ff3bd02b1ce4223\n",
      "Successfully built trl\n",
      "Installing collected packages: trl\n",
      "  Attempting uninstall: trl\n",
      "    Found existing installation: trl 0.15.0\n",
      "    Uninstalling trl-0.15.0:\n",
      "      Successfully uninstalled trl-0.15.0\n",
      "Successfully installed trl-0.15.0.dev0\n"
     ]
    },
    {
     "data": {
      "application/vnd.colab-display-data+json": {
       "id": "adbbd1234428468b97d4b3b424f8238f",
       "pip_warning": {
        "packages": [
         "trl"
        ]
       }
      }
     },
     "metadata": {},
     "output_type": "display_data"
    }
   ],
   "source": [
    "!pip install git+https://github.com/huggingface/trl.git@82d12eb75103821cd4af1978e99b1026a90ac67d"
   ]
  },
  {
   "cell_type": "code",
   "execution_count": 16,
   "metadata": {
    "colab": {
     "base_uri": "https://localhost:8080/",
     "height": 843
    },
    "executionInfo": {
     "elapsed": 5655,
     "status": "ok",
     "timestamp": 1739483937254,
     "user": {
      "displayName": "송채원",
      "userId": "07880515647457255886"
     },
     "user_tz": -540
    },
    "id": "4LfYVEmhbmsl",
    "outputId": "dd3809b2-816a-4528-80b7-3fd191d41dd1"
   },
   "outputs": [
    {
     "name": "stdout",
     "output_type": "stream",
     "text": [
      "Looking in indexes: https://download.pytorch.org/whl/cu121\n",
      "Requirement already satisfied: torch in /usr/local/lib/python3.11/dist-packages (2.5.1+cu124)\n",
      "Requirement already satisfied: torchvision in /usr/local/lib/python3.11/dist-packages (0.20.1+cu124)\n",
      "Requirement already satisfied: torchaudio in /usr/local/lib/python3.11/dist-packages (2.5.1+cu124)\n",
      "Requirement already satisfied: xformers in /usr/local/lib/python3.11/dist-packages (0.0.29.post3)\n",
      "Requirement already satisfied: filelock in /usr/local/lib/python3.11/dist-packages (from torch) (3.17.0)\n",
      "Requirement already satisfied: typing-extensions>=4.8.0 in /usr/local/lib/python3.11/dist-packages (from torch) (4.12.2)\n",
      "Requirement already satisfied: networkx in /usr/local/lib/python3.11/dist-packages (from torch) (3.4.2)\n",
      "Requirement already satisfied: jinja2 in /usr/local/lib/python3.11/dist-packages (from torch) (3.1.5)\n",
      "Requirement already satisfied: fsspec in /usr/local/lib/python3.11/dist-packages (from torch) (2024.9.0)\n",
      "Requirement already satisfied: nvidia-cuda-nvrtc-cu12==12.4.127 in /usr/local/lib/python3.11/dist-packages (from torch) (12.4.127)\n",
      "Requirement already satisfied: nvidia-cuda-runtime-cu12==12.4.127 in /usr/local/lib/python3.11/dist-packages (from torch) (12.4.127)\n",
      "Requirement already satisfied: nvidia-cuda-cupti-cu12==12.4.127 in /usr/local/lib/python3.11/dist-packages (from torch) (12.4.127)\n",
      "Requirement already satisfied: nvidia-cudnn-cu12==9.1.0.70 in /usr/local/lib/python3.11/dist-packages (from torch) (9.1.0.70)\n",
      "Requirement already satisfied: nvidia-cublas-cu12==12.4.5.8 in /usr/local/lib/python3.11/dist-packages (from torch) (12.4.5.8)\n",
      "Requirement already satisfied: nvidia-cufft-cu12==11.2.1.3 in /usr/local/lib/python3.11/dist-packages (from torch) (11.2.1.3)\n",
      "Requirement already satisfied: nvidia-curand-cu12==10.3.5.147 in /usr/local/lib/python3.11/dist-packages (from torch) (10.3.5.147)\n",
      "Requirement already satisfied: nvidia-cusolver-cu12==11.6.1.9 in /usr/local/lib/python3.11/dist-packages (from torch) (11.6.1.9)\n",
      "Requirement already satisfied: nvidia-cusparse-cu12==12.3.1.170 in /usr/local/lib/python3.11/dist-packages (from torch) (12.3.1.170)\n",
      "Requirement already satisfied: nvidia-nccl-cu12==2.21.5 in /usr/local/lib/python3.11/dist-packages (from torch) (2.21.5)\n",
      "Requirement already satisfied: nvidia-nvtx-cu12==12.4.127 in /usr/local/lib/python3.11/dist-packages (from torch) (12.4.127)\n",
      "Requirement already satisfied: nvidia-nvjitlink-cu12==12.4.127 in /usr/local/lib/python3.11/dist-packages (from torch) (12.4.127)\n",
      "Requirement already satisfied: triton==3.1.0 in /usr/local/lib/python3.11/dist-packages (from torch) (3.1.0)\n",
      "Requirement already satisfied: sympy==1.13.1 in /usr/local/lib/python3.11/dist-packages (from torch) (1.13.1)\n",
      "Requirement already satisfied: mpmath<1.4,>=1.1.0 in /usr/local/lib/python3.11/dist-packages (from sympy==1.13.1->torch) (1.3.0)\n",
      "Requirement already satisfied: numpy in /usr/local/lib/python3.11/dist-packages (from torchvision) (1.26.4)\n",
      "Requirement already satisfied: pillow!=8.3.*,>=5.3.0 in /usr/local/lib/python3.11/dist-packages (from torchvision) (11.1.0)\n",
      "INFO: pip is looking at multiple versions of xformers to determine which version is compatible with other requirements. This could take a while.\n",
      "Collecting xformers\n",
      "  Downloading https://download.pytorch.org/whl/cu121/xformers-0.0.29.post1-cp311-cp311-manylinux_2_28_x86_64.whl.metadata (1.0 kB)\n",
      "Requirement already satisfied: MarkupSafe>=2.0 in /usr/local/lib/python3.11/dist-packages (from jinja2->torch) (3.0.2)\n",
      "Downloading https://download.pytorch.org/whl/cu121/xformers-0.0.29.post1-cp311-cp311-manylinux_2_28_x86_64.whl (15.3 MB)\n",
      "\u001b[2K   \u001b[90m━━━━━━━━━━━━━━━━━━━━━━━━━━━━━━━━━━━━━━━━\u001b[0m \u001b[32m15.3/15.3 MB\u001b[0m \u001b[31m105.6 MB/s\u001b[0m eta \u001b[36m0:00:00\u001b[0m\n",
      "\u001b[?25hInstalling collected packages: xformers\n",
      "  Attempting uninstall: xformers\n",
      "    Found existing installation: xformers 0.0.29.post3\n",
      "    Uninstalling xformers-0.0.29.post3:\n",
      "      Successfully uninstalled xformers-0.0.29.post3\n",
      "Successfully installed xformers-0.0.29.post1\n"
     ]
    },
    {
     "data": {
      "application/vnd.colab-display-data+json": {
       "id": "cdaa61529ac4482ea07f60712a479585",
       "pip_warning": {
        "packages": [
         "xformers"
        ]
       }
      }
     },
     "metadata": {},
     "output_type": "display_data"
    }
   ],
   "source": [
    "!pip install torch torchvision torchaudio xformers --index-url https://download.pytorch.org/whl/cu121"
   ]
  },
  {
   "cell_type": "markdown",
   "metadata": {},
   "source": [
    "## 2. 모델로드"
   ]
  },
  {
   "cell_type": "code",
   "execution_count": null,
   "metadata": {
    "colab": {
     "base_uri": "https://localhost:8080/",
     "height": 194,
     "referenced_widgets": [
      "da6d4cc579d0489aabec79304f80b34c",
      "04b31beda03241f09e8d693e59064bd7",
      "101bc373cf8649b283faa3b7d7361abe",
      "59b773e3582547bc89f375ae564da6e5",
      "3d943325d3b84212808e980c549cf4b9",
      "c6a853fa567e4ccab941a1b70b3575e0",
      "0326f3ee95bc4b30b1e708ef1328464d",
      "b6b4d1555bc7409f87c4a232f96f8536",
      "35ce7e38c3f04a4b8df22e483ae49d95",
      "cccf4e4a4adc4354aec9ce3a7bdb7d3b",
      "03c39a9cd051431d8769dcac759de326"
     ]
    },
    "executionInfo": {
     "elapsed": 31572,
     "status": "ok",
     "timestamp": 1739483977868,
     "user": {
      "displayName": "송채원",
      "userId": "07880515647457255886"
     },
     "user_tz": -540
    },
    "id": "40cMRoJ9wlIF",
    "outputId": "0417ea37-0540-4cec-88d4-ff047a2507ad"
   },
   "outputs": [
    {
     "name": "stdout",
     "output_type": "stream",
     "text": [
      "🦥 Unsloth: Will patch your computer to enable 2x faster free finetuning.\n",
      "🦥 Unsloth Zoo will now patch everything to make training faster!\n",
      "==((====))==  Unsloth 2025.2.4: Fast Mistral patching. Transformers: 4.48.2.\n",
      "   \\\\   /|    GPU: NVIDIA A100-SXM4-40GB. Max memory: 39.557 GB. Platform: Linux.\n",
      "O^O/ \\_/ \\    Torch: 2.5.1+cu124. CUDA: 8.0. CUDA Toolkit: 12.4. Triton: 3.1.0\n",
      "\\        /    Bfloat16 = TRUE. FA [Xformers = 0.0.29.post1. FA2 = True]\n",
      " \"-____-\"     Free Apache license: http://github.com/unslothai/unsloth\n",
      "Unsloth: Fast downloading is enabled - ignore downloading bars which are red colored!\n"
     ]
    },
    {
     "data": {
      "application/vnd.jupyter.widget-view+json": {
       "model_id": "da6d4cc579d0489aabec79304f80b34c",
       "version_major": 2,
       "version_minor": 0
      },
      "text/plain": [
       "Loading checkpoint shards:   0%|          | 0/3 [00:00<?, ?it/s]"
      ]
     },
     "metadata": {},
     "output_type": "display_data"
    }
   ],
   "source": [
    "from unsloth import FastLanguageModel\n",
    "import torch\n",
    "\n",
    "max_seq_length = 4096  # 최대 시퀀스 길이를 설정합니다. 내부적으로 RoPE 스케일링을 자동으로 지원합니다!\n",
    "# 자동 감지를 위해 None을 사용합니다. Tesla T4, V100은 Float16, Ampere+는 Bfloat16을 사용하세요.\n",
    "dtype = None\n",
    "# 메모리 사용량을 줄이기 위해 4bit 양자화를 사용합니다. False일 수도 있습니다.\n",
    "load_in_4bit = True\n",
    "\n",
    "# 4배 빠른 다운로드와 메모리 부족 문제를 방지하기 위해 지원하는 4bit 사전 양자화 모델입니다.\n",
    "fourbit_models = [\n",
    "    \"unsloth/mistral-7b-bnb-4bit\",\n",
    "    \"unsloth/mistral-7b-instruct-v0.2-bnb-4bit\",\n",
    "    \"unsloth/llama-2-7b-bnb-4bit\",\n",
    "    \"unsloth/gemma-7b-bnb-4bit\",\n",
    "    \"unsloth/gemma-7b-it-bnb-4bit\",  # Gemma 7b의 Instruct 버전\n",
    "    \"unsloth/gemma-2b-bnb-4bit\",\n",
    "    \"unsloth/gemma-2b-it-bnb-4bit\",  # Gemma 2b의 Instruct 버전\n",
    "    \"unsloth/llama-3-8b-bnb-4bit\",  # Llama-3 8B\n",
    "]  # 더 많은 모델은 https://huggingface.co/unsloth 에서 확인할 수 있습니다.\n",
    "\n",
    "model, tokenizer = FastLanguageModel.from_pretrained(\n",
    "    # model_name = \"unsloth/llama-3-8b-bnb-4bit\",\n",
    "    model_name=\"mistralai/Mistral-Small-24B-Instruct-2501\",\n",
    "    max_seq_length=max_seq_length,  # 최대 시퀀스 길이를 설정합니다.\n",
    "    dtype=dtype,  # 데이터 타입을 설정합니다.\n",
    "    load_in_4bit=load_in_4bit,  # 4bit 양자화 로드 여부를 설정합니다.\n",
    "    # token = \"hf_...\", # 게이트된 모델을 사용하는 경우 토큰을 사용하세요. 예: meta-llama/Llama-2-7b-hf\n",
    ")"
   ]
  },
  {
   "cell_type": "code",
   "execution_count": 2,
   "metadata": {
    "colab": {
     "base_uri": "https://localhost:8080/"
    },
    "executionInfo": {
     "elapsed": 458,
     "status": "ok",
     "timestamp": 1739514805847,
     "user": {
      "displayName": "송채원",
      "userId": "07880515647457255886"
     },
     "user_tz": -540
    },
    "id": "A-_2jmP9xKhq",
    "outputId": "62ed5088-9614-46a9-d8cc-acee14214ecd"
   },
   "outputs": [
    {
     "name": "stderr",
     "output_type": "stream",
     "text": [
      "Unsloth: Already have LoRA adapters! We shall skip this step.\n"
     ]
    }
   ],
   "source": [
    "model = FastLanguageModel.get_peft_model(\n",
    "    model,\n",
    "    r=16,  # 0보다 큰 어떤 숫자도 선택 가능! 8, 16, 32, 64, 128이 권장됩니다.\n",
    "    lora_alpha=32,  # LoRA 알파 값을 설정합니다.\n",
    "    lora_dropout=0.05,  # 드롭아웃을 지원합니다.\n",
    "    target_modules=[\n",
    "        \"q_proj\",\n",
    "        \"k_proj\",\n",
    "        \"v_proj\",\n",
    "        \"o_proj\",\n",
    "        \"gate_proj\",\n",
    "        \"up_proj\",\n",
    "        \"down_proj\",\n",
    "    ],  # 타겟 모듈을 지정합니다.\n",
    "    bias=\"none\",  # 바이어스를 지원합니다.\n",
    "    # True 또는 \"unsloth\"를 사용하여 매우 긴 컨텍스트에 대해 VRAM을 30% 덜 사용하고, 2배 더 큰 배치 크기를 지원합니다.\n",
    "    use_gradient_checkpointing=\"unsloth\",\n",
    "    random_state=123,  # 난수 상태를 설정합니다.\n",
    "    use_rslora=False,  # 순위 안정화 LoRA를 지원합니다.\n",
    "    loftq_config=None,  # LoftQ를 지원합니다.\n",
    ")"
   ]
  },
  {
   "cell_type": "markdown",
   "metadata": {},
   "source": [
    "## 3. 파일 로드"
   ]
  },
  {
   "cell_type": "code",
   "execution_count": 4,
   "metadata": {
    "colab": {
     "base_uri": "https://localhost:8080/"
    },
    "executionInfo": {
     "elapsed": 24889,
     "status": "ok",
     "timestamp": 1739483847335,
     "user": {
      "displayName": "송채원",
      "userId": "07880515647457255886"
     },
     "user_tz": -540
    },
    "id": "aEaId9u40Nfv",
    "outputId": "e6564ae2-0256-4fea-ebcb-dac178b69239"
   },
   "outputs": [
    {
     "name": "stdout",
     "output_type": "stream",
     "text": [
      "Mounted at /content/drive\n"
     ]
    }
   ],
   "source": [
    "from google.colab import drive\n",
    "drive.mount('/content/drive')\n"
   ]
  },
  {
   "cell_type": "code",
   "execution_count": 5,
   "metadata": {
    "colab": {
     "base_uri": "https://localhost:8080/"
    },
    "executionInfo": {
     "elapsed": 3729,
     "status": "ok",
     "timestamp": 1739483851061,
     "user": {
      "displayName": "송채원",
      "userId": "07880515647457255886"
     },
     "user_tz": -540
    },
    "id": "rhWspuOR0WM5",
    "outputId": "f6e60cbf-6023-434a-dad4-5ce28c20feb8"
   },
   "outputs": [
    {
     "name": "stdout",
     "output_type": "stream",
     "text": [
      "ZIP 파일이 성공적으로 /content/extracted_files 경로에 압축 해제되었습니다.\n"
     ]
    }
   ],
   "source": [
    "from google.colab import drive\n",
    "import zipfile\n",
    "import os\n",
    "# ZIP 파일 경로 (Google Drive에 있는 파일 경로 입력)\n",
    "zip_file_path = '/content/drive/MyDrive/한글리뷰/open.zip'\n",
    "\n",
    "# 압축 해제 경로 설정\n",
    "extract_to_path = '/content/extracted_files'\n",
    "\n",
    "# 압축 해제 실행\n",
    "if not os.path.exists(extract_to_path):\n",
    "    os.makedirs(extract_to_path)\n",
    "\n",
    "with zipfile.ZipFile(zip_file_path, 'r') as zip_ref:\n",
    "    zip_ref.extractall(extract_to_path)\n",
    "\n",
    "print(f\"ZIP 파일이 성공적으로 {extract_to_path} 경로에 압축 해제되었습니다.\")"
   ]
  },
  {
   "cell_type": "markdown",
   "metadata": {},
   "source": [
    "## 4. 데이터셋 생성"
   ]
  },
  {
   "cell_type": "code",
   "execution_count": 3,
   "metadata": {
    "executionInfo": {
     "elapsed": 1000,
     "status": "ok",
     "timestamp": 1739514828619,
     "user": {
      "displayName": "송채원",
      "userId": "07880515647457255886"
     },
     "user_tz": -540
    },
    "id": "XJD2JgWb0ara"
   },
   "outputs": [],
   "source": [
    "import pandas as pd\n",
    "train = pd.read_csv('./extracted_files/train.csv', encoding = 'utf-8-sig')\n",
    "test = pd.read_csv('./extracted_files/test.csv', encoding = 'utf-8-sig')"
   ]
  },
  {
   "cell_type": "code",
   "execution_count": 4,
   "metadata": {
    "executionInfo": {
     "elapsed": 3,
     "status": "ok",
     "timestamp": 1739514831773,
     "user": {
      "displayName": "송채원",
      "userId": "07880515647457255886"
     },
     "user_tz": -540
    },
    "id": "UdJeRygn0dAe"
   },
   "outputs": [],
   "source": [
    "def llama_formatting(examples):\n",
    "  inputs = []\n",
    "  outputs =[]\n",
    "  for inp, out in zip(examples['input'], examples['output']):\n",
    "    inputs.append(inp)\n",
    "    outputs.append(out)\n",
    "\n",
    "  return {\"input\" : inputs, \"output\": outputs}\n",
    "\n",
    "\n",
    "llama_dataset = llama_formatting(train)"
   ]
  },
  {
   "cell_type": "code",
   "execution_count": 5,
   "metadata": {
    "colab": {
     "base_uri": "https://localhost:8080/"
    },
    "executionInfo": {
     "elapsed": 4,
     "status": "ok",
     "timestamp": 1739514834309,
     "user": {
      "displayName": "송채원",
      "userId": "07880515647457255886"
     },
     "user_tz": -540
    },
    "id": "lruYCEJN0kgm",
    "outputId": "2692fbee-1d4a-4f18-8f0b-aa6dcd6036b0"
   },
   "outputs": [
    {
     "data": {
      "text/plain": [
       "Dataset({\n",
       "    features: ['input', 'output'],\n",
       "    num_rows: 11263\n",
       "})"
      ]
     },
     "execution_count": 5,
     "metadata": {},
     "output_type": "execute_result"
    }
   ],
   "source": [
    "from datasets import Dataset\n",
    "# Dataset 객체로 변환\n",
    "\n",
    "llama_dataset_prompt_map = Dataset.from_dict(llama_dataset)\n",
    "llama_dataset_prompt_map"
   ]
  },
  {
   "cell_type": "code",
   "execution_count": 6,
   "metadata": {
    "colab": {
     "base_uri": "https://localhost:8080/",
     "height": 35
    },
    "executionInfo": {
     "elapsed": 4,
     "status": "ok",
     "timestamp": 1739514836428,
     "user": {
      "displayName": "송채원",
      "userId": "07880515647457255886"
     },
     "user_tz": -540
    },
    "id": "njBWL6c63LR7",
    "outputId": "b452cae3-5888-4871-b775-2c844f954da4"
   },
   "outputs": [
    {
     "data": {
      "application/vnd.google.colaboratory.intrinsic+json": {
       "type": "string"
      },
      "text/plain": [
       "'</s>'"
      ]
     },
     "execution_count": 6,
     "metadata": {},
     "output_type": "execute_result"
    }
   ],
   "source": [
    "EOS_TOKEN = tokenizer.eos_token\n",
    "EOS_TOKEN"
   ]
  },
  {
   "cell_type": "code",
   "execution_count": null,
   "metadata": {
    "colab": {
     "base_uri": "https://localhost:8080/",
     "height": 49,
     "referenced_widgets": [
      "aea12a5b7bc44c369ab721c629727192",
      "0f8d35bf001e4ade995eff62bfb4b4be",
      "59c4b46e76bc4a909d02a4761da05a32",
      "6c65e92c220146c4a27fd1073998adc9",
      "4d51d3362d0e44f98a9bb39adf7d2981",
      "2ad7cd079f444a77be8c57da5003f2f2",
      "1c3aa85abd094af08dc898c6ea1a9029",
      "361fa765dca743d58efd25eb93dc836d",
      "4a02c7e437184bf58cdef6557faa3f10",
      "08efafb6cd3a4f9bb61520ebeb79fffa",
      "0a41be52f50040678a95774cd61bde9c"
     ]
    },
    "executionInfo": {
     "elapsed": 1048,
     "status": "ok",
     "timestamp": 1739514844114,
     "user": {
      "displayName": "송채원",
      "userId": "07880515647457255886"
     },
     "user_tz": -540
    },
    "id": "JXRGK2juxm1a",
    "outputId": "8f78c9e5-26f7-41e1-9c3a-fdf23c9e51b2"
   },
   "outputs": [
    {
     "data": {
      "application/vnd.jupyter.widget-view+json": {
       "model_id": "aea12a5b7bc44c369ab721c629727192",
       "version_major": 2,
       "version_minor": 0
      },
      "text/plain": [
       "Map:   0%|          | 0/11263 [00:00<?, ? examples/s]"
      ]
     },
     "metadata": {},
     "output_type": "display_data"
    }
   ],
   "source": [
    "from datasets import load_dataset\n",
    "\n",
    "# EOS_TOKEN은 문장의 끝을 나타내는 토큰입니다. 이 토큰을 추가해야 합니다.\n",
    "EOS_TOKEN = tokenizer.eos_token\n",
    "\n",
    "# AlpacaPrompt를 사용하여 지시사항을 포맷팅하는 함수입니다.\n",
    "alpaca_prompt = \"\"\"Below is an instruction that describes a task. Write a response that appropriately completes the request.\n",
    "\n",
    "### Instruction:\n",
    "{}\n",
    "\n",
    "### Response:\n",
    "{}\"\"\"\n",
    "\n",
    "\n",
    "# 주어진 예시들을 포맷팅하는 함수입니다.\n",
    "def formatting_prompts_func(examples):\n",
    "    instructions = examples[\"input\"]  # 지시사항을 가져옵니다.\n",
    "    outputs = examples[\"output\"]  # 출력값을 가져옵니다.\n",
    "    texts = []  # 포맷팅된 텍스트를 저장할 리스트입니다.\n",
    "    for instruction, output in zip(instructions, outputs):\n",
    "        # EOS_TOKEN을 추가해야 합니다. 그렇지 않으면 생성이 무한히 진행될 수 있습니다.\n",
    "        text = alpaca_prompt.format(instruction, output) + EOS_TOKEN\n",
    "        texts.append(text)\n",
    "    return {\n",
    "        \"text\": texts,  # 포맷팅된 텍스트를 반환합니다.\n",
    "    }\n",
    "\n",
    "\n",
    "dataset = llama_dataset_prompt_map\n",
    "\n",
    "# 데이터셋에 formatting_prompts_func 함수를 적용합니다. 배치 처리를 활성화합니다.\n",
    "dataset = dataset.map(\n",
    "    formatting_prompts_func,\n",
    "    batched=True,\n",
    ")"
   ]
  },
  {
   "cell_type": "code",
   "execution_count": 8,
   "metadata": {
    "colab": {
     "base_uri": "https://localhost:8080/"
    },
    "executionInfo": {
     "elapsed": 981,
     "status": "ok",
     "timestamp": 1739514847522,
     "user": {
      "displayName": "송채원",
      "userId": "07880515647457255886"
     },
     "user_tz": -540
    },
    "id": "6Fe34XHC2pvZ",
    "outputId": "dc9e0013-9740-43f1-a4b3-9c16b8df878f"
   },
   "outputs": [
    {
     "data": {
      "text/plain": [
       "Dataset({\n",
       "    features: ['input', 'output', 'text'],\n",
       "    num_rows: 11263\n",
       "})"
      ]
     },
     "execution_count": 8,
     "metadata": {},
     "output_type": "execute_result"
    }
   ],
   "source": [
    "dataset"
   ]
  },
  {
   "cell_type": "markdown",
   "metadata": {},
   "source": [
    "## 5. 모델 설정"
   ]
  },
  {
   "cell_type": "code",
   "execution_count": null,
   "metadata": {
    "colab": {
     "base_uri": "https://localhost:8080/",
     "height": 49,
     "referenced_widgets": [
      "06b9a47137fd4f059da7fc46b0fa412a",
      "e5c36de53dc14524b881ba733d869fba",
      "875acc3dfbcb4552a95829be5fadf9e8",
      "4c09e73bf6424f03999abcc60c046e73",
      "dcdccabd770e486f92f7c6ce359d3b11",
      "3fddfb1383344aec811c8b0dbc26986b",
      "7ffdf18af8564b68992685bbb0140707",
      "ddfa55005aed41b69bbca23c8ba8ee7f",
      "245d4d5067944c388e33cc34aefac67d",
      "d379ee6f2958462d92758901e4d86dec",
      "706796531e8b4413bd83baa07d51169f"
     ]
    },
    "executionInfo": {
     "elapsed": 6078,
     "status": "ok",
     "timestamp": 1739514856980,
     "user": {
      "displayName": "송채원",
      "userId": "07880515647457255886"
     },
     "user_tz": -540
    },
    "id": "LFYojuDlyLvH",
    "outputId": "eb6ddaf4-ec04-48e1-d690-03710e57df07"
   },
   "outputs": [
    {
     "data": {
      "application/vnd.jupyter.widget-view+json": {
       "model_id": "06b9a47137fd4f059da7fc46b0fa412a",
       "version_major": 2,
       "version_minor": 0
      },
      "text/plain": [
       "Map (num_proc=2):   0%|          | 0/11263 [00:00<?, ? examples/s]"
      ]
     },
     "metadata": {},
     "output_type": "display_data"
    }
   ],
   "source": [
    "from trl import SFTTrainer\n",
    "from transformers import TrainingArguments\n",
    "import torch\n",
    "tokenizer.padding_side = \"right\"  # 토크나이저의 패딩을 오른쪽으로 설정합니다.\n",
    "\n",
    "# SFTTrainer를 사용하여 모델 학습 설정\n",
    "trainer = SFTTrainer(\n",
    "    model=model,  # 학습할 모델\n",
    "    tokenizer=tokenizer,  # 토크나이저\n",
    "    train_dataset=dataset,  # 학습 데이터셋\n",
    "    #eval_dataset=dataset_eval,\n",
    "    dataset_text_field=\"text\",  # 데이터셋에서 텍스트 필드의 이름\n",
    "    max_seq_length=4096,  # 최대 시퀀스 길이\n",
    "    dataset_num_proc=2,  # 데이터 처리에 사용할 프로세스 수\n",
    "    packing=False,  # 짧은 시퀀스에 대한 학습 속도를 5배 빠르게 할 수 있음\n",
    "    args=TrainingArguments(\n",
    "        per_device_train_batch_size=2,  # 각 디바이스당 훈련 배치 크기\n",
    "        gradient_accumulation_steps=4,  # 그래디언트 누적 단계\n",
    "        warmup_steps=5,  # 웜업 스텝 수\n",
    "        num_train_epochs=3,  # 훈련 에폭 수\n",
    "        max_steps=3000,  # 최대 스텝 수\n",
    "        do_eval=False,\n",
    "        logging_steps=1,  # logging 스텝 수\n",
    "        learning_rate=2e-4,  # 학습률\n",
    "        fp16=not torch.cuda.is_bf16_supported(),  # fp16 사용 여부, bf16이 지원되지 않는 경우에만 사용\n",
    "        bf16=torch.cuda.is_bf16_supported(),  # bf16 사용 여부, bf16이 지원되는 경우에만 사용\n",
    "        optim=\"adamw_8bit\",  # 최적화 알고리즘\n",
    "        weight_decay=0.01,  # 가중치 감소\n",
    "        lr_scheduler_type=\"cosine\",  # 학습률 스케줄러 유형\n",
    "        seed=123,  # 랜덤 시드\n",
    "        output_dir=\"outputs\",  # 출력 디렉토리\n",
    "    ),\n",
    ")"
   ]
  },
  {
   "cell_type": "code",
   "execution_count": 10,
   "metadata": {
    "colab": {
     "base_uri": "https://localhost:8080/"
    },
    "executionInfo": {
     "elapsed": 480,
     "status": "ok",
     "timestamp": 1739514859663,
     "user": {
      "displayName": "송채원",
      "userId": "07880515647457255886"
     },
     "user_tz": -540
    },
    "id": "Y7LiSFDYyPG0",
    "outputId": "76a188b4-3593-4ce9-b7d2-33e3f764eaae"
   },
   "outputs": [
    {
     "name": "stdout",
     "output_type": "stream",
     "text": [
      "GPU = NVIDIA A100-SXM4-40GB. Max memory = 39.557 GB.\n",
      "14.594 GB of memory reserved.\n"
     ]
    }
   ],
   "source": [
    "# 현재 메모리 상태를 보여주는 코드\n",
    "gpu_stats = torch.cuda.get_device_properties(0)  # GPU 속성 가져오기\n",
    "start_gpu_memory = round(\n",
    "    torch.cuda.max_memory_reserved() / 1024 / 1024 / 1024, 3\n",
    ")  # 시작 시 예약된 GPU 메모리 계산\n",
    "max_memory = round(\n",
    "    gpu_stats.total_memory / 1024 / 1024 / 1024, 3\n",
    ")  # GPU의 최대 메모리 계산\n",
    "print(\n",
    "    f\"GPU = {gpu_stats.name}. Max memory = {max_memory} GB.\"\n",
    ")  # GPU 이름과 최대 메모리 출력\n",
    "print(f\"{start_gpu_memory} GB of memory reserved.\")  # 예약된 메모리 양 출력"
   ]
  },
  {
   "cell_type": "markdown",
   "metadata": {},
   "source": [
    "## 6. 학습"
   ]
  },
  {
   "cell_type": "code",
   "execution_count": null,
   "metadata": {},
   "outputs": [],
   "source": [
    "trainer_stats = trainer.train()"
   ]
  },
  {
   "cell_type": "code",
   "execution_count": 12,
   "metadata": {
    "colab": {
     "base_uri": "https://localhost:8080/"
    },
    "executionInfo": {
     "elapsed": 576,
     "status": "ok",
     "timestamp": 1739518341519,
     "user": {
      "displayName": "송채원",
      "userId": "07880515647457255886"
     },
     "user_tz": -540
    },
    "id": "XFC_gb4JyjhZ",
    "outputId": "9ac7dc13-421e-4318-977d-44cef9fe5cad"
   },
   "outputs": [
    {
     "name": "stdout",
     "output_type": "stream",
     "text": [
      "3438.5856 seconds used for training.\n",
      "57.31 minutes used for training.\n",
      "Peak reserved memory = 21.266 GB.\n",
      "Peak reserved memory for training = 6.672 GB.\n",
      "Peak reserved memory % of max memory = 53.76 %.\n",
      "Peak reserved memory for training % of max memory = 16.867 %.\n"
     ]
    }
   ],
   "source": [
    "# 최종 메모리 및 시간 통계를 보여줍니다.\n",
    "used_memory = round(\n",
    "    torch.cuda.max_memory_reserved() / 1024 / 1024 / 1024, 3\n",
    ")  # 사용된 최대 메모리를 GB 단위로 계산합니다.\n",
    "used_memory_for_lora = round(\n",
    "    used_memory - start_gpu_memory, 3\n",
    ")  # LoRA를 위해 사용된 메모리를 GB 단위로 계산합니다.\n",
    "used_percentage = round(\n",
    "    used_memory / max_memory * 100, 3\n",
    ")  # 최대 메모리 대비 사용된 메모리의 비율을 계산합니다.\n",
    "lora_percentage = round(\n",
    "    used_memory_for_lora / max_memory * 100, 3\n",
    ")  # 최대 메모리 대비 LoRA를 위해 사용된 메모리의 비율을 계산합니다.\n",
    "print(\n",
    "    f\"{trainer_stats.metrics['train_runtime']} seconds used for training.\"\n",
    ")  # 훈련에 사용된 시간을 초 단위로 출력합니다.\n",
    "print(\n",
    "    # 훈련에 사용된 시간을 분 단위로 출력합니다.\n",
    "    f\"{round(trainer_stats.metrics['train_runtime']/60, 2)} minutes used for training.\"\n",
    ")\n",
    "print(\n",
    "    f\"Peak reserved memory = {used_memory} GB.\"\n",
    ")  # 예약된 최대 메모리를 GB 단위로 출력합니다.\n",
    "print(\n",
    "    f\"Peak reserved memory for training = {used_memory_for_lora} GB.\"\n",
    ")  # 훈련을 위해 예약된 최대 메모리를 GB 단위로 출력합니다.\n",
    "print(\n",
    "    f\"Peak reserved memory % of max memory = {used_percentage} %.\"\n",
    ")  # 최대 메모리 대비 예약된 메모리의 비율을 출력합니다.\n",
    "print(\n",
    "    f\"Peak reserved memory for training % of max memory = {lora_percentage} %.\"\n",
    ")  # 최대 메모리 대비 훈련을 위해 예약된 메모리의 비율을 출력합니다."
   ]
  },
  {
   "cell_type": "markdown",
   "metadata": {},
   "source": [
    "## 7. 샘플로 추론 결과 확인해보기"
   ]
  },
  {
   "cell_type": "code",
   "execution_count": 13,
   "metadata": {
    "executionInfo": {
     "elapsed": 491,
     "status": "ok",
     "timestamp": 1739518356924,
     "user": {
      "displayName": "송채원",
      "userId": "07880515647457255886"
     },
     "user_tz": -540
    },
    "id": "hcDEqYSRzjT9"
   },
   "outputs": [],
   "source": [
    "from transformers import StoppingCriteria, StoppingCriteriaList\n",
    "\n",
    "\n",
    "class StopOnToken(StoppingCriteria):\n",
    "    def __init__(self, stop_token_id):\n",
    "        self.stop_token_id = stop_token_id  # 정지 토큰 ID를 초기화합니다.\n",
    "\n",
    "    def __call__(self, input_ids, scores, **kwargs):\n",
    "        return (\n",
    "            self.stop_token_id in input_ids[0]\n",
    "        )  # 입력된 ID 중 정지 토큰 ID가 있으면 정지합니다.\n",
    "\n",
    "\n",
    "# end_token을 설정\n",
    "stop_token =tokenizer.eos_token#\"<|end_of_text|>\"  # end_token으로 사용할 토큰을 설정합니다.\n",
    "stop_token_id = tokenizer.encode(stop_token, add_special_tokens=False)[\n",
    "    0\n",
    "]  # end_token의 ID를 인코딩합니다.\n",
    "\n",
    "# Stopping criteria 설정\n",
    "stopping_criteria = StoppingCriteriaList(\n",
    "    [StopOnToken(stop_token_id)]\n",
    ")  # 정지 조건을 설정합니다."
   ]
  },
  {
   "cell_type": "code",
   "execution_count": 14,
   "metadata": {
    "colab": {
     "base_uri": "https://localhost:8080/",
     "height": 381
    },
    "executionInfo": {
     "elapsed": 38373,
     "status": "ok",
     "timestamp": 1739518406613,
     "user": {
      "displayName": "송채원",
      "userId": "07880515647457255886"
     },
     "user_tz": -540
    },
    "id": "MvrOPlOrzmo1",
    "outputId": "b902c087-d5b3-4cfc-8fdd-9e46188f913a"
   },
   "outputs": [
    {
     "name": "stdout",
     "output_type": "stream",
     "text": [
      "<s>Below is an instruction that describes a task. Write a response that appropriately completes the request.\n",
      "\n",
      "### Instruction:\n",
      "쑴엉창 뮬 콴뤼 앉 하쉬는 트소. 엑 면쥐 퉁퉁 펄렘 듕튱 터단닉교 팝붸뀨창 않넥 되쥐 뷔륀넥갸 낱써 꾸역질잎 냐떨락교욤. 환뿡긱예 뻘뤠 둘 먀릭량 면쥐 뎡얼뤼엣 먀꼇셔 뜰얹놔톰 환긱꺄 얀 퇴교, 쳔쟝엥 꼼팡위 ㅜㅜ 확짱싫 쉴릭꼰녜돈 균텔쿤뎨 곪빵잎... 팝벡꾸 신쩡했는테 뙈짇 목살엑섯 뉼린낵캄 ㅜㅜㅜㅜ 멱딱갸 속 얀 죠햐저설 골킷 담 벗렀엇오. 솥쎄찌... 살댜 샬닥 윌렇궤 퍽뼈깍교 맏엎눈 솔쉐췻 쳐욺인넵오. 까띠 낮욘 빤쨘운 수텐 언형 쿱씩판에 낌칠랗 쿤냥 챘씩 빤쨘 죠굶쉭 떠려쳐 있섰는텟 얹쳬 뼈닮았눈짓토 묠룰 판짠.... 씰릴꼰 텁갤로 떱뻣셔 굳탯료 쥬쒸쿄  쿨뤽곱 물논뤼햐코 났왓는떼 쩌녘예 핏뿍카 웨 윕렇께 ㅜ 갼쥐럽던질. 냉붇는 구냠먈 캑꿎한테 넹쟝꼬눈 냉팡또 짤 얀 퉤교 청쑈 한낭됴 ㅠ 얀 뒈엶 잇우쉰 트소. 앝 삑윙 쌍헤오. 똔됴 야캅코 옙푸계 취엮놓흣설놓코 외 관뤼를 잎렇계 하쉰눈쥐... 놂쳔땅토 쉰쩡헷섯 타 즐끼러코 켸횐깡교 갗엊는텟 줴때롬 쎄쩍군 핫쒸눈치 읠쉼위 뒈엌 왠쥐 칩찝해썲 쿠냥 난왔눼욕. 첵꺄치 내섰긺램 염청 관뤼갸 짤됐곗견님 항꾜 귄때향꼽 갓눈뒈 따씬 얀 옭쿄 십얹오. 염긷써 멂꾼 교끼 템뮨에 ㅠ 쇽 않 좋핥적셔 닿뷴간 된칡곡길 멱코 십짖까 얀눼욜. 슈엉짱 묾 윕웨 떨탄닌는 뻘렐량 면칟갸 켸쇽 쌩꺅냐옮. 팎펙쿠쟝예 빼여 잇는 되취 냄쌔 땟문웨 잉 창솖만 뗘욜륌면 쟈똥읕롯 된찌 눌린냄갸 언샹위 됩닛댜. 쥔씸 큐역짊 낟는 켱헒 ㅠㅠ 좋궤 숟코 쉬뻤는뎨 윈쌩 콴립갸 넒뮤 엉먕친챵윌랄 칙끔토 넣뮤 휨튿려요.. 앓후..\n",
      "\n",
      "### Response:\n",
      "수영장 물 관리 안 하시는 듯요. 애 먼지 둥둥 떠다니고 바베큐장 안에 돼지 비린내가 나서 구역질이 나더라고요. 환풍기에 벌레 두 마리랑 먼지 덩어리에 마겨서 틀어놔도 환기가 안 되고, 천장에 곰팡이 ㅜㅜ 화장실 실리콘에도 군데군데 곰팡이... 바베큐 신청했는데 돼지 목살에서 누린내가 ㅜㅜㅜㅜ 먹다가 속 안 좋아져서 고기 다 버렸어요. 소세지... 살다 살다 이렇게 뻑뻑하고 맛없는 소세지 처음이네요. 같이 나온 반찬은 스텐 연형 구식판에 김치랑 그냥 재식 반찬 조금씩 떠져 있었는데 언제 버담았는지도 모를 반찬.... 실리콘 뚜껑으로 덮어서 그대로 주시고  그리고 물노리하고 나왔는데 저녁에 피부가 왜 이렇게 ㅜ 간지러던지. 내부는 그나마 깨끗한데 냉장고는 냉방도 잘 안 되고 청소 하나도 ㅠ 안 되어 있으신 듯요. 아 피의 상해요. 돈도 아깝고 예쁘게 치워놓으시려고 왜 관리를 이렇게 하시는지... 노천탕도 신청해서 다 즐기려고 계획하고 갔었는데 제대로 세척은 하시는지 의심이 되어 왠지 찝찝해서 그냥 나왔네요. 제가 내섕길래 엄청 관리가 잘되겠거니 하고 기대하고 갔는데 다신 안 오고 싶어요. 여기서 묵은 고기 때문에 ㅠ 속 안 좋아져서 다 뜯겨질까 싶지가 않네요. 수영장 물 위에 떠다니는 벌레랑 먼지가 계속 생각나요. 바베큐장에 배어 있는 돼지 냄새 때문에 이 장소만 떠나리면 자동으로 돼지 냄새가 연상이 됩니다. 진심 구역질 나는 경험 ㅠㅠ 좋게 쓰고 싶었는데 인생 관리가 너무 엉망진창이라 지금도 너무 힘들어요.. 아휴..</s>\n"
     ]
    },
    {
     "data": {
      "application/vnd.google.colaboratory.intrinsic+json": {
       "type": "string"
      },
      "text/plain": [
       "'Below is an instruction that describes a task. Write a response that appropriately completes the request.\\n\\n### Instruction:\\n쑴엉창 뮬 콴뤼 앉 하쉬는 트소. 엑 면쥐 퉁퉁 펄렘 듕튱 터단닉교 팝붸뀨창 않넥 되쥐 뷔륀넥갸 낱써 꾸역질잎 냐떨락교욤. 환뿡긱예 뻘뤠 둘 먀릭량 면쥐 뎡얼뤼엣 먀꼇셔 뜰얹놔톰 환긱꺄 얀 퇴교, 쳔쟝엥 꼼팡위 ㅜㅜ 확짱싫 쉴릭꼰녜돈 균텔쿤뎨 곪빵잎... 팝벡꾸 신쩡했는테 뙈짇 목살엑섯 뉼린낵캄 ㅜㅜㅜㅜ 멱딱갸 속 얀 죠햐저설 골킷 담 벗렀엇오. 솥쎄찌... 살댜 샬닥 윌렇궤 퍽뼈깍교 맏엎눈 솔쉐췻 쳐욺인넵오. 까띠 낮욘 빤쨘운 수텐 언형 쿱씩판에 낌칠랗 쿤냥 챘씩 빤쨘 죠굶쉭 떠려쳐 있섰는텟 얹쳬 뼈닮았눈짓토 묠룰 판짠.... 씰릴꼰 텁갤로 떱뻣셔 굳탯료 쥬쒸쿄  쿨뤽곱 물논뤼햐코 났왓는떼 쩌녘예 핏뿍카 웨 윕렇께 ㅜ 갼쥐럽던질. 냉붇는 구냠먈 캑꿎한테 넹쟝꼬눈 냉팡또 짤 얀 퉤교 청쑈 한낭됴 ㅠ 얀 뒈엶 잇우쉰 트소. 앝 삑윙 쌍헤오. 똔됴 야캅코 옙푸계 취엮놓흣설놓코 외 관뤼를 잎렇계 하쉰눈쥐... 놂쳔땅토 쉰쩡헷섯 타 즐끼러코 켸횐깡교 갗엊는텟 줴때롬 쎄쩍군 핫쒸눈치 읠쉼위 뒈엌 왠쥐 칩찝해썲 쿠냥 난왔눼욕. 첵꺄치 내섰긺램 염청 관뤼갸 짤됐곗견님 항꾜 귄때향꼽 갓눈뒈 따씬 얀 옭쿄 십얹오. 염긷써 멂꾼 교끼 템뮨에 ㅠ 쇽 않 좋핥적셔 닿뷴간 된칡곡길 멱코 십짖까 얀눼욜. 슈엉짱 묾 윕웨 떨탄닌는 뻘렐량 면칟갸 켸쇽 쌩꺅냐옮. 팎펙쿠쟝예 빼여 잇는 되취 냄쌔 땟문웨 잉 창솖만 뗘욜륌면 쟈똥읕롯 된찌 눌린냄갸 언샹위 됩닛댜. 쥔씸 큐역짊 낟는 켱헒 ㅠㅠ 좋궤 숟코 쉬뻤는뎨 윈쌩 콴립갸 넒뮤 엉먕친챵윌랄 칙끔토 넣뮤 휨튿려요.. 앓후..\\n\\n### Response:\\n수영장 물 관리 안 하시는 듯요. 애 먼지 둥둥 떠다니고 바베큐장 안에 돼지 비린내가 나서 구역질이 나더라고요. 환풍기에 벌레 두 마리랑 먼지 덩어리에 마겨서 틀어놔도 환기가 안 되고, 천장에 곰팡이 ㅜㅜ 화장실 실리콘에도 군데군데 곰팡이... 바베큐 신청했는데 돼지 목살에서 누린내가 ㅜㅜㅜㅜ 먹다가 속 안 좋아져서 고기 다 버렸어요. 소세지... 살다 살다 이렇게 뻑뻑하고 맛없는 소세지 처음이네요. 같이 나온 반찬은 스텐 연형 구식판에 김치랑 그냥 재식 반찬 조금씩 떠져 있었는데 언제 버담았는지도 모를 반찬.... 실리콘 뚜껑으로 덮어서 그대로 주시고  그리고 물노리하고 나왔는데 저녁에 피부가 왜 이렇게 ㅜ 간지러던지. 내부는 그나마 깨끗한데 냉장고는 냉방도 잘 안 되고 청소 하나도 ㅠ 안 되어 있으신 듯요. 아 피의 상해요. 돈도 아깝고 예쁘게 치워놓으시려고 왜 관리를 이렇게 하시는지... 노천탕도 신청해서 다 즐기려고 계획하고 갔었는데 제대로 세척은 하시는지 의심이 되어 왠지 찝찝해서 그냥 나왔네요. 제가 내섕길래 엄청 관리가 잘되겠거니 하고 기대하고 갔는데 다신 안 오고 싶어요. 여기서 묵은 고기 때문에 ㅠ 속 안 좋아져서 다 뜯겨질까 싶지가 않네요. 수영장 물 위에 떠다니는 벌레랑 먼지가 계속 생각나요. 바베큐장에 배어 있는 돼지 냄새 때문에 이 장소만 떠나리면 자동으로 돼지 냄새가 연상이 됩니다. 진심 구역질 나는 경험 ㅠㅠ 좋게 쓰고 싶었는데 인생 관리가 너무 엉망진창이라 지금도 너무 힘들어요.. 아휴..'"
      ]
     },
     "execution_count": 14,
     "metadata": {},
     "output_type": "execute_result"
    }
   ],
   "source": [
    "from transformers import TextStreamer\n",
    "\n",
    "# FastLanguageModel을 이용하여 추론 속도를 2배 빠르게 설정합니다.\n",
    "FastLanguageModel.for_inference(model)\n",
    "inputs = tokenizer(\n",
    "    [\n",
    "        alpaca_prompt.format(\n",
    "            \"쑴엉창 뮬 콴뤼 앉 하쉬는 트소. 엑 면쥐 퉁퉁 펄렘 듕튱 터단닉교 팝붸뀨창 않넥 되쥐 뷔륀넥갸 낱써 꾸역질잎 냐떨락교욤. 환뿡긱예 뻘뤠 둘 먀릭량 면쥐 뎡얼뤼엣 먀꼇셔 뜰얹놔톰 환긱꺄 얀 퇴교, 쳔쟝엥 꼼팡위 ㅜㅜ 확짱싫 쉴릭꼰녜돈 균텔쿤뎨 곪빵잎... 팝벡꾸 신쩡했는테 뙈짇 목살엑섯 뉼린낵캄 ㅜㅜㅜㅜ 멱딱갸 속 얀 죠햐저설 골킷 담 벗렀엇오. 솥쎄찌... 살댜 샬닥 윌렇궤 퍽뼈깍교 맏엎눈 솔쉐췻 쳐욺인넵오. 까띠 낮욘 빤쨘운 수텐 언형 쿱씩판에 낌칠랗 쿤냥 챘씩 빤쨘 죠굶쉭 떠려쳐 있섰는텟 얹쳬 뼈닮았눈짓토 묠룰 판짠.... 씰릴꼰 텁갤로 떱뻣셔 굳탯료 쥬쒸쿄  쿨뤽곱 물논뤼햐코 났왓는떼 쩌녘예 핏뿍카 웨 윕렇께 ㅜ 갼쥐럽던질. 냉붇는 구냠먈 캑꿎한테 넹쟝꼬눈 냉팡또 짤 얀 퉤교 청쑈 한낭됴 ㅠ 얀 뒈엶 잇우쉰 트소. 앝 삑윙 쌍헤오. 똔됴 야캅코 옙푸계 취엮놓흣설놓코 외 관뤼를 잎렇계 하쉰눈쥐... 놂쳔땅토 쉰쩡헷섯 타 즐끼러코 켸횐깡교 갗엊는텟 줴때롬 쎄쩍군 핫쒸눈치 읠쉼위 뒈엌 왠쥐 칩찝해썲 쿠냥 난왔눼욕. 첵꺄치 내섰긺램 염청 관뤼갸 짤됐곗견님 항꾜 귄때향꼽 갓눈뒈 따씬 얀 옭쿄 십얹오. 염긷써 멂꾼 교끼 템뮨에 ㅠ 쇽 않 좋핥적셔 닿뷴간 된칡곡길 멱코 십짖까 얀눼욜. 슈엉짱 묾 윕웨 떨탄닌는 뻘렐량 면칟갸 켸쇽 쌩꺅냐옮. 팎펙쿠쟝예 빼여 잇는 되취 냄쌔 땟문웨 잉 창솖만 뗘욜륌면 쟈똥읕롯 된찌 눌린냄갸 언샹위 됩닛댜. 쥔씸 큐역짊 낟는 켱헒 ㅠㅠ 좋궤 숟코 쉬뻤는뎨 윈쌩 콴립갸 넒뮤 엉먕친챵윌랄 칙끔토 넣뮤 휨튿려요.. 앓후..\",  # 지시사항\n",
    "            \"\",  # 출력 - 생성을 위해 이 부분을 비워둡니다!\n",
    "        )\n",
    "    ],\n",
    "    return_tensors=\"pt\",\n",
    ").to(\"cuda\")\n",
    "\n",
    "\n",
    "max_length = model.config.max_position_embeddings  # 모델의 최대 토큰 길이\n",
    "inputs[\"input_ids\"] = inputs[\"input_ids\"][:, :max_length]\n",
    "inputs[\"attention_mask\"] = inputs[\"attention_mask\"][:, :max_length]\n",
    "\n",
    "\n",
    "text_streamer = TextStreamer(tokenizer)\n",
    "result_sentence = model.generate(\n",
    "    **inputs,\n",
    "    streamer=text_streamer,\n",
    "    max_new_tokens=1096,  # 최대 생성 토큰 수를 설정합니다.\n",
    "    use_cache=True ,\n",
    "    stopping_criteria=stopping_criteria  # 생성을 멈출 기준을 설정합니다.\n",
    ")\n",
    "import re\n",
    "\n",
    "# ✅ 모델 응답 디코딩\n",
    "decoded_output = tokenizer.batch_decode(result_sentence, skip_special_tokens=True)[0]\n",
    "\n",
    "decoded_output\n"
   ]
  },
  {
   "cell_type": "markdown",
   "metadata": {},
   "source": [
    "## 8. 모델 저장"
   ]
  },
  {
   "cell_type": "code",
   "execution_count": null,
   "metadata": {},
   "outputs": [],
   "source": [
    "# 모델 및 토크나이저 로컬 저장\n",
    "output_dir = \"/content/drive/MyDrive/한글리뷰/fine_tuned_model_mistralai_3000\"\n",
    "trainer.save_model(output_dir)\n",
    "tokenizer.save_pretrained(output_dir)\n",
    "\n",
    "print(f\"모델이 로컬에 저장되었습니다: {output_dir}\")\n"
   ]
  },
  {
   "cell_type": "markdown",
   "metadata": {},
   "source": [
    "## 9. 모델 불러오기"
   ]
  },
  {
   "cell_type": "code",
   "execution_count": null,
   "metadata": {
    "colab": {
     "base_uri": "https://localhost:8080/",
     "height": 230,
     "referenced_widgets": [
      "4cc2eb8f00f14adcb1c6bdaa6046b0a2",
      "203e305d1a20482580dc2f922d67dfba",
      "fb362dfdffde4caa84c0150435af65c0",
      "f7d260c1e7124bb2af7c9e5bdd5746a5",
      "ac89587759e042bdafcd3ac16d15bbe0",
      "b1317501d3ec43c99f444c37ab047d81",
      "8a1d254a0111463dafbc7cdb4f97277c",
      "a0720b1ebe7d42308592d81b581bd9c6",
      "76f3149d66b24d6c960fed9ff127d56a",
      "c1f8258bb06548239113356cbea3a87f",
      "993bcee6969242bdb53ab719ab461142"
     ]
    },
    "executionInfo": {
     "elapsed": 29879,
     "status": "ok",
     "timestamp": 1739514748310,
     "user": {
      "displayName": "송채원",
      "userId": "07880515647457255886"
     },
     "user_tz": -540
    },
    "id": "fWMN3qdp3Ur1",
    "outputId": "c7ab5b3b-ed40-4262-db8c-1796884417ef"
   },
   "outputs": [
    {
     "name": "stdout",
     "output_type": "stream",
     "text": [
      "🦥 Unsloth: Will patch your computer to enable 2x faster free finetuning.\n",
      "🦥 Unsloth Zoo will now patch everything to make training faster!\n",
      "==((====))==  Unsloth 2025.2.4: Fast Mistral patching. Transformers: 4.48.2.\n",
      "   \\\\   /|    GPU: NVIDIA A100-SXM4-40GB. Max memory: 39.557 GB. Platform: Linux.\n",
      "O^O/ \\_/ \\    Torch: 2.5.1+cu124. CUDA: 8.0. CUDA Toolkit: 12.4. Triton: 3.1.0\n",
      "\\        /    Bfloat16 = TRUE. FA [Xformers = 0.0.29.post1. FA2 = True]\n",
      " \"-____-\"     Free Apache license: http://github.com/unslothai/unsloth\n",
      "Unsloth: Fast downloading is enabled - ignore downloading bars which are red colored!\n"
     ]
    },
    {
     "data": {
      "application/vnd.jupyter.widget-view+json": {
       "model_id": "4cc2eb8f00f14adcb1c6bdaa6046b0a2",
       "version_major": 2,
       "version_minor": 0
      },
      "text/plain": [
       "Loading checkpoint shards:   0%|          | 0/3 [00:00<?, ?it/s]"
      ]
     },
     "metadata": {},
     "output_type": "display_data"
    },
    {
     "name": "stderr",
     "output_type": "stream",
     "text": [
      "Unsloth 2025.2.4 patched 40 layers with 0 QKV layers, 0 O layers and 0 MLP layers.\n"
     ]
    },
    {
     "name": "stdout",
     "output_type": "stream",
     "text": [
      "모델 로드 완료!\n"
     ]
    }
   ],
   "source": [
    "from unsloth import FastLanguageModel\n",
    "\n",
    "output_dir = \"/content/drive/MyDrive/한글리뷰/fine_tuned_model_mistralai_3000\"\n",
    "\n",
    "# FastLanguageModel로 불러오기\n",
    "model, tokenizer = FastLanguageModel.from_pretrained(\n",
    "    model_name=output_dir,  # 저장된 모델 경로\n",
    "    max_seq_length=4096,  # 학습 시 사용한 max_seq_length과 동일하게 설정\n",
    "    dtype=None,  # 학습 시 사용한 데이터 타입\n",
    "    load_in_4bit=True  # 4bit 로드 여부\n",
    ")\n",
    "\n",
    "print(\"모델 로드 완료!\")\n"
   ]
  },
  {
   "cell_type": "markdown",
   "metadata": {},
   "source": [
    "## 10. 추론하기"
   ]
  },
  {
   "cell_type": "code",
   "execution_count": 22,
   "metadata": {
    "colab": {
     "base_uri": "https://localhost:8080/",
     "height": 1000
    },
    "executionInfo": {
     "elapsed": 477452,
     "status": "error",
     "timestamp": 1739514557207,
     "user": {
      "displayName": "송채원",
      "userId": "07880515647457255886"
     },
     "user_tz": -540
    },
    "id": "pLiX3Rvp6VlM",
    "outputId": "948f0397-e99d-40eb-8f23-d3481d991f7e"
   },
   "outputs": [
    {
     "name": "stderr",
     "output_type": "stream",
     "text": [
      "  0%|          | 1/1689 [00:03<1:32:48,  3.30s/it]"
     ]
    },
    {
     "name": "stdout",
     "output_type": "stream",
     "text": [
      "1 : 너무너무 만족스러운 호텔이에요. 부산에 오면 꼭 추천하고 싶은 곳이에요. 최고입니다! ㅎㅎ 다음에 또 올 것 같아요.\n"
     ]
    },
    {
     "name": "stderr",
     "output_type": "stream",
     "text": [
      "\r  0%|          | 2/1689 [00:06<1:27:32,  3.11s/it]"
     ]
    },
    {
     "name": "stdout",
     "output_type": "stream",
     "text": [
      "2 : 프론트가 없고, 조식도 없으며, 일반 입주민들이 사이사이에 있어 호텔처럼 관리가 잘 안 되는 느낌이네요. 가성비가 떨어져요.\n"
     ]
    },
    {
     "name": "stderr",
     "output_type": "stream",
     "text": [
      "\r  0%|          | 3/1689 [00:23<4:29:00,  9.57s/it]"
     ]
    },
    {
     "name": "stdout",
     "output_type": "stream",
     "text": [
      "3 : 진짜 불친절해요. 살면서 머물렀던 호텔 중에 최악이었습니다. 직원인지 사장인지 체크인할 때부터 친절함 1도 없었구요. 3인 예약하고 추가 금액까지 결제했는데 수건 추가로 요청드리니 큰저상 수건 4개밖에 제공이 안 된다네요. 2시간 정도 외출하고 다시 들어갈 때 몇 호시나, 2분 예약하지 않았나 물어보셨어요(체크인할 때와 같은 분). 추가금 결제했고 카드 결제 내역 문장도 보여드렸는데도 카드번호 몇 번인지 결제한 시간, 분, 초까지 물어보시더라구요. 결제한 영수증 직접 장주신 다음, 호수 잘못 적었다 하마티 하셨어요. 사과 한 마디 없으셨구요. 어이가 없고 상당히 불쾌했습니다. 그리고 냉장고에서 생선 비린내 나요. 물에서도 비린맛 나어요…\n"
     ]
    },
    {
     "name": "stderr",
     "output_type": "stream",
     "text": [
      "\r  0%|          | 4/1689 [00:28<3:42:02,  7.91s/it]"
     ]
    },
    {
     "name": "stdout",
     "output_type": "stream",
     "text": [
      "4 : 뷰 맛집~~ 그런데 방음이 미흡하네요. 층간 소음과 발코니가 이중창이 아니라서 밤에 파도 소리, 아침에 까마귀인지 까마귀인지 계속 울어서 잠을 못 잤어요ㅠ 그런데 뷰는 너무 좋아요~~~\n"
     ]
    },
    {
     "name": "stderr",
     "output_type": "stream",
     "text": [
      "\r  0%|          | 5/1689 [00:32<2:59:21,  6.39s/it]"
     ]
    },
    {
     "name": "stdout",
     "output_type": "stream",
     "text": [
      "5 : 방 상태는 진짜 폐허 지졌는데 전망은 좋아요. 보일러가 아주 잔잔하게 돌아서 추웠어요. 화장실에 비누만 있어서 샴푸 같은 거 다 가지고 와야 해요.\n"
     ]
    },
    {
     "name": "stderr",
     "output_type": "stream",
     "text": [
      "\r  0%|          | 6/1689 [00:38<2:57:21,  6.32s/it]"
     ]
    },
    {
     "name": "stdout",
     "output_type": "stream",
     "text": [
      "6 : 광안대교 뷰 하나만 보고 갔는데, 객실도 넓고 나름 깨끗했습니다! 제가 키가 안 좋아서 체크인할 때 우편 해변이이 있었는데, 직원분이 친절하게 대응해주셨습니다! 주차를 할 수 있다는 점은 좋았지만, 주차 관리가 불친절해서 아쉽습니다.\n"
     ]
    },
    {
     "name": "stderr",
     "output_type": "stream",
     "text": [
      "\r  0%|          | 7/1689 [00:48<3:32:21,  7.57s/it]"
     ]
    },
    {
     "name": "stdout",
     "output_type": "stream",
     "text": [
      "7 : 광안대교가 잘 보여 숙소에서 편안하게 뷰를 감상할 수 있어서 좋았습니다. 객실이 전체적으로 화이트 톤이라서 사진을 찍으면 더 화사하게 나오고, 입구에서부터 신발을 벗고 들어가서 더욱더 청결한 느낌을 받았습니다. 화장실, 샤워실, 세면대가 각각 분리되어 있는 것도 인상 깊었습니다. 직원분들도 친절하시고, 웰컴 키트, 조식 굿바일 키트도 감사합니다! 편안하게 잘 쉬고 좋은 시간 보내고 갑니다.\n"
     ]
    },
    {
     "name": "stderr",
     "output_type": "stream",
     "text": [
      "\r  0%|          | 8/1689 [00:53<3:04:29,  6.58s/it]"
     ]
    },
    {
     "name": "stdout",
     "output_type": "stream",
     "text": [
      "8 : 절대 가지 마세요. 호텔 직원이 공공기관 운영 호텔이라고 지들이 공무원이라고 어찌나 태도가 고자세에다 고객을 지들이 지배하려는 불친절의 극치이고, 시설은 시골 여관 방 수준임.\n"
     ]
    },
    {
     "name": "stderr",
     "output_type": "stream",
     "text": [
      "\r  1%|          | 9/1689 [00:59<2:58:17,  6.37s/it]"
     ]
    },
    {
     "name": "stdout",
     "output_type": "stream",
     "text": [
      "9 : 애인과 첫 여행이라고 적어서 예약했더니 퇴실 시간도 늦게 주시고 와인도 서비스로 주셨습니다. 직원분들 전부 친절하시고 상냥하셨습니다. 방도 깔끔하고 뷰도 좋습니다. 방음이 살짝 안 되는 게 아쉬웠지만, 잘 쉬었습니다. 감사해요!\n"
     ]
    },
    {
     "name": "stderr",
     "output_type": "stream",
     "text": [
      "\r  1%|          | 10/1689 [01:03<2:35:34,  5.56s/it]"
     ]
    },
    {
     "name": "stdout",
     "output_type": "stream",
     "text": [
      "10 : 두 번째 방문인데 너무 깔끔하고 오션뷰가 끝장나요. 조식도 챙겨주시고 서비스도 너무 좋아요. 광안리는 호텔 1이 최고입니다ㅠㅠ\n"
     ]
    },
    {
     "name": "stderr",
     "output_type": "stream",
     "text": [
      "\r  1%|          | 11/1689 [01:06<2:15:57,  4.86s/it]"
     ]
    },
    {
     "name": "stdout",
     "output_type": "stream",
     "text": [
      "11 : 체크아웃 시간이 10시에 엘리베이터 타는데만 40분 이상 걸림. 그래서 10시 40분에 방에서 나와도 될 정도.\n"
     ]
    },
    {
     "name": "stderr",
     "output_type": "stream",
     "text": [
      "\r  1%|          | 12/1689 [01:32<5:16:41, 11.33s/it]"
     ]
    },
    {
     "name": "stdout",
     "output_type": "stream",
     "text": [
      "12 : 별 반 개도 아까운 숙소에 머무를 시간이 짧아 그냥 썼습니다만, 당장 폐업해야 만당한 곳입니다.  침구: 매트리스는 딱딱하고, 움직일 때마다 삐걱소리가 남. 침구류는 다 숙박업 여기저기에서 가져온 것을 쓰며, 퀴퀴한 냄새도 심하고 당연히 세트도 아니고, 수토 모자라고 아딧 알뺀 형편없는 이불입니다. 벽은 곰팡이인지 무슨 잔 건지 그냥 시멘트 벽에 더럽습니다.  욕실: 벽은 물론 쓰레기통에까지 곰팡이가 슬어 있습니다. 샴푸와 바디워시는 이상한 중국거 색인 통에 구분도 없이 담겨 있어서 냄새로 구분해야 합니다. 변기도 깨져 있습니다.  프론트: 왜 있는지 모르겠습니다. 수건 받으려고 전화 수십 통 해도 안 받고 꺼져까지 누르는 것 같으며, 조선족 직원 말고 한국인 사모로 보이는 사람은 말기도 못 알아듣어서 여러 번 말해야 합니다. 그냥 숙박업에 대한 기본 개념이 없습니다(위생 개념도 없으신 듯합니다).  보안: 열쇠로 문 열고 자꾸는데 힘주면 다 떨어질 것 같고, 자동 잠금장치는 바라지도 않지만 최소한의 안전망도 없습니다.  전반적인 분위기: 숙성하고 귀모합니다. 혼자 있으면 무섭습니다. 가짜 사진으로 사기 치지 마시고 그냥 폐업하시길 바랍니다.\n"
     ]
    },
    {
     "name": "stderr",
     "output_type": "stream",
     "text": [
      "\r  1%|          | 13/1689 [01:41<4:58:04, 10.67s/it]"
     ]
    },
    {
     "name": "stdout",
     "output_type": "stream",
     "text": [
      "13 : 컴포트레저룸에 묵었는데, 스마트 TV에 모션 베드를 이용해서 편히 쉬려고 선택한 거잖아요? 그런데 계속 끊겨요. 특히 사람들이 많이 이용하는 시간대(오후 7시 이후)는 뭘 볼 수가 없을 지경이에요. (사진은 영상이 계속 끊겨서 로딩이 돌고 있는 중) 아래에 후기 쓰신 분 말대로 공유기가 부족한 거라면 개선해야 하는 건 아닌가 싶네요. 다시 올 생각은 없어요. (+수압도 약해요)\n"
     ]
    },
    {
     "name": "stderr",
     "output_type": "stream",
     "text": [
      "\r  1%|          | 14/1689 [01:44<3:49:36,  8.22s/it]"
     ]
    },
    {
     "name": "stdout",
     "output_type": "stream",
     "text": [
      "14 : 새로 생긴 곳이라 시설도 깔끔하고 바다도 뷰~~ 맛집이었습니다. 조식도 맛있고 깔끔했습니다.\n"
     ]
    },
    {
     "name": "stderr",
     "output_type": "stream",
     "text": [
      "\r  1%|          | 15/1689 [01:46<3:00:04,  6.45s/it]"
     ]
    },
    {
     "name": "stdout",
     "output_type": "stream",
     "text": [
      "15 : 정말 깔끔하고 조용하고, 편안하고 좋네요. 자주 이용해서 차가 분들 넘 친절하고 편해서 좋아요.\n"
     ]
    },
    {
     "name": "stderr",
     "output_type": "stream",
     "text": [
      "\r  1%|          | 16/1689 [02:05<4:40:58, 10.08s/it]"
     ]
    },
    {
     "name": "stdout",
     "output_type": "stream",
     "text": [
      "16 : 창문으로 바다가 보인다. 우리가 묵은 방은 816호, 3인실에서 2박. 2인용/1인용 침대가 하나씩 있다. 구조가 특이하다. 계단도 실내도 그렇다. 원한다면 샤워를 하면서 객실을 통해 바다를 감상하는 게 가능하다. ㅋ 작년 가을에 광주 성구의 유탑 부티크 호텔에 묵었었는데, 객실 구조가 동일하다. 머리맡에 전기 콘센트가 없다. 전화기 충전해야 하는데. ;; 나중에 찾은 바, 연장선(extension cord)이 수납함에 있더라. ㅋ 8월 첫 주말 최고 극성수기에 방문했다. 주차 공간이 모자라서 인근 주차장과 협력하는 모양이다. 전체적인 느낌이 깔끔하다. 담당 근무자분이 친절하다. 둘째 날 나가다가 복도에서 마주쳤을 때, 필요하신 거 있냐고 일부러 챙겨주는 분위기였다. 우리한테만 그랬나? ^^\n"
     ]
    },
    {
     "name": "stderr",
     "output_type": "stream",
     "text": [
      "\r  1%|          | 17/1689 [02:06<3:31:10,  7.58s/it]"
     ]
    },
    {
     "name": "stdout",
     "output_type": "stream",
     "text": [
      "17 : 파티룸 괜찮았어요! 고데기랑 드라이기도 있어서 좋았어요.\n"
     ]
    },
    {
     "name": "stderr",
     "output_type": "stream",
     "text": [
      "\r  1%|          | 18/1689 [02:09<2:50:31,  6.12s/it]"
     ]
    },
    {
     "name": "stdout",
     "output_type": "stream",
     "text": [
      "18 : 생각했던 것보다 내부가 깨끗하고 좋았습니다. 특히 샤워실이에요. 최근에 리모델링을 했다고 하더라고요.\n"
     ]
    },
    {
     "name": "stderr",
     "output_type": "stream",
     "text": [
      "\r  1%|          | 19/1689 [02:14<2:41:57,  5.82s/it]"
     ]
    },
    {
     "name": "stdout",
     "output_type": "stream",
     "text": [
      "19 : 세상에 이런 최악의 여관은 처음입니다... 따뜻한 물이 나오지 않고... 난방이 되지 않으며... 소등도 안 되어서 불을 끌 때는 키를 다시 넣었다 뺏습니다ㅠㅠ 불친절하기도 정말 심합니다... 제발 거르세요~\n"
     ]
    },
    {
     "name": "stderr",
     "output_type": "stream",
     "text": [
      "\r  1%|          | 20/1689 [02:20<2:43:49,  5.89s/it]"
     ]
    },
    {
     "name": "stdout",
     "output_type": "stream",
     "text": [
      "20 : 캠장님은 유치하게 친절하시고, 샤워실 뜨거운 물도 잘 나오고, 캠핑장 가까이에 관광지도, 시장동, 시지도 한낮로마트까지 완벽^^ 하지만 캠핑장 가까이에 축사가 있는지, 바람 따라 냄새가 올라오고 파리가 끈적하더라는~~\n"
     ]
    },
    {
     "name": "stderr",
     "output_type": "stream",
     "text": [
      "\r  1%|          | 21/1689 [02:37<4:13:50,  9.13s/it]"
     ]
    },
    {
     "name": "stdout",
     "output_type": "stream",
     "text": [
      "21 : 너무너무 좋아요. 글램핑 내부 컨디션은 베스트는 아니었지만 바닥 난방이랑 전기장판이 너무 잘 되어있어요. 이런 데 오면서 화장실이나 주방 컨디션 좋기를 바라는 건 욕심이라고 생각해요. ㅎㅎ 진짜 숲속에 있는 느낌으로 지내다 와서 너무 만족합니다. 사장님은 무뚝뚝하신 것 같은데 은근히 이것저것 잘 챙겨주시고 좋았어요. ㅋㅋㅋ 불도 잘 피워주셨고 장작이 바짝 말라서 너무 잘 타더라고요! 힐링하고 싶을 때 강추해요. 요리용 개시를 사용했습니다.^^ 아쉬운 점 없어요! 다만 매점에서 파는 건 어디나 그렇듯 조금 비싸니까..ㅎ 꼭 근처 마트에서 필요한 거 다 사오시길~ 그리고 공터에서 별 꼭 보세요~~!! 재방문의사 있습니다.\n"
     ]
    },
    {
     "name": "stderr",
     "output_type": "stream",
     "text": [
      "\r  1%|▏         | 22/1689 [02:39<3:19:13,  7.17s/it]"
     ]
    },
    {
     "name": "stdout",
     "output_type": "stream",
     "text": [
      "22 : 2주 동안 엘리베이터 점검이 10일이었고, 엘리베이터를 5분 기다리기도 최악이에요.\n"
     ]
    },
    {
     "name": "stderr",
     "output_type": "stream",
     "text": [
      "\r  1%|▏         | 23/1689 [02:49<3:42:07,  8.00s/it]"
     ]
    },
    {
     "name": "stdout",
     "output_type": "stream",
     "text": [
      "23 : 부산 여행 계획을 잡고 여기저기 숙소 서치를 하다가 카카오맵 후기가 좋길래 비한 곳이에요. 숙소가 청결하길 간절히 바라며 입성했는데, 기대 이상으로 깨끗하고 침대도 냄새가 전혀 나지 않고 폭신폭신해요. 뷰도 좋고, 카운터 남자 직원 분이 왕친절하고 다음 날 조식은 왜 이렇게 맛있었는지 부산 여행을 생애 처음 하면서 좋은 기억으로 남을 것 같아요. 잘 쉬고 왔어요. 감사합니다. 다음에 재방문의사가 있습니다.\n"
     ]
    },
    {
     "name": "stderr",
     "output_type": "stream",
     "text": [
      "\r  1%|▏         | 24/1689 [03:16<6:12:48, 13.43s/it]"
     ]
    },
    {
     "name": "stdout",
     "output_type": "stream",
     "text": [
      "24 : 광안리, 해운대, 서면 등 좋은 호텔이 많지만 여기를 매년 방문하는 이유는 해변을 보고 있노라면 꼭 90년대의 해운대를 보는 듯한 느낌이 들어서입니다. 작지만 오션뷰, 마운틴뷰, 하프뷰 등 신경 쓰지 않아도 되는 모든 룸이 오션뷰의 강점이 있습니다. 관리자님께서 이 글을 보시지 모르겠지만 한 가지 아쉬움이 남은 이번 여행입니다. 여기의 조식은 또 한 가지의 강점이 있습니다. (딱 필요한 만큼 있을 것만 있다. 심지어 컵라면까지.. ㅎㅎ) 어떤 여성분께서 접시에 한가득 담더니 엘리베이터를 타려고 하는 것을 보고 직원이 제지를 하러 나갔습니다. 몇 마디 나누더니 그냥 쌩~ 하고 엘리베이터를 타고 올라가 버립니다. 직원은 어이없다는 듯 더 이상의 제제를 하지 못하고 포기한 제 자기 자리로 돌아가는 것을 봤습니다. 만의 여인이 특급 호텔이었으면 저런 행동을 할 수 있었을까요? 얼마나 무시를 하면 저러가요? 그렇다면 여기를 이용하는 나 또한 저 사람 눈에는 그저 그런 무시해도 되는 사람인가? 만족하며 즐겁게 식사를 하는 나는 뭔가 하는 생각에 매우 불편함을 느꼈습니다. 호텔라오뉴를 좋아하는 우리 가족의 바람은 저런 사람을 보고도 어떤 조치도 취하지 않는 (못하는) 라오니 아닌 좋은 추억과 인상을 담을 수 있는, 그리고 그런 분위기를 제공할 수 있도록 관리를 해주셨으면 합니다.\n"
     ]
    },
    {
     "name": "stderr",
     "output_type": "stream",
     "text": [
      "\r  1%|▏         | 25/1689 [03:18<4:45:31, 10.30s/it]"
     ]
    },
    {
     "name": "stdout",
     "output_type": "stream",
     "text": [
      "25 : 직원분들의 친절도나 룸 컨디션 등 여러 가지 아쉬웠어요. 장점은 해운대 바로 앞이라는 점 정도인 듯해요.\n"
     ]
    },
    {
     "name": "stderr",
     "output_type": "stream",
     "text": [
      "\r  2%|▏         | 26/1689 [03:22<3:45:07,  8.12s/it]"
     ]
    },
    {
     "name": "stdout",
     "output_type": "stream",
     "text": [
      "26 : 깨끗하고 풍경이 아주 좋았어요. 기본 안내도 있어서 삼척항에서 회 터다가 물회, 회떡밥도 만들어서 먹었어요.\n"
     ]
    },
    {
     "name": "stderr",
     "output_type": "stream",
     "text": [
      "\r  2%|▏         | 27/1689 [03:59<7:49:02, 16.93s/it]"
     ]
    },
    {
     "name": "stdout",
     "output_type": "stream",
     "text": [
      "27 : 수영장 물 관리 안 하시는 듯요. 애 먼지 등등 벌레 등등 떠다니고 바베큐장 안에 돼지 비린내가 나서 구역질이 나더라고요. 환풍기에 벌레 두 마리랑 먼지 덩어리에 마개서 넣어놔도 환기가 안 되고, 천장에 곰팡이 ㅜㅜ 화장실 실리콘에도 군데군데 곰팡이... 바베큐 신청했는데 돼지 모사에서 누린내가 ㅜㅜㅜㅜ 먹다가 속 안 좋아져서 고기 다 버렸어요. 소세지... 살다 살다 이렇게 뻑뻑하고 맛없는 소세지 처음이네요. 같이 나온 반찬은 스테 언형 급식판에 김치랑 그냥 재식 반찬 조금씩 떨어져 있었는데 언제 버렸는지도 모를 반찬.... 실리콘 뚜껑으로 덮어서 그대로 주시고  그리고 물노리하고 나왔는데 저녁에 비부가 왜 이렇게 ㅜ 간지러워질. 내부는 그나마 깨끗한데 냉장고는 냉방도 잘 안 되고 청소 하나도 ㅠ 안 되어 있으신 듯요. 앗 피위 상해요. 돈도 아깝고 예쁘게 치워놓으셔놓고 왜 관리를 이렇게 하시는지... 노천탕도 신청해서 다 즐기려고 계획하고 갔었는데 제대로 세척은 하시는지 의심이 되어 왠지 찝찝해서 그냥 나왔네요. 제가 내섬길래 엄청 관리가 잘되겠거니 하고 기대하고 갔는데 다신 안 오고 싶어요. 여기서 묵은 고기 때문에 ㅠ 속 안 좋아져서 당분간 된치교길 먹고 싶지가 않네요. 수영장 물 위에 떠다니는 벌레랑 먼지가 계속 생기나요. 바베큐장에 배어 있는 돼지 냄새 때문에 이 장소만 더올리면 자동으로 되지 누린내가 연상이 됩니다. 진심 구역질 나는 경험 ㅠㅠ 좋게 쓰고 싶었는데 인생 관리가 너무 엉망진창이라 지금도 너무 힘들어요.. 아휴..\n"
     ]
    },
    {
     "name": "stderr",
     "output_type": "stream",
     "text": [
      "\r  2%|▏         | 28/1689 [04:01<5:40:58, 12.32s/it]"
     ]
    },
    {
     "name": "stdout",
     "output_type": "stream",
     "text": [
      "28 : 서비스 응대 다 좋았음.. 아침에 무료 조식도\n"
     ]
    },
    {
     "name": "stderr",
     "output_type": "stream",
     "text": [
      "\r  2%|▏         | 29/1689 [04:02<4:13:43,  9.17s/it]"
     ]
    },
    {
     "name": "stdout",
     "output_type": "stream",
     "text": [
      "29 : 깔끔~ 주인 친절~ 주차장 양호, 시내 인접~ ^^\n"
     ]
    },
    {
     "name": "stderr",
     "output_type": "stream",
     "text": [
      "\r  2%|▏         | 30/1689 [04:28<6:25:59, 13.96s/it]"
     ]
    },
    {
     "name": "stdout",
     "output_type": "stream",
     "text": [
      "30 : 장점: 잠옷 제공, 욕조 있음, 조식 제공, 청소 상태 상이 수준   단점: 유료 회원제 가입 권유, 유료 회원이 아니면 4시 체크인. 외국인들이 많아서 그런지 자기들끼리 고객을 지칭할 때 \"이 사람\", \"저 사람\"으로 부르는 건 그나마 매우 대우해 준 거고, \"저 여자\", \"저 남자\", \"야가 그 여자 있잖아? 아침에 그 남자 아, 진짜ㅋㅋㅋ\" 이런 식으로 노골적으로 손님의 눈앞에 있는 프론트 데스크에 서서 막을 홀치하더라고요. 그게 잘못인지 모르는 게 더 기보... 그리고 프론트 안쪽에서 조용요오오오ㄴ나 큰 목소리로 떠들어서ㅎㅎ 처음엔 중국인들이 로비에서 이렇게 예의 없이 웃고 떠드냐? 했는데 그게 우리 호텔 직원 친군들이더라구요. 직원들이 안에서 \"우아아아아\" 고래고래 소리 질르면서 서로 놀다하고 가고 싶고 떠들고 호탕하게 웃어젓기는 소리가 로비 전체에 라이프로 생중계됩니다. 아마 인수인계할 때 전날 투숙한 고객에 대해서 피드백하면서 불평까지 하는 듯... 듣는 입장에서 기분이 상쾌하진 않고요? 이런 기본적인 상식이 좀 없는 것 말곤 괜찮습니다.\n"
     ]
    },
    {
     "name": "stderr",
     "output_type": "stream",
     "text": [
      "\r  2%|▏         | 31/1689 [04:30<4:47:07, 10.39s/it]"
     ]
    },
    {
     "name": "stdout",
     "output_type": "stream",
     "text": [
      "31 : 최고의 휴가 잘 보냈습니다. ㅎㅎ 로봇 귀여워.\n"
     ]
    },
    {
     "name": "stderr",
     "output_type": "stream",
     "text": [
      "\r  2%|▏         | 32/1689 [04:37<4:18:28,  9.36s/it]"
     ]
    },
    {
     "name": "stdout",
     "output_type": "stream",
     "text": [
      "32 : 아직은 부대시설이 들어와 있지 않아 시설 대비 가격이 저렴합니다. 현시점에서 가성비는 좋은데 내년에는 시설이 들어와 가격이 올라갈 것 같습니다. 그 외 특이사항은 수건 교체 및 물 보충을 문자로 소요 조사를 해서 진행하고 있습니다. 뭔가 저렴한 시설 유지비를 위해 프론트에서 특이 운영을 하는 중입니다.\n"
     ]
    },
    {
     "name": "stderr",
     "output_type": "stream",
     "text": [
      "\r  2%|▏         | 33/1689 [05:06<7:08:43, 15.53s/it]"
     ]
    },
    {
     "name": "stdout",
     "output_type": "stream",
     "text": [
      "33 : 한국에 니시테츠 호텔 체인점이 있는 줄 알았으면 진짜에 이용했을 텐데, 늦게 알게 되어 아쉬움이 남습니다.   (장점)  - 접근성이 나쁘지 않습니다. (부산역에서 버스 15분)  - 로비가 3층이라 호텔 출입 시 블라이브 포장이 됩니다.  - 피로를 풀 수 있는 대욕탕과 피트니스 센터가 지하 1층에 있습니다.  - 직원분들이 매우 친절합니다.  - 방 청소 상태나 룸 컨디션이 일본 지점에 비해 훌륭합니다.  - 호텔 내부가 전체적으로 조용한 분위기입니다.  - 1층에 카페 체인점과 편의점이 있습니다.  - 빠른 체크인 가능(14시부터)   (단점)  - 통유리라서 외부 방음이 잘 안 됩니다. (차 경적 소리 등)  - 대욕탕은 유료 이용입니다(1일 이용 5,000원, 23시 종료).  - 에어컨이 일본 호텔에서 볼 수 있는 천장 일체형입니다. (탄, 온도, 풍속 등 개별 설정 가능)  - 대욕탕 및 부분은 보수가 필요합니다.  - 주변에서 긴일 해결하려면 좀 걸어야 합니다.   코로나 때문에 중국인을 포함한 외국 관광객이 없어서 세상 편하게 이용 잘했습니다. 주변에 유흥가가긴 한데, 호텔 이용하는 데는 지자 1도 없고, 확실히 토코인과 토요타 사이 중간 정도 퀄리티의 합리적인 비즈니스 호텔입니다. 출장하시는 분이나 혼자 여행하시는 분들이 숙박하면 만족할 숙소입니다. 자주 이용하고 싶은 곳입니다.\n"
     ]
    },
    {
     "name": "stderr",
     "output_type": "stream",
     "text": [
      "\r  2%|▏         | 34/1689 [05:08<5:10:31, 11.26s/it]"
     ]
    },
    {
     "name": "stdout",
     "output_type": "stream",
     "text": [
      "34 : 신라스테이 서울 오픈 축하드립니다!!~\n"
     ]
    },
    {
     "name": "stderr",
     "output_type": "stream",
     "text": [
      "\r  2%|▏         | 35/1689 [05:17<4:56:42, 10.76s/it]"
     ]
    },
    {
     "name": "stdout",
     "output_type": "stream",
     "text": [
      "35 : 4층에 객실인데 뷰가 정말 좋습니다. 잠이 나서 혼자 1박 2일 쉬러 갔었는데, 전에 도착해서 어디 안 돌아다녀도 될 만큼 좋네요. 해가 지고 나면 야경도 좋고, 침대에 누워서도 파도 소리가 들려서 체크 몇 달 만에 정말 푹 잤습니다. 아침에 해가 뜨면서 알람 없이도 자동으로 기상이 되는데 기분이 너무 좋았습니다. 위치도 속초 오지에 있어서 여기저기 다니기도 사실 좋은 위치예요. 또 가고 싶은 곳~\n"
     ]
    },
    {
     "name": "stderr",
     "output_type": "stream",
     "text": [
      "\r  2%|▏         | 36/1689 [05:18<3:35:41,  7.83s/it]"
     ]
    },
    {
     "name": "stdout",
     "output_type": "stream",
     "text": [
      "36 : 절대! 다시는 가고 싶지 않음!\n"
     ]
    },
    {
     "name": "stderr",
     "output_type": "stream",
     "text": [
      "\r  2%|▏         | 37/1689 [05:20<2:47:14,  6.07s/it]"
     ]
    },
    {
     "name": "stdout",
     "output_type": "stream",
     "text": [
      "37 : 평이 좋은 데는 다 이유가 있네요. 친절하고 깨끗했습니다. 대만족이었습니다^^\n"
     ]
    },
    {
     "name": "stderr",
     "output_type": "stream",
     "text": [
      "\r  2%|▏         | 38/1689 [05:21<2:03:53,  4.50s/it]"
     ]
    },
    {
     "name": "stdout",
     "output_type": "stream",
     "text": [
      "38 : 뷰가 정말 예뻤어요!!\n"
     ]
    },
    {
     "name": "stderr",
     "output_type": "stream",
     "text": [
      "\r  2%|▏         | 39/1689 [05:24<1:53:11,  4.12s/it]"
     ]
    },
    {
     "name": "stdout",
     "output_type": "stream",
     "text": [
      "39 : 교육이 있어 방문했습니다. 식사 제공이 되는 호텔 내부 식당에서 직원분들이 친절하다는 느낌이 없어서 아쉬웠습니다. 정신없이 부산스러웠습니다.\n"
     ]
    },
    {
     "name": "stderr",
     "output_type": "stream",
     "text": [
      "\r  2%|▏         | 40/1689 [05:28<1:49:39,  3.99s/it]"
     ]
    },
    {
     "name": "stdout",
     "output_type": "stream",
     "text": [
      "40 : 바다 앞이라 좋았고 객실도 깔끔했어요. 그런데 프론트 남직원분 발음이 너무 안 좋아서 계속 다시 물어봐야 했어요 ㅠㅠㅠ\n"
     ]
    },
    {
     "name": "stderr",
     "output_type": "stream",
     "text": [
      "\r  2%|▏         | 41/1689 [05:31<1:42:42,  3.74s/it]"
     ]
    },
    {
     "name": "stdout",
     "output_type": "stream",
     "text": [
      "41 : 서비스도 너무 좋고, 다들 친절하고 방이 어두운 것 빼곤 좋았어요. 크리스마스 트리도 로비에 너무 예뻐요.\n"
     ]
    },
    {
     "name": "stderr",
     "output_type": "stream",
     "text": [
      "\r  2%|▏         | 42/1689 [05:32<1:19:10,  2.88s/it]"
     ]
    },
    {
     "name": "stdout",
     "output_type": "stream",
     "text": [
      "42 : 뷰도 청결도 최고였습니다!!!\n"
     ]
    },
    {
     "name": "stderr",
     "output_type": "stream",
     "text": [
      "\r  3%|▎         | 43/1689 [05:33<1:04:02,  2.33s/it]"
     ]
    },
    {
     "name": "stdout",
     "output_type": "stream",
     "text": [
      "43 : 직원분들이 친절해서 좋았음.\n"
     ]
    },
    {
     "name": "stderr",
     "output_type": "stream",
     "text": [
      "\r  3%|▎         | 44/1689 [05:36<1:04:14,  2.34s/it]"
     ]
    },
    {
     "name": "stdout",
     "output_type": "stream",
     "text": [
      "44 : 최고급 호텔은 아니지만 바다가 가까워서 좋았고 사장님 내외가 너무 친절하셨어요\n"
     ]
    },
    {
     "name": "stderr",
     "output_type": "stream",
     "text": [
      "\r  3%|▎         | 45/1689 [05:38<1:06:54,  2.44s/it]"
     ]
    },
    {
     "name": "stdout",
     "output_type": "stream",
     "text": [
      "45 : 공기 나쁜 날 외부 차단된 실내 수영장.. 따뜻한 바닥. 세 개의 다른 온도로 유지되는 자쿠지가 좋아요.\n"
     ]
    },
    {
     "name": "stderr",
     "output_type": "stream",
     "text": [
      "\r  3%|▎         | 46/1689 [05:41<1:12:49,  2.66s/it]"
     ]
    },
    {
     "name": "stdout",
     "output_type": "stream",
     "text": [
      "46 : 너무 좋음. 시설도 깨끗하고 침구도 깨끗해서 만족, 대만족이었습니다!! 다음 여행 숙박도 미리 예약하고 여행 와야겠어요.\n"
     ]
    },
    {
     "name": "stderr",
     "output_type": "stream",
     "text": [
      "\r  3%|▎         | 47/1689 [06:00<3:23:07,  7.42s/it]"
     ]
    },
    {
     "name": "stdout",
     "output_type": "stream",
     "text": [
      "47 : 시설이랑 시설에 있어서는 흠잡을 만한 곳이 없고, 직원분들도 너무 친절해서 기분이 절로 좋아지는 여행이었습니다. 거기다 뷰는 화로점정이었네요. 그런데 한 가지 거니들이 점은 욕조에 관련데, 사용 후기가 너무 안딱까워서 꼭 말씀드리고 싶네요. 요즘 감성에 미친 뷰 앞에 예쁜 욕조지만, 실용성은 별로 아니, 최악이었어요. 사용 중 욕조가 커서 반신욕할 때 엉덩이가 미끄러졌는데, 손잡이가 없어서 욕조 양옆풀 거둘랑이에 끼고 있다가 발린 끝에 안 닿으니 미끄러지면서 빨리 살짝 꺾였는데, 그뉴이 놀랐는지 밤에 잘 때 알파섬 잠을 설쳤습니다. 젊은 사람들은 못 느끼슈도 있지만, 이 시설을 연세 드신 분들도 사용할 수 있을 테니 참고하셔서 손잡이 설치가 어려우면 안에 그립라도 옆에 붙여 두시면 좋을 듯합니다. 저뿐만 아니라 동행한 친구도 느꼈대요.\n"
     ]
    },
    {
     "name": "stderr",
     "output_type": "stream",
     "text": [
      "\r  3%|▎         | 48/1689 [06:07<3:23:49,  7.45s/it]"
     ]
    },
    {
     "name": "stdout",
     "output_type": "stream",
     "text": [
      "48 : 웰컴 티와 기본 캡슐 커피 향과 맛이 좋았고, 경치가 좋았다. 라운지 분위기도 좋았고 기본 제공되는 음료 및 디저트가 맛있었습니다. 오후 칵테일 파티도 즐거운 경험이었고, 사우나 및 헬스장과 수영장도 즐기기 좋은 곳이다. 특히 사우나 기본 제공되는 어메니티 향이 매우 좋았음.\n"
     ]
    },
    {
     "name": "stderr",
     "output_type": "stream",
     "text": [
      "\r  3%|▎         | 49/1689 [06:12<2:58:19,  6.52s/it]"
     ]
    },
    {
     "name": "stdout",
     "output_type": "stream",
     "text": [
      "49 : 완전 신축! 완전 새것!의 느낌은 아니지만 리모델링이 되어 오래된 느낌이 크게 느껴지지 않았어요. 대리석 바닥과 엔틱한 감성, 오션뷰와 마나니 넘 감성적\n"
     ]
    },
    {
     "name": "stderr",
     "output_type": "stream",
     "text": [
      "\r  3%|▎         | 50/1689 [06:14<2:24:29,  5.29s/it]"
     ]
    },
    {
     "name": "stdout",
     "output_type": "stream",
     "text": [
      "50 : 시설이 깨끗하고 침구류도 멀쩡했습니다. 카운터 직원분이 친절합니다ㅎㅎ\n"
     ]
    },
    {
     "name": "stderr",
     "output_type": "stream",
     "text": [
      "\r  3%|▎         | 51/1689 [06:35<4:34:41, 10.06s/it]"
     ]
    },
    {
     "name": "stdout",
     "output_type": "stream",
     "text": [
      "51 : 글램핑장 바로 옆 민가에서 새벽 6시 전부터 공사 드릴 소리를 내기 시작해서 잠이 다 깼습니다. 강서 아침 일찍 일어나니 곤란하다고 말씀드렸더니 알겠다고 하더군요. 그런데 글램핑장에 놀러 온 사람들도 밤 12시까지 시끄럽게 술 마시고 떠드는데, 그러면 되겠냐는 말도 들었습니다. 그러게요ㅠ 속초시 관광과나 환경과에 이상 소음으로 민원을 넣어야 하는 거 아니지… 가격이 저렴한 이유가 있습니다. 글램핑 텐트가 아주 낡았고 아주 불편하지 않을 만큼만 청소, 관리됩니다. 주의사항에는 10시부터는 고성방가를 자제해달라고 써있지만, 그때가 술 취한 도로인들일 제일 빵빵에 불은 타임이고 12시 넘어서도 신나서 노래 부르는 소리가 들립니다. 관리가 잘 되는 곳은 시간 되면 관리자가 돌아다니며 신경 쓰는데, 여긴 그런 곳은 아닙니다. 가성비로 가려면 나쁘지 않아 싶었는데 잠자는 시간부터 새벽 때까지 저런 경험까지 하고 나니…ㅎㅎㅎ\n"
     ]
    },
    {
     "name": "stderr",
     "output_type": "stream",
     "text": [
      "\r  3%|▎         | 52/1689 [06:41<3:54:06,  8.58s/it]"
     ]
    },
    {
     "name": "stdout",
     "output_type": "stream",
     "text": [
      "52 : 여행에 편안함을 주는 숙박 장소로 매우 만족했습니다. 시설은 깨끗하게 정리되어 있으며 객실에서 보는 전망도 아주 좋았고, 일하시는 분들이 항상 웃는 얼굴로 편안하게 대해주어 여행이 매우 즐거웠습니다. 가성비 최고입니다.\n"
     ]
    },
    {
     "name": "stderr",
     "output_type": "stream",
     "text": [
      "\r  3%|▎         | 53/1689 [06:42<2:56:48,  6.48s/it]"
     ]
    },
    {
     "name": "stdout",
     "output_type": "stream",
     "text": [
      "53 : 포근하니 쾌적하고 룸 컨디션 맘에 쏘요~\n"
     ]
    },
    {
     "name": "stderr",
     "output_type": "stream",
     "text": [
      "\r  3%|▎         | 54/1689 [06:44<2:21:57,  5.21s/it]"
     ]
    },
    {
     "name": "stdout",
     "output_type": "stream",
     "text": [
      "54 : 엄청 오래된 모텔입니다. 하지만 뷰가 미쳤고, 온수가 잘 나와서 좋았어요.\n"
     ]
    },
    {
     "name": "stderr",
     "output_type": "stream",
     "text": [
      "\r  3%|▎         | 55/1689 [06:49<2:19:22,  5.12s/it]"
     ]
    },
    {
     "name": "stdout",
     "output_type": "stream",
     "text": [
      "55 : 해운대 바로 앞이라 위치가 깡패. 객실은 깔끔하고 괜찮지만, 루프탑 수영장은 유료(3만원)이며 기타 이용할 만한 부대시설이 없어서 객실만 이용하기에는 성수기에 다소 비싼 느낌.\n"
     ]
    },
    {
     "name": "stderr",
     "output_type": "stream",
     "text": [
      "\r  3%|▎         | 56/1689 [06:56<2:29:17,  5.49s/it]"
     ]
    },
    {
     "name": "stdout",
     "output_type": "stream",
     "text": [
      "56 : 오션뷰 디럭스탑은 저층 저렇게 돌출된 벽이 시야에 보입니다. 호텔 측 담당자분은 말씀으로는 오션뷰는 맞으니 체목 옆에 보시는 안 했다고 합니다. 예약 주의하세요(안내 문자를 입실 하루 전에 보내드리니 꼼꼼하게 주의사항을 읽어보세요).\n"
     ]
    },
    {
     "name": "stderr",
     "output_type": "stream",
     "text": [
      "\r  3%|▎         | 57/1689 [06:57<1:56:27,  4.28s/it]"
     ]
    },
    {
     "name": "stdout",
     "output_type": "stream",
     "text": [
      "57 : 뷰 맛집... 내 집이면 좋겠어요..ㅜㅜ\n"
     ]
    },
    {
     "name": "stderr",
     "output_type": "stream",
     "text": [
      "\r  3%|▎         | 58/1689 [07:22<4:42:03, 10.38s/it]"
     ]
    },
    {
     "name": "stdout",
     "output_type": "stream",
     "text": [
      "58 : 이 호텔 처음 지을 때부터 와봤고, 최근에는 해외 친구들이나 지인이 오면 묵게 하고 소개해 주고 방 잡아주고 하는 등 가성비 좋은 호텔로 이곳을 인식하고 있었다. 올해는 파티룸도 3번~4번 정도 써보고... 단, 아쉬운 건 프론트 응대가 점점 안 좋아진다. 바람이 많은 날 엘리베이터가 쿵쿵거리길래 말했더니 남지기는 알아보겠다고 하는데 여직원은 운날을 턴다는 식으로 말하는 걸 들었다. 출로 고객 응대도 앉아서 하고... 지난달에는 체크인하고 새벽에 들어왔는데 집에 가려는 친구 한 명 옆에 있는데 숙박객인지 아닌지 묻지도 않고 추가 요금 내라고 하고... 예정보다 일찍 도착해 1시간 30분 정도 early check-in 하려고 했는데 3시라고 하기엔 그래도 나름 이 호텔을 꽤 자주 애용을 했기에 서비스를 받아볼 요아유로 이 호텔 자주 오는데라고 했더니 \"호텔 정재는 3시입니다, 어떡하죠?\" 하면 될 것을 자주 오는데 시간도 모르나는 소리를 듣고... 이게 참 고객 서비스라는 것이 같은 말이라도 \"아 어\"가 다른 건데... 암튼 점검 고객 응대 개선이 필요할 듯. 프론트는 그 호텔의 얼굴입니다. 그래서 프론트입니다. 동네 모텔만도 못한 프론트 응대가 아쉽네요.\n"
     ]
    },
    {
     "name": "stderr",
     "output_type": "stream",
     "text": [
      "\r  3%|▎         | 59/1689 [07:26<3:55:08,  8.66s/it]"
     ]
    },
    {
     "name": "stdout",
     "output_type": "stream",
     "text": [
      "59 : 남산 뷰도 좋고 호텔은 좋으나 주변에 먹거리와 놀거리가 없이 애매합니다. 택시 기본 요금을 내고 동대입구로 가야 합니다. 조식은 만족스럽고 생과일 짜주스도 맛있습니다.\n"
     ]
    },
    {
     "name": "stderr",
     "output_type": "stream",
     "text": [
      "\r  4%|▎         | 60/1689 [07:28<2:58:43,  6.58s/it]"
     ]
    },
    {
     "name": "stdout",
     "output_type": "stream",
     "text": [
      "60 : 뷰 맛집, 광안대교 뷰 최고!!!! 또 오고 싶어요.\n"
     ]
    },
    {
     "name": "stderr",
     "output_type": "stream",
     "text": [
      "\r  4%|▎         | 61/1689 [07:34<2:55:54,  6.48s/it]"
     ]
    },
    {
     "name": "stdout",
     "output_type": "stream",
     "text": [
      "61 : 안 청결함!! 화장실 바닥에 머리카락이랑 털이 있었음. 누군가 놓고 간 티셔츠도 발견. 물론 잘 안 보이는 곳이긴 했지만 전체적으로 확인도 안 한다 거 아님? 특히 털이랑이.... 청소도 제대로 안 돼 있는 것 보니 밥 맛실 뚝 떨어짐. 침구나 베개 푹신 정도는 아주 만족함.\n"
     ]
    },
    {
     "name": "stderr",
     "output_type": "stream",
     "text": [
      "\r  4%|▎         | 62/1689 [07:40<2:49:28,  6.25s/it]"
     ]
    },
    {
     "name": "stdout",
     "output_type": "stream",
     "text": [
      "62 : 너무 예쁘고 분위기가 최고예요. 처음부터 실내화 신고 들어가는 것도 깨끗하고 좋은 것 같습니다! 루프탑 가봤는데, 루프탑도 너무 좋았어요ㅠ 스파는 추워서 못했지만 다음번에 다시 오면 꼭 해보려고 합니다. 호텔원 최고입니다.\n"
     ]
    },
    {
     "name": "stderr",
     "output_type": "stream",
     "text": [
      "\r  4%|▎         | 63/1689 [07:43<2:21:18,  5.21s/it]"
     ]
    },
    {
     "name": "stdout",
     "output_type": "stream",
     "text": [
      "63 : 시내 중심에 있어 바닷가에 있는 곳보다는 저렴합니다. 겉모습도 깔끔하고 객실 내부도 깔끔하니 좋아요..\n"
     ]
    },
    {
     "name": "stderr",
     "output_type": "stream",
     "text": [
      "\r  4%|▎         | 63/1689 [07:56<3:25:10,  7.57s/it]\n"
     ]
    },
    {
     "ename": "KeyboardInterrupt",
     "evalue": "",
     "output_type": "error",
     "traceback": [
      "\u001b[0;31m---------------------------------------------------------------------------\u001b[0m",
      "\u001b[0;31mKeyboardInterrupt\u001b[0m                         Traceback (most recent call last)",
      "\u001b[0;32m<ipython-input-22-4b3e60cb6546>\u001b[0m in \u001b[0;36m<cell line: 0>\u001b[0;34m()\u001b[0m\n\u001b[1;32m     15\u001b[0m   ], return_tensors = \"pt\").to(\"cuda\") # PyTorch 텐서, GPU사용\n\u001b[1;32m     16\u001b[0m \u001b[0;34m\u001b[0m\u001b[0m\n\u001b[0;32m---> 17\u001b[0;31m   outputs = model.generate(**inputs,            # 이전 입력값\n\u001b[0m\u001b[1;32m     18\u001b[0m                            \u001b[0mmax_new_tokens\u001b[0m \u001b[0;34m=\u001b[0m \u001b[0;36m1096\u001b[0m\u001b[0;34m,\u001b[0m \u001b[0;31m# 최대 64개의 단어\u001b[0m\u001b[0;34m\u001b[0m\u001b[0;34m\u001b[0m\u001b[0m\n\u001b[1;32m     19\u001b[0m                            stopping_criteria=stopping_criteria)    # 캐싱을 사용하여 이전 결과 저장\n",
      "\u001b[0;32m/usr/local/lib/python3.11/dist-packages/torch/utils/_contextlib.py\u001b[0m in \u001b[0;36mdecorate_context\u001b[0;34m(*args, **kwargs)\u001b[0m\n\u001b[1;32m    114\u001b[0m     \u001b[0;32mdef\u001b[0m \u001b[0mdecorate_context\u001b[0m\u001b[0;34m(\u001b[0m\u001b[0;34m*\u001b[0m\u001b[0margs\u001b[0m\u001b[0;34m,\u001b[0m \u001b[0;34m**\u001b[0m\u001b[0mkwargs\u001b[0m\u001b[0;34m)\u001b[0m\u001b[0;34m:\u001b[0m\u001b[0;34m\u001b[0m\u001b[0;34m\u001b[0m\u001b[0m\n\u001b[1;32m    115\u001b[0m         \u001b[0;32mwith\u001b[0m \u001b[0mctx_factory\u001b[0m\u001b[0;34m(\u001b[0m\u001b[0;34m)\u001b[0m\u001b[0;34m:\u001b[0m\u001b[0;34m\u001b[0m\u001b[0;34m\u001b[0m\u001b[0m\n\u001b[0;32m--> 116\u001b[0;31m             \u001b[0;32mreturn\u001b[0m \u001b[0mfunc\u001b[0m\u001b[0;34m(\u001b[0m\u001b[0;34m*\u001b[0m\u001b[0margs\u001b[0m\u001b[0;34m,\u001b[0m \u001b[0;34m**\u001b[0m\u001b[0mkwargs\u001b[0m\u001b[0;34m)\u001b[0m\u001b[0;34m\u001b[0m\u001b[0;34m\u001b[0m\u001b[0m\n\u001b[0m\u001b[1;32m    117\u001b[0m \u001b[0;34m\u001b[0m\u001b[0m\n\u001b[1;32m    118\u001b[0m     \u001b[0;32mreturn\u001b[0m \u001b[0mdecorate_context\u001b[0m\u001b[0;34m\u001b[0m\u001b[0;34m\u001b[0m\u001b[0m\n",
      "\u001b[0;32m/usr/local/lib/python3.11/dist-packages/unsloth/models/llama.py\u001b[0m in \u001b[0;36m_fast_generate\u001b[0;34m(*args, **kwargs)\u001b[0m\n\u001b[1;32m   1560\u001b[0m         \u001b[0;31m# Autocasted\u001b[0m\u001b[0;34m\u001b[0m\u001b[0;34m\u001b[0m\u001b[0m\n\u001b[1;32m   1561\u001b[0m         \u001b[0;32mwith\u001b[0m \u001b[0mtorch\u001b[0m\u001b[0;34m.\u001b[0m\u001b[0mautocast\u001b[0m\u001b[0;34m(\u001b[0m\u001b[0mdevice_type\u001b[0m \u001b[0;34m=\u001b[0m \u001b[0mdevice_type\u001b[0m\u001b[0;34m,\u001b[0m \u001b[0mdtype\u001b[0m \u001b[0;34m=\u001b[0m \u001b[0mdtype\u001b[0m\u001b[0;34m)\u001b[0m\u001b[0;34m:\u001b[0m\u001b[0;34m\u001b[0m\u001b[0;34m\u001b[0m\u001b[0m\n\u001b[0;32m-> 1562\u001b[0;31m             \u001b[0moutput\u001b[0m \u001b[0;34m=\u001b[0m \u001b[0mgenerate\u001b[0m\u001b[0;34m(\u001b[0m\u001b[0;34m*\u001b[0m\u001b[0margs\u001b[0m\u001b[0;34m,\u001b[0m \u001b[0;34m**\u001b[0m\u001b[0mkwargs\u001b[0m\u001b[0;34m)\u001b[0m\u001b[0;34m\u001b[0m\u001b[0;34m\u001b[0m\u001b[0m\n\u001b[0m\u001b[1;32m   1563\u001b[0m         \u001b[0;32mpass\u001b[0m\u001b[0;34m\u001b[0m\u001b[0;34m\u001b[0m\u001b[0m\n\u001b[1;32m   1564\u001b[0m \u001b[0;34m\u001b[0m\u001b[0m\n",
      "\u001b[0;32m/usr/local/lib/python3.11/dist-packages/peft/peft_model.py\u001b[0m in \u001b[0;36mgenerate\u001b[0;34m(self, *args, **kwargs)\u001b[0m\n\u001b[1;32m   1836\u001b[0m                 \u001b[0;32mwith\u001b[0m \u001b[0mself\u001b[0m\u001b[0;34m.\u001b[0m\u001b[0m_enable_peft_forward_hooks\u001b[0m\u001b[0;34m(\u001b[0m\u001b[0;34m*\u001b[0m\u001b[0margs\u001b[0m\u001b[0;34m,\u001b[0m \u001b[0;34m**\u001b[0m\u001b[0mkwargs\u001b[0m\u001b[0;34m)\u001b[0m\u001b[0;34m:\u001b[0m\u001b[0;34m\u001b[0m\u001b[0;34m\u001b[0m\u001b[0m\n\u001b[1;32m   1837\u001b[0m                     \u001b[0mkwargs\u001b[0m \u001b[0;34m=\u001b[0m \u001b[0;34m{\u001b[0m\u001b[0mk\u001b[0m\u001b[0;34m:\u001b[0m \u001b[0mv\u001b[0m \u001b[0;32mfor\u001b[0m \u001b[0mk\u001b[0m\u001b[0;34m,\u001b[0m \u001b[0mv\u001b[0m \u001b[0;32min\u001b[0m \u001b[0mkwargs\u001b[0m\u001b[0;34m.\u001b[0m\u001b[0mitems\u001b[0m\u001b[0;34m(\u001b[0m\u001b[0;34m)\u001b[0m \u001b[0;32mif\u001b[0m \u001b[0mk\u001b[0m \u001b[0;32mnot\u001b[0m \u001b[0;32min\u001b[0m \u001b[0mself\u001b[0m\u001b[0;34m.\u001b[0m\u001b[0mspecial_peft_forward_args\u001b[0m\u001b[0;34m}\u001b[0m\u001b[0;34m\u001b[0m\u001b[0;34m\u001b[0m\u001b[0m\n\u001b[0;32m-> 1838\u001b[0;31m                     \u001b[0moutputs\u001b[0m \u001b[0;34m=\u001b[0m \u001b[0mself\u001b[0m\u001b[0;34m.\u001b[0m\u001b[0mbase_model\u001b[0m\u001b[0;34m.\u001b[0m\u001b[0mgenerate\u001b[0m\u001b[0;34m(\u001b[0m\u001b[0;34m*\u001b[0m\u001b[0margs\u001b[0m\u001b[0;34m,\u001b[0m \u001b[0;34m**\u001b[0m\u001b[0mkwargs\u001b[0m\u001b[0;34m)\u001b[0m\u001b[0;34m\u001b[0m\u001b[0;34m\u001b[0m\u001b[0m\n\u001b[0m\u001b[1;32m   1839\u001b[0m             \u001b[0;32melse\u001b[0m\u001b[0;34m:\u001b[0m\u001b[0;34m\u001b[0m\u001b[0;34m\u001b[0m\u001b[0m\n\u001b[1;32m   1840\u001b[0m                 \u001b[0moutputs\u001b[0m \u001b[0;34m=\u001b[0m \u001b[0mself\u001b[0m\u001b[0;34m.\u001b[0m\u001b[0mbase_model\u001b[0m\u001b[0;34m.\u001b[0m\u001b[0mgenerate\u001b[0m\u001b[0;34m(\u001b[0m\u001b[0;34m**\u001b[0m\u001b[0mkwargs\u001b[0m\u001b[0;34m)\u001b[0m\u001b[0;34m\u001b[0m\u001b[0;34m\u001b[0m\u001b[0m\n",
      "\u001b[0;32m/usr/local/lib/python3.11/dist-packages/torch/utils/_contextlib.py\u001b[0m in \u001b[0;36mdecorate_context\u001b[0;34m(*args, **kwargs)\u001b[0m\n\u001b[1;32m    114\u001b[0m     \u001b[0;32mdef\u001b[0m \u001b[0mdecorate_context\u001b[0m\u001b[0;34m(\u001b[0m\u001b[0;34m*\u001b[0m\u001b[0margs\u001b[0m\u001b[0;34m,\u001b[0m \u001b[0;34m**\u001b[0m\u001b[0mkwargs\u001b[0m\u001b[0;34m)\u001b[0m\u001b[0;34m:\u001b[0m\u001b[0;34m\u001b[0m\u001b[0;34m\u001b[0m\u001b[0m\n\u001b[1;32m    115\u001b[0m         \u001b[0;32mwith\u001b[0m \u001b[0mctx_factory\u001b[0m\u001b[0;34m(\u001b[0m\u001b[0;34m)\u001b[0m\u001b[0;34m:\u001b[0m\u001b[0;34m\u001b[0m\u001b[0;34m\u001b[0m\u001b[0m\n\u001b[0;32m--> 116\u001b[0;31m             \u001b[0;32mreturn\u001b[0m \u001b[0mfunc\u001b[0m\u001b[0;34m(\u001b[0m\u001b[0;34m*\u001b[0m\u001b[0margs\u001b[0m\u001b[0;34m,\u001b[0m \u001b[0;34m**\u001b[0m\u001b[0mkwargs\u001b[0m\u001b[0;34m)\u001b[0m\u001b[0;34m\u001b[0m\u001b[0;34m\u001b[0m\u001b[0m\n\u001b[0m\u001b[1;32m    117\u001b[0m \u001b[0;34m\u001b[0m\u001b[0m\n\u001b[1;32m    118\u001b[0m     \u001b[0;32mreturn\u001b[0m \u001b[0mdecorate_context\u001b[0m\u001b[0;34m\u001b[0m\u001b[0;34m\u001b[0m\u001b[0m\n",
      "\u001b[0;32m/usr/local/lib/python3.11/dist-packages/transformers/generation/utils.py\u001b[0m in \u001b[0;36mgenerate\u001b[0;34m(self, inputs, generation_config, logits_processor, stopping_criteria, prefix_allowed_tokens_fn, synced_gpus, assistant_model, streamer, negative_prompt_ids, negative_prompt_attention_mask, **kwargs)\u001b[0m\n\u001b[1;32m   2253\u001b[0m \u001b[0;34m\u001b[0m\u001b[0m\n\u001b[1;32m   2254\u001b[0m             \u001b[0;31m# 12. run sample (it degenerates to greedy search when `generation_config.do_sample=False`)\u001b[0m\u001b[0;34m\u001b[0m\u001b[0;34m\u001b[0m\u001b[0m\n\u001b[0;32m-> 2255\u001b[0;31m             result = self._sample(\n\u001b[0m\u001b[1;32m   2256\u001b[0m                 \u001b[0minput_ids\u001b[0m\u001b[0;34m,\u001b[0m\u001b[0;34m\u001b[0m\u001b[0;34m\u001b[0m\u001b[0m\n\u001b[1;32m   2257\u001b[0m                 \u001b[0mlogits_processor\u001b[0m\u001b[0;34m=\u001b[0m\u001b[0mprepared_logits_processor\u001b[0m\u001b[0;34m,\u001b[0m\u001b[0;34m\u001b[0m\u001b[0;34m\u001b[0m\u001b[0m\n",
      "\u001b[0;32m/usr/local/lib/python3.11/dist-packages/transformers/generation/utils.py\u001b[0m in \u001b[0;36m_sample\u001b[0;34m(self, input_ids, logits_processor, stopping_criteria, generation_config, synced_gpus, streamer, **model_kwargs)\u001b[0m\n\u001b[1;32m   3255\u001b[0m                 \u001b[0mis_prefill\u001b[0m \u001b[0;34m=\u001b[0m \u001b[0;32mFalse\u001b[0m\u001b[0;34m\u001b[0m\u001b[0;34m\u001b[0m\u001b[0m\n\u001b[1;32m   3256\u001b[0m             \u001b[0;32melse\u001b[0m\u001b[0;34m:\u001b[0m\u001b[0;34m\u001b[0m\u001b[0;34m\u001b[0m\u001b[0m\n\u001b[0;32m-> 3257\u001b[0;31m                 \u001b[0moutputs\u001b[0m \u001b[0;34m=\u001b[0m \u001b[0mmodel_forward\u001b[0m\u001b[0;34m(\u001b[0m\u001b[0;34m**\u001b[0m\u001b[0mmodel_inputs\u001b[0m\u001b[0;34m,\u001b[0m \u001b[0mreturn_dict\u001b[0m\u001b[0;34m=\u001b[0m\u001b[0;32mTrue\u001b[0m\u001b[0;34m)\u001b[0m\u001b[0;34m\u001b[0m\u001b[0;34m\u001b[0m\u001b[0m\n\u001b[0m\u001b[1;32m   3258\u001b[0m \u001b[0;34m\u001b[0m\u001b[0m\n\u001b[1;32m   3259\u001b[0m             \u001b[0;31m# synced_gpus: don't waste resources running the code we don't need; kwargs must be updated before skipping\u001b[0m\u001b[0;34m\u001b[0m\u001b[0;34m\u001b[0m\u001b[0m\n",
      "\u001b[0;32m/usr/local/lib/python3.11/dist-packages/torch/nn/modules/module.py\u001b[0m in \u001b[0;36m_wrapped_call_impl\u001b[0;34m(self, *args, **kwargs)\u001b[0m\n\u001b[1;32m   1734\u001b[0m             \u001b[0;32mreturn\u001b[0m \u001b[0mself\u001b[0m\u001b[0;34m.\u001b[0m\u001b[0m_compiled_call_impl\u001b[0m\u001b[0;34m(\u001b[0m\u001b[0;34m*\u001b[0m\u001b[0margs\u001b[0m\u001b[0;34m,\u001b[0m \u001b[0;34m**\u001b[0m\u001b[0mkwargs\u001b[0m\u001b[0;34m)\u001b[0m  \u001b[0;31m# type: ignore[misc]\u001b[0m\u001b[0;34m\u001b[0m\u001b[0;34m\u001b[0m\u001b[0m\n\u001b[1;32m   1735\u001b[0m         \u001b[0;32melse\u001b[0m\u001b[0;34m:\u001b[0m\u001b[0;34m\u001b[0m\u001b[0;34m\u001b[0m\u001b[0m\n\u001b[0;32m-> 1736\u001b[0;31m             \u001b[0;32mreturn\u001b[0m \u001b[0mself\u001b[0m\u001b[0;34m.\u001b[0m\u001b[0m_call_impl\u001b[0m\u001b[0;34m(\u001b[0m\u001b[0;34m*\u001b[0m\u001b[0margs\u001b[0m\u001b[0;34m,\u001b[0m \u001b[0;34m**\u001b[0m\u001b[0mkwargs\u001b[0m\u001b[0;34m)\u001b[0m\u001b[0;34m\u001b[0m\u001b[0;34m\u001b[0m\u001b[0m\n\u001b[0m\u001b[1;32m   1737\u001b[0m \u001b[0;34m\u001b[0m\u001b[0m\n\u001b[1;32m   1738\u001b[0m     \u001b[0;31m# torchrec tests the code consistency with the following code\u001b[0m\u001b[0;34m\u001b[0m\u001b[0;34m\u001b[0m\u001b[0m\n",
      "\u001b[0;32m/usr/local/lib/python3.11/dist-packages/torch/nn/modules/module.py\u001b[0m in \u001b[0;36m_call_impl\u001b[0;34m(self, *args, **kwargs)\u001b[0m\n\u001b[1;32m   1745\u001b[0m                 \u001b[0;32mor\u001b[0m \u001b[0m_global_backward_pre_hooks\u001b[0m \u001b[0;32mor\u001b[0m \u001b[0m_global_backward_hooks\u001b[0m\u001b[0;34m\u001b[0m\u001b[0;34m\u001b[0m\u001b[0m\n\u001b[1;32m   1746\u001b[0m                 or _global_forward_hooks or _global_forward_pre_hooks):\n\u001b[0;32m-> 1747\u001b[0;31m             \u001b[0;32mreturn\u001b[0m \u001b[0mforward_call\u001b[0m\u001b[0;34m(\u001b[0m\u001b[0;34m*\u001b[0m\u001b[0margs\u001b[0m\u001b[0;34m,\u001b[0m \u001b[0;34m**\u001b[0m\u001b[0mkwargs\u001b[0m\u001b[0;34m)\u001b[0m\u001b[0;34m\u001b[0m\u001b[0;34m\u001b[0m\u001b[0m\n\u001b[0m\u001b[1;32m   1748\u001b[0m \u001b[0;34m\u001b[0m\u001b[0m\n\u001b[1;32m   1749\u001b[0m         \u001b[0mresult\u001b[0m \u001b[0;34m=\u001b[0m \u001b[0;32mNone\u001b[0m\u001b[0;34m\u001b[0m\u001b[0;34m\u001b[0m\u001b[0m\n",
      "\u001b[0;32m/usr/local/lib/python3.11/dist-packages/unsloth/models/mistral.py\u001b[0m in \u001b[0;36mMistralForCausalLM_fast_forward\u001b[0;34m(self, input_ids, causal_mask, attention_mask, position_ids, past_key_values, inputs_embeds, labels, use_cache, output_attentions, output_hidden_states, return_dict, num_logits_to_keep, *args, **kwargs)\u001b[0m\n\u001b[1;32m    211\u001b[0m \u001b[0;34m\u001b[0m\u001b[0m\n\u001b[1;32m    212\u001b[0m     \u001b[0;32mif\u001b[0m \u001b[0mpast_key_values\u001b[0m \u001b[0;32mis\u001b[0m \u001b[0;32mnot\u001b[0m \u001b[0;32mNone\u001b[0m\u001b[0;34m:\u001b[0m\u001b[0;34m\u001b[0m\u001b[0;34m\u001b[0m\u001b[0m\n\u001b[0;32m--> 213\u001b[0;31m         outputs = LlamaModel_fast_forward_inference(\n\u001b[0m\u001b[1;32m    214\u001b[0m             \u001b[0mself\u001b[0m\u001b[0;34m,\u001b[0m\u001b[0;34m\u001b[0m\u001b[0;34m\u001b[0m\u001b[0m\n\u001b[1;32m    215\u001b[0m             \u001b[0minput_ids\u001b[0m\u001b[0;34m,\u001b[0m\u001b[0;34m\u001b[0m\u001b[0;34m\u001b[0m\u001b[0m\n",
      "\u001b[0;32m/usr/local/lib/python3.11/dist-packages/unsloth/models/llama.py\u001b[0m in \u001b[0;36mLlamaModel_fast_forward_inference\u001b[0;34m(self, input_ids, past_key_values, position_ids, attention_mask)\u001b[0m\n\u001b[1;32m    959\u001b[0m             \u001b[0mvariance\u001b[0m \u001b[0;34m=\u001b[0m \u001b[0mvariance\u001b[0m\u001b[0;34m,\u001b[0m\u001b[0;34m\u001b[0m\u001b[0;34m\u001b[0m\u001b[0m\n\u001b[1;32m    960\u001b[0m         )\n\u001b[0;32m--> 961\u001b[0;31m         X, present_key_value = LlamaAttention_fast_forward_inference(\n\u001b[0m\u001b[1;32m    962\u001b[0m             \u001b[0mdecoder_layer\u001b[0m\u001b[0;34m.\u001b[0m\u001b[0mself_attn\u001b[0m\u001b[0;34m,\u001b[0m\u001b[0;34m\u001b[0m\u001b[0;34m\u001b[0m\u001b[0m\n\u001b[1;32m    963\u001b[0m             \u001b[0mhidden_states\u001b[0m \u001b[0;34m=\u001b[0m \u001b[0mX\u001b[0m\u001b[0;34m,\u001b[0m\u001b[0;34m\u001b[0m\u001b[0;34m\u001b[0m\u001b[0m\n",
      "\u001b[0;32m/usr/local/lib/python3.11/dist-packages/unsloth/models/llama.py\u001b[0m in \u001b[0;36mLlamaAttention_fast_forward_inference\u001b[0;34m(self, hidden_states, past_key_value, position_ids, do_prefill, attention_mask)\u001b[0m\n\u001b[1;32m    273\u001b[0m     \u001b[0mA\u001b[0m \u001b[0;34m=\u001b[0m \u001b[0mA\u001b[0m\u001b[0;34m.\u001b[0m\u001b[0mtranspose\u001b[0m\u001b[0;34m(\u001b[0m\u001b[0;36m1\u001b[0m\u001b[0;34m,\u001b[0m \u001b[0;36m2\u001b[0m\u001b[0;34m)\u001b[0m\u001b[0;34m\u001b[0m\u001b[0;34m\u001b[0m\u001b[0m\n\u001b[1;32m    274\u001b[0m     \u001b[0mA\u001b[0m \u001b[0;34m=\u001b[0m \u001b[0mA\u001b[0m\u001b[0;34m.\u001b[0m\u001b[0mreshape\u001b[0m\u001b[0;34m(\u001b[0m\u001b[0mbsz\u001b[0m\u001b[0;34m,\u001b[0m \u001b[0;36m1\u001b[0m\u001b[0;34m,\u001b[0m \u001b[0mattention_size\u001b[0m\u001b[0;34m)\u001b[0m\u001b[0;34m\u001b[0m\u001b[0;34m\u001b[0m\u001b[0m\n\u001b[0;32m--> 275\u001b[0;31m     \u001b[0mA\u001b[0m \u001b[0;34m=\u001b[0m \u001b[0mfast_linear_forward\u001b[0m\u001b[0;34m(\u001b[0m\u001b[0mself\u001b[0m\u001b[0;34m.\u001b[0m\u001b[0mo_proj\u001b[0m\u001b[0;34m,\u001b[0m \u001b[0mA\u001b[0m\u001b[0;34m,\u001b[0m \u001b[0mout\u001b[0m \u001b[0;34m=\u001b[0m \u001b[0mself\u001b[0m\u001b[0;34m.\u001b[0m\u001b[0mtemp_O\u001b[0m\u001b[0;34m)\u001b[0m\u001b[0;34m\u001b[0m\u001b[0;34m\u001b[0m\u001b[0m\n\u001b[0m\u001b[1;32m    276\u001b[0m     \u001b[0;32mreturn\u001b[0m \u001b[0mA\u001b[0m\u001b[0;34m,\u001b[0m \u001b[0;34m(\u001b[0m\u001b[0mKn\u001b[0m\u001b[0;34m,\u001b[0m \u001b[0mVn\u001b[0m\u001b[0;34m)\u001b[0m\u001b[0;34m\u001b[0m\u001b[0;34m\u001b[0m\u001b[0m\n\u001b[1;32m    277\u001b[0m \u001b[0;32mpass\u001b[0m\u001b[0;34m\u001b[0m\u001b[0;34m\u001b[0m\u001b[0m\n",
      "\u001b[0;32m/usr/local/lib/python3.11/dist-packages/unsloth/kernels/utils.py\u001b[0m in \u001b[0;36mfast_linear_forward\u001b[0;34m(proj, X, temp_lora, out)\u001b[0m\n\u001b[1;32m    429\u001b[0m             \u001b[0mout\u001b[0m \u001b[0;34m=\u001b[0m \u001b[0mout\u001b[0m\u001b[0;34m.\u001b[0m\u001b[0mview\u001b[0m\u001b[0;34m(\u001b[0m\u001b[0mout_dim\u001b[0m\u001b[0;34m)\u001b[0m\u001b[0;34m\u001b[0m\u001b[0;34m\u001b[0m\u001b[0m\n\u001b[1;32m    430\u001b[0m             \u001b[0mtemp_lora\u001b[0m \u001b[0;34m=\u001b[0m \u001b[0mtorch_mv\u001b[0m\u001b[0;34m(\u001b[0m\u001b[0mlora_A\u001b[0m\u001b[0;34m.\u001b[0m\u001b[0m_fast_lora\u001b[0m\u001b[0;34m,\u001b[0m \u001b[0mX\u001b[0m\u001b[0;34m.\u001b[0m\u001b[0mravel\u001b[0m\u001b[0;34m(\u001b[0m\u001b[0;34m)\u001b[0m\u001b[0;34m,\u001b[0m \u001b[0mout\u001b[0m \u001b[0;34m=\u001b[0m \u001b[0mtemp_lora\u001b[0m\u001b[0;34m)\u001b[0m\u001b[0;34m\u001b[0m\u001b[0;34m\u001b[0m\u001b[0m\n\u001b[0;32m--> 431\u001b[0;31m             \u001b[0mout\u001b[0m\u001b[0;34m.\u001b[0m\u001b[0maddmv_\u001b[0m\u001b[0;34m(\u001b[0m\u001b[0mlora_B\u001b[0m\u001b[0;34m.\u001b[0m\u001b[0m_fast_lora\u001b[0m\u001b[0;34m,\u001b[0m \u001b[0mtemp_lora\u001b[0m\u001b[0;34m,\u001b[0m \u001b[0malpha\u001b[0m \u001b[0;34m=\u001b[0m \u001b[0mlora_S\u001b[0m\u001b[0;34m)\u001b[0m\u001b[0;34m\u001b[0m\u001b[0;34m\u001b[0m\u001b[0m\n\u001b[0m\u001b[1;32m    432\u001b[0m         \u001b[0;32melse\u001b[0m\u001b[0;34m:\u001b[0m\u001b[0;34m\u001b[0m\u001b[0;34m\u001b[0m\u001b[0m\n\u001b[1;32m    433\u001b[0m             \u001b[0mout\u001b[0m \u001b[0;34m=\u001b[0m \u001b[0mout\u001b[0m\u001b[0;34m.\u001b[0m\u001b[0mview\u001b[0m\u001b[0;34m(\u001b[0m\u001b[0mbsz\u001b[0m\u001b[0;34m,\u001b[0m \u001b[0mout_dim\u001b[0m\u001b[0;34m)\u001b[0m\u001b[0;34m\u001b[0m\u001b[0;34m\u001b[0m\u001b[0m\n",
      "\u001b[0;31mKeyboardInterrupt\u001b[0m: "
     ]
    }
   ],
   "source": [
    "from tqdm import tqdm\n",
    "import re\n",
    "test_result = []\n",
    "FastLanguageModel.for_inference(model) # for_inference는 학습을 비활성화시켜서 추론 속도를 2배 빠르게 만듦\n",
    "number = 0\n",
    "for test_i in tqdm(test[\"input\"]):\n",
    "  # 모델 테스트 모듈\n",
    "  number += 1\n",
    "  inputs = tokenizer(\n",
    "  [\n",
    "      alpaca_prompt.format(\n",
    "          f\"\"\"{test_i}\"\"\", # 질문\n",
    "          \"\",                                              # 생성된 답변칸 비어두기\n",
    "      )\n",
    "  ], return_tensors = \"pt\").to(\"cuda\") # PyTorch 텐서, GPU사용\n",
    "\n",
    "  outputs = model.generate(**inputs,            # 이전 입력값\n",
    "                           max_new_tokens = 1096, # 최대 64개의 단어\n",
    "                           stopping_criteria=stopping_criteria)    # 캐싱을 사용하여 이전 결과 저장\n",
    "\n",
    "  t =tokenizer.batch_decode(outputs,skip_special_tokens=True)[0]\n",
    "  #print(t)\n",
    "  match = re.search(r'Response:\\n\\s*(.*)', t, re.DOTALL)\n",
    "  if match:\n",
    "    output_text = match.group(1).strip()\n",
    "    #print(f\"[0]:{output_text}\")\n",
    "  else:\n",
    "    #print(f\"[1]:{t}\")\n",
    "    output_text = test_i\n",
    "  print(f\"{number} : {output_text}\")\n",
    "  test_result.append(output_text)\n"
   ]
  },
  {
   "cell_type": "markdown",
   "metadata": {},
   "source": [
    "## 11. 제출 csv만들기"
   ]
  },
  {
   "cell_type": "code",
   "execution_count": 18,
   "metadata": {
    "executionInfo": {
     "elapsed": 1475,
     "status": "ok",
     "timestamp": 1739509164518,
     "user": {
      "displayName": "송채원",
      "userId": "07880515647457255886"
     },
     "user_tz": -540
    },
    "id": "emeoteaobS-N"
   },
   "outputs": [],
   "source": [
    "submission = pd.read_csv('./extracted_files/sample_submission.csv', encoding = 'utf-8-sig')"
   ]
  },
  {
   "cell_type": "code",
   "execution_count": 19,
   "metadata": {
    "executionInfo": {
     "elapsed": 4,
     "status": "ok",
     "timestamp": 1739509167592,
     "user": {
      "displayName": "송채원",
      "userId": "07880515647457255886"
     },
     "user_tz": -540
    },
    "id": "Q7e5rG6abaeI"
   },
   "outputs": [],
   "source": [
    "submission['output'] = test_result"
   ]
  },
  {
   "cell_type": "code",
   "execution_count": 20,
   "metadata": {
    "colab": {
     "base_uri": "https://localhost:8080/",
     "height": 423
    },
    "executionInfo": {
     "elapsed": 7,
     "status": "ok",
     "timestamp": 1739509169441,
     "user": {
      "displayName": "송채원",
      "userId": "07880515647457255886"
     },
     "user_tz": -540
    },
    "id": "Oe6KVRMDmRDC",
    "outputId": "0352adf3-ff16-4959-b90d-ac5e17fc61b2"
   },
   "outputs": [
    {
     "data": {
      "application/vnd.google.colaboratory.intrinsic+json": {
       "summary": "{\n  \"name\": \"submission\",\n  \"rows\": 1689,\n  \"fields\": [\n    {\n      \"column\": \"ID\",\n      \"properties\": {\n        \"dtype\": \"string\",\n        \"num_unique_values\": 1689,\n        \"samples\": [\n          \"TEST_0988\",\n          \"TEST_1634\",\n          \"TEST_0752\"\n        ],\n        \"semantic_type\": \"\",\n        \"description\": \"\"\n      }\n    },\n    {\n      \"column\": \"output\",\n      \"properties\": {\n        \"dtype\": \"string\",\n        \"num_unique_values\": 1688,\n        \"samples\": [\n          \"\\uad00\\ub9ac\\ud558\\uc2dc\\ub294 \\ubd84\\ub4e4\\ub3c4 \\ucc29\\ud558\\uc2dc\\uace0 \\ubaa8\\ub4e0 \\uc2dc\\uc124\\uc774 \\uae68\\ub057\\ud574\\uc694~~ \\ub2e4\\uc74c\\uc5d0\\ub3c4 \\ub610 \\ub180\\ub7ec \\uc62c \\uac83 \\uac19\\uc544\\uc694\",\n          \"\\ubc29\\uc548\\uc5d0\\ub294 \\ucc3d\\ubb38\\uc774 \\uc5c6\\uc2b5\\ub2c8\\ub2e4. \\ud63c\\uc790 \\uc624\\uc168\\ub2e4\\uba74 2\\uc778\\uc2e4\\uc744 \\ucd94\\ucc9c\\ub4dc\\ub9bd\\ub2c8\\ub2e4. \\uacc4\\ub2e8\\ub9cc \\uc788\\uc2b5\\ub2c8\\ub2e4. \\uacf5\\uc6a9 \\uc2e4\\ub0b4\\ud654\\ub97c \\uc0ac\\uc6a9\\ud574\\uc57c \\ud569\\ub2c8\\ub2e4. 3\\uce35\\uc5d0\\uc11c \\uccb4\\ud06c\\uc778\\ud558\\uace0 4\\uce35\\uc5d0\\uc11c \\ubb35\\uc5c8\\uc5b4\\uc694. 2\\uce35\\uc740 \\ud638\\ud504\\uc9d1\\uc785\\ub2c8\\ub2e4. \\uc0dd\\uac01\\ubcf4\\ub2e4 \\uc2dc\\ub044\\ub7fd\\uc9c0 \\uc54a\\uace0 \\uc678\\uad6d\\uc778\\ub4e4\\uc774 \\ub9ce\\uc774 \\uc635\\ub2c8\\ub2e4. 5\\uc6d4\\uc778\\ub370 \\ubaa8\\uae30\\uac00 \\uc788\\uc2b5\\ub2c8\\ub2e4.\",\n          \"\\uc544\\uc8fc \\uc88b\\uc2b5\\ub2c8\\ub2e4. \\uc870\\uc2dd\\ub3c4 \\ub9ce\\uc558\\ub124\\uc694. \\uac00\\uc131\\ube44 \\ucd5c\\uace0^^\"\n        ],\n        \"semantic_type\": \"\",\n        \"description\": \"\"\n      }\n    }\n  ]\n}",
       "type": "dataframe",
       "variable_name": "submission"
      },
      "text/html": [
       "\n",
       "  <div id=\"df-974825b0-b017-4ee9-8c61-a7712051bde4\" class=\"colab-df-container\">\n",
       "    <div>\n",
       "<style scoped>\n",
       "    .dataframe tbody tr th:only-of-type {\n",
       "        vertical-align: middle;\n",
       "    }\n",
       "\n",
       "    .dataframe tbody tr th {\n",
       "        vertical-align: top;\n",
       "    }\n",
       "\n",
       "    .dataframe thead th {\n",
       "        text-align: right;\n",
       "    }\n",
       "</style>\n",
       "<table border=\"1\" class=\"dataframe\">\n",
       "  <thead>\n",
       "    <tr style=\"text-align: right;\">\n",
       "      <th></th>\n",
       "      <th>ID</th>\n",
       "      <th>output</th>\n",
       "    </tr>\n",
       "  </thead>\n",
       "  <tbody>\n",
       "    <tr>\n",
       "      <th>0</th>\n",
       "      <td>TEST_0000</td>\n",
       "      <td>너무너무 만족스러운 호텔이에요. 부산에 오면 꼭 추천하고 싶은 곳이에요. 최고입니다...</td>\n",
       "    </tr>\n",
       "    <tr>\n",
       "      <th>1</th>\n",
       "      <td>TEST_0001</td>\n",
       "      <td>프론트가 없고, 조식도 없으며, 일반 입주민들이 사이사이에 있어 호텔처럼 관리가 잘...</td>\n",
       "    </tr>\n",
       "    <tr>\n",
       "      <th>2</th>\n",
       "      <td>TEST_0002</td>\n",
       "      <td>진짜 불친절해요. 살면서 머물렀던 호텔 중에 최악이었습니다. 직원이지 사장인지 체크...</td>\n",
       "    </tr>\n",
       "    <tr>\n",
       "      <th>3</th>\n",
       "      <td>TEST_0003</td>\n",
       "      <td>뷰 맛집~~ 그런데 방음이 미흡하네요. 층간 소음과 발코니가 이중창이 아니라서 밤에...</td>\n",
       "    </tr>\n",
       "    <tr>\n",
       "      <th>4</th>\n",
       "      <td>TEST_0004</td>\n",
       "      <td>방 상태는 진짜 폐허 지저니데 전망은 좋아요. 보일러가 아주 잔잔하게 돌아서 추웠어...</td>\n",
       "    </tr>\n",
       "    <tr>\n",
       "      <th>...</th>\n",
       "      <td>...</td>\n",
       "      <td>...</td>\n",
       "    </tr>\n",
       "    <tr>\n",
       "      <th>1684</th>\n",
       "      <td>TEST_1684</td>\n",
       "      <td>일반실 5만원이고, 프리미엄 6만원짜리는 스타일러스, 안마기도 있고, PC도 있지만...</td>\n",
       "    </tr>\n",
       "    <tr>\n",
       "      <th>1685</th>\n",
       "      <td>TEST_1685</td>\n",
       "      <td>일단 방은 이쁘고, 배달 음식은 금지여서 (외인지는 이문..) 룸서비스랑 조식으로 ...</td>\n",
       "    </tr>\n",
       "    <tr>\n",
       "      <th>1686</th>\n",
       "      <td>TEST_1686</td>\n",
       "      <td>웬만하면 다시 안 올 예정입니다. 거울 외풍이 있습니다. 시골. 이건 뭐, 관리할 ...</td>\n",
       "    </tr>\n",
       "    <tr>\n",
       "      <th>1687</th>\n",
       "      <td>TEST_1687</td>\n",
       "      <td>도착 후 크게 기대하지 않았는데 직원분들이 친절하시고 2박 머무는 동안 매일 객실도...</td>\n",
       "    </tr>\n",
       "    <tr>\n",
       "      <th>1688</th>\n",
       "      <td>TEST_1688</td>\n",
       "      <td>친구들이랑 멀티플렉스룸에서 투숙했는데 넓기도 넓고 게임할 것도 많아서 좋았어요. 친...</td>\n",
       "    </tr>\n",
       "  </tbody>\n",
       "</table>\n",
       "<p>1689 rows × 2 columns</p>\n",
       "</div>\n",
       "    <div class=\"colab-df-buttons\">\n",
       "\n",
       "  <div class=\"colab-df-container\">\n",
       "    <button class=\"colab-df-convert\" onclick=\"convertToInteractive('df-974825b0-b017-4ee9-8c61-a7712051bde4')\"\n",
       "            title=\"Convert this dataframe to an interactive table.\"\n",
       "            style=\"display:none;\">\n",
       "\n",
       "  <svg xmlns=\"http://www.w3.org/2000/svg\" height=\"24px\" viewBox=\"0 -960 960 960\">\n",
       "    <path d=\"M120-120v-720h720v720H120Zm60-500h600v-160H180v160Zm220 220h160v-160H400v160Zm0 220h160v-160H400v160ZM180-400h160v-160H180v160Zm440 0h160v-160H620v160ZM180-180h160v-160H180v160Zm440 0h160v-160H620v160Z\"/>\n",
       "  </svg>\n",
       "    </button>\n",
       "\n",
       "  <style>\n",
       "    .colab-df-container {\n",
       "      display:flex;\n",
       "      gap: 12px;\n",
       "    }\n",
       "\n",
       "    .colab-df-convert {\n",
       "      background-color: #E8F0FE;\n",
       "      border: none;\n",
       "      border-radius: 50%;\n",
       "      cursor: pointer;\n",
       "      display: none;\n",
       "      fill: #1967D2;\n",
       "      height: 32px;\n",
       "      padding: 0 0 0 0;\n",
       "      width: 32px;\n",
       "    }\n",
       "\n",
       "    .colab-df-convert:hover {\n",
       "      background-color: #E2EBFA;\n",
       "      box-shadow: 0px 1px 2px rgba(60, 64, 67, 0.3), 0px 1px 3px 1px rgba(60, 64, 67, 0.15);\n",
       "      fill: #174EA6;\n",
       "    }\n",
       "\n",
       "    .colab-df-buttons div {\n",
       "      margin-bottom: 4px;\n",
       "    }\n",
       "\n",
       "    [theme=dark] .colab-df-convert {\n",
       "      background-color: #3B4455;\n",
       "      fill: #D2E3FC;\n",
       "    }\n",
       "\n",
       "    [theme=dark] .colab-df-convert:hover {\n",
       "      background-color: #434B5C;\n",
       "      box-shadow: 0px 1px 3px 1px rgba(0, 0, 0, 0.15);\n",
       "      filter: drop-shadow(0px 1px 2px rgba(0, 0, 0, 0.3));\n",
       "      fill: #FFFFFF;\n",
       "    }\n",
       "  </style>\n",
       "\n",
       "    <script>\n",
       "      const buttonEl =\n",
       "        document.querySelector('#df-974825b0-b017-4ee9-8c61-a7712051bde4 button.colab-df-convert');\n",
       "      buttonEl.style.display =\n",
       "        google.colab.kernel.accessAllowed ? 'block' : 'none';\n",
       "\n",
       "      async function convertToInteractive(key) {\n",
       "        const element = document.querySelector('#df-974825b0-b017-4ee9-8c61-a7712051bde4');\n",
       "        const dataTable =\n",
       "          await google.colab.kernel.invokeFunction('convertToInteractive',\n",
       "                                                    [key], {});\n",
       "        if (!dataTable) return;\n",
       "\n",
       "        const docLinkHtml = 'Like what you see? Visit the ' +\n",
       "          '<a target=\"_blank\" href=https://colab.research.google.com/notebooks/data_table.ipynb>data table notebook</a>'\n",
       "          + ' to learn more about interactive tables.';\n",
       "        element.innerHTML = '';\n",
       "        dataTable['output_type'] = 'display_data';\n",
       "        await google.colab.output.renderOutput(dataTable, element);\n",
       "        const docLink = document.createElement('div');\n",
       "        docLink.innerHTML = docLinkHtml;\n",
       "        element.appendChild(docLink);\n",
       "      }\n",
       "    </script>\n",
       "  </div>\n",
       "\n",
       "\n",
       "<div id=\"df-277507c6-a842-4ac7-8107-7a21c89f0cc4\">\n",
       "  <button class=\"colab-df-quickchart\" onclick=\"quickchart('df-277507c6-a842-4ac7-8107-7a21c89f0cc4')\"\n",
       "            title=\"Suggest charts\"\n",
       "            style=\"display:none;\">\n",
       "\n",
       "<svg xmlns=\"http://www.w3.org/2000/svg\" height=\"24px\"viewBox=\"0 0 24 24\"\n",
       "     width=\"24px\">\n",
       "    <g>\n",
       "        <path d=\"M19 3H5c-1.1 0-2 .9-2 2v14c0 1.1.9 2 2 2h14c1.1 0 2-.9 2-2V5c0-1.1-.9-2-2-2zM9 17H7v-7h2v7zm4 0h-2V7h2v10zm4 0h-2v-4h2v4z\"/>\n",
       "    </g>\n",
       "</svg>\n",
       "  </button>\n",
       "\n",
       "<style>\n",
       "  .colab-df-quickchart {\n",
       "      --bg-color: #E8F0FE;\n",
       "      --fill-color: #1967D2;\n",
       "      --hover-bg-color: #E2EBFA;\n",
       "      --hover-fill-color: #174EA6;\n",
       "      --disabled-fill-color: #AAA;\n",
       "      --disabled-bg-color: #DDD;\n",
       "  }\n",
       "\n",
       "  [theme=dark] .colab-df-quickchart {\n",
       "      --bg-color: #3B4455;\n",
       "      --fill-color: #D2E3FC;\n",
       "      --hover-bg-color: #434B5C;\n",
       "      --hover-fill-color: #FFFFFF;\n",
       "      --disabled-bg-color: #3B4455;\n",
       "      --disabled-fill-color: #666;\n",
       "  }\n",
       "\n",
       "  .colab-df-quickchart {\n",
       "    background-color: var(--bg-color);\n",
       "    border: none;\n",
       "    border-radius: 50%;\n",
       "    cursor: pointer;\n",
       "    display: none;\n",
       "    fill: var(--fill-color);\n",
       "    height: 32px;\n",
       "    padding: 0;\n",
       "    width: 32px;\n",
       "  }\n",
       "\n",
       "  .colab-df-quickchart:hover {\n",
       "    background-color: var(--hover-bg-color);\n",
       "    box-shadow: 0 1px 2px rgba(60, 64, 67, 0.3), 0 1px 3px 1px rgba(60, 64, 67, 0.15);\n",
       "    fill: var(--button-hover-fill-color);\n",
       "  }\n",
       "\n",
       "  .colab-df-quickchart-complete:disabled,\n",
       "  .colab-df-quickchart-complete:disabled:hover {\n",
       "    background-color: var(--disabled-bg-color);\n",
       "    fill: var(--disabled-fill-color);\n",
       "    box-shadow: none;\n",
       "  }\n",
       "\n",
       "  .colab-df-spinner {\n",
       "    border: 2px solid var(--fill-color);\n",
       "    border-color: transparent;\n",
       "    border-bottom-color: var(--fill-color);\n",
       "    animation:\n",
       "      spin 1s steps(1) infinite;\n",
       "  }\n",
       "\n",
       "  @keyframes spin {\n",
       "    0% {\n",
       "      border-color: transparent;\n",
       "      border-bottom-color: var(--fill-color);\n",
       "      border-left-color: var(--fill-color);\n",
       "    }\n",
       "    20% {\n",
       "      border-color: transparent;\n",
       "      border-left-color: var(--fill-color);\n",
       "      border-top-color: var(--fill-color);\n",
       "    }\n",
       "    30% {\n",
       "      border-color: transparent;\n",
       "      border-left-color: var(--fill-color);\n",
       "      border-top-color: var(--fill-color);\n",
       "      border-right-color: var(--fill-color);\n",
       "    }\n",
       "    40% {\n",
       "      border-color: transparent;\n",
       "      border-right-color: var(--fill-color);\n",
       "      border-top-color: var(--fill-color);\n",
       "    }\n",
       "    60% {\n",
       "      border-color: transparent;\n",
       "      border-right-color: var(--fill-color);\n",
       "    }\n",
       "    80% {\n",
       "      border-color: transparent;\n",
       "      border-right-color: var(--fill-color);\n",
       "      border-bottom-color: var(--fill-color);\n",
       "    }\n",
       "    90% {\n",
       "      border-color: transparent;\n",
       "      border-bottom-color: var(--fill-color);\n",
       "    }\n",
       "  }\n",
       "</style>\n",
       "\n",
       "  <script>\n",
       "    async function quickchart(key) {\n",
       "      const quickchartButtonEl =\n",
       "        document.querySelector('#' + key + ' button');\n",
       "      quickchartButtonEl.disabled = true;  // To prevent multiple clicks.\n",
       "      quickchartButtonEl.classList.add('colab-df-spinner');\n",
       "      try {\n",
       "        const charts = await google.colab.kernel.invokeFunction(\n",
       "            'suggestCharts', [key], {});\n",
       "      } catch (error) {\n",
       "        console.error('Error during call to suggestCharts:', error);\n",
       "      }\n",
       "      quickchartButtonEl.classList.remove('colab-df-spinner');\n",
       "      quickchartButtonEl.classList.add('colab-df-quickchart-complete');\n",
       "    }\n",
       "    (() => {\n",
       "      let quickchartButtonEl =\n",
       "        document.querySelector('#df-277507c6-a842-4ac7-8107-7a21c89f0cc4 button');\n",
       "      quickchartButtonEl.style.display =\n",
       "        google.colab.kernel.accessAllowed ? 'block' : 'none';\n",
       "    })();\n",
       "  </script>\n",
       "</div>\n",
       "\n",
       "  <div id=\"id_ed40eea9-3104-4c5f-aba6-57972345f9c5\">\n",
       "    <style>\n",
       "      .colab-df-generate {\n",
       "        background-color: #E8F0FE;\n",
       "        border: none;\n",
       "        border-radius: 50%;\n",
       "        cursor: pointer;\n",
       "        display: none;\n",
       "        fill: #1967D2;\n",
       "        height: 32px;\n",
       "        padding: 0 0 0 0;\n",
       "        width: 32px;\n",
       "      }\n",
       "\n",
       "      .colab-df-generate:hover {\n",
       "        background-color: #E2EBFA;\n",
       "        box-shadow: 0px 1px 2px rgba(60, 64, 67, 0.3), 0px 1px 3px 1px rgba(60, 64, 67, 0.15);\n",
       "        fill: #174EA6;\n",
       "      }\n",
       "\n",
       "      [theme=dark] .colab-df-generate {\n",
       "        background-color: #3B4455;\n",
       "        fill: #D2E3FC;\n",
       "      }\n",
       "\n",
       "      [theme=dark] .colab-df-generate:hover {\n",
       "        background-color: #434B5C;\n",
       "        box-shadow: 0px 1px 3px 1px rgba(0, 0, 0, 0.15);\n",
       "        filter: drop-shadow(0px 1px 2px rgba(0, 0, 0, 0.3));\n",
       "        fill: #FFFFFF;\n",
       "      }\n",
       "    </style>\n",
       "    <button class=\"colab-df-generate\" onclick=\"generateWithVariable('submission')\"\n",
       "            title=\"Generate code using this dataframe.\"\n",
       "            style=\"display:none;\">\n",
       "\n",
       "  <svg xmlns=\"http://www.w3.org/2000/svg\" height=\"24px\"viewBox=\"0 0 24 24\"\n",
       "       width=\"24px\">\n",
       "    <path d=\"M7,19H8.4L18.45,9,17,7.55,7,17.6ZM5,21V16.75L18.45,3.32a2,2,0,0,1,2.83,0l1.4,1.43a1.91,1.91,0,0,1,.58,1.4,1.91,1.91,0,0,1-.58,1.4L9.25,21ZM18.45,9,17,7.55Zm-12,3A5.31,5.31,0,0,0,4.9,8.1,5.31,5.31,0,0,0,1,6.5,5.31,5.31,0,0,0,4.9,4.9,5.31,5.31,0,0,0,6.5,1,5.31,5.31,0,0,0,8.1,4.9,5.31,5.31,0,0,0,12,6.5,5.46,5.46,0,0,0,6.5,12Z\"/>\n",
       "  </svg>\n",
       "    </button>\n",
       "    <script>\n",
       "      (() => {\n",
       "      const buttonEl =\n",
       "        document.querySelector('#id_ed40eea9-3104-4c5f-aba6-57972345f9c5 button.colab-df-generate');\n",
       "      buttonEl.style.display =\n",
       "        google.colab.kernel.accessAllowed ? 'block' : 'none';\n",
       "\n",
       "      buttonEl.onclick = () => {\n",
       "        google.colab.notebook.generateWithVariable('submission');\n",
       "      }\n",
       "      })();\n",
       "    </script>\n",
       "  </div>\n",
       "\n",
       "    </div>\n",
       "  </div>\n"
      ],
      "text/plain": [
       "             ID                                             output\n",
       "0     TEST_0000  너무너무 만족스러운 호텔이에요. 부산에 오면 꼭 추천하고 싶은 곳이에요. 최고입니다...\n",
       "1     TEST_0001  프론트가 없고, 조식도 없으며, 일반 입주민들이 사이사이에 있어 호텔처럼 관리가 잘...\n",
       "2     TEST_0002  진짜 불친절해요. 살면서 머물렀던 호텔 중에 최악이었습니다. 직원이지 사장인지 체크...\n",
       "3     TEST_0003  뷰 맛집~~ 그런데 방음이 미흡하네요. 층간 소음과 발코니가 이중창이 아니라서 밤에...\n",
       "4     TEST_0004  방 상태는 진짜 폐허 지저니데 전망은 좋아요. 보일러가 아주 잔잔하게 돌아서 추웠어...\n",
       "...         ...                                                ...\n",
       "1684  TEST_1684  일반실 5만원이고, 프리미엄 6만원짜리는 스타일러스, 안마기도 있고, PC도 있지만...\n",
       "1685  TEST_1685  일단 방은 이쁘고, 배달 음식은 금지여서 (외인지는 이문..) 룸서비스랑 조식으로 ...\n",
       "1686  TEST_1686  웬만하면 다시 안 올 예정입니다. 거울 외풍이 있습니다. 시골. 이건 뭐, 관리할 ...\n",
       "1687  TEST_1687  도착 후 크게 기대하지 않았는데 직원분들이 친절하시고 2박 머무는 동안 매일 객실도...\n",
       "1688  TEST_1688  친구들이랑 멀티플렉스룸에서 투숙했는데 넓기도 넓고 게임할 것도 많아서 좋았어요. 친...\n",
       "\n",
       "[1689 rows x 2 columns]"
      ]
     },
     "execution_count": 20,
     "metadata": {},
     "output_type": "execute_result"
    }
   ],
   "source": [
    "submission"
   ]
  },
  {
   "cell_type": "code",
   "execution_count": null,
   "metadata": {
    "executionInfo": {
     "elapsed": 516,
     "status": "ok",
     "timestamp": 1739509178755,
     "user": {
      "displayName": "송채원",
      "userId": "07880515647457255886"
     },
     "user_tz": -540
    },
    "id": "aJETPKxHblHc"
   },
   "outputs": [],
   "source": [
    "submission.to_csv('/content/drive/MyDrive/한글리뷰/20250214_unslothlamma한국어학습성공(mistralai)3000steps_ori.csv', index = False, encoding = 'utf-8-sig')"
   ]
  }
 ],
 "metadata": {
  "accelerator": "GPU",
  "colab": {
   "authorship_tag": "ABX9TyPuJQ4oWkNXKH1xrVJ7qwTx",
   "gpuType": "A100",
   "machine_shape": "hm",
   "provenance": []
  },
  "kernelspec": {
   "display_name": "Python 3",
   "name": "python3"
  },
  "language_info": {
   "name": "python"
  },
  "widgets": {
   "application/vnd.jupyter.widget-state+json": {
    "0326f3ee95bc4b30b1e708ef1328464d": {
     "model_module": "@jupyter-widgets/controls",
     "model_module_version": "1.5.0",
     "model_name": "DescriptionStyleModel",
     "state": {
      "_model_module": "@jupyter-widgets/controls",
      "_model_module_version": "1.5.0",
      "_model_name": "DescriptionStyleModel",
      "_view_count": null,
      "_view_module": "@jupyter-widgets/base",
      "_view_module_version": "1.2.0",
      "_view_name": "StyleView",
      "description_width": ""
     }
    },
    "03c39a9cd051431d8769dcac759de326": {
     "model_module": "@jupyter-widgets/controls",
     "model_module_version": "1.5.0",
     "model_name": "DescriptionStyleModel",
     "state": {
      "_model_module": "@jupyter-widgets/controls",
      "_model_module_version": "1.5.0",
      "_model_name": "DescriptionStyleModel",
      "_view_count": null,
      "_view_module": "@jupyter-widgets/base",
      "_view_module_version": "1.2.0",
      "_view_name": "StyleView",
      "description_width": ""
     }
    },
    "04b31beda03241f09e8d693e59064bd7": {
     "model_module": "@jupyter-widgets/controls",
     "model_module_version": "1.5.0",
     "model_name": "HTMLModel",
     "state": {
      "_dom_classes": [],
      "_model_module": "@jupyter-widgets/controls",
      "_model_module_version": "1.5.0",
      "_model_name": "HTMLModel",
      "_view_count": null,
      "_view_module": "@jupyter-widgets/controls",
      "_view_module_version": "1.5.0",
      "_view_name": "HTMLView",
      "description": "",
      "description_tooltip": null,
      "layout": "IPY_MODEL_c6a853fa567e4ccab941a1b70b3575e0",
      "placeholder": "​",
      "style": "IPY_MODEL_0326f3ee95bc4b30b1e708ef1328464d",
      "value": "Loading checkpoint shards: 100%"
     }
    },
    "06b9a47137fd4f059da7fc46b0fa412a": {
     "model_module": "@jupyter-widgets/controls",
     "model_module_version": "1.5.0",
     "model_name": "HBoxModel",
     "state": {
      "_dom_classes": [],
      "_model_module": "@jupyter-widgets/controls",
      "_model_module_version": "1.5.0",
      "_model_name": "HBoxModel",
      "_view_count": null,
      "_view_module": "@jupyter-widgets/controls",
      "_view_module_version": "1.5.0",
      "_view_name": "HBoxView",
      "box_style": "",
      "children": [
       "IPY_MODEL_e5c36de53dc14524b881ba733d869fba",
       "IPY_MODEL_875acc3dfbcb4552a95829be5fadf9e8",
       "IPY_MODEL_4c09e73bf6424f03999abcc60c046e73"
      ],
      "layout": "IPY_MODEL_dcdccabd770e486f92f7c6ce359d3b11"
     }
    },
    "08efafb6cd3a4f9bb61520ebeb79fffa": {
     "model_module": "@jupyter-widgets/base",
     "model_module_version": "1.2.0",
     "model_name": "LayoutModel",
     "state": {
      "_model_module": "@jupyter-widgets/base",
      "_model_module_version": "1.2.0",
      "_model_name": "LayoutModel",
      "_view_count": null,
      "_view_module": "@jupyter-widgets/base",
      "_view_module_version": "1.2.0",
      "_view_name": "LayoutView",
      "align_content": null,
      "align_items": null,
      "align_self": null,
      "border": null,
      "bottom": null,
      "display": null,
      "flex": null,
      "flex_flow": null,
      "grid_area": null,
      "grid_auto_columns": null,
      "grid_auto_flow": null,
      "grid_auto_rows": null,
      "grid_column": null,
      "grid_gap": null,
      "grid_row": null,
      "grid_template_areas": null,
      "grid_template_columns": null,
      "grid_template_rows": null,
      "height": null,
      "justify_content": null,
      "justify_items": null,
      "left": null,
      "margin": null,
      "max_height": null,
      "max_width": null,
      "min_height": null,
      "min_width": null,
      "object_fit": null,
      "object_position": null,
      "order": null,
      "overflow": null,
      "overflow_x": null,
      "overflow_y": null,
      "padding": null,
      "right": null,
      "top": null,
      "visibility": null,
      "width": null
     }
    },
    "0a41be52f50040678a95774cd61bde9c": {
     "model_module": "@jupyter-widgets/controls",
     "model_module_version": "1.5.0",
     "model_name": "DescriptionStyleModel",
     "state": {
      "_model_module": "@jupyter-widgets/controls",
      "_model_module_version": "1.5.0",
      "_model_name": "DescriptionStyleModel",
      "_view_count": null,
      "_view_module": "@jupyter-widgets/base",
      "_view_module_version": "1.2.0",
      "_view_name": "StyleView",
      "description_width": ""
     }
    },
    "0f8d35bf001e4ade995eff62bfb4b4be": {
     "model_module": "@jupyter-widgets/controls",
     "model_module_version": "1.5.0",
     "model_name": "HTMLModel",
     "state": {
      "_dom_classes": [],
      "_model_module": "@jupyter-widgets/controls",
      "_model_module_version": "1.5.0",
      "_model_name": "HTMLModel",
      "_view_count": null,
      "_view_module": "@jupyter-widgets/controls",
      "_view_module_version": "1.5.0",
      "_view_name": "HTMLView",
      "description": "",
      "description_tooltip": null,
      "layout": "IPY_MODEL_2ad7cd079f444a77be8c57da5003f2f2",
      "placeholder": "​",
      "style": "IPY_MODEL_1c3aa85abd094af08dc898c6ea1a9029",
      "value": "Map: 100%"
     }
    },
    "101bc373cf8649b283faa3b7d7361abe": {
     "model_module": "@jupyter-widgets/controls",
     "model_module_version": "1.5.0",
     "model_name": "FloatProgressModel",
     "state": {
      "_dom_classes": [],
      "_model_module": "@jupyter-widgets/controls",
      "_model_module_version": "1.5.0",
      "_model_name": "FloatProgressModel",
      "_view_count": null,
      "_view_module": "@jupyter-widgets/controls",
      "_view_module_version": "1.5.0",
      "_view_name": "ProgressView",
      "bar_style": "success",
      "description": "",
      "description_tooltip": null,
      "layout": "IPY_MODEL_b6b4d1555bc7409f87c4a232f96f8536",
      "max": 3,
      "min": 0,
      "orientation": "horizontal",
      "style": "IPY_MODEL_35ce7e38c3f04a4b8df22e483ae49d95",
      "value": 3
     }
    },
    "1c3aa85abd094af08dc898c6ea1a9029": {
     "model_module": "@jupyter-widgets/controls",
     "model_module_version": "1.5.0",
     "model_name": "DescriptionStyleModel",
     "state": {
      "_model_module": "@jupyter-widgets/controls",
      "_model_module_version": "1.5.0",
      "_model_name": "DescriptionStyleModel",
      "_view_count": null,
      "_view_module": "@jupyter-widgets/base",
      "_view_module_version": "1.2.0",
      "_view_name": "StyleView",
      "description_width": ""
     }
    },
    "203e305d1a20482580dc2f922d67dfba": {
     "model_module": "@jupyter-widgets/controls",
     "model_module_version": "1.5.0",
     "model_name": "HTMLModel",
     "state": {
      "_dom_classes": [],
      "_model_module": "@jupyter-widgets/controls",
      "_model_module_version": "1.5.0",
      "_model_name": "HTMLModel",
      "_view_count": null,
      "_view_module": "@jupyter-widgets/controls",
      "_view_module_version": "1.5.0",
      "_view_name": "HTMLView",
      "description": "",
      "description_tooltip": null,
      "layout": "IPY_MODEL_b1317501d3ec43c99f444c37ab047d81",
      "placeholder": "​",
      "style": "IPY_MODEL_8a1d254a0111463dafbc7cdb4f97277c",
      "value": "Loading checkpoint shards: 100%"
     }
    },
    "245d4d5067944c388e33cc34aefac67d": {
     "model_module": "@jupyter-widgets/controls",
     "model_module_version": "1.5.0",
     "model_name": "ProgressStyleModel",
     "state": {
      "_model_module": "@jupyter-widgets/controls",
      "_model_module_version": "1.5.0",
      "_model_name": "ProgressStyleModel",
      "_view_count": null,
      "_view_module": "@jupyter-widgets/base",
      "_view_module_version": "1.2.0",
      "_view_name": "StyleView",
      "bar_color": null,
      "description_width": ""
     }
    },
    "2ad7cd079f444a77be8c57da5003f2f2": {
     "model_module": "@jupyter-widgets/base",
     "model_module_version": "1.2.0",
     "model_name": "LayoutModel",
     "state": {
      "_model_module": "@jupyter-widgets/base",
      "_model_module_version": "1.2.0",
      "_model_name": "LayoutModel",
      "_view_count": null,
      "_view_module": "@jupyter-widgets/base",
      "_view_module_version": "1.2.0",
      "_view_name": "LayoutView",
      "align_content": null,
      "align_items": null,
      "align_self": null,
      "border": null,
      "bottom": null,
      "display": null,
      "flex": null,
      "flex_flow": null,
      "grid_area": null,
      "grid_auto_columns": null,
      "grid_auto_flow": null,
      "grid_auto_rows": null,
      "grid_column": null,
      "grid_gap": null,
      "grid_row": null,
      "grid_template_areas": null,
      "grid_template_columns": null,
      "grid_template_rows": null,
      "height": null,
      "justify_content": null,
      "justify_items": null,
      "left": null,
      "margin": null,
      "max_height": null,
      "max_width": null,
      "min_height": null,
      "min_width": null,
      "object_fit": null,
      "object_position": null,
      "order": null,
      "overflow": null,
      "overflow_x": null,
      "overflow_y": null,
      "padding": null,
      "right": null,
      "top": null,
      "visibility": null,
      "width": null
     }
    },
    "35ce7e38c3f04a4b8df22e483ae49d95": {
     "model_module": "@jupyter-widgets/controls",
     "model_module_version": "1.5.0",
     "model_name": "ProgressStyleModel",
     "state": {
      "_model_module": "@jupyter-widgets/controls",
      "_model_module_version": "1.5.0",
      "_model_name": "ProgressStyleModel",
      "_view_count": null,
      "_view_module": "@jupyter-widgets/base",
      "_view_module_version": "1.2.0",
      "_view_name": "StyleView",
      "bar_color": null,
      "description_width": ""
     }
    },
    "361fa765dca743d58efd25eb93dc836d": {
     "model_module": "@jupyter-widgets/base",
     "model_module_version": "1.2.0",
     "model_name": "LayoutModel",
     "state": {
      "_model_module": "@jupyter-widgets/base",
      "_model_module_version": "1.2.0",
      "_model_name": "LayoutModel",
      "_view_count": null,
      "_view_module": "@jupyter-widgets/base",
      "_view_module_version": "1.2.0",
      "_view_name": "LayoutView",
      "align_content": null,
      "align_items": null,
      "align_self": null,
      "border": null,
      "bottom": null,
      "display": null,
      "flex": null,
      "flex_flow": null,
      "grid_area": null,
      "grid_auto_columns": null,
      "grid_auto_flow": null,
      "grid_auto_rows": null,
      "grid_column": null,
      "grid_gap": null,
      "grid_row": null,
      "grid_template_areas": null,
      "grid_template_columns": null,
      "grid_template_rows": null,
      "height": null,
      "justify_content": null,
      "justify_items": null,
      "left": null,
      "margin": null,
      "max_height": null,
      "max_width": null,
      "min_height": null,
      "min_width": null,
      "object_fit": null,
      "object_position": null,
      "order": null,
      "overflow": null,
      "overflow_x": null,
      "overflow_y": null,
      "padding": null,
      "right": null,
      "top": null,
      "visibility": null,
      "width": null
     }
    },
    "3d943325d3b84212808e980c549cf4b9": {
     "model_module": "@jupyter-widgets/base",
     "model_module_version": "1.2.0",
     "model_name": "LayoutModel",
     "state": {
      "_model_module": "@jupyter-widgets/base",
      "_model_module_version": "1.2.0",
      "_model_name": "LayoutModel",
      "_view_count": null,
      "_view_module": "@jupyter-widgets/base",
      "_view_module_version": "1.2.0",
      "_view_name": "LayoutView",
      "align_content": null,
      "align_items": null,
      "align_self": null,
      "border": null,
      "bottom": null,
      "display": null,
      "flex": null,
      "flex_flow": null,
      "grid_area": null,
      "grid_auto_columns": null,
      "grid_auto_flow": null,
      "grid_auto_rows": null,
      "grid_column": null,
      "grid_gap": null,
      "grid_row": null,
      "grid_template_areas": null,
      "grid_template_columns": null,
      "grid_template_rows": null,
      "height": null,
      "justify_content": null,
      "justify_items": null,
      "left": null,
      "margin": null,
      "max_height": null,
      "max_width": null,
      "min_height": null,
      "min_width": null,
      "object_fit": null,
      "object_position": null,
      "order": null,
      "overflow": null,
      "overflow_x": null,
      "overflow_y": null,
      "padding": null,
      "right": null,
      "top": null,
      "visibility": null,
      "width": null
     }
    },
    "3fddfb1383344aec811c8b0dbc26986b": {
     "model_module": "@jupyter-widgets/base",
     "model_module_version": "1.2.0",
     "model_name": "LayoutModel",
     "state": {
      "_model_module": "@jupyter-widgets/base",
      "_model_module_version": "1.2.0",
      "_model_name": "LayoutModel",
      "_view_count": null,
      "_view_module": "@jupyter-widgets/base",
      "_view_module_version": "1.2.0",
      "_view_name": "LayoutView",
      "align_content": null,
      "align_items": null,
      "align_self": null,
      "border": null,
      "bottom": null,
      "display": null,
      "flex": null,
      "flex_flow": null,
      "grid_area": null,
      "grid_auto_columns": null,
      "grid_auto_flow": null,
      "grid_auto_rows": null,
      "grid_column": null,
      "grid_gap": null,
      "grid_row": null,
      "grid_template_areas": null,
      "grid_template_columns": null,
      "grid_template_rows": null,
      "height": null,
      "justify_content": null,
      "justify_items": null,
      "left": null,
      "margin": null,
      "max_height": null,
      "max_width": null,
      "min_height": null,
      "min_width": null,
      "object_fit": null,
      "object_position": null,
      "order": null,
      "overflow": null,
      "overflow_x": null,
      "overflow_y": null,
      "padding": null,
      "right": null,
      "top": null,
      "visibility": null,
      "width": null
     }
    },
    "4a02c7e437184bf58cdef6557faa3f10": {
     "model_module": "@jupyter-widgets/controls",
     "model_module_version": "1.5.0",
     "model_name": "ProgressStyleModel",
     "state": {
      "_model_module": "@jupyter-widgets/controls",
      "_model_module_version": "1.5.0",
      "_model_name": "ProgressStyleModel",
      "_view_count": null,
      "_view_module": "@jupyter-widgets/base",
      "_view_module_version": "1.2.0",
      "_view_name": "StyleView",
      "bar_color": null,
      "description_width": ""
     }
    },
    "4c09e73bf6424f03999abcc60c046e73": {
     "model_module": "@jupyter-widgets/controls",
     "model_module_version": "1.5.0",
     "model_name": "HTMLModel",
     "state": {
      "_dom_classes": [],
      "_model_module": "@jupyter-widgets/controls",
      "_model_module_version": "1.5.0",
      "_model_name": "HTMLModel",
      "_view_count": null,
      "_view_module": "@jupyter-widgets/controls",
      "_view_module_version": "1.5.0",
      "_view_name": "HTMLView",
      "description": "",
      "description_tooltip": null,
      "layout": "IPY_MODEL_d379ee6f2958462d92758901e4d86dec",
      "placeholder": "​",
      "style": "IPY_MODEL_706796531e8b4413bd83baa07d51169f",
      "value": " 11263/11263 [00:04&lt;00:00, 3674.63 examples/s]"
     }
    },
    "4cc2eb8f00f14adcb1c6bdaa6046b0a2": {
     "model_module": "@jupyter-widgets/controls",
     "model_module_version": "1.5.0",
     "model_name": "HBoxModel",
     "state": {
      "_dom_classes": [],
      "_model_module": "@jupyter-widgets/controls",
      "_model_module_version": "1.5.0",
      "_model_name": "HBoxModel",
      "_view_count": null,
      "_view_module": "@jupyter-widgets/controls",
      "_view_module_version": "1.5.0",
      "_view_name": "HBoxView",
      "box_style": "",
      "children": [
       "IPY_MODEL_203e305d1a20482580dc2f922d67dfba",
       "IPY_MODEL_fb362dfdffde4caa84c0150435af65c0",
       "IPY_MODEL_f7d260c1e7124bb2af7c9e5bdd5746a5"
      ],
      "layout": "IPY_MODEL_ac89587759e042bdafcd3ac16d15bbe0"
     }
    },
    "4d51d3362d0e44f98a9bb39adf7d2981": {
     "model_module": "@jupyter-widgets/base",
     "model_module_version": "1.2.0",
     "model_name": "LayoutModel",
     "state": {
      "_model_module": "@jupyter-widgets/base",
      "_model_module_version": "1.2.0",
      "_model_name": "LayoutModel",
      "_view_count": null,
      "_view_module": "@jupyter-widgets/base",
      "_view_module_version": "1.2.0",
      "_view_name": "LayoutView",
      "align_content": null,
      "align_items": null,
      "align_self": null,
      "border": null,
      "bottom": null,
      "display": null,
      "flex": null,
      "flex_flow": null,
      "grid_area": null,
      "grid_auto_columns": null,
      "grid_auto_flow": null,
      "grid_auto_rows": null,
      "grid_column": null,
      "grid_gap": null,
      "grid_row": null,
      "grid_template_areas": null,
      "grid_template_columns": null,
      "grid_template_rows": null,
      "height": null,
      "justify_content": null,
      "justify_items": null,
      "left": null,
      "margin": null,
      "max_height": null,
      "max_width": null,
      "min_height": null,
      "min_width": null,
      "object_fit": null,
      "object_position": null,
      "order": null,
      "overflow": null,
      "overflow_x": null,
      "overflow_y": null,
      "padding": null,
      "right": null,
      "top": null,
      "visibility": null,
      "width": null
     }
    },
    "59b773e3582547bc89f375ae564da6e5": {
     "model_module": "@jupyter-widgets/controls",
     "model_module_version": "1.5.0",
     "model_name": "HTMLModel",
     "state": {
      "_dom_classes": [],
      "_model_module": "@jupyter-widgets/controls",
      "_model_module_version": "1.5.0",
      "_model_name": "HTMLModel",
      "_view_count": null,
      "_view_module": "@jupyter-widgets/controls",
      "_view_module_version": "1.5.0",
      "_view_name": "HTMLView",
      "description": "",
      "description_tooltip": null,
      "layout": "IPY_MODEL_cccf4e4a4adc4354aec9ce3a7bdb7d3b",
      "placeholder": "​",
      "style": "IPY_MODEL_03c39a9cd051431d8769dcac759de326",
      "value": " 3/3 [00:06&lt;00:00,  2.14s/it]"
     }
    },
    "59c4b46e76bc4a909d02a4761da05a32": {
     "model_module": "@jupyter-widgets/controls",
     "model_module_version": "1.5.0",
     "model_name": "FloatProgressModel",
     "state": {
      "_dom_classes": [],
      "_model_module": "@jupyter-widgets/controls",
      "_model_module_version": "1.5.0",
      "_model_name": "FloatProgressModel",
      "_view_count": null,
      "_view_module": "@jupyter-widgets/controls",
      "_view_module_version": "1.5.0",
      "_view_name": "ProgressView",
      "bar_style": "success",
      "description": "",
      "description_tooltip": null,
      "layout": "IPY_MODEL_361fa765dca743d58efd25eb93dc836d",
      "max": 11263,
      "min": 0,
      "orientation": "horizontal",
      "style": "IPY_MODEL_4a02c7e437184bf58cdef6557faa3f10",
      "value": 11263
     }
    },
    "6c65e92c220146c4a27fd1073998adc9": {
     "model_module": "@jupyter-widgets/controls",
     "model_module_version": "1.5.0",
     "model_name": "HTMLModel",
     "state": {
      "_dom_classes": [],
      "_model_module": "@jupyter-widgets/controls",
      "_model_module_version": "1.5.0",
      "_model_name": "HTMLModel",
      "_view_count": null,
      "_view_module": "@jupyter-widgets/controls",
      "_view_module_version": "1.5.0",
      "_view_name": "HTMLView",
      "description": "",
      "description_tooltip": null,
      "layout": "IPY_MODEL_08efafb6cd3a4f9bb61520ebeb79fffa",
      "placeholder": "​",
      "style": "IPY_MODEL_0a41be52f50040678a95774cd61bde9c",
      "value": " 11263/11263 [00:00&lt;00:00, 86751.66 examples/s]"
     }
    },
    "706796531e8b4413bd83baa07d51169f": {
     "model_module": "@jupyter-widgets/controls",
     "model_module_version": "1.5.0",
     "model_name": "DescriptionStyleModel",
     "state": {
      "_model_module": "@jupyter-widgets/controls",
      "_model_module_version": "1.5.0",
      "_model_name": "DescriptionStyleModel",
      "_view_count": null,
      "_view_module": "@jupyter-widgets/base",
      "_view_module_version": "1.2.0",
      "_view_name": "StyleView",
      "description_width": ""
     }
    },
    "76f3149d66b24d6c960fed9ff127d56a": {
     "model_module": "@jupyter-widgets/controls",
     "model_module_version": "1.5.0",
     "model_name": "ProgressStyleModel",
     "state": {
      "_model_module": "@jupyter-widgets/controls",
      "_model_module_version": "1.5.0",
      "_model_name": "ProgressStyleModel",
      "_view_count": null,
      "_view_module": "@jupyter-widgets/base",
      "_view_module_version": "1.2.0",
      "_view_name": "StyleView",
      "bar_color": null,
      "description_width": ""
     }
    },
    "7ffdf18af8564b68992685bbb0140707": {
     "model_module": "@jupyter-widgets/controls",
     "model_module_version": "1.5.0",
     "model_name": "DescriptionStyleModel",
     "state": {
      "_model_module": "@jupyter-widgets/controls",
      "_model_module_version": "1.5.0",
      "_model_name": "DescriptionStyleModel",
      "_view_count": null,
      "_view_module": "@jupyter-widgets/base",
      "_view_module_version": "1.2.0",
      "_view_name": "StyleView",
      "description_width": ""
     }
    },
    "875acc3dfbcb4552a95829be5fadf9e8": {
     "model_module": "@jupyter-widgets/controls",
     "model_module_version": "1.5.0",
     "model_name": "FloatProgressModel",
     "state": {
      "_dom_classes": [],
      "_model_module": "@jupyter-widgets/controls",
      "_model_module_version": "1.5.0",
      "_model_name": "FloatProgressModel",
      "_view_count": null,
      "_view_module": "@jupyter-widgets/controls",
      "_view_module_version": "1.5.0",
      "_view_name": "ProgressView",
      "bar_style": "success",
      "description": "",
      "description_tooltip": null,
      "layout": "IPY_MODEL_ddfa55005aed41b69bbca23c8ba8ee7f",
      "max": 11263,
      "min": 0,
      "orientation": "horizontal",
      "style": "IPY_MODEL_245d4d5067944c388e33cc34aefac67d",
      "value": 11263
     }
    },
    "8a1d254a0111463dafbc7cdb4f97277c": {
     "model_module": "@jupyter-widgets/controls",
     "model_module_version": "1.5.0",
     "model_name": "DescriptionStyleModel",
     "state": {
      "_model_module": "@jupyter-widgets/controls",
      "_model_module_version": "1.5.0",
      "_model_name": "DescriptionStyleModel",
      "_view_count": null,
      "_view_module": "@jupyter-widgets/base",
      "_view_module_version": "1.2.0",
      "_view_name": "StyleView",
      "description_width": ""
     }
    },
    "993bcee6969242bdb53ab719ab461142": {
     "model_module": "@jupyter-widgets/controls",
     "model_module_version": "1.5.0",
     "model_name": "DescriptionStyleModel",
     "state": {
      "_model_module": "@jupyter-widgets/controls",
      "_model_module_version": "1.5.0",
      "_model_name": "DescriptionStyleModel",
      "_view_count": null,
      "_view_module": "@jupyter-widgets/base",
      "_view_module_version": "1.2.0",
      "_view_name": "StyleView",
      "description_width": ""
     }
    },
    "a0720b1ebe7d42308592d81b581bd9c6": {
     "model_module": "@jupyter-widgets/base",
     "model_module_version": "1.2.0",
     "model_name": "LayoutModel",
     "state": {
      "_model_module": "@jupyter-widgets/base",
      "_model_module_version": "1.2.0",
      "_model_name": "LayoutModel",
      "_view_count": null,
      "_view_module": "@jupyter-widgets/base",
      "_view_module_version": "1.2.0",
      "_view_name": "LayoutView",
      "align_content": null,
      "align_items": null,
      "align_self": null,
      "border": null,
      "bottom": null,
      "display": null,
      "flex": null,
      "flex_flow": null,
      "grid_area": null,
      "grid_auto_columns": null,
      "grid_auto_flow": null,
      "grid_auto_rows": null,
      "grid_column": null,
      "grid_gap": null,
      "grid_row": null,
      "grid_template_areas": null,
      "grid_template_columns": null,
      "grid_template_rows": null,
      "height": null,
      "justify_content": null,
      "justify_items": null,
      "left": null,
      "margin": null,
      "max_height": null,
      "max_width": null,
      "min_height": null,
      "min_width": null,
      "object_fit": null,
      "object_position": null,
      "order": null,
      "overflow": null,
      "overflow_x": null,
      "overflow_y": null,
      "padding": null,
      "right": null,
      "top": null,
      "visibility": null,
      "width": null
     }
    },
    "ac89587759e042bdafcd3ac16d15bbe0": {
     "model_module": "@jupyter-widgets/base",
     "model_module_version": "1.2.0",
     "model_name": "LayoutModel",
     "state": {
      "_model_module": "@jupyter-widgets/base",
      "_model_module_version": "1.2.0",
      "_model_name": "LayoutModel",
      "_view_count": null,
      "_view_module": "@jupyter-widgets/base",
      "_view_module_version": "1.2.0",
      "_view_name": "LayoutView",
      "align_content": null,
      "align_items": null,
      "align_self": null,
      "border": null,
      "bottom": null,
      "display": null,
      "flex": null,
      "flex_flow": null,
      "grid_area": null,
      "grid_auto_columns": null,
      "grid_auto_flow": null,
      "grid_auto_rows": null,
      "grid_column": null,
      "grid_gap": null,
      "grid_row": null,
      "grid_template_areas": null,
      "grid_template_columns": null,
      "grid_template_rows": null,
      "height": null,
      "justify_content": null,
      "justify_items": null,
      "left": null,
      "margin": null,
      "max_height": null,
      "max_width": null,
      "min_height": null,
      "min_width": null,
      "object_fit": null,
      "object_position": null,
      "order": null,
      "overflow": null,
      "overflow_x": null,
      "overflow_y": null,
      "padding": null,
      "right": null,
      "top": null,
      "visibility": null,
      "width": null
     }
    },
    "aea12a5b7bc44c369ab721c629727192": {
     "model_module": "@jupyter-widgets/controls",
     "model_module_version": "1.5.0",
     "model_name": "HBoxModel",
     "state": {
      "_dom_classes": [],
      "_model_module": "@jupyter-widgets/controls",
      "_model_module_version": "1.5.0",
      "_model_name": "HBoxModel",
      "_view_count": null,
      "_view_module": "@jupyter-widgets/controls",
      "_view_module_version": "1.5.0",
      "_view_name": "HBoxView",
      "box_style": "",
      "children": [
       "IPY_MODEL_0f8d35bf001e4ade995eff62bfb4b4be",
       "IPY_MODEL_59c4b46e76bc4a909d02a4761da05a32",
       "IPY_MODEL_6c65e92c220146c4a27fd1073998adc9"
      ],
      "layout": "IPY_MODEL_4d51d3362d0e44f98a9bb39adf7d2981"
     }
    },
    "b1317501d3ec43c99f444c37ab047d81": {
     "model_module": "@jupyter-widgets/base",
     "model_module_version": "1.2.0",
     "model_name": "LayoutModel",
     "state": {
      "_model_module": "@jupyter-widgets/base",
      "_model_module_version": "1.2.0",
      "_model_name": "LayoutModel",
      "_view_count": null,
      "_view_module": "@jupyter-widgets/base",
      "_view_module_version": "1.2.0",
      "_view_name": "LayoutView",
      "align_content": null,
      "align_items": null,
      "align_self": null,
      "border": null,
      "bottom": null,
      "display": null,
      "flex": null,
      "flex_flow": null,
      "grid_area": null,
      "grid_auto_columns": null,
      "grid_auto_flow": null,
      "grid_auto_rows": null,
      "grid_column": null,
      "grid_gap": null,
      "grid_row": null,
      "grid_template_areas": null,
      "grid_template_columns": null,
      "grid_template_rows": null,
      "height": null,
      "justify_content": null,
      "justify_items": null,
      "left": null,
      "margin": null,
      "max_height": null,
      "max_width": null,
      "min_height": null,
      "min_width": null,
      "object_fit": null,
      "object_position": null,
      "order": null,
      "overflow": null,
      "overflow_x": null,
      "overflow_y": null,
      "padding": null,
      "right": null,
      "top": null,
      "visibility": null,
      "width": null
     }
    },
    "b6b4d1555bc7409f87c4a232f96f8536": {
     "model_module": "@jupyter-widgets/base",
     "model_module_version": "1.2.0",
     "model_name": "LayoutModel",
     "state": {
      "_model_module": "@jupyter-widgets/base",
      "_model_module_version": "1.2.0",
      "_model_name": "LayoutModel",
      "_view_count": null,
      "_view_module": "@jupyter-widgets/base",
      "_view_module_version": "1.2.0",
      "_view_name": "LayoutView",
      "align_content": null,
      "align_items": null,
      "align_self": null,
      "border": null,
      "bottom": null,
      "display": null,
      "flex": null,
      "flex_flow": null,
      "grid_area": null,
      "grid_auto_columns": null,
      "grid_auto_flow": null,
      "grid_auto_rows": null,
      "grid_column": null,
      "grid_gap": null,
      "grid_row": null,
      "grid_template_areas": null,
      "grid_template_columns": null,
      "grid_template_rows": null,
      "height": null,
      "justify_content": null,
      "justify_items": null,
      "left": null,
      "margin": null,
      "max_height": null,
      "max_width": null,
      "min_height": null,
      "min_width": null,
      "object_fit": null,
      "object_position": null,
      "order": null,
      "overflow": null,
      "overflow_x": null,
      "overflow_y": null,
      "padding": null,
      "right": null,
      "top": null,
      "visibility": null,
      "width": null
     }
    },
    "c1f8258bb06548239113356cbea3a87f": {
     "model_module": "@jupyter-widgets/base",
     "model_module_version": "1.2.0",
     "model_name": "LayoutModel",
     "state": {
      "_model_module": "@jupyter-widgets/base",
      "_model_module_version": "1.2.0",
      "_model_name": "LayoutModel",
      "_view_count": null,
      "_view_module": "@jupyter-widgets/base",
      "_view_module_version": "1.2.0",
      "_view_name": "LayoutView",
      "align_content": null,
      "align_items": null,
      "align_self": null,
      "border": null,
      "bottom": null,
      "display": null,
      "flex": null,
      "flex_flow": null,
      "grid_area": null,
      "grid_auto_columns": null,
      "grid_auto_flow": null,
      "grid_auto_rows": null,
      "grid_column": null,
      "grid_gap": null,
      "grid_row": null,
      "grid_template_areas": null,
      "grid_template_columns": null,
      "grid_template_rows": null,
      "height": null,
      "justify_content": null,
      "justify_items": null,
      "left": null,
      "margin": null,
      "max_height": null,
      "max_width": null,
      "min_height": null,
      "min_width": null,
      "object_fit": null,
      "object_position": null,
      "order": null,
      "overflow": null,
      "overflow_x": null,
      "overflow_y": null,
      "padding": null,
      "right": null,
      "top": null,
      "visibility": null,
      "width": null
     }
    },
    "c6a853fa567e4ccab941a1b70b3575e0": {
     "model_module": "@jupyter-widgets/base",
     "model_module_version": "1.2.0",
     "model_name": "LayoutModel",
     "state": {
      "_model_module": "@jupyter-widgets/base",
      "_model_module_version": "1.2.0",
      "_model_name": "LayoutModel",
      "_view_count": null,
      "_view_module": "@jupyter-widgets/base",
      "_view_module_version": "1.2.0",
      "_view_name": "LayoutView",
      "align_content": null,
      "align_items": null,
      "align_self": null,
      "border": null,
      "bottom": null,
      "display": null,
      "flex": null,
      "flex_flow": null,
      "grid_area": null,
      "grid_auto_columns": null,
      "grid_auto_flow": null,
      "grid_auto_rows": null,
      "grid_column": null,
      "grid_gap": null,
      "grid_row": null,
      "grid_template_areas": null,
      "grid_template_columns": null,
      "grid_template_rows": null,
      "height": null,
      "justify_content": null,
      "justify_items": null,
      "left": null,
      "margin": null,
      "max_height": null,
      "max_width": null,
      "min_height": null,
      "min_width": null,
      "object_fit": null,
      "object_position": null,
      "order": null,
      "overflow": null,
      "overflow_x": null,
      "overflow_y": null,
      "padding": null,
      "right": null,
      "top": null,
      "visibility": null,
      "width": null
     }
    },
    "cccf4e4a4adc4354aec9ce3a7bdb7d3b": {
     "model_module": "@jupyter-widgets/base",
     "model_module_version": "1.2.0",
     "model_name": "LayoutModel",
     "state": {
      "_model_module": "@jupyter-widgets/base",
      "_model_module_version": "1.2.0",
      "_model_name": "LayoutModel",
      "_view_count": null,
      "_view_module": "@jupyter-widgets/base",
      "_view_module_version": "1.2.0",
      "_view_name": "LayoutView",
      "align_content": null,
      "align_items": null,
      "align_self": null,
      "border": null,
      "bottom": null,
      "display": null,
      "flex": null,
      "flex_flow": null,
      "grid_area": null,
      "grid_auto_columns": null,
      "grid_auto_flow": null,
      "grid_auto_rows": null,
      "grid_column": null,
      "grid_gap": null,
      "grid_row": null,
      "grid_template_areas": null,
      "grid_template_columns": null,
      "grid_template_rows": null,
      "height": null,
      "justify_content": null,
      "justify_items": null,
      "left": null,
      "margin": null,
      "max_height": null,
      "max_width": null,
      "min_height": null,
      "min_width": null,
      "object_fit": null,
      "object_position": null,
      "order": null,
      "overflow": null,
      "overflow_x": null,
      "overflow_y": null,
      "padding": null,
      "right": null,
      "top": null,
      "visibility": null,
      "width": null
     }
    },
    "d379ee6f2958462d92758901e4d86dec": {
     "model_module": "@jupyter-widgets/base",
     "model_module_version": "1.2.0",
     "model_name": "LayoutModel",
     "state": {
      "_model_module": "@jupyter-widgets/base",
      "_model_module_version": "1.2.0",
      "_model_name": "LayoutModel",
      "_view_count": null,
      "_view_module": "@jupyter-widgets/base",
      "_view_module_version": "1.2.0",
      "_view_name": "LayoutView",
      "align_content": null,
      "align_items": null,
      "align_self": null,
      "border": null,
      "bottom": null,
      "display": null,
      "flex": null,
      "flex_flow": null,
      "grid_area": null,
      "grid_auto_columns": null,
      "grid_auto_flow": null,
      "grid_auto_rows": null,
      "grid_column": null,
      "grid_gap": null,
      "grid_row": null,
      "grid_template_areas": null,
      "grid_template_columns": null,
      "grid_template_rows": null,
      "height": null,
      "justify_content": null,
      "justify_items": null,
      "left": null,
      "margin": null,
      "max_height": null,
      "max_width": null,
      "min_height": null,
      "min_width": null,
      "object_fit": null,
      "object_position": null,
      "order": null,
      "overflow": null,
      "overflow_x": null,
      "overflow_y": null,
      "padding": null,
      "right": null,
      "top": null,
      "visibility": null,
      "width": null
     }
    },
    "da6d4cc579d0489aabec79304f80b34c": {
     "model_module": "@jupyter-widgets/controls",
     "model_module_version": "1.5.0",
     "model_name": "HBoxModel",
     "state": {
      "_dom_classes": [],
      "_model_module": "@jupyter-widgets/controls",
      "_model_module_version": "1.5.0",
      "_model_name": "HBoxModel",
      "_view_count": null,
      "_view_module": "@jupyter-widgets/controls",
      "_view_module_version": "1.5.0",
      "_view_name": "HBoxView",
      "box_style": "",
      "children": [
       "IPY_MODEL_04b31beda03241f09e8d693e59064bd7",
       "IPY_MODEL_101bc373cf8649b283faa3b7d7361abe",
       "IPY_MODEL_59b773e3582547bc89f375ae564da6e5"
      ],
      "layout": "IPY_MODEL_3d943325d3b84212808e980c549cf4b9"
     }
    },
    "dcdccabd770e486f92f7c6ce359d3b11": {
     "model_module": "@jupyter-widgets/base",
     "model_module_version": "1.2.0",
     "model_name": "LayoutModel",
     "state": {
      "_model_module": "@jupyter-widgets/base",
      "_model_module_version": "1.2.0",
      "_model_name": "LayoutModel",
      "_view_count": null,
      "_view_module": "@jupyter-widgets/base",
      "_view_module_version": "1.2.0",
      "_view_name": "LayoutView",
      "align_content": null,
      "align_items": null,
      "align_self": null,
      "border": null,
      "bottom": null,
      "display": null,
      "flex": null,
      "flex_flow": null,
      "grid_area": null,
      "grid_auto_columns": null,
      "grid_auto_flow": null,
      "grid_auto_rows": null,
      "grid_column": null,
      "grid_gap": null,
      "grid_row": null,
      "grid_template_areas": null,
      "grid_template_columns": null,
      "grid_template_rows": null,
      "height": null,
      "justify_content": null,
      "justify_items": null,
      "left": null,
      "margin": null,
      "max_height": null,
      "max_width": null,
      "min_height": null,
      "min_width": null,
      "object_fit": null,
      "object_position": null,
      "order": null,
      "overflow": null,
      "overflow_x": null,
      "overflow_y": null,
      "padding": null,
      "right": null,
      "top": null,
      "visibility": null,
      "width": null
     }
    },
    "ddfa55005aed41b69bbca23c8ba8ee7f": {
     "model_module": "@jupyter-widgets/base",
     "model_module_version": "1.2.0",
     "model_name": "LayoutModel",
     "state": {
      "_model_module": "@jupyter-widgets/base",
      "_model_module_version": "1.2.0",
      "_model_name": "LayoutModel",
      "_view_count": null,
      "_view_module": "@jupyter-widgets/base",
      "_view_module_version": "1.2.0",
      "_view_name": "LayoutView",
      "align_content": null,
      "align_items": null,
      "align_self": null,
      "border": null,
      "bottom": null,
      "display": null,
      "flex": null,
      "flex_flow": null,
      "grid_area": null,
      "grid_auto_columns": null,
      "grid_auto_flow": null,
      "grid_auto_rows": null,
      "grid_column": null,
      "grid_gap": null,
      "grid_row": null,
      "grid_template_areas": null,
      "grid_template_columns": null,
      "grid_template_rows": null,
      "height": null,
      "justify_content": null,
      "justify_items": null,
      "left": null,
      "margin": null,
      "max_height": null,
      "max_width": null,
      "min_height": null,
      "min_width": null,
      "object_fit": null,
      "object_position": null,
      "order": null,
      "overflow": null,
      "overflow_x": null,
      "overflow_y": null,
      "padding": null,
      "right": null,
      "top": null,
      "visibility": null,
      "width": null
     }
    },
    "e5c36de53dc14524b881ba733d869fba": {
     "model_module": "@jupyter-widgets/controls",
     "model_module_version": "1.5.0",
     "model_name": "HTMLModel",
     "state": {
      "_dom_classes": [],
      "_model_module": "@jupyter-widgets/controls",
      "_model_module_version": "1.5.0",
      "_model_name": "HTMLModel",
      "_view_count": null,
      "_view_module": "@jupyter-widgets/controls",
      "_view_module_version": "1.5.0",
      "_view_name": "HTMLView",
      "description": "",
      "description_tooltip": null,
      "layout": "IPY_MODEL_3fddfb1383344aec811c8b0dbc26986b",
      "placeholder": "​",
      "style": "IPY_MODEL_7ffdf18af8564b68992685bbb0140707",
      "value": "Map (num_proc=2): 100%"
     }
    },
    "f7d260c1e7124bb2af7c9e5bdd5746a5": {
     "model_module": "@jupyter-widgets/controls",
     "model_module_version": "1.5.0",
     "model_name": "HTMLModel",
     "state": {
      "_dom_classes": [],
      "_model_module": "@jupyter-widgets/controls",
      "_model_module_version": "1.5.0",
      "_model_name": "HTMLModel",
      "_view_count": null,
      "_view_module": "@jupyter-widgets/controls",
      "_view_module_version": "1.5.0",
      "_view_name": "HTMLView",
      "description": "",
      "description_tooltip": null,
      "layout": "IPY_MODEL_c1f8258bb06548239113356cbea3a87f",
      "placeholder": "​",
      "style": "IPY_MODEL_993bcee6969242bdb53ab719ab461142",
      "value": " 3/3 [00:05&lt;00:00,  1.89s/it]"
     }
    },
    "fb362dfdffde4caa84c0150435af65c0": {
     "model_module": "@jupyter-widgets/controls",
     "model_module_version": "1.5.0",
     "model_name": "FloatProgressModel",
     "state": {
      "_dom_classes": [],
      "_model_module": "@jupyter-widgets/controls",
      "_model_module_version": "1.5.0",
      "_model_name": "FloatProgressModel",
      "_view_count": null,
      "_view_module": "@jupyter-widgets/controls",
      "_view_module_version": "1.5.0",
      "_view_name": "ProgressView",
      "bar_style": "success",
      "description": "",
      "description_tooltip": null,
      "layout": "IPY_MODEL_a0720b1ebe7d42308592d81b581bd9c6",
      "max": 3,
      "min": 0,
      "orientation": "horizontal",
      "style": "IPY_MODEL_76f3149d66b24d6c960fed9ff127d56a",
      "value": 3
     }
    }
   }
  }
 },
 "nbformat": 4,
 "nbformat_minor": 0
}
