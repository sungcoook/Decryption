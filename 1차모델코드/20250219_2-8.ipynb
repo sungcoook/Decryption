{
 "cells": [
  {
   "cell_type": "markdown",
   "metadata": {},
   "source": [
    "## 1. 환경설정"
   ]
  },
  {
   "cell_type": "code",
   "execution_count": 1,
   "metadata": {
    "executionInfo": {
     "elapsed": 13471,
     "status": "ok",
     "timestamp": 1739931404713,
     "user": {
      "displayName": "송채원",
      "userId": "07880515647457255886"
     },
     "user_tz": -540
    },
    "id": "In9cqCFN_UHU"
   },
   "outputs": [],
   "source": [
    "%%capture\n",
    "# Normally using pip install unsloth is enough\n",
    "\n",
    "# Temporarily as of Jan 31st 2025, Colab has some issues with Pytorch\n",
    "# Using pip install unsloth will take 3 minutes, whilst the below takes <1 minute:\n",
    "!pip install --no-deps bitsandbytes accelerate xformers==0.0.29 peft trl triton\n",
    "!pip install --no-deps cut_cross_entropy unsloth_zoo\n",
    "!pip install sentencepiece protobuf datasets huggingface_hub hf_transfer\n",
    "!pip install --no-deps unsloth"
   ]
  },
  {
   "cell_type": "markdown",
   "metadata": {},
   "source": [
    "## 2. 모델로드"
   ]
  },
  {
   "cell_type": "code",
   "execution_count": 1,
   "metadata": {
    "colab": {
     "base_uri": "https://localhost:8080/",
     "height": 194,
     "referenced_widgets": [
      "732cde52fda94e1ba8d3650d2333d2ce",
      "35da243baefa4c71a3370355e40c27da",
      "c6909b3b4a184cc4b9c2927add4bfe6e",
      "095ae9c06f384191a8b2919019fa5897",
      "aa6c959f26174516ab81c2a4dcf335c2",
      "c451b6e6a9884d28a1bf3382ab49a1b5",
      "4875889dda1440bab98ff5572ddde648",
      "5fd765dbbb7a44a48c39ff8a00d42764",
      "efcba2ca9c704d6b9aee9a2943e67af4",
      "50a4f10599744b2eb76b0b451fc0b745",
      "f3dbee22e0a74457b8fbdb637691b7c4"
     ]
    },
    "executionInfo": {
     "elapsed": 25500,
     "status": "ok",
     "timestamp": 1739946868164,
     "user": {
      "displayName": "송채원",
      "userId": "07880515647457255886"
     },
     "user_tz": -540
    },
    "id": "sRWL1dH1_jUT",
    "outputId": "c8e03022-000f-4697-9c5f-fe679d10c582"
   },
   "outputs": [
    {
     "name": "stdout",
     "output_type": "stream",
     "text": [
      "🦥 Unsloth: Will patch your computer to enable 2x faster free finetuning.\n",
      "🦥 Unsloth Zoo will now patch everything to make training faster!\n",
      "==((====))==  Unsloth 2025.2.12: Fast Mistral patching. Transformers: 4.48.3.\n",
      "   \\\\   /|    GPU: NVIDIA A100-SXM4-40GB. Max memory: 39.557 GB. Platform: Linux.\n",
      "O^O/ \\_/ \\    Torch: 2.5.1+cu124. CUDA: 8.0. CUDA Toolkit: 12.4. Triton: 3.1.0\n",
      "\\        /    Bfloat16 = TRUE. FA [Xformers = 0.0.29. FA2 = False]\n",
      " \"-____-\"     Free Apache license: http://github.com/unslothai/unsloth\n",
      "Unsloth: Fast downloading is enabled - ignore downloading bars which are red colored!\n"
     ]
    },
    {
     "data": {
      "application/vnd.jupyter.widget-view+json": {
       "model_id": "732cde52fda94e1ba8d3650d2333d2ce",
       "version_major": 2,
       "version_minor": 0
      },
      "text/plain": [
       "Loading checkpoint shards:   0%|          | 0/3 [00:00<?, ?it/s]"
      ]
     },
     "metadata": {},
     "output_type": "display_data"
    }
   ],
   "source": [
    "from unsloth import FastLanguageModel\n",
    "import torch\n",
    "max_seq_length = 4096 # Choose any! We auto support RoPE Scaling internally!\n",
    "dtype = None # None for auto detection. Float16 for Tesla T4, V100, Bfloat16 for Ampere+\n",
    "load_in_4bit = True # Use 4bit quantization to reduce memory usage. Can be False.\n",
    "\n",
    "# 4bit pre quantized models we support for 4x faster downloading + no OOMs.\n",
    "fourbit_models = [\n",
    "    \"unsloth/mistral-7b-v0.3-bnb-4bit\",      # New Mistral v3 2x faster!\n",
    "    \"unsloth/mistral-7b-instruct-v0.3-bnb-4bit\",\n",
    "    \"unsloth/llama-3-8b-bnb-4bit\",           # Llama-3 15 trillion tokens model 2x faster!\n",
    "    \"unsloth/llama-3-8b-Instruct-bnb-4bit\",\n",
    "    \"unsloth/llama-3-70b-bnb-4bit\",\n",
    "    \"unsloth/Phi-3-mini-4k-instruct\",        # Phi-3 2x faster!\n",
    "    \"unsloth/Phi-3-medium-4k-instruct\",\n",
    "    \"unsloth/mistral-7b-bnb-4bit\",\n",
    "    \"unsloth/gemma-7b-bnb-4bit\",             # Gemma 2.2x faster!\n",
    "] # More models at https://huggingface.co/unsloth\n",
    "\n",
    "model, tokenizer = FastLanguageModel.from_pretrained(\n",
    "    model_name = \"mistralai/Mistral-Small-24B-Instruct-2501\", # \"unsloth/mistral-7b\" for 16bit loading\n",
    "    max_seq_length = max_seq_length,\n",
    "    dtype = dtype,\n",
    "    load_in_4bit = load_in_4bit,\n",
    "    # token = \"hf_...\", # use one if using gated models like meta-llama/Llama-2-7b-hf\n",
    ")"
   ]
  },
  {
   "cell_type": "code",
   "execution_count": 2,
   "metadata": {
    "colab": {
     "base_uri": "https://localhost:8080/"
    },
    "executionInfo": {
     "elapsed": 6035,
     "status": "ok",
     "timestamp": 1739946879390,
     "user": {
      "displayName": "송채원",
      "userId": "07880515647457255886"
     },
     "user_tz": -540
    },
    "id": "KwYbjSXzPzN3",
    "outputId": "e551b510-aa67-4b6b-a388-d8ee3687ae9d"
   },
   "outputs": [
    {
     "name": "stderr",
     "output_type": "stream",
     "text": [
      "Unsloth: Dropout = 0 is supported for fast patching. You are using dropout = 0.05.\n",
      "Unsloth will patch all other layers, except LoRA matrices, causing a performance hit.\n",
      "Unsloth 2025.2.12 patched 40 layers with 0 QKV layers, 0 O layers and 0 MLP layers.\n"
     ]
    }
   ],
   "source": [
    "model = FastLanguageModel.get_peft_model(\n",
    "    model,\n",
    "    r=16,  # 0보다 큰 어떤 숫자도 선택 가능! 8, 16, 32, 64, 128이 권장됩니다.\n",
    "    lora_alpha=32,  # LoRA 알파 값을 설정합니다.\n",
    "    lora_dropout=0.05,  # 드롭아웃을 지원합니다.\n",
    "    target_modules=[\n",
    "        \"q_proj\",\n",
    "        \"k_proj\",\n",
    "        \"v_proj\",\n",
    "        \"o_proj\",\n",
    "        \"gate_proj\",\n",
    "        \"up_proj\",\n",
    "        \"down_proj\",\n",
    "    ],  # 타겟 모듈을 지정합니다.\n",
    "    bias=\"none\",  # 바이어스를 지원합니다.\n",
    "    # True 또는 \"unsloth\"를 사용하여 매우 긴 컨텍스트에 대해 VRAM을 30% 덜 사용하고, 2배 더 큰 배치 크기를 지원합니다.\n",
    "    use_gradient_checkpointing=\"unsloth\",\n",
    "    random_state=3407,#123,  # 난수 상태를 설정합니다.\n",
    "    use_rslora=False,  # 순위 안정화 LoRA를 지원합니다.\n",
    "    loftq_config=None,  # LoftQ를 지원합니다.\n",
    ")"
   ]
  },
  {
   "cell_type": "markdown",
   "metadata": {},
   "source": [
    "## 3. 파일 로드"
   ]
  },
  {
   "cell_type": "code",
   "execution_count": null,
   "metadata": {},
   "outputs": [],
   "source": [
    "from google.colab import drive\n",
    "drive.mount('/content/drive')"
   ]
  },
  {
   "cell_type": "code",
   "execution_count": null,
   "metadata": {},
   "outputs": [],
   "source": [
    "from google.colab import drive\n",
    "import zipfile\n",
    "import os\n",
    "# ZIP 파일 경로 (Google Drive에 있는 파일 경로 입력)\n",
    "zip_file_path = '/content/drive/MyDrive/한글리뷰/open.zip'\n",
    "\n",
    "# 압축 해제 경로 설정\n",
    "extract_to_path = '/content/extracted_files'\n",
    "\n",
    "# 압축 해제 실행\n",
    "if not os.path.exists(extract_to_path):\n",
    "    os.makedirs(extract_to_path)\n",
    "\n",
    "with zipfile.ZipFile(zip_file_path, 'r') as zip_ref:\n",
    "    zip_ref.extractall(extract_to_path)\n",
    "\n",
    "print(f\"ZIP 파일이 성공적으로 {extract_to_path} 경로에 압축 해제되었습니다.\")"
   ]
  },
  {
   "cell_type": "markdown",
   "metadata": {},
   "source": [
    "## 4. 데이터셋 생성"
   ]
  },
  {
   "cell_type": "code",
   "execution_count": 3,
   "metadata": {
    "executionInfo": {
     "elapsed": 126,
     "status": "ok",
     "timestamp": 1739946881018,
     "user": {
      "displayName": "송채원",
      "userId": "07880515647457255886"
     },
     "user_tz": -540
    },
    "id": "rSQoNdNCQAPv"
   },
   "outputs": [],
   "source": [
    "import pandas as pd\n",
    "train = pd.read_csv('./extracted_files/train.csv', encoding = 'utf-8-sig')\n",
    "test = pd.read_csv('./extracted_files/test.csv', encoding = 'utf-8-sig')"
   ]
  },
  {
   "cell_type": "code",
   "execution_count": 4,
   "metadata": {
    "executionInfo": {
     "elapsed": 3,
     "status": "ok",
     "timestamp": 1739946882773,
     "user": {
      "displayName": "송채원",
      "userId": "07880515647457255886"
     },
     "user_tz": -540
    },
    "id": "kx2zo4GCQDwh"
   },
   "outputs": [],
   "source": [
    "def llama_formatting(examples):\n",
    "  inputs = []\n",
    "  outputs =[]\n",
    "  for inp, out in zip(examples['input'], examples['output']):\n",
    "    inputs.append(inp)\n",
    "    outputs.append(out)\n",
    "\n",
    "  return {\"input\" : inputs, \"output\": outputs}\n",
    "\n",
    "\n",
    "llama_dataset = llama_formatting(train)"
   ]
  },
  {
   "cell_type": "code",
   "execution_count": 5,
   "metadata": {
    "colab": {
     "base_uri": "https://localhost:8080/"
    },
    "executionInfo": {
     "elapsed": 32,
     "status": "ok",
     "timestamp": 1739946883702,
     "user": {
      "displayName": "송채원",
      "userId": "07880515647457255886"
     },
     "user_tz": -540
    },
    "id": "udkbEeJVQG5V",
    "outputId": "cdb5d603-89a3-49ae-a05a-df1198ce687d"
   },
   "outputs": [
    {
     "data": {
      "text/plain": [
       "Dataset({\n",
       "    features: ['input', 'output'],\n",
       "    num_rows: 11263\n",
       "})"
      ]
     },
     "execution_count": 5,
     "metadata": {},
     "output_type": "execute_result"
    }
   ],
   "source": [
    "from datasets import Dataset\n",
    "# Dataset 객체로 변환\n",
    "\n",
    "llama_dataset_prompt_map = Dataset.from_dict(llama_dataset)\n",
    "llama_dataset_prompt_map"
   ]
  },
  {
   "cell_type": "code",
   "execution_count": 6,
   "metadata": {
    "colab": {
     "base_uri": "https://localhost:8080/",
     "height": 49,
     "referenced_widgets": [
      "126fc7c9d9fe40819ea0ab9488c98741",
      "425336124a824904adb149aa49f60a2c",
      "eef35ac1e48e428e94be461ce5e99f54",
      "73addbfca3ec464cadae98fc89ca1d1a",
      "b4098eb45e314a8f81ee6fb17c470a99",
      "6f536a4229fa4921949cfbd2fde07aea",
      "08728ba41ead4424a34eeef180e55b22",
      "0a5958e446ce4c2088f1b9c7165ed652",
      "48c35a72dfcd4fe2a2ce4003608c74ab",
      "6d4776952daa4e06817de9511a4a23a1",
      "b829dadcbc5e4a409c899ec2eb3208e2"
     ]
    },
    "executionInfo": {
     "elapsed": 70,
     "status": "ok",
     "timestamp": 1739946886005,
     "user": {
      "displayName": "송채원",
      "userId": "07880515647457255886"
     },
     "user_tz": -540
    },
    "id": "2IWkHGH0QKtj",
    "outputId": "974008ff-6e24-4370-cc0f-6846f1f38d1f"
   },
   "outputs": [
    {
     "data": {
      "application/vnd.jupyter.widget-view+json": {
       "model_id": "126fc7c9d9fe40819ea0ab9488c98741",
       "version_major": 2,
       "version_minor": 0
      },
      "text/plain": [
       "Map:   0%|          | 0/11263 [00:00<?, ? examples/s]"
      ]
     },
     "metadata": {},
     "output_type": "display_data"
    }
   ],
   "source": [
    "from datasets import load_dataset\n",
    "\n",
    "# EOS_TOKEN은 문장의 끝을 나타내는 토큰입니다. 이 토큰을 추가해야 합니다.\n",
    "EOS_TOKEN = tokenizer.eos_token\n",
    "\n",
    "# AlpacaPrompt를 사용하여 지시사항을 포맷팅하는 함수입니다.\n",
    "alpaca_prompt = \"\"\"You are a Korean language expert. Convert the given obfuscated Korean sentences into clear and understandable Korean sentences.\n",
    "\n",
    "### Instruction:\n",
    "{}\n",
    "\n",
    "### Response:\n",
    "{}\"\"\"\n",
    "\n",
    "\n",
    "# 주어진 예시들을 포맷팅하는 함수입니다.\n",
    "def formatting_prompts_func(examples):\n",
    "    instructions = examples[\"input\"]  # 지시사항을 가져옵니다.\n",
    "    outputs = examples[\"output\"]  # 출력값을 가져옵니다.\n",
    "    texts = []  # 포맷팅된 텍스트를 저장할 리스트입니다.\n",
    "    for instruction, output in zip(instructions, outputs):\n",
    "        # EOS_TOKEN을 추가해야 합니다. 그렇지 않으면 생성이 무한히 진행될 수 있습니다.\n",
    "        text = alpaca_prompt.format(instruction, output) + EOS_TOKEN\n",
    "        texts.append(text)\n",
    "    return {\n",
    "        \"text\": texts,  # 포맷팅된 텍스트를 반환합니다.\n",
    "    }\n",
    "\n",
    "\n",
    "# \"teddylee777/QA-Dataset-mini\" 데이터셋을 불러옵니다. 훈련 데이터만 사용합니다.\n",
    "dataset = llama_dataset_prompt_map\n",
    "\n",
    "# 데이터셋에 formatting_prompts_func 함수를 적용합니다. 배치 처리를 활성화합니다.\n",
    "dataset = dataset.map(\n",
    "    formatting_prompts_func,\n",
    "    batched=True,\n",
    ")"
   ]
  },
  {
   "cell_type": "markdown",
   "metadata": {},
   "source": [
    "## 5. 모델 설정"
   ]
  },
  {
   "cell_type": "code",
   "execution_count": null,
   "metadata": {
    "colab": {
     "base_uri": "https://localhost:8080/",
     "height": 145,
     "referenced_widgets": [
      "90d2f0bb3e06431c83f448d262c5b943",
      "af1b27152cad4455b472b77c7b79d2f1",
      "6a78b203aa8641009379b4820bc98f54",
      "ba1e850582c846cb90a159bd3507962c",
      "8a1638f247e34f6ebaddb54ccb189ce6",
      "b7c4e6fe66494da8922f50dff1d3b24f",
      "49e1e9d5d203494d9d88dee6e7e6c041",
      "a2ddcfae70424087888252ccf20eeed3",
      "59f501f82e3349baac46df82e8db4829",
      "f7407602c0ca4d598423d0ced1c8de9a",
      "3fff8ef6d72f426ba8bdd268a8498024",
      "19bdde5bff304a838f1492d7b78b6d3b",
      "915220744b5b4b9ea7f548d0c8c72252",
      "7d7f2772cf2547cda314e3af4b16529c",
      "8535a7c34a2d4821afc15a1ee28f59db",
      "9cff332484eb44d39dea0afb17c68df4",
      "2a4006de8c5844e28d9a25887659f6f7",
      "34be30e37e834fe4811b30f8bb2e2734",
      "5bbebf76167e47f68360098b04bd7e81",
      "9bbd862c0b7d4bd9a7358c4870046a90",
      "c860f91dc7274dd587c72f31c647c0fa",
      "a3977769beb1417fb0332f20b19905ee",
      "15c95c4c0ede4516b9f89ccdeeb87ac7",
      "046c00a8ab524ee1bc7197fb8bad5aa5",
      "ac3064fadbb349deabeeaebb5550bfdf",
      "523612ab3bfe4f30bb42b282203bc0a5",
      "395a4fd973c64de2a124572732fe514e",
      "0296f02301e641c7bc43887fe1be1cfc",
      "4f0e053845044922a90992d2ab2daf6c",
      "820e3fd9ca694443a2d04e7301528a74",
      "174326dbadf74abab4702c5b0a97f5dd",
      "9cab64c17c4d4f5a8179cd8adbff9a21",
      "553e0815910b4e188eecdc2273afd21f",
      "7110e7cb3fcd4e8688021890d0b9edb5",
      "b5cf53b7badc45b6b668d577e89db62d",
      "0f1d9cf441a34cf394a8acbeef96d3cc",
      "06265cc2eecf416db62c0816a7446e18",
      "70d267fd84cb45a897b896297c446db7",
      "250fb1d472884d02aa4237c27c32b264",
      "381726579564459c949369a7b32cbb29",
      "713be063d7ba480da5fde9568656db66",
      "5c200dcc5ce543cd9958e093d4283c34",
      "b9ea9044ab1c4a8eb14b559634c23bd3",
      "4f28099686ee4ab3bb99b15d7c8d1979"
     ]
    },
    "executionInfo": {
     "elapsed": 10962,
     "status": "ok",
     "timestamp": 1739946945956,
     "user": {
      "displayName": "송채원",
      "userId": "07880515647457255886"
     },
     "user_tz": -540
    },
    "id": "w7Zhk4jXjZgF",
    "outputId": "050fef1b-d92e-487d-865a-c403eb67a91e"
   },
   "outputs": [
    {
     "data": {
      "application/vnd.jupyter.widget-view+json": {
       "model_id": "90d2f0bb3e06431c83f448d262c5b943",
       "version_major": 2,
       "version_minor": 0
      },
      "text/plain": [
       "Converting train dataset to ChatML (num_proc=8):   0%|          | 0/11263 [00:00<?, ? examples/s]"
      ]
     },
     "metadata": {},
     "output_type": "display_data"
    },
    {
     "data": {
      "application/vnd.jupyter.widget-view+json": {
       "model_id": "19bdde5bff304a838f1492d7b78b6d3b",
       "version_major": 2,
       "version_minor": 0
      },
      "text/plain": [
       "Applying chat template to train dataset (num_proc=8):   0%|          | 0/11263 [00:00<?, ? examples/s]"
      ]
     },
     "metadata": {},
     "output_type": "display_data"
    },
    {
     "data": {
      "application/vnd.jupyter.widget-view+json": {
       "model_id": "15c95c4c0ede4516b9f89ccdeeb87ac7",
       "version_major": 2,
       "version_minor": 0
      },
      "text/plain": [
       "Tokenizing train dataset (num_proc=8):   0%|          | 0/11263 [00:00<?, ? examples/s]"
      ]
     },
     "metadata": {},
     "output_type": "display_data"
    },
    {
     "data": {
      "application/vnd.jupyter.widget-view+json": {
       "model_id": "7110e7cb3fcd4e8688021890d0b9edb5",
       "version_major": 2,
       "version_minor": 0
      },
      "text/plain": [
       "Tokenizing train dataset (num_proc=8):   0%|          | 0/11263 [00:00<?, ? examples/s]"
      ]
     },
     "metadata": {},
     "output_type": "display_data"
    }
   ],
   "source": [
    "#최적화를 위함\n",
    "from trl import SFTTrainer\n",
    "from transformers import TrainingArguments\n",
    "import torch\n",
    "tokenizer.padding_side = \"right\"  # 토크나이저의 패딩을 오른쪽으로 설정합니다.\n",
    "\n",
    "# SFTTrainer를 사용하여 모델 학습 설정\n",
    "trainer = SFTTrainer(\n",
    "    model=model,  \n",
    "    tokenizer=tokenizer,  \n",
    "    train_dataset=dataset, \n",
    "    dataset_text_field=\"text\", \n",
    "    max_seq_length=4096,  \n",
    "    dataset_num_proc=8,  # [변화1]\n",
    "    packing=False,  \n",
    "    args=TrainingArguments(\n",
    "        per_device_train_batch_size=2,  # [변화2] \n",
    "        gradient_accumulation_steps=8,  # [변화3]\n",
    "        warmup_steps=5,  \n",
    "        max_steps=2599, #본 실험시 3300으로 설정했으나 2599번째에서 학습 멈췄음\n",
    "        do_eval=False,\n",
    "        logging_steps=10,  \n",
    "        learning_rate=2e-4, \n",
    "        fp16=not torch.cuda.is_bf16_supported(),  \n",
    "        bf16=torch.cuda.is_bf16_supported(),  \n",
    "        optim=\"adamw_8bit\",  \n",
    "        weight_decay=0.01, \n",
    "        lr_scheduler_type=\"cosine\",  \n",
    "        seed=3407, #[변화4]\n",
    "        output_dir=\"outputs\",  \n",
    "    ),\n",
    ")"
   ]
  },
  {
   "cell_type": "markdown",
   "metadata": {},
   "source": [
    "## 6. 학습"
   ]
  },
  {
   "cell_type": "code",
   "execution_count": null,
   "metadata": {
    "colab": {
     "base_uri": "https://localhost:8080/",
     "height": 1000
    },
    "executionInfo": {
     "elapsed": 17697285,
     "status": "error",
     "timestamp": 1739964653721,
     "user": {
      "displayName": "송채원",
      "userId": "07880515647457255886"
     },
     "user_tz": -540
    },
    "id": "RlDME6N464wu",
    "outputId": "e4f2d924-06bf-41d9-b306-d7da7e831979"
   },
   "outputs": [
    {
     "name": "stderr",
     "output_type": "stream",
     "text": [
      "==((====))==  Unsloth - 2x faster free finetuning | Num GPUs = 1\n",
      "   \\\\   /|    Num examples = 11,263 | Num Epochs = 5\n",
      "O^O/ \\_/ \\    Batch size per device = 2 | Gradient Accumulation steps = 8\n",
      "\\        /    Total batch size = 16 | Total steps = 3,300\n",
      " \"-____-\"     Number of trainable parameters = 92,405,760\n",
      "\u001b[34m\u001b[1mwandb\u001b[0m: \u001b[33mWARNING\u001b[0m The `run_name` is currently set to the same value as `TrainingArguments.output_dir`. If this was not intended, please specify a different run name by setting the `TrainingArguments.run_name` parameter.\n",
      "\u001b[34m\u001b[1mwandb\u001b[0m: Currently logged in as: \u001b[33mschaewon324\u001b[0m (\u001b[33mschaewon324-private\u001b[0m) to \u001b[32mhttps://api.wandb.ai\u001b[0m. Use \u001b[1m`wandb login --relogin`\u001b[0m to force relogin\n",
      "\u001b[34m\u001b[1mwandb\u001b[0m: Using wandb-core as the SDK backend.  Please refer to https://wandb.me/wandb-core for more information.\n"
     ]
    },
    {
     "data": {
      "text/html": [
       "Tracking run with wandb version 0.19.6"
      ],
      "text/plain": [
       "<IPython.core.display.HTML object>"
      ]
     },
     "metadata": {},
     "output_type": "display_data"
    },
    {
     "data": {
      "text/html": [
       "Run data is saved locally in <code>/content/wandb/run-20250219_063559-5s1cxpf0</code>"
      ],
      "text/plain": [
       "<IPython.core.display.HTML object>"
      ]
     },
     "metadata": {},
     "output_type": "display_data"
    },
    {
     "data": {
      "text/html": [
       "Syncing run <strong><a href='https://wandb.ai/schaewon324-private/huggingface/runs/5s1cxpf0' target=\"_blank\">outputs</a></strong> to <a href='https://wandb.ai/schaewon324-private/huggingface' target=\"_blank\">Weights & Biases</a> (<a href='https://wandb.me/developer-guide' target=\"_blank\">docs</a>)<br>"
      ],
      "text/plain": [
       "<IPython.core.display.HTML object>"
      ]
     },
     "metadata": {},
     "output_type": "display_data"
    },
    {
     "data": {
      "text/html": [
       " View project at <a href='https://wandb.ai/schaewon324-private/huggingface' target=\"_blank\">https://wandb.ai/schaewon324-private/huggingface</a>"
      ],
      "text/plain": [
       "<IPython.core.display.HTML object>"
      ]
     },
     "metadata": {},
     "output_type": "display_data"
    },
    {
     "data": {
      "text/html": [
       " View run at <a href='https://wandb.ai/schaewon324-private/huggingface/runs/5s1cxpf0' target=\"_blank\">https://wandb.ai/schaewon324-private/huggingface/runs/5s1cxpf0</a>"
      ],
      "text/plain": [
       "<IPython.core.display.HTML object>"
      ]
     },
     "metadata": {},
     "output_type": "display_data"
    },
    {
     "data": {
      "text/html": [
       "\n",
       "    <div>\n",
       "      \n",
       "      <progress value='2599' max='3300' style='width:300px; height:20px; vertical-align: middle;'></progress>\n",
       "      [2599/3300 4:54:43 < 1:19:33, 0.15 it/s, Epoch 3.69/5]\n",
       "    </div>\n",
       "    <table border=\"1\" class=\"dataframe\">\n",
       "  <thead>\n",
       " <tr style=\"text-align: left;\">\n",
       "      <th>Step</th>\n",
       "      <th>Training Loss</th>\n",
       "    </tr>\n",
       "  </thead>\n",
       "  <tbody>\n",
       "    <tr>\n",
       "      <td>10</td>\n",
       "      <td>3.544700</td>\n",
       "    </tr>\n",
       "    <tr>\n",
       "      <td>20</td>\n",
       "      <td>2.954700</td>\n",
       "    </tr>\n",
       "    <tr>\n",
       "      <td>30</td>\n",
       "      <td>2.722300</td>\n",
       "    </tr>\n",
       "    <tr>\n",
       "      <td>40</td>\n",
       "      <td>2.588800</td>\n",
       "    </tr>\n",
       "    <tr>\n",
       "      <td>50</td>\n",
       "      <td>2.389400</td>\n",
       "    </tr>\n",
       "    <tr>\n",
       "      <td>60</td>\n",
       "      <td>2.407300</td>\n",
       "    </tr>\n",
       "    <tr>\n",
       "      <td>70</td>\n",
       "      <td>2.359600</td>\n",
       "    </tr>\n",
       "    <tr>\n",
       "      <td>80</td>\n",
       "      <td>2.284600</td>\n",
       "    </tr>\n",
       "    <tr>\n",
       "      <td>90</td>\n",
       "      <td>2.210100</td>\n",
       "    </tr>\n",
       "    <tr>\n",
       "      <td>100</td>\n",
       "      <td>2.220700</td>\n",
       "    </tr>\n",
       "    <tr>\n",
       "      <td>110</td>\n",
       "      <td>2.209100</td>\n",
       "    </tr>\n",
       "    <tr>\n",
       "      <td>120</td>\n",
       "      <td>2.227400</td>\n",
       "    </tr>\n",
       "    <tr>\n",
       "      <td>130</td>\n",
       "      <td>2.048000</td>\n",
       "    </tr>\n",
       "    <tr>\n",
       "      <td>140</td>\n",
       "      <td>2.188100</td>\n",
       "    </tr>\n",
       "    <tr>\n",
       "      <td>150</td>\n",
       "      <td>2.128000</td>\n",
       "    </tr>\n",
       "    <tr>\n",
       "      <td>160</td>\n",
       "      <td>2.077900</td>\n",
       "    </tr>\n",
       "    <tr>\n",
       "      <td>170</td>\n",
       "      <td>2.106900</td>\n",
       "    </tr>\n",
       "    <tr>\n",
       "      <td>180</td>\n",
       "      <td>2.115900</td>\n",
       "    </tr>\n",
       "    <tr>\n",
       "      <td>190</td>\n",
       "      <td>2.085500</td>\n",
       "    </tr>\n",
       "    <tr>\n",
       "      <td>200</td>\n",
       "      <td>2.032700</td>\n",
       "    </tr>\n",
       "    <tr>\n",
       "      <td>210</td>\n",
       "      <td>2.025700</td>\n",
       "    </tr>\n",
       "    <tr>\n",
       "      <td>220</td>\n",
       "      <td>2.017000</td>\n",
       "    </tr>\n",
       "    <tr>\n",
       "      <td>230</td>\n",
       "      <td>2.032400</td>\n",
       "    </tr>\n",
       "    <tr>\n",
       "      <td>240</td>\n",
       "      <td>2.050900</td>\n",
       "    </tr>\n",
       "    <tr>\n",
       "      <td>250</td>\n",
       "      <td>1.954200</td>\n",
       "    </tr>\n",
       "    <tr>\n",
       "      <td>260</td>\n",
       "      <td>1.991300</td>\n",
       "    </tr>\n",
       "    <tr>\n",
       "      <td>270</td>\n",
       "      <td>2.013600</td>\n",
       "    </tr>\n",
       "    <tr>\n",
       "      <td>280</td>\n",
       "      <td>1.940500</td>\n",
       "    </tr>\n",
       "    <tr>\n",
       "      <td>290</td>\n",
       "      <td>1.896500</td>\n",
       "    </tr>\n",
       "    <tr>\n",
       "      <td>300</td>\n",
       "      <td>1.993500</td>\n",
       "    </tr>\n",
       "    <tr>\n",
       "      <td>310</td>\n",
       "      <td>1.909300</td>\n",
       "    </tr>\n",
       "    <tr>\n",
       "      <td>320</td>\n",
       "      <td>1.898500</td>\n",
       "    </tr>\n",
       "    <tr>\n",
       "      <td>330</td>\n",
       "      <td>1.949200</td>\n",
       "    </tr>\n",
       "    <tr>\n",
       "      <td>340</td>\n",
       "      <td>1.946000</td>\n",
       "    </tr>\n",
       "    <tr>\n",
       "      <td>350</td>\n",
       "      <td>1.866700</td>\n",
       "    </tr>\n",
       "    <tr>\n",
       "      <td>360</td>\n",
       "      <td>1.870200</td>\n",
       "    </tr>\n",
       "    <tr>\n",
       "      <td>370</td>\n",
       "      <td>1.894200</td>\n",
       "    </tr>\n",
       "    <tr>\n",
       "      <td>380</td>\n",
       "      <td>1.875800</td>\n",
       "    </tr>\n",
       "    <tr>\n",
       "      <td>390</td>\n",
       "      <td>1.919900</td>\n",
       "    </tr>\n",
       "    <tr>\n",
       "      <td>400</td>\n",
       "      <td>1.857700</td>\n",
       "    </tr>\n",
       "    <tr>\n",
       "      <td>410</td>\n",
       "      <td>1.841900</td>\n",
       "    </tr>\n",
       "    <tr>\n",
       "      <td>420</td>\n",
       "      <td>1.772600</td>\n",
       "    </tr>\n",
       "    <tr>\n",
       "      <td>430</td>\n",
       "      <td>1.917800</td>\n",
       "    </tr>\n",
       "    <tr>\n",
       "      <td>440</td>\n",
       "      <td>1.870100</td>\n",
       "    </tr>\n",
       "    <tr>\n",
       "      <td>450</td>\n",
       "      <td>1.881200</td>\n",
       "    </tr>\n",
       "    <tr>\n",
       "      <td>460</td>\n",
       "      <td>1.904800</td>\n",
       "    </tr>\n",
       "    <tr>\n",
       "      <td>470</td>\n",
       "      <td>1.852500</td>\n",
       "    </tr>\n",
       "    <tr>\n",
       "      <td>480</td>\n",
       "      <td>1.767900</td>\n",
       "    </tr>\n",
       "    <tr>\n",
       "      <td>490</td>\n",
       "      <td>1.856500</td>\n",
       "    </tr>\n",
       "    <tr>\n",
       "      <td>500</td>\n",
       "      <td>1.852700</td>\n",
       "    </tr>\n",
       "    <tr>\n",
       "      <td>510</td>\n",
       "      <td>1.803000</td>\n",
       "    </tr>\n",
       "    <tr>\n",
       "      <td>520</td>\n",
       "      <td>1.819900</td>\n",
       "    </tr>\n",
       "    <tr>\n",
       "      <td>530</td>\n",
       "      <td>1.881500</td>\n",
       "    </tr>\n",
       "    <tr>\n",
       "      <td>540</td>\n",
       "      <td>1.859700</td>\n",
       "    </tr>\n",
       "    <tr>\n",
       "      <td>550</td>\n",
       "      <td>1.864200</td>\n",
       "    </tr>\n",
       "    <tr>\n",
       "      <td>560</td>\n",
       "      <td>1.809100</td>\n",
       "    </tr>\n",
       "    <tr>\n",
       "      <td>570</td>\n",
       "      <td>1.777400</td>\n",
       "    </tr>\n",
       "    <tr>\n",
       "      <td>580</td>\n",
       "      <td>1.863800</td>\n",
       "    </tr>\n",
       "    <tr>\n",
       "      <td>590</td>\n",
       "      <td>1.744600</td>\n",
       "    </tr>\n",
       "    <tr>\n",
       "      <td>600</td>\n",
       "      <td>1.869800</td>\n",
       "    </tr>\n",
       "    <tr>\n",
       "      <td>610</td>\n",
       "      <td>1.802700</td>\n",
       "    </tr>\n",
       "    <tr>\n",
       "      <td>620</td>\n",
       "      <td>1.760400</td>\n",
       "    </tr>\n",
       "    <tr>\n",
       "      <td>630</td>\n",
       "      <td>1.779100</td>\n",
       "    </tr>\n",
       "    <tr>\n",
       "      <td>640</td>\n",
       "      <td>1.801100</td>\n",
       "    </tr>\n",
       "    <tr>\n",
       "      <td>650</td>\n",
       "      <td>1.761100</td>\n",
       "    </tr>\n",
       "    <tr>\n",
       "      <td>660</td>\n",
       "      <td>1.838000</td>\n",
       "    </tr>\n",
       "    <tr>\n",
       "      <td>670</td>\n",
       "      <td>1.805100</td>\n",
       "    </tr>\n",
       "    <tr>\n",
       "      <td>680</td>\n",
       "      <td>1.812500</td>\n",
       "    </tr>\n",
       "    <tr>\n",
       "      <td>690</td>\n",
       "      <td>1.831900</td>\n",
       "    </tr>\n",
       "    <tr>\n",
       "      <td>700</td>\n",
       "      <td>1.753500</td>\n",
       "    </tr>\n",
       "    <tr>\n",
       "      <td>710</td>\n",
       "      <td>1.658500</td>\n",
       "    </tr>\n",
       "    <tr>\n",
       "      <td>720</td>\n",
       "      <td>1.625000</td>\n",
       "    </tr>\n",
       "    <tr>\n",
       "      <td>730</td>\n",
       "      <td>1.619400</td>\n",
       "    </tr>\n",
       "    <tr>\n",
       "      <td>740</td>\n",
       "      <td>1.659000</td>\n",
       "    </tr>\n",
       "    <tr>\n",
       "      <td>750</td>\n",
       "      <td>1.612800</td>\n",
       "    </tr>\n",
       "    <tr>\n",
       "      <td>760</td>\n",
       "      <td>1.634800</td>\n",
       "    </tr>\n",
       "    <tr>\n",
       "      <td>770</td>\n",
       "      <td>1.607600</td>\n",
       "    </tr>\n",
       "    <tr>\n",
       "      <td>780</td>\n",
       "      <td>1.627800</td>\n",
       "    </tr>\n",
       "    <tr>\n",
       "      <td>790</td>\n",
       "      <td>1.628100</td>\n",
       "    </tr>\n",
       "    <tr>\n",
       "      <td>800</td>\n",
       "      <td>1.623000</td>\n",
       "    </tr>\n",
       "    <tr>\n",
       "      <td>810</td>\n",
       "      <td>1.626900</td>\n",
       "    </tr>\n",
       "    <tr>\n",
       "      <td>820</td>\n",
       "      <td>1.590000</td>\n",
       "    </tr>\n",
       "    <tr>\n",
       "      <td>830</td>\n",
       "      <td>1.672700</td>\n",
       "    </tr>\n",
       "    <tr>\n",
       "      <td>840</td>\n",
       "      <td>1.632600</td>\n",
       "    </tr>\n",
       "    <tr>\n",
       "      <td>850</td>\n",
       "      <td>1.731500</td>\n",
       "    </tr>\n",
       "    <tr>\n",
       "      <td>860</td>\n",
       "      <td>1.579100</td>\n",
       "    </tr>\n",
       "    <tr>\n",
       "      <td>870</td>\n",
       "      <td>1.588400</td>\n",
       "    </tr>\n",
       "    <tr>\n",
       "      <td>880</td>\n",
       "      <td>1.665200</td>\n",
       "    </tr>\n",
       "    <tr>\n",
       "      <td>890</td>\n",
       "      <td>1.646000</td>\n",
       "    </tr>\n",
       "    <tr>\n",
       "      <td>900</td>\n",
       "      <td>1.616000</td>\n",
       "    </tr>\n",
       "    <tr>\n",
       "      <td>910</td>\n",
       "      <td>1.665300</td>\n",
       "    </tr>\n",
       "    <tr>\n",
       "      <td>920</td>\n",
       "      <td>1.614700</td>\n",
       "    </tr>\n",
       "    <tr>\n",
       "      <td>930</td>\n",
       "      <td>1.614400</td>\n",
       "    </tr>\n",
       "    <tr>\n",
       "      <td>940</td>\n",
       "      <td>1.637100</td>\n",
       "    </tr>\n",
       "    <tr>\n",
       "      <td>950</td>\n",
       "      <td>1.674100</td>\n",
       "    </tr>\n",
       "    <tr>\n",
       "      <td>960</td>\n",
       "      <td>1.677000</td>\n",
       "    </tr>\n",
       "    <tr>\n",
       "      <td>970</td>\n",
       "      <td>1.657600</td>\n",
       "    </tr>\n",
       "    <tr>\n",
       "      <td>980</td>\n",
       "      <td>1.673800</td>\n",
       "    </tr>\n",
       "    <tr>\n",
       "      <td>990</td>\n",
       "      <td>1.640600</td>\n",
       "    </tr>\n",
       "    <tr>\n",
       "      <td>1000</td>\n",
       "      <td>1.636900</td>\n",
       "    </tr>\n",
       "    <tr>\n",
       "      <td>1010</td>\n",
       "      <td>1.645900</td>\n",
       "    </tr>\n",
       "    <tr>\n",
       "      <td>1020</td>\n",
       "      <td>1.655500</td>\n",
       "    </tr>\n",
       "    <tr>\n",
       "      <td>1030</td>\n",
       "      <td>1.606300</td>\n",
       "    </tr>\n",
       "    <tr>\n",
       "      <td>1040</td>\n",
       "      <td>1.595200</td>\n",
       "    </tr>\n",
       "    <tr>\n",
       "      <td>1050</td>\n",
       "      <td>1.614500</td>\n",
       "    </tr>\n",
       "    <tr>\n",
       "      <td>1060</td>\n",
       "      <td>1.670100</td>\n",
       "    </tr>\n",
       "    <tr>\n",
       "      <td>1070</td>\n",
       "      <td>1.626900</td>\n",
       "    </tr>\n",
       "    <tr>\n",
       "      <td>1080</td>\n",
       "      <td>1.566600</td>\n",
       "    </tr>\n",
       "    <tr>\n",
       "      <td>1090</td>\n",
       "      <td>1.631100</td>\n",
       "    </tr>\n",
       "    <tr>\n",
       "      <td>1100</td>\n",
       "      <td>1.602200</td>\n",
       "    </tr>\n",
       "    <tr>\n",
       "      <td>1110</td>\n",
       "      <td>1.651000</td>\n",
       "    </tr>\n",
       "    <tr>\n",
       "      <td>1120</td>\n",
       "      <td>1.665600</td>\n",
       "    </tr>\n",
       "    <tr>\n",
       "      <td>1130</td>\n",
       "      <td>1.674100</td>\n",
       "    </tr>\n",
       "    <tr>\n",
       "      <td>1140</td>\n",
       "      <td>1.599400</td>\n",
       "    </tr>\n",
       "    <tr>\n",
       "      <td>1150</td>\n",
       "      <td>1.594000</td>\n",
       "    </tr>\n",
       "    <tr>\n",
       "      <td>1160</td>\n",
       "      <td>1.624800</td>\n",
       "    </tr>\n",
       "    <tr>\n",
       "      <td>1170</td>\n",
       "      <td>1.658300</td>\n",
       "    </tr>\n",
       "    <tr>\n",
       "      <td>1180</td>\n",
       "      <td>1.563000</td>\n",
       "    </tr>\n",
       "    <tr>\n",
       "      <td>1190</td>\n",
       "      <td>1.587100</td>\n",
       "    </tr>\n",
       "    <tr>\n",
       "      <td>1200</td>\n",
       "      <td>1.628000</td>\n",
       "    </tr>\n",
       "    <tr>\n",
       "      <td>1210</td>\n",
       "      <td>1.615200</td>\n",
       "    </tr>\n",
       "    <tr>\n",
       "      <td>1220</td>\n",
       "      <td>1.620500</td>\n",
       "    </tr>\n",
       "    <tr>\n",
       "      <td>1230</td>\n",
       "      <td>1.640000</td>\n",
       "    </tr>\n",
       "    <tr>\n",
       "      <td>1240</td>\n",
       "      <td>1.584200</td>\n",
       "    </tr>\n",
       "    <tr>\n",
       "      <td>1250</td>\n",
       "      <td>1.599300</td>\n",
       "    </tr>\n",
       "    <tr>\n",
       "      <td>1260</td>\n",
       "      <td>1.571000</td>\n",
       "    </tr>\n",
       "    <tr>\n",
       "      <td>1270</td>\n",
       "      <td>1.616200</td>\n",
       "    </tr>\n",
       "    <tr>\n",
       "      <td>1280</td>\n",
       "      <td>1.552900</td>\n",
       "    </tr>\n",
       "    <tr>\n",
       "      <td>1290</td>\n",
       "      <td>1.586000</td>\n",
       "    </tr>\n",
       "    <tr>\n",
       "      <td>1300</td>\n",
       "      <td>1.593600</td>\n",
       "    </tr>\n",
       "    <tr>\n",
       "      <td>1310</td>\n",
       "      <td>1.597300</td>\n",
       "    </tr>\n",
       "    <tr>\n",
       "      <td>1320</td>\n",
       "      <td>1.609900</td>\n",
       "    </tr>\n",
       "    <tr>\n",
       "      <td>1330</td>\n",
       "      <td>1.634000</td>\n",
       "    </tr>\n",
       "    <tr>\n",
       "      <td>1340</td>\n",
       "      <td>1.607400</td>\n",
       "    </tr>\n",
       "    <tr>\n",
       "      <td>1350</td>\n",
       "      <td>1.616700</td>\n",
       "    </tr>\n",
       "    <tr>\n",
       "      <td>1360</td>\n",
       "      <td>1.559200</td>\n",
       "    </tr>\n",
       "    <tr>\n",
       "      <td>1370</td>\n",
       "      <td>1.636000</td>\n",
       "    </tr>\n",
       "    <tr>\n",
       "      <td>1380</td>\n",
       "      <td>1.611700</td>\n",
       "    </tr>\n",
       "    <tr>\n",
       "      <td>1390</td>\n",
       "      <td>1.576800</td>\n",
       "    </tr>\n",
       "    <tr>\n",
       "      <td>1400</td>\n",
       "      <td>1.652700</td>\n",
       "    </tr>\n",
       "    <tr>\n",
       "      <td>1410</td>\n",
       "      <td>1.476600</td>\n",
       "    </tr>\n",
       "    <tr>\n",
       "      <td>1420</td>\n",
       "      <td>1.366500</td>\n",
       "    </tr>\n",
       "    <tr>\n",
       "      <td>1430</td>\n",
       "      <td>1.389000</td>\n",
       "    </tr>\n",
       "    <tr>\n",
       "      <td>1440</td>\n",
       "      <td>1.379800</td>\n",
       "    </tr>\n",
       "    <tr>\n",
       "      <td>1450</td>\n",
       "      <td>1.319000</td>\n",
       "    </tr>\n",
       "    <tr>\n",
       "      <td>1460</td>\n",
       "      <td>1.355600</td>\n",
       "    </tr>\n",
       "    <tr>\n",
       "      <td>1470</td>\n",
       "      <td>1.306200</td>\n",
       "    </tr>\n",
       "    <tr>\n",
       "      <td>1480</td>\n",
       "      <td>1.294700</td>\n",
       "    </tr>\n",
       "    <tr>\n",
       "      <td>1490</td>\n",
       "      <td>1.399400</td>\n",
       "    </tr>\n",
       "    <tr>\n",
       "      <td>1500</td>\n",
       "      <td>1.332800</td>\n",
       "    </tr>\n",
       "    <tr>\n",
       "      <td>1510</td>\n",
       "      <td>1.339900</td>\n",
       "    </tr>\n",
       "    <tr>\n",
       "      <td>1520</td>\n",
       "      <td>1.311900</td>\n",
       "    </tr>\n",
       "    <tr>\n",
       "      <td>1530</td>\n",
       "      <td>1.413200</td>\n",
       "    </tr>\n",
       "    <tr>\n",
       "      <td>1540</td>\n",
       "      <td>1.336000</td>\n",
       "    </tr>\n",
       "    <tr>\n",
       "      <td>1550</td>\n",
       "      <td>1.340700</td>\n",
       "    </tr>\n",
       "    <tr>\n",
       "      <td>1560</td>\n",
       "      <td>1.325900</td>\n",
       "    </tr>\n",
       "    <tr>\n",
       "      <td>1570</td>\n",
       "      <td>1.343200</td>\n",
       "    </tr>\n",
       "    <tr>\n",
       "      <td>1580</td>\n",
       "      <td>1.345900</td>\n",
       "    </tr>\n",
       "    <tr>\n",
       "      <td>1590</td>\n",
       "      <td>1.387300</td>\n",
       "    </tr>\n",
       "    <tr>\n",
       "      <td>1600</td>\n",
       "      <td>1.374300</td>\n",
       "    </tr>\n",
       "    <tr>\n",
       "      <td>1610</td>\n",
       "      <td>1.389500</td>\n",
       "    </tr>\n",
       "    <tr>\n",
       "      <td>1620</td>\n",
       "      <td>1.373200</td>\n",
       "    </tr>\n",
       "    <tr>\n",
       "      <td>1630</td>\n",
       "      <td>1.304600</td>\n",
       "    </tr>\n",
       "    <tr>\n",
       "      <td>1640</td>\n",
       "      <td>1.373200</td>\n",
       "    </tr>\n",
       "    <tr>\n",
       "      <td>1650</td>\n",
       "      <td>1.336200</td>\n",
       "    </tr>\n",
       "    <tr>\n",
       "      <td>1660</td>\n",
       "      <td>1.358800</td>\n",
       "    </tr>\n",
       "    <tr>\n",
       "      <td>1670</td>\n",
       "      <td>1.401300</td>\n",
       "    </tr>\n",
       "    <tr>\n",
       "      <td>1680</td>\n",
       "      <td>1.327100</td>\n",
       "    </tr>\n",
       "    <tr>\n",
       "      <td>1690</td>\n",
       "      <td>1.342300</td>\n",
       "    </tr>\n",
       "    <tr>\n",
       "      <td>1700</td>\n",
       "      <td>1.379600</td>\n",
       "    </tr>\n",
       "    <tr>\n",
       "      <td>1710</td>\n",
       "      <td>1.354200</td>\n",
       "    </tr>\n",
       "    <tr>\n",
       "      <td>1720</td>\n",
       "      <td>1.356300</td>\n",
       "    </tr>\n",
       "    <tr>\n",
       "      <td>1730</td>\n",
       "      <td>1.409500</td>\n",
       "    </tr>\n",
       "    <tr>\n",
       "      <td>1740</td>\n",
       "      <td>1.342500</td>\n",
       "    </tr>\n",
       "    <tr>\n",
       "      <td>1750</td>\n",
       "      <td>1.372200</td>\n",
       "    </tr>\n",
       "    <tr>\n",
       "      <td>1760</td>\n",
       "      <td>1.342800</td>\n",
       "    </tr>\n",
       "    <tr>\n",
       "      <td>1770</td>\n",
       "      <td>1.393700</td>\n",
       "    </tr>\n",
       "    <tr>\n",
       "      <td>1780</td>\n",
       "      <td>1.323100</td>\n",
       "    </tr>\n",
       "    <tr>\n",
       "      <td>1790</td>\n",
       "      <td>1.354600</td>\n",
       "    </tr>\n",
       "    <tr>\n",
       "      <td>1800</td>\n",
       "      <td>1.355500</td>\n",
       "    </tr>\n",
       "    <tr>\n",
       "      <td>1810</td>\n",
       "      <td>1.363700</td>\n",
       "    </tr>\n",
       "    <tr>\n",
       "      <td>1820</td>\n",
       "      <td>1.373500</td>\n",
       "    </tr>\n",
       "    <tr>\n",
       "      <td>1830</td>\n",
       "      <td>1.364000</td>\n",
       "    </tr>\n",
       "    <tr>\n",
       "      <td>1840</td>\n",
       "      <td>1.368200</td>\n",
       "    </tr>\n",
       "    <tr>\n",
       "      <td>1850</td>\n",
       "      <td>1.353700</td>\n",
       "    </tr>\n",
       "    <tr>\n",
       "      <td>1860</td>\n",
       "      <td>1.347300</td>\n",
       "    </tr>\n",
       "    <tr>\n",
       "      <td>1870</td>\n",
       "      <td>1.320200</td>\n",
       "    </tr>\n",
       "    <tr>\n",
       "      <td>1880</td>\n",
       "      <td>1.332300</td>\n",
       "    </tr>\n",
       "    <tr>\n",
       "      <td>1890</td>\n",
       "      <td>1.350300</td>\n",
       "    </tr>\n",
       "    <tr>\n",
       "      <td>1900</td>\n",
       "      <td>1.317200</td>\n",
       "    </tr>\n",
       "    <tr>\n",
       "      <td>1910</td>\n",
       "      <td>1.309600</td>\n",
       "    </tr>\n",
       "    <tr>\n",
       "      <td>1920</td>\n",
       "      <td>1.287100</td>\n",
       "    </tr>\n",
       "    <tr>\n",
       "      <td>1930</td>\n",
       "      <td>1.352400</td>\n",
       "    </tr>\n",
       "    <tr>\n",
       "      <td>1940</td>\n",
       "      <td>1.411900</td>\n",
       "    </tr>\n",
       "    <tr>\n",
       "      <td>1950</td>\n",
       "      <td>1.386100</td>\n",
       "    </tr>\n",
       "    <tr>\n",
       "      <td>1960</td>\n",
       "      <td>1.342700</td>\n",
       "    </tr>\n",
       "    <tr>\n",
       "      <td>1970</td>\n",
       "      <td>1.378400</td>\n",
       "    </tr>\n",
       "    <tr>\n",
       "      <td>1980</td>\n",
       "      <td>1.350400</td>\n",
       "    </tr>\n",
       "    <tr>\n",
       "      <td>1990</td>\n",
       "      <td>1.301100</td>\n",
       "    </tr>\n",
       "    <tr>\n",
       "      <td>2000</td>\n",
       "      <td>1.311500</td>\n",
       "    </tr>\n",
       "    <tr>\n",
       "      <td>2010</td>\n",
       "      <td>1.349300</td>\n",
       "    </tr>\n",
       "    <tr>\n",
       "      <td>2020</td>\n",
       "      <td>1.324400</td>\n",
       "    </tr>\n",
       "    <tr>\n",
       "      <td>2030</td>\n",
       "      <td>1.329000</td>\n",
       "    </tr>\n",
       "    <tr>\n",
       "      <td>2040</td>\n",
       "      <td>1.368200</td>\n",
       "    </tr>\n",
       "    <tr>\n",
       "      <td>2050</td>\n",
       "      <td>1.301300</td>\n",
       "    </tr>\n",
       "    <tr>\n",
       "      <td>2060</td>\n",
       "      <td>1.321300</td>\n",
       "    </tr>\n",
       "    <tr>\n",
       "      <td>2070</td>\n",
       "      <td>1.396700</td>\n",
       "    </tr>\n",
       "    <tr>\n",
       "      <td>2080</td>\n",
       "      <td>1.311400</td>\n",
       "    </tr>\n",
       "    <tr>\n",
       "      <td>2090</td>\n",
       "      <td>1.361600</td>\n",
       "    </tr>\n",
       "    <tr>\n",
       "      <td>2100</td>\n",
       "      <td>1.316900</td>\n",
       "    </tr>\n",
       "    <tr>\n",
       "      <td>2110</td>\n",
       "      <td>1.330800</td>\n",
       "    </tr>\n",
       "    <tr>\n",
       "      <td>2120</td>\n",
       "      <td>1.065800</td>\n",
       "    </tr>\n",
       "    <tr>\n",
       "      <td>2130</td>\n",
       "      <td>1.015500</td>\n",
       "    </tr>\n",
       "    <tr>\n",
       "      <td>2140</td>\n",
       "      <td>0.969800</td>\n",
       "    </tr>\n",
       "    <tr>\n",
       "      <td>2150</td>\n",
       "      <td>0.948600</td>\n",
       "    </tr>\n",
       "    <tr>\n",
       "      <td>2160</td>\n",
       "      <td>0.978900</td>\n",
       "    </tr>\n",
       "    <tr>\n",
       "      <td>2170</td>\n",
       "      <td>0.964600</td>\n",
       "    </tr>\n",
       "    <tr>\n",
       "      <td>2180</td>\n",
       "      <td>0.969800</td>\n",
       "    </tr>\n",
       "    <tr>\n",
       "      <td>2190</td>\n",
       "      <td>0.935300</td>\n",
       "    </tr>\n",
       "    <tr>\n",
       "      <td>2200</td>\n",
       "      <td>1.012100</td>\n",
       "    </tr>\n",
       "    <tr>\n",
       "      <td>2210</td>\n",
       "      <td>0.936100</td>\n",
       "    </tr>\n",
       "    <tr>\n",
       "      <td>2220</td>\n",
       "      <td>0.950000</td>\n",
       "    </tr>\n",
       "    <tr>\n",
       "      <td>2230</td>\n",
       "      <td>0.927800</td>\n",
       "    </tr>\n",
       "    <tr>\n",
       "      <td>2240</td>\n",
       "      <td>1.016800</td>\n",
       "    </tr>\n",
       "    <tr>\n",
       "      <td>2250</td>\n",
       "      <td>0.944100</td>\n",
       "    </tr>\n",
       "    <tr>\n",
       "      <td>2260</td>\n",
       "      <td>0.958200</td>\n",
       "    </tr>\n",
       "    <tr>\n",
       "      <td>2270</td>\n",
       "      <td>0.958000</td>\n",
       "    </tr>\n",
       "    <tr>\n",
       "      <td>2280</td>\n",
       "      <td>0.962200</td>\n",
       "    </tr>\n",
       "    <tr>\n",
       "      <td>2290</td>\n",
       "      <td>0.952400</td>\n",
       "    </tr>\n",
       "    <tr>\n",
       "      <td>2300</td>\n",
       "      <td>0.937200</td>\n",
       "    </tr>\n",
       "    <tr>\n",
       "      <td>2310</td>\n",
       "      <td>1.007500</td>\n",
       "    </tr>\n",
       "    <tr>\n",
       "      <td>2320</td>\n",
       "      <td>0.967400</td>\n",
       "    </tr>\n",
       "    <tr>\n",
       "      <td>2330</td>\n",
       "      <td>0.969900</td>\n",
       "    </tr>\n",
       "    <tr>\n",
       "      <td>2340</td>\n",
       "      <td>0.936700</td>\n",
       "    </tr>\n",
       "    <tr>\n",
       "      <td>2350</td>\n",
       "      <td>0.949000</td>\n",
       "    </tr>\n",
       "    <tr>\n",
       "      <td>2360</td>\n",
       "      <td>0.969000</td>\n",
       "    </tr>\n",
       "    <tr>\n",
       "      <td>2370</td>\n",
       "      <td>0.968400</td>\n",
       "    </tr>\n",
       "    <tr>\n",
       "      <td>2380</td>\n",
       "      <td>0.954800</td>\n",
       "    </tr>\n",
       "    <tr>\n",
       "      <td>2390</td>\n",
       "      <td>0.944800</td>\n",
       "    </tr>\n",
       "    <tr>\n",
       "      <td>2400</td>\n",
       "      <td>0.944700</td>\n",
       "    </tr>\n",
       "    <tr>\n",
       "      <td>2410</td>\n",
       "      <td>0.950700</td>\n",
       "    </tr>\n",
       "    <tr>\n",
       "      <td>2420</td>\n",
       "      <td>0.904900</td>\n",
       "    </tr>\n",
       "    <tr>\n",
       "      <td>2430</td>\n",
       "      <td>0.972100</td>\n",
       "    </tr>\n",
       "    <tr>\n",
       "      <td>2440</td>\n",
       "      <td>0.887600</td>\n",
       "    </tr>\n",
       "    <tr>\n",
       "      <td>2450</td>\n",
       "      <td>0.957500</td>\n",
       "    </tr>\n",
       "    <tr>\n",
       "      <td>2460</td>\n",
       "      <td>0.963600</td>\n",
       "    </tr>\n",
       "    <tr>\n",
       "      <td>2470</td>\n",
       "      <td>0.917400</td>\n",
       "    </tr>\n",
       "    <tr>\n",
       "      <td>2480</td>\n",
       "      <td>0.975700</td>\n",
       "    </tr>\n",
       "    <tr>\n",
       "      <td>2490</td>\n",
       "      <td>0.967300</td>\n",
       "    </tr>\n",
       "    <tr>\n",
       "      <td>2500</td>\n",
       "      <td>0.954500</td>\n",
       "    </tr>\n",
       "    <tr>\n",
       "      <td>2510</td>\n",
       "      <td>0.982700</td>\n",
       "    </tr>\n",
       "    <tr>\n",
       "      <td>2520</td>\n",
       "      <td>0.908300</td>\n",
       "    </tr>\n",
       "    <tr>\n",
       "      <td>2530</td>\n",
       "      <td>0.955900</td>\n",
       "    </tr>\n",
       "    <tr>\n",
       "      <td>2540</td>\n",
       "      <td>0.937100</td>\n",
       "    </tr>\n",
       "    <tr>\n",
       "      <td>2550</td>\n",
       "      <td>0.937900</td>\n",
       "    </tr>\n",
       "    <tr>\n",
       "      <td>2560</td>\n",
       "      <td>0.953500</td>\n",
       "    </tr>\n",
       "    <tr>\n",
       "      <td>2570</td>\n",
       "      <td>0.949200</td>\n",
       "    </tr>\n",
       "    <tr>\n",
       "      <td>2580</td>\n",
       "      <td>0.924900</td>\n",
       "    </tr>\n",
       "    <tr>\n",
       "      <td>2590</td>\n",
       "      <td>0.929800</td>\n",
       "    </tr>\n",
       "  </tbody>\n",
       "</table><p>"
      ],
      "text/plain": [
       "<IPython.core.display.HTML object>"
      ]
     },
     "metadata": {},
     "output_type": "display_data"
    },
    {
     "ename": "KeyboardInterrupt",
     "evalue": "",
     "output_type": "error",
     "traceback": [
      "\u001b[0;31m---------------------------------------------------------------------------\u001b[0m",
      "\u001b[0;31mKeyboardInterrupt\u001b[0m                         Traceback (most recent call last)",
      "\u001b[0;32m<ipython-input-8-3d62c575fcfd>\u001b[0m in \u001b[0;36m<cell line: 0>\u001b[0;34m()\u001b[0m\n\u001b[0;32m----> 1\u001b[0;31m \u001b[0mtrainer_stats\u001b[0m \u001b[0;34m=\u001b[0m \u001b[0mtrainer\u001b[0m\u001b[0;34m.\u001b[0m\u001b[0mtrain\u001b[0m\u001b[0;34m(\u001b[0m\u001b[0;34m)\u001b[0m\u001b[0;34m\u001b[0m\u001b[0;34m\u001b[0m\u001b[0m\n\u001b[0m",
      "\u001b[0;32m/usr/local/lib/python3.11/dist-packages/transformers/trainer.py\u001b[0m in \u001b[0;36mtrain\u001b[0;34m(self, resume_from_checkpoint, trial, ignore_keys_for_eval, **kwargs)\u001b[0m\n\u001b[1;32m   2169\u001b[0m                 \u001b[0mhf_hub_utils\u001b[0m\u001b[0;34m.\u001b[0m\u001b[0menable_progress_bars\u001b[0m\u001b[0;34m(\u001b[0m\u001b[0;34m)\u001b[0m\u001b[0;34m\u001b[0m\u001b[0;34m\u001b[0m\u001b[0m\n\u001b[1;32m   2170\u001b[0m         \u001b[0;32melse\u001b[0m\u001b[0;34m:\u001b[0m\u001b[0;34m\u001b[0m\u001b[0;34m\u001b[0m\u001b[0m\n\u001b[0;32m-> 2171\u001b[0;31m             return inner_training_loop(\n\u001b[0m\u001b[1;32m   2172\u001b[0m                 \u001b[0margs\u001b[0m\u001b[0;34m=\u001b[0m\u001b[0margs\u001b[0m\u001b[0;34m,\u001b[0m\u001b[0;34m\u001b[0m\u001b[0;34m\u001b[0m\u001b[0m\n\u001b[1;32m   2173\u001b[0m                 \u001b[0mresume_from_checkpoint\u001b[0m\u001b[0;34m=\u001b[0m\u001b[0mresume_from_checkpoint\u001b[0m\u001b[0;34m,\u001b[0m\u001b[0;34m\u001b[0m\u001b[0;34m\u001b[0m\u001b[0m\n",
      "\u001b[0;32m/usr/local/lib/python3.11/dist-packages/unsloth/models/llama.py\u001b[0m in \u001b[0;36m_fast_inner_training_loop\u001b[0;34m(self, batch_size, args, resume_from_checkpoint, trial, ignore_keys_for_eval)\u001b[0m\n",
      "\u001b[0;32m/usr/local/lib/python3.11/dist-packages/unsloth/models/_utils.py\u001b[0m in \u001b[0;36m_unsloth_training_step\u001b[0;34m(***failed resolving arguments***)\u001b[0m\n",
      "\u001b[0;32m/usr/local/lib/python3.11/dist-packages/accelerate/accelerator.py\u001b[0m in \u001b[0;36mbackward\u001b[0;34m(self, loss, **kwargs)\u001b[0m\n\u001b[1;32m   2244\u001b[0m             \u001b[0mself\u001b[0m\u001b[0;34m.\u001b[0m\u001b[0mlomo_backward\u001b[0m\u001b[0;34m(\u001b[0m\u001b[0mloss\u001b[0m\u001b[0;34m,\u001b[0m \u001b[0mlearning_rate\u001b[0m\u001b[0;34m)\u001b[0m\u001b[0;34m\u001b[0m\u001b[0;34m\u001b[0m\u001b[0m\n\u001b[1;32m   2245\u001b[0m         \u001b[0;32melse\u001b[0m\u001b[0;34m:\u001b[0m\u001b[0;34m\u001b[0m\u001b[0;34m\u001b[0m\u001b[0m\n\u001b[0;32m-> 2246\u001b[0;31m             \u001b[0mloss\u001b[0m\u001b[0;34m.\u001b[0m\u001b[0mbackward\u001b[0m\u001b[0;34m(\u001b[0m\u001b[0;34m**\u001b[0m\u001b[0mkwargs\u001b[0m\u001b[0;34m)\u001b[0m\u001b[0;34m\u001b[0m\u001b[0;34m\u001b[0m\u001b[0m\n\u001b[0m\u001b[1;32m   2247\u001b[0m \u001b[0;34m\u001b[0m\u001b[0m\n\u001b[1;32m   2248\u001b[0m     \u001b[0;32mdef\u001b[0m \u001b[0mset_trigger\u001b[0m\u001b[0;34m(\u001b[0m\u001b[0mself\u001b[0m\u001b[0;34m)\u001b[0m\u001b[0;34m:\u001b[0m\u001b[0;34m\u001b[0m\u001b[0;34m\u001b[0m\u001b[0m\n",
      "\u001b[0;32m/usr/local/lib/python3.11/dist-packages/torch/_tensor.py\u001b[0m in \u001b[0;36mbackward\u001b[0;34m(self, gradient, retain_graph, create_graph, inputs)\u001b[0m\n\u001b[1;32m    579\u001b[0m                 \u001b[0minputs\u001b[0m\u001b[0;34m=\u001b[0m\u001b[0minputs\u001b[0m\u001b[0;34m,\u001b[0m\u001b[0;34m\u001b[0m\u001b[0;34m\u001b[0m\u001b[0m\n\u001b[1;32m    580\u001b[0m             )\n\u001b[0;32m--> 581\u001b[0;31m         torch.autograd.backward(\n\u001b[0m\u001b[1;32m    582\u001b[0m             \u001b[0mself\u001b[0m\u001b[0;34m,\u001b[0m \u001b[0mgradient\u001b[0m\u001b[0;34m,\u001b[0m \u001b[0mretain_graph\u001b[0m\u001b[0;34m,\u001b[0m \u001b[0mcreate_graph\u001b[0m\u001b[0;34m,\u001b[0m \u001b[0minputs\u001b[0m\u001b[0;34m=\u001b[0m\u001b[0minputs\u001b[0m\u001b[0;34m\u001b[0m\u001b[0;34m\u001b[0m\u001b[0m\n\u001b[1;32m    583\u001b[0m         )\n",
      "\u001b[0;32m/usr/local/lib/python3.11/dist-packages/torch/autograd/__init__.py\u001b[0m in \u001b[0;36mbackward\u001b[0;34m(tensors, grad_tensors, retain_graph, create_graph, grad_variables, inputs)\u001b[0m\n\u001b[1;32m    345\u001b[0m     \u001b[0;31m# some Python versions print out the first line of a multi-line function\u001b[0m\u001b[0;34m\u001b[0m\u001b[0;34m\u001b[0m\u001b[0m\n\u001b[1;32m    346\u001b[0m     \u001b[0;31m# calls in the traceback and some print out the last line\u001b[0m\u001b[0;34m\u001b[0m\u001b[0;34m\u001b[0m\u001b[0m\n\u001b[0;32m--> 347\u001b[0;31m     _engine_run_backward(\n\u001b[0m\u001b[1;32m    348\u001b[0m         \u001b[0mtensors\u001b[0m\u001b[0;34m,\u001b[0m\u001b[0;34m\u001b[0m\u001b[0;34m\u001b[0m\u001b[0m\n\u001b[1;32m    349\u001b[0m         \u001b[0mgrad_tensors_\u001b[0m\u001b[0;34m,\u001b[0m\u001b[0;34m\u001b[0m\u001b[0;34m\u001b[0m\u001b[0m\n",
      "\u001b[0;32m/usr/local/lib/python3.11/dist-packages/torch/autograd/graph.py\u001b[0m in \u001b[0;36m_engine_run_backward\u001b[0;34m(t_outputs, *args, **kwargs)\u001b[0m\n\u001b[1;32m    823\u001b[0m         \u001b[0munregister_hooks\u001b[0m \u001b[0;34m=\u001b[0m \u001b[0m_register_logging_hooks_on_whole_graph\u001b[0m\u001b[0;34m(\u001b[0m\u001b[0mt_outputs\u001b[0m\u001b[0;34m)\u001b[0m\u001b[0;34m\u001b[0m\u001b[0;34m\u001b[0m\u001b[0m\n\u001b[1;32m    824\u001b[0m     \u001b[0;32mtry\u001b[0m\u001b[0;34m:\u001b[0m\u001b[0;34m\u001b[0m\u001b[0;34m\u001b[0m\u001b[0m\n\u001b[0;32m--> 825\u001b[0;31m         return Variable._execution_engine.run_backward(  # Calls into the C++ engine to run the backward pass\n\u001b[0m\u001b[1;32m    826\u001b[0m             \u001b[0mt_outputs\u001b[0m\u001b[0;34m,\u001b[0m \u001b[0;34m*\u001b[0m\u001b[0margs\u001b[0m\u001b[0;34m,\u001b[0m \u001b[0;34m**\u001b[0m\u001b[0mkwargs\u001b[0m\u001b[0;34m\u001b[0m\u001b[0;34m\u001b[0m\u001b[0m\n\u001b[1;32m    827\u001b[0m         )  # Calls into the C++ engine to run the backward pass\n",
      "\u001b[0;31mKeyboardInterrupt\u001b[0m: "
     ]
    }
   ],
   "source": [
    "trainer_stats = trainer.train()"
   ]
  },
  {
   "cell_type": "markdown",
   "metadata": {},
   "source": [
    "## 7. 모델 저장"
   ]
  },
  {
   "cell_type": "code",
   "execution_count": null,
   "metadata": {
    "colab": {
     "base_uri": "https://localhost:8080/"
    },
    "executionInfo": {
     "elapsed": 2070,
     "status": "ok",
     "timestamp": 1739964801280,
     "user": {
      "displayName": "송채원",
      "userId": "07880515647457255886"
     },
     "user_tz": -540
    },
    "id": "mG1UuBgS7rO5",
    "outputId": "335d4967-18f7-429f-e8ca-58ffc5361d9e"
   },
   "outputs": [
    {
     "name": "stdout",
     "output_type": "stream",
     "text": [
      "모델이 로컬에 저장되었습니다: /content/drive/MyDrive/한글리뷰/fine_tuned_model_mistralai_2590_2-8\n"
     ]
    }
   ],
   "source": [
    "# 모델 및 토크나이저 로컬 저장\n",
    "output_dir = \"/content/drive/MyDrive/한글리뷰/fine_tuned_model_mistralai_2590_2-8\"\n",
    "trainer.save_model(output_dir)\n",
    "tokenizer.save_pretrained(output_dir)\n",
    "\n",
    "print(f\"모델이 로컬에 저장되었습니다: {output_dir}\")\n",
    "\n",
    "\n"
   ]
  },
  {
   "cell_type": "markdown",
   "metadata": {},
   "source": [
    "## 8. 추론하기"
   ]
  },
  {
   "cell_type": "code",
   "execution_count": null,
   "metadata": {},
   "outputs": [],
   "source": [
    "from transformers import StoppingCriteria, StoppingCriteriaList\n",
    "\n",
    "\n",
    "class StopOnToken(StoppingCriteria):\n",
    "    def __init__(self, stop_token_id):\n",
    "        self.stop_token_id = stop_token_id  # 정지 토큰 ID를 초기화합니다.\n",
    "\n",
    "    def __call__(self, input_ids, scores, **kwargs):\n",
    "        return (\n",
    "            self.stop_token_id in input_ids[0]\n",
    "        )  # 입력된 ID 중 정지 토큰 ID가 있으면 정지합니다.\n",
    "\n",
    "\n",
    "# end_token을 설정\n",
    "stop_token =tokenizer.eos_token#\"<|end_of_text|>\"  # end_token으로 사용할 토큰을 설정합니다.\n",
    "stop_token_id = tokenizer.encode(stop_token, add_special_tokens=False)[\n",
    "    0\n",
    "]  # end_token의 ID를 인코딩합니다.\n",
    "\n",
    "# Stopping criteria 설정\n",
    "stopping_criteria = StoppingCriteriaList(\n",
    "    [StopOnToken(stop_token_id)]\n",
    ")  # 정지 조건을 설정합니다."
   ]
  },
  {
   "cell_type": "code",
   "execution_count": 14,
   "metadata": {
    "colab": {
     "base_uri": "https://localhost:8080/"
    },
    "executionInfo": {
     "elapsed": 12903800,
     "status": "ok",
     "timestamp": 1739978286437,
     "user": {
      "displayName": "송채원",
      "userId": "07880515647457255886"
     },
     "user_tz": -540
    },
    "id": "MP6p5Nab77Zn",
    "outputId": "805ba77b-19d8-46a9-db7a-5b814a67e591"
   },
   "outputs": [
    {
     "name": "stderr",
     "output_type": "stream",
     "text": [
      "  0%|          | 1/1689 [00:03<1:31:02,  3.24s/it]"
     ]
    },
    {
     "name": "stdout",
     "output_type": "stream",
     "text": [
      "1 : 너무너무 만족스러운 호텔이에요. 부산에 오면 꼭 추천하고 싶은 곳이에요. 최고입니다! ㅎㅎ 다음에 또 올 것 같아요.\n"
     ]
    },
    {
     "name": "stderr",
     "output_type": "stream",
     "text": [
      "\r  0%|          | 2/1689 [00:06<1:26:45,  3.09s/it]"
     ]
    },
    {
     "name": "stdout",
     "output_type": "stream",
     "text": [
      "2 : 프론트가 없고, 조식도 없으며, 일반 입주민들이 사이사이에 있어 호텔처럼 관리가 잘 안 되는 느낌이네요. 가성비가 떨어져요.\n"
     ]
    },
    {
     "name": "stderr",
     "output_type": "stream",
     "text": [
      "\r  0%|          | 3/1689 [00:22<4:19:55,  9.25s/it]"
     ]
    },
    {
     "name": "stdout",
     "output_type": "stream",
     "text": [
      "3 : 진짜 불친절해요. 살면서 머물렀던 호텔 중에 최악이었습니다. 직원인지 사장인지 체크인할 때부터 친절함 1도 없었구요. 3인 예약하고 추가 금액까지 결제했는데 수건 추가로 요청드리니 근정상 수건 4개밖에 제공이 안 된다네요. 2시간 정도 외출하고 다시 들어갈 때 몇 호실냐, 2분 예약하지 않았냐 물어보셨어요(체크인할 때와 같은 분). 추가금 결제했고 카드 결제 내역 문자도 보내드렸는데도 카드번호 몇 번인지 결제한 시간, 분, 초까지 물어보시더라구요. 결제한 영수증 직접 짜주신 다음, 호수 잘못 적었다 하마티 하셨어요. 사과 한 마디 없었구요. 어이가 없고 상당히 불쾌했습니다. 그리고 냉장고에서 생선 비린내 나요. 물에서도 비린맛 나어요…\n"
     ]
    },
    {
     "name": "stderr",
     "output_type": "stream",
     "text": [
      "\r  0%|          | 4/1689 [00:28<3:34:57,  7.65s/it]"
     ]
    },
    {
     "name": "stdout",
     "output_type": "stream",
     "text": [
      "4 : 뷰 맛집~~ 그런데 방음이 미흡하네요. 층간 소음과 발코니가 이중창이 아니라서 밤에 파도 소리, 아침에 까마귀인지 까마귀인지 계속 울어서 잠을 못 잤어요ㅠ 그런데 뷰는 너무 좋아요~~~\n"
     ]
    },
    {
     "name": "stderr",
     "output_type": "stream",
     "text": [
      "\r  0%|          | 5/1689 [00:31<2:54:38,  6.22s/it]"
     ]
    },
    {
     "name": "stdout",
     "output_type": "stream",
     "text": [
      "5 : 방 상태는 진짜 폐허 직전인데 전망은 좋아요. 보일러가 아주 잔잔하게 돌아서 추웠어요. 화장실에 비누만 있어서 샴푸 같은 거 다 가지고 와야 해요.\n"
     ]
    },
    {
     "name": "stderr",
     "output_type": "stream",
     "text": [
      "\r  0%|          | 6/1689 [00:37<2:53:42,  6.19s/it]"
     ]
    },
    {
     "name": "stdout",
     "output_type": "stream",
     "text": [
      "6 : 광안대교 뷰 하나만 보고 갔는데, 객실도 넓고 나름 깨끗했습니다! 제가 키가 안 좋아서 체크인할 때 유픈 해뺐이이가 있었는데, 직원분이 친절하게 대응해주셨습니다! 주차를 할 수 있다는 점은 좋았지만, 주차 관리가 불친절해서 아쉽습니다.\n"
     ]
    },
    {
     "name": "stderr",
     "output_type": "stream",
     "text": [
      "\r  0%|          | 7/1689 [00:47<3:27:44,  7.41s/it]"
     ]
    },
    {
     "name": "stdout",
     "output_type": "stream",
     "text": [
      "7 : 광안대교가 잘 보여 숙소에서 편안하게 뷰를 감상할 수 있어서 좋았습니다. 객실이 전체적으로 화이트 톤이라서 사진을 찍으면 더 화사하게 나오고, 입구에서부터 신발을 벗고 들어가서 더욱더 청결한 느낌을 받았습니다. 화장실, 샤워실, 세면대가 각각 분리되어 있는 것도 인상 깊었습니다. 직원분들도 친절하시고, 웰컴 키트, 조식 쿠폰이 키트도 감사합니다! 편안하게 잘 쉬고 좋은 시간 보내고 갑니다.\n"
     ]
    },
    {
     "name": "stderr",
     "output_type": "stream",
     "text": [
      "\r  0%|          | 8/1689 [00:52<3:00:21,  6.44s/it]"
     ]
    },
    {
     "name": "stdout",
     "output_type": "stream",
     "text": [
      "8 : 절대 가지 마세요. 호텔 직원이 공공기관 운영 호텔이라고 지들이 공무원이라고 어찌나 태도가 고작에다 고객을 지들이 지배하려는 불친절의 극치이고, 시설은 시골 여관 방 수준임.\n"
     ]
    },
    {
     "name": "stderr",
     "output_type": "stream",
     "text": [
      "\r  1%|          | 9/1689 [00:57<2:53:57,  6.21s/it]"
     ]
    },
    {
     "name": "stdout",
     "output_type": "stream",
     "text": [
      "9 : 애인과 첫 여행이라고 적어서 예약했더니 퇴실 시간도 늦게 주시고 와인도 서비스로 주셨습니다. 직원분들 전부 친절하시고 상냥하셨습니다. 방도 깔끔하고 뷰도 좋습니다. 방음이 살짝 안 되는 게 아쉬웠지만, 잘 쉬었습니다. 감사해요!\n"
     ]
    },
    {
     "name": "stderr",
     "output_type": "stream",
     "text": [
      "\r  1%|          | 10/1689 [01:01<2:32:00,  5.43s/it]"
     ]
    },
    {
     "name": "stdout",
     "output_type": "stream",
     "text": [
      "10 : 두 번째 방문인데 너무 깔끔하고 오션뷰가 끝장나요. 조식도 챙겨주시고 서비스도 너무 좋아요. 광안리는 호텔 1이 최고입니다ㅠㅠ\n"
     ]
    },
    {
     "name": "stderr",
     "output_type": "stream",
     "text": [
      "\r  1%|          | 11/1689 [01:04<2:12:53,  4.75s/it]"
     ]
    },
    {
     "name": "stdout",
     "output_type": "stream",
     "text": [
      "11 : 체크아웃 시간이 10시에 엘리베이터 타는데만 40분 이상 걸림. 그래서 10시 40분에 방에서 나와도 될 정도.\n"
     ]
    },
    {
     "name": "stderr",
     "output_type": "stream",
     "text": [
      "\r  1%|          | 12/1689 [01:30<5:10:49, 11.12s/it]"
     ]
    },
    {
     "name": "stdout",
     "output_type": "stream",
     "text": [
      "12 : 별 반 개도 아까운 숙소에 머무를 시간이 짧아 그냥 썼습니다만, 당장 폐업해야 마땅한 곳입니다.  침구: 매트리스는 딱딱하고, 움직일 때마다 삐걱소리가 남. 침구류는 다 숙박업 여기저기에서 가져온 것을 쓰며, 퀴퀴한 냄새도 심하고 당연히 세탁도 아니고, 수도 모자라고 아딧 얇은 형편없는 이불입니다. 벽은 곰팡이인지 물이 찬 건지 그냥 시멘트 벽에 더럽습니다.  욕실: 벽은 물론 쓰레기통까지 곰팡이가 슬어 있습니다. 샴푸와 바디워시는 이상한 중국어 써긴 통에 구분도 없이 담겨 있어서 냄새로 구분해야 합니다. 변기도 깨져 있습니다.  프론트: 왜 있는지 모르겠습니다. 수건 받으려고 전화 수십 통 해도 안 받고 꺼져까지 누르는 것 같으며, 조선족 직원 말고 한국인 살기로 보이는 사람은 말기도 못 알아들어서 여러 번 말해야 합니다. 그냥 숙박객에 대한 기본 개념이 없습니다(위생 개념도 없으신 듯합니다).  보안: 열쇠로 문 열고 잠그는데 힘주면 다 떨릴 것 같고, 자동 잠금장치는 바라지도 않지만 최소한의 안전망도 없습니다.  전반적인 분위기: 쓰산하고 김옹합니다. 혼자 있으면 무섭습니다. 가자 사진으로 사기 치지 마시고 그냥 폐업하시길 바랍니다.\n"
     ]
    },
    {
     "name": "stderr",
     "output_type": "stream",
     "text": [
      "\r  1%|          | 13/1689 [01:39<4:51:03, 10.42s/it]"
     ]
    },
    {
     "name": "stdout",
     "output_type": "stream",
     "text": [
      "13 : 컴퓨터룸에 묵었는데, 스마트 TV에 모션 베드를 이용해서 편히 쉬려고 선택한 거잖아요? 그런데 계속 끊겨요. 특히 사람들이 많이 이용하는 시간대(오후 7시 이후)는 뭘 볼 수가 없을 지경이에요. (사진은 영상이 계속 끊겨서 롱딩이 돌고 있는 중) 아래에 후기 쓰신 분 말대로 공유기가 부족한 거라면 개선해야 하는 건 아닌가 싶네요. 다시 올 생각은 없어요. (+수압도 약해요)\n"
     ]
    },
    {
     "name": "stderr",
     "output_type": "stream",
     "text": [
      "\r  1%|          | 14/1689 [01:41<3:44:21,  8.04s/it]"
     ]
    },
    {
     "name": "stdout",
     "output_type": "stream",
     "text": [
      "14 : 새로 생긴 곳이라 시설도 깔끔하고 바다도 뷰~~ 맛집이었습니다. 조식도 맛있고 깔끔했습니다.\n"
     ]
    },
    {
     "name": "stderr",
     "output_type": "stream",
     "text": [
      "\r  1%|          | 15/1689 [01:44<2:56:28,  6.33s/it]"
     ]
    },
    {
     "name": "stdout",
     "output_type": "stream",
     "text": [
      "15 : 정말 깔끔하고 조용하고, 편안하고 좋네요. 자주 이용해서 착한 분들 넘 친절하고 편해서 좋아요.\n"
     ]
    },
    {
     "name": "stderr",
     "output_type": "stream",
     "text": [
      "\r  1%|          | 16/1689 [02:02<4:34:21,  9.84s/it]"
     ]
    },
    {
     "name": "stdout",
     "output_type": "stream",
     "text": [
      "16 : 창문으로 바다가 보인다. 우리가 묵은 방은 816호, 3인실에서 2박. 2인용/1인용 침대가 하나씩 있다. 구조가 특이하다. 게다가 실내도 그렇다. 원한다면 샤워를 하면서 객실을 통해 바다를 감상하는 게 가능하다. ㅋ 작년 가을에 광주 성구의 유탑 부티크 호텔에 묵었었는데, 객실 구조가 동일하다. 머리맡에 전기 콘센트가 없다. 전화기 충전해야 하는데. ;; 나중에 찾은 바, 연장선(extension cord)이 수납함에 있더라. ㅋ 8월 첫 주말 최고 극성수기에 방문했다. 주차 공간이 모자라서 인근 주차장과 협력하는 모양이다. 전체적인 느낌이 깔끔하다. 담당 근무자분이 친절하다. 둘째 날 나가다가 복도에서 마주쳤을 때, 필요하신 거 있냐고 일부러 챙겨주는 분위기였다. 우리한테만 그랬나? ^^\n"
     ]
    },
    {
     "name": "stderr",
     "output_type": "stream",
     "text": [
      "\r  1%|          | 17/1689 [02:03<3:26:01,  7.39s/it]"
     ]
    },
    {
     "name": "stdout",
     "output_type": "stream",
     "text": [
      "17 : 파티룸 괜찮았어요! 고데기랑 드라이기도 있어서 좋았어요.\n"
     ]
    },
    {
     "name": "stderr",
     "output_type": "stream",
     "text": [
      "\r  1%|          | 18/1689 [02:06<2:45:43,  5.95s/it]"
     ]
    },
    {
     "name": "stdout",
     "output_type": "stream",
     "text": [
      "18 : 생각했던 것보다 내부가 깨끗하고 좋았습니다. 특히 샤워실이에요. 최근에 리모델링을 했다고 하던라고요.\n"
     ]
    },
    {
     "name": "stderr",
     "output_type": "stream",
     "text": [
      "\r  1%|          | 19/1689 [02:11<2:38:22,  5.69s/it]"
     ]
    },
    {
     "name": "stdout",
     "output_type": "stream",
     "text": [
      "19 : 세상에 이런 최악의 여관은 처음입니다... 따뜻한 물이 나오지 않고... 난방이 되질 않으며... 소등도 안 되어서 불을 끌 때는 기를 다시 넣었다 뺏습니다ㅠㅠ 불친절하기도 정말 심합니다... 제발 거르세요~\n"
     ]
    },
    {
     "name": "stderr",
     "output_type": "stream",
     "text": [
      "\r  1%|          | 20/1689 [02:17<2:38:27,  5.70s/it]"
     ]
    },
    {
     "name": "stdout",
     "output_type": "stream",
     "text": [
      "20 : 캠장님은 유지하게 친절하시고, 샤워실 뜨거운 물도 잘 나오고, 캠핑장 가까이에 관광지도, 시장동, 심지어 한낮로마트까지 완벽^^ 하지만 캠핑장 가까이에 축사가 있는지, 바람 따라 냄새가 올라오고 바리가 끔찍하더라는~~\n"
     ]
    },
    {
     "name": "stderr",
     "output_type": "stream",
     "text": [
      "\r  1%|          | 21/1689 [02:33<4:08:26,  8.94s/it]"
     ]
    },
    {
     "name": "stdout",
     "output_type": "stream",
     "text": [
      "21 : 너무너무 좋아요. 글램핑 내부 컨디션은 펭스튼은 아니었지만 바닥 난방이랑 전기장판이 너무 잘 되어있어요. 이런 데 오면서 화장실이나 주방 컨디션 좋기를 바라는 건 욕심이라고 생각해요. ㅎㅎ 진짜 숲속에 있는 느낌으로 지내다 와서 너무 만족합니다. 사장님은 무뚝뚝하신 것 같은데 은근히 이것저것 잘 챙겨주시고 좋았어요. ㅋㅋㅋ 불도 잘 피워주셨고 장작이 빗작 말라서 너무 잘 타더라고요! 힐링하고 싶을 때 강추해요. 올리온 객실을 사용했습니다.^^ 아쉬운 점 없어요! 다만 매점에서 파는 건 어디나 그렇듯 조금 비싸니까..ㅎ 꼭 근처 마트에서 필요한 거 다 사오시길~ 그리고 공터에서 별 꼭 보세요~~!! 재방문의사 있습니다.\n"
     ]
    },
    {
     "name": "stderr",
     "output_type": "stream",
     "text": [
      "\r  1%|▏         | 22/1689 [02:36<3:14:55,  7.02s/it]"
     ]
    },
    {
     "name": "stdout",
     "output_type": "stream",
     "text": [
      "22 : 2주 동안 엘리베이터 점검이 10일이었고, 엘리베이터를 5분 기다리기도 최악이에요.\n"
     ]
    },
    {
     "name": "stderr",
     "output_type": "stream",
     "text": [
      "\r  1%|▏         | 23/1689 [02:45<3:37:25,  7.83s/it]"
     ]
    },
    {
     "name": "stdout",
     "output_type": "stream",
     "text": [
      "23 : 부산 여행 계획을 잡고 여기저기 숙소 서치를 하다가 카카오맵 후기가 좋길래 픽한 곳이에요. 숙소가 청결하기 간절히 바라며 입성했는데, 기대 이상으로 깨끗하고 침대도 냄새가 전혀 나지 않고 폭신폭신해요. 뷰도 좋고, 카운터 남자 직원 분이 왕친절하고 다음 날 조식은 왜 이렇게 맛있었는지 부산 여행을 생애 처음 하면서 좋은 기억으로 남을 것 같아요. 잘 쉬고 왔어요. 감사합니다. 다음에 재방문의사가 있습니다.\n"
     ]
    },
    {
     "name": "stderr",
     "output_type": "stream",
     "text": [
      "\r  1%|▏         | 24/1689 [03:11<6:04:08, 13.12s/it]"
     ]
    },
    {
     "name": "stdout",
     "output_type": "stream",
     "text": [
      "24 : 광안리, 해운대, 서면 등 좋은 호텔이 많지만 여기를 매년 방문하는 이유는 해변을 보고 있노라면 꼭 90년대의 해운대를 보는 듯한 느낌이 들어서입니다. 작지만 오션뷰, 마운틴뷰, 항뷰 등 신경 쓰지 않아도 되는 모든 룸이 오션뷰의 강점이 있습니다. 관리자님께서 이 글을 보시지 모르겠지만 한 가지 아쉬움이 남은 이번 여행입니다. 여기의 조식은 또 하나의 강점이 있습니다. (딱 필요한 만큼 있을 것만 있다. 심지어 컵라면까지.. ㅎㅎ) 어떤 여성분께서 접시에 한가득 담더니 엘리베이터를 타려고 하는 것을 보고 직원이 제지를 하러 나갔습니다. 몇 마디 나누더니 그냥 쎄~ 하고 엘리베이터를 타고 올라가 버립니다. 직원은 어이없다는 듯 더 이상의 제지를 하지 못하고 포기한 제 자기 자리로 돌아가는 것을 봤습니다. 많이 여기가 특급 호텔이었으면 저런 행동을 할 수 있었을까요? 얼마나 무시를 하면 저러가요? 그렇다면 여기를 이용하는 나 또한 저 살람 눈에는 그저 그런 무시해도 되는 사람인가? 만족하며 즐겁게 식사를 하는 나는 뭔가 하는 생각에 매우 불편함을 느꼈습니다. 호텔라오누를 좋아하는 우리 가족의 바람은 저런 사람을 보고도 어떤 조치도 취하지 않는 (못하는) 라오니 아닌 좋은 추억과 인상을 담을 수 있는, 그리고 그런 분위기를 제공할 수 있도록 관리를 해주셨으면 합니다.\n"
     ]
    },
    {
     "name": "stderr",
     "output_type": "stream",
     "text": [
      "\r  1%|▏         | 25/1689 [03:14<4:38:47, 10.05s/it]"
     ]
    },
    {
     "name": "stdout",
     "output_type": "stream",
     "text": [
      "25 : 직원분들의 친절도나 룸 컨디션 등 여러 가지 아쉬웠어요. 장점은 해운대 바로 앞이라는 점 정도인 듯해요.\n"
     ]
    },
    {
     "name": "stderr",
     "output_type": "stream",
     "text": [
      "\r  2%|▏         | 26/1689 [03:17<3:40:39,  7.96s/it]"
     ]
    },
    {
     "name": "stdout",
     "output_type": "stream",
     "text": [
      "26 : 깨끗하고 풍경이 아주 좋았어요. 기본 양념도 있어서 삼척항에서 회 떡가 물회, 회떡밥도 만들어서 먹었어요.\n"
     ]
    },
    {
     "name": "stderr",
     "output_type": "stream",
     "text": [
      "\r  2%|▏         | 27/1689 [03:53<7:32:59, 16.35s/it]"
     ]
    },
    {
     "name": "stdout",
     "output_type": "stream",
     "text": [
      "27 : 수영장 물 관리 안 하시는 듯요. 애 먼지 둥둥 벌레 둥둥 떠다니고 바베큐장 안에 돼지 비린내가 나서 구역질이 나더라고요. 환풍기에 벌레 두 마리랑 먼지 덩어리에 막혀서 틀어놔도 환기가 안 되고, 천장에 곰팡이 ㅜㅜ 화장실 실리콘에도 군데군데 곰팡이... 바베큐 신청했는데 돼지 목살에서 누린내가 ㅜㅜㅜㅜ 먹다가 속 안 좋아져서 고기 다 버렸어요. 소세지... 살다 살다 이렇게 버버가고 맛없는 소세지 처음이네요. 같이 나온 반찬은 스텐 원형 그릇판에 김치랑 그냥 재식 반찬 조금씩 떨어져 있었는데 언제 버달았는지도 모를 반찬.... 실리콘 덮개로 덮어서 그대로 주시고  그리고 물놀이하고 나왔는데 저녁에 피부가 왜 이렇게 ㅜ 간지러워질. 내부는 그나마 깨끗한데 냉장고는 냉방도 잘 안 되고 청소 하나도 ㅠ 안 되어 있으신 듯요. 아 피가 상해요. 돈도 아깝고 예쁘게 치워놓으셔놓고 왜 관리를 이렇게 하시는지... 놀천탕도 신청해서 다 즐기고 계획하고 갔었는데 제대로 세척은 하시는지 의심이 되어 왠지 찝찝해서 그냥 나왔네요. 제가 내섬길래 엄청 관리가 잘됐겠거니 하고 기대하고 갔는데 다신 안 오고 싶어요. 여기서 머군 고기 때문에 ㅠ 속 안 좋아져서 당분간 돼지고기 먹고 싶지가 않네요. 수영장 물 위에 떠다니는 벌레랑 먼지가 계속 생각나요. 바베큐장에 배어 있는 돼지 냄새 때문에 이 장소만 떠올리면 자동으로 돼지 누린내가 연상이 됩니다. 진심 구역질 나는 경험 ㅠㅠ 좋게 쓰고 싶었는데 위생 관리가 너무 엉망진창이라 지금도 너무 힘들어요.. 아휴..\n"
     ]
    },
    {
     "name": "stderr",
     "output_type": "stream",
     "text": [
      "\r  2%|▏         | 28/1689 [03:54<5:29:15, 11.89s/it]"
     ]
    },
    {
     "name": "stdout",
     "output_type": "stream",
     "text": [
      "28 : 서비스 응대 다 좋았음.. 아침에 무료 조식도\n"
     ]
    },
    {
     "name": "stderr",
     "output_type": "stream",
     "text": [
      "\r  2%|▏         | 29/1689 [03:56<4:05:12,  8.86s/it]"
     ]
    },
    {
     "name": "stdout",
     "output_type": "stream",
     "text": [
      "29 : 깔끔~ 주인 친절~ 주차장 양호, 시내 인접~ ^^\n"
     ]
    },
    {
     "name": "stderr",
     "output_type": "stream",
     "text": [
      "\r  2%|▏         | 30/1689 [04:20<6:07:41, 13.30s/it]"
     ]
    },
    {
     "name": "stdout",
     "output_type": "stream",
     "text": [
      "30 : 장점: 잠옷 제공, 욕조 있음, 조식 제공, 청소 상태 상위 수준   단점: 유료 회원제 가입 권는, 유료 회원이 아니면 4시 체크인. 외국인들이 많아서 그런지 자기들끼리 고객을 지칭할 때 \"이 사람\", \"저 사람\"으로 부르는 건 그나마 머쓱대우해 준 거고, \"저 여자\", \"저 남자\", \"아까 그 여자 있잖아? 아침에 그 남자 아, 진짜ㅋㅋㅋ\" 이런 식으로 노골적으로 손님의 눈앞에 있는 프론트 데스크에 서서 막을 홀칭하더라고요. 그게 잘못인지 모르는 게 더 귀포... 그리고 프론트 안쪽에서 요오요오오ㄴ나 큰 목소리로 떠들어서ㅎㅎ 처음엔 중국인들이 로비에서 이렇게 예의 없이 웃고 떠들나? 했는데 그게 우리 호텔 직원 친구들이더라구요. 직원들이 안에서 \"으아아악\" 고래고래 소리 지르며 서로 놀다하고 가고 싶고 떠들고 호탕하게 웃어젖기는 소리가 로비 전체에 라이브로 생중계됩니다. 아마 인수인계할 때 전날 투숙한 고객에 대해서 피드백하면서 불평까지 하는 듯... 뜨는 입장에서 기분이 상해하진 않고요? 이런 기본적인 상식이 좀 없는 것 말고 괜찮습니다.\n"
     ]
    },
    {
     "name": "stderr",
     "output_type": "stream",
     "text": [
      "\r  2%|▏         | 31/1689 [04:22<4:33:45,  9.91s/it]"
     ]
    },
    {
     "name": "stdout",
     "output_type": "stream",
     "text": [
      "31 : 최고의 휴가 잘 보냈습니다. ㅎㅎ 로봇 귀여워.\n"
     ]
    },
    {
     "name": "stderr",
     "output_type": "stream",
     "text": [
      "\r  2%|▏         | 32/1689 [04:29<4:07:54,  8.98s/it]"
     ]
    },
    {
     "name": "stdout",
     "output_type": "stream",
     "text": [
      "32 : 아직은 부대시설이 들어와 있지 않아 시설 대비 가격이 저렴합니다. 현시점에서 가성비는 좋은데 내년에는 시설이 들어와 가격이 올라갈 것 같습니다. 그 외 특이사항은 수건 교체 및 물 보충을 문자로 소요 조사를 해서 진행하고 있습니다. 뭔가 저렴한 시설 유지비를 위해 프론트에서 특이 운영을 하는 중입니다.\n"
     ]
    },
    {
     "name": "stderr",
     "output_type": "stream",
     "text": [
      "\r  2%|▏         | 33/1689 [04:58<6:55:33, 15.06s/it]"
     ]
    },
    {
     "name": "stdout",
     "output_type": "stream",
     "text": [
      "33 : 한국에 디시티즈 호텔 체인점이 있는 줄 알았으면 진짜에 이용했을 텐데, 뒤늦게 알게 되어 아쉬움이 남습니다.   (장점)  - 접근성이 나쁘지 않습니다. (부산역에서 버스 15분)  - 로비가 3층이라 호텔 출입 시 프라이빗 포장이 됩니다.  - 피로를 풀 수 있는 대욕탕과 피트니스 센터가 지하 1층에 있습니다.  - 직원분들이 매우 친절합니다.  - 방 청소 상태나 룸 컨디션이 일본 지점에 비해 훌륭합니다.  - 호텔 내부가 전체적으로 조용한 분위기입니다.  - 1층에 카페 체인점과 편의점이 있습니다.  - 빠른 체크인 가능(14시부터)   (단점)  - 통유리라서 외부 방음이 잘 안 됩니다. (차 경적 소리 등)  - 대욕탕은 유료 이용입니다(1일 이용 5,000원, 23시 종료).  - 에어컨이 일본 호텔에서 볼 수 있는 천장 일체형입니다. (단, 온도, 풍속 등 개별 설정 가능)  - 대욕탕 몇몇 부분은 보수가 필요합니다.  - 주변에서 긴일 해결하려면 좀 걸어야 합니다.   코로나 때문에 중국인을 포함한 외국 관광객이 없어서 세상 편하게 이용 잘했습니다. 주변이 유흥가이긴 한데, 호텔 이용하는 데는 지장 1도 없고, 확실히 도쿄인과 토요인 사이 중간 정도 퀄리티의 합리적인 비즈니스 호텔입니다. 출장하시는 분이나 혼자 여행하시는 분들이 숙박하면 만족할 숙소입니다. 자주 이용하고 싶은 곳입니다.\n"
     ]
    },
    {
     "name": "stderr",
     "output_type": "stream",
     "text": [
      "\r  2%|▏         | 34/1689 [04:59<5:01:01, 10.91s/it]"
     ]
    },
    {
     "name": "stdout",
     "output_type": "stream",
     "text": [
      "34 : 신라스테이 서울 오픈 축하드립니다!!~\n"
     ]
    },
    {
     "name": "stderr",
     "output_type": "stream",
     "text": [
      "\r  2%|▏         | 35/1689 [05:08<4:47:00, 10.41s/it]"
     ]
    },
    {
     "name": "stdout",
     "output_type": "stream",
     "text": [
      "35 : 4층에 객실인데 뷰가 정말 좋습니다. 잠이 나서 혼자 1박 2일 쉬러 갔었는데, 저녁에 도착해서 어디 안 돌아다녀도 될 만큼 좋네요. 해가 지고 나면 야경도 좋고, 침대에 누워서도 파도 소리가 들려서 최근 몇 달 만에 정말 푹 잤습니다. 아침에 해가 뜨면서 알람 없이도 자동으로 기상이 되는데 기분이 너무 좋았습니다. 위치도 속초 오지에 있어서 여기저기 다니기도 사실 좋은 위치예요. 또 가고 싶은 곳~\n"
     ]
    },
    {
     "name": "stderr",
     "output_type": "stream",
     "text": [
      "\r  2%|▏         | 36/1689 [05:09<3:28:39,  7.57s/it]"
     ]
    },
    {
     "name": "stdout",
     "output_type": "stream",
     "text": [
      "36 : 절대! 다시는 가고 싶지 않음!\n"
     ]
    },
    {
     "name": "stderr",
     "output_type": "stream",
     "text": [
      "\r  2%|▏         | 37/1689 [05:11<2:41:56,  5.88s/it]"
     ]
    },
    {
     "name": "stdout",
     "output_type": "stream",
     "text": [
      "37 : 평이 좋은 데는 다 이유가 있네요. 친절하고 깨끗했습니다. 대만족이었습니다^^\n"
     ]
    },
    {
     "name": "stderr",
     "output_type": "stream",
     "text": [
      "\r  2%|▏         | 38/1689 [05:12<1:59:58,  4.36s/it]"
     ]
    },
    {
     "name": "stdout",
     "output_type": "stream",
     "text": [
      "38 : 뷰가 정말 예뻤어요!!\n"
     ]
    },
    {
     "name": "stderr",
     "output_type": "stream",
     "text": [
      "\r  2%|▏         | 39/1689 [05:15<1:49:41,  3.99s/it]"
     ]
    },
    {
     "name": "stdout",
     "output_type": "stream",
     "text": [
      "39 : 교육이 있어 방문했습니다. 식사 제공이 되는 호텔 내부 식당에서 직원분들이 친절하다는 느낌이 없어서 아쉬웠습니다. 정신없이 부산스러웠습니다.\n"
     ]
    },
    {
     "name": "stderr",
     "output_type": "stream",
     "text": [
      "\r  2%|▏         | 40/1689 [05:19<1:45:56,  3.85s/it]"
     ]
    },
    {
     "name": "stdout",
     "output_type": "stream",
     "text": [
      "40 : 바다 앞이라 좋았고 객실도 깔끔했어요. 그런데 프론트 남직원분 발음이 너무 안 좋아서 계속 다시 물어봐야 했어요 ㅠㅠㅠ\n"
     ]
    },
    {
     "name": "stderr",
     "output_type": "stream",
     "text": [
      "\r  2%|▏         | 41/1689 [05:22<1:39:17,  3.61s/it]"
     ]
    },
    {
     "name": "stdout",
     "output_type": "stream",
     "text": [
      "41 : 서비스도 너무 좋고, 다들 친절하고 방이 어두운 것 빼고 좋았어요. 크리스마스 트리도 로비에 너무 예뻐요.\n"
     ]
    },
    {
     "name": "stderr",
     "output_type": "stream",
     "text": [
      "\r  2%|▏         | 42/1689 [05:23<1:16:36,  2.79s/it]"
     ]
    },
    {
     "name": "stdout",
     "output_type": "stream",
     "text": [
      "42 : 뷰도 청결도 최고였습니다!!!\n"
     ]
    },
    {
     "name": "stderr",
     "output_type": "stream",
     "text": [
      "\r  3%|▎         | 43/1689 [05:24<1:01:55,  2.26s/it]"
     ]
    },
    {
     "name": "stdout",
     "output_type": "stream",
     "text": [
      "43 : 직원분들이 친절해서 좋았음.\n"
     ]
    },
    {
     "name": "stderr",
     "output_type": "stream",
     "text": [
      "\r  3%|▎         | 44/1689 [05:26<1:02:20,  2.27s/it]"
     ]
    },
    {
     "name": "stdout",
     "output_type": "stream",
     "text": [
      "44 : 최고급 호텔은 아니지만 바다가 가까워서 좋았고 사장님 내외가 너무 친절하셨어요\n"
     ]
    },
    {
     "name": "stderr",
     "output_type": "stream",
     "text": [
      "\r  3%|▎         | 45/1689 [05:28<1:04:31,  2.36s/it]"
     ]
    },
    {
     "name": "stdout",
     "output_type": "stream",
     "text": [
      "45 : 공기 나쁜 날 외부 차단된 실내 수영장.. 따뜻한 바닥. 세 개의 다른 온도로 유지되는 자쿠지가 좋아요.\n"
     ]
    },
    {
     "name": "stderr",
     "output_type": "stream",
     "text": [
      "\r  3%|▎         | 46/1689 [05:31<1:10:11,  2.56s/it]"
     ]
    },
    {
     "name": "stdout",
     "output_type": "stream",
     "text": [
      "46 : 너무 좋음. 시설도 깨끗하고 침구도 깨끗해서 만족, 대만족이었습니다!! 다음 여행 숙박도 미리 예약하고 여행 와야겠어요.\n"
     ]
    },
    {
     "name": "stderr",
     "output_type": "stream",
     "text": [
      "\r  3%|▎         | 47/1689 [05:49<3:14:51,  7.12s/it]"
     ]
    },
    {
     "name": "stdout",
     "output_type": "stream",
     "text": [
      "47 : 시설이랑 시설에 있어서는 흠잡을 만한 곳이 없고, 직원분들도 너무 친절해서 기분이 쩔로 좋아지는 여행이었습니다. 거기다 뷰는 화룡점정이었네요. 그런데 한 가지 거니들이 점은 욕조에 관련데, 사용 후기가 너무 안타까워서 꼭 말씀드리고 싶네요. 요즘 감성에 미친 뷰 앞에 예쁜 욕조지만, 실용성은 별로 아님, 최악이었어요. 사용 중 욕조가 꺼서 반신욕할 때 여터기가 미끄러졌는데, 손잡이가 없어서 욕조 양옆을 거들랑이에 끼고 있다가 발이 슬쩍 꺾었는데, 그누가 놀랐는지 밤에 잘 때 알바서 잠을 설쳤습니다. 젊은 사람들은 못 느끼기도 있지만, 이 시설을 연세 드신 분들도 사용할 수 있을 테니 참고하셔서 손잡이 설치가 어려우면 안내 글귀라도 옆에 붙여 두시면 좋을 듯합니다. 저뿐만 아니라 동행한 친구도 느꼈대요.\n"
     ]
    },
    {
     "name": "stderr",
     "output_type": "stream",
     "text": [
      "\r  3%|▎         | 48/1689 [05:57<3:16:35,  7.19s/it]"
     ]
    },
    {
     "name": "stdout",
     "output_type": "stream",
     "text": [
      "48 : 웰컴 티와 기본 캡슐 커피 향과 맛이 좋았고, 경치가 좋았다. 라운지 분위기도 좋았고 기본 제공되는 음료 및 디저트가 맛있었습니다. 오후 칵테일 파티도 즐거운 경험이었고, 사우나 및 헬스장과 수영장도 즐기기 좋은 곳이다. 특히 사우나 기본 제공되는 어메니티 향이 매우 좋았음.\n"
     ]
    },
    {
     "name": "stderr",
     "output_type": "stream",
     "text": [
      "\r  3%|▎         | 49/1689 [06:01<2:54:07,  6.37s/it]"
     ]
    },
    {
     "name": "stdout",
     "output_type": "stream",
     "text": [
      "49 : 완전 신축! 완전 새것!이 느낌은 아니지만 리모델링이 되어 오래된 연식이 크게 느껴지지 않았어요. 테라스 바다와 웬디큐한 감성, 오션뷰와 만난이 넘 감성적\n"
     ]
    },
    {
     "name": "stderr",
     "output_type": "stream",
     "text": [
      "\r  3%|▎         | 50/1689 [06:03<2:21:27,  5.18s/it]"
     ]
    },
    {
     "name": "stdout",
     "output_type": "stream",
     "text": [
      "50 : 시설이 깨끗하고 침구류도 멀쩡했습니다. 카운터 직원분이 친절합니다ㅎㅎ\n"
     ]
    },
    {
     "name": "stderr",
     "output_type": "stream",
     "text": [
      "\r  3%|▎         | 51/1689 [06:24<4:28:12,  9.82s/it]"
     ]
    },
    {
     "name": "stdout",
     "output_type": "stream",
     "text": [
      "51 : 글램핑장 바로 옆 민가에서 새벽 6시 전부터 공사 드릴 소리를 내기 시작해서 잠이 다 깼습니다. 가서 아침 일찍 일어나고 콜란하다고 말씀드렸더니 알겠다고 하더군요. 그런데 글램핑장에 놀러 온 사람들도 밤 12시까지 시끄럽게 술 마시고 떠는데, 그러면 되겠냐는 말도 들었습니다. 그러게요ㅠ 속초시 관광과나 환경과에 이상 소음으로 민원을 넓히셔야 하는 거 아니지… 가격이 저렴한 이유가 있습니다. 글램핑 텐트가 아주 낡았고 아주 불편하지 않을 만큼만 청소, 관리됩니다. 주의사항에는 10시부터는 고성방가를 자제해달라고 써있지만, 그때가 술 취한 도로인들이 제일 방방에 붐는 타임이고 12시 넘어서도 신나서 노래 부르는 소리가 들립니다. 관리가 잘 되는 곳은 시간 되면 관리자가 돌아다니며 신경 쓰는데, 여긴 그런 곳은 아닙니다. 가성비로 가려면 나쁘지 않아 싶었는데 잠자는 시간부터 새벽 때바람에 저런 경험까지 하고 나니…ㅎㅎㅎ\n"
     ]
    },
    {
     "name": "stderr",
     "output_type": "stream",
     "text": [
      "\r  3%|▎         | 52/1689 [06:29<3:47:47,  8.35s/it]"
     ]
    },
    {
     "name": "stdout",
     "output_type": "stream",
     "text": [
      "52 : 여행에 편안함을 주는 숙박 장소로 매우 만족했습니다. 시설은 깨끗하게 정리되어 있으며 객실에서 보는 전망도 아주 좋았고, 일하시는 분들이 항상 웃는 얼굴로 편안하게 대해주어 여행이 매우 즐거웠습니다. 가성비 최고입니다.\n"
     ]
    },
    {
     "name": "stderr",
     "output_type": "stream",
     "text": [
      "\r  3%|▎         | 53/1689 [06:31<2:52:34,  6.33s/it]"
     ]
    },
    {
     "name": "stdout",
     "output_type": "stream",
     "text": [
      "53 : 포근하니 쾌적하구 룸 컨디션 맘에 쏘욕~\n"
     ]
    },
    {
     "name": "stderr",
     "output_type": "stream",
     "text": [
      "\r  3%|▎         | 54/1689 [06:33<2:18:10,  5.07s/it]"
     ]
    },
    {
     "name": "stdout",
     "output_type": "stream",
     "text": [
      "54 : 엄청 오래된 모텔입니다. 하지만 뷰가 미쳤고, 온수가 잘 나와서 좋았어요.\n"
     ]
    },
    {
     "name": "stderr",
     "output_type": "stream",
     "text": [
      "\r  3%|▎         | 55/1689 [06:37<2:15:17,  4.97s/it]"
     ]
    },
    {
     "name": "stdout",
     "output_type": "stream",
     "text": [
      "55 : 해운대 바로 앞이라 위치가 깡패. 객실은 깔끔하고 괜찮지만, 루프탑 수영장은 유료(3만원이며 기타 이용할 만한 부대시설이 없어서 객실만 이용하기에는 성수기에 다소 비싼 느낌.\n"
     ]
    },
    {
     "name": "stderr",
     "output_type": "stream",
     "text": [
      "\r  3%|▎         | 56/1689 [06:43<2:23:43,  5.28s/it]"
     ]
    },
    {
     "name": "stdout",
     "output_type": "stream",
     "text": [
      "56 : 오션뷰 디럭스타워는 저층 저렇게 돌출된 벽이 시야에 보입니다. 호텔 측 담당자분의 말씀으로는 오션뷰는 맞으니 제목 옆에 보시는 안 했다고 합니다. 예약 주의하세요(안내 문자를 입실 하루 전에 보내드리니 꼼꼼하게 주의사항을 읽어보세요).\n"
     ]
    },
    {
     "name": "stderr",
     "output_type": "stream",
     "text": [
      "\r  3%|▎         | 57/1689 [06:45<1:52:00,  4.12s/it]"
     ]
    },
    {
     "name": "stdout",
     "output_type": "stream",
     "text": [
      "57 : 뷰 맛집... 내 집이면 좋겠어요..ㅜㅜ\n"
     ]
    },
    {
     "name": "stderr",
     "output_type": "stream",
     "text": [
      "\r  3%|▎         | 58/1689 [07:09<4:31:00,  9.97s/it]"
     ]
    },
    {
     "name": "stdout",
     "output_type": "stream",
     "text": [
      "58 : 이 호텔 처음 지을 때부터 왕봤고, 최근에는 해외 친구들이나 지인이 오면 묵게 하고 소개해 주고 방 잡아주고 하는 등 가성비 좋은 호텔로 이곳을 인정하고 있었다. 올해는 파티룸도 3번~4번 정도 써보고... 단, 아쉬운 건 프론트 응대가 점점 안 좋아진다. 바람이 많은 날 엘리베이터가 꿍꿍거리길래 말했더니 남직원은 알아보겠다고 하는데 여직원은 유날은 턴타는 식으로 말하는 걸 들었다. 주로 고객 응대도 앉아서 하고... 지난달에는 체크인하고 새벽에 들어왔는데 집에 가려는 친구 한 명 옆에 있는데 숙박객인지 아닌지 묻지도 않고 추가 요금 내라고 하고... 애정보다 일찍 도착해 1시간 30분 정도 early check-in 하려고 했는데 3시라고 하기엔 그래도 나름 이 호텔을 꽤 자주 애용을 했기에 서비스를 받아볼 요양으로 이 호텔 자주 오는데라고 했더니 \"호텔 정제는 3시입니다, 어떡하죠?\" 하면 될 것을 자주 오는데 시간도 모르냐는 소리를 듣고... 이게 참 고객 서비스라는 것이 같은 말이라도 \"아 여\"가 다른 건데... 암튼 점점 고객 응대가 개선이 필요할 듯. 프론트는 그 호텔의 얼굴이다. 그래서 프론트이다. 동네 모텔만도 못한 프론트 응대가 아쉽네요.\n"
     ]
    },
    {
     "name": "stderr",
     "output_type": "stream",
     "text": [
      "\r  3%|▎         | 59/1689 [07:13<3:47:13,  8.36s/it]"
     ]
    },
    {
     "name": "stdout",
     "output_type": "stream",
     "text": [
      "59 : 남산 뷰도 좋고 호텔은 좋으나 주변에 먹거리와 놀거리가 없이 애매합니다. 택시 기본 요금을 내고 동대입구로 가야 합니다. 조식은 만족스럽고 생과일 짜주 주스도 맛있습니다.\n"
     ]
    },
    {
     "name": "stderr",
     "output_type": "stream",
     "text": [
      "\r  4%|▎         | 60/1689 [07:15<2:52:55,  6.37s/it]"
     ]
    },
    {
     "name": "stdout",
     "output_type": "stream",
     "text": [
      "60 : 뷰 맛집, 광안대교 뷰 최고!!!! 또 오고 싶어요.\n"
     ]
    },
    {
     "name": "stderr",
     "output_type": "stream",
     "text": [
      "\r  4%|▎         | 61/1689 [07:21<2:51:05,  6.31s/it]"
     ]
    },
    {
     "name": "stdout",
     "output_type": "stream",
     "text": [
      "61 : 안 청결함!! 화장실 바닥에 머리카락이랑 털이 있었음. 누군가 놓고 간 티셔츠도 발견. 물론 잘 안 보이는 곳이긴 했지만 전체적으로 확인도 안 한다 거 아님? 특히 털이라니.... 청소도 제대로 안 돼 있는 거 보니 밥 맛이 뚝 떨어짐. 침구나 베개 푹신 정도는 아주 만족함.\n"
     ]
    },
    {
     "name": "stderr",
     "output_type": "stream",
     "text": [
      "\r  4%|▎         | 62/1689 [07:27<2:45:32,  6.10s/it]"
     ]
    },
    {
     "name": "stdout",
     "output_type": "stream",
     "text": [
      "62 : 너무 예쁘고 분위기가 최고예요. 처음부터 실내화 신고 들어가는 것도 깨끗하고 좋은 것 같습니다! 루프탑 가봤는데, 루프탑도 너무 좋았어요ㅠ 스파는 추워서 못했지만 다음번에 다시 오면 꼭 해보려고 합니다. 호텔원 최고입니다.\n"
     ]
    },
    {
     "name": "stderr",
     "output_type": "stream",
     "text": [
      "\r  4%|▎         | 63/1689 [07:29<2:18:09,  5.10s/it]"
     ]
    },
    {
     "name": "stdout",
     "output_type": "stream",
     "text": [
      "63 : 시내 중심에 있어 바닷가에 있는 곳보다는 저렴합니다. 겉모습도 깔끔하고 객실 내부도 깔끔하니 좋아요..\n"
     ]
    },
    {
     "name": "stderr",
     "output_type": "stream",
     "text": [
      "\r  4%|▍         | 64/1689 [07:50<4:25:34,  9.81s/it]"
     ]
    },
    {
     "name": "stdout",
     "output_type": "stream",
     "text": [
      "64 : 해운대역 바로 앞이라 위치도 좋고, 전용 주차장도 규모가 커서 주차하기도 편합니다. 6층이 로비여서 체크인, 아웃 시 로비층을 불필요하게 거칠 필요가 없습니다. 5층은 레스토랑 겸 카페인데 접객 서비스도 그렇고 나름 정성을 드리는 수준입니다. 룸 컨디션도 예시처럼 준수하며 전체적으로 조용한 분위기에 방음도 잘 되어 있어서 휴식하기에 좋습니다. 주 이용객들이 2~3인 위주라 가족 단위 숙박자들 때문에 시끄럽지 않은 점이 마음에 들었네요. 고층 배정에 고속 엘리베이터 이용하는데 기다리거나 누리다는 등 크게 불편함은 없었습니다. 엘리베이터는 총 4대입니다. 이건 개인 차이라고 봅니다. 삼방으로 5분 거리에 해수욕장, 이마트, 술집 거리, 음식점들이 즐비하고 대중교통 편도 완비되어 있어서 휴가 때 기회가 된다면 다시 이용해보고 싶습니다. 룸은 스튜디오보다는 스위트 이상 예약하는 게 더 제공되는 수준도 높고 가격 차도 크지 않으므로 그쪽을 추천합니다.\n"
     ]
    },
    {
     "name": "stderr",
     "output_type": "stream",
     "text": [
      "\r  4%|▍         | 65/1689 [07:57<3:57:47,  8.79s/it]"
     ]
    },
    {
     "name": "stdout",
     "output_type": "stream",
     "text": [
      "65 : 부산 방문 때마다 이용합니다. 매일 청소도 해주시고, 물이랑 수건도 많이 챙겨 주십니다. 특히 방이 넓어 진짜 좋아요ㅎㅎ 남포동 근처랑 비브 거리, 깡통시장, 국제시장 도보 가능합니다. 남포역 7번 출구 바로 앞으로 지하철 타고 다니기도 좋습니다~~\n"
     ]
    },
    {
     "name": "stderr",
     "output_type": "stream",
     "text": [
      "\r  4%|▍         | 66/1689 [08:15<5:17:56, 11.75s/it]"
     ]
    },
    {
     "name": "stdout",
     "output_type": "stream",
     "text": [
      "66 : 호텔의 시작은 미소 응대로 시작인데, 친절한 미소에  저희가 묵은 방은 14층이었는데요, 들어가자마자 함성을 지르며 ㅎㅎㅎㅎ 센트럴파크인 줄 알았어요! 아침 해를 보실 수 있을 것 같아요. 뷰 맛집  침구는 포근했고, 침대에서 5세, 7세, 엄마 세 명이서 잤는데 편하게 잘 잤어요. (제가 체구는 작은 편이지만 충분히 편하게 잘 정도였어요.) 아바는 문이 있는 방에서 침구를 깔고 잤는데 시원하고 편하게 숙면했어요! 복층은 아이들이 비밀 공간처럼 놀 수도 있었구요! 특히 저는 테라스에서 풍경을 볼 수 있어 너무 좋았어요. 조식 공간은 따뜻한 분위기, 딱 필요한 메뉴들로 맛도 좋았구요. 특히 리코타 치즈, 버터, 샤워도우 빵 정말  점심, 저녁은 레스토랑으로 운영된다던데 메뉴가 마음에 들어 한 번 가보고 싶어요.\n"
     ]
    },
    {
     "name": "stderr",
     "output_type": "stream",
     "text": [
      "\r  4%|▍         | 67/1689 [08:17<3:55:29,  8.71s/it]"
     ]
    },
    {
     "name": "stdout",
     "output_type": "stream",
     "text": [
      "67 : 위치가 아주 좋고 서비스가 좋습니다. 엘리베이터가 아쉬움...\n"
     ]
    },
    {
     "name": "stderr",
     "output_type": "stream",
     "text": [
      "\r  4%|▍         | 68/1689 [08:34<5:04:42, 11.28s/it]"
     ]
    },
    {
     "name": "stdout",
     "output_type": "stream",
     "text": [
      "68 : 일단 예약 시 표시된 가격이 54,000원이 예약 진행 중에 130,000원으로 바뀌어서 기분이 안 좋았으나 방 크기가 귀찮아서 그냥 결제했습니다. 803호 4인 예약했는데 방에 추가 이불을 안 갖다 주었습니다. 카운터에 가서 얘기하고 전화하니 그때서야 갖다 주었습니다. 화장실, 욕실에 문이 없는 집은 처음 봤습니다. 문이 없는 건 상관없는데 변기 쪽에서 발냄새 같은 고약한 냄새가 난다고 해도 자기는 안 난다고 하면서 바꿔줄 남은 방도 없다고 했습니다. 조식은 한식이 없다고 하며 무조건 양식(시리얼, 빵, 반반나 반 조식)으로 줍니다. 와이파이는 왜 속도가 느린지 모르겠습니다. 네이버 홈 화면이 거의 1.5초 이상 걸립니다. 그냥 하스파스로 공유해서 사용합니다. 상기 내용은 있는 그대로의 내용을 발행듭니다.\n"
     ]
    },
    {
     "name": "stderr",
     "output_type": "stream",
     "text": [
      "\r  4%|▍         | 69/1689 [08:35<3:43:55,  8.29s/it]"
     ]
    },
    {
     "name": "stdout",
     "output_type": "stream",
     "text": [
      "69 : 가성비 최고, 그냥.. 주변에 시설이 많은 게 장점\n"
     ]
    },
    {
     "name": "stderr",
     "output_type": "stream",
     "text": [
      "\r  4%|▍         | 70/1689 [08:39<3:05:54,  6.89s/it]"
     ]
    },
    {
     "name": "stdout",
     "output_type": "stream",
     "text": [
      "70 : 센텀프라이에 갔는데 괜찮았어요. 묵는 것 자체는 별 문제 없었으나 큰 침을 둘 데가 없었어요. 짐 맡길 때 사물실 찾기가 힘든 게 아쉬워요.\n"
     ]
    },
    {
     "name": "stderr",
     "output_type": "stream",
     "text": [
      "\r  4%|▍         | 71/1689 [08:42<2:34:36,  5.73s/it]"
     ]
    },
    {
     "name": "stdout",
     "output_type": "stream",
     "text": [
      "71 : 방도 좁고 올드하며, 실외는 좁은데 사람이 너무 많아 대충 목욕탕 같고.. 가격에 비해 과대 평가된 호텔인 것 같아요.\n"
     ]
    },
    {
     "name": "stderr",
     "output_type": "stream",
     "text": [
      "\r  4%|▍         | 72/1689 [08:44<2:03:12,  4.57s/it]"
     ]
    },
    {
     "name": "stdout",
     "output_type": "stream",
     "text": [
      "72 : 사장님, 번창하세요. 올린, 숙소, 서비스 모든 게 완벽했어요.\n"
     ]
    },
    {
     "name": "stderr",
     "output_type": "stream",
     "text": [
      "\r  4%|▍         | 73/1689 [08:45<1:35:44,  3.55s/it]"
     ]
    },
    {
     "name": "stdout",
     "output_type": "stream",
     "text": [
      "73 : 좋아요. 여럿이 놀러 가면 딱이에요~\n"
     ]
    },
    {
     "name": "stderr",
     "output_type": "stream",
     "text": [
      "\r  4%|▍         | 74/1689 [08:46<1:13:28,  2.73s/it]"
     ]
    },
    {
     "name": "stdout",
     "output_type": "stream",
     "text": [
      "74 : 다시 가고 싶은 호텔 위치도 최고\n"
     ]
    },
    {
     "name": "stderr",
     "output_type": "stream",
     "text": [
      "\r  4%|▍         | 75/1689 [09:06<3:36:07,  8.03s/it]"
     ]
    },
    {
     "name": "stdout",
     "output_type": "stream",
     "text": [
      "75 : 스탠다드 더블로 1박 했는데 다시는 여기에 가지 않을 것입니다. 서울 여행 한 달 전에 후기 여러 곳에서 사범봤는데 이 난리라서 매우 상심할 정도로 안 좋습니다. 아무리 싸게 나온다 해도 절대 안 갈 것입니다. 문 열자마자 화장실이 보이길래 열었는데 비린내? 쿵린내? 음식물 쓰레기 버리는 곳에 나는 냄새가 더 나으듯한 냄새가 나고요. 그 이전에 카드키 받으려고 간 안내 데스크에서 건넨준 영어로만 된 종이에 싸인하라는 거 참 기분 나빴습니다. 여기 한국이고, 나 한국인데 영어로 된 종이에 싸인하라는데 그냥 넘기려고 했는데 화장실이 꾸역질이 나올 정도로 심해서 이렇게 씁니다. 이런 후기 비교적 좋게 써주는 편인데 참 대단합니다. 조명도 누리끼리 해서 청결을 대충 유지한 것 같아서 방 안에 있는 소파나 의자에 아기도 걸어지더군요. 준비된 물도요. 조식도 얼마나 대단하겠냐는 생각이 들었는데 화장실 냄새가 심한 거 알면 방향제를 두거나 청결에 더 신경 쓰면 좋겠습니다.\n"
     ]
    },
    {
     "name": "stderr",
     "output_type": "stream",
     "text": [
      "\r  4%|▍         | 76/1689 [09:14<3:31:34,  7.87s/it]"
     ]
    },
    {
     "name": "stdout",
     "output_type": "stream",
     "text": [
      "76 : 지하철 역에서 올라오니 바로 앞이었어요. DDP까지 몇 발짝만 가면 되고, 걸어서 광장시장까지도 15분 정도 위치도 너무 좋고 시설도 깨끗해요. 직원분들도 친절하시네요. 호텔을 잘 골라서 타라이한데 멋진 어마가 되었어요. 큰 전신 거울이 있던데 거기랑 창문 앞에서 사진을 엄청 찍더라고요.\n"
     ]
    },
    {
     "name": "stderr",
     "output_type": "stream",
     "text": [
      "\r  5%|▍         | 77/1689 [09:15<2:40:32,  5.98s/it]"
     ]
    },
    {
     "name": "stdout",
     "output_type": "stream",
     "text": [
      "77 : 스테이크 먹었는데 맛이 최고예요. 디저트도 굿\n"
     ]
    },
    {
     "name": "stderr",
     "output_type": "stream",
     "text": [
      "\r  5%|▍         | 78/1689 [09:18<2:15:40,  5.05s/it]"
     ]
    },
    {
     "name": "stdout",
     "output_type": "stream",
     "text": [
      "78 : 가슴이 뻥 뚫릴 정도의 넓은 동해 바다가 앞에 들어오는 전망이 너무나 예뻤어요~~~ 생각보다 방도 크고 좋았네요.\n"
     ]
    },
    {
     "name": "stderr",
     "output_type": "stream",
     "text": [
      "\r  5%|▍         | 79/1689 [09:25<2:26:00,  5.44s/it]"
     ]
    },
    {
     "name": "stdout",
     "output_type": "stream",
     "text": [
      "79 : 가족들과 부산역 일대 맛집 투어를 했는데 위치가 좋고 조식을 주셔서 너무 좋았어요~^^ 짠이나다운 '신발원' 진진 맛집 새우 공짜 강추, 본전 돼지국밥, 초량 해갈국수, 초량 밀면, 이재모 피자 등 다시 가고 싶네요ㅎ\n"
     ]
    },
    {
     "name": "stderr",
     "output_type": "stream",
     "text": [
      "\r  5%|▍         | 80/1689 [09:28<2:12:15,  4.93s/it]"
     ]
    },
    {
     "name": "stdout",
     "output_type": "stream",
     "text": [
      "80 : 환상적인 뷰 말고는 표현할 수 없는 뷰를 자랑하는 곳이라 결혼 기념일마다 가고 싶은 그런 곳입니다. 너무너무 만족해요. 로비부터는 접객도 좋아요.\n"
     ]
    },
    {
     "name": "stderr",
     "output_type": "stream",
     "text": [
      "\r  5%|▍         | 81/1689 [09:30<1:41:30,  3.79s/it]"
     ]
    },
    {
     "name": "stdout",
     "output_type": "stream",
     "text": [
      "81 : 접근성도 좋고, 깨끗하네요.\n"
     ]
    },
    {
     "name": "stderr",
     "output_type": "stream",
     "text": [
      "\r  5%|▍         | 82/1689 [09:32<1:30:56,  3.40s/it]"
     ]
    },
    {
     "name": "stdout",
     "output_type": "stream",
     "text": [
      "82 : 위치, 시설, 조식까지 매우 만족~!! 수영장이 작긴 하나 물도 따뜻해서 실외 수영장 굿\n"
     ]
    },
    {
     "name": "stderr",
     "output_type": "stream",
     "text": [
      "\r  5%|▍         | 83/1689 [09:47<3:05:31,  6.93s/it]"
     ]
    },
    {
     "name": "stdout",
     "output_type": "stream",
     "text": [
      "83 : 지난 일로 자주 횡성에 가는데, 그간 번번한 숙소가 없어 늘 당일 상경하던 터에 모처럼 제대로 된 숙소가 생경 기부다. 본래 그 자리에 있던 콘짐오텔을 한층 업그레이드하여 어여한 호텔급으로 재단성하였으니, 누구에게 소개해도 부끄럽지 않다. 우 중심이라는 위치, 인테리어, 대형 TV와 집기들, 어메니티 등 모든 면이 만족스러운데다 일전에 숙박 후 사소한 컴플레인을 했을 때 받아드리는(아망 사장님임 듯) 텐도에서 친정성을 느낄 수 있어 더욱 좋았다. 횡성 일대에서 단연 톱. 가성비 최고. 참고로 나는 양고다와 부킹닷컴 리뷰어인데, 데이리호텔로 예약을 했었다(알바가 아니라는 듯).\n"
     ]
    },
    {
     "name": "stderr",
     "output_type": "stream",
     "text": [
      "\r  5%|▍         | 84/1689 [09:52<2:45:00,  6.17s/it]"
     ]
    },
    {
     "name": "stdout",
     "output_type": "stream",
     "text": [
      "84 : 여러 호텔을 가봤지만 글루호텔만큼 가성비가 괜찮았던 곳은 손에 꼽는 것 같네요. 컨셉도 다른 호텔과 달라서 재밌게 묵다 왔어요. 뷰가 진짜 예뻐요.\n"
     ]
    },
    {
     "name": "stderr",
     "output_type": "stream",
     "text": [
      "\r  5%|▌         | 85/1689 [10:10<4:22:32,  9.82s/it]"
     ]
    },
    {
     "name": "stdout",
     "output_type": "stream",
     "text": [
      "85 : 1호 라인, 엘리베이터 옆 방 받으시면 이용하시다가 정신병 걸릴 수도 있어요 ㅋㅋ 참고하세요~~! 저는 801호를 이용하고, 이용 시간 끝까지 안 체우고 나왔어요. 나오는 길에 키를 갖다주면서 엘리베이터 옆 방 이용하는 사람들에게 컴플레인이 안 걸렸냐고 하니 4, 5층에서는 컴플레인이 계속 걸렸으나 8층은 컴플레인이 거의 없었다고 말하더라고요. 그럴 리가 절대 없다 생각했는데, 엘리베이터가 11층인가, 암튼 고층까지 있는 건물인데 어떻게 4, 5층만 컴플레인이 걸렸냐고요..? 거기 운영하시는 분이나 직원분이나 한 번 들어가서 한 시간 동안 있어봤으면 좋겠네요. 건물이 운영지는 소리 계속 나요. 다음 번에 이용하시게 되면 방을 어쩌고 저쩌고 해드릴게요 하시는데 그런 곳에 누가 재방문하니까? ㅋㅋㅋㅋ\n"
     ]
    },
    {
     "name": "stderr",
     "output_type": "stream",
     "text": [
      "\r  5%|▌         | 86/1689 [10:24<4:54:57, 11.04s/it]"
     ]
    },
    {
     "name": "stdout",
     "output_type": "stream",
     "text": [
      "86 : 정말 저렴한 가격, 직원분들 친절! 간단한 요리 해먹을 수 있는 주방 도구 구비됨. 침구류 청결. 냄새 안 남. 전체적인 위생은 조금만 신경써주셨으면 좋겠습니다. 외국인 비움이 많아서 놀랐어요. 별점은 낮게 줬지만 재방문 의사는 100%입니다. 팁: 방바닥에서 사용할 전 슬리퍼 챙겨가면 좋아요. 욕실 슬리퍼는 챙기실 필요 없어요. 삼선 슬리퍼 대여해줍니다. 개인 잠옷세가 있으면 챙겨가세요. 간단한 주방 도구 및 취사 시설이 있으니 옆에 홈플러스에서 장 봐서 식사 해결하셔도 좋습니다. 냉장고, 인덕션, 토스터 기계도 있어요.\n"
     ]
    },
    {
     "name": "stderr",
     "output_type": "stream",
     "text": [
      "\r  5%|▌         | 87/1689 [10:26<3:41:45,  8.31s/it]"
     ]
    },
    {
     "name": "stdout",
     "output_type": "stream",
     "text": [
      "87 : 뷰가 너무 좋았어요. 방도 단정하고 혼자 묵었는데 안성맞춤이었습니다!\n"
     ]
    },
    {
     "name": "stderr",
     "output_type": "stream",
     "text": [
      "\r  5%|▌         | 88/1689 [10:28<2:54:10,  6.53s/it]"
     ]
    },
    {
     "name": "stdout",
     "output_type": "stream",
     "text": [
      "88 : 자리도 넓고 아이들이 뛰어놀 수 있는 공간이라서 너무 커서 좋고, 전망도 끝내줍니다.\n"
     ]
    },
    {
     "name": "stderr",
     "output_type": "stream",
     "text": [
      "\r  5%|▌         | 89/1689 [10:32<2:36:06,  5.85s/it]"
     ]
    },
    {
     "name": "stdout",
     "output_type": "stream",
     "text": [
      "89 : 새 건물이라서 깨끗하고 젊은 여사장님이 친절하시고 좋았어요. 바다뷰도 잘 보이고 굳이 멀리 나갈 필요도 없이 일출도 잘 보여서 최고였습니다. 다시 또 재방문 하겠습니다~~^^\n"
     ]
    },
    {
     "name": "stderr",
     "output_type": "stream",
     "text": [
      "\r  5%|▌         | 90/1689 [10:34<1:59:22,  4.48s/it]"
     ]
    },
    {
     "name": "stdout",
     "output_type": "stream",
     "text": [
      "90 : 공용 사우나에 거미줄이 개 많아요..\n"
     ]
    },
    {
     "name": "stderr",
     "output_type": "stream",
     "text": [
      "\r  5%|▌         | 91/1689 [10:50<3:33:38,  8.02s/it]"
     ]
    },
    {
     "name": "stdout",
     "output_type": "stream",
     "text": [
      "91 : 가지 마세요. 2~3층 전에 아고다로 예약하고 고지되어 있던 가격으로 이미 결제했는데, 당일 날 추가 요금을 내라고 당일 시세로 받으려는 곳. 주말이고 공휴일이라 가격이 2배로 뛰어서 10만 원이지만, 나보고 6만 원만 더 내면 된다고 생색내고 본인들이 잘못 오려놓고, 나보고 왜 그렇게 가격이 싼지 이유를 갖고 전화를 했어야 된다는 말도 안 되는 허소를 누어놓으면서 적반하장으로 나왔습니다. 못 내면 그냥 예약금 환불해 버리겠다니다. 밤 10시에 저는 어디서 더블 룸을 다시 예약하나요? 진짜 어이가 없어서.. 부킹닷컴이나 아고다 본사에 항의할 예정이고요. 그냥 부리는 가격대로 내 사람들만 가시면 되겠네요. 이 땅으로 장사하는 곳은 좀 망했으면 좋겠고요.\n"
     ]
    },
    {
     "name": "stderr",
     "output_type": "stream",
     "text": [
      "\r  5%|▌         | 92/1689 [10:51<2:40:30,  6.03s/it]"
     ]
    },
    {
     "name": "stdout",
     "output_type": "stream",
     "text": [
      "92 : 객실은 마음에 들지만 엘리베이터 타려면 천 년 만 년\n"
     ]
    },
    {
     "name": "stderr",
     "output_type": "stream",
     "text": [
      "\r  6%|▌         | 93/1689 [10:55<2:20:42,  5.29s/it]"
     ]
    },
    {
     "name": "stdout",
     "output_type": "stream",
     "text": [
      "93 : 뷰도 뷰지만 일단 위치가 부산 관광지 이곳저곳 다니기에 너무 편리했어요. 근처에 상권도 많고, 바로 밑에 마트도 있어서 편리했어요!\n"
     ]
    },
    {
     "name": "stderr",
     "output_type": "stream",
     "text": [
      "\r  6%|▌         | 94/1689 [10:57<1:58:37,  4.46s/it]"
     ]
    },
    {
     "name": "stdout",
     "output_type": "stream",
     "text": [
      "94 : 부산 여행 중 머물렀던 곳, 룸 컨디션 뷰 아니라 크기나 레이아웃이 만족스러웠습니다~^^\n"
     ]
    },
    {
     "name": "stderr",
     "output_type": "stream",
     "text": [
      "\r  6%|▌         | 95/1689 [10:58<1:28:50,  3.34s/it]"
     ]
    },
    {
     "name": "stdout",
     "output_type": "stream",
     "text": [
      "95 : 조명이 너무 어두워요.\n"
     ]
    },
    {
     "name": "stderr",
     "output_type": "stream",
     "text": [
      "\r  6%|▌         | 96/1689 [11:03<1:39:51,  3.76s/it]"
     ]
    },
    {
     "name": "stdout",
     "output_type": "stream",
     "text": [
      "96 : 더 파크 뷰 점심 뷔페는 만족스러웠는데, 이그제큐티브나 조식은 그럭저럭 라운지를 즐기는 느낌 정도였다. 그래도 신라답게 가 본 호텔 중 제일 친절하고 서비스가 좋았음.\n"
     ]
    },
    {
     "name": "stderr",
     "output_type": "stream",
     "text": [
      "\r  6%|▌         | 97/1689 [11:05<1:24:38,  3.19s/it]"
     ]
    },
    {
     "name": "stdout",
     "output_type": "stream",
     "text": [
      "97 : 바람 부는 날은 진짜 시끄럽네요~ 타워동보다는 본관이 낫네요~\n"
     ]
    },
    {
     "name": "stderr",
     "output_type": "stream",
     "text": [
      "\r  6%|▌         | 98/1689 [11:07<1:16:27,  2.88s/it]"
     ]
    },
    {
     "name": "stdout",
     "output_type": "stream",
     "text": [
      "98 : 프론트 응대가 아쉽고, 에어컨이 색 제품인데 하나도 시원하지 않네요.\n"
     ]
    },
    {
     "name": "stderr",
     "output_type": "stream",
     "text": [
      "\r  6%|▌         | 99/1689 [11:09<1:12:29,  2.74s/it]"
     ]
    },
    {
     "name": "stdout",
     "output_type": "stream",
     "text": [
      "99 : 가성비가 되게 안 좋음. 직원이 불친절하고 틱틱댐. 그냥 딴 데 가세요.\n"
     ]
    },
    {
     "name": "stderr",
     "output_type": "stream",
     "text": [
      "\r  6%|▌         | 100/1689 [11:11<1:07:52,  2.56s/it]"
     ]
    },
    {
     "name": "stdout",
     "output_type": "stream",
     "text": [
      "100 : 32층 다이닝룸 야경이 너무 예뻐요. 로맨틱한 저녁식사\n"
     ]
    },
    {
     "name": "stderr",
     "output_type": "stream",
     "text": [
      "\r  6%|▌         | 101/1689 [11:18<1:40:28,  3.80s/it]"
     ]
    },
    {
     "name": "stdout",
     "output_type": "stream",
     "text": [
      "101 : 제가 일본 사람인데 체크인할 때 안경 쓰신 나이가 좀 있어 보이는 남성분이 일본어로 친절하게 안내해주셨어요. 감사합니다. 짐을 넣고 와서 전화 드리니 친절하게 응대해 주셨습니다. 솔직히 방은 청결하지 못했어요. 그래도 가격, 위치, 호텔 직원분들의 친절한 모습에 또 방문하고 싶습니다.\n"
     ]
    },
    {
     "name": "stderr",
     "output_type": "stream",
     "text": [
      "\r  6%|▌         | 102/1689 [11:40<4:01:08,  9.12s/it]"
     ]
    },
    {
     "name": "stdout",
     "output_type": "stream",
     "text": [
      "102 : 별 하나도 아깝네요.. 이 여름엔 에어컨 곰팡이가 덕지덕지 붙어 있어 청소 좀 부탁했더니, 어떻게 청소를 했는지 곰팡이가 남아 있었고, 담당자가 와서 한다는 소리가 자기가 락스로 청소하고 빌딩 청소했는데 얼마나 더 해야 되냐며 소리를 지르시길래, 애 자고 있으니까 조용히 얘기해달라고 했더니 여행 와서 저보고 우난 턴탔며.. 우리 집은 얼마나 깨끗하냐고.. 총 담당자는 일년에 두 번 청소하는데 냉온풍기 겸용이라 쪄든 거라고.. 말도 안 되는 변명을 하더라고요. 저도 싼값에 가면서 호텔급 바라 것도 아니었는데 이런 숙소는 처음이에요. 하루밤 아이와 저 밑에서 잔 거 생각하면 너무 화가 나네요.. 사진) 심한 게 청소 전, 조금 나아졌지만 곰팡이 있는 사진이 청소 후 개인적으로 저희도 샤워장에 냉온풍기 몇 대 쓰고 이너에 한번 업체 청소 맡겼지만 먼지만 있지 곰팡이는 없어요. 동남아 다녀동 저런 에어컨은 처음 봤어요.. 40 넘도록 최악의 숙소였어요.. 후기 남길 줄도 모르는데 너무 화가 나서 모르고 쓰고 있네요..\n"
     ]
    },
    {
     "name": "stderr",
     "output_type": "stream",
     "text": [
      "\r  6%|▌         | 103/1689 [11:41<2:56:14,  6.67s/it]"
     ]
    },
    {
     "name": "stdout",
     "output_type": "stream",
     "text": [
      "103 : 그다지 권해주고 싶지 않은 곳~\n"
     ]
    },
    {
     "name": "stderr",
     "output_type": "stream",
     "text": [
      "\r  6%|▌         | 104/1689 [12:03<4:59:28, 11.34s/it]"
     ]
    },
    {
     "name": "stdout",
     "output_type": "stream",
     "text": [
      "104 : 여자친구랑 평일에 급히 바닷가 가서 회 먹고 오자멕 가게 된 속초라서 사전에 숙박 예약 안 하고 당일 저녁에 도착해서 어플로 결제하고 들어갔는데, 입실 처리해서 방에 들어가는데까지 20분 넘게 대기 타고 어플 설명에서도 그렇고 펜션 1층 정보판에도 퇴실 시간이 11시라고 되어있었는데, 9시까지 퇴실하라고 하네요. 저기도 11시라고 써있는데 왜 9시냐고 물으니 생뚱맞은 답변... 자기네들도 청소해야 하는 시간이 있었야 하고 11시는 성수기 때 퇴실 시간이라냐? 성수기 때 비수기보다 일찍 퇴실시키는 곳은 봤어도 비수기라고 일찍 내보내는 곳은 생전 처음 봤음. 비수기 평일에 딱 봐도 객실 손님도 없고 당연히 평일이라 바닷가에 여행 온 사람도 찾아볼 수 없고, 밤에 간 횟집도 1~2층 통틀어 아무도 없이 우리만 먹고 나왔을 정도로 정말 비수기였음. 1박 가격도 10만 원인데 차라리 다음부터는 근처 호텔을 잡을 예정임. 평가가 좋길래 갔던 곳인데 도착하고 첫 시작부터 기분 잡침.\n"
     ]
    },
    {
     "name": "stderr",
     "output_type": "stream",
     "text": [
      "\r  6%|▌         | 105/1689 [12:09<4:18:37,  9.80s/it]"
     ]
    },
    {
     "name": "stdout",
     "output_type": "stream",
     "text": [
      "105 : 남시로 인한 천재지변으로 방문이 힘들어 받을 수 있는 일부 환불금을 받으러 펜션에 전화를 하였지만 정확한 답변을 얻을 수 없었습니다. 어머부리며 넘어가기만 하였습니다. 전화 응대에 대한 서비스의 질은 최악이었으며, 이 점을 참고하시어 숙박하시기를 바랍니다.\n"
     ]
    },
    {
     "name": "stderr",
     "output_type": "stream",
     "text": [
      "\r  6%|▋         | 106/1689 [12:11<3:18:40,  7.53s/it]"
     ]
    },
    {
     "name": "stdout",
     "output_type": "stream",
     "text": [
      "106 : 아니, 진짜 이 가격에 오는 것? 개 오친다. 진짜 전설이다. 갈수가 웅장해진다.\n"
     ]
    },
    {
     "name": "stderr",
     "output_type": "stream",
     "text": [
      "\r  6%|▋         | 107/1689 [12:16<2:54:00,  6.60s/it]"
     ]
    },
    {
     "name": "stdout",
     "output_type": "stream",
     "text": [
      "107 : 뷰도 너무 좋고, 잠옷이랑 샴푸, 린스 등이 준비되어 있어서 너무 편리하고 좋았어요!! 잘 때도 춥지도 않고 따뜻하게 잘 자고, 다음에는 오션뷰 있는 방에서 한 번 자보고 싶어요!\n"
     ]
    },
    {
     "name": "stderr",
     "output_type": "stream",
     "text": [
      "\r  6%|▋         | 108/1689 [12:18<2:16:20,  5.17s/it]"
     ]
    },
    {
     "name": "stdout",
     "output_type": "stream",
     "text": [
      "108 : 친절한 직원, 룸이 작기는 하지만 깔끔하고 심플해서 숙박하기 좋음.\n"
     ]
    },
    {
     "name": "stderr",
     "output_type": "stream",
     "text": [
      "\r  6%|▋         | 109/1689 [12:39<4:25:11, 10.07s/it]"
     ]
    },
    {
     "name": "stdout",
     "output_type": "stream",
     "text": [
      "109 : 오션뷰 방에 묵었는데 뷰는 정말 좋았습니다. 리모델링한 방이라 그런지 개인적으로는 세월의 흔적은 잘 느끼지 못했습니다. 청소도 잘 되어 있었고 편안하게 머무를 수 있었습니다. 2인실인데 2인 침대와 1인 침대 총 2개가 있었고 기분 따인딩 1인용 침대가 좀 더 푹신하게 느껴졌습니다. 화장실도 깔끔하고 좋았는데 화장실 안에서 잠구는 부분 구멍이 안 맞아서 못 잠그더군요(마지막 사진 참조). 미니 냉장고에 생수 2병, 티포트, 차 티백, 커피가 있습니다. 제공되는 것은 회어 드라이기, 액체 비누, 샴푸 겸 바디워시는 벽에 고정된 통을 눌러서 자서 사용하는 방식입니다. 일반 타올이 2개, 배스타올이 2개 제공됩니다. 일회용품은 칫솔과 미니 치약 2세트, 일자 빗, 스펀지 필요한 것(비누 무헤서 샤워할 때 썼습니다), 화장 솜, 면봉, 비누 헤어캡 등이 제공됩니다. 면도기는 따로 제공되지 않았습니다.\n"
     ]
    },
    {
     "name": "stderr",
     "output_type": "stream",
     "text": [
      "\r  7%|▋         | 110/1689 [12:55<5:08:55, 11.74s/it]"
     ]
    },
    {
     "name": "stdout",
     "output_type": "stream",
     "text": [
      "110 : 로비가 2층인데 엘리베이터 타시지 말고 건물 외부 엑스컬레이터 타세요. 엘리베이터 진심 속 터집니다ㅠ (호텔 규모가 큰 편인데 제가 갔을 땐 엘리베이터 생대 중 한 대가 고장 나서 두 대로만 다니는데 5분 이상은 매번 기다려다 타셔요.) 객실은 특이사항 없었고 조식이 특히 맛있었어요 ㅇㅅㅇ 어젯 이린 간돌 잘 되어 있고 단촐하지 않은 맛에 종류도 적당히 다양한지.. 아침부터 밥 두 그릇 먹었습니다. 조식 먹으러 또 가려구요++. 호텔에 전자레인지존 따로 없어서 컨시어지에 부탁드려야 하는 게 미안하고 불편하더라고요ㅠ 다행히 1층 편의점에서 싼 거라 편의점 다시 가서 태워 왔네요..\n"
     ]
    },
    {
     "name": "stderr",
     "output_type": "stream",
     "text": [
      "\r  7%|▋         | 111/1689 [12:58<4:02:00,  9.20s/it]"
     ]
    },
    {
     "name": "stdout",
     "output_type": "stream",
     "text": [
      "111 : 신라스테이 서부산 시설이 아주 좋네요... 조식도 아주 훌륭하구요. 다만, 부산역과 시내에서 좀 많이 멀어서 크게 조금 불편해요.\n"
     ]
    },
    {
     "name": "stderr",
     "output_type": "stream",
     "text": [
      "\r  7%|▋         | 112/1689 [13:00<3:06:20,  7.09s/it]"
     ]
    },
    {
     "name": "stdout",
     "output_type": "stream",
     "text": [
      "112 : 삼직 야근장 가까이에 숙소가 있어서 좋았고, 시설과 직원분들이 친절해서 만족하고 갑니다.\n"
     ]
    },
    {
     "name": "stderr",
     "output_type": "stream",
     "text": [
      "\r  7%|▋         | 113/1689 [13:02<2:20:49,  5.36s/it]"
     ]
    },
    {
     "name": "stdout",
     "output_type": "stream",
     "text": [
      "113 : 다음에 좋은 사람 생기면 같이 올게요^^ 강추!!!\n"
     ]
    },
    {
     "name": "stderr",
     "output_type": "stream",
     "text": [
      "\r  7%|▋         | 114/1689 [13:10<2:46:14,  6.33s/it]"
     ]
    },
    {
     "name": "stdout",
     "output_type": "stream",
     "text": [
      "114 : 부산역과 접근성이 높아 편리한 숙소예요. 침구류와 샤워실도 깨끗하고 샌드위치 조식(재료가 엄청 깔끔)도 무료네요. 아늑하고 조용한 분위기입니다. 부산역 바로 앞 비즈니스 호텔만 묵다가 여기가 연휴라도 가격을 높게 받지 않아 선택했는데 너무 만족합니다. 바가지 신울지도 않고 객실 내 환경도 좋아요. 벽에 걸린 그림들도 다 예뻐요.\n"
     ]
    },
    {
     "name": "stderr",
     "output_type": "stream",
     "text": [
      "\r  7%|▋         | 115/1689 [13:38<5:36:55, 12.84s/it]"
     ]
    },
    {
     "name": "stdout",
     "output_type": "stream",
     "text": [
      "115 : 우선 저층뷰 영도대교 방향 시티뷰 객실 배정 받았습니다. 결론적으로 최악의 선택이었습니다. 주차나 숙소 등 다른 것 찾지하고, 4성급임에도 불구하고 외간한 모텔보다도 안 좋은 소음이었습니다. 이 소음은 영도대교에서 나옵니다. 다음 날 새벽 4시에 기상해야 하는 상황이었으나, 11시에 잠을 정한 이후로 새벽 1시까지 2시간 동안 뜬 눈으로 지샤였습니다. 영도대교 진입 신호 초록불로 바뀌면, 차들이 광란의 질주를 합니다. 광란의 질주가 아니더라도 서울 특성상 12시 넘어서까지 버스가 운행되는데, 이 역시 시끄러웠습니다. 신호가 바뀌 때마다 2-3분에 한 번씩 쭉을 맛있었습니다. 결국 1시 반에 호텔 로비 데스크에 연락하여 상황 설명 후 조치를 요청했고, 같은 층 건너편에 있는 리버뷰 객실로 바꿔줬습니다. 2시간 정도 취침 후 메이크업사로 이동했습니다. 그래도 소음은 약간 들렸습니다. 소음과 별개로 새벽에 객실 리얼레이인지해주신 직원분은 신속하고 친절하셨습니다. 아쉬웠던 건 객실이 많이 낡은 것 같은데, 이런 컴플레인 데이인더가 많이 있을 것으로 예측되더라도 불규합고 객실 변경을 먼저 해주지 않았습니다. 다음 날 중요한 행사 아든 분들은 여기서 절대로 숙박하시지 말기를 바랍니다. 돈 조금 더 들고 5성급 갈 걸 후회했습니다.\n"
     ]
    },
    {
     "name": "stderr",
     "output_type": "stream",
     "text": [
      "\r  7%|▋         | 116/1689 [13:43<4:32:51, 10.41s/it]"
     ]
    },
    {
     "name": "stdout",
     "output_type": "stream",
     "text": [
      "116 : 너무 만족스러웠습니다. 응대까지 1초를 넘기지 않는 직원들의 초특급 서비스와 맛있는 룸서비스, 멋진 뷰에 고급스러운 객실 분위기까지 왜 이루 5성급 호텔인지 알겠더라고요~\n"
     ]
    },
    {
     "name": "stderr",
     "output_type": "stream",
     "text": [
      "\r  7%|▋         | 117/1689 [13:44<3:19:08,  7.60s/it]"
     ]
    },
    {
     "name": "stdout",
     "output_type": "stream",
     "text": [
      "117 : 바다는 좋으나 간격이 너무 좁음.\n"
     ]
    },
    {
     "name": "stderr",
     "output_type": "stream",
     "text": [
      "\r  7%|▋         | 118/1689 [13:50<3:03:30,  7.01s/it]"
     ]
    },
    {
     "name": "stdout",
     "output_type": "stream",
     "text": [
      "118 : 왜 평점이 낮은지 알 것 같음. 1. 정말 개추움. 전기장판이 아니었으면 뜨는으로 잤을 뻔. 2. 청결...하.......ㅅ 이게 무슨 냄새지? 3. 기꿋들이 낡았음. 새벽에 작성한 그리핀댜.\n"
     ]
    },
    {
     "name": "stderr",
     "output_type": "stream",
     "text": [
      "\r  7%|▋         | 119/1689 [13:54<2:46:49,  6.38s/it]"
     ]
    },
    {
     "name": "stdout",
     "output_type": "stream",
     "text": [
      "119 : 분위기가 좋습니다. 많은 사람이 찾아서 붐비는 상태였습니다. 특히 수영장이 마음에 들었습니다. 주변에 편의점이 없어서 멀리 다녀왔습니다. 주위에 편의점이 생기면 매주리 대박 날 것 같아요 ㅎ 추천!!\n"
     ]
    },
    {
     "name": "stderr",
     "output_type": "stream",
     "text": [
      "\r  7%|▋         | 120/1689 [13:59<2:32:15,  5.82s/it]"
     ]
    },
    {
     "name": "stdout",
     "output_type": "stream",
     "text": [
      "120 : 서비스가 뭔가 어설프니다. 2인 조식 포함으로 예약하고 와서 혼자 체크인하는데, 무지도 않고 조식 쿠폰을 한 장만 줬습니다. 아니, 이것도 다 돈인데 물어봐야지. 황당합니다.\n"
     ]
    },
    {
     "name": "stderr",
     "output_type": "stream",
     "text": [
      "\r  7%|▋         | 121/1689 [14:10<3:16:12,  7.51s/it]"
     ]
    },
    {
     "name": "stdout",
     "output_type": "stream",
     "text": [
      "121 : 2인실입니다. 사실 가격만 생각하고 갔는데, 가격만 생각하고 갈 곳입니다. 첫 번째 다른 분들처럼 다른 모텔을 예약해야 하나 싶을 느낌이 들었고, 그래도 게스트하우스는 해외나 국내에서 많이 다녀봤지만 이 정도는 어휴.. 축화석 다운라이트 하나로 2인실 방에 이존한다는 것이 참 그렇습니다. 무료로 주는 수건 또한 황토지방에서 줄 만한 색깔이기에 받았을 때 아, 깨끗하다~ 이런 느낌이 없구요. 위치와 가격 면에서 좋긴 하나 시설 면에서 아쉬운 부분일 거네요. 아, 뜨거운 물은 매우 잘 나옵니다.\n"
     ]
    },
    {
     "name": "stderr",
     "output_type": "stream",
     "text": [
      "\r  7%|▋         | 122/1689 [14:37<5:43:01, 13.13s/it]"
     ]
    },
    {
     "name": "stdout",
     "output_type": "stream",
     "text": [
      "122 : 별낭이 호텔 더 메인의 규정만 내세우는 태도와 고객 불편사항에 대한 불성실, 아고다 측의 환불 규정엔 문제가 많다. 당일 숙박을 위한 당일 예약 시 예상 체크인 시간 이전에는 취소가 안 된다 하지도 숙박 내용 변경은 가능하도록 사용자 입장에서 편리성을 부여했으면 좋겠다. 예약 시에 객실 2개를 예약했다가 업무 일정 변경으로 인해 예약 후 1시간 정도 경과한 후 객실 1개에 대해 취소 요청을 예상 체크인 시간 이전에 했는데, 받아들어주지 않았다. 아고다 본사 고객센터와 호텔 프런트에도 사정을 얘기했지만, 규정만 얘기할 뿐 도무지 고객의 사정을 수용할 때도를 보이지 않고, 아고다 사다여는 호텔 측에, 호텔 측은 아고다에 책임을 넘기면서... 호텔 측도 규정만 얘기할 뿐 고객의 편의는 전혀 고려하지 않고 다른 편의사항을 요청해도 반영해 주지 않으며, 고객이 손해를 봐도 자기들은 잘못이 없다는 것이다. 아고다의 불합리한 규정과 사다여의 친절하지 않은 딱딱한 응대 방식도 문제이고, 더 메이 호텔 직원들도 고객의 입장이 아닌 아고다 규정을 핑계로 대면서 마무카내로 안 된다고 하는 남녀 직원 2명의 고객 응대 태도도 문제이다. 결국 객실 2개 비용 16만 원을 결제하고 불편한 마음으로 하루 밤을 잤다.\n"
     ]
    },
    {
     "name": "stderr",
     "output_type": "stream",
     "text": [
      "\r  7%|▋         | 123/1689 [14:41<4:36:15, 10.58s/it]"
     ]
    },
    {
     "name": "stdout",
     "output_type": "stream",
     "text": [
      "123 : 뷰는 망망대해와 더샵 오피스텔. 비성수기 때 체크아웃은 12시로, 원래는 11시였다. 나중에 갈 때는 돈을 조금 더 내고 광안대교 뷰를 보겠음.\n"
     ]
    },
    {
     "name": "stderr",
     "output_type": "stream",
     "text": [
      "\r  7%|▋         | 124/1689 [14:43<3:25:24,  7.88s/it]"
     ]
    },
    {
     "name": "stdout",
     "output_type": "stream",
     "text": [
      "124 : 7만원에 홍보 호구 지린눼 ㅋㅋ\n"
     ]
    },
    {
     "name": "stderr",
     "output_type": "stream",
     "text": [
      "\r  7%|▋         | 125/1689 [15:20<7:11:12, 16.54s/it]"
     ]
    },
    {
     "name": "stdout",
     "output_type": "stream",
     "text": [
      "125 : 이곳 <마티에 오시리아>에서 최근 수년 간 호텔에서 겪었던 최악의 경험을 했습니다. 사건 요지는 간단합니다. 당일 밤과 밤중에 마스터룸의 베란다와 욕실에서 담배 연기가 들어와고, 그다음 아침에는 위 두 곳과 거실의 베란다, 싱크대, 욕실에서 담배 연기와 냄새가 계속 들어와서 잠을 설치고, 욕실에서 씻지도 못했는데도 상황이 나아지지 않아 결국에는 황급히 퇴실을 해야 했습니다. 퇴실하면서 정당한 환불을 요구했지만, 매니저는 타사이트에서 결제한 경우에는 환불이 불가하다며 환불 조치를 거부했습니다. 이 역시 나중에 알고 보니 거짓말이었습니다. 제가 로비에서 큰 소리로 고객을 귀만 첨에 대해 항의하니, 그제서야 환불을 야새어 처를 회유하려 했습니다. 정말 고객을 뭐로 보는지 심리적으로 이해하기 힘든 고객 대우였습니다. 한화리조트라는 큰 회사에서 운영하는 숙소인데, 이렇게 고객을 속이고 환불을 믿기로 고객을 회유하고… 이렇게 고객을 대해도 되는 거실까요? 당일 밤에 \"지금은 밤이라 규정상 오전 9시까지는 호텔 측에서는 아무런 조치를 취할 수 없다\"고 솔직히 말했으면, 그 담배 연기 나는 공간에 가족을 그냥 두지 않았을 겁니다. 아니 아침에도 그 난리에 솔직히 \"연인 제공자가 어느 룸인지 알 수 없고 찾을 수도 없다\"라고 했으면, 아침이라도 먹으러 밖에 일찍 나갔을 겁니다. 아무것도 안 했다는 것도 수상하지만, 교통을 당하고 있는 고객에게 위발인 소리를 하면서 방치한 것에 너무 화가 나고, 그런 일이 있고 나서도 환불 건 가지고 고객을 회유하고 간복고 하는 태도에 너무 화가 납니다. 다시는 그 호텔에는 가지 않겠지만, 다른 분들도 같은 일을 당할 가능성이 많다고 생각해서 제가 겪은 일을 공유합니다. ps. 이 후기를 쓰고 있는 동안 예약 사이트에서 연락이 와서 호텔 측에서 결제를 취소했다고 합니다. 저에게는 따로 알려주지 않았고, 제가 있는 회사 쪽의 사진을 함께 올립니다.\n"
     ]
    },
    {
     "name": "stderr",
     "output_type": "stream",
     "text": [
      "\r  7%|▋         | 126/1689 [15:24<5:33:47, 12.81s/it]"
     ]
    },
    {
     "name": "stdout",
     "output_type": "stream",
     "text": [
      "126 : 광안대교가 너무 예쁘고 하루 종일 숙소에서만 지낼 만큼 만족스러워요! 직원분들도 친절하시고 방도 깨끗해서 힐링 여행 잘 하고 갑니다 ㅎㅎ\n"
     ]
    },
    {
     "name": "stderr",
     "output_type": "stream",
     "text": [
      "\r  8%|▊         | 127/1689 [15:26<4:08:14,  9.54s/it]"
     ]
    },
    {
     "name": "stdout",
     "output_type": "stream",
     "text": [
      "127 : 전철역 바로 앞이라 찾기 쉬웠고, 직원분들이 친절해서 좋았어요!\n"
     ]
    },
    {
     "name": "stderr",
     "output_type": "stream",
     "text": [
      "\r  8%|▊         | 128/1689 [15:31<3:37:28,  8.36s/it]"
     ]
    },
    {
     "name": "stdout",
     "output_type": "stream",
     "text": [
      "128 : 웬만한 오성급 호텔의 연회장보다는 높은 수준입니다. 그냥 흔한… 아주 평범한 파인다이닝… 와인은 호텔이랑 단가가 높지만 흔하지 않은… 아주 좋은 것, 오페, 다양하게 있습니다. 파인다이닝인데 이름이 부러우지 갑팡임 ㅋ\n"
     ]
    },
    {
     "name": "stderr",
     "output_type": "stream",
     "text": [
      "\r  8%|▊         | 129/1689 [15:33<2:43:42,  6.30s/it]"
     ]
    },
    {
     "name": "stdout",
     "output_type": "stream",
     "text": [
      "129 : 도김 친구가 한국에 와서 밥 사줄 겸 방문했는데 좋았어요.\n"
     ]
    },
    {
     "name": "stderr",
     "output_type": "stream",
     "text": [
      "\r  8%|▊         | 130/1689 [16:01<5:32:12, 12.79s/it]"
     ]
    },
    {
     "name": "stdout",
     "output_type": "stream",
     "text": [
      "130 : 일단 비즈니스 호텔인데 그냥 시설 좋고 깔끔한 모텔이라 생각하시면 됩니다. 위치는 서면 보복으로 제일 끝머리 쪽이고, 주차는 타워식입니다. 홈플로가 깔리니까 뭐 특별한 것은 없지만 차에 짐이라면 왔다 갔다 하는 게 좀 불편합니다. 이건 개인 차인이 베스트. 난방이 중앙 난방 시스템이라고 하는데 추워서 죽는 줄 알았습니다. 심지어 묵었던 날은 낮에 온도가 16도였는데, 밖에서 놀고 들어오니 냉고리었습니다. 새벽에 너무 추웠고, 방음보다는 층간 소음이 작살 납니다. 윗층에서 의자 끄는 소리와 쿵쿵 뛴는 소리가 그대로 전해져 옵니다. 온수를 틀면 한참 후에 나오고, 조금 더두고 다시 온수를 틀면 또 찬물이 나오고 좀 있다가 나오니다. 한번 나오면 그때부터는 따뜻합니다. 직원분들은 친절하십니다만, 특히 야놀자나 테일린호텔 등 숙박 플랫폼 이용하시고 후기 남기시는 분들, 평점이 낮거나 조금이라도 후기가 별로라고 쓰면 바로 블락인듯합니다.  평점이랑 후기를 솔직히 썼는데 올리자마자 차단시키더군요.  속지 마세요. 평점 좋고 후기 좋은 글만 따박고 조금이라도 지적이면 갈아입 차단합니다. 평점 보면 4점 이상이랑 5점만 있어요. 전국 모텔, 호텔, 펜션, 풀빌라, 산전 비싼데 돌아다녀 봤지만 후기가 가지고 장난질하는 데는 처음입니다. 참고하세요.\n"
     ]
    },
    {
     "name": "stderr",
     "output_type": "stream",
     "text": [
      "\r  8%|▊         | 131/1689 [16:04<4:20:59, 10.05s/it]"
     ]
    },
    {
     "name": "stdout",
     "output_type": "stream",
     "text": [
      "131 : 가격 대비 만족스러운 시설. 깔끔한 침구와 화장실 시설. 건물 전체는 노후하지만 부분 리모델링해서 깨끗함. 1층에 편의점도 있어서 편리함.\n"
     ]
    },
    {
     "name": "stderr",
     "output_type": "stream",
     "text": [
      "\r  8%|▊         | 132/1689 [16:09<3:35:52,  8.32s/it]"
     ]
    },
    {
     "name": "stdout",
     "output_type": "stream",
     "text": [
      "132 : 호텔비 9만원대에 이런 뷰 나오는 곳은 여기밖에 없을 것 같아요! 위치도 해운대 바로 앞이고 맛집들 근처라 편리하고, 지금 빛 축제 기간이라 산책하기도 좋아요. 강추합니다!!\n"
     ]
    },
    {
     "name": "stderr",
     "output_type": "stream",
     "text": [
      "\r  8%|▊         | 133/1689 [16:12<2:56:01,  6.79s/it]"
     ]
    },
    {
     "name": "stdout",
     "output_type": "stream",
     "text": [
      "133 : 방음제로.. 버스 서는 소리, 사이렌 울리는 소리, 공사 소리, 온갖 잡소리가 다 들려옴. 아침 6시 이후 숙면 강제 끝지.\n"
     ]
    },
    {
     "name": "stderr",
     "output_type": "stream",
     "text": [
      "\r  8%|▊         | 134/1689 [16:19<2:57:40,  6.86s/it]"
     ]
    },
    {
     "name": "stdout",
     "output_type": "stream",
     "text": [
      "134 : 저녁 7시가 다 된 시간에 도착을 했음에도 불구하고 청소가 끝나지 않은 방이 키를 중복 호선이 있었고, 일을 응대하는 직원이 태도도 엉망이었습니다. 심지어 정리된 방이 이불보도 깨끗하지 않더군요. 물론 성수기라 바빠서 그랬다고 할 수 있지만, 일을 감안하더라도 다시 한 번 고려되어야 할 부분이라고 생각합니다.\n"
     ]
    },
    {
     "name": "stderr",
     "output_type": "stream",
     "text": [
      "\r  8%|▊         | 135/1689 [16:22<2:25:25,  5.61s/it]"
     ]
    },
    {
     "name": "stdout",
     "output_type": "stream",
     "text": [
      "135 : 호텔이 아니다 보니 변경로는 것도 있긴 했는데, 노픈 곳에서 해운대를 내려다볼 수 있는 하나만으로도 충분히 좋았어요 ㅎ\n"
     ]
    },
    {
     "name": "stderr",
     "output_type": "stream",
     "text": [
      "\r  8%|▊         | 136/1689 [16:25<2:06:25,  4.88s/it]"
     ]
    },
    {
     "name": "stdout",
     "output_type": "stream",
     "text": [
      "136 : 기계식 주차 타워라서 SUV급 이상 차량은 골목에 세우거나 걸어서 5분 정도 되는 거리에 있는 공터에 세워야 되는데요...\n"
     ]
    },
    {
     "name": "stderr",
     "output_type": "stream",
     "text": [
      "\r  8%|▊         | 137/1689 [16:26<1:39:52,  3.86s/it]"
     ]
    },
    {
     "name": "stdout",
     "output_type": "stream",
     "text": [
      "137 : 불친절 그 자체임. 서비스업이 이렇게 불친절했어야.\n"
     ]
    },
    {
     "name": "stderr",
     "output_type": "stream",
     "text": [
      "\r  8%|▊         | 138/1689 [16:27<1:16:11,  2.95s/it]"
     ]
    },
    {
     "name": "stdout",
     "output_type": "stream",
     "text": [
      "138 : 위치가 좋고 깨끗해요.\n"
     ]
    },
    {
     "name": "stderr",
     "output_type": "stream",
     "text": [
      "\r  8%|▊         | 139/1689 [16:29<1:12:29,  2.81s/it]"
     ]
    },
    {
     "name": "stdout",
     "output_type": "stream",
     "text": [
      "139 : 숙소가 깔끔해서 매우 마음에 들고, 이동하기에 지리적 요건도 좋고 주변에 맛집도 많아서 추천!!\n"
     ]
    },
    {
     "name": "stderr",
     "output_type": "stream",
     "text": [
      "\r  8%|▊         | 140/1689 [16:55<4:10:15,  9.69s/it]"
     ]
    },
    {
     "name": "stdout",
     "output_type": "stream",
     "text": [
      "140 : 지난 2월 말경 펜트하우스에서 숙박했어요. 거기 히누끼탕이 넓어 부산 갈 때마다 종종 이용하는데, 히누끼탕에서 내려오다 미끄러져 나무 계단에 뒷머리를 부딪쳤어요. 그날은 너무 정신이 없어서 다른 조치를 못 취했고, 나아지려니 했는데 밤새 아파서 베개를 베지 못하겠더군요. 다음날 퇴실하며 간발의 상황에 대해 프런트 직원에게 얘기하고, 담당자가 콜백해주기로 했는데 밤까지도 연락이 없길래 호텔로 전화해보니 그럴 리가 없다고 거기 미끄러지지 않는 타일 쌌고됐다고 하더군요. 계속 아파서 거진이라도 해보겠는데 무슨 플랙 컨슈머 침구불..!! 거기 히누끼탕 아래 미끄러운 타일 맞습니다. 가실 분들 조심하세요. 제가 그런 위생을 살지 않아 그 밤에 119 부를 생각도, 쿠쿠 동영상 찍을 생각도 못했는데 대응이 참 많이 아쉬운 곳이었습니다. 알아보니 호텔은 다 보험 들어 있다던데 꼭 그렇게 해야 했는지.. 이곳 맘에 든다고 많이 알고 그랬는데 정말 다시는 가고 싶지 않네요. 꼭 가실 분들은 히누끼탕 바닥에 수건 잔뜩 깔아야 한다니다. 지인이 알려주더군요. 일산에 올라오고 3층을 아빴는데 동층 넘어질 때마다 상기꾼 취급한 매니저인지 지배인인지 그 사람한테 욕 한박까지 퍼부어주고 싶었습니다!!!\n"
     ]
    },
    {
     "name": "stderr",
     "output_type": "stream",
     "text": [
      "\r  8%|▊         | 141/1689 [17:16<5:38:23, 13.12s/it]"
     ]
    },
    {
     "name": "stdout",
     "output_type": "stream",
     "text": [
      "141 : 예식 있어서 다녀왔고, 호텔은 모루겠고 웨딩홀에 한정해 적어봅니다. 4층 홀에 자리 없다고 3층으로 내려가라고 하셔서 내려갔더니 3층 입구에 계시던 분은 보자마자 다시 4층으로 올라멱 자움을 내셨습니다. 내려가라고 해서 갔다가 자리 없다고 또 자움을 내셨습니다. 먼저에서 무전하며 내려 보내지 말라고 또 자음을 내셨습니다. 12시 30분 경 3층 초입에 계시던 안경 쓰고 뚱뚱한 직원 분! 본인이 내려가라더니 다시 올라가서 얘기했더니 귀찮아하고 자궁내시던 4층 초입에 계시던 나이 좀 있으신 직원 분! 기본적인 매너가 걸어된 분들이 서비스업에 종사하려면 안 그런 적이라도 여기하셔야겠죠? 추가하러 간 자리인 만큼 몇 마디 하고 말았지만… 일 못하고 서로 의사소통 안 돼서 자중 나는 건 당신네들 사정입니다. 그 외에 매우 느린 엘리베이터, 매우 불편하고 2층 주차가 필요한 주차장, 매우 불편합니다. 주차장 내려가는 길 넓은 게 유일한 장점입니다.\n"
     ]
    },
    {
     "name": "stderr",
     "output_type": "stream",
     "text": [
      "\r  8%|▊         | 142/1689 [17:17<4:05:12,  9.51s/it]"
     ]
    },
    {
     "name": "stdout",
     "output_type": "stream",
     "text": [
      "142 : 네이버에 리뷰가 없더라고요.\n"
     ]
    },
    {
     "name": "stderr",
     "output_type": "stream",
     "text": [
      "\r  8%|▊         | 143/1689 [17:21<3:16:15,  7.62s/it]"
     ]
    },
    {
     "name": "stdout",
     "output_type": "stream",
     "text": [
      "143 : 직원분들도 친절하시고 룸 컨디션도 좋아요! 무엇보다 뷰가 미쳤어요 ㅎㅎ 조식도 맛있었어요.\n"
     ]
    },
    {
     "name": "stderr",
     "output_type": "stream",
     "text": [
      "\r  9%|▊         | 144/1689 [17:30<3:31:09,  8.20s/it]"
     ]
    },
    {
     "name": "stdout",
     "output_type": "stream",
     "text": [
      "144 : 모임에서 지인들과 함께 다녀온 힐스노키비치 호텔. 언덕에 위치해 있어 뷰도 좋고 모든 시설이 깨끗하고 정갈하며, 여러 명이 와서 정원에서 파티도 할 수 있게 넓고~ 맘껏 즐길 수 있는 곳이기도 하다. 운치 있고 맑은 하늘의 버른 덤. 정원 파티는 너무 좋아서 다시 찾고 싶고 누구에게든 추천하고 싶다. 불편함 없이 챙겨주신 사장님, 고맙습니다~ 덕분에 더욱 즐거웠어요.\n"
     ]
    },
    {
     "name": "stderr",
     "output_type": "stream",
     "text": [
      "\r  9%|▊         | 145/1689 [17:45<4:24:52, 10.29s/it]"
     ]
    },
    {
     "name": "stdout",
     "output_type": "stream",
     "text": [
      "145 : 룸 컨디션: 5성급보다 더 실용적임   주차: 최악, 1박당 15,000원   조식: 해심정인 것들은 다 있음. 맛은 평근.   직원들 응대: 친절하다는 느낌을 받지 못함.   4층 로비가 라운지 바라 비즈니스 센터가 딱 트여 있음.   라운지가 무료는 아니지만 가격이 저렴한 편.   비 오면 운치 끝장남.   최상급 방인지는 모르지만 3 싱글 베드, 비즈니스 테이블 큰 것, 화장실도 크고 일반 룸 대비 2배 정도 크기입니다.   바디션이 따로 있지는 않습니다.   정말 만족스러움!!!! 할인 받고 바다 10만원 안쪽으로 2박 하고 가는데, 정말 이 잘하고 갑니다.\n"
     ]
    },
    {
     "name": "stderr",
     "output_type": "stream",
     "text": [
      "\r  9%|▊         | 146/1689 [18:02<5:14:05, 12.21s/it]"
     ]
    },
    {
     "name": "stdout",
     "output_type": "stream",
     "text": [
      "146 : 차량을 가지고 가야 해서 도보 특가가 아닌 일반 결제를 진행하고 예약을 했는데, 갑자기 방문해서 주차비를 내라고 하더군요. 주차비가 따로 있었으면 도보 특가로 결제했으면 되지 않았냐고 물으니, 그럼 그렇게 하시지 그러셨어요~ 하물 비안나때시네요. 아고다는 원래 주차비가 포함되지 않는다나… 맨날 아고다로 예약해서 아고다 등급도 높고 평소에 예약도 가지 각오에서 해보았지만, 이런 곳은 또 처음이네요. 너무 황당하고 어이없어서 이렇게 리뷰까지 남겨요. 아고다나 어플을 통해 예약하시고 차량을 소지하신 분들은 도보 특가로 예약하세요. 주차비는 어차피 따로 받으니깐요^^ 말씀만 배째라 알아서 해라. 원래 안 된다 그런 식으로 안 하셔도 그러려니 하고 있었을 텐데;; 합당한 요구 및 상식적인 대화가 불가능한 곳.\n"
     ]
    },
    {
     "name": "stderr",
     "output_type": "stream",
     "text": [
      "\r  9%|▊         | 147/1689 [18:06<4:08:44,  9.68s/it]"
     ]
    },
    {
     "name": "stdout",
     "output_type": "stream",
     "text": [
      "147 : 오션 뷰로 다녀왔는데 방이 넓고 바로 앞 해수욕장이고 위치도 너무 좋았습니다. 조식도 괜찮았어요  조식 안내해주는 분은 불친절.\n"
     ]
    },
    {
     "name": "stderr",
     "output_type": "stream",
     "text": [
      "\r  9%|▉         | 148/1689 [18:10<3:26:40,  8.05s/it]"
     ]
    },
    {
     "name": "stdout",
     "output_type": "stream",
     "text": [
      "148 : 검색하다 찾은 더샵 호텔인데 주인님이 친절하시고, 생각지 않은 조식도 간단하지만 제공하고, 강릉역도 도보로 가능하고, 다음에 강릉 방문 시 또 방문할 예정입니다.\n"
     ]
    },
    {
     "name": "stderr",
     "output_type": "stream",
     "text": [
      "\r  9%|▉         | 149/1689 [18:17<3:19:40,  7.78s/it]"
     ]
    },
    {
     "name": "stdout",
     "output_type": "stream",
     "text": [
      "149 : 호텔 아니고 모텔 느낌임. 화장실 문은 반투명이고 잠그는 기능 없이 닫는 거였다... 그래서 살짝씩 계속 열려서 친구랑 갔는데 민망했다... 넷플릭스는 무료로 볼 수 있지만 호텔 생각하고 가면 실망한다... 외국인들이 많이 묵는 것 같다... 체크아웃할 때 외국인들밖에 못 봄... 평점을 믿지 말아.. 그럼 사오나라...\n"
     ]
    },
    {
     "name": "stderr",
     "output_type": "stream",
     "text": [
      "\r  9%|▉         | 150/1689 [18:26<3:23:31,  7.93s/it]"
     ]
    },
    {
     "name": "stdout",
     "output_type": "stream",
     "text": [
      "150 : 이틀 연박했어요. 첫날 아리아에서 조식을 먹었는데 메뉴가 별로 없지만 맛은 있었어요. 특히 한식 부분이 가짓수가 부족하네요. 다음 날은 라운지에서 조식을 먹었는데 맛과 서비스, 분위기 다 좋았는데 라인스 종류는 12시부터라 조금 아쉬웠어요. 그리고 엘리베이터가 많이 느리고, 층고도 낮아서 답답함이 있었어요. 직원분들은 모두 친절하셨습니다.\n"
     ]
    },
    {
     "name": "stderr",
     "output_type": "stream",
     "text": [
      "\r  9%|▉         | 151/1689 [18:27<2:30:19,  5.86s/it]"
     ]
    },
    {
     "name": "stdout",
     "output_type": "stream",
     "text": [
      "151 : 조식 때문에 부산 갈 때마다 여기서 묵는다.\n"
     ]
    },
    {
     "name": "stderr",
     "output_type": "stream",
     "text": [
      "\r  9%|▉         | 152/1689 [18:28<1:53:35,  4.43s/it]"
     ]
    },
    {
     "name": "stdout",
     "output_type": "stream",
     "text": [
      "152 : 다 좋은데 샤워실에 냄새가 심했네요.\n"
     ]
    },
    {
     "name": "stderr",
     "output_type": "stream",
     "text": [
      "\r  9%|▉         | 153/1689 [18:46<3:40:36,  8.62s/it]"
     ]
    },
    {
     "name": "stdout",
     "output_type": "stream",
     "text": [
      "153 : 벽 뷰 당첨. 업주찬은 시티 뷰보다는 깔끔한 벽 뷰가 훨씬 나음. 시설 이 정도면 괜찮은데..? 싶음. 처음에 입구 찾기 힘들어서 약간 헤맸음. 스타벅스 왼쪽 입구로 들어가서 4층 엘리베이터 누르면 끝. 로비 완전 괜찮음. 넓진 않아도 이 정도면 가성비가 한눈에서 내리다 못해 흐르는 듯.. 3시 체크인 하기 전까지 안마의자에 앉아서 있다가 체크인 하면 됨. 안마의자 시원하고, 안마의자 뷰 괜찮음. 객실 올라갈 때 카드키를 찍어야 해서 보안 이 정도면 괜찮다. --혹시 몰라서 오전에 룸 청소, 수건 갈아달라고 하고 나왔음. 그리고 다시 돌아왔는데 룸 청소 하나도 안 되어 있음. 오전 매니저가 신청을 안 해놨다고 함. ㅋㅋㅋ 로비에서 물한 대기 하다가 들어감.\n"
     ]
    },
    {
     "name": "stderr",
     "output_type": "stream",
     "text": [
      "\r  9%|▉         | 154/1689 [18:54<3:36:36,  8.47s/it]"
     ]
    },
    {
     "name": "stdout",
     "output_type": "stream",
     "text": [
      "154 : 방음이 최악이고 방마다 돌아다니면서 지배인이 뜯다가 시끄러우면 새벽에 쫙 누름… 이상한 사람이 줄 알고 깜짝 놀라서 누구냐니까 지배인이라고 해서 뭐지 싶었음. TV만 켜놨는데 어이없었음…(심지어 소리가 큰 것도 아니었고 일반적인 가정집에서 TV 틀은 소리 정도임) ㅠㅠㅠ 프런트 직원들도 지셈 없고 당혹스러움…\n"
     ]
    },
    {
     "name": "stderr",
     "output_type": "stream",
     "text": [
      "\r  9%|▉         | 155/1689 [19:21<5:54:42, 13.87s/it]"
     ]
    },
    {
     "name": "stdout",
     "output_type": "stream",
     "text": [
      "155 : 외주업체 인력으로 관리되는데, 다들 로봇 같습니다. 응대 매뉴얼대로 말로만 응대합니다. 말투에 ‘아...싫다 싫다’라는 표정과 행동에서 귀찮음이 묻어나니다. 아니, 다른 데 가지 왜 여기 예약했냐는 말 안 하면 다행입니다. 그랜드 엘시티나 엘시티 더 레지던스 여친은 체크인 시 직원이 방까지 안내하는데, 와이컬렉션 여기 직원들은 로비 타면도 종이 쪽지에 이동 방법 안내만 하고 끝입니다. 로비 상주 직원이 더 친절합니다. 암막 커튼 없는 방에 묵었는데, 아침에 해 뜨면 바로 강제 기상입니다. 호텔 리조트 다녀도 암막 커튼 없는 시설 처음 봅니다. 암막 없다고 말하니 원 소우자가 해노한 대로 자기들이 운영한다고 말하면서 마치 본인들은 모르겠다는 식으로 말합니다. 안방과 거실에 암막 커튼 설치해 달랬더니 암막 커튼 재고 있는지 찾아보겠다고 하더니 방 하나 설치할 것 밖에 없다며. 그럼 안방이라도 설치해 달랬더니 다른 작은 방에 설치해주고 갑니다. 저기요... 난 안방에서 잔다고 안방에다 설치해 달랬더니 왜 영향한 방에 설치하나요??? 관리도 잘 안 되고, 엘시티 일부에서 호텔 같은 분위기를 내지만 실상은 직급이 암망추어 수준의 응대와 소극적인 대응입니다. 내 돈 주고 경치나 진상 취급받기를 원하시면 여기를 추천합니다.\n"
     ]
    },
    {
     "name": "stderr",
     "output_type": "stream",
     "text": [
      "\r  9%|▉         | 156/1689 [19:22<4:18:31, 10.12s/it]"
     ]
    },
    {
     "name": "stdout",
     "output_type": "stream",
     "text": [
      "156 : 최악의 호텔!!! 피하세요!!! 서비스가 최악입니다!!!\n"
     ]
    },
    {
     "name": "stderr",
     "output_type": "stream",
     "text": [
      "\r  9%|▉         | 157/1689 [19:28<3:43:57,  8.77s/it]"
     ]
    },
    {
     "name": "stdout",
     "output_type": "stream",
     "text": [
      "157 : 사장님 엄청 친절하세요. 추천해주신 재재국 식당하고 회집도 둘 다 맛있었고요. 테라스에서 놀기도 좋고 시설도 깔끔한 편이었습니다. 다만 상호명이 더뷰인데, 뷰는 앞 건물에 막혀서 기대 안 하는 게 좋을 것 같습니다.\n"
     ]
    },
    {
     "name": "stderr",
     "output_type": "stream",
     "text": [
      "\r  9%|▉         | 158/1689 [19:31<2:59:19,  7.03s/it]"
     ]
    },
    {
     "name": "stdout",
     "output_type": "stream",
     "text": [
      "158 : 정말 푹 쉴 수 있었어요! 통유리로 바다도 훤히 보이니까 답답하지도 않고 기분 전환도 완벽. 다시 돈 벌어 올게요!\n"
     ]
    },
    {
     "name": "stderr",
     "output_type": "stream",
     "text": [
      "\r  9%|▉         | 159/1689 [19:33<2:23:13,  5.62s/it]"
     ]
    },
    {
     "name": "stdout",
     "output_type": "stream",
     "text": [
      "159 : 깨끗하고 편의 시설이 잘 되어 있어요. 근처 감성 포차도 호텔 투숙이 오션처럼 매우 만족합니다.\n"
     ]
    },
    {
     "name": "stderr",
     "output_type": "stream",
     "text": [
      "\r  9%|▉         | 160/1689 [19:36<2:04:21,  4.88s/it]"
     ]
    },
    {
     "name": "stdout",
     "output_type": "stream",
     "text": [
      "160 : 리모델링을 하신 듯한데, 이 가격에 이런 청결함이... 방 크기, 욕실 크기도 넉넉하고 감탄, 감탄.\n"
     ]
    },
    {
     "name": "stderr",
     "output_type": "stream",
     "text": [
      "\r 10%|▉         | 161/1689 [19:57<4:04:23,  9.60s/it]"
     ]
    },
    {
     "name": "stdout",
     "output_type": "stream",
     "text": [
      "161 : 아잤에서 예약하고 당일 사정 때문에 새벽 1시가 다 되어 도착했습니다. 체크인하고 방에 들어가서 침대에 앉았는데, 삐삐삐 고주발 소리가 그직적으로 들렸습니다. 침대 머리맡에서 소리가 그직적으로 나고 있었습니다. 신랑과 둘이서 해결하려 해도 해결이 안 되었습니다. 데스크에 전화했더니 직접 확인하겠다 올라와서 한참 뜯더니 본인은 안 들리고 이런 적이 처음이라고 했습니다. 참고 잤던지 아니면 환불해주겠다고 했습니다. 예민하다고 하더군요. 상의 끝에 우리는 다른 곳으로 가기로 했습니다. 환불하겠다 하고 데스크로 내려갔는데 갑자기 앞차에서 환불해주지 모른다고 하고, 어디 가서 이러면 안 된다고 하였습니다. 대체 뭘 이러면 안 된다는 것인지...? 그래서 어이가 없어서 우리가 일부러 그런 것도 아닌데 뭘 글러면 안 된다고 하냐고, 우리가 잘못한 게 아니고 객실 결함이지 않냐고 물었습니다. 사장님은 갑자기 마스크를 벗으며 자신은 환불해주려고 하고 있는데 연성을 높인다고 뭐라 했습니다. 그리고 늦게 와서 이러는 것이 아니라며 우리 잘못도 있다고 하였습니다.\n"
     ]
    },
    {
     "name": "stderr",
     "output_type": "stream",
     "text": [
      "\r 10%|▉         | 162/1689 [20:11<4:43:05, 11.12s/it]"
     ]
    },
    {
     "name": "stdout",
     "output_type": "stream",
     "text": [
      "162 : 저저번주에 얼린 풀빌라를 방문할 때 삼성 정품 패터리벡을 카드가 빼서 바닥에 둔 걸 봤는데, 퇴장할 때 보니 의자에 묘얀튼 포조팬터리들을 봤는데 내 것만 없었다. 바닥을 봐도 역시 누가 쓰레기 침구패크인지 가져다는데, 호텔에 전화하니 오전 11시에 다시 전화하라고 한다. 응대가 최악이다. 게스트 이름을 넣어주는 클럽 총괄 이삭한테 물어보니 분실물 나온 게 없댔다. 내 패터리백 4만 4천원이 생돈도 아니고 남의 걸 마음대로 빼서놓고 어딘가로 빼돌렸을 게 분명하다. 딱 봐도 정품 패터리백인 걸 누가 못 알아보겠냐? 알아봤으니 구석 싸게놓고 모른다고 자빠대는 것 같다.\n"
     ]
    },
    {
     "name": "stderr",
     "output_type": "stream",
     "text": [
      "\r 10%|▉         | 163/1689 [20:14<3:36:27,  8.51s/it]"
     ]
    },
    {
     "name": "stdout",
     "output_type": "stream",
     "text": [
      "163 : 맘에 안 드는 점 찾기가 더 어려움. 조개 시절부터 9년째 다니는데 갈 때마다 좋아짐.\n"
     ]
    },
    {
     "name": "stderr",
     "output_type": "stream",
     "text": [
      "\r 10%|▉         | 164/1689 [20:21<3:29:17,  8.23s/it]"
     ]
    },
    {
     "name": "stdout",
     "output_type": "stream",
     "text": [
      "164 : 분위기도 좋고 수영장, 조식, 청결 다 괜찮아요. 뷰도 탁 트이고 한강까지 멀어서 날맘 보이는데, 방음이 진짜 놀랐어요. 옆방 그냥 대화하는 소리, 기침 소리까지 다 들려요. 떠드는 것도 아닌데, 특급 호텔에서 이 정도 방음은 ㅠㅠ 삼성동 파크 하얏트랑 비교하면 너무 떨어지는 것 같습니다.\n"
     ]
    },
    {
     "name": "stderr",
     "output_type": "stream",
     "text": [
      "\r 10%|▉         | 165/1689 [20:31<3:39:18,  8.63s/it]"
     ]
    },
    {
     "name": "stdout",
     "output_type": "stream",
     "text": [
      "165 : 호텔은 직원분의 서비스에 따라 기분이 바뀌다고 생각하는데, 호텔 1은 오자마자 직원분이 반갑게 맞아주시고 친절하게 알려주셔서 좋았어요. 방의 컨디션도 굉장히 좋았습니다. 하지만 하일라이트는 정말 뷰가  호텔 9층에서 바라보는 광안대교의 풍경은 진짜 여자친구랑 둘 다 우와 우와 거렸어요 ㅋㅋ 너무 예쁩니다. 다음 부산 여행에서도 무조건 다시 올 것 같아요. 강추입니다\n"
     ]
    },
    {
     "name": "stderr",
     "output_type": "stream",
     "text": [
      "\r 10%|▉         | 166/1689 [20:37<3:21:06,  7.92s/it]"
     ]
    },
    {
     "name": "stdout",
     "output_type": "stream",
     "text": [
      "166 : 이 콘도는 별점조차도 아까움. 아침에 짐 싸들고 나가는데 메이드라는 사람이 사람을 붙잡고 \"몇 호 퇴실이야?\"라고 시전. 어이가 없음. 옆방에서는 문 열어놓고 고기 구기 시전하고 순간이 잘못된 선택이 이렇게까지 빡칠 줄이야. 아, 변기는 노란 자석돼서.\n"
     ]
    },
    {
     "name": "stderr",
     "output_type": "stream",
     "text": [
      "\r 10%|▉         | 167/1689 [20:44<3:08:46,  7.44s/it]"
     ]
    },
    {
     "name": "stdout",
     "output_type": "stream",
     "text": [
      "167 : 제가 작년에 여기서 예식을 올렸는데, 1년이 지나도 예식 때 찍은 앨범을 주지 않고 있습니다. 처음엔 계속 다음 달, 다음 달 하더니 10월에 확실히 주겠다고 해놓고, 이후에는 아예 답장도 안 해주는 악질 업체입니다. 제발 전철처럼 당하는 사람이 없길 바라는 마음으로 이 글을 올립니다.\n"
     ]
    },
    {
     "name": "stderr",
     "output_type": "stream",
     "text": [
      "\r 10%|▉         | 168/1689 [20:45<2:22:48,  5.63s/it]"
     ]
    },
    {
     "name": "stdout",
     "output_type": "stream",
     "text": [
      "168 : 뷰가 좋고, 호텔과 백화점 연결이 편리합니다.\n"
     ]
    },
    {
     "name": "stderr",
     "output_type": "stream",
     "text": [
      "\r 10%|█         | 169/1689 [20:47<1:52:52,  4.46s/it]"
     ]
    },
    {
     "name": "stdout",
     "output_type": "stream",
     "text": [
      "169 : 직원분들이 아주 친절하셨고, 깨끗하고 편하게 잘 쉬었습니다.\n"
     ]
    },
    {
     "name": "stderr",
     "output_type": "stream",
     "text": [
      "\r 10%|█         | 170/1689 [20:48<1:27:57,  3.47s/it]"
     ]
    },
    {
     "name": "stdout",
     "output_type": "stream",
     "text": [
      "170 : 광안대교 오션뷰를 즐길 수 있는 곳\n"
     ]
    },
    {
     "name": "stderr",
     "output_type": "stream",
     "text": [
      "\r 10%|█         | 171/1689 [20:49<1:13:12,  2.89s/it]"
     ]
    },
    {
     "name": "stdout",
     "output_type": "stream",
     "text": [
      "171 : 편하게 잘 묵었습니다. 가까워서 성수동 구경 잘했어요~\n"
     ]
    },
    {
     "name": "stderr",
     "output_type": "stream",
     "text": [
      "\r 10%|█         | 172/1689 [20:54<1:26:47,  3.43s/it]"
     ]
    },
    {
     "name": "stdout",
     "output_type": "stream",
     "text": [
      "172 : 해피아워가 너무 실망이에요 ㅠㅠ 탄산수가 없고 콜라, 사이다만 있네요.. 익스기와 진 종류도 얼마 없어요.. 평일인데도 줄 서서 음식 받아야 해요.. 등등 뷰는 정말 좋았어요.\n"
     ]
    },
    {
     "name": "stderr",
     "output_type": "stream",
     "text": [
      "\r 10%|█         | 173/1689 [20:57<1:20:34,  3.19s/it]"
     ]
    },
    {
     "name": "stdout",
     "output_type": "stream",
     "text": [
      "173 : 방이 크고 복층인데다가 통유리라서 바다가 훤히 잘 보였어요. 호텔처럼 구비품도 다 있었네요.\n"
     ]
    },
    {
     "name": "stderr",
     "output_type": "stream",
     "text": [
      "\r 10%|█         | 174/1689 [20:58<1:08:50,  2.73s/it]"
     ]
    },
    {
     "name": "stdout",
     "output_type": "stream",
     "text": [
      "174 : 아이들과 너무 좋았습니다. 깨끗했고 뷰도 좋았구요.\n"
     ]
    },
    {
     "name": "stderr",
     "output_type": "stream",
     "text": [
      "\r 10%|█         | 175/1689 [21:00<1:01:05,  2.42s/it]"
     ]
    },
    {
     "name": "stdout",
     "output_type": "stream",
     "text": [
      "175 : 역시 관상은 과학이라 했는데 결국 뉴스에 나오는 사고를 치는군요ㅋ\n"
     ]
    },
    {
     "name": "stderr",
     "output_type": "stream",
     "text": [
      "\r 10%|█         | 176/1689 [21:02<56:19,  2.23s/it]  "
     ]
    },
    {
     "name": "stdout",
     "output_type": "stream",
     "text": [
      "176 : 객실이 정갈합니다. 소박한 정갈함에 배려받는 느낌이었습니다.\n"
     ]
    },
    {
     "name": "stderr",
     "output_type": "stream",
     "text": [
      "\r 10%|█         | 177/1689 [21:08<1:27:50,  3.49s/it]"
     ]
    },
    {
     "name": "stdout",
     "output_type": "stream",
     "text": [
      "177 : 제가 가본 펜션 중에서는 최고네요. 다이슨 드라이기라니..... ㅎㅎ T5에서 묵었는데, 바다 전망이 정말 좋고 침대가 통닭때수라 정말 폭신하고 좋았어요 ^^ 사장님이 신경을 많이 쓰신 것 같아요. 신축이라 더 좋았네요 ^^ 번창하세요~\n"
     ]
    },
    {
     "name": "stderr",
     "output_type": "stream",
     "text": [
      "\r 11%|█         | 178/1689 [21:14<1:46:07,  4.21s/it]"
     ]
    },
    {
     "name": "stdout",
     "output_type": "stream",
     "text": [
      "178 : 뷰랑 분위기가 정말 최고였어요. 챙겨주신 간식도 맛있었어요. 부산에 다시 가도 또 숙박하고 싶어요. 단 하나의 단점이라고 하면 샤워실이 조금 좁네요. 밑에 카페도 특이한데 직원분들이 친절해서 불편함 없이 이용했네요. 적극 추천합니다!\n"
     ]
    },
    {
     "name": "stderr",
     "output_type": "stream",
     "text": [
      "\r 11%|█         | 179/1689 [21:18<1:39:49,  3.97s/it]"
     ]
    },
    {
     "name": "stdout",
     "output_type": "stream",
     "text": [
      "179 : 광안리 근처에 있는 호텔로서 직원들의 서비스도 좋고 객실에서의 뷰와 루프탑의 전망이 정말 좋았어요. 사진 찍을 곳이 많아요.\n"
     ]
    },
    {
     "name": "stderr",
     "output_type": "stream",
     "text": [
      "\r 11%|█         | 180/1689 [21:22<1:44:49,  4.17s/it]"
     ]
    },
    {
     "name": "stdout",
     "output_type": "stream",
     "text": [
      "180 : 주차장에 차를 세우고 걷거나 셔틀로 로비 가는 것이 힘드니 발렛하는 것이 좋을 듯합니다. 체크인, 해피 아워, 어반 아이랜드, 라운지, 조식 등등 사람이 많은 것 빼고 좋았습니다.\n"
     ]
    },
    {
     "name": "stderr",
     "output_type": "stream",
     "text": [
      "\r 11%|█         | 181/1689 [21:25<1:36:29,  3.84s/it]"
     ]
    },
    {
     "name": "stdout",
     "output_type": "stream",
     "text": [
      "181 : 친구 아들 결혼식에 참석했는데 주차 환경, 뷰, 음식 정말 최고예요. 우리 아이들도 여기 추천하고 싶군요. 호캉스!\n"
     ]
    },
    {
     "name": "stderr",
     "output_type": "stream",
     "text": [
      "\r 11%|█         | 182/1689 [21:35<2:24:16,  5.74s/it]"
     ]
    },
    {
     "name": "stdout",
     "output_type": "stream",
     "text": [
      "182 : 시골 모텔 수준으로 1층 입구부터 상가여서 꿉꿉한 냄새가 나고, 룸 청소 상태 역시나 머리카락과 먼지를 금세 찾을 수 있다. 빗 아래 에어컨, 냉장고, 변기와 침접분한 욕조, 그리고 여기저기 빨래 있는 실리콘. 알 수 없는 백화에서는 새벽에 물 내려가는 소리가 빈번하게 들린다. 방음도 안 돼 옆방 노구가 우리 룸인 줄 알고 시겁했고, 외부는 홀쟝이라 시끄러운 거리 밖 소리에 잠도 못 잤다.\n"
     ]
    },
    {
     "name": "stderr",
     "output_type": "stream",
     "text": [
      "\r 11%|█         | 183/1689 [21:45<2:53:28,  6.91s/it]"
     ]
    },
    {
     "name": "stdout",
     "output_type": "stream",
     "text": [
      "183 : 주차장이 외부에 있어서 조금 불편했는데, 뷰 하나로 모든 게 용서가 됩니다. 근처 호텔 중 최고입니다. 개인적으로는 하얏트 더 좋다는 생각이 드네요. 시설도 깨끗하고, 무엇보다도 호텔 입구부터 슬리퍼 착용이라서 다소 생소한 감이 있었지만, 좀 지나니 오히려 쾌적하고 내 집 같고요. 늦은 새벽 체크인에도 이것저것 신경을 많이 써주시고 친절하다는 느낌을 받았습니다. 다음에 부산에 올 일이 있으면 다시 들를 것 같아요.\n"
     ]
    },
    {
     "name": "stderr",
     "output_type": "stream",
     "text": [
      "\r 11%|█         | 184/1689 [21:49<2:33:36,  6.12s/it]"
     ]
    },
    {
     "name": "stdout",
     "output_type": "stream",
     "text": [
      "184 : 무엇보다 깨끗해서 좋았습니다. 화장실도 깨끗해서 너무 맘에 들었습니다~ 올 때부터 주차하는 것도 편했고, 사장님이 신경을 잘 써 주셔서 너무 좋았네요~~ 너무 만족스럽게 이용했습니다!!\n"
     ]
    },
    {
     "name": "stderr",
     "output_type": "stream",
     "text": [
      "\r 11%|█         | 185/1689 [21:53<2:12:46,  5.30s/it]"
     ]
    },
    {
     "name": "stdout",
     "output_type": "stream",
     "text": [
      "185 : 직원분들이 엄청 친절합니다. 뷰도 좋아요~ 방음은 중간 정도입니다. 안 들리는 건 아닌데, 또 엄청나게 시끄럽게 들리진 않아요~\n"
     ]
    },
    {
     "name": "stderr",
     "output_type": "stream",
     "text": [
      "\r 11%|█         | 186/1689 [22:15<4:16:39, 10.25s/it]"
     ]
    },
    {
     "name": "stdout",
     "output_type": "stream",
     "text": [
      "186 : 가족 세명이 점심 특가 12시에 가서 먹었는데, 특별히 맛이 없지도 특별히 맛이 있지도 않으나, 특별히 가져다 먹을 만한 게 없네요. 점심 특가 35,700원에 초밥 퀄리티도 평범한 결혼식장 뷔페 수준, 나머지도 딱 결혼식장 뷔페 수준입니다. 호텔이라 다르겠지 생각하고 오면 안 됩니다. 가져다 먹을 만한 가지 수도 너무 적어서 같은 메뉴 계속 가져다 먹다가 끝났네요. 20,000원도 아까울 듯하네요. 단품을 35,700원이면 제대로 한 끼 먹을 듯 기대 이하입니다. (비추하니 참고하세요) 주차는 점심에는 보보인주 주차 불가 점가는 곳인데 안내판이 없어서 길도 일방인데 헤맸다가 만차라 전화하다 맞은편 바이녜비누에 주차하라고 내려갔더니 지하 2층까지 만차라 지하 3층 내려가니 지정 주차 전화하니 지하 4층, 5층 사용하라더군요. 처음부터 그렇게 안내를 해주어야지 알든 건은 돌고 돌아 주차하고 뷔페 들어가네요. 처음 가는 분들은 이 부분도 참고하세요.\n"
     ]
    },
    {
     "name": "stderr",
     "output_type": "stream",
     "text": [
      "\r 11%|█         | 187/1689 [22:17<3:17:27,  7.89s/it]"
     ]
    },
    {
     "name": "stdout",
     "output_type": "stream",
     "text": [
      "187 : 방 사이즈가 너무 작은데 방음도 안 됩니다. 이게 호텔 맞는지 궁금합니다. 여튼기리는 오지 마세요..\n"
     ]
    },
    {
     "name": "stderr",
     "output_type": "stream",
     "text": [
      "\r 11%|█         | 188/1689 [22:20<2:40:26,  6.41s/it]"
     ]
    },
    {
     "name": "stdout",
     "output_type": "stream",
     "text": [
      "188 : 호캉스 하기에 추천합니다. 가격이 있지만 서비스가 좋고 뷰가 좋고 화장실이 짱 넓음 쥬의!\n"
     ]
    },
    {
     "name": "stderr",
     "output_type": "stream",
     "text": [
      "\r 11%|█         | 189/1689 [22:21<1:58:21,  4.73s/it]"
     ]
    },
    {
     "name": "stdout",
     "output_type": "stream",
     "text": [
      "189 : 침대가 넓어서 아주 좋습니다!\n"
     ]
    },
    {
     "name": "stderr",
     "output_type": "stream",
     "text": [
      "\r 11%|█         | 190/1689 [22:22<1:34:29,  3.78s/it]"
     ]
    },
    {
     "name": "stdout",
     "output_type": "stream",
     "text": [
      "190 : 깔끔해요. 라운지 서비스도 좋고, 친절하세요.\n"
     ]
    },
    {
     "name": "stderr",
     "output_type": "stream",
     "text": [
      "\r 11%|█▏        | 191/1689 [22:27<1:39:33,  3.99s/it]"
     ]
    },
    {
     "name": "stdout",
     "output_type": "stream",
     "text": [
      "191 : 새로 지어서 시설이 깔끔함. 청소 상태 좋음. 내 방도 창문 열고 옆 방에서도 창문 열어놓고 얘기하면 같은 방에서 얘기하는 느낌임. ★조식 절대 비추★ 에그스크램블조차 비림.\n"
     ]
    },
    {
     "name": "stderr",
     "output_type": "stream",
     "text": [
      "\r 11%|█▏        | 192/1689 [22:32<1:49:17,  4.38s/it]"
     ]
    },
    {
     "name": "stdout",
     "output_type": "stream",
     "text": [
      "192 : 장점 = 저렴하고 청결함   단점 = 넷플릭스 리모컨이 개 크지가다서 보기 힘들. 냉장고도 넣어놔도 실내 두 걸이 같아 가음. 아무런 온도 변경가 없음. 싸게 묵고 자기엔 좋은 곳인 듯.\n"
     ]
    },
    {
     "name": "stderr",
     "output_type": "stream",
     "text": [
      "\r 11%|█▏        | 193/1689 [22:33<1:25:49,  3.44s/it]"
     ]
    },
    {
     "name": "stdout",
     "output_type": "stream",
     "text": [
      "193 : 뷰가 너무 아름다워요. 푹 쉬다가 갑니다.\n"
     ]
    },
    {
     "name": "stderr",
     "output_type": "stream",
     "text": [
      "\r 11%|█▏        | 194/1689 [22:36<1:22:37,  3.32s/it]"
     ]
    },
    {
     "name": "stdout",
     "output_type": "stream",
     "text": [
      "194 : 성수기였는데 가성비도 너무 좋고 뷰도 너무 예뻤어요. 잘 쉬다가 갑니다. 직원분들도 다들 너무 친절하세요\n"
     ]
    },
    {
     "name": "stderr",
     "output_type": "stream",
     "text": [
      "\r 12%|█▏        | 195/1689 [22:40<1:26:19,  3.47s/it]"
     ]
    },
    {
     "name": "stdout",
     "output_type": "stream",
     "text": [
      "195 : 사장님도 친절하시고, 방도 침구도 깨끗해서 좋았어요. 단 하나, 트리플룸 샤워실에서 샤워하면 문들을 타고 물이 좀 밖으로 흘러 나오네요.\n"
     ]
    },
    {
     "name": "stderr",
     "output_type": "stream",
     "text": [
      "\r 12%|█▏        | 196/1689 [23:22<6:09:17, 14.84s/it]"
     ]
    },
    {
     "name": "stdout",
     "output_type": "stream",
     "text": [
      "196 : 국내 해외 다른 5성급 호텔들을 멋이 개 다녀보고 적은 후기   장점: 기본 룸 타입부터 방이 넓고 화장실도 큼직함. 최상의 체인(콘래드)이 아니더라도 부끄하고 룸 인테리어나 패치도 고급스럽고 편함. 서울 콘래드보다 등급이 낮음에도 오히려 더 깔끔한듯. 사우나, 메인 풀, 맥퀸즈 풀, 히튼즈까지 어메니티는 국내 최고 수준임. 파크하얏트나 콘래드보다도 외곽 지역에 있어서 그런지 어메니티가 하나하나 크고 좋음. 직원분들은 친절하고 개인적으로 럭셔리 호텔에서 나오는 극진한 친절을 부탁스러워하는 편인데 그런 게 없이 친절하고 편안한 분위기로 대해 주셔서 좋았음. 컨시어지, 이그제큐티브 라운지 서비스 다 만족스러움(개인적으로 한국 특급 호텔들의 친절도와 서비스는 외국과 비교했을 때 항상 최상급이라 생각함) 밥 먹고 산책하기 아주 좋음. 아난티 타운에서 음식 & 카페 해결도 가능하고 위치도 차로 3분 거리 앞을렛, 이케아 있어서 그렇게 외진 느낌은 안 듦.   단점: 멤버십 등급이 낮으면 어메니티의 장점을 활용 못함(무료 조식, 이그제큐티브 라운지, 맥퀸즈 풀 등) 하나하나 이용하는데 부대비용이 3-5만원씩 발생해서 가성비가 안 좋을 듯. 호텔 비용은 꽤 비싼 편이고, 룸 업그레이드도 박한 편이라 대목에 가는 것은 추천 안 함. 복도 방음이 안 돼서 새벽에도 쫙쫙 민폐 손님(+ 아이들 뛰어노는 소리) 있으면 시끄러움. 아이들을 데리고 오는 가족 단위 관광객이 많은데 성인 불 개장하는 월요일은 맥퀸즈 입장 가능한 등급이나 방이 아니면 메인 풀은 아이들로 꽤 복잡함. 조식은 한식을 좋아하는 사람에게 크고, 나머지는 부족할 듯(한식은 종류별로 있고 맛도 수준급인데 비해 해산물, 양식은 거의 없음)   총 평점은 4.5, 근데 이 정도면 한국에서 자랑해도 될 만한 호텔이라 5점 남김.\n"
     ]
    },
    {
     "name": "stderr",
     "output_type": "stream",
     "text": [
      "\r 12%|█▏        | 197/1689 [23:55<8:31:08, 20.56s/it]"
     ]
    },
    {
     "name": "stdout",
     "output_type": "stream",
     "text": [
      "197 : 15년 전 처음 숙박할 때가 가장 좋았었다. 뷰압 더할 나위 없이 좋다. 특히 침대가 이번에도 내가 좋아하는 탄탄한 매트리스로 푹 잠에 도움됨. 이번이 세 번째인데 인테리어 리모델링이 있었는지 깨끗해졌더라. 그런데 아주 중요한 샤워 수전과 수압, 냉온수 조절이 안 되는 노후한 장치, 샤워 핸드 구멍 중 반이 막혀 있었다. 사장님! 몇 분이나 된다고 샤워 헤드를 좀 좋은 것으로 교체하시지, 물 온도를 내가 원하는 온도로는 절대로 맞추 수 없고 차물과 뜨거운 물의 철모한 중간 지점으로 맞추면 절대로 물을 참으면 안 된다. 잠깐다 다시 그 위치로 틀면 아주 차물이나 아주 뜨거운 물 펄럭 맞고 벌쩍 뛰게 된다. 그러니깐 샤워가 끝나 대기할 때까지 그대로 틀어 놓고 써야 함. 샤워 헤드를 집에 있는 거 빼 가지고 카드, 하나 사 가지고 가는 것을 권장합니다. 특실이 낫겠지 하고 비싼 특실 예약했는데 젤 모양이다. 교체 공사를 해야 한다. 카운터에 연락하니 올라와 보겠다 한다. 내일 확인하라 했다. 아침에 일정을 시작하기 위해 나서는데 어차 사장님이 부른다. 8층 특실이 다 그래서 손 볼 거라고 한다. 그러니 5층 일반실로 바꿔 주시겠다. 진짜에 하시든지 투숙객을 받지 말고 고지든지. 수전만 교체하면 하루면 8층 5개 룸은 충분하지 싶다. 벤츠 GLC300 4MATIC 타고 출근하시는 사장님. 미안하다고 그냥 넘어가지 마시고, 베란다에 한쑥구, 스테이클, 비물 구명... 어떤 용도의 구명인지 2개가 있던데 거기서 아기가 너무 심해 베란다 문을 열지를 못하겠던데, 그건 교체가 아니라 냄새 역류 방지 공사를 하셔야겠습니다.\n"
     ]
    },
    {
     "name": "stderr",
     "output_type": "stream",
     "text": [
      "\r 12%|█▏        | 198/1689 [24:01<6:38:21, 16.03s/it]"
     ]
    },
    {
     "name": "stdout",
     "output_type": "stream",
     "text": [
      "198 : 여기 하이라이트는 수영장이 것 같네요~ 무슨 리조트인 것처럼 앞에 수영 목적으로 온 사람이 많았어요 ㅋㅋ 실내는 가족용, 씨언은 커플, 혼자 온 사람 이렇게 보면 이해하기 쉬울 듯요^^ 조식이라 시설도 무난하게 이용했어요^^\n"
     ]
    },
    {
     "name": "stderr",
     "output_type": "stream",
     "text": [
      "\r 12%|█▏        | 199/1689 [24:03<4:55:20, 11.89s/it]"
     ]
    },
    {
     "name": "stdout",
     "output_type": "stream",
     "text": [
      "199 : 내부 시설, 건물 등 아주 깔끔합니다~ 개인적으로는 위치 지역에 비해 가성비가 좋아서 추천합니다~\n"
     ]
    },
    {
     "name": "stderr",
     "output_type": "stream",
     "text": [
      "\r 12%|█▏        | 200/1689 [24:04<3:35:21,  8.68s/it]"
     ]
    },
    {
     "name": "stdout",
     "output_type": "stream",
     "text": [
      "200 : 무투호텔 좋아요. 앞으로 더 기대되네요^^\n"
     ]
    },
    {
     "name": "stderr",
     "output_type": "stream",
     "text": [
      "\r 12%|█▏        | 201/1689 [24:05<2:39:17,  6.42s/it]"
     ]
    },
    {
     "name": "stdout",
     "output_type": "stream",
     "text": [
      "201 : 새 건물이라 좋아요. 내 집처럼 편안하고\n"
     ]
    },
    {
     "name": "stderr",
     "output_type": "stream",
     "text": [
      "\r 12%|█▏        | 202/1689 [24:07<2:03:56,  5.00s/it]"
     ]
    },
    {
     "name": "stdout",
     "output_type": "stream",
     "text": [
      "202 : 위치가 정말 좋습니다. 직원들이 친절하고요. 방도 깨끗하고요.\n"
     ]
    },
    {
     "name": "stderr",
     "output_type": "stream",
     "text": [
      "\r 12%|█▏        | 203/1689 [24:09<1:39:59,  4.04s/it]"
     ]
    },
    {
     "name": "stdout",
     "output_type": "stream",
     "text": [
      "203 : 펜션도 좋고 사장님도 친절하시고 너무 깨끗했어요^^\n"
     ]
    },
    {
     "name": "stderr",
     "output_type": "stream",
     "text": [
      "\r 12%|█▏        | 204/1689 [24:10<1:20:51,  3.27s/it]"
     ]
    },
    {
     "name": "stdout",
     "output_type": "stream",
     "text": [
      "204 : 아주 좋습니다. 조식도 많았네요. 가성비 최고^^\n"
     ]
    },
    {
     "name": "stderr",
     "output_type": "stream",
     "text": [
      "\r 12%|█▏        | 205/1689 [24:15<1:27:37,  3.54s/it]"
     ]
    },
    {
     "name": "stdout",
     "output_type": "stream",
     "text": [
      "205 : 간단하게 부산에서 지낼 곳을 찾고 있었는데, 와보니 너무 마음에 드네요. 4층이었는데 바로 앞이 해수욕장이어서 뷰도 너무 예뻤어요. 가격도 착하고 좋은 경험이었습니다^^\n"
     ]
    },
    {
     "name": "stderr",
     "output_type": "stream",
     "text": [
      "\r 12%|█▏        | 206/1689 [24:49<5:14:19, 12.72s/it]"
     ]
    },
    {
     "name": "stdout",
     "output_type": "stream",
     "text": [
      "206 : 뷰는 좋고 최근에 지어진 시설도 깔끔하여 좋음. 그러나 최상급 호텔이라 하기엔 어설픈 부분이 너무 많고, 무엇보다 직원들이 노련하지 못하고 섬세하게 퀘질을 하지 못한다. 일단 초고층에 있다 보니 전체 공간과 시설들이 규모가 상당히 좁고 작다. (객실 넓이는 쏘쏘) 게다가 보니 방에 들어박혀 있지 않는 이상 가혀 있다는 기분이 묘하게 든다. 그리고 주상복합이 한개로 롯데타워 1층에서 여기가 호텔이라 생각이 1도 안 든다. 어디 짐 싸매고 나들 일하는 공사 관광 온 느낌이라까. 체크인 타임이 79층. 아슬아슬하다. 기다릴 공간도 부족하고 그마저도 손님 간 간격이 충분하지 않다. 라운지? 마찬가지다. 테이블 하나 비면 급하게 대충 앉아내고 손님 받기 급급하다. 바닥 부스러기? 신경 쓸 거가 없다. 그리고 갈린 음식들이나 샴페인 같은 주류들도 너무 단촐하다. 비즈니스 호텔도 그렇게 깔아놓고 라운지라고 사람 부름치 않는다. 무엇보다도 호텔을 여유롭게 즐길 수 있게 해주는 많은 요소 중 가장 중요한 것은 사람이라 생각한다. 조그만 것까지 세심하게 신경 쓰고 있다는 노력과 분위기는 근무하는 사람들로부터 나올 수밖에 없다. 그러나 시그니엘에는 친절하긴 하지만 딱 알바생(?) 정도의 친절함까지다. 파트타임으로 보이는 젊은 직원들은 추억진 일만 급하게 처리하기 바빠 손님들까지 신경 쓸 거려리 없다. 특급이라 지위가 무성하게 손님들 앞에서 자기들끼리 북넘은 당연하다. 아무튼 뷰만 맛집이고 나머지는 여러모로 많이 아쉬운 호텔이다. 현재 수준이라면 시그니엘 묵을 비용으로 서울ska이 한 번 올라가서 뷰만 보고 남은 돈으로 다른 훌륭한 호텔에서 더 편안하게 노는 게 개인적인 선택이 될 듯.\n"
     ]
    },
    {
     "name": "stderr",
     "output_type": "stream",
     "text": [
      "\r 12%|█▏        | 207/1689 [24:53<4:11:17, 10.17s/it]"
     ]
    },
    {
     "name": "stdout",
     "output_type": "stream",
     "text": [
      "207 : 스트리링 차아 데스트 겸 왔습니다. 벌레 없고요. 냄새는 조금 있으나 뭐 4성 호텔도 아니고 침구 깨끗하고 괜찮네요. 조식은 안 하고, 서면이라 그런지 차 소음이 좀 들려요.\n"
     ]
    },
    {
     "name": "stderr",
     "output_type": "stream",
     "text": [
      "\r 12%|█▏        | 208/1689 [24:58<3:32:21,  8.60s/it]"
     ]
    },
    {
     "name": "stdout",
     "output_type": "stream",
     "text": [
      "208 : 일단 호텔 안에서 바라보는 광안대교가 너무 멋져요^^ 오션뷰 최고예요. 문이 커튼이랑 소음 때문에 잠을 잘 못 자가 걱정했는데, 다행히 꿀잠 잤네요^^ 잠옷도 준비되어 있어 가방 가볍게 놀다 갑니다^^\n"
     ]
    },
    {
     "name": "stderr",
     "output_type": "stream",
     "text": [
      "\r 12%|█▏        | 209/1689 [25:00<2:44:38,  6.67s/it]"
     ]
    },
    {
     "name": "stdout",
     "output_type": "stream",
     "text": [
      "209 : 깔끔해서 저렴하게 하루 숙박하기 괜찮아요. 생각보다 해운대 메인과 거리가 있어요.\n"
     ]
    },
    {
     "name": "stderr",
     "output_type": "stream",
     "text": [
      "\r 12%|█▏        | 210/1689 [26:21<11:56:39, 29.07s/it]"
     ]
    },
    {
     "name": "stdout",
     "output_type": "stream",
     "text": [
      "210 : 비즈니스 차 3일 연박을 하면서 솔직하게 느낀 점을 적습니다. 혹시 한국 분들이 보신다면 다른 호텔에서 지내시길 추천합니다. 시골동네 여인숙? 모텔? 같은 곳이 더 나을지도 몰라요. 진심입니다. 1박에 13만 원 정도 방을 2개 잡고 3위 있었습니다. 운영하는 오너가 그냥 별인 호텔 같은 느낌입니다. 이곳은 호텔이라고 부르셔도 안 됩니다. 많은 호텔을 다녀봤지만, 상황상 모텔에도 지내봤지만 이곳은 정말 최악 중의 최악이었어요. 그리 깁니다. 결론부터 말하자면 최악의 숙박 시설을 경험해 보고 싶으시다고 해도 말리겠습니다.  1. 룸 컨디션 사진은 믿지 마세요. 정말 오래되고 벽지 여기저기 뜯어져 있고, 화장실 바닥은 녹슬고 노스모기 방이라지만 더러운 냄새가 납니다. 침대 컨디션 진짜 그 자체입니다. 아직도 혈리가 아프네요. 누우면 온몸으로 스프링이 다 느껴집니다. 시트 밑에 이상한 비닐을 깔아놔서 움직일 때마다 바스락 소리가 나고, 옆에 누군가 자고 있다면 정말 불편한 상황입니다. 화장실/욕실 아무것도 없고요. 욕실에는 거울도 없단네요. 더럽고 냄새나고 시끄럽고, 저희 방만 그런지 모르겠지만 욕실 물들은 손잡이 너무 뻑뻑해서 진짜 씻을 때마다 손가락 하눈 게 확강 나더군요. 세면대는 침대 옆에 나와 있는 구조인데, 물이 안 빠져서 정말 짜증이 나습니다. 콘센트는 핸드폰과 아이패드를 충전하려고 몇 개 없는 콘센트를 사용하려 했지만, 전기가 잘 안 통하는 건지 충전이 잘 되지 않았습니다.  2. 어매니티 냉장고에 생수 2병, 화장실/욕실에 아무것도 없습니다. 바디워시/샴푸/컨디셔너 그 어떤 것도 없어요. 화장실에 거울도 없습니다. 컵도 없습니다. 프론트 데스크와 연락할 전화기도 없습니다. 수건도 냄새나고 갯수도 없이엑게 줍니다. 내려가서 더 달라니 그리닝 스태프들 퇴근했다고 내일 주겠다는 말도 안 되는 소리를 합니다. 휴지와 드라이기는 있습니다.  3. 위치 해운대 해수욕장 앞이라 도보로 가깝게 갈 수 있습니다. 저희는 13층에 있었는데 바다도 보이고 오션뷰는 있었지만, 더 멀고 화려하고 아름다운 어메이징한 뷰를 준다 해도 이 숙소는 가지 않을 겁니다.  4. 소음 이거 콘크리트로 만든 건물이 맞는 건가요? 위에 걸어다니는지 뭔지 쿵쿵거리는 소리 그냥 나고 어핀지 밑인질 방에서 칼칼기길 때는 소리가 그냥 들립니다. 그리고 대로변 바로 앞이라 새벽/밤에 정말 시끄럽고 오토바이/차 소리 헬입니다. 방음은 뭐 그냥 내가 게스트하우스 내지 유스호스텔에 왔다고 생각하시면 됩니다.  5. 서비스 한국인 직원이 있을 때도 있지만, 외국인 직원이 있는 시간이 더 많습니다. 의사소통은 영어가 얼어운 분들이 소통하시기엔 좀 답답하실 수 있습니다. 그리고 그냥 그 어떤 조치도 빨라지 않으시는 게 맞으실 겁니다. 그냥 뭐 “안 됨 / 할 수 없어 / 어쩔 수 없어” 시저닙니다.  6. 청소 3일 연속 있었지만, 화장실과 룸에 있는 휴지통 비워주고 이불 그냥 다시 펴놓는 거 같습니다. 바닥 청소나 이런 건는 하지 않습니다. 청소를 한다면 그 상태가 말이 안 되죠. 화장실 수재구명에 일회용 비닐 같은 거 그냥 그대로 두더라고요. 침구에 뭔가 묻어있어도 그냥 그대로 두더라고요. 연박 시 청소는 매일 4시에 한다고 했지만, 휴지통만 비우고 침구 정리 정도고 바닥이나 화장실은 정말 글을 쓰면서도 속이 좋지 않네요. 화장실 그냥 지린내가 계속 납니다.  마무리 누구가의 샤워장이겠고, 꼭 그 주인이 봤으면 해서 쓰는 그림기도 합니다. 위치 특성상 외국인 관광객이 많아서 그 가격에 그런 실수로 관리를 하며 숙소를 운영하고 계시지 모르겠지만, 비록 한국인에게만 불편한 점이 아닌 사람이라면 인간이라면 느끼는 불편하고 불쾌한 숙소를 운영하고 계십니다. 저아 뭐 안 오면 그만이지만, 한국인으로서 외국인 관광객이 이런 숙박시설에서 지내며 한국 숙소에 대해 느낄 것들이 부끄럽고 민망하게 느껴지는 숙소입니다.\n"
     ]
    },
    {
     "name": "stderr",
     "output_type": "stream",
     "text": [
      "\r 12%|█▏        | 211/1689 [26:33<9:48:59, 23.91s/it] "
     ]
    },
    {
     "name": "stdout",
     "output_type": "stream",
     "text": [
      "211 : 시설은 최신은 아니지만 관리가 아주 잘 되고 있어서 전혀 문제 없어요. 프론트 관리자분 친절하세요. 조용합니다. 사람이 너무 없어요. 국도가 100미터 정도 떨어져 있어서 소음은 없는 정도이고요. 현재 도로 공사 중이네요. 건물 앞뒤로 신약을 가리는 건물이 없어요. 욕실도 깨끗하고 샤워실과 화장실 칸막이 문이 되어 있고 노후도 느껴지지 않습니다. 코로나로 위험하지만 겨울이라 너무 한감한 구룡상과 너무 조용한 숙소가 있어서 숨 좀 쉬고 갑니다. 숙소 내에서 음식 조리 및 취식은 안 됩니다. 간식 정도만 가능합니다.\n"
     ]
    },
    {
     "name": "stderr",
     "output_type": "stream",
     "text": [
      "\r 13%|█▎        | 212/1689 [27:11<11:33:03, 28.15s/it]"
     ]
    },
    {
     "name": "stdout",
     "output_type": "stream",
     "text": [
      "212 : 요휴 일정 가기 전에 잠깐 눈 좀 붓이고 숙박도 아예 해결하고자 여러 숙소 검색해봤는데, 여기만 해준다더군요. 야놀자랑 네이버 숙소에도 숙박비 29,000원이었고, 통화로 분명히 30,000원에 해주겠다고 해서 (카드 결제는 안 되고 계좌 이체만 받음. 현금 영수증 발행은 당연히 안 해줌) 계좌 이체했음. 그런데 오전 8시 반 체크인 후 점심 전까지 잠깐 눈 붓이고 나갔다가 밤 10시쯤에 다시 왔더니 대실로 처리해버렸더군요. 사투의 동생이 오전에 인수인계를 안 했는지 (지금 와서 생각해보니 사투이 동생도 거짓말일 확률이 매우 높음. 목소리만 그냥 똑같았음) 주말이라 방도 다 나가서 덕분에 다음날 일정이 다 꼬여서 따졌는데 주인이 했던 말들을 과장 없이 다 적습니다.  1. 주말엔 상식적으로 30,000원에 숙박이 되겠냐. 생각 좀 해라. 네이버 숙소에서 보고 왔다니깐, 그건 다 마감됐다고 들어댔는데 무슨 개소리냐 했음. 2. 젊은 사람이 왜 그렇게 굿었냐. 말귀를 못 알아먹나. 3. 한국인 맞냐? 외국인냐? 4. 영업 방책로 신고한다. (손님 없을 때만 정중히 따졌고, 오면 조용히 다 피켜드렸음.) 내가 계속 안 가니까 카운터 문을 박자고 나와서 그래고려 소리지르는데 아무 말도 안 나옴. 5. 그렇게 불만이면 신고해라. 덕분에 다음날 일정 다 받쳤습니다. 아무튼 녹취도 다 떼놔서 그렇게 원하시는 신고 전부 다 해드렸고 혹여나 여기 이용하는 사람들이 없길 바랍니다. 저 말고도 이전에 다른 분들이 순 불친절에 대한 후기가 많았네요. 사장님, 솔직히 사투이 분인 있다는 것도 거짓말 같은데 그렇게 장사하시다가 장대호 같은 사람한테 잘못 걸리면 진짜 죽을 수도 있습니다. 다행이 줄 아세요.\n"
     ]
    },
    {
     "name": "stderr",
     "output_type": "stream",
     "text": [
      "\r 13%|█▎        | 213/1689 [27:12<8:13:00, 20.04s/it] "
     ]
    },
    {
     "name": "stdout",
     "output_type": "stream",
     "text": [
      "213 : 모든 분들께 추천하고 싶은 곳입니다 ^^\n"
     ]
    },
    {
     "name": "stderr",
     "output_type": "stream",
     "text": [
      "\r 13%|█▎        | 214/1689 [27:41<9:15:18, 22.59s/it]"
     ]
    },
    {
     "name": "stdout",
     "output_type": "stream",
     "text": [
      "214 : 새 호텔이 아니었다면 정말 메리트가 없는 것 같아요^^ 다행히 직원분들이 모두 친절하셔서 그건 마음에 들었어요ㅎㅎ 제일 어이없었던 것은 1박 당 주차비 12,000원을 받는다는 것. 3박 묵고 36,000원을 내고 나왔습니다. 그럼 그만한 발렛파킹이나 주차장, 직원이 구비되어 있나요? ㅋㅋㅋ 웃음만 나네요. 지하에서 직원 한 분이 주차비 결제 & 주차 타워에서 차 빼주기(타워는 두 개인데 직원은 한 명..) 게다가 SUV는 주차 타워에 안 들어가 옆 호텔에 주차^^ 발렛 요원 한 분이 수시 때 차를 넣고 빼고 해주는데~~ 퇴실 11시^^ 사람들 겁나게 내려오고 줄 서고 할 걸 없으니 먼저 기다리는 사람들은 짜증이 나고^^ 불행인지 다행인지 발렛 요원이 혼자 감당이 안 되니 잠쑤 분들 불러 옆 호텔 지하주차장 데려가서 차 빼가라고 하네요ㅋㅋㅌ 제 말은 직원이 잘못했다는 게 아니에요^^ 저희한테 오래 기다렸다 죄송하다고 하시는데, 뭘 잘못하셨어요 직원분들이? 이런 성수기에 직원 두 분이 담을 펄펄 흩리며 뛰어다니시는데.. 진짜 저는 이 호텔에 화가 나더라구요ㅋㅋ 사람 더 구하세요, 사장님. 그리고 호텔 수건에 먼지 너무 많아요. 세탁 제대로 해주시구요. 그냥 다음에는 주차장 큰 옆 호텔 갈랍니다 ^^\n"
     ]
    },
    {
     "name": "stderr",
     "output_type": "stream",
     "text": [
      "\r 13%|█▎        | 215/1689 [27:43<6:39:57, 16.28s/it]"
     ]
    },
    {
     "name": "stdout",
     "output_type": "stream",
     "text": [
      "215 : 테라스 아래부터 가능한 오션 뷰~ 하나만으로도 추천!!\n"
     ]
    },
    {
     "name": "stderr",
     "output_type": "stream",
     "text": [
      "\r 13%|█▎        | 216/1689 [27:54<6:02:47, 14.78s/it]"
     ]
    },
    {
     "name": "stdout",
     "output_type": "stream",
     "text": [
      "216 : 다른 캠핑장 다녀오다 좋아 보여서 사전 탑사 후 방문. 별점만 보면 절대 가면 안 되는 곳인데, 단골들이 자기들만 가려는 곳도이 수법인가 싶다. (나도 별점 1점 추가 고민하게 됨) 요즘 어이없는 “캠성 캠핑장”들이 넘치는데, 여긴 진짜 어우가 머무는 그런 캠핑장인 듯. 서울에서 좀 멀다는 게 유일한 단점! **아 그리고 사장님 친절이 아니라 인심이 후한 수준이니 가서 진상지하고 사장이 어쩌네 저쩌네 하는 사람들 말은 거르는 게 좋을 듯 하다.\n"
     ]
    },
    {
     "name": "stderr",
     "output_type": "stream",
     "text": [
      "\r 13%|█▎        | 217/1689 [28:03<5:18:28, 12.98s/it]"
     ]
    },
    {
     "name": "stdout",
     "output_type": "stream",
     "text": [
      "217 : 막 입실했는데 바닥에 음식물들이 떨어져 있는 거 그대로 있어서 한번 치워 달라 말씀드렸는데도 그대로 있었고 샤워룸 물 빠지는 데도 없었어서 오래 걸리고 무엇보다 침대가 너무 불편해요 ㅠㅠ 특히 베개... 나중에 답답해서 치우고 베개 없이 잤어요. 그 와중에 새벽에 오토바이 소리 등 소음이 심해서 매우 불만족이에요. 위치 때문에 잡은 건데 성수에 제발 다른 비즈니스 호텔 생겼으면 좋겠어요.\n"
     ]
    },
    {
     "name": "stderr",
     "output_type": "stream",
     "text": [
      "\r 13%|█▎        | 218/1689 [28:07<4:14:07, 10.37s/it]"
     ]
    },
    {
     "name": "stdout",
     "output_type": "stream",
     "text": [
      "218 : 호텔에서 결혼식을 오후 6시까지 진행해서 입구부터 라운지, 4층까지 연회장으로 쓰는데 결혼식에 온 사람들이랑 같은 엘리베이터를 타서 정신이 없어요. 주차장도 만차입니다.\n"
     ]
    },
    {
     "name": "stderr",
     "output_type": "stream",
     "text": [
      "\r 13%|█▎        | 219/1689 [28:21<4:39:48, 11.42s/it]"
     ]
    },
    {
     "name": "stdout",
     "output_type": "stream",
     "text": [
      "219 : 재방문하고 싶지는 않네요... 후기를 잘 안 남기는데 너무 어이없어서 남깁니다. 너무 더운 날씨라 친구들과 세 명이서 수다날 떨려고 2시간 반 대실했는데요. 들어갈 때부터 남자분이 완전 깐깐하게 바닥에 안 들어가냐는 등, 씻을 거냐는 등 뒤로 물려서 뒤돌아보라면서 한 명씩 모래는 안 묻었는지, 물에 안 쩔었는지 검사하시는데 저희를 무슨 별점자 취급을 하시네요ㅋㅋㅋㅋ 말투도 막 몰라쎄으시 너무 기분이 나빴고요. 객실 침대나 베개에서 짧은 머리카락도 군데군데 발견되어서 정말...ㅎ 좀 신경 써주세요.\n"
     ]
    },
    {
     "name": "stderr",
     "output_type": "stream",
     "text": [
      "\r 13%|█▎        | 220/1689 [28:36<5:04:25, 12.43s/it]"
     ]
    },
    {
     "name": "stdout",
     "output_type": "stream",
     "text": [
      "220 : 진짜 완전 추천하는 으치로 데이트 코스! 바로 PJ호텔 근처라 걸어서 갈 수 있는 두 곳인데요. 두 곳 다 함께하면 데이트 곳으로 너무 좋아요. 안내할게요!!   Best 1. 행 2PM 8PM. 매일 저녁마다 '시영계인', '능몽보' 등 인디 가수들이 공연이 있어서 공연 보면서 식사 겸 술 한 잔 할 수 있는 하 플레이스입니다. (맥주, 칵테일, 할인볼, 와인 등 팔고, 힙하게 명물인 몽둥이골기도 파는 곳)   Best 2. 진짜 으치로. 웨이팅이 항상 있는 찐 맛집입니다. 대장 떡밥이 진짜진짜 맛있고 분위기가 깔끔하니 가격이 부담스러워도 꼭 한 번 가볼 만한 곳입니다!\n"
     ]
    },
    {
     "name": "stderr",
     "output_type": "stream",
     "text": [
      "\r 13%|█▎        | 221/1689 [28:38<3:54:51,  9.60s/it]"
     ]
    },
    {
     "name": "stdout",
     "output_type": "stream",
     "text": [
      "221 : 예비 신랑과 처음으로 부산 여행 와서 선택한 숙소인데, 전체적으로 시설도 깔끔하고 주차장 공간 마련도 잘 되어 있어 좋았어요.\n"
     ]
    },
    {
     "name": "stderr",
     "output_type": "stream",
     "text": [
      "\r 13%|█▎        | 222/1689 [28:44<3:26:38,  8.45s/it]"
     ]
    },
    {
     "name": "stdout",
     "output_type": "stream",
     "text": [
      "222 : 직원분들 중 몇 분은 눈 맞춘질 때마다 인사하시고 전화 문의도 다 친절하고 정확하게 서비스해 주셔서 진짜 대접받은 기분이 듭니다! 한 가지 힘든 점은… 너무 고층에서 머물면 엘리베이터 타고 오르락내리락할 때 키가 너무 아파요^^…\n"
     ]
    },
    {
     "name": "stderr",
     "output_type": "stream",
     "text": [
      "\r 13%|█▎        | 223/1689 [28:46<2:40:40,  6.58s/it]"
     ]
    },
    {
     "name": "stdout",
     "output_type": "stream",
     "text": [
      "223 : 아직도 마스크 완장질하는 곳이 있나? 왜? 백신 배수도 하지! 한심한...\n"
     ]
    },
    {
     "name": "stderr",
     "output_type": "stream",
     "text": [
      "\r 13%|█▎        | 224/1689 [29:02<3:47:39,  9.32s/it]"
     ]
    },
    {
     "name": "stdout",
     "output_type": "stream",
     "text": [
      "224 : 호텔이 기재를 고객에게 전가합니다. *고객이 신분증 관리가 부실하고 본인들이 요청해 받은 신분증과 유실물을 같은 취급받습니다. *예약 시 약속했던 객실 업그레이드도 반영되지 않는 등 소통과 업무 처리에 전문성이 부족합니다. 호텔에서 카드키 추가 요청 시 신분증을 요청하여 예약자가 제가 대표로 신분증을 제출했습니다. 여러 일행과 함께 객실을 이용했고 체크아웃 시간이 달라 했다 객실 카드키가 반납되면 신분증을 돌려준다 했습니다. 그러나 신분증을 돌려받지 못하고 호텔에 문의하니 찾아보고 연락을 주신다고 합니다. 그런데 시간이 지나도 연락이 없었으며, 고객이 직접 연락을 해서 챙겨야 합니다. 투숙객 안내문에 있지도 않은 내용을 들먹이며 신분증을 달라고 하지 않은 고객이 잘못한 것이라고 책임을 전가합니다.\n"
     ]
    },
    {
     "name": "stderr",
     "output_type": "stream",
     "text": [
      "\r 13%|█▎        | 225/1689 [29:08<3:19:09,  8.16s/it]"
     ]
    },
    {
     "name": "stdout",
     "output_type": "stream",
     "text": [
      "225 : B동 4506호에서 2박했습니다. 고층룸이라 방 안에서 보이는 부산항대교와 영도 뷰가 친숙하고 언덕 뷰가 정말 멋있습니다. 객실에 건조 기능이 있는 세탁기와 스타일러가 있어서 편리하게 이용했어요.\n"
     ]
    },
    {
     "name": "stderr",
     "output_type": "stream",
     "text": [
      "\r 13%|█▎        | 226/1689 [29:13<2:56:41,  7.25s/it]"
     ]
    },
    {
     "name": "stdout",
     "output_type": "stream",
     "text": [
      "226 : 가격이 착한 신축 오피스텔을 이용하는 느낌입니다. 다만 화장실은 매우 협소합니다. 넷플릭스도 잘 되고 방음도 잘 됩니다. 다만 모기 한 마리도 서비스로 같이 넣어주셨네요. 취식 기구들이 있어서 좋았습니다.\n"
     ]
    },
    {
     "name": "stderr",
     "output_type": "stream",
     "text": [
      "\r 13%|█▎        | 227/1689 [29:18<2:42:28,  6.67s/it]"
     ]
    },
    {
     "name": "stdout",
     "output_type": "stream",
     "text": [
      "227 : 거리가 있어 자주는 못 가지만 여름 휴가 때마다 찾는 곳이네요. 물론 한장 더을 여름에 가면 벌레나 더위는 있지만 그만큼 감수할 만큼 매력적인 곳이어서 해마다 찾는 곳이구요 ^ ^ 올여름 예약 날만 기다려지는 가족입니다 ㅋㅋ\n"
     ]
    },
    {
     "name": "stderr",
     "output_type": "stream",
     "text": [
      "\r 13%|█▎        | 228/1689 [29:20<2:10:27,  5.36s/it]"
     ]
    },
    {
     "name": "stdout",
     "output_type": "stream",
     "text": [
      "228 : 호텔 부럽지 않은 시설과 서비스에 감탄했네요. 바다 전망도 정말 예뻤어요~~~~~~~\n"
     ]
    },
    {
     "name": "stderr",
     "output_type": "stream",
     "text": [
      "\r 14%|█▎        | 229/1689 [29:23<1:51:00,  4.56s/it]"
     ]
    },
    {
     "name": "stdout",
     "output_type": "stream",
     "text": [
      "229 : 진짜 역대급 숙소.. 만원 더 보태서 좋은 게스트하우스 가세요. 서비스도 구리고 시설도 되게 안 좋아요.\n"
     ]
    },
    {
     "name": "stderr",
     "output_type": "stream",
     "text": [
      "\r 14%|█▎        | 230/1689 [29:27<1:47:42,  4.43s/it]"
     ]
    },
    {
     "name": "stdout",
     "output_type": "stream",
     "text": [
      "230 : 가격 대비 좋은 서비스가 만족스러웠습니다. 위치도 이곳저곳 다니기 좋고요! 내부 시설은 깔끔하지만 오래된 호텔이라는 느낌이 살짝 나요. 다시 서울에 머물게 된다면 재방문할 것 같아요~\n"
     ]
    },
    {
     "name": "stderr",
     "output_type": "stream",
     "text": [
      "\r 14%|█▎        | 231/1689 [29:32<1:48:10,  4.45s/it]"
     ]
    },
    {
     "name": "stdout",
     "output_type": "stream",
     "text": [
      "231 : 해운대 놀러 갔다가 예약하고 갔었는데 방도 깔끔하고 해운대 다른 데 많이 가보긴 했었는데 그래도 시설이라던가 청소 상태는 제일 양호했어요~~ 프런트에 계시는 분들도 친절하시구요.\n"
     ]
    },
    {
     "name": "stderr",
     "output_type": "stream",
     "text": [
      "\r 14%|█▎        | 232/1689 [29:34<1:30:31,  3.73s/it]"
     ]
    },
    {
     "name": "stdout",
     "output_type": "stream",
     "text": [
      "232 : 조용하고 좋았습니다. 프론트 분이 친절하게 잘 대해주셔서 좋았어요.\n"
     ]
    },
    {
     "name": "stderr",
     "output_type": "stream",
     "text": [
      "\r 14%|█▍        | 233/1689 [30:03<4:33:22, 11.27s/it]"
     ]
    },
    {
     "name": "stdout",
     "output_type": "stream",
     "text": [
      "233 : 모텔보다도 못한 것 같아요...^^*   1. 체크인 할 때부터 남자 직원이 불친절하고 퉁명스러워서 당황스러웠어요. 뭘 내가 잘못했담기엔 첫마디부터 불친절했어요.   2. 엘리베이터 타려 할 때 몇 층에 있는지도 모르겠고, 탈 때마다 사람들끼리 올라갔어요, 내려가세요 나가세요 난리가 나요.   3.  중앙 냉방 소음ㅎㅎ 이게 최악이었는데, 19층 통창 직사과선 방에 민감한 에어컨만 틀어주니 아침마다 동계기가 되는 기분이어서 서둘려 나가게 되네요. 체크인 빨리 시키는 의도인가...?   4. 방이 굉장히 좁았어요.   5. 수건이 모텔만 해도 예쁘게 개어져 있는 기분인데, 여기는 수건이 구려져 있고 각도 잡혀 있지 않아서 누가 쓴 건가 했어요.   6.  19층이라 그런 건지 그 방만 그런 건지 모르겠으나 변기 수압이 너무 약해서 마비가 봐 불안해서 마지막 2박 후 아침엔 일부러 나가서 화장실 이용ㅋ 무슨 호텔에서 아침에 덮어서 늦잠도 못 자고, 화장실 막힘가 밖에 나가서 화장실을 가... 모텔만 가도 편하게 놀다 오는 사람인데 아마 처음으로 숙소에서 불만족을 느껴본 듯. 그냥 이 돈으로 근처 모텔을 갈걸 그랬다. 뷰 하나 예쁘지만 낮엔 뜨거워서 그마저도 커튼 쳐놔야 해서 못 봄ㅎㅎㅎ\n"
     ]
    },
    {
     "name": "stderr",
     "output_type": "stream",
     "text": [
      "\r 14%|█▍        | 234/1689 [30:04<3:21:52,  8.32s/it]"
     ]
    },
    {
     "name": "stdout",
     "output_type": "stream",
     "text": [
      "234 : 카라반이 너무 오래되고 낡았는데 일해지지 않는 가격.\n"
     ]
    },
    {
     "name": "stderr",
     "output_type": "stream",
     "text": [
      "\r 14%|█▍        | 235/1689 [30:18<4:03:24, 10.04s/it]"
     ]
    },
    {
     "name": "stdout",
     "output_type": "stream",
     "text": [
      "235 : 태국 요리인의 가성비 호텔. 한국 윤일의 GHA 소속 호텔이라 해외의 카페라, 커피쉭, 아난타라 투숙용 티어 타성을 위한 QN, QS를 챙기기 좋은 호텔이다. 서면, 전포 접근성이 좋다. 다만 첫 방문이라면 호텔 로비를 찾는 것이 은근 어렵다. (이건 BIFC의 문제이기도 하다.) 커다란 복합센터에 입주해 있는 호텔이지만, 해당 건물의 상권이 죽어버린 관계로 이용할 수 있는 건 많지 않다. 하지만 직원들이 굉장히 친절하고, 태국형 호텔인 만큼 공실률이 높은 자체적인 프로모션을 입구적으로 하는 관계로 룸레이트 상당히 좋다. 오픈한 지 몇 년 되지 않기에 룸 컨디션도 좋은 편이다.\n"
     ]
    },
    {
     "name": "stderr",
     "output_type": "stream",
     "text": [
      "\r 14%|█▍        | 236/1689 [30:20<3:02:09,  7.52s/it]"
     ]
    },
    {
     "name": "stdout",
     "output_type": "stream",
     "text": [
      "236 : 예뻐요. 창밖으로 보이는 뷰가 끝내줘요.\n"
     ]
    },
    {
     "name": "stderr",
     "output_type": "stream",
     "text": [
      "\r 14%|█▍        | 237/1689 [30:23<2:32:18,  6.29s/it]"
     ]
    },
    {
     "name": "stdout",
     "output_type": "stream",
     "text": [
      "237 : 매년 레프트잉할 때면 항상 가는 펜션입니다. 패키지로 레프트와 숙박까지 저렴하게 같이 해서 편하고 저녁 바베큐까지~ 추천합니다.\n"
     ]
    },
    {
     "name": "stderr",
     "output_type": "stream",
     "text": [
      "\r 14%|█▍        | 238/1689 [30:27<2:12:07,  5.46s/it]"
     ]
    },
    {
     "name": "stdout",
     "output_type": "stream",
     "text": [
      "238 : 바다와 가깝고 청결하며 직원분들이 친절하시고, 식당, 카페, 편의점이 다 앞에 있어서 좋았어요. 주차장 이용도 넘 좋았습니다.\n"
     ]
    },
    {
     "name": "stderr",
     "output_type": "stream",
     "text": [
      "\r 14%|█▍        | 239/1689 [30:45<3:43:01,  9.23s/it]"
     ]
    },
    {
     "name": "stdout",
     "output_type": "stream",
     "text": [
      "239 : 런치뷔페 두 번째 방문했습니다. 가격이 살짝 오른 만큼 메뉴가 다양하고 맛 또한 좋아서 만족스러웠지만 아쉬운 점이 있어 후기 올립니다. ㅠ 우선, 음식을 담아놓고 계신 서브니들이 투명 마스크를 착용하지 않아서 놀랐어요. ㅠㅠ 코로나 때문이 아니어도 위생 면에서 해주시면 좋겠네요. 마스크도 하지 않은 채 음식 옆에서 큰 소리로 대화까지 나누고 계시니 보기 좋지 않았습니다. 그리고, 화장실에서 청결한 냄새가 나도록 관리해주시면 좋겠어요. ㅠ 너무 화장실 냄새가 진해서 불편했습니다. 식당이라도 화장실에서 좋은 냄새가 나고 청결한 느낌이 나면 음식에도 신뢰가 가고 기분이 좋아지지 않을까요! 업종에 구분 없이 방문자가 많은 곳들은 화장실 관리도 잘 된 곳이라고 생각합니다. 데크나 호텔 뷔페라는 이름답게 공민갑지 갖추는 장소로 거듭나시길 바랍니다. ^^\n"
     ]
    },
    {
     "name": "stderr",
     "output_type": "stream",
     "text": [
      "\r 14%|█▍        | 240/1689 [30:52<3:26:35,  8.55s/it]"
     ]
    },
    {
     "name": "stdout",
     "output_type": "stream",
     "text": [
      "240 : 부산에 사는 사람인데도 또 오고 싶다 생각이 들 정도로 너무 좋았어요! 베개도 좋고 화장실이나 바닥도 깨끗하고 생각보다 시끄럽지도 않고 잔잔한 파도 소리 때문에 잠도 꿀잠 잤습니다. 아침에 일어나서는 해 보면서 돈만 있으면 여기 살고 싶다 이런 생각이 들었어요 ㅜ 직원분들 서비스도 좋아서 만족스러웠습니다!\n"
     ]
    },
    {
     "name": "stderr",
     "output_type": "stream",
     "text": [
      "\r 14%|█▍        | 241/1689 [30:54<2:40:43,  6.66s/it]"
     ]
    },
    {
     "name": "stdout",
     "output_type": "stream",
     "text": [
      "241 : 이번에 여자친구랑 갔는데 객실이 깔끔하고 사장님이 친절해서 즐거운 여행하고 왔어요^^\n"
     ]
    },
    {
     "name": "stderr",
     "output_type": "stream",
     "text": [
      "\r 14%|█▍        | 242/1689 [30:58<2:24:50,  6.01s/it]"
     ]
    },
    {
     "name": "stdout",
     "output_type": "stream",
     "text": [
      "242 : 국제시장 골목 쪽으로 조금 들어오면 호텔이 있을까 하는 건물에 위치해 가성비가 좋고 조용하며 깔끔해 비즈니스용으로 적합하다. 다만 TV 채널이 몇 개 없고, 그나마 수신이 잘 안 된다..\n"
     ]
    },
    {
     "name": "stderr",
     "output_type": "stream",
     "text": [
      "\r 14%|█▍        | 243/1689 [30:59<1:47:42,  4.47s/it]"
     ]
    },
    {
     "name": "stdout",
     "output_type": "stream",
     "text": [
      "243 : 아니, 고사양 맞냐고?\n"
     ]
    },
    {
     "name": "stderr",
     "output_type": "stream",
     "text": [
      "\r 14%|█▍        | 244/1689 [31:02<1:37:44,  4.06s/it]"
     ]
    },
    {
     "name": "stdout",
     "output_type": "stream",
     "text": [
      "244 : 해운대 뷰 달맞이 고개 뷰 고민을 진짜 많이 했는데, 달맞이 하길 잘했어요!! 편하지 않은 이국적인 전망..\n"
     ]
    },
    {
     "name": "stderr",
     "output_type": "stream",
     "text": [
      "\r 15%|█▍        | 245/1689 [31:05<1:29:22,  3.71s/it]"
     ]
    },
    {
     "name": "stdout",
     "output_type": "stream",
     "text": [
      "245 : 체크아웃 연장 신청했는데, 세 번이나 문을 따고 들어오시네요. 프론트랑 청소하시는 분이랑 싸우셨나요?\n"
     ]
    },
    {
     "name": "stderr",
     "output_type": "stream",
     "text": [
      "\r 15%|█▍        | 246/1689 [31:29<3:51:56,  9.64s/it]"
     ]
    },
    {
     "name": "stdout",
     "output_type": "stream",
     "text": [
      "246 : 처음 입장할 때 디자인과 방 넓이에 흡족했으나, 서비스 정신이 거령된 주인장의 태도에 경악을 금치 못했습니다. 내용인증, 냉장고에 이상이 있어 호출 후 방문한 사장은 냉장고 점검은 뒤처니고, 갑자기 화장실에 아무도 없는데 불이 켜져 있다며 소등을 하더군요. 사용 중에 물을 열려드리려 불이 켜져 있던 거였는데, 화장실 안에 사람이 없으니 껐다며 나무란 듯이 말하는 기행을 토했습니다. 이용료를 지불하고 방을 사용하는 입장에서 그게 무슨 말 같지 않은 얘기나 물으니, 다 같이 저락에 동참해야 한다는 투리와 방 이용료를 지불했다고, 자기가 화장실 불이 켜진 것과 무슨 상관이냐는 이해 불가적인 말을 하더군요. 대화 간 내내 선생이 학생 태하듯이 본인이 나이값 몇 살인지 아냐는 등, 손님이 나를 자리에 앉아서 본인 얘기를 들으라는 등. 이런 게 같은 경우는 처음이라, 굳이 글을 올립니다. 청소 상태는 말할 것도 없고, 샤워실 물이 안 빠져서 바닥에 물이 고인 상태로 샤워했습니다. 호텔 코스프레하는 여관 이용하고 왔습니다. 이보세요. 나이만 내세우며 손님 교육 시키려 하진 말고, 본인이나 제대로 서비스 교육 받고, 제대로 운영하세요.\n"
     ]
    },
    {
     "name": "stderr",
     "output_type": "stream",
     "text": [
      "\r 15%|█▍        | 247/1689 [31:30<2:48:02,  6.99s/it]"
     ]
    },
    {
     "name": "stdout",
     "output_type": "stream",
     "text": [
      "247 : 사장님이 너무 친절하심\n"
     ]
    },
    {
     "name": "stderr",
     "output_type": "stream",
     "text": [
      "\r 15%|█▍        | 248/1689 [31:59<5:28:44, 13.69s/it]"
     ]
    },
    {
     "name": "stdout",
     "output_type": "stream",
     "text": [
      "248 : 2023년 4월에 방문했습니다. 예쁜 뷰에 홀려 가게 되었는데 단점이 더 많았네요.   장점: 뷰 하나는 최고입니다.   단점:   1. 내부가 매우 덥습니다. 분명 봄에 갔는데 아침부터 너무 후텁지근해서 여름 같았어요. 전날 밤 2-3시 경에 자서 늦게 일어날 거란 생각했는데도 아침 7-8시부터 통유리창을 통해 직사로 들어오는 햇빛과 열기 때문에 쩌절로 깰 수밖에 없었습니다.   2. 객실 입구에 문 대신 커튼이 있습니다. 다른 캡슐 호텔은 안 가봐서 솔직히 다른 데도 이런 건가 모르겠지만 생생화를 보장받지 못하는 느낌이었어요. 따라서 방음도 전혀 안 되긴 때문에 정말 조용히 하느라 힘들기도 했고요.   3. 어메니티로 제공되는 파자마가 있는데 그냥 안 입는 게 나을 정도로 엉성한 옷이었어요. 제공되는 슬리퍼도 부직물 같아서 불편했습니다.   4. 직원 분들의 서비스나 친절함도 호텔에 준하기보다 그냥 카페 아르바이트 같으셨습니다. 개인적인 취향입니다만 조식으로 시리얼과 우유, 컵라면이 제공되는데 최선의 효과가 아니었던 것 같아요.   물론 이 정도 가격에 이런 뷰를 볼 수 있다는 점에서 플러스이긴 하지만, 이런 가격이기 때문에 이 정도 퀄리티인 것 같다는 생각도 드네요. 다음에 부산 갈 때는 뷰는 안 좋아도 더 편한 숙소 가서 잘 쉬고, 예쁜 뷰 보는 건 낮에 놀 때 더 집중할 것 같네요.\n"
     ]
    },
    {
     "name": "stderr",
     "output_type": "stream",
     "text": [
      "\r 15%|█▍        | 249/1689 [32:18<6:05:57, 15.25s/it]"
     ]
    },
    {
     "name": "stdout",
     "output_type": "stream",
     "text": [
      "249 : 사장님, 작은 거미가 있어요...(2020.10.01일 21:48분 현재)ㅎㅎ 자리 넓고 쾌적하고 경치 시야 좋네요~ 뭐 그런 거야 사이트에 있으니.... 이불이 호텔식 세련되었지만 딱딱한 이불이 아니라, 가정집 이불이네요. + 씻다는 거 아니에요;;; 다만 저런 이불이 냄새나기 쉽고 관리가 힘들실 텐데 - 세탁 잘하셨나 봐요!! 냄새 안 나고 좋습니다! + 샤워실 샴푸나 바디워시 등짝등 (아쉽죠.. 통만.. 내용물 가장..) 안 쓰시고 특이한 물 생각보다 잘 나와서 좋았습니다!! 5점!! 벌레를 많이 무서워해서 산속 캠핑&펜션을 즐겨 하진 않지만 가끔 할 때 없어지지 않으셨으면 하는 각개(?) 중 하나라 금 올려봐요ㅎ 벌레 잡아주세요... 연락드리긴 좀 죄송하고.. 이 글 보시고 벌레 잡아주러 오셨으면 좋겠네요#\n"
     ]
    },
    {
     "name": "stderr",
     "output_type": "stream",
     "text": [
      "\r 15%|█▍        | 250/1689 [32:22<4:43:20, 11.81s/it]"
     ]
    },
    {
     "name": "stdout",
     "output_type": "stream",
     "text": [
      "250 : 방에서 해돋이도 볼 수 있었어요. 조식도 나오고, 온수와 난방도 뜨끈해서 엄마가 즐기고 계시네요. 깔끔하게 관리되고 있어서 또 가고 싶은 곳입니다.\n"
     ]
    },
    {
     "name": "stderr",
     "output_type": "stream",
     "text": [
      "\r 15%|█▍        | 251/1689 [32:23<3:24:58,  8.55s/it]"
     ]
    },
    {
     "name": "stdout",
     "output_type": "stream",
     "text": [
      "251 : 지나울 가지고 다녀야겠네요.\n"
     ]
    },
    {
     "name": "stderr",
     "output_type": "stream",
     "text": [
      "\r 15%|█▍        | 252/1689 [32:24<2:35:00,  6.47s/it]"
     ]
    },
    {
     "name": "stdout",
     "output_type": "stream",
     "text": [
      "252 : 시설이 좋고 가성비가 좋아요. 생각보다 잘 지내고 갑니다.\n"
     ]
    },
    {
     "name": "stderr",
     "output_type": "stream",
     "text": [
      "\r 15%|█▍        | 253/1689 [32:49<4:47:52, 12.03s/it]"
     ]
    },
    {
     "name": "stdout",
     "output_type": "stream",
     "text": [
      "253 : 1년 전쯤 다녀왔는데, 냉장고도 고장 나서 물이 새서 한참을 닦고 고기, 야채, 스프, 케이크 등을 사갔는데, 그 더운 날에 냉장고 안 되는 사실을 모르고 한참 뷰네요... 미리 고지사항도 없으시고 4층을 이용했는데, 펜션 주인분이 사용하시는 2층 방에 냉장고를 쓰려면 내려시긴 하셨는데, 2층에서 4층 왔다 갔다 하며 쓰기 쉽지 않아요 ㅋㅋ... 암튼 요청드린 것도 자주 까먹으시는지 결국 저희가 가져오고… 고기도 숯불로 주시는데 저희 포함 두 팀의 키트인데, 주인 할머니 한 분께서 다 하시다 보니 한 시간 넘게 기다린 듯합니다… 그래도 사과 말씀 한번 없으시고, 냉장고에 대해서 말씀드려도 고장 수리 맞겠는데 안 온다고 하는 게 저희가 감수해야 할 일도 아닌데, 사과도 없이 어쩔 수 없다 되풂만 하시고… 할머니 한 분께서 운영하는 건 아시지만, 그러면 다른 방법을 찾아 드시던 원래 사용하시던 냉장고를 저희 방에 두시던 하셨어야 한다고 생각합니다. 암튼 식품들은 다 얼음 녹은 물에 쩍고 상하고 난리도 아니었네요. 돈 입금드리 때도 입금이 좀 늦어지니 바로 따지듯 말씀하시고 여러모로 좀 그랬습니다.\n"
     ]
    },
    {
     "name": "stderr",
     "output_type": "stream",
     "text": [
      "\r 15%|█▌        | 254/1689 [33:21<7:08:37, 17.92s/it]"
     ]
    },
    {
     "name": "stdout",
     "output_type": "stream",
     "text": [
      "254 : 시그니엘룸  (위치권, 회장 전용룸) 오늘 소개할 곳은 부산 [해운대 한화리조트 디볼리]입니다. 해운대 한화리조트는 마린시티에 위치한 리조트로 주위에 고층 아파트가 둘러싸기 전 매우 매력적인 리조트였습니다. 일반적인 룸은 원룸 같은 이미지로 답답한 감이 있지만, 시그니엘룸은 거실, 침실, 화장실 2, 욕조 2, 사우나 시설이 있는 특이한 구조입니다. 객실 내부 욕조도 특이한데 사우나 시설은 이때까지 가본 숙박 시설에서는 듯도 보도 못한 건데 마린시티 한복판에 있네요. 얼마 전 수도리에 올렸는데 문이가 너무 많이 와서 이렇게 리뷰를 남겨요.   ※ 주차장 내려가는 길이 매우 협소해 사고가 일어날 위험성이 많으니 조심하세요.   ※ 리조트 내 지하 편의점이 있지만 근처 홈플러스가 있으니 투숙객분들은 미리 가서 사는 게 경제적입니다.   ※ 리조트 내 수영장은 따로 없으며 사우나 시설만 있습니다.   ※ 시그니엘룸은 (위치권, 회장) 전용룸이라 일반 회원권으로 입실 불가능합니다.   ※ 시그니엘룸은 (침실 1, 화장실 2, 거실, 자쿠지 욕조, 사우나 시설)로 나누어진 룸입니다.    총평값: 《시간이 지나며 담랑 더욱 사람들에게 많은 사람을 받는 곳입니다. 5성급 호텔 같은 이미지는 아니지만 광안대교를 바라보는 뷰가 있고 일반적인 객실은 가성비도 매우 좋아 인기 있는 곳입니다. 오늘 하루 해운대 바다를 바라보며 호캉스의 여유로움을 느껴보는 것은 어떨까요?》\n"
     ]
    },
    {
     "name": "stderr",
     "output_type": "stream",
     "text": [
      "\r 15%|█▌        | 255/1689 [33:26<5:36:40, 14.09s/it]"
     ]
    },
    {
     "name": "stdout",
     "output_type": "stream",
     "text": [
      "255 : 사진과 맞니다르네요. 찾기리 하나 있어요. 청소 상태는 좋아요~ 깨끗 깨끗 수건도 많이 주시고~ 비싼 극성수기 요금 내고 추가 요금을 냈는데도 이불 하나 바닥까지 인상 쓰시고.. 친절하이라..\n"
     ]
    },
    {
     "name": "stderr",
     "output_type": "stream",
     "text": [
      "\r 15%|█▌        | 256/1689 [33:47<6:27:12, 16.21s/it]"
     ]
    },
    {
     "name": "stdout",
     "output_type": "stream",
     "text": [
      "256 : 간단히 적겠습니다. 저희 딸이 오늘 친구와 함께 호텔 예약을 하고 방문했다가 미성년자라는 이유로 숙박 거부를 당했습니다. 인터파크와 호텔 센트럴베이스의 대응이 많이 아쉬워서 글을 남깁니다.  1. 인터파크에서 예약 시 미성년자 숙박 불가 공지가 잘 보이지 않는 곳에 있다는 점      - 다른 사람들도 이런 불이익을 받지 않도록 예약 시 눈에 잘 보이는 곳에 공지가 되면 좋을 듯합니다. 예약 과정에서 보이도록 하면 좋겠습니다.  2. 프론트 여직원 대응      무조건 숙박도 안 되고 환불도 안 되니 인터파크에 전화해보라고 하는 것보다는 외지에서 온 아이들이니 잘 설명해주고 현장에서 해결책을 찾아주면 어때울까 합니다.  3. 이런 일들이 비일비쌍한 것처럼 프론트 여직원이 이야기하는데, 다른 사람들도 같은 불이익을 받지 않도록 대책이 필요할 듯합니다.      - 대책을 세우지 않는다면 진짜 속 포인는 장사 속 같다는 생각만 듭니다.  4. 인터파크에서도 호텔에서 환불 가능하다고 하면 환불해주겠다고 호텔로 책임 전가하는 연기도 없는 환불 정자입니다.\n"
     ]
    },
    {
     "name": "stderr",
     "output_type": "stream",
     "text": [
      "\r 15%|█▌        | 257/1689 [33:51<4:57:11, 12.45s/it]"
     ]
    },
    {
     "name": "stdout",
     "output_type": "stream",
     "text": [
      "257 : 좋은 선택이었어요. 여기가 가격 대비 제일 좋은 것 같아요. 너무 깨끗하고 푹신해요. 직원분들도 일 잘하고 친절하세요. 근데 조식은 별 개 없네요.\n"
     ]
    },
    {
     "name": "stderr",
     "output_type": "stream",
     "text": [
      "\r 15%|█▌        | 258/1689 [33:52<3:34:45,  9.00s/it]"
     ]
    },
    {
     "name": "stdout",
     "output_type": "stream",
     "text": [
      "258 : 친절하고 숙소도 깨끗해요.\n"
     ]
    },
    {
     "name": "stderr",
     "output_type": "stream",
     "text": [
      "\r 15%|█▌        | 259/1689 [34:16<5:22:35, 13.54s/it]"
     ]
    },
    {
     "name": "stdout",
     "output_type": "stream",
     "text": [
      "259 : 15시부터 다음날 12시까지 십몇 만원을 선 결제하고 저녁에 방문해서 김 달라고 하니까 방 청소 중이라고 너무 당연한 듯이 기다리라 하시는데, 태솔이도 재죽어서일지. 소비자가 외출을 한든 늦게 오든 그 방은 그 기간 동안 제 소음인 겁니다. 그 방을 예약자가 늦게 왔다고 택시를 돌려놓고 업그레이드해서 방을 주신다는데, 그 방 또한 여태 대실로 쓰던 방 청소 마무리하고 준다는 얘기인데, 여긴 도대체 시스템이 뭐 이렇게 지저분합니까? 호텔 자체 메뉴얼이 그런 거니까 직원이지 알바인지 태도가 죄송한다 말은 커녕 너무도 당당하게 원래 입실 자체가 동시에 입실이 안 되고 순차적으로니 뭔 대소리를 하는 건지, 말 같은 소리를 해야 들어주는 신입이라도 하는데 여긴 정말 곰 때립니다. 한두 번이어야지 전에도 이런 경우가 있었어요. 그때도 업그레이드 방이라 해놓고 TV 큰 방을 잡았더니 TV 크기는 더 작은 방에 냄새까지 나서, TV는 그렇다 치는 게 냄새 나는 건 못 참겠다 얘기하니 올라와서 한다는 소리가 \"저는 괜찮은데요?\" 이러고 있습니다. 정신이 온전하지 못한 건지 내가 지금 외국에 있는 건지. 비염이 너무 심하셔서 머리가 아프신 것 같은데 좀 씻세요.\n"
     ]
    },
    {
     "name": "stderr",
     "output_type": "stream",
     "text": [
      "\r 15%|█▌        | 260/1689 [34:22<4:26:56, 11.21s/it]"
     ]
    },
    {
     "name": "stdout",
     "output_type": "stream",
     "text": [
      "260 : 침구는 누누해서 몸이 끈지럽고, 곰팡이 냄새에 머리가 아프고, 샤워 고지는 망가져서 엉망이다. 3박 예약했다가 1박 하고 딴 데로 옮겼다. 연인이랑 여행 가서 헤어지고 싶은 사람에게 적극 추천. 별 하나도 아까움.\n"
     ]
    },
    {
     "name": "stderr",
     "output_type": "stream",
     "text": [
      "\r 15%|█▌        | 261/1689 [34:25<3:31:20,  8.88s/it]"
     ]
    },
    {
     "name": "stdout",
     "output_type": "stream",
     "text": [
      "261 : 새해가 되면서 일출을 못 봤는데, 이제서야 시간을 내서 다녀왔네요^^ 일출도 감상하고 맛있는 음식들도 해먹고 즐거운 시간 보냈어요~\n"
     ]
    },
    {
     "name": "stderr",
     "output_type": "stream",
     "text": [
      "\r 16%|█▌        | 262/1689 [34:38<4:00:13, 10.10s/it]"
     ]
    },
    {
     "name": "stdout",
     "output_type": "stream",
     "text": [
      "262 : 진짜 지금까지 다녀본 숙소 중 최악 중 최악입니다. 카운터에서부터 아저씨의 말투랑 행동에서도 불쾌함을 느꼈고, 문을 딱 열자마자 곰팡이 냄새인지 찌들고 시큼한 냄새가 엄청 심하고, 룸에 쓰레기통도 없습니다. 헤어드라이기는 신분증 맡기고 빌려와야 하는데 그마저 멀리 부분도 없고 녹아서 무개정이고, 틀자마자 단네 납니다. 덥는 이불도 말물이가 정리 안 되어 있어서 찝찝해서 냄새까지 맡아보기도 했습니다(낮지는 않았습니다만). 그리고 멀쩡한 시설 찾기 힘듭니다. 절대 오지 마세요. 진짜 어떻게 아직 살아있나 싶으네요.\n"
     ]
    },
    {
     "name": "stderr",
     "output_type": "stream",
     "text": [
      "\r 16%|█▌        | 263/1689 [34:48<4:01:18, 10.15s/it]"
     ]
    },
    {
     "name": "stdout",
     "output_type": "stream",
     "text": [
      "263 : 가성비 최고! 신축이라 그런지 정말 깔끔하고 컨디션이 좋습니다. 수압도 끝내줍니다. 주말인데도 가격이 매우 저렴했고 호텔 직원분들도 친절하고 전문성 있어 보였습니다. 외국인들도 많이 묵는 것 같았어요~ 안 좋은 점은 굳이 꼽자면 시티뷰였는데 도로 쪽 차 소음이 조금 컸어요ㅠ 창문은 든든해 보였는데 어떻게 차가 달리는 소리가 잘 들리는지 의문입니다. 그리고 호텔 주변은 정말 아무것도 없습니다ㅎㅎ 대신 중앙역이랑 가깝습니다!\n"
     ]
    },
    {
     "name": "stderr",
     "output_type": "stream",
     "text": [
      "\r 16%|█▌        | 264/1689 [34:50<2:59:49,  7.57s/it]"
     ]
    },
    {
     "name": "stdout",
     "output_type": "stream",
     "text": [
      "264 : 프라이빗 현 공간에서 가족들과 좋은 시간을 보냈습니다. 감사합니다.\n"
     ]
    },
    {
     "name": "stderr",
     "output_type": "stream",
     "text": [
      "\r 16%|█▌        | 265/1689 [34:52<2:17:49,  5.81s/it]"
     ]
    },
    {
     "name": "stdout",
     "output_type": "stream",
     "text": [
      "265 : 전망이 아주 좋고, 사장님도 아주 친절하세요. 감사합니다.\n"
     ]
    },
    {
     "name": "stderr",
     "output_type": "stream",
     "text": [
      "\r 16%|█▌        | 266/1689 [34:53<1:49:12,  4.60s/it]"
     ]
    },
    {
     "name": "stdout",
     "output_type": "stream",
     "text": [
      "266 : 가성비 최고. 시설은 망하기 직전 같지만 위치와 전망은 최고임.\n"
     ]
    },
    {
     "name": "stderr",
     "output_type": "stream",
     "text": [
      "\r 16%|█▌        | 267/1689 [34:55<1:28:37,  3.74s/it]"
     ]
    },
    {
     "name": "stdout",
     "output_type": "stream",
     "text": [
      "267 : 아침부터 삼겹살 쌈이랑 떡볶이를 먹을 수 있습니다.\n"
     ]
    },
    {
     "name": "stderr",
     "output_type": "stream",
     "text": [
      "\r 16%|█▌        | 268/1689 [35:10<2:45:16,  6.98s/it]"
     ]
    },
    {
     "name": "stdout",
     "output_type": "stream",
     "text": [
      "268 : 기대를 안고 2박을 묵었는데 체크인 시간이 15시라는 공지가 무색하게 그 시간인 16시 넘어서 체크인했습니다.ㅡㅡ 청소가 너무 형편여서 2차로 당황..ㅠㅠ 화장실 수전이 전혀 청소되지 않아서 얼룩덜룩하게 오물냄.. 기분이 좋지 않았어요 ㅠ 청소하시는 분이 깜빡하신 것 같았어요. 방이 작은 편인데 방에 에어컨이 온도 설정을 해놓으면 너무 직관적으로(?) 세게 나와서 너무 춥고 너무 덥고를 반복하면 애들하고 자는 내내 이불을 덮었다가 다시 걷어냈다가 잠도 제대로 자지 못했습니다. 가격이 저렴하지도 않았는데 다시는 방문하지 않을 거예요 ㅡㅡ\n"
     ]
    },
    {
     "name": "stderr",
     "output_type": "stream",
     "text": [
      "\r 16%|█▌        | 269/1689 [35:11<2:03:19,  5.21s/it]"
     ]
    },
    {
     "name": "stdout",
     "output_type": "stream",
     "text": [
      "269 : 결혼식 스테이크가 맛있어요~~\n"
     ]
    },
    {
     "name": "stderr",
     "output_type": "stream",
     "text": [
      "\r 16%|█▌        | 270/1689 [35:12<1:38:23,  4.16s/it]"
     ]
    },
    {
     "name": "stdout",
     "output_type": "stream",
     "text": [
      "270 : 전체적으로 무난무난하고 가성비 좋아요. 잘 쉬다 갑니다.\n"
     ]
    },
    {
     "name": "stderr",
     "output_type": "stream",
     "text": [
      "\r 16%|█▌        | 271/1689 [35:41<4:31:17, 11.48s/it]"
     ]
    },
    {
     "name": "stdout",
     "output_type": "stream",
     "text": [
      "271 : 여기가 안 좋은 추억이 되는 곳이다! 썬크루즈 리조트에 오고 싶어서 방이 없어 이 펜션 방을 잡았다. 화장실에서 심한 냄새가 나서 잠을 잘 수 없었어. 하지만 그거 그티 아니었어요! 창문을 닫으려고 했는데 감자가 창틀이 떨어지기 시작해서 잡으려고 했는데 너무 무거워서 가슴도 다쳤어요ㅠ 야박지만 넘어쳤을 때 다리를 벌려서 다행이었다. 창애인이 될 수도 있었다ㅠ 나갈 때 사장님한테 말했는데 미안하다는 소리도 안 하고 따지고 놀았는데 그냥 가세요 그랬었는데. 나갔는데.. 가슴 따지고 야외였는데 멀리에서 바다 보러 갔는데 그 일 정말 잊어버리고 싶어서... 하지만 사모님 따져서 전화한 왔는데 나리나서 왜 그냥 나간다고??? 다시 돌아왔는데 와 소리도 지르고 사모님이 나리났어요 저 깜짝 놀랐어요! 미안하다는 소리 사장님도 안 하고 사모님도 안 하고. 저한테 \"이장문 비싸다고 아셈요?\" 확인하고 돈 내야 될 수도 있다고. 와 저 여기 돈 주고 놀러 왔는데 따지고 스트레스도 받았어요~ 외국인이라서 그랬을까 잠깐 생각도 들었어요 사모님이 확인하고 전화 드리겠습니다 말했는데 전화도 안 오고 전화도 안 받았고 미안하다는 소리 지금까지 하지도 않았어요. 문자 답도 안 했어요.. 지금도 생각만 해도 열받아요. 좋은 추억 만들고 싶어서 나쁜 추억 만들었어요ㅜ 전동진 너무 아름다워요 하지만 그 펜션 생각나요 저기 오고 싶지 않아요ㅠㅠ 추천을 절대 안 합니다!\n"
     ]
    },
    {
     "name": "stderr",
     "output_type": "stream",
     "text": [
      "\r 16%|█▌        | 272/1689 [35:47<3:50:10,  9.75s/it]"
     ]
    },
    {
     "name": "stdout",
     "output_type": "stream",
     "text": [
      "272 : 예전부터 SNS에서 뷰 맛집으로 많이 올라와서 꼭 가보고 싶던 곳이었는데, 생일 기념으로 왔어요! 문 열자마자 '와 대박' 소리가 절로나는 뷰ㅠㅠ!!! 광안대교가 한눈에 보이는 곳이라 힐링 제대로 하고 갑니다♡\n"
     ]
    },
    {
     "name": "stderr",
     "output_type": "stream",
     "text": [
      "\r 16%|█▌        | 273/1689 [36:07<5:02:11, 12.80s/it]"
     ]
    },
    {
     "name": "stdout",
     "output_type": "stream",
     "text": [
      "273 : 신축이라 기본적으로 깨끗했습니다. 근데 테이블 아래쪽에 보니 청소는 안 한 것 같은 이물질들이 있었습니다. 데가 하나? 앞쪽 방들을 다니면서 청소하는 걸 봤는데, 안 하는 건 아닌 것 같은데 좀 미흡했구요. 높은 층이라 뷰가 좋았습니다. - 시장까지 걸어갈 수 있어 좋았습니다. - 가격도 비싸지 않았습니다. 적정선인 것 같습니다. 시청과 우체국이 보이니 그래도 중심가 같은 느낌이랄까~~ㅋㅋㅋ 시장에서 그 튀김꼬모길랄가, 오징어순대 골목이랄까 그 초이펠 옛날 빙수를 코너에서 파는데 맛입니다. 별로 많은 게 들어가진 않지만 너무 깔끔한 맛이 일부인 5천 원 팥빙수가 있습니다. 어르신들도 좋아하시더라고요. 정말 맛있었습니다. 서빙은 제 취향이 아니라서 전 안 가는데, 여긴 또 가고 싶을 만큼 제 입맛에 좋았습니다. - 무슨 일 숙소는 주차도 편했고 로비도 깔끔했습니다. 레지던스 호텔이구요.\n"
     ]
    },
    {
     "name": "stderr",
     "output_type": "stream",
     "text": [
      "\r 16%|█▌        | 274/1689 [36:24<5:34:53, 14.20s/it]"
     ]
    },
    {
     "name": "stdout",
     "output_type": "stream",
     "text": [
      "274 : 호텔 자체는 나무랄 것 없습니다. 위치가 정말 좋고 시설도 깔끔합니다. 일단 주차비 15,000원입니다. 동일 계열인 포포인츠 서울럭은 무료입니다. 물론 1급치이지만 그런 면에서 보면 서울역도 마찬가지입니다. 적어도 4성급은 발렛파킹은 따라지는 않지만 주차비는 없어야죠. 야놀자의 도보 전용이라 타를 게 없습니다. 호텔은 서비스를 빼는 곳입니다. 사용자가 기분이 안 좋으면 재고해볼 필요가 있죠. 그리고, 기본 방은 침대가 작습니다. 1베드룸 방에 더블 베드라고 명시되어 있긴 합니다. 근데 포포인츠 서울럭, 크론 웨 서만은 호텔을 다녀도 1베드 기본은 킹사이즈가 대부분이었습니다. 185 이상 빠린 뒤어나옵니다. 조식과 응대는 무난합니다. 재방문은... 생각이 좀 필요하네요.\n"
     ]
    },
    {
     "name": "stderr",
     "output_type": "stream",
     "text": [
      "\r 16%|█▋        | 275/1689 [36:54<7:27:33, 18.99s/it]"
     ]
    },
    {
     "name": "stdout",
     "output_type": "stream",
     "text": [
      "275 : 기본 제공된 충전기가 엉망이네요. 같이 온 동로가 다른 방을 쓰고 있는데, 그 방도 충전기 사용이 불가하네요. 전화하니 프론트에서 신분증이나 일만 원 보증금을 받고 빌려준다고 하는데, 왜 그래야 하는지 모르겠네요. 같은 돈 내고 충전기 멀쩡한 객실을 쓸 수도 있거만... 어디까지나 고객 편의를 위해 제공하는 충전기고 그간 사용하는 고객들이 엉망으로 써서 그럴 겁니다만... 관리가 전혀 안 되네요. 객실 기본 환풍기도 먼지가 덕지덕지해서 볼 수가 없어 제가 청소했네요. 커버 청소 전 사진은 혐오스러워서 못 올립니다. 집에서 에어컨도 봤는데, 언제 청소했는지 필터에 먼지가 가득합니다. 세 군데 누르고 커버 열려 1년에 한 번 1차 필터 샤워기로 행구기만 해도 이 정도는 아니겠네요. 다른 모텔의 싸구려 가전제품과는 다르게 삼성 전정형 에어컨, 삼성 벽걸이 TV 등 시설은 좋습니다만 관리 상태가 많이 아쉽습니다. 전구가 안 되는 부분도 많아요. 별거 아니긴 하지만 냉장고에는 그 흔한 싸구려 음료수도 없고 물만 두 병 있습니다. 물론 전 음료수는 손도 안 대기에 아쉬움 건 없습니다만, 타 모텔과 비교하면 차이가 느껴지네요. 어떤 곳은 객실은 물론이고 로비 소케이스 냉장고에도 비치하던데... 기본이겠지만 침구는 굉장히 깨끗합니다. 객실은 좁지 않고 적당히 괜찮은 편입니다. 그러나 좋은 시설에 전반적으로 먼지도 많고 관리 부분이 아쉬운 모텔입니다. 이상 전국 출장자의 후기였습니다.\n"
     ]
    },
    {
     "name": "stderr",
     "output_type": "stream",
     "text": [
      "\r 16%|█▋        | 276/1689 [36:58<5:39:49, 14.43s/it]"
     ]
    },
    {
     "name": "stdout",
     "output_type": "stream",
     "text": [
      "276 : 카운터에 갔는데 겁나 귀찮다는 투로 말하고, 물건 잠시 보관 해줄 수 있냐고 하니까 갑자기 사라져도 책임 못 진다고 하네요. 잠시 보고 있으라고 하니까 왜 사라져..\n"
     ]
    },
    {
     "name": "stderr",
     "output_type": "stream",
     "text": [
      "\r 16%|█▋        | 277/1689 [37:06<4:54:00, 12.49s/it]"
     ]
    },
    {
     "name": "stdout",
     "output_type": "stream",
     "text": [
      "277 : 해수욕장이 가까워 좋아요. 객실이 너무 깨끗하고 옥상 루프탑 인테리어가 끝내주게 좋아요. 여사장님도 친절하셔서 이것저것 물어봐도 짜증내지 않고 잘 응대해 주시네요. 경치, 바닷가 뷰도 좋고 친절해서 다음에 또 와보고 싶네요. 걸어서 해운대 해수욕장까지 갈 수 있어 넘 넘 좋아요.\n"
     ]
    },
    {
     "name": "stderr",
     "output_type": "stream",
     "text": [
      "\r 16%|█▋        | 278/1689 [37:12<4:06:10, 10.47s/it]"
     ]
    },
    {
     "name": "stdout",
     "output_type": "stream",
     "text": [
      "278 : 광안리 놀러와서 오션뷰로 찾다가 후기가 좋아서 선택했어요! 조식도 간단한 게 맘에 들고, 아침, 점심, 저녁 그냥 다 아름다워요. 드론쇼도 추위에 안 떨고 안에서 다 봤습니다. 창문 열어두면 파도 소리 꼭 다시 이용하고 싶어요.\n"
     ]
    },
    {
     "name": "stderr",
     "output_type": "stream",
     "text": [
      "\r 17%|█▋        | 279/1689 [37:31<5:06:09, 13.03s/it]"
     ]
    },
    {
     "name": "stdout",
     "output_type": "stream",
     "text": [
      "279 : 개인적으로 굉장히 애정하는 호텔입니다. 번화가에서 뚝 떨어진 위치도 조용해서 좋고, 침구며 청결도며 친절함이며 방 구조며 제법 넓고 쾌적합니다. 자주 이용하는 곳인데, 코로나가 끝나고 참 비싸졌네요. ㅠ.ㅜ 나만 알고 싶은 곳이었는데 좋다고 소문이 쫙 나나 봅니다. 어느 초여름, 버스에서 핸드폰을 분실한 사실을 호텔에서 체크인하면서 깨닫고 문쩍 당황했는데, 안내 데스크 여자분이 (그땐는 성함을 기억한다고 하셨는데…) 너무 자부하게 저를 객실로 안내해 주시고 안심시켜 주시며 계속 제 전화로 전화를 해 주셔서 결국엔 찾아주신 너무 고마운 기억이 있는 곳입니다. 그분 안녕하신가 모르겠네요. 얼굴도 마음씨도 목소리도 다 이쁜 작은 단발머리 중간길의 여자분이셨는데. 늘 호텔의 무궁무진한 발전을 기억하며, 특히 당황한 상황에 참 많은 일소가 되어 주신 프론트 레인딤 감사합니다.\n"
     ]
    },
    {
     "name": "stderr",
     "output_type": "stream",
     "text": [
      "\r 17%|█▋        | 280/1689 [37:34<3:59:58, 10.22s/it]"
     ]
    },
    {
     "name": "stdout",
     "output_type": "stream",
     "text": [
      "280 : 연박인데 진짜 친절하게 계속 신경 써 주시고 침구 청소 요청도 늦게 했는데 타임이 마감해서 친절하게 잘해 주셔서 감사해요. 안락한 휴가였습니다\n"
     ]
    },
    {
     "name": "stderr",
     "output_type": "stream",
     "text": [
      "\r 17%|█▋        | 281/1689 [37:43<3:50:08,  9.81s/it]"
     ]
    },
    {
     "name": "stdout",
     "output_type": "stream",
     "text": [
      "281 : 창은 없어서 주차 문제는 모르겠지만 저희에게는 가성비 짱인 숙소였어요. 룸 컨디션도 좋았고 직원들도 고급 숙소처럼 서비스 및 친절함을 느꼈습니다. 위치도 자갈치 시장에 있어 자갈치 시장은 물론 맞은편 남포동, 차로 가깝게 이동하는 영도와 송도 쪽, 기차 타고 부산역으로 오는 사람들은 더욱 가까울 듯 싶네요! 잘 묵고 갑니다! 다음에 또 부산 오면 오게요!\n"
     ]
    },
    {
     "name": "stderr",
     "output_type": "stream",
     "text": [
      "\r 17%|█▋        | 282/1689 [37:53<3:48:28,  9.74s/it]"
     ]
    },
    {
     "name": "stdout",
     "output_type": "stream",
     "text": [
      "282 : 호텔 구조 때문에 넘어져 우든 블라인드 한 줄이 파손됐습니다. 부분 교체가 안 된다며 새 블라인드 구입 비용을 청구하고 전체 비용은 못 주겠다고 하니, 블라인드 한 줄 때문에 객실을 못 팔았다며 미반환권으로 고소하겠다고 협박하는 곳입니다. 가본 호텔 중 가장 최악의 경험이었습니다. 위치도 술집 구석진 곳이고 침구류에 먼지가 많아 계속 코물과 재채기가 나옵니다. 아무리 싸다고 해도 고객에게 이렇게 대하는 곳은 처음입니다.\n"
     ]
    },
    {
     "name": "stderr",
     "output_type": "stream",
     "text": [
      "\r 17%|█▋        | 283/1689 [38:01<3:40:00,  9.39s/it]"
     ]
    },
    {
     "name": "stdout",
     "output_type": "stream",
     "text": [
      "283 : 외부 소음(차량 지나감 등)에 취약합니다. 몇 년에 이용했는데, 작년에 비해 확실히 더러진 서비스 품질입니다. 침대 머리맡에 전기 콘센트가 없습니다. 객실 내 일회용 슬리퍼가 아닌 누군가 사용한 슬리퍼를 계속 써야 하는 퀄리티함이 있습니다. 부산에 올 때마다 자주 이용했는데, 이번에 안 좋아진 서비스에 많이 실망했습니다. 비슷한 가격에 더 괜찮은 호텔을 찾아보는 것이 좋을 것 같습니다.\n"
     ]
    },
    {
     "name": "stderr",
     "output_type": "stream",
     "text": [
      "\r 17%|█▋        | 284/1689 [38:03<2:46:21,  7.10s/it]"
     ]
    },
    {
     "name": "stdout",
     "output_type": "stream",
     "text": [
      "284 : 당일 예약 취소는 충격이었어요. 가면 안 되는 곳으로 저장해둡니다.\n"
     ]
    },
    {
     "name": "stderr",
     "output_type": "stream",
     "text": [
      "\r 17%|█▋        | 285/1689 [38:10<2:45:19,  7.07s/it]"
     ]
    },
    {
     "name": "stdout",
     "output_type": "stream",
     "text": [
      "285 : 에어컨은 찬바람이 안 나오고, 키를 받아서 문을 여니 열대우림 마냥 습도 100%가 높고 이불려고 포트를 뜨우니 썩은내가 나요. 이불에서는 쒜내가 나고.. 하... 이게 지정 8만원짜리 방이라는 말인가... 앞으로 방을 보고 결제해야겠다는 생각을 갖게했네요.\n"
     ]
    },
    {
     "name": "stderr",
     "output_type": "stream",
     "text": [
      "\r 17%|█▋        | 286/1689 [38:30<4:11:36, 10.76s/it]"
     ]
    },
    {
     "name": "stdout",
     "output_type": "stream",
     "text": [
      "286 : 제일 비싸고(20만원 넘음) 전망 좋은 방으로 예약해서 기대를 많이 했는데 일단 뷰는 좋습니다. 더블 침대와 싱글 침대가 있었는데 싱글 침대는 푹신한데 더블 침대가 엄청 딱딱했습니다. 무슨 바닥에 앉아 있는 느낌이었어요. 심지어 비치되어 있는 소파보다 딱딱해서 커플레인을 넣었더니 소파랑 침대랑은 다르지 않냐는 말을 하더군요. 마리취 방끝인지. 리모델링하면서 더블 침대를 새 매트리스로 바꾼 것 같은데 싱글은 옛날 거라 사용을 많이 해서 푹신한 거고 새 매트리스는 쎄 거라 딱딱한 거라는 말도 안 되는 소리를 했답니다. 커플레인 전화하고 몇 분 지나고 반응이 없길래 다시 전화했더니 말이 끝나지도 않았는데 전화를 끊고 친절 서비스가 영 엉망이더군요. 마지막으로 TV가 안 나옵니다. 리모델링하면서 TV는 안 바꾸셨나 봐요. 바쁘었는데 TV가 안 나왔습니다. 정말 창문 뷰만 좋았지 모든 게 엉망인 숙소입니다.\n"
     ]
    },
    {
     "name": "stderr",
     "output_type": "stream",
     "text": [
      "\r 17%|█▋        | 287/1689 [38:41<4:16:22, 10.97s/it]"
     ]
    },
    {
     "name": "stdout",
     "output_type": "stream",
     "text": [
      "287 : 1.5층으로 침실과 거실이 분리되어 있고, 층고가 높아서 넓고 재미있는 공간이었습니다. 인덕션, 냉장고, 간단한 취사 도구, 헤어드라이어, 세면 도구 등도 잘 갖추어져 있고, 해변가 편의점도 도보로 3분 거리라 편리했습니다. 특히 아침 해살이 창으로 비치면서 보이는 바다 전망이 일품입니다. 단, 사장님이 11월에 보일러를 너무 세게 틀어주셔서 땀 좀 흘렸습니다. (에어컨, 선풍기도 틀 수 있었어요) 가격 대비 매우 만족합니다 ㅎㅎ\n"
     ]
    },
    {
     "name": "stderr",
     "output_type": "stream",
     "text": [
      "\r 17%|█▋        | 288/1689 [38:42<3:05:01,  7.92s/it]"
     ]
    },
    {
     "name": "stdout",
     "output_type": "stream",
     "text": [
      "288 : 굳굳, 아름다운 전망\n"
     ]
    },
    {
     "name": "stderr",
     "output_type": "stream",
     "text": [
      "\r 17%|█▋        | 289/1689 [38:43<2:17:45,  5.90s/it]"
     ]
    },
    {
     "name": "stdout",
     "output_type": "stream",
     "text": [
      "289 : 편하게 쉬었다가 아침을 맛있게 먹었어요.\n"
     ]
    },
    {
     "name": "stderr",
     "output_type": "stream",
     "text": [
      "\r 17%|█▋        | 290/1689 [38:45<1:48:23,  4.65s/it]"
     ]
    },
    {
     "name": "stdout",
     "output_type": "stream",
     "text": [
      "290 : 정말 힐링하고 가요. 부모님 모시고 재방문할게요.\n"
     ]
    },
    {
     "name": "stderr",
     "output_type": "stream",
     "text": [
      "\r 17%|█▋        | 291/1689 [38:51<2:02:41,  5.27s/it]"
     ]
    },
    {
     "name": "stdout",
     "output_type": "stream",
     "text": [
      "291 : 오션뷰가 이 가격인 이유가 있습니다. 곳곳이 낡아 있지만 침대와 이불은 멀쩡하고 특히 바다 전망만큼은 아주 최고입니다. 그리고 확실히 옛날에 지어진 만큼 방이 꽤 넓습니다. 전반적으로 옛날 시설이라는 느낌이 강합니다. 싸게 오션뷰 객실을 얻고 싶은 사람은 오세요. 사진은 객실 내 테라스에서 찍은 바다 전망입니다.\n"
     ]
    },
    {
     "name": "stderr",
     "output_type": "stream",
     "text": [
      "\r 17%|█▋        | 292/1689 [38:52<1:32:56,  3.99s/it]"
     ]
    },
    {
     "name": "stdout",
     "output_type": "stream",
     "text": [
      "292 : 청결하고 편하게 잘 이용하다 갑니다!\n"
     ]
    },
    {
     "name": "stderr",
     "output_type": "stream",
     "text": [
      "\r 17%|█▋        | 293/1689 [39:01<2:02:05,  5.25s/it]"
     ]
    },
    {
     "name": "stdout",
     "output_type": "stream",
     "text": [
      "293 : 아만다 호텔스컴바인 등에서 4인 패밀리룸으로 예약했으나 말로만 4인… 기준 인원 2명으로 설정해놔서 인당 3만 원, 총 6만 원을 그 자리에서 추가 결제해야 함. 베드 2+2+1에 어메니티 다 4인으로 구성되어 있는 곳을 6만 원 현장에서 추가해야 체크인 가능. 호텔 옆쪽의 형이 매물이 아닌가 싶다.\n"
     ]
    },
    {
     "name": "stderr",
     "output_type": "stream",
     "text": [
      "\r 17%|█▋        | 294/1689 [39:08<2:14:11,  5.77s/it]"
     ]
    },
    {
     "name": "stdout",
     "output_type": "stream",
     "text": [
      "294 : 온돌방을 이용했는데 객실은 오래되었고 세련된 느낌은 없습니다. 객실만 보면 민박이라고 해도 이상하지 않을 수도 있습니다. 그 이외의 편의시설은 깔끔하고 좋습니다. 조식도 매우 많은 가지수는 아니지만 만족했습니다. 허심청과 함께 이용하는 것이 매우 좋았고, 객실에도 온천수가 나와서 여행 후 온천을 하니 기분이 끝내줍니다.\n"
     ]
    },
    {
     "name": "stderr",
     "output_type": "stream",
     "text": [
      "\r 17%|█▋        | 295/1689 [39:12<2:05:40,  5.41s/it]"
     ]
    },
    {
     "name": "stdout",
     "output_type": "stream",
     "text": [
      "295 : 두 번째 방문이에요~ 주차가 편하고 숙소 이용하면 무료이며, 교통도 편해요! 또한 가성비가 짱!!!! 항상 깨끗하고 친절해서 너무 좋아요 ㅎㅎㅎㅎ 번창하세요!!\n"
     ]
    },
    {
     "name": "stderr",
     "output_type": "stream",
     "text": [
      "\r 18%|█▊        | 296/1689 [39:19<2:18:16,  5.96s/it]"
     ]
    },
    {
     "name": "stdout",
     "output_type": "stream",
     "text": [
      "296 : 룸 사이즈는 작은 편이지만 테이블이랑 소파가 있어서 편해요. 대신 화장실은 엄청 좁아요. 룸서비스로 미역국을 시켜먹었는데 별로였습니다. 베이커리 빵은 맛없습니다. 조식 가격이 저렴한 편이라 만족합니다. 주차는 주차장이 외부에 있어서 발렛을 안 하면 불편합니다. 대신 주차장은 여유롭습니다.\n"
     ]
    },
    {
     "name": "stderr",
     "output_type": "stream",
     "text": [
      "\r 18%|█▊        | 297/1689 [39:21<1:46:29,  4.59s/it]"
     ]
    },
    {
     "name": "stdout",
     "output_type": "stream",
     "text": [
      "297 : 잘 머물르고 갑니다. 시설이 좋고 위생도 좋아요.\n"
     ]
    },
    {
     "name": "stderr",
     "output_type": "stream",
     "text": [
      "\r 18%|█▊        | 298/1689 [39:26<1:51:30,  4.81s/it]"
     ]
    },
    {
     "name": "stdout",
     "output_type": "stream",
     "text": [
      "298 : 리뉴얼해서 깔끔했어요. 어메니티도 만족!! 무엇보다 전망이랑 친절도가 만족스러워요. 로비가 무척 이국적이에요. 엘리베이터를 타다가 다른 층이 열렸는데, 층마다 컨셉이 다른가 봐요. 여튼 만족!!\n"
     ]
    },
    {
     "name": "stderr",
     "output_type": "stream",
     "text": [
      "\r 18%|█▊        | 299/1689 [39:28<1:27:19,  3.77s/it]"
     ]
    },
    {
     "name": "stdout",
     "output_type": "stream",
     "text": [
      "299 : 친구들과 즐거운 추억을 만들었어요. 최고의 숙소!\n"
     ]
    },
    {
     "name": "stderr",
     "output_type": "stream",
     "text": [
      "\r 18%|█▊        | 300/1689 [39:34<1:48:35,  4.69s/it]"
     ]
    },
    {
     "name": "stdout",
     "output_type": "stream",
     "text": [
      "300 : 오로지 뷰만 보신다면 고층으로 오션뷰 하시면 만족할 가능성이 있습니다. 프론트 직원들이 매우 친절합니다. 기계식 주차라 디레이 시간이 긴 것 감안하세요. 조식은 값어치가 없다고 생각됩니다. 청결도는 어느 정도 감안되는 편인데, 눈에 보이는 곳곳에 먼지가 달라앉아 있어서 재방문 의사는 없습니다.\n"
     ]
    },
    {
     "name": "stderr",
     "output_type": "stream",
     "text": [
      "\r 18%|█▊        | 301/1689 [39:36<1:28:25,  3.82s/it]"
     ]
    },
    {
     "name": "stdout",
     "output_type": "stream",
     "text": [
      "301 : 객실에서 광장시장이 보이는 낡은 호텔.. 샤워기 수압 괜찮아요.\n"
     ]
    },
    {
     "name": "stderr",
     "output_type": "stream",
     "text": [
      "\r 18%|█▊        | 302/1689 [39:38<1:15:45,  3.28s/it]"
     ]
    },
    {
     "name": "stdout",
     "output_type": "stream",
     "text": [
      "302 : 오션 뷰는 최고예요. 조식도 훌륭하고요. 여름 휴가 때 다시 갈 거예요.\n"
     ]
    },
    {
     "name": "stderr",
     "output_type": "stream",
     "text": [
      "\r 18%|█▊        | 303/1689 [39:43<1:29:44,  3.88s/it]"
     ]
    },
    {
     "name": "stdout",
     "output_type": "stream",
     "text": [
      "303 : 시멘트 냄새 나고, 냉방 18로 해도 25 이하로 안 떨어지고, 주차할 때 땀 나고, 바닥이 신발 신는 거 불편하고, 슬리퍼도 불편하고, 로비는 고대기라서 옷가기 불편해요.\n"
     ]
    },
    {
     "name": "stderr",
     "output_type": "stream",
     "text": [
      "\r 18%|█▊        | 304/1689 [39:49<1:43:55,  4.50s/it]"
     ]
    },
    {
     "name": "stdout",
     "output_type": "stream",
     "text": [
      "304 : 호캉스 잘하고 왔어요. 오션 뷰에 청결하고 친절하며, 조식도 좋고 침구 덕분에 잠도 잘 잤어요. 다음에 부산 가면 또 가고 싶네요. 다른 리뷰처럼 주차는 극강의 난이도 같네요. 초보분들은 도전하지 마세요ㅜ\n"
     ]
    },
    {
     "name": "stderr",
     "output_type": "stream",
     "text": [
      "\r 18%|█▊        | 305/1689 [39:51<1:27:07,  3.78s/it]"
     ]
    },
    {
     "name": "stdout",
     "output_type": "stream",
     "text": [
      "305 : 전부들 꼭 한번 와보고 싶어서 개쩔해놨던 곳인데, 역시나 엄지 척!\n"
     ]
    },
    {
     "name": "stderr",
     "output_type": "stream",
     "text": [
      "\r 18%|█▊        | 306/1689 [39:53<1:08:01,  2.95s/it]"
     ]
    },
    {
     "name": "stdout",
     "output_type": "stream",
     "text": [
      "306 : 가성비가 좋은 숙소입니다. 강추\n"
     ]
    },
    {
     "name": "stderr",
     "output_type": "stream",
     "text": [
      "\r 18%|█▊        | 307/1689 [39:54<56:09,  2.44s/it]  "
     ]
    },
    {
     "name": "stdout",
     "output_type": "stream",
     "text": [
      "307 : 내부는 나쁘지 않은데 방음이 잘 안 돼요...\n"
     ]
    },
    {
     "name": "stderr",
     "output_type": "stream",
     "text": [
      "\r 18%|█▊        | 308/1689 [39:56<54:04,  2.35s/it]"
     ]
    },
    {
     "name": "stdout",
     "output_type": "stream",
     "text": [
      "308 : 오픈하기만을 기다렸습니다!! 매년 가는 곳ㅎㅎ 항상 편하게 이용하다 와요~\n"
     ]
    },
    {
     "name": "stderr",
     "output_type": "stream",
     "text": [
      "\r 18%|█▊        | 309/1689 [39:57<45:22,  1.97s/it]"
     ]
    },
    {
     "name": "stdout",
     "output_type": "stream",
     "text": [
      "309 : 시설 괜찮은데 서비스 신경 좀 써주세요.\n"
     ]
    },
    {
     "name": "stderr",
     "output_type": "stream",
     "text": [
      "\r 18%|█▊        | 310/1689 [40:17<2:50:46,  7.43s/it]"
     ]
    },
    {
     "name": "stdout",
     "output_type": "stream",
     "text": [
      "310 : 최적의 자연환경, 넓고 그늘 많은 솔밭과 이리릴 숲으로 아이들이 놀기 좋게 다트여 놓은 전회의 계곡. 과함지도 모자라지도 않은 편의시설과 청결하도록 준비하게 관리하시는 시설들. 비교적 저렴한 요금. 한여름에도 모기도 거의 없구요. 친절하고 넉넉한 할머니와 사장님들. 오랜 역사와 단골분들. 극성수기 만실에 가깝게 꽉 차 때눈 다소 북적이지만, 딱 휴가철 한두 주말고는 세상 고즈넉한 곳입니다. 밑에 아이가 느껴지는 리뷰를 작성하신 분은 무슨 사정에 그런 관점으로 보게 됐었는지... 적정 시간에 매너타임 관리하시는 것도 단점이라 적어 놓았네요. 사이트 사이즈야 각야각섬이고 넓은 사이트들도 있구요. 유일한 특이점이 가끔 출몰하는 낭개미 떼도 날파리로 각색해 놓고 천자레인지 일약이는 거짓말인 것 같구요. 무료 사용입니다. 어디 상반연대도 아니고 천자레인지 유료 드립을...\n"
     ]
    },
    {
     "name": "stderr",
     "output_type": "stream",
     "text": [
      "\r 18%|█▊        | 311/1689 [40:23<2:41:08,  7.02s/it]"
     ]
    },
    {
     "name": "stdout",
     "output_type": "stream",
     "text": [
      "311 : 아이들과 함께하는 첫 부산 여행! 간만에 여행이기도 하니 금액대가 있더라도 아이들에게 좋은 경험을 시켜주고 싶어서 LCT를 예약했어요 ㅎㅎ 가기 전에는 맞는 건가 고민하기도 했는데 결과적으로 전혀 후회되지 않았던 비용입니다! 날씨까지 좋아서 다 같이 좋은 시간 보내다 왔네요.\n"
     ]
    },
    {
     "name": "stderr",
     "output_type": "stream",
     "text": [
      "\r 18%|█▊        | 312/1689 [40:33<3:00:30,  7.87s/it]"
     ]
    },
    {
     "name": "stdout",
     "output_type": "stream",
     "text": [
      "312 : 사진보다 실물이 훨씬 낫네요. 이런 호텔이 있었다니! 프리미엄으로 예매해서 그런지 뷰가 더 좋았나 봐요~ 좁다고 들었는데 전혀 그렇지 않고, 잠잘 때도 따뜻했어요! 잠옷도 주고 과자도 서비스로 주네요. 따뜻한 편지와 편지지도 잘 받았어요~ 손편지를 써줄 기회가 있어서 좋습니다. 화장실이랑 샤워실이 많이 넓진 않은데 불편할 정도는 아닙니다. 걱정 마세요. 화장실, 세면대, 샤워실이 분리되어 동시에 사용 가능합니다.\n"
     ]
    },
    {
     "name": "stderr",
     "output_type": "stream",
     "text": [
      "\r 19%|█▊        | 313/1689 [40:39<2:44:26,  7.17s/it]"
     ]
    },
    {
     "name": "stdout",
     "output_type": "stream",
     "text": [
      "313 : 주차장을 다른 건물에 해야 해서 1차 빠짐 301호를 주셔서 갔는데 사람이 있어서 당황ㅋㅋㅋ 방을 바꿔줘서 들어갔더니 오피스텔 개조한 호텔이더라고요. 이럴 거면 에어비앤비 했지.\n"
     ]
    },
    {
     "name": "stderr",
     "output_type": "stream",
     "text": [
      "\r 19%|█▊        | 314/1689 [40:43<2:21:58,  6.20s/it]"
     ]
    },
    {
     "name": "stdout",
     "output_type": "stream",
     "text": [
      "314 : 깔끔하고 스타일러 욕조도 있어 비즈니스 출장에 좋은 곳이에요! 주변 환경이 술집이 많고 유흥가라 가족 단위 여행은 비추입니다. 역하고 가까워서 좋네요.\n"
     ]
    },
    {
     "name": "stderr",
     "output_type": "stream",
     "text": [
      "\r 19%|█▊        | 315/1689 [41:03<4:00:32, 10.50s/it]"
     ]
    },
    {
     "name": "stdout",
     "output_type": "stream",
     "text": [
      "315 : 독고, 요사가, 후쿠오칸, 대전, 서울에 있는 토요코인에 묵어봤습니다. 경제적이면서 편리한 토요코인 숙박에 늘 만족하기 때문에 부산에 갈 일이 생겨서 망설임 없이 또 토요코인을 선택했네요. 역시나 토요코인답게 이 부산역 1호점도 청결하고 쾌적했습니다. 그리고... 역대 묵었던 토요코인들 중에 아침식사가 가장 만족스러워요. 반찬 가짓수도 많고 맛도 나쁘지 않아서 한 끼 식사로 손색이 없었습니다. 특이하게 이 부산역 1호점은 프론트 로비는 1층이고, 아침식사용 식당은 2층에 따로 있는 구조였어요. 사람이 많아 아침 식사 자리가 약간 혼잡하긴 했지만 기분 좋게 먹었어요. 이 정도 가성비를 보여준다면 하이 관광과 상관없이 토요코인은 건재하리라 확실합니다. 아직 모기가 있는 계절이라서 객실에 천자 모기향을 비치해 두신 것도 인상적이었습니다(모기 없어서 수진 않았지만요). 토요코인 만미아로써 늘 감사 드려요.\n"
     ]
    },
    {
     "name": "stderr",
     "output_type": "stream",
     "text": [
      "\r 19%|█▊        | 316/1689 [41:06<3:05:06,  8.09s/it]"
     ]
    },
    {
     "name": "stdout",
     "output_type": "stream",
     "text": [
      "316 : 베디도 괜찮고 직원분들 서비스도 굿. 콘센트 사용과 조명 컨트롤이 번거로워요.\n"
     ]
    },
    {
     "name": "stderr",
     "output_type": "stream",
     "text": [
      "\r 19%|█▉        | 317/1689 [41:07<2:18:04,  6.04s/it]"
     ]
    },
    {
     "name": "stdout",
     "output_type": "stream",
     "text": [
      "317 : 깔끔해요. 조식도 가성비가 굿\n"
     ]
    },
    {
     "name": "stderr",
     "output_type": "stream",
     "text": [
      "\r 19%|█▉        | 318/1689 [41:11<2:03:16,  5.40s/it]"
     ]
    },
    {
     "name": "stdout",
     "output_type": "stream",
     "text": [
      "318 : 바다가 바로 보여요. 침대에 누워서 일출을 볼 수 있어요. 속초 아이대교랑자까지 5분이면 걸어갑니다. 숙소도 깨끗하고 넷플릭스 볼 수 있어요.\n"
     ]
    },
    {
     "name": "stderr",
     "output_type": "stream",
     "text": [
      "\r 19%|█▉        | 319/1689 [41:14<1:49:01,  4.77s/it]"
     ]
    },
    {
     "name": "stdout",
     "output_type": "stream",
     "text": [
      "319 : 시설도 깔끔했고 서비스가 정말 좋았어요! 고즈넉하니 여유를 즐기기에 최고의 호텔이었습니다! 부산 사상구에 온다면 또 오고 싶네요~\n"
     ]
    },
    {
     "name": "stderr",
     "output_type": "stream",
     "text": [
      "\r 19%|█▉        | 320/1689 [41:34<3:31:53,  9.29s/it]"
     ]
    },
    {
     "name": "stdout",
     "output_type": "stream",
     "text": [
      "320 : 최악의 모텔입니다. 1. 잠자리가 매우 불편합니다. 저질 매트리스인지, 너무 오래 써서인지 원인은 모르겠으나, 매트리스가 꺼진 무료이고, 스프링 위의 소리 다 빠져서 느껴나 아니면 비품에 스프링이 형태가 그대로 느껴집니다!! 삐걱대는 망가진 스프링 소리도 1만원짜리 도미토리에서조차 못 들어본 귀마운 소리입니다. 2. 더러움. 청소를 하지 않습니다. 화장실 타일 밑에 검은색물한 것이 있어서 손가락으로 문대봤는데, 검은 곰팡이입니다!! 잘 안 닦여서 어쩔 수 없이 방치한 게 아니고, 그냥 안 닦은 것입니다. 손가락으로 들어 번 문데니까 싹 사라집니다. 딱 사람 역겹음에 있는 거라 눈에도 잘 봅니다. 3. 센스가 정말. 주인인 포토하우 매우 좋아하는지, 비치된 바디워시와 일회용 애매전이 포토하우스입니다. 고급도 아닌 싸구려 향이라 구역질 납니다. 절대 숙박하면 안 되는 업소입니다!!\n"
     ]
    },
    {
     "name": "stderr",
     "output_type": "stream",
     "text": [
      "\r 19%|█▉        | 321/1689 [41:57<5:06:36, 13.45s/it]"
     ]
    },
    {
     "name": "stdout",
     "output_type": "stream",
     "text": [
      "321 : 모든 면에서 좋았다. 접근성 - 지하철에서 바로 호텔이 이어져 있음. 건물 - 비교적 신축이고 곳곳에 미술품을 전시해 두어 갤러리 같은 느낌. 룸 컨디션 - 깔끔하고 쾌적함. 높은 층은 아니어서 뷰는 별로 없었지만 방 안 조명이 디테일이 맘에 든다. 인테리어가 감각적이고 어메니티도 좋았음. 음식 - 지하 음식점은 안 가봤지만 조각보는 평타 이상인 듯. 단품으로 스테이크, 파스타를 먹어봤음. 가격이 적당히 나들이 가는 수준이 맞았다(비싸고 맛있었다는 듯). - 버플러 바이주 헤피아워가 가성비가 굉장히 좋다고 느꼈음. 구성된 메뉴들이 하나같이 생각보다 퀄리티가 있었음. (다만 초갓봉에서 저녁식사 결제하면서 헤피아워 얘기하니까 직원분이 바이브 이용하시냐고 물어 조금 당황스러웠음. 그런 야거는 처음 온 사람이 알 리가 없지 않은가? 헤피아워를 어디 다른 데서 또 있는 줄 알았다. 그게 아니라면 당연히 버프러 바이즈를 말하는 건데 굳이 왜 그렇게 물어봤는지 이해가 안 감). - 조식 초갓봉 뷔페도 만족스러웠음.\n"
     ]
    },
    {
     "name": "stderr",
     "output_type": "stream",
     "text": [
      "\r 19%|█▉        | 322/1689 [41:58<3:42:27,  9.76s/it]"
     ]
    },
    {
     "name": "stdout",
     "output_type": "stream",
     "text": [
      "322 : 친절하시고 방이 커서 좋았어요.\n"
     ]
    },
    {
     "name": "stderr",
     "output_type": "stream",
     "text": [
      "\r 19%|█▉        | 323/1689 [42:00<2:46:40,  7.32s/it]"
     ]
    },
    {
     "name": "stdout",
     "output_type": "stream",
     "text": [
      "323 : 깔끔하고 조식이 맛있어요! 바다를 어디서든 볼 수 있네요~\n"
     ]
    },
    {
     "name": "stderr",
     "output_type": "stream",
     "text": [
      "\r 19%|█▉        | 324/1689 [42:07<2:48:39,  7.41s/it]"
     ]
    },
    {
     "name": "stdout",
     "output_type": "stream",
     "text": [
      "324 : 2박 3일 잘 쉬고 갑니다^♡^ 친절하셔서 첫인상이 너무 좋았고, 숙소의 깨끗함에 짐 보관과 짐 찾으러 가서 옷을 가져올 수 있게 배려해 주신 점도 너무 감사했습니다. 혼자여서 잠자리에 불안함이 있는데, 이곳은 불안감을 날려주는 곳이네요. 부산을 좋아서 1년에 몇 번씩 가는데 자주 애용하겠습니다^♡^\n"
     ]
    },
    {
     "name": "stderr",
     "output_type": "stream",
     "text": [
      "\r 19%|█▉        | 325/1689 [42:10<2:17:23,  6.04s/it]"
     ]
    },
    {
     "name": "stdout",
     "output_type": "stream",
     "text": [
      "325 : 이동하는 데도 짐하절이 가까워서 좋았어요. 실내도 깨끗해서 지내기 쉬웠어요. 또 이용하고 싶어요.\n"
     ]
    },
    {
     "name": "stderr",
     "output_type": "stream",
     "text": [
      "\r 19%|█▉        | 326/1689 [42:33<4:07:52, 10.91s/it]"
     ]
    },
    {
     "name": "stdout",
     "output_type": "stream",
     "text": [
      "326 : 프론트 남자 직원인? 나이가 많은 남자, 매우 감정적이고 불친절해서 괘몫 있는 호텔에 어떻게 이런 태도를 가진 사람이 근무하는지 놀라울 지경이었음. 투숙객이 처음 온 호텔이니 상황 설명하고 궁금한 거 물어봤는데 (일상 속기 서비스 관련 사소한 질문, 대단한 요구나 이상한 질문 아니었음) 요청 정세하고 \"그래서 뭐 어떻게 해줄까요?\" 하고 손님 혼내듯이 따진 데도는 어디서 나온 건지 모르겠음. 고압적으로 손님 혼내는 호텔 지배인 레전드 그 자체. 태어나서 처음 겪는 프론트 응대임. 처음 온 손님이 호텔에 대해서 몰라서 묻은 걸 가지고 손님 보고 알아서 해결해 내놓라는 듯이 야갈치게 운동복 착한 직원이 혼내듯이 되물어 너무 놀람. 나이가 많은 남자 직원이 업무 중 하나가 손님 응대 시 고압적인 태도 미 정석하는 표현 사용, 감정적인 태도 미 따져 묻기로 손님 참고유, 손님 혼내주기 및 본인 스트레스 해소가 혹시 포함되어 있는 걸까요? 아래에 저 같은 경험을 겪은 분이 또 계시네요. 계속해서 고객들을 열심히 호데게 혼내 주세요^^ 저희라 자동으로 기록돼요.\n"
     ]
    },
    {
     "name": "stderr",
     "output_type": "stream",
     "text": [
      "\r 19%|█▉        | 327/1689 [42:35<3:11:04,  8.42s/it]"
     ]
    },
    {
     "name": "stdout",
     "output_type": "stream",
     "text": [
      "327 : 샴푸와 바디 샤워는 비치되어 있고, 치약과 칫솔은 없습니다. 자판기에서 구매해야 합니다.\n"
     ]
    },
    {
     "name": "stderr",
     "output_type": "stream",
     "text": [
      "\r 19%|█▉        | 328/1689 [42:37<2:27:47,  6.52s/it]"
     ]
    },
    {
     "name": "stdout",
     "output_type": "stream",
     "text": [
      "328 : 여기 다녀온 뒤로 한강 뷰에서 사는 게 목표가 됨 ㅜㅜ\n"
     ]
    },
    {
     "name": "stderr",
     "output_type": "stream",
     "text": [
      "\r 19%|█▉        | 329/1689 [43:14<5:51:05, 15.49s/it]"
     ]
    },
    {
     "name": "stdout",
     "output_type": "stream",
     "text": [
      "329 : 객실 후기입니다. 우선 주차장부터 설명하겠습니다. 설명란에 전용 주차장이라고 나와 있었는데, 12층짜리 빌딩 전체가 공용으로 사용하는 지하 주차장이었고 차량이 밀려서 입차에만 30분 이상 소요되었습니다. 호텔 층은 10층부터 12층까지고 나머지 층은 식당, 노래방 등입니다. 호텔 로비는 꽤 깔끔하고 웰컴 드링크도 제공되는 점은 마음에 들었습니다. 객실의 창문이 생각보다 작았지만 광안대교가 보여서 나름 괜찮았습니다. 위치도 적당히 좋아서 번화가로 나가는 것도 편했고, 같은 빌딩 안에 스타벅스가 있어서 좋았습니다. 하지만 외출 후 돌아와서 객실 조명을 전부 켜서 밝아졌을 때 본 객실은 정말로 최악의 숙소였습니다. 거의 모든 벽들이 먼지와 얼룩이 가득하고 바닥 카펫도 얼룩덜룩에 먼지투성이였으며, 화장실은 타일 사이사이에 물때가 끼어 있고 욕조 모서리마다 곰팡이와 까맣게 쌓인 물때가 있었습니다. 정말 무슨 시골 여관에 온 것 같은데, 어메니티는 흔한 저렴한 모텔에서 제공하는 것들과 동일한 출처 불명 일회용 어메니티였습니다. 베개에 고무니처럼 얼룩이 있어서 그림이 줄 알았는데, 커버를 살짝 벗겨보니 누가 침을 흘렸던 베개인지 옮겨떠서 생긴 얼룩에 커버를 찢은 것입니다. 모기는 어디서 이렇게 들어오는지 밤잠을 설치게 만들고 정말 다시는 생각하고 싶지 않고 오고 싶지 않은 곳입니다. 사람이 몰리는 주말이고 연휴도 껴 있어서 숙박료 30만 원 넘게 받는 것은 이해합니다만, 이런 방이 줄 알았으면 3만 원이라도 절대 이용하지 않았을 것입니다. 입실할 때 받은 안내서는 입실 전 방의 상태를 점검했다고 나와 있는데, 도대체 뭘 점검했다는 건지 모르겠지만 다음 날 묵은 15만 원짜리 모텔이 훨씬 만족스러웠습니다.\n"
     ]
    },
    {
     "name": "stderr",
     "output_type": "stream",
     "text": [
      "\r 20%|█▉        | 330/1689 [43:14<4:11:02, 11.08s/it]"
     ]
    },
    {
     "name": "stdout",
     "output_type": "stream",
     "text": [
      "330 : 풍광이 너무 아름답네요~\n"
     ]
    },
    {
     "name": "stderr",
     "output_type": "stream",
     "text": [
      "\r 20%|█▉        | 331/1689 [43:17<3:13:16,  8.54s/it]"
     ]
    },
    {
     "name": "stdout",
     "output_type": "stream",
     "text": [
      "331 : 연산고짜로에서 3분 정도 거리이고, 출장차 들렀는데 침구류가 깨끗하고 가성비가 좋아요.\n"
     ]
    },
    {
     "name": "stderr",
     "output_type": "stream",
     "text": [
      "\r 20%|█▉        | 332/1689 [43:19<2:31:10,  6.68s/it]"
     ]
    },
    {
     "name": "stdout",
     "output_type": "stream",
     "text": [
      "332 : 가족들과 가끔 목욕하러 옵니다. 목욕하고 룸서비스까지 시켜 먹으면 정말 최고죠.\n"
     ]
    },
    {
     "name": "stderr",
     "output_type": "stream",
     "text": [
      "\r 20%|█▉        | 333/1689 [43:23<2:12:16,  5.85s/it]"
     ]
    },
    {
     "name": "stdout",
     "output_type": "stream",
     "text": [
      "333 : 방이 진짜 깔끔하고 이뻐요! 일반 호텔을 기대하고 가시면 생각이 다를 수 있겠지만, 가본 호텔 중 이렇게 심플하고 깔끔한 디자인의 호텔은 그룹이 처음이네요!\n"
     ]
    },
    {
     "name": "stderr",
     "output_type": "stream",
     "text": [
      "\r 20%|█▉        | 334/1689 [43:28<2:07:37,  5.65s/it]"
     ]
    },
    {
     "name": "stdout",
     "output_type": "stream",
     "text": [
      "334 : 부산에서 제일가는 호텔인 것 같아요. 기대를 하고 왔는데도 뷰도 너무 예쁘고 위치도 너무 좋았어요. 주차장이 좀 아쉽긴 했는데ㅜㅜ 다음에 또 놀러 오고 싶을 정도로 예쁜 숙소였습니당!\n"
     ]
    },
    {
     "name": "stderr",
     "output_type": "stream",
     "text": [
      "\r 20%|█▉        | 335/1689 [43:36<2:17:30,  6.09s/it]"
     ]
    },
    {
     "name": "stdout",
     "output_type": "stream",
     "text": [
      "335 : 깔끔한 화이트톤에 내부가 깨끗하고 좋았어요. 물품들이 잘 보관되어 있었고 잠옷이 준비되어 있어서 무엇보다 편했어요^^ 직원분들도 친절하게 알려주시고 전망도 광안대교가 바로 보여 힐링도 되며 1층 카페도 이용할 수 있어 자주 활용할 거예요^.^ 오늘 하루도 잘 보냈세요. 화이트톤입니다~~^^\n"
     ]
    },
    {
     "name": "stderr",
     "output_type": "stream",
     "text": [
      "\r 20%|█▉        | 336/1689 [43:48<3:02:33,  8.10s/it]"
     ]
    },
    {
     "name": "stdout",
     "output_type": "stream",
     "text": [
      "336 : 장점: 저는 어디 가도 청결을 우선시하기 때문에 청결하다는 점만으로도 만족하긴 했습니다. 룸 컨디션도 매우 신경 쓰신다는 걸 바로 느낄 수 있었습니다. 구석에도 먼지 한 톨 없습니다. 포트케이스를 빌릴 수 있습니다..! 고고가 짱 기억습니다.   단점: 텐트라서 당연히 주위에 야간코 탈출이 2시부터 7시까지 유닛다.. 진짜 엄청 시끄럽지만(2-3마리씩 로테이션으로 울어서 오티오가 꽉 차습니다) 귀마개하고 자면 괜찮습니다. 평드를 보고 너무 크게 기대하면 안 됩니다. 그냥 도심지를 뼛어나 힐링한다는 마음으로 가면 만족할 것입니다.\n"
     ]
    },
    {
     "name": "stderr",
     "output_type": "stream",
     "text": [
      "\r 20%|█▉        | 337/1689 [44:02<3:41:03,  9.81s/it]"
     ]
    },
    {
     "name": "stdout",
     "output_type": "stream",
     "text": [
      "337 : 사장님이 바뀌기 전부터... 22년인가 23년부터 썼는데 번함없이 이용 중임. 1년인가 2년 사이에 가격이 올라서 좀 부담스럽긴(?) 하지만 청결이 진짜 좋고 사장님 바뀌고 나선나 친절한 건 여전함. 원주 숙소 여기 강추함------------------------------------------- 24.6.30 사장님이 바뀌시고 가격이 기하급수적으로 오름... 여기**라는 앱에서는 24년에 오픈했다고 써져 있지만 사실 22년에 지어진 곳임... 사장님은 여전히 친절하시지만 청결은 예전에 비해 조금 떨어짐. 가격에 비해 가격은 진짜 많이 올랐으나 원주 숙소 중 가장 깨끗해서 이용 중임(올라간 가격에는 이유가 있음)\n"
     ]
    },
    {
     "name": "stderr",
     "output_type": "stream",
     "text": [
      "\r 20%|██        | 338/1689 [44:11<3:36:52,  9.63s/it]"
     ]
    },
    {
     "name": "stdout",
     "output_type": "stream",
     "text": [
      "338 : 대한민국 콘도들은 새로 지은 콘도 아니면 대부분 20년은 넘은 콘도인데, 어차피 숙박만을 위해 묵는 거라 그다지 노후 문제는 신경 쓰지 않습니다. 가격도 잘해주시고 주변 맛집 소개해 주셔서 잘 먹고 잘 쉬었네요. 공기 좋고 강원도 여행하기엔 베이스캠프 정도로 오가면 만족합니다. 친절히 안내해주시고 별로 불편 없이 잘 지내다 갑니다. 가을엔 오면 더 풍광이 좋을 듯.\n"
     ]
    },
    {
     "name": "stderr",
     "output_type": "stream",
     "text": [
      "\r 20%|██        | 339/1689 [44:29<4:27:57, 11.91s/it]"
     ]
    },
    {
     "name": "stdout",
     "output_type": "stream",
     "text": [
      "339 : 강아지 위앙하고 첫 호텔이고 놀러가서 숙소에만 쳐박혀있을 게 아니라 여물보다 여기 선택했어요. 숙박비도 여물이 5만원가량 비싸더라고요. 물론 더 좋은 데 가면 그만한 서비스를 빼부려주시겠죠? 여기는 애견 동반이었고, 강아지를 데리고 들어갈 수 있는 룸이 따로 있는 판에, 여긴 애견 호텔이라 너무 편하고 좋았어요. 물을 무섭게하는데 덕분에 물놀이도 하고, 작지만 놀이터와 호텔도 있고, 작아도 직원분들 모두 강아지 하나하나 신경 쓰는 게 눈에 보였어요. 저희 집 동강아지는 거입 많다고 했더니 안고 계셔주시고, 저는 생각보다 만족감이 컸는데.. 개개인의 느낌은 게 다름듯이 만족도도 다릅니다가요? 제가 갔을 때도 진상 손님 때문에 안 좋아 보이시는 거랑 여기 안 좋은 후기들만 많아서 좀 그래서 남겨봅니다!\n"
     ]
    },
    {
     "name": "stderr",
     "output_type": "stream",
     "text": [
      "\r 20%|██        | 340/1689 [44:33<3:35:17,  9.58s/it]"
     ]
    },
    {
     "name": "stdout",
     "output_type": "stream",
     "text": [
      "340 : 냄새도 나고 시설이 너무 엉망이었네요. 기분 나쁘게 2박했네요. 두 번 다시 안 갈 듯, 가격도 보리, 엄청 비싸다. 50%는 환불 원함.\n"
     ]
    },
    {
     "name": "stderr",
     "output_type": "stream",
     "text": [
      "\r 20%|██        | 341/1689 [44:34<2:37:05,  6.99s/it]"
     ]
    },
    {
     "name": "stdout",
     "output_type": "stream",
     "text": [
      "341 : 압도적인 뷰, 준수한 서비스\n"
     ]
    },
    {
     "name": "stderr",
     "output_type": "stream",
     "text": [
      "\r 20%|██        | 342/1689 [44:35<2:00:28,  5.37s/it]"
     ]
    },
    {
     "name": "stdout",
     "output_type": "stream",
     "text": [
      "342 : 애들을 데리고 왔는데 생각으로 너무 좋음. 깨끗하고 청결해.\n"
     ]
    },
    {
     "name": "stderr",
     "output_type": "stream",
     "text": [
      "\r 20%|██        | 343/1689 [44:37<1:38:23,  4.39s/it]"
     ]
    },
    {
     "name": "stdout",
     "output_type": "stream",
     "text": [
      "343 : 가격, 교통, 친절, 시설이 좋았습니다. 아쉬운 것은 금연 건물이라~~^^\n"
     ]
    },
    {
     "name": "stderr",
     "output_type": "stream",
     "text": [
      "\r 20%|██        | 344/1689 [44:40<1:26:53,  3.88s/it]"
     ]
    },
    {
     "name": "stdout",
     "output_type": "stream",
     "text": [
      "344 : 객실 컨디션은 별 5개! 친절함도 별 5개! 오션뷰에 스파 시설까지 별 5개~\n"
     ]
    },
    {
     "name": "stderr",
     "output_type": "stream",
     "text": [
      "\r 20%|██        | 345/1689 [44:41<1:08:08,  3.04s/it]"
     ]
    },
    {
     "name": "stdout",
     "output_type": "stream",
     "text": [
      "345 : 이 장소가 해운대라서 마음에 들었습니다.\n"
     ]
    },
    {
     "name": "stderr",
     "output_type": "stream",
     "text": [
      "\r 20%|██        | 346/1689 [44:43<1:02:37,  2.80s/it]"
     ]
    },
    {
     "name": "stdout",
     "output_type": "stream",
     "text": [
      "346 : 오션뷰 라운지도 환상적이고 방역도 철저하게 하는 펜션이라 안심하고 이용했어요.\n"
     ]
    },
    {
     "name": "stderr",
     "output_type": "stream",
     "text": [
      "\r 21%|██        | 347/1689 [44:47<1:11:16,  3.19s/it]"
     ]
    },
    {
     "name": "stdout",
     "output_type": "stream",
     "text": [
      "347 : 와, 너무해. 족방 같은 호텔 방 가격은 그냥 비쌈.. 이길 아침 일정 때문에 계산하고 올라왔는데 완전 실망. 사진 첨부합니다. 선택 시 고민하세요. 저는 정말 비추.\n"
     ]
    },
    {
     "name": "stderr",
     "output_type": "stream",
     "text": [
      "\r 21%|██        | 348/1689 [44:50<1:05:05,  2.91s/it]"
     ]
    },
    {
     "name": "stdout",
     "output_type": "stream",
     "text": [
      "348 : 처음 방문했는데 직원분들이 너무 친절하시고 객실도 깔끔해서 기분 좋게 놀다 왔습니다 ~\n"
     ]
    },
    {
     "name": "stderr",
     "output_type": "stream",
     "text": [
      "\r 21%|██        | 349/1689 [44:59<1:46:01,  4.75s/it]"
     ]
    },
    {
     "name": "stdout",
     "output_type": "stream",
     "text": [
      "349 : 겨울이 가기 전에 눈 구경하고 싶어 방문했는데… 설마 눈이 그리 많이 날맞이려…라는 의식을 가지고 현지에 도착하니, 이건 눈 구경이 아니라 현지 주민들이 안전이 더 걱정될 정도로 많이 쌓여 있더군요. 편안히 쉬며 겨울 정신을 물씬 느끼고 온 여행이었습니다. 아침 영하 15도에 겨울차 시동 거는 데 문제가 있었는데, 사장님 차랑으로 직접 도와주셔서 해결돼서 고맙고 든든했습니다. 항상 건강하세요…\n"
     ]
    },
    {
     "name": "stderr",
     "output_type": "stream",
     "text": [
      "\r 21%|██        | 350/1689 [45:02<1:36:38,  4.33s/it]"
     ]
    },
    {
     "name": "stdout",
     "output_type": "stream",
     "text": [
      "350 : 여기 직원이 안 보이고 안내원도 없고, 로비 가는 방법도 힘들고, 곳곳에 표지판이 없어서 안내를 해주든가 ㅉㅉ\n"
     ]
    },
    {
     "name": "stderr",
     "output_type": "stream",
     "text": [
      "\r 21%|██        | 351/1689 [45:09<1:50:45,  4.97s/it]"
     ]
    },
    {
     "name": "stdout",
     "output_type": "stream",
     "text": [
      "351 : 이전에 지냈던 숙소가 워낙 최악이라 그보다는 낫겠지 하고 간 숙소였어요. 결과적으로 굿입니다. 좋은 방을 예약한 것도 있지만 쾌적하고 깨끗했어요. 다만 복도 내 이상한 냄새가 진동해서 좀 불편했지만 뷰도 이쁘고 위치도 적당해서 불편한 점은 딱히 없었네요.\n"
     ]
    },
    {
     "name": "stderr",
     "output_type": "stream",
     "text": [
      "\r 21%|██        | 352/1689 [45:18<2:21:30,  6.35s/it]"
     ]
    },
    {
     "name": "stdout",
     "output_type": "stream",
     "text": [
      "352 : 방에서 편안하게 스파를 즐기는 게 너무 좋았어요. 휴가에 해외여행을 안 가면 여기가서 지내고 했죠. 연회비가 아깝지 않다고 생각하면서 다녔었는데, 제주로 일사하면서 정리하게 됐어요. 몇 년 전에 제주도에도 생긴다고 하던니 안 생겨서 아쉽네요. 혼자 다닐 때나 남자친구하고 다닐 때는 나중에 아이랑 같이 오면 정말 좋겠다고 많이 생각했었는데, 정작 결혼하고 아이가 생기니 주변에 반얀트리가 없는 아쉬운 일이...\n"
     ]
    },
    {
     "name": "stderr",
     "output_type": "stream",
     "text": [
      "\r 21%|██        | 353/1689 [45:20<1:49:20,  4.91s/it]"
     ]
    },
    {
     "name": "stdout",
     "output_type": "stream",
     "text": [
      "353 : 최고의 시설 위치 헬스장이에요. 점장이 너무 친절하세요!!\n"
     ]
    },
    {
     "name": "stderr",
     "output_type": "stream",
     "text": [
      "\r 21%|██        | 354/1689 [45:22<1:34:20,  4.24s/it]"
     ]
    },
    {
     "name": "stdout",
     "output_type": "stream",
     "text": [
      "354 : 해돋이도 보고 경치가 너무 좋았어요. 내부도 깨끗하고 사장님도 친절하시서 잘 이용하고 왔어요.\n"
     ]
    },
    {
     "name": "stderr",
     "output_type": "stream",
     "text": [
      "\r 21%|██        | 355/1689 [45:29<1:49:41,  4.93s/it]"
     ]
    },
    {
     "name": "stdout",
     "output_type": "stream",
     "text": [
      "355 : 근방 서핑샵 중에는 시설이 좋은 편입니다. 강습도 좋았어요. 당일 예약은 5천 원 추가됩니다. 근처에 갈 만한 식당이 거의 없습니다. 롱보드를 가게부터 바다까지 들고 가야 해서 너무 힘듭니다(근처 서핑샵은 대부분 해변에 놓여 있습니다). 주차장에 그늘이 별로 없습니다.\n"
     ]
    },
    {
     "name": "stderr",
     "output_type": "stream",
     "text": [
      "\r 21%|██        | 356/1689 [45:33<1:44:09,  4.69s/it]"
     ]
    },
    {
     "name": "stdout",
     "output_type": "stream",
     "text": [
      "356 : 가격이 저렴하여 큰 기대를 하지 않았는데, 매우 만족합니다. 오래되긴 했지만, 관리도 계속하고 있는 점들이 보이네요. 직원들도 친절하고 위치도 부산역이나 국제시장까지 도보로 가능한 위치입니다.\n"
     ]
    },
    {
     "name": "stderr",
     "output_type": "stream",
     "text": [
      "\r 21%|██        | 357/1689 [45:36<1:33:23,  4.21s/it]"
     ]
    },
    {
     "name": "stdout",
     "output_type": "stream",
     "text": [
      "357 : 시설이 깔끔하고, 잔디 정원과 뷰가 너무 좋습니다. 진짜 강추예요. 지난 여름에 처음 왔는데, 오늘 또 예약했습니다.\n"
     ]
    },
    {
     "name": "stderr",
     "output_type": "stream",
     "text": [
      "\r 21%|██        | 358/1689 [45:40<1:28:16,  3.98s/it]"
     ]
    },
    {
     "name": "stdout",
     "output_type": "stream",
     "text": [
      "358 : 혹시라도 어플에서 싸게 구매하면 당일 무전박대 당한다는 소문이 호텔로 주주되어 셀프 체크루는 용도로 메모지 리뷰를 등록.\n"
     ]
    },
    {
     "name": "stderr",
     "output_type": "stream",
     "text": [
      "\r 21%|██▏       | 359/1689 [45:48<1:54:56,  5.19s/it]"
     ]
    },
    {
     "name": "stdout",
     "output_type": "stream",
     "text": [
      "359 : 낙산 비치 딱 앞에 있어요. 가을 여행으로 다녀왔어요. 호텔은 새 건물이라 깨끗해요. 침구도 파스라 깨끗합니다. 직원분들도 친절해요. 아직 상가가 입점 중이더라고요. 여행하며 호텔 조식을 많이 먹어봤는데, 이곳 조식이 가성비 최고입니다. 커피도 맛있고 필요한 것만 딱 구성되어 있어요~~ 스테이는 가짓수는 없어요. 또 오고 싶어요♡\n"
     ]
    },
    {
     "name": "stderr",
     "output_type": "stream",
     "text": [
      "\r 21%|██▏       | 360/1689 [46:05<3:15:57,  8.85s/it]"
     ]
    },
    {
     "name": "stdout",
     "output_type": "stream",
     "text": [
      "360 : 여기 너무 좋은 곳이에요^^ 마음이 따뜻해지는 곳~ 계곡물이 정말 깨끗하고 경치도 너무 좋아요. 그리고 사장님과 가족분들, 특히 할머니 넋넋히 따뜻해지고 따뜻해요. 댓바 칼팍해서 못 가져갔는데 할머니가 더밭에서 넉넉히 따주시고 할로인 이벤트도 경학에 해주셔서 아이들에게 엄청난 추억을 남겨주셨어요. 엄청난 양이 맛있는 숯불고기와 어묵, 감리비 구이, 술 너무 맛있게 잘 먹었습니다. 식당에서도 상추 리필 안 해주는데 엄청난 양이 상추까지.. 많이 먹라고 자꾸 권하시더라고요 ㅡ 눈물 날 정도로 감사했습니다. 누구나 백 퍼센트 당첨되는 체육대회에서 받은 무화상품권 너무 감사했어요. 수도권에 있는 상업적인 캠핑장과 너무 다른 분위기라 깜짝 놀랐어요.. 내년에 봄에 뵐게요~^^\n"
     ]
    },
    {
     "name": "stderr",
     "output_type": "stream",
     "text": [
      "\r 21%|██▏       | 361/1689 [46:13<3:11:34,  8.66s/it]"
     ]
    },
    {
     "name": "stdout",
     "output_type": "stream",
     "text": [
      "361 : 그냥 엄청 이쁩니다! 직원분들도 너무 착하시고, 호텔에 들어가자마자 파랑파랑, 하얀하얀 해서 너무 고급지고 이뻤습니다. 체크인 전에 먼저 들어서 짐도 안전하게 맡겨주시고, 별카페랑 다 평일에 가서 사람이 없어 여유롭게 즐기고 가요! 호텔 뷰는 그냥 들어가자마자 핸드폰부터 켜네게 됩니다. 광안리 호텔 찾는 분들은 여기 추천드립니다!\n"
     ]
    },
    {
     "name": "stderr",
     "output_type": "stream",
     "text": [
      "\r 21%|██▏       | 362/1689 [46:21<3:05:26,  8.38s/it]"
     ]
    },
    {
     "name": "stdout",
     "output_type": "stream",
     "text": [
      "362 : 국내 특급호텔 2번째로 방문한 건데, 욕실 뷰만 업그레이드했고 전망이 진짜 좋아요. 그리고 무엇보다 건물 내부로 롯데백화점이나 롯데월드몰 이용 가능하다는 장점이 있고, 다음 날 롯데월드까지 다녀와서 무료 주차 잘 이용했네요. 무료 주차는 입실 당일 오전부터 퇴실 23시까지예요.\n"
     ]
    },
    {
     "name": "stderr",
     "output_type": "stream",
     "text": [
      "\r 21%|██▏       | 363/1689 [46:28<2:58:02,  8.06s/it]"
     ]
    },
    {
     "name": "stdout",
     "output_type": "stream",
     "text": [
      "363 : 2층 디럭스 오션 뷰 룸인데 실내 수리가 안 된 것처럼 보입니다. 2층 엘리베이터 내리자 첫 느낌은 여기가 숙소가 아닌가 하는 느낌입니다. 폐업한 상태로 정리되어 있지 않은 2층 홀 상태 등입니다. 2층은 바다도 잘 안 보이고 베개에서 퀴퀴한 냄새가 납니다. 단, 넓이 대비 가격이 저렴합니다.\n"
     ]
    },
    {
     "name": "stderr",
     "output_type": "stream",
     "text": [
      "\r 22%|██▏       | 364/1689 [46:33<2:39:18,  7.21s/it]"
     ]
    },
    {
     "name": "stdout",
     "output_type": "stream",
     "text": [
      "364 : 서랍장에 훈을 두고 온 걸 깜빡해서 바로 연락했는데, 이미 지었고 친운 직원도 모른다? 누가 거짓말 하는지는 몰라도 분실물이 그대로 구더? 다 치우고 깔끔하게 시설 쓰는데 돌아오는 건 통수밖에 없네. 분실물 모아서 돈 많이 버세요.\n"
     ]
    },
    {
     "name": "stderr",
     "output_type": "stream",
     "text": [
      "\r 22%|██▏       | 365/1689 [46:35<1:58:46,  5.38s/it]"
     ]
    },
    {
     "name": "stdout",
     "output_type": "stream",
     "text": [
      "365 : 테라스 욕조 좋음  직원분 왕친절\n"
     ]
    },
    {
     "name": "stderr",
     "output_type": "stream",
     "text": [
      "\r 22%|██▏       | 366/1689 [46:56<3:47:15, 10.31s/it]"
     ]
    },
    {
     "name": "stdout",
     "output_type": "stream",
     "text": [
      "366 : 가성비 진짜 좋네요. 원룸형 아파트? 건물 3칸 정도에서 호텔 호실을 확보해서 일대하는 형식인 듯요. 건물 자체가 유럽형으로 지어진 데라, 원룸 오피스텔 하루 묵는다고 생각하면 될 듯? 다만 바깥 뷰는 그냥 다른 호텔 건물들입니다(좀 떨어져 있어서 창문으로 서로가 보이지는 않음).  [구비 사항 및 서비스]   - 냉장고(가정용), 세탁기, 전자레인지, 옷장, 건조대   - 수건, 생수/장, 드라이기, 샴푸/린스/바디샤워, 휴지   ※ 칫솔/치약, 면도기, 샤워가운 미제공   - 바닥 난방/에어컨 내 마음대로, 온수 완전 빵빵   - 매일 청소/생수/수건   - 조식(현제 코로나19로 미운녕 중)    보통 호텔은 온풍기라 건조해 미치고, 바닥에 카펫처럼 깔린 거 너무 찜찜해서 싫은데, 여기는 쾌적하고 조용하며 오션도 다 되어 있고 저렴한데 정말 내 집 같고 좋아요. 한 달 살길라도 하고 싶네요.\n"
     ]
    },
    {
     "name": "stderr",
     "output_type": "stream",
     "text": [
      "\r 22%|██▏       | 367/1689 [46:58<2:47:38,  7.61s/it]"
     ]
    },
    {
     "name": "stdout",
     "output_type": "stream",
     "text": [
      "367 : 옷걸이가 하나도 없어요, 욕실에도, 슬리퍼도\n"
     ]
    },
    {
     "name": "stderr",
     "output_type": "stream",
     "text": [
      "\r 22%|██▏       | 368/1689 [47:03<2:32:45,  6.94s/it]"
     ]
    },
    {
     "name": "stdout",
     "output_type": "stream",
     "text": [
      "368 : 내 인생에서 최악으로, 진심 최악으로 불친절한 호텔. 절대 무슨 일이 있어도 여기는 안 간다. 내가 왜 이 호텔 직원들의 불친절한 태도를 다 받아줘야 하나 고시고 있자니 제 인생이 불행해지네요. 최악의 경험을 선사한 호텔!\n"
     ]
    },
    {
     "name": "stderr",
     "output_type": "stream",
     "text": [
      "\r 22%|██▏       | 369/1689 [47:07<2:12:10,  6.01s/it]"
     ]
    },
    {
     "name": "stdout",
     "output_type": "stream",
     "text": [
      "369 : 위치도 좋고 화장실도 깨끗한데... 냄새가 나요. 들어오자마자 따뜻한 하수구 냄새? + 나프탈렌 냄새? 나올... 이 점만 빼면 좋았어요...\n"
     ]
    },
    {
     "name": "stderr",
     "output_type": "stream",
     "text": [
      "\r 22%|██▏       | 370/1689 [47:09<1:49:10,  4.97s/it]"
     ]
    },
    {
     "name": "stdout",
     "output_type": "stream",
     "text": [
      "370 : 시설이 깨끗하고 가성비가 좋네요. 커피와 컵라면, 빵 등 아침도 제공돼요! 좋아요!\n"
     ]
    },
    {
     "name": "stderr",
     "output_type": "stream",
     "text": [
      "\r 22%|██▏       | 371/1689 [47:11<1:25:35,  3.90s/it]"
     ]
    },
    {
     "name": "stdout",
     "output_type": "stream",
     "text": [
      "371 : 깔끔하긴 한데 가격값을 하는지는 모르겠다.\n"
     ]
    },
    {
     "name": "stderr",
     "output_type": "stream",
     "text": [
      "\r 22%|██▏       | 372/1689 [47:15<1:27:06,  3.97s/it]"
     ]
    },
    {
     "name": "stdout",
     "output_type": "stream",
     "text": [
      "372 : 그제 부산에 놀러 갔는데 배터리 문을 닫아다는 소리에 다른 곳에 묵었습니다. 혹시나 하고 지나가다 불이 켜 있길래 가보니 어제부터 영업하신다네요. 참고하세요.\n"
     ]
    },
    {
     "name": "stderr",
     "output_type": "stream",
     "text": [
      "\r 22%|██▏       | 373/1689 [47:25<2:07:41,  5.82s/it]"
     ]
    },
    {
     "name": "stdout",
     "output_type": "stream",
     "text": [
      "373 : 천장에 구멍이 생겼어요~! 룸 청소를 원하는 고객님들은 꼭!!! 사전에 공지가 되지 않아도 청소해 달라고 이야기해야 해요. 그렇지 않으면 셀프로 해야 해요. (수건과 생수 그리고 조랑쩌 봉투까지 받고, 내가 버린 쓰레기를 직접 분리수거까지 하는 곳이에요.) 화장실 손잡이 문이 덜렁거리고, 벽지는 흑흑 울렸어요. 그래도 스타일러와 세탁기 덕분에 행복했어요. (스타일러로 침구 청소까지 셀프 했어요~) 잘 지내다 가요~\n"
     ]
    },
    {
     "name": "stderr",
     "output_type": "stream",
     "text": [
      "\r 22%|██▏       | 374/1689 [47:27<1:41:34,  4.63s/it]"
     ]
    },
    {
     "name": "stdout",
     "output_type": "stream",
     "text": [
      "374 : 친구들이랑 놀기 위해서 예약했는데 직접 전화했더니 엄청 친절하셨어요!\n"
     ]
    },
    {
     "name": "stderr",
     "output_type": "stream",
     "text": [
      "\r 22%|██▏       | 375/1689 [47:29<1:25:24,  3.90s/it]"
     ]
    },
    {
     "name": "stdout",
     "output_type": "stream",
     "text": [
      "375 : 버스 정거장 앞이라 여행 다니기 좋습니다. 리모델링해서 욕실도 깨끗하네요.\n"
     ]
    },
    {
     "name": "stderr",
     "output_type": "stream",
     "text": [
      "\r 22%|██▏       | 376/1689 [47:31<1:11:33,  3.27s/it]"
     ]
    },
    {
     "name": "stdout",
     "output_type": "stream",
     "text": [
      "376 : 너무 만족스러웠어요~! 잘 쉬다 갑니다 다음에 꼭 또 올 거예요~!\n"
     ]
    },
    {
     "name": "stderr",
     "output_type": "stream",
     "text": [
      "\r 22%|██▏       | 377/1689 [47:32<59:22,  2.72s/it]  "
     ]
    },
    {
     "name": "stdout",
     "output_type": "stream",
     "text": [
      "377 : 고즈넉하고 조용합니다. 좋은 추억 남긴 장소입니다.\n"
     ]
    },
    {
     "name": "stderr",
     "output_type": "stream",
     "text": [
      "\r 22%|██▏       | 378/1689 [47:38<1:19:42,  3.65s/it]"
     ]
    },
    {
     "name": "stdout",
     "output_type": "stream",
     "text": [
      "378 : 할인받아 3박 8만원에 묵었네요. 방은 생각보다 크고, 시설은 그냥 보통입니다. 바로 앞에 포장마차촌이라 새벽까지 소음이 많기는 하네요... 주변 먹거리가 많아서 그냥 먹고 쉬다가 갑니다. 욕실 시설이 많이 낡았지만 가격 대비 이해 가능한 수준입니다.\n"
     ]
    },
    {
     "name": "stderr",
     "output_type": "stream",
     "text": [
      "\r 22%|██▏       | 379/1689 [47:44<1:35:52,  4.39s/it]"
     ]
    },
    {
     "name": "stdout",
     "output_type": "stream",
     "text": [
      "379 : 특가로 저렴하게 이용했구요, 금연 건물이라 냄새도 안 나고, 지하에서 조식으로 라면이랑 식빵도 맛있게 먹었습니다. 직원분들도 친절하시고, 길 건너가면 재래시장과 먹자 골목도 있어서 저녁 먹기도 좋습니다. 편하게 푹 쉬고 갑니다~~!!\n"
     ]
    },
    {
     "name": "stderr",
     "output_type": "stream",
     "text": [
      "\r 22%|██▏       | 380/1689 [47:57<2:30:01,  6.88s/it]"
     ]
    },
    {
     "name": "stdout",
     "output_type": "stream",
     "text": [
      "380 : 외국인들이 장기 투숙하는 게스트하우스를 모르고 싼 맛에 예약했다가 코로나 시즌에 무섭움을 맛봤다. 입구에서 흡연하는 데 마스크 없는 건 그러려니 했는데, 1층 로비에서 10명 중 9명은 안 끼고 있다. 8인실 다 한국인이었는데 새벽에 들어와서 부시럭거리면서 짐 정리하는 건 기본이고, 침구류 잠자는 냄새가 안 나는데 방 안에 환기가 안 돼서 꿉꿉한 냄새가 난다. 냉장고는 뭐... 우리 집 냉장고인 줄 알았네, 이름 표시 없이 장기 투숙자들 식자로가 가득하고... 코로나 무시하고 외국인과 친목을 다지고 싶다면 추천.\n"
     ]
    },
    {
     "name": "stderr",
     "output_type": "stream",
     "text": [
      "\r 23%|██▎       | 381/1689 [48:05<2:36:11,  7.16s/it]"
     ]
    },
    {
     "name": "stdout",
     "output_type": "stream",
     "text": [
      "381 : 왜 후기 왜 다 1점일지..? 방에 들어왔을 때 문제 있다고 말씀드리니 바로 방 업그레이드해서 바꿔주셨고, 위생이나 방 넓이 측면에서 불편한 점은 없었음. 다만 욕실을 방금 청소한 건지 바닥에 물기가 있었던 점과 충전기가 빠꾸인 점과 밖은 방 모두 박살나 있던 점에서 4점 숙주. 가성비 나쁘지 않다고 생각함.\n"
     ]
    },
    {
     "name": "stderr",
     "output_type": "stream",
     "text": [
      "\r 23%|██▎       | 382/1689 [48:07<2:03:13,  5.66s/it]"
     ]
    },
    {
     "name": "stdout",
     "output_type": "stream",
     "text": [
      "382 : 1층 카페테리아 여자 매니저 고객 응대가 호텔이라기보다는 휴게소 노점 느낌이네요.\n"
     ]
    },
    {
     "name": "stderr",
     "output_type": "stream",
     "text": [
      "\r 23%|██▎       | 383/1689 [48:10<1:44:22,  4.80s/it]"
     ]
    },
    {
     "name": "stdout",
     "output_type": "stream",
     "text": [
      "383 : 오픈한 지 얼마 안 되어서인지 편의시설 문제가 아쉬웠지만, 깨끗하고 조용해서 가족끼리 즐기기 편했어요.\n"
     ]
    },
    {
     "name": "stderr",
     "output_type": "stream",
     "text": [
      "\r 23%|██▎       | 384/1689 [49:32<10:08:54, 28.00s/it]"
     ]
    },
    {
     "name": "stdout",
     "output_type": "stream",
     "text": [
      "384 : 솔직히... 너무 실망스럽습니다. 원래도 방음이 잘 안 되어 복도 소리, 윗방, 옆방 소리도 다 들리는데, 오늘은 기업체 산책한다고 수영장에 야외 무대를 설치해서 장장장 장장장 장장장 장장장 장장장 장장장 장장장 장장장 장장장 장장장 장장장 장장장 장장장 장장장 장장장 장장장 장장장 장장장 장장장 장장장 장장장 장장장 장장장 장장장 장장장 장장장 장장장 장장장 장장장 장장장 장장장 장장장 장장장 장장장 장장장 장장장 장장장 장장장 장장장 장장장 장장장 장장장 장장장 장장장 장장장 장장장 장장장 장장장 장장장 장장장 장장장 장장장 장장장 장장장 장장장 장장장 장장장 장장장 장장장 장장장 장장장 장장장 장장장 장장장 장장장 장장장 장장장 장장장 장장장 장장장 장장장 장장장 장장장 장장장 장장장 장장장 장장장 장장장 장장장 장장장 장장장 장장장 장장장 장장장 장장장 장장장 장장장 장장장 장장장 장장장 장장장 장장장 장장장 장장장 장장장 장장장 장장장 장장장 장장장 장장장 장장장 장장장 장장장 장장장 장장장 장장장 장장장 장장장 장장장 장장장 장장장 장장장 장장장 장장장 장장장 장장장 장장장 장장장 장장장 장장장 장장장 장장장 장장장 장장장 장장장 장장장 장장장 장장장 장장장 장장장 장장장 장장장 장장장 장장장 장장장 장장장 장장장 장장장 장장장 장장장 장장장 장장장 장장장 장장장 장장장 장장장 장장장 장장장 장장장 장장장 장장장 장장장 장장장 장장장 장장장 장장장 장장장 장장장 장장장 장장장 장장장 장장장 장장장 장장장 장장장 장장장 장장장 장장장 장장장 장장장 장장장 장장장 장장장 장장장 장장장 장장장 장장장 장장장 장장장 장장장 장장장 장장장 장장장 장장장 장장장 장장장 장장장 장장장 장장장 장장장 장장장 장장장 장장장 장장장 장장장 장장장 장장장 장장장 장장장 장장장 장장장 장장장 장장장 장장장 장장장 장장장 장장장 장장장 장장장 장장장 장장장 장장장 장장장 장장장 장장장 장장장 장장장 장장장 장장장 장장장 장장장 장장장 장장장 장장장 장장장 장장장 장장장 장장장 장장장 장장장 장장장 장장장 장장장 장장장 장장장 장장장 장장장 장장장 장장장 장장장 장장장 장장장 장장장 장장장 장장장 장장장 장장장 장장장 장장장 장장장 장장장 장장장 장장장 장장장 장장장 장장장 장장장 장장장 장장장 장장장 장장장 장장장 장장장 장장장 장장장 장장장 장장장 장장장 장장장 장장장 장장장 장장장 장장장 장장장 장장장 장장장 장장장 장장장 장장장 장장장 장장장 장장장 장장장 장장장 장장장 장장장 장장장 장장장 장장장 장장장 장장장 장장장 장장장 장장장 장장장 장장장 장장장 장장장 장장장 장장장 장장장 장장장 장장장 장장장 장장장 장장장 장장장 장장장 장장장 장장장 장장장 장장장 장장장 장장장 장장장 장장장 장장장 장장장 장장장 장장장 장장장 장장장 장장장 장장장 장장장 장장장 장장장 장장장 장장장 장장장 장장장 장장장 장장장 장장장 장장장 장장장 장장장 장장장 장장장 장장장 장장장 장장장 장장장 장장장 장장장 장장장 장장장 장장\n"
     ]
    },
    {
     "name": "stderr",
     "output_type": "stream",
     "text": [
      "\r 23%|██▎       | 385/1689 [49:34<7:17:24, 20.13s/it] "
     ]
    },
    {
     "name": "stdout",
     "output_type": "stream",
     "text": [
      "385 : 평범한 모텔이지만 사장님께서 친절하셔서 무진장 만족했습니다~\n"
     ]
    },
    {
     "name": "stderr",
     "output_type": "stream",
     "text": [
      "\r 23%|██▎       | 386/1689 [49:50<6:53:45, 19.05s/it]"
     ]
    },
    {
     "name": "stdout",
     "output_type": "stream",
     "text": [
      "386 : 그래도 나름 신라스테이가 신축이라 시설과 서비스 면에서 기대하고 갔는데 아래 리뷰들대로 크게 만족스럽지는 않았어요. 위치는 뭐 바로 역 앞이라 접근성이 좋아요. 서비스는 뭐 소소해요. 방은 그래도 괜찮아요. 꼭 시티뷰로 가시길! 신축이라 깔끔하고 베드도 괜찮았어요. 비즈니스 호텔 치고 창이 커서 좋았습니다. 어메니티도 아베다예요. 조식도 깔끔하게 맛있었어요. 그런데 루프탑은 ㅎㅎㅎ 관리가 1도 안 되는 느낌에 지우는 사람도 없고 서빙은 셀프입니다. 먹을 것도 없어요. 다른 데서 배 차우고 맥주나 먹으러 오세요. 그리고 개취지만... 음막도 굴러요... 리스트 재정비 한섬으면 ㅎ 호텔 루프탑이라고 기대하고 오지는 마시길 ㅎㅎ\n"
     ]
    },
    {
     "name": "stderr",
     "output_type": "stream",
     "text": [
      "\r 23%|██▎       | 387/1689 [49:54<5:15:41, 14.55s/it]"
     ]
    },
    {
     "name": "stdout",
     "output_type": "stream",
     "text": [
      "387 : 체크인을 너무 귀찮게 만들어 놓음. 일단 기계에서 휴대폰 보인 인증을 했는데 객실이 정돈 중이라고 하였음. 그래서 번호 예약을 해서 카운터에서 번호를 부를 때까지 기다림.\n"
     ]
    },
    {
     "name": "stderr",
     "output_type": "stream",
     "text": [
      "\r 23%|██▎       | 388/1689 [49:56<3:54:19, 10.81s/it]"
     ]
    },
    {
     "name": "stdout",
     "output_type": "stream",
     "text": [
      "388 : 뷰 맛집입니다. 방짝은 거 고려하더라도 뷰가 미쳐서 다시 올 것 같아요!\n"
     ]
    },
    {
     "name": "stderr",
     "output_type": "stream",
     "text": [
      "\r 23%|██▎       | 389/1689 [49:59<3:00:31,  8.33s/it]"
     ]
    },
    {
     "name": "stdout",
     "output_type": "stream",
     "text": [
      "389 : 주차장이 멀어서 불편함은 있었지만 저는 도보로 이용하였고, 가성비도 좋고 바다 뷰가 좋네요~\n"
     ]
    },
    {
     "name": "stderr",
     "output_type": "stream",
     "text": [
      "\r 23%|██▎       | 390/1689 [50:01<2:17:25,  6.35s/it]"
     ]
    },
    {
     "name": "stdout",
     "output_type": "stream",
     "text": [
      "390 : 침대가 불편하고 도로변 창가는 차 소리. 깨끗하게 잘 지냈어요.\n"
     ]
    },
    {
     "name": "stderr",
     "output_type": "stream",
     "text": [
      "\r 23%|██▎       | 391/1689 [50:05<2:03:27,  5.71s/it]"
     ]
    },
    {
     "name": "stdout",
     "output_type": "stream",
     "text": [
      "391 : 북엥이 있어서 계획하진 않았지만 접근적으로 요리도 해먹었네요~ 바다를 보며 요리라니 ㅎ 식재료도 아래 마트에서 쉽게 구매할 수 있으니까 더 편리했던 것 같아요.\n"
     ]
    },
    {
     "name": "stderr",
     "output_type": "stream",
     "text": [
      "\r 23%|██▎       | 392/1689 [50:06<1:37:05,  4.49s/it]"
     ]
    },
    {
     "name": "stdout",
     "output_type": "stream",
     "text": [
      "392 : 모든 면에서 만족합니다. 이번이 3번째입니다. 잘 쉬었다 갑니다.\n"
     ]
    },
    {
     "name": "stderr",
     "output_type": "stream",
     "text": [
      "\r 23%|██▎       | 393/1689 [50:13<1:48:13,  5.01s/it]"
     ]
    },
    {
     "name": "stdout",
     "output_type": "stream",
     "text": [
      "393 : 15층 스탠다드바에서 부르는 노래와 바구르는 소리가 그대로 14층에서 새벽까지 들림. 트윈은 14층뿐임. 호텔에서 알고 있어도 설명을 미리 안 해줌. 침구 상태 위생 불량. 창가 쪽에서는 찬바람이 들어옴. 주차비 별도.\n"
     ]
    },
    {
     "name": "stderr",
     "output_type": "stream",
     "text": [
      "\r 23%|██▎       | 394/1689 [50:15<1:28:13,  4.09s/it]"
     ]
    },
    {
     "name": "stdout",
     "output_type": "stream",
     "text": [
      "394 : 친구들이랑 호캉스 했는데 ㅎ 여기서 인생샷 많이 건졌어요.\n"
     ]
    },
    {
     "name": "stderr",
     "output_type": "stream",
     "text": [
      "\r 23%|██▎       | 395/1689 [50:21<1:42:27,  4.75s/it]"
     ]
    },
    {
     "name": "stdout",
     "output_type": "stream",
     "text": [
      "395 : 일정 없이 우직하다가 급하게 간 파랑뷰 호텔. 청결하고 직원 응대도 너무 좋고, 무엇보다 뷰가 너무 멋졌어요ㅋ 일출을 보다니ㅋ 5시 30분 정도ㅋㅋ 정말 나만 알고 싶은 호텔이네요^^ 다음에 고성 올 때 또 올 것 같아요^^\n"
     ]
    },
    {
     "name": "stderr",
     "output_type": "stream",
     "text": [
      "\r 23%|██▎       | 396/1689 [50:23<1:23:11,  3.86s/it]"
     ]
    },
    {
     "name": "stdout",
     "output_type": "stream",
     "text": [
      "396 : 다 식어버린 식사. 알고 있는 맛도 내지 못하는 의아한 메뉴들.\n"
     ]
    },
    {
     "name": "stderr",
     "output_type": "stream",
     "text": [
      "\r 24%|██▎       | 397/1689 [50:25<1:12:38,  3.37s/it]"
     ]
    },
    {
     "name": "stdout",
     "output_type": "stream",
     "text": [
      "397 : 멀지만 다시 오고 싶은 마음이 듬뿍 받는! 다음엔 인피니티도 이용할 수 있었으면!\n"
     ]
    },
    {
     "name": "stderr",
     "output_type": "stream",
     "text": [
      "\r 24%|██▎       | 398/1689 [50:30<1:24:54,  3.95s/it]"
     ]
    },
    {
     "name": "stdout",
     "output_type": "stream",
     "text": [
      "398 : 매년 1~2회 아이들이 수영하고 싶다 할 때 잡는 가성비 호텔. 야외 온수풀도 따뜻하고, 직원들 친절도도 아주 좋고, 수영하다 먹고 쉴 수 있는 프랜 카페도 아주 유용함. 주변 식당가가 주변해서\n"
     ]
    },
    {
     "name": "stderr",
     "output_type": "stream",
     "text": [
      "\r 24%|██▎       | 399/1689 [50:35<1:27:47,  4.08s/it]"
     ]
    },
    {
     "name": "stdout",
     "output_type": "stream",
     "text": [
      "399 : 프론트 응대하시는 분이 영혼 없이 불친절하구요. 침대 보니 담배 구멍이 여러 개 나 있네요. 침구류 교체할 때 보고도 그냥 쓰라고 놔둔 것 같네요. 다시는 안 올 듯합니다.\n"
     ]
    },
    {
     "name": "stderr",
     "output_type": "stream",
     "text": [
      "\r 24%|██▎       | 400/1689 [50:37<1:14:37,  3.47s/it]"
     ]
    },
    {
     "name": "stdout",
     "output_type": "stream",
     "text": [
      "400 : 맥주가 생각보다 라인업도 좋고 가격도 괜찮다. 두 가족이 가기 딱 좋은 숙소.\n"
     ]
    },
    {
     "name": "stderr",
     "output_type": "stream",
     "text": [
      "\r 24%|██▎       | 401/1689 [50:42<1:25:25,  3.98s/it]"
     ]
    },
    {
     "name": "stdout",
     "output_type": "stream",
     "text": [
      "401 : 아니, 제대로 되는 게 없네요. 급하게 컴퓨터 쓸 일이 있어서 겉더니 안 돼. 변기 물 안내려가 화장실 안 돼. 세면대 물 받으려니 고정 안 돼. TV 나오고 에어컨 돌아가고 침대 있는 건 저렴한 가격에 이유가 있었네요.\n"
     ]
    },
    {
     "name": "stderr",
     "output_type": "stream",
     "text": [
      "\r 24%|██▍       | 402/1689 [50:43<1:08:16,  3.18s/it]"
     ]
    },
    {
     "name": "stdout",
     "output_type": "stream",
     "text": [
      "402 : 되게 깔끔하고 사장님도 인심이 좋으세요.\n"
     ]
    },
    {
     "name": "stderr",
     "output_type": "stream",
     "text": [
      "\r 24%|██▍       | 403/1689 [50:49<1:23:01,  3.87s/it]"
     ]
    },
    {
     "name": "stdout",
     "output_type": "stream",
     "text": [
      "403 : 내부 시설이 낡아서 온풍기는 소음이 심해서 잠들기 어려워요. 실외는 건전지가 없어서 춥겠어요. 실외랑 TV 실외랑 비교해보세요. 숙박객에게 주차비는 숙박비와 별도로 5,000원씩 받아요.\n"
     ]
    },
    {
     "name": "stderr",
     "output_type": "stream",
     "text": [
      "\r 24%|██▍       | 404/1689 [50:52<1:19:09,  3.70s/it]"
     ]
    },
    {
     "name": "stdout",
     "output_type": "stream",
     "text": [
      "404 : 숙소에서 바라본 시뷰입니다. 그냥 깔끔하고 영도 남포동 돌아다니기 좋아요. 싼 가격에 나올 때 예약하셔서 즐거운 여행 되세요.\n"
     ]
    },
    {
     "name": "stderr",
     "output_type": "stream",
     "text": [
      "\r 24%|██▍       | 405/1689 [51:12<3:01:00,  8.46s/it]"
     ]
    },
    {
     "name": "stdout",
     "output_type": "stream",
     "text": [
      "405 : 좋다.... 부산 여행, 숙소 맛집...^^ 수영 풀빌라 펜션 루프탑은 숙소 수영장 두 배 기리라... 제대로 수영하기 좋다. 그러나 사람이 많다..ㅋㅋ 그리고 춥다... 바람이 직행다...ㅋㅋ 그래서 우리는 숙소 수영장을 이용했다. 뜨거운 물 온도. 밤새 수영 가능..ㅋㅋ 조식용 삼박과 쿠키들 맛있게 먹고..^^ 잘 쉬다 갑니다... 다음에 부산 오게 되면 또 들릴게요. 방 바닥 겁나 뜨끈해서 좋아쓴...ㅋㅋ 숙소와 송정 해수욕장이 걸어서 5분 거리. 음식점들이 많아서 딱히 뭔가를 해먹지 않고 사다 먹어서 깔끔하게 이용했음. 103호 짱.. 바닷가 앞이라 바다 냄새가 나지만 그건 바닷인가..^^ 프라이빗은 옆집과는 프라이빗한데 다른 옆쪽 카페에서 내려다보고 있어서 그게 살짝 아쉽..ㅋㅋ 밤에 약간 수영~~~~\n"
     ]
    },
    {
     "name": "stderr",
     "output_type": "stream",
     "text": [
      "\r 24%|██▍       | 406/1689 [51:15<2:28:20,  6.94s/it]"
     ]
    },
    {
     "name": "stdout",
     "output_type": "stream",
     "text": [
      "406 : 가성비 좋은 숙소! 굉장히 깔끔하고 예쁘고 거리 접근성도 좋다. 그리고 친절하다... 다음에 또 부산 갈 일이 있다면 개껑놀라..\n"
     ]
    },
    {
     "name": "stderr",
     "output_type": "stream",
     "text": [
      "\r 24%|██▍       | 407/1689 [51:29<3:13:59,  9.08s/it]"
     ]
    },
    {
     "name": "stdout",
     "output_type": "stream",
     "text": [
      "407 : 장점: 인테리어 매우 예쁨   단점: 실속 0   한 줄 평: 빛 좋은 개살구. 직원 대도에서 영혼 리스를 맛보았고, 정말 비좁다는 게 컸다. 3천원이면 모텔, 호텔 중에서도 가격이 있는 비품에 속하는데, 일단 뭐가 없다. 죄송하지 않으면서 기계적으로 \"죄송하지만 비는 없으세요\"라는 습탁한 대화가도 화벽이 이 호텔의 가장 큰 특징이 아닐까 싶고, 퇴실 시간 소브, 에누리, 의견 조절, 화합 이런 거 꿈꾸지 말아. 우, 절대 없어~ 아, 참고로 음료수도 없다. 분위기 잡고 예쁘게 잘 놀기는 최고다, 놀 때가지만, 휴식 및 서비스는 '매우 우캠쓰러움.'\n"
     ]
    },
    {
     "name": "stderr",
     "output_type": "stream",
     "text": [
      "\r 24%|██▍       | 408/1689 [51:30<2:24:18,  6.76s/it]"
     ]
    },
    {
     "name": "stdout",
     "output_type": "stream",
     "text": [
      "408 : 부국제 때문에 예약했는데 청결하고 위치가 좋습니다.\n"
     ]
    },
    {
     "name": "stderr",
     "output_type": "stream",
     "text": [
      "\r 24%|██▍       | 409/1689 [51:35<2:07:41,  5.99s/it]"
     ]
    },
    {
     "name": "stdout",
     "output_type": "stream",
     "text": [
      "409 : 2월에 오고 괜찮아서 다시 왔는데, 6월부터 조식이 없다고 하네요. 바다도 멀지 않고(10분 정도) 근처 식당도 많아서 좋은데 조식이 없어져서 너무 아쉬워요.ㅜ\n"
     ]
    },
    {
     "name": "stderr",
     "output_type": "stream",
     "text": [
      "\r 24%|██▍       | 410/1689 [51:39<1:59:27,  5.60s/it]"
     ]
    },
    {
     "name": "stdout",
     "output_type": "stream",
     "text": [
      "410 : 가능한 고객이 소리에 귀 기름려 주셔서 감사합니다. 조금 아쉬운 점은 장애인이 사용하는 객실에 헤드폰이 잘 들어오지 않거나 전경이 막혀 있는 것이 많이 아쉽네요. 직원분들의 친절함에 감사합니다.\n"
     ]
    },
    {
     "name": "stderr",
     "output_type": "stream",
     "text": [
      "\r 24%|██▍       | 411/1689 [51:49<2:25:34,  6.83s/it]"
     ]
    },
    {
     "name": "stdout",
     "output_type": "stream",
     "text": [
      "411 : 모텔인지 호텔인지 주차장 들어가는 기른 손바닥 너비만 하고 객실은 사진을 잘 찍은 건지 아니면 코시원도 아니고 코딱지만 하고 대실 손님을 받은 건지 겨우 앞에 남자 머리깔락 같은 게 청소도 덜 되어 있고 침구는 건조가 되지 않아 눅눅하고 객실이 습해서 샤워를 해도 몸이 끈적거림. 완전 비추천이니... 가지 마세요... 그렇다고 동네 모텔가 받는 것도 아니면서 비싼 돈 받고 돈 벌려고만 하지 관리 안 되는 집임.\n"
     ]
    },
    {
     "name": "stderr",
     "output_type": "stream",
     "text": [
      "\r 24%|██▍       | 412/1689 [52:14<4:23:33, 12.38s/it]"
     ]
    },
    {
     "name": "stdout",
     "output_type": "stream",
     "text": [
      "412 : 2박 3일 잘 쉬었다 갑니다만, 몇 가지 아쉬운 점을 적습니다.   1. 3시부터 입실인데 5시 조금 넘게 체크인하니 청소가 아직 안 되어 20여 분을 복도에서 기다려 들어갔습니다.  2. 호실 4층에 승강기가 없어 등산 아닌 등산을 했습니다.  3. 내부 출입문이 바닥에 닦아 여닫을 때마다 드륵드륵드륵 소리를 들어야 했습니다.  4. 에어컨 필터에 먼지가 2년치 정도 쌓여 있고 통파리 두 마리가 시체로 떨어져 나와 필터 세척하고 에어컨 세척하느라 40분 노가다 했습니다. 복도에 공용 에어컨 벽거리가 있어 여려보지는 않고 바람 나오는 입구를 보았으나 먼지에 곰팡이가 많습니다.  5. 벽은 누수 자국으로 얼룩덜룩하나 습한 냄새는 없었습니다. 외국 여자분이 청소하시길래 여쭤보니 혼자 4개 층 50여 개 방을 다 청소한다고 하니… 고석정 바로 앞이라 잡리는 뭐당인데 좀 청결에 신경을 썼으면 합니다. 외부 숙소에 여름철 다닐 때는 꼭 에어컨 커버 여러 사버보세요. 10이면 8은 대실망에 환불 요구하는 수준일 겁니다. 사진까지 보시면 너무 실망하실까 봐 생략하겠습니다.\n"
     ]
    },
    {
     "name": "stderr",
     "output_type": "stream",
     "text": [
      "\r 24%|██▍       | 413/1689 [52:15<3:10:27,  8.96s/it]"
     ]
    },
    {
     "name": "stdout",
     "output_type": "stream",
     "text": [
      "413 : 여기가 황당 맛집이라는 곳인가?\n"
     ]
    },
    {
     "name": "stderr",
     "output_type": "stream",
     "text": [
      "\r 25%|██▍       | 414/1689 [52:22<2:57:12,  8.34s/it]"
     ]
    },
    {
     "name": "stdout",
     "output_type": "stream",
     "text": [
      "414 : 뷰가 (바다가 보이는 오션뷰만큼은 아니지만 그래도 충분히) 아름답고 호텔도 깔끔하며 럭셔리한 느낌이 많이 나서 좋은 곳입니다. 꼭대기 층 카페 겸 바에서 저녁에 커피 호끈 간단한 칵테일 한 잔 하면서 보는 뷰도 멋집니다. 가성비도 비슷한 급의 호텔들에 비해 무난한 편인 것 같습니다.\n"
     ]
    },
    {
     "name": "stderr",
     "output_type": "stream",
     "text": [
      "\r 25%|██▍       | 415/1689 [52:26<2:31:22,  7.13s/it]"
     ]
    },
    {
     "name": "stdout",
     "output_type": "stream",
     "text": [
      "415 : 방 입구 등이 고장이 났는지 꺼지지 않아 너무 밝아서 잠도 제대로 못 잤어요. 프론트를 확인하니 아침에 엔지니어가 와서 고치기로 해달는데, 고장이 났는데도 방을 배정한 건지 참.\n"
     ]
    },
    {
     "name": "stderr",
     "output_type": "stream",
     "text": [
      "\r 25%|██▍       | 416/1689 [52:33<2:26:37,  6.91s/it]"
     ]
    },
    {
     "name": "stdout",
     "output_type": "stream",
     "text": [
      "416 : 신축이라 시설이 완전히 깨끗하고 좋아요. 특히 침대랑 이불은 호텔급으로 너무 포근해서 잠도 잘 와요. 옥상 루프탑의 전망이 끝내줍니다~ 4인 가족이라 침대만 있으면 불편한데 로얄 스위트에서 이불도 넉넉하게 깔고 편하게 지내다 왔어요♡\n"
     ]
    },
    {
     "name": "stderr",
     "output_type": "stream",
     "text": [
      "\r 25%|██▍       | 417/1689 [52:37<2:06:12,  5.95s/it]"
     ]
    },
    {
     "name": "stdout",
     "output_type": "stream",
     "text": [
      "417 : 가본 호텔 중에 역대급으로 시설이 좋았어요! 날씨가 비갈 많이 와서 오드 풀을 제대로 즐기지 못한 것은 아쉽지만 정말 잘 지내왔습니다 ㅎㅎ\n"
     ]
    },
    {
     "name": "stderr",
     "output_type": "stream",
     "text": [
      "\r 25%|██▍       | 418/1689 [52:57<3:41:13, 10.44s/it]"
     ]
    },
    {
     "name": "stdout",
     "output_type": "stream",
     "text": [
      "418 : 청소하시는 분이 마스터키로 문을 열고 들어온 게 벌써 두 번째입니다. 한 고객에게 두 번이나 같은 일이 일어나다니 평소에도 이런 일이 자주 일어날 거란 생각하게 안 되네요. 예전에 처음 이런 일을 겪었을 땐 청소하는 분이 들어와서 누가 마중처고 프론트에 직접 전화를 걸어 사과를 받았습니다. 있었서는 안 될 일이지만 실수란 생각하고 넘어갔으면 이런 일이 재발하지 않도록 조치를 취했어야죠. 이번엔 문 닫고 나가는 소리가 들려서 옆방 문소리인지 우리 방 문소리인지 직접 여닫으며 한참을 확인하고 있으니, 그제서야 전화와서 청소해야 하는 방인 줄 알고 잘못 들어갔다고 사과하시네요. 퇴실 시간이 다 된 것도 아니고 입실한 지 한 시간도 안 됐는데 청소해야 하는 객실인지 알았다니요? 잠시 외출하고 온 뒤 얼마 지나지 않아 마스터키로 문을 열고 들어오시던데 일부러 자리를 비운 뒤에 들어오는 건가 싶기도 합니다. 덴바스타 정도면 큰 체인점인데 도대체 시스템이 어떻게 돼 있는지 고객이 있는지 없는지 확인도 못 하고 문을 벌컥 열고 들어올 수가 있는지, 실수다 죄송하다 하면 다 끝날 일이인지 너무 황당합니다.\n"
     ]
    },
    {
     "name": "stderr",
     "output_type": "stream",
     "text": [
      "\r 25%|██▍       | 419/1689 [53:00<2:53:16,  8.19s/it]"
     ]
    },
    {
     "name": "stdout",
     "output_type": "stream",
     "text": [
      "419 : 입구 문터게 들어갈 때 나올 때 두 번 걸려 넘어졌어요. 데기 잘 안 보여요. 조심하세요. 뷰는 좋았어요.\n"
     ]
    },
    {
     "name": "stderr",
     "output_type": "stream",
     "text": [
      "\r 25%|██▍       | 420/1689 [53:13<3:19:45,  9.45s/it]"
     ]
    },
    {
     "name": "stdout",
     "output_type": "stream",
     "text": [
      "420 : 시설, 어메니티, 청결, 친절 모두 만족스러워요. 보물 찾기도 감동이에요. 엘리베이터 뒷수고장 컨셉이라 탈 때마다 쥴쥬게 돼요. 평일이라 석식 뷔페는 사람 별로 없었고, 조식 뷔페는 사람 많긴 했지만 괜찮았어요. 파크 안과 주변에 식당이 별로 없어서 조식과 석식을 이용했는데 가격 대비 괜찮았어요. 호텔과 파크에서 어른 2명이 동시무로 돌아간 것 같았어요. 얼리 때 인기에 못 온 게 한수러울 정도예요. 아이들에게는 천국일 것 같아요. 할인 가격이라면 매년 오고 싶어요.\n"
     ]
    },
    {
     "name": "stderr",
     "output_type": "stream",
     "text": [
      "\r 25%|██▍       | 421/1689 [53:15<2:32:44,  7.23s/it]"
     ]
    },
    {
     "name": "stdout",
     "output_type": "stream",
     "text": [
      "421 : 장점: 호텔이 아니고 레지던스다.   단점: 호텔이 아니고 레지던스다.\n"
     ]
    },
    {
     "name": "stderr",
     "output_type": "stream",
     "text": [
      "\r 25%|██▍       | 422/1689 [53:22<2:33:29,  7.27s/it]"
     ]
    },
    {
     "name": "stdout",
     "output_type": "stream",
     "text": [
      "422 : 우면서 친절한 사람 두 명은 다 요구하는 대로 들어주시지만, 물보정으로 친절합니다. 방 컨디션은 최고이고, 집에 올 때 대기 타는 택시 타지 마세요. 호텔 앞에서 기다려서 그런지 먼 곳 손님을 기다렸던 것 같은데, 가까운데 까다라고 하면 퉁명스럽고 되물으시며 프레이크를 계속 발아서 가격이 부풀려집니다.\n"
     ]
    },
    {
     "name": "stderr",
     "output_type": "stream",
     "text": [
      "\r 25%|██▌       | 423/1689 [53:28<2:23:42,  6.81s/it]"
     ]
    },
    {
     "name": "stdout",
     "output_type": "stream",
     "text": [
      "423 : 너무 더럽습니다. 악취가 하루 종일 나고, 양치거스에 얼룩이 있고, 커튼에 먼지가 가득 나 있습니다. 불쾌했어요. 불친절하고, 일회용품도 샴푸, 비누, 일회용품도 하나도 없어 모텔이 훨씬 나을 것 같아요.\n"
     ]
    },
    {
     "name": "stderr",
     "output_type": "stream",
     "text": [
      "\r 25%|██▌       | 424/1689 [53:32<2:05:25,  5.95s/it]"
     ]
    },
    {
     "name": "stdout",
     "output_type": "stream",
     "text": [
      "424 : 키즈 펜션인데 아기 장난감이 너무 더러워요... 홈페이지 사진과 구성도 다르고 겉으로 보기만 비슷합니다. 소소하게 양념장 안 챙겨가도 되는 건 괜찮네요~\n"
     ]
    },
    {
     "name": "stderr",
     "output_type": "stream",
     "text": [
      "\r 25%|██▌       | 425/1689 [53:37<2:00:13,  5.71s/it]"
     ]
    },
    {
     "name": "stdout",
     "output_type": "stream",
     "text": [
      "425 : 시설 깨끗하고 위치 좋아요. 무엇보다 스타일러!! 이 호텔에서 묵는 것은 먼저 준비생들에게 최고위 선택입니다. 또 전기장판도 있어서 따끈따끈하게 잘 수 있어요 ㅎㅎ 원주에 또 가게 되면 여기서 묵을 의향이 있어요!!\n"
     ]
    },
    {
     "name": "stderr",
     "output_type": "stream",
     "text": [
      "\r 25%|██▌       | 426/1689 [54:47<8:44:00, 24.89s/it]"
     ]
    },
    {
     "name": "stdout",
     "output_type": "stream",
     "text": [
      "426 : 일단 비즈니스급 호텔이지 별 4개는 과한 것 같습니다. 침구류와 객실이 개장 안 되어 물끈 먼지가 없는 점은 괜찮지만, 완강이 안내가 눈에 확 들어오지 않는 것, 창문 프레임 고정 못이 이미 녹슨 건지 금릿스 영향인지, 녹이 나 보이는 점은 객실 내 바로 눈에 띄는 마이너스 요소이고, 검은 암막이 답답하게 만드네요. 벽 색상과 맞춰 어두운 블루 톤으로 해도 괜찮았을 텐데. 화장실은 쾌적하고, 다행히 제 객실은 역류나 냄새가 없었어요. 다만, 고층으로 요청했는데, 13층 창밖 풍경은 남산타워 보이는 것과 열악교회 보이는 것 외엔 별로였습니다. 층에서 1번대 방향은 다 같을 테니, 참조하세요. 화장품 어메니티는 핸드크림만 있으니 꼭 뭔가 챙겨와야 하고요. 핸드타올인 양 노후 그 수건, 원래 서양에서는 비데용 타올 아닌가요? 한국은 다르게 쓰는 건가요? 여기에 한국인만 묵는 것도 아니고, 더군다나 외국에 호텔이 그 점을 모르 리도 없는데... 한국을 무시하는 첫사인가요? 로고도 좋지만, 용도를 차라리 흰색 줄 수 있는 이름을 넣어두는 게 오해를 막을 것 같습니다. 수건 걸이가 화장실에 샤워실 문고리 외에 없다는 안타까움에 별 하나 깎고요. 조식은 투숙객에게 12천 원대에 파는데, 네... 그러면 차라리 전날 롯데에서 파는 연어 샐러드 할인을 사드었다 먹겠어요. 많이는 투숙객은 맛도 모르는 사람들이죠. 지너 & 뷰모 구성인데요, 아침 빵 종류는 기본도 안 되어 있어요. 모닝빵은 어제 쓴 거 냉장고에 넣었다가 다시 찐 모양에 혹은 부엌서 스팀했는지, 서로 붙여놓은 걸 떼어놔서 껍질 벗겨져 있어서 보기엔 흉했고요. 베이크류는 다 마르게 열심히 반으로 갈라놨더라구요. 기계도 많은데, 손님 보고 알아서 차라서 구울라 해요. 코로나 시대에, 일하는 사람들의 기침이 묻었는지 찜인 뛰어는 질 수도 없이 몰투 나란히 펼쳐 놓은 것은 무슨 의도인지, 당황스러웠습니다. 또, 아시아식 음식은 하나도 맛이 없었어요. 많이는 맛이 없어서 아무도 안 가져다 먹고, 가져다는 건 새우 들어간 것만 다들 찝어서, 두어 명 찝어가면 ㅋㅋㅋ 닭갈 국수는 가는 국수에 가늘 너무 세게 해서... 먹을 수가 없어요. 차올 차... 두부 요리는 정체가? 차라리 두 개를 분리고 제대로 닦아 넣어 포근 퀘이티아오를 말려하든가, 쌀국수가 있으니 그냥 다 버리고 동남아 튀긴 어묵을 차라리 고수, 살려 튀김이라 먹으라 내놓든가. 댕 실망입니다. 한국 호텔인데 떡도 없었고, 시계 정돈은 충분히 수려시로, 오마자 처리 같은 걸 냉어도 되는데... 이건 별 세 개 이터리 관광 호텔보다 못했습니다. 그냥 저냥 딱 보기하고 선양식 메뉴는 먹을 만 했는데, 그나마 쌀국수와 애구 스테이선 때문에 미국식 핫케이크가 없어요. 그냥 애매한 서양식 묵은본 조식입니다. 또, 아무리 사람이 많아도 빈 점시는 안 치우고, 친절은 얼굴만 친절하고 서비스 매뉴얼을 제대로 안 만든 것 같습니다. 그래서 별 하나 더 뺍니다. 저 카드면 이런 호텔을 별 네 개라고 카이드 안 할 것 같아요. 여너와 치즈 빼곤 맛이 없고 잣드, 폭수아도 비싼 과일인가요? 사관 바나나 참예... 라니!\n"
     ]
    },
    {
     "name": "stderr",
     "output_type": "stream",
     "text": [
      "\r 25%|██▌       | 427/1689 [54:49<6:23:30, 18.23s/it]"
     ]
    },
    {
     "name": "stdout",
     "output_type": "stream",
     "text": [
      "427 : 모텔을 떠 고진 건데, 뭐가 좋다는 거예요? 다들 돗대제 리뷰 좀 똑바로 쓰세요ㅎㅎ\n"
     ]
    },
    {
     "name": "stderr",
     "output_type": "stream",
     "text": [
      "\r 25%|██▌       | 428/1689 [54:51<4:38:02, 13.23s/it]"
     ]
    },
    {
     "name": "stdout",
     "output_type": "stream",
     "text": [
      "428 : 낚시가 가능하면 정말 대박인데... 힐링 캠핑장\n"
     ]
    },
    {
     "name": "stderr",
     "output_type": "stream",
     "text": [
      "\r 25%|██▌       | 429/1689 [55:00<4:11:49, 11.99s/it]"
     ]
    },
    {
     "name": "stdout",
     "output_type": "stream",
     "text": [
      "429 : 부산 출장 와서 3박 묵었는데 아주 만족스러웠어요. 객실은 아주 작지만 혼자 머물기에는 오히려 더 좋았습니다. 아주 깨끗하게 잘 관리되어 있고, 필요한 비품이나 시설이 완벽하게 구비되어 있어서 불편한 점 없습니다. 가격도 저렴하면서 조식 제공도 되어서 맘에 들었습니다. 한 가지 아쉬운 점은 주차입니다. 주차비가 하루 5천 원, 그리고 주차장 들어갈 때마다 차에서 내려서 인터폰을 사용해야 하는 게 불편했어요.\n"
     ]
    },
    {
     "name": "stderr",
     "output_type": "stream",
     "text": [
      "\r 25%|██▌       | 430/1689 [55:42<7:21:49, 21.06s/it]"
     ]
    },
    {
     "name": "stdout",
     "output_type": "stream",
     "text": [
      "430 : 공익을 위해서 작성합니다. 이 호텔은 최악입니다. 세계적으로 많은 최악의 호텔들이 있는데, 트래블로지 동대문도 그 리스트에 당당하게 한 자리를 차지합니다. 그것도 매우 상위권입니다. 죽할! 심지어 배트로 후기를 남기면 무려 이 호텔 지배인에게 전화가 와서 자기 특이 관절될 때까지 지 주장만 주장 넣어놓고 선생님 호통지를 당합니다. 저는 대략 4시간 48분 정도 고문당했습니다. 끔찍하죠? 광적인 집착 중심 오작이네요...! 직원들이 인성이 바닥과 대등한 태도를 가진 싸우꾼 무리에서 특발된 듯한 허세, 기싸움 거킹, 진짜로 소리지르고 난동 불리기 스킬은 지배인에게 배웠는지 정말 똑같아요. 역시 보고 배운 게 그 수준이니까요! 이 잘못한 직원에게 이게 아니다 라고 말해보세요. 감히 손님 주제에 자기 잘못을 말한다며 분노 조절이 안 되는 \"니도 그랬잖아요!!!!!!!!!!!!!!!\" 배앤애애액 비명을 들을 수 있습니다. 음, 아니 제가 뭐요? 제가 여기 직원이에요? 잘못한 거 지적당하니까 손님 머리채 잡고 유지하게 싸우 권는 수준하고^^ 왜 제가 호텔 직원이랑 똑같아요ㅋㅋ 뭐가 똑같든지 물어봐도 한마디 이 평구도 하고 분해서 부들거리더만요ㅜㅜ 인생이 하는 직장이 고객에게 뷰는 것이 아닙니다. 아, 그분은 Choi 아랑이라는 명자를 달고 있더군요? 솔직히 넷플릭스 드라마에서 보던 배경진 생각났어요ㅎㅎ 아, 무서워 그런데 이렇게 쓴 후기를 못 자마서 삭제하셨네요? 좋아요, 순도 좀 됐었는데... 욕 쳐먹는 건 부들부들 미치고 돌아버릴 것 같으신가 봅니다? 근데 왜 대도는 욕 쳐먹지 않으면 이상할 행동만 골라서 하냐고ㅋ 그리고 집착적인 늙은 지배인 남자분, 기금멍이 작고 입금멍만 끌신지 남 말은 전혀 안 듣고 끈헤먹고 자기 말만 4시간 내내 늘어놓고 우기기밖에 할 줄 아는 게 없으시던데요. 상대랑 대화할 때의 예의 자체를 그 날이 먹도록 평생 도움 못 받으신 모양인데, 예의 정도는 좀 다시 배우시죠? 배움에 나인은 없으니까요.\n"
     ]
    },
    {
     "name": "stderr",
     "output_type": "stream",
     "text": [
      "\r 26%|██▌       | 431/1689 [55:49<5:49:44, 16.68s/it]"
     ]
    },
    {
     "name": "stdout",
     "output_type": "stream",
     "text": [
      "431 : 예약 누락으로 쫓겨남. 진짜 어디 여행 가서 이런 식으로 쫓겨나긴 처음이고, 엄청 충격받음. 딱히 내 과실도 아니었고, 예약 대행 업체와 있었던 문제였는데, 생각해보니 여기서는 지금까지 사과 한 마디도 없었고 ㅋㅋ. 다신 안 갈 거라 매모 차원으로 리뷰 남김.\n"
     ]
    },
    {
     "name": "stderr",
     "output_type": "stream",
     "text": [
      "\r 26%|██▌       | 432/1689 [55:50<4:11:08, 11.99s/it]"
     ]
    },
    {
     "name": "stdout",
     "output_type": "stream",
     "text": [
      "432 : 좋아요, 담에도 숙시하고 싶어요.\n"
     ]
    },
    {
     "name": "stderr",
     "output_type": "stream",
     "text": [
      "\r 26%|██▌       | 433/1689 [55:52<3:07:21,  8.95s/it]"
     ]
    },
    {
     "name": "stdout",
     "output_type": "stream",
     "text": [
      "433 : 도심지 최고의 뷰와 경관을 볼수한 호텔. 가격과 모든 면에서 만족\n"
     ]
    },
    {
     "name": "stderr",
     "output_type": "stream",
     "text": [
      "\r 26%|██▌       | 434/1689 [56:37<6:55:08, 19.85s/it]"
     ]
    },
    {
     "name": "stdout",
     "output_type": "stream",
     "text": [
      "434 : 후기 안 읽고 쓴 내 자신을 때리고 싶어짐. 직원들 불친절 아니고 그냥 기본적인 마인드가 안 되어 있음. 조식 7시라서 아침 일정이 있어 6시 55분에 미리 올라감. 도착하니 6시 57분인데 사람들 가득하고 입구에서 안경 쓴 남자 직원이 막아서. 자리 없다 함. 그래서 물어보니 단체 손님이 많아서 임의로 6시인가 6시 반에 오픈했다고 함. 그러나 나는 전날 체크인할 때 시간 물어봤을 때 분명 7시라고 했음. 결국 줄 서서 기다리다가 들어감. 이미 망한 수게즘, 밥 먹고 카운터 가서 물어봄. 얼리버리한 직원이 이런 얘기를 전해 듣고는 답변하려는데 옆에 매니저인 듯한 여자가 갑자기 끼어듦. 단체 손님 있으니 편의상 오픈 했고 유동적이다 함. 그래서 전날 체크인할 때 안내 못 받았다 했더니 편의상 오프니 안내 안 한 거라고 함. 그 어떤 말을 해도 발짱 끼고 계속 저 말만 반복함ㅋㅋ 단체 손님의 편의는 중요하지만 다른 투숙객의 편의는 Ddong으로 봄. 일행이 신라호텔 직원이었는데 그 때도 보고 말 안 통한다고 그냥 올라옴. 아, 우리 뒤에는 애기들 데리고 비행기 타야 한다고 발동통 했는데 여기 직원들은 그냥 단체 손님이 우선임. 중국 단체 아니었음 한국인 단체였음. 일행이 4성급인 거 알고 경악하면서 보통 이런 상황에서 불편을 느껴 죄송합니다가 먼저 나와야 한다고 함. 그러나 나는 조식 레스토랑의 남직원에게도 프론트의 여 매니저한테도 죄송하다는 소리 못 들음. 우리는 편의상 그런 거니 너네가 이해해라는 태도로 발짱 끼고 얘기함ㅋㅋ 이럴 거면 4성급이라는 타이틀 버려쓰면 좋겠음. 솔직히 대표 인성이 궁금해짐. 인싸티 인성도 궁금해짐. 도대체 어떤 거 보고 기본적인 마인드가 안 되는 이런 직원들을 봤을까 궁금함. 웬 나도 나 편의를 위해서 식사도 내 말음대로 하고 체크인도 체크아웃도 내 마음대로 해주지? 단체 손님 편의는 매우 중요하면서 돈 제대로 지불하고 숙박하고 식사하는 투숙객의 편이는 어반거머거나? 기본적인 서비스 마인드도 없으면서 4성급이라는 타이틀 달고 있는 거 부끄럽지 않나요? 진짜 리뷰 제대로 안 본 내 자신한테 화나네요 ㅡㅡ\n"
     ]
    },
    {
     "name": "stderr",
     "output_type": "stream",
     "text": [
      "\r 26%|██▌       | 435/1689 [57:06<7:55:26, 22.75s/it]"
     ]
    },
    {
     "name": "stdout",
     "output_type": "stream",
     "text": [
      "435 : 가족 모임이 있어서 시티뷰 50평 시그니엘을 이용했는데, 돈을 부르는 만큼 값어치 하는 레지던스입니다. 아래 댓글처럼 넓고 높고 고급져서 대만족입니다. 뷰, 실내 구성, 방음 등등 무엇 하나 거론할 것이 없습니다. 비밀번호 줄이거나 QR 치는 것도 처음이라 불편했는데, 한 1박 지나면 익수게집니다. 기타 모르는 부분은 보안 담당 요원 분들이 24시간 상주하고 있기 때문에 데스크에 물어보거나 고객 센터에 전화나 직접로 문의하면 친절하게 바로바로 알려줍니다. 1층에 CU 편의점이 있고 나머지는 시내로 나가야 합니다만, 오히려 주변이 북적거리지 않아 저희는 한결 여유롭게 이용할 수 있어 좋았습니다. 협성 마리나가 위치한 대로변으로 들어오면 일단 돌아다니는 차나 인파가 거의 없는데, 자차가 있다면 이 점이 더 나으실 듯 합니다. 워낙 엄청 크고 넓다 보니 데크로 도보 출입하며 숙박할 레지던스는 아니고 자차나 렌트가 있어야 수월하고 좋습니다. 그리고 차량을 끌고 이동해 봐야 여차비 부산역이든 남포동 서면이든 고작 몇 분 거리지도 않아서요. 그쪽 가서 식사 해결하고 아주 포장하고 편의점에서 주류 사다가 에어컨 틀어놓고 야밤에 홈파티를 열면 그야말로 극락이 따로 없습니다. 오션뷰 50평이 이미 매진이라 시티뷰를 예약한 건데, 고층 배정받으면 뷰 차이는 크게 없는 듯합니다. 어쨌든 기회가 되면 연말에도 이용하고 싶네요.\n"
     ]
    },
    {
     "name": "stderr",
     "output_type": "stream",
     "text": [
      "\r 26%|██▌       | 436/1689 [57:08<5:44:20, 16.49s/it]"
     ]
    },
    {
     "name": "stdout",
     "output_type": "stream",
     "text": [
      "436 : 프론트 직원도 친절하고 청소하시는 분들도 젠틀하게 인사하네요.\n"
     ]
    },
    {
     "name": "stderr",
     "output_type": "stream",
     "text": [
      "\r 26%|██▌       | 437/1689 [57:10<4:11:41, 12.06s/it]"
     ]
    },
    {
     "name": "stdout",
     "output_type": "stream",
     "text": [
      "437 : 좋아요. 가볼 만함  (사실 좁음) (항상 업데이트)\n"
     ]
    },
    {
     "name": "stderr",
     "output_type": "stream",
     "text": [
      "\r 26%|██▌       | 438/1689 [57:12<3:11:04,  9.16s/it]"
     ]
    },
    {
     "name": "stdout",
     "output_type": "stream",
     "text": [
      "438 : 객실은 시티뷰라 아쉬웠지만 멋진 해운대를 바라보며 아리아에서 조식은 넘나 좋았어요.\n"
     ]
    },
    {
     "name": "stderr",
     "output_type": "stream",
     "text": [
      "\r 26%|██▌       | 439/1689 [57:16<2:35:06,  7.44s/it]"
     ]
    },
    {
     "name": "stdout",
     "output_type": "stream",
     "text": [
      "439 : 깔끔하고 어메니티도 좋은 편인데 환기가 절대 불가합니다. 환기가 따로 안 되고 룸에 창문이 없어서 음식이라도 먹으면 다음 날까지 냄새가 남습니다.\n"
     ]
    },
    {
     "name": "stderr",
     "output_type": "stream",
     "text": [
      "\r 26%|██▌       | 440/1689 [57:20<2:11:49,  6.33s/it]"
     ]
    },
    {
     "name": "stdout",
     "output_type": "stream",
     "text": [
      "440 : 몇 년 전에 투숙했는데, 키 작은 아내는 침대를 너무 쓸 수 없어서 밀어주고, 방음은 완전히 무시했는지 옆방에서 난리나고 떠들거리는 소리에 잠도 못 자고...\n"
     ]
    },
    {
     "name": "stderr",
     "output_type": "stream",
     "text": [
      "\r 26%|██▌       | 441/1689 [57:22<1:48:49,  5.23s/it]"
     ]
    },
    {
     "name": "stdout",
     "output_type": "stream",
     "text": [
      "441 : 너무 깔끔하고 좋습니다! 평창이랑 공기도 좋고 사장님도 너무 친절하세요! 재방문 예정입니다~~\n"
     ]
    },
    {
     "name": "stderr",
     "output_type": "stream",
     "text": [
      "\r 26%|██▌       | 442/1689 [57:38<2:52:05,  8.28s/it]"
     ]
    },
    {
     "name": "stdout",
     "output_type": "stream",
     "text": [
      "442 : 여기 수영장 가면 길이 헷갈리게 되어 있는데, 밝아지고 있으면 수영장 직전 샤워실에 여자들이 자꾸 들어온다. 결국로 된 상황이었으면 큰일났겠죠? 한 번 수영하고 나니까 두 명이 내 알몸을 본 상황이다. 볼 게 있든 없든 기분 더러운 건 맞는 거고. 앞에 써 있는 규칙 보지도 않고 들어온 여자들이랑 이렇게 복잡한 걸 감안하고도 동선 보시 각도성을 떨어뜨리게 해놓은 호텔 자체도 짜증이 일만점만이 아니다. 정화기 22년 7월 21일 9시 57분에 일어난 일이고, 남자 라이프가드 분도 오셔서 목욕하고 나한테 사과했던 일이다. 와중에 내 알몸을 몇 초간 쳐다본 아줌마는 아예 가드한테 깜짝 놀랐다고 하더라. 놀란 건 절대 말이죠.\n"
     ]
    },
    {
     "name": "stderr",
     "output_type": "stream",
     "text": [
      "\r 26%|██▌       | 443/1689 [57:42<2:27:13,  7.09s/it]"
     ]
    },
    {
     "name": "stdout",
     "output_type": "stream",
     "text": [
      "443 : 늦은 시간에 체크인했는데 너무 친절하게 대해주셔서 좋았어요!! 요청 사항도 다 들어주시고, 특히 아침 뷰가 너무 예뻤어요 ㅎㅎ 다음에도 방문할 예정입니다~~\n"
     ]
    },
    {
     "name": "stderr",
     "output_type": "stream",
     "text": [
      "\r 26%|██▋       | 444/1689 [57:43<1:51:17,  5.36s/it]"
     ]
    },
    {
     "name": "stdout",
     "output_type": "stream",
     "text": [
      "444 : 주차가 불편하지만 신라만의 서비스가 좋아 종종 갑니다.\n"
     ]
    },
    {
     "name": "stderr",
     "output_type": "stream",
     "text": [
      "\r 26%|██▋       | 445/1689 [57:44<1:25:13,  4.11s/it]"
     ]
    },
    {
     "name": "stdout",
     "output_type": "stream",
     "text": [
      "445 : 주차가 진짜 불편, 그거 빼고는 좋음.\n"
     ]
    },
    {
     "name": "stderr",
     "output_type": "stream",
     "text": [
      "\r 26%|██▋       | 446/1689 [57:47<1:14:48,  3.61s/it]"
     ]
    },
    {
     "name": "stdout",
     "output_type": "stream",
     "text": [
      "446 : 숙소에 신경을 많이 쓰신 게 느껴지네요. 이 가격이 모텔에 TV가 저렇게 큰 거 처음 봅니다..\n"
     ]
    },
    {
     "name": "stderr",
     "output_type": "stream",
     "text": [
      "\r 26%|██▋       | 447/1689 [57:55<1:43:24,  5.00s/it]"
     ]
    },
    {
     "name": "stdout",
     "output_type": "stream",
     "text": [
      "447 : 반요라마 뷰, 104동 1101호는 미라지 가구 뷰입니다. 평이 9만 원 대로 주차도 편하고, 1층에는 브런치 맛집도 있대요. 전 못 가서 아쉽네요. 집기나 세제들도 좋아서 조용히 쉬다 갑니다. 저희는 둘이라 방 하나, 욕실 하나는 아예 안 썼어요. 냉장고와 냉동고가 엄청 큽니다.\n"
     ]
    },
    {
     "name": "stderr",
     "output_type": "stream",
     "text": [
      "\r 27%|██▋       | 448/1689 [58:02<1:54:47,  5.55s/it]"
     ]
    },
    {
     "name": "stdout",
     "output_type": "stream",
     "text": [
      "448 : 새해 첫날을 여기서 일출 보며 시작해서 너무 행복하네요~ 광안리 바다뷰는 진짜 여기가 최고입니다^^ 프론트 직원분들도 너무 친절하시고, 화장실과 샤워실도 깨끗해요! 캡슐룸을 잡았는데도 생각보다 넓어서 혼자 지내기 충분했어요ㅎㅎ 다음에 또 오겠습니다.\n"
     ]
    },
    {
     "name": "stderr",
     "output_type": "stream",
     "text": [
      "\r 27%|██▋       | 449/1689 [58:05<1:41:40,  4.92s/it]"
     ]
    },
    {
     "name": "stdout",
     "output_type": "stream",
     "text": [
      "449 : 친절하고 아담하고, 깔끔해서 좋아요. 옥상 뷰도 좋고요. 개인적으로는 1층에서 옥상으로 가는 계단이 살짝 힘들었네요 ㅎ\n"
     ]
    },
    {
     "name": "stderr",
     "output_type": "stream",
     "text": [
      "\r 27%|██▋       | 450/1689 [58:27<3:22:20,  9.80s/it]"
     ]
    },
    {
     "name": "stdout",
     "output_type": "stream",
     "text": [
      "450 : PC를 이용해야 하는데 마우스간 작동을 안 해서 카운터 직원에게 좀 봐달라고 하니 알겠다고 해서 계속 기다렸는데 오지 않음... 청소부를 통해서 겨우 사장님한테 연락하니 방에 왔서는 주말 저녁이고 한창 손님들이 입실할 시간이라 지금 빠져달며 그래도 나름 일인저리 손보시는 것 같던데 안 되니까 이대로 그냥 좀 사용하면 안 되겠냐고 하심... 지금 들어오는 사람들만 손님인가요... 우리는 이미 입실했으니 손님도 아닌가봐요. 방을 바꿔달라니 방이 다 차서 바꿔줄 방이 없다는데 아직 입실하지 않은 예약 손님들 방 중에서 바꿔주면 될 것을 그런 웃도리도 없는 곳입니다. 우리는 돈을 지불하고 숙박하고 있는데 방의 하자에 대해서는 연휴라 수리 기사가 지금 못 온다, 그냥 하룻밤 PC 사용 안 하면 안 되겠냐는 식으로 열렬등등 너먹가려고 하는 데도에 화가 납니다. PC는 방에 기본으로 있는 것이고 그게 고장이면 방에 하자가 있다는 건데 충분히 환불받고 나갈 만한 상황이었지만 둘 다 피곤해서 그냥 넘어갔습니다. 고객 응대 태도가 매우 별로인 곳입니다.\n"
     ]
    },
    {
     "name": "stderr",
     "output_type": "stream",
     "text": [
      "\r 27%|██▋       | 451/1689 [58:29<2:35:26,  7.53s/it]"
     ]
    },
    {
     "name": "stdout",
     "output_type": "stream",
     "text": [
      "451 : 아이가 수영장을 너무 좋아했어요. 레이트 체크아웃 하고 여유롭게 수영 한번 더 하고 나왔네요.\n"
     ]
    },
    {
     "name": "stderr",
     "output_type": "stream",
     "text": [
      "\r 27%|██▋       | 452/1689 [58:38<2:43:41,  7.94s/it]"
     ]
    },
    {
     "name": "stdout",
     "output_type": "stream",
     "text": [
      "452 : 리모델링은 안 되었고, 딱 90년대 코도 느낌이에요. 경치는 보이는 게 없어요. 지하 시설도 한 곳도 열지 않아 내려가지 못하게 되어 있고, 지하 주차장 또한 서든가 내려져 있습니다. 직원분들은 친절하십니다. 싼 게 비지떡인지 모르겠지만, 주말에는 사람들이 좀 많네요. 주차장도 좁게 느껴질 만큼도. 주변 적산 온천은 추천합니다. 리조트 이용객은 할인받을 수 있어 그건 좋아요.\n"
     ]
    },
    {
     "name": "stderr",
     "output_type": "stream",
     "text": [
      "\r 27%|██▋       | 453/1689 [58:44<2:30:41,  7.32s/it]"
     ]
    },
    {
     "name": "stdout",
     "output_type": "stream",
     "text": [
      "453 : 도착하자마자 광안대교 뷰에 감탄했어요! 또 오고 싶은 예쁜 숙소입니다. 귀여보짜간 간식과 조식도 챙겨주셔서 감동이에요ㅎㅎ 숙소와 주차장이 거리가 좀 있어서 불편했던 것 빼곤 만족스럽습니다~!\n"
     ]
    },
    {
     "name": "stderr",
     "output_type": "stream",
     "text": [
      "\r 27%|██▋       | 454/1689 [58:45<1:51:16,  5.41s/it]"
     ]
    },
    {
     "name": "stdout",
     "output_type": "stream",
     "text": [
      "454 : 호텔에 심심한 엘도를 보합니다.\n"
     ]
    },
    {
     "name": "stderr",
     "output_type": "stream",
     "text": [
      "\r 27%|██▋       | 455/1689 [58:48<1:36:42,  4.70s/it]"
     ]
    },
    {
     "name": "stdout",
     "output_type": "stream",
     "text": [
      "455 : 해운대에서 가격도 좋고 해서 갔는데, 사장님이 친절하게 잘 대해주셔서 편하게 쉬다 갑니다. 다음에 또 들릴게요.\n"
     ]
    },
    {
     "name": "stderr",
     "output_type": "stream",
     "text": [
      "\r 27%|██▋       | 456/1689 [58:49<1:16:47,  3.74s/it]"
     ]
    },
    {
     "name": "stdout",
     "output_type": "stream",
     "text": [
      "456 : 사장님이 참 친절하시고 힐링하기에는 딱이에요^^\n"
     ]
    },
    {
     "name": "stderr",
     "output_type": "stream",
     "text": [
      "\r 27%|██▋       | 457/1689 [58:51<1:02:32,  3.05s/it]"
     ]
    },
    {
     "name": "stdout",
     "output_type": "stream",
     "text": [
      "457 : 뷰가 완전히 미친 곳!! 루프탑은 꼭 올라가 보세요.\n"
     ]
    },
    {
     "name": "stderr",
     "output_type": "stream",
     "text": [
      "\r 27%|██▋       | 458/1689 [58:52<53:50,  2.62s/it]  "
     ]
    },
    {
     "name": "stdout",
     "output_type": "stream",
     "text": [
      "458 : 놀이니 올라가길 경사가 높습니다. 잔치 음식은 맛있네요.\n"
     ]
    },
    {
     "name": "stderr",
     "output_type": "stream",
     "text": [
      "\r 27%|██▋       | 459/1689 [59:45<6:05:30, 17.83s/it]"
     ]
    },
    {
     "name": "stdout",
     "output_type": "stream",
     "text": [
      "459 : 좀 긴 글일 되었지만, 양양 낙산 인근의 숙소를 찾는 분께 도움이 되길 바랍니다.   - 2층 식당에서 자율 취사가 가능했습니다. (최대의 강점) (고기, 회 사와서 먹으면 좋을 것 같습니다. 실제론 몇 팀 드시더군요.) - 해변과 가까운나 건물과 소나무숲이 가려 동해 바다의 수평선과 일출을 보려면 조금은 걸어 나가는 것이 좋습니다. - 전체적인 시설은 노후되었지만 관리는 잘 하시는 편입니다. (입구와 주차장, 계단 등은 아쉽지만 한 겨울 객실 온도나 청결도, 침구는 나쁘지 않았습니다.) - 노후된 시설로 인해 방음이 잘 되지 않습니다. (인접한 방과 복도에서의 소리가 전달됩니다.) 옆 방에서 찍는 아동 소리 들는 것 좋아하시는 분, 강추. 미성년 자녀나 부모님 모시고 가는 것은 비추. 특별한 단점이나 장점이 존재하지는 않지만, 분위기 있는 시설의 세련된 객실과 야경이나 동해 바다의 뷰를 위한 숙소를 찾는다면 비추합니다. (싸긴 짐 얼마 안 되는 여자친구와의 여행이라면 빨리 이 장을 다두시시요.) 진짜 친구들과의 여행에서 경비를 아끼고 실속 있는 여행을 하고 싶다면 추천합니다. 가까운 곳에 편의 시설이 많은 곳을 찾는 분께도 추천합니다.   숙소 가격이 딱히 시설 대비 저렴하다고는 할 수 없으나, 필수 어메니티가 있는 객실에서 잠만 자겠다 하는 분께는 좋은 선택이 될 것 같습니다. 근처에 해변이 있고, 주위가 배려로 고기와 화, 술관 라면 등 실제룰 인근 회센터와 마트에서 사다가 싱크대와 테이블, 가위, 집게, 수저, 아젓시, 불판, 편녀, 냄비 등을 제공받아 널찍한 식당에서 먹을 수 있는 숙소는 흔치 않으니까요. 더구나 횟집, 고기집 등 식당과 노래방이 1분 거리에 있는 숙소라면 나름 경쟁력이 있다고 봅니다. 낙산 해수욕장 바로 앞이길 때문에 그 편의 시설을 모두 공유할 수 있죠.   여행에서의 숙소는 매우 중요한 부분 중 하나이지만 기준을 어디에 두는가에 따라 가지는 다를 수 있다고 봅니다. 먼저 다녀간 다른 사람의 별점만으로 평가할 수 없는 이유이기도 하고요. 주인분과 다른 분들 블로그에 있는 객실과 건물 사진, 뷰는 참고 정도로만 보세요. 하여간 제 생각에 별점은 3.5 정도가 적당하다고 봅니다. 앞으로 말쓰트린 최고의 강점이라 말쓰트린 2층 식당의 이용 가능 없부가 제개는 재방문 여부의 기준입니다. 주인이 혈락가에 남일 눈치 안 보고 쓸 수 있는 넒살과 함께하는 일행들이 있다면 쓸지 않을 이유가 없습니다. 만일 해당 공간의 사용이 불가하다면 굳이 다시 갈 것 같지는 않습니다. (별도 두 개는 더 뺄 것 같고요.)\n"
     ]
    },
    {
     "name": "stderr",
     "output_type": "stream",
     "text": [
      "\r 27%|██▋       | 460/1689 [59:47<4:24:21, 12.91s/it]"
     ]
    },
    {
     "name": "stdout",
     "output_type": "stream",
     "text": [
      "460 : 객실이 깔끔하고 좋았습니다. 다음에도 이용하려고요.\n"
     ]
    },
    {
     "name": "stderr",
     "output_type": "stream",
     "text": [
      "\r 27%|██▋       | 461/1689 [59:48<3:13:37,  9.46s/it]"
     ]
    },
    {
     "name": "stdout",
     "output_type": "stream",
     "text": [
      "461 : 부산 영도에서 묵을 만한 숙소예요~ 추천합니다^^\n"
     ]
    },
    {
     "name": "stderr",
     "output_type": "stream",
     "text": [
      "\r 27%|██▋       | 462/1689 [59:55<2:54:13,  8.52s/it]"
     ]
    },
    {
     "name": "stdout",
     "output_type": "stream",
     "text": [
      "462 : 방음이 전혀 안 돼요. 옆 방 말소리까지 들려요! 아침에 공사하는 소리까지 어마무시해요~~! TV가 두 대 있는 방인데 동시에 꺼지거나 다른 쪽 TV가 작동되고 엉망이에요ㅠㅠ 따뜻한 물 엄청 잘 나오고 수압 좋아요~ 침구 푹신하고 전체적으로 깔끔합니다!\n"
     ]
    },
    {
     "name": "stderr",
     "output_type": "stream",
     "text": [
      "\r 27%|██▋       | 463/1689 [59:57<2:15:03,  6.61s/it]"
     ]
    },
    {
     "name": "stdout",
     "output_type": "stream",
     "text": [
      "463 : 최고의 콘도. 일하는 분들도 원래 친절했는데, 리뉴얼하고는 더 친절했지.\n"
     ]
    },
    {
     "name": "stderr",
     "output_type": "stream",
     "text": [
      "\r 27%|██▋       | 464/1689 [1:00:14<3:18:18,  9.71s/it]"
     ]
    },
    {
     "name": "stdout",
     "output_type": "stream",
     "text": [
      "464 : 3월 마지막 주 방문 강아지 놀이방이 있는 건 좋았습니다. 다만 그 외에 많은 부분이 부족한 곳이라 추천하고 싶지 않습니다. 일단, 테라스 쪽으로 나가는 사시 방음이 전혀 되지 않습니다. 위치가 해변 바로 근처 뒷골목에 위치한 곳이라 늦게까지 술 마시는 사람들이 많이 지나다니는 곳인데, 새벽 5시까지 사람들이 소리지르고 떠드는 소리가 현장감(?) 있게 다 들립니다. 가족들 모두 외부 소음 때문에 잠을 설쳤더라고요. 체크인이 비교적 간단해서 좋습니다만, 프론트가 없다는 점은 상당히 불편했습니다. 난방을 켜도 객실이 너무너무 더웠는데, 이 부분을 해결해 줄 방법이 없다 하시고, 그 밖에 안내를 받거나 할 수가 없어서 불편했습니다. 조식도 가격에 비해 너무 단촐한 구성이라 많이 아쉬웠습니다. 그 외에 라운지라든가 침대 등등 많은 부분이 아쉬운 숙소였습니다.\n"
     ]
    },
    {
     "name": "stderr",
     "output_type": "stream",
     "text": [
      "\r 28%|██▊       | 465/1689 [1:00:21<3:05:51,  9.11s/it]"
     ]
    },
    {
     "name": "stdout",
     "output_type": "stream",
     "text": [
      "465 : 사장님이 친절하시고 방도 깔끔해서 좋았어요! 위치도 바다랑 가까워서 좋았구요~ 숙소 앞에 탈수기도 있어서 물놀이 후 물기 제거하기도 좋았습니다! 성수기에 묵었는데 인근 숙소보다 저렴하기도 했고, 시설 및 친절도도 좋아서 추천합니다 ^^ 레이트 체크아웃도 추가 2만 원만 내면 되어서 좋더라구요!\n"
     ]
    },
    {
     "name": "stderr",
     "output_type": "stream",
     "text": [
      "\r 28%|██▊       | 466/1689 [1:00:26<2:39:57,  7.85s/it]"
     ]
    },
    {
     "name": "stdout",
     "output_type": "stream",
     "text": [
      "466 : 사장님이 전화 예절이 좀 없으시네요. 말 끝나지도 않았는데 먼저 끊고, 이용하기 전에 방이 있냐고 물어보려고 한 건데 뚝 끊어버리네요. 온라인으로도 이렇게 불친절한데, 대면에서는 더하겠죠?\n"
     ]
    },
    {
     "name": "stderr",
     "output_type": "stream",
     "text": [
      "\r 28%|██▊       | 467/1689 [1:00:27<1:57:40,  5.78s/it]"
     ]
    },
    {
     "name": "stdout",
     "output_type": "stream",
     "text": [
      "467 : 사장님이 불친절해 보여요.\n"
     ]
    },
    {
     "name": "stderr",
     "output_type": "stream",
     "text": [
      "\r 28%|██▊       | 468/1689 [1:00:30<1:37:42,  4.80s/it]"
     ]
    },
    {
     "name": "stdout",
     "output_type": "stream",
     "text": [
      "468 : 종로 여행하기 딱 좋아요. 도보로 경복궁, 종묘, 광장시장까지 즐겁게 다녔습니다.\n"
     ]
    },
    {
     "name": "stderr",
     "output_type": "stream",
     "text": [
      "\r 28%|██▊       | 469/1689 [1:00:31<1:15:09,  3.70s/it]"
     ]
    },
    {
     "name": "stdout",
     "output_type": "stream",
     "text": [
      "469 : 좋아요, 음식도 너무너무 맛있어요.\n"
     ]
    },
    {
     "name": "stderr",
     "output_type": "stream",
     "text": [
      "\r 28%|██▊       | 470/1689 [1:00:34<1:14:05,  3.65s/it]"
     ]
    },
    {
     "name": "stdout",
     "output_type": "stream",
     "text": [
      "470 : 파도 소리 들으면서 누워만 있어도 좋았어요. 어메니티와 칫솔이 있고 들어갔을 때 방이 깔끔하게 정돈되어 있었습니다. 재방문의사가 있어요.\n"
     ]
    },
    {
     "name": "stderr",
     "output_type": "stream",
     "text": [
      "\r 28%|██▊       | 471/1689 [1:00:36<1:01:51,  3.05s/it]"
     ]
    },
    {
     "name": "stdout",
     "output_type": "stream",
     "text": [
      "471 : 앱으로 싸게 예약했다고 손님 내조은 뉴스 잘 봤습니다.\n"
     ]
    },
    {
     "name": "stderr",
     "output_type": "stream",
     "text": [
      "\r 28%|██▊       | 472/1689 [1:00:37<50:05,  2.47s/it]  "
     ]
    },
    {
     "name": "stdout",
     "output_type": "stream",
     "text": [
      "472 : 깨끗하고 직원들이 모두 친절하십니다.\n"
     ]
    },
    {
     "name": "stderr",
     "output_type": "stream",
     "text": [
      "\r 28%|██▊       | 473/1689 [1:00:42<1:01:58,  3.06s/it]"
     ]
    },
    {
     "name": "stdout",
     "output_type": "stream",
     "text": [
      "473 : 직원분들이 친절하시다는 리뷰를 많이 보긴 했지만, 그래봐야 어느 정도일까 싶으면서 갔는데, 정말 들어가는 순간부터 나올 때까지 내내 기분이 좋을 정도로 친절하세요. 부모님 모시고도 와보고 싶네요.\n"
     ]
    },
    {
     "name": "stderr",
     "output_type": "stream",
     "text": [
      "\r 28%|██▊       | 474/1689 [1:00:54<1:57:05,  5.78s/it]"
     ]
    },
    {
     "name": "stdout",
     "output_type": "stream",
     "text": [
      "474 : 숲 속에 독채로 이용할 수 있는 리조트입니다. 바닷가까지 자갈용으로 10분 정도 걸립니다. 조금 일찍 도착해도 숙소 배정이 안 되고, 딱 3시부터 숙소 배정하는 건 아쉽지만, 숙소를 잘 선택하면 리조트 내에서 다른 사람들을 만날 일이 없습니다. 완전 숲 속에 조용하게 위치하고 있으며, 층고가 높고 2개의 침대 모두 퀸 이상의 크기로 편안하게 잘 수 있습니다. 욕실도 샤워 전에 보일러를 작동하면 따뜻하게 난방이 됩니다. 단점이라면 침대가 조금 낮고, 욕실에 곰팡이가 좀 많으며 욕실 문이 양다이란 점입니다.\n"
     ]
    },
    {
     "name": "stderr",
     "output_type": "stream",
     "text": [
      "\r 28%|██▊       | 475/1689 [1:01:08<2:49:52,  8.40s/it]"
     ]
    },
    {
     "name": "stdout",
     "output_type": "stream",
     "text": [
      "475 : 너무나 센스 있던 서비스, 부족했던 하드웨어를 소프트웨어로 커버하는 5점 만점 특급 호텔이에요! 파크 하얏트 서울 첫 투숙인데 클럽 라운지 없고 수영장 작고 피트니스 클럽도 아담하지만! 직원들 센스 만점 서비스로 체크인부터 체크아웃까지 감동받는 서비스의 연속입니다. 1박을 묵으며도 중간 외출 시점에 진행해주신 하우스키핑, 사용했던 식기류와 댄탈 키트, 미니바까지 전부 다시 채워주시고 침대 머리맡이 물 두 병 배치는 정말 센스 넘쳤습니다! 피트니스와 인포 직원분들 모두 친절하셨고요. 다음 번에도 파크 하얏트에서의 숙박 기대하겠습니다! :)\n"
     ]
    },
    {
     "name": "stderr",
     "output_type": "stream",
     "text": [
      "\r 28%|██▊       | 476/1689 [1:01:09<2:04:10,  6.14s/it]"
     ]
    },
    {
     "name": "stdout",
     "output_type": "stream",
     "text": [
      "476 : 그냥 최고입니다! 굿굿\n"
     ]
    },
    {
     "name": "stderr",
     "output_type": "stream",
     "text": [
      "\r 28%|██▊       | 477/1689 [1:01:11<1:39:29,  4.92s/it]"
     ]
    },
    {
     "name": "stdout",
     "output_type": "stream",
     "text": [
      "477 : 프리미엄킹에서 호캉스했는데 만족스러웠습니다~ 재방문의사 매우 있습니다.\n"
     ]
    },
    {
     "name": "stderr",
     "output_type": "stream",
     "text": [
      "\r 28%|██▊       | 478/1689 [1:01:16<1:40:03,  4.96s/it]"
     ]
    },
    {
     "name": "stdout",
     "output_type": "stream",
     "text": [
      "478 : 901호 프리미엄 오션뷰인 곳에 묵었는데 너무너무 좋았어요. 제 인생에서 최고의 곳이에요. 다음에 부산에 오면 무조건 여기로 올래요. 깔끔하고 뷰도 좋고 주차장도 생각보다 가까워요 ^^\n"
     ]
    },
    {
     "name": "stderr",
     "output_type": "stream",
     "text": [
      "\r 28%|██▊       | 479/1689 [1:01:19<1:23:39,  4.15s/it]"
     ]
    },
    {
     "name": "stdout",
     "output_type": "stream",
     "text": [
      "479 : 깨끗하고 뷰가 좋아요. 객실에 건조기와 커피 포트, 전자레인지도 있네요.\n"
     ]
    },
    {
     "name": "stderr",
     "output_type": "stream",
     "text": [
      "\r 28%|██▊       | 480/1689 [1:01:25<1:38:48,  4.90s/it]"
     ]
    },
    {
     "name": "stdout",
     "output_type": "stream",
     "text": [
      "480 : 해운대 광안리보다 조용한 바닷가를 원한다면 여기 송도 베어필드로 오세요~ 객실에서 종으로 펼쳐지는 바다를, 창가에 서서면 밤이 되면 파도가 치는 걸 보실 수 있습니다. 그리고 침대에 누워 있을 때 은은하게 파도 소리 BGM.. 숙박하면 주는 2층 카페 무료 커피 쿠폰 받아 봅니다..\n"
     ]
    },
    {
     "name": "stderr",
     "output_type": "stream",
     "text": [
      "\r 28%|██▊       | 481/1689 [1:01:26<1:16:41,  3.81s/it]"
     ]
    },
    {
     "name": "stdout",
     "output_type": "stream",
     "text": [
      "481 : 행사 때문에 갔다 왔는데 역사와 전통이 느껴짐. 역시\n"
     ]
    },
    {
     "name": "stderr",
     "output_type": "stream",
     "text": [
      "\r 29%|██▊       | 482/1689 [1:01:43<2:35:24,  7.73s/it]"
     ]
    },
    {
     "name": "stdout",
     "output_type": "stream",
     "text": [
      "482 : 부산에서 묵었던 세 곳의 게스트하우스 중 단연 최고입니다. 주차장이 제공되지 않으니 지금이라도 친소하시라는 간곡한 말씀에 오히려 여기 묵어야겠다는 생각이 들었어요. 조식 훌륭하고(코로나 때문에 조식 미 제공인 곳이 많죠) 조식으로 컵라면도 제공되며, 드립커피와 티는 무료로 제공됩니다. 캡슐컴비는 전 원입니다. 사장님이 깔끔한 성격이어서 침구 상태도 훌륭하고, 무엇보다 병원형 침대의 수납 시설이 완벽합니다. 4박 이상인 경우 예약 사이트에서 자동 할인이 적용된다고 하네요. 대부분 외국인 손님이어서 영월 회화 연습이 가능했고요, 비대면을 취향하셔서 카운터에 사람이 없는 것이 아쉽긴 했지만 이게 요즘 추세이긴 한 것 같습니다. BIFF 광장 바로 옆이라 위치도 좋습니다. 다음에도 부산에 간다면 여기 묵어야죠.\n"
     ]
    },
    {
     "name": "stderr",
     "output_type": "stream",
     "text": [
      "\r 29%|██▊       | 483/1689 [1:01:44<1:54:03,  5.67s/it]"
     ]
    },
    {
     "name": "stdout",
     "output_type": "stream",
     "text": [
      "483 : 긴장한 듯 불친절하네요.\n"
     ]
    },
    {
     "name": "stderr",
     "output_type": "stream",
     "text": [
      "\r 29%|██▊       | 484/1689 [1:01:49<1:50:59,  5.53s/it]"
     ]
    },
    {
     "name": "stdout",
     "output_type": "stream",
     "text": [
      "484 : 푸른 바다와 초록 숲 뷰를 함께 즐길 수 있는 룸과 넓은 루프탑 수영장, 여유 있는 공간들, 잔디 정원의 하얀 파라솔 있는 테이블... 야간에는 파티 라이트가 줄줄이 켜져서 환하고 정겨워요.\n"
     ]
    },
    {
     "name": "stderr",
     "output_type": "stream",
     "text": [
      "\r 29%|██▊       | 485/1689 [1:02:12<3:32:21, 10.58s/it]"
     ]
    },
    {
     "name": "stdout",
     "output_type": "stream",
     "text": [
      "485 : 시티뷰 이용. 룸 내부가 깔끔한 편이고 커피랑 차가 비치된 것과 테이블에 깔끔하게 있을 것만 있는 느낌이 좋음. 조금 추워서 온풍기로 난방했고, 욕실은 넓직한데 환풍기를 틀면 샤워하기에 또 조금 추운 편임. 딴데일이 아쉬웠는데 일단 욕실용 신발이 따로 없고, 옷장에 슬리퍼가 두 개레 있던데 보통 방 내에서 신는데 여긴 화장실에서 썼던 걸 수도 있다고 생각하니 이걸 방에서 신기에는 약간 찝찝함이 있었음. 그리고 수건 등은 일찍가 변기 옆인 것도 개인적으로 아쉬운 점. 불만은 아니지만 칫솔과 치약은 유료이고, 유료 물품 사용 시 지불을 위해 체크인 시 신용카드 제시 요청하는 게 국내 호텔에서는 드문 경우였음. 시티뷰는 앞 아파트? 추걱 건물이랑 마주 보고 있고 커튼 열기는 좀 걸려질 정도 거리라서 좀 어둡긴 하지만 닫고 지냈음. 가는 길은 완벽한 오르막길로 가다가 입구에서 짜지만 구경삼로 올라가니 잠자날 택시 이용이 나을 듯. 로비에 장식된 트리들이랑 씨물들 장식이 이뻤고 분위기도 좋은 편임.\n"
     ]
    },
    {
     "name": "stderr",
     "output_type": "stream",
     "text": [
      "\r 29%|██▉       | 486/1689 [1:02:13<2:37:21,  7.85s/it]"
     ]
    },
    {
     "name": "stdout",
     "output_type": "stream",
     "text": [
      "486 : 직원분들이 너무 친절하시고 음식도 너무 맛있었어요!!\n"
     ]
    },
    {
     "name": "stderr",
     "output_type": "stream",
     "text": [
      "\r 29%|██▉       | 487/1689 [1:02:22<2:43:44,  8.17s/it]"
     ]
    },
    {
     "name": "stdout",
     "output_type": "stream",
     "text": [
      "487 : 모든 점에 마음에 들었지만 특히 객실이 마음에 드네요~ 아늑하면서도 깨끗한 객실!!! 저희는 장기 투숙했는데 매일매일 깨끗하게 청소해 주고 코로나 때문에도 위생에 신경을 쓰는데도 깨끗하고 꼼꼼히 청소도 해 주시고 특히 로비 프론트 직원분들도 정말 친절히 잘 안내해 주고 좋아요~~~^^ 단지 주차장이... 언덕이라..^^: 그거 빼고는 좋아요. 제 방문하고 싶은 곳이네요.\n"
     ]
    },
    {
     "name": "stderr",
     "output_type": "stream",
     "text": [
      "\r 29%|██▉       | 488/1689 [1:02:25<2:09:45,  6.48s/it]"
     ]
    },
    {
     "name": "stdout",
     "output_type": "stream",
     "text": [
      "488 : 별로예요. 에어컨, 화장실, 침구류 등 시설이 너무 오래되고 더러웠어요. 경치는 좋습니다.\n"
     ]
    },
    {
     "name": "stderr",
     "output_type": "stream",
     "text": [
      "\r 29%|██▉       | 489/1689 [1:02:30<2:04:32,  6.23s/it]"
     ]
    },
    {
     "name": "stdout",
     "output_type": "stream",
     "text": [
      "489 : 부산 가는 중에 전화로 예약했는데 주차비 1만원 안내가 없었고, 도착 후 차가 크다고 엘시티에 주차하고 걸어왔습니다. 나오기도 엄청 헤맬고~ 방은 작고 비데도 없고, 주차 문제에 클레임 제기하니 별반응이 없네요.   비추\n"
     ]
    },
    {
     "name": "stderr",
     "output_type": "stream",
     "text": [
      "\r 29%|██▉       | 490/1689 [1:02:32<1:38:17,  4.92s/it]"
     ]
    },
    {
     "name": "stdout",
     "output_type": "stream",
     "text": [
      "490 : 토요코인은 역시 가성비죠. 부산역 바로 앞이라서 위치가 좋아요.\n"
     ]
    },
    {
     "name": "stderr",
     "output_type": "stream",
     "text": [
      "\r 29%|██▉       | 491/1689 [1:02:35<1:23:54,  4.20s/it]"
     ]
    },
    {
     "name": "stdout",
     "output_type": "stream",
     "text": [
      "491 : 방도 욕조도 직원분들도 너무 마음에 들었는데, 기차 지나갈 때마다 갈 가는 소리가 나서 별 하나 뺏어요.ㅋ\n"
     ]
    },
    {
     "name": "stderr",
     "output_type": "stream",
     "text": [
      "\r 29%|██▉       | 492/1689 [1:03:04<3:55:51, 11.82s/it]"
     ]
    },
    {
     "name": "stdout",
     "output_type": "stream",
     "text": [
      "492 : 한겨울에 부산에는 눈도 안 내린다는 데, 밤 새도록 찬바람 소리가 오질나게 들리고 방은 난방이 안 되어 이제 나져건나 다 뜯어질까 기다리다 새벽에 전화했더니 보일러 확인해본다고 하고 답이 없었습니다. 그 다음 날도 방 온도가 16도. 또 기다리다 추워서 못 컨티건다고 하니까 왜 장판을 갖다 달라고 안 했냐며 오히려 근솔리 하더군요. 밤 만 원짜리 방에 자면서 벌벌 떨고 잠야 합니다. 고객이 방에 보일러가 안 된다고 하면 확인하고 연락을 줘야지, 둘째 날은 밤을 꼽아 새고 오늘 일정도 기분이 아주 망쳤습니다. 지금까지 살다 겨울에 호텔에서 이렇게 춥고 기분이 더러워 보긴 처음입니다. 여긴 호텔이 아니라 모텔이나 여인숙 같다고 하니까 사장하기 싫다는 듯싶 생하고 도보고 갑니다. 다신 부산 여행 자체를 하고 싶지 않고 시설도 얼마나 후진지 모텔도 이거보단 나을 것 같습니다. 불친절, 후진 시설. 이제는 부산에 안 옵니다. 또다시 이런 시설을 만나게 될까 봐 오는 날에 요트로들 떠게 될까 봐 불친절하고 예의도 없고 너무 화가 납니다. 드라이기는 앞 부분이 자꾸 터지고 욕조는 더럽고 흔한 커피 믹스도 없고 방으로 들어가는데 잠금장치도 고장 나고 시설이 별로인 건 이해할 수 있어도 정말 예의 없고 건방진 태도는 이해가 안 갑니다. 미안하다는 사과 한마디 없고 다신 볼 일 없다는 당신들의 태도는 이해가 안 갑니다. 다시는 부산 여행은…\n"
     ]
    },
    {
     "name": "stderr",
     "output_type": "stream",
     "text": [
      "\r 29%|██▉       | 493/1689 [1:03:18<4:07:28, 12.42s/it]"
     ]
    },
    {
     "name": "stdout",
     "output_type": "stream",
     "text": [
      "493 : 객실 온도 조절이 안 됩니다.ㅎㅎ 이 날씨에도 객실이 더워서 창문을 열고 있었다는 후문..... 선풍기 받들 바에아 그냥 창문 여는 게 나아서 안 받는다고 했고, 블로그 보니 컴퓨터 레저 룸은 욕조랑 샤워 부스 중에 고르라고 하던데 무지도 않고 그냥 샤워 부스로 줬고, 물 수압 최악... 우리 방만 그런지 모르겠는데 일반 가정집이 30%로 나오는데 퇴실할 때 말하니 쉬는 날이라 원래 수압의 80%만 나온다는데... 뭔 소리지 모르겠고 이 돈 주고 여기 다시 안 와요.. 수압 체크 좀 각 방에 할 필요가 있어 보입니다. 샤워 하는데 40-50는 기본,,,\n"
     ]
    },
    {
     "name": "stderr",
     "output_type": "stream",
     "text": [
      "\r 29%|██▉       | 494/1689 [1:03:19<2:59:12,  9.00s/it]"
     ]
    },
    {
     "name": "stdout",
     "output_type": "stream",
     "text": [
      "494 : 우풍이 심해서 추워요ㅠ\n"
     ]
    },
    {
     "name": "stderr",
     "output_type": "stream",
     "text": [
      "\r 29%|██▉       | 495/1689 [1:03:26<2:43:44,  8.23s/it]"
     ]
    },
    {
     "name": "stdout",
     "output_type": "stream",
     "text": [
      "495 : 방안에는 창문이 없습니다. 혼자 오셨다면 2인실을 추천드립니다. 계단만 있습니다. 공용 실내화를 사용해야 합니다. 3층에서 체크인하고 4층에서 무거워요. 2층은 호프집입니다. 생각보다 시끄럽지 않고 외국인들이 많이 옵니다. 5월인데 모기가 있습니다.\n"
     ]
    },
    {
     "name": "stderr",
     "output_type": "stream",
     "text": [
      "\r 29%|██▉       | 496/1689 [1:03:26<1:58:53,  5.98s/it]"
     ]
    },
    {
     "name": "stdout",
     "output_type": "stream",
     "text": [
      "496 : 식당에 맛집이 많아\n"
     ]
    },
    {
     "name": "stderr",
     "output_type": "stream",
     "text": [
      "\r 29%|██▉       | 497/1689 [1:03:27<1:29:46,  4.52s/it]"
     ]
    },
    {
     "name": "stdout",
     "output_type": "stream",
     "text": [
      "497 : 위치도 좋습니다. 재방문의사 있어요.\n"
     ]
    },
    {
     "name": "stderr",
     "output_type": "stream",
     "text": [
      "\r 29%|██▉       | 498/1689 [1:03:29<1:13:51,  3.72s/it]"
     ]
    },
    {
     "name": "stdout",
     "output_type": "stream",
     "text": [
      "498 : 최악. 아우디 끄는 사장님이 막 화내심..ㅜㅜ\n"
     ]
    },
    {
     "name": "stderr",
     "output_type": "stream",
     "text": [
      "\r 30%|██▉       | 499/1689 [1:03:35<1:23:16,  4.20s/it]"
     ]
    },
    {
     "name": "stdout",
     "output_type": "stream",
     "text": [
      "499 : 야경이 특히 너무 좋았어요~~^^ 새로 리뉴얼해서 그런지 침대 커버도 새것이고 객실 바닥이 온돌처럼 따뜻해서 너무 좋네요ㅎㅎ 내일 아침은 조식 무료 서비스라고 해요. 로비에 큰 크리스마스 트리도 너무 좋았어요.\n"
     ]
    },
    {
     "name": "stderr",
     "output_type": "stream",
     "text": [
      "\r 30%|██▉       | 500/1689 [1:04:04<3:53:41, 11.79s/it]"
     ]
    },
    {
     "name": "stdout",
     "output_type": "stream",
     "text": [
      "500 : 진짜 딱 토요코인.. 체인이라 내부 객실 자체는 어디 가나 사실 비슷비슷함. 리셉션 직원분들은 그냥 그저그램. 성수기 때 이용했는데, 조식은 진심 충격.. 무슨 도대기 시장인 줄..... 줄 서서 먹는 조식은 수업시 단연본 호텔 중 여기가 처음이었고, 내용도 기대는 하지 말길. 날이 올린 조식 사진 보고 좋아보인다면 그 사진에 나온 반찬이 거의 대부분이라고 보면 됨. 성수기가 아닐 때는 잘 모르겠음. 객실 오션뷰는 오션뷰인데... 많이 애매한 오션뷰임. 그리고 결정적으로 사람 몰리는 시간대 엘리베이터가 매우매우 많이 느림. 오르락내리락 속도가 느린 게 아니라.... 전층 가는 엘리베이터 2개, 고층 전용 1개 / 저층 전용 1개로 총 4개이고 승객은 그 중 3개 엘리베이터 중 하나를 쓰게 되는데, 엘리베이터 서로 연계를 안 해 놓은 건지, 다 재가각임. 보통 아파트 한 동에 두 개 들어가는 엘리베이터도 서로 연결시켜 놔서 버튼 누르면 하나만 움직이게 하는데... 결국 사람 많이 몰리는 시간대는 각층 사람들이 아무 엘리베이터나 빨리 오라고 다 눌러대고, 모든 엘리베이터는 층층이 다 선이 느리게 운행하고, 그거 기다리는 동안 사람들 하나둘 모여서 싸히닝 나중에 결국 엘리베이터와도 다 자리는 없고... 내가 살다 살다 호텔에서 그런 경험하는 건 처음이었다 진심. 서면점은 별다 엎길래 해운대점도 이용했더만 웰휴...\n"
     ]
    },
    {
     "name": "stderr",
     "output_type": "stream",
     "text": [
      "\r 30%|██▉       | 501/1689 [1:04:07<3:01:32,  9.17s/it]"
     ]
    },
    {
     "name": "stdout",
     "output_type": "stream",
     "text": [
      "501 : 방음이 전혀 안 되고, 무엇보다 빈대에 물렸습니다… 정말 급하게 잡은 호텔이었는데, 최악의 선택이었네요. 뷰는 좋았습니다…….\n"
     ]
    },
    {
     "name": "stderr",
     "output_type": "stream",
     "text": [
      "\r 30%|██▉       | 502/1689 [1:04:09<2:15:21,  6.84s/it]"
     ]
    },
    {
     "name": "stdout",
     "output_type": "stream",
     "text": [
      "502 : 많이 지저분하네요… 이불에서도 냄새 나요.\n"
     ]
    },
    {
     "name": "stderr",
     "output_type": "stream",
     "text": [
      "\r 30%|██▉       | 503/1689 [1:04:15<2:09:39,  6.56s/it]"
     ]
    },
    {
     "name": "stdout",
     "output_type": "stream",
     "text": [
      "503 : 6인 1박 2일 송년회, 밖에서 음식 사 먹을면 꽤나 많은 비용이 듭니다. 레지던스 내 맛집, 편의점이 있어 파티 준비에 부담이 없습니다. 3만 원 이상이면 마시는 배달도 해 주더라고요. 감성비 갑의 송년회였습니다.\n"
     ]
    },
    {
     "name": "stderr",
     "output_type": "stream",
     "text": [
      "\r 30%|██▉       | 504/1689 [1:04:19<1:55:37,  5.85s/it]"
     ]
    },
    {
     "name": "stdout",
     "output_type": "stream",
     "text": [
      "504 : 수영장에 벌레가 떠다니고 조식이 8:30분에 시작이어서 일찍 가서 1등으로 도착했는데, 다른 사람에게 먼저 해주고 조식을 먹지 말고 사먹는 게 100배는 낫네요.\n"
     ]
    },
    {
     "name": "stderr",
     "output_type": "stream",
     "text": [
      "\r 30%|██▉       | 505/1689 [1:04:22<1:43:01,  5.22s/it]"
     ]
    },
    {
     "name": "stdout",
     "output_type": "stream",
     "text": [
      "505 : 복층 썼는데 너무 위험한 것 같아요.. ㅠ 그치만 전체적으로 깔끔하고 직원분도 친절해요. 무엇보다도 위치가 대박임. 조식도 가격 대비 괜찮구요!\n"
     ]
    },
    {
     "name": "stderr",
     "output_type": "stream",
     "text": [
      "\r 30%|██▉       | 506/1689 [1:04:25<1:27:25,  4.43s/it]"
     ]
    },
    {
     "name": "stdout",
     "output_type": "stream",
     "text": [
      "506 : 깔끔하고 괜찮았어요. 해운대 해수욕장에서 도보로 10분 내외, 근처에 먹을 곳 많아요.\n"
     ]
    },
    {
     "name": "stderr",
     "output_type": "stream",
     "text": [
      "\r 30%|███       | 507/1689 [1:04:28<1:17:22,  3.93s/it]"
     ]
    },
    {
     "name": "stdout",
     "output_type": "stream",
     "text": [
      "507 : 욕조가 있어서 뜨끈하게 몸을 지질 수 있어서 자주 이용합니다. 그리고 매트리스도 적당히 딱딱해서 정말 마음에 들어요.\n"
     ]
    },
    {
     "name": "stderr",
     "output_type": "stream",
     "text": [
      "\r 30%|███       | 508/1689 [1:04:40<2:06:34,  6.43s/it]"
     ]
    },
    {
     "name": "stdout",
     "output_type": "stream",
     "text": [
      "508 : 3성급이 맞나 의심스러울 정도입니다. 너무 높은 층보단 중간 층이 좋을 것 같아서 말썽드렸고 702호였는데 전 배(?)가 정면이라 조금 그럭저럭한데 또 나름 괜찮은 것 같기도 하네요 ㅎㅎ 광안대교가 너무 너무 멋지게 보여서 다음에 오면 또 이용하고 싶어요!! 자는 소렌도였는데 기계식 주차타워 주차가 가능해서 너무 좋았습니다!!! 근데 바디워시, 샴푸가 다회용기에도 없어서 폼클렌징으로 샤워했네요 ㅠㅠㅎ 다들 잘 챙겨서 여행하시길!!\n"
     ]
    },
    {
     "name": "stderr",
     "output_type": "stream",
     "text": [
      "\r 30%|███       | 509/1689 [1:04:43<1:44:03,  5.29s/it]"
     ]
    },
    {
     "name": "stdout",
     "output_type": "stream",
     "text": [
      "509 : 시설은 오래되었지만, 자연이 다 커버한다. 관리는 잘되고 있는 느낌. 버스터미널에서 택시로 만 원.\n"
     ]
    },
    {
     "name": "stderr",
     "output_type": "stream",
     "text": [
      "\r 30%|███       | 510/1689 [1:04:46<1:30:48,  4.62s/it]"
     ]
    },
    {
     "name": "stdout",
     "output_type": "stream",
     "text": [
      "510 : 부산에 여행을 왔는데 제가 방에 들어가 보니까 좁기는 하지만 이불이 포근해요. 그리고 저는 처음에 화장실 문은 경인 줄 알았어요.\n"
     ]
    },
    {
     "name": "stderr",
     "output_type": "stream",
     "text": [
      "\r 30%|███       | 511/1689 [1:04:47<1:12:15,  3.68s/it]"
     ]
    },
    {
     "name": "stdout",
     "output_type": "stream",
     "text": [
      "511 : 친구들과 모두 만족했습니다. 다음에는 가족과도 이용해볼 생각입니다.\n"
     ]
    },
    {
     "name": "stderr",
     "output_type": "stream",
     "text": [
      "\r 30%|███       | 512/1689 [1:04:56<1:41:32,  5.18s/it]"
     ]
    },
    {
     "name": "stdout",
     "output_type": "stream",
     "text": [
      "512 : 부산에서 지냈던 호텔 중에서 가장 좋았던 것 같아요! 저는 로맨틱 오션 코너를 썼습니다! 룸이 조금 좁은 느낌이지만 이용하기에 불편함을 느낀 적은 없었어요! 어메니티랑 직원 서비스도 매우 좋고 깔끔하고 무엇보다 오션뷰가 최고인 것 같아요. 시간대마다 변해가는 광안대교를 가만히 앉아서 지켜볼 수 있다는 게 엄청난 매력이에요!!!! 다음에도 무조건 이용하려고요ㅎㅎ\n"
     ]
    },
    {
     "name": "stderr",
     "output_type": "stream",
     "text": [
      "\r 30%|███       | 513/1689 [1:05:00<1:32:14,  4.71s/it]"
     ]
    },
    {
     "name": "stdout",
     "output_type": "stream",
     "text": [
      "513 : 위치가 너무 좋고 직원분들이 친절해요. 방은 작지만 깨끗하고 시티뷰인데도 살짝 바다가 보여요. 다만 조식은 먹지 마세요. 완전 꽝임.\n"
     ]
    },
    {
     "name": "stderr",
     "output_type": "stream",
     "text": [
      "\r 30%|███       | 514/1689 [1:05:07<1:46:45,  5.45s/it]"
     ]
    },
    {
     "name": "stdout",
     "output_type": "stream",
     "text": [
      "514 : 호텔처럼 직원분들 또한 명품 직원입니다~ 일본 가서도 이런 고품격 응대를 받지 못하는데 신라호텔 시설, 편의 시설, 조식은 웬만한 호텔 석식보다 낮고 너무 좋았습니다~ 뷔페 직원분들까지도 완벽하게 친절 그 자체~ 뭐 하나 허투루 한 게 없네요~ 조만간 호캉스하러 또 오겠습니다~^^\n"
     ]
    },
    {
     "name": "stderr",
     "output_type": "stream",
     "text": [
      "\r 30%|███       | 515/1689 [1:05:14<1:54:40,  5.86s/it]"
     ]
    },
    {
     "name": "stdout",
     "output_type": "stream",
     "text": [
      "515 : 파쇄석에서는 인체에 가장 해로운 라돈가스가 1급 바람 물질을 방출하는데, 알코날 사용하는지... 그리고 여기 몇 해전 살 때 쓰는 살인 사건 현장 없이죠. 경찰, 형사 쫙 깔리고 동네가 홀랑 뒤집혀진 소리 듣고 알듯해지더군요... 부디 정정 의료로 거둬나기를~~\n"
     ]
    },
    {
     "name": "stderr",
     "output_type": "stream",
     "text": [
      "\r 31%|███       | 516/1689 [1:05:19<1:52:07,  5.74s/it]"
     ]
    },
    {
     "name": "stdout",
     "output_type": "stream",
     "text": [
      "516 : 자갈치 시장하고 가까워서 예약했네요. 주차장이 없는 게 제일 큰 불편이고, 화장실 ㅋㅋ 방에서 다 보여서 볼 일이 있는데 힘듭니다. 침대 큼지막하니 편합니다. 물도 넉넉히 준비되어 있고 좋은 숙소네요.\n"
     ]
    },
    {
     "name": "stderr",
     "output_type": "stream",
     "text": [
      "\r 31%|███       | 517/1689 [1:05:22<1:38:12,  5.03s/it]"
     ]
    },
    {
     "name": "stdout",
     "output_type": "stream",
     "text": [
      "517 : 룸 컨디션이 좋고, 스타일러스, 공청기, 넓은 욕조와 화장실, 넓은 주차장이 있어 가족들과도 쾌적하게 머물기 좋네요.\n"
     ]
    },
    {
     "name": "stderr",
     "output_type": "stream",
     "text": [
      "\r 31%|███       | 518/1689 [1:05:24<1:16:05,  3.90s/it]"
     ]
    },
    {
     "name": "stdout",
     "output_type": "stream",
     "text": [
      "518 : 깨끗하고 조금만 오션뷰도 있어서 좋았어요~\n"
     ]
    },
    {
     "name": "stderr",
     "output_type": "stream",
     "text": [
      "\r 31%|███       | 519/1689 [1:05:28<1:20:37,  4.13s/it]"
     ]
    },
    {
     "name": "stdout",
     "output_type": "stream",
     "text": [
      "519 : 객실 깔끔하고 조용합니다. 가족끼리 숙박하기 참 좋았어요. 따뜻한 물도 잘 나오고 객실도 따뜻해서 히파컬에서 스킨 타고 매번 들립니다. 히파 근처 가성비 가족 숙소로 추천합니다.\n"
     ]
    },
    {
     "name": "stderr",
     "output_type": "stream",
     "text": [
      "\r 31%|███       | 520/1689 [1:05:30<1:07:01,  3.44s/it]"
     ]
    },
    {
     "name": "stdout",
     "output_type": "stream",
     "text": [
      "520 : 디저트 맛은 쏘쏘.. 음료는 좋았고 분위기가 맛집입니다!\n"
     ]
    },
    {
     "name": "stderr",
     "output_type": "stream",
     "text": [
      "\r 31%|███       | 521/1689 [1:05:34<1:07:28,  3.47s/it]"
     ]
    },
    {
     "name": "stdout",
     "output_type": "stream",
     "text": [
      "521 : 코로나 때 운 좋게 저렴한 가격에 무료 룸 업그레이드를 받고 다녀왔어요. 친절함이 가장 기억에 나고, 뷰가 미쳤습니다.\n"
     ]
    },
    {
     "name": "stderr",
     "output_type": "stream",
     "text": [
      "\r 31%|███       | 522/1689 [1:05:40<1:25:54,  4.42s/it]"
     ]
    },
    {
     "name": "stdout",
     "output_type": "stream",
     "text": [
      "522 : 오션뷰는 괜찮지만 주차는 최악 ㅡㅡ 지하주차장이 엄청 좁고 기계식이라 SUV는 들어가질 않아요. 주차할 때가 없어서 어쩔 수 없이 길가에 대니 맨날 전화 오고 결국 과태료 납니다. 아오... 호텔에다 주차하지 왜 여기에 주차하세요? 주차할 때가 없는데 엄청라고요?\n"
     ]
    },
    {
     "name": "stderr",
     "output_type": "stream",
     "text": [
      "\r 31%|███       | 523/1689 [1:05:43<1:14:37,  3.84s/it]"
     ]
    },
    {
     "name": "stdout",
     "output_type": "stream",
     "text": [
      "523 : 남자친구랑 놀러 오기 너무 좋네요. 가성비에 오션뷰 최고예요. 다음에 또 와야겠어요.\n"
     ]
    },
    {
     "name": "stderr",
     "output_type": "stream",
     "text": [
      "\r 31%|███       | 524/1689 [1:05:44<57:03,  2.94s/it]  "
     ]
    },
    {
     "name": "stdout",
     "output_type": "stream",
     "text": [
      "524 : 테라스가 있어서 편했어요.\n"
     ]
    },
    {
     "name": "stderr",
     "output_type": "stream",
     "text": [
      "\r 31%|███       | 525/1689 [1:05:45<48:34,  2.50s/it]"
     ]
    },
    {
     "name": "stdout",
     "output_type": "stream",
     "text": [
      "525 : 두 번째 방문이에요. 시설이 깨끗하고 직원분들도 친절해요.\n"
     ]
    },
    {
     "name": "stderr",
     "output_type": "stream",
     "text": [
      "\r 31%|███       | 526/1689 [1:05:53<1:19:25,  4.10s/it]"
     ]
    },
    {
     "name": "stdout",
     "output_type": "stream",
     "text": [
      "526 : 신라야 말 안 해도 칭찬이 줄을 이루지만, 13년에 대대적인 리모델링 이후 이제 쓰쓸 재리모델링을 준비해야 할 것 같습니다. 침구 정돈 서비스, 세심한 프론트의 배려, 안 될 거 없다는 4번 먹을 거 주는 라운지의 또 그 매력이 한국에서 1등임 맞습니다. 다만 주차 타워와 관광이 너무 많아 숙박에 지장이 있네요.\n"
     ]
    },
    {
     "name": "stderr",
     "output_type": "stream",
     "text": [
      "\r 31%|███       | 527/1689 [1:05:57<1:18:10,  4.04s/it]"
     ]
    },
    {
     "name": "stdout",
     "output_type": "stream",
     "text": [
      "527 : 오션뷰가 아니라 낙동강 뷰입니다ㅋㅋㅋㅋ 큰 기대 하지 말고 숙박하면 그럭저럭 괜찮아요. + 화장실 변기 수압 약해요.\n"
     ]
    },
    {
     "name": "stderr",
     "output_type": "stream",
     "text": [
      "\r 31%|███▏      | 528/1689 [1:06:04<1:38:49,  5.11s/it]"
     ]
    },
    {
     "name": "stdout",
     "output_type": "stream",
     "text": [
      "528 : 인터파크에 낚였습니다. 최악의 시설입니다. 콘도 중에 이렇게 낡은 시설에 이 가격이라니… 사진만 번지르르 찍어놓고 직접 가보니 충격과 공포였습니다. 돈 여유가 있으면 바로 옆 텔레노아나 켄싱턴 가시길 추천합니다. 창모니를 모시고 갔다가 욕을 먹을 뻔했습니다. 인터파크 망할 놈들, 복수하겠다.\n"
     ]
    },
    {
     "name": "stderr",
     "output_type": "stream",
     "text": [
      "\r 31%|███▏      | 529/1689 [1:06:08<1:26:59,  4.50s/it]"
     ]
    },
    {
     "name": "stdout",
     "output_type": "stream",
     "text": [
      "529 : 뷰가 정말 좋아요. 잠옷도 비치되어 있고, 생각보다 깔끔합니다! 다만 물을 떠 달라고 하면 추가 요금이 발생하네요! 참고하세요.\n"
     ]
    },
    {
     "name": "stderr",
     "output_type": "stream",
     "text": [
      "\r 31%|███▏      | 530/1689 [1:06:13<1:34:28,  4.89s/it]"
     ]
    },
    {
     "name": "stdout",
     "output_type": "stream",
     "text": [
      "530 : 조용히 놀던 아주 좋은 곳이었는데, 낮부터 밤까지 먹다는 소리로 누가 노래를 하는 건지, 그걸 왜 방송으로 틀어놓는지 좀 조용하다 싶으면 가슬 노래 틀어놓고, 캠핑장 방송인지 시에서 그러는 건지 진짜 흥쳤네요.... 조용히 쉬러 온 사람들은 괴로워요..!!!!\n"
     ]
    },
    {
     "name": "stderr",
     "output_type": "stream",
     "text": [
      "\r 31%|███▏      | 531/1689 [1:06:14<1:11:10,  3.69s/it]"
     ]
    },
    {
     "name": "stdout",
     "output_type": "stream",
     "text": [
      "531 : 다 좋은데 조식 가성비가 ...\n"
     ]
    },
    {
     "name": "stderr",
     "output_type": "stream",
     "text": [
      "\r 31%|███▏      | 532/1689 [1:06:16<1:02:44,  3.25s/it]"
     ]
    },
    {
     "name": "stdout",
     "output_type": "stream",
     "text": [
      "532 : 깔끔하고 위치가 좋고 사장님 유쾌하고 객실 개성있고 그냥 여기서 자쎄\n"
     ]
    },
    {
     "name": "stderr",
     "output_type": "stream",
     "text": [
      "\r 32%|███▏      | 533/1689 [1:06:52<4:06:47, 12.81s/it]"
     ]
    },
    {
     "name": "stdout",
     "output_type": "stream",
     "text": [
      "533 : 택시를 타고 갔는데 택시 기사님도 입구를 몰라 길 한복판에 내려주실 정도로 호텔이라는 특색이 없음. 그냥 오피스텔 옆에 딸려 있는 건물을 억지로 숙소로 만든 느낌. 저층 뷰 사진 아래부분은 공사장 험험한 뷰라 차라움. 오션뷰룸은 가격을 더 낮춰서 판매해야 될 것 같은 느낌. 스위트룸인데 테이블이란 게 없음.. 4인이 머무르면 룸서비스는 답답하게 놓고 이용하라 소리인가? 기념일이라 와인을 챙겨갔지만 와인 오프너는 있지만 와인 자는 조제하지 않음(그냥 컵에 따라마심). 26층 회전 초밥은 테이블이 적어서 이용이 어렵다(4~5개 정도 있던 것 같은데 정확히 기억이 안 남). 예약하는 것을 추천. 아침 조식을 먹으러 갔는데 입구가 좁다보니 엘리베이터에서 내리는 순간 긴 줄과 마주하게 됨(결제하고 입장하는 시스템이라 다들 줄 서 있음). 조식은 리뷰 확인하고 맛있다고 해서 신청했는데 생각보다 먹을 게 없음. 처음에는 가격이 저렴하다고 생각했는데 캐비어, 부악그라 카이라고 쳐야 되는 건가? 조식을 먹고 나니 돈 아깝다는 생각(이건 내 입맛에 안 맞을 수도 있지만 뷔페는 진짜 평범한 수준). 너무 단점만 적은 것 같아 장점을 찾아보자면 환경을 생각해서인지 일회용품이 없음(샴푸, 린스, 바디워시, 핸드워시, 드라이기 준비되어 있으니 나머지는 다 챙겨오면 됨). 태블릿 패드로 호텔 설명이 잘 되어 있음. 체크아웃도 룸에서 가능하고 카드키를 받았다면 나갈 때 카드키만 반납하고 가면 됨. 지역 맥주, 기부하기 무료. 룸 자체가 따뜻(혹은 건조?)해서 롱블만 이뻐도 더운 느낌.\n"
     ]
    },
    {
     "name": "stderr",
     "output_type": "stream",
     "text": [
      "\r 32%|███▏      | 534/1689 [1:06:54<3:05:09,  9.62s/it]"
     ]
    },
    {
     "name": "stdout",
     "output_type": "stream",
     "text": [
      "534 : 깨끗하고 넓어서 좋았어요. 근처에 작은 해변이 있어서 소소하게 산책하기 좋았음.\n"
     ]
    },
    {
     "name": "stderr",
     "output_type": "stream",
     "text": [
      "\r 32%|███▏      | 535/1689 [1:06:55<2:17:10,  7.13s/it]"
     ]
    },
    {
     "name": "stdout",
     "output_type": "stream",
     "text": [
      "535 : 퇴근 시간 밀리는 급한 뷰 해서 잘 갔어요.\n"
     ]
    },
    {
     "name": "stderr",
     "output_type": "stream",
     "text": [
      "\r 32%|███▏      | 536/1689 [1:06:59<1:57:04,  6.09s/it]"
     ]
    },
    {
     "name": "stdout",
     "output_type": "stream",
     "text": [
      "536 : 아침에 방에서 일출도 보고 사장님도 친절하시고 방도 깨끗하고 넓고 산책하기도 좋고 가격 대비 너무 혜자네요. 좋은 추억 가지고 갑니다~\n"
     ]
    },
    {
     "name": "stderr",
     "output_type": "stream",
     "text": [
      "\r 32%|███▏      | 537/1689 [1:07:02<1:39:04,  5.16s/it]"
     ]
    },
    {
     "name": "stdout",
     "output_type": "stream",
     "text": [
      "537 : 부산 올 때마다 항상 예약하는 곳입니다. 주변 환경이랑 진입이 도로가 조금 아쉽지만 허심청도 반갑시고 너무 좋아요~\n"
     ]
    },
    {
     "name": "stderr",
     "output_type": "stream",
     "text": [
      "\r 32%|███▏      | 538/1689 [1:07:04<1:23:47,  4.37s/it]"
     ]
    },
    {
     "name": "stdout",
     "output_type": "stream",
     "text": [
      "538 : 부산보다 훨씬 나음. 부부터 로비와 룸 컨디션까지 매우 만족한 호텔. 비싸다는 게 함정.\n"
     ]
    },
    {
     "name": "stderr",
     "output_type": "stream",
     "text": [
      "\r 32%|███▏      | 539/1689 [1:07:10<1:29:22,  4.66s/it]"
     ]
    },
    {
     "name": "stdout",
     "output_type": "stream",
     "text": [
      "539 : 가격은 좋은데 와이파이가 엄청 구리네요... 진짜 느려서 깜짝 놀랐고, 주차 공간이 협소해서 앞 공영 주차장에 대야 하는 경우가 비일비행요. 이런 것을 감안하신다면 청초호가 살짝 보이는 뷰는 보실 수 있습니다.\n"
     ]
    },
    {
     "name": "stderr",
     "output_type": "stream",
     "text": [
      "\r 32%|███▏      | 540/1689 [1:07:18<1:51:41,  5.83s/it]"
     ]
    },
    {
     "name": "stdout",
     "output_type": "stream",
     "text": [
      "540 : 여행하기 너무 좋은 위치입니다. 뷰도 마음에 들고요. 야경이 예쁩니다. 이 가격에 룸 컨디션도 깔끔하고 만족스럽습니다. 친구는 28층 카페에서 경치를 보면서 차 마시 게 가장 기억에 남는데요. 다만 연박이라 프론트에 수건 추가로 요청했는데 돌아와 보니 그대로 2개밖에 없어서 아쉬웠습니다. 체크인이 3시라 좀 늦고 얼리 체크인이 안 되니 참고하세요.\n"
     ]
    },
    {
     "name": "stderr",
     "output_type": "stream",
     "text": [
      "\r 32%|███▏      | 541/1689 [1:07:26<2:04:14,  6.49s/it]"
     ]
    },
    {
     "name": "stdout",
     "output_type": "stream",
     "text": [
      "541 : 좀 지난 일이긴 하지만 호텔 투숙 후 샤워하러 가는 중인데 직원이 노크도 없이 그냥 문을 따고 들어왔습니다. 프런트에 항의하러 가니까 특급 호텔은 중간에 원래 청소해 준다고 그런 것도 몰랐냐는 식으로 면박을 줍니다. 방해하지 마시오 배말 왜 안 걸렀냐고 어쩌고 저쩌고 하더라고요. 호텔 등급을 개수는 직원들 무개념 개수인가요?\n"
     ]
    },
    {
     "name": "stderr",
     "output_type": "stream",
     "text": [
      "\r 32%|███▏      | 542/1689 [1:07:30<1:50:22,  5.77s/it]"
     ]
    },
    {
     "name": "stdout",
     "output_type": "stream",
     "text": [
      "542 : 호캉스하기에 좋고, 야외 수영장도 그저께 갔을 때 열어서는데 아침은 물이 너무 차서 못 들어간 게 아쉬웠어요 ㅠㅠ 시설은 굿굿\n"
     ]
    },
    {
     "name": "stderr",
     "output_type": "stream",
     "text": [
      "\r 32%|███▏      | 543/1689 [1:07:32<1:24:24,  4.42s/it]"
     ]
    },
    {
     "name": "stdout",
     "output_type": "stream",
     "text": [
      "543 : 해운대 바로 앞.. 위치는 좋으나 비싸다.\n"
     ]
    },
    {
     "name": "stderr",
     "output_type": "stream",
     "text": [
      "\r 32%|███▏      | 544/1689 [1:07:39<1:39:51,  5.23s/it]"
     ]
    },
    {
     "name": "stdout",
     "output_type": "stream",
     "text": [
      "544 : 매니저분은 친절하신데 시공이 잘못돼서 그런지 화장실 바닥 배수가 안 돼서 물이 넘치고 창문 벽면 틈새로 추울 때 거록아 생깁니다. 그리고 쿠션이 없어서 객실 내 담배 냄새가 심합니다 ㅠㅠ 호텔이라는 이름에 낚여 급하게 예약했는데 현실은 그냥 모텔입니다.\n"
     ]
    },
    {
     "name": "stderr",
     "output_type": "stream",
     "text": [
      "\r 32%|███▏      | 545/1689 [1:07:42<1:29:04,  4.67s/it]"
     ]
    },
    {
     "name": "stdout",
     "output_type": "stream",
     "text": [
      "545 : 방 컨디션이 심각한 수준이고 수영장이 왜 유명한지 모르겠어요... 부대시설은 조그만데 숙박객이 너무 많아서 어딜 가든 미어터짐.\n"
     ]
    },
    {
     "name": "stderr",
     "output_type": "stream",
     "text": [
      "\r 32%|███▏      | 546/1689 [1:07:56<2:22:41,  7.49s/it]"
     ]
    },
    {
     "name": "stdout",
     "output_type": "stream",
     "text": [
      "546 : 그냥 오래된 2인 모텔이구요. 4인 가족이 쓴다 했는데 좁네요. 그냥 나갈 걸 그랬어요. 하루 자는 것이니 그냥 자기는 자다고 하고… 화장실도 그냥. 벽지에 구멍 나고 찢어진 데도 있고 사진과는 다르게 좀 낡았네요. 그리고 방을 보자고 해도 보여주지 않고 버티셔서 그냥 들어갔는데 조금 실망… 그 정도 생각하시고 사용하시면 될 듯. 3명까지 그냥 자기에는 괜찮지만 딱자가 있어서 성인 4명은 불가능. 저희는 어린 초딩이 있어서 가능… 침대는 전형적인 스프링 소리나는 통통 침대… 새벽 3시까지 잠을 못 잤네요. 장점은 바다와 가까운 편이긴 합니다. 그러나 바다 뷰라고 하기에는 좀 민망하네요.\n"
     ]
    },
    {
     "name": "stderr",
     "output_type": "stream",
     "text": [
      "\r 32%|███▏      | 547/1689 [1:08:01<2:10:33,  6.86s/it]"
     ]
    },
    {
     "name": "stdout",
     "output_type": "stream",
     "text": [
      "547 : 가격에 비해 넓고 매우 깨끗하게 관리가 잘된 편입니다. 직원분들도 친절하시고요. 하지만 방음(커넥션 노래방 및 술집 거리), 특정 시즌에만 난방을 돌리기에 외풍으로 추운 편입니다.(3월 중순 기준 난방 x)\n"
     ]
    },
    {
     "name": "stderr",
     "output_type": "stream",
     "text": [
      "\r 32%|███▏      | 548/1689 [1:08:04<1:46:31,  5.60s/it]"
     ]
    },
    {
     "name": "stdout",
     "output_type": "stream",
     "text": [
      "548 : 공간이 넓으니깐 이것저것 꾸미기도 좋았고, 너무 럭셔리해서 행복했어요. ㅠㅠ\n"
     ]
    },
    {
     "name": "stderr",
     "output_type": "stream",
     "text": [
      "\r 33%|███▎      | 549/1689 [1:08:13<2:05:52,  6.63s/it]"
     ]
    },
    {
     "name": "stdout",
     "output_type": "stream",
     "text": [
      "549 : 가성비가 아주 좋은 곳. 가격 대비 넓고 적당히 쾌적한 객실을 갖추고 있음. 다만 뚜벅이 여행객에게는 조금 애매한 위치. 그리고 칫솔 등은 제공하지 않기 때문에 준비해야 함. 다른 곳의 청결 상태는 괜찮은 편이었으나, 테이블과 작은 소파 청결도는 최악. 소파 사이 먼지와 머리카락이 남아 있고 테이블엔 라면 국물 자국이... 그것만 빼면 이 동네에서 전체적으로 가성비 좋은 호텔이라 생각함.\n"
     ]
    },
    {
     "name": "stderr",
     "output_type": "stream",
     "text": [
      "\r 33%|███▎      | 550/1689 [1:08:15<1:36:37,  5.09s/it]"
     ]
    },
    {
     "name": "stdout",
     "output_type": "stream",
     "text": [
      "550 : 깨끗하고 시설도 최고 수준입니다. 조식도 깔끔했어요^^\n"
     ]
    },
    {
     "name": "stderr",
     "output_type": "stream",
     "text": [
      "\r 33%|███▎      | 551/1689 [1:08:19<1:31:50,  4.84s/it]"
     ]
    },
    {
     "name": "stdout",
     "output_type": "stream",
     "text": [
      "551 : 바람 소리 때문에 잠을 못 잤어요. 현관문은 계속 누가 열려는 것처럼 덜컹거리고, 창문도 만만치 않습니다. 고층이라 좋은 점도 있지만, 안 좋은 점이 더 와닿는 숙소입니다.\n"
     ]
    },
    {
     "name": "stderr",
     "output_type": "stream",
     "text": [
      "\r 33%|███▎      | 552/1689 [1:08:23<1:29:47,  4.74s/it]"
     ]
    },
    {
     "name": "stdout",
     "output_type": "stream",
     "text": [
      "552 : 청결함은 어느 곳보다도 잘 관리되고 있는 곳처럼 보여요. 창틀에도 흠없이 하나 없이 깨끗하네요. 아침에 1층에서 누릴 수 있는 조식이 참 좋습니다~ 종류도 다양하고 식 후 커피까지, Good!\n"
     ]
    },
    {
     "name": "stderr",
     "output_type": "stream",
     "text": [
      "\r 33%|███▎      | 553/1689 [1:08:26<1:18:58,  4.17s/it]"
     ]
    },
    {
     "name": "stdout",
     "output_type": "stream",
     "text": [
      "553 : 어매니티는 기본으로 준비 되어 있지만, 치약과 칫솔은 없으니 꼭 준비해 가길 바란다! 뷰짱\n"
     ]
    },
    {
     "name": "stderr",
     "output_type": "stream",
     "text": [
      "\r 33%|███▎      | 554/1689 [1:08:29<1:08:42,  3.63s/it]"
     ]
    },
    {
     "name": "stdout",
     "output_type": "stream",
     "text": [
      "554 : 매번 같은 숙소랑. 직원분들 친절하고 청결합니다. 비즈니스 호텔 2인실 좋아요.\n"
     ]
    },
    {
     "name": "stderr",
     "output_type": "stream",
     "text": [
      "\r 33%|███▎      | 555/1689 [1:08:35<1:24:32,  4.47s/it]"
     ]
    },
    {
     "name": "stdout",
     "output_type": "stream",
     "text": [
      "555 : 3박 4일 휴가를 메이호텔에서 비와도 절망이 아니라 좋았어요. 매우 만족했어요. 사장님도 친절하시고, 이불도 뽀송뽀송해서 매우 만족이었어요. 볼거리와 먹거리가 많은 숙박 위치라서 대중교통도 편했어요. 잘 쉬었다 갑니다. ㅎ\n"
     ]
    },
    {
     "name": "stderr",
     "output_type": "stream",
     "text": [
      "\r 33%|███▎      | 556/1689 [1:08:38<1:15:40,  4.01s/it]"
     ]
    },
    {
     "name": "stdout",
     "output_type": "stream",
     "text": [
      "556 : 애프터눈 티가 기대보다 맛이 없어서 놀랐어요. 뷰 맛집이라 노을 지는 풍경만 실컷 보고 만족했습니다.\n"
     ]
    },
    {
     "name": "stderr",
     "output_type": "stream",
     "text": [
      "\r 33%|███▎      | 557/1689 [1:08:40<1:02:09,  3.29s/it]"
     ]
    },
    {
     "name": "stdout",
     "output_type": "stream",
     "text": [
      "557 : 주차장 입구 찾는 걸 제외하면 최상입니다. 바다 앞 숙소 최고~~\n"
     ]
    },
    {
     "name": "stderr",
     "output_type": "stream",
     "text": [
      "\r 33%|███▎      | 558/1689 [1:08:44<1:05:54,  3.50s/it]"
     ]
    },
    {
     "name": "stdout",
     "output_type": "stream",
     "text": [
      "558 : 뷰는 없지만, 일단 다른 곳에서는 못 자는데 여기는 침대랑 베개가 폭신해서 잘 자요. 에어컨도 마음대로 틀 수 있고 욕조도 넓어요. 조식도 챙겨져서 좋아요.\n"
     ]
    },
    {
     "name": "stderr",
     "output_type": "stream",
     "text": [
      "\r 33%|███▎      | 559/1689 [1:08:48<1:12:38,  3.86s/it]"
     ]
    },
    {
     "name": "stdout",
     "output_type": "stream",
     "text": [
      "559 : 첫날에는 파크 안 보이는데로 갔는데, 거기도 괜찮았어요. 그런데 오긴 방 뷰가 대박이에요. 파크뷰라고 해서 멀리서 보이는 뷰인 줄 알았는데, 그냥 객실에서 바로 보이네요!! 대박대박\n"
     ]
    },
    {
     "name": "stderr",
     "output_type": "stream",
     "text": [
      "\r 33%|███▎      | 560/1689 [1:08:52<1:10:36,  3.75s/it]"
     ]
    },
    {
     "name": "stdout",
     "output_type": "stream",
     "text": [
      "560 : 시설이 너무 깨끗하고 사장님들도 너무 친절하세요. 여름에 너무 더울까 걱정했는데 날씨가 잘 시원져 있어서 그늘 아래 시원하게 쉬다가 왔네요.\n"
     ]
    },
    {
     "name": "stderr",
     "output_type": "stream",
     "text": [
      "\r 33%|███▎      | 561/1689 [1:09:01<1:39:19,  5.28s/it]"
     ]
    },
    {
     "name": "stdout",
     "output_type": "stream",
     "text": [
      "561 : 위치와 가격에 만족하고 룸 컨디션도 좋습니다. 청초호 뷰도 좋았고 셀프 체크인, 아웃으로 진행도 신속하고 편리하며 깨끗해요~ 중앙시장도 가까워 도보 이동해서 다녀오고 주차장이 금방 만차이긴 하지만 호텔 앞 좌우로 대형 주차장을 이용할 수 있어서 편합니다. 가성비가 만족스러워 다음에도 이용할 것 같아요~~ 밤에 청초호의 야경도 예뻐요~\n"
     ]
    },
    {
     "name": "stderr",
     "output_type": "stream",
     "text": [
      "\r 33%|███▎      | 562/1689 [1:09:38<4:38:49, 14.84s/it]"
     ]
    },
    {
     "name": "stdout",
     "output_type": "stream",
     "text": [
      "562 : 진입한 얼마 후에 방문했을 때, 가장 좋았던 것은 깔끔한 인테리어와 침구, 욕실, 위치였다. 특히 초창기 뷔페의 퀄리티는 규모는 자작도 질적으로는 신라호텔 75~80%는 했었음. 조식/석식 뷔페를 이용하면 까다스러운 동행자의 눈치를 보지 않아도 되어 무척 만족스러웠음. 실제 음식 하나하나의 퀄리티가 좋았음. 여기가 비즈니스 호텔은 아니지 않나 생각했었음. 아… 그래도 해운대니까, 같은 라인에서도 좀 더 힘을 썼구나 생각함. 그러나 개장 후 시간이 지나면서 뭔가 나사 빠진 모습들이 나타나는데… 욕실의 자잘한 타일들이 떨어져 나가고, 줄눈에 곰팡이가 생기고… 가격은 더욱 올라가면서 4성을 주구하나 실제로는 3성도 4성도 아닌 애매한 곳으로 들어가 별이. 인테리어 목적으로 들여놓은 가구들에 금이 가고… 침대의 약간 외진 부분과 전화기 근처 가구들 뒷편으로 뭉친 먼지들도 보임. 어메니티의 퀄리티와 하우스키핑의 수준은 굿. 다만 프론트에서 제공하는 서비스의 퀄리티는 그냥 알바 수준… 제대로 된 와인 글라스 제공도 되지 않음. 개실망. 루프탑 수영장은 도태제 어떤 기준으로 공개하는 것인지… 비즈니스, 가족 여행 등으로 5번 이상 이용함. 그러나 더 이상은 아님. No More. 해운대 그랜드 호텔이 없어진 지금, 파라다이스가 아닌 이상 위치의 장점은 있음. 그러나 딱 거기까지. 예전 초창기의 장점과 기대를 오히려 날려먹음. 차라리 위치를 팔려서 신라스테이의 프리미엄 로케이션으로 차별화하는 것이 어떤지… 아… 냉방 최악. 방 온도 낮추는데 거의 하루가 소모됨. 냉방 시스템의 capacity가 너무 낮음. 해운대에서 여름에 투숙객이 몰리는 것은 당연하지 않음?? 설계를 도태제 어떻게 한 것인지??\n"
     ]
    },
    {
     "name": "stderr",
     "output_type": "stream",
     "text": [
      "\r 33%|███▎      | 563/1689 [1:10:52<10:10:20, 32.52s/it]"
     ]
    },
    {
     "name": "stdout",
     "output_type": "stream",
     "text": [
      "563 : 더글라스 하우스에서 1박했습니다. 2호선 강변역 1번 출구 쪽에서 10분마다 있는 셔틀다고 편하게 워커힐 본관으로 이동할 수 있습니다. 본관 앞에서 요청하면 더글라스 하우스로 가는 센다를 불러 줍니다. 요청해야 합니다. 저처럼 그냥 기다리면 안 됩니다. 체크인 시 라운지 이용에 대해 자세히 설명해 줍니다. 보증금 10만 원을 구는데 어차피 객실 내에 실내화(가정가라고 써 있음)랑 맥주까지 딱 무료이기 때문에 체크아웃 시 바로 스위 스위 치소됩니다. 객실이 넓고 특히 침대가 정말 큽니다. 객실에 더글라스가 있어서 은근 기분이 좀 들입니다. 1층에 미니탕구덕이 있는 곳이 있는데 이름은 까먹었습니다. 영등 경기 안 가보셔도 그다지 아쉽지 않으실 겁니다. 온도도 좀 썰렁합니다. 라이브러리도 뭐 그냥 그거만 해도 충분할 듯합니다. 한산할 때 혼자 있기에는 좋았는데 다른 투숙객들과 같이 있기는 편한 공간은 아닐 것 같습니다. 수영복을 챙겨서 본관으로 이동하면 지하에 그지 않은 실내 수영장이 있는데 레인이 셋입니다. 하나는 회원 전용이고 두 개 레인은 투부 타고 노는 아이들이 장악해서 도저히 수영은 할 수 없는 물놀이 장입니다. 저녁 6시쯤이었습니다. 바로 뒤돌아서 객실로 왔습니다. 아침에는 언제지 모르겠습니다. 라운지 후기입니다. 라운지에는 항상 티와 커피가 있습니다. 티는 서너 가지, 커피는 뷔페에서 흔히 보이는 커피 몇종입니다. 찬이 따뜻하지 않아서 티는 금방 차가워집니다. 케이블 충전 가능한 테이블도 있습니다. 3~5시까지 마카롱과 쿠키가 있었습니다. 이 시간에는 한산하고 조용합니다. 7-9시까지는 주류가 제공됩니다. 테이블을 웨이팅해야 할 정도로 투숙객 전부가 이 시간에는 라운지로 몰립니다. 건과류, 나초, 치즈 정도의 간단한 야자와 와인, 맥주 저조해 먹을 수 있는 칵테일(제가 갔을 때는 카루아 밀크)이 있습니다. 저는 아고 스레기라 나초랑 카루아 한 잔 먹고 끝나서 좀 아쉬웠습니다. 7시부터는 조식입니다. 프라이해 먹을 수 있는 계란과 인덕션 3개, 식빵 2종, 모닝빵, 디저트빵 3종 하여 빵이 6가지, 샐러드랑 드레스 2종, 과일은 글, 시리얼 2종, 우유, 요거트는 수퍼 100, 이삭토스트에 들어가는 치즈랑 햄, 채과 버터 정도 있었습니다. 저는 7시에 거의 맞춰 가서 괜찮았지만 조금만 뷰퍼도 계란 프라이나 토스트기 사용하기 불편할 것 같습니다. 전체적인 느낌은 업그레이드된 게스트하우스 셀프 조식입니다. 건물 간, 내에 간 이동이 편하다고는 하지만 이동을 해야 한다는 사실에서 이미 외부로의 심리적 거리는 매우 멀었집니다. 웬만한 부지런함이 아니면 저처럼 객실 안에서 넷플릭스만 보게 될 수도 있습니다. 물론 전 좋았습니다. 저녁 시간에 라운지에 갔다가 다시 출출해진 게 9시쯤이었습니다. 객실에 있는 레스토랑 안내와 인터넷에 검색한 피자힐 영업시간은 11시까지입니다. 피자힐에서 불고기 피자나 사다가 먹어야겠다고 생각했습니다. 데이크 아웃은 20% 할인입니다. 9시 20분쯤 데이크 아웃 예약 전화를 했습니다. 금일 주문이 마감됐다고 합니다. 벌써?! 넉넉하신 분들이라면 워커힐 뷔페를 이용하시면 되겠지만 저는 컵라면이라도 사오걸 하는 생각이 들었습니다. 그냥 숙소라기에는 나가기 번거롭고, 객실은 좋지만 호캉스라기에는 시설이 그다지... 가격이 괜찮아서 더글라스에 갔는데 워커힐에 다 시간다면 본관에 갈 듯합니다.\n"
     ]
    },
    {
     "name": "stderr",
     "output_type": "stream",
     "text": [
      "\r 33%|███▎      | 564/1689 [1:10:54<7:19:53, 23.46s/it] "
     ]
    },
    {
     "name": "stdout",
     "output_type": "stream",
     "text": [
      "564 : 건물은 다소 오래되었지만 전체적으로 깨끗하고 위치가 좋으며 무엇보다 가격이 착해 가성비가 뛰어납니다.\n"
     ]
    },
    {
     "name": "stderr",
     "output_type": "stream",
     "text": [
      "\r 33%|███▎      | 565/1689 [1:10:58<5:29:13, 17.57s/it]"
     ]
    },
    {
     "name": "stdout",
     "output_type": "stream",
     "text": [
      "565 : 객실이 깨끗하고 교통편도 편리하네요ㅎㅎ 특히 사장님이 친절하셔서 잘 이용했습니다. 또 조용하기도 해서 가족들이랑도 놀러 와도 되겠네요~\n"
     ]
    },
    {
     "name": "stderr",
     "output_type": "stream",
     "text": [
      "\r 34%|███▎      | 566/1689 [1:10:59<3:56:56, 12.66s/it]"
     ]
    },
    {
     "name": "stdout",
     "output_type": "stream",
     "text": [
      "566 : 침대만 조금만 더 좋다면 5점입니다.\n"
     ]
    },
    {
     "name": "stderr",
     "output_type": "stream",
     "text": [
      "\r 34%|███▎      | 567/1689 [1:11:05<3:21:14, 10.76s/it]"
     ]
    },
    {
     "name": "stdout",
     "output_type": "stream",
     "text": [
      "567 : 아침 일찍 퇴실하기 위해 시스럽고 물을 뜨니 나오지 않았습니다. 관리실에 가서 물이 안 나온다고 하니 공사 중이라 오전 엄한 시간지 단수라고 하네요. 사람들이 퇴실 준비하는 시간에 단수가 되는 캠핑장이 없이고, 연락 한 통 없는 상황도 어이없네요. 두 번 다시는 방문할 생각이 없습니다.\n"
     ]
    },
    {
     "name": "stderr",
     "output_type": "stream",
     "text": [
      "\r 34%|███▎      | 568/1689 [1:11:07<2:32:54,  8.18s/it]"
     ]
    },
    {
     "name": "stdout",
     "output_type": "stream",
     "text": [
      "568 : 별도의 라운지가 있어서 다 같이 먹기가 좋았습니다. 방에 에어컨은 없고 선풍기가 있어요.\n"
     ]
    },
    {
     "name": "stderr",
     "output_type": "stream",
     "text": [
      "\r 34%|███▎      | 569/1689 [1:11:11<2:08:55,  6.91s/it]"
     ]
    },
    {
     "name": "stdout",
     "output_type": "stream",
     "text": [
      "569 : 사진이랑 똑같은 뷰가 너무 좋아요! 커튼이랑 침구류 너무 다나옹. 잠옷도 너무 귀엽고 직원분들도 너무 친절하세요! 다시 방문하고 싶습니다!\n"
     ]
    },
    {
     "name": "stderr",
     "output_type": "stream",
     "text": [
      "\r 34%|███▎      | 570/1689 [1:11:13<1:42:01,  5.47s/it]"
     ]
    },
    {
     "name": "stdout",
     "output_type": "stream",
     "text": [
      "570 : 젊은 느낌의 호텔 직원분들이 아주 친절해요. 주차장이 넉넉해서 좋았어요.\n"
     ]
    },
    {
     "name": "stderr",
     "output_type": "stream",
     "text": [
      "\r 34%|███▍      | 571/1689 [1:11:16<1:23:26,  4.48s/it]"
     ]
    },
    {
     "name": "stdout",
     "output_type": "stream",
     "text": [
      "571 : 모래시계 공원 앞에 있고 편안하게 잘 쉬었다. 햇볕랑길 잘 걷고 왔습니다.\n"
     ]
    },
    {
     "name": "stderr",
     "output_type": "stream",
     "text": [
      "\r 34%|███▍      | 572/1689 [1:11:18<1:09:37,  3.74s/it]"
     ]
    },
    {
     "name": "stdout",
     "output_type": "stream",
     "text": [
      "572 : 방 업그레이드 서비스로 해주는 척 하는데, 말 끝까지 들어보면 유료예요.. 이상한 호텔.\n"
     ]
    },
    {
     "name": "stderr",
     "output_type": "stream",
     "text": [
      "\r 34%|███▍      | 573/1689 [1:11:21<1:06:21,  3.57s/it]"
     ]
    },
    {
     "name": "stdout",
     "output_type": "stream",
     "text": [
      "573 : 조식 가격은 좀 비싸서 식당이라고 불러야 하나 식당에서 불러지 먹었는데, 밥 먹을만 하고 가격은 강남 불러지 가격 정도 해서 괜찮았어요.\n"
     ]
    },
    {
     "name": "stderr",
     "output_type": "stream",
     "text": [
      "\r 34%|███▍      | 574/1689 [1:11:27<1:20:24,  4.33s/it]"
     ]
    },
    {
     "name": "stdout",
     "output_type": "stream",
     "text": [
      "574 : 리모델링해서 엄청 깔끔하고 침구도 새거더라구요~ 화장실을 중요하게 생각하는데 냄새 없이 정말 깨끗해서 편안하게 이용했어요~ 창밖으로 동강도 보이고 해질 때 풍경이 압권이었어요 ㅎㅎ 직원분들도 친절하시고 종종 이용할 것 같아요.\n"
     ]
    },
    {
     "name": "stderr",
     "output_type": "stream",
     "text": [
      "\r 34%|███▍      | 575/1689 [1:11:30<1:12:12,  3.89s/it]"
     ]
    },
    {
     "name": "stdout",
     "output_type": "stream",
     "text": [
      "575 : 진짜 생각지도 않고 너무 괜찮아. 오래됐다고 걱정했는데, 씨메르는 신세계 가성비 최고의 특급 호텔인 만큼 서비스도 최고야.\n"
     ]
    },
    {
     "name": "stderr",
     "output_type": "stream",
     "text": [
      "\r 34%|███▍      | 576/1689 [1:11:37<1:28:46,  4.79s/it]"
     ]
    },
    {
     "name": "stdout",
     "output_type": "stream",
     "text": [
      "576 : 지하철역에서 걸어서 1분... 너무나 좋은 위치에 있는 호텔입니다. 물론 차로 방문했지만 주차 공간도 여유롭고 편하게 이용했네요. 직원분들도 너무나 친절하게 응대해 주시고 객실에 난방도 잘 들어오고 침구류도 새것을 구매한 것처럼 깨끗하고 관리가 잘 되어 있네요. 서울 올라올 때마다 이용할 것 같습니다.\n"
     ]
    },
    {
     "name": "stderr",
     "output_type": "stream",
     "text": [
      "\r 34%|███▍      | 577/1689 [1:11:41<1:24:08,  4.54s/it]"
     ]
    },
    {
     "name": "stdout",
     "output_type": "stream",
     "text": [
      "577 : 완전 좋은데요. 왜 별점이 적은지 이유를 모르겠네요. 객실도 깨끗하고 친절하고, 화장실도 리모델링된 깨끗한 호텔인데 거기에 취사도 되니 더 좋아요.\n"
     ]
    },
    {
     "name": "stderr",
     "output_type": "stream",
     "text": [
      "\r 34%|███▍      | 578/1689 [1:11:43<1:10:28,  3.81s/it]"
     ]
    },
    {
     "name": "stdout",
     "output_type": "stream",
     "text": [
      "578 : 오래된 건물이지만 전망은 굿... 바베큐는 꽝입니다.... 비추입니다.\n"
     ]
    },
    {
     "name": "stderr",
     "output_type": "stream",
     "text": [
      "\r 34%|███▍      | 579/1689 [1:12:36<5:46:53, 18.75s/it]"
     ]
    },
    {
     "name": "stdout",
     "output_type": "stream",
     "text": [
      "579 : 12월 1일 아버지가 환갑이어서 솔솔하게 가족끼리 방람 신려 부산 여행을 선택했고, 큰 방 쓰려고 4인지만 룸 3개, 더블베드 3개인 6인실 오션뷰 B를 예약했습니다. 방문 전날까지 직원과 문자로 연락을 취할 때도 아무 말 없다가 체크인 하러 하니 방 한 개에 에어컨에서 물이 새는데 아직 수리가 안 됐다고 하며 2인실 방을 하나 더 주더군요. 받은 객실도 바로 옆 방이라 오케이 했습니다. 막상 확인했을 때는 물이 새는 게 한참 됐는데 수리를 안 한 것인지 방치한 건지 곰팡이가 꽤 있더군요. 방문 닫고 안 쓰면 문제 없겠다 싶었습니다. 방을 둘러보던 중 문체의 방 말고 다른 방 천장에서도 물이 새더군요. 직원분께 얘기하니 같이 확인해 보자고 해서 확인시켜 줬더니 갑자기 원래 방 2개가 문제라고, 객실을 한 개 더 드린 건데 전담하던 직원의 실수로 방이 한 개만 문제라고 전달한 것 같다고 하더군요. 어이가 없었습니다. 같이 확인한 직원이 그 말이 사실이라면 본인 확인하러 올 필요도 없이 바로 얘기를 하면 될 것을 마치 모르고 있던 문제를 확인했고 머리를 굴려서 뒤지려 하는구나 하는 느낌이 들더군요. 3룸 중 2룸이 문제가 있는데 숙박 전날까지 연락을 취했는데 사전에 얘기도 없었다가 체크인하니 갑자기 문제가 있다? 그런데 올라가 보니 들은 거 말고 또 문제가 있다?? 상식적으로 이해가 쉽지 않았습니다. 부모님도 모시고 와서 크게 문제 살고 싶지 않아 바꿔줄 객실을 확인해 달라고 했습니다. 5분쯤 뒤에 왔서는 물이 조금 새는 건 사용하시는데 큰 문제가 없을 듯하다며 체크아웃 시간 연장 등으로 편의를 좀 봐드리겠다고 하더군요. 확간 났습니다. 문제가 크고 작고는 중요하지 않습니다. 사전에 얘기하지 않은 문제를 체크인 할 때 얘기해주고, 얘기한 거 말고 또 다른 문제를 발견했는데 문제가 작으니 편의를 봐드리겠다?? 상식적으로 기분 나빠하지 않을 사람이 누가 있겠습니까. 바꿔줄 방이 없으면 금액을 좀 빼달라고 했습니다. 5분 뒤 스파룸으로 업그레이드해 주겠다고 하더군요. 2베드에 작은 거실 한쪽에는 스파가 있었습니다. 여자친구랑 가려면 이용해 볼 법 해도 부모님 모시고 갔는데 좀 안인 것 같아서 할인해달라고 했습니다. 별을 1점 주고 싶은데 2점 주는 이유는 직원이 대처가 매우 미흡하고 장구를 굴리다가 걸려치지만 직원은 정말 작했습니다. 화를 좀 싸기고 나서는 운영하는 놈들이 문제침 처 직원이 무슨 잘못이겠냐, 너무 강하게 얘기했나 싶었습니다. 저 호텔은 직원이 잘 돼서 1점을 더 받은 겁니다. 청소도 불량했습니다. 벽에 곰팡지도 있어서 곰팡지 방, 콤팡이 방, 물 새는 방으로 불렀습니다. 아주 많이 아쉬운 숙소였습니다.\n"
     ]
    },
    {
     "name": "stderr",
     "output_type": "stream",
     "text": [
      "\r 34%|███▍      | 580/1689 [1:12:40<4:24:00, 14.28s/it]"
     ]
    },
    {
     "name": "stdout",
     "output_type": "stream",
     "text": [
      "580 : 침구류 깔끔하고, 직원들 친절하고, 방 구조 잘 활용해서 불편함 없었네요. 주차비는 공지되어 있으니 당연히 내는 거고, 그 가격 포함하더라도 가성비 좋습니다.\n"
     ]
    },
    {
     "name": "stderr",
     "output_type": "stream",
     "text": [
      "\r 34%|███▍      | 581/1689 [1:12:55<4:25:20, 14.37s/it]"
     ]
    },
    {
     "name": "stdout",
     "output_type": "stream",
     "text": [
      "581 : 2월 11일 토요일 캠핑 리뷰 올려요. 냄새 나는 화장실, 온수 없는 개수대 사용하고 사용료 1만 원. 전기도 없다. 땡이 온돌 지베거려서 마른 잔디 커우 찾고 비취하고 자는데, 밤 12시 어떤 텐트에서 남녀가 성교 절충이 들려서 놀랐다. 미친~~ 그렇게 하고 싶었나ㅎㅎㅎ 파워팩 사용하다 보니 새벽 1시경 배터리 완전 방전되었다. 추워서 못 켜디고 2시 반경 싸구싸구 쩔숙 시작, 새벽 4시 15분에 집으로 귀가 출발했다. 떠나면서 우리가 섹스하고 민망하니깐 도망간 것 같아서 숨술한다. 다시는 가고 싶지 않다.\n"
     ]
    },
    {
     "name": "stderr",
     "output_type": "stream",
     "text": [
      "\r 34%|███▍      | 582/1689 [1:12:57<3:18:48, 10.78s/it]"
     ]
    },
    {
     "name": "stdout",
     "output_type": "stream",
     "text": [
      "582 : 4성급이라 홍보하는데, 싼 게 비지떡이다. 모텔 같은 싸구려 호텔, 별 하나급.\n"
     ]
    },
    {
     "name": "stderr",
     "output_type": "stream",
     "text": [
      "\r 35%|███▍      | 583/1689 [1:13:05<3:03:27,  9.95s/it]"
     ]
    },
    {
     "name": "stdout",
     "output_type": "stream",
     "text": [
      "583 : 오션뷰가 끝내주고 숙소가 엄청 쾌적하고 깨끗했어요! 동해 전망을 볼 수 있는 옥상에서는 포헤미안 팝이츠 커피랑 컵라면 등 무료로 먹을 수 있고, 추울까 봐 담요랑 거란 베딩도 구비해 놓으셨더라고요! 사장님 배려심 짱,, 저녁에 스파하고 아침에 일출 보며 커피 마시고 힐링 잘 하고 갑니다\n"
     ]
    },
    {
     "name": "stderr",
     "output_type": "stream",
     "text": [
      "\r 35%|███▍      | 584/1689 [1:13:11<2:37:35,  8.56s/it]"
     ]
    },
    {
     "name": "stdout",
     "output_type": "stream",
     "text": [
      "584 : 우리 명명이 태리고 서울에서 여행 갔습니다. 너무 깨끗하고 친절하다는 경험으로 가득 찬 여행을 하게 도와주었습니다. 호텔에 반려견 스파, 놀이터 서비스가 있어, 잠깐 맡겨야 하는 사정이 생겨 이용해보았는데 너무 만족스러웠네요. 잘 쉬다 갑니다.\n"
     ]
    },
    {
     "name": "stderr",
     "output_type": "stream",
     "text": [
      "\r 35%|███▍      | 585/1689 [1:13:12<1:59:17,  6.48s/it]"
     ]
    },
    {
     "name": "stdout",
     "output_type": "stream",
     "text": [
      "585 : 여기가 어플 예약을 취소한다는 호텔인가요? 걸러야겠네요.\n"
     ]
    },
    {
     "name": "stderr",
     "output_type": "stream",
     "text": [
      "\r 35%|███▍      | 586/1689 [1:13:21<2:10:03,  7.07s/it]"
     ]
    },
    {
     "name": "stdout",
     "output_type": "stream",
     "text": [
      "586 : 장점과 단점이 아주 명확한 숙소임. 장점은 깨끗하고 친절하며, 특히 뷰가 끝내줌. 그리고 옥상 테라스는 선착순이지만 매우 훌륭함. 단점은 단 하나, 소음. 도로에 붙어있고 방음이 안 되면 바로 앞이 차들이 과속하는 구간이라 소리에 조금이라도 민감하면 귀마개 없이 잠을 못 잠. 결론은 매우 만족스럽게 이용했지만 거의 잠을 설쳐서 매우 피곤했음.\n"
     ]
    },
    {
     "name": "stderr",
     "output_type": "stream",
     "text": [
      "\r 35%|███▍      | 587/1689 [1:13:23<1:44:16,  5.68s/it]"
     ]
    },
    {
     "name": "stdout",
     "output_type": "stream",
     "text": [
      "587 : 가성비 최고고 미친 뷰임 ㅜㅜ 앞으로 속초에 오면 여기 방문할 거임 최고\n"
     ]
    },
    {
     "name": "stderr",
     "output_type": "stream",
     "text": [
      "\r 35%|███▍      | 588/1689 [1:13:26<1:28:53,  4.84s/it]"
     ]
    },
    {
     "name": "stdout",
     "output_type": "stream",
     "text": [
      "588 : 도로 옆 가기도 사우지고, 계곡도 사우지인가요? 같은 말을 좋게 못하시고 사람 기분 나쁘게 하는 분이네요.\n"
     ]
    },
    {
     "name": "stderr",
     "output_type": "stream",
     "text": [
      "\r 35%|███▍      | 589/1689 [1:13:28<1:12:37,  3.96s/it]"
     ]
    },
    {
     "name": "stdout",
     "output_type": "stream",
     "text": [
      "589 : 해운대와 너무 가까워서 좋고, 뷰와 가격 면에서 최상이에요.\n"
     ]
    },
    {
     "name": "stderr",
     "output_type": "stream",
     "text": [
      "\r 35%|███▍      | 590/1689 [1:13:33<1:16:40,  4.19s/it]"
     ]
    },
    {
     "name": "stdout",
     "output_type": "stream",
     "text": [
      "590 : 장사하 아바다가 한눈에 내다보이고 시설이 너무 깨끗하고 조용하며 스파워를 하면 유리창 너머로 바다가 한눈에 들어와 스트레스가 한 방에 싹 사라집니다. 다시 오고 싶은 곳입니다. 적극 추천합니다.\n"
     ]
    },
    {
     "name": "stderr",
     "output_type": "stream",
     "text": [
      "\r 35%|███▍      | 591/1689 [1:13:38<1:22:39,  4.52s/it]"
     ]
    },
    {
     "name": "stdout",
     "output_type": "stream",
     "text": [
      "591 : 입실 5일 밑만 남은 상태에서 취소 요청하면 100% 환불을 못 받고, 차등 환불도 안 되니 예약하시려는 분들 참고하세요. 저는 호텔 홈페이지에서 예약했다가 3일 전에 취소 요청해서 돈 날렸습니다.\n"
     ]
    },
    {
     "name": "stderr",
     "output_type": "stream",
     "text": [
      "\r 35%|███▌      | 592/1689 [1:13:43<1:26:57,  4.76s/it]"
     ]
    },
    {
     "name": "stdout",
     "output_type": "stream",
     "text": [
      "592 : 여기 좋아. 이젠 간다. 그 옆집 하라버지는 조용하고 좋다. 그런데 시우 아줌마가 작은 수갈락 안 주고 산수하는데, 그거 얼마 한다고 안 주냐. 속상하게 배부며 사싶다. 숫자랑 좀 주고 해요. 아오, 진짜.\n"
     ]
    },
    {
     "name": "stderr",
     "output_type": "stream",
     "text": [
      "\r 35%|███▌      | 593/1689 [1:13:46<1:16:37,  4.19s/it]"
     ]
    },
    {
     "name": "stdout",
     "output_type": "stream",
     "text": [
      "593 : 오픈 시기에 비해 룸 컨디션이 상당히 좋지 않고 청소 상태도 불량합니다. 무엇보다 직원들이 불친절하고 서비스 수준이 엉망입니다.\n"
     ]
    },
    {
     "name": "stderr",
     "output_type": "stream",
     "text": [
      "\r 35%|███▌      | 594/1689 [1:13:47<59:19,  3.25s/it]  "
     ]
    },
    {
     "name": "stdout",
     "output_type": "stream",
     "text": [
      "594 : 학회 때문에 다녀왔어요. 좋아요\n"
     ]
    },
    {
     "name": "stderr",
     "output_type": "stream",
     "text": [
      "\r 35%|███▌      | 595/1689 [1:13:49<51:22,  2.82s/it]"
     ]
    },
    {
     "name": "stdout",
     "output_type": "stream",
     "text": [
      "595 : 단지 묵는 용이라면 가도 괜찮지만 조식은 기대하지 않는 게 좋습니다.\n"
     ]
    },
    {
     "name": "stderr",
     "output_type": "stream",
     "text": [
      "\r 35%|███▌      | 596/1689 [1:14:01<1:43:18,  5.67s/it]"
     ]
    },
    {
     "name": "stdout",
     "output_type": "stream",
     "text": [
      "596 : 여기 주차 공간 없다고 장애인 구역에 세우는 분들이 있는데, 거기다 서울 방에 바로 앞 노상에다 주차하세요. 5분당 300원입니다. 노상 영업 시간 외에는 공짜입니다. 그리고 장애인 구역 이반 신고 시 경찰 contacting 중일 때 장애인 구역 이반 신고하려고 하면 거리 노들이 민원 넣는다고 경찰이 접지합니다. 이반충 아재, 아짐에다 만나 거리면 경찰한테 따지지 말고 과태료 그냥 내라. 그리고 회장 내는 경비한테 장애인 주차 이반 신고자 있으면 신고하지 말라고 가치하나 보냅니다. 차라리 워커힐이나 롯데 가세요.\n"
     ]
    },
    {
     "name": "stderr",
     "output_type": "stream",
     "text": [
      "\r 35%|███▌      | 597/1689 [1:14:03<1:22:58,  4.56s/it]"
     ]
    },
    {
     "name": "stdout",
     "output_type": "stream",
     "text": [
      "597 : 가격도 너무 비싸고 화장실에서 바퀴벌레가 나왔네요ㅠ..\n"
     ]
    },
    {
     "name": "stderr",
     "output_type": "stream",
     "text": [
      "\r 35%|███▌      | 598/1689 [1:14:07<1:16:25,  4.20s/it]"
     ]
    },
    {
     "name": "stdout",
     "output_type": "stream",
     "text": [
      "598 : 체크인 줄 서고, 엘리베이터 줄 서고, 스케이트장 줄 서고, 스케이트 대여 줄 서고, 줄 서느라 시간 다 썼음.\n"
     ]
    },
    {
     "name": "stderr",
     "output_type": "stream",
     "text": [
      "\r 35%|███▌      | 599/1689 [1:14:17<1:52:24,  6.19s/it]"
     ]
    },
    {
     "name": "stdout",
     "output_type": "stream",
     "text": [
      "599 : 네이버 후기를 보면 안 되네요. 방이 너무 고닥지만합니다. 에어비앤비로 예약하면 방이 큰 것 같은데, 호텔은 작아요. 옆에 오피스텔은 에어비앤비 예약이라서 방이 클 듯해요. 호텔은... 호텔이 아니고 모텔이에요. 아니, 모텔보다 작아요 그기가... 후... 수영장은 안 가봐서 모르겠어요. 여튼 답답하네요. 오션뷰라도 하긴 저렴하긴 한데 ㅠㅠㅠ 그냥 오실 거면 에어비앤비 예약해서 오세요.\n"
     ]
    },
    {
     "name": "stderr",
     "output_type": "stream",
     "text": [
      "\r 36%|███▌      | 600/1689 [1:14:25<2:00:35,  6.64s/it]"
     ]
    },
    {
     "name": "stdout",
     "output_type": "stream",
     "text": [
      "600 : 깔끔하고 너무 괜찮네요~ 특히나 사장님들이 너무 인심이 후하시고 따뜻한 분들이네요~ 후기 정말 잘 안 남기는데, 사모님이 너무 잘 안내해 주시고 인심이 좋으셔서 후기 작성해서 남깁니다. 그리고 화장실과 샤워장도 너무 깔끔해서 좋았던 것 같습니다. 재있게 잘 놀다 갑니다. 다음에 또 놀러 올게요~^^\n"
     ]
    },
    {
     "name": "stderr",
     "output_type": "stream",
     "text": [
      "\r 36%|███▌      | 601/1689 [1:14:40<2:44:06,  9.05s/it]"
     ]
    },
    {
     "name": "stdout",
     "output_type": "stream",
     "text": [
      "601 : 캠핑장 주인분들이 너무 친절하시고 공공 시설과 텐트 내부가 청결합니다. 포트게임도 빌려주셔서 굳이 차 타고 나갈 필요 없이 아주 잘 놀다 왔습니다! 강아지 코코와 팥이랑 산책도 잘 하다 왔어요 다음 글램핑도 이곳으로 다시 오고 싶어요. 아침에 시내물 소리 들으면서 일어나는데 너무 상쾌했습니다!(불멍 하면서 바로 앞에 시내가도 흐르니 분위기가 너무 좋았어요.) 내부는 히터와 보일러 모두 잘 들어오고 아직 새벽이면 춥긴 하지만 침대에 전기 장판도 깔려 있어 따뜻하게 잘 잤습니다! 다만 10시, 11시 이후 매너 타임을 지키는 분들이 많이 없었어요 ㅠㅠ 그래도 푹 잘 쉬다 왔어요!\n"
     ]
    },
    {
     "name": "stderr",
     "output_type": "stream",
     "text": [
      "\r 36%|███▌      | 602/1689 [1:14:42<2:08:35,  7.10s/it]"
     ]
    },
    {
     "name": "stdout",
     "output_type": "stream",
     "text": [
      "602 : 넓고 쾌적하며, 베딩도 좋고~ 부대시설도 잘 되어 있어서 편안하게 이용하고 왔어요~\n"
     ]
    },
    {
     "name": "stderr",
     "output_type": "stream",
     "text": [
      "\r 36%|███▌      | 603/1689 [1:15:09<3:55:55, 13.03s/it]"
     ]
    },
    {
     "name": "stdout",
     "output_type": "stream",
     "text": [
      "603 : 누군은 카맵이 네비 연동이라 내 바로 찾아가기 때문에 찐 후기라고 하는데, 일단 카맵 후기는 아무도 쓸 수 있어서 알아서 판단하시면 될 듯합니다. 부산역 1출구와 가깝고 모텔 정도 맞습니다. 비성수기랑 숙소 치소는 안 다했어요. 테이블 거울 아래 상자에 일회용 치약, 칫솔, 면도기가 있어요. 욕실에 공용 샴푸, 린스, 바디워시가 있고 비누와 세면용품은 없으니 챙기세요. 치약, 칫솔도 가져오세요. 일회용은 알까요. 룸에서 냄새 나는 건 맞아요. 근처가 바닷가라 습하고 꿉꿉한 냄새가 나요. 창문을 열고 에어컨을 틀고 10~20분 있으면 나아집니다. 방음이 안 됩니다. 기차 소리는 이층장을 닫고 있으면 괜찮은데 발망치 소리가 심하네요. 우당탕 소리도 심하고요. 직원분들이 불친절하진 않지만 친절하지도 않습니다. 맘에 안 드시면 저도 같은 태도로 대하시면 돼요. 에어컨 전원을 두 번 눌러야 하고 바람 세기, 상하좌우, 온도 상태가 안 나타나는 에어컨이라 그냥 더보 막 누르세요. 개새께 걸 놓으시면 추워져요. 비성수기 1박에 세금 포함 5만 원 결제했고 딱 그 정도입니다. 그 이상이면 비추입니다.\n"
     ]
    },
    {
     "name": "stderr",
     "output_type": "stream",
     "text": [
      "\r 36%|███▌      | 604/1689 [1:15:12<3:02:59, 10.12s/it]"
     ]
    },
    {
     "name": "stdout",
     "output_type": "stream",
     "text": [
      "604 : 사장님이 친절하심. 가격 대비 시설은 보통. 근처에 해동용구사가 있는데 별로임. 다 막아 놔서 제대로 볼 수 없고 멀리서 보는 게 전부.\n"
     ]
    },
    {
     "name": "stderr",
     "output_type": "stream",
     "text": [
      "\r 36%|███▌      | 605/1689 [1:15:40<4:39:05, 15.45s/it]"
     ]
    },
    {
     "name": "stdout",
     "output_type": "stream",
     "text": [
      "605 : 아무리 저렴이구이라도 신라의 네임밸류가 있는데 너무 수준 이하였음. 가장 실망했던 부분은 방음이 너무 심하게 안 되어 있어서 (다른 데서 여닫을 때마다 누가 우리 방에 들어온 줄 착각할 정도) 혹시 특정 구역이 문제인가 프론트에 문의를 했더니, 호텔은 안전상 이유로 방음이 좀 안 될 수도 있다고 이해할 수 없는 답변을 줌. 그런 논리라면 방음이 잘 되는 호텔은 안전하지 않은 걸로. 불편하시면 옆 방 투숙객에게 주의를 주겠다길래 옆 방에서 시끄럽게 구는 게 아닌데 소리가 다 들리니까 문제인 거라고 말함. 겉으로는 그러사해 보이지만 디테일이 많이 떨어짐.   1. 방에 유리컵 자체가 없음. 비닐 쮸운 종이컵 제공. 화장실도 마찬가지. (글라스를 요청했더니 직접 내려와서 가지고 가야 한다고 함. 이건 불친절이 아니라 서비스 매뉴얼의 문제인 듯)  2. 사이드 테이블 깨져 있음.  3. 책상 의자와 소파의 페브릭 위생 상태 심각함. 얼룩덜룩.  4. 욕실 커튼이 없어서 샤워 시 바닥까지 물이 뜸.  5. 어메니티를 제대로 채워 놓지 않음. (쓰던 게 있어도 새로 채워줘야 하는데, 점약 정신을 매뉴얼에 반영한 건지 아니면 하우스키핑 직원의 실수인 건지 칫솔과 비누는 아예 서로 구매해 주지 않음.)   4성급 수준은 확실히 아닌 듯.\n"
     ]
    },
    {
     "name": "stderr",
     "output_type": "stream",
     "text": [
      "\r 36%|███▌      | 606/1689 [1:15:41<3:21:17, 11.15s/it]"
     ]
    },
    {
     "name": "stdout",
     "output_type": "stream",
     "text": [
      "606 : 서울 병원에 갈 때마다 늘 애용하고 있어요.\n"
     ]
    },
    {
     "name": "stderr",
     "output_type": "stream",
     "text": [
      "\r 36%|███▌      | 607/1689 [1:15:43<2:28:07,  8.21s/it]"
     ]
    },
    {
     "name": "stdout",
     "output_type": "stream",
     "text": [
      "607 : 넓고 깨끗해서 가족 모두 너무너무 좋아했어요~\n"
     ]
    },
    {
     "name": "stderr",
     "output_type": "stream",
     "text": [
      "\r 36%|███▌      | 608/1689 [1:16:11<4:15:48, 14.20s/it]"
     ]
    },
    {
     "name": "stdout",
     "output_type": "stream",
     "text": [
      "608 : 벡틀체크 부산을 혼자서 걷기 여행 중, 둘째 날 잡은 숙소입니다. 대조대 내 비즈니스 호텔이 많지는 않네요. 여기는 레지던스인데, 일반 호텔과는 달리 장기 투숙자를 위한 몇 가지 살림살이가 함께 있습니다. 개인적으로 '드롬' 세탁기는 마음에 들었습니다. 청결은 아주 깨끗한 인상은 못 받았습니다. 전체적으로 한번 훌을 데는 나쁘지 않았으나, 자세히 구석구석을 보니 머리카락도 보이고 하네요. 제 방에 문제가 있는지는 모르겠으나 리모컨 불짝동으로 티비를 켜지 못했습니다. 따로 호출하지 않았습니다. 어차피 핸드폰만 봤던지라. 주숙한 호텔은 맞으나 몇 가지 아쉬운 점은 1. 디테일한 청결에서 조금 미흡했던 점 2. 레지던스 특질을 모른 채, 식사할 수 있는 인프라가 있는지라, 시키나 기타 세제 도구도 있는 줄 알고 물어봤다가 초파리 점(제가 잘 몰라서 물어본다고 했는데, 프런트에 앉아 있는 여성 한 분이 썩소가 아직도 기억에 남네요. 매우 무안했습니다) 3. 근처 음식점과 편의시설이 부족한 점 4. 비치 전망이 썩 나이스하지 않은 점(붓들거리나 낡은 여선과 바로 앞이 해양대학과인지 아침부터 쿠로 소리가 들리는 점 등) 숙박에 나쁘지 않으나, 근처 가격 대비 좀 나가는 편이니 잘 알아보시고 이용하시기 바랍니다.\n"
     ]
    },
    {
     "name": "stderr",
     "output_type": "stream",
     "text": [
      "\r 36%|███▌      | 609/1689 [1:16:15<3:19:15, 11.07s/it]"
     ]
    },
    {
     "name": "stdout",
     "output_type": "stream",
     "text": [
      "609 : 창 밖으로 하천 산책길이 보이는 뷰 추천! 아침 조식은 건의 집밥 같아요. 다양한 음식은 아니지만, 냉동식품 하나 없이 따뜻하고 정성을 든 조식이었어요.\n"
     ]
    },
    {
     "name": "stderr",
     "output_type": "stream",
     "text": [
      "\r 36%|███▌      | 610/1689 [1:16:16<2:24:29,  8.03s/it]"
     ]
    },
    {
     "name": "stdout",
     "output_type": "stream",
     "text": [
      "610 : 합리적인 가격, 만족스러운 청결도\n"
     ]
    },
    {
     "name": "stderr",
     "output_type": "stream",
     "text": [
      "\r 36%|███▌      | 611/1689 [1:16:19<2:00:32,  6.71s/it]"
     ]
    },
    {
     "name": "stdout",
     "output_type": "stream",
     "text": [
      "611 : 너무너무 강추합니다!!! 웬만하면 후기 안 쓰는데 여기 호텔 정말 사진으로 담을 수 없을 만큼 너무너무 깨끗하고 뷰가 너무너무 예뻐요~~\n"
     ]
    },
    {
     "name": "stderr",
     "output_type": "stream",
     "text": [
      "\r 36%|███▌      | 612/1689 [1:16:23<1:46:17,  5.92s/it]"
     ]
    },
    {
     "name": "stdout",
     "output_type": "stream",
     "text": [
      "612 : 전망이 좋고 여러 관광지 방문이 용이합니다. 그중 최고는 카운터나 직원분들이 너무 친절합니다! 옥상 전망도 좋고… 단점은 주변 편의시설이 멀니다!\n"
     ]
    },
    {
     "name": "stderr",
     "output_type": "stream",
     "text": [
      "\r 36%|███▋      | 613/1689 [1:16:26<1:29:43,  5.00s/it]"
     ]
    },
    {
     "name": "stdout",
     "output_type": "stream",
     "text": [
      "613 : 바다가 눈앞에... 먹거리가 풍부한 멋진 항구가 15분 내 거립니다. 삼척 내에 볼거리도 다양합니다...\n"
     ]
    },
    {
     "name": "stderr",
     "output_type": "stream",
     "text": [
      "\r 36%|███▋      | 614/1689 [1:16:31<1:29:09,  4.98s/it]"
     ]
    },
    {
     "name": "stdout",
     "output_type": "stream",
     "text": [
      "614 : 오만원에 가성비 좋은 호텔이네요. 카운터에 계시는 사장님이 너무 친절하세요. 방에 들어가자마자 너무 좁아서 당황하긴 했지만 혼자 자는 거라 괜찮았네요. 엘리베이터 옆 방이라 그런지 방음이 아쉬웠네요.\n"
     ]
    },
    {
     "name": "stderr",
     "output_type": "stream",
     "text": [
      "\r 36%|███▋      | 615/1689 [1:16:41<1:54:39,  6.41s/it]"
     ]
    },
    {
     "name": "stdout",
     "output_type": "stream",
     "text": [
      "615 : 황금 연휴라 비쌀 때 간 건데도 너무 만족했어요. 사진하고 도가고 안에 공기 청정기가 있어서 너무 쾌적하고요. 지금까지 묵었던 숙소들 중 5성급 호텔이 아니고선 머리가락 꼭 하나씩은 발견했는데, 여기는 전혀 없었습니다. 앞으로 부산에 오면 무조건 여기만 올 거예요. 후기 알바인 거 아닌가 고민되시는 분들, 걱정 말고 오세요! 만족하실 거예요! (제가 그렇게 고민하다가 왔었는데 대만족하고 가거든요ㅎㅎ)\n"
     ]
    },
    {
     "name": "stderr",
     "output_type": "stream",
     "text": [
      "\r 36%|███▋      | 616/1689 [1:16:42<1:24:07,  4.70s/it]"
     ]
    },
    {
     "name": "stdout",
     "output_type": "stream",
     "text": [
      "616 : 수영장이 있어서 좋네요.\n"
     ]
    },
    {
     "name": "stderr",
     "output_type": "stream",
     "text": [
      "\r 37%|███▋      | 617/1689 [1:16:44<1:11:14,  3.99s/it]"
     ]
    },
    {
     "name": "stdout",
     "output_type": "stream",
     "text": [
      "617 : 객실도 깨끗하고 위치도 좋았고, 무엇보다 전망이 마음에 들었습니다. 다음에도 재방문하고 싶네요.\n"
     ]
    },
    {
     "name": "stderr",
     "output_type": "stream",
     "text": [
      "\r 37%|███▋      | 618/1689 [1:16:46<59:07,  3.31s/it]  "
     ]
    },
    {
     "name": "stdout",
     "output_type": "stream",
     "text": [
      "618 : 미중 다들고 왔는데 안 보내준다 해서 경찰까지 불렀어요. 가지 마세요.\n"
     ]
    },
    {
     "name": "stderr",
     "output_type": "stream",
     "text": [
      "\r 37%|███▋      | 619/1689 [1:16:48<55:19,  3.10s/it]"
     ]
    },
    {
     "name": "stdout",
     "output_type": "stream",
     "text": [
      "619 : 진짜 굿굿! 위치도 좋고 객실도 넓고 편안해요. 직원들이 너무 친절해서 기분이 좋았어요!\n"
     ]
    },
    {
     "name": "stderr",
     "output_type": "stream",
     "text": [
      "\r 37%|███▋      | 620/1689 [1:16:51<54:39,  3.07s/it]"
     ]
    },
    {
     "name": "stdout",
     "output_type": "stream",
     "text": [
      "620 : 체크인부터 체크아웃까지 사진만 계속 찍었네요. 뷰가 너무 예쁘고 직원분들도 친절하세요ㅎㅎ\n"
     ]
    },
    {
     "name": "stderr",
     "output_type": "stream",
     "text": [
      "\r 37%|███▋      | 621/1689 [1:16:54<53:03,  2.98s/it]"
     ]
    },
    {
     "name": "stdout",
     "output_type": "stream",
     "text": [
      "621 : 깨끗함 무지엊산. 스톤크릭과도 가까움. 1층 노브랜드 매장 맞은편 이디아 카페\n"
     ]
    },
    {
     "name": "stderr",
     "output_type": "stream",
     "text": [
      "\r 37%|███▋      | 622/1689 [1:16:58<57:20,  3.22s/it]"
     ]
    },
    {
     "name": "stdout",
     "output_type": "stream",
     "text": [
      "622 : 시티뷰 굿! 접근성도 굿! 친절/가성비 굿! 여자인 친구들끼리 파티하기 좋은 곳 :) 모든 공간이 이쁘고 시로적이다! 추천합니다.\n"
     ]
    },
    {
     "name": "stderr",
     "output_type": "stream",
     "text": [
      "\r 37%|███▋      | 623/1689 [1:17:09<1:38:43,  5.56s/it]"
     ]
    },
    {
     "name": "stdout",
     "output_type": "stream",
     "text": [
      "623 : 도보 특가로 다녀왔습니다. \"싼 게 비지 떡\"이라는 말이 딱 들어맞네요. 5층 복도 끝 방이었는데, 천장 누수로 공사 중인 복도 옆 방을 주신 게 속상했고, 방에 들어가 보니 싱글 침대가 3개 놓여 있었습니다. 더블 베드가 없어서 어쩔 수 없다고 하셨지만 아쉬운 것도 어쩔 수가 없네요. 화장실이나 문 두 곳곳이 낡아 있고 찌든 때가 지워지질 않는 등 관리가 부실한 곳이었습니다. 침대는 나무 침대처럼 딱딱했어요. 어쨌든 한 번은 몰라도 다시 갈 정도는 확실히 아닌 것 같습니다.\n"
     ]
    },
    {
     "name": "stderr",
     "output_type": "stream",
     "text": [
      "\r 37%|███▋      | 624/1689 [1:17:10<1:14:58,  4.22s/it]"
     ]
    },
    {
     "name": "stdout",
     "output_type": "stream",
     "text": [
      "624 : 무인 시스템이라 편하게 지내다 왔네요.\n"
     ]
    },
    {
     "name": "stderr",
     "output_type": "stream",
     "text": [
      "\r 37%|███▋      | 625/1689 [1:17:12<1:02:21,  3.52s/it]"
     ]
    },
    {
     "name": "stdout",
     "output_type": "stream",
     "text": [
      "625 : 파크 하얏트  최고예요  예쁜 사진이 많았는데 못 찾겠네요\n"
     ]
    },
    {
     "name": "stderr",
     "output_type": "stream",
     "text": [
      "\r 37%|███▋      | 626/1689 [1:17:16<1:06:44,  3.77s/it]"
     ]
    },
    {
     "name": "stdout",
     "output_type": "stream",
     "text": [
      "626 : 침대는 푹신푹신 좋았지만 청소 상태가 조금 별로였어요. 양치거베 머리카락이 붙어 있더라고요ㅎ 그것만 빼면 가격도 저렴하고 시설도 나쁘지 않고 괜찮아요!\n"
     ]
    },
    {
     "name": "stderr",
     "output_type": "stream",
     "text": [
      "\r 37%|███▋      | 627/1689 [1:17:18<58:13,  3.29s/it]  "
     ]
    },
    {
     "name": "stdout",
     "output_type": "stream",
     "text": [
      "627 : 미세먼지 때문에 기계주차장에 차 넣었네요. 방이 크고 새 건물이라 좋았습니다.\n"
     ]
    },
    {
     "name": "stderr",
     "output_type": "stream",
     "text": [
      "\r 37%|███▋      | 628/1689 [1:17:25<1:17:06,  4.36s/it]"
     ]
    },
    {
     "name": "stdout",
     "output_type": "stream",
     "text": [
      "628 : 직원들이 진짜 친절하신!!! 그리고 뭐 더럽다고 하는데 5성급 호텔 가도 먼지는 있던데… 뷰는 진짜 개쩔! 근처에 시장, 편의점 등등 편의시설도 많고 바다도 바로 앞이라서 진짜 쪄어요. 저렴한 것까지 생각하면 뷰만 없는 호텔인 것 같아요!! 굿굿~~!!\n"
     ]
    },
    {
     "name": "stderr",
     "output_type": "stream",
     "text": [
      "\r 37%|███▋      | 629/1689 [1:17:32<1:29:03,  5.04s/it]"
     ]
    },
    {
     "name": "stdout",
     "output_type": "stream",
     "text": [
      "629 : 제가 가봤던 곳이 많지는 않지만 정말 인상 깊게 이용했던 곳 중 한 곳입니다~ 이름에 걸맞게 아주 깔끔하구요. 여러 가지로 신경 쓰는 모습이 보였습니다. 사장님이 아주 깐깐하게 운영하셔서 유지가 잘 되는 것 같습니다. 제가 간 곳 중 베스트 2 안에 드는데 하나는 롯데호텔입니다. 감사합니다~\n"
     ]
    },
    {
     "name": "stderr",
     "output_type": "stream",
     "text": [
      "\r 37%|███▋      | 630/1689 [1:17:34<1:12:06,  4.09s/it]"
     ]
    },
    {
     "name": "stdout",
     "output_type": "stream",
     "text": [
      "630 : 서비스 꽝꽝꽝 별 한 개도 아까워요~ 꽂 망할 서비스\n"
     ]
    },
    {
     "name": "stderr",
     "output_type": "stream",
     "text": [
      "\r 37%|███▋      | 631/1689 [1:17:38<1:12:45,  4.13s/it]"
     ]
    },
    {
     "name": "stdout",
     "output_type": "stream",
     "text": [
      "631 : 여기 호텔은 주차장도 넓고 상가에 커피숍, 편의점이 있어 편리합니다. 객실은 바다도 보이고 좋은 것 같아요. 근데 건물 때문에 바다가 반만 보임 ㅠ ㅠ\n"
     ]
    },
    {
     "name": "stderr",
     "output_type": "stream",
     "text": [
      "\r 37%|███▋      | 632/1689 [1:17:39<56:44,  3.22s/it]  "
     ]
    },
    {
     "name": "stdout",
     "output_type": "stream",
     "text": [
      "632 : 호텔 직원분들 고생 많으십니다.\n"
     ]
    },
    {
     "name": "stderr",
     "output_type": "stream",
     "text": [
      "\r 37%|███▋      | 633/1689 [1:17:47<1:19:40,  4.53s/it]"
     ]
    },
    {
     "name": "stdout",
     "output_type": "stream",
     "text": [
      "633 : 전반적으로 방의 청결도 및 어메니티는 만족스럽습니다. 수건도 넉넉하게 비치되어 있고, 이 숙소에서 가장 만족스러운 건 직원들의 친절도입니다. 해당 숙소에서 물건을 놓고 와 전화로 “분실물이 있다. 찾아봤 달라” 말씀드렸더니 매우 친절하게 응대해 주셨습니다. 개인적으로 직원분들 덕분에 다시 방문하고 싶을 정도입니다.\n"
     ]
    },
    {
     "name": "stderr",
     "output_type": "stream",
     "text": [
      "\r 38%|███▊      | 634/1689 [1:18:16<3:29:46, 11.93s/it]"
     ]
    },
    {
     "name": "stdout",
     "output_type": "stream",
     "text": [
      "634 : 고급 호텔이 시장 똥 같이 느껴졌던 호텔은 여기가 처음인 것 같다. 한국을 다시 방문하면 다시 묵을 일은 없는 듯. 하우 버거도 별로 맛이 없었음. 방 분위기는 대체로 좀 올드함. 영빈관 뷰로 3박 4일을 묵었는데 후회 막심함. 그냥 하루만 자고 다른 호텔 갈 걸 후회함. 아침 조식도 별로 맛이 없고 시끄럽고 시장 똥 같았음. 사람만 바글바글함. 편안하게 오 있고 내려가고 싶은데 다들 엄청 꾸미고 나옴. 언에인 봉대구를 이 호텔에서 3번이나 마주침. 프론트 데스크 직원들은 대부분 친절하였고 공기 청정기와 가습기는 미리 예약하지 않으면 사용할 수 없음. 식사하는데 여자 신발 직원이 고참 직원을 살짝 부디었는데 엄청 재려보는 모습을 목격해서 밥 먹다 제할 편함. 이런 광경을 2틀 연속 보게 됨. 낮에는 셔틀버스가 있어서 편함. 밤에는 셔틀이 없어서 갬히듬. 본인은 외국인 집이라 차가 없어서 고생했음. 몇 모르고 호텔 컨시어지에 택시 좀 불러 달라 했다가 지들 협력 업체인 검정 점보택시를 불러서 택시 요금 엄청 바가지를 당함. 택시는 각자 부리는 게 답임. 검정 점보택시는 바가지를 씌우는 택시임. 신라호텔 다시는 안 갈 것 같음. 체크아웃하고 나오기 전 패스트리 부티크에서 녹차 맛 케이크 한 조각 사서 나왔는데 가격이 너무 비쌌음. 맛은 달지 않고 괜찮았음.\n"
     ]
    },
    {
     "name": "stderr",
     "output_type": "stream",
     "text": [
      "\r 38%|███▊      | 635/1689 [1:18:19<2:44:06,  9.34s/it]"
     ]
    },
    {
     "name": "stdout",
     "output_type": "stream",
     "text": [
      "635 : 너무 마음에 드네요. 방금 도착했는데 평일이라 그런가 레이크뷰에서 오션뷰로 업그레이드해주셨어요. 좋은 시간 보내고 갈게요.\n"
     ]
    },
    {
     "name": "stderr",
     "output_type": "stream",
     "text": [
      "\r 38%|███▊      | 636/1689 [1:18:23<2:14:11,  7.65s/it]"
     ]
    },
    {
     "name": "stdout",
     "output_type": "stream",
     "text": [
      "636 : 아이들을 위한 시설이 있다는 건 장점이지만 단체 캠핑으로 소음과 음악 소리로 감투 장서 쉴 수 없는 곳이었습니다. 자리 유닛 없어서일지도 모르겠지만요.\n"
     ]
    },
    {
     "name": "stderr",
     "output_type": "stream",
     "text": [
      "\r 38%|███▊      | 637/1689 [1:18:24<1:40:49,  5.75s/it]"
     ]
    },
    {
     "name": "stdout",
     "output_type": "stream",
     "text": [
      "637 : 너무 좋아요. 다음에 들를 때 또 갈게용~\n"
     ]
    },
    {
     "name": "stderr",
     "output_type": "stream",
     "text": [
      "\r 38%|███▊      | 638/1689 [1:18:33<1:57:59,  6.74s/it]"
     ]
    },
    {
     "name": "stdout",
     "output_type": "stream",
     "text": [
      "638 : 위치는 지하철역 올라오면 바로 앞이라 엄청 편하지만, 캐리어는 절대 끌고 올라올 수 없을 정도의 계단을 올라와야 해요. 이벤트 가격으로 너무 저렴하긴 하지만, 객실에서 와이파이가 안 터지고, 엘리베이터 부인은 시간에는 각 층마다 서는 빠침을 감안하셔야 합니다. 체크인 4시에 체크아웃 10시구요. 체크아웃 10시에 하려면 은근 빡쎄요.\n"
     ]
    },
    {
     "name": "stderr",
     "output_type": "stream",
     "text": [
      "\r 38%|███▊      | 639/1689 [1:18:37<1:40:37,  5.75s/it]"
     ]
    },
    {
     "name": "stdout",
     "output_type": "stream",
     "text": [
      "639 : 강릉역이랑 가까웠고 사진보다 객실이 넓직했어요. 객실이 깔끔하고 조식이 맛있었고, 사장님도 친절해서 좋았습니다~*\n"
     ]
    },
    {
     "name": "stderr",
     "output_type": "stream",
     "text": [
      "\r 38%|███▊      | 640/1689 [1:18:39<1:24:47,  4.85s/it]"
     ]
    },
    {
     "name": "stdout",
     "output_type": "stream",
     "text": [
      "640 : 음식은 식어 있고 리필도 안 해주네요. 숙박하는데 왜 주차 요금은 만 원씩이나 내야 하는지 모르겠어요.\n"
     ]
    },
    {
     "name": "stderr",
     "output_type": "stream",
     "text": [
      "\r 38%|███▊      | 641/1689 [1:18:41<1:09:18,  3.97s/it]"
     ]
    },
    {
     "name": "stdout",
     "output_type": "stream",
     "text": [
      "641 : 주차장이 진입로가 너무 협소해서 불편했던 거 외에는 가성비 좋은 호텔이었다.\n"
     ]
    },
    {
     "name": "stderr",
     "output_type": "stream",
     "text": [
      "\r 38%|███▊      | 642/1689 [1:18:44<1:00:29,  3.47s/it]"
     ]
    },
    {
     "name": "stdout",
     "output_type": "stream",
     "text": [
      "642 : 디럭스 더블룸 감성이 미쳤어요. 너무 좋습니다!!!! 완전 편안하게 자고 왔어요.\n"
     ]
    },
    {
     "name": "stderr",
     "output_type": "stream",
     "text": [
      "\r 38%|███▊      | 643/1689 [1:18:54<1:36:14,  5.52s/it]"
     ]
    },
    {
     "name": "stdout",
     "output_type": "stream",
     "text": [
      "643 : 1. 주차 불편, 몇 대 때 수가 없어서 어디 나가기가 무서움.   2. 욕실, 샤워 한 번 하면 한강됨. 안말 지울 때 허접하게 시멘트를 발른 듯 함.   3. 편의점 운영하시는 부부가 하시는 듯 한데, 여자분이 스트레스감 있는 건지 무뚝뚝하게 대답도 무성의.   4. 소음이 장난 아님. 방음이 안 되는 것 같음.   5. 에어컨 청소 상태 불결.   6. 변기 불결. 참고하세요.\n"
     ]
    },
    {
     "name": "stderr",
     "output_type": "stream",
     "text": [
      "\r 38%|███▊      | 644/1689 [1:19:53<6:17:46, 21.69s/it]"
     ]
    },
    {
     "name": "stdout",
     "output_type": "stream",
     "text": [
      "644 : 최악의 여행, 지난 주말 숙박한 레지던스. 물론 뷰와 내부는 시설에 감탄하게 되었다. 하지만 체크아웃 후 소파에 폴펜 자국이 묻어있다는 확인 작 연락을 보냈다고 매니저가 전화가 왔다. 참고로 화이트 소파임. 처음엔 일행이 체크인 들어가서 아는 순간 폴펜 자국이 묻어있는 소파를 보고 \"뭐지\" 하면서 배경을 찍은 사진이 있었다. 이런 일이 일어날 수 있을지 모르는 신의 한 수였나 보다. 고객한테 확인 차 연락을 드렸어요. 하우스키핑에서 연락이 와서 그렇다고 (내가 처음 당황한 사람은 아니었고, 예약한 일행이 연락을 받았음) 그래서 우리도 체크인 당시 폴펜 자국이 있어서 \"뭐지\" 하면서 사진 찍은 게 있다고 사진 정보와 찍은 시간을 보내줬더니 알겠다고 하면서 마무리 되는 듯 했지만, 미안함에 다음에 재방문 시 와인 한 병과 스타벅스 커피 쿠폰을 준다고 하면서. 그렇지만 8시 넘은 시간에 또 다른 직원이 또 전화왔다. 똑같은 내용으로. 그래서 내가 전화를 해서 무슨 경우냐고 물어봤다. 자세적으로 해결할 수 있는 문제였지만 고객한테 확인한다고 연락을 취해봤다. 그래서 나는 자체적으로 해결할 수 있는데 굳이 퇴실한 고객한테 두 번씩이나, 그것도 싸구려 숙박업소도 아니고, 전산에 남겨져 있지 않냐고 따졌다. 그러니 소파가 수입 제품이고 크리닝이 안 될 사이에 수입을 해야 할 수도 있는데 똑같은 제품이 없음 에로사항이 많다고 하였다. 결국은 누군가에게 이 크리닝비를 청구해야 하는데, 우리가 사진이 없었다면 된통 당할 뻔했다. 내가 처음에 내부에서 처리할 수 있는 문제를 왜 고객한테 확인을 해야 하는지, 이건 크리닝비 달라는 이도 아니었나. 그건 아니라고 오해라고 하는데, 참 이게 어떻게 오해라고 할 수 있는지. 그리고 죄송하는 자리에서 쿠폰이랑 와인 한 병 준다고 해놓고는 또 다른 씽이 치건이 연락을 취했다고 했다. 프론트 직원이 10명 내외라고 하는데 3고대 하면 참 의사소통이 안 되어서 어이없다. 그러고 내가 이 문제에 대해서 어떻게 할 건지, 상당히 기분 나쁘다고 하니 죄송이 의미로 커피 쿠폰 줬다고 한다. 그리고 본인 편호는 개인정보라 알려주기 힘든데 자기가 개인폰으로 연락을 줘서 제산을 당했다고 하면서 왜 우리 일행은 본인들이 바로 보고 연락을 했을까? 이것도 입장을 바꾸면 개인정보 아닌가? 요즘 같은 시대에. 참고로 5308호실입니다. 체크인 시 호실 도가움 구선 꼭 확인하세요. 다시는 엘시티 안 갑니다. 주차장에서 로비 갈 때 직원 엄청 많습니다. 안내 인사하고 끝이고, 미로 카드 키에 적힌 대로 찾아가면 됩니다. 자기들끼리 살살몰올 몰라서 있는 게 업무인가 싶습니다. 보통은 손님들 체크인, 체크아웃 시간에 기본적으로 신경을 쓰기 말련입니다만. 레지던스라서 그런가 그런 착각이 들 정도입니다. 70만원임, 작은돈은 아니었겠죠? 오랜만에 만난 친구들이랑 같은 방에서 있고 싶어서 택했던 것이었는데, 너무 후회가 됩니다. 차라리 다른 호텔 방 두 개 잡아서 대처하고 나왔으면 좋았을 건데요.\n"
     ]
    },
    {
     "name": "stderr",
     "output_type": "stream",
     "text": [
      "\r 38%|███▊      | 645/1689 [1:19:55<4:34:41, 15.79s/it]"
     ]
    },
    {
     "name": "stdout",
     "output_type": "stream",
     "text": [
      "645 : 믿고 가는 아늑, 드디어 부산에도 오픈했네요. 기대됩니다 +_+\n"
     ]
    },
    {
     "name": "stderr",
     "output_type": "stream",
     "text": [
      "\r 38%|███▊      | 646/1689 [1:20:20<5:18:44, 18.34s/it]"
     ]
    },
    {
     "name": "stdout",
     "output_type": "stream",
     "text": [
      "646 : 카페트가 방 전체에 깔린 객실인데, 객실에 들어가면 재채기와 코물 콤뽀가 나옵니다. 먼지가 많은 곳에서 항상 나다나는 중상인데, 카페트 청소 상태가 의심스러워요. 겉만 번지르르하고 내부는 올드하며 청결 상태가 별로인 것 같아요. 한옥 컨셉이면 굳이 청소도 힘들고 먼지나 진드기가 많은 수밖에 없는 카페트를 깔지 않아도 되었을 텐데요. 외관은 자세히 들여다보면 한국 전통 문이가 있지만, 저에게는 중국 어디가에 있는 엄청 크고 유명하지만 맛은 좀 별로인 중국 요리점이 연상됩니다. 짐을 들고 가기엔 힘들고, 외부 주차장에서 짐을 끌고 들어가는 것도 편의성이 떨어집니다. 굳이 이 숙소를...?라는 생각이 듭니다. 차라리 여기나 관광지와 인접한 모텔 중에 여기보다 깨끗하고 좋은 곳이 많을 것 같아요. 특급 호텔이라기엔 특급의 의미가 뭔지 잘 모르겠어요. 친절만으로 커버하기에는 내내 코가 간지럽고 코물과 재채기를 하느라 잠을 설칠 정도입니다. 객실 내부 소음도 심한 편이고 방음은 저참한 수준이에요. 특급이라는 등급이 무용합니다. 다시 오지 않을 것 같아요. 돈을 더 주더라도 접근성이 좋고 깨끗한 곳에 가는 게 낫다고 생각합니다.\n"
     ]
    },
    {
     "name": "stderr",
     "output_type": "stream",
     "text": [
      "\r 38%|███▊      | 647/1689 [1:20:39<5:22:07, 18.55s/it]"
     ]
    },
    {
     "name": "stdout",
     "output_type": "stream",
     "text": [
      "647 : 가성비로 승부하는 곳. 요즘 오피스텔 미친 뉴금감의 집을 잠시 임대한 기분으로 사용한다는 느낌이다. (더욱이 무인텔처럼 알아서 체크인/아웃하고 본으로 암호기를 받아 입/퇴실 하는 시스템이라 ) 청초호 뷰와 시내, 속초 중앙시장이 가까워 도보로 다닐 수 있는 장점이 있는 반면, 침대는 슈퍼싱글 사이즈라 다소 작고, 천문 호텔이 아니다 보니 어메니티나 옵션은 거의 없다. 또 직원이 실수도 많아 자잘하게 업무 처리가 아쉽다. 게다가 주차장은 부족해 사실상 건물 내 주차는 이용할 수 없다고 보면 되고, 대신 롯데옹 공영 1, 2 주차장(2가 더 가깝고 실내라 좋음)을 하루 한 번 무료로 처리해 준다. (단, 출차 전 미리 얘기해야 하는 불편함이 있음 ) 많은 단점에도 불구하고 가격이 합리적이라 뚜벅이족, 1~2인 여행객에게 추천할 만한 숙소다.\n"
     ]
    },
    {
     "name": "stderr",
     "output_type": "stream",
     "text": [
      "\r 38%|███▊      | 648/1689 [1:20:40<3:52:31, 13.40s/it]"
     ]
    },
    {
     "name": "stdout",
     "output_type": "stream",
     "text": [
      "648 : 호텔 주차 시설과 방 세면장 시설이 불편했습니다.\n"
     ]
    },
    {
     "name": "stderr",
     "output_type": "stream",
     "text": [
      "\r 38%|███▊      | 649/1689 [1:20:47<3:18:29, 11.45s/it]"
     ]
    },
    {
     "name": "stdout",
     "output_type": "stream",
     "text": [
      "649 : 가격 및 주차 외에는 다시는 방문할 예정이 없습니다. 방음이 전혀 안 됩니다. (위에서 샤워하는 물소리가 방 안에서 소음처럼 엄청 크게 들림. 양파트 기준 들리하는 소리처럼) 새벽에 누군가 돌아다니면 모든 방문을 두드리고 다녔으나 반응이 안 됐습니다. 방에 침이자가 들어오는 줄 알고 새벽에 다 깼습니다.\n"
     ]
    },
    {
     "name": "stderr",
     "output_type": "stream",
     "text": [
      "\r 38%|███▊      | 650/1689 [1:20:48<2:26:36,  8.47s/it]"
     ]
    },
    {
     "name": "stdout",
     "output_type": "stream",
     "text": [
      "650 : 위치나 시설은 좋아요. 청결은 살짝 아쉽습니다.\n"
     ]
    },
    {
     "name": "stderr",
     "output_type": "stream",
     "text": [
      "\r 39%|███▊      | 651/1689 [1:20:58<2:30:22,  8.69s/it]"
     ]
    },
    {
     "name": "stdout",
     "output_type": "stream",
     "text": [
      "651 : 숙소에서 찍은 사진이에요 ㅎ 가격도 좋고 신축 건물이라 깨끗하고 좋았습니다. 편의점도 같이 운영하셔서 편했구요. 무엇보다 제 여자친구가 물겁을 캔서 발바닥이 많이 달겨서 피가 많이 났는데 ㅠㅠ 늦은 시간이었는데 할머니께서 직접 올라오셔서 지료까지 해주시고 가셔서 너무 죄송하고 감사했습니다. 또 갈 거예요. 바다는 정동진 바다가 가장 맑고 색이 이쁜 것 같습니다.\n"
     ]
    },
    {
     "name": "stderr",
     "output_type": "stream",
     "text": [
      "\r 39%|███▊      | 652/1689 [1:21:02<2:07:15,  7.36s/it]"
     ]
    },
    {
     "name": "stdout",
     "output_type": "stream",
     "text": [
      "652 : 주인 아주머니도 친절하시고, 직원분도 친절! 방도 엄청 깔끔한데 크기도 넉넉하고 넓고 쾌적했음! 부산 여행 동안 2박 묵었는데 딱 좋았다누~~!!!\n"
     ]
    },
    {
     "name": "stderr",
     "output_type": "stream",
     "text": [
      "\r 39%|███▊      | 653/1689 [1:21:21<3:07:43, 10.87s/it]"
     ]
    },
    {
     "name": "stdout",
     "output_type": "stream",
     "text": [
      "653 : 부산이라는 곳에 태어나서 처음 방문했습니다. 낮 12시쯤 이곳에 예약을 하였습니다. 트윈방 2개를 서울에서 약 5시간 넘게 걸려서 도착했습니다. 방문하여 예약자라고 말하고 방을 달라고 하니 트윈방 하나밖에 없다고 하더군요. 디럭스 방에서 이불을 줄 테니 바닥에서 자라고 하더라구요. ㅋㅋ 연성을 좀 높이다가 그냥 하라고 동로들이 말해서 결제만 하고 식사부터 하고 다시 방문했더니 트윈방도 없다는 겁니다. ㅋㅋ 사욕을 하려다가 혼자 화를 내고 있으니 방이 갑자기 있다고 하더군요. 들어가봤더니 예약했던 트윈방이 아니고 콘도 방 같은 거더라구요. ㅋㅋ 청소는 개판에 묻은 졸졸졸 나오고 진짜 ㅋㅋ 일하러 방문한 거라 어지억지 넘어간 건데 사장 아주만, 적성에 안 맞으면 다른 일을 하세요. 다신 같은 분 때문에 다른 분들이 피해를 입는 겁니다.\n"
     ]
    },
    {
     "name": "stderr",
     "output_type": "stream",
     "text": [
      "\r 39%|███▊      | 654/1689 [1:21:36<3:27:03, 12.00s/it]"
     ]
    },
    {
     "name": "stdout",
     "output_type": "stream",
     "text": [
      "654 : 배리콘도 이제 그만 와야겠다 결심했어요. 하.. TV 채널도 나오는 게 거의 없고 '이러 없음'만 출출이 드네요. 청소는 열심히 하신 듯 하나 너무 낡았어요. 커튼도, 베개도... 욕실 변기는 아주 힘껏 눌러야 물이 내려가고요, 샤워기 헤드는 벗겨지네요. 작은 날개가 같은 거 두 마리 잡았습니다. 도어락이랑 인덕션은 새것으로 교체되어서 좋은데, 에어컨은 또 너무 낡았고... ㅠㅠ 편의점은 8시 ~ 24시 영업이라고 안내되어 있지만, 밤 9시에 갔는데 문 닫혀있네요. 아침 먹을 곳도 없어서 차 타고 나가서 먹어야 해요. 이젠 안 올래요 배리콘도...\n"
     ]
    },
    {
     "name": "stderr",
     "output_type": "stream",
     "text": [
      "\r 39%|███▉      | 655/1689 [1:21:43<3:01:52, 10.55s/it]"
     ]
    },
    {
     "name": "stdout",
     "output_type": "stream",
     "text": [
      "655 : 여기는 무조건 파라노마 객실로 가야 함! 진짜 뷰가 미쳤고 색감도 미쳐서 사진이 엄청 예쁘게 나옴  펜션이나 호텔 느낌보다는 오피스텔 느낌이라 친구 집 놀러 온 느낌 나서 더 좋았던 것 같음 ㅎㅎ 조식 서비스도 신청해서 먹었는데 생각보다 조식 종류도 많고 맛도 있었음.\n"
     ]
    },
    {
     "name": "stderr",
     "output_type": "stream",
     "text": [
      "\r 39%|███▉      | 656/1689 [1:21:46<2:24:29,  8.39s/it]"
     ]
    },
    {
     "name": "stdout",
     "output_type": "stream",
     "text": [
      "656 : 마운틴 호텔에 묵었는데, 이 호텔에 번대가 있어서 신고하고 협조 전화 드렸는데 전화 응대가 너무 불친절하네요. 말이 끝나기도 전에 끊어버리네요.\n"
     ]
    },
    {
     "name": "stderr",
     "output_type": "stream",
     "text": [
      "\r 39%|███▉      | 657/1689 [1:21:53<2:14:58,  7.85s/it]"
     ]
    },
    {
     "name": "stdout",
     "output_type": "stream",
     "text": [
      "657 : 공사가 끝나지 않은 상태라 객실 소음이 너무 컸어요. 옥상 공사하는 것 같았는데 옆 건물 공사라고 하셨구요. 아침 8시에 소음이 심해서 프론트에 말씀드리니 낮에 외출 안 하나고 물어보시던데, 공사 중이시면 손님을 안 받으셔야 하는 것 같아요ㅜㅜ\n"
     ]
    },
    {
     "name": "stderr",
     "output_type": "stream",
     "text": [
      "\r 39%|███▉      | 658/1689 [1:21:56<1:52:19,  6.54s/it]"
     ]
    },
    {
     "name": "stdout",
     "output_type": "stream",
     "text": [
      "658 : 아이들과 함께 가면 좋아 보이네요. 수영장도 있고 개인 노천탕도 있고 분위기도 좋고 사장님도 친절하시고 좋았습니다. 재방문 의사가 있습니다.\n"
     ]
    },
    {
     "name": "stderr",
     "output_type": "stream",
     "text": [
      "\r 39%|███▉      | 659/1689 [1:21:58<1:25:47,  5.00s/it]"
     ]
    },
    {
     "name": "stdout",
     "output_type": "stream",
     "text": [
      "659 : 방 컨디션도 좋고 편안하게 잘 쉬다 갑니다\n"
     ]
    },
    {
     "name": "stderr",
     "output_type": "stream",
     "text": [
      "\r 39%|███▉      | 660/1689 [1:22:03<1:29:30,  5.22s/it]"
     ]
    },
    {
     "name": "stdout",
     "output_type": "stream",
     "text": [
      "660 : 처음 후기 써보는데 가격, 시설, 위치, 편의 시설 다 별 5개인데 프론트에 손님 대응하시는 분이 정말 싸가지 없어 별 1개도 아깝습니다. 기본적으로 귀찮음을 받아게 가시고 대응하시는데 내가 리조트 운영사 사장이면 바로 해고합니다.\n"
     ]
    },
    {
     "name": "stderr",
     "output_type": "stream",
     "text": [
      "\r 39%|███▉      | 661/1689 [1:22:07<1:20:57,  4.73s/it]"
     ]
    },
    {
     "name": "stdout",
     "output_type": "stream",
     "text": [
      "661 : 방에서 새기랑 큰 바퀴벌레 두 마리를 봤어요. 바퀴벌레가 아니고 바다에서 들어온 벌레라고 설명하시던데, 아무튼 방에 벌레가 있어요.\n"
     ]
    },
    {
     "name": "stderr",
     "output_type": "stream",
     "text": [
      "\r 39%|███▉      | 662/1689 [1:22:17<1:50:09,  6.44s/it]"
     ]
    },
    {
     "name": "stdout",
     "output_type": "stream",
     "text": [
      "662 : 머리카락이 더 많았는데 사진 좀 찍어둘 걸... 문 열니까 한쪽에 이따 터져든 샤워가운 그대로... 쓰레기도 방치해두고.. 청소 상태가 엉망임. 카페트에 머리카락도 많고 화장실 바닥에 맥주 소트 드? 한 자국이 개 많았는데 그대로 있었고.. 샤워 용품도 진짜 완전 텅 비어 있어서 카운터 가서 받아옴. 청소를 진짜... 뭐 같은 함. 이거 말고 욕조에도 머리카락 있었음. 스타일러? 그것도 안에 청소 안 하는지 옷 먼지랑 옷 시리 있고..\n"
     ]
    },
    {
     "name": "stderr",
     "output_type": "stream",
     "text": [
      "\r 39%|███▉      | 663/1689 [1:22:19<1:25:49,  5.02s/it]"
     ]
    },
    {
     "name": "stdout",
     "output_type": "stream",
     "text": [
      "663 : 더 좋은 방 2인실, 깨끗하고 화장실이 커서 만족합니다.\n"
     ]
    },
    {
     "name": "stderr",
     "output_type": "stream",
     "text": [
      "\r 39%|███▉      | 664/1689 [1:22:25<1:29:04,  5.21s/it]"
     ]
    },
    {
     "name": "stdout",
     "output_type": "stream",
     "text": [
      "664 : 해운대에 친구들이랑 놀러 가서 좋은 추억 만들고 왔어요. 그리고 우리가 숙박했던 펜션 위치가 정말 핫플러스 중심이었어요~ 주변 맛집 엄청 많았고요, 가볼 만한 곳도 사장님께 여쭤여보시면 다 알려져요. 다음에 또 방문할 예정입니다.\n"
     ]
    },
    {
     "name": "stderr",
     "output_type": "stream",
     "text": [
      "\r 39%|███▉      | 665/1689 [1:22:26<1:08:50,  4.03s/it]"
     ]
    },
    {
     "name": "stdout",
     "output_type": "stream",
     "text": [
      "665 : 깔끔하고 친절하고 ㅎㅎ\n"
     ]
    },
    {
     "name": "stderr",
     "output_type": "stream",
     "text": [
      "\r 39%|███▉      | 666/1689 [1:22:32<1:16:40,  4.50s/it]"
     ]
    },
    {
     "name": "stdout",
     "output_type": "stream",
     "text": [
      "666 : 수영장 물이 좀 차가워요. 실내 수영장은 수몬 필수고 야외는 안 써도 돼요. 거리딸기, 해방촌 술술 걸어가기도 좋고 화장실이 밖에서 보이는 게 좀 애파... 화장실도 작아요. 그래도 야경도 멋지고 좋아요.\n"
     ]
    },
    {
     "name": "stderr",
     "output_type": "stream",
     "text": [
      "\r 39%|███▉      | 667/1689 [1:22:34<1:04:54,  3.81s/it]"
     ]
    },
    {
     "name": "stdout",
     "output_type": "stream",
     "text": [
      "667 : 예전에도 왔었는데, 리모델링 했네요. 아주 깨끗! 여전히 너무 친절하시네요^^\n"
     ]
    },
    {
     "name": "stderr",
     "output_type": "stream",
     "text": [
      "\r 40%|███▉      | 668/1689 [1:22:38<1:06:16,  3.90s/it]"
     ]
    },
    {
     "name": "stdout",
     "output_type": "stream",
     "text": [
      "668 : 다신 이용하고 싶지 않네요. 숙박비에 주차비는 별도로 내야 하고, 퇴실 시 쓰레기도 직접 분리해야 하고, 방음도 안 되어 부모님들이 시끄러워서 잠도 설쳤네요...\n"
     ]
    },
    {
     "name": "stderr",
     "output_type": "stream",
     "text": [
      "\r 40%|███▉      | 669/1689 [1:22:44<1:15:25,  4.44s/it]"
     ]
    },
    {
     "name": "stdout",
     "output_type": "stream",
     "text": [
      "669 : 도로 소음 때문에 잠을 잘 수가 없음!!! 뷰도 별로.. 뒷자리는 개수대를 가려면 빵 돌아가야 함. 야외 개수대라 뜨거운 물도 안 나옴ㅠㅠ 화장실, 샤워실은 시설 나쁘지 않음. 다신 안 간다.\n"
     ]
    },
    {
     "name": "stderr",
     "output_type": "stream",
     "text": [
      "\r 40%|███▉      | 670/1689 [1:22:46<1:02:56,  3.71s/it]"
     ]
    },
    {
     "name": "stdout",
     "output_type": "stream",
     "text": [
      "670 : 룸서비스 갈비 반상.. 또 먹고 싶어요.. 라운지 공연 너무 좋고요..\n"
     ]
    },
    {
     "name": "stderr",
     "output_type": "stream",
     "text": [
      "\r 40%|███▉      | 671/1689 [1:22:49<59:08,  3.49s/it]  "
     ]
    },
    {
     "name": "stdout",
     "output_type": "stream",
     "text": [
      "671 : 너무 깨끗하고 깔끔한 숙소였어요~ 와보고 싶었던 호텔이었는데 기대 이상이라 다음에 또 오고 싶어요. 잘 놀다가 갑니다.\n"
     ]
    },
    {
     "name": "stderr",
     "output_type": "stream",
     "text": [
      "\r 40%|███▉      | 672/1689 [1:22:52<58:44,  3.47s/it]"
     ]
    },
    {
     "name": "stdout",
     "output_type": "stream",
     "text": [
      "672 : 해리단길을 둘러보고 미남에서 한잔하고 숙박했어요. 모텔 옆에 새벽까지 장사하는 분식집이 있어서 술 한 잔 더 하기가 좋더라구요.\n"
     ]
    },
    {
     "name": "stderr",
     "output_type": "stream",
     "text": [
      "\r 40%|███▉      | 673/1689 [1:22:53<47:49,  2.82s/it]"
     ]
    },
    {
     "name": "stdout",
     "output_type": "stream",
     "text": [
      "673 : 깨끗하고 가격이 저렴하며 다시 방문하고 싶은 곳입니다.\n"
     ]
    },
    {
     "name": "stderr",
     "output_type": "stream",
     "text": [
      "\r 40%|███▉      | 674/1689 [1:23:02<1:19:05,  4.68s/it]"
     ]
    },
    {
     "name": "stdout",
     "output_type": "stream",
     "text": [
      "674 : 주차장 만차인데 외제차는 앞에 세워 주고 체크아웃하고 나올 때 보니 보루쌘는 만차인데도 자연스럽게 주차장으로 들어가더라고요. 무슨 일일까요? 게다가 외부 주차장은 너무 멀고 인적 없는 건물에 성인 남자 혼자서 주차하기도 오싹했다고 합니다. 계속 이런식으로 운영하다가 사고라도 나면 어쩌려고... 두 번 갔지만 두 번 다 외부 주차했습니다. 3시에 가도 만차, 밤 늦게 가도 만차...\n"
     ]
    },
    {
     "name": "stderr",
     "output_type": "stream",
     "text": [
      "\r 40%|███▉      | 675/1689 [1:23:05<1:09:09,  4.09s/it]"
     ]
    },
    {
     "name": "stdout",
     "output_type": "stream",
     "text": [
      "675 : 오늘 처음으로 오나 갔는데 너무 좋았어요! 시설도 좋고 너무너무 만족합니다!!! 자주 와야겠어요ㅎㅎ!\n"
     ]
    },
    {
     "name": "stderr",
     "output_type": "stream",
     "text": [
      "\r 40%|████      | 676/1689 [1:23:08<1:03:08,  3.74s/it]"
     ]
    },
    {
     "name": "stdout",
     "output_type": "stream",
     "text": [
      "676 : 최악이네요. 테이블에 먼지부터 방음, 냄새도 많이 나고 여행 다니면서 리뷰 처음 남깁니다. 최악입니다. 비추.\n"
     ]
    },
    {
     "name": "stderr",
     "output_type": "stream",
     "text": [
      "\r 40%|████      | 677/1689 [1:23:09<50:55,  3.02s/it]  "
     ]
    },
    {
     "name": "stdout",
     "output_type": "stream",
     "text": [
      "677 : 최고!!! 친절하시고 깨끗하고 편해요!!!!!\n"
     ]
    },
    {
     "name": "stderr",
     "output_type": "stream",
     "text": [
      "\r 40%|████      | 678/1689 [1:23:14<58:33,  3.48s/it]"
     ]
    },
    {
     "name": "stdout",
     "output_type": "stream",
     "text": [
      "678 : 삼성은 항상 공산 중인 것 같아요.. 빌리지 뷰 주셨는데 소음 1도 안 나고 좋았어요! 체크인이 늦어졌는데 로비가 21층인 걸 몰라 한참 헤맸어요ㅎㅎ\n"
     ]
    },
    {
     "name": "stderr",
     "output_type": "stream",
     "text": [
      "\r 40%|████      | 679/1689 [1:23:17<56:06,  3.33s/it]"
     ]
    },
    {
     "name": "stdout",
     "output_type": "stream",
     "text": [
      "679 : 석촌호수, 롯데타워, 롯데월드, 코드 레지.. 그 숙소 엘리베이터가 좀 헷갈림.\n"
     ]
    },
    {
     "name": "stderr",
     "output_type": "stream",
     "text": [
      "\r 40%|████      | 680/1689 [1:23:18<45:37,  2.71s/it]"
     ]
    },
    {
     "name": "stdout",
     "output_type": "stream",
     "text": [
      "680 : 호텔 컨디션이 너무 좋아요. 굿굿\n"
     ]
    },
    {
     "name": "stderr",
     "output_type": "stream",
     "text": [
      "\r 40%|████      | 681/1689 [1:23:21<45:32,  2.71s/it]"
     ]
    },
    {
     "name": "stdout",
     "output_type": "stream",
     "text": [
      "681 : 개나군 사진에 속았다. 들어왔더니 청소가 안 돼 있어서 직원에게 불렀더니 올라가야 하냐고 물어보는 어이없는 곳.\n"
     ]
    },
    {
     "name": "stderr",
     "output_type": "stream",
     "text": [
      "\r 40%|████      | 682/1689 [1:24:03<4:03:56, 14.53s/it]"
     ]
    },
    {
     "name": "stdout",
     "output_type": "stream",
     "text": [
      "682 : 먼저 오약하면 이런 식으로 관리하는 곳에는 다신 가고 싶지 않습니다. 상호명이 변경되기 전에 다녀간 분이 추천해 주셔서 다녀온 건데 최악이네요. 위치와 건축이 아까울 정도예요. 눈끈가에겐 어떨냐고 물어보면 말이 됩니다. 처음에 들어왔을 때는 객실 상태가 좋아 보였습니다. 그런데 미니 테이블을 끝내봤을 때 이전 이용자가 흘린 국물이나 자국들이 그대로인 게 보였 때는 불쾌했지만 참고 넘어가려 했습니다. 그런데 욕실 휴지 정리나 변기 청소 상태를 보고 그제서야 프론트에 연락해 조치를 부탁드렸으나 만실이라길래 청소를 부탁했습니다. 변기만 딱 닦고 가시는 것을 보고 또 스트레스를 받았습니다. 죄송하다고는 하시니 넘어가려 했는데 또 발견되는 빨간 자국과 침구류 오염 등... 너무 찝찝했지만 이미 9시가 넘은 늦은 시간이었고 다른 곳에 가긴 어려워 숙박하였습니다. (다음 날 체크아웃과 상의 후 어떤 조치를 취할지 알려주겠다 하셨고) 다음 날 체크아웃 준비 중에 새기 바퀴가 치나가는 걸 발견했습니다. 호텔 측에서는 바퀴는 아닌 것 같다고 치워주시긴 했으나 이번이 벌레가 나온 첫 사례라는 말과 함께 어제 상의한 일은 전혀 소통이 안 된 상태였고, 오히려 담당자분은 청결에 예민하신 분이 객실 상태가 마음에 안 들면 (호텔의 잘못일 경우) 환불 처리도와주고 퇴실한다 하셨는데 전 어제 그런 안내 사항이 아예 없었습니다. 객실 청리가 전부 안 된 게 아닌가요? 라고 하셨는데 제대로 안 닦고 확인도 안 하셨으면서 침구만 정리하면 준비가 된 건가요? 환불은 이미 숙박하여 안 된다는 말뿐이길래 더 이상 말을 할 수 없었습니다. 청소하시는 분에게 교육을 시키겠다 하시는데 저는 이미 불쾌한 상황을 다 겪었는데 추후에 관리되는 게 무슨 의미인지 모르겠고, 청결에 예민한 사람으로 얘기하는 것도 기분 나빴습니다. 다음에 오면 신경 써주겠다 하셨는데 이미 최악의 숙소라 가고 싶지 않습니다. - 사진에서 화장실 쓰레기통은 제가 쓴 화장소물 넣으면서 발견 후 찍은 겁니다. - 벌레는 제가 너무 무섭워해서 찍었다는 생각도 못했습니다.\n"
     ]
    },
    {
     "name": "stderr",
     "output_type": "stream",
     "text": [
      "\r 40%|████      | 683/1689 [1:24:06<3:05:04, 11.04s/it]"
     ]
    },
    {
     "name": "stdout",
     "output_type": "stream",
     "text": [
      "683 : 깔끔하고 좋아요! 조명이 좀 아쉬웠고, 엘리베이터 옆에 정수기가 있다는 안내를 해주지 않아서 하나 가습니다..\n"
     ]
    },
    {
     "name": "stderr",
     "output_type": "stream",
     "text": [
      "\r 40%|████      | 684/1689 [1:24:09<2:24:53,  8.65s/it]"
     ]
    },
    {
     "name": "stdout",
     "output_type": "stream",
     "text": [
      "684 : 겨울에 방문했는데 아늑함의 극치 심지어 라면 음료도 공짜고 착한 가격에 넓은 숙소, 조식도 맛있음.\n"
     ]
    },
    {
     "name": "stderr",
     "output_type": "stream",
     "text": [
      "\r 41%|████      | 685/1689 [1:24:18<2:25:54,  8.72s/it]"
     ]
    },
    {
     "name": "stdout",
     "output_type": "stream",
     "text": [
      "685 : 배정받은 침구류가 더러워서 업그레이드된 방에 갔는데, 침구류는 그나마 깨끗한데 종이 조각이랑 먼지 털어리가 바닥에 떨어져 있었어요. 업그레이드 방으로 가기 전에 다른 방에 갔는데도 비슷하다고 느끼면 취소해주겠다고 하는데, 죄송하다가 먼저 아닌가요? 기분이 별로 안 좋네요. 나중에 청소 관련해서 물어보니까 그때서야 죄송하다고 하시는데, 기분이 그림 좋지 않았어요 ㅠ\n"
     ]
    },
    {
     "name": "stderr",
     "output_type": "stream",
     "text": [
      "\r 41%|████      | 686/1689 [1:24:22<2:03:37,  7.40s/it]"
     ]
    },
    {
     "name": "stdout",
     "output_type": "stream",
     "text": [
      "686 : 외관은 훌륭하고 객실 컨디션은 만족하지만 가격에 비해 서비스가 현저히 떨어지고 객실과 동떨어져 있는 바베큐가 매우 별로이며, 그릴이 좋지 않아 고기가 있는 데 많은 시간이 걸립니다.\n"
     ]
    },
    {
     "name": "stderr",
     "output_type": "stream",
     "text": [
      "\r 41%|████      | 687/1689 [1:24:30<2:06:16,  7.56s/it]"
     ]
    },
    {
     "name": "stdout",
     "output_type": "stream",
     "text": [
      "687 : 청결해서 너무 좋았어요! 객실에서 락스 냄새나 담배 냄새도 나지 않았고, 먼지 없고 깨끗했어요. 욕실 문이 투명하지 않아서 친구랑 지내기에도 좋을 것 같아요. 가끔 밖에서 다 보이는 유리문으로 되어 있으면 가족이나 친구들끼리 민망할 때가 많았는데, 여기는 그렇지 않아서 좋았습니다. 조식도 정갈하고 맛있었습니다. 다음에도 여기에서 지내고 싶네요!!\n"
     ]
    },
    {
     "name": "stderr",
     "output_type": "stream",
     "text": [
      "\r 41%|████      | 688/1689 [1:24:31<1:33:54,  5.63s/it]"
     ]
    },
    {
     "name": "stdout",
     "output_type": "stream",
     "text": [
      "688 : 직원이 방을 깨끗하게 치우지 않았다.\n"
     ]
    },
    {
     "name": "stderr",
     "output_type": "stream",
     "text": [
      "\r 41%|████      | 689/1689 [1:24:37<1:35:02,  5.70s/it]"
     ]
    },
    {
     "name": "stdout",
     "output_type": "stream",
     "text": [
      "689 : 최악입니다. 자는데 화재경보기가 울려서 잠도 못 자고, 오작동이라는데 자세한 설명도 없어서 불안해서 떠고 있습니다. 다시 자고 싶지만 불안해서 나가려는데 환불도 안 해준더라고요. 불친절에 방도 별로고... 1점도 아깝습니다.\n"
     ]
    },
    {
     "name": "stderr",
     "output_type": "stream",
     "text": [
      "\r 41%|████      | 690/1689 [1:24:42<1:33:06,  5.59s/it]"
     ]
    },
    {
     "name": "stdout",
     "output_type": "stream",
     "text": [
      "690 : 체크인 할 때부터 레이트 체크아웃 해주셨고 친절했어요~~ 뷰는 파라다이스 뷰 ㅋㅋ 조식도 종류가 많지는 않았지만 배 터지게 먹고 왔어요. 화장실 욕조 물이 잘 안 빠지는 건 아쉬움.\n"
     ]
    },
    {
     "name": "stderr",
     "output_type": "stream",
     "text": [
      "\r 41%|████      | 691/1689 [1:24:46<1:25:15,  5.13s/it]"
     ]
    },
    {
     "name": "stdout",
     "output_type": "stream",
     "text": [
      "691 : 화장실이 깨끗하고 직원분들이 친절하시며 가격이 저렴하고 가성비가 좋습니다. 바로 앞에 바다도 있어요~ 칫솔과 치약이 없는 것이 아쉬워요. 재방문 각!!\n"
     ]
    },
    {
     "name": "stderr",
     "output_type": "stream",
     "text": [
      "\r 41%|████      | 692/1689 [1:24:52<1:28:32,  5.33s/it]"
     ]
    },
    {
     "name": "stdout",
     "output_type": "stream",
     "text": [
      "692 : 와이프랑 연애 때부터 다니던 숙소인데, 여기 가려고 속초 여행 갈 정도니 머, 뷰 도랐습니다 간지 오래돼서 기억이 잘..  온 게 후회되는 곳  한번 정도는 와볼 만한 곳  근처에 있다면 갈 만한 곳  오길 잘한 곳  이곳을 가기 위한 여행\n"
     ]
    },
    {
     "name": "stderr",
     "output_type": "stream",
     "text": [
      "\r 41%|████      | 693/1689 [1:24:53<1:07:01,  4.04s/it]"
     ]
    },
    {
     "name": "stdout",
     "output_type": "stream",
     "text": [
      "693 : 당일 취소라니 알량득었습니다.\n"
     ]
    },
    {
     "name": "stderr",
     "output_type": "stream",
     "text": [
      "\r 41%|████      | 694/1689 [1:25:44<4:59:28, 18.06s/it]"
     ]
    },
    {
     "name": "stdout",
     "output_type": "stream",
     "text": [
      "694 : 사진이 진짜 내 마음을 딱 대변하네 ㅋㅋㅋ 네이버 리뷰가 안 좋은 게 반이면 이유가 있는 거임.. 근데 이정도로 안 좋으면 리뷰 이벤트로 덮을 게 아니라 보통 개선하는 게 맞지 않나요? 배째라인 거 같아 안타깝네요..  전 진짜 다신 안 갈 듯..  내 옆에서 말하는 것처럼 층간소음/층간소음 엄청 심함, 안내도 미흡, 무작위 & 수동적인 태도(버멍만 하는 로봇인 줄), 시설 불편 & 위생 & 노후화, 불친절의 끝판왕, 편명을로 어메니티 지급 x(다른 지급하는 큰 호텔들은 뭐임?) 오자마자 층간소음 엄청 심하길래(쿵쾅대면서 걸어다님) 내려가서 여자 직원한테 말함> 좀 보더니 다닐 객실이라고 말하고 끝; 층이 그렇거나 많은데 다일 객실이 리가 있음? 유일하다고? ㅋㅋ 어이가 없어서 그럼 윗층에 전화나 다른 조치라도 해달라니까 또 수동적으로 좀 보태가는 갑자기 위에 공사 중이었다고 함ㅋㅋ 본인 호텔 공사하는 거쯤은 알고 있어야 하지 않음? 찾아보고 아는 건 무슨 일..  이렇게 본인 호텔에 무지한 사람이 있나 싶었음> 그럼 언제 끝나는지 확인해줘야 하지 않음? 언제까지 하는지 또 내가 묵어봄^^ 근처서야 곧 끝날 거라면서 자세히는 또 몰룬다고 함; 무작위한 응대의 끝판왕 부산 5만원짜리 숙소도 이 정도까지 아니었는데 센스고 뭐고 여긴 너무 직원-고객 응대가 심각했음;  객실에 뭐 하나 없고 그 흔한 모텔보다 불편하고 노후되고 위생 의심되고 심지어 벽간소음도 엄청 심함 하.. 머리맡때서 사람들 얘기 옆에서 하는 것처럼 다 들림 소음 예민한 사람들은 비추. 노이롱체 거리 편 가격 대비 동네 모텔만도 못함 돈을 많이 세이브하고 싶은 건 알겠지만 이렇게까지 고객들 불편함을 주면서까지 아낌 필요가 있을까..? 적은 금액도 아닌데 그러면서 무슨 리뷰 이벤트를 하겠단 건지.. ㅎ 직원한테 하나하나 다 알려줘야 하고 변명만 하는데 답답임 죽는 줄..  좋으려고 한 여행인데 직원들 말투나 태도 보고 기분만 나빠짐 변명만 하는 기계인 줄; 고객의 불편함을 개선하고자 하는 의지도 놀러도 없고 사과도 없고 여들러 절받기 표정/행동 아무것도 안 해주고 싶어하는 게 다 보임 벽에 대고 말하는 것 같았음. 차라리 로봇을 가져다 놓는 게 훨 나았을 듯 센스고 뭐고 사과도 없고 여긴 너무 응대가 심각했음.\n"
     ]
    },
    {
     "name": "stderr",
     "output_type": "stream",
     "text": [
      "\r 41%|████      | 695/1689 [1:25:48<3:49:13, 13.84s/it]"
     ]
    },
    {
     "name": "stdout",
     "output_type": "stream",
     "text": [
      "695 : 최근에 리뉴얼했다네요. 그래서 그런가 깔끔하고 친절하시네요. 루프탑에서 조식 먹으면서 하늘 명도 때리고 덕분에 편안하고 좋은 여행이 되었습니다ㅎㅎ\n"
     ]
    },
    {
     "name": "stderr",
     "output_type": "stream",
     "text": [
      "\r 41%|████      | 696/1689 [1:26:08<4:21:45, 15.82s/it]"
     ]
    },
    {
     "name": "stdout",
     "output_type": "stream",
     "text": [
      "696 : 벌써 8년째 방문하고 있는 내리계곡 솔밭 캠핑장. 정말 여름이면 이곳의 시원함이 극렬해지는 아름다운 캠핑장입니다. 어느 곳에 있어도 이처럼 깔끔하게 시설을 관리하시는 사장님은 많이 본 적이 없습니다. 더욱 좋은 것은 여러 곳에 있는 화장실, 개수대, 심지어 1인 샤워실까지...ㅎㅎㅎㅎ 정말 정말 좋은 곳입니다. ^^ 오~ 밑에 여는 분이 사실과 다른 말씀하셨는데, 누구나 캠퍼라면 매너 시간은 준수하는 것이 마땅하고, 입퇴실 시간은 규정에 맞게 치기는 경식 상식이라 생각하네요. 또한 전자레인지 사용에 돈을? 전혀 사실과 다른 내용이며, 매점이 가격들은 정말 다른 곳보다 저렴한데, 무슨 자대로 비싸다고 하시는 것인지... 그리고 공기 좋은 산골에 날벌레들은 항상 있지 않나요? 아든, 저는 이곳 솔밭 캠핑장의 아름다움과 사장님의 온화한 미소가 너무 좋습니다. 나중에 더 나이가 들어서 이곳에서 살아가길 원할 만큼요...ㅎㅎㅎㅎ ^^\n"
     ]
    },
    {
     "name": "stderr",
     "output_type": "stream",
     "text": [
      "\r 41%|████▏     | 697/1689 [1:26:10<3:10:19, 11.51s/it]"
     ]
    },
    {
     "name": "stdout",
     "output_type": "stream",
     "text": [
      "697 : 광안대교가 보이니까 너무 좋아요. 게다가 서비스는 완벽해요!\n"
     ]
    },
    {
     "name": "stderr",
     "output_type": "stream",
     "text": [
      "\r 41%|████▏     | 698/1689 [1:26:12<2:24:31,  8.75s/it]"
     ]
    },
    {
     "name": "stdout",
     "output_type": "stream",
     "text": [
      "698 : 와인 챙겨 가길 잘했네요^^ 라운지에서 와인 마시면서 분위기를 잡으니 진짜 좋았어요.\n"
     ]
    },
    {
     "name": "stderr",
     "output_type": "stream",
     "text": [
      "\r 41%|████▏     | 699/1689 [1:26:15<1:56:01,  7.03s/it]"
     ]
    },
    {
     "name": "stdout",
     "output_type": "stream",
     "text": [
      "699 : 시설도 괜찮고 넘넘 친절하셨어요~ 무엇보다 침대가 푹신푹신해서 잘 자다 왔네요~ㅎㅎ\n"
     ]
    },
    {
     "name": "stderr",
     "output_type": "stream",
     "text": [
      "\r 41%|████▏     | 700/1689 [1:26:20<1:43:18,  6.27s/it]"
     ]
    },
    {
     "name": "stdout",
     "output_type": "stream",
     "text": [
      "700 : 가족 여행으로 다녀왔는데 너무 잘 쉬고 왔어요! 바다와 가깝고 깔끔했으며 조용하면서 방음도 잘 되어 프라이빗한 숙소라고 느껴졌어요 ㅎ 가족 모두 만족했고 재방문할 것 같아요!\n"
     ]
    },
    {
     "name": "stderr",
     "output_type": "stream",
     "text": [
      "\r 42%|████▏     | 701/1689 [1:26:21<1:16:55,  4.67s/it]"
     ]
    },
    {
     "name": "stdout",
     "output_type": "stream",
     "text": [
      "701 : 돈이 매사해서 그렇지 다 좋다.\n"
     ]
    },
    {
     "name": "stderr",
     "output_type": "stream",
     "text": [
      "\r 42%|████▏     | 702/1689 [1:26:25<1:16:50,  4.67s/it]"
     ]
    },
    {
     "name": "stdout",
     "output_type": "stream",
     "text": [
      "702 : 휴가철에 오니 사람이 엄청 많네요. 매미 소리와 차 지나가는 소리, 새 소리, 애들 뛰는 소리에 새벽부터 깼네요. 시설은 쏘쏘합니다. 화장실은 간이 넉넉해서 좋아요.\n"
     ]
    },
    {
     "name": "stderr",
     "output_type": "stream",
     "text": [
      "\r 42%|████▏     | 703/1689 [1:27:03<3:57:15, 14.44s/it]"
     ]
    },
    {
     "name": "stdout",
     "output_type": "stream",
     "text": [
      "703 : \"가성비 낮은 인스타그램블 호텔\" 디럭스룸에 묵었다. 상당히 낮은 층인 5층에 배정받았는데 성형외과/돌로 전망이었다. 높은 층에 배정되면 조금은 낡겠지만 기본적으로 전망은 기대하지 않는 편이 좋다. 룸 컨디션은 전반적으로 5성급에 부할하는 수준이다. 룸은 지금까지 본 호텔 중에 가장 독특했다. 직사각형이 아닌 사선 모양으로 방이 생긴 것부터, TV 타일과 미니바 쪽 인테리어가 인상 깊었다. 인스타에 올리고 싶은 인테리어. 걸러를 잘 써서 예쁘다는 말이 입에서 계속 흘러나온다. 기본 제공되는 슬리퍼도 예쁘다. 디럭스 이상급으로 묵으면 화장실에 욕조가 포함된다. 세면대 및 변기가 욕실에서 별도로 구분된 것도 좋았다. 어메니티도 깔끔하게 일회용품으로 제공된다. 특히 비누 향이 너무 좋았다. 저녁 해피 아워(바이즈 웬 와인)를 1인 44,000원을 내고 즐길 수 있다. 일반적인 해피 아워라고 했을 때 기대하는 미니 셀프바 형태가 아니라 아주 고스가 서빙되는 식이고, 와인은 빈 컵 보일면 직원분이 와서 채워주시는 방식이다. 와인은 무제한이라 좋지만, 안주는 1회 서빙 후 추가 제공되지 않는다. 그래도 적당히 배 채울 정도의 양은 돼서 따로 저녁식사를 할 필요는 없다. 금-토 디럭스 킹 29만원에 숙박했는데 상당히 저렴한 편으로 숙박했음에도 불구하고 재방문의사는 없다. 뭔가 크게 문제가 있는 것은 아니지만, 경쟁자들에 비해 서비스가 부족하다. 조금 돈을 더 쓰면 해피 아워와 조식, 훨씬 나은 전망 등이 제공되는 다른 호텔이 썬우에는 꽤 많기 때문이다. 아다즈가 자벌화되는 점은 수영장이나 인테리어 정도 외에는 없다. 인스타그램에 올도로 한 번 정도 가보는 건 괜찮아도 호캉스 용으로는 적합하지 않다.\n"
     ]
    },
    {
     "name": "stderr",
     "output_type": "stream",
     "text": [
      "\r 42%|████▏     | 704/1689 [1:27:53<6:53:28, 25.19s/it]"
     ]
    },
    {
     "name": "stdout",
     "output_type": "stream",
     "text": [
      "704 : 2박에 25만 원을 내고 슈피리어 더블룸에 왔는데, 여관 방 수준이네요. 혼깨졌어요. 침대 이불에 얼룩이 있고, 머리맡에 보통의 호텔에서 보는 나무가 아닌 머리 길이 얼룩이 얼룩덜룩한 벽면. 드렁글을 놓는 바지대도 없어서 바닥에다 드렁글 펼쳐놓아야 하네요. 오션뷰라고 했는데, 건물 사이로 보이는 바다 뷰가 전부. 프론트에 이불 바꿔달라고 했더니 알아듣고 했는데, 10분 정도 후, 좋으면 가지 않은 걸정 가죽 작업 착게 이쁜 여자가 문을 열어주니 부스 들어오네요. 들어와서는 이불 상태를 확인하더니 다른 방에 있는 걸로 교환해주겠다고.. 5분 정도 후 가죽 작업 착게 여자, 총 2명이 운동화 신고 들어와서 이불 씻음만 교체하러 해서, 프론트에 다시 전화해서 지금 당장 올라와 보라고 해서 컴플레인을 했더니 방을 바꿔준답니다. 한마디로, 호텔이라 이름이 전혀 어울리지 않는 낡은 여관입니다.   -----------------------   1박 후 후기입니다. 페네키아 프리미어 마리안느 호텔에서 2박(25만 원 정도)을 했습니다. 아니, 정확이는 1박을 하고 이 글을 씁니다. 정말 개판이네요.. 처음에 받은 방은 침대 머리 부분이 금 흔한 나무도 없이 머리 길이로 얼룩이 얼룩덜룩한 벽이었고, 침대 시트엔 얼룩도 여러 곳. 방 넓이도 거짓 같고, 오션뷰라는 말은 앞 건물들 사이로 보이는 바다를 감상하라는 거였네요. 침대 시트 교체를 요구했더니, 가죽 작업 착게, 후드티 이쁜 아주 편안한 복장의 직원? 둘이 발걸어서 신는 운동화를 신고 방으로 들어오길래, 다시 전화를 해서 프론트 직원에게 올라와 보라고 했고, 컴플레인 후 방을 교체하게 되었습니다. 교체한 방은 넓이는 거였으나, 샤워실 문 앞 마루바닥이 썩고 다 까져서 시커멓게 밑바닥이 뚫려나 있고, 샤워실 안 블라인드에는 곰팡이가, 객실 내 선반은 반은 떨어져서 꺼지기 직전, 화장실은 지린내가 진동. 프론트 직원에게 컴플레인 후 1박만 하고 체크아웃하고 싶다고 했더니, 잠시 후 매니저와 통화하고는 2박제는 50%의 돈만 돌려주겠다고.. 그래서 다시 방을 교체받았지만, 비교적 깨끗? 하지만, 아침에 일어나니 화장실 하수구 냄새가 너무 심하네요. 그리고 옆 방의 대화 소리가 너무 잘 들립니다. 여독을 원한다면, 따로 돈줍, 감정 장치가 필요 없겠어요. 정말 불쾌하기 짜증이 없는 딱 여관 수준입니다.\n"
     ]
    },
    {
     "name": "stderr",
     "output_type": "stream",
     "text": [
      "\r 42%|████▏     | 705/1689 [1:27:55<4:58:59, 18.23s/it]"
     ]
    },
    {
     "name": "stdout",
     "output_type": "stream",
     "text": [
      "705 : 들어가 오는 길이 힘들지만, 너무 예쁘고 조용하며 별도 많고 힐링하고 왔습니다.\n"
     ]
    },
    {
     "name": "stderr",
     "output_type": "stream",
     "text": [
      "\r 42%|████▏     | 706/1689 [1:28:41<7:14:25, 26.52s/it]"
     ]
    },
    {
     "name": "stdout",
     "output_type": "stream",
     "text": [
      "706 : 행에에서 거주 중인 안내와의 첫 여행이었으며, 그중 첫날 일정으로 해당 호텔을 이용하였습니다. 이용 당일, 고등학생들이 많이 보였고, 객실 내에서도 들릴 정도로 시끄러웠지만 외출할 예정이었고, 밤이 되면 조용해지겠지 하며 넘어갔습니다. 일정이 끝나 호텔에 돌아와 진정하던 중, 새벽 2시 30분에 40분 사이 누군가 방에 노크를 3회가량 했습니다. 늦은 시간이었고, 짜증올 사람도 없었기에 굉장히 불쾌해하며 문에 달린 구명으로 응대를 확인했습니다. 누군가가 전화를 하며 노크를 한 것이었고, 누군가를 찾는지 사라졌습니다. 고등학생이라고 참작하며 옷을 입고 프런트로 가서 이 내용을 말했습니다. 해당 시간대 담당자로 보이는 분이 대응했는데, 이 내용을 듣고 고등학생이 수학여행으로 시설을 이용 중이며, 시끄럽다는 다른 고객들의 호소도 다수 있었기에 호텔 측에서는 마스크 착용과 조용히 할 것을 부탁하고 순찰을 진행하였으나 효과가 되지 않아 발생한 일인 것 같으며 사과했습니다. 이후 방 변경을 제안받았으나, 저는 거절했습니다. 제가 생각하는 문제점은 1. 제가 이용한 방에 노크한 사람이 어느 고등학생으로 추정되지만, 누구인지 명확하게 밝혀지지 않았다는 점 2. 단체 고객이기 때문에 통제하기 어려움이 있을 **\"죄송하지만 이해를 바란다\"는 식의 사과 3. 프런트에 갔던 시간이 새벽 3시경이었습니다. 피해를 받은 것은 저인데 체크아웃하기까지 남은 몇 시간을 위해 짐을 정리하고 이동시키고 바로 잠도 안 올 것이 분명해서 거절했습니다만, 문제가 생기면 방 옮기는 것을 제안한다는 대응 방식은 오지 않았던 것 같습니다. 사실 호텔 측에서 제안할 수 있는 것이 그 정도밖에 없다는 것은 알겠으나, 처음부터 이런 일이 발생했으면 안 됐다고 생각합니다. 안내가 동대문 일대에서 쇼핑하는 것을 즐겨 외출할 때까지만 해도 호텔 회원 가입하고 자주 이용하고 했었는데, 1번 사항이 확실히 확인 및 해결이 안 된 점은 첫 이용이 마지막 이용으로 끝나게 해 아쉬울 뿐이네요. 솔직하게 말하면, CCTV 확인하고 학생으로 반악되면 해당 학생과 담당 교사로부터 사과를 받을 수 있도록 문제를 해결하려고 하다가 여행하러 왔는데 전화 받고 기분 상하고 여행이 망칠까 봐 참았습니다. 저는 불미스러운 일이 있고, 잠이 깼어 체크아웃할 때까지 잠을 잘 수 없었습니다. 안내와의 여행은 제가 참아기에 무사히 진행할 수 있겠지만, 저의 여행은 첫날부터 실패했네요.\n"
     ]
    },
    {
     "name": "stderr",
     "output_type": "stream",
     "text": [
      "\r 42%|████▏     | 707/1689 [1:29:07<7:14:04, 26.52s/it]"
     ]
    },
    {
     "name": "stdout",
     "output_type": "stream",
     "text": [
      "707 : 호텔 바로 인접해 두 곳이 공사 중입니다. 포크레이인으로 돌 고르기만 해도 5층에 누워 있으면 침대가 흔들립니다. 처음에 찍힌 나는 줄 알았습니다. 환불 받고 싶은 마음 100%. 역으로 숙박했는데, 공사로 엄청 시끄럽습니다. 주말에도 공사합니다. 침대 매트리스도 구려구려하고, 욕실에 수건 걸이도 없고 침실 카페트는 오염이 가득합니다. 침실에는 거울조차도 없고 욕실에도 슬리퍼가 없습니다. 맨발에 샤워하고 침실에서도 슬리퍼를 신는 구조인데, 카페트가 엄청 더럽습니다. 드라이기를 세면대 바로 옆에 꽂아 두었는데, 높이도 딱 세면대 높이입니다. 드라이기 고장은 둘째라고 저도 고객들이 감전 사고를 당할 수도 있다는 것을 모르는 건지… 안전 불감증이 심합니다. 욕실 한쪽 벽은 유리로 되어 있습니다. 불투명 시트지가 붙어 있지만 벽에 실수로 가까이 서면 몰두 비친고 소리가 그대로 전해집니다. 낙산해수욕장 길만 건너가면 된다는 것 외에는 좋은 점이 하나도 없습니다. 밤에 불꽃놀이와 교성방가로 시끄럽고, 낮에는 공사와 관광용 마차에서 나오는 봉착 음악으로 정말 짜증나는 곳입니다. 참! 욕실 수압은 엄청 낮고 더운 물이 제 마음대로 나옵니다. 찬물 샤워 각오하고 숙박하시길 바랍니다. 제 인생 최악의 숙소였습니다.\n"
     ]
    },
    {
     "name": "stderr",
     "output_type": "stream",
     "text": [
      "\r 42%|████▏     | 708/1689 [1:29:10<5:15:22, 19.29s/it]"
     ]
    },
    {
     "name": "stdout",
     "output_type": "stream",
     "text": [
      "708 : 오션 뷰 너무 예쁘고 좋았어요! 방이 조금만 넓었더라면 더 좋았겠지만 전체적으로 만족합니다.\n"
     ]
    },
    {
     "name": "stderr",
     "output_type": "stream",
     "text": [
      "\r 42%|████▏     | 709/1689 [1:29:12<3:51:26, 14.17s/it]"
     ]
    },
    {
     "name": "stdout",
     "output_type": "stream",
     "text": [
      "709 : 숙박하는데 옆에 바로 도로가 지나가서 오토바이 소리 때문에 밤새 잠을 못 자 완전 비추.\n"
     ]
    },
    {
     "name": "stderr",
     "output_type": "stream",
     "text": [
      "\r 42%|████▏     | 710/1689 [1:29:17<3:09:05, 11.59s/it]"
     ]
    },
    {
     "name": "stdout",
     "output_type": "stream",
     "text": [
      "710 : 해운대를 방문할 숙소로 좋은 곳입니다. 가격도 괜찮고 시설도 나쁘지 않은 곳이라고 생각합니다. 다만 엘리베이터 타기가 좀 쉽지 않고 해외 투숙객도 많아서 숙소 다니기가 번거로네요. 조식이나 헬스장은 사용해보지 않아서 잘 모르겠습니다.\n"
     ]
    },
    {
     "name": "stderr",
     "output_type": "stream",
     "text": [
      "\r 42%|████▏     | 711/1689 [1:29:43<4:19:35, 15.93s/it]"
     ]
    },
    {
     "name": "stdout",
     "output_type": "stream",
     "text": [
      "711 : 내 생에 최악의 호텔. 부산, 다시는 생각하고 싶지 않고 가고 싶지 않은 곳. 사진으로 설명할게요. 배틀만 설명하겠습니다. 절대 비추. 제 평가로는 평생의 최악의 호텔입니다. 작동도 않는 비데, 썩어 곰팡이 천지의 욕실, 세면대는 물이 줄줄, 휴지도 기름기 실한 화장실, 구멍이 숩숩 뚫린 벽에 바람이 숩숲, 콘센트마다 덜렁덜렁, 현관 불은 3불에 한번씩 점멸로 켜지고 꺼지고... 빨바닷에 쩍쩍 붙는 바닥, 담배 냄새, 주인 없는 프론트와 있어도 해줄 것이 없는 직원. 시트의 코인이 털고 손바닥도들. 아... 아침이 빨아오기만을 기다리며 시간을 보내네요. 아무리 여행객이고 다시 안 볼 고객이니까 큰 고객답게 배트만 설명했네요. 사진 모두 복관해 두고 싶네요. 50이 넘은 나이에 외국도 많이 다녔지만 최악의 숙박이었네요. 배트남이 7400원짜리 호텔과 견줄 듯요. 이 경험의 글이 유용하시길로. ㅇㄱㄷ 평가 보시면 기절하겠습니다. 원래 청소 안 하고 더럽고 방 바꾸는 것은 기본이고 난방 안 되는 것은 예의인 듯. 아.. 정말 인생 최악이니 절대 비추이고 환불 불가이니 절대주의 경고입니다.\n"
     ]
    },
    {
     "name": "stderr",
     "output_type": "stream",
     "text": [
      "\r 42%|████▏     | 712/1689 [1:30:04<4:39:19, 17.15s/it]"
     ]
    },
    {
     "name": "stdout",
     "output_type": "stream",
     "text": [
      "712 : 한밤중에 객실에서 쉬고 있는데 모르는 남성 침객이 들어오는 사건이 일어났습니다. 현관문 열리는 소리가 들리고 현관 불이 켜집니다. 깜짝 놀라 잘못 들어오셨다고 소리쳐도 방 안으로 미친한 남성 침객이 들어옵니다. 저는 나갈라고 소리치고 침객은 횡설수설하며 안 나가고, 왜 제가 한밤중에 모텔 방 안에서 침객과 실캬이를 해야 하는지 이 상황이 이해가 안 됩니다. 나중에 모텔 사장이 오더니 침객을 끌고 나갑니다. 침객은 그 와중에 왜 내 물건은 치웠지고 나갔는 건지… 알고 보니 키를 방 안에 놓고 나갔다는 침객의 말에 사장이 막수터기를 주었더라고요. 모텔 사장은 처음에는 죄송하다는 사과도 없고, 제가 나중에 따지러 가니 그때서야 사과를 하는 사장의 대처에도 화가 나네요. 막수터기를 손님한테 이렇게 쉽게 내어줄 수 있는지도 이해가 안 가고, 이런 상황이면 막수터기로 주인의 직접 문을 열어주던지 했어야 했는데요. 침객의 문제가 아니라 사장의 관리 문제가 크다고 봅니다.\n"
     ]
    },
    {
     "name": "stderr",
     "output_type": "stream",
     "text": [
      "\r 42%|████▏     | 713/1689 [1:30:08<3:35:26, 13.24s/it]"
     ]
    },
    {
     "name": "stdout",
     "output_type": "stream",
     "text": [
      "713 : 호텔이라기엔 아쉬운 점이 많은 곳. 다른 건 다 떠나서 전기값 왜 이렇게 불안정한지. 침대 조명, 천장 조명이 왜 딱 깜빡거리는지. 시설도 전반적으로 다 낡았음.\n"
     ]
    },
    {
     "name": "stderr",
     "output_type": "stream",
     "text": [
      "\r 42%|████▏     | 714/1689 [1:31:15<7:59:26, 29.50s/it]"
     ]
    },
    {
     "name": "stdout",
     "output_type": "stream",
     "text": [
      "714 : * 롯데쇼핑에서 상품 구매 후 사용하신 분들 주차 클레임을 롯데쇼핑에 제기했더니, 개별적으로 클레임을 제기하시는 고객에게는 주차비를 포인트로 환불해 주고, 클레임을 제기하지 않는 고객은 주차비를 환불해 줄 수 없다고 하네요. (인건 뭐지? 일부러 클레임을 제기하게 유도하는 건가?) - 주차비 환불 받으실 분들은 롯데쇼핑에 개별적으로 클레임을 제기하시고 주차비 환불 받으세요. (롯데쇼핑은 가만히 있으면 호객 되는 것 같아요.) 2020. 11. 14  2박 3일 숙박했는데... 1. 첫날 호텔 주차장이 협소하여 선착순으로 주차 30대만 된다고 주차 거부함 - 주차장이 만차라 거부하면서 민원 제기 중엔 주차를 받고 있는 차량은 뭐지? 2. 호텔 사정을 이해하고 주차 발렛 서비스 신청했더니 안 된다고 하면서 초행길에 A4용지에 인쇄물 한 장 달랑 주고 알아서 셀프 주차하라고 함 - 호텔 이용하면서 발렛 주차도 아니고 셀프 주차를 하다니 ㅋㅋㅋ 3. 안내된 지정 주차장 방문하여 주차 시도하였더니 다 호텔에 방문하고서 왜 여기에 주차하냐고 핀잔 들음. 4. 안내된 지정 주차장 사용 시 주차비용은 유료 미 개인 부담. 5. 프론트에 셀프 주차 클레임 제기했더니 호텔 규정이고 주차 문제에 대해 공지 한여 호텤은 아무 문제없다 함 (셀프 주차 클레임을 제기했다고 완전 진상 고객 취급함). 주차 요원은 보험 미가입으로 발렛 주차를 금지하고 주차 문제를 해결해야 할 책임인은 휴일이라 호출 안 된다고 함 - 세상에 호텔에 클레임 발생했는데 호텔 책임자가 휴일이라 연락이 안 된다니, 나도 호텔을 관리하고 있지만 뭔 개소리인지. 6. 호텔 주차 문제 공지 관련하여 공지사항은 전달받지 못하여 이용자에게 주차 관련 사항에 대해 공지했던 층고 달라고 했더니, 다시 말을 바꿔 10월에 상품을 구매하여 공지를 못했다고 하면서 셀프 주차가 불만이면 이악름 지불하고 숙박 취소하라고 함 - 이건 무슨 경우임? 7. 체크인 후 숙소 입실했는데 숙소는 더 개판임. 숙소 화장실은 일반 변기 사용 (요즘 호텔에 비데가 없다니 ㅋㅋㅋ) 8. 화장실과 샤워실 문을 동시에 사용하면 화장실 문을 닫으면 샤워실은 100% 노출되고, 샤워실 문을 닫으면 화장실이 100% 노출됨 ㅋㅋㅋ (동행자에게 원조적인 모습을 보여도 된다면 방문하세요). 난 가족들에게 민망하여 2박 3일간 1층 화장실 사용하고 가족들에게 완전 최인 되었음. 9. 샤워실에는 비누가 없음 - 개인일 별도로 구매하여 사용해야 함. 10. 가리막은 사용 시 소음이 심하고 청소가 안 됨 - 구석에서 담배 꽁초가 발견됨 (나도 호텔을 관리하고 있지만 룸에서 담배 꽁초 발견은?). 11. 방이 너무 좁아 불편하고 방음은 애초에 기대하지 마시기를...  결론: 이건 말이 호텔이지 모텔보다 못함. 혼자 출장 가서 숙박하면 몰라도 여행의 목적이라면 이곳에는 절대 숙박하지 마시기를.... (특히 커플 동반자는 여자에게 개조 당함 ㅋㅋㅋ)\n"
     ]
    },
    {
     "name": "stderr",
     "output_type": "stream",
     "text": [
      "\r 42%|████▏     | 715/1689 [1:31:17<5:46:45, 21.36s/it]"
     ]
    },
    {
     "name": "stdout",
     "output_type": "stream",
     "text": [
      "715 : 30분 만에 집으로 돌아갔습니다. 살다 살다 리뷰 쓰고 싶었던 건 처음이네요ㅎㅎ\n"
     ]
    },
    {
     "name": "stderr",
     "output_type": "stream",
     "text": [
      "\r 42%|████▏     | 716/1689 [1:31:24<4:36:34, 17.05s/it]"
     ]
    },
    {
     "name": "stdout",
     "output_type": "stream",
     "text": [
      "716 : 위치는 정말 좋아요. 치약은 없으니 챙겨오셔야 해요. 전 시티뷰는 안 해서 주차장 건물뿐였고, 방음은 복도 아니면 좋은 것 같고요. 가운, 슬리퍼, 물, 그리고 아침으로 먹으라고 샌드위치도 줍니다. 다음에 다시 부산 온다면 여기 다시 묵어도 좋을 것 같아요. 뚜벅이라면.\n"
     ]
    },
    {
     "name": "stderr",
     "output_type": "stream",
     "text": [
      "\r 42%|████▏     | 717/1689 [1:31:33<3:55:56, 14.56s/it]"
     ]
    },
    {
     "name": "stdout",
     "output_type": "stream",
     "text": [
      "717 : 룸 컨디션이 쾌적하고 룸 안에 화장실도 같이 있어서 편리합니다. 속초 터미널 근처여서 차 없이도 접근이 용이합니다. 주차장은 약간 협소해서 진입 시 주의가 필요하며 체크인이 늦을 경우 건물 내 주차장은 다 차서 외부 주차장에 주차해야 할 수도 있습니다. 오징어 낚시와 엄청 가까워서 도착하자마자 오징어회를 실컷 먹음 ㅎㅎ 굿굿\n"
     ]
    },
    {
     "name": "stderr",
     "output_type": "stream",
     "text": [
      "\r 43%|████▎     | 718/1689 [1:31:55<4:31:09, 16.75s/it]"
     ]
    },
    {
     "name": "stdout",
     "output_type": "stream",
     "text": [
      "718 : 갑자기 출발하게 되어 당일 예약했는데, 늦게 체크인하게 되어 걱정했어요. 따로 문장과 전화로 체크인에 세심하게 신경 써주셨어요. 주차도 편리하고, 무엇보다 대중교통 이용하실 분들도 가까워서 좋은 위치입니다. 침대와 화장실은 정말 작지만, 머리카락 하나 없이 깨끗하고 담배 냄새도 나지 않고 정말 깨끗합니다. 수압도 좋고, 치약, 클렌징폼, 샤워 스펀지도 있습니다. 샴푸와 린스는 기본이구요. 지하에 커피 머신, 정수기, 주방도 있어서 음식 사온 거 먹기도 좋고 간단하게 해먹기도 좋습니다. 빔 프로젝터도 있고 미팅룸에는 미니 탁구대도 2개나 있어요. 일하시는 분 없이 혼자 일하시는 것 같은데, 원점 가는 곳마다 이렇게 깨끗하고 정돈이 잘 되어 있는지 감탄하고 가네요. 다음에도 또 이용하고 싶어요. 제가 좋아하는 식당과도 가까워서 아침에 걸어가서 먹고 왔어요. 위치 최고입니다. 한 가지 단점은 엘리베이터가 없어서 캐리어가 무겁다면 계단을 들고 오르고 내려야 하는 게 부담될 수도 있습니다. 그럼에도 추천드립니다.^^\n"
     ]
    },
    {
     "name": "stderr",
     "output_type": "stream",
     "text": [
      "\r 43%|████▎     | 719/1689 [1:31:56<3:15:20, 12.08s/it]"
     ]
    },
    {
     "name": "stdout",
     "output_type": "stream",
     "text": [
      "719 : 브릿지오 시티에 있는 숙박 호텔이다.\n"
     ]
    },
    {
     "name": "stderr",
     "output_type": "stream",
     "text": [
      "\r 43%|████▎     | 720/1689 [1:32:02<2:43:45, 10.14s/it]"
     ]
    },
    {
     "name": "stdout",
     "output_type": "stream",
     "text": [
      "720 : 방의 위생 상태나 창밖의 뷰는 최고다. 그런데 방음은 최악이다. 여러 호텔을 다녀보았지만 옆방의 코골이부터 사소한 대화까지 들리는 곳은 처음이다. 멋진 뷰를 원하면 강추하지만, 딴 기마개가 꼭 필요함.\n"
     ]
    },
    {
     "name": "stderr",
     "output_type": "stream",
     "text": [
      "\r 43%|████▎     | 721/1689 [1:32:03<2:00:51,  7.49s/it]"
     ]
    },
    {
     "name": "stdout",
     "output_type": "stream",
     "text": [
      "721 : 세컨하우스에 온 것 같은 느낌, 편하고 좋네요^^\n"
     ]
    },
    {
     "name": "stderr",
     "output_type": "stream",
     "text": [
      "\r 43%|████▎     | 722/1689 [1:32:06<1:40:10,  6.22s/it]"
     ]
    },
    {
     "name": "stdout",
     "output_type": "stream",
     "text": [
      "722 : 이그제큐티브 라운지 시설, 서비스, 음식이 만족스러웠습니다. 투숙객도 수영장을 유료로 이용해야 하는 점은 아쉬움이네요.\n"
     ]
    },
    {
     "name": "stderr",
     "output_type": "stream",
     "text": [
      "\r 43%|████▎     | 723/1689 [1:33:22<7:17:29, 27.17s/it]"
     ]
    },
    {
     "name": "stdout",
     "output_type": "stream",
     "text": [
      "723 : 오랜만에 호캉스 + 해외 일정 후 쉴 목적으로 일부러 부담되는 가격임에도 코너 오션뷰를 선택했음. 첫날 들어가자마자 컵 위생 상태가 엉망이라 ‘이게 뭐지..’ 쉼뻘쑴. 그래도 뭐, 사람이 하는 일이니 그런러니 했는데, 저녁에 씻으러 샤워실 들어가니 샤워기와 연결된 물건 올려둔 선반 같은 곳에 먼지와 물때 같은 것이 보였음. 올려두던 물건 다 치우고 물로 한 번 씻어낸 뒤에 사용해야 했음. 이미 물을 풀었고 샤워하려고 벗은 상태로 들어가서 사진은 못 찍음. 다음날 외출하면서 청소 상태가 안 좋았다고 하면 오늘 청소할 때 신경 써주셨으면 한다고 일부러 조용히 말했는데, 프론트에 있던 직원분은 '아, 네.. 전달하겠습니다.' 하고 끝. 불편하게 해드려 죄송하다는 말이나 신경 쓰겠다는 그 어떤 인사도 없이 그저 내가 한 말을 전달하겠다가 끝.. 요청한 걸 해준다 하니 그저 감사합니다 해야 하는건가. 그리고 외출 후 돌아오니 전체적으로 청소는 했는데 객실 의자는 저렇게 만들어 놓고 나감. 원래 벽면에 테이블 있고 창가 쪽으로 의자와 테이블이 있는 건데 저렇게 밀어두고 나가셨음. 청소하느라 밀어두다가 밀쳐 정리 못 하고 나갔을 수는 있겠지만, 청소에 신경 써달라고 요청한 방인데도 불구하고 저 정도라면 다른 방은 대체 어떻게 하는지 궁금함. 그리고 조식은 나쁘지 않았으나, 손님이 나간 테이블에 테이블 매트는 절대 다시 갈리지 않음. 테이블 매트 깔인 곳에 앉아서 앉던가 아니면 원하는 자리 앉으려면 테이블 매트 없는 채로 앉아야 함. 이틀 내내 그런 모습이었음. 그래서 두 번째 날은 샐러드 소스 3가지 모두 20분 전에는 비어 있었음. 그리고 식사를 하고 있는데 사람 하나 겨우 지나갈 정도의 공간만 두고 떨어져 테이블을 청소하겠다고 소독제인지 뭔지를 찍찍 뿌리면 테이블을 닦음. 에어컨 바람 때문에 공기 중에 날리는데 본인 몸으로 유리 쪽을 막고 서서 하는 것도 아니고, 심지어 테이블 가까이엔 대고 뿌리는 것도 아니고 그냥 그러면서 찍찍 뿌리고 닦고 감. 1층 로비에서는 엘리베이터 기다리는데 청소 업무를 하시는 걸로 보이는 연니폼을 입으신 아줌망님 직원 두 분이 큰 소리로 대화함. 그것도 엘리베이터 앞에 서 있는 나와 일행을 가운데 두고 아주 큰 소리로 두 분이 끝걸 왜 그렇게 했나 마냐 하면서 저렁저렁한 목소리로 대화하심. 두 분이 각자 가기를 가려다 말고 서서 대화하게 된 그런 모습이인데 주변에 손님이 있고 말고는 전혀 관심이 없는 듯 보였음. 사장동에서 아줌마들 싸움을 보는 기분이었음. 첫날에는 이 호텔의 차라리 야경을 기대했으나 날씨가 흐린 탓에 큰 기대는 하지 않았음. 그래도 풀빗이 꺼지면 흐려도 분위기 있지 않을까 하는 생각으로 기다렸는데 길 건너 시내에도 아예 풀빗이 안 보이고 암흑이었음. 바로 앞 대교 모두 불이 안 들어왔음. 뭔가 일시적인 문제나 행사로 인해 모든 빛을 일부러 끈 건가 싶을 정도로 어두워 대수께 전화해봄. (저녁 9시 전후였음) 혹시 오늘 무슨 특별한 일정이 있거나 시내에 뭔가 문제가 있나 불이 다 꺼져서 완전히 어두운지 확인해보며 물어봤으나 돌아오는 대답은 본인들이 그런 거 알지 못했다었음. 그럴 수 있다고 생각함. 호텔 외부의 문제가 다 알 필요는 없고 모를 수 있음. 근데 전화까지 해서 물어보는 게 어이가 없다는 식으로 '... 네? ... 불이 꺼졌다고요..? .... 글쎄요. 저희는 그걸 알 수가 없는데요.' 라며 대답함. 혹시나 주변에 뭔가 특별한 일정이나 이유로 인한 문제라면 알고 있지 않을까 싶어서 여쭤봤다고 하니 '그거.. 왜.. 글쎄요...' 라고 하기에 죄송하다고 한 후 끊었음. 4성급 호텔로 등록되어 있었는데 과연 4성급이 맞는지, 호텔 서비스 교육을 받은 직원들의 맞는지 의심스러움. 1박당 10만 원대 비용을 썼다 해도 아까운데 20만 원대 비용을 지불하고 받은 서비스라 하기에는 돈을 그냥 버리는 수준임.\n"
     ]
    },
    {
     "name": "stderr",
     "output_type": "stream",
     "text": [
      "\r 43%|████▎     | 724/1689 [1:33:26<5:23:12, 20.10s/it]"
     ]
    },
    {
     "name": "stdout",
     "output_type": "stream",
     "text": [
      "724 : 지하철이랑 가깝고, 코엑스랑도 가까워요. 비즈니스 호텔들 여러 군데 다녀봤는데, 만족합니다. 앞으로 자주 애용할 예정입니다~\n"
     ]
    },
    {
     "name": "stderr",
     "output_type": "stream",
     "text": [
      "\r 43%|████▎     | 725/1689 [1:33:28<3:53:30, 14.53s/it]"
     ]
    },
    {
     "name": "stdout",
     "output_type": "stream",
     "text": [
      "725 : 가격 대비 시설이 좋았습니다. 깔끔하고 분위기도 좋았습니다.\n"
     ]
    },
    {
     "name": "stderr",
     "output_type": "stream",
     "text": [
      "\r 43%|████▎     | 726/1689 [1:33:30<2:56:16, 10.98s/it]"
     ]
    },
    {
     "name": "stdout",
     "output_type": "stream",
     "text": [
      "726 : 사장님이 친절하시고 내부도 깔끔해요. 다만 3층 뷰는 전기줄이 보인다는 점 참고하세요.\n"
     ]
    },
    {
     "name": "stderr",
     "output_type": "stream",
     "text": [
      "\r 43%|████▎     | 727/1689 [1:33:32<2:09:53,  8.10s/it]"
     ]
    },
    {
     "name": "stdout",
     "output_type": "stream",
     "text": [
      "727 : 객실이 깔끔하고 시설이 좋으며 조식이 맛있었어요!\n"
     ]
    },
    {
     "name": "stderr",
     "output_type": "stream",
     "text": [
      "\r 43%|████▎     | 728/1689 [1:33:37<1:56:28,  7.27s/it]"
     ]
    },
    {
     "name": "stdout",
     "output_type": "stream",
     "text": [
      "728 : 외관이 낡아 걱정했는데, 내부 인테리어를 새로 하셨나 봐요. 무척 깨끗하고 잘되어 있어요. 스타일러도 있고요~ 뷰는 말할 것도 없어요. 오랜만에 만난 동창들과 즐겁게 놀고 푹 쉬었습니다. 다음 동해 방문 때도 들러야겠어요!\n"
     ]
    },
    {
     "name": "stderr",
     "output_type": "stream",
     "text": [
      "\r 43%|████▎     | 729/1689 [1:33:46<2:03:43,  7.73s/it]"
     ]
    },
    {
     "name": "stdout",
     "output_type": "stream",
     "text": [
      "729 : 조식 소소하게 괜찮아요. 처음에는 너무 주변이 다 폐허 느낌이라 이거 괜찮나? 이런 느낌이 들었는데 내부는 낡긴 해도 깨끗하게 정리되어 있고 온천수라 그런지 느낌적으로 수질이 좋은 느낌! 장점: 얼음 냉장고도 있고 커피도 있고 조식도 있고 방도 넓고 (5인용 온돌방) 수질도 좋음, 가성비. 단점: 낡음, 주차 난... 주변 상권이 거의 다 죽음 ㅠ\n"
     ]
    },
    {
     "name": "stderr",
     "output_type": "stream",
     "text": [
      "\r 43%|████▎     | 730/1689 [1:33:47<1:31:01,  5.69s/it]"
     ]
    },
    {
     "name": "stdout",
     "output_type": "stream",
     "text": [
      "730 : 여기는 안 가야겠다. 저장해야겠다.\n"
     ]
    },
    {
     "name": "stderr",
     "output_type": "stream",
     "text": [
      "\r 43%|████▎     | 731/1689 [1:33:53<1:32:38,  5.80s/it]"
     ]
    },
    {
     "name": "stdout",
     "output_type": "stream",
     "text": [
      "731 : 사진이 너무 예뻐서 방문했는데, 숙박 페스타로 할인 받은 거 감안하더라도 가성비가 너무 좋아서 놀랐어요. 감성적인 숙소라서 진짜 만족하고 갑니다. 침구류, 시설 다 좋았고, 샤워실 물이 좀 안내려가던 거 빼고는 오랜만에 만족했던 숙소예요.\n"
     ]
    },
    {
     "name": "stderr",
     "output_type": "stream",
     "text": [
      "\r 43%|████▎     | 732/1689 [1:34:17<2:59:31, 11.26s/it]"
     ]
    },
    {
     "name": "stdout",
     "output_type": "stream",
     "text": [
      "732 : 뭔가 힘줘서 열심히 만든 것 같은데, 제대로 된 게 하나도 없어요. 침대는 너무 불편하고, 방음이 안 돼서 새벽 3시까지 미친듯이 사우던 근처 투숙객 때문에 잠옷차 잘 수 없었죠. 변기 옆에 달린 나무는 너무 뜨거워서 두루마인 휴지를 걸 수 없어 그저 바지대로 사용되고, 커다란 욕조는 보기엔 이쁘지만 기계적으로 켜서 한참을 틀어놔야 발목까지 겨우 물이 차올라 누워서 몸을 담가야 했어요. 피크닉 음식에 나오는 토스트는 2천 원짜리 이사토스트 기본보다도 기본이 안 돼 있고, 음료랑 물만 브랜드 제품이면 뭐하나요? 하나도 어우리지 않는데. 전공인 순수 예술인 와이프에 따름면 전시회장은 대학 졸업 쩐시만큼도 못하다고 하네요. 근처에 열심히 심어놓은 센인장은 다 죽어서 꽃 썹은내가 나지 않을까 걱정도 됩니다. 비밀 정원 컨셉은 좋지만 전시되어 있는 작품들은 하나같이 무슨 이미인지 모르겠고 조잡한 느낌을 줍니다. 위치도 좋고, 뷰도 너무너무 좋을 뻔했지만 후무스럽게 힘에 있는 바이브에 죄다 갈리고.. 정말 아쉬운 곳입니다. 제대로 된 작품들이 상단 좀 받고 환골탈태하길 바랍니다.\n"
     ]
    },
    {
     "name": "stderr",
     "output_type": "stream",
     "text": [
      "\r 43%|████▎     | 733/1689 [1:34:21<2:26:23,  9.19s/it]"
     ]
    },
    {
     "name": "stdout",
     "output_type": "stream",
     "text": [
      "733 : 출장차 부산에 오게 되면 조금 먼 지역으로 출장오더라도 꼭 여기만 와요. 뷰도 좋고 시설도 쾌적하고 다른 곳은 못 가겠더라구요~~~ 앞으로도 잘 유지해주세요^^\n"
     ]
    },
    {
     "name": "stderr",
     "output_type": "stream",
     "text": [
      "\r 43%|████▎     | 734/1689 [1:34:28<2:16:57,  8.60s/it]"
     ]
    },
    {
     "name": "stdout",
     "output_type": "stream",
     "text": [
      "734 : 경치 하나만으로도 다 먹고 들어가는 곳. 예전만큼은 살짝 못하지만 그래도 부산이 머물이라기엔 조금도 손색 없는 곳. 1998년인가.. 어머니 손잡고 43층 전망대 구경 간 게 좋은 기억으로 남습니다. 그때 당시 부산에서 가장 높은 건물이라서 엘리베이터에서 43이라는 숫자가 들 때 기뻤는데.. ^ ^\n"
     ]
    },
    {
     "name": "stderr",
     "output_type": "stream",
     "text": [
      "\r 44%|████▎     | 735/1689 [1:34:29<1:39:58,  6.29s/it]"
     ]
    },
    {
     "name": "stdout",
     "output_type": "stream",
     "text": [
      "735 : 출장 가면 여기에서만 자요.\n"
     ]
    },
    {
     "name": "stderr",
     "output_type": "stream",
     "text": [
      "\r 44%|████▎     | 736/1689 [1:34:32<1:25:06,  5.36s/it]"
     ]
    },
    {
     "name": "stdout",
     "output_type": "stream",
     "text": [
      "736 : 을지로 5가 6번 출구로 나가면 바로 도착해요. 직원분들도 친절하시고 객실도 깨끗해서 정말 기분 좋게 머물렀어요!\n"
     ]
    },
    {
     "name": "stderr",
     "output_type": "stream",
     "text": [
      "\r 44%|████▎     | 737/1689 [1:34:39<1:30:06,  5.68s/it]"
     ]
    },
    {
     "name": "stdout",
     "output_type": "stream",
     "text": [
      "737 : 저도 리뷰를 보고 방문했답니다. 친절하신 사장님과 깨끗한 객실, 오션뷰, 스타일러까지 구비된 멋진 방을 주신 사장님~ 감사 감사드려요. 간만에 다녀온 강릉 여행이 좋은 호텔 덕분에 기분이 한층 업그레이드... 함께한 남편도 대만족했네요^^\n"
     ]
    },
    {
     "name": "stderr",
     "output_type": "stream",
     "text": [
      "\r 44%|████▎     | 738/1689 [1:34:41<1:14:40,  4.71s/it]"
     ]
    },
    {
     "name": "stdout",
     "output_type": "stream",
     "text": [
      "738 : 그리 넓진 않았지만, 내부가 깔끔하고 직원분이 친절했습니다. 잠깐 여행 온 기분도 들고 그랬네요. 추천합니다.\n"
     ]
    },
    {
     "name": "stderr",
     "output_type": "stream",
     "text": [
      "\r 44%|████▍     | 739/1689 [1:34:50<1:33:39,  5.92s/it]"
     ]
    },
    {
     "name": "stdout",
     "output_type": "stream",
     "text": [
      "739 : 게럭식 버즈룸을 잃어버렸는데 찾을 수 없었음. 스위트룸에서 묵었는데, 손님에게 어떠한 안내도 없이 잠자는데 갑자기 환자 점검을 하는지 화재 경보가 울리고 방화 설정이 내려와서 놀라서 프론트에 연결했더니, 그냥 괜찮다고만 함. 화재 경보기에 드라이마가 있어서 상당히 불쾌했음. 룸서비스는 술과 입욕제만 제공함. 그래도 방 디자인은 예뻤음.\n"
     ]
    },
    {
     "name": "stderr",
     "output_type": "stream",
     "text": [
      "\r 44%|████▍     | 740/1689 [1:35:03<2:06:53,  8.02s/it]"
     ]
    },
    {
     "name": "stdout",
     "output_type": "stream",
     "text": [
      "740 : 뚜벅 하니 마스크 완장질이 도를 넘어서나 봅니다. 유럽, 미국, 다른 나라들은 마스크를 해제했다는데 왜 우리나라 마스크 해제 안 했죠? 유럽 코로나가 우리랑 달라서 저런 걸까요? 그리고 마스크 이물 예외 지역에서 분명히 마스크 착용 시 호흡곤란 있으면 안 써도 된다는 예외 조항도 있다는데, 그럼 편불 지키는 거 아닌가요? 마스크 써서 호흡 안 힘든 사람 누가 있을까요? 그러면 모두가 다 예외가 된다는 겁니다. 그러나 그 전에 우리는 지사를 예초부터 0.02% 감기 졸다 바이러스이고, 이름부터 코로나 죽, 감기 바이러스라는 걸 강조하는 이 감기에 강력히 전하해야 합니다!!!\n"
     ]
    },
    {
     "name": "stderr",
     "output_type": "stream",
     "text": [
      "\r 44%|████▍     | 741/1689 [1:35:06<1:42:14,  6.47s/it]"
     ]
    },
    {
     "name": "stdout",
     "output_type": "stream",
     "text": [
      "741 : 예뻐요. 숙소 야경이 너무 이쁘게 잘 보여요. 커플 여행인데 둘이서 숙박하기 딱 괜찮은 사이즈네요.\n"
     ]
    },
    {
     "name": "stderr",
     "output_type": "stream",
     "text": [
      "\r 44%|████▍     | 742/1689 [1:35:14<1:50:50,  7.02s/it]"
     ]
    },
    {
     "name": "stdout",
     "output_type": "stream",
     "text": [
      "742 : 저희 가족은 만들어 먹는 것도 좋아하고 인원도 많아서 무조건 펜션만 찾아다녔어요 ㅎ 우연히 그랜드 엘시티를 알고 나서 예약했습니다. 큰 펜션이랑 비용은 비슷한데 서비스도 좋고 요리도 해 먹을 수 있고 전망도 너무 좋고… 해서 정말 만족했던 숙소였어요 ㅎㅎ 우리 가족 모두가 만장일치로 만족한 곳이 처음이라서 리뷰를 남겨요!\n"
     ]
    },
    {
     "name": "stderr",
     "output_type": "stream",
     "text": [
      "\r 44%|████▍     | 743/1689 [1:35:17<1:30:37,  5.75s/it]"
     ]
    },
    {
     "name": "stdout",
     "output_type": "stream",
     "text": [
      "743 : 최고입니다. 시설도 좋고 주차도 넉넉하며, 근처에 편의점이 있고 친절하신 사장님이 계십니다.\n"
     ]
    },
    {
     "name": "stderr",
     "output_type": "stream",
     "text": [
      "\r 44%|████▍     | 744/1689 [1:35:24<1:35:54,  6.09s/it]"
     ]
    },
    {
     "name": "stdout",
     "output_type": "stream",
     "text": [
      "744 : 안 좋은 후기도 있네요ㅜ 사장님이 꼼꼼히 관리해서 저는 몇 번이나 방문했어요. 홍천강도 아주 가깝고 펜션 숙소도 깨끗하며 카페도 예뻐요. 그리고 장작 피우는 곳만 예약할 수도 있어요. 친구랑 카라반도 1박했는데 잊지 못할 추억 만들었어요. 오래 운영하시길..\n"
     ]
    },
    {
     "name": "stderr",
     "output_type": "stream",
     "text": [
      "\r 44%|████▍     | 745/1689 [1:35:25<1:14:26,  4.73s/it]"
     ]
    },
    {
     "name": "stdout",
     "output_type": "stream",
     "text": [
      "745 : 제대로 된 호캉스를 즐기고 갑니다. 또 올게요^^\n"
     ]
    },
    {
     "name": "stderr",
     "output_type": "stream",
     "text": [
      "\r 44%|████▍     | 746/1689 [1:35:27<58:02,  3.69s/it]  "
     ]
    },
    {
     "name": "stdout",
     "output_type": "stream",
     "text": [
      "746 : 접근성과 가성비는 좋다만... 놀게 거의 없다\n"
     ]
    },
    {
     "name": "stderr",
     "output_type": "stream",
     "text": [
      "\r 44%|████▍     | 747/1689 [1:35:28<48:01,  3.06s/it]"
     ]
    },
    {
     "name": "stdout",
     "output_type": "stream",
     "text": [
      "747 : 침구류가 너무 포근했어요. 전체적으로 깔끔하니 좋네요~\n"
     ]
    },
    {
     "name": "stderr",
     "output_type": "stream",
     "text": [
      "\r 44%|████▍     | 748/1689 [1:35:31<46:31,  2.97s/it]"
     ]
    },
    {
     "name": "stdout",
     "output_type": "stream",
     "text": [
      "748 : 일단 외관과 실내 인테리어가 모던하고 깔끔합니다. 가격대도 꽤 괜찮고, 그런데 타올 상태가 매우 심각해요.\n"
     ]
    },
    {
     "name": "stderr",
     "output_type": "stream",
     "text": [
      "\r 44%|████▍     | 749/1689 [1:35:36<54:38,  3.49s/it]"
     ]
    },
    {
     "name": "stdout",
     "output_type": "stream",
     "text": [
      "749 : 취사 시설이 있어서 간단히 해먹기 좋음. 해운대역 바로 앞 초역세권이라 교통이 좋음. 하지만 최근아웃 시 엘리베이터를 천 년 만 년 기다려야 함. 욕실에 슬리퍼가 없음 (외지?)\n"
     ]
    },
    {
     "name": "stderr",
     "output_type": "stream",
     "text": [
      "\r 44%|████▍     | 750/1689 [1:35:43<1:10:39,  4.52s/it]"
     ]
    },
    {
     "name": "stdout",
     "output_type": "stream",
     "text": [
      "750 : 최악임. 벌레는 차바도 차바도 계속 나오고, 시트나 침대 매트 들쳐보면 벌레 알 같은 것도 보이고, 하수구는 다 막혀서 물이 안 내려가고, 이불에는 정체 불명의 머리카락 투성이고, 수건은 직접 교환해 가라고 하고, 청소도 제대로 안 하고, 뭘 하나 멀쩡한 게 없음.\n"
     ]
    },
    {
     "name": "stderr",
     "output_type": "stream",
     "text": [
      "\r 44%|████▍     | 751/1689 [1:35:45<1:02:00,  3.97s/it]"
     ]
    },
    {
     "name": "stdout",
     "output_type": "stream",
     "text": [
      "751 : 요즘 장마철인데도 침구류가 뽀송뽀송하고 습하거나 꿉꿉하지도 않고 너무 좋았어요.\n"
     ]
    },
    {
     "name": "stderr",
     "output_type": "stream",
     "text": [
      "\r 45%|████▍     | 752/1689 [1:35:49<1:02:35,  4.01s/it]"
     ]
    },
    {
     "name": "stdout",
     "output_type": "stream",
     "text": [
      "752 : 설악산 가깝고 조용하고 좋았음. 숙소는 대체로 괜찮았지만, 방 바닥에 머리카락이 그대로 있고, 청결 상태가 양호하지 않음. 시내랑 멀어서 그런지 배민 배달 거부.\n"
     ]
    },
    {
     "name": "stderr",
     "output_type": "stream",
     "text": [
      "\r 45%|████▍     | 753/1689 [1:35:52<55:41,  3.57s/it]  "
     ]
    },
    {
     "name": "stdout",
     "output_type": "stream",
     "text": [
      "753 : 서비스는 친절하시고, 시설은 좀 오래되었습니다. 저는 만족했는데, 민감한 분은 어떨지 모르겠어요.\n"
     ]
    },
    {
     "name": "stderr",
     "output_type": "stream",
     "text": [
      "\r 45%|████▍     | 754/1689 [1:35:53<44:04,  2.83s/it]"
     ]
    },
    {
     "name": "stdout",
     "output_type": "stream",
     "text": [
      "754 : 예약하면 현장에서 취소한다는데 맞나요?\n"
     ]
    },
    {
     "name": "stderr",
     "output_type": "stream",
     "text": [
      "\r 45%|████▍     | 755/1689 [1:35:54<34:32,  2.22s/it]"
     ]
    },
    {
     "name": "stdout",
     "output_type": "stream",
     "text": [
      "755 : 깨끗하고 다 좋아요~~~\n"
     ]
    },
    {
     "name": "stderr",
     "output_type": "stream",
     "text": [
      "\r 45%|████▍     | 756/1689 [1:35:58<41:22,  2.66s/it]"
     ]
    },
    {
     "name": "stdout",
     "output_type": "stream",
     "text": [
      "756 : 제소한데 여기 이불에서 쿰쿰한 냄새가 나요,,, 오래 머무르실 분들은 비추천합니다. 청소를 안 해줘요. 약간 수스로 해야 하는 시스템…\n"
     ]
    },
    {
     "name": "stderr",
     "output_type": "stream",
     "text": [
      "\r 45%|████▍     | 757/1689 [1:36:00<41:30,  2.67s/it]"
     ]
    },
    {
     "name": "stdout",
     "output_type": "stream",
     "text": [
      "757 : 리뷰에 소음이 있다고 해서 걱정했는데 전혀 없었고, 다만 단점이라면 엘리베이터가 너무 느린 것 말곤 다 좋았어요.\n"
     ]
    },
    {
     "name": "stderr",
     "output_type": "stream",
     "text": [
      "\r 45%|████▍     | 758/1689 [1:36:02<38:21,  2.47s/it]"
     ]
    },
    {
     "name": "stdout",
     "output_type": "stream",
     "text": [
      "758 : 도심 속 힐링 스팟!! 숲으로 둘러싸여 있어 굉장히 좋았던 곳이다!!!\n"
     ]
    },
    {
     "name": "stderr",
     "output_type": "stream",
     "text": [
      "\r 45%|████▍     | 759/1689 [1:36:07<50:59,  3.29s/it]"
     ]
    },
    {
     "name": "stdout",
     "output_type": "stream",
     "text": [
      "759 : 9층 오션뷰 센터에 투숙했습니다. 날씨가 흐리에도 불구하고 뷰가 정말 좋았어요. 직원분들도 친절하시고 숙소 옆에 분위기 좋은 음식점도 있어서 아주 만족했습니다. 다음에 날씨 좋을 때 다시 방문해서 힐링하고 가고 싶네요~\n"
     ]
    },
    {
     "name": "stderr",
     "output_type": "stream",
     "text": [
      "\r 45%|████▍     | 760/1689 [1:36:11<51:20,  3.32s/it]"
     ]
    },
    {
     "name": "stdout",
     "output_type": "stream",
     "text": [
      "760 : 뷰 맛집이에요! 직원분들이 친절하세요. 호텔 내부에 필요한 것들은 대부분 있어요. 단점이라면 칫솔과 치약은 따로 가지고 오거나 구매해야 하는 정도?!\n"
     ]
    },
    {
     "name": "stderr",
     "output_type": "stream",
     "text": [
      "\r 45%|████▌     | 761/1689 [1:36:18<1:10:37,  4.57s/it]"
     ]
    },
    {
     "name": "stdout",
     "output_type": "stream",
     "text": [
      "761 : 문자를 보냈더니 하루 지나서 답변이 왔습니다. 전화 통화로 원하는 방이 예약 가능하다고 해서, 통화 후 입금했습니다. 입금 확인 문자가 역시 느리게 왔습니다. 다음날 그 방은 이미 나가다고 합니다. 다른 방은 어때요? 그래도 꾸역꾸역 찾아가니 아쉬운 건 없는 듯합니다. 바빠서 확인이 늦을 수밖에 없다고 하는데, 다들 그렇게 바쁘게 살고 있습니다.\n"
     ]
    },
    {
     "name": "stderr",
     "output_type": "stream",
     "text": [
      "\r 45%|████▌     | 762/1689 [1:36:19<54:30,  3.53s/it]  "
     ]
    },
    {
     "name": "stdout",
     "output_type": "stream",
     "text": [
      "762 : 친절하고 위치와 가성비가 좋은 호텔입니다.\n"
     ]
    },
    {
     "name": "stderr",
     "output_type": "stream",
     "text": [
      "\r 45%|████▌     | 763/1689 [1:36:23<53:45,  3.48s/it]"
     ]
    },
    {
     "name": "stdout",
     "output_type": "stream",
     "text": [
      "763 : 짐이 있는 상태에서는 걸어서 못 갈 것 같고요. 청거리 별로였습니다. 방음도 별로였고요. 물은 시원하게 잘 나와서 그건 좋았던 것 같아요~\n"
     ]
    },
    {
     "name": "stderr",
     "output_type": "stream",
     "text": [
      "\r 45%|████▌     | 764/1689 [1:36:29<1:05:46,  4.27s/it]"
     ]
    },
    {
     "name": "stdout",
     "output_type": "stream",
     "text": [
      "764 : 입구부터 친절하시고 향긋한 생화가 꽃향기가 들어가는 사람을 미소치게 합니다~^^ 망고 티 세트랑 빙수, 커피 먹었는데 고급스럽고 향기롭고 좋았습니다~ 무엇보다 티 세트에 나오는 아기자기한 미니어처 같은 케이크들이 너무 예쁘고 맛있었어요~♡^^♡\n"
     ]
    },
    {
     "name": "stderr",
     "output_type": "stream",
     "text": [
      "\r 45%|████▌     | 765/1689 [1:36:37<1:24:29,  5.49s/it]"
     ]
    },
    {
     "name": "stdout",
     "output_type": "stream",
     "text": [
      "765 : 영우 있게 들어가려고 2시에 가서 체크인 했는데  5시는 돼서야 방에 들어갔습니다~ 미리 전화라도 해서 늦어진다고 양해를 구했으면 쇼핑이라도 하고 있었을 텐데 매번 고객이 직접 가서 확인해야 하고~ 호텔 여러 군데 다녔지만 이런 경험은 처음입니다. 다시는 안 오고 싶네요. 다른 분들 참고하세요~ 청소가 늦어져서 그렇다는데 즐거운 호캉스를 기분 나쁘게 만들었네요.\n"
     ]
    },
    {
     "name": "stderr",
     "output_type": "stream",
     "text": [
      "\r 45%|████▌     | 766/1689 [1:36:47<1:44:04,  6.77s/it]"
     ]
    },
    {
     "name": "stdout",
     "output_type": "stream",
     "text": [
      "766 : 룸서비스는 정말 맛있어요. 가격은 그새 요금 갈비 반상 7.9만원. 기대하던 서비스는 솔직히 불만족스러움. 짐을 많이 들고 있는데 객실로 올려보내주지도 않고, 두 개 한 번에 요청하면 하나가 누락돼서 다시 전화하게 만들고.. 실내화를 가져다줄 때 사이즈를 물어보길래 말했더니 틀린 사이즈를 가져다줌 ㅎ 성수기도 아닌데 왜에 일을 대충하는지. 그래도 침구류랑 음식은 만족스러움~\n"
     ]
    },
    {
     "name": "stderr",
     "output_type": "stream",
     "text": [
      "\r 45%|████▌     | 767/1689 [1:36:49<1:21:37,  5.31s/it]"
     ]
    },
    {
     "name": "stdout",
     "output_type": "stream",
     "text": [
      "767 : 그냥 불친절해. 주차장도 그다기고, 시설도 노후했어.\n"
     ]
    },
    {
     "name": "stderr",
     "output_type": "stream",
     "text": [
      "\r 45%|████▌     | 768/1689 [1:36:51<1:06:30,  4.33s/it]"
     ]
    },
    {
     "name": "stdout",
     "output_type": "stream",
     "text": [
      "768 : 생각보다 나쁘지 않음. 엘리베이터는 엄청 느림. 조식은 그냥 그래.\n"
     ]
    },
    {
     "name": "stderr",
     "output_type": "stream",
     "text": [
      "\r 46%|████▌     | 769/1689 [1:36:55<1:02:56,  4.10s/it]"
     ]
    },
    {
     "name": "stdout",
     "output_type": "stream",
     "text": [
      "769 : 마모 또한 뷰가 미쳤고, 서비스가 좋으며 실내 수영장이 예쁘게 잘 되어있는데, 가족 단위로 많이 내려와서 애기들이 많다는 점은 예예.\n"
     ]
    },
    {
     "name": "stderr",
     "output_type": "stream",
     "text": [
      "\r 46%|████▌     | 770/1689 [1:37:07<1:42:18,  6.68s/it]"
     ]
    },
    {
     "name": "stdout",
     "output_type": "stream",
     "text": [
      "770 : - 연호산장 - 40년 전 수학여행 추억 소환. 가족의 경제 사정으로 수학여행이 어려웠던 때이지만 그래도 부모님과 누님들의 도움으로 갈 수 있었던 수학여행. 그때 숙박하였던 연호산장의 지금이 연호리조트가 마크리라. 성인이 되어 속초를 여러 차례 방문하였었으나 기억이 저번에만 있었던 연호산장이 더오른 것은 2024년 3월 7일 속초 방문 후 집에 돌아와 지난 에폰을 뒤져기다가 보게 된 친구와 함께 누어 찍은 - 연호산장 - 입간판 사진 때문에. ^^, 다음 방문 때는 연호리조트에 꼭 들려 보여야겠다.\n"
     ]
    },
    {
     "name": "stderr",
     "output_type": "stream",
     "text": [
      "\r 46%|████▌     | 771/1689 [1:37:12<1:35:46,  6.26s/it]"
     ]
    },
    {
     "name": "stdout",
     "output_type": "stream",
     "text": [
      "771 : 카운터 사장님이신 것 같은데, 사람이 불친절하고 사람을 무시하시네요 ㅋㅋㅋ 여기 다시 이용할 생각 없습니다. 여기 이용하실 분 중 서비스 중요하다고 생각하시는 분들은 절대 이용하지 마세요. 저런 숙박업소는 처음 봅니다.\n"
     ]
    },
    {
     "name": "stderr",
     "output_type": "stream",
     "text": [
      "\r 46%|████▌     | 772/1689 [1:37:17<1:28:41,  5.80s/it]"
     ]
    },
    {
     "name": "stdout",
     "output_type": "stream",
     "text": [
      "772 : 친절하고 시설이 좋아요. 욕조도 크고요. 근데 이불에 구명이 몇 개 나 있었어요. 주변이 룸살롱들이라서 아이들 데리고 가기에는 비추예요. 호텔 자체는 괜찮은데 주변 환경이 별로예요.\n"
     ]
    },
    {
     "name": "stderr",
     "output_type": "stream",
     "text": [
      "\r 46%|████▌     | 773/1689 [1:37:30<1:59:18,  7.82s/it]"
     ]
    },
    {
     "name": "stdout",
     "output_type": "stream",
     "text": [
      "773 : 가격을 감안한다면 이 정도 리조트도 없을 듯합니다. 현대라는 이름이 무색하게 시설은 별로입니다만, 아이들을 데리고 하루 묵고 가기에는 좋습니다. 어르신은 조금... 산 뷰가 멋진 곳입니다! 새소리도 좋고 풍경도 일품입니다! 현재 온천은 휴장입니다. 조식도 없습니다. 편의점은 7시~23시까지입니다. 제가 묵은 본관 5층에 욕조 타일이 들었는지 발을 테마다 쩍쩍 소리가 나던데, 발 안 닦리게 수린해야 하지 않나 싶습니다;; 침대도 조금 별로입니다. 다시 오고 싶은 곳입니다. 가격 때문에서 비수도 나름 친절하십니다.\n"
     ]
    },
    {
     "name": "stderr",
     "output_type": "stream",
     "text": [
      "\r 46%|████▌     | 774/1689 [1:37:31<1:27:04,  5.71s/it]"
     ]
    },
    {
     "name": "stdout",
     "output_type": "stream",
     "text": [
      "774 : 여갈 취소 맛집입니까?\n"
     ]
    },
    {
     "name": "stderr",
     "output_type": "stream",
     "text": [
      "\r 46%|████▌     | 775/1689 [1:37:36<1:24:14,  5.53s/it]"
     ]
    },
    {
     "name": "stdout",
     "output_type": "stream",
     "text": [
      "775 : 조경을 가족 여행을 일요일부터 월요일까지 1박 했는데, 패밀리룸을 저렴하게 이용하고 조식도 포함되어 있었어요. 루프탑에서 치맥을 포장해 먹었어요~ 직원분들 모두 친절하고 세면도구도 모두 준비되어 있어요^^\n"
     ]
    },
    {
     "name": "stderr",
     "output_type": "stream",
     "text": [
      "\r 46%|████▌     | 776/1689 [1:37:38<1:09:20,  4.56s/it]"
     ]
    },
    {
     "name": "stdout",
     "output_type": "stream",
     "text": [
      "776 : 가족 호텔, 연회장, 2인실, 세미나실, 패밀리룸, 워크숍\n"
     ]
    },
    {
     "name": "stderr",
     "output_type": "stream",
     "text": [
      "\r 46%|████▌     | 777/1689 [1:37:42<1:07:30,  4.44s/it]"
     ]
    },
    {
     "name": "stdout",
     "output_type": "stream",
     "text": [
      "777 : 호텔 전망이 너무 좋아요! 노을 질 때 이화동 거리의 풍경을 바라보며 LP를 들을 수 있네요~ 지하 라운지도 이번에 오픈했다는데 분위기가 좋아요! 주류도 생각보다 사요.\n"
     ]
    },
    {
     "name": "stderr",
     "output_type": "stream",
     "text": [
      "\r 46%|████▌     | 778/1689 [1:37:59<2:02:34,  8.07s/it]"
     ]
    },
    {
     "name": "stdout",
     "output_type": "stream",
     "text": [
      "778 : 뷰가 너무너무 좋았고, 룸 컨디션도 진짜 좋았어요. 여름에서 가을로 넘어가는 지금 시기가 하늘이 맑아서 방문하기 딱 좋은 시기 같아요. 체크인 도와주실 때도 너무 친절하셨습니다. 추가에 외출하고 돌아왔을 때 룸 정리된 것을 보며 세심하다는 느낌을 받았어요. 야경 감상할 수 있게 의자 배치도 바꿔주시고, 외출 후 돌아왔을 때 블라인드를 올리면서 웃워(ㅋㅋ) 할 수 있게끔 센스 있게 정돈해주셔서 좋았어요. 추가에는 없었는데, 침대 옆 협탁에 물과 컵 배치해주시는 센스도… 호텔 내부도 품격 있는 느낌이었어요. 외국 브랜드라 그런지 VIP스러운 외국인이 많아서… 엘리베이터에서 우픈 상황이 좀 있긴 했습니다 ㅎㅎ(사진은 프리미엄 한강 전망 18층)\n"
     ]
    },
    {
     "name": "stderr",
     "output_type": "stream",
     "text": [
      "\r 46%|████▌     | 779/1689 [1:38:01<1:37:17,  6.42s/it]"
     ]
    },
    {
     "name": "stdout",
     "output_type": "stream",
     "text": [
      "779 : 새행도 되고 행서 첫 여행으로 삼척에 왔는데 너무 좋았어요. 첫 여행부터 대박이었네요 ㅋ\n"
     ]
    },
    {
     "name": "stderr",
     "output_type": "stream",
     "text": [
      "\r 46%|████▌     | 780/1689 [1:38:05<1:25:04,  5.62s/it]"
     ]
    },
    {
     "name": "stdout",
     "output_type": "stream",
     "text": [
      "780 : 페텔레이슨 애견 호텔이 절대 맡기지 마세요. 우리 강아지가 다녀온 후에 무슨 일이 있었는지 몰라도 엄청 예민해졌어요. 영상이나 사진, 말 한마디도 없고 참...\n"
     ]
    },
    {
     "name": "stderr",
     "output_type": "stream",
     "text": [
      "\r 46%|████▌     | 781/1689 [1:38:23<2:22:22,  9.41s/it]"
     ]
    },
    {
     "name": "stdout",
     "output_type": "stream",
     "text": [
      "781 : 샤워장 화장실 전체적인 사이트 시설은 좋습니다. 하지만 그게 다입니다. 연인끼리 글램핑 하신다면 괜찮을 수도 있습니다. 하지만 침구에 곰팡이가 여기저기 있습니다. 텐트 안 곰팡이 냄새가 장난 아니에요. 사장님은 친절하시고 좋지만 글램핑존 관리가 잘 안 됩니다. 하나로 마트나 이런 거 기대하시면 안 됩니다. 장작 한 마에 15,000원, 하나로 마트에서 구매하시면 10,000원도 안 합니다. 기본적으로 판매하는 물품이 비쌉니다. 싸고 자리에 있기 때문에 고객을 생각하고 가신다면 더 저렴하게 판매를 해야 하지만 비쌉니다. 연인의 풀장이 코로나 때문에 없어졌다고 합니다. 참고하세요. 가평 파질을 생각하고 가신다면 그냥 저렴한 파지를 가시길. 요금이 생각보다 저렴하지 않습니다. 사이트에 나무 그늘이 없어 여름은 비추입니다. 대충 이 정도입니다.\n"
     ]
    },
    {
     "name": "stderr",
     "output_type": "stream",
     "text": [
      "\r 46%|████▋     | 782/1689 [1:38:27<1:59:00,  7.87s/it]"
     ]
    },
    {
     "name": "stdout",
     "output_type": "stream",
     "text": [
      "782 : 멍하니 편하게 광안리 뷰를 볼 수 있는 곳이에요. 체크인할 때는 빨란 하늘의 광안리를! 해가 지고 나서는 예쁜 불빛이 함께한 광안리를! 그냥 힐링이 되네요\n"
     ]
    },
    {
     "name": "stderr",
     "output_type": "stream",
     "text": [
      "\r 46%|████▋     | 783/1689 [1:38:36<2:01:29,  8.05s/it]"
     ]
    },
    {
     "name": "stdout",
     "output_type": "stream",
     "text": [
      "783 : 여유롭게 나가고 싶어서 추가 요금을 들고 2시에 퇴실했었는데, 컨시어지 분들도 친절하게 응대해 주시고, 무엇보다 28층 스카이 카페가 너무 마음에 들었어요. 스카이 라운지도 조명도 꾸며져 있고, 야경 볼 수 있어서 좋았어요. 룸에도 거울이 많아서 좋았어요! 다 너무 찐짠하게 없어서 후기 알바인 것 같지만, 진짜 단점이 없는 호텔이에요!\n"
     ]
    },
    {
     "name": "stderr",
     "output_type": "stream",
     "text": [
      "\r 46%|████▋     | 784/1689 [1:39:23<4:58:59, 19.82s/it]"
     ]
    },
    {
     "name": "stdout",
     "output_type": "stream",
     "text": [
      "784 : 딱 지역계서 여행 온 이용자들은 가성비를 따지며 좋다는 말도 있던데, 부산에 사는 사람으로서 말하면 지금까지 이용한 호텔 중 가장 최악으로 절대 추천하고 싶지 않은 호텔입니다. 웬만하면 다저볼 만한 가성비를 논할 정도의 수준도 되지 않는 호텔입니다. 오션뷰로 예약했는데 실제 방은 모셔리에 하프 오션뷰로 배정해 줍니다. 이상하다 싶어 문의하니 스위트룸 이야기 하면서 예약 어플의 사진과 안내가 문제라는 식으로 이야기하는데 무슨 말인지도 모르겠고, 하프 오션뷰와 다른 바 없는 방을 오션뷰라고 우기고 있습니다. 이 호텔은 하프 오션뷰와 오션뷰의 차이가 뭐라고 생각하는지? 하프라는 최소한의 영업도 모르는지, 고객을 기만하는 건지 여쭤군요입니다. 오션뷰와 하프 오션뷰를 다른 이름으로 미끼 상품처럼 올려 두었지만 실제로는 바다가 한쪽 창문 귀퉁이로 반만 보이는데 이걸 오션뷰라고 우기는 무슨 일이겠습니까. 오션뷰나 하프 오션뷰나 똑같은 방입니다. 예약은 오션뷰, 실제로는 하프 오션뷰. 고객을 기만한 식으로 예약받고 지극들 마음대로 오션뷰라고 방 배정하는 이런 호텔, 기가 차서 헛웃음만 나옵니다. 그렇다고 시설이라도 좋냐고, 너무 좁은 화장실과 바로 옆의 한 사람만 겨우 들어갈 만한 샤워부스. 샤워기 수전은 흔들거리고 떨어지기 직전이며... 객실 마루 바닥은 다 긁히고 빼어 있고 슬리퍼 안 신으면 양말이 색깔망하게 될 정도로 바닥이 더럽고, 객실 테이블의 의자는 흔들 의자도 아니고 다리가 부러졌는지 앉아 있다가 옆으로 넘어질 뻔했습니다. 날파리 객실 내에 날아다니고, 침대 시트에는 전 손님의 최악 흔적까지... 정말 위생 상태, 관리 상태 엉망입니다. 다른 호텔에서는 기본 제공하는 세면도구도 다 추가 요금 받고, 로션도 없고, 한 건물에 호텔이 여러 개 있어서 주차장이나 엘리베이터 이용은 한참 기다려야 하고 엘리베이터는 출퇴근 시간 지하철을 타듯이 붐빌게 할 정도로 민망하고 불쾌합니다. 객실 전정의 에어컨 소음은 어찌날 시끄러운지 잠을 잘 수가 없습니다. 쓰지도 않을 주방 싱크대가 있는 거 보니 오피스텔을 호텔로 쓰는 것 같습니다. 어디 중소도시의 모텔보다 못한 이름만 호텔입니다. 웬만해선 가성비를 따져볼 만도 한데 여기는 가성비를 논할 대상도 아닌 것 같습니다. 무료로 이용할 수 있어도 가고 싶지 않습니다.\n"
     ]
    },
    {
     "name": "stderr",
     "output_type": "stream",
     "text": [
      "\r 46%|████▋     | 785/1689 [1:39:39<4:42:16, 18.74s/it]"
     ]
    },
    {
     "name": "stdout",
     "output_type": "stream",
     "text": [
      "785 : 예식장 단기 알바 할 때 조문에 동선명도 안 한 상태에서 나한테 생각이 있나 없나 생각이라는 걸 좀 하고 사라라 이러면서 대놓고 고층 단기 알바생 있지 못하게음. 업무 전에 설명을 잘 해주는 것도 아님. 10분 만에 대충 동선만 설명해준 상태에서 업무 들어갔는데 조금만 실수해도 손님은 용서해주는데 장기 알바가 손님 앞에서 단기 알바한테 소리지르면서 갑질하는 김요한 곳. 그리고 친한 장기 알바들끼리 단기 알바 뒷담화. 별 잘못도 안 했는데 그냥 다른 알바생 욕하더라. 어처댑가 여드렸는데 참... 그 사람이 불쌍했음. 생각하대로 또 화나네. 호텔 장기 알바라서 참 조후시겠어요. 어제의 알바가 오늘의 손님이 될 수 있다는 걸 잊지 마시고 평생 알바나 하면서 사시길.\n"
     ]
    },
    {
     "name": "stderr",
     "output_type": "stream",
     "text": [
      "\r 47%|████▋     | 786/1689 [1:39:43<3:32:28, 14.12s/it]"
     ]
    },
    {
     "name": "stdout",
     "output_type": "stream",
     "text": [
      "786 : 서울 근처에 없는 게 아쉽네요. 부산까지 내려오려면 너무 멀다는... 그래도 또 왔네요. 침구도 깨끗하고 목욕탕보다 더 세 물줄기.\n"
     ]
    },
    {
     "name": "stderr",
     "output_type": "stream",
     "text": [
      "\r 47%|████▋     | 787/1689 [1:39:44<2:35:58, 10.37s/it]"
     ]
    },
    {
     "name": "stdout",
     "output_type": "stream",
     "text": [
      "787 : 에어컨이 좀 아쉬운 성능이지만 그래도 건틸 만함.\n"
     ]
    },
    {
     "name": "stderr",
     "output_type": "stream",
     "text": [
      "\r 47%|████▋     | 788/1689 [1:39:52<2:22:28,  9.49s/it]"
     ]
    },
    {
     "name": "stdout",
     "output_type": "stream",
     "text": [
      "788 : 예전에 비하면 직원분들이 많이 친절해졌어요. 하지만 이불 커버와 이불 속이 따로 있고, 그 와중에 하수구에 머리카락이 쌓여 물이 고여 안내려갔어요. 변기도 안내려갔고요. 이불은 얼지건이 청소해서 힘이 부족해서 따로 있나 보다 백 번 여행하지만, 머리카락 쌓여 물이 안내려가는 건 아닌 것 같아요...\n"
     ]
    },
    {
     "name": "stderr",
     "output_type": "stream",
     "text": [
      "\r 47%|████▋     | 789/1689 [1:39:56<1:58:37,  7.91s/it]"
     ]
    },
    {
     "name": "stdout",
     "output_type": "stream",
     "text": [
      "789 : 수준 봐라. 몇 주 전에 예약했는데 이틀 남겨놓고 연휴라 가격이 올랐으니 다시 예약하라고 취소하고, 상술인 것 같은데, 이 와중에 전화도 안 받는 수준 진짜 답도 없다.\n"
     ]
    },
    {
     "name": "stderr",
     "output_type": "stream",
     "text": [
      "\r 47%|████▋     | 790/1689 [1:40:01<1:45:25,  7.04s/it]"
     ]
    },
    {
     "name": "stdout",
     "output_type": "stream",
     "text": [
      "790 : 뷰가 진짜 예뻐요♡ 사장님이 직접 상주하며 관리하고 계셔서 객실이 깨끗하더라고요. 일출도 볼 수 있어요♡ 아이 데려갈 땐 상비약 꼭 챙기세요. 근처 편의점이 24시간 하는 곳이 없어요.\n"
     ]
    },
    {
     "name": "stderr",
     "output_type": "stream",
     "text": [
      "\r 47%|████▋     | 791/1689 [1:40:02<1:20:07,  5.35s/it]"
     ]
    },
    {
     "name": "stdout",
     "output_type": "stream",
     "text": [
      "791 : 오션뷰 진짜 대박이에요ㅋㅋㅋ\n"
     ]
    },
    {
     "name": "stderr",
     "output_type": "stream",
     "text": [
      "\r 47%|████▋     | 792/1689 [1:40:06<1:13:11,  4.90s/it]"
     ]
    },
    {
     "name": "stdout",
     "output_type": "stream",
     "text": [
      "792 : 비싼 만큼 좋은 곳. 그러나 중산층이 주면의 사정을 고려하면 절대지를 조회한 금액이 부담스러운 곳. 가성비나 럭셔리나는 각자의 잣이일 듯.\n"
     ]
    },
    {
     "name": "stderr",
     "output_type": "stream",
     "text": [
      "\r 47%|████▋     | 793/1689 [1:40:45<3:46:28, 15.17s/it]"
     ]
    },
    {
     "name": "stdout",
     "output_type": "stream",
     "text": [
      "793 : 맘에 1도 안 들어요... 처음부터 들어갈 때 아주머니께서 술 마시면 안 되고, 내일 쓰레기 봉투 사왔는지 확인하러 들어온다고 하고, 음식 먹으면 안 된다고 하고 저희 아무것도 안 했는데 후수 두시고 그러셔서 감정 상했지만 그런 사람 만나 보다 하고 생각하려 했어요. 그런데 옆방에서 술 게임하는 소리 들려서 옆방 술 먹는 거 아니냐니까 갑자기 말 바꾸면서 옆방 어디 왔는데 술 조금은 먹어도 된다고 하시더라고요. 저희가 어린 여자들끼리 오니까 만만하게 보시는지 자꾸 후스 두시고... 계속 눈치 보면서 놀았어요. 그리고 저희가 열쇠를 안에 두고 문을 잠그버려서 사물실에 갔더니 안 계셔서 연락드리니 지금 밖에 있는데 금방 오신다고 하셔서 추운데 떨면서 기다리는 동안 배달 2개 주문한 거 다 오고 다 먹고도 안 오셔서 전화하니까 아직 주차장인데 주차가 막혀 있다는 이상한 핑계를 대시더라고요. 결국 30분 정도 더 기다리고 저희 줄이 떨면서 겨우 들어갔는데 저희 방 후드면서 너무 어지럽다고 혼자 말하시더라고요. 저희 한번도 방 안 치우고 체크아웃한 적 없고 늘 프리스케까지 했는데 그 말 들으니까 우리가 안 치우는 사람 취급하시는 거 같더라고요... 기분 나빴어요. 그리고 다음 날 친구가 아침에 샤워하는데 화장실 전등에서 스파크가 튀더니 플라스틱 단내가 온 방 안에 나더라고요. 그래서 체크아웃은 빨리 해야 하고 씻지는 못하고 고민하다 주인분을 부르니까 그냥 씻거나 아직 안 치운 옆 방 쓰라면서 사과도 안 하고 친구 따질 뻔했는데 괜찮냐는 말도 안 하고 그러시더라고요. 그래서 제 친구 한 명이 참다 참다 화가 나서 에가 따질 편했고 지금 온 방에 단내가 나는데 제대로 조치도 안 해주시고 사과도 안 하시냐고 말하니까 자기 보고 어쩌라고 이런 식으로 말씀하시며 나가시더라고요... 리뷰 친절하다고 뛴데 제태제 어디가 친절하다 말씀이시죠. 태어나서 가본 숙소 중에 제일 싫었습니다. 최악입니다. 별점 1점도 아까워요. 마이너스입니다. 가지 마세요^^\n"
     ]
    },
    {
     "name": "stderr",
     "output_type": "stream",
     "text": [
      "\r 47%|████▋     | 794/1689 [1:40:52<3:08:09, 12.61s/it]"
     ]
    },
    {
     "name": "stdout",
     "output_type": "stream",
     "text": [
      "794 : 1. 커피, 컵라면 및 기타 비품들을 제공해 주셔서 좋음   2. 방음이 잘 됨   3. 깔끔함   4. 사장님이 친절하심   5. 해변이랑 가까움   6. 수영장이 따로 있어서 놀 수 있음   7. 조식랑 티를 무료로 대여해 줌\n"
     ]
    },
    {
     "name": "stderr",
     "output_type": "stream",
     "text": [
      "\r 47%|████▋     | 795/1689 [1:40:55<2:22:44,  9.58s/it]"
     ]
    },
    {
     "name": "stdout",
     "output_type": "stream",
     "text": [
      "795 : 별침대에서 누워서 자고 쉬면서 셀프바를 이용하고, 4시에 체크인하니 딱 좋네요~^^♡\n"
     ]
    },
    {
     "name": "stderr",
     "output_type": "stream",
     "text": [
      "\r 47%|████▋     | 796/1689 [1:41:07<2:34:40, 10.39s/it]"
     ]
    },
    {
     "name": "stdout",
     "output_type": "stream",
     "text": [
      "796 : 최악이었습니다. 추석날 방문했습니다. 청소 아줌마가 신발며 알바를 썼다는데, 방 상태가 역대급 더러웠고 방도 못 바꿔준다 하고 그냥 쓰라는 사장님 태도 불쾌했습니다. 베개와 벽에 벌레 죽은 시체가 그대로 있고 머리카락도 3일치 묵은 상태처럼 여기저기 널려있었습니다. 뜨거운 물도 잘 안 나오고 피를 빨아먹고 죽은 모기 시체가 여기저기 있었네요. 사장님의 어처구려는 식 태도가 마땅 생각하시나요? 심지어 조식 운영도 안 해서 좋은 휴가 날 기분 더러웠네요. 손님만 받치 말고 청결도 신경 쓰세요.\n"
     ]
    },
    {
     "name": "stderr",
     "output_type": "stream",
     "text": [
      "\r 47%|████▋     | 797/1689 [1:41:26<3:15:06, 13.12s/it]"
     ]
    },
    {
     "name": "stdout",
     "output_type": "stream",
     "text": [
      "797 : 1. 신라스테이 광화문점 뷰가 안 좋고 객실이 좁아요. 특히 객실 1012호는 사무실 뒷편 에어컨 실외기가 샤워 종대로 연결한 사마한 뷰가 시야의 절반을 차지합니다. 창문을 열면 실외기 소음이 귀를 테립니다. 이 방을 주면 절대 받지 마세요. 최소한 70% 할인해야 합니다. 방 받을 때 뷰를 꼭 확인하세요.   2. 가족 숙박은 여기 가지 마세요(서면세븐엘이 나을 듯 가격 같음). 신라스테이는 20대들의 '러브 모텔' 이더군요. 호텔이 이들을 대상으로 장사를 하는 듯합니다.   3. 위생과 청소 상태가 불만족스럽습니다. 결론적으로 조용한 가족, 부부 관광여행 하실 분 절대 가지 마세요. 조식 뷔페 메뉴가 똑같고 계란 요리가 너무 없어요. 흔한 스크램블이나 오믈렛 좀 추가 바랍니다. 장점은 시내 중심 가기 좋은 점뿐입니다.\n"
     ]
    },
    {
     "name": "stderr",
     "output_type": "stream",
     "text": [
      "\r 47%|████▋     | 798/1689 [1:41:28<2:23:41,  9.68s/it]"
     ]
    },
    {
     "name": "stdout",
     "output_type": "stream",
     "text": [
      "798 : 뷰 맛집 낮에는 오션뷰, 밤에는 광안대교 뷰\n"
     ]
    },
    {
     "name": "stderr",
     "output_type": "stream",
     "text": [
      "\r 47%|████▋     | 799/1689 [1:41:30<1:50:58,  7.48s/it]"
     ]
    },
    {
     "name": "stdout",
     "output_type": "stream",
     "text": [
      "799 : 저렴하고 시설도 편리하게 이용해서 다시 오고 싶은 곳이었어요. 지하철 바로 옆이라서 교통도 편리했습니다!\n"
     ]
    },
    {
     "name": "stderr",
     "output_type": "stream",
     "text": [
      "\r 47%|████▋     | 800/1689 [1:41:37<1:45:41,  7.13s/it]"
     ]
    },
    {
     "name": "stdout",
     "output_type": "stream",
     "text": [
      "800 : 공실 확인하고 가격 싸다까지 받은 뒤에 예약해서 방문했는데 구설 방이 나갔어요. 싱글룸이 인기 있어서 트윈룸으로 유도하는 느낌이 들었습니다. 그리고 사람이 극혐해서 사는 거 아니면 가성비가 안 좋습니다. 강남 올비스텔이 너무 비싸서 이런 데도 찾아봤는데 가격이 비슷해요..\n"
     ]
    },
    {
     "name": "stderr",
     "output_type": "stream",
     "text": [
      "\r 47%|████▋     | 801/1689 [1:41:41<1:31:00,  6.15s/it]"
     ]
    },
    {
     "name": "stdout",
     "output_type": "stream",
     "text": [
      "801 : 너무나 만족스러운 숙소였습니다. 시설이며 청결 상태며 너무 깔끔하고 좋았어요. 뷰는 말할 것도 없고요. 자주 생각나서 시간만 있으면 계속 이용하고 싶은 숙소입니다.\n"
     ]
    },
    {
     "name": "stderr",
     "output_type": "stream",
     "text": [
      "\r 47%|████▋     | 802/1689 [1:41:43<1:16:20,  5.16s/it]"
     ]
    },
    {
     "name": "stdout",
     "output_type": "stream",
     "text": [
      "802 : 청결했고, 짐을 줄일 수 있도록 잠옷과 스킨 로션을 주시니 편리함과 가격도 저렴하니 계속 이용하겠습니다.\n"
     ]
    },
    {
     "name": "stderr",
     "output_type": "stream",
     "text": [
      "\r 48%|████▊     | 803/1689 [1:41:46<1:03:58,  4.33s/it]"
     ]
    },
    {
     "name": "stdout",
     "output_type": "stream",
     "text": [
      "803 : 친절하고 조용하며 침구와 수압 모두 좋았습니다! 근처 먹자걸이를 구경하며 놀기 좋은 곳입니다.\n"
     ]
    },
    {
     "name": "stderr",
     "output_type": "stream",
     "text": [
      "\r 48%|████▊     | 804/1689 [1:41:48<56:19,  3.82s/it]  "
     ]
    },
    {
     "name": "stdout",
     "output_type": "stream",
     "text": [
      "804 : 깨끗하고 뷰가 최고였어요. 무엇보다 너무 친절하셔서 감동받았습니다. 다시 또 놀러 갈게요~~\n"
     ]
    },
    {
     "name": "stderr",
     "output_type": "stream",
     "text": [
      "\r 48%|████▊     | 805/1689 [1:41:49<43:40,  2.96s/it]"
     ]
    },
    {
     "name": "stdout",
     "output_type": "stream",
     "text": [
      "805 : 티똥슉 맛긴 딱 좋은 곳\n"
     ]
    },
    {
     "name": "stderr",
     "output_type": "stream",
     "text": [
      "\r 48%|████▊     | 806/1689 [1:41:54<50:08,  3.41s/it]"
     ]
    },
    {
     "name": "stdout",
     "output_type": "stream",
     "text": [
      "806 : 변기에 때가 끼어 있고, 이불에 머리카락이 많고, 10층에 층당 30개의 방이 있는데 엘리베이터는 두 개라 번잡하고, 주차장이 개판이고… 다시는 안 올 듯…\n"
     ]
    },
    {
     "name": "stderr",
     "output_type": "stream",
     "text": [
      "\r 48%|████▊     | 807/1689 [1:42:03<1:16:16,  5.19s/it]"
     ]
    },
    {
     "name": "stdout",
     "output_type": "stream",
     "text": [
      "807 : 호텔 직원들은 친절한데 주차 요원이 너무 불친절해서 이미 기분이 상해서 호텔 체크인 후 묵는 내내 기분이 좋진 않네요. 그리고 예전 라세느를 방문했을 땐 음식을 맛있게 먹은 기억이 있는데, 이번엔 라세느가 아니라서 그런 건지 제 입맛이 편한 건지 음식이 별로 맛이 없네요. 롯데호텔 솔직히 유명한 호텔이라 잔뜩 기대했는데 이름값을 못하는 것 같네요. 재방문은 없을 듯합니다. 가성비 떨어져요.\n"
     ]
    },
    {
     "name": "stderr",
     "output_type": "stream",
     "text": [
      "\r 48%|████▊     | 808/1689 [1:42:07<1:10:28,  4.80s/it]"
     ]
    },
    {
     "name": "stdout",
     "output_type": "stream",
     "text": [
      "808 : 예전에 동해안을 트레킹 할 때 한 번 숙박하고, 이번에는 자전거로 여행하며 다시 들렀는데 숙박비도 저렴하고 주인분이 친절하시고 편히 쉬다 갑니다.\n"
     ]
    },
    {
     "name": "stderr",
     "output_type": "stream",
     "text": [
      "\r 48%|████▊     | 809/1689 [1:42:08<54:09,  3.69s/it]  "
     ]
    },
    {
     "name": "stdout",
     "output_type": "stream",
     "text": [
      "809 : 여자 관리인 불친절하고 까칠함..\n"
     ]
    },
    {
     "name": "stderr",
     "output_type": "stream",
     "text": [
      "\r 48%|████▊     | 810/1689 [1:42:11<49:03,  3.35s/it]"
     ]
    },
    {
     "name": "stdout",
     "output_type": "stream",
     "text": [
      "810 : 합리적인 가격에 넷플릭스 객실까지 있었어요. 해운대에서 부담 없이 놀다 가기 좋은 곳입니다.\n"
     ]
    },
    {
     "name": "stderr",
     "output_type": "stream",
     "text": [
      "\r 48%|████▊     | 811/1689 [1:42:13<46:05,  3.15s/it]"
     ]
    },
    {
     "name": "stdout",
     "output_type": "stream",
     "text": [
      "811 : 오랜만에 호캉스였는데 서비스도 그렇고 만족스러웠습니다. ㅎ 사람이 적을 때 오니 더 좋네요.\n"
     ]
    },
    {
     "name": "stderr",
     "output_type": "stream",
     "text": [
      "\r 48%|████▊     | 812/1689 [1:42:21<1:06:26,  4.55s/it]"
     ]
    },
    {
     "name": "stdout",
     "output_type": "stream",
     "text": [
      "812 : 예약 확정 다 됐는데, 당일 가서 체크인 하려니까 일방적으로 취소됐다고 통보하고, 고객센터에 전화해서 환불받으라고 합니다. 카운터에 있는 나이 많은 아저씨 태도도 그냥 무대포여서 말이 안 통하네요. 당일 숙소 잡을 때도 없는데, 덕분에 최악의 부산 여행이 되었네요. 예약해서 이용하실 분들 참고되었으면 합니다.\n"
     ]
    },
    {
     "name": "stderr",
     "output_type": "stream",
     "text": [
      "\r 48%|████▊     | 813/1689 [1:42:25<1:04:38,  4.43s/it]"
     ]
    },
    {
     "name": "stdout",
     "output_type": "stream",
     "text": [
      "813 : 해운대에서 가격 대비 가성비는 갑. 정말 비싸지 않고 깔끔하며 나름 괜찮은 호텔이에요. 몇 번 숙소로 묵었는데 주중에도 예약은 이른 시간에 필수 고수. 늦으면 객실 없어요.\n"
     ]
    },
    {
     "name": "stderr",
     "output_type": "stream",
     "text": [
      "\r 48%|████▊     | 814/1689 [1:42:28<57:39,  3.95s/it]  "
     ]
    },
    {
     "name": "stdout",
     "output_type": "stream",
     "text": [
      "814 : 따뜻하고 깨끗한 침구, 특히 베개가 끝내줍니다. 어디서 구할 수 있는지 물어보고 싶은데 물어볼 수 있는 곳이 없네요...\n"
     ]
    },
    {
     "name": "stderr",
     "output_type": "stream",
     "text": [
      "\r 48%|████▊     | 815/1689 [1:42:30<47:06,  3.23s/it]"
     ]
    },
    {
     "name": "stdout",
     "output_type": "stream",
     "text": [
      "815 : 시설도 깨끗하고 사장님도 너무 친절해서 좋았어요.\n"
     ]
    },
    {
     "name": "stderr",
     "output_type": "stream",
     "text": [
      "\r 48%|████▊     | 816/1689 [1:42:38<1:10:45,  4.86s/it]"
     ]
    },
    {
     "name": "stdout",
     "output_type": "stream",
     "text": [
      "816 : 독특한 객실 설계로 (벽체를 사선으로, 침대 쪽이 넓게) 좁은 공간에서 최대 호우를 견뉘려고 한 것이 여보인다. 공간 대비 가격은 높은 편이지만 서비스의 질이나 청결, 마감 퀄리티 역시 높다. 조식은 양식·한식 뷔페 타입인데 양식보다는 한식이 입에 훨씬 맛있다. 전체적으로 공간이 좁아 로비도 다소 어수선한 점은 아쉽다.\n"
     ]
    },
    {
     "name": "stderr",
     "output_type": "stream",
     "text": [
      "\r 48%|████▊     | 817/1689 [1:42:43<1:10:54,  4.88s/it]"
     ]
    },
    {
     "name": "stdout",
     "output_type": "stream",
     "text": [
      "817 : 아래 후기에도 같은 실수가 있는데, 생일 당일 방문이라 전화로 요청을 넣으니 메모를 남기겠다고 했지만 체크인할 때 보니 전혀 모름 ^_ㅠ 이 부분 개선이 필요한 듯! 하지만 전체적으로 만족함, 럭셔리 레이크뷰\n"
     ]
    },
    {
     "name": "stderr",
     "output_type": "stream",
     "text": [
      "\r 48%|████▊     | 818/1689 [1:42:46<1:01:48,  4.26s/it]"
     ]
    },
    {
     "name": "stdout",
     "output_type": "stream",
     "text": [
      "818 : 미기 상품을 기어 파는 특급 호텔. 직원들 서비스 교육조차 안 시키는 특급 호텔. 왜 특급 호텔인지 이해가 안 간다.\n"
     ]
    },
    {
     "name": "stderr",
     "output_type": "stream",
     "text": [
      "\r 48%|████▊     | 819/1689 [1:43:06<2:10:31,  9.00s/it]"
     ]
    },
    {
     "name": "stdout",
     "output_type": "stream",
     "text": [
      "819 : 베드체크 부산 거기 여행 중, 첫째 날 입실했던 ‘해운대’ 비치 근처의 호텔입니다. 비성수기 시작이라 65,000원 정도에 평일에 입실했고 시티뷰입니다. 청소 상태는 깨끗하고 직원들 친절합니다. 가성비가 있으므로 간만하고 보신다면,  1. 내부 시설이 조금 낡은 느낌을 받았습니다. 2. 방충망은 조금 더러웠습니다. 청결이 필요해 보입니다. 3. 개인적으로는 비흡연자라 상관은 없었으나, 흡연 시 폐질감이 밀려 24만 원. 일반적으로 10만 원 내외 받는 다른 호텔과 달리, 매우 어거캉고 한번으로는 어떤 안 좋은 에피소드가 있었지 않나 생각이 들었습니다. 원하니 설거이 있는 가격이라 조금 설드렸습니다. 4. 일하시는 분들 친절하신나, 매니저급처럼은 안 보이고 일시적 아르바이트생으로 보입니다.  이외에 크게 특이 사항은 없었습니다. 비치가 가깝고 이 정도 금액이면 나이스하다고 생각합니다.\n"
     ]
    },
    {
     "name": "stderr",
     "output_type": "stream",
     "text": [
      "\r 49%|████▊     | 820/1689 [1:43:15<2:10:38,  9.02s/it]"
     ]
    },
    {
     "name": "stdout",
     "output_type": "stream",
     "text": [
      "820 : 뷰도 좋고 힐튼이라는 내일 배류도 있지만 불편한기도 해요. 일단 외진 곳이라는 점(장점이기도 하고) 체크인이 10층이에요. 그래서 왔다 갔다 하기 힘들어요. 욕조에서 사진 찍으려면 높은 곳 달라고 해야 이뻐요. CU 존제합니다. 입실하고 잠깐 잘 가고 나갈 때마다 투숙 하길라고 말해야 하는 점 귀찮았어요. 지하 주차장에서 한번에 객실까지 못 가고 엘리베이터 갈아타야 해서 불편 ㅜ\n"
     ]
    },
    {
     "name": "stderr",
     "output_type": "stream",
     "text": [
      "\r 49%|████▊     | 821/1689 [1:43:21<1:53:56,  7.88s/it]"
     ]
    },
    {
     "name": "stdout",
     "output_type": "stream",
     "text": [
      "821 : 사우나는 가운 시설이 턱없이 부족한데 추가 비용까지 있어서 완전 미술였고, 그 외에는 더 없이 환상적이었습니다. 건축가 오늘의 역라이 팍팍 느껴집니다. 뷰, 인근 식당가, 용궁사까지 인프라도 충분~~\n"
     ]
    },
    {
     "name": "stderr",
     "output_type": "stream",
     "text": [
      "\r 49%|████▊     | 822/1689 [1:43:27<1:48:46,  7.53s/it]"
     ]
    },
    {
     "name": "stdout",
     "output_type": "stream",
     "text": [
      "822 : 엘베 옆 객실은 피하셔야 할 듯 ㅋㅋ 엘베에서 운화류가 덜 풀려져서인지 오르락내리락 할 때마다 의자가~ 의자가~ 소리가 나는데 숙소에서 다 들림 ㅋㅋㅋㅋ 밤에는 옆 객실에서 의자가~ 소리가 나서 옆 방음도 심했음..\n"
     ]
    },
    {
     "name": "stderr",
     "output_type": "stream",
     "text": [
      "\r 49%|████▊     | 823/1689 [1:43:29<1:25:38,  5.93s/it]"
     ]
    },
    {
     "name": "stdout",
     "output_type": "stream",
     "text": [
      "823 : 오션뷰가 밝고니도 있어 짱임. 시내 쪽은 가이라도 엄청 싸면 좋을 듯하다.\n"
     ]
    },
    {
     "name": "stderr",
     "output_type": "stream",
     "text": [
      "\r 49%|████▉     | 824/1689 [1:43:34<1:17:58,  5.41s/it]"
     ]
    },
    {
     "name": "stdout",
     "output_type": "stream",
     "text": [
      "824 : 가격도 상대적으로 괜찮고 인테리어도 딱히 이상하지 않고 깔끔하게 청소가 잘 되어 있고 건물 자체가 층고도 괜찮고 전망도 좋아요. 이번이 두 번째인데 세 번째도 방문할 용의가 있어요.\n"
     ]
    },
    {
     "name": "stderr",
     "output_type": "stream",
     "text": [
      "\r 49%|████▉     | 825/1689 [1:43:41<1:27:15,  6.06s/it]"
     ]
    },
    {
     "name": "stdout",
     "output_type": "stream",
     "text": [
      "825 : 수영장이 실내에 있어 너무 좋네요. 오랜만에 수영하니 너무 후련했다느. 탈수기도 있어 너무 편리했어요. 건실과 주방이 분리돼 고기 구기도 좋고 침실 전망도 좋고요. 시간 여유가 되면 종종 가려고요. 애엄마라 그런지 관리하기 너무 힘드시겠다는 생각이 들더라고요. 친절히 대해주셔서 너무 잘 다녀왔어요.\n"
     ]
    },
    {
     "name": "stderr",
     "output_type": "stream",
     "text": [
      "\r 49%|████▉     | 826/1689 [1:43:43<1:08:25,  4.76s/it]"
     ]
    },
    {
     "name": "stdout",
     "output_type": "stream",
     "text": [
      "826 : 커플보다는 단체로 친구들끼리 숙박하는 것이 가성비가 좋습니다.\n"
     ]
    },
    {
     "name": "stderr",
     "output_type": "stream",
     "text": [
      "\r 49%|████▉     | 827/1689 [1:43:47<1:06:35,  4.64s/it]"
     ]
    },
    {
     "name": "stdout",
     "output_type": "stream",
     "text": [
      "827 : 주차가 조금 힘들었지만 배관점과 연결되어 있어서 편리하고 쉬기 좋음. 수영장이 일부 룸을 제외하고 유상이지만 잘 관리되어 있고, 온수인 점과 조명, 그리고 음악이 너무너무 좋음.\n"
     ]
    },
    {
     "name": "stderr",
     "output_type": "stream",
     "text": [
      "\r 49%|████▉     | 828/1689 [1:44:07<2:11:07,  9.14s/it]"
     ]
    },
    {
     "name": "stdout",
     "output_type": "stream",
     "text": [
      "828 : 간만에 통창 모임을 집 근처에서 해서 좋았는데, 숯불 피워주는 가격에 놀라고 옷장이 망가졌다고 인상 쓰면서 변상해달라고 하시는 사장님, 완전 어이없음이네~ ㅜㅜ 숯불은 보통 2~3만 원 하던데 5만 원 달라고 하셔서 깜놀~~ 밖에서 고기 구워 먹다 노래방 있는 방에서 놀려고 노래방 기기 틀어달라고 사장님을 불렀는데, 들어오자마자 옷장부터 보시더니 (누가 일러서?) 하고 반말로 성질 내시고 변상해달라길래 황당했네요~ ㅜ 나중에 안초구 샴페인 보니 이미 망가져서 공영용 탁자 두 개로 바가지 놓은 게 빠져있더만~ 혹시라도 여기 가시는 분들 있으시면 불반이나 숯은 가져가시고 입실 전에 방 아니나 주변 꼼꼼히 점검하시고 사진들 남겨놓으시길~~ PS 룸에 곰팡이 냄새 심하니까 미리 에어컨 꺼두시고 들어가시길~~\n"
     ]
    },
    {
     "name": "stderr",
     "output_type": "stream",
     "text": [
      "\r 49%|████▉     | 829/1689 [1:44:13<1:59:55,  8.37s/it]"
     ]
    },
    {
     "name": "stdout",
     "output_type": "stream",
     "text": [
      "829 : H 스타일. 헤어샐롱 새로게 단장해 쉬지 않고 이 세이 새로 오시는데, 다시 팔이팅! 아자아자 우리 할 수 있어 ㅋㅋ #복구역세 #복구천문첨 #복구메이지셥팅 #복급플렉페기 #복구다세 #남자영양범\n"
     ]
    },
    {
     "name": "stderr",
     "output_type": "stream",
     "text": [
      "\r 49%|████▉     | 830/1689 [1:44:15<1:29:31,  6.25s/it]"
     ]
    },
    {
     "name": "stdout",
     "output_type": "stream",
     "text": [
      "830 : 뷰도 좋고 깨끗해요! 재방문할게요!\n"
     ]
    },
    {
     "name": "stderr",
     "output_type": "stream",
     "text": [
      "\r 49%|████▉     | 831/1689 [1:44:16<1:06:02,  4.62s/it]"
     ]
    },
    {
     "name": "stdout",
     "output_type": "stream",
     "text": [
      "831 : 가성비와 접근성이 좋은 호텔\n"
     ]
    },
    {
     "name": "stderr",
     "output_type": "stream",
     "text": [
      "\r 49%|████▉     | 832/1689 [1:44:20<1:02:53,  4.40s/it]"
     ]
    },
    {
     "name": "stdout",
     "output_type": "stream",
     "text": [
      "832 : 청결하고 가격 대비 넓어 좋았어요. 추운 날씨에도 난방이 잘 되어 따뜻하게 보냈습니다. 속초 시내까지 20분 거리, 걸와 동반도 가능해서 좋았어요.\n"
     ]
    },
    {
     "name": "stderr",
     "output_type": "stream",
     "text": [
      "\r 49%|████▉     | 833/1689 [1:44:28<1:21:05,  5.68s/it]"
     ]
    },
    {
     "name": "stdout",
     "output_type": "stream",
     "text": [
      "833 : 시설 유지 관리가 매우 우수합니다. 사장님도 친절하고 젊은 사장 특유의 매너와 유아함, 엄격함이 전해지는 멋진 분들입니다. 둘러본 결과, 키즈 존 쪽이 애들이 놀기에 참 좋아 보였고 분위기도 돌아돌아 이쁩니다. 놀기즈 밖에서는 주차장과 너무 가까운 게 아쉽고, 숲속 데크 쪽은 짐 남르는 것이 수고스러우나 조용하고 아늑합니다. 재방문의사 있습니다.\n"
     ]
    },
    {
     "name": "stderr",
     "output_type": "stream",
     "text": [
      "\r 49%|████▉     | 834/1689 [1:44:32<1:11:13,  5.00s/it]"
     ]
    },
    {
     "name": "stdout",
     "output_type": "stream",
     "text": [
      "834 : 오션뷰 아주 좋아요. 방음은 잘 안 되고 비품은 다소 부족한 편이에요. 숙박 쿠폰을 써서 52,000원에 잘 자고 갑니다.\n"
     ]
    },
    {
     "name": "stderr",
     "output_type": "stream",
     "text": [
      "\r 49%|████▉     | 835/1689 [1:44:36<1:08:43,  4.83s/it]"
     ]
    },
    {
     "name": "stdout",
     "output_type": "stream",
     "text": [
      "835 : 스파를 즐기면 바라보는 석양이 정말 일품이었습니다. 따뜻한 물에 몸을 담그고 석양을 즐기다 보면 녹고녹녉하니 피로가 한 방에 풀리는 기분... 다음번에 또 방문하겠습니다~ ^^\n"
     ]
    },
    {
     "name": "stderr",
     "output_type": "stream",
     "text": [
      "\r 49%|████▉     | 836/1689 [1:44:37<53:04,  3.73s/it]  "
     ]
    },
    {
     "name": "stdout",
     "output_type": "stream",
     "text": [
      "836 : 뷰가 최고입니다. 시설도 좋고 친절해요.\n"
     ]
    },
    {
     "name": "stderr",
     "output_type": "stream",
     "text": [
      "\r 50%|████▉     | 837/1689 [1:44:39<46:56,  3.31s/it]"
     ]
    },
    {
     "name": "stdout",
     "output_type": "stream",
     "text": [
      "837 : 에어컨 물이 벽을 타고 줄줄 흐르고, 벽에는 곰팡이와 담배 냄새가 진동합니다.\n"
     ]
    },
    {
     "name": "stderr",
     "output_type": "stream",
     "text": [
      "\r 50%|████▉     | 838/1689 [1:44:44<51:29,  3.63s/it]"
     ]
    },
    {
     "name": "stdout",
     "output_type": "stream",
     "text": [
      "838 : 가격이 저렴하고 주인분이 친절하십니다. 벡담계곡인가, 거기로 걸어갈 수 있는데 풍경이 좋습니다. 모텔도 편하고 가격이 참 저렴하네요. 바이크 여행하면서 매번 들릴 것 같습니다.\n"
     ]
    },
    {
     "name": "stderr",
     "output_type": "stream",
     "text": [
      "\r 50%|████▉     | 839/1689 [1:44:48<52:54,  3.73s/it]"
     ]
    },
    {
     "name": "stdout",
     "output_type": "stream",
     "text": [
      "839 : 행사를 5만원으로 예약했더니 당일에 취소하고 12만원 내라는 호텔, 심지어 8일 전에 예약함. 뻔뻔하게 평일에 오면 공짜로 입실시켜준다 함.\n"
     ]
    },
    {
     "name": "stderr",
     "output_type": "stream",
     "text": [
      "\r 50%|████▉     | 840/1689 [1:44:53<59:07,  4.18s/it]"
     ]
    },
    {
     "name": "stdout",
     "output_type": "stream",
     "text": [
      "840 : 신축이라 그런지 룸 컨디션도 좋고, 메리어트 넬 카테고리 4 중에서는 코드아트보다 좋은 것 같습니다. 바로옆되는 프론트와 전문적인 하우스키핑은 매번 갈 때마다 실망을 안겨주지 않네요.\n"
     ]
    },
    {
     "name": "stderr",
     "output_type": "stream",
     "text": [
      "\r 50%|████▉     | 841/1689 [1:45:04<1:29:21,  6.32s/it]"
     ]
    },
    {
     "name": "stdout",
     "output_type": "stream",
     "text": [
      "841 : 다음에도 이용할 계획이 있습니다. 문화누리가드로 아이들 추가 결제했습니다. 욕조 있는 방을 원했는데 생각지도 못한 넓은 패밀리 방에서 아이들과 잘 쉬었습니다. 사장님이 또 큰 센스 찐짬합니다. 여기 주차장 넓고 편리해요. 강문 해수욕장이 가깝어 해돋이도 잘 보였어요~ 방은 따뜻하고, 물도 따뜻하며, 침구류는 깨끗합니다. 욕실도 깨끗하고 잘 준비되어 있어요. (수건, 칫솔, 생수, 샴푸, 린스, 바디워시, 치약, 드라이기, 전기포트 등)\n"
     ]
    },
    {
     "name": "stderr",
     "output_type": "stream",
     "text": [
      "\r 50%|████▉     | 842/1689 [1:45:08<1:16:47,  5.44s/it]"
     ]
    },
    {
     "name": "stdout",
     "output_type": "stream",
     "text": [
      "842 : 직원분이 친절은 높은 점을 주고 싶으나, 옆 방에서 무엇을 하는지 실시간으로 알 수 있는 대화도 가능할 것 같은 판타스틱한 방음의 건물입니다.\n"
     ]
    },
    {
     "name": "stderr",
     "output_type": "stream",
     "text": [
      "\r 50%|████▉     | 843/1689 [1:45:16<1:27:43,  6.22s/it]"
     ]
    },
    {
     "name": "stdout",
     "output_type": "stream",
     "text": [
      "843 : 한 개도 아까운 호텔....... 가성비를 따지고 그런 행동을 하셨는지는 모르지만 저녁 9시가 다 되어 엘리베이터 가심 사고가 발생했으나 호텔 측의 한마디의 사과도 다신 현장 근무자인지 호텔 직원인지 모르겠지만 친절한 설명까지도 빠지지 않으나 상황 설명(뭐쯤 원인이냐 추락 여스를 안내) 및 안전을 확인하는 말 한마디 없이 저는 메스크와 두통에 시달리는 중입니다.\n"
     ]
    },
    {
     "name": "stderr",
     "output_type": "stream",
     "text": [
      "\r 50%|████▉     | 844/1689 [1:45:59<4:05:31, 17.43s/it]"
     ]
    },
    {
     "name": "stdout",
     "output_type": "stream",
     "text": [
      "844 : 숙박 어플에만 리뷰를 쓰고 여기에 안 썼길래 좀 지나치지만 리뷰 써봄. 일단 갔던 모든 숙박업체 중 단연 최악.  <장점> - 없음   <단점> - 가성비 별로. 성수기라고 1박에 20만원이었는데 그 값 못함.   - 룸 진짜 개더러움. 방이 엄청 어두운데 더러운 거 감주려고 어두운 건가 싶을 정도로 더러움. 입실할 때부터 시트 오염 있었고 연박하는 동안 시트 교체 없었음. 시트 한 겹 들어보면 침대 커버에 곰팡이 잔뜩 있으니까 입실하자마자 꼭 체크하시고 교체하길 바람.   - 직원 불친절 및 문제 상황 대처 최악. 오전 10시에 차 꺼내려고 하니 주차 타워 고장 나서 못 꺼냄. 열키는 건 추운 날 손님들 밖에 세워놓고 10분 넘게 아무 설명, 안내 없었음. 가서 물어보니까 그때서야 기계 공장으로 차 못 빼다 30분 기다리라고 함. 이 과정 중에 사과 한 번 안 함. 자기 잘못 아닌데 어쩔라는 식. 기다리다가는 예약되어 있는 일정 못하게 생겨서 택시 타고 이동하는데 도중에 전화로는 사과하고 조식 주겠다고 해서 택시비 요구함. 택시 타고 다니는 거 힘들어서 일정 변경해서 최대한 걸었다니다가 용휴에 지인 차 빌려서 타고 다님. 3시쯤 되가지고 전화 왔는데 영수증 근형오라고 함. 영수증 필요했으면 진짜 말하던가. 오후 다 넘어서 말하는 건 무슨 심보? 하루 여행 차 없이 하누라 개고생함. 들어와서 택시비 요구하니까 (엄마 나오지도 않음. 많이 나왔으면 억을하지도 않치.) 영수증 없으면 안 되는데 애무세처럼 반복함. 비용 처리할 때도 죄송하다 한 마디 안 하고 오히려 우리 진상 취급함ㅋㅋ 집들 잘못 없다는 식임. 체크아웃하고 나갈 때도 부모님 나가니까 '전해 드리로 젊은 사람이랬던데 아니네요. 근데 택시비 들었다면서요.' 이러는데 진짜 끝까지 최악이다 싶음. 추가로 연롱자에서 예매해서 리뷰 작성하니까 신고해서 블라인드 처리함ㅋㅋㅋㅋ 바로 제거 요청해서 삭제시김. 복권되니까 그제서야 서비스 미흡했다고 따구 하는데 웃을 그 자체ㅋㅋ\n"
     ]
    },
    {
     "name": "stderr",
     "output_type": "stream",
     "text": [
      "\r 50%|█████     | 845/1689 [1:46:23<4:29:36, 19.17s/it]"
     ]
    },
    {
     "name": "stdout",
     "output_type": "stream",
     "text": [
      "845 : 가성비 갑. 아침에 갔더니 추운 날씨에 수영장도 자쿠지도 물이 좀 미지근해서 못 놀고 금방 나왔지만, 나중에 물 온도를 올려주시더군요. 너무 일찍 올라가나 봐요. 주차 타워에 안전하게 주차해 주시고 car call 해놓으면 안전하게 내려주셔서 참 편했습니다. 주말 조식 뷔페 잘 나왔고요. 고기국수가 인상적이었네요. 부산일 음식인가요? 주중 조식은 뷔페가 아니라 아침 안 먹는 사람도 먹는 이틀과 함께 입장 가능해 좋았어요. 합리적인 운영 감사해요. 참, 여긴 중앙난방이에요. 객실 내 온도 조절 버튼 작동 안 됩니다. 전 속았습니다ㅋ 그래도 하나도 서서하지 않게 딱 좋은 온도로 세팅해 주십니다. 청소 후 창을 다 닫지 않아 밤에 추워진 날이 있었는데, 새벽에 말씀드리니 라디에이터 준다고 하시더라고요. 추후 창 얘기했더니 청소 여사님들께 잘 전달해 주겠다고도 합니다. 사람인데 실수는 서로 양해해야죠... 자기 전에 창 여닫이 한 번 확인해 보시길~ 뷰는 좋지 않지만, 해변이나 식당과 가까워 걸어갈 수 있는 곳. 가성비 짱이라 추천합니다.\n"
     ]
    },
    {
     "name": "stderr",
     "output_type": "stream",
     "text": [
      "\r 50%|█████     | 846/1689 [1:46:24<3:15:15, 13.90s/it]"
     ]
    },
    {
     "name": "stdout",
     "output_type": "stream",
     "text": [
      "846 : 깔끔하고 친절하며 음식도 넘 맛있다♡ 디저트는 말할 것도 없고\n"
     ]
    },
    {
     "name": "stderr",
     "output_type": "stream",
     "text": [
      "\r 50%|█████     | 847/1689 [1:46:36<3:05:32, 13.22s/it]"
     ]
    },
    {
     "name": "stdout",
     "output_type": "stream",
     "text": [
      "847 : 진짜 최악이에요. 미리 예약하고 강원도 와서 놀고 있는데, 당일에 입실 시간이 지나서 연락 오더니 방이 없다고 하더라고요. 3명이서 싱글 침대를 붙여서 자라고 통보하네요. 당일에 와서 이러는 건 무슨 경우냐고 하니까, 본인 모텔이 다른 데보다 싼 거 알아드라면서 그냥 예약 취소한다고 전화를 뚝 끊어버리네요. 진짜 배짱 장사라는 후기 있던데 무시하고 예약했던 게 후회됐어요. 열받아서 예약 취소하고 다행히 방이 있어서 급하게 다른 곳으로 갔어요. 안 좋은 일 있어서 기분 전환겸 갔다가 기분만 상했습니다.\n"
     ]
    },
    {
     "name": "stderr",
     "output_type": "stream",
     "text": [
      "\r 50%|█████     | 848/1689 [1:46:41<2:32:57, 10.91s/it]"
     ]
    },
    {
     "name": "stdout",
     "output_type": "stream",
     "text": [
      "848 : 옆에 계곡물도 다 좋으나, 텐트끼리 너무 붙어 있어서 젊마다 너무 구역 치고ㅠㅠ 애기들 걷다가 줄에 걸려서 넘어지고 화장실도 그렇고 비싸고, 애휴 아쉽다. 아쉬워, 좁아요 좁파.\n"
     ]
    },
    {
     "name": "stderr",
     "output_type": "stream",
     "text": [
      "\r 50%|█████     | 849/1689 [1:46:42<1:50:57,  7.93s/it]"
     ]
    },
    {
     "name": "stdout",
     "output_type": "stream",
     "text": [
      "849 : 해운대에서 한 달 살기 성공\n"
     ]
    },
    {
     "name": "stderr",
     "output_type": "stream",
     "text": [
      "\r 50%|█████     | 850/1689 [1:46:57<2:17:13,  9.81s/it]"
     ]
    },
    {
     "name": "stdout",
     "output_type": "stream",
     "text": [
      "850 : 파크 뷰 음식도 좋고, 서비스 또한 명성에 걸맞는 확실함이 보였다~ 유리나라 모든 서비스 업체가 이런 품질을 갖춘다면 좋겠지만, 그럴 일이 없다는 게 안타까울 뿐~...^^ 수시, 회, 스테이크, 중식은 솔직히 일반 프리미엄 뷔페와 다를 바 없었고, 양갈비와 민트 소스가 좋아, 휴식, 그리고 1인당 하나씩 나오는 스프 요리는 아주 맛있습니다~^^ 단 것을 별로 안 좋아해서 디저트는 아이스크림 빼고는 잘 안 먹는데, 과일이 싱싱해서 좋았고, 케이크동 자국적이지 않고 자연스러워서 훌륭했고, 파리스탕가 직접 만들어주는 커피는 아주 좋았으며, 소프트 아이스크림도 아주 훌륭했습니다~ 왜 최고인치 보여주는 호텔~^^\n"
     ]
    },
    {
     "name": "stderr",
     "output_type": "stream",
     "text": [
      "\r 50%|█████     | 851/1689 [1:47:00<1:49:57,  7.87s/it]"
     ]
    },
    {
     "name": "stdout",
     "output_type": "stream",
     "text": [
      "851 : 뷰 말고는 안 좋은 댓글이 많은데, 3성급 치고는 좋습니다. 3성급 생각하고 예약하면 만족합니다. 단점으로는 객실에 휴지가 없다는 점…\n"
     ]
    },
    {
     "name": "stderr",
     "output_type": "stream",
     "text": [
      "\r 50%|█████     | 852/1689 [1:47:04<1:31:52,  6.59s/it]"
     ]
    },
    {
     "name": "stdout",
     "output_type": "stream",
     "text": [
      "852 : 일단 비품이 없고, 헤어 드라이기도 없고, 프론트에 전화하려니 전화가 먹통입니다. 그리고 하나밖에 없던 욕실 슬리퍼가 찐득거립니다.\n"
     ]
    },
    {
     "name": "stderr",
     "output_type": "stream",
     "text": [
      "\r 51%|█████     | 853/1689 [1:47:05<1:08:56,  4.95s/it]"
     ]
    },
    {
     "name": "stdout",
     "output_type": "stream",
     "text": [
      "853 : 직원분이 친절하고 호텔이 깨끗해요.\n"
     ]
    },
    {
     "name": "stderr",
     "output_type": "stream",
     "text": [
      "\r 51%|█████     | 854/1689 [1:47:12<1:19:02,  5.68s/it]"
     ]
    },
    {
     "name": "stdout",
     "output_type": "stream",
     "text": [
      "854 : 해운대 해변 이 정도 레벨의 숙소들 중에 휘트니스가 가져다준 숙소는 없습니다. 조식, 숙소 내 세탁기, 건조기, 조리 일체가 가능하며, 룸은 널찍하고, 100미터 앞에는 해변까지 있습니다. 주차도 무료입니다(주차비 5,000원/일 호텔들도 있습니다). 가성비 최고입니다.\n"
     ]
    },
    {
     "name": "stderr",
     "output_type": "stream",
     "text": [
      "\r 51%|█████     | 855/1689 [1:47:14<1:01:27,  4.42s/it]"
     ]
    },
    {
     "name": "stdout",
     "output_type": "stream",
     "text": [
      "855 : 위치가 너무 좋아요. 프론트 직원분들도 친절하세요.\n"
     ]
    },
    {
     "name": "stderr",
     "output_type": "stream",
     "text": [
      "\r 51%|█████     | 856/1689 [1:47:17<56:08,  4.04s/it]  "
     ]
    },
    {
     "name": "stdout",
     "output_type": "stream",
     "text": [
      "856 : 어지게 일출을 본 적이 없어서 너무 기대하고 갔는데, 진짜 예쁘고 갓을 벽화 느낌이 들었어요. 이래서 보러 오거나 싶을 정도.\n"
     ]
    },
    {
     "name": "stderr",
     "output_type": "stream",
     "text": [
      "\r 51%|█████     | 857/1689 [1:47:19<48:03,  3.47s/it]"
     ]
    },
    {
     "name": "stdout",
     "output_type": "stream",
     "text": [
      "857 : 객실에 들어가자마자 너무 좋았어요 ㅠㅠ 청결하고 분위기 굿이에요.\n"
     ]
    },
    {
     "name": "stderr",
     "output_type": "stream",
     "text": [
      "\r 51%|█████     | 858/1689 [1:47:23<50:24,  3.64s/it]"
     ]
    },
    {
     "name": "stdout",
     "output_type": "stream",
     "text": [
      "858 : 명절 휴계 친구들과 다녀왔습니다. 바다 근처라 일단 너무 좋고, 지리적으로 주변 시설에 놀 곳도 많아서 좋더라고요. 깨끗하게 잘 이용하고 큰 불만 없이 잘 사용하고 왔습니다.\n"
     ]
    },
    {
     "name": "stderr",
     "output_type": "stream",
     "text": [
      "\r 51%|█████     | 859/1689 [1:47:27<52:14,  3.78s/it]"
     ]
    },
    {
     "name": "stdout",
     "output_type": "stream",
     "text": [
      "859 : 시설은 좋은데 일회용품은 엉망이네요. 양치하는데 칫솔모가 빠져서 목에 넘어갈 뻔했네요. 일회용 면도기 날이 두 개라서 싼 빌 편했네요.\n"
     ]
    },
    {
     "name": "stderr",
     "output_type": "stream",
     "text": [
      "\r 51%|█████     | 860/1689 [1:47:29<45:26,  3.29s/it]"
     ]
    },
    {
     "name": "stdout",
     "output_type": "stream",
     "text": [
      "860 : 호텔은 좋은데 주차장 내려가는 곳이 너무 좁아서 대형차가 진입하는 데 에루 먹었습니다.\n"
     ]
    },
    {
     "name": "stderr",
     "output_type": "stream",
     "text": [
      "\r 51%|█████     | 861/1689 [1:48:18<3:55:13, 17.05s/it]"
     ]
    },
    {
     "name": "stdout",
     "output_type": "stream",
     "text": [
      "861 : 카라반  1박 2일 평일 이용: 카라반 1.. 가격: 전화로 예약하시면 더 저렴한 가격으로 이용하실 수 있어요 개인적으로 가격이 완전 저렴해요. * 추가 인원 실: 당일 방문 추가 인원 실: 1만원, 숙박 포함 추가 인원: 어린이: 1만 5천원, 어른: 2만원. 사전에 사장님께 꼭 가능 여부 문의 후 가능 시 추가 요금을 내실 수 있습니다. 저는 어린이 1, 어른 1 추가 요금을 내고 편하고 즐겁게 놀았어요~~    2. 서비스:  전화 예약 이용 시 불멍 서비스 ~~~ 저희는 수영장에서 만난 다른 가족과 친해져서 함께 불멍을 하게 되었는데, 사장님께서 그걸 아시고는 더~~~ 즐기라고 말없이 장작 서비스를 추가해주셔서 저녁 8시부터 새벽 2시까지 불멍을 누렸습니다. (불멍해 주실 때: 말심으로우, 고체입, 불멍 오로라 가루까지 서비스로 그냥 주십니다)  사장님 내외 분의 친절 서비스:     3. 청결: 아주 청결합니다. * 세탁하시고 햇볕에 빨래 말리신 이불(그 날 햇볕에 말리는 것을 보여기에 이건 주석입니다) 깨끗한 이불로 세팅, 추가로 요청한 이불, 베개도 깨끗, 냄새도 무향이었으나 깨끗한 냄새~~(발래하는 엄마라면 이 냄새를 알 수 있으리라는 개인적 소감 ㅋㅋㅋ) @ 카라반 내부와 화장실 깨끗~~~ @ 카라반 바로 앞 야외 테이블 깨끗~~ @ 캠핑장 주변: 수영장(무료 이용), 공용 화장실, 공용 주방 등 주변 깨끗해서 아이들 3명 포함 저희 가족은 너무 편하고, 깨끗하고, 즐겁고, 따뜻하게 쉬지없이 비가 왔음에도 야외에서 비 내리는 것을 보면서 야외 조명과 불멍을 즐기며 마난 것을 먹으며 마음껏 놀았습니다. 사장님, 진심으로 감사드리며 더~~~~~ 대박 나시고 건강하셔서 오래오래 운영해주세요    아쉬운 점 (지극히 개인적으로 아쉬운 점)   1. 공용 주방에 있는 탈수기가 너무 작고 조금 연식이 있으니 아쉬웠어요. 건조기도 있었으면 더~~~ 좋았을 텐데라는 아쉬움이 살짝 있었습니다.   2. 편의점에 저처럼 미처 준비 못한 엄마들을 위한, 또한 핫초콜트를 좋아하는 아이들을 위한 초콜릿 가루가 있었으면 하는 아쉬움  그 외 편의점을 별로 이용하지 않아 편의점에 대한 다른 아쉬움은 모르겠어요 ㅋㅋㅋ\n"
     ]
    },
    {
     "name": "stderr",
     "output_type": "stream",
     "text": [
      "\r 51%|█████     | 862/1689 [1:48:20<2:51:17, 12.43s/it]"
     ]
    },
    {
     "name": "stdout",
     "output_type": "stream",
     "text": [
      "862 : 시설 넘 좋고 뷰도 최고입니다 조식도 너무 맛있어요!!!\n"
     ]
    },
    {
     "name": "stderr",
     "output_type": "stream",
     "text": [
      "\r 51%|█████     | 863/1689 [1:48:23<2:14:02,  9.74s/it]"
     ]
    },
    {
     "name": "stdout",
     "output_type": "stream",
     "text": [
      "863 : 방이 깨끗하고 가격은 3-4만 원이며, 주인 아주머니가 아주 친절합니다. 주차장이 넓고 물이 따뜻해서 강추합니다. 예약도 가능합니다.\n"
     ]
    },
    {
     "name": "stderr",
     "output_type": "stream",
     "text": [
      "\r 51%|█████     | 864/1689 [1:48:26<1:45:09,  7.65s/it]"
     ]
    },
    {
     "name": "stdout",
     "output_type": "stream",
     "text": [
      "864 : 환상적인 오션뷰 객실에 들어서는 순간, 우와~~ 소리가 절로 나오네요~^^ Go and See~ 사진은 일부러 안 올려윱\n"
     ]
    },
    {
     "name": "stderr",
     "output_type": "stream",
     "text": [
      "\r 51%|█████     | 865/1689 [1:48:36<1:54:12,  8.32s/it]"
     ]
    },
    {
     "name": "stdout",
     "output_type": "stream",
     "text": [
      "865 : 동성과 일왕동, 광화문 쪽으로 여행 갔는데, 우와ㅡ 뷰가 장난이 아니에요! 침대는 더블 2개 붙어 있었는데 넓고 침구도 쾌적했어요~ 춥지 않을까 걱정했는데, 따뜻하게 잘 잤습니다. 일왕동 바로 입구라 구경도 편히 잘 했네요. 체크인 2시, 체크아웃 12시라 놀았습니다.ㅎㅎ 너무 여유롭게 지내다 갑니다~~ 주차 공간이 협소한 단점 빼면 최고입니다~!\n"
     ]
    },
    {
     "name": "stderr",
     "output_type": "stream",
     "text": [
      "\r 51%|█████▏    | 866/1689 [1:48:56<2:41:31, 11.78s/it]"
     ]
    },
    {
     "name": "stdout",
     "output_type": "stream",
     "text": [
      "866 : 현관문은 오래되어서 뻑뻑하고, 화장실은 환기도 안 되고 냄새도 나고, 데크에는 풀이 많아 보기 안 좋았고, 침대 상태는 매트리스가 오래된 건지 싸구려라 그런지 편치 않았고, 에어컨을 켜니 쿱쿱한 냄새가 나서 바로 껐다. 시궁대는 올라오는 냄새를 막을 두께도 없고, 번조는 답답해서 많이 불편했다. 관리소 앞 동물들은 관리 상태가 엉망인데다 강아지 3마리 상태가 아주 안 좋았고, 고양이는 새장에 가혀 똥과 함께 방치되어 있었고, 물도 밥도 없었다. 거위와 공작이 맞이는 물도 더럽고 인기 천지였고, 강아지들도 막일 물도 더럽었고, 한 아이는 더일을 먹었는지 계속 똥을 하고 있었고, 두 마리는 살롱도 없었다. 누구 하나 계여해주는 사람이 없었다. 여긴 시설도 많이 낙후되고 동물들 관리도 엉망이었다. 두 번 다시는 오고 싶지 않은 곳이다. 하루 숙박비도 바가지였고, 총체적 난국이 최악의 숙소였다.\n"
     ]
    },
    {
     "name": "stderr",
     "output_type": "stream",
     "text": [
      "\r 51%|█████▏    | 867/1689 [1:48:57<1:58:26,  8.65s/it]"
     ]
    },
    {
     "name": "stdout",
     "output_type": "stream",
     "text": [
      "867 : 해운대 해수욕장 뷰가 미쳤어요.\n"
     ]
    },
    {
     "name": "stderr",
     "output_type": "stream",
     "text": [
      "\r 51%|█████▏    | 868/1689 [1:49:28<3:31:04, 15.43s/it]"
     ]
    },
    {
     "name": "stdout",
     "output_type": "stream",
     "text": [
      "868 : 가장 비싼 펜트하우스 사용 후기입니다. 먼저 클릭 한 가지: 여러 호텔 광고 사이트에서 사진으로 방을 확인하시고 (물론 사진과 현실은 하늘과 땅 차이지만) 직접 전화로 문의하시면 현금 우대하면서 10% 할인해줍니다. 방이 엉망진창이니 꼭 그곳을 가야 한다면 할인받고 예약하시길 바랍니다. 그리고 예약 후 입금 즉시 취소 환불 안된다고 문자 옵니다. 근데 현금 우대 불법 아닌가요? 그런 신고/고발에 대해서 잘 아시는 분은 좀 가르쳐주세요. 저도 열심히 알아보겠습니다. 광고 사이트에도 현금 우대하는 거 알려야겠죠? 방에 들어가자마자 더워서 에어컨 가동... 근데 에어컨 고장. 욕조 두 개 더러워서 사용 불가. 침구류 한 달 이상 방치한 수준, 흰색인데 흰색이 아님. 소파 역시 피깔빗깔함. 화장실 청결 엉망. 전자레인지 있으나 사용 못함. 안쪽 돌아가는 유리판이 없음. 선풍기 먼지 때문에 사용 안 함. 에어컨도 먼지가 많았으나 안 틀면 죽을 것 같아서 가동. 냉장고는 먹을 수 있는 물 하나 없음. 실내 슬리퍼 더러워서 사용 안 함. 두두... 그림하여 바퀴벌레까지 출몰 ㅜㅜ 그리고 최고의 결정탄, 아침에 보일러 고장으로 따뜻한 물 안 나옴. 옆 건물에서 씻라고 함. 뜨거운 호텔을 가든 운영하나 봄. 너무나 어처구니없는 숙박업소입니다. 제발 좀 여기저기에 알려주세요~ 사진으로 금액을 보면 아시겠지만 싼 금액이 아닙니다.\n"
     ]
    },
    {
     "name": "stderr",
     "output_type": "stream",
     "text": [
      "\r 51%|█████▏    | 869/1689 [1:49:32<2:44:11, 12.01s/it]"
     ]
    },
    {
     "name": "stdout",
     "output_type": "stream",
     "text": [
      "869 : 뷰는 좋고, 층간 소음이 여관 방 수준입니다. 옆집, 윗집에서 걸어다니는 소리가 다 들리고, 대부분이 숙박객들이라 늦은 시간까지 층간 소음이 대박입니다.\n"
     ]
    },
    {
     "name": "stderr",
     "output_type": "stream",
     "text": [
      "\r 52%|█████▏    | 870/1689 [1:49:37<2:14:37,  9.86s/it]"
     ]
    },
    {
     "name": "stdout",
     "output_type": "stream",
     "text": [
      "870 : 엘리베이터 개선이 필요합니다. 엘리베이터가 두 개인데 둘 다 전층 유료로 운영하니까 매 층마다 서고 (호수, 작수로 운행할 필요가 있음) 엘리베이터에 냉방도 안 돼서 너무 더워요…\n"
     ]
    },
    {
     "name": "stderr",
     "output_type": "stream",
     "text": [
      "\r 52%|█████▏    | 871/1689 [1:49:43<1:59:11,  8.74s/it]"
     ]
    },
    {
     "name": "stdout",
     "output_type": "stream",
     "text": [
      "871 : 사장님은 너무 친절하십니다. 다만 노후된 시설과에서 나는 층간 소음은 심해요. 화장실 물 내리는 소리까지 다 들리고 의자 끄는 소리(이건 위층을 잘 만나야겠지요)까지 너무 심해서 잠 한숨 못 잤습니다. 예민하신 분들은 잘 알아보시길.\n"
     ]
    },
    {
     "name": "stderr",
     "output_type": "stream",
     "text": [
      "\r 52%|█████▏    | 872/1689 [1:49:48<1:40:12,  7.36s/it]"
     ]
    },
    {
     "name": "stdout",
     "output_type": "stream",
     "text": [
      "872 : 좀 오래된 느낌이긴 하지만 뷰가 너무 예뻐서 그 자체로 분위기가 있어요. 직원분들도 친절하시고 객실 수가 많지 않아 사람들로 바글거리지를 않아서 좋아요! 대만족\n"
     ]
    },
    {
     "name": "stderr",
     "output_type": "stream",
     "text": [
      "\r 52%|█████▏    | 873/1689 [1:49:50<1:21:46,  6.01s/it]"
     ]
    },
    {
     "name": "stdout",
     "output_type": "stream",
     "text": [
      "873 : 수영장이 되게 넓고 사장님도 친절하셨어요. 아침으로 주신 빵과 과일 등 맛있게 잘 먹었습니다!!\n"
     ]
    },
    {
     "name": "stderr",
     "output_type": "stream",
     "text": [
      "\r 52%|█████▏    | 874/1689 [1:49:57<1:23:17,  6.13s/it]"
     ]
    },
    {
     "name": "stdout",
     "output_type": "stream",
     "text": [
      "874 : 주중 88,000원. 안목해변 드롭탑 카페 건물이 모텔입니다. 일출도 잘 보이고요. 물도 2개 주시고, 주스도 2개 주시고 주차도 가능합니다. 하룻밤 지내기 딱 좋습니다. 그러나 침대가 조금 불편하고 방도 좁네요.\n"
     ]
    },
    {
     "name": "stderr",
     "output_type": "stream",
     "text": [
      "\r 52%|█████▏    | 875/1689 [1:50:03<1:23:05,  6.13s/it]"
     ]
    },
    {
     "name": "stdout",
     "output_type": "stream",
     "text": [
      "875 : 디럭스 더블룸. 왼쪽으로는 시내와 바다, 그리고 금강대교와 영금정까지, 오른쪽으로는 설악대교와 바다. 속초에서 이만큼의 뷰를 볼 수 있는 곳이 몇 군데나 될까요? 큰 냉장고가 있는 침대가 좋은 룸. 친절한 직원들. 추천합니다.\n"
     ]
    },
    {
     "name": "stderr",
     "output_type": "stream",
     "text": [
      "\r 52%|█████▏    | 876/1689 [1:50:06<1:11:10,  5.25s/it]"
     ]
    },
    {
     "name": "stdout",
     "output_type": "stream",
     "text": [
      "876 : 객실 컨디션이 나쁘지 않고 뷰가 좋아서 여자친구와 잘 쉬고 왔어요. 주차장이 잘 되어 있어서 주차하기도 어렵지 않았어요.\n"
     ]
    },
    {
     "name": "stderr",
     "output_type": "stream",
     "text": [
      "\r 52%|█████▏    | 877/1689 [1:50:07<54:00,  3.99s/it]  "
     ]
    },
    {
     "name": "stdout",
     "output_type": "stream",
     "text": [
      "877 : 시물원 스카이아트 @ 4층\n"
     ]
    },
    {
     "name": "stderr",
     "output_type": "stream",
     "text": [
      "\r 52%|█████▏    | 878/1689 [1:50:11<53:20,  3.95s/it]"
     ]
    },
    {
     "name": "stdout",
     "output_type": "stream",
     "text": [
      "878 : 깨끗하고 직원분들도 친절하세요. 가성비 좋고, 그런데 주위에 편의점이 없어요ㅠㅠ. 조식 서비스는 당일 신청이 불가하니 참고하시고요.\n"
     ]
    },
    {
     "name": "stderr",
     "output_type": "stream",
     "text": [
      "\r 52%|█████▏    | 879/1689 [1:50:17<1:00:13,  4.46s/it]"
     ]
    },
    {
     "name": "stdout",
     "output_type": "stream",
     "text": [
      "879 : 뷰가 전혀 없고, 윗층 샤워기에서 물방울이 똑똑 떨어지는 소리가 아래층 샤워실을 통해 크게 들려요. 여름도 아니고 호텔에서 이게 말이 되는 상황인지... 평온해야 할 아지참을 설쳤는데 리셉션 데스크에 연락해도 해줄 수 있는 게 없다고 해요.\n"
     ]
    },
    {
     "name": "stderr",
     "output_type": "stream",
     "text": [
      "\r 52%|█████▏    | 880/1689 [1:50:21<1:00:12,  4.47s/it]"
     ]
    },
    {
     "name": "stdout",
     "output_type": "stream",
     "text": [
      "880 : 잘 묵었습니다. 트레블로지에 좋은 기억 가지고 이번에 고도에 가는데, 거기에도 트레블로지가 있더라고요! 거기서도 묵으러 갑니다. 다음에 부산 오면 또 여기 오겠습니다. ㅎㅎ\n"
     ]
    },
    {
     "name": "stderr",
     "output_type": "stream",
     "text": [
      "\r 52%|█████▏    | 881/1689 [1:50:27<1:06:15,  4.92s/it]"
     ]
    },
    {
     "name": "stdout",
     "output_type": "stream",
     "text": [
      "881 : 10월 초에 방문했습니다. 유료로 운영되는 실외 수영장은 냉탕이었어요. 너무 추워서 온수탕에서만 머무르다 나왔습니다. 수온 관리는 따로 안 하나 봐요. 그래도 룸 컨디션은 좋았고 조식도 훌륭했습니다. 다시 방문한다면 수영장은 이용하지 않을 것 같아요.\n"
     ]
    },
    {
     "name": "stderr",
     "output_type": "stream",
     "text": [
      "\r 52%|█████▏    | 882/1689 [1:51:01<3:02:37, 13.58s/it]"
     ]
    },
    {
     "name": "stdout",
     "output_type": "stream",
     "text": [
      "882 : 경험한 호텔 중 가장 최악인 곳. 모텔과 다름 없는 수련도 낮은 직원들. 너무 화나서 처음으로 창문의 후기를 작성합니다.  1. 일부 직원들의 수준 낮은 응대   - 수건을 갖다 준 직원: 문을 열자마자 목시 확아 난 보인은 얼굴 표정. \"감사합니다\"라는 인상이 끝났기도 전에 뒤돌아서 갈 길 가는 직원. 순간 내가 직원이 된 듯한 기분.   - 피트니스 & 수영장 안내 직원: 제대로 안내도 안 해 주고, 계속 모니터를 보며 실실 대던 직원. 사우나 들어가는 길에 뒤돌아보니, 다음 손님들이 있음에도 PC 카톡 하며 실실 웃던 걸 보고 상황들이 이해됨.   - 데타슈인 직원들은 매우 친절. 그러나 수련도 낮은 어린 직원들이 데타슈. 그리고 경험이 적으니 그럴 수 있다 싶지만, 내가 5성급 돈 내고 그걸 이해해야 하나 싶은 서비스. 잘 모르기 때문에 뭐 하나 물어보면 어버버하며 시간까지 날리는 건 덤.  2. 뚜명한 변기칸   세면대가 2개인 건 동시에 2인 이상 쓸 수 있다는 건데, 이렇게까지 적나라한 배치와 위치는 다소 이상.  3. 룸서비스 오래 걸리거나 안 됨   룸서비스 되는 메뉴가 없다시피 하거나, 빵 종류조차 40분 기다려야 한다는 설명에 주문하지 않음. 새벽에도 시키려고 하니 룸서비스 운영조차 안 함. 어떻게 5성급을 받은 건지 의문.  4. 옆방인지 위인지 아래인지 모를 층간 소음   윈덤 랜드에 앉아서 파라다이스와 조선에서 숙박을 하고 바로 윈덤으로 넘어갔던 터라, 이런한 경험들이 더욱 비교되어 다시 방문하고 싶지 않아짐. 비슷한 돈이니 그냥 맘 편히 해운대에 있는 호텔 가시길 추천.\n"
     ]
    },
    {
     "name": "stderr",
     "output_type": "stream",
     "text": [
      "\r 52%|█████▏    | 883/1689 [1:51:08<2:37:42, 11.74s/it]"
     ]
    },
    {
     "name": "stdout",
     "output_type": "stream",
     "text": [
      "883 : 다녀본 신라스테이 중 제일 아쉬웠습니다. 다음 날 중요한 일정이 있어 제일 좋은 룸을 예약해서 하루 묵었습니다. 그런데 도로변 자동차 소음 때문에 새벽 다섯 시까지 잠을 못 잤습니다. 특히 새벽 두 시 넘어가니 스포츠카와 광소하는 택시들이 엄청 많았던 것 같습니다. 호텔에서 이 문제를 인지하고 룸 컨디션을 개선하셔야 할 것 같습니다.\n"
     ]
    },
    {
     "name": "stderr",
     "output_type": "stream",
     "text": [
      "\r 52%|█████▏    | 884/1689 [1:51:11<2:01:19,  9.04s/it]"
     ]
    },
    {
     "name": "stdout",
     "output_type": "stream",
     "text": [
      "884 : 너무너무 이뻐요. 깔끔하고 실내도 마치 일출도 봐서 너무 좋았어요. 다음에도 또 이용하고 싶어요.\n"
     ]
    },
    {
     "name": "stderr",
     "output_type": "stream",
     "text": [
      "\r 52%|█████▏    | 885/1689 [1:52:19<5:55:59, 26.57s/it]"
     ]
    },
    {
     "name": "stdout",
     "output_type": "stream",
     "text": [
      "885 : 13층 루프탑에서 연말 파티를 했었습니다. 루프탑의 이용 시간은 오후 2시부터 새벽 1시까지이며, 파티룸이라는 공간에 알맞게 잘 조성되어 있었습니다. 넉넉한 공간과 테이블, 의자, 소파도 있었습니다. 객실과는 달리 신발을 신고 돌아다녀도 무방해서 더 편리했습니다. 문을 열고 들어가자마자 보이는 전망이 인상적입니다. 3면의 전부 통유리창으로 되어 있어 푸야, 낙산, 동대문 및 서울 일대의 전경이 인상 깊었습니다. 이 호텔 위치의 13층에서 이렇게까지 전망이 좋을 줄은 몰랐는데, 막상 올라와 보니 너무 좋았습니다. 탁 트인 느낌 덕분에 더더욱 쾌적하게 느껴졌습니다. 루프탑이라 날씨가 안 좋을 때는 걱정될 수도 있겠으나, 그럴 걱정이 없을 만큼 아주 좋습니다. 루프탑이라 하면 보통 실내 공간보다 밝고니 공간이 넓지만, 이곳은 등 공간 전부 잘 되어 있습니다. 실내 공간만 써도 충분한 크기입니다. 냉난방 시설 모두 훌륭했고 창호도 든든하게 잘 되어 있어 영하가 넘는 날씨에도 불구하고 따뜻하게 잘 보낼 수 있었습니다. 발코니도 아주 크게 되어 있으며, 발코니와 객실 사이에는 폴딩 도어가 설치되어 있어 날이 좋을 때는 폴딩 도어를 아예 열어두고 사용할 수도 있게 되어 있습니다. 파티룸에 펜을 놓을 수 없는 음향도 잘 되어 있는 편입니다. 2채넘 스피커와 박어둡 믹셔가 설치되어 있습니다. PC나 핸드폰이 노래를 AUX 케이블을 연결해서 사용할 수 있게 되어 있습니다. 또한 프로젝터도 사용할 수 있었지만 따로 사용하지는 않았습니다. 벽면의 전부 흰색이기 때문에 별도의 수크린 설치 없이도 쾌적하게 사용할 수 있겠습니다. 음향에서는 플루투스 리시버가 있다면 조금 더 편리하게 이용할 수 있겠으나, 아무래도 프로젝터와 같이 사용하기에는 디레이가 있는 플루투스보다는 AUX 케이블이 최선일 것입니다. 때문에 인절럼 설치해 놓지 않았나 싶습니다. 애매한 플루투스 홈팟을 갖다 두는 것보다, 차라리 이렇게 안정적인 구성이 본인은 훨씬 좋습니다. 천장 조명도 총 6주로 세부적으로 조절 가능하였습니다. 처음에 음식을 먹을 때는 밝게 먹다가, 술 마시고 시간이 지나면서 조금 어둡게 즐기고 싶을 때는 창문 쪽만 켜서 간접 조명으로 사용했는데, 분위기 조절하는 데 아주 좋았습니다. 단순해 보이지만 노후된 이런 디테일이 잘 되어 있어서 좋았습니다. 파티룸답게 콘센트도 곳곳에 넉넉히 있어서 콘센트가 굳이 필요 없습니다. 시설에 감탄하다 보니 직원분들도 친절하시고, 지극의 야낭기를 하는데 정말 좋았습니다. 또한 루프탑뿐만 아니라 호텔 전반적으로 신축이다 보니 인근의 낙후된 분위기 때문에 걱정할 필요는 없을 것 같습니다. 오히려 복잡한 혜화나 동대문 한복판보다 훨씬 좋았습니다. 인근에 스퍼마트나 편의점도 곳곳에 있고, 맛있는 집들이 많아서 편리했습니다. 루프탑에서 취사는 할 수 없으나 외부 배달 음식이나 음식/주류 반입은 허용됩니다. 배달은 1층에서 픽업 가능합니다. 최고의 공간 덕분에 최고의 연말을 보낼 수 있었습니다. 뭐 하나 흠잡을 거 없이 쾌적하고 좋은 공간이었습니다. 분위기도 별로이고 시설도 낙후된 이름만 호텔인 모텔 파티룸이 이 정도 가격대를 입르고 있는 와중에, 이런 분위기에 대하로와 종로, 동대문이 전부 인접한 접근성에 이런 시설이면 당연히 이곳을 와야지요. 행복한 연말이었습니다! 꼬마운 마음에 후기라도 길게 남겨봅니다.\n"
     ]
    },
    {
     "name": "stderr",
     "output_type": "stream",
     "text": [
      "\r 52%|█████▏    | 886/1689 [1:52:20<4:13:02, 18.91s/it]"
     ]
    },
    {
     "name": "stdout",
     "output_type": "stream",
     "text": [
      "886 : 잊지 못할 매너 하우스 개 굿\n"
     ]
    },
    {
     "name": "stderr",
     "output_type": "stream",
     "text": [
      "\r 53%|█████▎    | 887/1689 [1:52:36<4:03:58, 18.25s/it]"
     ]
    },
    {
     "name": "stdout",
     "output_type": "stream",
     "text": [
      "887 : 근처에 호텔이 없어서 내국인이 오니 걱정 없이 경영하고 갑질노에 온 외국인들이 먹고 잔일 기장을 안 한다. 호텔은 어떤 회사가 소유하고 운영하는지에 따라 차이가 크다. 친절한 것처럼 얘기하고 좋은 호텔처럼 보장은 가능하지만 경험이 많은 고객은 인색한 호텔인지 아닌지 금방 알 수 있다. 진심으로 서비스하는 호텔은 그 마음을 쓰기기가 어렵다. 근처에 있는 호텔과 비교하자면 롯데를 안 좋아해도 무조건 롯데호텔을 가겠다. 조금 멀리까지 비교하면 무조건 인덕션디너타이다. 한강과 작은 산을 가지고 있어서 실력에 비해 유닝 좋은 워커히이다. 다수의 직원들이 불친절한 것은 개인의 문제가 아닌 경영 방침에 따른 문제이다. 예전 건물이라 작은 창문은 투명해서 밖을 생각이 전혀 없어 보인다. 돈을 벌면 다시 투자해야 좋은 호텔 아닌가? 아직도 이런 하드웨어라니 매우 안타깝다.\n"
     ]
    },
    {
     "name": "stderr",
     "output_type": "stream",
     "text": [
      "\r 53%|█████▎    | 888/1689 [1:52:56<4:10:03, 18.73s/it]"
     ]
    },
    {
     "name": "stdout",
     "output_type": "stream",
     "text": [
      "888 : 미국처럼 객실 안에 신발 신고 다녀서 충격이다. 다른 건 모르겠고 침대 하나는 아주 굳이다. 깨끗하고 푹신함이 남달르고 딜딜 기능이 은근 재밌다. 룸 콜을 때 TV 보실 거면 침대 앞에 설치되어 있는 룸 찾아서 잘 예약하시길. 대각선으로 애매하게 설치된 방에 묵어서 TV를 잘 안 보게 되었다. 스프에 팬케이크 맛집 인정. 커피도 직접 내려주셨는데 어느 카페보다 훨씬 맛있었다. 신맛이 없고 고소하고 향긋한 편이다. 룸 카페트가 현란한데 자세히 보면 뭐 속이나 한 얼룩이 간혹 보인다. 민감하신 분들 참고. 근처에 국밥집이 고집집이니 횟집이니 은근 맛집 많다. 순낵 공간이라서 옷을 걸 곳이 많이 부족한 편이었다. 손빡례했는데 넒 수가 없어서 한참 고민하다 손잡이에 넣었다. 디자인이 유니크해서 신기하다. 온 사방이 거울 같아서 굳이 거울 잡으려 일어나 필요가 없다 ㅋㅋ\n"
     ]
    },
    {
     "name": "stderr",
     "output_type": "stream",
     "text": [
      "\r 53%|█████▎    | 889/1689 [1:52:59<3:07:40, 14.08s/it]"
     ]
    },
    {
     "name": "stdout",
     "output_type": "stream",
     "text": [
      "889 : 조용하고 시설도 깨끗하며 사장님도 친절하네요~~ 바다 뷰 또한 예뻐요~~ 개인 수영장도 사용할 수 있어서 더 좋은 듯합니다.\n"
     ]
    },
    {
     "name": "stderr",
     "output_type": "stream",
     "text": [
      "\r 53%|█████▎    | 890/1689 [1:53:07<2:39:27, 11.97s/it]"
     ]
    },
    {
     "name": "stdout",
     "output_type": "stream",
     "text": [
      "890 : 너무 청결하고 송도 해수욕장을 정 가운데에서 보는 뷰로 해수욕장 전체가 다 보여요!!!! 꼭 다음에도 방문하고 싶고 다른 사람들한테도 꼭 추천하고 싶어요!!! 짐 보관도 24시간 무인으로 맡겼을 수 있어서 짐 안 들고 다닐 수 있어서 완전 좋았어요!!! 짐 보관소뿐만 아니라 호텔도 무인으로 운영 시스템이에요~\n"
     ]
    },
    {
     "name": "stderr",
     "output_type": "stream",
     "text": [
      "\r 53%|█████▎    | 891/1689 [1:53:12<2:12:19,  9.95s/it]"
     ]
    },
    {
     "name": "stdout",
     "output_type": "stream",
     "text": [
      "891 : 무난해요. 씻을 때 물 온도 맞추기가 조금 난해합니다. 엘리베이터는 빨라요. 수영장, 피트니스 등등 꼭 이용하세요! 직원분들이 편하고 체크아웃 재조각 같은 게 없어요. 택시 탈 때 선물 굿.\n"
     ]
    },
    {
     "name": "stderr",
     "output_type": "stream",
     "text": [
      "\r 53%|█████▎    | 892/1689 [1:53:13<1:36:18,  7.25s/it]"
     ]
    },
    {
     "name": "stdout",
     "output_type": "stream",
     "text": [
      "892 : 나방파리? 그런 거 날아다님\n"
     ]
    },
    {
     "name": "stderr",
     "output_type": "stream",
     "text": [
      "\r 53%|█████▎    | 893/1689 [1:53:52<3:42:16, 16.75s/it]"
     ]
    },
    {
     "name": "stdout",
     "output_type": "stream",
     "text": [
      "893 : 1. 아난티 애 부산 빌라주에서 2박 묵었는데, 여기 방에 TV가 없어서 부모님 1차 당황.   2. 통창 때문에 방이 더워도 너무 더운데, 여기서 부모님 2차 당황.   3. 건물 이름을 직관적이지 않게 한글, 영어, 중국어가 섞여서 겉멋만 잔뜩 들게 치워놓고 (그린펠인 빌라주니 LP 크린스따이니 어쩌니...) 뭔가 뭔지 어렵게 해놓았으면서 지리도 어렵움. 체크인까지 꽤 해맸고, 동선도 엉망이었음 - 여기서 부모님 3차 당황.   4. 그런데 편의점이나 수영장, 청소하시는 분들이나 직원들도 지리를 잘 모름 ㅎ   5. 조식 뷔페는 예약 불가면서 오픈런해야 함.   6. 그래서 찾아간 브런치 카페는 개비쌈.   7. 수영장/사우나 이용 방법도 직원이 제대로 알려주지 않고, 알지도 못해 헛걸음 - 알고 보니 체크인 때 직원이 빌라주 트 아난티(1박당 4인 무료)와 아난티 에 부산 빌라주(1박당 2인 무료) 이름을 헷갈려서였고... 이름을 자기들도 헷갈리게 치워두니 이런 사단임 나요.   8. 사우나는 춥고, 부대시설(치약, 체중계) 부족하고 샤워기 몇 개는 고장 날 있는데 고치지 않고... 당연히 직원에게 물어봐도 모르고.   9. 둘째 날에 성공한 조식 뷔페는 신라호텔 조식보다 더 비싸면서 에그 스크램블 오믈렛 없는 호텔 조식은 처음 봄 - 부모님 4차 당황.   10. 그 와중에 2시 체크인이면 10시 체크아웃, 4시 체크인이면 11시 체크아웃. 초기듯 후다닥 나왔습니다! 이곳에서 빨리 나가고 싶었으니 이건 이곳의 마지막 배려겠지요...^^ 전반적으로 겉멋과 가격 거품은 잔뜩 들었는데, 안에 내실은 파면 발스로 없었습니다....\n"
     ]
    },
    {
     "name": "stderr",
     "output_type": "stream",
     "text": [
      "\r 53%|█████▎    | 894/1689 [1:53:57<2:57:32, 13.40s/it]"
     ]
    },
    {
     "name": "stdout",
     "output_type": "stream",
     "text": [
      "894 : 특이점으로 찾아 묵었고, 특이 싱글 침대 매트리스 스프링이 조금 아쉽습니다. 입실하자마자 화장실 변기가 막혀서 이용을 못해 조금 아쉬웠습니다. 그래도 침대에 전기장판이 있어 따뜻하게 잘 수 있어 고맙게도 밤늦게 입실해 묵었습니다.\n"
     ]
    },
    {
     "name": "stderr",
     "output_type": "stream",
     "text": [
      "\r 53%|█████▎    | 895/1689 [1:54:23<3:48:02, 17.23s/it]"
     ]
    },
    {
     "name": "stdout",
     "output_type": "stream",
     "text": [
      "895 : 풀 이용 시간이 오후 4시부터 밤 11시까지 되지 않음. 전기셀을 아낀다는 취지는 이해하지만 11시 딱 되니 차단기를 내리는 글라스.. ㅜㅜ 우리는 엄청 늦게 와서 풀을 별로 이용하지 못함. 풀 이용하려고 비싸게 낸 것만큼 이럴면 그닥 풀을 이용하는 메리트를 느끼지 못하는 듯. 측관적인 느낌이지만 사이트에 보사치가 많이 되어 있음. 실제 시설은 약간 바랬고 몇 년 지났다는 느낌이 많이 듦. 체크아웃에 엄청 민감함.. 11시부터 벨을 정말 마구마구 눌려서 모닝콜 사금하게 했음.. 거기에 기분이 조금 상했지만 뭐.. 이건 규정이니 이해함. 그런데 더 웃긴 건 쓰레기 안내린다고 사모? 직원이지 굿살림 한번 먹고ㅋㅋ 우리가 카드 잃어버렸는데 그 카드 잃어버린 값 만원은 끝까지 받더라.. 솔직히 이 카드 인터넷으로 주문하면 많이 양보해서 장당 2000원인데.. 모르겠다. 5만원~10만원 사이였다면 어느 정도 이해하고 넘어갈 이야기들이지만 38만원씩이나 주고 서비스를 기대한 부분에서 돈이 너무 아깝고, 난 지인들에게 근처 시설 예약을 고민할 땐 적극적으로 이곳을 이야기할 생각이다. 요즘 소비자는 자기의 경험의 값어치가 매우 밀달된다고 생각하면 적극적으로 행동한다는 사실을 여기 운영자가 알았으면 함..\n"
     ]
    },
    {
     "name": "stderr",
     "output_type": "stream",
     "text": [
      "\r 53%|█████▎    | 896/1689 [1:54:30<3:03:49, 13.91s/it]"
     ]
    },
    {
     "name": "stdout",
     "output_type": "stream",
     "text": [
      "896 : 4인실을 예약했는데 이렇게 펜션형 방으로 업그레이드해 주셨어요~ 아이들이 너무 좋아하네요~ 굉장히 친절하시고 가격도 저렴하고 다음에 부산에 오면 다시 오렵니다. 너무 깨끗하고 좋으네요~ 늦게 도착했는데 생각지도 못하게 선물을 받았네요~ ^^ 최고입니다.\n"
     ]
    },
    {
     "name": "stderr",
     "output_type": "stream",
     "text": [
      "\r 53%|█████▎    | 897/1689 [1:54:34<2:27:28, 11.17s/it]"
     ]
    },
    {
     "name": "stdout",
     "output_type": "stream",
     "text": [
      "897 : 근처에 볼일 보러 왔다가 1박으로 테마 모텔을 이용했어요. 후기도 좋고 가격대도 저렴해서 궁금했는데 직접 이용해보니 너무 만족스러워요. 동강 뷰도 정말 좋고 주차 시설도 잘 되어 있어요~^^\n"
     ]
    },
    {
     "name": "stderr",
     "output_type": "stream",
     "text": [
      "\r 53%|█████▎    | 898/1689 [1:54:35<1:46:16,  8.06s/it]"
     ]
    },
    {
     "name": "stdout",
     "output_type": "stream",
     "text": [
      "898 : 편안조식 맛있어요~~\n"
     ]
    },
    {
     "name": "stderr",
     "output_type": "stream",
     "text": [
      "\r 53%|█████▎    | 899/1689 [1:54:38<1:27:12,  6.62s/it]"
     ]
    },
    {
     "name": "stdout",
     "output_type": "stream",
     "text": [
      "899 : 속초에 이런 숙소는 아주 훌륭하다고 생각합니다. 전망도 훌륭하고, 인테리어도 군더더기 없이 깔끔합니다. 가격이 제일 맘에 들어요.\n"
     ]
    },
    {
     "name": "stderr",
     "output_type": "stream",
     "text": [
      "\r 53%|█████▎    | 900/1689 [1:54:41<1:11:30,  5.44s/it]"
     ]
    },
    {
     "name": "stdout",
     "output_type": "stream",
     "text": [
      "900 : 친구랑 부산 놀러 갔다가 하루 숙박했는데 최고였어요 ㅠㅠ 무엇보다 오션뷰 맛집 호텔이네요.\n"
     ]
    },
    {
     "name": "stderr",
     "output_type": "stream",
     "text": [
      "\r 53%|█████▎    | 901/1689 [1:54:45<1:04:04,  4.88s/it]"
     ]
    },
    {
     "name": "stdout",
     "output_type": "stream",
     "text": [
      "901 : 히노끼탕이랑 글램핑 시설은 좀 낡았어요. 바닷가 앞이라 너무 좋아요. 파도 소리도 잘 들리고, 뷰는 만점입니다.\n"
     ]
    },
    {
     "name": "stderr",
     "output_type": "stream",
     "text": [
      "\r 53%|█████▎    | 902/1689 [1:54:54<1:21:49,  6.24s/it]"
     ]
    },
    {
     "name": "stdout",
     "output_type": "stream",
     "text": [
      "902 : 성수기라도 30만 원치곤 너무 열악함. 홈페이지 보고 오면 이게 뭐지? 이럴 거임. 이불 냄새가 나고, 수영장이 있는데 탈수기는 고사하고 건조대조차 준비가 안 되어 있었음. 주변에 먹을 곳 하나 없으니 발리반인 싸고 와야 할 것. 화장실도 수도가 수압 조절 및 온도 조절이 힘들고 고정도 안 되어서 들고 샤워해야 함. 여기저기 온수플 많이 가봤지만 가격 대비 최악임.\n"
     ]
    },
    {
     "name": "stderr",
     "output_type": "stream",
     "text": [
      "\r 53%|█████▎    | 903/1689 [1:55:00<1:19:36,  6.08s/it]"
     ]
    },
    {
     "name": "stdout",
     "output_type": "stream",
     "text": [
      "903 : 아침에 자고 있는데 하우스키핑이 문을 열고 들어옴. 인터넷에서만 보던 건데 잠결에 문 열리는 소리, 여자가 '헉!' 하면서 문 닫는 소리를 듣고 어이가 없었다. 옷 다 입고 자고 있었고 혼자가 아니어서 컴플레인 안 하고 나왔는데 두 번 다시 안 감.\n"
     ]
    },
    {
     "name": "stderr",
     "output_type": "stream",
     "text": [
      "\r 54%|█████▎    | 904/1689 [1:55:03<1:07:07,  5.13s/it]"
     ]
    },
    {
     "name": "stdout",
     "output_type": "stream",
     "text": [
      "904 : 401호에 묵었는데 이제야 리뷰 남겨요^^ 스파도 있고 방도 깨끗하고 오션뷰라서 너무 마음에 들었던 곳이에요.\n"
     ]
    },
    {
     "name": "stderr",
     "output_type": "stream",
     "text": [
      "\r 54%|█████▎    | 905/1689 [1:55:07<1:03:22,  4.85s/it]"
     ]
    },
    {
     "name": "stdout",
     "output_type": "stream",
     "text": [
      "905 : 시끄럽게 노는 곳 말고 조용하게 힐링하러 갔다가 가족끼리 가서 잘 지냈음,,, 수영장도 깨끗하고 귀여움ㅋㅋ 아이스 바스켓도 해주고 친절함\n"
     ]
    },
    {
     "name": "stderr",
     "output_type": "stream",
     "text": [
      "\r 54%|█████▎    | 906/1689 [1:55:12<1:02:57,  4.82s/it]"
     ]
    },
    {
     "name": "stdout",
     "output_type": "stream",
     "text": [
      "906 : 방 안 분위기가 클래식하고 좋으며, 무엇보다 흡연 가능한 점이 좋았습니다. 위생 관리도 잘하는지 흡연실임에도 불구하고 찌든내가 전혀 나지 않더라고요. 해운대에 놀러 오면 재방문하겠습니다. 번창하세요.\n"
     ]
    },
    {
     "name": "stderr",
     "output_type": "stream",
     "text": [
      "\r 54%|█████▎    | 907/1689 [1:55:14<55:03,  4.23s/it]  "
     ]
    },
    {
     "name": "stdout",
     "output_type": "stream",
     "text": [
      "907 : 지하철역이랑 연결되어 있어서 편하고, 수영장과 사우나가 좋습니다. 힐링 애 아다즈 패키지 굿\n"
     ]
    },
    {
     "name": "stderr",
     "output_type": "stream",
     "text": [
      "\r 54%|█████▍    | 908/1689 [1:55:17<49:18,  3.79s/it]"
     ]
    },
    {
     "name": "stdout",
     "output_type": "stream",
     "text": [
      "908 : 남자 사장님이 엄청 친절하세요. 해변 바로 앞이라 왔다 갔다 하기도 편하고, 방이랑 화장실도 깔끔해요.\n"
     ]
    },
    {
     "name": "stderr",
     "output_type": "stream",
     "text": [
      "\r 54%|█████▍    | 909/1689 [1:55:18<39:06,  3.01s/it]"
     ]
    },
    {
     "name": "stdout",
     "output_type": "stream",
     "text": [
      "909 : 친절하시고 깔끔해서 좋습니다 ^_^\n"
     ]
    },
    {
     "name": "stderr",
     "output_type": "stream",
     "text": [
      "\r 54%|█████▍    | 910/1689 [1:55:20<32:17,  2.49s/it]"
     ]
    },
    {
     "name": "stdout",
     "output_type": "stream",
     "text": [
      "910 : 출장 갈 때마다 묵었는데 항상 친절하고 깨끗해요.\n"
     ]
    },
    {
     "name": "stderr",
     "output_type": "stream",
     "text": [
      "\r 54%|█████▍    | 911/1689 [1:55:23<34:11,  2.64s/it]"
     ]
    },
    {
     "name": "stdout",
     "output_type": "stream",
     "text": [
      "911 : 체크인 시간보다 20분 일찍 갔는데 아직 정비가 덜 되었다고 해서 기다렸는데 그보다 30분을 초과해서 체크인했어요.\n"
     ]
    },
    {
     "name": "stderr",
     "output_type": "stream",
     "text": [
      "\r 54%|█████▍    | 912/1689 [1:55:24<30:36,  2.36s/it]"
     ]
    },
    {
     "name": "stdout",
     "output_type": "stream",
     "text": [
      "912 : 좋은 위치에 자연환경은 괜찮았으나 시설물 관리가 너무 엉망임.\n"
     ]
    },
    {
     "name": "stderr",
     "output_type": "stream",
     "text": [
      "\r 54%|█████▍    | 913/1689 [1:55:26<27:10,  2.10s/it]"
     ]
    },
    {
     "name": "stdout",
     "output_type": "stream",
     "text": [
      "913 : 시설이 깔끔합니다. 고객에 대한 서비스 마인드가 최고예요.\n"
     ]
    },
    {
     "name": "stderr",
     "output_type": "stream",
     "text": [
      "\r 54%|█████▍    | 914/1689 [1:56:15<3:27:26, 16.06s/it]"
     ]
    },
    {
     "name": "stdout",
     "output_type": "stream",
     "text": [
      "914 : 지난 3월에 5월 5일과 6일 2박을 예약한 사람입니다. 그래서 예약을 10만 원을 보내고, 온 가족이 오랜만에 곤향 방문을 아등고 들떠 기대했는데, 4월에 그것도 황금연휴 한 달 앞두고 더펫테는 호텔 내부 사정으로 영업 중단을 알리는 문자 한 통으로 잠수를 타셨습니다. 객실로 쭉 10만 원 불친결 뻔히 알고 있는 사람들이 그만두더라도 환불 정도는 해주고 잠수를 타시던가…… 문자 한 통 보내고 연락 끊겨…… 거기다 그 황금연휴 이미 어지간한 숙소는 다 예약 완료…… 엄마 돌아가시기 전 마지막이다 생각하고 본가도 돌아보고 동네 한 바퀴 하며 추억 여행하려 하던 우리 가족은 오갈 데 없어 급하게 구한다고 한 게 컨테이너 같은 곳에서 헤맸어 타고 오라가지도 못해 남자들이 들어 오려야 하는 그런 어려운 곳을 갈 수밖에 없었고. ㅜㅜ 그런데 최근 부산 가족에게 연락이 와 알게 되었는데 다시 영업을 한다고…… 다시 전화하니 죄송함 제대로 인사 1도 없이 담당자 연락 완 돈 보내 처격 영상 한네요. 그래서 보내주니 그 10만 원 보내고 끝…… 돈이면 돈으로 끝이나요? 당신들이 우리 가족에게 무슨 지술 한 건 주리냐 아세요? 내가 원하는 진심 어린 사과, 정중한 대응 1도 없이 돈 보내 것으로 끝나요? 본인들이 어떤 짓을 했는지 문자로 다 알려줬고, 그런 다음이라면 돈보다 사과가 우선이진 않습니까? 더 들리지 못함을 그러나 대단힌 죄송함을 전화 통화로 직접 말해야 하는 거 아닌가요? 두 번 볼 일 없는 사람이라는 건가요? 거기를 이용하는 사람들이 두 번 다시 볼 일 없게 만들고 싶으신 거 아닌가요? 실수할 수는 있습니다. 힘들어 문을 닫을 수도 있습니다. 하지만 마무리는 깔끔했어야 했구요, 다시 영업을 재개하다 알게 된 지난 과오 두 번 다시 하지 않으려면 최대한의 사죄 노력을 해야 하는 거 아닌가요? 저같은 사람들이 다시 생각하면 안 되죠…… 뜨고뜨고 이 블로그에 글을 주기적으로 올려 당신들이 한 짓을 대대손손 알려야죠…… 연락 끊어지고 얼마나 전화를 했던지 오죽하면 부산 간 사이 직접 그곳을 방문해 문 닫힌 곳 앞에서 어이없어 하고 돌아선 사람입니다. 하도 속상했어요…… 매일 연락 드리죠. 요즘 세상에 손님 호구로 보는 이런 숙박업소 다시 문 닫아야죠. 한번 닫은 곳이 두 번 못 닫겠습니까? 남의 돈, 남의 소중한 추억을 짓밟고 대먹은 사람들이 두 번을 왜 못할까요? 하고도 남초. 명확한 사과와 반성하는 태도 올꿈한 거 무시한 점 감당하세요. 앞으로 계속.\n"
     ]
    },
    {
     "name": "stderr",
     "output_type": "stream",
     "text": [
      "\r 54%|█████▍    | 915/1689 [1:56:24<3:01:31, 14.07s/it]"
     ]
    },
    {
     "name": "stdout",
     "output_type": "stream",
     "text": [
      "915 : 그야말로 최악입니다. 주말이라고 15만 원 주고 들어온 6층 객실에 욕실 커튼은 곰팡이로 가득 차 있고, 침실 바닥은 청소를 안 해서 머리카락과 끈적한 액체가 그대로입니다. 폰 충전기는 옛날 거 하나밖에 없네요! 카운터 아저씨는 들럽게 불친절하고, 방문은 제대로 닫히지도 않아요... 절대 여기 숙박하지 마세요. 그 돈으로 근처 호텔 가세요!!!! 주인 바뀌고 나서는 완전 백장 장사에 개판이네요!\n"
     ]
    },
    {
     "name": "stderr",
     "output_type": "stream",
     "text": [
      "\r 54%|█████▍    | 916/1689 [1:56:30<2:28:34, 11.53s/it]"
     ]
    },
    {
     "name": "stdout",
     "output_type": "stream",
     "text": [
      "916 : 객실은 깔끔하고 좋으나 뷔페는 절대 이용하지 마세요. 추석 연휴 때 디너 뷔페를 먹었는데 요리는 다시 채워질 김치가 안 보이고 8시부터 직원분들이 마감하느라 정신이 없습니다… 서비스 엉망이에요 뷔페.\n"
     ]
    },
    {
     "name": "stderr",
     "output_type": "stream",
     "text": [
      "\r 54%|█████▍    | 917/1689 [1:56:31<1:47:52,  8.38s/it]"
     ]
    },
    {
     "name": "stdout",
     "output_type": "stream",
     "text": [
      "917 : 친절하시고 따뜻하며 깨끗합니다.\n"
     ]
    },
    {
     "name": "stderr",
     "output_type": "stream",
     "text": [
      "\r 54%|█████▍    | 918/1689 [1:56:33<1:23:49,  6.52s/it]"
     ]
    },
    {
     "name": "stdout",
     "output_type": "stream",
     "text": [
      "918 : 계다가 이중 주차는 기본이라 차 키 맡기고 가야 함ㆍ욕조에 남자 머리카락 4개\n"
     ]
    },
    {
     "name": "stderr",
     "output_type": "stream",
     "text": [
      "\r 54%|█████▍    | 919/1689 [1:56:34<1:01:41,  4.81s/it]"
     ]
    },
    {
     "name": "stdout",
     "output_type": "stream",
     "text": [
      "919 : 친절하고 분위기가 좋네요\n"
     ]
    },
    {
     "name": "stderr",
     "output_type": "stream",
     "text": [
      "\r 54%|█████▍    | 920/1689 [1:56:58<2:16:03, 10.62s/it]"
     ]
    },
    {
     "name": "stdout",
     "output_type": "stream",
     "text": [
      "920 : 제 남매지 후기를 보면 알겠지만, 저 엔만하면 좋은 게 좋은 것이다 하고 만족하는 사람입니다. 그런데 이 호텔은 도저히 그럴 수가 없네요. 여기 호텔에 대한 후기를 남기자면 정말 실망스럽습니다. 먼저 디럭스 패밀리룸이라는 이름에 걸맞지 않은 룸 컨디션이 가장 큰 문제였습니다. 30만 원을 주고 이 방에 묵었지만, 그 금액에 합당한 가치를 전혀 느낄 수 없었습니다. 30 안이 10만 원이라도 돈 아깝다고 생각했을 룸 상태예요. 가장 불쾌했던 점은 방의 위생입니다. 전등의 상태가 이 방의 위생 상태를 말해주는 것 같네요. 방 안에서 불쾌한 냄새도 납니다. 오징어 냄새와 비슷한 냄새가 방에 숨어들어 있어, 쾌적함과는 거리가 멀니다. 또 가구가 여기저기 까져 있거나 손상된 부분들이 있었고, 벽지도 제대로 붙지 않아 덜렁거린다 못해 벗겨지고 있는데… 이러한 부분은 단순히 미관상의 문제가 아닌 관리가 제대로 되지 않았다는 증거라고 생각되네요. '가성비 호텔'이라는 평가도 전혀 통일할 수 없습니다. 가격 대비 방의 상태가 불만족스러웠고, 기대 이하의 경험을 하게 되어 후회스러울 정도였습니다. 재방문 의사는 전혀 없으며, 다른 분들께도 이 호텔을 추천하고 싶지 않습니다.\n"
     ]
    },
    {
     "name": "stderr",
     "output_type": "stream",
     "text": [
      "\r 55%|█████▍    | 921/1689 [1:57:00<1:43:39,  8.10s/it]"
     ]
    },
    {
     "name": "stdout",
     "output_type": "stream",
     "text": [
      "921 : 정말 깔끔하고 친절하다. 방은 좁은데 뷰가 환상적이다. 못 잊을 거다.\n"
     ]
    },
    {
     "name": "stderr",
     "output_type": "stream",
     "text": [
      "\r 55%|█████▍    | 922/1689 [1:57:03<1:24:09,  6.58s/it]"
     ]
    },
    {
     "name": "stdout",
     "output_type": "stream",
     "text": [
      "922 : 방도 크고 창도 크고 시원시원한 숙소였어요. 인테리어도 너무 이쁘고 잘 되어 있는 곳이네요. 또 방문할게요.\n"
     ]
    },
    {
     "name": "stderr",
     "output_type": "stream",
     "text": [
      "\r 55%|█████▍    | 923/1689 [1:57:07<1:15:39,  5.93s/it]"
     ]
    },
    {
     "name": "stdout",
     "output_type": "stream",
     "text": [
      "923 : 저렴한 가격만이 장점입니다. 단, 가스렌지와 싱크대는 있는데, 그릇과 냄비, 수저도 없으니 요리 도구를 모두 준비해야 합니다. 수건과 휴지, 비누 외엔... 치약도 없습니다.\n"
     ]
    },
    {
     "name": "stderr",
     "output_type": "stream",
     "text": [
      "\r 55%|█████▍    | 924/1689 [1:57:09<58:50,  4.61s/it]  "
     ]
    },
    {
     "name": "stdout",
     "output_type": "stream",
     "text": [
      "924 : 최고의 호텔입니다. 정말 좋은 호텔입니다. 가본 호텔 중 최고입니다.\n"
     ]
    },
    {
     "name": "stderr",
     "output_type": "stream",
     "text": [
      "\r 55%|█████▍    | 925/1689 [1:57:18<1:16:08,  5.98s/it]"
     ]
    },
    {
     "name": "stdout",
     "output_type": "stream",
     "text": [
      "925 : 숙소가 좋아도 너무 좋네요~ 투룸 가격에 스트리움으로 업그레이드해 주시고 감사합니다. 친정엄마 생신 기념으로 온 가족 여행인데~ 엄마가 야경도 너무 훌륭하다며 꼭 외국에 온 것 같다고 엄청 좋아하셨어요~ 호도를 제대로 했네요. 이케아랑 롯데몰 바로 앞이라 쇼핑하기도 좋고, 숙소가 편의성이 너무 좋아서 내 집처럼 편하게 머물다 왔어요. 부산 여행 갈 땐 여기로 찜합니다~~~♡\n"
     ]
    },
    {
     "name": "stderr",
     "output_type": "stream",
     "text": [
      "\r 55%|█████▍    | 926/1689 [1:57:21<1:04:15,  5.05s/it]"
     ]
    },
    {
     "name": "stdout",
     "output_type": "stream",
     "text": [
      "926 : 투숙객이 아니면 서근 표정과 서비스 마인드로 대하지 마세요. 머리가 긴 남자분, 그런 식으로 일하지 마세요. 기분이 더럽네요.\n"
     ]
    },
    {
     "name": "stderr",
     "output_type": "stream",
     "text": [
      "\r 55%|█████▍    | 927/1689 [1:57:29<1:16:18,  6.01s/it]"
     ]
    },
    {
     "name": "stdout",
     "output_type": "stream",
     "text": [
      "927 : 일동하기 편한 위치. 냄새 안 나는 깔끔한 객실. 화이트 톤으로 정갈하고 촌스럽지 않은 디자인. 마지막으로 제일 좋은 건 뷰가 굳휴... 뜨까자마자 사진 찍어 달라 해서 오지게 찍었음. 오시면 후회는 안 하실 것 같습니다. 번화가라 소음 걱정했는데 별로 시끄러워서 고생한 것도 없네요. 추억 만들고 싶으시다면 한번쯤 들러보시는 거 추천.\n"
     ]
    },
    {
     "name": "stderr",
     "output_type": "stream",
     "text": [
      "\r 55%|█████▍    | 928/1689 [1:57:36<1:19:29,  6.27s/it]"
     ]
    },
    {
     "name": "stdout",
     "output_type": "stream",
     "text": [
      "928 : 최악의 숙소를 경험하고 돌아갑니다. 우선, 들어오자마자 담배 냄새가 가득하네요. 침대 시트는 언제 교체했는지, 머리카락이 한 무더기 나오는 걸 보고 여기서는 못 자겠다 싶어서, 이불도 안 덮고 위에서 잤습니다. 이후에 났에는 어떤 공사를 하는지, 방음은 기대하지 마세요. 오랜만에 최악의 숙소를 경험했습니다.\n"
     ]
    },
    {
     "name": "stderr",
     "output_type": "stream",
     "text": [
      "\r 55%|█████▌    | 929/1689 [1:57:39<1:05:26,  5.17s/it]"
     ]
    },
    {
     "name": "stdout",
     "output_type": "stream",
     "text": [
      "929 : 직원분들 다 친절하고 편했습니다. 수영장 이용하기도 좋았고, 로비 체크즈 케이크가 진짜 맛있었어요.\n"
     ]
    },
    {
     "name": "stderr",
     "output_type": "stream",
     "text": [
      "\r 55%|█████▌    | 930/1689 [1:57:46<1:13:56,  5.84s/it]"
     ]
    },
    {
     "name": "stdout",
     "output_type": "stream",
     "text": [
      "930 : 기본적인 청소가 안 되어 있었습니다. 더러워서 위생적이지 못했고, 엘리베이터가 없고 방음이 좋지 않아서 새벽에 밖에서 들리는 대화 소리에 깼습니다. 또 냉장고에서 초음파 소리가 심해 밤잠을 설쳤는데, 인테리어를 감성적으로 꾸미기보다는 기본적인 잠자리와 청소에 신경을 쓰는 게 맞는 듯합니다. 재방문 의사는 없습니다.\n"
     ]
    },
    {
     "name": "stderr",
     "output_type": "stream",
     "text": [
      "\r 55%|█████▌    | 931/1689 [1:58:16<2:45:43, 13.12s/it]"
     ]
    },
    {
     "name": "stdout",
     "output_type": "stream",
     "text": [
      "931 : 어젠 마셨던 밀크티 생각난다. 밀크티는 단순하지만 만드는 법은 그렇지 않다고. \"2020년 여름, 미국에서 티백을 중심으로 ‘영국식 밀크티 제대로 만드는 법’이라는 미미 크게 유행한 적이 있습니다. 미국 외 지역, 특히 미국에서 이 콘텐트가 황태가 된 이유는 터무니없었기 때문입니다. 그 내용에는 전자레인을 이용한다든지, 우유의 양에 대해서도 제 멋대로였습니다. 밀크티는 홍차와 물, 우유, 설탕 등 재료가 단순합니다. (영국을 포함해 유럽인들은 뜨거운 물로 홍차를 우린 후 우유를 넣는 경우가 있습니다만, 미묘한 맛을 실혀하는 우나라 사람들은 바로 우유를 넣기도 합니다. 각자 입맛에 맞을 경우 물을 쓰진 않아도 되니까 재료는 더 단순해지기도 합니다). 하지만 제대로 만드는 법만큼은 그렇게 간단하지 않습니다. 잘못 만드는 경우는 대개 세 가지 실수에서 비롯됩니다. 첫째, 홍차를 너무 오래 우리면 너무 습합니다. 너무 뜨거운 물을 쓸 때도 마찬가지입니다. 우유가 너무 많으면 풍미가 사라지고 지난치게 미끌끌해집니다. 일반적인 영국인들은 티백 하나나 찾아 반 스푼에 225ml를 권합니다. 하지만 농밀한 맛을 선호하는 밀크티 매니아들은 티백 두에 400ml의 비율을 가장 좋아합니다. 뜨거운 물로 차를 우린 후 우유를 넣을 때 생기는 더더바를 피하기 위해 직접 차가거나 따뜻한 우유로 차를 내리기도 합니다. 여기에 질 좋은 설탕 한 스푼. 여름날의 스트레스는 물론 커피에 대한 중독적인 감정도 없애줍니다.\"\n"
     ]
    },
    {
     "name": "stderr",
     "output_type": "stream",
     "text": [
      "\r 55%|█████▌    | 932/1689 [1:58:17<2:00:35,  9.56s/it]"
     ]
    },
    {
     "name": "stdout",
     "output_type": "stream",
     "text": [
      "932 : 바다가 잘 보이고, 깔끔하고 친절합니다.\n"
     ]
    },
    {
     "name": "stderr",
     "output_type": "stream",
     "text": [
      "\r 55%|█████▌    | 933/1689 [1:58:19<1:28:29,  7.02s/it]"
     ]
    },
    {
     "name": "stdout",
     "output_type": "stream",
     "text": [
      "933 : 위치: 베리베리 굿 시설은....\n"
     ]
    },
    {
     "name": "stderr",
     "output_type": "stream",
     "text": [
      "\r 55%|█████▌    | 934/1689 [1:58:22<1:13:04,  5.81s/it]"
     ]
    },
    {
     "name": "stdout",
     "output_type": "stream",
     "text": [
      "934 : 직원분들도 친절하시고, 별 침대도 잘 이용했습니다~ 뷰가 진짜 좋아요. 좋은 추억 만들고 갑니다. 추천합니다!!!!\n"
     ]
    },
    {
     "name": "stderr",
     "output_type": "stream",
     "text": [
      "\r 55%|█████▌    | 935/1689 [1:58:23<55:13,  4.40s/it]  "
     ]
    },
    {
     "name": "stdout",
     "output_type": "stream",
     "text": [
      "935 : 뷰가 너무 좋고 깔끔해서 최고였습니다!!!\n"
     ]
    },
    {
     "name": "stderr",
     "output_type": "stream",
     "text": [
      "\r 55%|█████▌    | 936/1689 [1:58:27<53:50,  4.29s/it]"
     ]
    },
    {
     "name": "stdout",
     "output_type": "stream",
     "text": [
      "936 : 항상 아늑한 호텔들은 믿을 만해서 출장 때마다 이용하는데, 부산에도 생겨서 가봤습니다. 역시나 깨끗하고 직원분들이 친절하시고 너무 좋네요!! 앞으로 번창하기 바랍니다~~\n"
     ]
    },
    {
     "name": "stderr",
     "output_type": "stream",
     "text": [
      "\r 55%|█████▌    | 937/1689 [1:58:28<40:54,  3.26s/it]"
     ]
    },
    {
     "name": "stdout",
     "output_type": "stream",
     "text": [
      "937 : 리모델링 해서 깨끗합니다.\n"
     ]
    },
    {
     "name": "stderr",
     "output_type": "stream",
     "text": [
      "\r 56%|█████▌    | 938/1689 [1:58:30<39:25,  3.15s/it]"
     ]
    },
    {
     "name": "stdout",
     "output_type": "stream",
     "text": [
      "938 : 싸게 예약하면... 나독 모르게 방이 사라지는 곳... 그 말 한 지연인지 사장인지, 어디를 여행 가도 숙소가 사라져라 아\n"
     ]
    },
    {
     "name": "stderr",
     "output_type": "stream",
     "text": [
      "\r 56%|█████▌    | 939/1689 [1:58:38<54:47,  4.38s/it]"
     ]
    },
    {
     "name": "stdout",
     "output_type": "stream",
     "text": [
      "939 : 그냥 가지 마세요. 주차장도 없어서 기계식 주차를 이용하는데 체크아웃 시간이 되면 차 빼는데만 1시간이 걸려요. 여행 와서 아까운 시간에 1시간 동안 기다리고 프론트 직원은 아무 말도 없어요. 이런 일이 한두 번도 아닌데, 미리 말해줄 수 있는 것도 아닌가요? 여행 와서 시간 낭비하고 싶으시면 이 호텔 쓰세요. ㅋㅋ\n"
     ]
    },
    {
     "name": "stderr",
     "output_type": "stream",
     "text": [
      "\r 56%|█████▌    | 940/1689 [1:58:42<54:47,  4.39s/it]"
     ]
    },
    {
     "name": "stdout",
     "output_type": "stream",
     "text": [
      "940 : 내부가 깨끗하고 쾌적하네요. 단지 시내에 있어서 조그문 아쉽네요. 근처에 편의점 24시, 해장국도 근처라 괜찮아요. 경포대 해변도 그리 멀지 않구요.\n"
     ]
    },
    {
     "name": "stderr",
     "output_type": "stream",
     "text": [
      "\r 56%|█████▌    | 941/1689 [1:58:46<53:24,  4.28s/it]"
     ]
    },
    {
     "name": "stdout",
     "output_type": "stream",
     "text": [
      "941 : 화장실 문이 저 혼자 잠겨있음... 그래서 전화하니까 당황하는 기색도 없이 문을 열어주신 걸 보니 잠금장치 고장난 거 알고 계신 것 같은데 이건 잘못하면 큰 사고로 이어져요.\n"
     ]
    },
    {
     "name": "stderr",
     "output_type": "stream",
     "text": [
      "\r 56%|█████▌    | 942/1689 [1:58:48<44:47,  3.60s/it]"
     ]
    },
    {
     "name": "stdout",
     "output_type": "stream",
     "text": [
      "942 : 공사 중이어서 시끄럽고, 난방이 고장나서 추웠습니다 ㅠ\n"
     ]
    },
    {
     "name": "stderr",
     "output_type": "stream",
     "text": [
      "\r 56%|█████▌    | 943/1689 [1:58:52<44:53,  3.61s/it]"
     ]
    },
    {
     "name": "stdout",
     "output_type": "stream",
     "text": [
      "943 : 바닷가 인접 위치 및 시설이 깨끗하고 청결하게 관리되어 이용하는 데 용이하고, 위치가 주변 식당가, 편의점 등과 가깝고 인접해 편리합니다~~\n"
     ]
    },
    {
     "name": "stderr",
     "output_type": "stream",
     "text": [
      "\r 56%|█████▌    | 944/1689 [1:59:01<1:04:03,  5.16s/it]"
     ]
    },
    {
     "name": "stdout",
     "output_type": "stream",
     "text": [
      "944 : 크리스마스 기념으로 여자친구랑 여행에 오게 되었는데, 뷰도 너무 예쁘고 좋은 추억이 된 것 같아요! 특히나 밤에 광안대교 조명이 켜졌을 때 너무 예쁩니다  크리스마스 기념 파티 선물도 주셔서 하루 종일 커플로 자고 다녔네요 ㅎㅎ 웰컴 스낵이랑 조식도 감사히 잘 먹었습니다. 다음번에 또 방문 의사 100%!!\n"
     ]
    },
    {
     "name": "stderr",
     "output_type": "stream",
     "text": [
      "\r 56%|█████▌    | 945/1689 [1:59:25<2:15:46, 10.95s/it]"
     ]
    },
    {
     "name": "stdout",
     "output_type": "stream",
     "text": [
      "945 : 너무 큰 불편함과 더러움을 경험했습니다. 업체 이렇게 운영을 하시는지 모르겠네요. 요청하는 사항마다 안 된다고 하시고, 심지어 결국엔 환불 요청도 제대로 들려주지 않았습니다. 1층 카운터(로비도 아닙니다)에서 컴플레인을 말씀드리는 와중에 다른 객실에 묵으신 분들도 비슷한 내용의 말을 하시더라고요. 아, 정말 다시는 송정으로 가고 싶지 않을 정도입니다. 몇 가지만 말해보자면 1. 세면대 막힘(물이 잘 안내려감) 2. 세면대 밑에 하수구가 막혀 세면대를 사용하면 욕실 바닥이 모두 젖음 3. 룸 내 전화기, 헤어드라이어 망가짐 4. 교체 요청해도 헤어드라이어만 해주고 전화기는 끝내 안 해줌 5. 침대 헤드레스트에 이우 모를 얼룩, 방 바꿔달라고 요청했으나 나는 방 없음 6. 쓰레기 정리 제대로 안 됨(구석에 우리가 쓴 적 없는 쓰레기 있고, 전자담배 꽁초 발견) 7. 끝내 사장님을 부르서 컴플레인을 걸 때, 말 끝고 듣기 싫으니 남은 숙박비 환불해준다고 하고 갈 때쯤만 저거도 이 정도입니다. 너무 힘든 부산 여행이었네요. 휴가 썰서 서울에서 왔는데 정말 시간과 돈을 버리고..\n"
     ]
    },
    {
     "name": "stderr",
     "output_type": "stream",
     "text": [
      "\r 56%|█████▌    | 946/1689 [1:59:28<1:44:17,  8.42s/it]"
     ]
    },
    {
     "name": "stdout",
     "output_type": "stream",
     "text": [
      "946 : 사장님께서 친절하게 반겨 주셨고, 좋은 곳에서 힐링하는 시간을 보냈습니다. 바다도 너무 좋았어요.\n"
     ]
    },
    {
     "name": "stderr",
     "output_type": "stream",
     "text": [
      "\r 56%|█████▌    | 947/1689 [1:59:43<2:08:36, 10.40s/it]"
     ]
    },
    {
     "name": "stdout",
     "output_type": "stream",
     "text": [
      "947 : 정말 딱 상행 있는 호텔들 같아요. 너무너무 건조해서 자는 곳소근 매마라 위브로 숨을 쉬는데 협도 마르고 입술은 풀진 된 느낌이예요. 물을 몇 번을 챙겨 마시면서 자야 했는지… 정말 힘들게 자다 깨다 밤을 보내었어요. 피곤해서 더 자려고 했는데 도저히 숨쉬기가 힘들어 아침 일찍 그냥 뛰쳐나와 편했어요. 공조기 시스템인 것 같은데, 공기질이 좋을진 모르겠지만 상해가 지역 환경 특성상 냉난방 자체가 공조기 시스템이라 사람들이 미지개다고 하더라고요. 그리고 창문을 여는데 탁자를 밟고 올라가서 커튼을 누르고 서 있어야 하는 황당한 버튼 위치도 불편했고, 특가 랜덤 방이라 그런지 샤워실과 화장실은 엄청 좁은데 방안에 도무 설치한 느낌이네요.\n"
     ]
    },
    {
     "name": "stderr",
     "output_type": "stream",
     "text": [
      "\r 56%|█████▌    | 948/1689 [1:59:50<1:58:54,  9.63s/it]"
     ]
    },
    {
     "name": "stdout",
     "output_type": "stream",
     "text": [
      "948 : 가성비 좋아요. 모텔과 호텔 중간 쯤 처음 어딘가 느낌있긴 해요. 화려한(?) PC 두 대와 큰 모니터가 있고, 욕조도 커서 장바구로 보면서 휴식하기 좋네요. 주변 편의점이 거리가 좀 있어서인지 2층에 라면, 맥주, 과자, 햇반 등 간단한 먹을거리 자판기가 있어서 좋아요. (가격이 막 싸악하지 않음)\n"
     ]
    },
    {
     "name": "stderr",
     "output_type": "stream",
     "text": [
      "\r 56%|█████▌    | 949/1689 [1:59:53<1:32:36,  7.51s/it]"
     ]
    },
    {
     "name": "stdout",
     "output_type": "stream",
     "text": [
      "949 : 넓은 부지에 9객실뿐이 없어서 조용하기도 하고 깔끔해서 좋아요. 특히 노천 스파는 너무 좋은 듯.\n"
     ]
    },
    {
     "name": "stderr",
     "output_type": "stream",
     "text": [
      "\r 56%|█████▌    | 950/1689 [1:59:54<1:10:11,  5.70s/it]"
     ]
    },
    {
     "name": "stdout",
     "output_type": "stream",
     "text": [
      "950 : 연식이 느껴지긴 하지만 역시나 역시^^ 갈 때마다 만족스러워요.\n"
     ]
    },
    {
     "name": "stderr",
     "output_type": "stream",
     "text": [
      "\r 56%|█████▋    | 951/1689 [2:00:05<1:27:53,  7.15s/it]"
     ]
    },
    {
     "name": "stdout",
     "output_type": "stream",
     "text": [
      "951 : 3월 18일 전주에서부터 부산 가족 여행 와서 이기대길 갔다가 묵었는데, 호텔이 깨끗하고 무엇보다 직원들도 너무 친절하네요. 후기에 주차 어렵다고 하여 걱정했는데 SUV 차랑 가지고 가니 직원이 달려와 친절히 건물 옆 다른 주차장으로 안내해 주어 주차하는 데 어렵지 않았어요. 호텔에 짐 풀고 걸어서 가까운 용두산 공원 돌아다가 국제시장, 군대문화역사관 등 부산 일대 구경하기도 좋았습니다. 저렴한 가격으로 가성비 짱!! 다음 부산 여행도 여기서 묵을 겁니다~\n"
     ]
    },
    {
     "name": "stderr",
     "output_type": "stream",
     "text": [
      "\r 56%|█████▋    | 952/1689 [2:00:08<1:11:35,  5.83s/it]"
     ]
    },
    {
     "name": "stdout",
     "output_type": "stream",
     "text": [
      "952 : 예약 전과 후가 너무 말이 달라요. 결국 바가지 요금 더 주고 이용했지만 주인장의 억지 때문에 여행을 망친 기분 아시나요?\n"
     ]
    },
    {
     "name": "stderr",
     "output_type": "stream",
     "text": [
      "\r 56%|█████▋    | 953/1689 [2:00:32<2:18:44, 11.31s/it]"
     ]
    },
    {
     "name": "stdout",
     "output_type": "stream",
     "text": [
      "953 : 불친절의 끝   그 동안 이렇게 불만족스러운 시설을 겪어본 적이 없어서 화가 나서 리뷰 남깁니다.    1. 불친절한 사장, 멍렁   - 이용 순서를 안내해주던데 불친절한 말투로 멍렁초롱 말하길래 처음부터 기분이 상한 상태였습니다. 같이 간 지인들도 나갈 때까지 기분이 안 좋다고 하더군요.    2. 청소, 마무리   - 이용하는 공간도 그닥 깨끗하지 않습니다. 그거 둘째치고, 술 먹고 고기 먹으러 놀러 간 장소에서 다 끝내고 테이블 닦고 설거지까지 해야 합니다. 물론 이런 내용을 입이 1번처럼 상당히 불쾌하게 전달하구요. 술 먹고 다 씻고 나서 열심히 청소하고 왔습니다.    3. 기본 제공 용품 전무   - 집게, 가위 등등 모든 것을 대여해야 하구요. 하다못해 휴지도 다 비리거나 사야 합니다. \"냉장고가 없어서\" 얼음을 사려고 하니까 구석에 있는 스티로폼에 넣어주네요. 아참, 테이블 위에 있는 비누는(회집 등에서 사용) 장례식장에서 받아온 건지 회사명이 적혀있구요. 리뷰가 좋길래 믿고 갔는데 저처럼 피해보는 분 없길 바라며 리뷰 적습니다. 리뷰 삭제되는지 자기적으로 확인합니다.\n"
     ]
    },
    {
     "name": "stderr",
     "output_type": "stream",
     "text": [
      "\r 56%|█████▋    | 954/1689 [2:00:37<1:54:32,  9.35s/it]"
     ]
    },
    {
     "name": "stdout",
     "output_type": "stream",
     "text": [
      "954 : 일단 뷰가 진짜로 사진보다 너무 예뻐서 진짜 잘 이용했습니다! 방이 깔끔하고 넓어서 좋았습니다! 광안리 놀거리와 먹거리도 가깝고 해변가도 1분 거리라 좋은 추억 많이 쌓고 갑니다!\n"
     ]
    },
    {
     "name": "stderr",
     "output_type": "stream",
     "text": [
      "\r 57%|█████▋    | 955/1689 [2:00:39<1:27:40,  7.17s/it]"
     ]
    },
    {
     "name": "stdout",
     "output_type": "stream",
     "text": [
      "955 : 정동진이 가까워서 좋았고, 무엇보다 방이 청결했습니다. 푹 잘 쉬다 갑니다.\n"
     ]
    },
    {
     "name": "stderr",
     "output_type": "stream",
     "text": [
      "\r 57%|█████▋    | 956/1689 [2:00:41<1:08:25,  5.60s/it]"
     ]
    },
    {
     "name": "stdout",
     "output_type": "stream",
     "text": [
      "956 : 로비에 안마의자가 무료라서 완전 연독이 제대로 풀렸습니다. 최고!\n"
     ]
    },
    {
     "name": "stderr",
     "output_type": "stream",
     "text": [
      "\r 57%|█████▋    | 957/1689 [2:01:05<2:15:25, 11.10s/it]"
     ]
    },
    {
     "name": "stdout",
     "output_type": "stream",
     "text": [
      "957 : 늦은 퇴실로 2박 이용했는데요... 조식 시설은 아침 7~9시에만 운영한다고 기재했으면 하네요. 코로나 좋게된 지가 언젠데, 아직도 코로나 핑계로 저렇게 장사하시는지 좀 의문이고...(사이트에는 상시 운영하는 것처럼 광고하시는데 과태료과 아니겠죠;;) 그리고 방음 정말 최악인데, 그나마 그게 평일이라 덜했던 수준이라는 게 좀 충격...ㅠㅠ 브라운도트 다른 지점 가봤지만 바디 스펀지(샤워타올)도 안 주는 지점은 처음이네요. 본사가 있으면 클레임 걸고 싶었는데 본사도 없고;;; 퇴실할 때 보니 모텔 세면도구를 자판기에서 3000원에 팔고 있더라고요. 그걸 팔려고 안 주셨는지;;;; 바디 타올 다이소 가서 사다 썼어요, 진짜... 이름만 호텔이지 싶고... 연박인데 수건, 물 채워주시지도 않고 3장이 전부더라고요. 따로 가서 받아와야 했는데 그마저도 갖다주시지 않고 둘이서 내려와서 가져가야 했네요. 비수기에 2박 16만원 주고 이용했는데 역지껏 가본 모텔, 호텔, 펜션 통틀어서 제일 별로였습니다... 주차장만 좋아요.\n"
     ]
    },
    {
     "name": "stderr",
     "output_type": "stream",
     "text": [
      "\r 57%|█████▋    | 958/1689 [2:01:09<1:50:17,  9.05s/it]"
     ]
    },
    {
     "name": "stdout",
     "output_type": "stream",
     "text": [
      "958 : 방은 깨끗했어요. 냄새도 안 나고 좋았어요. 전기를 아끼시는 건지 복도가 나제도 어두워요. 밤 조심, 외부 음식이 금지랍니다! 평달 음식을 말하시는 것 같아요!\n"
     ]
    },
    {
     "name": "stderr",
     "output_type": "stream",
     "text": [
      "\r 57%|█████▋    | 959/1689 [2:01:11<1:24:09,  6.92s/it]"
     ]
    },
    {
     "name": "stdout",
     "output_type": "stream",
     "text": [
      "959 : 기대 이상으로 좋았던 곳! 화장실 개선만 된다면 더할 나위 없겠어요~\n"
     ]
    },
    {
     "name": "stderr",
     "output_type": "stream",
     "text": [
      "\r 57%|█████▋    | 960/1689 [2:01:16<1:18:42,  6.48s/it]"
     ]
    },
    {
     "name": "stdout",
     "output_type": "stream",
     "text": [
      "960 : 비가 와도 숙소가 좋으니 잘 쉬다가요ㅎ 단점이라고 하면 3월까지 수영장을 이용 못해서 아쉽고, 남자분들 면도기 꼭 챙겨가시고 여자분들 폼클레싱 챙기세요ㅎㅎㅎㅎ\n"
     ]
    },
    {
     "name": "stderr",
     "output_type": "stream",
     "text": [
      "\r 57%|█████▋    | 961/1689 [2:01:18<1:01:07,  5.04s/it]"
     ]
    },
    {
     "name": "stdout",
     "output_type": "stream",
     "text": [
      "961 : 주차할 때 좀 불편해 고, 뭐 그거 빼곤 다 괜찮았어요.\n"
     ]
    },
    {
     "name": "stderr",
     "output_type": "stream",
     "text": [
      "\r 57%|█████▋    | 962/1689 [2:01:25<1:09:29,  5.73s/it]"
     ]
    },
    {
     "name": "stdout",
     "output_type": "stream",
     "text": [
      "962 : 평일 저녁 뷔페에 갔었어요. 아주 솔직하게 말하자면 음식만 따졌을 땐 3.5점이에요. 전반적으로 서비스나 분위기 만족스럽습니다! 6시 초반에 입장이라 그런지는 모르겠지만 음식이 전반적으로 다 차가웠어요ㅠ 그 점이 개선된다면 다음번 기구 때 재방문할 것 같네요. 좋은 경험을 하게 되어 기분 좋았습니다.\n"
     ]
    },
    {
     "name": "stderr",
     "output_type": "stream",
     "text": [
      "\r 57%|█████▋    | 963/1689 [2:01:33<1:18:20,  6.47s/it]"
     ]
    },
    {
     "name": "stdout",
     "output_type": "stream",
     "text": [
      "963 : 직원분들이 친절하시고, 건물에 담배 냄새 같은 건 없어서 좋았습니다. 침구와 수건도 깨끗하게 빨아서 마리 드 보송하고 청결합니다. 스타일러가 있는 것도 좋았네요. 조식도 집밥 같고요. 컵라면, 토스트, 시리얼, 우유, 음료 등이 제공됩니다. 오랜만에 맘에 드는 숙소여서 후기 남깁니다. 번창하세요!\n"
     ]
    },
    {
     "name": "stderr",
     "output_type": "stream",
     "text": [
      "\r 57%|█████▋    | 964/1689 [2:01:59<2:27:11, 12.18s/it]"
     ]
    },
    {
     "name": "stdout",
     "output_type": "stream",
     "text": [
      "964 : 여성 고객을 위협하는 숙소 직원. 숙박 동안 샤워기 고무가 싸가지서 빠지는 상황을 리셉션에 알았는데 숙소의 책임과 확인은 완벽하니 저희가 파손한 거라고 반농팅을 내라고 하네요. 상황을 다 설명했는데도 똑같았습니다. 그러고는 고치지도 않고 그냥 갔습니다. 그 상황이 끝나고 여자친구가 저를 보고 “왜 미친 거 아니야?” 하고 상황에 대해서 이해를 못하는 이약을 하였습니다. 그걸 나가다가 듣고는 자기한테 미쳤다고 한 거냐고 여자친구한테 떠버뜨려고 하는 걸 제가 막았습니다. 이게 맞는 상황인가요? 그래놓고 새벽 2시에 객실로 전화했었는데 미쳤다고 한 거에 대해서 사과하라고 하네요. 이게 숙소에서 할 일인가요? 고장난 부분을 이야기했더니 고쳐주지는 않을 망정 반농팅 내라고 하는 게 미친 상황이 아니면 뭔가요? 따지니까 차라리 고장난 걸 이야기하지 말고 가지 끝났냐고 하네요. 그럼 다음 고객이 피해를 봤겠죠? 기본적으로 숙소로서의 책임이 없습니다. 본인한테 이야기한 것도 아니고 저한테 이야기한 것을 혼자 듣고는 여자친구를 공공적으로 위협받고 사과하라고 하는 게 어이가 없네요. 위험죄가 본인 기분 상하는 것보다 더 잘못된 건지 생각해보시길 바랍니다. 돈 1, 2만원의 문제가 아니라 기분이 나빠서 잠도 제대로 못 잤습니다. 리뷰 정말 잘 안 남기는데 이건 남겨야겠네요.\n"
     ]
    },
    {
     "name": "stderr",
     "output_type": "stream",
     "text": [
      "\r 57%|█████▋    | 965/1689 [2:02:02<1:54:10,  9.46s/it]"
     ]
    },
    {
     "name": "stdout",
     "output_type": "stream",
     "text": [
      "965 : 솔직히 여기 시설 나쁘지 않은데 문제가 빗시름? 주인데도 불규칙하고 방음이 너무 안 돼서 잠을 자기가 힘들어요ㅠ\n"
     ]
    },
    {
     "name": "stderr",
     "output_type": "stream",
     "text": [
      "\r 57%|█████▋    | 966/1689 [2:03:24<6:17:06, 31.30s/it]"
     ]
    },
    {
     "name": "stdout",
     "output_type": "stream",
     "text": [
      "966 : 학과 MT를 여기서 진행했고, 정말 후회합니다. 일단 사장님이 술 마시고 응대합니다. 1. 숙소에 문제가 발생하여 사장님과 논의하고자 말씀드렸는데, 술에 취해 흡연 구역으로 데려가 “형이 이 정도 해줬는데 뭐 더 바라는 게 мана, 너 몇 살이나” 등등 말씀들이 내용과 전혀 관련 없는 이야기로 테러가 “형이 이 정도 해줬는데 뭐 더 바라는 게 мана, 너 몇 살이나” 등등 말씀들이 내용과 전혀 관련 없는 이야기로 테러가 “형이 이 정도 해줬는데 뭐 더 바라는 게 мана, 너 몇 살이나” 등등 말씀들이 내용과 전혀 관련 없는 이야기로 테러가 “형이 이 정도 해줬는데 뭐 더 바라는 게 мана, 너 몇 살이나” 등등 말씀들이 내용과 전혀 관련 없는 이야기로 테러가 “형이 이 정도 해줬는데 뭐 더 바라는 게 мана, 너 몇 살이나” 등등 말씀들이 내용과 전혀 관련 없는 이야기로 테러가 “형이 이 정도 해줬는데 뭐 더 바라는 게 мана, 너 몇 살이나” 등등 말씀들이 내용과 전혀 관련 없는 이야기로 테러가 “형이 이 정도 해줬는데 뭐 더 바라는 게 마냐, 너 몇 살이나” 등등 말씀들이 내용과 전혀 관련 없는 이야기로 테러가 “형이 이 정도 해줬는데 뭐 더 바라는 게 마냐, 너 몇 살이나” 등등 말씀들이 내용과 전혀 관련 없는 이야기로 테러가 “형이 이 정도 해줬는데 뭐 더 바라는 게 마냐, 너 몇 살이나” 등등 말씀들이 내용과 전혀 관련 없는 이야기로 테러가 “형이 이 정도 해줬는데 뭐 더 바라는 게 마냐, 너 몇 살이나” 등등 말씀들이 내용과 전혀 관련 없는 이야기로 테러가 “형이 이 정도 해줬는데 뭐 더 바라는 게 마냐, 너 몇 살이나” 등등 말씀들이 내용과 전혀 관련 없는 이야기로 테러가 “형이 이 정도 해줬는데 뭐 더 바라는 게 마냐, 너 몇 살이나” 등등 말씀들이 내용과 전혀 관련 없는 이야기로 테러가 “형이 이 정도 해줬는데 뭐 더 바라는 게 마냐, 너 몇 살이나” 등등 말씀들이 내용과 전혀 관련 없는 이야기로 테러가 “형이 이 정도 해줬는데 뭐 더 바라는 게 마냐, 너 몇 살이나” 등등 말씀들이 내용과 전혀 관련 없는 이야기로 테러가 “형이 이 정도 해줬는데 뭐 더 바라는 게 마냐, 너 몇 살이나” 등등 말씀들이 내용과 전혀 관련 없는 이야기로 테러가 “형이 이 정도 해줬는데 뭐 더 바라는 게 마냐, 너 몇 살이나” 등등 말씀들이 내용과 전혀 관련 없는 이야기로 테러가 “형이 이 정도 해줬는데 뭐 더 바라는 게 마냐, 너 몇 살이나” 등등 말씀들이 내용과 전혀 관련 없는 이야기로 테러가 “형이 이 정도 해줬는데 뭐 더 바라는 게 마냐, 너 몇 살이나” 등등 말씀들이 내용과 전혀 관련 없는 이야기로 테러가 “형이 이 정도 해줬는데 뭐 더 바라는 게 마냐, 너 몇 살이나” 등등 말씀들이 내용과 전혀 관련 없는 이야기로 테러가 “형이 이 정도 해줬는데 뭐 더 바라는 게 마냐, 너 몇 살이나” 등등 말씀들이 내용과 전혀 관련 없는 이야기로 테러가 “형이 이 정도 해줬는데 뭐 더 바라는 게 마냐, 너 몇 살이나” 등등 말씀들이 내용과 전혀 관련 없는 이야기로 테러가 “형이 이 정도 해줬는데 뭐 더 바라는 게 마냐, 너 몇 살이나” 등등 말씀들이 내용과 전혀 관련 없는 이야기로 테러가 “형이 이 정도 해줬는데 뭐 더 바라는 게 마냐, 너 몇 살이나” 등등 말씀들이 내용과 전혀 관련 없는 이야기로 테러가 “형이 이 정도 해줬는데 뭐 더 바라는 게 마냐, 너 몇 살이나” 등등 말씀들이 내용과 전혀 관련 없는 이야기로 테러가 “형이 이 정도 해줬는데 뭐 더 바라는 게 마냐, 너 몇 살이나” 등등 말씀들이 내용과 전혀 관련 없는 이야기로 테러가 “형이 이 정도 해줬는데 뭐 더 바라는 게 마냐, 너 몇 살이나” 등등 말씀들이 내용과 전혀 관련 없는 이야기로 테러가 “형이 이 정도 해줬는데 뭐 더 바라는 게 마냐, 너 몇 살이나” 등등 말씀들이 내용과 전혀 관련 없는 이야기로 테러가 “형이 이 정도 해줬는데 뭐 더 바라는 게 마냐, 너 몇 살이나” 등등 말씀들이 내용과 전혀 관련 없는 이야기로 테러가 “형이 이 정도 해줬는데 뭐 더 바라는 게 마냐, 너 몇 살이나” 등등 말씀들이 내용과 전혀 관련 없는 이야기로 테러가 “형\n"
     ]
    },
    {
     "name": "stderr",
     "output_type": "stream",
     "text": [
      "\r 57%|█████▋    | 967/1689 [2:03:27<4:34:49, 22.84s/it]"
     ]
    },
    {
     "name": "stdout",
     "output_type": "stream",
     "text": [
      "967 : 리뷰를 보고 고민했는데 겨울이라서 여행지라 여유로운 시간이라 엘리베이터가 힘들지는 않았네요~ 애완견은 못 데려오는 게 아쉽네요.\n"
     ]
    },
    {
     "name": "stderr",
     "output_type": "stream",
     "text": [
      "\r 57%|█████▋    | 968/1689 [2:03:46<4:19:59, 21.64s/it]"
     ]
    },
    {
     "name": "stdout",
     "output_type": "stream",
     "text": [
      "968 : 아, 착일 만실이라고 10분 전에 도착했는데 대기 중 더워서 물 달라고 하니까 물 사서 마시라는 거고, 그래서 사온 커피 마시고 있으니까 마스크 끼라는 거예요. 지금 방 만드는 중인 거 다 알겠고... 2인에 25만 원 넘게 받으면서 물 사서 마시라고 하는 건 진짜 개 핀도 상함. 시설 좋다길래 왔는데 별 잡병성도 없고, 2인이라 올라와서 객실에 물 500ml 두 개 전날은 거 보니까 프런트에서 응대하던 데스크 직원 생각나서 화가 났네요. 진짜 친절까지는 바라지도 않고 그냥 사무적으로나 대하지도 않고 짜증 간신히 참는 얼굴로 응대하는 게 진짜;; 넷플릭스도 안 돼서 프런트에 전화해야 하고~^^ 다른 객실은 돼서 전화했더니 방이 산 방이라서 넷플릭스도 안 된다고 하네요~~~(2인 25만 6천 원) 가우스에 말라붙은 코 딱지 봐라 진짜. 결국 방 옮겼고~~~~\n"
     ]
    },
    {
     "name": "stderr",
     "output_type": "stream",
     "text": [
      "\r 57%|█████▋    | 969/1689 [2:03:52<3:22:22, 16.86s/it]"
     ]
    },
    {
     "name": "stdout",
     "output_type": "stream",
     "text": [
      "969 : 방이 깔끔하고 넓으며 뷰도 좋아요! 룸서비스로 풀투 풀드 샌드위치랑 가루본나락 파스타를 시켰는데, 시전빵과 감자튀김, 샐러드도 같이 줘서 양이 엄청 많았네요 ㅎㅎ\n"
     ]
    },
    {
     "name": "stderr",
     "output_type": "stream",
     "text": [
      "\r 57%|█████▋    | 970/1689 [2:03:54<2:28:23, 12.38s/it]"
     ]
    },
    {
     "name": "stdout",
     "output_type": "stream",
     "text": [
      "970 : 개판 레스토랑에서는 곰팡이 쑤리 무슨 수저가 나온다.\n"
     ]
    },
    {
     "name": "stderr",
     "output_type": "stream",
     "text": [
      "\r 57%|█████▋    | 971/1689 [2:04:28<3:46:54, 18.96s/it]"
     ]
    },
    {
     "name": "stdout",
     "output_type": "stream",
     "text": [
      "971 : 부산의 숲이 정말 공감합니다. 전국적인 한파로 누스가취 떠들썩한 한겨울에 보일러는 안 틀어오고 침구류는 “재고 소진”이라 구할 수가 없어 있고 있던 엣드 덩고 겨우 찾네요. 불 불킹에 대한 준비나 관리가 하나도 없는데 최대 인원은 왜 기준 인원보다 더 해서 받냐고 기재해 두시는지 이해할 수가 없습니다. 예약할 때 인원수를 기재하는 건 그 수만큼의 준비를 하기 위해 기재 요청하는 거 아닌가요? 식기부터 슬리퍼 등 모든 준비용품들은 전부 기준 인원 수 만큼만 준비가 되어 있었고 필수적인 부분은 아니라고 생각해 그냥 사용했지만 침구류는 아니지 않나요? 고객센터에 침구를 문의했더니 미리 요청 안 한 고객 다시고, 보일러도 문의했더니 조작을 잘못^^ 해서 안 들어온 거라네요. 화가 나서 아침에 사진 안 찍었었으면 오방 더웠을 뻔 했어요. 사진 보여드리니 그제서야 재조작 후 확인하겠다네요. 그럼 확인도 안 하고 고객 따부터 하는 건지.. 예약 페이지에는 추가 요청 옵션 같은 건 없고 구매 페이지에 세 줄 추가 침구류는 고객센터에 따로 요청해야 하며 재고 소진 가능성 있다 몇 마디 뿐이니!!!! 방문을 백번 전번 말리고 싶지만 혹시 다른 숙소를 못 잡아 이곳을 가셔야 한다면 꼭 예약하자마자 엑스드라 배드 추가 요청하세요 !!!! 그리고 꼭 다른 업체 이용하시길 더 추천드려요. 아무것도 제대로 관리도 응대도 못하는 곳이 체크아웃 시간 11시 01분에 나오라고 바로 초인종은 잘 누르거든요 ㅎㅎ 밤 새도록 고생하고 고객센터는 당당하고 신발장 앞에 썩 있다가 나가는 순간에 초인종까지 ㅎㅎ 돈 내고 고생하고 쫓겨나고 ^^ 그냥 너무 돈 아까웠습니다.\n"
     ]
    },
    {
     "name": "stderr",
     "output_type": "stream",
     "text": [
      "\r 58%|█████▊    | 972/1689 [2:04:30<2:45:52, 13.88s/it]"
     ]
    },
    {
     "name": "stdout",
     "output_type": "stream",
     "text": [
      "972 : 이곳은 좀 아닌 것 같습니다.... 하, 소근 기분. 카카오맵을 보고 갔어야...\n"
     ]
    },
    {
     "name": "stderr",
     "output_type": "stream",
     "text": [
      "\r 58%|█████▊    | 973/1689 [2:04:32<2:03:55, 10.38s/it]"
     ]
    },
    {
     "name": "stdout",
     "output_type": "stream",
     "text": [
      "973 : 지들 잘못으로 사격 올려 놓고 예약한 손님 내쫓은 벌려질 같은 호텔이 없기까요?\n"
     ]
    },
    {
     "name": "stderr",
     "output_type": "stream",
     "text": [
      "\r 58%|█████▊    | 974/1689 [2:04:35<1:35:37,  8.03s/it]"
     ]
    },
    {
     "name": "stdout",
     "output_type": "stream",
     "text": [
      "974 : 뷰가 너무 좋아요! 잘 즐기다 갑니다ㅎㅎ 혼자 오시는 분들한테 추천드리고 싶네요.\n"
     ]
    },
    {
     "name": "stderr",
     "output_type": "stream",
     "text": [
      "\r 58%|█████▊    | 975/1689 [2:04:39<1:19:53,  6.71s/it]"
     ]
    },
    {
     "name": "stdout",
     "output_type": "stream",
     "text": [
      "975 : 조식은 모르겠어요. 객실에 들어왔는데 담배 냄새가 나요. (저는 비흡연자입니다) 화장실 환풍기와 객실 에어컨에서 담배 냄새가 대박입니다.\n"
     ]
    },
    {
     "name": "stderr",
     "output_type": "stream",
     "text": [
      "\r 58%|█████▊    | 976/1689 [2:04:41<1:02:29,  5.26s/it]"
     ]
    },
    {
     "name": "stdout",
     "output_type": "stream",
     "text": [
      "976 : 다음에는 재방문 의사가 없습니다. 평점을 보고 예약했는데 왜 높은지 모르겠네요.\n"
     ]
    },
    {
     "name": "stderr",
     "output_type": "stream",
     "text": [
      "\r 58%|█████▊    | 977/1689 [2:04:51<1:20:31,  6.79s/it]"
     ]
    },
    {
     "name": "stdout",
     "output_type": "stream",
     "text": [
      "977 : 이불도 눅눅하고 누런 얼룩에 진드기가 나올까 봐 밤새 떨지라거린다 잠도 하나도 못 잤네요... 네이버 보니까 평점이 좋던데 솔직히 제 생각엔 관할청에서 위생검사가 나오면 영업 정지당하지 않을까 싶습니다. 복도에 수건하고 베개 커버만 건조대에 말리고 있는 게 이불 매번 외출로 세탁 맡기는 것 같지도 않고요. 이럴 줄 알았으면 새벽에 운전해서 동해 일출 볼걸 돈만 날리고 잠도 설쳐서 더 피곤했네요.\n"
     ]
    },
    {
     "name": "stderr",
     "output_type": "stream",
     "text": [
      "\r 58%|█████▊    | 978/1689 [2:05:17<2:29:26, 12.61s/it]"
     ]
    },
    {
     "name": "stdout",
     "output_type": "stream",
     "text": [
      "978 : 저도 아래의 리뷰들을 보고 적어보겠습니다. 방 크기는 아담하지만 크게 불편하진 않습니다. 냄새는 개인적으로 못 느꼈는데 방음이 좀 거슬립니다. 어메니티는 송도 메리어트랑 같네요. 시중에 팔지 않는 제품인데 폴레스터 향이라가, 품질은 괜찮아요. 침구도 깔끔하고 룸 컨디션은 좋네요. 큰 단점은 입구에서 발렛 체크를 전혀 안 하십니까? 명색이 호텔인데 아무것도 없네요. 손 세정제만 달랑. 같은 메리어트인데 송도는 철저하게 하고 있었는데, 여기는 왜 이런가요? 주차도 대화장이구요. 주차 단열에 자리도 없어서 근처 엘시티 주차장으로 가셔야 한다고 약도 주며 설명하는데 기는 어틀은 분들은 배박 못 찾습니다. 간신히 엘시티 지하 2층에 주차 후에도 게이트 1번 엘리베이터를 타는데 케이트가 4군데라 그 넓은 지하 주차장을 헤매고요. 1층 올라오니 공사 중인지 불꺼진 검은색 로비에... 나가는 문이 이쪽인가, 당황이 연속. 간신히 나왔더니 호텔까지 열심히 걸어가야 하는 상황. 그리고는 주차비 만 원. 뭐니까 이게? 차라리 숙박비 만 원 올리고 주차비를 받지를 말던가, 하지 열심히 기찻기 시키고 짐 들고 걷기 운동 시키고 주차비까지 지불하고? 개선이 필요하네요. 정말.\n"
     ]
    },
    {
     "name": "stderr",
     "output_type": "stream",
     "text": [
      "\r 58%|█████▊    | 979/1689 [2:05:23<2:04:08, 10.49s/it]"
     ]
    },
    {
     "name": "stdout",
     "output_type": "stream",
     "text": [
      "979 : 각요 별점은 0점까지 줄 수 있게 수정이 안 되나요? 더럽고 냄새 난다는 후기를 보고 숙박을 취소하고 환불 요청했으나 환불받지 못했습니다. 전화는 며칠 내내 불통입니다. 인생 최악의 숙소입니다. 이런 경우는 처음입니다. 다들 절대 가지 마세요!!!\n"
     ]
    },
    {
     "name": "stderr",
     "output_type": "stream",
     "text": [
      "\r 58%|█████▊    | 980/1689 [2:05:27<1:43:50,  8.79s/it]"
     ]
    },
    {
     "name": "stdout",
     "output_type": "stream",
     "text": [
      "980 : 우리장 청소 전혀 안 돼서 창문, 방충망에도 먼지가 쌓여서 굳어 있어요. 침구류에서 먼지가 엄청나와서 환기도 안 시키나 봐요. 다른 깨끗한 곳으로 가세요. 다른 곳도 바다 뷰 많습니다.\n"
     ]
    },
    {
     "name": "stderr",
     "output_type": "stream",
     "text": [
      "\r 58%|█████▊    | 981/1689 [2:05:28<1:15:09,  6.37s/it]"
     ]
    },
    {
     "name": "stdout",
     "output_type": "stream",
     "text": [
      "981 : 가성비 좋은 곳 ^^\n"
     ]
    },
    {
     "name": "stderr",
     "output_type": "stream",
     "text": [
      "\r 58%|█████▊    | 982/1689 [2:05:34<1:13:14,  6.22s/it]"
     ]
    },
    {
     "name": "stdout",
     "output_type": "stream",
     "text": [
      "982 : 내부가 생각보다 복잡해서 모르고 가면 헤맬 수 있음. 방 안에서 일출이 이쁘게 잘 보여서 보는 것을 추천. 룸서비스 치킨은 평범. 주변에 생각보다 먹을 게 없음 ㅠ.ㅠ 산책길이 잘 되어 있어서 걷기만 해도 힐링되는 느낌.\n"
     ]
    },
    {
     "name": "stderr",
     "output_type": "stream",
     "text": [
      "\r 58%|█████▊    | 983/1689 [2:05:53<1:58:02, 10.03s/it]"
     ]
    },
    {
     "name": "stdout",
     "output_type": "stream",
     "text": [
      "983 : 코로나 단체가 거상돼서 예약을 취소하려고 전화를 3번이나 했는데, 모든 호텔 직원들이 나 몰라라 시끄럽게 전화 돌리기만 하네요;; 정부 진심 때문에 환불 가능한지 물어보니까, “전화가 안 들린다”, “환불이 안 된다”, “다시 전화 달라” 등등 계속 환불을 미루는 식의 방법을 보여줬어요;; 그리고 제일 최악인 건, 남자 직원 한 명이 통화 중에 너무 불친절하게 전화를 끊어버리네요.. 제가 잘못을 낸 것도 아니고 이성적으로 환불에 대해 여쭤봤는데, “예약자 본인이세요? 아니시면 예약자 본인이랑 통화할게요.”라고 하고 그냥 끊어버리네요;; 기본적인 서비스직 담당자의 태도가 아닌 것 같은데 취소하는 과정 내내 짜증만 나고 다시는 연락도 하기 싫네요^^ 그냥 직원 물갈이 하시던, 그 때도 계속 웃지하시던 그렇게 막 하세요~^^ (절대절대 비추하는 호텔입니다. 내부가 어떤 기본적인 담당자들 마인드부터가 최악이네요;;;;)\n"
     ]
    },
    {
     "name": "stderr",
     "output_type": "stream",
     "text": [
      "\r 58%|█████▊    | 984/1689 [2:05:54<1:27:46,  7.47s/it]"
     ]
    },
    {
     "name": "stdout",
     "output_type": "stream",
     "text": [
      "984 : 역시 어반스테이 서울 지점도 종종 이용하는데 너무 좋아요!\n"
     ]
    },
    {
     "name": "stderr",
     "output_type": "stream",
     "text": [
      "\r 58%|█████▊    | 985/1689 [2:05:58<1:13:46,  6.29s/it]"
     ]
    },
    {
     "name": "stdout",
     "output_type": "stream",
     "text": [
      "985 : 뷰가 너무 예뻐서 밖으로 나가기가 싫었어요 ㅠㅠ 좁을 줄 알았는데 생각보다 넓고 아늑해요! 조식도 챙겨 주고 짱입니다 ღ\n"
     ]
    },
    {
     "name": "stderr",
     "output_type": "stream",
     "text": [
      "\r 58%|█████▊    | 986/1689 [2:06:00<59:53,  5.11s/it]  "
     ]
    },
    {
     "name": "stdout",
     "output_type": "stream",
     "text": [
      "986 : 날씨가 너무 좋아서 탁 트인 바다가 더 잘 느껴지더라고요!! 숙소 잡은 사람으로서 부득합니다~\n"
     ]
    },
    {
     "name": "stderr",
     "output_type": "stream",
     "text": [
      "\r 58%|█████▊    | 987/1689 [2:06:08<1:07:08,  5.74s/it]"
     ]
    },
    {
     "name": "stdout",
     "output_type": "stream",
     "text": [
      "987 : 6층 방 창문을 열고 보이는 풍경입니다. 조식 서비스가 매우 좋은 편입니다. 최대 4인 투숙이 가능한 방에 더블 침대 2개가 놓여져 있는데, 그러다 보니 방이 조금 좁은 느낌이 듭니다. 준성수기인지 성수기인지 모르지만 가격 대비 무난한 것 같아요. 다만, 샤워기 수압이 좀 약해서... 프론트 서비스는 좋습니다.\n"
     ]
    },
    {
     "name": "stderr",
     "output_type": "stream",
     "text": [
      "\r 58%|█████▊    | 988/1689 [2:06:12<1:02:09,  5.32s/it]"
     ]
    },
    {
     "name": "stdout",
     "output_type": "stream",
     "text": [
      "988 : 언제 1박하고 롯데월드에 갔는데 이 호텔이 너무 좋았습니다. 맛도 좋고 좀 비싸긴 하지만 옆에 시장도 있고 도시도 있으며 해운대도 있어서 좋았습니다. -파주 사람 씻습니다.-\n"
     ]
    },
    {
     "name": "stderr",
     "output_type": "stream",
     "text": [
      "\r 59%|█████▊    | 989/1689 [2:06:16<58:41,  5.03s/it]  "
     ]
    },
    {
     "name": "stdout",
     "output_type": "stream",
     "text": [
      "989 : 방음이 안 되긴 해요. 이게 방마다 테라스가 있어서 옆방 사람들이 테라스 나와서 말하는 소리가 너무 잘 들리고, 근데 방 자체는 진짜 넓직하고 좋아요. 인어폰 끼고 혼자 뒹굴거리 붕게 추천.\n"
     ]
    },
    {
     "name": "stderr",
     "output_type": "stream",
     "text": [
      "\r 59%|█████▊    | 990/1689 [2:06:24<1:09:38,  5.98s/it]"
     ]
    },
    {
     "name": "stdout",
     "output_type": "stream",
     "text": [
      "990 : 오늘 체크인을 위해 2시 40분에 리셉션에 도착했습니다. 현재 3시 12분인데 대기 중입니다... 말이 되나요??? 3시 전에 오라고 하든가요. 오랜만에 두 번째 왔는데, 전망은 좋고 그렇지만 체크인 시작부터 짜증이 나네요. 운영 부분은 매우 엉망입니다.. 유성으로 부르는 이름도 안 들리고, 차라리 대기 환면 대기표를 만들어야 할 듯합니다.\n"
     ]
    },
    {
     "name": "stderr",
     "output_type": "stream",
     "text": [
      "\r 59%|█████▊    | 991/1689 [2:06:31<1:12:53,  6.27s/it]"
     ]
    },
    {
     "name": "stdout",
     "output_type": "stream",
     "text": [
      "991 : 아난티 내에 아나록우 다운이라는 곳에서 비디지 에오와 다양한 비디지 레어 구축들을 구경하고 구입할 수 있어서 좋았습니다. 회원권 1억 8천, 숙박 150, 치킨 3, 감자튀김 하나에 20만원. 깔끔하다! 멋진 풀이 있어서 나갈 필요가 없어요.\n"
     ]
    },
    {
     "name": "stderr",
     "output_type": "stream",
     "text": [
      "\r 59%|█████▊    | 992/1689 [2:07:00<2:30:07, 12.92s/it]"
     ]
    },
    {
     "name": "stdout",
     "output_type": "stream",
     "text": [
      "992 : 야놀자에 에어컨이 약하다고 적힌 게시물에 대한 권리 침해 신고가 접수되어 게시 중단되었습니다. 절대 여기는 아니다. 한 건물에 15층에 엘리베이터가 두 개 있고, 그층에서 6층 넘게 숙박 업소이다 보니 엘리베이터 기다리는데 오래 걸립니다. 그리고 숙소 에어컨은 락에 잠긴 것 마냥 온도와 바람 세기 변화가 없다고 보면 됩니다. 터보를 누르면 된다는 프론트 직원의 설명대로 하니 위 하는 소리가 융 하는 소리로 바뀐 것을 알 수 있었습니다. 선풍기 미풍 소리에서 중간 소리로 바뀐 것입니다. 그렇다고 온도가 시원하다거나 바람이 숙소 안을 채워주지는 못합니다. 숙소의 크기는 원룸이며 작아 그 작은 숙소의 방을 시원하게 하지 못합니다. 오후 엘리베이터 시원하게 하는 에어컨보다 성능이 딸려 숙소 방이 더울 수가 있을까요? 혹시 여기 묵으신다면 프론트에서 어때니 스펠엠 키를 받은 다음 나가실 때도 에어컨을 켜놓고 나가시길 바랍니다. 이건 나위 생각이 아닌 프론트 직원에게 직접 들은 방법입니다. 급으로 하수구 냄새는 없었으나 수압이 약합니다. 여기 리뷰 남기는 이유는 내가 느낀 불편함을 야놀자에 게시하였으나 최대한 거르고 걸러서 한 포현도 야놀자에서 차라리에 여기에는 있는 그 사실만을 적어서 리뷰를 남깁니다. 8월 3일 13층에 묵은 사람입니다. 호수도 알려주세요?\n"
     ]
    },
    {
     "name": "stderr",
     "output_type": "stream",
     "text": [
      "\r 59%|█████▉    | 993/1689 [2:07:06<2:05:01, 10.78s/it]"
     ]
    },
    {
     "name": "stdout",
     "output_type": "stream",
     "text": [
      "993 : 다녔던 호텔 중에서 욕실 만족도가 최고입니다. 욕조가 깊고 수압도 세고 배수도 빠릅니다. 신관 지하에 애들 놀이 시설도 좋습니다. 김즈 드라이빙, 풋스빵. 야외 풀은 작은 편입니다. 야외 노천탕은 편안합니다.\n"
     ]
    },
    {
     "name": "stderr",
     "output_type": "stream",
     "text": [
      "\r 59%|█████▉    | 994/1689 [2:07:10<1:42:08,  8.82s/it]"
     ]
    },
    {
     "name": "stdout",
     "output_type": "stream",
     "text": [
      "994 : 옆쪽 오시리아 해안 산책로가 여유롭고 바다도 예뻐서 걷기 좋았어요! '아난티타운'으로 검색해서 오시면 카페나 석점 같은 상가들도 들를 수 있습니다.\n"
     ]
    },
    {
     "name": "stderr",
     "output_type": "stream",
     "text": [
      "\r 59%|█████▉    | 995/1689 [2:07:26<2:06:16, 10.92s/it]"
     ]
    },
    {
     "name": "stdout",
     "output_type": "stream",
     "text": [
      "995 : 슈페리어 더블은 너무 좁고 디럭스 더블은 좀 넓어서 낫지만, 전반적으로 디자인이 올드하다. 주차장 뷰 당첨 시 나무 날 수 있음. 스마트 TV가 갖춰져 있어서 좋음. 조식 뷔페가 좀 아쉽다. 간이 안 된 베이컨(진짜임)과 계란 요리에 쩌크를 못함. ㅡㅡㅡㅡㅡㅡ 또 오게 되었음. 베이컨과 계란에 간이 생김. 다른 디자인의 디럭스 더블에 왔더니 여기도 방이 별로임. 일단 뷰를 기대하긴 어렵고 화장실도 올드한 스타일의 호텔인 듯. 조식은 저번처럼 뭔가 끼긴 없어 흐릿한 인상. 갓 나온 바게트가 맛이 없을 수가 있었다니. 직원들은 친절하다.\n"
     ]
    },
    {
     "name": "stderr",
     "output_type": "stream",
     "text": [
      "\r 59%|█████▉    | 996/1689 [2:07:34<1:58:26, 10.25s/it]"
     ]
    },
    {
     "name": "stdout",
     "output_type": "stream",
     "text": [
      "996 : 학생 때 친구와 추억 하나 남기고 싶어서 부산 여행을 오는데 성수기라 호텔 가격이 어마무시하더라고요ㅠ 그런데 여기 호텔 1은 너무 비싸지 않은 가격에 뷰도 너무 좋고 시설도 너무 깔끔해서 너무 만족하고 있습니다:)!!! 미성년자라서 성류도 준비해오고 새벽에는 1층에 아무도 없어서 사실 좀 걱정됐는데 보안도 너무 철저하고 걱정할 필요가 없겠어요! 또 오겠습니다!\n"
     ]
    },
    {
     "name": "stderr",
     "output_type": "stream",
     "text": [
      "\r 59%|█████▉    | 997/1689 [2:07:45<2:00:32, 10.45s/it]"
     ]
    },
    {
     "name": "stdout",
     "output_type": "stream",
     "text": [
      "997 : 주차장이 너무 좁고 내리는데도 애먹는다. 차 늦게 빼서 아들이 나와서 다른 차 못 들어온다고 빨리 나가라네. 차 빼라는 말도 아니고 빨리 나가 주라네. 자기가 맡겨서. 카운터에 키 맡겨서 오고 가는데도 인사도 없고. 대실 방도 너무 좁다. 가격도 비싸고 조명도 분위기를 다 망치고 화장대 거울도 없고. 드라이기는 습한공지를 해서 찻았다. 방에 공기도 너무 안 좋다. 목이 아파서 가지 말지 알아서 하세요. 후회 없으시길... 참고하시길 바랍니다.\n"
     ]
    },
    {
     "name": "stderr",
     "output_type": "stream",
     "text": [
      "\r 59%|█████▉    | 998/1689 [2:07:49<1:37:24,  8.46s/it]"
     ]
    },
    {
     "name": "stdout",
     "output_type": "stream",
     "text": [
      "998 : 이 가격에 미치지 않는 퀄리티. 방 크기는 매우 작지만 구성 알차고 깨끗함. 특히 바닥이 온돌 바닥!!!!! 진짜.. 한국인을 위한 숙소임!! 가성비 끝판왕\n"
     ]
    },
    {
     "name": "stderr",
     "output_type": "stream",
     "text": [
      "\r 59%|█████▉    | 999/1689 [2:07:53<1:20:30,  7.00s/it]"
     ]
    },
    {
     "name": "stdout",
     "output_type": "stream",
     "text": [
      "999 : 여기 여자 직원분이 관리소 앞에서 빨간 옷 입고 사람들을 대놓고 놀려보며 감시하니 기분 좋게 놀러 온 사람들이 불편할 듯합니다. 특히 아이들에게 좀 부드럽게 말했으면 좋겠어요.\n"
     ]
    },
    {
     "name": "stderr",
     "output_type": "stream",
     "text": [
      "\r 59%|█████▉    | 1000/1689 [2:07:58<1:13:48,  6.43s/it]"
     ]
    },
    {
     "name": "stdout",
     "output_type": "stream",
     "text": [
      "1000 : 부산 여행을 위해 며칠 전부터 계획하면서 알아보던 중 리뷰가 가장 좋은 호텔이어서 한 번 예약하고 써봤더니 생각보다 기대 이상으로 만족하였고, 안내해주시는 분들도 친절하고 좋았어요. 깔끔하고, 재방문 의사가 있습니다.\n"
     ]
    },
    {
     "name": "stderr",
     "output_type": "stream",
     "text": [
      "\r 59%|█████▉    | 1001/1689 [2:08:00<58:48,  5.13s/it]  "
     ]
    },
    {
     "name": "stdout",
     "output_type": "stream",
     "text": [
      "1001 : 더러워~ 피 묻은 이불을 팔고 그냥 두면 어쩌니까!!!!! 지워지지도 않는걸\n"
     ]
    },
    {
     "name": "stderr",
     "output_type": "stream",
     "text": [
      "\r 59%|█████▉    | 1002/1689 [2:08:01<45:11,  3.95s/it]"
     ]
    },
    {
     "name": "stdout",
     "output_type": "stream",
     "text": [
      "1002 : 낡고 좁다. 비스타가 낫다.\n"
     ]
    },
    {
     "name": "stderr",
     "output_type": "stream",
     "text": [
      "\r 59%|█████▉    | 1003/1689 [2:08:03<39:12,  3.43s/it]"
     ]
    },
    {
     "name": "stdout",
     "output_type": "stream",
     "text": [
      "1003 : 친절하고 방도 아주 청결하고 좋아요~~ 춘천도 편리하고요~ 다들 많이 이용하사^^\n"
     ]
    },
    {
     "name": "stderr",
     "output_type": "stream",
     "text": [
      "\r 59%|█████▉    | 1004/1689 [2:08:16<1:09:25,  6.08s/it]"
     ]
    },
    {
     "name": "stdout",
     "output_type": "stream",
     "text": [
      "1004 : 어제부터 총 6박 지내고 있습니다. 2인에서 트윈룸으로 예약을 했는데 1박만 하고 혼자 지낼 거라 퀸베드로 변경해 달라고 했었어요. 그런데 퀸베드룸이 2인이 사용하기엔 동선이 너무 좁더라고요. 그래서 다시 한 번 트윈으로 변경 요청했는데 친절하게 잘 해주셔서 너무 감사했습니다. 정말 가성비 좋은 최고의 (서비스, 지리적으로) 호텔 같아요. 다음에도 서울에 일이 있으면 이곳에서 묵려고요. 단점, 주차가 유료거나 만차일 경우 할 수 없어요. 호텔 근처에 밤에는 무료인 공영 주차장이 있어서 (길거리) 그곳에 주차했어요.\n"
     ]
    },
    {
     "name": "stderr",
     "output_type": "stream",
     "text": [
      "\r 60%|█████▉    | 1005/1689 [2:08:17<53:19,  4.68s/it]  "
     ]
    },
    {
     "name": "stdout",
     "output_type": "stream",
     "text": [
      "1005 : 넓고 테라스가 있어 좋았습니다. 조식도 있습니다.\n"
     ]
    },
    {
     "name": "stderr",
     "output_type": "stream",
     "text": [
      "\r 60%|█████▉    | 1006/1689 [2:08:24<1:01:01,  5.36s/it]"
     ]
    },
    {
     "name": "stdout",
     "output_type": "stream",
     "text": [
      "1006 : 가성비 굿. 이동할 때 접근성이 너무 좋아요. 금도 기준 10초반에 7층 배정이네요 (로비 6층). 스튜디오 기준 욕조는 없습니다. 치약, 칫솔이 없어요. 린스나 컨디셔너도 없고, 샴푸랑 바디워시만 있어요. 참고하세요 (기본 물 2병 제공).\n"
     ]
    },
    {
     "name": "stderr",
     "output_type": "stream",
     "text": [
      "\r 60%|█████▉    | 1007/1689 [2:08:25<46:58,  4.13s/it]  "
     ]
    },
    {
     "name": "stdout",
     "output_type": "stream",
     "text": [
      "1007 : 세미나가 있어서 가봤었는데 생각보다 괜찮았어요.\n"
     ]
    },
    {
     "name": "stderr",
     "output_type": "stream",
     "text": [
      "\r 60%|█████▉    | 1008/1689 [2:08:55<2:14:09, 11.82s/it]"
     ]
    },
    {
     "name": "stdout",
     "output_type": "stream",
     "text": [
      "1008 : 화장실에서 커타란 바퀴가 나왔어요. 카운터에 전화하니 주인분이 작은 거냐고 큰 거냐고 물어시더군요. 큰 거라고 하니 밖에서 들어온 거냐며 더 나올 일 없다고 그냥 묵으라고 하더군요. (화장실에 창도 없고 분명 하수구에서 나온 거던데요...) 방 바꿔달라고 요청했으나 거부당했습니다. 바퀴 잡았다라고 요청하니 남자가 그것도 못 잡냐고 누가 잡은 거냐 하셨어요. 기분도 나쁘고 바퀴 나오는 방에서 못 묵겠다며 환불해달라고 하니, 어주인분이 욕하고 소리지르면서 나가라 하더군요. 환불해달라고 하니, 자기들은 돈 받은 게 없다며 야놀자 가서 따지라고 하더군요. 결국 쫓겨나두심 나왔습니다. 이후 야놀자와 통화해보니, 야놀자는 숙소에서 취소해줘야 돈을 환불해줄 수 있다는데, 호텔 매종에서 거부해서 환불이 불가하다고 하네요. 결론을 말씀드리면 이틀 중 하루도 못 했는데, 이틀 중 하루치 돈도 못 돌려받았습니다. 지역상 모텔 이용을 많이 하여 5년 넘게 여기저기 다녔는데, 솔직히 이런 숙소는 처음 봅니다. 바퀴 나온 게 왜 본인들 잘못이라고... (뇨질한 바위도 있습니다. 숙소에 묵으려는 분들에게 꼭 보내드리고 싶네요. 하합...) 결론은 바퀴가 나와도 컴플레인 안 걸 자신 있는 분들이 아니라면 안 가시는 걸 추천드립니다. 그래도 꼭 묵으셔야겠다면 숙박업소 낮은 평가수 별점 후기나 네이버 리뷰 꼭 보고 가세요.\n"
     ]
    },
    {
     "name": "stderr",
     "output_type": "stream",
     "text": [
      "\r 60%|█████▉    | 1009/1689 [2:08:58<1:44:39,  9.24s/it]"
     ]
    },
    {
     "name": "stdout",
     "output_type": "stream",
     "text": [
      "1009 : 깨끗하고 친절합니다. 주변도 좋고 1층 편의점이 있습니다. 주차 지원도 해주고 잘 쉬다 왔습니다. 개배까지도 걸어갈 만 합니다.\n"
     ]
    },
    {
     "name": "stderr",
     "output_type": "stream",
     "text": [
      "\r 60%|█████▉    | 1010/1689 [2:08:59<1:16:39,  6.77s/it]"
     ]
    },
    {
     "name": "stdout",
     "output_type": "stream",
     "text": [
      "1010 : 바다 뷰 엄청 예뻐요 !!\n"
     ]
    },
    {
     "name": "stderr",
     "output_type": "stream",
     "text": [
      "\r 60%|█████▉    | 1011/1689 [2:09:03<1:08:16,  6.04s/it]"
     ]
    },
    {
     "name": "stdout",
     "output_type": "stream",
     "text": [
      "1011 : 부산역이랑 이어진다는 점이 가장 큰 장점이지만 만냥 가깝지 않아요. 10분은 걸어야 하고, 신축이라 깨끗하고 좋았는데 아래 분처럼 정말 찾아가는 게 너무 복잡하고 불편해요.\n"
     ]
    },
    {
     "name": "stderr",
     "output_type": "stream",
     "text": [
      "\r 60%|█████▉    | 1012/1689 [2:09:27<2:05:43, 11.14s/it]"
     ]
    },
    {
     "name": "stdout",
     "output_type": "stream",
     "text": [
      "1012 : 이번에 오픈하자마자 다녀왔어요.   좋은 점   1. 객실 관리 상태가 좋습니다.   2. 직원분들 당연히 친절하고요.   3. 주변 먹거리도 굉장히 많습니다. (서면 먹자골목, 만치길 바로 코앞이고, 거리가 약간 있는 문화양고장까지 걸어서 8분, 전리단길까지도 걸어서 8분)   4. 다음부터는 대중교통 이용하려고요^^ (밑에) 서면역 12번 출구에서는 도보 2~3분, 부전지하상가 2번에서 오면 바로 입구입니다.   5. 첵보스로 필요한 요청사항을 접수했더니 편리했습니다.    단점   1. 건물 내 주차장 직원이 굉장히 불친절합니다.   2. SUV는 건물 주차장이 아닌 외부 유료 주차장에 주차하세요.    맛집   1. 전리단길에 오드맨션 고기집 완전 \"강추\" 합니다.   2. 호텔 바로 앞 거인통닭 괜찮고요.   3. 호텔 바로 옆 공레실 치개 밥상 동대당 추천이에요.   4. 호텔 바로 앞 이리시호주엔 \"전고과 치즈 크라탕\" 최고입니다.\n"
     ]
    },
    {
     "name": "stderr",
     "output_type": "stream",
     "text": [
      "\r 60%|█████▉    | 1013/1689 [2:09:30<1:40:27,  8.92s/it]"
     ]
    },
    {
     "name": "stdout",
     "output_type": "stream",
     "text": [
      "1013 : 효화 & 최고급 서비스를 뽐팡하지만 퀄리티 완성도가 비용만큼 비례하여 좋지는 글쎄... 시장 자체도 넓지 않고, 확 아름답다 느껴지진 않음.\n"
     ]
    },
    {
     "name": "stderr",
     "output_type": "stream",
     "text": [
      "\r 60%|██████    | 1014/1689 [2:09:34<1:23:06,  7.39s/it]"
     ]
    },
    {
     "name": "stdout",
     "output_type": "stream",
     "text": [
      "1014 : 객실 정비가 잘 되지 않았습니다. 리넨에 구멍이 나 있고, 욕실에 머리카락이 붙어 있으며, 창가에 먼지가 있습니다... 숙소는 청결이 중요하므로 재방문 의사는 없습니다.\n"
     ]
    },
    {
     "name": "stderr",
     "output_type": "stream",
     "text": [
      "\r 60%|██████    | 1015/1689 [2:09:45<1:36:10,  8.56s/it]"
     ]
    },
    {
     "name": "stdout",
     "output_type": "stream",
     "text": [
      "1015 : 1. 비상벨일 20분 넘게 울렸음에도 별도 안내 방송이 없고, 로비로 내려가 물어봐도 상황 파악 중이라는 답변만 받았습니다. 이후 오작동 확인 후에도 안내 방송이 없었습니다.   2. 애프터눈을 두고 가서 체크아웃 한 지 두 시간 정도 이후 전화했는데 들어온 물건이 없다고 합니다. 룸 안에 CCTV도 없는데 자기들이 CCTV를 봤는데 특이사항이 없으니 참고하라는 답변만 반복합니다. 캐리어를 다 뒤져봤고 두고 온 거 확실한데 말로만 없다고 하고, 찾아봤는지 물어신지 모르겠네요.\n"
     ]
    },
    {
     "name": "stderr",
     "output_type": "stream",
     "text": [
      "\r 60%|██████    | 1016/1689 [2:09:49<1:18:49,  7.03s/it]"
     ]
    },
    {
     "name": "stdout",
     "output_type": "stream",
     "text": [
      "1016 : 정말 깨끗하고 모던합니다. 무엇보다 뷰가 좋아요. 해 질 때의 석양이 너무나 훌륭합니다. 대학로와 가까워서 걸어서 공연 보러 가기 좋았어요.\n"
     ]
    },
    {
     "name": "stderr",
     "output_type": "stream",
     "text": [
      "\r 60%|██████    | 1017/1689 [2:09:59<1:29:58,  8.03s/it]"
     ]
    },
    {
     "name": "stdout",
     "output_type": "stream",
     "text": [
      "1017 : 전날 부산역 라마다에 묵었습니다. 부산역 라마다도 노후한 편이였다고 생각했는데, 이곳에 오고 나니 라마다가 그리더라고요. 가격 차이도 이만원 정도였는데… 라마다 가세요. 호텔과 모텔의 차이라고 생각하시면 될 것 같아요. 라마다는 노후한 호텔이라면 이곳은 호텔 느낌입니다. 벽지, 화장실, 커튼, 드라이기 등등 물품이 얼룩져 있고, 이불에서는 소도가 냄새나고 침대도 그냥 그렇고, 하여튼 좀 더 돈 주고 이름 있는 호텔 가세요.\n"
     ]
    },
    {
     "name": "stderr",
     "output_type": "stream",
     "text": [
      "\r 60%|██████    | 1018/1689 [2:10:02<1:10:44,  6.33s/it]"
     ]
    },
    {
     "name": "stdout",
     "output_type": "stream",
     "text": [
      "1018 : 방이 개좁음, 주차는 바로 옆에 있어서 괜찮음. 라운지 바 굿, 침대도 괜찮음.\n"
     ]
    },
    {
     "name": "stderr",
     "output_type": "stream",
     "text": [
      "\r 60%|██████    | 1019/1689 [2:10:05<59:30,  5.33s/it]  "
     ]
    },
    {
     "name": "stdout",
     "output_type": "stream",
     "text": [
      "1019 : 깨끗하고 침구가 좋아요. 통창 뷰라 사진 찍기도 좋고, 깔끔하고 신축인 듯...? 청소 상태도 마음에 들었어요.\n"
     ]
    },
    {
     "name": "stderr",
     "output_type": "stream",
     "text": [
      "\r 60%|██████    | 1020/1689 [2:10:05<44:18,  3.97s/it]"
     ]
    },
    {
     "name": "stdout",
     "output_type": "stream",
     "text": [
      "1020 : 올디스 버 굿티스\n"
     ]
    },
    {
     "name": "stderr",
     "output_type": "stream",
     "text": [
      "\r 60%|██████    | 1021/1689 [2:10:09<41:52,  3.76s/it]"
     ]
    },
    {
     "name": "stdout",
     "output_type": "stream",
     "text": [
      "1021 : 너무나도 멋진 오션뷰와 깔끔한 실내가 너무 좋았습니다. 6층이라 조식도 문 앞에 가져다 편리하고 맛있게 먹었습니다.\n"
     ]
    },
    {
     "name": "stderr",
     "output_type": "stream",
     "text": [
      "\r 61%|██████    | 1022/1689 [2:10:13<43:56,  3.95s/it]"
     ]
    },
    {
     "name": "stdout",
     "output_type": "stream",
     "text": [
      "1022 : 위치가 너무 좋습니다. 전망에서 봐서도 알 수 있겠지만… 해운대 바로 앞이라 산책하기도 좋고 물놀이 하기에도 좋았어요ㅎㅎ 지하철이 가까워서 뚜벅이들도 추천!\n"
     ]
    },
    {
     "name": "stderr",
     "output_type": "stream",
     "text": [
      "\r 61%|██████    | 1023/1689 [2:10:19<51:45,  4.66s/it]"
     ]
    },
    {
     "name": "stdout",
     "output_type": "stream",
     "text": [
      "1023 : 프리즈에서 라운지 이용 포함 특가를 구매해서 6월에 방문했습니다. 구매했을 때 시보다 라운지 이용 시간이 줄었들고, 조식 선택 메뉴가 줄어든 건 슬퍼지만 정말 메뉴가 너무 맛있었구...!!! 호텔이 예쁘고 청결해서 또 들르고 싶어요. 수영장은 생각보다 작습니다.\n"
     ]
    },
    {
     "name": "stderr",
     "output_type": "stream",
     "text": [
      "\r 61%|██████    | 1024/1689 [2:10:22<44:10,  3.99s/it]"
     ]
    },
    {
     "name": "stdout",
     "output_type": "stream",
     "text": [
      "1024 : 객실이 저렴하고 깔끔해서 잘 쉬다 갑니다. 헬스장도 있고 조식도 나쁘지 않아요.\n"
     ]
    },
    {
     "name": "stderr",
     "output_type": "stream",
     "text": [
      "\r 61%|██████    | 1025/1689 [2:10:24<39:15,  3.55s/it]"
     ]
    },
    {
     "name": "stdout",
     "output_type": "stream",
     "text": [
      "1025 : 가성비가 갑! 깨끗해요. 친절해요. 8시에 왔는데 매점이 닫았어요. ㅠㅠ\n"
     ]
    },
    {
     "name": "stderr",
     "output_type": "stream",
     "text": [
      "\r 61%|██████    | 1026/1689 [2:10:32<54:02,  4.89s/it]"
     ]
    },
    {
     "name": "stdout",
     "output_type": "stream",
     "text": [
      "1026 : 여기가 호텔이면 여관도 호텔이다. 적어도 여관에는 각 티슈랑 옷걸이는 있겠지? 에어컨 더럽고 덥게는 피져 나오고 트윈룸의 침대 매트리스 종류가 다른 게 고미티인데 여자비 둘 다 싸구려라 등의 쓰신다. 샤워부스 하수구에 물이 빨리 안 빠지고 현관 타일은 청소를 언제 한 건지 슬리퍼에서 척척 소리가 난다.\n"
     ]
    },
    {
     "name": "stderr",
     "output_type": "stream",
     "text": [
      "\r 61%|██████    | 1027/1689 [2:10:35<46:27,  4.21s/it]"
     ]
    },
    {
     "name": "stdout",
     "output_type": "stream",
     "text": [
      "1027 : 부산에 놀러 와서 해운대가 코앞이라 너무 편했어요. 방도 깨끗하고 시설들도 깔끔해서 편하게 이용했습니다^^\n"
     ]
    },
    {
     "name": "stderr",
     "output_type": "stream",
     "text": [
      "\r 61%|██████    | 1028/1689 [2:10:48<1:17:18,  7.02s/it]"
     ]
    },
    {
     "name": "stdout",
     "output_type": "stream",
     "text": [
      "1028 : 일반 모텔보다 깔끔하고 세련된 외관, 그 느낌이면 그 남매지도 잘 관리되리라 믿음으로 선택했는데 화이트 실내 느낌은 역시 사진바리구요. 액자와 아기자기한 소품이 없어요ㅠ 난방이 전혀 안 되어 실내보금 입고 자도 냉기가~~ 믿음이 betrayed가 되었어요. 중앙 난방이라 어느 정도는 될 줄 알았는데 0% 난방이 웬 말? 후기에 난방 문제가 제기되도 이 겨울에 설마했는데, 이것이 반복되면 아무리 관광지라도 더 큰 발전은 힘들듯 비바니라기보다 세심히 관리해서 좋은 이미지로 한층 더 발전하시길 바랍니다. 두 동을 관리하는데 야간에는 애로를 상담해줄 직원도 없고~\n"
     ]
    },
    {
     "name": "stderr",
     "output_type": "stream",
     "text": [
      "\r 61%|██████    | 1029/1689 [2:10:58<1:26:21,  7.85s/it]"
     ]
    },
    {
     "name": "stdout",
     "output_type": "stream",
     "text": [
      "1029 : 렌즈대 최악.. 어린아이들 수학여행+동대문에 물건 때려 온 타이크 숙소 정도로 생각하면 될 듯.. 싼맛이에 단체로 온 손님들이 너무 시끄러운데 방음이 너무 안 됩니다. 청소 상태는 정말 너무너무 심각했다.. 바닥은 호텔 건리 다시 겨우 한 번 청소한 듯 어마어마한 먼지들이 쌓여있었다. 그럼 서비스라도 좋을 것이지 직원들은 컴플레인하거나 뭐 물어보면 일일 알바처럼 물어보만 날받 ㅋㅋ 아옴\n"
     ]
    },
    {
     "name": "stderr",
     "output_type": "stream",
     "text": [
      "\r 61%|██████    | 1030/1689 [2:11:01<1:08:45,  6.26s/it]"
     ]
    },
    {
     "name": "stdout",
     "output_type": "stream",
     "text": [
      "1030 : 엄마랑 함께 수영을 받았는데 선생님도 친절하시고 너무 재밌고 즐거운 시간이었습니다. 감사합니다~~^^\n"
     ]
    },
    {
     "name": "stderr",
     "output_type": "stream",
     "text": [
      "\r 61%|██████    | 1031/1689 [2:11:03<56:42,  5.17s/it]  "
     ]
    },
    {
     "name": "stdout",
     "output_type": "stream",
     "text": [
      "1031 : 바다뷰라고 하기엔 애매해요. 하지만 부산역에서 접근성은 아주 가까워서 좋아요! 입구 찾는 게 어려워요...\n"
     ]
    },
    {
     "name": "stderr",
     "output_type": "stream",
     "text": [
      "\r 61%|██████    | 1032/1689 [2:11:04<42:46,  3.91s/it]"
     ]
    },
    {
     "name": "stdout",
     "output_type": "stream",
     "text": [
      "1032 : 자고 고급스러운 부티크형 호텔\n"
     ]
    },
    {
     "name": "stderr",
     "output_type": "stream",
     "text": [
      "\r 61%|██████    | 1033/1689 [2:11:06<33:49,  3.09s/it]"
     ]
    },
    {
     "name": "stdout",
     "output_type": "stream",
     "text": [
      "1033 : 뷰와 시설은 좋으나 숙면을 위한 호텔은 아닙니다.\n"
     ]
    },
    {
     "name": "stderr",
     "output_type": "stream",
     "text": [
      "\r 61%|██████    | 1034/1689 [2:11:15<54:07,  4.96s/it]"
     ]
    },
    {
     "name": "stdout",
     "output_type": "stream",
     "text": [
      "1034 : 여행하면서 이런 호텔은 처음이었어요. 신라호텔과 신라스테이도 여러 번 이용해 보았지만, 강남에 이렇게 엉망인 시스템으로 신라에서 오픈할 줄은 꿈에도 몰랐네요. 가까운 곳에서 가족끼리 호캉스를 위해 객실을 두 개나 예약해서 갔는데, 아이들이 놀았을 정도예요. 직원분들 놀러가시는 점은 알았으나, 대기업에서 그것도 극저층 비즈니스 층심 지역에서 이러면 저는 국민으로서도 부끄럽다는 생각을 안 할 수 없었습니다.\n"
     ]
    },
    {
     "name": "stderr",
     "output_type": "stream",
     "text": [
      "\r 61%|██████▏   | 1035/1689 [2:11:16<41:45,  3.83s/it]"
     ]
    },
    {
     "name": "stdout",
     "output_type": "stream",
     "text": [
      "1035 : 유튜브에 검색하세요 하운드 호텔 기장\n"
     ]
    },
    {
     "name": "stderr",
     "output_type": "stream",
     "text": [
      "\r 61%|██████▏   | 1036/1689 [2:11:18<34:34,  3.18s/it]"
     ]
    },
    {
     "name": "stdout",
     "output_type": "stream",
     "text": [
      "1036 : 1층에서부터 인상해 주고 서비스가 들림ㅋㅋ 굳\n"
     ]
    },
    {
     "name": "stderr",
     "output_type": "stream",
     "text": [
      "\r 61%|██████▏   | 1037/1689 [2:11:20<31:45,  2.92s/it]"
     ]
    },
    {
     "name": "stdout",
     "output_type": "stream",
     "text": [
      "1037 : 모든 것에 만족이에요! 수영장, 바베큐 시설, 침실, 조식, 화장실 다 좋아요!\n"
     ]
    },
    {
     "name": "stderr",
     "output_type": "stream",
     "text": [
      "\r 61%|██████▏   | 1038/1689 [2:11:21<24:51,  2.29s/it]"
     ]
    },
    {
     "name": "stdout",
     "output_type": "stream",
     "text": [
      "1038 : 오픈 축하드립니다!!\n"
     ]
    },
    {
     "name": "stderr",
     "output_type": "stream",
     "text": [
      "\r 62%|██████▏   | 1039/1689 [2:11:22<22:22,  2.07s/it]"
     ]
    },
    {
     "name": "stdout",
     "output_type": "stream",
     "text": [
      "1039 : 두 번째인데 너무 좋네요. 다음에 또 올 겁니다!! ‘ㅅ’\n"
     ]
    },
    {
     "name": "stderr",
     "output_type": "stream",
     "text": [
      "\r 62%|██████▏   | 1040/1689 [2:11:27<28:56,  2.68s/it]"
     ]
    },
    {
     "name": "stdout",
     "output_type": "stream",
     "text": [
      "1040 : 방은 작지만 리조트라 취사 도구가 다 있어 깨끗하고 저렴하며 4인 가족이 이용하기에는 부담 없이 좋은 방인 것 같습니다. 다음번 부산 여행도 꼭 들러보도록 하겠습니다~~\n"
     ]
    },
    {
     "name": "stderr",
     "output_type": "stream",
     "text": [
      "\r 62%|██████▏   | 1041/1689 [2:11:34<43:18,  4.01s/it]"
     ]
    },
    {
     "name": "stdout",
     "output_type": "stream",
     "text": [
      "1041 : 18층에는 해운대 전망을 감상하며 미니풀에서 다양한 음료를 즐길 수 있는 루프탑 바가 있다. 총 407개의 객실을 운영하고 있는 4성급 호텔이다. 해운대 해수욕장 옆 최적의 위치에 위치해 있고, 가격 대비 전망도 시설도 무난하다.( 사진 - 호텔 전경 & 내부 전경. 야경 )\n"
     ]
    },
    {
     "name": "stderr",
     "output_type": "stream",
     "text": [
      "\r 62%|██████▏   | 1042/1689 [2:11:44<1:02:04,  5.76s/it]"
     ]
    },
    {
     "name": "stdout",
     "output_type": "stream",
     "text": [
      "1042 : 지금까지 가본 호텔 중 제일 트렌디하고 색감이 이쁜 호텔이었어요! 청결함은 물론 요즘 살살한 날씨에 맞춘 인피니티 풀의 따뜻한 물 온도까지! 작은 거 하나에도 놓치지 않고 신경 쓰는 호텔이라 느껴져 너무 만족스러웠습니다! 더블열 인피니티 풀에서 보는 오션뷰와 감성 넘치는 인테리어는 매해 기억날 것 같아요! 이번 가을 잊지 못할 좋은 경험을 할 수 있었던 호텔이었습니다! 부산 송정에 놀러 오실 분들에게 강추하는 호텔입니다.\n"
     ]
    },
    {
     "name": "stderr",
     "output_type": "stream",
     "text": [
      "\r 62%|██████▏   | 1043/1689 [2:11:49<1:01:22,  5.70s/it]"
     ]
    },
    {
     "name": "stdout",
     "output_type": "stream",
     "text": [
      "1043 : 편히 쉬고 갑니다. 우연한 기회로 묶게 되었지만, 편히 쉰 하루 정말 편히 쉬게 해준 하루였습니다. 매니저님의 친절함과 감성 있는 로비, 숙소 다 좋았습니다. 다음에도 볼 수 있도록 하지요. 감사했습니다. 수고 하십시요.\n"
     ]
    },
    {
     "name": "stderr",
     "output_type": "stream",
     "text": [
      "\r 62%|██████▏   | 1044/1689 [2:11:55<1:02:44,  5.84s/it]"
     ]
    },
    {
     "name": "stdout",
     "output_type": "stream",
     "text": [
      "1044 : 우선 통유리로 되어 있어서 낮부터 밤까지 야경을 한눈에 볼 수 있다는 게 너무 좋았어요. 거기다가 안에는 흰색 + 대리석 인테리어로 되어 있어서 친구랑 안에서 사진도 예쁘게 찍었답니다! 청결부터 보안까지 흠잡을 것 없이 너무나 만족스러웠습니다 ㅎㅎ\n"
     ]
    },
    {
     "name": "stderr",
     "output_type": "stream",
     "text": [
      "\r 62%|██████▏   | 1045/1689 [2:12:00<58:47,  5.48s/it]  "
     ]
    },
    {
     "name": "stdout",
     "output_type": "stream",
     "text": [
      "1045 : 너무너무 뷰가 예쁘고 방도 너무 예뻤어요. 대리석으로 덮여 있어서 고급스러운 느낌도 들고, 전망을 바라보면 시간 가는 줄도 모르겠어요! 부산 여행 와서 숙소는 정말 최고의 선택이었습니다.\n"
     ]
    },
    {
     "name": "stderr",
     "output_type": "stream",
     "text": [
      "\r 62%|██████▏   | 1046/1689 [2:12:46<3:08:25, 17.58s/it]"
     ]
    },
    {
     "name": "stdout",
     "output_type": "stream",
     "text": [
      "1046 : 밤 시간은 무조건산이네요. 옆뒤는 낮 시간부터 알아봤어야 하는데 아저씨 두 명과 초딩 아들이 왔더라고요. 그런데 민중가요를 좀 큰 소리로 틀어놔서 벌상치 않다는 느낌을 받았죠. 저도 소심적으로 신조이나 종로 등지에서 집회 열심히 참여하고 그랬는데 ㅋ 민중가요 듣는 것과 그 사람의 웨티켓은 전혀 상관없게 하는 거죠? ㅠㅠ 제 자신을 돌아보게 되고 가지곤 혼동이네요. 사건이 발생하는 관리자가 밤 시간 이후 퇴근해버린 데 있습니다. 캠퍼끼리 조용히 하고 다음에 말하는 순간 경험상 사우스로 변질되거나 술에 취하여 민중의 목소리도 안 되는 어른 부부니기 때문이죠. 왜 문제 체크를 안 했냐고요? 저를 포함해 다수의 캠퍼들은 미친 개를 싫어하기 때문이죠. 미친 개는 미친 짖도 모르고 으르렁거리면서 간혹 미친 척하면 물어뜯을 수 있다는 것을 우리들은 잘 알기 때문이죠. 같이 물어뜯고짝 하는 캠퍼는 대부분 없이 때문이죠. 새벽 12시 넘어 일행들끼리 말싸음 소리하고 (욕 대박) 새벽 4시 넘어가지 다른 팀이랑 붙어서 큰 소리로 떠들고 새벽 4시 넘어서 술을 잊지 못하는 아저씨는 비명소리를 계속 끊임없이 아주 큰 소리, 거의 아주 흥분했을 때 일 넓에 한 번 정도 내는 데 싶었다 소리로 두 시간 계속 ㅠㅠ 새벽 6시 넘어 그 아저씨는 벌써 기상하고 큰 소리로 말하고 떠들고 ㅠㅠ 옆에 있던 다른 팀에서 해도 해도 너무하다고 새벽 6시 넘어 잠다 잠다 이야기하시네요. 그런데 더 안 좋았던 건 평상시도 그러는지 술에 취해서 그러는지 욕을 너무 많이 섞는 그 아저씨 두 사람 때문에 샤워할 때 기를 잘 세척해야겠네요. 장비한가 9시 이전에 짐 빼네요 ㅋ 밤 시간 관리자가 보완 안 될 때까지 절대 가지 마세요. 캠핑 8년 차 최악 캠핑에 등극 ㅠㅠ 에티켓 좋은 99%的 캠퍼들에게 제가 다 죄송하네요. 저희 초딩 아들 보기도 민망하고 그 아저씨네 초딩 아들도 불쾌하네요. 역시 우리는 감독관이 필요하나 봅니다. 아니면 그런 1%的 불른들에게 많은 캠핑 경험을 가지기까지 인내하며 기다려주기? 많은 생각을 갖게 하는 캠핑이네요. 특히 민중가요 ㅠㅠ\n"
     ]
    },
    {
     "name": "stderr",
     "output_type": "stream",
     "text": [
      "\r 62%|██████▏   | 1047/1689 [2:13:35<4:51:31, 27.25s/it]"
     ]
    },
    {
     "name": "stdout",
     "output_type": "stream",
     "text": [
      "1047 : 실제 3점입니다. 굳이 새로 생긴 데에 별점을 낮게 하고 싶지 않고, 개선이 여지가 많다고 생각합니다. 작성 기준 앱사이트에 기재되지 않은 부분 말씀드립니다.   1. 건물 4층이고 엘리베이터 없어요…^^ 미리 알려주셨다면 마음의 준비를 하고 갔을 텐데..  2. 세탁기, 건조기 룸 옆에 묵으면 소음이 납니다. 전 누군가 파티하고 있는 줄 알았네요.  3. 바다를 프라이빗하게 쓸 수 있지만 다른 시간으로 보면 정말 아무것도 없어요. 펜션들만 즐비한 작은 해변 마을(?)이에요. 휑하고 폐쇄적입니다. 맹그로브만 반짝반짝>< 하고 있는 느낌. 옆 해변 동네들은 번화한데 걸어가기 조금 멀니다. (특히 야야친) 먹을 것을 좀 준비해 오시는 게 좋을 거예요. 정말 아무것도 없어서 좋게 말해서 remote/private이지.. 수영하다가 위험에 처하면 구해줄 사람 없습니다. 조심하세요. 어느 국간에 가자길 확 기억집니다.  4. 맹그로브에서 promote하는 자전거 데이트길도 딱 이 해변에만 있습니다.  5. 부엌 시설 더 자세히 적어주셨으면 좋았겠네요. 경트러리가 없는 줄 알고 챙겨왔는데 다 있었어요. 올리브유만 빼고 간장, 식용유, 소금, 심지어 캐쪼까까지 있습니다.  6. 부엌 공용 공간에 미팅하시는 분들이 털어 있습니다..(왜?) 9시 이전엔 부엌이 엄청나게 혼잡합니다. 참고.  7. 화장실 구비된 사항도 외에 부첨되어 알려드립니다. 슬리퍼와 치약은 없고, 샴푸, 컨디셔너, 바디워시는 있어요.  8. 물 담아갈 수 있는 보온병도 수량은 적은 건지 제가 있을 땐 하나도 없었습니다. 정수기가 부엌에만 있어서 방에서 왔다 갔다 하기 싫으시고 물 많이 드시는 분들이라면 물 사가세요. 아니면 개인 텀블러 지참.  9. 해변 모래알인 고지 않고 조개껍질도 많아서 조리 필수예요.  10. 정말 어쩔 수 없는 부분이지만, 밤에 벌레가 많아요. 제 방에는 파서생도 오셔셨네요^^   최대 장점 - 바다. 역시 자연이 최고네요. 총평 - 나는 완전히 고립되어 일하고 바다만 보겠다 하시는 분들에게 추천. 그냥 휴가로써 오는 건 비추. 현재 시점으로 실제 경험과 사용 대비하여 프랜딩/마케팅이 광고하게, heavy하게 느껴집니다. 낭만화가 너무 되어 있다고 생각합니다. 약간 glorified dorm room 같은 느낌도 있어요. Hype의 관독이가 지나면 공간이 안정적인 면모도 보일 거란 생각됩니다.\n"
     ]
    },
    {
     "name": "stderr",
     "output_type": "stream",
     "text": [
      "\r 62%|██████▏   | 1048/1689 [2:13:45<3:53:34, 21.86s/it]"
     ]
    },
    {
     "name": "stdout",
     "output_type": "stream",
     "text": [
      "1048 : 부산 해운대에 놀러왔는데 해운대 맞짇이랑의 거리도 엄청 가깝어요. 그나마는 걸어서 1분! 바닷가랑은 걸어서 3분이더라고요! 너무 좋았어요. 지하철도 너무 가깝고 시외버스터미널도 너무 가깝더라고요! 해운대 숙박업소는 가격에 비해 너무 저렴하고 사장님도 너무 친절하셔서 기분 좋게 자고 왔어요! 재방문의사 100%입니다!\n"
     ]
    },
    {
     "name": "stderr",
     "output_type": "stream",
     "text": [
      "\r 62%|██████▏   | 1049/1689 [2:13:48<2:54:54, 16.40s/it]"
     ]
    },
    {
     "name": "stdout",
     "output_type": "stream",
     "text": [
      "1049 : 정말 최고였어요! 뷰가 빵빵해요~ 조식도 끝내주고요. 자전거도 무료 대여, 수영장 물도 따뜻해서 2일을 이용했어요.\n"
     ]
    },
    {
     "name": "stderr",
     "output_type": "stream",
     "text": [
      "\r 62%|██████▏   | 1050/1689 [2:13:50<2:07:13, 11.95s/it]"
     ]
    },
    {
     "name": "stdout",
     "output_type": "stream",
     "text": [
      "1050 : 결혼식 뷔페 맛있 특히 아이스크림의 패미당 느낌\n"
     ]
    },
    {
     "name": "stderr",
     "output_type": "stream",
     "text": [
      "\r 62%|██████▏   | 1051/1689 [2:14:23<3:14:34, 18.30s/it]"
     ]
    },
    {
     "name": "stdout",
     "output_type": "stream",
     "text": [
      "1051 : 토난 사고를 텐스로지 않게 여기는 4성 호텔  해당 호텔 웨딩홀에서 동생 결혼식이 있어 전날 부모님과 함께 숙박함. 식 신작 전에 짐을 배려고 오라하니 체크아웃 전임에도 불구하고 청소를 하고 있음. 부모님이 핫캐 선택용으로 나눠주려고 했던 덕이 없어져서 물어보니 체크아웃한 줄 알고 벌었다고 찾아오겠다 함. 해당 하우스키퍼가 장을러 간 사이 다른 하우스키퍼가 오더니 떡 이불을 건네주며 자기가 가져간 것은 이게 전부라고 함. 따로 넣어 놓은 봉투에 소분하여 하우스키퍼들이 나눠 가져간 상황이었음. 이후 지배인이 와서 “이해갈 까지 않는 상황이건 맞지만 단순한 직원의 실수이다”라는 식으로 대답하지 않게 말함. 이후 데스크에 가서 항의하니 항의 직원 교육을 똑바로 하겠다는 얘기만 반복함.  이건 토난 사고라고 지차 “고객님이 그렇게 생각하면 그럴 수도 있겠네요”라는 회피성의 말만 하였으며 별 예선을 취하지 않는다, 맞지못해 명함에 다음에 저렴하게 이용하게 해주겠다며 몇 마디 적어줌. 중요한 날이고 다른 웨딩도 진행 중인 상황에서 부모님이 일을 크게 만들지 말자 하여 그쯤에서 마무리하고 나왔으나, 이 후기를 적는 순간에도 “체크아웃 전이 객실에 보관하던 물건을 청소하는 사람들이 나눠 가져갔으며, 토난 사고를 벌일 아닌 것처럼 여기고 몇 마디 말로 퉁치려고 한 호텔 측이 대처”가 이해가 가지 않음. 다른 분들은 불쾌한 상황을 겪지 않았으면 좋았어서 남기는 후기입니다. 사진은 해당 건에 대한 보상이라고 준 명함이며, 저핑 잡연에서 올립니다. 내 물건을 다른 사람도 아니고 직원이 맘대로 가져가는 호텔에 다시 갈 일은 없을 것 같습니다.\n"
     ]
    },
    {
     "name": "stderr",
     "output_type": "stream",
     "text": [
      "\r 62%|██████▏   | 1052/1689 [2:14:33<2:46:54, 15.72s/it]"
     ]
    },
    {
     "name": "stdout",
     "output_type": "stream",
     "text": [
      "1052 : 글쌤, 그냥 여관입니다. 6만 원인가 7만 원 내고 들어가서 10분 만에 나왔네요. 환불해달라 하니 안 된다고 해서 그냥 돈 버리고 근처 다른 숙소 잡았습니다. 겉모습에 속지 마세요. 침대 꾸질꾸질하고 슬리퍼 너덜너덜, 방에서 냄새 나고 구비된 것 하나 없고 TV는 갤댑 끝기에 벽지는 너덜너덜, 얼룩이 덕지덕지. 빠르게 다른 숙소 간 처음에 박수를 쳐주고 싶습니다.\n"
     ]
    },
    {
     "name": "stderr",
     "output_type": "stream",
     "text": [
      "\r 62%|██████▏   | 1053/1689 [2:14:34<1:59:26, 11.27s/it]"
     ]
    },
    {
     "name": "stdout",
     "output_type": "stream",
     "text": [
      "1053 : 완벽하고 가격도 쌉니다.\n"
     ]
    },
    {
     "name": "stderr",
     "output_type": "stream",
     "text": [
      "\r 62%|██████▏   | 1054/1689 [2:14:43<1:54:19, 10.80s/it]"
     ]
    },
    {
     "name": "stdout",
     "output_type": "stream",
     "text": [
      "1054 : 일단 위치가 좋아요~ 서면에서 놀 때는, 그리고 주차장이 넓어요. 다만 방이 작은데, 이건 건티 수 있어요. 그런데 샤워기 수압이 약해요. 다른 사람들 씻을 시간이 아니었음에도, 더욱이 문제는 샤워기가 욕조 위에 달려서 욕조에서 씻어야 하는데 욕조 물이 덜렁게 안내려가요. 다 씻으니까 욕조 물이 몽땅해서 굉장히 당황했어요. 머리카락을 채겨해도 정말 아주 천천히 내려갑니다. 다음에는 여기 안 묵어요~ 스트레스.\n"
     ]
    },
    {
     "name": "stderr",
     "output_type": "stream",
     "text": [
      "\r 62%|██████▏   | 1055/1689 [2:14:49<1:38:00,  9.28s/it]"
     ]
    },
    {
     "name": "stdout",
     "output_type": "stream",
     "text": [
      "1055 : 웬만해선 글 안 남기는데, 사장 마인드고 침대 시트 얼룩?? 짜증이고, 뭐라 할 말이 없을 지경이다. 니네 안 와도 올 애들 많으니 상관없다는 태도.. 싼맛에 근처 술 먹고 하루밤 보내다면 그냥 그냥 정돈의 숙소.\n"
     ]
    },
    {
     "name": "stderr",
     "output_type": "stream",
     "text": [
      "\r 63%|██████▎   | 1056/1689 [2:15:02<1:48:52, 10.32s/it]"
     ]
    },
    {
     "name": "stdout",
     "output_type": "stream",
     "text": [
      "1056 : 친구랑 부산 여행으로 해운대 바다 쪽에 있는 블루스토리 호텔에 묵었습니다! 가성비와 해수욕장 거리 때문에 고른 호텔이어서 내부는 큰 기대 안 했었는데, 방에 들어서자마자 깔끔한 디자인과 푹신한 침대에 놀랐구, 우리 말고도 다른 숙박객들이 많았음에도 옆 방 소리가 하나도 들리지 않아 유리박에 없는 듯한 기분이 들었다는…  또 TV에서는 넷플릭스를 볼 수 있어서 친구와 같이 드라마 보긴 + 침대에서 뒹굴뒹굴 거렀더니 시간이 순삭되는 마법… 또 경험해서 개인적으로 정말 만족스럽고 좋은 경험이어서 다음에 또 부산에 놀러 온다면 고민 없이 다시 이 호텔에서!!\n"
     ]
    },
    {
     "name": "stderr",
     "output_type": "stream",
     "text": [
      "\r 63%|██████▎   | 1057/1689 [2:15:03<1:20:19,  7.63s/it]"
     ]
    },
    {
     "name": "stdout",
     "output_type": "stream",
     "text": [
      "1057 : 좋은 편. 최고는 아니라고 생각하는데 잘 모르겠음.\n"
     ]
    },
    {
     "name": "stderr",
     "output_type": "stream",
     "text": [
      "\r 63%|██████▎   | 1058/1689 [2:15:09<1:14:36,  7.09s/it]"
     ]
    },
    {
     "name": "stdout",
     "output_type": "stream",
     "text": [
      "1058 : 직원이 친절한 편이고, 뷰가 좋으며, 룸서비스가 의외로 맛있습니다. 그 외에는 별로입니다. 특히 먼지와 이상한 향수 같은 냄새가 머리를 악하게 합니다. 성수기라 비싸게 갔는데, 10만 원 후반대 가격이면 한 번은 가볼 만한 듯 합니다.\n"
     ]
    },
    {
     "name": "stderr",
     "output_type": "stream",
     "text": [
      "\r 63%|██████▎   | 1059/1689 [2:15:18<1:21:32,  7.77s/it]"
     ]
    },
    {
     "name": "stdout",
     "output_type": "stream",
     "text": [
      "1059 : 그랑베이 인피니티에서 한 켯~ 낙산 해수욕장(진짜 도보 1분 컷)과 오가며 꽝 짤게 즐긴 1박 2일입니다.ㅎㅎ 수건 리필 등도 제보? 제너?로 간편하게 할 수 있어 신박하고도 편리합니다~ 호텔 주차장 말고도 해수욕장 주차장도 이용 가능해서 물놀이 용품 나르기도 편리~~ 내년에도 할인 프로모션 해주세요~~~~\n"
     ]
    },
    {
     "name": "stderr",
     "output_type": "stream",
     "text": [
      "\r 63%|██████▎   | 1060/1689 [2:15:19<1:00:11,  5.74s/it]"
     ]
    },
    {
     "name": "stdout",
     "output_type": "stream",
     "text": [
      "1060 : 객실은 괜찮으나 방음이 최악입니다.\n"
     ]
    },
    {
     "name": "stderr",
     "output_type": "stream",
     "text": [
      "\r 63%|██████▎   | 1061/1689 [2:15:20<44:36,  4.26s/it]  "
     ]
    },
    {
     "name": "stdout",
     "output_type": "stream",
     "text": [
      "1061 : 믿고 거르기 위한 저장\n"
     ]
    },
    {
     "name": "stderr",
     "output_type": "stream",
     "text": [
      "\r 63%|██████▎   | 1062/1689 [2:15:27<52:39,  5.04s/it]"
     ]
    },
    {
     "name": "stdout",
     "output_type": "stream",
     "text": [
      "1062 : 부산 1박을 어디서 할까 고민하다 나쁘지 않을 것 같아 그냥 선택했습니다. 체크인 직원분이 친절하시고, 미니바 1회가 포함되어 있습니다. 해운대 오션뷰가 정말 멋있어요. 바다를 보면 수영도 할 수 있습니다. 생각보다 좋았습니다. 엘리베이터는 수가 좀 모자라네요. 암튼 괜찮습니다~\n"
     ]
    },
    {
     "name": "stderr",
     "output_type": "stream",
     "text": [
      "\r 63%|██████▎   | 1063/1689 [2:15:30<46:53,  4.49s/it]"
     ]
    },
    {
     "name": "stdout",
     "output_type": "stream",
     "text": [
      "1063 : 이중창이 아니고 한 겹이라 새벽까지 음악 소리, 말 소리 다 들려서 좀 시끄럽고, 새벽~이른 아침에는 온수가 안 나옴.\n"
     ]
    },
    {
     "name": "stderr",
     "output_type": "stream",
     "text": [
      "\r 63%|██████▎   | 1064/1689 [2:15:33<40:01,  3.84s/it]"
     ]
    },
    {
     "name": "stdout",
     "output_type": "stream",
     "text": [
      "1064 : 오래된 시설물이지만 구석구석 청소 정성껏 하여 주시면 가성비 괜찮을 듯 싶어요.\n"
     ]
    },
    {
     "name": "stderr",
     "output_type": "stream",
     "text": [
      "\r 63%|██████▎   | 1065/1689 [2:15:35<36:50,  3.54s/it]"
     ]
    },
    {
     "name": "stdout",
     "output_type": "stream",
     "text": [
      "1065 : 숙소 시설이 좋고 편리시설은 별로 없습니다. 입실했는데 방에 머리카락이 많고, 화장실에도 머리카락이 많아요.\n"
     ]
    },
    {
     "name": "stderr",
     "output_type": "stream",
     "text": [
      "\r 63%|██████▎   | 1066/1689 [2:15:37<29:07,  2.81s/it]"
     ]
    },
    {
     "name": "stdout",
     "output_type": "stream",
     "text": [
      "1066 : 낮뷰, 밤뷰 다 예뻐요!\n"
     ]
    },
    {
     "name": "stderr",
     "output_type": "stream",
     "text": [
      "\r 63%|██████▎   | 1067/1689 [2:15:53<1:11:07,  6.86s/it]"
     ]
    },
    {
     "name": "stdout",
     "output_type": "stream",
     "text": [
      "1067 : 저녁 시간 남자 직원 서비스가 처참합니다. 회사 차가 탑차라 건물 옆에 주차하고 올라가는데 아무말도 안 하더니, 시려고 누우니까 전화해서는 상식 운운하면서 키를 다 막았다고 엄뻑하며 짜증냅니다. 입구 안 막고 주차했는데 무슨 소리냐니까 당장 차 옮기라고 짜증내길래, 옮길 드릴 수는 있는데 말은 좀 고쳐 하실 수 있잖아 했더니 부산은 원래 그렇답니다ㅋㅋㅋ 오히려 나이가 여린 게 싸가지 없게 누구 가르치려 드나고ㅋㅋㅋ 사장 연락전 달라니까 영업 방해로 경찰 부른다길래 부르라고 했더니 사장도 옮기지 했더니 걍 들어갑니다 회사에서 매주 6년째 고정 이용 중이었는데 보고하고 걸려줍니다. 테. 맛은편 아늑 가세요. 침구류부터 다릅니다.\n"
     ]
    },
    {
     "name": "stderr",
     "output_type": "stream",
     "text": [
      "\r 63%|██████▎   | 1068/1689 [2:15:58<1:06:05,  6.39s/it]"
     ]
    },
    {
     "name": "stdout",
     "output_type": "stream",
     "text": [
      "1068 : 바퀴벌레도 나오고 가운 주라고 해도 안 주시길래 한 번 더 말해서 주시고... 가운에는 등 쪽에 구멍이 뚫려 있고 벌레가 나와서 방 바꾸고 싶었는데 고생하실까 봐 참았어요. 청소를 제대로 해주세요. 제발.\n"
     ]
    },
    {
     "name": "stderr",
     "output_type": "stream",
     "text": [
      "\r 63%|██████▎   | 1069/1689 [2:16:05<1:06:43,  6.46s/it]"
     ]
    },
    {
     "name": "stdout",
     "output_type": "stream",
     "text": [
      "1069 : 다신 안 감. 이 여름에 에어컨을 중앙 냉난방이라고 둔 건지, 안 둔 건지 하루 종일 18도로 해놨는데 아침에 더워서 깼다. 모텔만도 못 함. 프런트에 전화해서 조치해달라 해도 끝까지 해결 안 돼서 선풍기라도 달라고 해서 체크아웃 전까지 펴둠.\n"
     ]
    },
    {
     "name": "stderr",
     "output_type": "stream",
     "text": [
      "\r 63%|██████▎   | 1070/1689 [2:16:10<1:01:12,  5.93s/it]"
     ]
    },
    {
     "name": "stdout",
     "output_type": "stream",
     "text": [
      "1070 : 여관 건물은 더럽고 좁다. 싼 줄 알고 간 게 바보다 ㅜㅜ 여기 어때 낮은 평점을 보면 사장인지 댓글로 씹기도 걸고 있음 ㅜ 미리 낮은 평점 검색해볼걸.\n"
     ]
    },
    {
     "name": "stderr",
     "output_type": "stream",
     "text": [
      "\r 63%|██████▎   | 1071/1689 [2:16:19<1:13:19,  7.12s/it]"
     ]
    },
    {
     "name": "stdout",
     "output_type": "stream",
     "text": [
      "1071 : 일반실은 가격에 비해 그닥이임. 1. 침대가 엄청 낮음. 2. 침대 머리맡에 협탁이랑 콘센트가 없음. 충전하려면 문 옆에 두어야 함. 3. 들어가자마자 홀애비 냄새나서 환기 시김. 4. 8:00부터 조식 시간인데 8:10에 가니 사람도 없고 문도 안 열려 있어서 그냥 키 반납하고 나옴. 5. 세면도구는 일반 세트 구성이 아니라 칫솔, 치약만 있음.\n"
     ]
    },
    {
     "name": "stderr",
     "output_type": "stream",
     "text": [
      "\r 63%|██████▎   | 1072/1689 [2:16:27<1:14:05,  7.21s/it]"
     ]
    },
    {
     "name": "stdout",
     "output_type": "stream",
     "text": [
      "1072 : 부산 살면서도 찾게 되는 호텔입니다. 수영장이 없어서 좀 아쉽지만 수영장 대신 자쿠지 이용 만족으로 특별히 나쁜 점은 없었어요. 조식은 특별히 신경 쓰지 않아 저는 간단히 먹고 자갈치 시장 가서 오히려 생선 정식 먹고 이동해서 버문제는 없었는데, 계속 방문 이용객이 늘어나면서 주차 출차 시 불편함이 느껴나 불편했습니다. ㅠ\n"
     ]
    },
    {
     "name": "stderr",
     "output_type": "stream",
     "text": [
      "\r 64%|██████▎   | 1073/1689 [2:16:29<59:39,  5.81s/it]  "
     ]
    },
    {
     "name": "stdout",
     "output_type": "stream",
     "text": [
      "1073 : 뷰가 정말 좋습니다. 방도 깔끔하고 걱정했던 것보다 작지도 않아서 좋았어요. 컵라면 조식도 굿.\n"
     ]
    },
    {
     "name": "stderr",
     "output_type": "stream",
     "text": [
      "\r 64%|██████▎   | 1074/1689 [2:16:30<45:09,  4.41s/it]"
     ]
    },
    {
     "name": "stdout",
     "output_type": "stream",
     "text": [
      "1074 : 평창은 스위스 아브스 같은 곳이에요.\n"
     ]
    },
    {
     "name": "stderr",
     "output_type": "stream",
     "text": [
      "\r 64%|██████▎   | 1075/1689 [2:16:52<1:36:22,  9.42s/it]"
     ]
    },
    {
     "name": "stdout",
     "output_type": "stream",
     "text": [
      "1075 : 평창 동계올림픽 선수단 및 기자단 숙소로 사용되었던 곳이라 시설이 깨끗했어요. 시설이 모든 측면이라 좋았고, 취사가 가능하며 드럼세탁기, 대형 냉장고, 전자렌지에 인덕션 구타와 인덕션용 냄비, 식기류 일체 등 취사 도구들이 구비되어 있어 장기 스키 애호가들에게 정말 좋은 곳이에요. 1층에는 이마트 편의점이 있어 밑반찬 및 맥주와 음료, 간식 사먹기가 편했었고, 호텔 조식 음식도 가족들 모두 맘에 들어 했고, 2층 피자집 맛이 너무 맛있었어요~ 호텔 바로 건너편 황태찜도 별미였어요~ 우리 애들 대관령 양떼목장에 가서 양떼들에게 건조도 먹이는 체험과 양고기 맛도 보았고, 봉평 이호석 문학관에 들려 메밀콩 빌 무료의 현장이 봉평 장터 부근에서 매미묵과 매미전, 산낭물 등 평창의 별미 맛있게 먹었고, 전남무 습기와 오대산 휴양림 및 온천 등 가볼 곳이 참 많았고, 먹을거리도 참 많았어요.\n"
     ]
    },
    {
     "name": "stderr",
     "output_type": "stream",
     "text": [
      "\r 64%|██████▎   | 1076/1689 [2:16:53<1:10:58,  6.95s/it]"
     ]
    },
    {
     "name": "stdout",
     "output_type": "stream",
     "text": [
      "1076 : 조식, 수영장, 룸이 좋아요.\n"
     ]
    },
    {
     "name": "stderr",
     "output_type": "stream",
     "text": [
      "\r 64%|██████▍   | 1077/1689 [2:17:17<2:03:10, 12.08s/it]"
     ]
    },
    {
     "name": "stdout",
     "output_type": "stream",
     "text": [
      "1077 : 광안대교가 정면에서 보이는 오션뷰 캡슐호텔 중 가성비가 제일 좋은 것 같아요! 짐 맡길 서비스도 체크인 전후 무료라 좋구요 들어갈 때 신발장 열면 객실 키와 슬리퍼가 있고, 엘리베이터에서 카드 키고 객실 올라가서 락커 열면 수건 2장, 일회용 타올, 잠옷을 어메니티로 준비해주셨고 음료수와 생수도 있어서 서비스가 좋다고 생각했습니다. 화장실 욕실은 공용이지만 룸 형태로, 파우더룸까지 있는데 저는 이용하기 좋았어요! 또 사람이 그렇게 많지 않아 불편함도 없었구요. 캡슐 안에는 폭안을 위해 금고도 있고 충전할 곳과 거울, 옷걸이 1개, 선풍기가 있어요! 저는 원래도 캡슐호텔에서 잘 묵는데 여기는 뷰도 좋고 화이트라 깨끗해 보이고 사진도 잘 나오고 묵으면서 너무 쾌적했어요. 별 침대 같은 시설도 있고, 단순히 잠만 자고 나오는 공간이 아니라 혼자 잘 쉬고 가는 것 같아 좋네요 다음에 부산에 혼자 놀러 오면 꼭 여기서 또 묵으려구요! (이렇게 크고 카카오맵에 리뷰 남기면 체크아웃 1시간 무료 연장도 해주십니다 최고!!)\n"
     ]
    },
    {
     "name": "stderr",
     "output_type": "stream",
     "text": [
      "\r 64%|██████▍   | 1078/1689 [2:17:39<2:34:04, 15.13s/it]"
     ]
    },
    {
     "name": "stdout",
     "output_type": "stream",
     "text": [
      "1078 : 첫째, 화장실 및 샤워장 개수대는 여기보다 관리 잘되는 곳이 없음. 둘째, 24시간 샤워실은 따뜻한 물이 잘 나옴. 셋째, 매점은 적당한 가격이고 비싸지 않아요. 넷째, 여관처럼 나가라고???? 절대 아님. 뒷뒤 없으면 오후 늦게 배도 오히려 음료수 사서 오셔서 편히 쉬다가 가라 하심. 다섯째, 모기, 나방 별로 없음. 나빠리??? 가끔 오긴 하지만 감당할만 함. 여섯째, 할머니 및 사장님, 여사장님. 너무너무 친절하시고 인간적임. 이곳제, 전자렌지 무료이고 캠핑가 오셔서 에어컨 틀어도 아무 말 안 하심. 여덟째, 캠핑사이트 여기보다 넓은 데 못 봤고 그늘 여기보다 많은 곳 못 봤음. 아홉째, 캠핑생활 10년 자 전국 다녀봐도 청결, 친절, 넓이, 계곡, 뭐 하나 빠지는 곳 없음. 마지막, 10번째, 전국 다 다녀봐도 여기만한 곳 없음. 그래서 거의 매년 여기만 오게 됨. 아무튼, 여기 정말 좋음.\n"
     ]
    },
    {
     "name": "stderr",
     "output_type": "stream",
     "text": [
      "\r 64%|██████▍   | 1079/1689 [2:17:45<2:04:24, 12.24s/it]"
     ]
    },
    {
     "name": "stdout",
     "output_type": "stream",
     "text": [
      "1079 : 프리미엄 레프트 이용했는데, 들어오자마자 보이는 광안대교와 왼쪽 뷰를 보고 너무 이뻐서 놀랐어요! 아늑하고 청결해서 잘 쉬다 갑니다~ 밖에 나가기만 해도 좋아하는 광안대교를 보면서 산책할 수 있어서 너무 좋았어요.\n"
     ]
    },
    {
     "name": "stderr",
     "output_type": "stream",
     "text": [
      "\r 64%|██████▍   | 1080/1689 [2:17:53<1:51:30, 10.99s/it]"
     ]
    },
    {
     "name": "stdout",
     "output_type": "stream",
     "text": [
      "1080 : 코로나로 조식을 뷔페식으로 못 먹은 게 아쉬웠어요. 아침이 맛있고 직원들도 친절했습니다. 이 가격에 수영장이 있는 호텔도 찾기 힘들어요 ㅎㅎ 다만 주차장이 기계식이라 간혹 기다리는 경우가 있었는데 아주 가끔이었습니다. 룸 컨디션 괜찮았고요. 수영장은 좁긴 했지만 아침 일찍이나 저녁엔 가면 사람이 별로 없어서 수영할 만했어요. 추천합니다.\n"
     ]
    },
    {
     "name": "stderr",
     "output_type": "stream",
     "text": [
      "\r 64%|██████▍   | 1081/1689 [2:17:56<1:27:06,  8.60s/it]"
     ]
    },
    {
     "name": "stdout",
     "output_type": "stream",
     "text": [
      "1081 : 뷰 진짜 예쁘고 위치도 좋아서 여행 잘 즐기고 갑니다! 직원분들도 친절하셔서 다음에 또 방문할 예정입니다 ㅎㅎ\n"
     ]
    },
    {
     "name": "stderr",
     "output_type": "stream",
     "text": [
      "\r 64%|██████▍   | 1082/1689 [2:18:03<1:22:16,  8.13s/it]"
     ]
    },
    {
     "name": "stdout",
     "output_type": "stream",
     "text": [
      "1082 : 갑자기 아빠와 부산으로 여행 왔는데 오션뷰가 좋아서 아쉬웠지만 호텔 앞에 나가자마자 바로 바다가 보여서 너무 좋았어요..!!!!! 호텔도 너무 깨끗하고 궁금한 것도 많이 물어봐서 힘들 만한데 계속 친절하게 말해주셔서 너무 감사했습니다ㅠㅠ!!! 다음에도 오션뷰로 해야겠어요ㅠㅠ 너무 강추!!\n"
     ]
    },
    {
     "name": "stderr",
     "output_type": "stream",
     "text": [
      "\r 64%|██████▍   | 1083/1689 [2:18:15<1:33:39,  9.27s/it]"
     ]
    },
    {
     "name": "stdout",
     "output_type": "stream",
     "text": [
      "1083 : 여러 특급 호텔 다녀 봤지만 더 이상 다른 호텔 못 가겠네요! 어느 호텔보다 매우 친절하고 하우스키핑 서비스도 처음에 오전에 먼저 요청했음에도 불구하고 외출 후에 보니 다시 정돈되어 있는 거 보고 감동받았네요. 또 수영장 수모 작용, 노 메이크업 관리 부분을 철저히 했으며 신축성 있었고 환기해 놓은 게 마음에 들었어요. 다만 약간의 소독약 냄새가 은근히 심했어요. 룸서비스도 맛있었고 조식도 맛있었으며, 너무나 친절하시고 모든 게 완벽한 호텔이었어요. 부산에 오면 무조건 파크 하얏트예요.\n"
     ]
    },
    {
     "name": "stderr",
     "output_type": "stream",
     "text": [
      "\r 64%|██████▍   | 1084/1689 [2:18:35<2:07:38, 12.66s/it]"
     ]
    },
    {
     "name": "stdout",
     "output_type": "stream",
     "text": [
      "1084 : 오랜만에 호캉스 하러 다녀왔는데요. 작년에 새로 만든 호텔이다 보니 내부는 좋습니다. 깨끗하고 현대적이구요. 방도 스위트라 그런지 크고 깔끔해요. 근데 호캉스 목적이라 플랫싱지 스위트로 했고 라운지 클럽 밀레짐 포함이었는데요. 신라, 롯데, 포시즌스에 비해서 라운지가 형편없습니다. 스낵이랑 애프터눈 티 타임에는 이걸 뭐 하라고 운영하는지도 모르겠고 해핀 아워에도 술에는 신경 쓴 게 보이는데 핫푸드 같은 게 없어요. 그냥 플라스 감성 골드푸드만 몇 개 있어요. 여러 술 좋아하시는 분들이면 좋으실 듯. 조식은 제가 갔을 때 동합해서 운영하느라 호텔에서 운영하는 뷔페에서 주던데 그건 괜찮았어요. 다만 제가 아침에 먹을 것을 많이 안 먹어서 빵 한두 개에 주스 두 잔 먹고 나왔어요. 비슷한 가격인데 소피텔은 스위트가 가능하고 페어모드는 일반룸에 라운지 포함이라길래 소피텔로 왔는데, 다음엔 페어모드 가야겠습니다 ^^.\n"
     ]
    },
    {
     "name": "stderr",
     "output_type": "stream",
     "text": [
      "\r 64%|██████▍   | 1085/1689 [2:18:36<1:31:54,  9.13s/it]"
     ]
    },
    {
     "name": "stdout",
     "output_type": "stream",
     "text": [
      "1085 : 깨끗하고 친절하고 좋아요.\n"
     ]
    },
    {
     "name": "stderr",
     "output_type": "stream",
     "text": [
      "\r 64%|██████▍   | 1086/1689 [2:18:38<1:11:05,  7.07s/it]"
     ]
    },
    {
     "name": "stdout",
     "output_type": "stream",
     "text": [
      "1086 : 모기 20방 물림 제어 장치 잘 안 눌림, 엘리베이터 잘 안 됨.\n"
     ]
    },
    {
     "name": "stderr",
     "output_type": "stream",
     "text": [
      "\r 64%|██████▍   | 1087/1689 [2:18:51<1:26:21,  8.61s/it]"
     ]
    },
    {
     "name": "stdout",
     "output_type": "stream",
     "text": [
      "1087 : 강아지랑 편하게 이용했어요. 밥, 물, 그릇, 계단, 방석 등 기본 용품은 준비되어 있지만, 바닥이 미끄러운 건 약간 아쉬워요. 녹천이나 스케이트 보드에 엄청 약한 강아지라면 착근 매트 하나 챙겨서 밥이랑 물은 편하게 먹게 하는 게 좋을 거예요. 사장님과 직원분들은 응대도 친절하시고 배려를 잘해주셔서 편하게 이용했어요. 3층에 펫 매장이 있어서 좋았어요(용품, 간식, 목욕 이용함). 방도 전체적으로 청결했어요. 강아지랑 같이 공간을 이용하거나 생각하면 좋아요.\n"
     ]
    },
    {
     "name": "stderr",
     "output_type": "stream",
     "text": [
      "\r 64%|██████▍   | 1088/1689 [2:18:53<1:06:11,  6.61s/it]"
     ]
    },
    {
     "name": "stdout",
     "output_type": "stream",
     "text": [
      "1088 : 가격이 저렴하고 깨끗한 컨디션을 유지하고 있습니다. 조금씩 안 좋아지고 있습니다.\n"
     ]
    },
    {
     "name": "stderr",
     "output_type": "stream",
     "text": [
      "\r 64%|██████▍   | 1089/1689 [2:18:57<58:42,  5.87s/it]  "
     ]
    },
    {
     "name": "stdout",
     "output_type": "stream",
     "text": [
      "1089 : 무조건 강추!! 사장님 짱 친절하시고 숙소가 정말 깔끔하고 편안해요!! 1층 로비 얼러술 때 와 감탄!! 너무 이뻐요. 여기는 카페인가 호텔인가^^\n"
     ]
    },
    {
     "name": "stderr",
     "output_type": "stream",
     "text": [
      "\r 65%|██████▍   | 1090/1689 [2:18:57<43:27,  4.35s/it]"
     ]
    },
    {
     "name": "stdout",
     "output_type": "stream",
     "text": [
      "1090 : 귀여워요 포켓몬뷰\n"
     ]
    },
    {
     "name": "stderr",
     "output_type": "stream",
     "text": [
      "\r 65%|██████▍   | 1091/1689 [2:18:58<33:27,  3.36s/it]"
     ]
    },
    {
     "name": "stdout",
     "output_type": "stream",
     "text": [
      "1091 : 오래된 곳이에요. 감안하세요.\n"
     ]
    },
    {
     "name": "stderr",
     "output_type": "stream",
     "text": [
      "\r 65%|██████▍   | 1092/1689 [2:19:07<49:57,  5.02s/it]"
     ]
    },
    {
     "name": "stdout",
     "output_type": "stream",
     "text": [
      "1092 : 지장이 완전 불친절해요. 모텔에서 간판만 호텔로 바꾸고, 10년 전이랑 시설이 바뀐 게 하나도 없고, 오히려 더 노후되고… 비치된 충전기가 망가져서 갖다달라 했더니 카운터로 가서 직접 가져오라 하고… 비싼 돈 주고 이런 서비스를 받아야 하나요? ㅠㅠ 사장이 호감이 안 가요. 10년 된 단골인데 갈아타야겠음… 비추천.\n"
     ]
    },
    {
     "name": "stderr",
     "output_type": "stream",
     "text": [
      "\r 65%|██████▍   | 1093/1689 [2:19:11<46:32,  4.68s/it]"
     ]
    },
    {
     "name": "stdout",
     "output_type": "stream",
     "text": [
      "1093 : 해운대 바다의 감성을 하루 종일 느낄 수 있어서 행복한 여행이었네요… 부모님들도 너무 만족해하시고, 방도 깔끔하고 분위기도 좋아 더욱 편안하게 머물렀던 것 같아요.\n"
     ]
    },
    {
     "name": "stderr",
     "output_type": "stream",
     "text": [
      "\r 65%|██████▍   | 1094/1689 [2:19:13<36:59,  3.73s/it]"
     ]
    },
    {
     "name": "stdout",
     "output_type": "stream",
     "text": [
      "1094 : 남산 뷰라고 해서 추가 요금을 냈는데 안 보입니다..\n"
     ]
    },
    {
     "name": "stderr",
     "output_type": "stream",
     "text": [
      "\r 65%|██████▍   | 1095/1689 [2:19:18<42:12,  4.26s/it]"
     ]
    },
    {
     "name": "stdout",
     "output_type": "stream",
     "text": [
      "1095 : 처음 가봤지만 주차장 진입로가 좁아서 카니발 정도의 차이거나 운전이 미숙하면 쉽지 않을 듯 싶습니다. 뷰는 어떤 방이나에 따라 다를 테지만 제가 있던 방은 괜찮았습니다. 시설은 좀 되어 보이지만 청소 상태는 깨끗하구요.\n"
     ]
    },
    {
     "name": "stderr",
     "output_type": "stream",
     "text": [
      "\r 65%|██████▍   | 1096/1689 [2:19:27<56:00,  5.67s/it]"
     ]
    },
    {
     "name": "stdout",
     "output_type": "stream",
     "text": [
      "1096 : 체크인 5시쯤 갔는데 20분이나 기다렸어요. 아사람들은 룸 업그레이드를 해주던데, 저희는 안 해주시더라고요. 기준이 뭔지 궁금했어요ㅠㅠ 조식 먹는 뷰가 최고였어요. 조식도 호텔 같지 않지만 한식이 맛있었어요. 디럭스룸을 이용했는데 층간 소음도 있고 룸 안에서 뷰는 없어서 많이 아쉬웠어요. 앞 건물에 가려져 있네요.\n"
     ]
    },
    {
     "name": "stderr",
     "output_type": "stream",
     "text": [
      "\r 65%|██████▍   | 1097/1689 [2:19:35<1:02:11,  6.30s/it]"
     ]
    },
    {
     "name": "stdout",
     "output_type": "stream",
     "text": [
      "1097 : 잠을 잘 수가 없다. 벽이 마치 얇은 나무판자로 이루어진 듯... 바깥 오토바이, 차 지나가는 소리, 술 취한 행인이 추억대는 소리, 아파 남자들이 노래 부르는 소리, 타피시에서 뭔가 준비하는 소리 등등 다 들리고... 옆방 담배 냄새까지 새어 들어옴(화장실 문 꽉 안 닫힘). 아마 모텔급 호텔이라도 기본은 해야 하는 거 아닌지... 정말 너무합니다.\n"
     ]
    },
    {
     "name": "stderr",
     "output_type": "stream",
     "text": [
      "\r 65%|██████▌   | 1098/1689 [2:19:43<1:07:11,  6.82s/it]"
     ]
    },
    {
     "name": "stdout",
     "output_type": "stream",
     "text": [
      "1098 : 외국 친구가 와서 소개해 줬는데 비즈니스 호텔이라 그런지 군더더기 없이 깔끔하고 룸도 조용해서 매우 만족했어요^^ 직원분들도 제 친구에게 외국어 소통하는데 전혀 문제없고 친절하셨고요. 1층에 카페, 지하에 레스토랑도 있어서 식사나 커피도 딱 해결 가능하고 성수역 바로 앞이라 대중교통도 편했답니다. 추천 많이 할게요~\n"
     ]
    },
    {
     "name": "stderr",
     "output_type": "stream",
     "text": [
      "\r 65%|██████▌   | 1099/1689 [2:19:48<1:00:39,  6.17s/it]"
     ]
    },
    {
     "name": "stdout",
     "output_type": "stream",
     "text": [
      "1099 : 부산 불꽃 축제 기간이라 11월 9일 예약한 방을 취소해달라는 건가요? 정당하게 올라온 가격에 결제한 건데, 본인들이 잘못해 놓고 취소해달라니 해죽인 했는데 열받음.\n"
     ]
    },
    {
     "name": "stderr",
     "output_type": "stream",
     "text": [
      "\r 65%|██████▌   | 1100/1689 [2:19:52<54:55,  5.60s/it]  "
     ]
    },
    {
     "name": "stdout",
     "output_type": "stream",
     "text": [
      "1100 : 남자친구랑 100일 여행으로 갔는데, 들어가자마자 뷰가 지깁니다 ㅠㅠ 1분 1초가 아깝네요 ^-^ 호텔 1으로 오세요!\n"
     ]
    },
    {
     "name": "stderr",
     "output_type": "stream",
     "text": [
      "\r 65%|██████▌   | 1101/1689 [2:20:12<1:38:23, 10.04s/it]"
     ]
    },
    {
     "name": "stdout",
     "output_type": "stream",
     "text": [
      "1101 : 초등급 쓰레기 사진들 보고 여름휴가 5일 정도 차박 알아보려구 다사 갔는데, 경기에서 일부러 다사를 갔다가 영월로 가서 꼬불꼬불 넘어서 30분을 가서 일부더 차잡는데 입구에 코갈 세우려고 뭐하려고 왔냐고 묻더라구요. 다사 왔다니까 꺼지라는 식으로 나가란다고... 내가 가보고 가봤지만 이런 경우는 처음이라 인심은 모르겠고, 안쪽은 들어가지도 못하고 입구에서 쪼겨내고... 그냥 입구에서 차 돌려 나왔습니다. 꺼지라고 하니 꺼져 줘야지... 초등급 말을 왜 그렇게 하는지, 캠핑 가봤아 짜증날 듯... 입구에서 생뚱맞게 되짜 맞은 것은 100여 곳 캠핑장 가본 중에 처음이라 너무 기분이 나빠서... 이런 후기 같은 거 전혀 안 쓰는데, 캠핑 해본 곳도 아닌데 남겼습니다. 이 대접받고 입구에서 차 돌려 나온다니, 이런 후기는 같은 거 안 남기는데... 난생 처음 써봅니다. 어이가 없어서... 일부러 남깁니다... 쓰레기\n"
     ]
    },
    {
     "name": "stderr",
     "output_type": "stream",
     "text": [
      "\r 65%|██████▌   | 1102/1689 [2:20:16<1:18:42,  8.05s/it]"
     ]
    },
    {
     "name": "stdout",
     "output_type": "stream",
     "text": [
      "1102 : 흠... 하루 잘 묵었는데 저는 서비스나 방 상태 정도는 만족스러웠습니다. 에어컨은 조절이 안 돼서? 좀 추웠고 베개는 뭔가 묻어 있었어요.\n"
     ]
    },
    {
     "name": "stderr",
     "output_type": "stream",
     "text": [
      "\r 65%|██████▌   | 1103/1689 [2:20:22<1:12:39,  7.44s/it]"
     ]
    },
    {
     "name": "stdout",
     "output_type": "stream",
     "text": [
      "1103 : 마사지 받느라 스파만 이용했는데 기대 이상입니다. 직원분들이 친절하시고 관리 엄청 잘해주세요!! 세상 편한 분위기에서 근육 조절주십니다. 덕분에 수목욕이 놓았어요 ㅠㅠ 이래서 다들 마사지 받고 스파 받는구나 싶었던 경험이었네요.\n"
     ]
    },
    {
     "name": "stderr",
     "output_type": "stream",
     "text": [
      "\r 65%|██████▌   | 1104/1689 [2:20:23<54:27,  5.59s/it]  "
     ]
    },
    {
     "name": "stdout",
     "output_type": "stream",
     "text": [
      "1104 : 호텔은 불만이 없는데, 주변이 너무 별로예요.\n"
     ]
    },
    {
     "name": "stderr",
     "output_type": "stream",
     "text": [
      "\r 65%|██████▌   | 1105/1689 [2:20:31<1:00:33,  6.22s/it]"
     ]
    },
    {
     "name": "stdout",
     "output_type": "stream",
     "text": [
      "1105 : 최악의 서비스와 가성비 민박도 여기보단 깔끔할 듯. 발코니에 담배 꽁초 모아둔 페트병도 바꿔 못하는 청소여자가 있으니 말 다 했지. 바쁘니까 그럴 수 있다는 숙박업소에서는 안 통하는 말임. 바쁘기 때문에 더욱더 숙박객을 심게 해야지, 숙박객을 더 피곤하게 하면 호텔로서의 본질이 흐려지지 않을까?\n"
     ]
    },
    {
     "name": "stderr",
     "output_type": "stream",
     "text": [
      "\r 65%|██████▌   | 1106/1689 [2:20:33<48:10,  4.96s/it]  "
     ]
    },
    {
     "name": "stdout",
     "output_type": "stream",
     "text": [
      "1106 : 플랫폼에 올려놓은 사진은 사기 수준도 저지 못하게서 다른 방 잡아서 잠.\n"
     ]
    },
    {
     "name": "stderr",
     "output_type": "stream",
     "text": [
      "\r 66%|██████▌   | 1107/1689 [2:20:49<1:19:32,  8.20s/it]"
     ]
    },
    {
     "name": "stdout",
     "output_type": "stream",
     "text": [
      "1107 : 4월 중순에 갔고, 부킹닷컴 진입어스 2라서 수요일부터 토요일까지 3박 4일에 32만 원(시티뷰)입니다. 그런데 시티뷰는 뷰라 건 없습니다. 장소는 택시 기사님들에게 \"신라스테이 가주세요\"라고 하면 한번에 갈 정도입니다. 해운대 고속철도역으로부터는 7분 거리지만, 버스역으로부터는 4분 거리로 이동이 용이합니다. 해운대 시티버스도 금방 탈 수 있습니다. + 무엇보다 해운대 백사장까지 4분 거리입니다. 근처에 해운대 포장 거리와 앞에 한유치가 많습니다. #덴으 망리난 옆 가구 거리에는 <마네모네>라는 카페 강추! 갤러리 카페라서 분위기 있고 음료도 맛있으며 사람이 별로 없습니다. 편의시설.\n"
     ]
    },
    {
     "name": "stderr",
     "output_type": "stream",
     "text": [
      "\r 66%|██████▌   | 1108/1689 [2:21:02<1:35:11,  9.83s/it]"
     ]
    },
    {
     "name": "stdout",
     "output_type": "stream",
     "text": [
      "1108 : 예전에 훌륭했던 투숙객 전용 라운지의 음식은 절반 이상 축소됨. 샌드위치도 더 이상 없고, 신리어 빵도 전혀 없음... 와, 먹을 거 진짜 없음.... 차라리 객실 요구물 올리면 될 텐데 왜 라운지 음식 좋았던 걸 없애는지 모르겠음... 샴페인이 업그레이드돼서 걸고 축소된 건 아니라는데 뭔 개소리... 과일도 딸랑 하나, 음료도 우유, 샴페인도 종류 3개인데 싸구려... 그냥 라운지 안 하는 게 나을지도.... 뷰랑 럭셔리함으로만 보고 가는 곳, 그게 다임... 라운지 때문에 무조건 여기서 자야 한다고 주변 사람들에게 추천했는데 이제는 글쎄.....\n"
     ]
    },
    {
     "name": "stderr",
     "output_type": "stream",
     "text": [
      "\r 66%|██████▌   | 1109/1689 [2:21:07<1:21:53,  8.47s/it]"
     ]
    },
    {
     "name": "stdout",
     "output_type": "stream",
     "text": [
      "1109 : 1010호에 머물렀습니다. 북쪽으로 테라스에서 바다뷰가 좋습니다. 항구와 등대가 한눈에 들어옵니다. 새벽에 머리맡 창으로 일출을 침대에서 직접할 수 있습니다. 깨끗하고 간단한 주방시설과 세탁기도 있네요.\n"
     ]
    },
    {
     "name": "stderr",
     "output_type": "stream",
     "text": [
      "\r 66%|██████▌   | 1110/1689 [2:21:11<1:07:55,  7.04s/it]"
     ]
    },
    {
     "name": "stdout",
     "output_type": "stream",
     "text": [
      "1110 : 넓은 창문으로 바다가 보이는 쪽 방의 뷰가 환상적이었어요. 직원들의 친절한 서비스와 청결도 만족스러웠습니다. 2박 3일이 휴가였답니다.\n"
     ]
    },
    {
     "name": "stderr",
     "output_type": "stream",
     "text": [
      "\r 66%|██████▌   | 1111/1689 [2:21:45<2:23:51, 14.93s/it]"
     ]
    },
    {
     "name": "stdout",
     "output_type": "stream",
     "text": [
      "1111 : 여러 캠핑장을 다니다 보니 산녀미목장 캠핑장이 클리워서 리뷰를 다시 남겨요. 일단 유명하다는 캠핑장들은 카페 운영 예약을 받는데, 여기는 간단하게 네이버 예약!! 1박만 하면 무조건 바보. 너무 아쉬워서 집에 가서 자다가 꿈에 나오네요. 제대로 가고 있나...? 여기가 맞나 싶은 길로 안내하지만 중간중간 안내 표지가 있어서 괜찮아요.  산책 코스도 별도로 있는 캠핑장이 있다? 미친 캠핑장이죠... 캠핑장 뷰도 엉망엉망한데, 산책 코스 올라가면 인생샷 그냥 건질 (3번째 사진). 이 정도로 다 갖춘 캠핑장은 아직 못 가봤고 앞으로도 없을 것 같아요. 산장 안내소? 카페?에 없는 거 없음. 제가 본 안내소 층 가장 크고 물품들도 가장 많이 구비되어 있어요. 넓기도 넓은데 구경거리도 많아요 (독김, 다람쥐인지 청소모인지, 열쇠, 새들). 애견 동반도 가능하고 선착순이긴 하나 대부분 다 뷰가 좋아서 괜찮아요.  2시 입실인데 그전에 입실시키는 것 같더라구요. 화장실, 샤워장, 개수대 다 나누어져 있고, 따뜻한 물은 다 뜨거울 정도로 잘 나오고 정말 깨끗해요. 크기도 괜찮아요. 벌레는 조금 있었지만 걱정했던 모기가 하나도 없었음. 3시간 거리지만 그래도 조만간 다시 갈 거예요 오늘 집 오는 길에 평창 88 송어 들어서 송어 정식 먹었는데 진짜 너무 맛있게 잘 먹었어요. 캠퍼분들 포장해서 올라가거나 집 가기 전에 먹고 가세요.  --------- 24.01.12 재방문 거름 산녀미도 잘 보고 가요~~~ (근처 오면 무조건 1박!)\n"
     ]
    },
    {
     "name": "stderr",
     "output_type": "stream",
     "text": [
      "\r 66%|██████▌   | 1112/1689 [2:21:47<1:46:49, 11.11s/it]"
     ]
    },
    {
     "name": "stdout",
     "output_type": "stream",
     "text": [
      "1112 : 최악 서비스와 장사치들. 특급 호텔이 동네 시장처럼 미끼 상품만 팔아 먹기.\n"
     ]
    },
    {
     "name": "stderr",
     "output_type": "stream",
     "text": [
      "\r 66%|██████▌   | 1113/1689 [2:21:48<1:16:58,  8.02s/it]"
     ]
    },
    {
     "name": "stdout",
     "output_type": "stream",
     "text": [
      "1113 : 모조리 느끼고 갑니다~\n"
     ]
    },
    {
     "name": "stderr",
     "output_type": "stream",
     "text": [
      "\r 66%|██████▌   | 1114/1689 [2:21:54<1:13:32,  7.67s/it]"
     ]
    },
    {
     "name": "stdout",
     "output_type": "stream",
     "text": [
      "1114 : 파크 하얏트 부산의 짜랑은 뷰 :) 그런데 저는 이번에 좀 실망했어요. 웰컴 과일 접시는 떡하니 올려놓고 과일은 없고 ^^ 안 줄 거면 접시라도 치워두던가, 청소도 대충 했는지 안 했는지 바닥에 라면 국물이 뚝뚝 떨어져 있고... 암튼 저는 별로였네요 ㅋ\n"
     ]
    },
    {
     "name": "stderr",
     "output_type": "stream",
     "text": [
      "\r 66%|██████▌   | 1115/1689 [2:21:59<1:05:36,  6.86s/it]"
     ]
    },
    {
     "name": "stdout",
     "output_type": "stream",
     "text": [
      "1115 : 객실이 깨끗하고 바다가 보여서 좋았습니다. 방음도 잘 되어 조용히 잘 지내다 갑니다. 관리하시는 분들도 친절하십니다. 호텔 건물에 있는 카페도 예쁘고 맛있으며, 특히 루프탑 경치가 정말 좋습니다!\n"
     ]
    },
    {
     "name": "stderr",
     "output_type": "stream",
     "text": [
      "\r 66%|██████▌   | 1116/1689 [2:22:01<50:33,  5.29s/it]  "
     ]
    },
    {
     "name": "stdout",
     "output_type": "stream",
     "text": [
      "1116 : 와이프와 장모님을 모시고 5일 동안 있었는데 좋았습니다.\n"
     ]
    },
    {
     "name": "stderr",
     "output_type": "stream",
     "text": [
      "\r 66%|██████▌   | 1117/1689 [2:22:03<40:51,  4.29s/it]"
     ]
    },
    {
     "name": "stdout",
     "output_type": "stream",
     "text": [
      "1117 : 서울 출구 방면 오전 주차 요원 직원 교육 필요합니다. 차보다 사람이 먼저입니다.\n"
     ]
    },
    {
     "name": "stderr",
     "output_type": "stream",
     "text": [
      "\r 66%|██████▌   | 1118/1689 [2:22:05<33:38,  3.54s/it]"
     ]
    },
    {
     "name": "stdout",
     "output_type": "stream",
     "text": [
      "1118 : 청소하지 말아 달라 했는데 들어오셔서 다 정리하고 가셔길래 당황했네요.\n"
     ]
    },
    {
     "name": "stderr",
     "output_type": "stream",
     "text": [
      "\r 66%|██████▋   | 1119/1689 [2:22:08<33:58,  3.58s/it]"
     ]
    },
    {
     "name": "stdout",
     "output_type": "stream",
     "text": [
      "1119 : 가족과의 평창 여행~ 지친 여행이 마무리깐 참 좋았습니다. 객실이 정말 깔끔해요~ 모텔 특유의 냄새도 없고 편안했습니다. 가족들 모두 좋아하네요~\n"
     ]
    },
    {
     "name": "stderr",
     "output_type": "stream",
     "text": [
      "\r 66%|██████▋   | 1120/1689 [2:22:12<33:20,  3.52s/it]"
     ]
    },
    {
     "name": "stdout",
     "output_type": "stream",
     "text": [
      "1120 : 깨끗하고 가성비가 최고입니다. 조식(룸서비스)으로 샌드위치, 우유초코빵, 커피가 나오는데 과하지 않고 맛있어요.\n"
     ]
    },
    {
     "name": "stderr",
     "output_type": "stream",
     "text": [
      "\r 66%|██████▋   | 1121/1689 [2:22:15<32:05,  3.39s/it]"
     ]
    },
    {
     "name": "stdout",
     "output_type": "stream",
     "text": [
      "1121 : 무조건 디럭스급부터 이용 추천! 슈페리어와 스탠다드는 객실이 엉망인 경우가 있어서 낭패를 본 적 있음.\n"
     ]
    },
    {
     "name": "stderr",
     "output_type": "stream",
     "text": [
      "\r 66%|██████▋   | 1122/1689 [2:22:22<43:21,  4.59s/it]"
     ]
    },
    {
     "name": "stdout",
     "output_type": "stream",
     "text": [
      "1122 : 예약받다 놓고 현장 손님에게 가격을 더 받는 것은 무슨 원칙인가요? ㅋㅋㅋ 손님이 호구도 아니고 장사 저북세요. 이미 주변 지인 다 알고 있습니다. 해봐야 부산인 포함 말고 관광객으로 먹고 살던데 이제 다 접겠네요. 화이팅! 그렇게 좀 중간만 하세요. 꼭 이렇게 되도 않는 7만원 더 벌겠다고.\n"
     ]
    },
    {
     "name": "stderr",
     "output_type": "stream",
     "text": [
      "\r 66%|██████▋   | 1123/1689 [2:22:30<51:51,  5.50s/it]"
     ]
    },
    {
     "name": "stdout",
     "output_type": "stream",
     "text": [
      "1123 : 옛날 리뷰는 별로네요? 그런데 지금은 좋아요. 객실 엄청 깨끗함. 바닥 어떻게 청소하시는지 꿍꿍할 정도로 유리집보다 깨끗함..... 사우나도 좋음. 도파이 아주머니들이 계시는데 그냥 NPC 같으심. 에어컨 잘됨. 고층 뷰 좋음. 번개도 봄 ㅎㅎ 해운대랑도 가까워서 최고..\n"
     ]
    },
    {
     "name": "stderr",
     "output_type": "stream",
     "text": [
      "\r 67%|██████▋   | 1124/1689 [2:22:32<41:18,  4.39s/it]"
     ]
    },
    {
     "name": "stdout",
     "output_type": "stream",
     "text": [
      "1124 : 펜션 카페는 다 좋은데, 일하시는 분들이 너무 무뚝뚝합니다^^\n"
     ]
    },
    {
     "name": "stderr",
     "output_type": "stream",
     "text": [
      "\r 67%|██████▋   | 1125/1689 [2:22:35<38:25,  4.09s/it]"
     ]
    },
    {
     "name": "stdout",
     "output_type": "stream",
     "text": [
      "1125 : 뷰와 애프터빙이 여자 모두 너무 좋았는데 방음이 정말 놀랐습니다. 옆 방 대화 소리가 다 들립니다. 그들이 그렇게 크게 얘기하는 것도 아닌데요ㅠ\n"
     ]
    },
    {
     "name": "stderr",
     "output_type": "stream",
     "text": [
      "\r 67%|██████▋   | 1126/1689 [2:22:49<1:05:01,  6.93s/it]"
     ]
    },
    {
     "name": "stdout",
     "output_type": "stream",
     "text": [
      "1126 : 호텔 1에서 눈 뜨자마자 보이는 뷰예요. 일어나서 감탄했어요. 혼자 머물기 너무 좋고 시설도 깔끔해요. 공용 샤워실이라고 완전 개방형일까 걱정하면서 갔는데, 샤워실마다 문이 있어서 개인 프라이빗도 지켜주고 좋더라고요. 또 캡슐 호텔은 에어컨을 중앙에서 관리하는데, 머무는 내내 덥다는 생각도 안 들었고 아침 조식도 좋고 카페를 반값에 이용할 수 있다는 점도 너무 마음에 들었습니다. 재방문 의사 있고 친구랑 또 올 것 같아요! 게다가 광안리가 바로 앞이라 밤이든 새벽이든 아침이든 충동적으로 바다 보러 갈 수 있다는 게 가장 큰 장점이에요. 생각보다 너무 편했고 좋았습니다\n"
     ]
    },
    {
     "name": "stderr",
     "output_type": "stream",
     "text": [
      "\r 67%|██████▋   | 1127/1689 [2:22:50<50:14,  5.36s/it]  "
     ]
    },
    {
     "name": "stdout",
     "output_type": "stream",
     "text": [
      "1127 : 시설과 전망이 매우 훌륭하네요. 담에 꼭 숙박하고 싶네요.\n"
     ]
    },
    {
     "name": "stderr",
     "output_type": "stream",
     "text": [
      "\r 67%|██████▋   | 1128/1689 [2:23:09<1:27:34,  9.37s/it]"
     ]
    },
    {
     "name": "stdout",
     "output_type": "stream",
     "text": [
      "1128 : 공짜 조식이라 그런가, 티가 난다. 싸구려 소시지, 대충 한 개란 요리, 맛없는 과일. 배달인 안 된다며 서부티 유유 냉장고... 차라리 돈 받고 제대로 하면 좋겠다. 이 건물은 신축이 맞을까? 누누하고 냄새도 난다. 모텔 리모델링한 것처럼. 발렛파킹 해주면 뭐하나. 다음 날 아침 내 잔은 아무 말도 없이 태버 바깥에 나가 있더라. 에어컨은 몇 번을 키고 끄고 해야 제대로 켜진다. 옆방 소리 다 울리고. 직원들 소통 오류에 내가 호텔비 계산 안 했다고 자각! 뭐, 물론 자각은 할 수도 있다. 그런데 밤 11시 30분에 확인 전화 겉도 두 번 연달아! 이런 데도 호텔인가? 매니저라고 사과 전화 왔는데, 밤 12시 다 돼서 얼굴 보고 사과하고 싶다. 이 호텔은 사람 기분 잡치는데 속지 있다. 올해 여름휴가 제대로 망쳐놓은 호텔, 원주 센트럴!\n"
     ]
    },
    {
     "name": "stderr",
     "output_type": "stream",
     "text": [
      "\r 67%|██████▋   | 1129/1689 [2:23:13<1:11:54,  7.71s/it]"
     ]
    },
    {
     "name": "stdout",
     "output_type": "stream",
     "text": [
      "1129 : 해수욕장 바로 근처에 물놀이도 편하고, 가성비 대비해서 시설도 좋고, 무엇보다 조식에서 기대하지 않았는데 다양한 먹거리가 있어서 놀랐어요. 재방문의사 있습니다~^^\n"
     ]
    },
    {
     "name": "stderr",
     "output_type": "stream",
     "text": [
      "\r 67%|██████▋   | 1130/1689 [2:23:28<1:31:52,  9.86s/it]"
     ]
    },
    {
     "name": "stdout",
     "output_type": "stream",
     "text": [
      "1130 : 한줄 요약: 잠만 잘 거면 가도 되긴 한데 주인장이 귀찮게 구름. 여기 배달 음식도 못 시켜 먹고 술도 못 마시게 하고, 아무 음식도 못 먹게 함. 뭘 먹으라는 거야? 이런 숙박 업소는 처음이다. 자꾸 몇 명에서 왔냐고 하고, 처음에 한 번 말했으면 알아들어야지. 아침에 자고 있는데 몇 명이서 온 거냐고 또 물어봐서 잠에서 깼어. 뭐 하자는 거야? 왜 3번이나 물어봐? 주변에 동대치게 이런 거 밖에 없는데 그거만 먹으라는 거야? 크리스마스에 가려고 2달 전부터 예약했는데 이딴 방이라니, 하다가 하다 합니다. ---> 돈 버리고 싶고 기분 상하고 싶고 숙소에서 손가락만 쪽쪽 빨다가 잠들고 싶으면 가십시요!\n"
     ]
    },
    {
     "name": "stderr",
     "output_type": "stream",
     "text": [
      "\r 67%|██████▋   | 1131/1689 [2:23:29<1:08:34,  7.37s/it]"
     ]
    },
    {
     "name": "stdout",
     "output_type": "stream",
     "text": [
      "1131 : 방이 깨끗하고 넓고 좋아요. 사장님도 친절해요.\n"
     ]
    },
    {
     "name": "stderr",
     "output_type": "stream",
     "text": [
      "\r 67%|██████▋   | 1132/1689 [2:23:34<1:01:15,  6.60s/it]"
     ]
    },
    {
     "name": "stdout",
     "output_type": "stream",
     "text": [
      "1132 : 일몰과 일출을 함께 즐길 수 있어서 너무 좋았습니다. 뷰도 좋았고 쾌적하고 청결해서 이용하는 데 불편함이 전혀 없었어요. 아침에 가져다 주시는 조식도 좋았습니다~ 다음에 또 이용하려고요~\n"
     ]
    },
    {
     "name": "stderr",
     "output_type": "stream",
     "text": [
      "\r 67%|██████▋   | 1133/1689 [2:23:44<1:09:09,  7.46s/it]"
     ]
    },
    {
     "name": "stdout",
     "output_type": "stream",
     "text": [
      "1133 : 프리미엄 오션 레프트로 9층을 이용했습니다. 낮이든 밤이든 광안리가 한눈에 보여서 너무 좋았습니다~~ 바닥이 대리석이라 고급스러운 인테리어도 인상적이었고, 어메니티도 잘 준비되어 있어서 이용하는 데 편안함을 느꼈던 것 같습니다 :) 다음에는 혼자 캡슐룸도 이용해보려구 합니다~~~ 게이냐 커플로 오시는 분들에게 추천합니다. (3번째 사진은 룸에 구비된 귀여운 생수 사진이에요)\n"
     ]
    },
    {
     "name": "stderr",
     "output_type": "stream",
     "text": [
      "\r 67%|██████▋   | 1134/1689 [2:23:47<58:01,  6.27s/it]  "
     ]
    },
    {
     "name": "stdout",
     "output_type": "stream",
     "text": [
      "1134 : 침구는 좋아요. 그런데 룸 컨디션이 별로 안 좋았어요. 침대에 머리카락이 있고 군데군데 먼지가 많이 쌓여 있었어요. 잠은 잘 잤네요.\n"
     ]
    },
    {
     "name": "stderr",
     "output_type": "stream",
     "text": [
      "\r 67%|██████▋   | 1135/1689 [2:23:52<54:18,  5.88s/it]"
     ]
    },
    {
     "name": "stdout",
     "output_type": "stream",
     "text": [
      "1135 : 위치나 뷰나 정말 너무 좋죠. 수영장이 작지만 따뜻해서 겨울에도 가기 좋죠. 라운지 음식도 맛있고, 웨이트리스와 웨이터분들도 친절하시죠. 하우스키핑 직원분들도 친절하세요.\n"
     ]
    },
    {
     "name": "stderr",
     "output_type": "stream",
     "text": [
      "\r 67%|██████▋   | 1136/1689 [2:23:56<48:28,  5.26s/it]"
     ]
    },
    {
     "name": "stdout",
     "output_type": "stream",
     "text": [
      "1136 : 미리 예약했었는데 당일 예약이 더 싸요,,, 침대는 무슨, 용수철 침대, 수건도 호텔이 아니라 모텔이더라구요. 호텔이 아닌 모텔이 맞아요.\n"
     ]
    },
    {
     "name": "stderr",
     "output_type": "stream",
     "text": [
      "\r 67%|██████▋   | 1137/1689 [2:24:05<59:00,  6.41s/it]"
     ]
    },
    {
     "name": "stdout",
     "output_type": "stream",
     "text": [
      "1137 : 컴복트레저룸을 이용했는데 인터넷 공유기가 방마다 있는 게 아니라 층별로 한 대씩 있는 건지, 너무너무 크면서 영화도 제대로 볼 수가 없어요. 프론트에 전화하니 이미 호텔도 인지하고 있대요. 그렇다면 공유기를 추가로 설치하는 게 어떨까요? 동네 모텔도 아니고 3성급 호텔인데요. 체크인도 1시간 정도 기다리고... 이게 무슨...? 아무리 큰 호텔을 가도 체크인은 기다린 적은 없는데 도대체 왜...\n"
     ]
    },
    {
     "name": "stderr",
     "output_type": "stream",
     "text": [
      "\r 67%|██████▋   | 1138/1689 [2:24:07<45:42,  4.98s/it]"
     ]
    },
    {
     "name": "stdout",
     "output_type": "stream",
     "text": [
      "1138 : 편하게 쉬다가요. 방이 깔끔한 게 제일째임 마음에 들었어요!\n"
     ]
    },
    {
     "name": "stderr",
     "output_type": "stream",
     "text": [
      "\r 67%|██████▋   | 1139/1689 [2:24:22<1:15:26,  8.23s/it]"
     ]
    },
    {
     "name": "stdout",
     "output_type": "stream",
     "text": [
      "1139 : 사장님은 친절하셨고, 디럭스로 무료 업그레이드해주셨어요. 인테리어도 완전 요즘 스타일로 깔끔하고 예뻤어요! 수압은 딱 좋았습니다. 근데 사소하게 아쉬운 점이 너무 많았습니다ㅠ 체크인하고 들어가자마자 바닥에 털이랑, 침구에는 엄청 작지만 피 묻은 자국이 있었어요ㅠ 티테이블도 없고, 세면도구가 다 테이블 위에 있어서 짐 올려놓을 곳이 협소했어요. 화장실 문이 다 유리로 된 점과 방에 큰 거울이 한 개도 없는 점도 아쉬웠어요ㅠ 샤워하고 나니 물도 밖으로 새더라구요ㅠ 다른 룸은 괜찮을 수도 있을 것 같은데, 디럭스는 편의적인 면이 아쉬웠네요ㅠ 그래도 예쁜 게 더 중요하다 하는 분에겐 추천합니다.\n"
     ]
    },
    {
     "name": "stderr",
     "output_type": "stream",
     "text": [
      "\r 67%|██████▋   | 1140/1689 [2:24:25<1:00:29,  6.61s/it]"
     ]
    },
    {
     "name": "stdout",
     "output_type": "stream",
     "text": [
      "1140 : 시설은 타워요으로는 조금 힘든데 3~4명이서 놀 때는 최고인 것 같아요. 아침에 바다 뷰도 엄청 좋아요.\n"
     ]
    },
    {
     "name": "stderr",
     "output_type": "stream",
     "text": [
      "\r 68%|██████▊   | 1141/1689 [2:24:26<44:16,  4.85s/it]  "
     ]
    },
    {
     "name": "stdout",
     "output_type": "stream",
     "text": [
      "1141 : 깨끗하고 접근성이 좋다.\n"
     ]
    },
    {
     "name": "stderr",
     "output_type": "stream",
     "text": [
      "\r 68%|██████▊   | 1142/1689 [2:24:41<1:12:00,  7.90s/it]"
     ]
    },
    {
     "name": "stdout",
     "output_type": "stream",
     "text": [
      "1142 : 1점 주려고 했는데 뷰가 좋으니 2점 드립니다. 몇 년 된 건물인지만 모르겠지만, 시설이 노후되어 70년대 미국 호텔 느낌이에요. 옥상에 스카이 워이 있는데, 관리가 안 된 것 같아 보이네요. 잠옷 껴진 못해서요. 근방 같은 가격의 다른 호텔이나, 차라리 옛 건물이 에어비앤비가 더 좋을 것 같아요. 3월 말인데 룸이 전면 유리로 되어 있어서 햇볕을 받으니 룸 온도가 30도까지 올라가서 에어컨 틀어 달랬더니 중앙난방(?) 구조라 개별 냉방 작동 불가하다고 하며 선풍기를 가져다 주는데... 바닥 카펫에서 먼지가 날리는 느낌이에요. 화장실에 물때와 곰팡이가 있고 냄새도... 하... 이 상태 그대로라면 다신 가지 않을 곳이에요.\n"
     ]
    },
    {
     "name": "stderr",
     "output_type": "stream",
     "text": [
      "\r 68%|██████▊   | 1143/1689 [2:25:00<1:43:14, 11.35s/it]"
     ]
    },
    {
     "name": "stdout",
     "output_type": "stream",
     "text": [
      "1143 : 인터넷 검색장 광고 보고 처음 와본 숙소... 사기당한 느낌. 1박에 11만원, 사진도 나쁜 객실... 프론트 여직원 구겨진 브라우스부터 눈에 거슬렸는데 서비스도 구겨짐... 603호 들어가 커튼을 걷으니 바로 옆 건물 벽... 뷰하하. 내려가서 다른 객실로 변경을 요구하니 안재운이라는 여직원, 순간 AI인 줄...ㅎㅎ 딱딱한 말투로 만실이고 환불은 안 되고... 시티뷰를 설명한다. 건물이 바로 시야를 막는 게 시티뷰는 아닐 거라고 얘기했지만 인터넷에 딱 설명해놨다고... 어이가 없다. 말이 해도 안 통해 책임자 불러 달라 하니 책임자가 오늘은 아예 없다...ㅎㅎ 안재은이라는 여직원 때문에 부산 여행은 신작부터 꽝 되었다... 서비스 교육을 어찌 받았는지... 호텔이 너무 작아서인가? 위쪽 인근처럼 롱포 같다. 이 호텔 묵으실 분들은 시티뷰 쪽은 바로 건물 벽일 있으니 잘 알아보고 예약하세요.\n"
     ]
    },
    {
     "name": "stderr",
     "output_type": "stream",
     "text": [
      "\r 68%|██████▊   | 1144/1689 [2:25:04<1:22:03,  9.03s/it]"
     ]
    },
    {
     "name": "stdout",
     "output_type": "stream",
     "text": [
      "1144 : 스토크지까지 비나게 다까놓는 곳 첨 보단. 청결 끝장판! 대리석 바닥, 그릇, 도마까지 이쁨 ㅋ 굿굿\n"
     ]
    },
    {
     "name": "stderr",
     "output_type": "stream",
     "text": [
      "\r 68%|██████▊   | 1145/1689 [2:25:17<1:31:42, 10.12s/it]"
     ]
    },
    {
     "name": "stdout",
     "output_type": "stream",
     "text": [
      "1145 : 현대산업캬에서 운영하는 곳도 맞나요? 뭐이 도용 아니지 궁금했을 정도로 리셉션 앞에 사람들이 엄청 몰려서 체크인 대기하는데, 체온 측정도 안 하고 마스크 착용 규제도 없고... 안전 감각이 전혀 없네요. 대기하다가 입실해 보니 아무리 바쁜 휴가철이고 오래된 건물이라지만 바닥 청소 상태가 너무 심해서 다시 청소해 달라고 요청까지 했네요. 아이들과 가족들이 오는 콘도이므로 기본으로 관리되어야 할 침구류에 전날 묵은 손님들의 머리카락이 다 보이는 거 보니, 꾸정대로 침구류 관리가 전혀 안 되고 있네요. 가족들과 갔는데 완전 실망했습니다 ㅜㅜ\n"
     ]
    },
    {
     "name": "stderr",
     "output_type": "stream",
     "text": [
      "\r 68%|██████▊   | 1146/1689 [2:25:30<1:40:16, 11.08s/it]"
     ]
    },
    {
     "name": "stdout",
     "output_type": "stream",
     "text": [
      "1146 : 원주 쪽에 지인들과 골프장을 잡아놓고 주말이라 방 구하기 힘들 것 같아 미리 검색해서 깨끗하고 데크도 좋은 곳에 일단 예약은 했습니다. 하지만 지방을 다녀본 결과와 뷰가 좋아도 가보면 정말 실망한 곳도 있어서 반신반의하며 갔는데... 직원분들 친절하고 깨끗하고 ^^^ 만족 패키지라 아침 조식까지 포함되어 있어서 정말 기대 안 하고 내려갔는데~~~ 헹^^^ 기대 이상으로 깔끔하고 메뉴도 다양하게 마련되어 있어서 맛있게 먹었습니다^^^ 다만 아쉬운 점은 스키리장이 아직 공사가 안 끝난 상태로 별로^^^ 그것 빼고는 별 다섯 중에 4개 주고 싶네요^^ 그리고 직원분들 너무너무 친절했었습니다~•~\n"
     ]
    },
    {
     "name": "stderr",
     "output_type": "stream",
     "text": [
      "\r 68%|██████▊   | 1147/1689 [2:25:31<1:13:52,  8.18s/it]"
     ]
    },
    {
     "name": "stdout",
     "output_type": "stream",
     "text": [
      "1147 : 전반적으로 깔끔하지만 오래되었고, 편의 시설이 부족했다.\n"
     ]
    },
    {
     "name": "stderr",
     "output_type": "stream",
     "text": [
      "\r 68%|██████▊   | 1148/1689 [2:25:49<1:38:59, 10.98s/it]"
     ]
    },
    {
     "name": "stdout",
     "output_type": "stream",
     "text": [
      "1148 : 되게 기대하고 갔는데 생각보다 진짜 별로였던 곳. 그래도 서비스하면 신라겠지 하고 갔는데 영 별로고 부담스러웠다. 특히 로비 정문에서 일하는 사람 표정은 무엇인가... 최대한 안내하는 사람이 없어서 멀리 있는 주차장에서 고생해서 올라오고 (체크아웃 날에는 다) 방은 가격에 비해 너무 좁고 낡은 느낌이었다. 짐 넣어가니까 사람이 다닐 데가 없었다. 좁쫄ㅜ실내수영장도 동네 수영장보다 못하고...^^ 그냥 그 가격 주만하다 싶은 곳은 절대 아니었다. 좋았던 건 F&B 서비스였는데 로비에 있는 카페에서 애프터눈 티 세트 맛은 너무 달았지만, 티를 설명해주시던 여자 직원분이 너무 친절하고 친근감 있게 대해주셔서 잠시나마 행복했다. 서비스는 이렇게 하는 거구나 했음. 룸서비스로 먹은 스테이크와 해물 쌀국수도 맛있었고. 숙박은 비추천, F&B는 추천.\n"
     ]
    },
    {
     "name": "stderr",
     "output_type": "stream",
     "text": [
      "\r 68%|██████▊   | 1149/1689 [2:25:50<1:13:13,  8.14s/it]"
     ]
    },
    {
     "name": "stdout",
     "output_type": "stream",
     "text": [
      "1149 : 서울에서 시티뷰가 가장 멋지다고 생각하는 호텔 중 한 곳!!\n"
     ]
    },
    {
     "name": "stderr",
     "output_type": "stream",
     "text": [
      "\r 68%|██████▊   | 1150/1689 [2:25:57<1:09:04,  7.69s/it]"
     ]
    },
    {
     "name": "stdout",
     "output_type": "stream",
     "text": [
      "1150 : 크리스마스 연휴라 다른 날보다 여러사리 예약해서 다녀왔습니다. 화이트 크리스마스여서 옷이 축축했는데, 뜨끈한 방에서 잘 말릴 수 있었네요. 오히려 너무 뜨거워서 조심해야 할 지경입니다. 눈도 꽤 쌓였지만, 주차장이 넉넉해서 잘 이용했습니다. 또 이용하겠습니다.\n"
     ]
    },
    {
     "name": "stderr",
     "output_type": "stream",
     "text": [
      "\r 68%|██████▊   | 1151/1689 [2:26:03<1:03:53,  7.12s/it]"
     ]
    },
    {
     "name": "stdout",
     "output_type": "stream",
     "text": [
      "1151 : 저는 마라톤 참여를 위해 처음으로 캡슐 호텔을 이용해봤는데, 뷰도 시설도 너무 좋고 깔끔해요! 파우더룸이 별도로 있고, 샤워 시설도 개별적으로 프라이빗해서 너무 편해요 ㅠㅠ 여긴 무조건 추천입니다!\n"
     ]
    },
    {
     "name": "stderr",
     "output_type": "stream",
     "text": [
      "\r 68%|██████▊   | 1152/1689 [2:26:04<47:38,  5.32s/it]  "
     ]
    },
    {
     "name": "stdout",
     "output_type": "stream",
     "text": [
      "1152 : 솔직히 매우 만족하지만, 저는 차가 없었습니다.\n"
     ]
    },
    {
     "name": "stderr",
     "output_type": "stream",
     "text": [
      "\r 68%|██████▊   | 1153/1689 [2:26:11<52:15,  5.85s/it]"
     ]
    },
    {
     "name": "stdout",
     "output_type": "stream",
     "text": [
      "1153 : 숙소가 깔끔해서 좋았어요. 신평소공만 생각했는데 조금 걸어 지라향 쪽으로 가니 횟집이랑 식당도 많고, 어반장에서 건너뮤리나 싱싱한 해산물도 팔고 해서 산책도 하고 사다가 숙소에서 밥 먹고 쉬기에 딱 좋더라고요. 날씨가 좋아서 일출과 낙조도 볼 수 있었다니따.\n"
     ]
    },
    {
     "name": "stderr",
     "output_type": "stream",
     "text": [
      "\r 68%|██████▊   | 1154/1689 [2:27:05<3:00:22, 20.23s/it]"
     ]
    },
    {
     "name": "stdout",
     "output_type": "stream",
     "text": [
      "1154 : 6시 체크인 하기 전 카운터에 아무도 없어서 로비에 앉아 음료를 마시며 기다렸어요. 로비 시설도 좋고 음료도 추가로 먹을 수 있어 그 점은 좋았어요. 그런데 10분 전 미리 체크인 가능할까 카운터 직원이 오셔서 예약한 사이트와 성함 말씀드리고 객실 키를 받았습니다. 그런데 기분이 좀 친절한 인상은 아니었고 무뚝뚝한 스타일이라 서비스직에는 잘 안 맞다고 생각하고 객실 키를 받아서 올라갔습니다. 그런데 도착한 방은 제가 예약한 비즈니스룸이 아니었습니다. 그래서 프런트에 전화해서 이야기하습니다. 그랬더니 내가 스탠다드룸으로 예약했다고 하더군요. 무슨 소리가 싶었습니다. 당황스러워 아니라고 비즈니스룸으로 예약했다고 재차 설명하고 아마 다른 사람 내역으로 착각했다 싶었습니다. 그런데 카운터에서는 내가 스탠다드룸으로 예약했다고만 답하길래 핸드폰 끝자리가 몇 번으로 예약된 건지 또 다른 날도 가본 적 있기에 오늘 날짜가 맞는지 따위 아이디로 예약했지만 투숙객 이름을 내 이름으로 수정해서 그런 건 아니냐 다양한 가능성에 대해 되물어봤죠. 결국 아쉬운호 때문에 그자리에는 알 수 없다고 하니 답답한 마음에 프런트로 다시 짐 싸서 내려갔습니다. 예약 내역 보여주니 근처서야 비즈니스룸 맞으시다며 이름 본인이 듣고 재확인할 때 다른 이름에 내가 맞다고 답해서 생긴 일이라고 하네요. 당연히 전 내 이름으로 틀었다고 대답했지요. 알고 보니 같은 사이트 예약 내역에 비슷한 고객 이름 때문에 생긴 일이었습니다. 그런데 이름 비슷한 고객이 있어서 착오가 있었다고 말하면 서로 이해하고 넘어갈 수 있을 해프니인데 사과는 발랐지도 않았건만 아무 문제 제기하지 않고 넘어가려는 고객에게 본인이 이름을 잘못 알아들은 실수에는 관대한 듯 고객이 이름 확인할 때 잘못 확인 대답해서 그렇다는 내용은 정말 불쾌했습니다. 이 사건과 관련 없이 처음에 받았던 첫인상이 별로라 그 직원이 좀 친절했으면 좋겠다 생각을 했었습니다. 그래서 처음 그 카운터 직원에게 예약 사이트와 예약자 이름을 말해주고 재확인해줄 때 내 이름이 맞냐고 되묻고 맞다 싶고 길게 말리 이어가고 싶지 않아 흐려드렸던 내 잘못도 분명 찾아본다면 있겠지요. 그러나 일하는 데 힘들겠지만 이런 일이 있을 때 본인은 잘못 없고 고객이 되물었을 때 이름을 잘못 확인해줬다는 내용의 발언은 지양했으면 좋겠습니다. 그리고 예약 사이트 성함은 아니라 예약 내역 룸 타입 확인 과정이 있었다면 어땠을까, 응대가 아쉽습니다. 또한 전화로 대화 과정에서 예약 내용이 서로 상의하면 고객이 착각했다고만 생각하지 말고 본인이 가지고 있는 예약자 모로에 비슷한 이름이 고객 명단 확인이나 다른 상황은 아닌가 다양한 가능성에 대해 먼저 생각하고 유연하게 대처해 주셨으면 좋겠습니다. 오늘 이곳에서의 경험은 불쾌했고 답답했으며 당황스러웠고 또 민망했습니다.\n"
     ]
    },
    {
     "name": "stderr",
     "output_type": "stream",
     "text": [
      "\r 68%|██████▊   | 1155/1689 [2:27:09<2:16:49, 15.37s/it]"
     ]
    },
    {
     "name": "stdout",
     "output_type": "stream",
     "text": [
      "1155 : 화장실에서 담배 냄새 나고 옆방 MT 왔는지 시끄러운 소리가 잘 들렸음. 주말 온천 프론트 직원은 알바인가 쉽게 기본적인 서비스 에티켓이 별로임. 위치는 매우 좋음.\n"
     ]
    },
    {
     "name": "stderr",
     "output_type": "stream",
     "text": [
      "\r 68%|██████▊   | 1156/1689 [2:27:10<1:39:22, 11.19s/it]"
     ]
    },
    {
     "name": "stdout",
     "output_type": "stream",
     "text": [
      "1156 : 예약 응대가 세상 불친절한 사우로. 비추천.\n"
     ]
    },
    {
     "name": "stderr",
     "output_type": "stream",
     "text": [
      "\r 69%|██████▊   | 1157/1689 [2:27:26<1:51:50, 12.61s/it]"
     ]
    },
    {
     "name": "stdout",
     "output_type": "stream",
     "text": [
      "1157 : 별 하나도 아까워요. 청소가 제대로 되지 않고 담배 찌든 내음이 나는 퀴퀴한 방이었어요. 창문이 부서져 있어 제대로 열지도 못했구요. 가장 어이없던 점은 부실한 고객 대응입니다. 키를 맡기고 주차를 해드렸어요. 다음 날 일어나 보니 차 앞 유리와 별퍼 부분에 생똥이 천지여서 세차비를 청구했는데, 로비에 계시던 여자분이 사장님에게 메시지를 남기겠다는 둥 회피하더니 결국 연락은 오지 않았고 오리무중이 되었어요. 급하게 알아본 곳이었는데 부산 여행 자체가 이거 때문에 완전 쓰레기 악몽이 되었네요. 위의 상황을 겪고도 괜찮으시면 새벽 2시에 7-8만원 내고 아침에 퇴실하면 되시겠습니다. 저 같은 피해를 당하는 사람들이 있을까 봐 여럿데요, 공익성을 위해 올립니다.\n"
     ]
    },
    {
     "name": "stderr",
     "output_type": "stream",
     "text": [
      "\r 69%|██████▊   | 1158/1689 [2:27:45<2:08:16, 14.49s/it]"
     ]
    },
    {
     "name": "stdout",
     "output_type": "stream",
     "text": [
      "1158 : 엄청 많은 호텔을 다녀보진 않았지만, 그 중에서 아주 구린 것은 확실합니다.   1. 욕실에서 머리카락 및 초파리를 발견했습니다. 2. 전화 틀어게 안 받습니다. 겨우 받았을 때 팬트를 좀 가져다 달라고 했더니 30분 걸렸습니다. 어디 가지도 못하고 손도피 불러친 채로 바닥에 앉아 있었어요. 3. 체크인할 때 객실 비용 외에 20만 원이나 추가 결제했습니다. 다른 곳에서는 체크아웃 시 추가 요금이 있는지 확인하고 결제하거나 카드 정보만 알아가는데, 여기는 아예 20만 원을 빼갑니다. 그리고 체크아웃할 때 20만 원을 취소해 주는데, 그건 카드와 영수증이랑 다 오류합니다. 체크인할 때 뭔가 이상한 사람 취급받는 기분이 들어 불쾌했습니다. 4. 라운지 음식도 별거 없고 사람은 오지게 많습니다. 5. 엘리베이터는 적고 사람은 많아서 엘리베이터 기다리는 시간만 이틀 동안 한 시간은 쓴 듯합니다.\n"
     ]
    },
    {
     "name": "stderr",
     "output_type": "stream",
     "text": [
      "\r 69%|██████▊   | 1159/1689 [2:27:46<1:31:46, 10.39s/it]"
     ]
    },
    {
     "name": "stdout",
     "output_type": "stream",
     "text": [
      "1159 : 나만의 공간이 코브 코트\n"
     ]
    },
    {
     "name": "stderr",
     "output_type": "stream",
     "text": [
      "\r 69%|██████▊   | 1160/1689 [2:27:49<1:13:15,  8.31s/it]"
     ]
    },
    {
     "name": "stdout",
     "output_type": "stream",
     "text": [
      "1160 : 숙소 위치도 바다 바로 앞이라 이동하기 편했고, 직원분들이 친절해요! 다른 곳보다 숙소 화장실이 전부 깨끗해서 다음 번에도 또 이용할 것 같아요!!\n"
     ]
    },
    {
     "name": "stderr",
     "output_type": "stream",
     "text": [
      "\r 69%|██████▊   | 1161/1689 [2:28:12<1:50:45, 12.59s/it]"
     ]
    },
    {
     "name": "stdout",
     "output_type": "stream",
     "text": [
      "1161 : 지금 보니까 사이트마다 다른데, 평일 특가는 5만 원도 안 하더만. 아니, 같은 방인데 플랫폼마다 가격이 조금씩 다르게 설정하나? 지금도 플랫폼마다 이벤트가 죄다 다르게 설정해 놓았으면서, 어느 플랫폼이 어디가 오류인지 어떻게 일이 쌓여갈 수 있나? 여기는 6만 원, 여기는 5만 원, 여기 어때는 38,500원도 보이는데. 순간 나도 가격 보고 혹해서 일단 예약부터 하고 싶더라. 근데 뉴스 봐서 그런가? 현장 가서 나도 \"저희는 3만 원대 특가는 없어요.\" 하고 취소당하지? 이런 생각이 들면서, 아예 예약하고 싶은 마음도 함께 사라지더라. 와, 어떻게 이렇게 마케팅을 정반대로 할 수 있나? 그냥 손해 보는 셈 치고 잘해주고 넘겨셔야지. 주말에 평일 이벤트가로 올라간 게 직원이 등록 실수겠지? 일하다 보면 그럴 수 있지. 근데 방이 없다고 20-30만 원 줘도 입실 불가라면서 강제 취소해 놓고, 12만 원에 현장 결제를 받는 건 뭐냐? ㅋㅋㅋ 이게 호텔 측 최악의 한 수 아닐까?\n"
     ]
    },
    {
     "name": "stderr",
     "output_type": "stream",
     "text": [
      "\r 69%|██████▉   | 1162/1689 [2:28:19<1:34:39, 10.78s/it]"
     ]
    },
    {
     "name": "stdout",
     "output_type": "stream",
     "text": [
      "1162 : 조용한 위치라 좋았습니다. 친절하기도 했고요. 다만 청결에 조금 더 신경 써야 할 곳 같네요. 수질도 나쁜 잠옷에 머리카락이 박혀 있고, 베개에 노란 얼룩이 있어 컴플레인했네요. 중국산 어메니티도 좀 그렇고.. 부산 자주 오는데 재방문의사는 글쎄..\n"
     ]
    },
    {
     "name": "stderr",
     "output_type": "stream",
     "text": [
      "\r 69%|██████▉   | 1163/1689 [2:28:23<1:17:49,  8.88s/it]"
     ]
    },
    {
     "name": "stdout",
     "output_type": "stream",
     "text": [
      "1163 : 가성비 나쁘지 않은데요. 거기 아저씨는 머리도 안 감고 겁나게 지저분한데, 마스크도 안 쓰고 돌아다니고 음식을 서빙합니다. 밥은 맛있었지만, 밥맛은 떨어졌습니다.\n"
     ]
    },
    {
     "name": "stderr",
     "output_type": "stream",
     "text": [
      "\r 69%|██████▉   | 1164/1689 [2:28:32<1:16:52,  8.79s/it]"
     ]
    },
    {
     "name": "stdout",
     "output_type": "stream",
     "text": [
      "1164 : 방음이 심각합니다. 힐링하러 와서 층간 소음 체험하다 가네요. 아이들이 있는 단체 그룹을 2층에 배정해 놓고는 아이들이 새벽까지 복도며 방이며 뛰어노는데 이건 아니다 심각히 조용히 해 달라고 해도 방기는 게 없네요. 가족 단위 투숙객이 있다면 차라리 한 동에 몰아넣고 자기들끼리 밤새 소음놀이 하라고 하던지요? 살다 가면 처음으로 악평 남겨봅니다.\n"
     ]
    },
    {
     "name": "stderr",
     "output_type": "stream",
     "text": [
      "\r 69%|██████▉   | 1165/1689 [2:28:33<56:48,  6.50s/it]  "
     ]
    },
    {
     "name": "stdout",
     "output_type": "stream",
     "text": [
      "1165 : 깨끗하고 쾌적한 시설, 친절한 안내\n"
     ]
    },
    {
     "name": "stderr",
     "output_type": "stream",
     "text": [
      "\r 69%|██████▉   | 1166/1689 [2:28:52<1:30:07, 10.34s/it]"
     ]
    },
    {
     "name": "stdout",
     "output_type": "stream",
     "text": [
      "1166 : 엘리베이터 좀 개선해주세요!!!! 여러 호텔 다녀봤는데 엘리베이터 최악이네요. 총 4개인데 효율적으로 운행을 못하는 건지... 게다가 엘리베이터에 에어컨도 안 틀어져서 해 찜통이에요. 매 층마다 서는데 진짜 죽겠어요. 엘리베이터도 잘 안 오니까 사람들이 억지로라도 다 타라 그래요.... 다 기겁 타는데 너무 지옥이에요. 모두가 다 오가면서 타요 ㅠㅠ 분명 호텔도 인지했을 텐데 시스템 안 고치는 거 봐요.... 높다 ㅠㅠ 밖으로 나가거나 호텔로 들어오는데 10층은 소요해야 해요. 2박 3일 동안 스트레스였어요. 청소 상태도... 화장실 바닥에 물때가 장난 아니에요. 회사에서 숙박권 준 거라 온 거지 앞으로 여기 신청도 안 할 거고 특히.... 내 돈 주고는 다신 안 옵니다... ㅠ3ㅠ 저기 파라다이스도 가봤는데 너무 비교돼요. 파라다이스가 넘살로 좋아요.\n"
     ]
    },
    {
     "name": "stderr",
     "output_type": "stream",
     "text": [
      "\r 69%|██████▉   | 1167/1689 [2:28:53<1:06:02,  7.59s/it]"
     ]
    },
    {
     "name": "stdout",
     "output_type": "stream",
     "text": [
      "1167 : 아주 만족이 이만한 숙소가 있을까 싶네요....\n"
     ]
    },
    {
     "name": "stderr",
     "output_type": "stream",
     "text": [
      "\r 69%|██████▉   | 1168/1689 [2:28:59<1:02:02,  7.15s/it]"
     ]
    },
    {
     "name": "stdout",
     "output_type": "stream",
     "text": [
      "1168 : 가족이 너무 좋다고 와보자고 해서 왔습니다. 풍경도 좋고 화장실도 넓고 수압도 좋고 (근데 너무 꽐꽐 나와서 처음엔 당황했어요) 욕조도 있고 무엇보다 깨끗해서 좋았습니다. 조식을 꼭 드세요. 웬만한 음식점보다 맛있습니다. 특히 미역국...\n"
     ]
    },
    {
     "name": "stderr",
     "output_type": "stream",
     "text": [
      "\r 69%|██████▉   | 1169/1689 [2:29:14<1:21:55,  9.45s/it]"
     ]
    },
    {
     "name": "stdout",
     "output_type": "stream",
     "text": [
      "1169 : 최근에 다녀온 5성급 중에서도 서비스 1등! 특히 체크인해 준 남자 직원분 너무 친절하십니다. <Ethan> 직원 덕분에 체크인부터 완벽했어요. 중간중간 어르미나 가습기 요청 전화받아주신 직원분도 정말 친절하셨습니다. - 나 \"늦은 시간에 죄송합니다. 여유를 좀 받을 수 있을까요?\" - 직원 \"Oui, 그럼요!!!\" '그럼요'라는 대답 처음 들었는데 괜히 기분 좋고 더더욱 감사하더라고요. 메뉴비크름이 전망이 앞 건물에 가려진다는 걸 몰랐었는데 28층이었나? 높은 층으로 준비해주셔서 오히려 좋았습니다^^ 그리고 럭셔리 방보다 넉넉하고 큰 것 같아요~ 최고의 추억 만들어주셔서 감사합니다!\n"
     ]
    },
    {
     "name": "stderr",
     "output_type": "stream",
     "text": [
      "\r 69%|██████▉   | 1170/1689 [2:29:18<1:06:24,  7.68s/it]"
     ]
    },
    {
     "name": "stdout",
     "output_type": "stream",
     "text": [
      "1170 : 위치가 좋고 신라 호텔 계열답게 직원들의 고객 응대 태도가 만족스럽습니다. 방이 좀 좁고 뷰가 아쉬운 점은 있지만 재방문의사 있습니다.\n"
     ]
    },
    {
     "name": "stderr",
     "output_type": "stream",
     "text": [
      "\r 69%|██████▉   | 1171/1689 [2:29:18<48:28,  5.62s/it]  "
     ]
    },
    {
     "name": "stdout",
     "output_type": "stream",
     "text": [
      "1171 : 인근 물가가 비싸네요.\n"
     ]
    },
    {
     "name": "stderr",
     "output_type": "stream",
     "text": [
      "\r 69%|██████▉   | 1172/1689 [2:29:20<36:54,  4.28s/it]"
     ]
    },
    {
     "name": "stdout",
     "output_type": "stream",
     "text": [
      "1172 : 너무너무 좋았어요. 또 가고 싶어요.\n"
     ]
    },
    {
     "name": "stderr",
     "output_type": "stream",
     "text": [
      "\r 69%|██████▉   | 1173/1689 [2:29:22<30:56,  3.60s/it]"
     ]
    },
    {
     "name": "stdout",
     "output_type": "stream",
     "text": [
      "1173 : 가성비가 좋아요. 연식이 좀 되어서 시설이 낙후된 점은 조금 아쉬워요.\n"
     ]
    },
    {
     "name": "stderr",
     "output_type": "stream",
     "text": [
      "\r 70%|██████▉   | 1174/1689 [2:29:25<31:06,  3.62s/it]"
     ]
    },
    {
     "name": "stdout",
     "output_type": "stream",
     "text": [
      "1174 : 국민 세금으로 약값 20만 원, 커피값, 양념치킨으로 뻥뻥 써대는 약질 쭉이우이 위사로 있는 곳이 여긴 맞나요?\n"
     ]
    },
    {
     "name": "stderr",
     "output_type": "stream",
     "text": [
      "\r 70%|██████▉   | 1175/1689 [2:29:28<29:48,  3.48s/it]"
     ]
    },
    {
     "name": "stdout",
     "output_type": "stream",
     "text": [
      "1175 : 오션뷰는 아니었지만 시티뷰도 나쁘지 않았고, 고층으로 배정되어 기분 좋았습니다. 이래서 좋은 호텔 가는구나 생각하는 하루였네요~^^\n"
     ]
    },
    {
     "name": "stderr",
     "output_type": "stream",
     "text": [
      "\r 70%|██████▉   | 1176/1689 [2:29:49<1:12:22,  8.46s/it]"
     ]
    },
    {
     "name": "stdout",
     "output_type": "stream",
     "text": [
      "1176 : 여기 엘리베이터 시스템은 매우 악명이 높으니, 퇴실 후 교통편을 통해 다른 곳으로 이동해야 하는 경우 예상보다 20분 정도 기다려야 안전합니다. 이곳보다 객실 수가 유용이 많고, 엘리베이터 수가 적은 곳도 수차례 이용해봤지만, 이렇게 엘리베이터 운영 시스템이 후진적인 곳을 본 적이 없네요. 엘리베이터 타려면 최소 5분에서 15분 정도 기다려야 합니다. 객실에 한번 들어가서 장박혀 호캉스하는 경우라도 최소 3번(익스프레스 체크아웃 시)은 이용해야 하는데 정말 매우 불편한 방식으로 운영되고 있습니다. 보유 엘리베이터는 4대지만 주로 3대가 운영되며, 버튼을 누르면 모든 엘리베이터에 적용되는 방식이라 시간 낭비가 심합니다. 각층층 홀수층을 분리하는 방식과 버튼을 누른 층에서 가장 가까운 층에 정지 중인 엘리베이터가 우선 작동되는 방식(여쁜 1대는 대기 상태로 유지하거나 체크인 체크아웃 전용 엘리베이터로 배분)으로 운영하는 게 시계배 보입니다.\n"
     ]
    },
    {
     "name": "stderr",
     "output_type": "stream",
     "text": [
      "\r 70%|██████▉   | 1177/1689 [2:29:49<52:27,  6.15s/it]  "
     ]
    },
    {
     "name": "stdout",
     "output_type": "stream",
     "text": [
      "1177 : 좋은 경험은 아니었습니다.\n"
     ]
    },
    {
     "name": "stderr",
     "output_type": "stream",
     "text": [
      "\r 70%|██████▉   | 1178/1689 [2:29:50<38:31,  4.52s/it]"
     ]
    },
    {
     "name": "stdout",
     "output_type": "stream",
     "text": [
      "1178 : 조식이 아주 맛있어요.\n"
     ]
    },
    {
     "name": "stderr",
     "output_type": "stream",
     "text": [
      "\r 70%|██████▉   | 1179/1689 [2:29:52<30:42,  3.61s/it]"
     ]
    },
    {
     "name": "stdout",
     "output_type": "stream",
     "text": [
      "1179 : 예약을 자기 마음대로 취소하고 가격을 올려서 다시 내놓던 집\n"
     ]
    },
    {
     "name": "stderr",
     "output_type": "stream",
     "text": [
      "\r 70%|██████▉   | 1180/1689 [2:29:54<27:00,  3.18s/it]"
     ]
    },
    {
     "name": "stdout",
     "output_type": "stream",
     "text": [
      "1180 : 깔끔하니 좋아요. 아침엔 왕풀도 먹을 수 있고, 주차 공간도 부족하지는 않아요.\n"
     ]
    },
    {
     "name": "stderr",
     "output_type": "stream",
     "text": [
      "\r 70%|██████▉   | 1181/1689 [2:30:03<41:38,  4.92s/it]"
     ]
    },
    {
     "name": "stdout",
     "output_type": "stream",
     "text": [
      "1181 : 3인실에서 잤습니다. 베개에 커버가 다 지저저 있고, 욕실에 곰팡이 냄새가 정말 심하고, 밖에 노래 소리, 오토바이 소리 등 소음이 다 들립니다. 옆 건물 다트 소음도 들리고, 밤새 잠을 못 잤습니다. 매트리스도 용수철이 다 느껴지고 엄청 흔들립니다. 아침에 일어나서 머리가 엉키러워 내과에 갔더니 있어충 진단을 받았습니다. 검사비가 11만 원 나왔습니다.\n"
     ]
    },
    {
     "name": "stderr",
     "output_type": "stream",
     "text": [
      "\r 70%|██████▉   | 1182/1689 [2:30:09<46:11,  5.47s/it]"
     ]
    },
    {
     "name": "stdout",
     "output_type": "stream",
     "text": [
      "1182 : 겉모습을 보고 살짝 걱정되긴 했는데, 게스트하우스에서 살짝 냄새가 나는 것 같기도 하네요ㅋㅋ 근데 침구류는 깨끗해서 그래도 마음에 들었어요. 하루 지내다 갈 거라서 가성비 좋고, 위치도 바다 앞이라 좋은 것 같아요. 체크아웃은 자율입니다. 외국인 비율이 높아요.\n"
     ]
    },
    {
     "name": "stderr",
     "output_type": "stream",
     "text": [
      "\r 70%|███████   | 1183/1689 [2:30:12<38:54,  4.61s/it]"
     ]
    },
    {
     "name": "stdout",
     "output_type": "stream",
     "text": [
      "1183 : 고객을 무시하는 별 하나도 아까운 호텔입니다. 무책임한 지배인과 부실한 주차장 운영이 참 안타깝습니다.\n"
     ]
    },
    {
     "name": "stderr",
     "output_type": "stream",
     "text": [
      "\r 70%|███████   | 1184/1689 [2:30:14<31:17,  3.72s/it]"
     ]
    },
    {
     "name": "stdout",
     "output_type": "stream",
     "text": [
      "1184 : 청결하고 주차 용이하고 아늑하고 침대 편하고 짱입니다.\n"
     ]
    },
    {
     "name": "stderr",
     "output_type": "stream",
     "text": [
      "\r 70%|███████   | 1185/1689 [2:30:15<25:02,  2.98s/it]"
     ]
    },
    {
     "name": "stdout",
     "output_type": "stream",
     "text": [
      "1185 : 깔끔하고 친절하며, 조식도 만족합니다.\n"
     ]
    },
    {
     "name": "stderr",
     "output_type": "stream",
     "text": [
      "\r 70%|███████   | 1186/1689 [2:30:19<28:44,  3.43s/it]"
     ]
    },
    {
     "name": "stdout",
     "output_type": "stream",
     "text": [
      "1186 : 너무 좋아서 3번째 재방문했어요~ 조용하고 혜화 근처에서 놀고 들어가서 야경 보면서 와인 한 잔 하면 진짜 쉬는 느낌이 드는 호텔입니다! 무엇보다 침구류가 너무너무 고급스러워요!!\n"
     ]
    },
    {
     "name": "stderr",
     "output_type": "stream",
     "text": [
      "\r 70%|███████   | 1187/1689 [2:30:20<22:48,  2.73s/it]"
     ]
    },
    {
     "name": "stdout",
     "output_type": "stream",
     "text": [
      "1187 : 달장에 달 새끼들이 밤새 시끄러움...\n"
     ]
    },
    {
     "name": "stderr",
     "output_type": "stream",
     "text": [
      "\r 70%|███████   | 1188/1689 [2:30:37<57:10,  6.85s/it]"
     ]
    },
    {
     "name": "stdout",
     "output_type": "stream",
     "text": [
      "1188 : 프리미엄 캡슐 오션뷰와 코너를 이용했습니다! 혼자 들렀는데 오션뷰는 포기할 수 없고 다른 곳들은 가격이 너무 부담스러워서 호텔 1 캡슐호텔을 이용해봤어요! 조그맣 다닥하지 않을까 걱정했는데 일반 룸보다 코너가 훨씬 여유 공간이 많습니다! 앉아서도 여유 공간이 넉넉하고 뷰도 탁 트여 완전 좋습니다. 일반 룸은 좁아서 그런지 좀 더 덥고 환기가 잘 안 되어 먼지에 예민한 저는 꼭가 좀 막히는 기분이 들었는데, 코너룸은 확실히 덜해서 좋았습니다 :) 그래도 일반 룸도 하루 이틀 묵기에는 충분한 것 같아요. 어메니티도 다 있고 샤워실 화장실도 엄청 깔끔하게 잘 되어 있어요 :) 잠옷, 고데기, 드라이기도 다 구비되어 있어서 정말 몸만 와도 될 것 같아요. 잘 쉬다 갑니다.\n"
     ]
    },
    {
     "name": "stderr",
     "output_type": "stream",
     "text": [
      "\r 70%|███████   | 1189/1689 [2:30:39<45:22,  5.45s/it]"
     ]
    },
    {
     "name": "stdout",
     "output_type": "stream",
     "text": [
      "1189 : 청소하시는 분이 친절하셔서 좋았습니다. 침구류가 깔끔하고 깨끗합니다.\n"
     ]
    },
    {
     "name": "stderr",
     "output_type": "stream",
     "text": [
      "\r 70%|███████   | 1190/1689 [2:30:45<46:09,  5.55s/it]"
     ]
    },
    {
     "name": "stdout",
     "output_type": "stream",
     "text": [
      "1190 : 여기 연휴 때 정가에 예약하고 사장님이랑 예약 확인 통화까지 했는데, 갑자기 일방적으로 취소하고 다른 사이트에 가격 2~3배 올려서 (주말 24만 원ㅋㅋㅋ) 받으시네요? 사장님 마인드 나있으세요~\n"
     ]
    },
    {
     "name": "stderr",
     "output_type": "stream",
     "text": [
      "\r 71%|███████   | 1191/1689 [2:30:51<46:18,  5.58s/it]"
     ]
    },
    {
     "name": "stdout",
     "output_type": "stream",
     "text": [
      "1191 : 편안하게 잘 묵었어요. 그러나 5성급 호텔의 욕조라고는 생각할 수 없는 부실함… 욕조 마개가 고장 나서 직원분을 두 번이나 부르야 했어요. 같이 간 친구가 몇 성짜리 호텔인지 물어봤을 때 감감해서 검색해보고 5성이라 놀랐네요^^\n"
     ]
    },
    {
     "name": "stderr",
     "output_type": "stream",
     "text": [
      "\r 71%|███████   | 1192/1689 [2:30:52<34:44,  4.19s/it]"
     ]
    },
    {
     "name": "stdout",
     "output_type": "stream",
     "text": [
      "1192 : 객실에 비데만 있으면 최고의 투소.\n"
     ]
    },
    {
     "name": "stderr",
     "output_type": "stream",
     "text": [
      "\r 71%|███████   | 1193/1689 [2:30:52<26:06,  3.16s/it]"
     ]
    },
    {
     "name": "stdout",
     "output_type": "stream",
     "text": [
      "1193 : 그냥... 잘 모르겠음\n"
     ]
    },
    {
     "name": "stderr",
     "output_type": "stream",
     "text": [
      "\r 71%|███████   | 1194/1689 [2:30:54<22:51,  2.77s/it]"
     ]
    },
    {
     "name": "stdout",
     "output_type": "stream",
     "text": [
      "1194 : 평점이 왜 별로지? 이 가격에 높고 넓고 고급지고 완전 좋았는데.\n"
     ]
    },
    {
     "name": "stderr",
     "output_type": "stream",
     "text": [
      "\r 71%|███████   | 1195/1689 [2:31:05<41:52,  5.09s/it]"
     ]
    },
    {
     "name": "stdout",
     "output_type": "stream",
     "text": [
      "1195 : 오랜만에 서울 호캉스 하려고 들렀는데 너무 좋았어요! 인테리어도 공간 안에서 너무 잘 활용해줘서 겨울 포인트부터 알피판까지 너무 예뻐요  알피판이 하나라서 아쉬웠는데 알고 보니 1층에서 만 원 보증금을 맡겨 놓으면 대여해주고 나중에 찾아갈 수 있는 시스템을 만들어 놨더라고요!! 굿굿! 일화동 뷰도 아기자기해서 너무 귀엽고 조용하니 자주 방문할 것 같아요. 올 그때 방문한 호텔 중 가장 마음에 드네요. 또 올게요\n"
     ]
    },
    {
     "name": "stderr",
     "output_type": "stream",
     "text": [
      "\r 71%|███████   | 1196/1689 [2:31:09<40:46,  4.96s/it]"
     ]
    },
    {
     "name": "stdout",
     "output_type": "stream",
     "text": [
      "1196 : 호캉스로 다녀왔는데, 아무래도 알아주는 호텔이다 보니 시설이 좋아서요. 어메니티는 환경 보호로 제공하지 않으니 챙겨가시는 것을 추천드립니다. 백화점과 연결되어 있어 이동하기 편해요.\n"
     ]
    },
    {
     "name": "stderr",
     "output_type": "stream",
     "text": [
      "\r 71%|███████   | 1197/1689 [2:31:10<30:25,  3.71s/it]"
     ]
    },
    {
     "name": "stdout",
     "output_type": "stream",
     "text": [
      "1197 : 방음이 진짜 최악이네요.....\n"
     ]
    },
    {
     "name": "stderr",
     "output_type": "stream",
     "text": [
      "\r 71%|███████   | 1198/1689 [2:31:14<31:09,  3.81s/it]"
     ]
    },
    {
     "name": "stdout",
     "output_type": "stream",
     "text": [
      "1198 : 재방문 5번째입니다. 사장님 인상도 좋으시고 친절하시며, 무엇보다 방안이 청결하고 아늑하며 지리적 위치가 좋아서 자주 찾게 됩니다. 별 다섯 개\n"
     ]
    },
    {
     "name": "stderr",
     "output_type": "stream",
     "text": [
      "\r 71%|███████   | 1199/1689 [2:31:21<38:41,  4.74s/it]"
     ]
    },
    {
     "name": "stdout",
     "output_type": "stream",
     "text": [
      "1199 : 체크인하고 5시간이 지나도록 따뜻하지 않아서 문의하니까 방의 온도는 27도까지밖에 올라가지 않는다고 하더군요. (그 이유가 전기 판내인데 화재가 발생했다는데 신고된 내역도 없더군요.) 그리고 침구는 세탁을 하지 않았는지 베개에는 머리카락이 퍼져있더군요. 다시는 가고 싶지 않은 곳이네요.\n"
     ]
    },
    {
     "name": "stderr",
     "output_type": "stream",
     "text": [
      "\r 71%|███████   | 1200/1689 [2:31:23<30:51,  3.79s/it]"
     ]
    },
    {
     "name": "stdout",
     "output_type": "stream",
     "text": [
      "1200 : 넓고 앞에 산책로도 좋은데 놀 게 없어서 심심해요.\n"
     ]
    },
    {
     "name": "stderr",
     "output_type": "stream",
     "text": [
      "\r 71%|███████   | 1201/1689 [2:31:38<58:38,  7.21s/it]"
     ]
    },
    {
     "name": "stdout",
     "output_type": "stream",
     "text": [
      "1201 : 예약 정보에 도착 예정 시간을 정하라고 하여 (**10시 선택하고 예약했더니 예약이 완료**)가 되어서 10시까지 갔는데 우리는 2시 입실이니까 빨리 나가라고 적반하장식으로 소리를 질렀다…;??? (1차 당황) 관리인분이 이거 체크하면 2시 전에는 오지 말라는 안내가 문자나 전화로 온다는데 전화 문자도 전화도 안 왔다고 확인시켜드렸더니 많이 당황하셨음… (일음 꼼꼼하게 잘 안 하시는 듯..)(2차 당황) 사이트에 그러면 저 항목을 삭제하시던가 조치를 취해야 하는 거 아닌가요? 사이트 관리는 누가 하시는 거죠? 병진방 관리, 사이트 관리하시는 분들 너무 많이 실망했습니다…..  빨리 사이트에 있는 거 변경 하셔서 똑같은 일 없도록 하시면 좋을 것 같습니다..\n"
     ]
    },
    {
     "name": "stderr",
     "output_type": "stream",
     "text": [
      "\r 71%|███████   | 1202/1689 [2:31:53<1:18:41,  9.69s/it]"
     ]
    },
    {
     "name": "stdout",
     "output_type": "stream",
     "text": [
      "1202 : 2박 3일 있었고요.   장점   1. 가격이 다른 곳보다 저렴하다.   2. 실내는 간단한 새 인테리어 느낌이 있다.   3. 조식이 무료다. (간단한 아침 먹기 딱인당.)    단점   1. 숙소 주변이 무섭다. (하지만 조금만 더 나가면 설악산 쪽에 새로게 공사한 스카이 트레킹처럼 (설악 향기로) 그곳은 경치가 좋다.)   2. 수건 수량이 빡빡하다. 3인인데 기본 4장을 주고 사용한 수건을 로비로 가져가면 그 수량만큼 교환해준다. (수고 다시 내려가서 교환하고 다음 날도 쓰고 또 교환받아야 하는 번거로움이 있다.)   3. 복도에서 담배 냄새가 났다.   4. 엘리베이터가 없다.\n"
     ]
    },
    {
     "name": "stderr",
     "output_type": "stream",
     "text": [
      "\r 71%|███████   | 1203/1689 [2:31:55<59:58,  7.40s/it]  "
     ]
    },
    {
     "name": "stdout",
     "output_type": "stream",
     "text": [
      "1203 : 사장님도 친절하시고 보일러가 빵빵 따뜻하고 강아지도 좋아했어요 ~\n"
     ]
    },
    {
     "name": "stderr",
     "output_type": "stream",
     "text": [
      "\r 71%|███████▏  | 1204/1689 [2:31:58<49:29,  6.12s/it]"
     ]
    },
    {
     "name": "stdout",
     "output_type": "stream",
     "text": [
      "1204 : 이름은 리조트이나 리조트 내 말투/편의점이 없음. 뷰와 건물 외관, 대본님의 마인드도 좋음.\n"
     ]
    },
    {
     "name": "stderr",
     "output_type": "stream",
     "text": [
      "\r 71%|███████▏  | 1205/1689 [2:32:03<44:23,  5.50s/it]"
     ]
    },
    {
     "name": "stdout",
     "output_type": "stream",
     "text": [
      "1205 : P와 J가 있다면 무조건 J가 고라야 한다는 사실을 몸소 경험했습니다. 만점 드리고 싶지만, 자기방성의 시간을 가전으로 4점 드립니다. (숙소 자체는 사실 6점)\n"
     ]
    },
    {
     "name": "stderr",
     "output_type": "stream",
     "text": [
      "\r 71%|███████▏  | 1206/1689 [2:32:04<34:48,  4.32s/it]"
     ]
    },
    {
     "name": "stdout",
     "output_type": "stream",
     "text": [
      "1206 : 직원분이 친절하시고 깨끗합니다. 잘 쉬고 왔네요.\n"
     ]
    },
    {
     "name": "stderr",
     "output_type": "stream",
     "text": [
      "\r 71%|███████▏  | 1207/1689 [2:32:07<31:33,  3.93s/it]"
     ]
    },
    {
     "name": "stdout",
     "output_type": "stream",
     "text": [
      "1207 : 동대문 뷰가 훌륭하고, 직원분들이 대체로 젊고 밝은 분위기입니다. 수영장이 특히 예뻐서 만족스러웠어요.\n"
     ]
    },
    {
     "name": "stderr",
     "output_type": "stream",
     "text": [
      "\r 72%|███████▏  | 1208/1689 [2:32:10<28:54,  3.61s/it]"
     ]
    },
    {
     "name": "stdout",
     "output_type": "stream",
     "text": [
      "1208 : 뭐 물어봤더니 젊은 여직원이 확인도 안 하고 바로바로 착한 영어로 부처저긴 대답을 했다. 너무 불친절하다.\n"
     ]
    },
    {
     "name": "stderr",
     "output_type": "stream",
     "text": [
      "\r 72%|███████▏  | 1209/1689 [2:32:12<25:25,  3.18s/it]"
     ]
    },
    {
     "name": "stdout",
     "output_type": "stream",
     "text": [
      "1209 : 주차가 편리하고, 뷰가 좋으며, 가격이 적당하지만, 침대에 물이 튀었습니다.\n"
     ]
    },
    {
     "name": "stderr",
     "output_type": "stream",
     "text": [
      "\r 72%|███████▏  | 1210/1689 [2:32:27<52:40,  6.60s/it]"
     ]
    },
    {
     "name": "stdout",
     "output_type": "stream",
     "text": [
      "1210 : 1박 정말 즐겁게 잘 보내고 왔으나 체크인 할 때 굉장히 불쾌한 경험을 했다. jungsu Lee(이정수)라는 이름의 직원 때문이었다. 체크인할 때 설명하는 말이 속도가 너무 빨라 보여회사 불이한 약관 내용을 전달처럼 너무 빨리 설명해 약라드를 수 없었다. 천진히 다시 설명해 달라는 내 말에 짜증이 난 모양이다. 비수기에 갔을 때 지인들이 모두 받아던 레이트 체크인을 서비스로 해줄 수 있냐는 말에 한참 말이 없더니 이번에 서비스해주는데 고객님한테는 앞으로 두 번 다시 이런 서비스는 제공할 수 없다는 말을 들었다. 앞으로 그랜드 조선호텔은 오지 말라는 듯저럼 들었다. 나와 다른 곳 가면 되는데 이런 직원 하나가 호텔에 얼마나 많은 고객들의 발을 다른 곳으로 돌릴까운 마음에 그를 적어본다.\n"
     ]
    },
    {
     "name": "stderr",
     "output_type": "stream",
     "text": [
      "\r 72%|███████▏  | 1211/1689 [2:32:47<1:24:15, 10.58s/it]"
     ]
    },
    {
     "name": "stdout",
     "output_type": "stream",
     "text": [
      "1211 : 뷰가 너무 좋고, 산? 언덕? 위에 위치해 있어서 공기도 좋은 느낌ㅋㅋ 무료 셔틀을 운영해줘서 역에서 내려서 이동하기 편합니다. 스파룸은 괜찮았지만, 뭔가 디테일이 허술합니다. (미니바가 모두 무료였던 점은 소소하게 좋았지만요) 책상에 덩덩한 부분들이 조금 보였고, 벽에 자국 하나를 발견해서 신경이 쓰였습니다. 침대 위치도 애매하고, TV 블루투스 연결이나 미러링도 안 됨. Nugu 블루투스 스피커 하나만 있는데 아쉬웠습니다. 전반적으로 룸이 세련된 듯하면서도 아닌 것 같고 좀 애매했습니다. 직원 분들 서비스에도 아쉬움이 있었습니다. 체크인 시 요청사항 반영이 전혀 안 되는데 설명이라도 해주셨으면 좋았을 것 같네요. 아예 언급 없이 넘어간 것은 이 호텔이 처음이었습니다. 그래도 대체로 친절하시긴 했어요. 룸서비스는 종류도 정말 적고 무엇보다 맛이 없었습니다. 룸서비스를 담아주는 정석색 트레이도 좀 구렸어요…\n"
     ]
    },
    {
     "name": "stderr",
     "output_type": "stream",
     "text": [
      "\r 72%|███████▏  | 1212/1689 [2:32:47<1:00:16,  7.58s/it]"
     ]
    },
    {
     "name": "stdout",
     "output_type": "stream",
     "text": [
      "1212 : 악덕 기업인 의심\n"
     ]
    },
    {
     "name": "stderr",
     "output_type": "stream",
     "text": [
      "\r 72%|███████▏  | 1213/1689 [2:32:50<49:13,  6.21s/it]  "
     ]
    },
    {
     "name": "stdout",
     "output_type": "stream",
     "text": [
      "1213 : 전기줄이 커서 좀 아쉽긴 하지만 전망이 최고고 스파도 좋네요. 주차는 그냥 도로에 대는 게 편하네요.\n"
     ]
    },
    {
     "name": "stderr",
     "output_type": "stream",
     "text": [
      "\r 72%|███████▏  | 1214/1689 [2:32:52<37:33,  4.74s/it]"
     ]
    },
    {
     "name": "stdout",
     "output_type": "stream",
     "text": [
      "1214 : 생일 추가 겸 여행이었는데 여자친구와 함께 만족했습니다~\n"
     ]
    },
    {
     "name": "stderr",
     "output_type": "stream",
     "text": [
      "\r 72%|███████▏  | 1215/1689 [2:32:56<37:12,  4.71s/it]"
     ]
    },
    {
     "name": "stdout",
     "output_type": "stream",
     "text": [
      "1215 : 시설 정말 깨끗하고 직원분들이 너무 친절합니다!!! 호텔 안에서 호캉스 너무 좋았네요. 하지만!!!!!! 주차장 들어가는 입구... 너무 좁아요... 초보자들은 들어가기 힘들 것 같네요 ㅜㅜ\n"
     ]
    },
    {
     "name": "stderr",
     "output_type": "stream",
     "text": [
      "\r 72%|███████▏  | 1216/1689 [2:33:00<35:35,  4.52s/it]"
     ]
    },
    {
     "name": "stdout",
     "output_type": "stream",
     "text": [
      "1216 : 거실은 넓으나 안방이 주차장과 출입문 방향이라 시끄러워요. 바베큐하는 곳은 제조 작업이 안 되어 모기가 너무 많아 불가능합니다. 거실 넓은 건 큰 장점입니다.\n"
     ]
    },
    {
     "name": "stderr",
     "output_type": "stream",
     "text": [
      "\r 72%|███████▏  | 1217/1689 [2:33:05<35:48,  4.55s/it]"
     ]
    },
    {
     "name": "stdout",
     "output_type": "stream",
     "text": [
      "1217 : 화장실 하수구 냄새가 좀 나고 이불이 썩 청결하진 않네요. 그래도 하룻 숙박하는 데는 큰 문제 없습니다. 온돌방은 적절하게 난방해 주셔서 쾌적하게 자고 나왔습니다.\n"
     ]
    },
    {
     "name": "stderr",
     "output_type": "stream",
     "text": [
      "\r 72%|███████▏  | 1218/1689 [2:33:06<28:44,  3.66s/it]"
     ]
    },
    {
     "name": "stdout",
     "output_type": "stream",
     "text": [
      "1218 : 사장이 바뀌어서 예약된 방을 취소한다는 게 말이 되는 건가요?\n"
     ]
    },
    {
     "name": "stderr",
     "output_type": "stream",
     "text": [
      "\r 72%|███████▏  | 1219/1689 [2:33:43<1:45:27, 13.46s/it]"
     ]
    },
    {
     "name": "stdout",
     "output_type": "stream",
     "text": [
      "1219 : 청주에서 파쇄석 예약하고 갔는데 평범한 곳도 별로 없고 전기도 드문드문 있어서 당일날 토착해서 데크로 박혔습니다. 안내 데스크에서는 아주머니가 친절하게 해주셨고, 기준이 2인이라면 데크 이용비와 해서 추가비 1만원만 받으시네요. 가보니 데크도 관리 안 해서 물이기가 기어있고 미끄러웠지만 어쩔 수 없이 이용하기로 하고, 데크가 크지 않지만 다행히 사이트가 많이 비어 있어서 여유롭게 사용할 수 있겠다 싶었습니다. 그래서 사이트 옆 차량 주차한 곳에다가 2인용 데크 하나 더 치고 잤네요. 아침에 전동휴계열 타고 다니는 할아버지가 주인인지 지나가면서 인사하다 말고 주차한 자리에서 데크 치우니 35,000원 달라네요. 나 참 어이가 없어서 다른 캠핑장은 주변에 자리가 많으면 주차도 하고 데크 크기도 좀 나가게 하고 주차해도 뭐라 안 하는데 여기는 돈 달라고 하네요. 큰 데크도 아니고 혼자 들어가 잘 수 있는 조그만 데크인데 그걸 굳이 다른 직원 부르더니 결국은 20,000원 줬습니다. 캠핑장은 돈 때문에 오는 게 아니라 힐링하러 오는 곳인데 주인장이 기분 나쁘게 하여 그날 기분 잡쳤네요. 돈에 환장한 놈이네, 그래서 돈 버렸는지는 모르겠지만 그런 식으로까지 해서 돈 받아 챙기고 기분 더럽게 만들고 다시는 여기 안 갑니다. 여러분들도 조심하세요. 하먼이 주인장한테 걸리면 무조건 돈 받아요. 웬만하면 이런 글 안 쓰는 편인데 기분 진짜 더러워서 올립니다. 충신) 하여서 1박에 70,000원 받아야 갔네요. ㅋㅋ 데크 관리도 안 해서 여기저기 깨져있고 이끼가 생겨서 미끄럽고 화장실도 더럽고 시설도 별로 안 좋고, 말로만 해변 옆이지 그냥 공원 수저처럼 되어 있습니다. 돈 또 올린 높이에 참~~~ 정 떨어지게 하네요.\n"
     ]
    },
    {
     "name": "stderr",
     "output_type": "stream",
     "text": [
      "\r 72%|███████▏  | 1220/1689 [2:33:53<1:36:56, 12.40s/it]"
     ]
    },
    {
     "name": "stdout",
     "output_type": "stream",
     "text": [
      "1220 : 수불 무제한 6만 원이라 해서 갔는데 갑자기 말 바꿔서 무제한을 못 준다고 취지거려서 편의점에서 3,000원 하는 수 샤워서 우리가 썼습니다. 잠을 자는 데 아침에 갑자기 문을 열고 들어옴. 당황스러움. 퇴실하라고 눈치를 정말 많이 줌. 이불 쑨 걸 대충 말아서 떠는데 달 갈라고 함. 이불 안 빠진다고 물어보니까 계속 피한다가 갑자기 피와서 못 닦는다고 함. 딴 데 없으면 여기 와서 자라고.\n"
     ]
    },
    {
     "name": "stderr",
     "output_type": "stream",
     "text": [
      "\r 72%|███████▏  | 1221/1689 [2:34:00<1:25:23, 10.95s/it]"
     ]
    },
    {
     "name": "stdout",
     "output_type": "stream",
     "text": [
      "1221 : 명성이 3성급 호텔인데 어떻게 음식이 이렇게 과도할 수 있는지 모르겠습니다. 느낀 건 너무 느끼하고 짠 건 너무나도 짝니다. 또한 사이멘트계시 아닌 정보도를 갖춰다 놓았습니다. 그래도 수건이랑 샴푸 배치가 잘 되어 있습니다. 그리고 TV가 너무 작습니다. 눈이 안 좋으시면 보시기 힘들세요. 그닥 추천하지 않네요. 다른 데 가세요.\n"
     ]
    },
    {
     "name": "stderr",
     "output_type": "stream",
     "text": [
      "\r 72%|███████▏  | 1222/1689 [2:34:02<1:04:13,  8.25s/it]"
     ]
    },
    {
     "name": "stdout",
     "output_type": "stream",
     "text": [
      "1222 : 엄청 조용하고, 객실 내부도 꽤 고급스럽고 분위기가 괜찮아요. 추천!!!\n"
     ]
    },
    {
     "name": "stderr",
     "output_type": "stream",
     "text": [
      "\r 72%|███████▏  | 1223/1689 [2:34:07<56:20,  7.25s/it]  "
     ]
    },
    {
     "name": "stdout",
     "output_type": "stream",
     "text": [
      "1223 : 진짜 오션뷰 하나만 바라보고 왔는데 직원들도 너무 친절하시고 광안대교가 너무 이쁘게 잘 보여서 행복했어요! 근방에 식당이나 먹을 거 접근성도 좋고 숙소 내부 자체가 깨끗했습니다!! 짱짱 만족했습니다\n"
     ]
    },
    {
     "name": "stderr",
     "output_type": "stream",
     "text": [
      "\r 72%|███████▏  | 1224/1689 [2:34:10<45:38,  5.89s/it]"
     ]
    },
    {
     "name": "stdout",
     "output_type": "stream",
     "text": [
      "1224 : 정말 불친절하다. 뭘 물어보면 0번 눌러서 카운터에 문의하라고 함. 진심 절대 가지 마시길.\n"
     ]
    },
    {
     "name": "stderr",
     "output_type": "stream",
     "text": [
      "\r 73%|███████▎  | 1225/1689 [2:34:13<38:22,  4.96s/it]"
     ]
    },
    {
     "name": "stdout",
     "output_type": "stream",
     "text": [
      "1225 : 잘 쉬다 갑니다 ㅎㅎ 사장님이 배려와 세심함에 감동받고 다음에 또 방문할 예정입니다!\n"
     ]
    },
    {
     "name": "stderr",
     "output_type": "stream",
     "text": [
      "\r 73%|███████▎  | 1226/1689 [2:34:20<44:23,  5.75s/it]"
     ]
    },
    {
     "name": "stdout",
     "output_type": "stream",
     "text": [
      "1226 : 와이프 첫애인 출산 이후 잠시 하루만 쉬으려고 서울대병원 주변 4성급 호텔이고 리뷰가 좋길래 야놀자로 예약하고 감. 샤워하고 나오고 3초 후 저렇게 됨. 샤워를 조금만 더 오래 했다면 발이랑 다 만신장이가 되어서 그대로 와이프랑 같이 서울대병원에 입원할 뻔... 호수는 723호.\n"
     ]
    },
    {
     "name": "stderr",
     "output_type": "stream",
     "text": [
      "\r 73%|███████▎  | 1227/1689 [2:34:46<1:29:59, 11.69s/it]"
     ]
    },
    {
     "name": "stdout",
     "output_type": "stream",
     "text": [
      "1227 : 사람은 참 간사합니다. 저도 이게 조물래기인데, 일구제구티브로 전날 배 터지게 먹고 아침도 어떻게든 먹겠다고 허례벌떡 가서는 출퇴근 불을 보며 ‘히히 난 오늘 출근 안 하지로.’ 하면 낄낄대는 제가 창가에 비치더군요. 해돋이를 보는 명당자리라고 안내해 주셨는데, 저는 해돋이보다는 제 자신을 보며 나라는 인간은 참 추하구나 하고 수스로를 돌아보게 되었습니다. 그리고 어쩌다 보니 호텔 도서관 문이 공장 나서 잠깐 가서 호텔 버전 방 탈출을 어떤 다른 분과 의도치 않게 잠어하게 되었는데, 직원분께서 바로 꾸해주시더라고요. 그냥 재밌는 해풍이 정도였는데, 몇 번이나 전화로 사과하셔서 너무 놀랐습니다. 그리고 또 TMI로 이야기하자면, 저 도서관에 세개 미술품 경매 관련 정보 있는데, 비싼 작품을 입맛이 누근가가 싸가지서 사람들이 그가 어느 나락의 왕자일 거다 라며 거의 정체를 꾸며해했다는 글을 읽었는데, 나중에 이건히 컬렉션 전시에 가보니 있더라고요. 세상은 이렇게 넓고도 좁구나 싶었습니다. 암튼 그랜드 워커힐 또 갈 의사 있습니다. 맛있고 친절하고 타 특급호텔들보다 부대시설도 많아서 재밌었습니다. 호텔 간식 유료도 무료고요. 추천합니다.\n"
     ]
    },
    {
     "name": "stderr",
     "output_type": "stream",
     "text": [
      "\r 73%|███████▎  | 1228/1689 [2:34:49<1:10:14,  9.14s/it]"
     ]
    },
    {
     "name": "stdout",
     "output_type": "stream",
     "text": [
      "1228 : 시설도 깨끗하고 조식으로 나오는 샌드위치가 신선하고 맛있으며, 담당자분들도 모두 친절하셔서 마음 편히 쉬고 왔어요~~\n"
     ]
    },
    {
     "name": "stderr",
     "output_type": "stream",
     "text": [
      "\r 73%|███████▎  | 1229/1689 [2:34:51<54:21,  7.09s/it]  "
     ]
    },
    {
     "name": "stdout",
     "output_type": "stream",
     "text": [
      "1229 : 물 씻는 곳이 정리가 안 되어 있는데다 별로 없어서 좀 불편해요. 케리어도 많지가 않아서.\n"
     ]
    },
    {
     "name": "stderr",
     "output_type": "stream",
     "text": [
      "\r 73%|███████▎  | 1230/1689 [2:34:59<55:57,  7.31s/it]"
     ]
    },
    {
     "name": "stdout",
     "output_type": "stream",
     "text": [
      "1230 : 캠핑장을 여러 군데 다녀봤지만, 입실했다가 중간에 나오기는 또 처음이네요. 카라반 내부 상태가 도저히 용납할 수준이 아니었고, 사장한테 얘기했더니 뭐가 문제냐며 오히려 따졌습니다. 개수대는 사용할 수 없었고, 벽에는 곰팡이지 뭔지 잔뜩 있었습니다. 늦은 밤에 머리썰 찾아갔는데, 시간 날리고 돈 날리고 그랬습니다.\n"
     ]
    },
    {
     "name": "stderr",
     "output_type": "stream",
     "text": [
      "\r 73%|███████▎  | 1231/1689 [2:35:02<45:59,  6.02s/it]"
     ]
    },
    {
     "name": "stdout",
     "output_type": "stream",
     "text": [
      "1231 : 이 정도 가격에 머물 수 있는 이 정도 위치와 컨디션의 호텔은 부산에 몇 없다고 봅니다. 특히 카운터 직원분들이 매우 친절해요.\n"
     ]
    },
    {
     "name": "stderr",
     "output_type": "stream",
     "text": [
      "\r 73%|███████▎  | 1232/1689 [2:35:04<36:35,  4.80s/it]"
     ]
    },
    {
     "name": "stdout",
     "output_type": "stream",
     "text": [
      "1232 : 넓은 아파트 수준의 시설을 편하게 이용할 수 있어 좋습니다. 위치는 기본입니다.\n"
     ]
    },
    {
     "name": "stderr",
     "output_type": "stream",
     "text": [
      "\r 73%|███████▎  | 1233/1689 [2:35:07<33:14,  4.37s/it]"
     ]
    },
    {
     "name": "stdout",
     "output_type": "stream",
     "text": [
      "1233 : 건물만큼 룸도 청결하고 좋으나 욕실이 좀 작음. 그러나 파라다이스 옆에 위치해 바닷가 나가기 편하고 가성비 좋은 호텔임.\n"
     ]
    },
    {
     "name": "stderr",
     "output_type": "stream",
     "text": [
      "\r 73%|███████▎  | 1234/1689 [2:35:14<38:27,  5.07s/it]"
     ]
    },
    {
     "name": "stdout",
     "output_type": "stream",
     "text": [
      "1234 : 클럽 라운지를 이용하였고, 행복 아워는 술 드시는 분이 아니면 별 2점, 술 먹어야 4점입니다. 조식의 퀄리티는 3~4점, 가격 대비는 2~3점인 테리어나 구경거리나 스카이 야드는 좋았습니다. 풍경도 좋았고, 호캉스로는 괜찮았습니다.\n"
     ]
    },
    {
     "name": "stderr",
     "output_type": "stream",
     "text": [
      "\r 73%|███████▎  | 1235/1689 [2:35:35<1:15:01,  9.92s/it]"
     ]
    },
    {
     "name": "stdout",
     "output_type": "stream",
     "text": [
      "1235 : 뷰 빼고 다 만족하지 못했습니다. 캡슐은 호텔보다는 게스트하우스 느낌이 강해요. 방이 협소하고 매트리스가 오래되어서 이상한 냄새와 함께 매트리스 착은 조각들이 꽤 떨어집니다. 치약과 칫솔이 없고 화장실이 엘리베이터 쪽에 있어서 왔다 갔다 하기 불편했어요. 문이 아니라 커튼으로 되어 있어서 방음에 취약하고, 복도만 에어컨을 틀어놓았는데 추웠습니다. 내부는 무조건 얇은 1회용 슬리퍼를 사용해야 하고 루프탑에서도 그 슬리퍼를 사용해야 합니다. 그 날 비가 와서 바닥에 벌레와 함께 물이 흥건했습니다. 잠깐 구경만 하려고 봤는데 슬리퍼가 다 젖었어요. 간단한 조식은 제공을 하나, 전날에 사용한 별침대를 청소를 안 했는지 바닥에 라면스낵들이 떨어져 있고, 셀프밥도 전날 분리하고 청소를 하지 않은 커피 머신 기기들이 비위생적으로 느껴졌습니다. 그래도 좋았던 점은 잠옷이 제공되었고, 신분증을 맡기면 고데기를 빌릴 수 있었습니다. 체크아웃 후에도 짐을 맡길 수 있어서 덕분에 편했습니다.\n"
     ]
    },
    {
     "name": "stderr",
     "output_type": "stream",
     "text": [
      "\r 73%|███████▎  | 1236/1689 [2:35:38<57:26,  7.61s/it]  "
     ]
    },
    {
     "name": "stdout",
     "output_type": "stream",
     "text": [
      "1236 : 노을지는 하늘에 광안대교까지 환상이었다. 다음에 오면 더 큰 방으로 가보고 싶네요.\n"
     ]
    },
    {
     "name": "stderr",
     "output_type": "stream",
     "text": [
      "\r 73%|███████▎  | 1237/1689 [2:35:41<46:56,  6.23s/it]"
     ]
    },
    {
     "name": "stdout",
     "output_type": "stream",
     "text": [
      "1237 : 업그레이드도 해주시고 조식 이벤트까지, 최고! 신축이라 깔끔해서 좋고, 2번째 방문인데 이번에도 만족했어요.\n"
     ]
    },
    {
     "name": "stderr",
     "output_type": "stream",
     "text": [
      "\r 73%|███████▎  | 1238/1689 [2:35:42<36:11,  4.81s/it]"
     ]
    },
    {
     "name": "stdout",
     "output_type": "stream",
     "text": [
      "1238 : 뉴스 보니 예약하면 안 되는 집이니 메모해둠.\n"
     ]
    },
    {
     "name": "stderr",
     "output_type": "stream",
     "text": [
      "\r 73%|███████▎  | 1239/1689 [2:35:44<29:37,  3.95s/it]"
     ]
    },
    {
     "name": "stdout",
     "output_type": "stream",
     "text": [
      "1239 : 여기가 자기네가 싼 가격에 올려놓고 당일에 입실 거부한 그 호텔 맞나요?\n"
     ]
    },
    {
     "name": "stderr",
     "output_type": "stream",
     "text": [
      "\r 73%|███████▎  | 1240/1689 [2:36:20<1:42:31, 13.70s/it]"
     ]
    },
    {
     "name": "stdout",
     "output_type": "stream",
     "text": [
      "1240 : 스탠다드 더블룸. 객실 내부는 상당히 넓은 편입니다. 어메니티의 질 또한 꽤 괜찮고 침구류에서 과한 약품 냄새가 이제 나지 않습니다. 객실 내 곳곳에 콘센트가 있고 침대 머리맡 A다입 충전 단자, 다리미와 어반 머리맡 콘센트가 있는 등 비즈니스 호텔의 정점에 서 있는 호텔답습니다. 저는 낙동강을 바라보는 공사장과 도로 뷰를 받았는데 이쪽에 건물이 세여지면 건물 뷰가 되겠네요(다른 객실은 아파트 뷰라고 합니다). 객실의 방음은 좀 약한 편인데, 윗층과 아래층에서 창문을 여닫으면서 나는 소리가 들리고 옆 객실에서 쿵쾅 거리고 지르는 소리가 들리는 편입니다. 조식이 가짓수는 좀 적은 편이고 스크램블드 에그는 좀 필리고 베이컨은 너무 딱딱합니다. 버섯 구이와 햄 종류는 맛이 꽤 괜찮습니다. 버터와 각종 재료들을 팔아 먹기 위해 구비된 나이프가 따로 없어서 식사용 나이프를 사용하거나 숟가락을 이용해야 합니다. 다시 말하면 1인 28,000원 받을 수준은 아닙니다. 주차장 진출로는 좀 좁은 편이고 주차하는 많이 좁습니다. 키트 하나를 두고 세 칸씩 있는 구조인데 양 옆으로 두 대가 대면 가운데에 주차하기에 좀 곤란할 뻔더러 좌우측 간도 옆에 벽이 있으면 우선석 호구 동승석으로 내려야 합니다. 규모가 큰 호텔인데 엘리베이터도 3개로 부족하고 10명이 좀 안 되는 정도로 수용 가능 인원도 적습니다. 주말 체크아웃 시간에 매우 붐벼서 20-30분씩 엘리베이터 앞에서 기다릴 수 있으니 좀 빨리 움직이거나, 가능한 고층을 배정받거나 올라가는 엘리베이터를 잡아서 올라가다가 내려오는 게 낫습니다. (제가 체크아웃 할 땐 엘리베이터 한 Times는 가동을 안 해서 더 붐볐습니다.)\n"
     ]
    },
    {
     "name": "stderr",
     "output_type": "stream",
     "text": [
      "\r 73%|███████▎  | 1241/1689 [2:36:28<1:29:01, 11.92s/it]"
     ]
    },
    {
     "name": "stdout",
     "output_type": "stream",
     "text": [
      "1241 : 아이들이 뛰어놀 수 있는 잔디밭, 놀이시설 좋아요. 아쉬운 점이라면 글램핑에 화장실이 없어서 공동 화장실을 써야 한다는 건 미리 확인해서 알았는데, 싱크대 물도 안 나오는 줄은 몰랐네요. 상하수도 시설이 없이 맨땅에 텐트를 설치한 거라 보시면 돼요. 방 바닥은 전기 판으로 뜨끈뜨끈합니다 ^^\n"
     ]
    },
    {
     "name": "stderr",
     "output_type": "stream",
     "text": [
      "\r 74%|███████▎  | 1242/1689 [2:36:30<1:06:58,  8.99s/it]"
     ]
    },
    {
     "name": "stdout",
     "output_type": "stream",
     "text": [
      "1242 : 좁지만 나름대로 바다도 보이고, 편의 시설도 가깝고, 가성비 좋은 숙소.\n"
     ]
    },
    {
     "name": "stderr",
     "output_type": "stream",
     "text": [
      "\r 74%|███████▎  | 1243/1689 [2:36:32<51:05,  6.87s/it]  "
     ]
    },
    {
     "name": "stdout",
     "output_type": "stream",
     "text": [
      "1243 : 무료입니다! 전전리할 텍스트를 제공해 주시면 수정해 드리겠습니다.\n"
     ]
    },
    {
     "name": "stderr",
     "output_type": "stream",
     "text": [
      "\r 74%|███████▎  | 1244/1689 [2:36:36<43:38,  5.88s/it]"
     ]
    },
    {
     "name": "stdout",
     "output_type": "stream",
     "text": [
      "1244 : 저렴한 금액도 좋았구요, 동대문시장 인근이라 접근성이 좋았어요. 지하철역도 가깝고 볼거리가 다양해서 만족한 숙소였어요^^\n"
     ]
    },
    {
     "name": "stderr",
     "output_type": "stream",
     "text": [
      "\r 74%|███████▎  | 1245/1689 [2:36:39<36:48,  4.97s/it]"
     ]
    },
    {
     "name": "stdout",
     "output_type": "stream",
     "text": [
      "1245 : 해운대 최고의 호텔. 매년 여름 휴가를 파라다이스 부산으로 가는데 룸 컨디션, 조식, 접객까지 완벽합니다.\n"
     ]
    },
    {
     "name": "stderr",
     "output_type": "stream",
     "text": [
      "\r 74%|███████▍  | 1246/1689 [2:36:48<45:45,  6.20s/it]"
     ]
    },
    {
     "name": "stdout",
     "output_type": "stream",
     "text": [
      "1246 : 새로 리뉴얼되어서 이전보다 더욱 멋스러워진 로비. 모던과 한국적인 예술성이 잘 어울려진 인테리어였다. 룸 컨디션도 좋았고 라운지 바도 마음에 들고 크로셀리에서의 커피와 케이크도 좋았다. 직원들의 서비스도 마음 편하고 배려가 여포였고 침구도 좋아서 꿀잠 자버림♡ 모든 게 다 완벽했네:) 시튼 수영장, 피트니스, 망고빙수 다 좋았음!\n"
     ]
    },
    {
     "name": "stderr",
     "output_type": "stream",
     "text": [
      "\r 74%|███████▍  | 1247/1689 [2:36:50<37:24,  5.08s/it]"
     ]
    },
    {
     "name": "stdout",
     "output_type": "stream",
     "text": [
      "1247 : 객실이 넓은 편이라서 이용하기에 편하고 좋았어요~ 번창하세요 ㅎㅎㅎ\n"
     ]
    },
    {
     "name": "stderr",
     "output_type": "stream",
     "text": [
      "\r 74%|███████▍  | 1248/1689 [2:37:13<1:15:15, 10.24s/it]"
     ]
    },
    {
     "name": "stdout",
     "output_type": "stream",
     "text": [
      "1248 : 월요일부터 금요일까지 출장이 있어 1박당 80,000원의 프리미엄룸에 묵었습니다. 체크인 후 객실 바닥에 물기가 있어 구석을 보니 죽은 개레가 방치되어 있었습니다. 침대 시트에는 얼룩이 많았고, 베개는 누런 빛을 띠고 있었습니다. 데스크에 전화를 걸어 청소를 요청했더니, “11층에 가시면 객실에 퀴가 꽂혀 있을 거예요. 거기로 방 옮기시면 됩니다.”라고 말했습니다. 그래서 11층으로 갔습니다. 11층의 모든 객실 문은 화짝 열려 있었고 카드 키가 꽂혀 있었습니다. 안전이 걱정되었지만, 어쨌든 짐을 다시 풀었습니다. 바긴 방 역시 침대 시트에 얼룩이 많았습니다. 베개 시트 안에는 머리카락이 두려 있었습니다. 침대 옆 호매트에는 실컷면 먼지가 가득 끼어 있었습니다. 어쨌든 그 방에서 잠을 자고 다음 날 나가면서 데스크에 시트 교체와 청소를 요청했습니다. 일과를 마치고 객실로 돌아오니 여전히 베개는 누런 색이었습니다. 오히려 화장실 발 수건이 없어졌고, 화장실 손잡이에는 뜬금없이 혈흔이(객실 청소 도구로 출입)가 걸려 있었습니다.\n"
     ]
    },
    {
     "name": "stderr",
     "output_type": "stream",
     "text": [
      "\r 74%|███████▍  | 1249/1689 [2:37:13<54:31,  7.43s/it]  "
     ]
    },
    {
     "name": "stdout",
     "output_type": "stream",
     "text": [
      "1249 : 굿 헤어질 호텔이군요.\n"
     ]
    },
    {
     "name": "stderr",
     "output_type": "stream",
     "text": [
      "\r 74%|███████▍  | 1250/1689 [2:37:21<53:53,  7.37s/it]"
     ]
    },
    {
     "name": "stdout",
     "output_type": "stream",
     "text": [
      "1250 : 혼자 자는데 룸 업그레이드까지. 후기를 보니 업그레이드를 받은 사람이 많더라고요! 사진과 거의 흡사해요. 호텔이 골목 안쪽에 있어서 그렇지 룸에 들어가면 심플하고 괜찮습니다. 어플로 평일 3만 원에 예약한 것 같은데, 벽지도 침구도 이런 심플한 곳 찾기 은근 어려운데 잘 찾은 것 같네요 ◡̈\n"
     ]
    },
    {
     "name": "stderr",
     "output_type": "stream",
     "text": [
      "\r 74%|███████▍  | 1251/1689 [2:37:35<1:08:37,  9.40s/it]"
     ]
    },
    {
     "name": "stdout",
     "output_type": "stream",
     "text": [
      "1251 : 장모님 모시고 몇 년 만의 1박 여행이라 얼마나 검색을 했는지 모르겠다. 바간 후기 평점을 보고 고민을 많이 했지만, 건물 가림 없이 바다를 볼 수 있다는 프리미엄 하나만 보고 선택하였다. 사장 아저씨가 불친절하다는 후기는 나에게는 해당되지 않았는지 친절하셨고, 3층 옥상에서 바다를 바라보며 먹은 한뉴와 초개 국이는 그동안 느껴보지 못한 감동을 선사하였다. 펜션 근처에 여러 게임 숙소가 있었는데, 바다 바로 앞에 잘 잡았다며 안내에게 칭찬도 듣고^^ 후기 보고 근처 다른 펜션으로 가지 않은 내 자신을 칭찬하며 숙소 선택에 있어 도움이 되시라고 처음으로 이렇게 후기를 써본다. 인욜이 오지라픈 언제쯤 출여드려지ㅡㅡ;;\n"
     ]
    },
    {
     "name": "stderr",
     "output_type": "stream",
     "text": [
      "\r 74%|███████▍  | 1252/1689 [2:37:37<52:43,  7.24s/it]  "
     ]
    },
    {
     "name": "stdout",
     "output_type": "stream",
     "text": [
      "1252 : 관리하시는 분들도 착하시고 모든 시설이 깨끗해요~~ 다음에도 또 놀러 올 것 같아요\n"
     ]
    },
    {
     "name": "stderr",
     "output_type": "stream",
     "text": [
      "\r 74%|███████▍  | 1253/1689 [2:37:39<42:13,  5.81s/it]"
     ]
    },
    {
     "name": "stdout",
     "output_type": "stream",
     "text": [
      "1253 : 주차비 따로 내는 호텔은 태어나서 처음 봐요. 호텔이 아니고 모텔이에요. 직원 응대도 딱 그 정도예요.\n"
     ]
    },
    {
     "name": "stderr",
     "output_type": "stream",
     "text": [
      "\r 74%|███████▍  | 1254/1689 [2:37:41<32:32,  4.49s/it]"
     ]
    },
    {
     "name": "stdout",
     "output_type": "stream",
     "text": [
      "1254 : 우연히 가봤는데, 나중에 캠핑하러 가야겠어요.\n"
     ]
    },
    {
     "name": "stderr",
     "output_type": "stream",
     "text": [
      "\r 74%|███████▍  | 1255/1689 [2:37:43<27:49,  3.85s/it]"
     ]
    },
    {
     "name": "stdout",
     "output_type": "stream",
     "text": [
      "1255 : 완전 좋아요! 낙산 해수욕장이 붙어 있어서 2배로 즐길 수 있고 신상 호텔이라 깨끗해요~\n"
     ]
    },
    {
     "name": "stderr",
     "output_type": "stream",
     "text": [
      "\r 74%|███████▍  | 1256/1689 [2:37:48<30:21,  4.21s/it]"
     ]
    },
    {
     "name": "stdout",
     "output_type": "stream",
     "text": [
      "1256 : 호텔도 너무 예쁘고 깨끗하며 직원 분들도 친절하십니다. 잠옷도 주시고 감사합니다 ^^ 신발은 1층에서부터 벗고 들어오는 게 좀 불편하지만, 그래도 좋았어요! 2층 침대도 사다리가 좀 무서웠어요.\n"
     ]
    },
    {
     "name": "stderr",
     "output_type": "stream",
     "text": [
      "\r 74%|███████▍  | 1257/1689 [2:37:51<27:50,  3.87s/it]"
     ]
    },
    {
     "name": "stdout",
     "output_type": "stream",
     "text": [
      "1257 : 정말 프라이빗하고 멋진 곳입니다. 잘 쉬다 갑니다. 편의점이 차로 10분 거리라 미리 물품을 사서 가는 게 좋습니다.\n"
     ]
    },
    {
     "name": "stderr",
     "output_type": "stream",
     "text": [
      "\r 74%|███████▍  | 1258/1689 [2:37:53<22:59,  3.20s/it]"
     ]
    },
    {
     "name": "stdout",
     "output_type": "stream",
     "text": [
      "1258 : 모든 면에서 만족합니다. 이번이 3번째입니다. 잘 쉬었다 갑니다.\n"
     ]
    },
    {
     "name": "stderr",
     "output_type": "stream",
     "text": [
      "\r 75%|███████▍  | 1259/1689 [2:37:55<20:04,  2.80s/it]"
     ]
    },
    {
     "name": "stdout",
     "output_type": "stream",
     "text": [
      "1259 : 아늑하고 깨끗합니다. 조식 샌드위치랑 커피도 맛있어요.\n"
     ]
    },
    {
     "name": "stderr",
     "output_type": "stream",
     "text": [
      "\r 75%|███████▍  | 1260/1689 [2:37:59<23:30,  3.29s/it]"
     ]
    },
    {
     "name": "stdout",
     "output_type": "stream",
     "text": [
      "1260 : 옥상에서 바베큐 꼭 해서 드세요. 뷰가 기가 막혔습니다. 방도 깔끔하고 수영한 후에 돌려주시고 건조까지 해주신 사장님의 친절함에 리뷰를 작성할게 되었습니다.\n"
     ]
    },
    {
     "name": "stderr",
     "output_type": "stream",
     "text": [
      "\r 75%|███████▍  | 1261/1689 [2:38:02<22:25,  3.14s/it]"
     ]
    },
    {
     "name": "stdout",
     "output_type": "stream",
     "text": [
      "1261 : 다이닝룸 씨뷰드 뷔페 첫 방문인데 음식도 훌륭하고 뷰도 너무 좋았어요! 재방문의사 있습니다!\n"
     ]
    },
    {
     "name": "stderr",
     "output_type": "stream",
     "text": [
      "\r 75%|███████▍  | 1262/1689 [2:38:09<30:50,  4.33s/it]"
     ]
    },
    {
     "name": "stdout",
     "output_type": "stream",
     "text": [
      "1262 : 30분 전 안내 전화도 없이 체크아웃 시간을 넘어서 전화 넣어놓고 바로 \"추가 요금 나오니까 천진히 나오세요\" 하고 비꼬는 불친절한 점은 여직원 때문에 차라리 여기보다 근처 에×누를 이용하는 중ㅋㅋ 그래 놓고 다른 앱 리뷰에 내 댓글만 따글 안 따라주시네 최고의 모텔입니다 ^^\n"
     ]
    },
    {
     "name": "stderr",
     "output_type": "stream",
     "text": [
      "\r 75%|███████▍  | 1263/1689 [2:38:10<24:03,  3.39s/it]"
     ]
    },
    {
     "name": "stdout",
     "output_type": "stream",
     "text": [
      "1263 : 객실도 좋고 직원분들이 너무 친절해요.\n"
     ]
    },
    {
     "name": "stderr",
     "output_type": "stream",
     "text": [
      "\r 75%|███████▍  | 1264/1689 [2:38:18<32:19,  4.56s/it]"
     ]
    },
    {
     "name": "stdout",
     "output_type": "stream",
     "text": [
      "1264 : 경치는 시골 풍경이고, 공기는 좋았어요. 샤워하기 너무 불편해요. 화장실이 너무 좁았어요. 샴푸랑 치약이랑 드라이랑 쓰던 세수 비누밖에 없었네요. 미리 알아보고 챙기고 가야 하는데 원래 다 있는 줄 알았네요. 이틀 묵었는데... 뜨거운 물이 안 나와서 샤워도 못했어요ㅠ 미리 알아보고 가세요.\n"
     ]
    },
    {
     "name": "stderr",
     "output_type": "stream",
     "text": [
      "\r 75%|███████▍  | 1265/1689 [2:38:19<24:54,  3.52s/it]"
     ]
    },
    {
     "name": "stdout",
     "output_type": "stream",
     "text": [
      "1265 : 등산충, 풋룬의 성지 모텔\n"
     ]
    },
    {
     "name": "stderr",
     "output_type": "stream",
     "text": [
      "\r 75%|███████▍  | 1266/1689 [2:38:21<22:08,  3.14s/it]"
     ]
    },
    {
     "name": "stdout",
     "output_type": "stream",
     "text": [
      "1266 : 사진 그대로 이쁘고 가격도 적당하며 아주 잘 머물다 왔어요. 여름에 가족들과 또 올 예정입니다.\n"
     ]
    },
    {
     "name": "stderr",
     "output_type": "stream",
     "text": [
      "\r 75%|███████▌  | 1267/1689 [2:38:34<42:17,  6.01s/it]"
     ]
    },
    {
     "name": "stdout",
     "output_type": "stream",
     "text": [
      "1267 : 일반실 55,000원, 특실 65,000원, 트윈실 75,000원, 금요일과 토요일에는 5,000원이 추가 되고 3시에 입실 가능한네요. 연박 가능합니다. 여기뿐 아니라 다른 모텔에도 외지에서 일하러 오시는 분들이 많아서 오전에 예약 안하면 늦을수록 방 구하기 힘듭니다. 방이 없어 혼자인데 어쩔 수 없이 금한 방 트윈실 엄청 크네요~~ 일반실도 다른 모텔에 비해서 큰 편입니다. 뒤 사진 4장 일반실입니다. 디자인은 구식이지만 깨끗하고 좋습니다. 새로 고친 부분도 있구요. 관리 잘하는 것 같습니다.\n"
     ]
    },
    {
     "name": "stderr",
     "output_type": "stream",
     "text": [
      "\r 75%|███████▌  | 1268/1689 [2:38:46<54:45,  7.80s/it]"
     ]
    },
    {
     "name": "stdout",
     "output_type": "stream",
     "text": [
      "1268 : 하이 디럭스 오션뷰에 묶었음. 100% 오션뷰는 아니고 좌우 건물에 살짝 가린 오션뷰지만 경치를 즐기기에는 충분함. 방은 넓직하고 깔끔하게 잘 정비되어 있고, 최고의 장점은 욕실인 듯. 세면대가 무려 두 개, 개별로 된 욕조 포함, 넓직하니 좋다. 루프탑 인피니티풀은 저녁 경치가 훌륭하다. 단점이라면 아무래도 대형 호텔이 아니라 로비 라운지가 매우 소박하고, 사우나 같은 편의시설이 없다는 점. 그리고 룸서비스 시간이 매우 한정적이어서 정작 필요한 시간에 이용할 수가 없었음.\n"
     ]
    },
    {
     "name": "stderr",
     "output_type": "stream",
     "text": [
      "\r 75%|███████▌  | 1269/1689 [2:39:01<1:09:49,  9.97s/it]"
     ]
    },
    {
     "name": "stdout",
     "output_type": "stream",
     "text": [
      "1269 : 캠핑장에서 식사를 하는데 고양이 3마리가 객실 테이블을 이동하며 알짠으로 사용하고 있음ㅠ 고양이가 객실 테이블인 남은 음식을 먹고, 식수로 수영장 물을 먹음ㅠ 카라반 열쇠를 안 준다, 그냥 CCTV가 있다고 안전하다며 그냥 다니라 함 ㅠ 여성 샤워장에는 잠금 장치가 없다ㅠ 누구든 들어와서 관람 가능. 가격은 다른 곳과 비슷, 카라반 이불, 베개는 코란도 남ㅠ 매점에는 간단한 맥주, 물, 광자, 라면 정도 있고, 매우 비쌈ㅠ 직원 불친절ㅠ 3시 전에 도착했더니 근처 아무 곳이나 앉아서 기다린다 때 하면 들어오라며 문 안 열어 줌 ㅠㅠ 뷰만 최고~ 인정!!\n"
     ]
    },
    {
     "name": "stderr",
     "output_type": "stream",
     "text": [
      "\r 75%|███████▌  | 1270/1689 [2:39:04<55:18,  7.92s/it]  "
     ]
    },
    {
     "name": "stdout",
     "output_type": "stream",
     "text": [
      "1270 : 뷰는 나쁘지 않았습니다. 하지만 생각보다 에어컨이 잘 나오지 않아서 더웠습니다. 그래도 뷰가 좋아서 만족하고 즐기다 갑니다.\n"
     ]
    },
    {
     "name": "stderr",
     "output_type": "stream",
     "text": [
      "\r 75%|███████▌  | 1271/1689 [2:39:08<46:53,  6.73s/it]"
     ]
    },
    {
     "name": "stdout",
     "output_type": "stream",
     "text": [
      "1271 : 가격대가 합리적이라서 예약했는데, 신축답게 내부가 청결해서 좋았어요. 야경을 보면서 쉬는데 참 여기 오길 잘했다 생각이 들더라구요. 잘 쉬다 갑니다~\n"
     ]
    },
    {
     "name": "stderr",
     "output_type": "stream",
     "text": [
      "\r 75%|███████▌  | 1272/1689 [2:39:09<35:40,  5.13s/it]"
     ]
    },
    {
     "name": "stdout",
     "output_type": "stream",
     "text": [
      "1272 : 직원분들이 친절하시고 객실이 깔끔해요!\n"
     ]
    },
    {
     "name": "stderr",
     "output_type": "stream",
     "text": [
      "\r 75%|███████▌  | 1273/1689 [2:39:11<28:08,  4.06s/it]"
     ]
    },
    {
     "name": "stdout",
     "output_type": "stream",
     "text": [
      "1273 : 비수기 가격 개꿀, 성수기 땐 다른 데 가야지.\n"
     ]
    },
    {
     "name": "stderr",
     "output_type": "stream",
     "text": [
      "\r 75%|███████▌  | 1274/1689 [2:39:17<32:27,  4.69s/it]"
     ]
    },
    {
     "name": "stdout",
     "output_type": "stream",
     "text": [
      "1274 : 거위 십만 원 되는 비주는 처음 먹어봤는데요, 망고가 너무 맛있어서 그럴 만한 가치가 있다고 느꼈어요. 같이 나온 샴페드도 달콤하고 자리도 폭신해서 너무 편하더라고요. 빙수 먹고도 좀 얄짝해서 이야기하다가 나왔는데, 쾌적하고 너무 좋았어요~\n"
     ]
    },
    {
     "name": "stderr",
     "output_type": "stream",
     "text": [
      "\r 75%|███████▌  | 1275/1689 [2:39:19<26:58,  3.91s/it]"
     ]
    },
    {
     "name": "stdout",
     "output_type": "stream",
     "text": [
      "1275 : 2인실을 이용했습니다. 한겨울이었지만 따뜻하고 깨끗하며 가격이 저렴합니다. 만족합니다.\n"
     ]
    },
    {
     "name": "stderr",
     "output_type": "stream",
     "text": [
      "\r 76%|███████▌  | 1276/1689 [2:39:25<30:15,  4.40s/it]"
     ]
    },
    {
     "name": "stdout",
     "output_type": "stream",
     "text": [
      "1276 : 시설이 깨끗하고 넓고 저렴해서 너무 좋았습니다. 사장님이 너무 친절하시고, 아들과 딸들이 배낭여행 중이었는데 방을 업그레이드해주셨어요. 주변에 깡통시장과 국제시장이 가까워서 관광하기 좋았습니다.\n"
     ]
    },
    {
     "name": "stderr",
     "output_type": "stream",
     "text": [
      "\r 76%|███████▌  | 1277/1689 [2:39:29<30:01,  4.37s/it]"
     ]
    },
    {
     "name": "stdout",
     "output_type": "stream",
     "text": [
      "1277 : 친절하게 반겨주시고 테라스가 있어서 좋았습니다. 뷰도 아주 끝내주고 위치도 대중교통 이용하기에 안성맞춤이에요. 바다 보면서 힐링하고 싶은 분들 여기로 오세요.\n"
     ]
    },
    {
     "name": "stderr",
     "output_type": "stream",
     "text": [
      "\r 76%|███████▌  | 1278/1689 [2:39:36<34:47,  5.08s/it]"
     ]
    },
    {
     "name": "stdout",
     "output_type": "stream",
     "text": [
      "1278 : 뷰 일품, 깨끗하고 직원들의 친절하며, 야간 루프탑 뮤즈드는 세계적으로 일품이었다. 조식 서비스도 흠잡을 데가 없다. 평일인데 스크램블 에그까지 건네주는 넉넉한 인심. 아내와 함께 이틀간 행복한 시간을 보냈다. 두 호텔의 무궁한 발전을 기원합니다.\n"
     ]
    },
    {
     "name": "stderr",
     "output_type": "stream",
     "text": [
      "\r 76%|███████▌  | 1279/1689 [2:40:03<1:21:12, 11.88s/it]"
     ]
    },
    {
     "name": "stdout",
     "output_type": "stream",
     "text": [
      "1279 : 객실에서 보이는 뷰는 정말 최고. 호텔이 오래되다 보니까 전체적으로 노후화되고 시설이 예거시라는 점은 아쉽지만, 관리는 매우 청결하게 잘 되어 있다. 직원들의 응대나 서비스는 무척 친절하다. 무엇보다도 맘에 들었던 것은 룸서비스 메뉴. 해물라면 강추. 지금까지 먹었던 라면 중에 이토록 고급진 라면은 처음 먹어본 듯. 전복, 조개구이, 새우, 꽃게 등의 신선한 해산물이 정말 먹기 좋게 라면과 어우러져 나오는데, 룸에서 야식으로 시켜 먹기 딱이다. 피자, 치킨, 칼디도 양이 푸짐하고 맛도 좋다. 로비층의 오킴스라는 아이리스 펍에서 브런치로 그날의 세부 추천 세트 메뉴랑 팬케이크를 시켜 먹었는데, 두 개 다 강추! 스테이크는 육질과 구워내는 정도도 딱 좋았고, 팬케이크는 난생처음 보는 비즈열로 풍침개처럼 나오는 여느 보통의 팬케이크와는 차이가 다르다. 마치 모실한 무개구리처럼 한껏 부풀려서 나오는데 이베 넣으면 순식간에 살살 녹는다. 다음에 부산에 내려오면 브런치는 여기서 꼭 먹어야겠다. 미리 창가 쪽 예약은 필수. 객실이 다소 좁고 시설이 노후된 부분이 있어 별 4개 주려다 호텔 위치, 전망, 서비스 부분에서 너무 만족스럽기에 별 5개를 안 줄 수가 없다. ㅎㅎ\n"
     ]
    },
    {
     "name": "stderr",
     "output_type": "stream",
     "text": [
      "\r 76%|███████▌  | 1280/1689 [2:40:12<1:14:20, 10.91s/it]"
     ]
    },
    {
     "name": "stdout",
     "output_type": "stream",
     "text": [
      "1280 : 친절하셔서 적까지 기분 좋았습니다. 어매니티 구성이 너무 좋아요. 로션이나 칫솔이 마음에 들었습니다. 물과 탄산수, 음료도 다양해서 좋았어요. 안에서 보이는 바깥 풍경이 너무 좋아요. 편히 쉬다 갈 수 있어요. 호텔에 들어서자마자 풀 냄새이 나는데 너무 좋아요. 야외 욕조 한번 해보고 싶었는데 소원 이루고 갑니다 ㅠㅠ 다음에는 연박으로 와보고 싶어요.\n"
     ]
    },
    {
     "name": "stderr",
     "output_type": "stream",
     "text": [
      "\r 76%|███████▌  | 1281/1689 [2:40:16<58:57,  8.67s/it]  "
     ]
    },
    {
     "name": "stdout",
     "output_type": "stream",
     "text": [
      "1281 : 특실 이용했고, 사장님이 친절하셔서 좋았어요! 다만 주말에는 주차가 불편하고 방음이 잘 안 됩니다. 그거 말고는 하루 편하게 잤어요!\n"
     ]
    },
    {
     "name": "stderr",
     "output_type": "stream",
     "text": [
      "\r 76%|███████▌  | 1282/1689 [2:40:21<52:23,  7.72s/it]"
     ]
    },
    {
     "name": "stdout",
     "output_type": "stream",
     "text": [
      "1282 : 인공 눈을 넣는다고 해서 완전 기대하고 갔었는데 너무 찌끔 뷰려서 대박 실망이었습니다. 그나마 커피가 맛있어서 봐주만 했네요. 차도 밀리고 정리가 안 되고 엉망이고 두 번 올 곳은 아닌 것 같네요ㅎㅎㅎ\n"
     ]
    },
    {
     "name": "stderr",
     "output_type": "stream",
     "text": [
      "\r 76%|███████▌  | 1283/1689 [2:40:26<47:31,  7.02s/it]"
     ]
    },
    {
     "name": "stdout",
     "output_type": "stream",
     "text": [
      "1283 : 직원들이 친절하고 수영장도 전반적으로 만족스러운 편입니다. 뷰도 좋고 방 넓이도 적절합니다. 다만 자전거는 빌리지 않는 걸 추천합니다. 관리가 안 되어 있고 소파가 다려 있지 않아 수차가이 맥주 캔이 매우 좋지 않습니다.\n"
     ]
    },
    {
     "name": "stderr",
     "output_type": "stream",
     "text": [
      "\r 76%|███████▌  | 1284/1689 [2:40:28<36:04,  5.34s/it]"
     ]
    },
    {
     "name": "stdout",
     "output_type": "stream",
     "text": [
      "1284 : 친절하시고 좋아요! 비즈니스 호텔인 듯?\n"
     ]
    },
    {
     "name": "stderr",
     "output_type": "stream",
     "text": [
      "\r 76%|███████▌  | 1285/1689 [2:40:30<30:22,  4.51s/it]"
     ]
    },
    {
     "name": "stdout",
     "output_type": "stream",
     "text": [
      "1285 : 객실이 깔끔하고 너무 친절했습니다. 게다가 가성비도 굿! 재방문의사 100% 입니다.\n"
     ]
    },
    {
     "name": "stderr",
     "output_type": "stream",
     "text": [
      "\r 76%|███████▌  | 1286/1689 [2:40:35<30:35,  4.55s/it]"
     ]
    },
    {
     "name": "stdout",
     "output_type": "stream",
     "text": [
      "1286 : 모기 천국임. 어디서 그렇게 들어오는 건지 하룻밤 사이에 12마리를 잡았습니다. 호텔이 아니고 모텔임. 청소 상태도 불량해서 바닥에 머리카락이 너무 많아 신발 신고 다님. 완전 비추함.\n"
     ]
    },
    {
     "name": "stderr",
     "output_type": "stream",
     "text": [
      "\r 76%|███████▌  | 1287/1689 [2:40:41<33:44,  5.04s/it]"
     ]
    },
    {
     "name": "stdout",
     "output_type": "stream",
     "text": [
      "1287 : 처음에 문을 열자마자 말 그대로 탁 트인 오션뷰라 너무 만족스러웠습니다! 광안리 바로 중앙 앞 위치여서 주변 맛집 갈 때도 거의 도보로 다 해결해서 넘넘 좋았습니다. 시설도 깔끔하고 위에 루프탑 사진존도 예쁜 곳 많아서 잘 찍었어요. 잘 쉬었다 갑니다~~~~\n"
     ]
    },
    {
     "name": "stderr",
     "output_type": "stream",
     "text": [
      "\r 76%|███████▋  | 1288/1689 [2:40:51<42:38,  6.38s/it]"
     ]
    },
    {
     "name": "stdout",
     "output_type": "stream",
     "text": [
      "1288 : 업그레이드로 레이크뷰 트윈에 묵었었는데, 롯데월드몰 내가다 2/3 정도 보이는 오정도의 뷰입니다. 숙소는 침구 먼지도 다른 호텔에 비해 별로 낡리지 않아 좋고, 청결, 쾌적, 깔끔합니다. 사우나에는 사우나는 없고 온탕과 샤워 시설만 있으니 참고하시고, 아직까지는 예쁜 인테리어에 조금 있으면 벚꽃이 만개하는 시즌이니 한 번쯤은 다녀와 볼 만한 듯하네요.\n"
     ]
    },
    {
     "name": "stderr",
     "output_type": "stream",
     "text": [
      "\r 76%|███████▋  | 1289/1689 [2:41:13<1:14:23, 11.16s/it]"
     ]
    },
    {
     "name": "stdout",
     "output_type": "stream",
     "text": [
      "1289 : 세 번째 방문. 무엇이 무엇이 해도 해버내서 가까운 게 최고. 젊은 옷 입고 엘리베이터도 눈치 안 봄. 호텔 내 수영장이 있어 젊은 바로 따니는 사람이 많겠네요. 프런트 로비 등 죄다 물 천지. 엘리베이터 갈아타는 건 적응되면 괜찮고, 엘리베이터가 5대에다가 나름 고속이라 체크아웃 시간 빼고는 넉넉. 노후한 건 다 이해되는데 그래도 매트리스... 스프링 소리 엄청 남. 타올... 좀 교체 좀. 너무 오래되어서 바빠고 저니 닭 싸았음. 베딩... 침구도 너무 오래되어서 묵고 꺼지고. 수압 완전 센서 물 콸콸. 에어컨 교체해서 냉방 빵빵. 그리고 체크인 전 에어컨을 켜놨는지 입실하니 시원하고 2시간 예약되어 있었음. 감동. 다른 호텔은 키를 해야 켜질 수 있고 외출 시 키 아웃하면 꺼지는데 여긴 안 꺼짐. 참, 그리고 프런트 데스크는 인사 좀 하자. 오면 오는가 보다 가면 가는가 본다. 사실 요즘 호텔 동 딱 두 번 보면 그만인데 그게 첫인상인데 인사도 제대로 안 하구. 아쉽. 그래도 또 방문할 거예요.\n"
     ]
    },
    {
     "name": "stderr",
     "output_type": "stream",
     "text": [
      "\r 76%|███████▋  | 1290/1689 [2:41:32<1:30:36, 13.63s/it]"
     ]
    },
    {
     "name": "stdout",
     "output_type": "stream",
     "text": [
      "1290 : 여긴 그냥 계곡밖에 없네요. 7만 원씩 받으면서 화장실에는 휴지가 없고 냄새가 나고, 샤워장도 물품을 놓을 선반이 달랑 하나 있고 샤워기도 2개밖에 없네요. 사이트도 너무 좁고 옆 사이트랑 다닥다닥 붙어서 텐트를 치고, 차량 통행로도 따로 없고 계곡 내려가는 길도 따로 없어서 다른 분들 텐트 사이사이로 지나다녔네요. 방방이 있어서 아이가 좋아할 것 같아서 일부러 먼 길 따라갔는데, 2박하는 동안 첫날밤은 저녁에 방방이 불을 켰 주더니 이튿날은 민원이 들어간다고 방방이실 불도 안 켜 주네요. 무슨 운영 방침인지... 애들이 어두운데서 뛰고 노는데도 불을 안 켜 주더라고요. 그럴 거면 아예 못 놀게 문을 잠그 놓던지... 매너 타임 23시~8시인데 아침 7시에 손님을 받고 텐트를 치게 만들고, 팩 팍는 소리에 잠도 못 잤네요. 캠핑 클럽 소개지라고 해서 기대했는데 영 별로예요.\n"
     ]
    },
    {
     "name": "stderr",
     "output_type": "stream",
     "text": [
      "\r 76%|███████▋  | 1291/1689 [2:41:37<1:12:48, 10.98s/it]"
     ]
    },
    {
     "name": "stdout",
     "output_type": "stream",
     "text": [
      "1291 : 근래 다녀본 캠핑장 중에서는 최고네요... 글램스가 다릅니다... 시설도 좋고 조용한데 아직 신설이라 나무들은 작네요. 아이들이 놀기에도 안전합니다... 편의점도 있어서 간식거리는 언제든지 살 수 있어요...\n"
     ]
    },
    {
     "name": "stderr",
     "output_type": "stream",
     "text": [
      "\r 76%|███████▋  | 1292/1689 [2:41:42<1:00:26,  9.14s/it]"
     ]
    },
    {
     "name": "stdout",
     "output_type": "stream",
     "text": [
      "1292 : 프리미엄 마운틴뷰 룸에서 연박으로 묵었습니다. 광안리 해변가 앞이라는 좋은 위치에 비해 가성비가 넘쳐 동서과 좋은 추억을 만들고 왔습니다. 아침에 조식도 준비해주셔서 너무 잘 먹고 가요~!\n"
     ]
    },
    {
     "name": "stderr",
     "output_type": "stream",
     "text": [
      "\r 77%|███████▋  | 1293/1689 [2:41:44<46:28,  7.04s/it]  "
     ]
    },
    {
     "name": "stdout",
     "output_type": "stream",
     "text": [
      "1293 : 가격 대비 최고입니다. 시설도 깔끔하니 청결에도 신경 쓰기가 나요~ 잘 쉬고 갑니다.\n"
     ]
    },
    {
     "name": "stderr",
     "output_type": "stream",
     "text": [
      "\r 77%|███████▋  | 1294/1689 [2:41:49<42:18,  6.43s/it]"
     ]
    },
    {
     "name": "stdout",
     "output_type": "stream",
     "text": [
      "1294 : 뷰가 정말 너무너무 멋져요~ 비와서 흐린 것도 운치 있어요. 직원분들 모두 친절하시고, 침구도 침대도 너무 편해요~ 침대에 누워서도 뷰를 감상할 수 있어요~ 시설도 너무 청결해서 더 좋습니다.\n"
     ]
    },
    {
     "name": "stderr",
     "output_type": "stream",
     "text": [
      "\r 77%|███████▋  | 1295/1689 [2:41:56<43:29,  6.62s/it]"
     ]
    },
    {
     "name": "stdout",
     "output_type": "stream",
     "text": [
      "1295 : 해이춘천과 춘천회이에 야놀자에 올라와 있는 것 같아요. 그런데 두 숙소 설명이 다르고 충분하지 않아서 불편했어요. 천관과 춘관으로 나뉘어져 있는데, 천관은 엘리베이터가 없어요. 그리고 주차 공간도 협소합니다. 회이석이보에서 만족해서 여기도 이용하는데 많이 달라요. 체인점이 아닌가 봐요,,\n"
     ]
    },
    {
     "name": "stderr",
     "output_type": "stream",
     "text": [
      "\r 77%|███████▋  | 1296/1689 [2:42:25<1:27:34, 13.37s/it]"
     ]
    },
    {
     "name": "stdout",
     "output_type": "stream",
     "text": [
      "1296 : 평점이 낮길래 의아했는데, 우선 제 기주누로 일치저급으로 너무 훌륭합니다!!! 제가 올 시기쯤 장마며 대풍이 날려도 될 정도의 호텔이라 그냥 선택한 거였을 정도로 호텔비가 너무 저렴하구요. 주차 스트레스가 없는 점! 서울에 올 때마다 종로와 혜화, 동대문 맛집을 주로 가는 편인데 도보로 전부 가능해서 폰의 아낌없이 교통비를 세이브 했어요. 저는 8/5~8/8 3연박 했습니다. 스탠다드룸 14층 체크인 했고 욕조는 없어요! 타 호텔 스탠다드룸 대비 공간이 넓넓합니다! 객실 창문이 있구요. 잠길 밝고 예민한 편이지만 객실에 사람이 없었는지 소음으로 인한 불편함은 단 한 자례도 없었습니다. 무엇보다 취하고 싶은 점은 객실 정비입니다. 연박하다보면 객실 청소를 빼먹던지, 성에 안 차는 경우가 많았는데(돌아와서 피곤한데 이런 경우 너무 짜증..) 너무너무 깔끔하게 해놓고 가셔서 남편이랑 깜짝 놀랐어요. 일정을 끝내고 객실에 들어서면 깔끔함에 피로가 풀릴 지경. 복도에서 마주쳐도 너무 친절하시고.. 정말 굳이 굳이 흠을 찾자면 너무 조용해서 에어컨 바람 소리가 시끄럽게 느껴졌던 것 정도네요. 처음엔 시청 모 5성급 호텔에서 호캉스나 할까 하다 날씨로 개수할 것 같아 우연히 찾고 예약한 호텔인데 다음번에 부모님과 함께 꼭 다시 찾고 싶은 호텔입니다! 저는 추천해요~\n"
     ]
    },
    {
     "name": "stderr",
     "output_type": "stream",
     "text": [
      "\r 77%|███████▋  | 1297/1689 [2:42:27<1:03:53,  9.78s/it]"
     ]
    },
    {
     "name": "stdout",
     "output_type": "stream",
     "text": [
      "1297 : 준수이구 침실에 높은 전망, 고급스러운 로비 등\n"
     ]
    },
    {
     "name": "stderr",
     "output_type": "stream",
     "text": [
      "\r 77%|███████▋  | 1298/1689 [2:42:39<1:09:18, 10.64s/it]"
     ]
    },
    {
     "name": "stdout",
     "output_type": "stream",
     "text": [
      "1298 : 아이를 데리고 남편과 방문했어요. 리뷰도 좋고, 다녀온 친구가 추천해서 혜이점적으로 예약하고 다녀왔지요. 외관과 로비가 깨끗해서 제가 너무 기대했나 봐요. 일단 방에 들어갔을 때 \"우와~!! 깨끗하다\" 했는데, 깨끗하다고 말한 순간 의자에서 긴 여자 머리카락을 발견했어요... ㅇㅁㅇ;; 그리고 창틀에 거미줄이 너무 많았어요.. ㅠㅠ (사진 자세히 보시면 보일 거예요) 그리고 제공해주신 수건이 너무 뻣뻣했어요. 인테리어도 이쁘고 좋은 호텔인데 위생에 좀 더 신경 써주시면 좋겠어요.\n"
     ]
    },
    {
     "name": "stderr",
     "output_type": "stream",
     "text": [
      "\r 77%|███████▋  | 1299/1689 [2:42:45<59:40,  9.18s/it]  "
     ]
    },
    {
     "name": "stdout",
     "output_type": "stream",
     "text": [
      "1299 : 깔끔함!!!!!!!!!!!!!! 옥조는 없지만 그래도 넓고 쾌적하고 안숙혜장 바로 근처라 편했음. 근처 주변 맛집이 짱 많음. 주차 시설은 살짝 적고 좁았지만 건너편에 공영 주차장이 있음. 다시 방문할 의사 있음. 메모.\n"
     ]
    },
    {
     "name": "stderr",
     "output_type": "stream",
     "text": [
      "\r 77%|███████▋  | 1300/1689 [2:42:56<1:02:10,  9.59s/it]"
     ]
    },
    {
     "name": "stdout",
     "output_type": "stream",
     "text": [
      "1300 : 조당 판매자입니다. 선입금이라 주문 시 입금이 없어서 안 보냈습니다. 며칠 후 연락 와서 믿고 보내도 된다는 링크 보냈더니 (택배 날로 며칠 택배를 못 보냄) 호텔에서 바자마차 판매하겠다고 합니다. 냉동이라 배송 중 해동되어 판매하면 폐기해야 합니다. 판매가 안 된다고 하니 절반만 입금할겠다고 합니다. ㅠㅠ 저는 처음 피해자 아니라고 봅니다. 호텔에서 식사하시는 분들이 드시는 식자료에 식자료 공급처의 피눈물이 있을 수 있습니다.\n"
     ]
    },
    {
     "name": "stderr",
     "output_type": "stream",
     "text": [
      "\r 77%|███████▋  | 1301/1689 [2:42:59<49:28,  7.65s/it]  "
     ]
    },
    {
     "name": "stdout",
     "output_type": "stream",
     "text": [
      "1301 : 버션바로 나와서 주차 안내해 주심. 코로나 방역 수칙을 잘 지김. 온도 체크, 손 소독제, QR 코드.\n"
     ]
    },
    {
     "name": "stderr",
     "output_type": "stream",
     "text": [
      "\r 77%|███████▋  | 1302/1689 [2:43:07<51:01,  7.91s/it]"
     ]
    },
    {
     "name": "stdout",
     "output_type": "stream",
     "text": [
      "1302 : 토요토인을 자주 이용하는데 여긴 정말 최악이에요. 화장실에서 냄새 나요. 에어컨 리모컨은 끈적거리고, 그래도 켜더니 에어컨에서 악취가 나요. 와이파이도 너무 느리고 수시로 끊겨요. 어차피 하루 묵는 거고, 시간이 늦어서 그냥 잠고 지냈는데.. 그리고 부산역 2 이용할 때는 간단한 1회용 세면도구가 제공되었는데, 여긴 그것도 없네요.\n"
     ]
    },
    {
     "name": "stderr",
     "output_type": "stream",
     "text": [
      "\r 77%|███████▋  | 1303/1689 [2:43:12<44:22,  6.90s/it]"
     ]
    },
    {
     "name": "stdout",
     "output_type": "stream",
     "text": [
      "1303 : 룸 컨디션도 완전 좋았고, 침구류도 깔끔합니다. 체크인과 체크아웃도 속전속결로 빨리 진행해주시고, 전반적으로 서비스도 좋네요. 사남매와 즐거운 시간 보내고 갑니다.\n"
     ]
    },
    {
     "name": "stderr",
     "output_type": "stream",
     "text": [
      "\r 77%|███████▋  | 1304/1689 [2:43:18<42:48,  6.67s/it]"
     ]
    },
    {
     "name": "stdout",
     "output_type": "stream",
     "text": [
      "1304 : 혼자 출장 갈 때 이름은 호텔이지만 외관은 모텔인 곳이어서 가기 무서웠던 곳이었음. 기대보다 상당히 좋았음. 오래된 호텔식이지만 그래도 내부 청결은 신경 쓰신 것 같았다. 다음 출장 때도 이용할 예정~ 아!! 주차 안내해 주시는 어르신이 참 다정하셔서 좋음.\n"
     ]
    },
    {
     "name": "stderr",
     "output_type": "stream",
     "text": [
      "\r 77%|███████▋  | 1305/1689 [2:43:21<34:53,  5.45s/it]"
     ]
    },
    {
     "name": "stdout",
     "output_type": "stream",
     "text": [
      "1305 : 성수역 출구에서 나오면 바로 보여요 ㅎㅎ 접근성 대박, 주차장도 따로 있어서 편했습니다.\n"
     ]
    },
    {
     "name": "stderr",
     "output_type": "stream",
     "text": [
      "\r 77%|███████▋  | 1306/1689 [2:43:28<38:10,  5.98s/it]"
     ]
    },
    {
     "name": "stdout",
     "output_type": "stream",
     "text": [
      "1306 : 부산 남포동 해심 오지에 위치해 접근성이 높습니다. 용주산 공원, 자갈치 시장, 남포동 구도심, 미화당 백화점, 국제시장 등 해심 시설들이 모두 5분 거리에 있습니다. 다양한 먹거리들이 숙소 바로 앞에 즐비합니다. ::최고!:: 부산 지하철 1호선 자갈치역에서도 아주 가까이 위치해 있습니다.\n"
     ]
    },
    {
     "name": "stderr",
     "output_type": "stream",
     "text": [
      "\r 77%|███████▋  | 1307/1689 [2:43:35<40:25,  6.35s/it]"
     ]
    },
    {
     "name": "stdout",
     "output_type": "stream",
     "text": [
      "1307 : 숙소 오션뷰는 정말 10점입니다. 숙소 내부도 너무 깔끔하고 직원분들도 친절했습니다. 충분히 좋은 시간 보내고 갑니다. 유리창은 통유리창이라서 햇빛을 직접적으로 받아서 그런지 에어컨을 아무리 틀어도 실내 온도가 26도 이하로 떨어지지 않네요. 조금은 아쉬운 부분입니다. 그래도 푹 쉬고 갑니다!\n"
     ]
    },
    {
     "name": "stderr",
     "output_type": "stream",
     "text": [
      "\r 77%|███████▋  | 1308/1689 [2:43:39<35:06,  5.53s/it]"
     ]
    },
    {
     "name": "stdout",
     "output_type": "stream",
     "text": [
      "1308 : 서비스는 값어치가 아니었고 진심이 묻어나왔다. 무엇보다 음식에서는 타의 추종을 허용한다. 마음이 바뀌어 다시 오고 싶은 호텔이다. 단지 주차장 이용은 좀 그렇다.\n"
     ]
    },
    {
     "name": "stderr",
     "output_type": "stream",
     "text": [
      "\r 78%|███████▊  | 1309/1689 [2:44:04<1:13:09, 11.55s/it]"
     ]
    },
    {
     "name": "stdout",
     "output_type": "stream",
     "text": [
      "1309 : 최악 1. 전 고객 유료주차임. 참고로 준중형 SUV인데 기계식 주차가 불가능하다고 해서 주변에 18,000원 주고 주차함. 2. 호텔 내 스텝이 없고 모두 비대면식이라 주차가 불가능해 당황하여 주변에 동음을 받지 못함. 어반스테이즈에 전화하면 대응이 20-30분 기다려야 함. 번화가 한복판에서 대응을 기다리는데 2시간 기다리다가 여행 시간 스케줄이 다 날림. 주차 가능 차량은 대형 차량으로 나눠해놓고 실제로 대부분 차가 가능하지 않음. 기본 주차비는 15,000원이상 생각하면 됨. 3. 대응 불친절  직원이 진짜 불친절함. 이러한 사항을 기대하고 고집해 달라니까 그냥 알아서 해라, 우리는 책임 없다 이 말만 기계적으로 반복. 돈 벌기에 급급하고 절대 책임과 보상을 한다는 말은 안 함. 어떤 말을 해도 듣지도 않으며 기계적인 사과와 '고객이 제대로 보지 못한 것이다, 알아서 하라'는 말만 반복. 진짜 말을 좋게 해서 서로 좋게 끝낼 일을 불친절함과 피아낱거림으로 끝장까지 보게 만드네요. 이전에도 이러한 불편 사항이 많았는데 개선한다는 형식적인 말만. 개선할 방법은 전혀 없고 대응 시 불친절함과 '알아서 해라, 자기는 모른다'는 대응뿐. 진짜 반성하시길.\n"
     ]
    },
    {
     "name": "stderr",
     "output_type": "stream",
     "text": [
      "\r 78%|███████▊  | 1310/1689 [2:44:07<56:33,  8.95s/it]  "
     ]
    },
    {
     "name": "stdout",
     "output_type": "stream",
     "text": [
      "1310 : 스텝분들이 친절하고 숙소도 깨끗합니다. 여자 도미토리 4층인데 엘리베이터가 없다는 게 아쉬워요.\n"
     ]
    },
    {
     "name": "stderr",
     "output_type": "stream",
     "text": [
      "\r 78%|███████▊  | 1311/1689 [2:44:10<44:24,  7.05s/it]"
     ]
    },
    {
     "name": "stdout",
     "output_type": "stream",
     "text": [
      "1311 : 가격에 비해 직원들의 전문성이 너무 떨어집니다. 내부 인테리 등은 인정해 줄 만하지만, 회원제가 맞나 싶습니다.\n"
     ]
    },
    {
     "name": "stderr",
     "output_type": "stream",
     "text": [
      "\r 78%|███████▊  | 1312/1689 [2:44:12<34:50,  5.54s/it]"
     ]
    },
    {
     "name": "stdout",
     "output_type": "stream",
     "text": [
      "1312 : 숙소 뷰, 주차, 시설, 친절 모든 면에서 너무나 만족스러웠던 곳입니다!\n"
     ]
    },
    {
     "name": "stderr",
     "output_type": "stream",
     "text": [
      "\r 78%|███████▊  | 1313/1689 [2:44:13<27:08,  4.33s/it]"
     ]
    },
    {
     "name": "stdout",
     "output_type": "stream",
     "text": [
      "1313 : 완벽하지 않은 게 하나도 없던 완벽한 휴가를 보냈습니다!\n"
     ]
    },
    {
     "name": "stderr",
     "output_type": "stream",
     "text": [
      "\r 78%|███████▊  | 1314/1689 [2:44:15<22:19,  3.57s/it]"
     ]
    },
    {
     "name": "stdout",
     "output_type": "stream",
     "text": [
      "1314 : 5성급 호텔을 비수기라 저렴하게 누릴 수 있어 좋았습니다.\n"
     ]
    },
    {
     "name": "stderr",
     "output_type": "stream",
     "text": [
      "\r 78%|███████▊  | 1315/1689 [2:44:17<19:22,  3.11s/it]"
     ]
    },
    {
     "name": "stdout",
     "output_type": "stream",
     "text": [
      "1315 : 뷰 끝장나요!! 직원분들도 친절하시고, 동성 친구끼리 오기 좋습니다.\n"
     ]
    },
    {
     "name": "stderr",
     "output_type": "stream",
     "text": [
      "\r 78%|███████▊  | 1316/1689 [2:44:21<20:19,  3.27s/it]"
     ]
    },
    {
     "name": "stdout",
     "output_type": "stream",
     "text": [
      "1316 : 가성비가 아주 좋은 예쁘던은 디였습니다. 테라스에서 먹을 땐 라이프 연주를 듣기가 조금 어려웠는데, 실내에서 먹으니 라이프 연주가 굉장히 훌륭했어요!\n"
     ]
    },
    {
     "name": "stderr",
     "output_type": "stream",
     "text": [
      "\r 78%|███████▊  | 1317/1689 [2:44:40<50:16,  8.11s/it]"
     ]
    },
    {
     "name": "stdout",
     "output_type": "stream",
     "text": [
      "1317 : 빛의 신여터 보러 갔습니다. 솔직히 사람도 많고 아기들도 많아서 분위기를 내기는 좀 힘듭니다. 거기다 다른 부서 직원들은 어떤지 잘 모르겠지만, 셀트 기타니미들이 굉장히 예민하더군요. 기분 좋게 갔다가 셀트 기타니미가 예민하게 구려서 완전히 기분이 망쳐졌습니다. 음악도 너무 거칠고, 차라리 차를 말고 갔으면 좋았겠다는 생각이 들기도 했습니다. 그래도 전시 자체는 재미있었습니다. 워낙 공간이 커서 규모에 압도되는 것도 있었고, 공간 전체를 스크린으로 이용하다 보니 내가 작품 속에 들어와 있는 기분이었습니다. 다 큰 나도 이런데 아기들은 어떨까요?ㅎ 여기저기 바닥에 떨어진 영상을 따라서 뛰어다니고 발에 같은 것을 해보는 아이들도 있었습니다. 순수하게 여가를 받아 있기는 대로 움직이는 아이들을 보면서 기분이 좋았습니다. 다만 사람이 많아 서로 다칠 위험이 있으니 공간 내 안전 요원이라고 해야 할까요? 직원들이 쫓아다니며 주의를 주는 모습을 보면서 보호자가 먼저 책임해 주었으면 좋았겠다는 생각이 들었습니다.\n"
     ]
    },
    {
     "name": "stderr",
     "output_type": "stream",
     "text": [
      "\r 78%|███████▊  | 1318/1689 [2:44:42<38:09,  6.17s/it]"
     ]
    },
    {
     "name": "stdout",
     "output_type": "stream",
     "text": [
      "1318 : 명불허전, 오래되었지만 항상 보고 싶은 뷰에 분위기입니다.\n"
     ]
    },
    {
     "name": "stderr",
     "output_type": "stream",
     "text": [
      "\r 78%|███████▊  | 1319/1689 [2:44:45<31:29,  5.11s/it]"
     ]
    },
    {
     "name": "stdout",
     "output_type": "stream",
     "text": [
      "1319 : 하나하나 세심하게 챙겨주셔서 감사합니다. 커피 잘 마시고 가요!! 자전거도 완전 잘 탔어요.\n"
     ]
    },
    {
     "name": "stderr",
     "output_type": "stream",
     "text": [
      "\r 78%|███████▊  | 1320/1689 [2:44:59<49:00,  7.97s/it]"
     ]
    },
    {
     "name": "stdout",
     "output_type": "stream",
     "text": [
      "1320 : 끔찍한 호텔, 이것을 예약하지 마십시오. 방은 더럽고 시트에 얼룩이 있으며 화장실은 물을 내리지 않습니다. 내 방 화장실에서 나는 찌독하고 강한 냄새가 너무 강해서 나와 접수원 모두 문이 닫힌 복도에서 냄새를 맞을 수 있었고, 울리는 거기에 1분 이상 있을 수 없었습니다. 그래도 방 변화를 요청하면 업그레이드 비용을 지불하지 않으면 제공을 거부했습니다. 리셉션에서 이야기한 모든 직원(3명)은 매우 무례하고 무식했으며 방이 냄새가 너무 심해서 숙박이 불가능할 때 \"그것은 큰 문제가 아닙니다\"라고 말했습니다. 그래도 환불이나 보상은 없었고, 잠시 후 접수원은 저에게 말을 거부를 거부했습니다. 이 호텔의 모든 객실에 문제가 있는 것 같습니다. 더 나은 것을 찾으십시오. 이것은 도심에서 최악의 호텔입니다.\n"
     ]
    },
    {
     "name": "stderr",
     "output_type": "stream",
     "text": [
      "\r 78%|███████▊  | 1321/1689 [2:45:03<41:57,  6.84s/it]"
     ]
    },
    {
     "name": "stdout",
     "output_type": "stream",
     "text": [
      "1321 : 청결합니다. 가격이 합리적입니다. 조식이 무료라 좋고, 한식이랑 더욱 좋습니다. 안 먹으면 손해! 방음이 잘 안되는 게 단점입니다. 외국인들이 엄청 많아요. 참고하세요.\n"
     ]
    },
    {
     "name": "stderr",
     "output_type": "stream",
     "text": [
      "\r 78%|███████▊  | 1322/1689 [2:45:07<35:14,  5.76s/it]"
     ]
    },
    {
     "name": "stdout",
     "output_type": "stream",
     "text": [
      "1322 : 뷰도 좋고 깨끗해서 좋았습니다. 주차타워에 입고해야 하고, 주차료가 1박당 3,000원이 추가 발생합니다.\n"
     ]
    },
    {
     "name": "stderr",
     "output_type": "stream",
     "text": [
      "\r 78%|███████▊  | 1323/1689 [2:45:12<34:47,  5.70s/it]"
     ]
    },
    {
     "name": "stdout",
     "output_type": "stream",
     "text": [
      "1323 : 깨끗한 시설 관리, 친절한 직원분들, 넓고 깊은 수영장과 적당한 어린이풀~~ 지금까지 머물렀던 펜션 중에 가장 최고라고 생각합니다~ 다만 숯불이 테이블 옆에 고정되어 있어서 끄는데 좀 덥더라고요~ 그래도 재방문 100% 확실합니다~\n"
     ]
    },
    {
     "name": "stderr",
     "output_type": "stream",
     "text": [
      "\r 78%|███████▊  | 1324/1689 [2:45:14<28:21,  4.66s/it]"
     ]
    },
    {
     "name": "stdout",
     "output_type": "stream",
     "text": [
      "1324 : 위치, 호텔 컨디션, 직원 친절 등 다 하나 빠짐없이 좋았어요 재방문 의사 완전 있습니다\n"
     ]
    },
    {
     "name": "stderr",
     "output_type": "stream",
     "text": [
      "\r 78%|███████▊  | 1325/1689 [2:45:17<24:39,  4.07s/it]"
     ]
    },
    {
     "name": "stdout",
     "output_type": "stream",
     "text": [
      "1325 : 합리적인 가격에 세 가족이 하룻밤 잘 묵었습니다! 시설도 나름 깨끗하고 여름에 시원하게 잘 잤어요!\n"
     ]
    },
    {
     "name": "stderr",
     "output_type": "stream",
     "text": [
      "\r 79%|███████▊  | 1326/1689 [2:45:19<20:55,  3.46s/it]"
     ]
    },
    {
     "name": "stdout",
     "output_type": "stream",
     "text": [
      "1326 : 추가 비용이 다양합니다. 주차비를 받는 곳은 처음 프론트 직원 재교육이 필요합니다!!\n"
     ]
    },
    {
     "name": "stderr",
     "output_type": "stream",
     "text": [
      "\r 79%|███████▊  | 1327/1689 [2:45:23<21:11,  3.51s/it]"
     ]
    },
    {
     "name": "stdout",
     "output_type": "stream",
     "text": [
      "1327 : 수영장은 잘 되어 있고 고기도 굵고 옆에 내려가서 폭죽도 터트리면서 추억을 쌓기 좋습니다. 하지만 숙소에서 벌레가 잘 나와서 아쉽습니다.\n"
     ]
    },
    {
     "name": "stderr",
     "output_type": "stream",
     "text": [
      "\r 79%|███████▊  | 1328/1689 [2:45:25<19:05,  3.17s/it]"
     ]
    },
    {
     "name": "stdout",
     "output_type": "stream",
     "text": [
      "1328 : 뷰가 아주 좋습니다. 조식은 주말 뷔페보다 평일 브런치 형태로 나오는 조식이 훨씬 좋아요.\n"
     ]
    },
    {
     "name": "stderr",
     "output_type": "stream",
     "text": [
      "\r 79%|███████▊  | 1329/1689 [2:45:32<25:58,  4.33s/it]"
     ]
    },
    {
     "name": "stdout",
     "output_type": "stream",
     "text": [
      "1329 : 기타림이 시간이 지나고 객실에 입실... 에어컨을 켜고 눈에 보이는데... 손이 들어가지 않아 프론트에 연락해서 사람이 다녀감... 근데, 이건 아니지 않나!? 이래 놓고 영업하는 것은 무슨 심보인가? 최소하니 청소는 당연하고, 왔던 사람이 다음에 또 오고 싶겠어요?! 월급 루빵? 이 좀 제대로 합시다.\n"
     ]
    },
    {
     "name": "stderr",
     "output_type": "stream",
     "text": [
      "\r 79%|███████▊  | 1330/1689 [2:45:35<22:26,  3.75s/it]"
     ]
    },
    {
     "name": "stdout",
     "output_type": "stream",
     "text": [
      "1330 : 객실 업그레이드도 해주시고 소모품도 잘 갖춰져 있고 친절하며 조식도 맛있었습니다.\n"
     ]
    },
    {
     "name": "stderr",
     "output_type": "stream",
     "text": [
      "\r 79%|███████▉  | 1331/1689 [2:45:40<25:01,  4.20s/it]"
     ]
    },
    {
     "name": "stdout",
     "output_type": "stream",
     "text": [
      "1331 : 가성비 짱인 호텔.. 다만 아쉬웠던 건 카드키가 하나라 일행 중 한 명이 나가면 엘리베이터 때문에 내려가야 해요 (카드키를 찍어야만 올라올 수 있음). 카드키만 두 개 주셨으면 좋겠어요 ㅜㅜ\n"
     ]
    },
    {
     "name": "stderr",
     "output_type": "stream",
     "text": [
      "\r 79%|███████▉  | 1332/1689 [2:45:41<19:27,  3.27s/it]"
     ]
    },
    {
     "name": "stdout",
     "output_type": "stream",
     "text": [
      "1332 : 청결하고 직원들이 친절해서 좋았습니다.\n"
     ]
    },
    {
     "name": "stderr",
     "output_type": "stream",
     "text": [
      "\r 79%|███████▉  | 1333/1689 [2:45:50<29:29,  4.97s/it]"
     ]
    },
    {
     "name": "stdout",
     "output_type": "stream",
     "text": [
      "1333 : 차라리 시설을 개선하시고 사용료를 받는 게 바라집니다. 사용료 대신 15,000원을 사용해야 입장 가능합니다. 쓰레기 봉투가는 15,000원 합에 포함 못 시킵니다. 그러면 5봉에 7,000원, 소주 4,000원 포함 취함. 매년 휴식을 취하러 가던 캠퍼입니다. 뒤돌아오는 퀴리 쓰쓰하기만 할 따름입니다.\n"
     ]
    },
    {
     "name": "stderr",
     "output_type": "stream",
     "text": [
      "\r 79%|███████▉  | 1334/1689 [2:45:51<23:14,  3.93s/it]"
     ]
    },
    {
     "name": "stdout",
     "output_type": "stream",
     "text": [
      "1334 : 이뻐요. 주차장이 아쉽긴 한데ㅜ\n"
     ]
    },
    {
     "name": "stderr",
     "output_type": "stream",
     "text": [
      "\r 79%|███████▉  | 1335/1689 [2:46:14<55:28,  9.40s/it]"
     ]
    },
    {
     "name": "stdout",
     "output_type": "stream",
     "text": [
      "1335 : 친구랑 해서 넷이 가는 거라 커드러플 룸을 이용했어요. 저희처럼 닷이뉴로 놀러 가는 분들을 위한 방이에요, 진짜! 2층 침대 등 캔 해서 뭔가 칸맘에 기숙사 온 기분도 들고 ㅋㅋㅋ 함께있지만 또 따로 개인 공간이 있는 것 같아서 좋았어요. 보통 호텔 가면 테이블이 지동만 해서 너무 짜증나는데, 여긴 다 같이 앉을 수 있게 테이블도 크고! 최고니다... 직원 분들 응대도 친절했어요. 깨끗하구요! 예약할 때 조식 옵션이 없어서 현장에서 결제하나보다! 했는데, 코로나여서 운영 중지한 거였더라고요. 슬펐어요. 그건 잘 알아본 제 탓죠 뭐! 불편했던 점은 딱 두 개 있었습니다. 저희 방은 세면대 수압이 정말 약했어요. 그리고 전등 스위치, 객실 내 전화기, 엘리베이터 등 안내 및 정보 문구가 웬만하면 딱 영어로 되어 있던 거...? 젊은 층들이야 그러려니 하겠지만, 혹여나 영어 접구가 어려우신 분들에게 굉나 불편하겠다... 싶었어요. 같이 기절가 되어 있으면 좋겠다고 생각했습니다. 나머진 다 만족!\n"
     ]
    },
    {
     "name": "stderr",
     "output_type": "stream",
     "text": [
      "\r 79%|███████▉  | 1336/1689 [2:46:16<42:17,  7.19s/it]"
     ]
    },
    {
     "name": "stdout",
     "output_type": "stream",
     "text": [
      "1336 : 온돌바위 소리 밤새 들리고 방음 안 돼서 편하게 못 자요. 참고하시길\n"
     ]
    },
    {
     "name": "stderr",
     "output_type": "stream",
     "text": [
      "\r 79%|███████▉  | 1337/1689 [2:46:19<35:35,  6.07s/it]"
     ]
    },
    {
     "name": "stdout",
     "output_type": "stream",
     "text": [
      "1337 : 숙소 내부 깨끗하고 쾌적! 특히 화장실은 다른 숙소에 비해 확실히 청결합니다. 비즈니스 호텔이라는 이름답게 서비스와 청결도 매우 만족합니다.\n"
     ]
    },
    {
     "name": "stderr",
     "output_type": "stream",
     "text": [
      "\r 79%|███████▉  | 1338/1689 [2:46:27<39:06,  6.68s/it]"
     ]
    },
    {
     "name": "stdout",
     "output_type": "stream",
     "text": [
      "1338 : 4성 호텔이네요! 웨딩홀도 예뻤고 고객 주차는 근처 우지드인당역에 해야 하지만 층수도 많고 넓직해서 괜찮았어요! 주차하고 1층 밖으로 나가서 호텔까지 5분 정도 걸렸고, 우지드인당역 로비에 ATM도 있었어요. 호텔 로비 카페에서 고객들이 커피도 무료로 마실 수 있어서 좋았고, 뷔페도 맛있었습니다.\n"
     ]
    },
    {
     "name": "stderr",
     "output_type": "stream",
     "text": [
      "\r 79%|███████▉  | 1339/1689 [2:46:52<1:11:00, 12.17s/it]"
     ]
    },
    {
     "name": "stdout",
     "output_type": "stream",
     "text": [
      "1339 : 너무 기대하면 안 되는 숙소. 이름 때문에 까만 나간다. 방 전반적으로 작고, 벽지가 오래돼서 울고 있음. 모기가 많고, 나무 테이블이 부서져 있음(아이들에게 위험할 수도). 조식은 가격 대비 부실하고, 웨이팅도 길다. 음식 세팅도 늦고, 맛은 그냥 그럼. 종류가 많은 것도 아님. 미초 와플이랑 에프터 바이는 괜찮고, 쌀국수가 있던데 골수가 없음. 이럴 수가. 맛은 그냥 국수 잘 뽑은 쌀국수, 컵라면 같음. 조리해 주시는 분이 한 분이라 너무 힘드실 것 같다는 생각이 들었다. 대기업에게 베리어 프리는 오케이. 근데 많은 부분이 영어로만 안내되는 점(엘리베이터, 화장실 등). 영음에 익숙치 않은 분들은 화장실도 어렵게 느껴지실 것 같다. 필요하다면 영어를 보조로 써놓는 게 맞지 않을까? 엘리베이터 속도는 빠른데 개수가 몇 개 없어서 타는 데 오래 걸린다. 그냥 비상계단 사용^^. TV는 우선 방송 몇 개만 나와서 넷플릭스는 안 됨. 세탁실 있음, 그런데 서유 원자재는 없고 세제는 있음. 침대는 너무 좋음. 들어오고 싶었음. 그리고 밑에 지방 사람들 사자밞서 욕하는 글이 있었던데, 너나 잘해~\n"
     ]
    },
    {
     "name": "stderr",
     "output_type": "stream",
     "text": [
      "\r 79%|███████▉  | 1340/1689 [2:47:11<1:22:50, 14.24s/it]"
     ]
    },
    {
     "name": "stdout",
     "output_type": "stream",
     "text": [
      "1340 : 배정받은 방은 벽 뷰에, 층문에 슬리퍼로 고정되어 있고, 화장실에 사방이 물때로 덮여 있으며, 샤워기는 고장 나 있고, 세면대 형식이 이상해서 손 씻다가 옷이 다 젖었습니다. 스낵바에는 사탕뿐이고, 냉장고는 텅 비었으며, 야외 테라스에는 차도산이까 모여져 있고, 스타일러는 방 안에 없고 세탁실에 1대뿐입니다. 아침에 공사 소리에 깨서 조식을 먹고 있는데(심지어 조식이 셀프) 옆으로 공사 인부들이 왔다 갔다 하고, 서로 떠드느라 시끄럽고 먼지가 날리고 있습니다. 기분이 상한 상태로 밖에 나가니 문 앞에 대형 클렌징이 막고 있는데 안전 요원도 없어서 클렌징 밑으로 지나갔습니다. 호텔에 당직니까 공사가 아침에 정해진 걸 어떻게 하냐며 오히려 적반하장이고, 연박한 거 취소해달라니까 그것도 안 된다고 해서 스트레스를 엄청 받아서 없던 세지까지 생겼습니다. 그것도 하루 마네요.\n"
     ]
    },
    {
     "name": "stderr",
     "output_type": "stream",
     "text": [
      "\r 79%|███████▉  | 1341/1689 [2:47:12<59:57, 10.34s/it]  "
     ]
    },
    {
     "name": "stdout",
     "output_type": "stream",
     "text": [
      "1341 : 이불과 오에서 걸레 쉰내 엄청남.\n"
     ]
    },
    {
     "name": "stderr",
     "output_type": "stream",
     "text": [
      "\r 79%|███████▉  | 1342/1689 [2:47:21<57:33,  9.95s/it]"
     ]
    },
    {
     "name": "stdout",
     "output_type": "stream",
     "text": [
      "1342 : 사진이랑 소파 테이블 다르고 담배 냄새 쩔어 있습니다. 그냥 예약 취소했어요. 남자 사장인지 알바인지 모르겠는데 알바가 카드 툭툭 찍어 턴지고 소리지르는데 ㅋㅋ 찍어 치우세요. 기본은 갖추고 장사를 해야지. 다른 손님도 담배 냄새 때문에 두 번이나 방 바꾸는 것 같던데 방 관리 전혀 안 하는 것 같아요. 웬만하면 쓰는데 들어가자마자 아니다 하고 나왔네요^^\n"
     ]
    },
    {
     "name": "stderr",
     "output_type": "stream",
     "text": [
      "\r 80%|███████▉  | 1343/1689 [2:48:01<1:48:57, 18.89s/it]"
     ]
    },
    {
     "name": "stdout",
     "output_type": "stream",
     "text": [
      "1343 : 오래된 느낌은 있지만 연식 대비 굉장히 관리가 잘 되어있음. 해운대 쪽에서 투숙했을 때는 동네가 너무 시끄러워서 힘들었는데, 이곳은 아주 조용하고 한적해서 좋았음. 기왕 하실 거 좀 더 주고라도 광안대교가 보이는 오션뷰 하시길. 비록 본인은 사정상 오륙도 뷰였지만 오륙도 뷰도 아주 좋았음. (사진은 방에서 바라본 바다) 어플 가입하면 사우나와 커피 무료 쿠폰도 주고 조식 30% 쿠폰도 주니 솔솔히 이용하시길. 사우나는 양담하지만 양담한 만큼 사람도 적은 편이고 바다 보면서 반신욕 할 수 있어서 좋았음. 다만 돈 내고 쓰긴 좀 아까울 수 있으니 쿠폰을 적극 사용하세요. 조식은 막 정갈하다는 느낌은 아니었지만 한식 메뉴가 비중이 높아서 남녀노소 호불호 없이 맛있게 먹을 수 있었음. 역과 거리가 좀 있긴 하지만 못 걸어 다니 거리는 아님. 동백섬에서 태울 마리나 아파트를 일장으로 가로지려서 호불렀스를 지나오면 됨. (호불렀스의 규모도 상당해서 주변부리 쇼핑하기도 좋음) 600M, 10분 정도 걸으면 됨. 해운대는 4명 정도면 택시 기본 요금 타고 가면 되고, 사실 바다 구경하기엔 동백섬+초선 앞쪽이 훨씬 예쁘기 때문에 그곳 산책하는 것으로 충분함. 더욱이 리조트 앞이 광안대교 뷰보인들이기 때문에(사진) 한두 번 해운대 나가면 잘 안 가게 되니 해운대 먼 것일 그리 단점이 되지 않음. 가성비 아주 좋은 숙소였습니다. 너무 만족했고요 부산 올 때마다 묵고 싶어요. 부산 이곳저곳 안 다닐고 해운대 쪽에서만 항상 노는 사람에게 더할 나위 없이 좋았습니다. 더불어 블루레일파크 등 다양한 레저 상품 도입도 리조트 투숙객 대상으로 할인해서 팔고 있습니다. 그리고 리조트 내 결제 전부 동백섬으로도 가능했으니 부산 여행 오실 때 동백섬 만들어서 오시는 분들은 참고하세요~\n"
     ]
    },
    {
     "name": "stderr",
     "output_type": "stream",
     "text": [
      "\r 80%|███████▉  | 1344/1689 [2:48:05<1:22:27, 14.34s/it]"
     ]
    },
    {
     "name": "stdout",
     "output_type": "stream",
     "text": [
      "1344 : 연휴 기간에 예약을 잡아놓고 갔더니 객실이 없으니 다른 숙소에서 자야겠다면서 숙박 앱에는 노쇼로 처리해도 되겠냐고 물어보셨습니다 :(\n"
     ]
    },
    {
     "name": "stderr",
     "output_type": "stream",
     "text": [
      "\r 80%|███████▉  | 1345/1689 [2:48:10<1:06:06, 11.53s/it]"
     ]
    },
    {
     "name": "stdout",
     "output_type": "stream",
     "text": [
      "1345 : 성수역에서 가까워서 찾기가 쉽더군요~ 직원분들이 너무 친절하셔서 기분이 좋았습니다. 객실도 깔끔하고 이불도 깨끗해서 너무너무 좋았습니다. 잘 쉬다 왔습니다. 다음에 또 가면 다른 객실을 이용해 봐야겠어요^^\n"
     ]
    },
    {
     "name": "stderr",
     "output_type": "stream",
     "text": [
      "\r 80%|███████▉  | 1346/1689 [2:48:12<49:57,  8.74s/it]  "
     ]
    },
    {
     "name": "stdout",
     "output_type": "stream",
     "text": [
      "1346 : 객실 디자인, 침구류, 부대 시설, 컨시어지 뭐 하나 빠지지 않는 최고의 호텔이었습니다.\n"
     ]
    },
    {
     "name": "stderr",
     "output_type": "stream",
     "text": [
      "\r 80%|███████▉  | 1347/1689 [2:48:31<1:06:54, 11.74s/it]"
     ]
    },
    {
     "name": "stdout",
     "output_type": "stream",
     "text": [
      "1347 : 경주에서 부산 집으로 오면서 하루 더 지낼 곳이 없을까 찾아보다가 예약하게 되었습니다~ 호텔이 너무 조용하고, 시설도 깨끗했어요. 어터박스 방문 후 들어간 숙소이고, 욕조에 물받는 시간이 꽤 걸려서 (욕조가 꽤 커요) 신나게 놀지는 못했지만 미취학 아이들 데리고 오시면 정말 잘 놀 수 있을 것 같습니다~ 취사가 불가해서 컵라면랑 밖에서 사온 음식을 먹었는데, 테이블이 낮아서 음식을 먹을 때는 조금 불편했습니다~ 침구들도 깨끗하게 잘 구비되어 있었고, 대형 TV로 영화도 즐길 수 있어서 좋았습니다. 암막 커튼이 되어 있어서 꿀잠 가능했고, 아침 조식 먹으러 8시 조금 넘어 방문했는데, 볶음밥, 식빵, 우유 등 다양하게 준비되어 있어서 놀랐네요^^ 퇴실도 12시여서 아이들 천천히 준비시킬 수 있어서 여유로웠습니다~ 집에 가려면 엄마들은 챙길 게 많아서 바쁘잖아요 ㅋㅋ 다음번 또 방문하겠습니다~~\n"
     ]
    },
    {
     "name": "stderr",
     "output_type": "stream",
     "text": [
      "\r 80%|███████▉  | 1348/1689 [2:49:38<2:41:17, 28.38s/it]"
     ]
    },
    {
     "name": "stdout",
     "output_type": "stream",
     "text": [
      "1348 : 프론트에서 겪은 핸드폰 도난 사건과 핸드폰 도둑보다 더 화가 나게 하는 최악의 고객 응대 - 핸드폰 없는 고객에게 경찰 신고도 알아서, CCTV 확인도 대충? 문제 책임이 실수기 실어서 그냥 넘어가자는 매니저?  1. 체크인할 때 실수로 핸드폰을 프론트 데스크에 놔두고 왔고, 객실로 가는 엘리베이터에서 바로 알아쳤다. 2. 왔던 길을 확인하고서 데스크 직원들에게 핸드폰을 두고 왔다고 하자 '핸드폰 두고 간 것 없다'고만 말하는 직원들. 3. 4번이나 왔던 길을 확인하며 3번이나 프론트 앞에 두고 간 곳이 없다고 말하는 데도 '없기 없다'고만 할 뿐 분실, 도난 안내 등 아무런 안내 없는 직원들(시골 구면가계에서도 계산대에서 핸드폰 잃어버렸다고 하면 같이 찾아봐주는 처길라도 하지 않습니다). 4. 이때로는 안 될 것 같아 CCTV 확인을 요청하자 경찰에 신고해 대려오라고 한다(이건 법적인 부분이니 이해함). 5. 그래서 경찰에 신고하고 싶다고 하니까 '네' 하고는 여자 직원이 다시 찾기 일을 시작한다. 여기서부터는 내가 어이가 없어서 핸드폰이 없는데 어떻게 신고를 하냐고 전화 좀 쓰자고 하니까 그제서야 '아?'라며 다른 직원도 멍때거리며 전화기를 건네준다(초등학생도 안 이럴 것입니다 ㅎㅎ). 6. 경찰 신고 후, 늦어지면 핸드폰을 영영 잃을 것 같아 데스크 직원들이라도 CCTV 먼저 확인해달라고 부탁드렸다. 여자 직원이 CCTV를 돌려서 보더니 나보고 고객님이 가져간 것 같다고 시큰둥하게 말한다. 그런데 같이 살법보던 다른 직원은 아니라고 잘 못 본 거라고 나 다음에 체크인하던 중국인 부부가 가져간 것이라고 한다(여자 직원은 돌대계 멀까? 여기서는 너무 어이가 없었다). 7. 직원이 중국인 부부 객실에 전화 걸려서 프론트로 핸드폰 가져다 달라고 한다. 그 사이에 매니저가 나타나다. 나는 계속 옆에 프론트 서서 기다렸고 한 15분 뒤쯤 중국인 여자가 내려와서 내 핸드폰과 케이스를 분리한 채 갖고 나타나다. 자기가 객실 TV 옆에 있는 핸드폰을 찾아준 거라고 말한다. 8. 그래서 내가 어이가 없어서 프론트에서 당신이 가져간 것이라고, 찾아준 게 아니라 가정한 거 아니냐고 무슨 말을 하는 거냐고 하는데 매니저 붕함, 데스크 직원들 아무도 사실 확인 안 해준다. 그냥 나보고 끝 중국인 여자랑 알아서 하라는 식이다. 9. 내 핸드폰 케이스는 엄청 화려해서 누가 봐도 자기 것이 아닌 것을 가져가서 한 시간을 넘게 안 돌려준 것도 의문이고, 돌려줄 때 케이스가 분리된 것도 이상해서 경찰에 저물 물이다 관련 신고도 하고 싶고, 자기가 가전갑 놓고 찾아줬다는 것도 화나서 사과도 하고 싶다고 했다. 10. 매니저는 찾아우면 되지 나보고 너무한다는 식으로 계속 몰고 간다. 나도 업무 보러 가야 해서 일단 그냥 넘어갔는데 생각하대로 호텔 측 대처가 너무 황당해 일을 공유하고자 후기를 남기게 되었다.   라마다 해운대는 프론트에서 핸드폰을 도난당했는데도 이렇게 날 일처럼 모르쇠함면 도대체 고객에 대해서 어떤 걸 책임질 수 있는지 걱정스럽다. 핸드폰 도난당한 고객에게 신고도 알아서 하고, CCTV도 확인도 대충하고, 내가 다 욕구해서 찾으니까 찾아왔다고 그냥 넘어가자는 식이고, 살면서 겨우 최악인 서비스였다. 안 좋은 추억만 만들어주는 라마다 양고룸 해운대 호텔이었다.\n"
     ]
    },
    {
     "name": "stderr",
     "output_type": "stream",
     "text": [
      "\r 80%|███████▉  | 1349/1689 [2:50:14<2:53:49, 30.67s/it]"
     ]
    },
    {
     "name": "stdout",
     "output_type": "stream",
     "text": [
      "1349 : 어머니가 외관이 너무 예쁘다고 하셔서 예약한 건데 룸은 저잠한 수준입니다. 어제 305호에 투숙했는데 청소하면서 담배를 한 데 피웠는지, 들어오자마자 담배 냄새가 장난 아니었습니다. 그리고 미니바 맥주는 왜 병장한 채로 치워져 있는지 쿵쿵합니다. 욕실도 욕실화 없는 건 기본이고 하수구 냄새도 심했습니다. 어메니티도 비누는 물비누고 샴푸와 바디워시 겸용으로 매달려 있는 게 공공화장실 수준이라 상당히 실망스러웠습니다. 방음도 구려서 옆방, 윗방 말소리와 TV 소리가 다 들려요. 새벽 네 시에 다른 방 TV 소리에 뒤척이다 잠들었습니다. 방음이 대하가 코시원 원룸 수준입니다. 그리고 문 잠금 장치도 부실해서 문 단속이 된 건지 안 된 건지 스크램 마냥 끼우끼우거립니다. 이런 말 하긴 그런데 순도건에 짜증 가는 같은 값의 성급 없는 호텔보단 못합니다. 4성급이 이 가격일 때 의심을 해봤어야 했는데, 어머니가 예약해 따라 말씀하셔도 좀 알아보고 할 것을... 통탄할 지경이네요. 조지에 불속성 호자가 됐습니다. 더 할 말은 많지만 이만하겠습니다ㅠ 그래도 외관부터 내부 모두 이국적이고 좋아요. 그거 하나는 장점으로 인정합니다... 그리고 에어컨이 독특하게 창문 밑에 달려 있는데, 덕분에 방이 시원해지기까지 시간이 좀 걸렸습니다. 리뷰 작성은 많이 해도 시간 내서 창문의 리뷰는 잘 안 쓰는데, 참 실망인 거서 길게 작성합니다. 최근 묵었던 호텔 중 제일 별로입니다... 예약하시길 전에 리뷰 보러 오신 분들 1점짜리 리뷰라고 무지성으로 간다고 생각하시고 야놀자, 여기어때 등 다른 앱 리뷰도 보시고 현명한 판단하시길 바랍니다. 여행하는 데 숙소가 중요하신 분들은 더더욱...\n"
     ]
    },
    {
     "name": "stderr",
     "output_type": "stream",
     "text": [
      "\r 80%|███████▉  | 1350/1689 [2:50:21<2:13:24, 23.61s/it]"
     ]
    },
    {
     "name": "stdout",
     "output_type": "stream",
     "text": [
      "1350 : 건의 10년째 회원입니다. 일본과 한국을 오가며 이용하지만, 동양콴인은 조식으로도 유명합니다. 정말 최악의 조식입니다. 가짓수는 물론 먹을 것이 없습니다. 식당도 1층에 거짓때도 아니고 줄을 서서.. 숙박료에 포함된 식사인데 억어먹는 기분입니다. 다시는 이용하지 않을겁니다. 참고하세요.\n"
     ]
    },
    {
     "name": "stderr",
     "output_type": "stream",
     "text": [
      "\r 80%|███████▉  | 1351/1689 [2:50:22<1:34:58, 16.86s/it]"
     ]
    },
    {
     "name": "stdout",
     "output_type": "stream",
     "text": [
      "1351 : 하수구 냄새 좀 없어주세요. 제발..\n"
     ]
    },
    {
     "name": "stderr",
     "output_type": "stream",
     "text": [
      "\r 80%|████████  | 1352/1689 [2:50:24<1:09:17, 12.34s/it]"
     ]
    },
    {
     "name": "stdout",
     "output_type": "stream",
     "text": [
      "1352 : 19층에 있었는데 창문이 밤이 바다가 보였고 저렴한 가격에 만족합니다.\n"
     ]
    },
    {
     "name": "stderr",
     "output_type": "stream",
     "text": [
      "\r 80%|████████  | 1353/1689 [2:50:26<51:06,  9.13s/it]  "
     ]
    },
    {
     "name": "stdout",
     "output_type": "stream",
     "text": [
      "1353 : 방 깨끗함, 직원분 친절함, 예쁨, 밥 맛있음\n"
     ]
    },
    {
     "name": "stderr",
     "output_type": "stream",
     "text": [
      "\r 80%|████████  | 1354/1689 [2:50:32<45:38,  8.17s/it]"
     ]
    },
    {
     "name": "stdout",
     "output_type": "stream",
     "text": [
      "1354 : 조식 1시간 넘게 대기시키고 로비에 30명 넘게 대기 중입니다. 피난민 수용소 같고 코로나 감염 우려도 됩니다. 아무 대책 없는 수준 낮은 운영 방식을 보여줍니다. 들어와 보니 단체석 룸은 더 비어 노후 첼로 화로를 안 하네요.\n"
     ]
    },
    {
     "name": "stderr",
     "output_type": "stream",
     "text": [
      "\r 80%|████████  | 1355/1689 [2:50:37<39:54,  7.17s/it]"
     ]
    },
    {
     "name": "stdout",
     "output_type": "stream",
     "text": [
      "1355 : 작은 방만 있어서 좁았지만, 입구에 스타일러, 방에 컴퓨터, 전자렌지, 조식 토스트, 휴레이크가 늘 웃으시는 사장님. 미리 숙소를 못 정해서 급하게 들렀지만 만족한 모텔이었습니다.\n"
     ]
    },
    {
     "name": "stderr",
     "output_type": "stream",
     "text": [
      "\r 80%|████████  | 1356/1689 [2:50:38<29:57,  5.40s/it]"
     ]
    },
    {
     "name": "stdout",
     "output_type": "stream",
     "text": [
      "1356 : 제주 바다처럼 맑네. 그늘은 없네.\n"
     ]
    },
    {
     "name": "stderr",
     "output_type": "stream",
     "text": [
      "\r 80%|████████  | 1357/1689 [2:50:46<33:46,  6.10s/it]"
     ]
    },
    {
     "name": "stdout",
     "output_type": "stream",
     "text": [
      "1357 : 지방에서 출장 때문에 방문했습니다. 강남쪽 호텔들은 가격이 비싼 편이라 성수동에서 강남으로 이동하기도 편한 듯해서 예약했는데 가성비 짱이네요. 뭐 객실도 깔끔하고, 프론트 직원들도 대부분 친절해서 기분 좋게 잘 있다 내려왔네요. 그런데 주말엔 미리 예약하지 않으면 체크인하기 힘드네요. 손님이 많음 -_-;; 아무튼 만족스러웠습니다.\n"
     ]
    },
    {
     "name": "stderr",
     "output_type": "stream",
     "text": [
      "\r 80%|████████  | 1358/1689 [2:50:51<33:13,  6.02s/it]"
     ]
    },
    {
     "name": "stdout",
     "output_type": "stream",
     "text": [
      "1358 : 로맨틱 오션으로 잡았는데 너무 만족스럽네요. 재방문 의사 100%입니다. 밤에 광안대교 보며 맥주 한 잔 딱 좋습니다. 어느 블로그 리뷰에서 칫솔, 치약 없다고 하셨는데 준비되어 있네요! 창문 열면 파도 소리가 예술이에요.\n"
     ]
    },
    {
     "name": "stderr",
     "output_type": "stream",
     "text": [
      "\r 80%|████████  | 1359/1689 [2:50:55<29:10,  5.30s/it]"
     ]
    },
    {
     "name": "stdout",
     "output_type": "stream",
     "text": [
      "1359 : 프론트 직원분들이 너무 친절했어요 가색머리에 앞머리 없이 오베글로 정리하신 분이 특히! ㅎㅎ 기분 좋게 다녀갔습니다~\n"
     ]
    },
    {
     "name": "stderr",
     "output_type": "stream",
     "text": [
      "\r 81%|████████  | 1360/1689 [2:51:38<1:31:53, 16.76s/it]"
     ]
    },
    {
     "name": "stdout",
     "output_type": "stream",
     "text": [
      "1360 : 피부가 약하거나 아기를 데리고 수영장이나 사우나에 가실 분들은 그냥 가지 않는 게 좋으실 겁니다. 일단 저는 이 호텔 이용하기 바로 전날 힐튼 경주에서도 사우나를 이용했지만, 아무런 문제가 없었습니다. 밤 9시-10시에 사우나 냉탕에 들어갔다 나왔는데 배고 아랫로 물에 담근 부분이 새빨갛게 닦여져서 자갈워서 닦아줬구나 싶어서 발깨졌구나 또는 대수롭지 않게 생각하고 방으로 올라왔습니다. 그런데 점점 가려고 답가워서 봤더니 피부가 새빨갛게 다 붓풀어 있었습니다. 배, 영덩이, 물룽, 손이 빨갛게 붓풀어 올라서 일단 파티룸에서 옷을 벗고 자고, 다음날 체크아웃할 때 얘기 들었습니다. 그 이후로 며칠 동안 통화를 했고 결론적으로 호텔 측에서 보험사와 얘기를 나눠고, 보험사 측에서 인과관계를 증명하기 어렵다고 했다며 어쨌든 호텔을 이용하고 문제가 생겼으니 본인들 호텔 수영장 이용권을 주겠다고 합니다. 그런데 보험사와 저랑 무슨 상관인가요? 인과관계 어쩌구는 호텔과 보험사 사이의 일이 아닌가요? 또 제가 처음에 사는 거 알고 있고 호텔 사우나를 이용하여 피부에 문제가 생겼다는 걸 알면서도 수영장을 오라고 하는 게 참 올만하고 재수가 없는 대처이고, 이런한 컴플레인이 발생했을 때 메뉴얼 자체가 없다는 게 안타깝습니다. 그리고 통화할 때 기분 나빠서 다 노음을 했습니다만, 제가 우스워 통화한다고 호구는 아닙니다. 또 호텔에 뭔가를 뜯어내기 위해 진상을 부릴 마음과 시간도 없습니다. 전 그냥 제가 거근 아래 대한 호텔 측의 대처와 저를 대하는 태도에 참 화가 날 뿐입니다. 제가 우스며 좋게 좋게 통화했던 이유는 전 대학에서 호텔 경영학 전공을 했고, 친구들이 호텔에서 놀아처럼 힘들게 일하는 걸 알기에 호텔리어에게 상냥하게 대해고 싶었습니다. 그러나 돌아오는 건 거짓과 호구 취급이라니 쓸쓸하네요. (호텔 측에서 말씀하신 왜 주시 예기하지 않고 체크아웃할 때 얘기했냐고 했던 부분에 대한 설명이 될까요? 전 그냥 얘기 안 하고 가려 했으나 친구들이 그래도 말은 해줘야 한다 했기에 체크아웃할 때 말씀드리 겁니다. 뒤늦게 호텔에 뭘 좀 뜯어내야지~라는 생각이 들어서가 아니에요..^^)\n"
     ]
    },
    {
     "name": "stderr",
     "output_type": "stream",
     "text": [
      "\r 81%|████████  | 1361/1689 [2:52:03<1:45:07, 19.23s/it]"
     ]
    },
    {
     "name": "stdout",
     "output_type": "stream",
     "text": [
      "1361 : (실 방문은 꽝거) 아, 일단 뷰가 너무 좋다. 보통 경포에 뷰 좋은 곳은 바다 정면 뷰라서 보다 보면 해안선만 쫙 보이고 막막하니 좀 물리는데, 여기는 경포 남끝 꺾인 도로가에 있어서 45도 오션뷰가 나온다. 와이드로 보이는 해변가의 모습, 난 그게 더 좋더라. (※ 단, 꼭 4층 이상 앞 번호로 방을 받아야 한다. 3층까지는 좀 가린다. 그리고 일출은 제일 비싼 1번 방만 보인다.) 아, 그리고 위치가 정말 좋다. 위로는 경포, 아래로는 강문 초당, 딱 중간에 옆에는 경포호가 있다. 주변에 편의시설도 많고 위치가 딱 좋다. 아, 청결은 정말 애매모호한 호텔이다. 모텔치고는 깔끔하지만 호텔치고는 부족하다. 이건 가성비의 시설로 봐야 한다. 아, 인테리어는.. 일단 20대는 오지 않는 걸로.. ^^ 아, 조식은 약하다. 간단한 빵류? 게스트하우스급이라고 보면 되겠다. 아, 가격은 나쁘지 않다. 평일에 가면 혜자고 주말로 가면 뷰 대비 좋은 편이다. 이건 철마다 다를 거니 그때그때 판단하시면 된다. 결론적으로 연인끼리 오는 것만 아니면 친구든 가족이든 혼자든 추천한다.\n"
     ]
    },
    {
     "name": "stderr",
     "output_type": "stream",
     "text": [
      "\r 81%|████████  | 1362/1689 [2:52:07<1:18:31, 14.41s/it]"
     ]
    },
    {
     "name": "stdout",
     "output_type": "stream",
     "text": [
      "1362 : 캡슐 호텔 오션뷰 진짜 아름다워요~ 그리고 시설이 다 깨끗해서 사용하면서 마음에 들었어요! 혼자 여행한다면 이 호텔을 꼭 선택해야 해요 :)\n"
     ]
    },
    {
     "name": "stderr",
     "output_type": "stream",
     "text": [
      "\r 81%|████████  | 1363/1689 [2:52:10<59:53, 11.02s/it]  "
     ]
    },
    {
     "name": "stdout",
     "output_type": "stream",
     "text": [
      "1363 : 제가 묶었던 방은 바닥에 먼지가 덜 정리된 느낌이 있었어요. 그거 외엔 전반적으로 위치, 편의시설 등 만족하고 갑니다~ 내부 시설도 좋습니다.\n"
     ]
    },
    {
     "name": "stderr",
     "output_type": "stream",
     "text": [
      "\r 81%|████████  | 1364/1689 [2:52:12<45:40,  8.43s/it]"
     ]
    },
    {
     "name": "stdout",
     "output_type": "stream",
     "text": [
      "1364 : 가볼 만한 장소와의 동선도 짧고, 깨끗하며, 직원들도 친절해요~ 가격 대비 대만족입니다~^^\n"
     ]
    },
    {
     "name": "stderr",
     "output_type": "stream",
     "text": [
      "\r 81%|████████  | 1365/1689 [2:52:14<35:30,  6.58s/it]"
     ]
    },
    {
     "name": "stdout",
     "output_type": "stream",
     "text": [
      "1365 : 스탠다드 더블 + 퀸 사이즈 침대 + 침실과 거실 분리 - 샤워 가운 없음\n"
     ]
    },
    {
     "name": "stderr",
     "output_type": "stream",
     "text": [
      "\r 81%|████████  | 1366/1689 [2:52:18<29:53,  5.55s/it]"
     ]
    },
    {
     "name": "stdout",
     "output_type": "stream",
     "text": [
      "1366 : 직원들이 친절했지만 다른 방음 리뷰에 일부 공감합니다. 시설과 어메니티는 다소 아쉬웠고, 뷰는 너무 좋았어요.\n"
     ]
    },
    {
     "name": "stderr",
     "output_type": "stream",
     "text": [
      "\r 81%|████████  | 1367/1689 [2:52:20<25:14,  4.70s/it]"
     ]
    },
    {
     "name": "stdout",
     "output_type": "stream",
     "text": [
      "1367 : 사장님과 직원분들이 너무 친절하시고, 시설도 깨끗해서 기분 좋게 머물렀습니다. 잘 지내다 갑니다.\n"
     ]
    },
    {
     "name": "stderr",
     "output_type": "stream",
     "text": [
      "\r 81%|████████  | 1368/1689 [2:52:22<19:44,  3.69s/it]"
     ]
    },
    {
     "name": "stdout",
     "output_type": "stream",
     "text": [
      "1368 : 세신이 좋았으나 룸 컨디션이 별로였어요.\n"
     ]
    },
    {
     "name": "stderr",
     "output_type": "stream",
     "text": [
      "\r 81%|████████  | 1369/1689 [2:53:03<1:20:17, 15.05s/it]"
     ]
    },
    {
     "name": "stdout",
     "output_type": "stream",
     "text": [
      "1369 : 숙박업소 가서 처음으로 경찰을 불렀습니다. 1시 무려이었을 거예요. 바닷가 산책하고 들어와 씻고 있는데 복도에서 고함 소리가 났습니다. 무언가 무너지는 소리, 투투리는 소리, 욕... 술 마시고 누군가가 취해서 난동 불이나 보다 했어요. 씻고 나올 때까지 소리가 계속 들리길래 카운터에 전화를 했는데 '지금 거신 번호는 없는 번호입니다'라고 나오더라고요. 이상하다 싶어서 카운터에 내려가 보려는데 굳어있었습니다. 복도의 소음 주변인 남자가 제 방문을 부서질 듯이 투투리고 문고리를 잡아당기기 시작했습니다. 문이 덜덜 흔들리고 쉴 새 없이 돌아가는 문고리는 금방이라도 떨어질 것 같았습니다. TV 소리도 못 주리고 망부석이 되어 써 있었습니다. 혼자 온 여행이라 너무 무서워서 죽을 것 같았어요. 카운터에 다시 전화해봤지만 받지 않았고 결국 경찰을 불렀습니다. 몇 분 후에 경찰 두 분 오셔서 상황 마무리 되었다고 알려주시고 바로 맞은편 투숙객이 부부사용을 했다고 알려주시더라고요. 경찰 옆에는 호텔 주인 분이 서 계셨습니다. 황당한 건 \"죄송합니다\" 한마디 안 하셨다는 거예요. 경찰 분들 가시고 나서 30분 정도 흐려스가 돌아시 복도에서 소음이 났습니다. 술병이 마구 굴러다니는 소리, 벽에 쾅쾅 부딪히는 소리. 아, 해결된 게 아니구나. 전 이 날 결국 잠을 못 잤습니다. 카운터에 전화하니까 그제야 받으시더라고요. \"경찰을 다시 부르긴 했는데, 정 너무 하시면 방 바꿔 드릴까요?\"라고 하시는데 복도 상황도 모르겠고 침은 다 풀어져 있는 상태에 다음날 일정도 있고 너무 피곤해서 그럴 수 없었습니다. 난동 불인 투숙객을 쫓아내던지 방을 바꾸던지 해야지 왜 제가 바꿔야 하는 건가요? 전화로 죄송합니다도 또 안 하시더라고요. 너무 무책임하고 황당했습니다. 안심하고 자라고 하셨는데 말이 됩니까, 그게? 다음날 환불 받고 싶어서 체크아웃할 때 말하려 했는데 직원 분만 계시더군요. 정말 최악의 숙소였습니다. 별최 행위가 일어나도 대처 잘 안 될 것 같아요.\n"
     ]
    },
    {
     "name": "stderr",
     "output_type": "stream",
     "text": [
      "\r 81%|████████  | 1370/1689 [2:53:29<1:36:49, 18.21s/it]"
     ]
    },
    {
     "name": "stdout",
     "output_type": "stream",
     "text": [
      "1370 : 투숙한 후기로는 다시 방문할 곳은 아닙니다. 하프 오션 뷰 C 객실을 이용하였습니다.    장점:   - 오션 뷰 숙소를 가성비 있게 이용할 수 있다.   - 출입 시 카드키 형식이 아닌 비밀번호인기에 이용자가 2인이 때 편리하다.   - 1층에 편의점이 있다.    단점:   - 퇴실 시간 이전임에도 직원이 비밀번호를 눌러 방에 들어오려 한다. 11:00 퇴실이었습니다. 10:20부터 손에 장갑을 낀 직원분이 비밀번호를 누르고 들어오려고 하셨습니다. 놀라 남멋지 \"어어? 안에 사람 있습니다.\"라고 하였는데, 듣고 그냥 지나갔습니다. 큰 휴 10:40에 또 다시 비밀번호부터 누르기에 \"퇴실 아직 안 했습니다.\" 하니 그제서야 \"아, 알겠습니다~\" 하고 가시더라고요. 매우 불쾌한 경험이었습니다.   - 온수 사용이 매우 매우 이상하다. 샤워 시 아주 뜨거운 물을 사용할 때는 수압이 괜찮은데, 적당히 따뜻한 물이나 미지근한 물을 이용할 시 수압이 맞춘 비물과도 가단 샤워하기 매우 힘들다.   - 직원분들이 서비스가 그닥 친절하지 않다.   - 객실 청결 상태가 아쉽다. (비치된 수점과 식기, 화장실 세면대와 거울 등등)\n"
     ]
    },
    {
     "name": "stderr",
     "output_type": "stream",
     "text": [
      "\r 81%|████████  | 1371/1689 [2:53:30<1:08:45, 12.97s/it]"
     ]
    },
    {
     "name": "stdout",
     "output_type": "stream",
     "text": [
      "1371 : 모두 만족스러워요!\n"
     ]
    },
    {
     "name": "stderr",
     "output_type": "stream",
     "text": [
      "\r 81%|████████  | 1372/1689 [2:53:34<54:58, 10.41s/it]  "
     ]
    },
    {
     "name": "stdout",
     "output_type": "stream",
     "text": [
      "1372 : 여기 절대 가지 마세요. 직원들 인간이 하나도 없어요. 친절을 기대하지 마세요. 역겹습니다. 장사가 잘되나 봐요. 그렇게 장사 계속하세요. 직원 교육 좀 똑바로 시키세요, 사장님.\n"
     ]
    },
    {
     "name": "stderr",
     "output_type": "stream",
     "text": [
      "\r 81%|████████▏ | 1373/1689 [2:53:37<43:12,  8.20s/it]"
     ]
    },
    {
     "name": "stdout",
     "output_type": "stream",
     "text": [
      "1373 : 편의점도 바로 옆에 있고 해수욕장도 가까워서 좋았습니다. 면imenomi해도 잠자리가 너무 편했어요~ 잘 쉬었다 갑니다~\n"
     ]
    },
    {
     "name": "stderr",
     "output_type": "stream",
     "text": [
      "\r 81%|████████▏ | 1374/1689 [2:53:40<35:28,  6.76s/it]"
     ]
    },
    {
     "name": "stdout",
     "output_type": "stream",
     "text": [
      "1374 : 해운대 해수욕장과 불꽃 200미터 거리에 있으며, 주변에 대형 호텔이 있어 번잡하지 않고 조용합니다. 바다뷰가 건물 사이로 보입니다.\n"
     ]
    },
    {
     "name": "stderr",
     "output_type": "stream",
     "text": [
      "\r 81%|████████▏ | 1375/1689 [2:53:42<27:06,  5.18s/it]"
     ]
    },
    {
     "name": "stdout",
     "output_type": "stream",
     "text": [
      "1375 : 적당히 청결이고, 침대가 후져서 몸이 불편해요.\n"
     ]
    },
    {
     "name": "stderr",
     "output_type": "stream",
     "text": [
      "\r 81%|████████▏ | 1376/1689 [2:53:44<22:49,  4.37s/it]"
     ]
    },
    {
     "name": "stdout",
     "output_type": "stream",
     "text": [
      "1376 : 직원분들이 친절하네요. 시설이 많이 노후됐네요. 지하에 탁구장이 무료라 좋았습니다.\n"
     ]
    },
    {
     "name": "stderr",
     "output_type": "stream",
     "text": [
      "\r 82%|████████▏ | 1377/1689 [2:54:34<1:32:40, 17.82s/it]"
     ]
    },
    {
     "name": "stdout",
     "output_type": "stream",
     "text": [
      "1377 : 후기 작성을 안 하는데, 꼭 적어두고 싶은 말이 있어 작성합니다. 우선 여기는 5성급 호텔입니다.   1. 룸에 입장하자마자 먼지가 흰색자란하게 날리고 있었습니다. 체크인 전에 전화해서 공기청정기를 요청했기에 망정이지 지금 생각해도 끔찍하네요. 환기시키려고 창문을 열었는데 방충망이 없습니다...   2. 창문이 하나도 닦여 있지 않습니다. 모텔 창문 보는 것 같았네요.   3. 아기를 위해 침대 가드를 요청했는데 침대 가드 세팅이 안 되어 있습니다.   4. 겉으로 보이는 곳은 깨끗한데 보이지 않는 곳은 먼지가 뿌옇게 앉아 있습니다. 대표적으로 침대와 세면대 사이 이동 가능한 까리막 보면 구석구석에 먼지가 시커멓게 나옵니다. 전반적으로 룸 컨디션은 모텔 수준도 안 됩니다. 제가 다녔던 호텔 중 제일 안 좋네요.   5성급으로써 아쉬운 부분을 꼽자면   1. 뷰는 포기해야 합니다. 위치가 정말 안 좋은 곳에 있어서 몇 층을 잡든 뷰는 정말 안 좋습니다.   2. 키즈룸은 4년 된 신식이라고 생각하지 못할 만큼 낙후되어 있고, 가짓수도 별로 없습니다. 구선께 설치된 게임기는 정상적으로 작동하지도 않습니다.   3. 실내 수영장은 정말 작습니다. 10가족 넘게 들어오면 꽉 차니다. 그래서 아기들 튜브 반입이 안 되는 모양입니다(그나마도 반입 허용은 잘 안 되는 상황). 그 와중에 수영 레일까지 나눠 놔서 더 작습니다. 수영 레일도 편도 수준이라 정상적인 수영도 어렵습니다.   4. 루프탑 수영장은 천장만 뚫려 있지, 가드가 너무 높아 루프탑이라고 하기도 민망한 수준인데 음악을 너무 크게 틀어놔서 시끄럽습니다. 루프탑 수영장 사이즈도 실내 수영장과 크게 다르지 않습니다.   5. 조식 뷔페는 가짓수가 많지도 않은데 구역을 3군데로 나눠놔서 동선이 매우 복잡합니다.   6. 주차장은 체크인을 일찍 하면 부족하다고 느껴지는 정도는 아닌데 주차장 진입/진출하는 입구가 보기 좁은 골목이라 호텔 진입이 굉장히 불편합니다.   7. 일회용 칫솔은 원래 별 기대는 안 하는데 양치 중 칫솔모가 떨어져서 입안에서 돌아다닌 곳은 여기가 처음이네요. 어메니티를 정말 저렴한 제품으로 사용하는 것 같습니다.   직원분들이 응대가 신속하고 친절해서 그 점은 높이 사지만, 다른 부분에서 5성급이라고 느껴질 만한 부분은 없는 것 같습니다.\n"
     ]
    },
    {
     "name": "stderr",
     "output_type": "stream",
     "text": [
      "\r 82%|████████▏ | 1378/1689 [2:54:35<1:06:46, 12.88s/it]"
     ]
    },
    {
     "name": "stdout",
     "output_type": "stream",
     "text": [
      "1378 : 코로나바이러스 때문에인지 사람이 없어서 편했음.\n"
     ]
    },
    {
     "name": "stderr",
     "output_type": "stream",
     "text": [
      "\r 82%|████████▏ | 1379/1689 [2:54:38<51:23,  9.95s/it]  "
     ]
    },
    {
     "name": "stdout",
     "output_type": "stream",
     "text": [
      "1379 : 아난티 갈 때마다 너무 만족스러워요~ 사람도 막 붐비지 않고 여유롭고 직원분들도 너무 친절하셔서 기분 좋게 쉬다 갑니다~\n"
     ]
    },
    {
     "name": "stderr",
     "output_type": "stream",
     "text": [
      "\r 82%|████████▏ | 1380/1689 [2:54:40<39:26,  7.66s/it]"
     ]
    },
    {
     "name": "stdout",
     "output_type": "stream",
     "text": [
      "1380 : 객실이 편안한 느낌을 줘서 좋았고, 아침에 일어났는데 뷰 때문에 한 번 더 반함.\n"
     ]
    },
    {
     "name": "stderr",
     "output_type": "stream",
     "text": [
      "\r 82%|████████▏ | 1381/1689 [2:54:43<30:51,  6.01s/it]"
     ]
    },
    {
     "name": "stdout",
     "output_type": "stream",
     "text": [
      "1381 : 9시에 비밀번호 치고 들어와서 나가라고 눈치 주고 이불도 안 팔아 놓습니다... 최악이네요\n"
     ]
    },
    {
     "name": "stderr",
     "output_type": "stream",
     "text": [
      "\r 82%|████████▏ | 1382/1689 [2:54:47<27:46,  5.43s/it]"
     ]
    },
    {
     "name": "stdout",
     "output_type": "stream",
     "text": [
      "1382 : 횡성호텔 샤워애호텔, 일상의 하루가 특별해진 횡성 숙박 샤워애호텔, 강원도 횡성에는 볼거리와 먹을거리가 참 많드래요 ^^\n"
     ]
    },
    {
     "name": "stderr",
     "output_type": "stream",
     "text": [
      "\r 82%|████████▏ | 1383/1689 [2:54:48<21:46,  4.27s/it]"
     ]
    },
    {
     "name": "stdout",
     "output_type": "stream",
     "text": [
      "1383 : 친절하고 음식은 다 맛있고 시설도 뷰도 최고입니다.\n"
     ]
    },
    {
     "name": "stderr",
     "output_type": "stream",
     "text": [
      "\r 82%|████████▏ | 1384/1689 [2:54:49<16:31,  3.25s/it]"
     ]
    },
    {
     "name": "stdout",
     "output_type": "stream",
     "text": [
      "1384 : 분양형이라 언제 될지 모르는 곳\n"
     ]
    },
    {
     "name": "stderr",
     "output_type": "stream",
     "text": [
      "\r 82%|████████▏ | 1385/1689 [2:54:55<20:05,  3.96s/it]"
     ]
    },
    {
     "name": "stdout",
     "output_type": "stream",
     "text": [
      "1385 : 남자친구랑 조용하게 쉬고 싶어서 찾아간 곳이에요. 정말 공기 좋고 물 좋고 힐링하기 너무 좋아요! 아침에 일어났는데 자연의 소리가 들립니다~ 정말 너무 좋았어요~~ 편안하게 즐거운 시간 보내다가 갑니다 :) 다음에는 가족과도 함께 와보고 싶어요~~\n"
     ]
    },
    {
     "name": "stderr",
     "output_type": "stream",
     "text": [
      "\r 82%|████████▏ | 1386/1689 [2:54:56<16:20,  3.23s/it]"
     ]
    },
    {
     "name": "stdout",
     "output_type": "stream",
     "text": [
      "1386 : 국내 3대 맛집이라는 것에 쭉흡하게 됩니다.\n"
     ]
    },
    {
     "name": "stderr",
     "output_type": "stream",
     "text": [
      "\r 82%|████████▏ | 1387/1689 [2:54:58<13:23,  2.66s/it]"
     ]
    },
    {
     "name": "stdout",
     "output_type": "stream",
     "text": [
      "1387 : 신라스테이는 뭐들 좋지요... 특히, 조식 서비스\n"
     ]
    },
    {
     "name": "stderr",
     "output_type": "stream",
     "text": [
      "\r 82%|████████▏ | 1388/1689 [2:54:58<10:41,  2.13s/it]"
     ]
    },
    {
     "name": "stdout",
     "output_type": "stream",
     "text": [
      "1388 : 미공 숙박하는 신라스테이\n"
     ]
    },
    {
     "name": "stderr",
     "output_type": "stream",
     "text": [
      "\r 82%|████████▏ | 1389/1689 [2:55:06<18:59,  3.80s/it]"
     ]
    },
    {
     "name": "stdout",
     "output_type": "stream",
     "text": [
      "1389 : 지하주차장 골뱅이시크로 내려가는데 최악으로 좁습니다. 휠 빠구짜입니다. 새 휠인데 뒤에 다 긁혔네요. 눈물 나네ㅜㅜ 타워식 주차동 있는데 내려가라 해서 간 건데, 가성비는 해변 바로 앞이라 쏘쏘합니다. 휠 긁혀도 되는 뷰말고는 지하 절대 내려가지 마세요.\n"
     ]
    },
    {
     "name": "stderr",
     "output_type": "stream",
     "text": [
      "\r 82%|████████▏ | 1390/1689 [2:55:07<14:54,  2.99s/it]"
     ]
    },
    {
     "name": "stdout",
     "output_type": "stream",
     "text": [
      "1390 : 식당과 카페도 가까이 있어서 편리했다.\n"
     ]
    },
    {
     "name": "stderr",
     "output_type": "stream",
     "text": [
      "\r 82%|████████▏ | 1391/1689 [2:55:17<24:49,  5.00s/it]"
     ]
    },
    {
     "name": "stdout",
     "output_type": "stream",
     "text": [
      "1391 : 저렴함, 오션뷰, 시설 청결함. 체크인은 느림. 체크아웃 전 오전 시간대에 2시간 넘게 정전이 발생했습니다. 물과 전기를 사용할 수 없었습니다. 안내 방송이나 사과도 없었습니다. 물에서 녹물이 나왔습니다. 나오지 않을 때까지 계속 흘러나오라고 했습니다. 계속 녹물이 나와서 방을 옮겼습니다. 옮겼는데 또 녹물이 나와서 그냥 포기했습니다. 에어컨과 난방기가 파손되었습니다. 수건에서 불쾌한 목욕탕 냄새가 났습니다.\n"
     ]
    },
    {
     "name": "stderr",
     "output_type": "stream",
     "text": [
      "\r 82%|████████▏ | 1392/1689 [2:55:30<36:39,  7.41s/it]"
     ]
    },
    {
     "name": "stdout",
     "output_type": "stream",
     "text": [
      "1392 : 급하게 예약하다 보니 환불 불가 상품을 예매하게 되었고, 부산 출장이 취소되어 예매한 상품을 취소하였는데 환불이 안 된다고 합니다. 4박자리 예매했으며, 아직 10일 이상 남았는데, 호텔에 환불 요청하니 못해주겠다고 합니다. 취소된 상태라 방도 사라지고, 호텔은 24만 원을 그냥 먹겠다는 거죠. 부산시에 민원을 넣은 상태인데, 갑갑하네요. 환불 불가 상품이 있는 것도 처음 알았고, 질문을 한다 보면 실수로라도 이 상품을 구매할 수 있는데, 취소했다고 취소 수수료로 다 먹는 것도 이해가 안 갑니다. 이런 상품 판매하는 곳 절대 이용하지 마세요. 저처럼 마음고생 합니다.\n"
     ]
    },
    {
     "name": "stderr",
     "output_type": "stream",
     "text": [
      "\r 82%|████████▏ | 1393/1689 [2:55:31<27:32,  5.58s/it]"
     ]
    },
    {
     "name": "stdout",
     "output_type": "stream",
     "text": [
      "1393 : 역 근처여서 교통편이 편하고, 주차하기 좋음\n"
     ]
    },
    {
     "name": "stderr",
     "output_type": "stream",
     "text": [
      "\r 83%|████████▎ | 1394/1689 [2:55:35<25:21,  5.16s/it]"
     ]
    },
    {
     "name": "stdout",
     "output_type": "stream",
     "text": [
      "1394 : 청초호 유원지 옆 중이수산시장이 10분 거리이며, 청결하고 시설도 깨끗하고 무인텔인데도 불편 없이 잘 지내다 갑니다. 기회가 되면 또 올 예정이예요.\n"
     ]
    },
    {
     "name": "stderr",
     "output_type": "stream",
     "text": [
      "\r 83%|████████▎ | 1395/1689 [2:55:38<21:26,  4.38s/it]"
     ]
    },
    {
     "name": "stdout",
     "output_type": "stream",
     "text": [
      "1395 : 머리카락에 먼지가 묻어 침구류는 누렇게 변해서 너무 더럽고, 청소도 제대로 안 하는 것 같아요.\n"
     ]
    },
    {
     "name": "stderr",
     "output_type": "stream",
     "text": [
      "\r 83%|████████▎ | 1396/1689 [2:55:43<23:00,  4.71s/it]"
     ]
    },
    {
     "name": "stdout",
     "output_type": "stream",
     "text": [
      "1396 : 다른 건 다 좋은데, 엘리베이터가 4개인데 1층부터 40층까지 계속 멈춰서 숨 막혔어요.. 내려오는데만.. 심지어 엘리베이터 에어컨도 안 됩니다 ㅜㅜ (더워 죽겠어요) 시설팀 개선 필요합니다.\n"
     ]
    },
    {
     "name": "stderr",
     "output_type": "stream",
     "text": [
      "\r 83%|████████▎ | 1397/1689 [2:55:50<25:43,  5.28s/it]"
     ]
    },
    {
     "name": "stdout",
     "output_type": "stream",
     "text": [
      "1397 : 여동타리 건너편에 위치하고 있고 편의성이 좋아요. 걸어서 이동할 수 있는 국제시장, 자갈치시장, 히녀울마을 등등... 호텔에서 바라보는 야경도 좋고 전망대에 올라가서 야경 구경도 가능해요. 너무 멋져요. 호텔 앞 도로에 포장마차촌도 펼쳐져서 놀기도 좋아요.\n"
     ]
    },
    {
     "name": "stderr",
     "output_type": "stream",
     "text": [
      "\r 83%|████████▎ | 1398/1689 [2:56:49<1:44:11, 21.48s/it]"
     ]
    },
    {
     "name": "stdout",
     "output_type": "stream",
     "text": [
      "1398 : 독특한 분위기, 가성비, 깔끔한 호텔. 금-토 숙박 기준으로 20만 원 정도. 이 정도 호텔치고는 꽤 합리적이라고 생각한다. 이 가격에 조식, 라운지 이용이 모두 포함된 것도 좋은 조건이다. 체크인은 그랜드 워커힐에서 발렛파킹을 하고 셔틀버스를 타고 더클라스 워커힐로 올라가야 한다. 체크아웃 때는 자차를 이용할 수 없어서 아무래도 이동성이 떨어진다. 일단 체크인한 이후에는 호텔 밖에 나가려면 굉장히 불편해서(광나루역으로 가려면 버스를 두 번 타야 한다) 웬만한 경우에는 호텔 안에서 모든 걸 해결하길 추천한다. 산장을 방불께 하는 인테리어가 다른 호텔과 차별화되는 점이다. 입구부터 방까지 그 분위기를 유지해줘서 서울에서 그리 멀지 않음에도 여행 온 기분을 낼 수 있다. 층고는 낮지만 이런 분위기 때문에 오히려 아늑하게 느껴진다. 다만 핫튜에어가 좀 부족한 건 사실이다. 층고도 낮지만 복도가 지나칠 정도로 좁다. 캐리어 끌고 다니면 매우 불편할 정도다. 객실 구성은 평이하다. 전망은 한강까지도 보이지만 그랜드 워커힐 건물이 정면을 떡하니 막고 있다. 침대는 무척 넓고 편안하다. 인테리어도 산장 느낌을 잘 보여줘서 마음에 들었다. 화장실도 넓진 않지만 깔끔하다. 어메니티는 고체라서(환경에 도움이 되겠으나) 조금 불편했다. 라운지 이용은 세 번 할 수 있다. 더클라스 하우스는 성인 전용이라 라운지 이용하는 내내 조용하고 단정한 분위기였다. 사람들도 붐비지 않은 편이다. 라운지의 전반적인 인테리어도 산장 느낌이다. 오후 시간대는 카페로 이용하는데, 원두 기계에서 내려먹는 커피, 티백, 두 종류의 다과가 제공됐다. 돈 내고 먹는 거면 아쉬웠지만 무료로 먹기엔 괜찮은 정도다. 저녁 시간대 해피 아워에는 샴페인, 렌드, 화이트 와인, 캔맥주 두 종류 각종 안주류가 제공됐다. 안주류가 전혀 없어서 아쉬웠다. 저녁식사는 사람에게는 따로 필요 없을 것 같다. 셀프 핫도구를 만들어 먹는 것으로 간단히 대처할 수 있는 수준이다. 음주류는 전반적으로 괜찮았다. (역시 무료라 나쁘 가능했다.) 다음 날 오전 조식으로 마지막 라운지 이용을 할 수 있다. 조식은 조금 잘 되어 있는 게스트하우스 수준이다. (빵, 시리얼, 우유, 과일 정도) 원래 계란후라이 등을 즉석으로 조리해 먹는 셀프 코너가 있는 것으로 아는데, 훈제란만 있어서 매우 불만족스러웠다. 그 외에 라이브러리, 포트케이인나 포켓볼을 즐길 수 있는 멀티룸을 이용할 수도 있는데 체크아웃 이후에는 이용할 수 없다고 해서 이용해보지 못했다. 이 부분은 체크아웃 후에도 서비스를 제공하는 다른 호텔에 비해서 매우 실망스러웠다. 체크아웃 시간도 오전 열한 시로 이른 편이다. 전반적으로 라운지의 퀄리티는 아쉽지만 국내(특히 서울) 호텔 중에서는 가성비가 괜찮은 편이다. 라운지 기능이 괜찮아진다면 재방문의사가 있다.\n"
     ]
    },
    {
     "name": "stderr",
     "output_type": "stream",
     "text": [
      "\r 83%|████████▎ | 1399/1689 [2:56:57<1:23:57, 17.37s/it]"
     ]
    },
    {
     "name": "stdout",
     "output_type": "stream",
     "text": [
      "1399 : 여기어때에 예약했던 모텔이 너무 더러워서 급히 여기에 연락했어요. 40대 후반 보이신 사장님이 아주 친절하시고, 방도 너무 고급스럽고 깨끗해서 좋았습니다! 덕분에 행복한 잠 잤습니다^^ 최고입니다!! 급히 방을 구한 것이라 여기어때에 예약 못하고 와서 카드로 바로 결제했어요. 그래서 리뷰 여기에 남겨봤어요^^\n"
     ]
    },
    {
     "name": "stderr",
     "output_type": "stream",
     "text": [
      "\r 83%|████████▎ | 1400/1689 [2:56:58<59:37, 12.38s/it]  "
     ]
    },
    {
     "name": "stdout",
     "output_type": "stream",
     "text": [
      "1400 : 조식 서비스 꽝입니다~\n"
     ]
    },
    {
     "name": "stderr",
     "output_type": "stream",
     "text": [
      "\r 83%|████████▎ | 1401/1689 [2:57:06<53:19, 11.11s/it]"
     ]
    },
    {
     "name": "stdout",
     "output_type": "stream",
     "text": [
      "1401 : 아고르 그루에서 4성의 엑스케일 정도인 노보텔이 5성은 좀... 신축이고 레지던스 룸 있는 건 매력이나 브랜드 안 카테고리는 그랜드 앰배서더에 비해 낫으니 용산, 동대문은 예매하네요. 같은 가격이면 JW Marriott 안이 팬엠퍼서더가 현실적으로 더 좋은 퀄리티의 워커뮬을 받을 것 같습니다.\n"
     ]
    },
    {
     "name": "stderr",
     "output_type": "stream",
     "text": [
      "\r 83%|████████▎ | 1402/1689 [2:57:11<43:40,  9.13s/it]"
     ]
    },
    {
     "name": "stdout",
     "output_type": "stream",
     "text": [
      "1402 : 가족끼리 머물기 좋아요~ 청결 상태도 좋았어요! 딱 입실했을 때 담배 냄새 안 나서 좋았는데 저녁쯤 누가 화장실에서 담배 피는지 냄새나서 짜증... 제발 실내에서 비치 마십다!\n"
     ]
    },
    {
     "name": "stderr",
     "output_type": "stream",
     "text": [
      "\r 83%|████████▎ | 1403/1689 [2:57:17<40:02,  8.40s/it]"
     ]
    },
    {
     "name": "stdout",
     "output_type": "stream",
     "text": [
      "1403 : 시설은 깔끔하나, 무엇보다 주차가 매우 불편합니다. 타워식으로, i30보다 차체가 높은 SUV들은 발렛을 통한 외부 주차를 해야 하고 별도 비용이 필요합니다. 외부 주차인 관계로 빈번한 차량 사용 제한이 발생합니다. 하룻밤 숙박 용도로는 무방하나, 여행을 위한 용도로는 비추입니다.\n"
     ]
    },
    {
     "name": "stderr",
     "output_type": "stream",
     "text": [
      "\r 83%|████████▎ | 1404/1689 [2:57:38<57:55, 12.19s/it]"
     ]
    },
    {
     "name": "stdout",
     "output_type": "stream",
     "text": [
      "1404 : 분명히 프리미어 트윈으로 예약했는데, 열쇠를 받아 올라와보니 스탠다드 트윈룸이었음. 사진으로 실내 구조를 대조해보니 100% 스탠다드가 맞음. 호텔 측에 전화해서 물어보니 프리미어가 맞다고 응답했다. 다시 한번 확인해달라 이야기하니 그냥 냅다 진상 취급하기 시작하면서 싸게 예약을 했다는등, 우리가 스탠다드로 예약을 했다는 등의 말을 계속 반복해서 이야기하다 결국 프리미어로 예약한 게 맞다고 인정함. 그러면서 방을 업그레이드해 주겠다는 등, 말 까짓도 않은 소리를 해대길래 다른 방이고 뭐고, 내가 예약한 프리미어 트윈 방을 달라고 이야기했지만 방이 없어서인지 일단 그냥 자라고 함. 다음 날 행사 일정에 지장이 갈까 더 실랑이 하기 싫어 그냥 들어왔지만, 역시나 방 상태도 관리가 하나도 안 되어 있음. 어쨌든 이런 곳이 “호텔”이라는 이름을 달고 숙박업을 하고 있는지 모르겠음. 센터 피코리아 고시원이 제일 적절한 네임잉이라고 생각함. 리뷰 올리고 연롱사에 제보하러 감.\n"
     ]
    },
    {
     "name": "stderr",
     "output_type": "stream",
     "text": [
      "\r 83%|████████▎ | 1405/1689 [2:57:44<48:34, 10.26s/it]"
     ]
    },
    {
     "name": "stdout",
     "output_type": "stream",
     "text": [
      "1405 : 프론트 직원들의 전문성과 서비스 태도가 엉망입니다. 숙박 대행 업체 특가로 가면 지하 1층 방으로 배정하면서 호텔 끝판왕. 3박에 객실 2개 예약했었는데, 하나는 싸게 예약했다고 6층과 지하 1층에 배정ㅠㅠ\n"
     ]
    },
    {
     "name": "stderr",
     "output_type": "stream",
     "text": [
      "\r 83%|████████▎ | 1406/1689 [2:58:16<1:18:56, 16.74s/it]"
     ]
    },
    {
     "name": "stdout",
     "output_type": "stream",
     "text": [
      "1406 : - 뷰 - 강남 테헤란로 전망 1티어. 층고가 낮지만 그래도 밤에 보는 전망은 멋집니다. 전망 하나만 생각하고 가는 호텔입니다.   - 시금어장 - 맛있습니다. 조식도 다양한 음식들이 나옵니다. 코로나 때는 앉아서 무제한 주문 방식이었는데, 이제 코로나가 끝나서 바뀌었습니다. 코로나 때가 더 편했음ㅠ   - 부대시설 - 수영장이 좀 작습니다… 호캉스로 하루를 노이킹에 할 게 별로 없습니다.   - 직원 - 하얏트 계열은 대체적으로 교육이 잘 되어 있다는 느낌입니다! 그랜드 하얏트 서울보다 더 높은 등급이라서 그런지 개인적으로 파크 하얏트 서울 직원분들이 좀 더 세심하게 친절하십니다. 발렛 맡기는 순간부터 체크인하고 방에 있을 때까지 계엎받는다는 느낌이 좋습니다.   - 룸 컨디션 - 컨셉 자체가 화려함과는 거리가 멀어서 사실 객실만 보면 이게 5성급…?라는 생각이 듭니다. 살짝 노후화 된 것 같은 느낌도… (유튜 케이얼이라 그런가) 리모델링하면 좀 더 갈지 않을까 싶습니다. 전체적으로 우드 계열이라 품모니문 상당히 좋아하셨지만 20, 30대 커플들이 호캉스하기엔 다소… 가격에 비해 아까운 느낌입니다. 할인가(디럭스 기준 30만원대)로 간다면 추천합니다.   - 주의사항 - 낮에도 내부가 잘 보이고 방에는 굉장히 잘 보입니다. 전망 보는 건 좋지만 무조건 커튼 치는 걸 추천합니다. 전망 볼 때만 커튼 쓰우… 안 그러면 안에서 뭐 하는지 밖에서 다 보입니다. 불 켜도 보입니다.\n"
     ]
    },
    {
     "name": "stderr",
     "output_type": "stream",
     "text": [
      "\r 83%|████████▎ | 1407/1689 [2:58:54<1:48:42, 23.13s/it]"
     ]
    },
    {
     "name": "stdout",
     "output_type": "stream",
     "text": [
      "1407 : 최근 펜션 주인이 바뀌어서 그런지 새로운 출발을 알리는 듯 펜션 전체가 산뜻하게 단장되어 있고 복층 구조의 객실과 깨끗한 침구 덕분에 편안하게 지냈습니다. 3개 동이나 있어서 소파간 리조트 같은 분위기에다 바로 앞에는 넓은 무료 공영 주차장까지 있습니다. 룸메이드가 2층에서 너무 고를 고는 동안 새벽에 잠을 깼는데, 베란다 앞에서 펼쳐지는 동행의 일출은 정말 장관이었습니다. 펜션에 있는 수영장도 좋았지만, 펜션 앞에는 금촌과 용화 해수욕장을 오가는 레일 바이크를 만주치고 소파와 연병 해변이 있습니다. 한밤중에 여기서 바라보는 하늘에는 별들이 하얗이 빛났습니다. 펜션 바라소 옆 바비큐도 좋았고, 인근 대금구와 은하철도(동심을 잃게우는 ‘은하철도 999’ 노래가 나옵니다. ㅎㅎ), 은풍산 덕풍 계곡 트레킹(제2 용소골 정도 다녀오면 딱입니다.), 삼척 해양 레일 바이크(막판에 길고 선눌한 해정 터널의 조명소가 인상적입니다. 인기 짱이어서 미리 예약하지 않으면 현장 디케이딩하기 어려워요.), 해양 케이블카와 바다기 보이는 카약, 그리고 엄청 많은 갈매기를 만날 수 있는 장호항과 장호 해수욕장도 노저서는 안 되는 코스입니다! 낚시 좋아하는 일행들이 장호항에서 배를 빌려 한 시간 반 가량 줄나시를 하고 왔는데, 낚시 포인트를 바사하게 알고 계시는 선장님을 만나 엄청 잡아와서 회도 시켜 먹었어요~ 마지막으로 친절하고 아리따운 직원분들께도 감사합니다~ 다시 가고 싶은 삼척. 그라시아악 펜션을 강추합니다~ (Garcia는 스페이널로 ‘하나님의 은총, 은혜’라는구노. 돈은 스페이 바루셀로나에 있는 걸리 이름이자, 성년 그라시아를 기리는 축제 이름이기도 하답니다~)\n"
     ]
    },
    {
     "name": "stderr",
     "output_type": "stream",
     "text": [
      "\r 83%|████████▎ | 1408/1689 [2:58:59<1:23:00, 17.72s/it]"
     ]
    },
    {
     "name": "stdout",
     "output_type": "stream",
     "text": [
      "1408 : 강릉 갈 때마다 봄봄 예약해서 가는데, 교동에 위치해서 이동하기도 편하고 조금만 걸어나가면 식당이나 술집이 많아서 완전 애용하고 있습니다ㅎㅎ 청결 상태도 만족하고 방 상태, 화장실 상태 다 좋습니다!!\n"
     ]
    },
    {
     "name": "stderr",
     "output_type": "stream",
     "text": [
      "\r 83%|████████▎ | 1409/1689 [2:59:01<1:01:19, 13.14s/it]"
     ]
    },
    {
     "name": "stdout",
     "output_type": "stream",
     "text": [
      "1409 : 수상 빌라에 숙박했는데 거실과 수영장이 바로 연결되어 있어서 좋았어요. 야경도 예뻐요.\n"
     ]
    },
    {
     "name": "stderr",
     "output_type": "stream",
     "text": [
      "\r 83%|████████▎ | 1410/1689 [2:59:31<1:23:38, 17.99s/it]"
     ]
    },
    {
     "name": "stdout",
     "output_type": "stream",
     "text": [
      "1410 : 직원 교육 똑바로 시키세요. 정말 수만은 호텔을 다녔지만 얼리 체크인 안 해주려고 체크인 시간 전까지 프론트를 비워놓는 숙박시설은 처음입니다. 프론트 직원은 자기가 전 객실 정비하느라 바쁘다고, 오세 날씨가 불이니 더 바빠서 할 일이 많다고 하는데, 작은 규모도 아닌 숙박시설에서 재정비를 프론트를 내내 비워가면서까지 청소 직원도 아닌 프론트 직원 한 명이 해야 되는 정도면 근무 직원수를 늘려야 하는 걸 아닌가요? 여기 올 때마다 따로 청소 직원분들이 그림ning 하는 걸 몇 번이나 봤는데 본인이 전 객실 재정비를 한다고요? 그렇게 예약 손님이 많고 프론트를 비워야 할 정도로 바쁜데, 어떻게 그 수만은 예약 손님 중 제 이름을 아시는지 \"xxx님 맞으시죠?\" 하시는데 참 신기합니다. 고객을 비다리 핫파이로 보는지 눈 치켜두고 똑바로 쳐다보면서 죄송하다는 말 한마디 없이 하는 말에 답답답박 노리도 없는 말을 하시는데, 진짜 제일 다 떨어져서 그간 이 숙박업소에 쓴 돈이 아까울 정도였습니다. 남자 사장님 개인니 운영하시는 시설로 알고 있는데 직원의 편의를 위한 매뉴얼 설정만 하지 마시고 고객 편의를 위한 매뉴얼 설정도 하세요. 이래다가 저래다가 정해진 시스템도 없는지 말만 바꾸고 몇 시간 얼리 체크인도 아니고, 비가 너무 많이 와서 조금 일찍 도착한 게 고작 한 시간, 게다가 필요 시 추가로 금액 지불도 하겠다 부탁했는데도 고객 상태를 이따위로 하는 곳은 처음입니다. 최악입니다.\n"
     ]
    },
    {
     "name": "stderr",
     "output_type": "stream",
     "text": [
      "\r 84%|████████▎ | 1411/1689 [2:59:34<1:02:52, 13.57s/it]"
     ]
    },
    {
     "name": "stdout",
     "output_type": "stream",
     "text": [
      "1411 : 깨끗하고 주차도 편하며 사장님도 친절하시지만, 지금 옆에 커플이 샤워용.. 10시가 넘었는데 엄청 크게 샤워요.\n"
     ]
    },
    {
     "name": "stderr",
     "output_type": "stream",
     "text": [
      "\r 84%|████████▎ | 1412/1689 [2:59:48<1:03:46, 13.82s/it]"
     ]
    },
    {
     "name": "stdout",
     "output_type": "stream",
     "text": [
      "1412 : 뭐 이런 데가 다 있죠? 거기 데스크에 여자분 한 분이시죠? 예약 취소된 게 맞는지 확인하고 싶어서 전화를 다시 드렸는데, 말 끊어먹는 것과 동시에 맞아요라고 전화를 일방적으로 끊어버리질 않나, 다시 전화하니까 한숨 푹 쉬면서 제가 전화 왜 끊냐고 하니까 또 아무 말 없이 전화를 끊으시네요? 거기 직원분 그 여자분 한 분밖에 안 계시나요? 밤에도 일하시는 것 같은데 피곤하신지 모르겠지만 너무 예의 없게 응대하신 걸 아닌가요? 살다 살다 이런 호텔 응대는 또 처음 보네요. 다른 편호로 다른 사람이 다시 전화하니까 그때서야 상세하게 알려주시네요? 왜 제가 처음엔 전화 걸었을 땐 이렇게 상세하게 안 알려주셨나요? 여기 정말 실망입니다.\n"
     ]
    },
    {
     "name": "stderr",
     "output_type": "stream",
     "text": [
      "\r 84%|████████▎ | 1413/1689 [3:00:12<1:17:00, 16.74s/it]"
     ]
    },
    {
     "name": "stdout",
     "output_type": "stream",
     "text": [
      "1413 : 평일에 혼자 다녀왔는데 너무 좋았어요.   장점:   1. 자연스럽게 어우러지는 분위기 (시끄러운 파티는 노노!! 사장님께서 자연스럽게 자리를 만들어 주심!! 강요는 노노!!)   2. 위치 (강릉 중앙시장 도보 4분 거리, 바다 버스로 10분)   3. 이국적인 로빈 인테리어 (처음 들어갔을 때 너무 놀랐어요! 인테리어 찐!)   4. 조식 (이 가격에 이런 조식이라니!!! 사진 참고)   5. 친절함 (예약 전부터 공지사항 안내를 여러 번 받았고 체크인 시 근처 도보 10분 거리 가볼 만한 곳 맛집 설명을 자세히 해주셨어요)   단점: 리뷰를 보니까 이해가 불가!!! 그래서 남김!!! 여기처럼 예약 상황과 공지사항을 확실히 알려주는 곳은 없음. 1층 주류 판매도 아침 조식으로 일반 음식점에 등록되어 있어 저렴하게 판매한다고 알고 있는데 뭘 바라는 건지 모르겠음. 판매하지 않는 주류는 판매된다고 하는데 뭐가 문제임???   총평: 또 갑니다. 주변 지인들 소개 드려갑니다 ㅎㅎㅎ 객실 청결은 물론 너무 재밌이는 시간을 보내고 왔어요~\n"
     ]
    },
    {
     "name": "stderr",
     "output_type": "stream",
     "text": [
      "\r 84%|████████▎ | 1414/1689 [3:00:15<57:34, 12.56s/it]  "
     ]
    },
    {
     "name": "stdout",
     "output_type": "stream",
     "text": [
      "1414 : 합리적인 가격대에 강아지 수영장, 샤워실이 갖춰져 있어 좋았어요. 간식이나 장난감도 바로 구입 가능!\n"
     ]
    },
    {
     "name": "stderr",
     "output_type": "stream",
     "text": [
      "\r 84%|████████▍ | 1415/1689 [3:00:19<45:26,  9.95s/it]"
     ]
    },
    {
     "name": "stdout",
     "output_type": "stream",
     "text": [
      "1415 : 넘조와요! 신라스테이 마포점 인휴로 해운대점을 이용해봤는데, 뷰도 너무 예쁘고 직원분들 친절하고 좋아요~ 자주 이용하고 싶어요.\n"
     ]
    },
    {
     "name": "stderr",
     "output_type": "stream",
     "text": [
      "\r 84%|████████▍ | 1416/1689 [3:00:19<32:47,  7.21s/it]"
     ]
    },
    {
     "name": "stdout",
     "output_type": "stream",
     "text": [
      "1416 : 서비스 정말 좋아요:D\n"
     ]
    },
    {
     "name": "stderr",
     "output_type": "stream",
     "text": [
      "\r 84%|████████▍ | 1417/1689 [3:00:27<33:45,  7.45s/it]"
     ]
    },
    {
     "name": "stdout",
     "output_type": "stream",
     "text": [
      "1417 : 카운터 2023. 05. 26(토) 오후 3시 ~ 10시 40분 40대 여급리 기주한 카운터 위 양반, 아낵이를 먹었으면 좀 먹은 남이답게 일을 해라. 네가 일하는 곳이 20대 알바생 수준이다. 넘 하나 때문에 여기에 끌가지 쓴다. 꼭 망해서 광안대교로 가길 빈다.\n"
     ]
    },
    {
     "name": "stderr",
     "output_type": "stream",
     "text": [
      "\r 84%|████████▍ | 1418/1689 [3:00:37<36:39,  8.12s/it]"
     ]
    },
    {
     "name": "stdout",
     "output_type": "stream",
     "text": [
      "1418 : 방은 낡았지만 이불은 깨끗하고 청소도 잘 되어 있습니다. 수건이 많습니다. 최근에 수전과 화장실 거울을 교체했습니다. 해운대로 가는 셔틀도 있습니다. 프론트는 친절하십니다. 해운대에서 놀고 집에 와서 근처 동부 아파트 상가 용가리 분식에서 밥을 먹고 자면 됩니다. 용가리 분식 가니 딱 맛습니다. 당면 만두, 김밥, 돌소밥, 김치 볶음밥 다 맛있습니다.\n"
     ]
    },
    {
     "name": "stderr",
     "output_type": "stream",
     "text": [
      "\r 84%|████████▍ | 1419/1689 [3:00:38<26:14,  5.83s/it]"
     ]
    },
    {
     "name": "stdout",
     "output_type": "stream",
     "text": [
      "1419 : 최고예요!!\n"
     ]
    },
    {
     "name": "stderr",
     "output_type": "stream",
     "text": [
      "\r 84%|████████▍ | 1420/1689 [3:00:49<34:12,  7.63s/it]"
     ]
    },
    {
     "name": "stdout",
     "output_type": "stream",
     "text": [
      "1420 : 다른 앱에서 더 싸게 예약할 수 있는 곳을 바가지 쓰고 예약해서 방이나 업그레이드 요청을 해달라 하니 해줬다고 건지말하고, 1층 서재에는 제대로 된 책 한 권 없고 '불량'이라고 붙어 있는 노트북을 대여해줘서 동계 휴련시키고, 아침에는 빵을 걸어놓고 카운터를 비우고 예정된 식사 시간 구름없이 9시에야 겨우 와플 재료가 제공되는데, 직원이 세수도 안 한 더벅머리 그대로 반죽을 제공하여 한 조각 먹고 버렸습니다. 비수기 평일 기준 3만 원의 적당한 숙소입니다.\n"
     ]
    },
    {
     "name": "stderr",
     "output_type": "stream",
     "text": [
      "\r 84%|████████▍ | 1421/1689 [3:01:17<1:00:37, 13.57s/it]"
     ]
    },
    {
     "name": "stdout",
     "output_type": "stream",
     "text": [
      "1421 : 위치와 상태는 좋은 편이나 서비스 수준이 매우 아쉬워 여러 번 화가 나네요. 재방문 가능성 제로입니다. 에어컨 소음이 너무 심해서 짐 풀자마자 룸 체인지 요청했습니다. 기술 담당 직원도 당황해 하더군요. 뭐, 그럴 수 있죠. 엘리베이터에 카드키가 안 먹혀서 로비층에 갔니, 엘리베이터 상태가 좀 이상하다면 해당 엘리베이터는 카드키 없이 쓸면 된다고 하더군요. (다른 엘리베이터는 카드키가 필요합니다.) 나갔다 오니 방에 고자 놓고 나간 카드키를 청소 직원이 수거해 갔습니다. 일정 소화 후 저녁에 주차를 하려고 하니 주차 공간이 부족하다며 발렛을 해준다고 하더군요. 차를 찾을 때는 호텔 성틀을 타고 주차장으로 가야 한다고 했습니다. 직원 말로는 십 분마다 성틀이 있다고 하던데, 성틀 운행하거나 대기하는 걸 본 적은 없습니다. 주차장이 어디냐고 하니 멀다고만 말하더군요. 주소 알려달라고 강하게 말하니 그제서야 프린트된 야동을 가져다주었습니다. 우역고졈 끝에 주차 타워에 주차했고, 프론트 직원이 체크아웃 시간에는 주차가 많아 기다릴 수 있으니 미리 전화 하면 주차해 주겠다고 해서 체크아웃 전 미리 전화해 두었습니다. 하지만 주차 타워에는 차가 없어 20분을 기다렸습니다. 기다리다가 화가 나서 물어보니, 타워 직원은 연락을 받았는데도 깜빡해서 안 했다고 하네요.\n"
     ]
    },
    {
     "name": "stderr",
     "output_type": "stream",
     "text": [
      "\r 84%|████████▍ | 1422/1689 [3:01:22<49:08, 11.04s/it]  "
     ]
    },
    {
     "name": "stdout",
     "output_type": "stream",
     "text": [
      "1422 : 윗층에서 새벽 1시까지 우당탕 쿵탕 애들 뛰는 소리를 층간 소음에 새벽 5시까지 옆방에서 노래 부르며 제끼는 소리를 들으며 고박 밤새 줄눈 미쳐 몰랐어요. 화장실 소리는 기본으로 와르르.\n"
     ]
    },
    {
     "name": "stderr",
     "output_type": "stream",
     "text": [
      "\r 84%|████████▍ | 1423/1689 [3:01:32<48:10, 10.87s/it]"
     ]
    },
    {
     "name": "stdout",
     "output_type": "stream",
     "text": [
      "1423 : 바다 보이는 캠장 중에 내가 갔던 보수대(다섯 번 정도)는 백도(네 번), 송지호(두 번), 북분(두 번)보다 조용하고 가족 단위가 많았음. 자차도지만 거긴 바다가 안 보였고, 연고보다 벌레가 없었음. 오스로, 켄싱턴, 장호보다 잡기 쉽다는 장점~ 야벌 중에 쓰레기통, 개수대 뷰는 피하시길. 잘 때는 귀마개 가져가서 끼고 잘. 차 소리 시끄러움. 그래도 바다 뷰 최애 캠장 중 하나~\n"
     ]
    },
    {
     "name": "stderr",
     "output_type": "stream",
     "text": [
      "\r 84%|████████▍ | 1424/1689 [3:01:35<37:15,  8.44s/it]"
     ]
    },
    {
     "name": "stdout",
     "output_type": "stream",
     "text": [
      "1424 : 여친이랑 왔는데 시설이 참 깔끔했고 방 분위기가 깨끗하고 좋았어요. 침대도 너무 편하고 잘 자고 잘 쉬었습니다.\n"
     ]
    },
    {
     "name": "stderr",
     "output_type": "stream",
     "text": [
      "\r 84%|████████▍ | 1425/1689 [3:01:39<30:49,  7.01s/it]"
     ]
    },
    {
     "name": "stdout",
     "output_type": "stream",
     "text": [
      "1425 : 광안대교 뷰라 좋아요. 인피니티풀도 사람이 적어서 좋았어요! 에어컨도 아주 잘 나와서 좋았습니다. 드론 쇼도 잘 보고 갑니다!!\n"
     ]
    },
    {
     "name": "stderr",
     "output_type": "stream",
     "text": [
      "\r 84%|████████▍ | 1426/1689 [3:01:42<25:59,  5.93s/it]"
     ]
    },
    {
     "name": "stdout",
     "output_type": "stream",
     "text": [
      "1426 : 부산 여행 갈 때마다 여기로 예약하고 있습니다. 부산역이랑 가까워서 도착하자마자 짐 풀기도 편하고, 직원분들도 친절하시고 방도 깨끗해요~\n"
     ]
    },
    {
     "name": "stderr",
     "output_type": "stream",
     "text": [
      "\r 84%|████████▍ | 1427/1689 [3:01:46<22:46,  5.21s/it]"
     ]
    },
    {
     "name": "stdout",
     "output_type": "stream",
     "text": [
      "1427 : 룸 컨디션이 홈페이지 사진과 같았어요! 침구도 깨끗하고 푹신했고 화장실이 깨끗한 점도 너무 좋았습니다. 잘 놀다 갑니다!\n"
     ]
    },
    {
     "name": "stderr",
     "output_type": "stream",
     "text": [
      "\r 85%|████████▍ | 1428/1689 [3:01:53<24:53,  5.72s/it]"
     ]
    },
    {
     "name": "stdout",
     "output_type": "stream",
     "text": [
      "1428 : 결혼 기념일 안내와 다녀왔어요. 조용하고 가격, 위치, 모든 것이 만족할 만한 숙소입니다. 이틀 연속 묵고 돌아오면서 최상의 선택이었네요. 번잡하지 않고 아무 생각 없이 지내고 왔어요. 들리는 소리는 호수에서 들리는 새소리뿐. 집사람이 너무 좋아하네요. 힐링이 필요하신 분께 추천합니다.\n"
     ]
    },
    {
     "name": "stderr",
     "output_type": "stream",
     "text": [
      "\r 85%|████████▍ | 1429/1689 [3:01:55<20:43,  4.78s/it]"
     ]
    },
    {
     "name": "stdout",
     "output_type": "stream",
     "text": [
      "1429 : 오래된 곳이지만 깨끗하게 잘 되어 있네요. 단지 칫솔 등은 유료 서비스라 게 아쉽지만 그래도 만족해요.\n"
     ]
    },
    {
     "name": "stderr",
     "output_type": "stream",
     "text": [
      "\r 85%|████████▍ | 1430/1689 [3:02:08<31:01,  7.19s/it]"
     ]
    },
    {
     "name": "stdout",
     "output_type": "stream",
     "text": [
      "1430 : 마침 보름 근처여서 야경이 너무 멋졌습니다. 5성급은 경의 도장 객기(?)를 하는 편인데 저한테는 조식이 너무 괜찮았어요! 가짓수도 많지만 먹을 것들이 많더라고요. 카페 빵이 맛있었더니 진짜 맛있었습니다. 가격도 많이 비싸지 않아서 놀랐습니다. 그러나 음료 가격에 또 놀랐죠 ㅋㅋㅋ 맛이 비쌉니다...ㅎㅎ 근데 뭐 호텔이니까요~! 아기 침대 대여도 가능했고 이웃이 같은 것들도 뷔페나 호텔에서 다 태워 주셔서 편했습니다. 친절한 직원 덕에 잘 쉬고 왔어요~~~!!\n"
     ]
    },
    {
     "name": "stderr",
     "output_type": "stream",
     "text": [
      "\r 85%|████████▍ | 1431/1689 [3:02:11<25:22,  5.90s/it]"
     ]
    },
    {
     "name": "stdout",
     "output_type": "stream",
     "text": [
      "1431 : 저희 가족이 좋아하는 노보동! 여긴 16세 이하 장녀 조식이 추가 무료라 넘 좋고, 수영장도 좋아요.\n"
     ]
    },
    {
     "name": "stderr",
     "output_type": "stream",
     "text": [
      "\r 85%|████████▍ | 1432/1689 [3:02:12<18:49,  4.39s/it]"
     ]
    },
    {
     "name": "stdout",
     "output_type": "stream",
     "text": [
      "1432 : 뷰 맛집 직원들도 친절해요.\n"
     ]
    },
    {
     "name": "stderr",
     "output_type": "stream",
     "text": [
      "\r 85%|████████▍ | 1433/1689 [3:02:16<17:54,  4.20s/it]"
     ]
    },
    {
     "name": "stdout",
     "output_type": "stream",
     "text": [
      "1433 : 사이트 간 거리가 멀고 나무가 많고 멋지다. 시설도 깨끗하고 훌륭하다. 그런데 화로 금지, 차는 주차장에 주차하고 수레로 짐을 나는 게 힘들다.\n"
     ]
    },
    {
     "name": "stderr",
     "output_type": "stream",
     "text": [
      "\r 85%|████████▍ | 1434/1689 [3:02:18<14:52,  3.50s/it]"
     ]
    },
    {
     "name": "stdout",
     "output_type": "stream",
     "text": [
      "1434 : 갈 때마다 즐겁고 편안하면 기분 좋은 곳이에요. 행복한 추억을 만드는 곳이에요.\n"
     ]
    },
    {
     "name": "stderr",
     "output_type": "stream",
     "text": [
      "\r 85%|████████▍ | 1435/1689 [3:02:23<16:53,  3.99s/it]"
     ]
    },
    {
     "name": "stdout",
     "output_type": "stream",
     "text": [
      "1435 : 사장님이 친절하세요. 객실 관리도 잘 되어 있어요. 깔끔해서 만족했어요. 풀장이 있어 바다를 무시하는 아이들이 잘 놀았어요. 주변에 이용할 편의점이나 소매점이 멀어서 별 하나를 뺏어요. 리조트만으로는 별 5개!\n"
     ]
    },
    {
     "name": "stderr",
     "output_type": "stream",
     "text": [
      "\r 85%|████████▌ | 1436/1689 [3:02:26<15:28,  3.67s/it]"
     ]
    },
    {
     "name": "stdout",
     "output_type": "stream",
     "text": [
      "1436 : 해운대나 주요 관광지와 접근성이 좋아서 여행으로도 좋고, 숙소가 좋으니 그냥 숙소 내에서 호캉스하기에도 최적!\n"
     ]
    },
    {
     "name": "stderr",
     "output_type": "stream",
     "text": [
      "\r 85%|████████▌ | 1437/1689 [3:02:58<51:34, 12.28s/it]"
     ]
    },
    {
     "name": "stdout",
     "output_type": "stream",
     "text": [
      "1437 : 장점: 동맞이 수영장이 있음. 넓고 얕은 수영장도 있음. 애견 동반 풀장도 있음. 밤에 분위기가 좋음. 조용함. 화장실과 주방이 나름 깨끗함.  단점: 내 방에 묵은 사람이 문제 + 펜션 문제. 가자마자 방을 보니 솔밭 위치가 이상함. TV를 옆으로 봐야 함. 바닥에서 삐걱소리가 나 보니 여기저기 시체가 있음. 샤워든 탁자를 놓으니 탁자 위에 음식물이 묻어 있음. 화가 나지만 이건 펜션에서 확인을 못했을 수 있다 싶어 패스. 산속이라 벌레가 있어서 파리채로 잡음. 심지어 탁자에 우라이펜도. 결국 다 껴내 씻음. 전 사람이 엉망으로 했다면 확인을 해야 할지 않나. 키를 꽂아야 불이 들어오는 시스템이라 방쪽 방충망을 열고 나가려는데 창틀을 보고 허걱. 벌레가 무수히 죽어 있어 물티슈로 닦음. 까만 때가. 휴.. 오자마자 청소하느라 바쁨. 수영장에 가보니 벌레들이 둥둥 떠다님. 산속이라 그럴 수 있다며 아이들을 데리고 물놀이. 마은 분놀로 가득 참. 놀러온 거니 참고 참고 기분 내보려고 했는데.. 참. 보증금을 받는데는 처음이었는데 깨끗했음. 그래, 제대로 치우고 가지 않는 사람은 벌금을 물어야지 싶었는데 자기들은 제대로 안 하면서 방에 붙어 있는 지시사항 및 문장에 시간 지기라는 지시. 네이버에 너무 많은 칭찬 글에 전 속았다 생각합니다. 이 리조트, 아닌 펜션을 위해 솔직히 씁니다. 외부만큼 내부도 신경 써 주세요. 애견 동반인 거 너무 좋고 잘 되길 바랍니다.\n"
     ]
    },
    {
     "name": "stderr",
     "output_type": "stream",
     "text": [
      "\r 85%|████████▌ | 1438/1689 [3:03:01<39:31,  9.45s/it]"
     ]
    },
    {
     "name": "stdout",
     "output_type": "stream",
     "text": [
      "1438 : 룸 컨디션 좋습니다! 제가 초보 운전이라 주차하기 힘들었는데 사장님이 주차하는 거 보여주셔서 편하게 대습니다!\n"
     ]
    },
    {
     "name": "stderr",
     "output_type": "stream",
     "text": [
      "\r 85%|████████▌ | 1439/1689 [3:03:54<1:34:04, 22.58s/it]"
     ]
    },
    {
     "name": "stdout",
     "output_type": "stream",
     "text": [
      "1439 : 너무 충격적이어서 리뷰 남깁니다. 별점 5점 리뷰만 올리는 제가 살면서 별점 한 개 리뷰는 처음 써봅니다. 아무리 싸도 절대로 묵지 마세요. 제발.. 예약 사이트에 올라오는 사진이랑 전혀 다르게 허인 사진에 속지 마시고 제발 다른 곳 가세요. 사진이라도 찍고 나오게 너무 놀라서 도망쳐 나오느라 사진도 못 찍고 나왔습니다. 아고다에서 이벤트로 싸게 나와서 예약했었는데 들어가는 입구부터 폐건물처럼 생겨서 엄청 새했는데, 아니나 다를까 여인숙 마냥 같던는 여닫이 문으로 되어 있고 바구니에 상구려 일회용 비누랑 칫솔이 놓여져 있고.. 조선족 같은 사람이 카운터를 보고 있었고 벽에 중국어로 뭐라 써 있어 있는 안내문? 구아고드가 적힌 종이도 붙어 있었어요. 일반적인 호텔은 아니라 걸 느꼈습니다. 호텔이라고 부르기도 아까운 수준. 엘리베이터가 고장 나서 계단쪽으로 올라갔는데 무슨 오징어 썩은 고약한 냄새가 진동하고 층마다 몇 년 동안은 안 치우고 방치한 듯한 물건들이 여기저기 쌓여 있어서 진짜 코가 막히시는 줄 알았습니다. 그래도 방 내부는 괜찮겠지.. 하고 들어갔지만, 역시나 들어가는 문부터 삐걱대고 (열쇠 형식) 방 곳곳에 벽은 허옇 있고 창문은 감옥처럼 철창이 쳐져서 환기도 하나도 안 됐었고요. 누렇게 변색된 드라이기 하나, 벽거울 하나, 누가 봐도 뚝 치면 부서질 것 같은 스틸 위에 컴퓨터 모니터 하나. (나름 티비라고 해놓은 것;;) ‘출장 마사지’ 광고가 깔려진 휴지와 하나. 방 안에 있는 거라고 진짜 친으로 이게 다였고요. 화장대, 냉장고, 쓰레기통, 콜처화기 없는 곳은 처음 겪어 봤습니다..; 화장실은 큰 욕조가 있었는데 누렇게 대간 것서 딱 봐도 더러웠습니다. 수건은 다 헤져 있고 이불은 대체 언제 빨았는지.. 심지어 침대는 매트리스 두 개를 그냥 쌓아 놓은 걸 보고 너무 기가 막혔습니다. 그냥 급 공간, 공기, 냄새 다 너무 더럽고 거기 있는 동안 내 몸이 올라되는 느낌이었습니다. 그리고 에어텔 사이트에 먼 신축 호텔이라고 써 있었는데, 개불, 개 더럽고 최소 20년 동안 관리 청소 하나도 안 된 곳 같았습니다. 진짜 최악 중에 최악이었습니다. 버젓가 일어나도 안 이상할 것 같은 곳.. 분위기 자체가 너무 싸고 더럽고 그냥 제발 가지 마세요. + 혹시 아고다로 예약하신 분들이 계신다면 호텔 측 환불 확답 받고 나서 아고다 측 번호로 전화해서 환불 요청하세요. 호텔 측은 환불 해준다고만 하고 계속 뭔 아고다 사이트에 들어가서 하라는데 환불 불가 사항으로 돼 있어서 어차피 안 되니까 전화가 끊깁니다.\n"
     ]
    },
    {
     "name": "stderr",
     "output_type": "stream",
     "text": [
      "\r 85%|████████▌ | 1440/1689 [3:03:56<1:08:29, 16.50s/it]"
     ]
    },
    {
     "name": "stdout",
     "output_type": "stream",
     "text": [
      "1440 : 건물에 들어가자마자 눈이 부시더군요 ㅋㅋ 가족들이랑 즐거운 시간 보냈습니다.\n"
     ]
    },
    {
     "name": "stderr",
     "output_type": "stream",
     "text": [
      "\r 85%|████████▌ | 1441/1689 [3:04:00<51:37, 12.49s/it]  "
     ]
    },
    {
     "name": "stdout",
     "output_type": "stream",
     "text": [
      "1441 : 몇 년째 가고 있는 곳인데, 작년까지 모기가 없었는데 금년에는 모기가 너무 많아요. 다리에 엄청 많이 물렸어요. 다른 벌레도 많아졌네요.\n"
     ]
    },
    {
     "name": "stderr",
     "output_type": "stream",
     "text": [
      "\r 85%|████████▌ | 1442/1689 [3:04:03<39:53,  9.69s/it]"
     ]
    },
    {
     "name": "stdout",
     "output_type": "stream",
     "text": [
      "1442 : 객실 상태는 나쁘지 않은데, 고장 난 부분이 있는지 점검은 잘 안 되어 있는 것 같음. 거울이 화장실에만 있어서 불편함.\n"
     ]
    },
    {
     "name": "stderr",
     "output_type": "stream",
     "text": [
      "\r 85%|████████▌ | 1443/1689 [3:04:06<31:56,  7.79s/it]"
     ]
    },
    {
     "name": "stdout",
     "output_type": "stream",
     "text": [
      "1443 : 다중 이용 시설이라 매너 찾기는 힘들고, 전망은 룸이 오륙도 뷰라 최고의 뷰인데, 옆 건물들 일부랑 창이 겹침.\n"
     ]
    },
    {
     "name": "stderr",
     "output_type": "stream",
     "text": [
      "\r 85%|████████▌ | 1444/1689 [3:04:16<34:47,  8.52s/it]"
     ]
    },
    {
     "name": "stdout",
     "output_type": "stream",
     "text": [
      "1444 : 오륙도 뷰가 이쁘고 마사 스피커 감성이 좋은데, 엘리베이터 운영 방식이 이상해서 한번 타려면 5분 말쟈고 기다려야 함. 식당은 깔끔하고 좋았음. 단점은 객실이 너무 건조하고 덥고… 수리 약한 것도 아닌데 조금 마시고 자다가 너무 건조해서 6번 깨고 기침하면서 또하며 잠을 자서 아침에 일어나서 너무 힘들게 일어났네요. 온도 조절을 할 수 있었던가? 에어컨은 필요할 것 같아요.\n"
     ]
    },
    {
     "name": "stderr",
     "output_type": "stream",
     "text": [
      "\r 86%|████████▌ | 1445/1689 [3:04:25<34:35,  8.51s/it]"
     ]
    },
    {
     "name": "stdout",
     "output_type": "stream",
     "text": [
      "1445 : 객실이 건조하고 먼지가 많은 편입니다. 직원들은 친절한 편이나 분실물 관리가 안 되네요... 객실에 놓고 왔는데 없다는 게 말이 되는지.. 에어비앤비도 아니고 호텔에서 체크아웃 후 바로 룸 클리닝할 텐데요.. 이해가 안 되네요. 그냥 빨리신 건지는 모르겠지만 호텔에서 있어서는 안 되는 상황이라고 생각합니다. 고가의 키충품은 아니니 다음부터 여기 이용 안 해야겠다 생각하고 말지만 아쉽네요.\n"
     ]
    },
    {
     "name": "stderr",
     "output_type": "stream",
     "text": [
      "\r 86%|████████▌ | 1446/1689 [3:04:27<26:28,  6.54s/it]"
     ]
    },
    {
     "name": "stdout",
     "output_type": "stream",
     "text": [
      "1446 : 자체 벡신 배스를 강행한다더군요?! 공산주의의 인민회사인가요!!!\n"
     ]
    },
    {
     "name": "stderr",
     "output_type": "stream",
     "text": [
      "\r 86%|████████▌ | 1447/1689 [3:04:39<32:56,  8.17s/it]"
     ]
    },
    {
     "name": "stdout",
     "output_type": "stream",
     "text": [
      "1447 : 경포호 앞인데 너무 모텔 뷰... 투숙객도 별로 없었는데 솔직히 좀 아쉽네요. 뷰가 없다는 것은 알았지만 경포호 뷰는 바라지도 않았고 그냥 적당한 뷰가 없었으면 좋겠다고 생각했는데 모텔 바로 맞은편 뷰를 주시다니... 여러 가지 의미로 대단하네요... 룸에 인덕션이나 테이블 등은 다 마음에 들었는데 암막 커튼이 아니에요. 모텔 뷰가 통항인지 아침마다 힘들었어요. 직사광선이 다 내리캐여서 한방였는데 방이 29도까지 올라가네요. 뷰랑 커튼 제외하고는 다 마음에 들어요.\n"
     ]
    },
    {
     "name": "stderr",
     "output_type": "stream",
     "text": [
      "\r 86%|████████▌ | 1448/1689 [3:05:01<50:24, 12.55s/it]"
     ]
    },
    {
     "name": "stdout",
     "output_type": "stream",
     "text": [
      "1448 : 테이블 먼지, 욕실 청소 상태 안 좋고, 욕조에 부품이 덜렁거려 달리가 굴혔네요. 리모컨은 침대에서는 작동을 안 해서 TV 앞에 가서 해야 하고, 리모컨을 받아 주러 온 사장님인지 직원분은 양해도 없이 불쾌 들어와서 '내가 이 테레비전 만든 사람도 아니고, 그걸 어떻게 아냐고...' 불친절을 넘어, 매너도 전혀 없고 무섭기까지 하네요. 원룸형 구조라 욕조에서는 쪼3 달린 목욕 중이었고 저는 침대에 앉아서 누워있었는데 너무 황당하고 놀랐습니다. 바꿔 준 리모컨도 TV 앞에서만 되니, 참네. 이게 리모컨입니까? 불쑥 들어온 거 항의하러 갔더니 오히려 더 큰 소리! 사우기 실현 말았는데, 여기 참 이한 공시구요. 여기 출장 겸사 온 거라 가까운 숙소 사진만 보고 선택했는데 너무 후회됩니다. 프런트부터 불친절하다 싶어 좀 그랬는데 시설도 서비스도 매너도 너무 하네요. 말이 너무 상하고 갑슴이 진정이 되지 않아 잠도 잘 못 잤네요. 아무리 1성급이라도 호텔이라고 간판 달고 있으려면 기본 예절은 갖추고 하세요. 이런 경우 없는 상황은 처음이네요.\n"
     ]
    },
    {
     "name": "stderr",
     "output_type": "stream",
     "text": [
      "\r 86%|████████▌ | 1449/1689 [3:05:04<38:39,  9.67s/it]"
     ]
    },
    {
     "name": "stdout",
     "output_type": "stream",
     "text": [
      "1449 : 행사 때문에 묵었는데, 주변에 식당도 많고 번화가라 돌아보기 좋았다. 또한 직원들에게 뭔가 물어보면 아는 만큼 친절하게 알려준다.\n"
     ]
    },
    {
     "name": "stderr",
     "output_type": "stream",
     "text": [
      "\r 86%|████████▌ | 1450/1689 [3:05:06<28:43,  7.21s/it]"
     ]
    },
    {
     "name": "stdout",
     "output_type": "stream",
     "text": [
      "1450 : 지하철역이라 찾기 쉬웠고 이용하기 편했어요.\n"
     ]
    },
    {
     "name": "stderr",
     "output_type": "stream",
     "text": [
      "\r 86%|████████▌ | 1451/1689 [3:05:47<1:09:10, 17.44s/it]"
     ]
    },
    {
     "name": "stdout",
     "output_type": "stream",
     "text": [
      "1451 : 방 크기는 리노베이션 이후의 노보텔과 달라진 게 전혀 없고 내부의 인테리어 취향만 바뀌었음. 킹베드 오션뷰에서 투숙했는데 방 크기가 신라스테이 일반 방하고 다를 바 없어서 방 안에 침대 하나 꽉 차고 작은 1인용 소파 하나 뿐임. 방이 작아서 침대와 벽면이 TV 상위에 한 사람이 걸어 다닐 정도의 공간밖에 없고, 화장실은 양문형으로 열리게끔 되어 있는데 안에서 문을 잠가도 문이 잠기지 않고 그대로 열림. 오전에 체크아웃 시에는 엘리베이터 타고 로비로 내려가는 것부터가 전쟁이어서 모든 층에 엘리베이터가 다 서고 만차여서 여자비 따지도 못하지만 각 층마다 내려오려는 투숙객들로 인산인해. 로비층에 간신히 도착하고서도 체크아웃하기 위한 줄을 엘리베이터 내려서부터 서야 함. 다행히 객실 내 미니바는 없고 냉장고 안의 음료수는 모두 객실 값에 포함임으로 체크아웃하는 데 시간이 오래 걸리지 않으나 체크아웃 후에 주차장으로 내려가는 엘리베이터에서 또 줄을 서야 함. 지하 주차장은 오래된 건물이라 매우 협소하며 지하로 내려가는 램프가 매우 좁아 레인지로벌로 지하 4층까지 내려가는데 10분 걸렸음. 그런데도 가에는 발레파킹은 현대카드 블랙 아니면 안 받음. 도저히 신세계 용용진인 하는 호텔이라고는 생각이 되지 않을 정도로 후지고 다시는 이용할 생각이 없음. 객실은 사진으로 꽉 차고 롯데 시그니엘하고 비슷하겠지 하고 생각했다가는 큰 낭패. 다시 말해, 90년대 하얏트 리젠시 = 노보텔 = 그랜드 조선 따를 바 없고 옛날 수준 그대로. 그랜드 조선은 시그니엘 객실과 비슷한 간격을 받는다는 것은 말도 안 되고, 다만 그랜드 조선은 냉장고 안 음료 무료와 시그니엘이나 웨스틴 조선의 경우 10%에 10%를 추가하는 것과 달리 rack rate에서 10%만 추가하기 때문에 최저 객실로가 조금 싸게 나온다는 점 정도가 그나마 장점이나 그래도 가성비를 생각하면 오래된 웨스틴 조선보다도 아래임.\n"
     ]
    },
    {
     "name": "stderr",
     "output_type": "stream",
     "text": [
      "\r 86%|████████▌ | 1452/1689 [3:05:55<57:41, 14.61s/it]  "
     ]
    },
    {
     "name": "stdout",
     "output_type": "stream",
     "text": [
      "1452 : 처음 롯데호텔 부산에 왔는데 만나는 모든 직원들이 인사해 주시고 도와주시려 하신 것을 포함해서, 지금까지 다녔던 국내에 호텔들 중 최상의 서비스를 경험한 것 같습니다. 조식도 정말 맛있고 침대도 편안하며 방도 청결하고, 왜 5성급 호텔인지 계속해서 깨닭게 해주었던 1박 2일이었습니다. 다음에도 여기 또 꼭 오고 싶습니다!\n"
     ]
    },
    {
     "name": "stderr",
     "output_type": "stream",
     "text": [
      "\r 86%|████████▌ | 1453/1689 [3:05:57<42:58, 10.93s/it]"
     ]
    },
    {
     "name": "stdout",
     "output_type": "stream",
     "text": [
      "1453 : 1박 갱 뷰에서 행복한 시간이었습니다. 다음에 또 기회가 되면 꼭 가기로 다짐해봅니다.\n"
     ]
    },
    {
     "name": "stderr",
     "output_type": "stream",
     "text": [
      "\r 86%|████████▌ | 1454/1689 [3:06:12<46:40, 11.91s/it]"
     ]
    },
    {
     "name": "stdout",
     "output_type": "stream",
     "text": [
      "1454 : 곰배령 산스카이 펜션에서 1박을 넘 편안하고 즐겁게 했어요. 친절한 사장님의 센스가 숙소 안과 밖에 다 묻어 있어요. 정원도 너무 예쁘게 가꾸어 노후해서 행복해지더라고요. 정원의 바베큐장도 야외 카페 느낌이나요. 숙소 안에서도 곰배령 산행 전에 아주 편안하게 쉴 수 있게 준비되어 있더라고요. 산행하는 날 주차도 가능하고, 산행 마치고 내려오니 아이스 아메리카노를 주시는 따스함 최고였어요. 곰배령 입구도 가까워서 산행 시작도 끝도 다 너무 편하더라고요. 펜션 앞의 진동 계곡도 너무 시원해 보이네요. 정말 강추합니다~\n"
     ]
    },
    {
     "name": "stderr",
     "output_type": "stream",
     "text": [
      "\r 86%|████████▌ | 1455/1689 [3:06:19<41:32, 10.65s/it]"
     ]
    },
    {
     "name": "stdout",
     "output_type": "stream",
     "text": [
      "1455 : 저렴하고 위치도 좋으며 방도 깨끗하고 좋습니다. 스태프들도 친절했습니다. 다만 바로 앞이 번화가라서 흘러나오는 노래 소리며 차 지나가는 소리며 소란스러운데, 창문은 닫은 거나 안 닫은 거나 별 차이가 없어서 시끄러워서 잠을 제대로 못 잤습니다. 그리고 욕실 환기가 잘 안 돼서 샤워하고 잤더니 방이 너무 눅눅했습니다.\n"
     ]
    },
    {
     "name": "stderr",
     "output_type": "stream",
     "text": [
      "\r 86%|████████▌ | 1456/1689 [3:07:08<1:25:19, 21.97s/it]"
     ]
    },
    {
     "name": "stdout",
     "output_type": "stream",
     "text": [
      "1456 : 최악임. 유명해서 기대하고 갔는데 숙소에 묵는 동안 너무 끔찍했습니다. 호텔은 전혀 아니고 중고등학생들이 묵을 만한 숙소인듯… 오션뷰 하나만 보고 가기에는 청결이 최악이라 다시는 가고 싶지 않습니다. 체크인할 때부터 직원도 없었고, 방에 들어가니까 오션뷰 2인실 예약했는데 침대 시트랑 바닥에 이상한 노란 가루가 엄청 많고, 침대 시트도 지저분 있어 사진 보내주며 방 상태 확인 부탁드린다고 해서 다시 청소해주겠지 하고 나갔다가 들어왔는데 청소가 안 되어 있었습니다. 중간에 들어와 확인해 보지 않은 것이 너무 후회되었습니다. 너무 늦은 시간이었고, 입구에 직원도 없어 무얼신지도 모르는 가루 있는 채로 잘 수 없어서 이불을 깔고 잤습니다. 시간만 늦지 않고 제가 혼자 온 거였으면 그 공가에서 너무 나가서 다른 숙소를 잡았을 겁니다. 화장실이랑 샤워실도 그냥 들어가서 안으면 끄고 생리대 받기도 너무 힘들었습니다. 여유 공간이 하나도 없고 휴지도 뒤에서 빼야 했는데 계속 끊겨 답답했습니다. 샤워실 사용도 너무 힘들었는데 샤워하는데 너무 좁아 진짜 이렇게까지 해서 이 숙소에서 지내고 싶지 않아 아침에 또 여기 들어가서 씻을 생각하니까 끔찍해서 저녁에 씻었습니다. 보통 허리를 쓰려고 가는데 공간이 너무 협소해서 위론 가물어 하니 샤워기를 위에 거는 공간이 없어 목만 쓰겨 갈았습니다. 나와서도 발뺌이 너무 더러워 비위가 상할 정도였습니다. 또한 1, 2층에 별침대라고 1층에는 간식거리가 비치되어 있는데 체크인 당시 체크인하는 당일은 무제한 무료고 다음날은 50% 가격으로 이용할 수 있다고 안내해주셨습니다. 하지만 마상 간이 투숙객이면 1인당 50% 가격인 5,900원이라고 결제를 해야 된다고 하며 야간 무료로 이용한 사람이냐면서 탄솔이를 했고 제가 체크인 당시 당일인 오늘은 무료로 이용 가능하다고 하니 말을 듣더니 그냥 이용하라고 했습니다. 무슨 상황인지 이해는 안 되었지만 이용하였는데 해외의 저렴한 과자들과 음료 이불이 있었는데 더럽고 제대로 작동되지도 않고 비치되어 있는 것이 없어 간단히만 이용했는데 무료로 한다고 해도 이용하지 않을 것 같습니다. 별침대라고 바다 쪽으로 의자와 책상들이 있었는데 괜찮 부스러기들과 먼지들, 음료 자국 등 너무 더러워 고라 않았습니다. 혼자 간 것이었다면 안 갔을 텐데 일행이 있어 이용하게 되었습니다. 원래도 유명한 뷰만 좋았는데 아침에는 너무 덥고 환기가 안 되어 뷰는 보이지 않고 빨리 나가고 싶었습니다. 너무 끔찍했던 숙박이었습니다.\n"
     ]
    },
    {
     "name": "stderr",
     "output_type": "stream",
     "text": [
      "\r 86%|████████▋ | 1457/1689 [3:07:14<1:07:05, 17.35s/it]"
     ]
    },
    {
     "name": "stdout",
     "output_type": "stream",
     "text": [
      "1457 : 창문이 엄청 크고 광안대교가 보이는 풍경이 아주 멋졌어요! 직원분들도 친절하게 안내해 주시고, 숙소 내부도 아주 깔끔했어요~ 하루 묵는 동안 잘 힐링하고 갑니다~^^(신분증을 챙기시고, 주차장이 호텔과 떨어져 있으니 사전에 주차장 위치를 꼭 확인하세요^^)\n"
     ]
    },
    {
     "name": "stderr",
     "output_type": "stream",
     "text": [
      "\r 86%|████████▋ | 1458/1689 [3:07:16<49:05, 12.75s/it]  "
     ]
    },
    {
     "name": "stdout",
     "output_type": "stream",
     "text": [
      "1458 : 가성비가 진짜 좋은 호텔인 것 같습니다. 시설도 깨끗하고 인테리어도 좋은 것 같아요.\n"
     ]
    },
    {
     "name": "stderr",
     "output_type": "stream",
     "text": [
      "\r 86%|████████▋ | 1459/1689 [3:07:31<50:32, 13.19s/it]"
     ]
    },
    {
     "name": "stdout",
     "output_type": "stream",
     "text": [
      "1459 : 객실에 1시간 이상 손님을 불러서 같이 있으면 (자는 거 아님, 말 그대로 있다가 손님) 퇴실해달라고 합니다. 왜 해야 하냐면 규정이 그렇다고 합니다. 나흘기 안 된다면 112를 부릅니다. 경찰관들이 와서 이걸 왜 부르냐고 그냥 감???? 4성급 글라스. 추가) 얼마나 인성이 떨어냐 보려고 잡프랜이세 기억저보 검색하니 경찰지닉고 지배이님과 직원들이 이모아 인성을 지척하는데, 크게 손님한테 연장선인 거지. 꼭 망해라, 제발. 절대 가지 마세요. 돈 내고 불쾌감 지술 올리고 싶으시면 가세요. 사진 출처 - 잡프랜이(삼성파로스호텔(주) 호텔 인 나인 강남 기억명)\n"
     ]
    },
    {
     "name": "stderr",
     "output_type": "stream",
     "text": [
      "\r 86%|████████▋ | 1460/1689 [3:07:34<39:29, 10.35s/it]"
     ]
    },
    {
     "name": "stdout",
     "output_type": "stream",
     "text": [
      "1460 : 별도로 분리된 방은 좁고 답답합니다. 신축이라 깨끗한 느낌은 있으나, 전반적으로 답답하고 쾌적한 느낌이 없습니다. 모텔 수준으로 재방문하고 싶지는 않아요.\n"
     ]
    },
    {
     "name": "stderr",
     "output_type": "stream",
     "text": [
      "\r 87%|████████▋ | 1461/1689 [3:07:37<30:03,  7.91s/it]"
     ]
    },
    {
     "name": "stdout",
     "output_type": "stream",
     "text": [
      "1461 : 좋습니다. 탁구, 당구도 칠 수 있고, 여름엔 수영장도 있고. 휴식하기 좋아요.\n"
     ]
    },
    {
     "name": "stderr",
     "output_type": "stream",
     "text": [
      "\r 87%|████████▋ | 1462/1689 [3:07:38<22:32,  5.96s/it]"
     ]
    },
    {
     "name": "stdout",
     "output_type": "stream",
     "text": [
      "1462 : 신혼여행 다녀오기 좋은 깔끔하고 서비스가 좋은 곳\n"
     ]
    },
    {
     "name": "stderr",
     "output_type": "stream",
     "text": [
      "\r 87%|████████▋ | 1463/1689 [3:07:40<17:53,  4.75s/it]"
     ]
    },
    {
     "name": "stdout",
     "output_type": "stream",
     "text": [
      "1463 : 전체적으로 좋았습니다~ 사장님도 친절하시고 뷰도 좋고~\n"
     ]
    },
    {
     "name": "stderr",
     "output_type": "stream",
     "text": [
      "\r 87%|████████▋ | 1464/1689 [3:07:48<21:48,  5.82s/it]"
     ]
    },
    {
     "name": "stdout",
     "output_type": "stream",
     "text": [
      "1464 : SNS만 보다가 처음 방문했는데 기대보다 깔끔하고 깨끗해서 좋았어요! 밤낮 상관없이 직원분들께서 친절히 응대해 주시고 필요한 부분 말씀드리 때마다 챙겨 주셔서 감사했습니다. 처음에는 신발 벗고 들어가는 게 불편하다고 생각했는데 지내다 보니 바닥이 깨끗해서 오히려 좋더라고요! 친구들이랑 돌아돌아 놀려고 마운틴뷰 했는데 다음에는 오션뷰로 재방문할게요~~~\n"
     ]
    },
    {
     "name": "stderr",
     "output_type": "stream",
     "text": [
      "\r 87%|████████▋ | 1465/1689 [3:08:06<35:37,  9.54s/it]"
     ]
    },
    {
     "name": "stdout",
     "output_type": "stream",
     "text": [
      "1465 : 계곡 상태 보고 뭐 좀 물어보려고 차 5분 정도 주차장에 세웠습니다. 주차장 내 자리도 엄청 많았고, 저희는 그냥 주차를 해버린 게 아니라 시동도 켜고 사람도 탄 채로 있었습니다. 날이 좀 추워서 계곡에 노는 사람들이 있나, 저희 엄마가 창문을 내려서 물어보려는데, 사장인지는 모르겠지만 안경 쓰고 배가 나온 아저씨가 하는 말이 “계곡 들어가고 말고는 저랑 관계 없고요(어는지 관심 없고요였는지) 차나 빼세요” 이러네요. 절대 제가 잘 했다는 건 아닙니다. 다만, 창문을 내리고 물기 전까지는 차를 빼라는 얘기가 없었어서 대면 안 되는 줄도 몰랐을 뿐 더러 단순히 뭐 좀 물어보려고 했는데 대뜸 저런이 여행 기분 진짜 제대로 잡치네요. 저딴 사람이 운영하는 곳이면 답이 나오네요 ㅋㅋ 그렇게 살고 싶으세요? 계속 그런 식으로 잘 먹고 잘 사세요~ 제가 악착같은 입소문 내고 다니겠어요 ㅋㅋㅋ\n"
     ]
    },
    {
     "name": "stderr",
     "output_type": "stream",
     "text": [
      "\r 87%|████████▋ | 1466/1689 [3:08:09<27:24,  7.37s/it]"
     ]
    },
    {
     "name": "stdout",
     "output_type": "stream",
     "text": [
      "1466 : 먼지가 많고 방음이 전혀 안 되네요. TV 채널도 얼마 없어서 놀랐습니다. 베개가 많이 낮습니다.\n"
     ]
    },
    {
     "name": "stderr",
     "output_type": "stream",
     "text": [
      "\r 87%|████████▋ | 1467/1689 [3:08:12<22:38,  6.12s/it]"
     ]
    },
    {
     "name": "stdout",
     "output_type": "stream",
     "text": [
      "1467 : 오션뷰 사우나가 완전 힐링... 조용하고 평온 그 자체다. 아무도 없는 욕탕에 몸 담그고 바다를 보고 있으면 내 인생을 사랑하게 된다..\n"
     ]
    },
    {
     "name": "stderr",
     "output_type": "stream",
     "text": [
      "\r 87%|████████▋ | 1468/1689 [3:08:14<17:49,  4.84s/it]"
     ]
    },
    {
     "name": "stdout",
     "output_type": "stream",
     "text": [
      "1468 : 세이지힐… 힐링에 최고네요. 도배나무에 꽂이 너무 좋아요~\n"
     ]
    },
    {
     "name": "stderr",
     "output_type": "stream",
     "text": [
      "\r 87%|████████▋ | 1469/1689 [3:08:19<17:43,  4.83s/it]"
     ]
    },
    {
     "name": "stdout",
     "output_type": "stream",
     "text": [
      "1469 : 극관 오션뷰에서 머물렀는데 바다를 즐길 수 있어서 정말 좋았어요! 씨메르는 안 가고 야외 수영장만 다녀왔는데 거기에도 스파가 있어서 재미있게 지내다 왔어요~ 나름 깨끗하고 시설도 좋습니다!\n"
     ]
    },
    {
     "name": "stderr",
     "output_type": "stream",
     "text": [
      "\r 87%|████████▋ | 1470/1689 [3:08:24<18:07,  4.97s/it]"
     ]
    },
    {
     "name": "stdout",
     "output_type": "stream",
     "text": [
      "1470 : 오랜만에 괜찮은 숙소를 선택한 것 같아요. 가격도 착하고, 시설도 청결하고, 데스크와 식당뿐만 아니라 청소하시는 여사님께서도 너무 친절하세요. 조식도 너무 괜찮아요. 다음에 해운대에서 숙박하면 또 올 거임.\n"
     ]
    },
    {
     "name": "stderr",
     "output_type": "stream",
     "text": [
      "\r 87%|████████▋ | 1471/1689 [3:08:25<13:59,  3.85s/it]"
     ]
    },
    {
     "name": "stdout",
     "output_type": "stream",
     "text": [
      "1471 : 비즈니스 용도로 하루 머물기엔 쓸만해요.\n"
     ]
    },
    {
     "name": "stderr",
     "output_type": "stream",
     "text": [
      "\r 87%|████████▋ | 1472/1689 [3:08:28<13:02,  3.60s/it]"
     ]
    },
    {
     "name": "stdout",
     "output_type": "stream",
     "text": [
      "1472 : 이불과 수건에서 깨끗함이 느껴지고, 프론트 의외로 정말 친절하십니다. 주변에 모텔이랑은 차원이 달라요…\n"
     ]
    },
    {
     "name": "stderr",
     "output_type": "stream",
     "text": [
      "\r 87%|████████▋ | 1473/1689 [3:08:30<11:15,  3.13s/it]"
     ]
    },
    {
     "name": "stdout",
     "output_type": "stream",
     "text": [
      "1473 : 주인분들이 친절하시고, 뷰도 너무 좋아요 ㅎㅎ\n"
     ]
    },
    {
     "name": "stderr",
     "output_type": "stream",
     "text": [
      "\r 87%|████████▋ | 1474/1689 [3:08:32<09:51,  2.75s/it]"
     ]
    },
    {
     "name": "stdout",
     "output_type": "stream",
     "text": [
      "1474 : 음식은 아쉬웠지만 객실 상태는 참 좋았습니다 ㅎㅎ\n"
     ]
    },
    {
     "name": "stderr",
     "output_type": "stream",
     "text": [
      "\r 87%|████████▋ | 1475/1689 [3:08:34<09:23,  2.63s/it]"
     ]
    },
    {
     "name": "stdout",
     "output_type": "stream",
     "text": [
      "1475 : 신축이라 시설이 매우 깔끔합니다. 관리자분들이 매우 친절합니다. 바베큐 시설이 잘 되어 있습니다.\n"
     ]
    },
    {
     "name": "stderr",
     "output_type": "stream",
     "text": [
      "\r 87%|████████▋ | 1476/1689 [3:08:37<09:37,  2.71s/it]"
     ]
    },
    {
     "name": "stdout",
     "output_type": "stream",
     "text": [
      "1476 : 산속에 있어서 새들 소리 듣고 조용하고 깔끔한 실내에서 휴식을 잘 했어요. 다음에는 가족들과 바베큐도 이용하고 싶네요.\n"
     ]
    },
    {
     "name": "stderr",
     "output_type": "stream",
     "text": [
      "\r 87%|████████▋ | 1477/1689 [3:08:39<08:21,  2.37s/it]"
     ]
    },
    {
     "name": "stdout",
     "output_type": "stream",
     "text": [
      "1477 : 회사기도 하고 ~ 투숙객으로도 가보고 나쁘지 않음.\n"
     ]
    },
    {
     "name": "stderr",
     "output_type": "stream",
     "text": [
      "\r 88%|████████▊ | 1478/1689 [3:08:41<08:05,  2.30s/it]"
     ]
    },
    {
     "name": "stdout",
     "output_type": "stream",
     "text": [
      "1478 : 친구네 커플이랑 와서 방을 2개 잡았는데 너무 즐겁게 잘 놀고 왔어요\n"
     ]
    },
    {
     "name": "stderr",
     "output_type": "stream",
     "text": [
      "\r 88%|████████▊ | 1479/1689 [3:08:42<07:12,  2.06s/it]"
     ]
    },
    {
     "name": "stdout",
     "output_type": "stream",
     "text": [
      "1479 : 청결하고 관리가 잘 되는 곳이네요~ 주변 도로 소음이 조금 있습니다.\n"
     ]
    },
    {
     "name": "stderr",
     "output_type": "stream",
     "text": [
      "\r 88%|████████▊ | 1480/1689 [3:08:51<13:25,  3.85s/it]"
     ]
    },
    {
     "name": "stdout",
     "output_type": "stream",
     "text": [
      "1480 : 곳곳에 센스가 가득해요. 캡슐 호텔에 묵어서 큰 기대는 안 했는데, 전기장판부터 곳곳에 거울도 부착되어 있어 너무 좋아요. 특히 화장실에 오엔 면지 제거하는 돌돌이도 구비되어 있고, 캡슐 방이 조금 작아서 불편할 수는 있지만 가성비가 너무 좋고 탈의실, 화장실, 샤워실이 넓어서 너무 좋습니다. 다음에 또 이용하고 싶어요.\n"
     ]
    },
    {
     "name": "stderr",
     "output_type": "stream",
     "text": [
      "\r 88%|████████▊ | 1481/1689 [3:08:55<13:51,  4.00s/it]"
     ]
    },
    {
     "name": "stdout",
     "output_type": "stream",
     "text": [
      "1481 : 가성비 최고예요. 완전 넓고 깔끔하고 고층이라서 뷰도 좋아요. 다음에 또 부산 오면 숙소는 무조건 여기로 하려구요. 주차가 좀 복잡하다는 것 빼면 완벽합니다.\n"
     ]
    },
    {
     "name": "stderr",
     "output_type": "stream",
     "text": [
      "\r 88%|████████▊ | 1482/1689 [3:08:58<12:46,  3.70s/it]"
     ]
    },
    {
     "name": "stdout",
     "output_type": "stream",
     "text": [
      "1482 : 샤워실 문이 없어서 세면대까지 물이 많이 튀는 게 아쉬웠습니다. 전체적으로 가성비가 괜찮고 깔끔하고 좋았어요.\n"
     ]
    },
    {
     "name": "stderr",
     "output_type": "stream",
     "text": [
      "\r 88%|████████▊ | 1483/1689 [3:09:02<13:11,  3.84s/it]"
     ]
    },
    {
     "name": "stdout",
     "output_type": "stream",
     "text": [
      "1483 : 일단 주차가 가능해서 좋았어요. 무료 조식 서비스, 급할 때 프린트 사용 가능, 청결도도 높았어요. 직원분들 친절하셔서 감사했습니다. 부산역에서도 가깝더군요.\n"
     ]
    },
    {
     "name": "stderr",
     "output_type": "stream",
     "text": [
      "\r 88%|████████▊ | 1484/1689 [3:09:29<37:06, 10.86s/it]"
     ]
    },
    {
     "name": "stdout",
     "output_type": "stream",
     "text": [
      "1484 : 최근에 이용한 아주 솔직한 후기   좋았던 점: 뷰가 너무 좋았다.   안 좋았던 점: 바베큐가 직화 방식이 아니어서 맛이 덜 했습니다. (고기를 제가 잘못 구웠을 수도 있어요...) 방이 오래된 느낌이고 시설이 조구문 낡은 느낌이었습니다. 침구가 안 좋았습니다. 복층이다 보니 침대에서 뒤척일 때 바닥에서 소리가 나서 수면에 도움이 되지 않았습니다. 방음이 너무 안 좋아서 옆방 TV 소리가 선명하게 들리길래 예약 시 안내 문자가 오는 번호로 전화할 정도였습니다. (연결이 안 되어 참고 잤다...) 제트스파 세팅이 되어 있다고 안내를 받고 입실했으나 전원이 올라져 있지 않아 한참 해맸지만, 물이 미지근해져 있었습니다.   가장 안 좋았던 점: 제공되는 어메니티가 인전 손님이 쓰고 남긴 게 그대로 제공되었습니다. (숙박시설 이용하면서 처음이라 많이 당황했다...) 금액대가 저렴한 펜션이면 후기를 남기지 않았을 거라 생각합니다. 숙박시설 후기를 처음 작성하는 글에 안 좋은 점만 남아한 것 같아 쓰술하지만 펜션 주인장이 보시고 실제 이용객이 솔직하게 적은 후기라고 느끼고 개선하셨으면 하는 마음에 적어봅니다. (어지간하면 그냥 잘 정도로 예민하지 않습니다...) 잠을 자고 일어나 해가 떠 있는 아침 뷰를 보면서 실망한 마음을 달랬습니다. 서비스 개선을 통해 더 나은 숙박시설이 소망함이 되길 원하겠습니다.\n"
     ]
    },
    {
     "name": "stderr",
     "output_type": "stream",
     "text": [
      "\r 88%|████████▊ | 1485/1689 [3:09:35<31:34,  9.28s/it]"
     ]
    },
    {
     "name": "stdout",
     "output_type": "stream",
     "text": [
      "1485 : 너무 위생이 별로였어요ㅠ 일단 바닥은 이전 사람들이 뭘 소운 건지 거무스름한 바닥 레크 청소를 안 하는 것 같고요, 침대 사이에 있는 탁자에는 먼지 모를 이물질들이랑 소등 자국이 있어서 휴지로 닦아봤더니 딱지더라고요....\n"
     ]
    },
    {
     "name": "stderr",
     "output_type": "stream",
     "text": [
      "\r 88%|████████▊ | 1486/1689 [3:09:46<32:54,  9.73s/it]"
     ]
    },
    {
     "name": "stdout",
     "output_type": "stream",
     "text": [
      "1486 : 연휴여서 서울 호텔이 비싸서 고민하고 있었는데, 저렴한 가격에 조식까지 포함되어 가성비 좋게 머물다 왔어요. 부산에서 가서 차는 근처 휴일 무료주차장을 찾아서 2박 해놓고 대중교통을 이용했구요. 방은 좁아도 호캉스가 아니어서 불편한 점은 없었고, 욕조가 있어서 몸 풀기는 좋았어요. 걸어서 중무로, 광장시장, 청계천에 접근하기 좋았어요. 단, 연휴에 방 예약이 어려웠어요. 다음에 서울에 오게 되면 또 머물 겁니다.\n"
     ]
    },
    {
     "name": "stderr",
     "output_type": "stream",
     "text": [
      "\r 88%|████████▊ | 1487/1689 [3:09:55<32:21,  9.61s/it]"
     ]
    },
    {
     "name": "stdout",
     "output_type": "stream",
     "text": [
      "1487 : 친구랑 하루 묶고 갔습니다. 동대문 근처에서 놀고 수원으로 이동할 예정이어서 그 근처에 있는 곳을 찾아보다가 지인 추천으로 글루 호텔에서 1박하고 왔어요. 부담스럽지 않은 아기자기한 인테리어 속이 귀엽고 앤티까니 참 좋았습니다. 청결하게 잘 정리되어 있었고, 무엇보다 특히 가볍게 숙박하기 좋네요! 다음에 또 이용할 것 같아요! 창문 밖의 뷰는 사진보다 실물이 더 예뻤어요^,^\n"
     ]
    },
    {
     "name": "stderr",
     "output_type": "stream",
     "text": [
      "\r 88%|████████▊ | 1488/1689 [3:09:59<27:04,  8.08s/it]"
     ]
    },
    {
     "name": "stdout",
     "output_type": "stream",
     "text": [
      "1488 : 전부터 방문하고 싶었던 버킷리스트를 달성하려고 예약했습니다! 홈페이지와 SNS에서 보던 것보다 훨씬 객실이 좋았고, 뷰가 진짜 정말 미쳤습니다! 강추 강추합니다 ㅎㅎ\n"
     ]
    },
    {
     "name": "stderr",
     "output_type": "stream",
     "text": [
      "\r 88%|████████▊ | 1489/1689 [3:10:01<20:25,  6.13s/it]"
     ]
    },
    {
     "name": "stdout",
     "output_type": "stream",
     "text": [
      "1489 : 마! 싸게 들어오면 방 없다! 그럼 야놀자에 오리지 마세요\n"
     ]
    },
    {
     "name": "stderr",
     "output_type": "stream",
     "text": [
      "\r 88%|████████▊ | 1490/1689 [3:10:02<15:23,  4.64s/it]"
     ]
    },
    {
     "name": "stdout",
     "output_type": "stream",
     "text": [
      "1490 : 직원분들이 친절하시고 좋았어요~\n"
     ]
    },
    {
     "name": "stderr",
     "output_type": "stream",
     "text": [
      "\r 88%|████████▊ | 1491/1689 [3:10:12<20:02,  6.08s/it]"
     ]
    },
    {
     "name": "stdout",
     "output_type": "stream",
     "text": [
      "1491 : 전 그렇게 불친절한 서비스는 받지 않았는데요. 좋지도 나쁘지도 않았습니다. 다만 주차 공간은 협소한데, 주차 공간이 꽉 차면 앞 건물 주차 공간에 주차하면 된다그래서 특별히 문제는 없었네요. 룸 컨디션은 화장실이 뚫려 있고, 배수 공간이 따로 없네요. 뭐, 지어진 지 얼마 안 돼서 전반적으로 다 새 것 같긴 합니다. 엘리베이터가 하나고 느낌적으로 느리네요. 저층에서 묵어서 그런지 뷰는 없네요.\n"
     ]
    },
    {
     "name": "stderr",
     "output_type": "stream",
     "text": [
      "\r 88%|████████▊ | 1492/1689 [3:10:14<15:47,  4.81s/it]"
     ]
    },
    {
     "name": "stdout",
     "output_type": "stream",
     "text": [
      "1492 : 아주 깨끗하고 가성비 최고입니다~ 수압은 약간 편이지만 나는 만족합니다.\n"
     ]
    },
    {
     "name": "stderr",
     "output_type": "stream",
     "text": [
      "\r 88%|████████▊ | 1493/1689 [3:10:17<14:34,  4.46s/it]"
     ]
    },
    {
     "name": "stdout",
     "output_type": "stream",
     "text": [
      "1493 : 신고 정신이 들쩡한 곳인 듯 합니다. 다녀온 지인에게 들었지만 두 번 다시 가고 싶지 않고, 같이 가던 외국인 친구에게 최악이라고 얘기를 들었다고 하네요.\n"
     ]
    },
    {
     "name": "stderr",
     "output_type": "stream",
     "text": [
      "\r 88%|████████▊ | 1494/1689 [3:10:18<11:00,  3.39s/it]"
     ]
    },
    {
     "name": "stdout",
     "output_type": "stream",
     "text": [
      "1494 : 기대치만큼 딱 충족됨\n"
     ]
    },
    {
     "name": "stderr",
     "output_type": "stream",
     "text": [
      "\r 89%|████████▊ | 1495/1689 [3:10:21<10:23,  3.21s/it]"
     ]
    },
    {
     "name": "stdout",
     "output_type": "stream",
     "text": [
      "1495 : 주차 편하고 스타일러 있어서 여행하면서 옷 세탁하기 편했어요. 내부도 깨끗하고.. 횡성 가면 다시 묵고 싶은 곳이네요.\n"
     ]
    },
    {
     "name": "stderr",
     "output_type": "stream",
     "text": [
      "\r 89%|████████▊ | 1496/1689 [3:10:23<08:53,  2.76s/it]"
     ]
    },
    {
     "name": "stdout",
     "output_type": "stream",
     "text": [
      "1496 : 작업자가 작업 중 사고해도 사과 한마디 없이 나 몰라라 생감다는 그 호텔\n"
     ]
    },
    {
     "name": "stderr",
     "output_type": "stream",
     "text": [
      "\r 89%|████████▊ | 1497/1689 [3:10:25<08:32,  2.67s/it]"
     ]
    },
    {
     "name": "stdout",
     "output_type": "stream",
     "text": [
      "1497 : 가격이 높은데 만족할 만한 서비스가 있네요. 조식은 생각한 것보다는 별로였어요 ㅠㅠ\n"
     ]
    },
    {
     "name": "stderr",
     "output_type": "stream",
     "text": [
      "\r 89%|████████▊ | 1498/1689 [3:10:30<11:10,  3.51s/it]"
     ]
    },
    {
     "name": "stdout",
     "output_type": "stream",
     "text": [
      "1498 : 개인적으로 사우나(세신도), 뷔페, 라운지, 뷰, 시설, 친절, 동백 산책로 등 대부분 만족스러웠어요. 에어컨 끄고 창문 열고 파도 소리 들으며 수면 가능, 뷰도 좋고 조용한 휴식 가능.\n"
     ]
    },
    {
     "name": "stderr",
     "output_type": "stream",
     "text": [
      "\r 89%|████████▉ | 1499/1689 [3:10:42<19:10,  6.05s/it]"
     ]
    },
    {
     "name": "stdout",
     "output_type": "stream",
     "text": [
      "1499 : 그 이상 이하도 아닌 딱 돈만큼 하는 호텔룸의 작은 거 빼곤 호텔 자체는 무제한이나, 일단 주차가 안 돼 불편하고 주변 주차장들과 연계해 주차가 가능하지만 이 주변 주차장들이 상당히 불친절합니다. 2박 하면서 연계된 3군데 주차장을 옮겨 다녔는데, 투숙객 일정대로 움직이며 주차해야 정상인데 주차장 문 닫는 스케줄에 움직여야 한다는 거. 6시면 닫아버리는 곳도 있어 차를 빼지도 못하고 외출했다 들어와도 닫아버려 주차 불가능. 주차장에서 일하는 사람의 손님 응대는 개차반. 주차장이 이미지 까먹는 호텔.\n"
     ]
    },
    {
     "name": "stderr",
     "output_type": "stream",
     "text": [
      "\r 89%|████████▉ | 1500/1689 [3:10:49<19:09,  6.08s/it]"
     ]
    },
    {
     "name": "stdout",
     "output_type": "stream",
     "text": [
      "1500 : 와, 어떤 호텔을 가도 청소가 이렇게 안 된 곳은 처음이네요. 바닥에 묻어있는 머리카락이 굴러다녀 방을 바꿨습니다. 뭐 바꾼 방도 머리카락 몇 개 다 바닥에 있더군요. 청결하진 않아요. 화장실도 깨끗해 보인데 변기에서 냄새나고 이래저래 별로였습니다.\n"
     ]
    },
    {
     "name": "stderr",
     "output_type": "stream",
     "text": [
      "\r 89%|████████▉ | 1501/1689 [3:11:10<33:07, 10.57s/it]"
     ]
    },
    {
     "name": "stdout",
     "output_type": "stream",
     "text": [
      "1501 : [결론] 수영장이 없어서 호캉스 하기도 애매하고, 주변에 놀 거리도 없음. 그냥 하루 지내기 적당한 곳! 전반적으로 만족했지만 뷔페형 조식이 없어서 장기 숙박은 비추천! [장점] 역이랑 가깝고 옥상 풋스파, 로비 라운지, 칵테일 바가 사진이 잘 나와서 메리트가 있다. 풋스파는 무제한 플립 이용인 점도 좋고, 직원분들 모두 서비스가 훌륭하다. [단점] 1. 룸 작성은 쾌적했으나 오갈 때에 먼지가 수북히 쌓여 있었다. 들어가자마자 먼지가 흩날리며 눈을 환영해 줌. 청소 관리는 잘 안 되는 듯. 또한 이 정도 가격의 호텔에 (1박 9-16 정도) 치약, 칫솔이 없는 곳은 처음 봤다… (사려면 5,000원). 전혀 예상 못한 일이라 친구와 둘 다 충격 먹음. 어메니티도 다른 곳에 비해 부실 그 자체. 2. 위치가 명동이니만큼 걸어서 갈 수 있는 맛집이나 카페가 별로 없다. 대부분 망했거나 체인점 식당뿐!\n"
     ]
    },
    {
     "name": "stderr",
     "output_type": "stream",
     "text": [
      "\r 89%|████████▉ | 1502/1689 [3:11:25<37:23, 12.00s/it]"
     ]
    },
    {
     "name": "stdout",
     "output_type": "stream",
     "text": [
      "1502 : 서울 코리비 4군데 사아봤는데, 맹그로브 동대문이 방 크기(열쇠 100만 원에 3평대), 방 크기를 전혀 고려하지 않은 최악의 가구와 내부 디자인, 시설, 컨시어지(직원분들이 일을 예방하지 않고 일어난 후에 굉장히 느리게 처리), 치안 등 최악입니다. 관광객이 많아서 허구한 날 사람 사는 주방이나 복도 등에서 틱톡, 라방 찍고 있고, 엘리베이터 같이 타게 되면 옆에 사람이 있는데도 씨도 때도 없이 걸카를 찍고, 런드리룸 하나인데 한 시간 지나도 빨래 제대로 안 짜차가는 사람이 허당하고, 부득정 다수 사람들이 늦은 시간에도 들어오고… 시설보다도 방음이 별로이고 여태 살았던 코리비 중 제일 불편한 곳이었어요.\n"
     ]
    },
    {
     "name": "stderr",
     "output_type": "stream",
     "text": [
      "\r 89%|████████▉ | 1503/1689 [3:11:28<28:22,  9.15s/it]"
     ]
    },
    {
     "name": "stdout",
     "output_type": "stream",
     "text": [
      "1503 : 객실도 깨끗하고 직원분들도 너무 친절하고 특히 뷰가 아주 좋아요... 재방문의사 완전 있어요!!\n"
     ]
    },
    {
     "name": "stderr",
     "output_type": "stream",
     "text": [
      "\r 89%|████████▉ | 1504/1689 [3:11:31<22:50,  7.41s/it]"
     ]
    },
    {
     "name": "stdout",
     "output_type": "stream",
     "text": [
      "1504 : 직원들이 너무 친절하고 깨끗하지만 아쉽게도 맛있는 조식을 이번엔 못 먹어봤어요ㅠㅠ 다음에도 여기로 방문할 예정입니다!!\n"
     ]
    },
    {
     "name": "stderr",
     "output_type": "stream",
     "text": [
      "\r 89%|████████▉ | 1505/1689 [3:11:35<19:40,  6.41s/it]"
     ]
    },
    {
     "name": "stdout",
     "output_type": "stream",
     "text": [
      "1505 : 일단 매우 오래됐고 아무리 사더라도 가면 안 되는 곳에 들어가자마자 취소하고 나왔어요. 몇 년 비어 있던 방에 들어가는 그런 싸늘함 등 10분도 안 있었는데 기억이 최악이에요.\n"
     ]
    },
    {
     "name": "stderr",
     "output_type": "stream",
     "text": [
      "\r 89%|████████▉ | 1506/1689 [3:11:36<14:37,  4.80s/it]"
     ]
    },
    {
     "name": "stdout",
     "output_type": "stream",
     "text": [
      "1506 : 수영로 교회 가까워서 좋네요^^\n"
     ]
    },
    {
     "name": "stderr",
     "output_type": "stream",
     "text": [
      "\r 89%|████████▉ | 1507/1689 [3:11:56<28:50,  9.51s/it]"
     ]
    },
    {
     "name": "stdout",
     "output_type": "stream",
     "text": [
      "1507 : 단점: 20층 건물에 엘리베이터가 단 1대입니다. 기계식 주차입니다. 내 방만 그런지 모르겠지만 3년쯤 된 침대가 어떻게 벌서 가운대가 푹 꺼졌을까. 허리가 아파서 바닥에 내려가 누웠습니다. 침대에 올라가다 하느라 참 설쳐서 싸미 동안 있는 동안 로비 직원들이 매일인지 낮밤인지 달랐는데, 모두 20대 후반 정도로 보였습니다. 남자 직원들은 그래도 멍때기 호텔이라는 타이틀인데, 앉아서 기계 티로 저희 자신으로 응대하지 말고 좀 더 프로페셔널한 자세면 좋겠어요. (프론트 직원이 앉아서 고객을 응대하는 호텔이 있었던가 기억이 안 나네요.) 나는 워낙 여행을 많이 하는데, 샤워실에 기나긴 머리카락이 여러 개 있는 것과 수건에 이물질이 묻어 있는 것은 처음 경험했습니다.   장점: 속초에 자주 가서 여러 호텔에 있었는데, 실내 구조 설계 및 인테리어를 가장 차이썸 있게 한 듯 합니다(설거상 취차). 그런데로 합리적인 가격입니다. 위치도 좋습니다. 아직 3, 4년밖에 안 되어 전반적으로 깔끔합니다.\n"
     ]
    },
    {
     "name": "stderr",
     "output_type": "stream",
     "text": [
      "\r 89%|████████▉ | 1508/1689 [3:12:01<24:15,  8.04s/it]"
     ]
    },
    {
     "name": "stdout",
     "output_type": "stream",
     "text": [
      "1508 : 객실 상태, 접객 서비스는 만족했으나 부실 공사가 의심될 정도로 취약한 방음. 양 옆 방에서 뭐 하는지 아주 서라운드 사운드로 들림. 조용한 밤이나 아침에는 발자국 소리까지 들릴 정도의 최악의 방음.\n"
     ]
    },
    {
     "name": "stderr",
     "output_type": "stream",
     "text": [
      "\r 89%|████████▉ | 1509/1689 [3:12:04<19:32,  6.51s/it]"
     ]
    },
    {
     "name": "stdout",
     "output_type": "stream",
     "text": [
      "1509 : 직원이 싼 돈을 손님이 치우게 함, 추가 결제 조심 = 직원의 안내 시스로 손님이 돈을 손해 봐야 하는 이상한 서비스 마인드\n"
     ]
    },
    {
     "name": "stderr",
     "output_type": "stream",
     "text": [
      "\r 89%|████████▉ | 1510/1689 [3:12:06<15:16,  5.12s/it]"
     ]
    },
    {
     "name": "stdout",
     "output_type": "stream",
     "text": [
      "1510 : 아침 강변과 마을 산책, 도심문화관과 가지 튜치도 가까운.\n"
     ]
    },
    {
     "name": "stderr",
     "output_type": "stream",
     "text": [
      "\r 89%|████████▉ | 1511/1689 [3:12:11<15:33,  5.25s/it]"
     ]
    },
    {
     "name": "stdout",
     "output_type": "stream",
     "text": [
      "1511 : 스탠다드 더블로 예약했는데 베이비룸 딸린 방으로 업그레이드해줬는데, 낫한데는 별 쓰고는 없었고 뷰는 볼 게 없고 실내는 넉넉했고 냄새 없고 청결하게 청소 잘 되어 있었고 조식도 먹을 만하고 좋았음.\n"
     ]
    },
    {
     "name": "stderr",
     "output_type": "stream",
     "text": [
      "\r 90%|████████▉ | 1512/1689 [3:13:34<1:23:40, 28.36s/it]"
     ]
    },
    {
     "name": "stdout",
     "output_type": "stream",
     "text": [
      "1512 : 주차: 차 크기가 적당해서 주차 타워를 이용할 수 있는 이용객이면 불만이 없겠지만, 우리 차 사이즈가 큰 편(패밀리카)인데 주차 타워를 이용 못 하니 지하 주차장으로 가라고 내려보냈습니다. 대형차들만 주차하는 지하 주차장인데, 진입로가 까딱 잘못하면 차를 끌게 생길 정도로 좁아서 여기서부터 불편했습니다. 지하로 내려가니 지하 2에 딱 한 자리 남아 있었는데, 그마저도 지자로 갈려져 있어서 직접 치운 후 주차 카드를 만들어서 주차했습니다. 대형차를 위한 주차장을 이렇게 이용하게 된 것부터 너무 불편했습니다. 대형을 위한 주차장을 이렇게 이용하게 된 것부터 너무 불편했습니다. 대형을 위한 주차장을 이렇게 이용하게 된 것부터 너무 불편했습니다. 대형을 위한 주차장을 이렇게 이용하게 된 것부터 너무 불편했습니다. 대형을 위한 주차장을 이렇게 이용하게 된 것부터 너무 불편했습니다. 대형을 위한 주차장을 이렇게 이용하게 된 것부터 너무 불편했습니다. 대형을 위한 주차장을 이렇게 이용하게 된 것부터 너무 불편했습니다. 대형을 위한 주차장을 이렇게 이용하게 된 것부터 너무 불편했습니다. 대형을 위한 주차장을 이렇게 이용하게 된 것부터 너무 불편했습니다. 대형을 위한 주차장을 이렇게 이용하게 된 것부터 너무 불편했습니다. 대형을 위한 주차장을 이렇게 이용하게 된 것부터 너무 불편했습니다. 대형을 위한 주차장을 이렇게 이용하게 된 것부터 너무 불편했습니다. 대형을 위한 주차장을 이렇게 이용하게 된 것부터 너무 불편했습니다. 대형을 위한 주차장을 이렇게 이용하게 된 것부터 너무 불편했습니다. 대형을 위한 주차장을 이렇게 이용하게 된 것부터 너무 불편했습니다. 대형을 위한 주차장을 이렇게 이용하게 된 것부터 너무 불편했습니다. 대형을 위한 주차장을 이렇게 이용하게 된 것부터 너무 불편했습니다. 대형을 위한 주차장을 이렇게 이용하게 된 것부터 너무 불편했습니다. 대형을 위한 주차장을 이렇게 이용하게 된 것부터 너무 불편했습니다. 대형을 위한 주차장을 이렇게 이용하게 된 것부터 너무 불편했습니다. 대형을 위한 주차장을 이렇게 이용하게 된 것부터 너무 불편했습니다. 대형을 위한 주차장을 이렇게 이용하게 된 것부터 너무 불편했습니다. 대형을 위한 주차장을 이렇게 이용하게 된 것부터 너무 불편했습니다. 대형을 위한 주차장을 이렇게 이용하게 된 것부터 너무 불편했습니다. 대형을 위한 주차장을 이렇게 이용하게 된 것부터 너무 불편했습니다. 대형을 위한 주차장을 이렇게 이용하게 된 것부터 너무 불편했습니다. 대형을 위한 주차장을 이렇게 이용하게 된 것부터 너무 불편했습니다. 대형을 위한 주차장을 이렇게 이용하게 된 것부터 너무 불편했습니다. 대형을 위한 주차장을 이렇게 이용하게 된 것부터 너무 불편했습니다. 대형을 위한 주차장을 이렇게 이용하게 된 것부터 너무 불편했습니다. 대형을 위한 주차장을 이렇게 이용하게 된 것부터 너무 불편했습니다. 대형을 위한 주차장을 이렇게 이용하게 된 것부터 너무 불편했습니다. 대형을 위한 주차장을 이렇게 이용하게 된 것부터 너무 불편했습니다. 대형을 위한 주차장을 이렇게 이용하게 된 것부터 너무 불편했습니다. 대형을 위한 주차장을 이렇게 이용하게 된 것부터 너무 불편했습니다. 대형을 위한 주차장을 이렇게 이용하게 된 것부터 너무 불편했습니다. 대형을 위한 주차장을 이렇게 이용하게 된 것부터 너무 불편했습니다. 대형을 위한 주차장을 이렇게 이용하게 된 것부터 너무 불편했습니다. 대형을 위한 주차장을 이렇게 이용하게 된 것부터 너무 불편했습니다. 대형을 위한 주차장을 이렇게 이용하게 된 것부터 너무 불편했습니다. 대형을 위한 주차장을 이렇게 이용하게 된 것부터 너무 불편했습니다. 대형을 위한 주차장을 이렇게 이용하게 된 것부터 너무 불편했습니다. 대형을 위한 주차장을 이렇게 이용하게 된 것부터 너무 불편했습니다. 대형을 위한 주차장을 이렇게 이용하게 된 것부터 너무 불편했습니다. 대형을 위한 주차장을 이렇게 이용하게 된 것부터 너무 불편했습니다. 대형을 위한 주차장을 이렇게 이용하게 된 것부터 너무 불편했습니다. 대형을 위한 주차장을 이렇게 이용하게 된 것부터 너무 불편했습니다. 대형을 위한 주차장을 이렇게 이용하게 된 것부터 너무 불편했습니다. 대형을 위한 주차장을 이렇게 이용하게 된 것부터 너무 불편했습니다. 대형을 위한 주차장을 이렇게 이용하게 된 것부터 너무 불편했습니다. 대형을 위한 주차장을 이렇게 이용하게 된 것부터 너무 불편했습니다. 대형을 위한 주차장을 이렇게 이용하게 된 것부터 너무 불편했습니다. 대형을 위한 주차장을 이렇게 이용하게 된 것부터 너무 불편했습니다. 대형을 위한 주차장을 이렇게 이용하게 된 것부터 너무 불편했습니다. 대형을 위한 주차장을 이렇게 이용하게 된 것부터 너무 불편했습니다. 대형을 위한 주차장을 이렇게 이용하게 된 것부터 너무 불편했습니다. 대형을 위한 주차장을 이렇게 이용\n"
     ]
    },
    {
     "name": "stderr",
     "output_type": "stream",
     "text": [
      "\r 90%|████████▉ | 1513/1689 [3:13:57<1:18:51, 26.89s/it]"
     ]
    },
    {
     "name": "stdout",
     "output_type": "stream",
     "text": [
      "1513 : 여행을 위해 갔는데 체크인 멋지게 잘 하고 짐 놔두고 나와서 잘 놀고 들어가려고 했으나 도어락 고장으로 인하여 새벽 내내 열쇠공까지 부르며 실룸함. 20시 이후로 직원들이 퇴근해서 상주 직원이 없어서 문제가 생길 시 셀프로 해결해야 한다고 적혀 있는 전화번호도 20시 이후로 절대로 안 받음..^^ 오전에 직원과 얘기했으나 보상 및 대처 방법 역시 최악.. 본인들 시간에 맞춰라고 강요하며 절대로 사장 편호는 안 넘김 ^^ 덕분에 스케줄이 꼬이고 컨디션이 최악의 하루를 보냈으나 돌아온 보상은 1박 숙박비와 열쇠공 부른 비용만.. (열쇠공 부른 비용은 안 추렴고 했음) 관리자와 전화하면서 보상을 받았으나 좋은 말로 대처하면 등쳐먹으려고 하고 화내야지만 기본적인 보상안을 받을 수 있었음!! 사실 잘 없는 문제를 우리가 겪긴 했지만 20시 이후로 상주 직원이 없음, 절대로 전화 안 받는 문제는 심각하다고 생각함. 안전하지 않고 문제 해결이 전혀 안 되는 숙소이며, 또한 이 점을 제외하고는 전혀 방음 및 환기가 안 되고 겉으로는 깔끔해 보이나 딱히 청결을 신경 쓰지 않음이 굉장히 티 나는 숙소.. 이불도 뜯어져 있었음.\n"
     ]
    },
    {
     "name": "stderr",
     "output_type": "stream",
     "text": [
      "\r 90%|████████▉ | 1514/1689 [3:13:59<56:08, 19.25s/it]  "
     ]
    },
    {
     "name": "stdout",
     "output_type": "stream",
     "text": [
      "1514 : 좁고 불편한 걸 감안해 주는 부분 맛집이에요~~\n"
     ]
    },
    {
     "name": "stderr",
     "output_type": "stream",
     "text": [
      "\r 90%|████████▉ | 1515/1689 [3:14:20<57:50, 19.94s/it]"
     ]
    },
    {
     "name": "stdout",
     "output_type": "stream",
     "text": [
      "1515 : 평균 후기 점수 보시면 알겠지만, 악성 후기여 아닙니다. 1. 오션뷰가 아닙니다. 광안대교 뷰입니다. 앞 건물이 풍의 반입상을 갑입니다(16층 기준). 절대 뷰를 보고 예약하지 마시기 바라요. 2. 24시간 내에 취소를 해도 취소가 안 됩니다. 4일 전이라면 명부로 50~70% 수수료를 물리는데, 일요일 상당일 예약하고 1시간 뒤 취소해도 같은 수수료를 물게 됩니다. 예약 시 고지해 주니 잘 확인해 보시는 게 좋을 거예요. 3. 사장님 마인드가 참... 하^^ 퇴실 시간을 1분이라도 딜레이 시킬 시 추가금액을 어떻게든 발생시키려는 협박성 말투와 더불어 매우 어깁어깁한 느낌입니다. 창문이 한 개뿐이라서 환기가 잘 안 되며, 시트에서는 개를 데리고 온 건지 개 냄새가 좀 납니다. 이 모든 요건을 고려했을 때 가격이라도 싸야 하는데 가격도 매우 비싼 편이었습니다. 돈 버시는 여자 마인드인 건 알겠는데 어느 정도 유도가 필요할 것 같아요. 다신 안 갈 것 같습니다.\n"
     ]
    },
    {
     "name": "stderr",
     "output_type": "stream",
     "text": [
      "\r 90%|████████▉ | 1516/1689 [3:14:26<45:32, 15.80s/it]"
     ]
    },
    {
     "name": "stdout",
     "output_type": "stream",
     "text": [
      "1516 : 주차 아예 못하면 공영주차장 혹은 앞에 관공서에 주차 가능했다. 매트리스도 편했고, 지어진 지 얼마 안 되어서 깨끗했다. 차로 이동하기에 접근성도 좋았고, 청초호 호수 산책도 가까워서 가능했다. 근처에 병원이 있어서 야구 방문도 수월했음.\n"
     ]
    },
    {
     "name": "stderr",
     "output_type": "stream",
     "text": [
      "\r 90%|████████▉ | 1517/1689 [3:14:46<48:58, 17.08s/it]"
     ]
    },
    {
     "name": "stdout",
     "output_type": "stream",
     "text": [
      "1517 : 장점은, 튜브를 무료로 빌려줍니다! 정수기와 전자렌지가 층마다 배치되어 있어요. 그 외 특징을 서술하겠습니다. 건조기는 없고, 자잘이?(수분 연심 분리기)와 빨래대가 있어요. 고기를 구워 먹을 수 있는 장소가 있긴 한데, 불판은 직접 설거지해야 해요. (더러움) 화장실은 넓지만 수압이 심각하게 너무 약해요. 모모 붙은 머리카락을 못 떼어 냅니다. 엘리베이터는 없지만 계단이 갑팔치 않고, 건물 노후도를 고려해 이해할 수 없을 정도는 아닙니다. 성수기 여름이라 4인 기준 14~17만 원 정도입니다. 침대는 하나고 바닥에 갈 수 있는 이불이 제공됩니다. 그냥 평소에는 한 5만 원 정도 하는 모텔이기에, 크게 기대하지는 않고 에어컨 켜고 화장실 편하게 이용하고, 유키지 않고 잘 수 있다는 것에 만족해야 합니다. 다만... 모든 것을 위해함에도 불구하고, 방 안에 모기 죽은 자국과 키트라미가 기어다니는 걸 보고 도저히 좋은 점수를 주기가 힘듭니다.\n"
     ]
    },
    {
     "name": "stderr",
     "output_type": "stream",
     "text": [
      "\r 90%|████████▉ | 1518/1689 [3:14:48<35:33, 12.48s/it]"
     ]
    },
    {
     "name": "stdout",
     "output_type": "stream",
     "text": [
      "1518 : 위치와 시설이 다 만족하고 갑니다. 가격이 비싸지도 않고 굿!\n"
     ]
    },
    {
     "name": "stderr",
     "output_type": "stream",
     "text": [
      "\r 90%|████████▉ | 1519/1689 [3:15:08<41:40, 14.71s/it]"
     ]
    },
    {
     "name": "stdout",
     "output_type": "stream",
     "text": [
      "1519 : 본관에서 2박을 했다. 서비스 * : 조용히 쉬러 5성 호텔을 잡았는데, 아이들과 온 투숙객들 때문에 어수선했다. 특히, 아침 조식 때 아이가 소리 지르고 뛰는데 부모도 무관심, 호텔 직원도 무관심했다. 5성 호텔에 걸맞지 않게, 투숙객 관리와 동제를 전혀 안 한다. (직원들은 친절했다.) (가족 투숙객 프로모션을 자주 해서 아이들이 많이 투숙하는데, 그에 맞게 다 투숙객에게 불편이 가지 않게 관리를 해야 한다.) 음식 *** : 모든 음식이 짜다. 특별히 좋다고 생각한 메뉴가 없다. 객실 *** : 조금 낡았고 바다뷰 창이 조금 답답하다. 시설 *** : 바다뷰 수영장은 기이가 너무 낮아 어른이 즐기기에 부적합하다. 어린이용 수영장이다. 수영장에서 바다 쪽으로 유리벽이 높게 있어서 답답하다. (인피니티 수영장이 아니다.) 가격 *** : 이 가격이면 관리가 잘 되는 부산의 다른 5성급 호텔을 이용하는 게 낫다. 위치 ***** : 해운대 중앙에 있다.\n"
     ]
    },
    {
     "name": "stderr",
     "output_type": "stream",
     "text": [
      "\r 90%|████████▉ | 1520/1689 [3:15:09<29:48, 10.58s/it]"
     ]
    },
    {
     "name": "stdout",
     "output_type": "stream",
     "text": [
      "1520 : 최고의 장소! 추천합니다!!!!!\n"
     ]
    },
    {
     "name": "stderr",
     "output_type": "stream",
     "text": [
      "\r 90%|█████████ | 1521/1689 [3:15:15<25:49,  9.22s/it]"
     ]
    },
    {
     "name": "stdout",
     "output_type": "stream",
     "text": [
      "1521 : 미세먼지가 있는 날과 없는 날 뷰 차입니다. 라운지 조식 가짓수는 적지만 알차고 맛있어요. 침대는 편하고 뷰는 최상급이죠. 호텔 키고 한 바퀴 산책도 소화시키기 충분합니다. 서울에서 갈 만하네요. 이 가격에 이 정도면!\n"
     ]
    },
    {
     "name": "stderr",
     "output_type": "stream",
     "text": [
      "\r 90%|█████████ | 1522/1689 [3:15:16<18:38,  6.70s/it]"
     ]
    },
    {
     "name": "stdout",
     "output_type": "stream",
     "text": [
      "1522 : 건물이 문어질 것 같음\n"
     ]
    },
    {
     "name": "stderr",
     "output_type": "stream",
     "text": [
      "\r 90%|█████████ | 1523/1689 [3:15:18<14:49,  5.36s/it]"
     ]
    },
    {
     "name": "stdout",
     "output_type": "stream",
     "text": [
      "1523 : 높은 층고와 고급스러운 인테리어... 바다가지 와~ 소리가 절로나 와요.\n"
     ]
    },
    {
     "name": "stderr",
     "output_type": "stream",
     "text": [
      "\r 90%|█████████ | 1524/1689 [3:15:20<11:46,  4.28s/it]"
     ]
    },
    {
     "name": "stdout",
     "output_type": "stream",
     "text": [
      "1524 : 깔끔! 히터 동라가는 소리가 좀 크긴 한데, 나머지는 좋아요!\n"
     ]
    },
    {
     "name": "stderr",
     "output_type": "stream",
     "text": [
      "\r 90%|█████████ | 1525/1689 [3:15:30<16:22,  5.99s/it]"
     ]
    },
    {
     "name": "stdout",
     "output_type": "stream",
     "text": [
      "1525 : 부산 에어텔!! 짱입니다~ㅎㅎ 원래 3명이서 한 침대인 방이었는데 주인 아저씨께서 방이 좁을 것 같다며 업그레이드해 주셨습니다ㅠㅠㅠ 감사해요.. 창 깨끗하고 사진이 저렇지 실제는 더 넓어서 너무 놀랐어요. 화장실도 짱 넓고 물도 따뜻하게 아주 잘 나왔어요!! 이 모든 걸 3명이 잡는데 3만 5천원이었습니다!! 공항도 가깝고 공항 근처에 잘 곳 찾는다면 강추!!입니다~~\n"
     ]
    },
    {
     "name": "stderr",
     "output_type": "stream",
     "text": [
      "\r 90%|█████████ | 1526/1689 [3:15:32<12:49,  4.72s/it]"
     ]
    },
    {
     "name": "stdout",
     "output_type": "stream",
     "text": [
      "1526 : 주차가 불편하지만 깨끗하고 스타일러랑 공기청정기도 있어서 좋아요.\n"
     ]
    },
    {
     "name": "stderr",
     "output_type": "stream",
     "text": [
      "\r 90%|█████████ | 1527/1689 [3:15:36<12:28,  4.62s/it]"
     ]
    },
    {
     "name": "stdout",
     "output_type": "stream",
     "text": [
      "1527 : 안내판도 없고 직원들이 길 안내도 제대로 안 해 주고 사람을 뻐뻐 돌립니다. 굉장히 불쾌한 경험이었고, 여기 예약한 내 잘못이고, 다신 안 올 거고, 추천하지 않습니다.\n"
     ]
    },
    {
     "name": "stderr",
     "output_type": "stream",
     "text": [
      "\r 90%|█████████ | 1528/1689 [3:15:41<12:23,  4.62s/it]"
     ]
    },
    {
     "name": "stdout",
     "output_type": "stream",
     "text": [
      "1528 : 뷰가 좋고 시설이 깨끗해서 너무 만족스럽습니다. 아직 주변에 개발 중이라 혼한데 자차로 움직인다면 오히려 더 편리하고요. 부산역으로 교통로가 연결되어 있어서 대중교통을 이용하는 것도 불편하지 않네요.\n"
     ]
    },
    {
     "name": "stderr",
     "output_type": "stream",
     "text": [
      "\r 91%|█████████ | 1529/1689 [3:15:43<10:14,  3.84s/it]"
     ]
    },
    {
     "name": "stdout",
     "output_type": "stream",
     "text": [
      "1529 : 룸 업그레이드 받아서 좋아요. 서비스가 전체적으로 좋고 라운지도 만족스러웠어요~\n"
     ]
    },
    {
     "name": "stderr",
     "output_type": "stream",
     "text": [
      "\r 91%|█████████ | 1530/1689 [3:16:06<25:48,  9.74s/it]"
     ]
    },
    {
     "name": "stdout",
     "output_type": "stream",
     "text": [
      "1530 : 강원도 휴가 겸 여행 중에 비 오는 날에 카페를 검색하고 점수도 높고, 뷰가 좋다길래 다음 일정 가는 곳과 좀 멀리 돌아가서 일부러 찾아왔는데.. 자리 잡고 주문하려 메뉴 및 페인트리 종류를 둘러보니 빵이나 케이크 등도 몇 개 없고, 음료도 별로여서 커피 두 잔만 시켰는데, 결제 완료되고 진동벨 주눈 과정에서, 뒷쪽에 있던 사장님처럼 보이는 중년 여성이 몇 분이라고 하더니, 아기 포함 4명이라 했더니 알바생한테 추가 주문 받으라고 정색함. 알바생은 추가 주문 2잔 더 하라고 하면서 얼굴을 빤히 쳐다보고.. 사장님한테 아기인데도 다 씻기냐고 했더니, 알바생이 사장님 눈치 보더니 1인 1메뉴라고 2잔 더 시키라고 해서, 그냥 아무거나 시김ㅡㅡ 추가 결제 끝내고 나서야 사장님은 화긴 후 돌아서서 음료 만들기 시작..;; 1인 1메뉴인 건 이해는 되는데, 결제까지 다 받아놓고 정석하는 것은 도무지 이해도 안 되고 마음이 상하네요. 평창 장사에 불친절 끝판왕 카페!! 이번 여행 중에 들렀던 카페들 중에 가장 최악으로 기억되는 곳입니다.\n"
     ]
    },
    {
     "name": "stderr",
     "output_type": "stream",
     "text": [
      "\r 91%|█████████ | 1531/1689 [3:16:07<18:31,  7.04s/it]"
     ]
    },
    {
     "name": "stdout",
     "output_type": "stream",
     "text": [
      "1531 : 위생이 너무 아니에요.....\n"
     ]
    },
    {
     "name": "stderr",
     "output_type": "stream",
     "text": [
      "\r 91%|█████████ | 1532/1689 [3:16:43<41:02, 15.68s/it]"
     ]
    },
    {
     "name": "stdout",
     "output_type": "stream",
     "text": [
      "1532 : 여기는 호텔이라고 뷰를 쓸 수 있을까? 그냥 조선족이 운영하는 민박집? 여관? 그런 것이다. 여기 예전에 사이트에 좋은 후기를 써주면 세면도구를 주는 이벤트를 해서 후기와 평점이 좋은 것입니다. 속지 마세요. 진심으로 후진 곳입니다. 프론트 데스크에 조선족(영)이 아래 후기들에서도 자주 보이는데 지척을 안 당하는 게 이상함. 온갖 참견, 간섭, 멍령, 선생질에 마치 자기가 주인이고 돈 내고 묵는 사람은 자기네한테 빌붙어 먹는 하수생인 듯이 하대하고 무실하고 반말합니다. 위에서 멍렁다보는 그 기분 나쁜 데도 얄쵸? 한국 사람한테 폭수하려고 조선족이 한을 풀고 일어날?란 상상까지 해봄. 제일 기리 보이기는 TV 화면이 안 나오는 것이. 그것도 케이블이 아닌 공중파 SBS, KBS 이런 채널이 안 나와서 프론트 조선족분께 말했더니 돌아온 대답 \"그딴 거 보려면 모텔을 가!!!!! 우리는 그런 거 없어!!! 몰라!!!! 왜 우리가 그런 방송까지 다 보여줘야 해? 무슨 모텔 와서??????? 모텔 가!!!!!!!!!!!\" 아니, 저기온 공중파요... 그냥 TV 틀면 다 나와야 하는 SBS, MBC, KBS 그런 거요... 그러나 막무가내로 소리소리 지르며 TV 채널 많은 데 가려면 모텔을 가야지 왜 여기 왔냐고, 우리가 그런 것까지 제공해야 하냐고 감히 이 무식한 한국인이!!!!! 란 스탠드를 건지하더군요. 그렇습니다, 이 사람은 한국의 공중파라는 걸 아예 모르고 있던 것이었음. 자기네는 채널이 많은 케이블 TV가 없다는 말을 하고 싶었던 것으로 추측함. 중국 방송만 봐서 한국 건 모르는... 근데 한국 사람 상대로 서비스 업종장사하고 돈 벌면서 멍렁과 효동질과 갑질을 하는 그런... '조선족은 유기기를 잘하고 말이 안 통한다'라는 많은 분들의 경험에 위한 명언을 빼에 새긴 날이었습니다. 왜 가요 이런 데?\n"
     ]
    },
    {
     "name": "stderr",
     "output_type": "stream",
     "text": [
      "\r 91%|█████████ | 1533/1689 [3:16:44<29:24, 11.31s/it]"
     ]
    },
    {
     "name": "stdout",
     "output_type": "stream",
     "text": [
      "1533 : 위치가 좋고, 친절하며 깔끔합니다.\n"
     ]
    },
    {
     "name": "stderr",
     "output_type": "stream",
     "text": [
      "\r 91%|█████████ | 1534/1689 [3:16:47<23:16,  9.01s/it]"
     ]
    },
    {
     "name": "stdout",
     "output_type": "stream",
     "text": [
      "1534 : 방이 좁고 먼지가 짱 많구 뷰는 별로ㅠ 한쪽은 반대편 객실이랑 마주보고, 한쪽은 아래쪽 뷰와 같았습니다. 위치는 굿.\n"
     ]
    },
    {
     "name": "stderr",
     "output_type": "stream",
     "text": [
      "\r 91%|█████████ | 1535/1689 [3:16:49<17:05,  6.66s/it]"
     ]
    },
    {
     "name": "stdout",
     "output_type": "stream",
     "text": [
      "1535 : 너무너무 편안하고 좋았습니당\n"
     ]
    },
    {
     "name": "stderr",
     "output_type": "stream",
     "text": [
      "\r 91%|█████████ | 1536/1689 [3:16:51<13:59,  5.49s/it]"
     ]
    },
    {
     "name": "stdout",
     "output_type": "stream",
     "text": [
      "1536 : 위치로는 두말할 것도 없는 곳. 가족 단위가 많이 오는지 이런저런 디테일이 본일 운영나 아동과 오기 좋아 보였다.\n"
     ]
    },
    {
     "name": "stderr",
     "output_type": "stream",
     "text": [
      "\r 91%|█████████ | 1537/1689 [3:16:54<11:22,  4.49s/it]"
     ]
    },
    {
     "name": "stdout",
     "output_type": "stream",
     "text": [
      "1537 : 시설도 좋았고, 접근성도 괜찮았습니다. 재방문 의사가 있습니다. 번창하세요...^^\n"
     ]
    },
    {
     "name": "stderr",
     "output_type": "stream",
     "text": [
      "\r 91%|█████████ | 1538/1689 [3:16:57<10:26,  4.15s/it]"
     ]
    },
    {
     "name": "stdout",
     "output_type": "stream",
     "text": [
      "1538 : 시설이나 인테리어가 모두 고급스럽고 깔끔해서 너무 좋아요~~!!!! 서비스도 좋아서 아주 편안히 있다가네요ㅎㅎㅎ\n"
     ]
    },
    {
     "name": "stderr",
     "output_type": "stream",
     "text": [
      "\r 91%|█████████ | 1539/1689 [3:16:59<08:32,  3.42s/it]"
     ]
    },
    {
     "name": "stdout",
     "output_type": "stream",
     "text": [
      "1539 : 잘 쉬다가 갑니다~ 아쉬운 점은 너무나도 협소한 주차장...\n"
     ]
    },
    {
     "name": "stderr",
     "output_type": "stream",
     "text": [
      "\r 91%|█████████ | 1540/1689 [3:17:01<07:22,  2.97s/it]"
     ]
    },
    {
     "name": "stdout",
     "output_type": "stream",
     "text": [
      "1540 : 바비큐 존맛이고 안내해주시는 사장님이 너무 친절하십니다.\n"
     ]
    },
    {
     "name": "stderr",
     "output_type": "stream",
     "text": [
      "\r 91%|█████████ | 1541/1689 [3:17:01<05:46,  2.34s/it]"
     ]
    },
    {
     "name": "stdout",
     "output_type": "stream",
     "text": [
      "1541 : 이 지역에 이 정도면 최고라고 생각함\n"
     ]
    },
    {
     "name": "stderr",
     "output_type": "stream",
     "text": [
      "\r 91%|█████████▏| 1542/1689 [3:17:41<32:57, 13.45s/it]"
     ]
    },
    {
     "name": "stdout",
     "output_type": "stream",
     "text": [
      "1542 : 인생 첫 캠핑지. 정말 후회 없는 선택, 재방문 의사 100% 올라가는 길. 완전 산길 외길, 양 방향 차 피할 곳 없어 초난감. 게다가 시간상 캠핑지 오르는 길이나 캠핑장 안에서 저녁거리를 조달하려 했지만, 오는 길은 아무것도 없는 진짜 산길이고 캠핑장에는 라면밖에 없었음 ㅜ. 외길 산길을 다시 내려가서 올르 자신도 없고 해서 고대하던 캠핑 저녁식사를 라면으로 ㅜ. 그렇지만 캠핑을 달가워하지 않고 구러가던 가족들 불만을 싹 잠재운 장소, 너무 고요하고 예쁜 산속 전경과 걱정했던 모기 하나도 없었음ㅡ여쳐보니 8월 말이라 그렇다 하심. 사이트 간격도 마음대로라 우리 장소는 거의 단독 캠 기분이라 너무 좋았음. 그리고 캠핑을 구구며 유튜브에서 봤던 것이 모든 감성 캠핑 모습이 박물관처럼 자연된 프로 캠퍼들의 캠 매너와ㅡ혹시라도 우왕좌왕 저희 때문에 불편하셨다면 죄송합니다. 샤워장과 화장실 모두 보기보다 깔끔. 심지어 막 싸구려 물 비누도 아닌, 초코가는 아니지만 나쁜 물질 없는 만족스러운 핸드솝도 비치되어 있음. 캠핑장 지기는 강아지, 유연한 마나 산토끼, 돌탑 지끼미 다람쥐. 주말에서 내려주시는 커피 맛과 안내 담당 캠핑장 지기의 썩을썩을 인상 좋은 묘장 아저씨, 우식 맛집기 모닝 산책길에 마나서 이런저런 캠핑장 내려와 자연 환경 설명과 함께 예쁜 단일과 너무 귀여운 손주 사진도 보여주신 실장 이모님. 너무 멋있는 자연 그대로 우식 맛집이를 지키고 있는 멋진 손나무 할아버지. 어느 것 하나 사랑스럽지 않은 게 없는 캠핑장 그중 제일은 잠깐의 시간이었지만 목격된 개똥벌레와 소아지는 별들의 고요한 밤 하늘, 지금 그대로의 모습으로 남아 있길. 딱 한 가지, 오는 산길 양방통행 개선과 주막 비치 고기 오맵.\n"
     ]
    },
    {
     "name": "stderr",
     "output_type": "stream",
     "text": [
      "\r 91%|█████████▏| 1543/1689 [3:17:45<26:15, 10.79s/it]"
     ]
    },
    {
     "name": "stdout",
     "output_type": "stream",
     "text": [
      "1543 : 가격은 저렴한데 예약하고 요청 사항을 제대로 전달하지 않으면 낮에 건물에 가려서 밤이 되는 광경을 체험할 수 있으니 조심하세요. 장점은 월요일에 체크인하면 차하면 업그레이드를 받을 수 있습니다.\n"
     ]
    },
    {
     "name": "stderr",
     "output_type": "stream",
     "text": [
      "\r 91%|█████████▏| 1544/1689 [3:18:04<32:05, 13.28s/it]"
     ]
    },
    {
     "name": "stdout",
     "output_type": "stream",
     "text": [
      "1544 : 호텔이라기보다는 가족경 리조트 같은 느낌이 강한 곳입니다. (실제로 아이들을 동반한 가족 분들이 많습니다!) 주변에 이케아, 롯데 프리미엄 아울렛, 롯데월드가 있어서 걸어가기에 좋습니다. 오픈한 지 얼마 안 되어 객실도 깨끗해요. 단, 먼지는 좀 많아요. 그리고 객실이 호텔 느낌보다는 생활형 숙박시설 같은 느낌이 강합니다. 하지만 4개뿐인 엘리베이터 이용이 상당히 불편하여 이동에 많은 시간이 소요됩니다. (기본 10분 이상?! 오션뷰 웨 룸은 뷰라고 할 게 없습니다. 저부한 사진은 6층에서 바라본 뷰입니다. 연박 시 청소는 오전 7-11시 사이에만 된다고 합니다. 오후 3시경 청소 요청했는데 안 된다고 합니다. tip. 마티에 어플을 이용하면 어플로 체크인이 가능하니 3시에 되면 어플로 바로 체크인하세요. 방이 금방 나갑니다. 저는 전반적으로 재방문 의사가 없습니다!\n"
     ]
    },
    {
     "name": "stderr",
     "output_type": "stream",
     "text": [
      "\r 91%|█████████▏| 1545/1689 [3:18:10<26:29, 11.04s/it]"
     ]
    },
    {
     "name": "stdout",
     "output_type": "stream",
     "text": [
      "1545 : 가격 대비 너무 별로예요. 진짜 황당한 룸 컨디션.. 곰팡이 냄새, 이 거 안 맞는 장판, 창문도 잘 안 닫히고, 더러운 의자, 심지어 이불에 붙어 있던 덴달 마스크.. ㅜㅜ 진짜 비위 상하고 최악이었음.\n"
     ]
    },
    {
     "name": "stderr",
     "output_type": "stream",
     "text": [
      "\r 92%|█████████▏| 1546/1689 [3:18:12<19:56,  8.37s/it]"
     ]
    },
    {
     "name": "stdout",
     "output_type": "stream",
     "text": [
      "1546 : 친절했고, 깨끗했고, 조용했습니다. 다만 제가 카페트 바닥이 걸 너무 싫어해서 ㅠ\n"
     ]
    },
    {
     "name": "stderr",
     "output_type": "stream",
     "text": [
      "\r 92%|█████████▏| 1547/1689 [3:18:16<16:23,  6.92s/it]"
     ]
    },
    {
     "name": "stdout",
     "output_type": "stream",
     "text": [
      "1547 : 뷰도 예쁘고 다 흰색인데도 너무 깨끗하고 직원분들도 친절하세요. 뷰 때문에라도 다시 꼭 오고 싶습니다. 재방문의사 100%예요!!\n"
     ]
    },
    {
     "name": "stderr",
     "output_type": "stream",
     "text": [
      "\r 92%|█████████▏| 1548/1689 [3:18:24<16:59,  7.23s/it]"
     ]
    },
    {
     "name": "stdout",
     "output_type": "stream",
     "text": [
      "1548 : 입구는 평범했으나 안으로 들어가 보니 깜짝 놀랐습니다. 탁 트인 바다와 넓은 솔밭, 마당 수영장, 이국적인 펜션 풍경이 참 좋네요. 이번에는 모임에서 왔는데 가족끼리 다시 와야겠어요. 삼척은 좀 멀어서 못 왔었는데, 덕풍계곡, 레일바이크, 장고항… 영운 가고 오면 좋겠어요. 방에서 본 일출 짱면 한 짱^^\n"
     ]
    },
    {
     "name": "stderr",
     "output_type": "stream",
     "text": [
      "\r 92%|█████████▏| 1549/1689 [3:18:26<13:13,  5.67s/it]"
     ]
    },
    {
     "name": "stdout",
     "output_type": "stream",
     "text": [
      "1549 : 아름다운 곳이었어요~ 방에서 일출도 편하게 보고, 오랜만에 제대로 여행하고 왔어요.\n"
     ]
    },
    {
     "name": "stderr",
     "output_type": "stream",
     "text": [
      "\r 92%|█████████▏| 1550/1689 [3:18:38<17:36,  7.60s/it]"
     ]
    },
    {
     "name": "stdout",
     "output_type": "stream",
     "text": [
      "1550 : 8월 8일-9일 302호에 묵었습니다. 가자마자 사장님께서 상세 설명해 주시고, 계단부터 향긋한 방향제 냄새가 나더라고요. 방에 들어서니 너무 깨끗하고 아기자기하더라고요. 뷰도 말할 것 없이 좋았어요. 비가 오는 중에도 수영복을 갈아입고 바다에 뽀뽀했네요. 모래도 고고, 바다도 깨끗하고, 이번 펜션 선택은 정말 잘한 것 같아요. 비가 와서 바비큐를 못 해 아쉽기는 했지만, 정말 즐겁게 지내다 왔습니다. 다음에 가족들과 다시 놀러 갈게요~\n"
     ]
    },
    {
     "name": "stderr",
     "output_type": "stream",
     "text": [
      "\r 92%|█████████▏| 1551/1689 [3:19:02<28:56, 12.58s/it]"
     ]
    },
    {
     "name": "stdout",
     "output_type": "stream",
     "text": [
      "1551 : 3/9 파티룸 예약하셨던 분의 탈입니다. 동생 결혼식 후 친척들과 뒷풀이 장소로 어마가 어플에서 예약하셨는데, 기준 인원 2인 최대 인원 10인 확인 안 한 잘못이 제일 크지만 이미 40만 원 넘게 주고 예약하지라 한 명당 2만 원씩이나 추가하기도 부담이어서 실랑이가 있다가 결국 친척들은 구경도 못해봤고, 그대로 방 날리기는 아쉬워서 사촌 동생 내외가 2명이서 묵었는데 예약자와 다른 사람이 숙박한다며 주거침입이라고 하는 건 그냥 고장 풀린 거 아닌가요? 밤 12시를 넘은 시간에 말이에요. 덕분에 경찰 부르고 난리였다가 경찰에서 소비자 고발 센터 얘기하시니 그제서야 그 둘 묵어도 된다고 후기를 잘 써달라고 하더라고요ㅋ 그런 식으로 후기 작성해서 얼마나 장사 잘 될지 모르겠지만, 유돌이 있게 좋은 추억 남길 수 있게 좀 도와주셨으면 좋겠습니다. 주변에 제 친구고 동생 친구고 결혼하는 친구 많은데 뒷풀이 장소로 딱이라곤 소개도 많이 시켜줬을 텐데, 유연하지 못한 대처와 눈앞의 욕심으로 많은 고객을 잃으신 것 같네요. 파티룸 예약하실 분들 참고하시면 좋겠네요.\n"
     ]
    },
    {
     "name": "stderr",
     "output_type": "stream",
     "text": [
      "\r 92%|█████████▏| 1552/1689 [3:19:11<26:02, 11.40s/it]"
     ]
    },
    {
     "name": "stdout",
     "output_type": "stream",
     "text": [
      "1552 : 이용한 지 조금 지났는데, 프리미엄 오션 센터 804호를 이용했어요! 원래 호수 잘 기억 못하는데, 노을 질 때 그 뷰가 너무 예뻐서 다음에도 이 호수 이용하고 싶어서 기억하고 있다니다 :) 글론댓 뷰는 너무너무 예쁜데, 창문이 조금 더 깨끗했으면 좋겠어요! 직원분들도 바쁘신데도 잘 응대해 주셨고, 기분 좋게 머물다 가요 :-)\n"
     ]
    },
    {
     "name": "stderr",
     "output_type": "stream",
     "text": [
      "\r 92%|█████████▏| 1553/1689 [3:19:13<19:42,  8.70s/it]"
     ]
    },
    {
     "name": "stdout",
     "output_type": "stream",
     "text": [
      "1553 : 시설이 좋은 편은 아니지만 깨끗하게 관리되어 좋습니다. 근방에 올 일이 있으면 꼭 여기서 쉬어갑니다.\n"
     ]
    },
    {
     "name": "stderr",
     "output_type": "stream",
     "text": [
      "\r 92%|█████████▏| 1554/1689 [3:19:43<33:45, 15.01s/it]"
     ]
    },
    {
     "name": "stdout",
     "output_type": "stream",
     "text": [
      "1554 : 전 투숙객이었는데, 여긴 호텔 사장 아들이 매니저로 있습니다. 그런데 그 매니저란 사람이 손님을 하대하고 갑질이 독하 넘습니다. 마스크를 다 안 썼다 이유로 예약자 여성에게 협박지와 완장질을 하고 경찰까지 불러서 쫓아내는 것을 봤습니다. 어느 호텔을 가도 더 이상 마스크 완장지는 안 하는데, 지나가다 어느 남성분과 여성을 높여 사우는 걸 보니 단지 마스크 가지고 그런 거더군요. 더군다나 이 호텔은 온천 목욕탕을 건너편에 같이 하고 있습니다. 당연히 그 안에서 아무도 마스크를 안 쓰고. 카드키 열딩꺼만 봐도 전 세계가 이미 아무도 안 쓰고, 효용성 문제로 다음 달부터 마스크 해체한다고 충대본 발표까지 있었는데, 굳이 마스크로 끝까지 완장질을 하는 모습이 손님을 대상으로 오너 자식이 갑질을 하는 것밖에 안 보이더군요. 또 그 매니저분이 여성분에게 \"자기한테 이렇게 해서 당신에게 이로울 것이 없다\"고 협박을 하더군요. 손님들도 전부 마스크 벗고 싶은 생각이 겁니다. 저도 그러니깐요. 그 매니저의 완장질을 보니 다시 가기 싫었구요. 민간인이 민간인한테 마스크로 완장질이나 하고 제대로 다시 안 가려고 합니다. 더욱 어이가 없던 건 사우는 걸 보고 올라가니 청소하는 아줌마들은 마스크 쓰는 사람이 없더군요. 여긴 사장 아들이 매니저로 인해 바이브가 안 좋은 곳입니다. 절대 가려히 비추합니다. 가시면 종업원들 눈치를 오히러 손님이 보게 만드는 곳입니다. 하여간 그 호텔 사장 아들이란 매니저분 문제가 많아 보입니다. 여기 절대 가지 마세요.\n"
     ]
    },
    {
     "name": "stderr",
     "output_type": "stream",
     "text": [
      "\r 92%|█████████▏| 1555/1689 [3:19:48<26:51, 12.03s/it]"
     ]
    },
    {
     "name": "stdout",
     "output_type": "stream",
     "text": [
      "1555 : 치명적인 강아지 동이가 손님을 반겨줍니다. 오토캠핑장이라고 생각하면 부족함이 있어 뷰이겠지만, 모장에서 잡아가는 컨셉이 다 내려놓고 조용한 곳에서 동물들과 풍경을 감상하며 힐링해보세요.\n"
     ]
    },
    {
     "name": "stderr",
     "output_type": "stream",
     "text": [
      "\r 92%|█████████▏| 1556/1689 [3:19:56<23:56, 10.80s/it]"
     ]
    },
    {
     "name": "stdout",
     "output_type": "stream",
     "text": [
      "1556 : 8월 15일 다른 숙소 이용 불가로 방이 없어서 성수기에 패밀리 스위트룸에 묵게 되었는데, 시트 관리를 안 하는 건지 알레르기로 엄청 고생했어요. 직원에게 사과는 받았지만 몇십만 원씩 주고 들어간 방에서 이게 무슨 일인지 욕실에 샤워기에서 더러운 이물질까지... 여긴 아닌 것 같네요. 다리에 등들려기로 종일 고생했네요.\n"
     ]
    },
    {
     "name": "stderr",
     "output_type": "stream",
     "text": [
      "\r 92%|█████████▏| 1557/1689 [3:19:57<17:30,  7.96s/it]"
     ]
    },
    {
     "name": "stdout",
     "output_type": "stream",
     "text": [
      "1557 : 신라스테이 삼성 오픈 축하드립니다!!~~\n"
     ]
    },
    {
     "name": "stderr",
     "output_type": "stream",
     "text": [
      "\r 92%|█████████▏| 1558/1689 [3:19:59<13:20,  6.11s/it]"
     ]
    },
    {
     "name": "stdout",
     "output_type": "stream",
     "text": [
      "1558 : 직원분들이 친절하시고, 오션 뷰가 좋았습니다!!!!\n"
     ]
    },
    {
     "name": "stderr",
     "output_type": "stream",
     "text": [
      "\r 92%|█████████▏| 1559/1689 [3:20:01<10:16,  4.74s/it]"
     ]
    },
    {
     "name": "stdout",
     "output_type": "stream",
     "text": [
      "1559 : 뷰가 너무 예뻐요! 광안리를 즐기기에 가장 좋은 선택.\n"
     ]
    },
    {
     "name": "stderr",
     "output_type": "stream",
     "text": [
      "\r 92%|█████████▏| 1560/1689 [3:20:15<16:19,  7.60s/it]"
     ]
    },
    {
     "name": "stdout",
     "output_type": "stream",
     "text": [
      "1560 : 무개념들이 밤늦게부터 새벽 늦게까지 노는 건지 뭘 하는 건지 몰라도, 의자 삐걱거리는 소리가 들려서 잠을 설쳤다. 잠들려고 하면 의자 끄는 소리가 들리고, 또 다른 소리도 들리고;; 저 방음이 많이 부족해서 자는 둥 마는 둥 함. 투숙객 비매너가 문제겠지만, 그 소리가 아랫방까지 들리게 방음 시설을 해놓은 게 더 문제인 듯:: 오션도 좋지만 방음도 시설이 우선되어야 하지 않나??? 무거운 의자도 힘들게 옮겨오려야 소리가 나지 않고, 무겁다고 찍찍 끌면 이웃 투숙객들이 수면에 방해가 된다는 건 한구끼 아무리 매너 수준이 떨어진다 해도 하고와 가정 사회에서 철저히 교육시켜야 함(의자 교체 필수);;\n"
     ]
    },
    {
     "name": "stderr",
     "output_type": "stream",
     "text": [
      "\r 92%|█████████▏| 1561/1689 [3:20:24<16:56,  7.94s/it]"
     ]
    },
    {
     "name": "stdout",
     "output_type": "stream",
     "text": [
      "1561 : 일단 위치가 너무 좋아요~~ 맛집도 많고 어디든 갈 수 있고, 교통이 편하고 좋았네요. 또 엾지나 친절하신지 3박을 했는데 방도 업그레이드해 주셔서 집처럼 편하게 지냈어요. 그런데 두 사람에게는 처음부터 키를 두 개 주셨어으면 좋았을 것인데~~ 가기 전날 주셨네요. 패밀리 트윈룸 너무 넓고 좋았어요. 욕실도 커서 스파도 했답니다.\n"
     ]
    },
    {
     "name": "stderr",
     "output_type": "stream",
     "text": [
      "\r 92%|█████████▏| 1562/1689 [3:20:31<16:33,  7.83s/it]"
     ]
    },
    {
     "name": "stdout",
     "output_type": "stream",
     "text": [
      "1562 : 주변에 아무것도 없어서 끝에 좀 아쉽지만, 그 덕분에 노천탕을 편하게 즐길 수 있는 것 같음 ㅎㅎ 시설도 깔끔하고 청결한데 주말에 히노끼탕까지 있어서 저렴한 가격으로 이용 가능하다는 게 진짜 큰 메리트인 듯  주변에 뭐가 없어도 가성비에 히노끼탕을 이용할 수 있으니 여긴 무조건 또 가고 싶은 곳 !!\n"
     ]
    },
    {
     "name": "stderr",
     "output_type": "stream",
     "text": [
      "\r 93%|█████████▎| 1563/1689 [3:20:32<12:09,  5.79s/it]"
     ]
    },
    {
     "name": "stdout",
     "output_type": "stream",
     "text": [
      "1563 : 젊은 남직원 교육 좀 시켜라.\n"
     ]
    },
    {
     "name": "stderr",
     "output_type": "stream",
     "text": [
      "\r 93%|█████████▎| 1564/1689 [3:20:34<09:32,  4.58s/it]"
     ]
    },
    {
     "name": "stdout",
     "output_type": "stream",
     "text": [
      "1564 : 깔끔하고 조식도 먹고 세탁실도 고인이 아니고 잘 쉬다 갑니다.\n"
     ]
    },
    {
     "name": "stderr",
     "output_type": "stream",
     "text": [
      "\r 93%|█████████▎| 1565/1689 [3:20:38<09:01,  4.37s/it]"
     ]
    },
    {
     "name": "stdout",
     "output_type": "stream",
     "text": [
      "1565 : 악평이 많아서 걱정했는데, 그닥 위생에 민감하지 않으면 나쁘지 않아요. 그냥 오래된 호텔이라 생각하고 오시면 되요. 근데 모기는 자꾸 어디서 들어오는지 모르겠음...\n"
     ]
    },
    {
     "name": "stderr",
     "output_type": "stream",
     "text": [
      "\r 93%|█████████▎| 1566/1689 [3:20:47<11:34,  5.64s/it]"
     ]
    },
    {
     "name": "stdout",
     "output_type": "stream",
     "text": [
      "1566 : 최근 하자마자 들어가 TV장 위에 머리카락이 남 반기고 침대 위 머리카락과 정체 모를 털이 한 번 더 반겨줌,,,, 덥고 뭐하고 이불 덮으려 보니 리스팅 자국이 있어 여기저기 살펴보니 침구류 교체를 안 한 건지 생탁을 잘 안 한 건지 정말 더러더러했음,,,, + 인터넷 순화기 놓는 곳도 때가 가득,, 정말 후다닥 이용할 것만 이용하고 나온 곳임.. 후우….\n"
     ]
    },
    {
     "name": "stderr",
     "output_type": "stream",
     "text": [
      "\r 93%|█████████▎| 1567/1689 [3:20:50<10:26,  5.13s/it]"
     ]
    },
    {
     "name": "stdout",
     "output_type": "stream",
     "text": [
      "1567 : 친구랑 둘이 로맨틱 오션터치 방에서 하루 쉬어가습니다. 시설이 전부 깨끗하고 옥상 루프탑이 사진 찍기에 정말 좋았습니다. 굉장히 만족스러웠습니다.\n"
     ]
    },
    {
     "name": "stderr",
     "output_type": "stream",
     "text": [
      "\r 93%|█████████▎| 1568/1689 [3:20:53<09:00,  4.47s/it]"
     ]
    },
    {
     "name": "stdout",
     "output_type": "stream",
     "text": [
      "1568 : 하루만 있었던 게 아쉬웠던 곳이에요..ㅠ 다음에 2박 3일로 다시 오고 싶으네요ㅠㅠ\n"
     ]
    },
    {
     "name": "stderr",
     "output_type": "stream",
     "text": [
      "\r 93%|█████████▎| 1569/1689 [3:20:56<07:53,  3.95s/it]"
     ]
    },
    {
     "name": "stdout",
     "output_type": "stream",
     "text": [
      "1569 : 한강 뷰 맛집~!! 신라호텔은 발렛할 때 복잡복잡한데 여기는 한강해서 좋았습니다~!!\n"
     ]
    },
    {
     "name": "stderr",
     "output_type": "stream",
     "text": [
      "\r 93%|█████████▎| 1570/1689 [3:21:03<09:24,  4.75s/it]"
     ]
    },
    {
     "name": "stdout",
     "output_type": "stream",
     "text": [
      "1570 : 아름다운 풍경이 앞뒤로 보여 행복해요. 거기다 이용료 무료! 화로 사용 금지, 부스 다 가능, 전기사용 없음, 샤워실 없음, 개수대와 화장실 있음. 데크(32곳) 이동 시 그늘 필요! 짐 옮기는 분, 데크마다 테이블 하나씩 기본으로 넘 좋아요!\n"
     ]
    },
    {
     "name": "stderr",
     "output_type": "stream",
     "text": [
      "\r 93%|█████████▎| 1571/1689 [3:21:05<08:01,  4.08s/it]"
     ]
    },
    {
     "name": "stdout",
     "output_type": "stream",
     "text": [
      "1571 : 그 돈 주고 여기 갈 바에야.. 돈값은 못했는데, 일단 새 건물이라 룸 컨디션은 좋았어요.\n"
     ]
    },
    {
     "name": "stderr",
     "output_type": "stream",
     "text": [
      "\r 93%|█████████▎| 1572/1689 [3:21:08<07:00,  3.59s/it]"
     ]
    },
    {
     "name": "stdout",
     "output_type": "stream",
     "text": [
      "1572 : 너무너무 더러워요. 머리카락과 먼지 투성이입니다. 화장실이 너무 작아서 이용하기도 힘들어요.\n"
     ]
    },
    {
     "name": "stderr",
     "output_type": "stream",
     "text": [
      "\r 93%|█████████▎| 1573/1689 [3:21:10<06:01,  3.11s/it]"
     ]
    },
    {
     "name": "stdout",
     "output_type": "stream",
     "text": [
      "1573 : 방음이 1도 안 돼요. 옆방 말소리랑 물 내리는 소리까지 다 들려요.\n"
     ]
    },
    {
     "name": "stderr",
     "output_type": "stream",
     "text": [
      "\r 93%|█████████▎| 1574/1689 [3:21:52<28:29, 14.86s/it]"
     ]
    },
    {
     "name": "stdout",
     "output_type": "stream",
     "text": [
      "1574 : 오랜만에 찾은 부산! 서면 번화가를 조금 벗어나서 약간 저렴하게 잡고자 선택한 호텔인데...  1. 오래된 객실 같아 군데군데 설비 불량. 세면대는 실내에 있는데 물이 새서 손만 씻어도 바닥에 물이 흥건! 오후 늦은 시간이 되면 약간 선눌해서 보일러 꺼 달라고 했지만 알겠다고 하고 조치를 취한 건지 밤새 추워 손 이불 푹 덮고 잤네요. 에어바가 여긴 설비 인원 전혀 없는 것 같다고 하네요.  2. 객실 청소 때문에 체크인 4시 아닌가?! 고개를 카운트할 만큼 바닥은 군데군데 끈적거려 발이 한 데포 늦게 떨어져고, 구비된 가구 먼지가 심해 옷까지랑오 옷여놓으려니 청소 다 해야 할 듯하여 비닐 깔고 대충 적재했습니다. 따로 구비된 샤워실 욕조는 사진에 보듯이 곰팡이 투성, 욕조는 언젠가 닦은 건가?! 할 정도여서 최대한 샤워는 안 하는 방향으로 ㅠㅠ  3. 객실에 거울이 없어 에어팡은 그냥 감으로 드라이... 난 최대한 각도를 맞춰 애기 손바닥만한 휴대용 거울 보며 머리 하나라 아침부터 찐 팠고...! 프론트에 문의하니 거울 같은 거 준비된 것 없으니 알아서 자체 해결하란네요~ 죄송하다며~ㅎ  4. 불윈합게도 환불이 안 되는 예약인지라... 다음 날 객실 청소 부탁했더니, 주말은 또 객실 청소 서비스가 안 된다네요~~ 박박 의 책임함며 해달라고 요청, 그제서야 죄송하다며 수락 ㅎ 대박!! (참고로 저희 호텔스 닷컴을 이용해 예약했는데 1박에 4.6만원 줬지만 아고다는 2만원 반이라면 가능했네요. 아~~ 진짜 여러 가지로 이번 여행은 폭망!!) 정말 뭔가를 해결해줄 생각이 없는 호텔 주인과 스텝이 들합니다~! 잘 참고하시어 투숙 결정하세요~. 왜 평점과 평가는 반은 맞고, 반은 들리는지~, 여행에서 그런 평가를 보고 기라잡히할 수밖에 없는데 나름 각자가 그 평가나 점수를 내줘하게 보려는 각자의 기준이 있어야 할 것 같아요 ㅠㅠㅠ\n"
     ]
    },
    {
     "name": "stderr",
     "output_type": "stream",
     "text": [
      "\r 93%|█████████▎| 1575/1689 [3:21:55<21:40, 11.40s/it]"
     ]
    },
    {
     "name": "stdout",
     "output_type": "stream",
     "text": [
      "1575 : 룸 컨디션 좋아요. 친절하시고 인테리어도 굿~ 잘 쉬다 왔어요. 무료 조식으로 나온 샌드위치도 맛있었어요.\n"
     ]
    },
    {
     "name": "stderr",
     "output_type": "stream",
     "text": [
      "\r 93%|█████████▎| 1576/1689 [3:22:00<17:43,  9.42s/it]"
     ]
    },
    {
     "name": "stdout",
     "output_type": "stream",
     "text": [
      "1576 : 영도나 남포동을 여행하려고 생각한다면 무조건 라발스호텔입니다. 뷰 맛집!! 가성비 오징어 호텔. 남포동 영도 근처에서 이 정도의 호텔은 없을 것 같네요. 다시 이용할 계획 100%입니다.\n"
     ]
    },
    {
     "name": "stderr",
     "output_type": "stream",
     "text": [
      "\r 93%|█████████▎| 1577/1689 [3:22:08<16:35,  8.89s/it]"
     ]
    },
    {
     "name": "stdout",
     "output_type": "stream",
     "text": [
      "1577 : 가족과 함께 호텔과 아쿠아 시설을 잘 이용했습니다. 아쿠아 시설이 아이들과 즐기기에 좋습니다. 물 온도도 활동하기에 적절하고, 사나나에서도 바다와 광안대교가 잘 보입니다. 저녁에는 바다 야경도 볼 만합니다. 아이들과 바닷가에서 저녁에 산책하기도 좋습니다. 바다 바로 앞이어서 여러 가지 즐기기가 좋습니다. 가족 여행지로 추천합니다!\n"
     ]
    },
    {
     "name": "stderr",
     "output_type": "stream",
     "text": [
      "\r 93%|█████████▎| 1578/1689 [3:22:12<13:50,  7.48s/it]"
     ]
    },
    {
     "name": "stdout",
     "output_type": "stream",
     "text": [
      "1578 : 진짜 별점 하나도 아깝습니다. 리뷰 쓰려고 별 하나 어쩔 수 없이 줍니다. 저 리뷰 쓰 보세요, 하나입니다. 저 진짜 이런 거 절대 안 적습니다. 모두를 위해 이렇게 적습니다. 가지 마세요.\n"
     ]
    },
    {
     "name": "stderr",
     "output_type": "stream",
     "text": [
      "\r 93%|█████████▎| 1579/1689 [3:22:43<26:35, 14.50s/it]"
     ]
    },
    {
     "name": "stdout",
     "output_type": "stream",
     "text": [
      "1579 : 7월 18일-19일 402호에서 하루 묵었습니다. 평소 양양 바다만 즐겨 찾다가 처음으로 속초 쪽에 간 건데 상당히 만족스럽습니다. 비성수기-준성수기 시즌이라 그런지 주차장도 잘 썼고, 오션뷰는 정말 흡족했습니다. 도보 5분 거리에 속초 해수욕장 및 식당가가 있고, 차로 5분만 나가면 바다 향기로 갈 수 있습니다. 물놀이하고 입실 전 손발 씻을 수 있는 수돗시설이 입구에 있고, 그 옆으로 단체 바비큐장이 있었습니다. 우리 부부는 저녁식사는 밖에서 해결하고, 다음 날 체크아웃 전 편의점 음식으로 식사해서 불편한 건 없었습니다. 객실 복도 끝에 정수기가 있어서 물 살다 먹지 않아 편했습니다. 침대가 푹신하고 편해 디슈먼했고, 새벽이 되면 바다 목이 찜투 이헤미 있으니 테라스문은 꼭 닫으셔야 해요. 냉방은 빵빵하고 방은 깨끗한 편이었습니다. 주방 용품은 컵, 수저 이외에 사용한 것이 없어 남며지는 체크하지 못했고, 욕실에는 바디워시, 샴푸, 트리트먼트, 치약, 폼 클렌저, 샤워 타올이 있었습니다. 칫솔만 개인적으로 챙겨갔습니다. 불편한 점이 없어 체크인, 체크아웃 때 사장님을 볼 일이 없었는데, 그만큼 마주칠 일이 없고 가서 없이 마음 편히 지냈습니다. 무엇보다 펜션 앞으로 속초 해수욕장으로 이어지는 안전한 도보 길과 또 보고 싶은 오션뷰, 이 두 가지가 가장 큰 강점입니다. 개인적으로 속초 방문 시 다시 이용할 것 같습니다.\n"
     ]
    },
    {
     "name": "stderr",
     "output_type": "stream",
     "text": [
      "\r 94%|█████████▎| 1580/1689 [3:22:44<18:58, 10.44s/it]"
     ]
    },
    {
     "name": "stdout",
     "output_type": "stream",
     "text": [
      "1580 : 깨끗하고 직원들이 친절하네요.\n"
     ]
    },
    {
     "name": "stderr",
     "output_type": "stream",
     "text": [
      "\r 94%|█████████▎| 1581/1689 [3:22:51<17:12,  9.56s/it]"
     ]
    },
    {
     "name": "stdout",
     "output_type": "stream",
     "text": [
      "1581 : 호텔 아니고 모텔! 좀 낡아서 리모델링 하나씩 하는 중인 듯? 화장실 팬 소음 엄청나ㅎ 배수구 물 안내려감ㅎ 주차 공간 부족하다더니 따로 주차비 받거나 따로인 곳보단 괜찮.. 생각보다 친절..? 그렇지만 낡은 모텔을 20 가까이 주고 묵기엔ㅜ 해운대 시내라는 메리트 외엔..\n"
     ]
    },
    {
     "name": "stderr",
     "output_type": "stream",
     "text": [
      "\r 94%|█████████▎| 1582/1689 [3:23:23<28:54, 16.21s/it]"
     ]
    },
    {
     "name": "stdout",
     "output_type": "stream",
     "text": [
      "1582 : 일단은 엄청 추워요. 창문이 닫혀 있는데도 바람이 계속 들어와요. 처음에 물 2개, 수건 2개가 있어요. (수건도 엄청 작아요.) 2일, 3일을 숙박해도 물은 첫날만 무료예요. (2개) 그 이상은 모두 직접 사서 마셔야 합니다. (칫솔도 사야 함) 전화로 물, 수건 가져다 달라고 했어요. 이곳은 가져다주지 않는다고 하네요. 수건이 2개 밖에 없어서 수건을 모두 사용하고 가져다 달라고 했더니, 사용하던 수건을 가져오면 새로운 수건으로 교환해 준다고 하네요. 이런 서비스 호텔은 처음 보네요. 딱 아기 수건처럼 알고 작은 수건 2개, 물 2개 있고, 새 수건 받고 싶으면 직접 가야 하고, 물도 2개 이상은 절대 안 주고 직접 새로 사야 합니다. 그리고 무조건 직접 가야 합니다. 제가 머물른 층이 8층이라면 1층 프론트로 가서 직접 받아야 해요ㅋㅋ 변기도 엄청 잘 막힙니다. 이 호텔 사용 첫날부터 변기가 막혀서 사용할 수가 없었습니다. 물론 변기가 잘 막힌다는 안내문이 붙어 있었기에 티슈 같은 것을 넣지도 않았습니다. 그냥 변기가 막혀서 내려가지를 않아요. 또한 엄청 춥습니다. 히터가 하나 있기는 한데, 밖에서 바람이 계속 들어와고 자는데 추웠어요. 시설도 안 좋고 서비스는 정말 엉망입니다. 그래요.. 칫솔, 물, 싸는 것까지는 이해할 수 있다고 치죠. 그런데 세상에 콜타짐만한 수건 달랑 2개 놓고, 직접 교환 받으러 오라는 호텔은 난생 처음 보네요. 그리고 카운터 아줌마 말투도 티틱하고 정말 한여튼 0점이에요.\n"
     ]
    },
    {
     "name": "stderr",
     "output_type": "stream",
     "text": [
      "\r 94%|█████████▎| 1583/1689 [3:23:28<22:29, 12.73s/it]"
     ]
    },
    {
     "name": "stdout",
     "output_type": "stream",
     "text": [
      "1583 : 시설이나 조식은 시그니엘에 비해 조금 떨어지지만, 직원들의 친절함이나 실외 수영장은 완벽했습니다. 특히 수영장이 지금까지 가 본 호텔 수영장 중에 제일 예쁘고 놀기 좋았어요 ㅎㅎ\n"
     ]
    },
    {
     "name": "stderr",
     "output_type": "stream",
     "text": [
      "\r 94%|█████████▍| 1584/1689 [3:23:30<16:45,  9.58s/it]"
     ]
    },
    {
     "name": "stdout",
     "output_type": "stream",
     "text": [
      "1584 : 작년에 왔고 올해 왔지만 매년 좋네요!!ㅎㅎ 내년에 또 올 것 같아요.\n"
     ]
    },
    {
     "name": "stderr",
     "output_type": "stream",
     "text": [
      "\r 94%|█████████▍| 1585/1689 [3:23:35<14:17,  8.24s/it]"
     ]
    },
    {
     "name": "stdout",
     "output_type": "stream",
     "text": [
      "1585 : 시위대가 아이들을 실어하라고 밤에는 북대 소리를, 아침에는 트롬bone을 틀어놓는데 믿지겠습니다. 소음 때문에 정상적인 숙박이 어려운 상태인데 호텔 측에서 해줄 수 있는 조치가 없다고 합니다. 숙박이 어려운데 영업은 왜 하는지?\n"
     ]
    },
    {
     "name": "stderr",
     "output_type": "stream",
     "text": [
      "\r 94%|█████████▍| 1586/1689 [3:23:50<17:41, 10.31s/it]"
     ]
    },
    {
     "name": "stdout",
     "output_type": "stream",
     "text": [
      "1586 : 시티뷰 제일 싼 걸로 전날에 급 예약하고 갔는데 시티뷰가 아니라 용두기 컵밥 뷰네요ㅎㅎㅎ 숙소는 작지만 잠만 자고 나오긴 괜찮아요~ 근데 물에서 나프탈렌? 냄새가 엄청 났어요. 이 닦고 씻으면서도 너무 냄새가 많이 나서 좀 힘들었습니다. 저는 물에 예민한 편도 아닌데 나프탈렌 냄새에 다시는 안 올 것 같아요,, 나가면 바로 앞에 해운대라 정말 해운대에서 놀고 잠만 자려면 추천ㅎㅎㅎ 주차는 타워 주차인데 놀다가 9시쯤 들어가니 자리가 없어서 차 타고 한 2-3분 정도 떨어진 곳에 별관 타워 주차장 지하에 주차하고 왔어요~ 체크아웃도 11시입니다!\n"
     ]
    },
    {
     "name": "stderr",
     "output_type": "stream",
     "text": [
      "\r 94%|█████████▍| 1587/1689 [3:23:54<13:59,  8.24s/it]"
     ]
    },
    {
     "name": "stdout",
     "output_type": "stream",
     "text": [
      "1587 : 친절하게 체크인도 도와주시고, 무엇보다 조식이 좋았습니다. 직원분이 친절하게 챙겨주시고, 가격 대비 급하게 1박 잘했습니다.\n"
     ]
    },
    {
     "name": "stderr",
     "output_type": "stream",
     "text": [
      "\r 94%|█████████▍| 1588/1689 [3:23:56<10:47,  6.41s/it]"
     ]
    },
    {
     "name": "stdout",
     "output_type": "stream",
     "text": [
      "1588 : 바다가 너무 예뻐요….ㅠ 매일 아침마다 보고 싶을 정도로 좋았다는….ㅠ\n"
     ]
    },
    {
     "name": "stderr",
     "output_type": "stream",
     "text": [
      "\r 94%|█████████▍| 1589/1689 [3:24:08<13:32,  8.13s/it]"
     ]
    },
    {
     "name": "stdout",
     "output_type": "stream",
     "text": [
      "1589 : 바닥 난방을 2시간 틀어놔도 안 따뜻했어요... 프론트도 전화 잘 안 받아요. 겨울 받으려 좀 봐달라고 했더니 기사가 와서 한 번 봐주시고 문제없다네요ㅠㅠ 잠가든 천장 에어컨 꺼주시고 가셨어요. 이층 사람이 아니라 그런지 웬풍이 너무 심하구요. 난방이 거의 안 되거나 정말 너무 느려요. 갓 건에 접시는 왜 치드칸 게 묻어 있을까요..? 한겨울에 안 가시임...ㅠㅠ (+5시간 동안 난방 59.9도로 맞추고 돌렸더니 그나마 좀 살겠네요..)\n"
     ]
    },
    {
     "name": "stderr",
     "output_type": "stream",
     "text": [
      "\r 94%|█████████▍| 1590/1689 [3:24:18<14:36,  8.85s/it]"
     ]
    },
    {
     "name": "stdout",
     "output_type": "stream",
     "text": [
      "1590 : 여름에 시원한 계곡을 찾는다면 여기 추천할게요. 계곡이 얼음물처럼 시원하고, 수심이 얕다(성인 무릎 정도) 아이들이 놀기에 최적입니다! 시설도 좋아요. 화장실은 깨끗하고, 샤워, 전자레인지, 튜브 바람 넣는 것, 전기사용, 와이파이까지 있습니다. 가격도 저렴하고 인파가 많은 해수욕장보다 계곡을 추천합니다. 솔밭 구역은 완전 그늘이고, 오도 구역은 차+텐트+타프 칠 정도로 사이트가 넓습니다.\n"
     ]
    },
    {
     "name": "stderr",
     "output_type": "stream",
     "text": [
      "\r 94%|█████████▍| 1591/1689 [3:24:21<11:14,  6.89s/it]"
     ]
    },
    {
     "name": "stdout",
     "output_type": "stream",
     "text": [
      "1591 : 자기 바쁘다고 문의도 성의가 없고, 오히려 손님한테 짜증을 풀리는 악덕입니다. 가지 마세요.\n"
     ]
    },
    {
     "name": "stderr",
     "output_type": "stream",
     "text": [
      "\r 94%|█████████▍| 1592/1689 [3:24:28<11:12,  6.93s/it]"
     ]
    },
    {
     "name": "stdout",
     "output_type": "stream",
     "text": [
      "1592 : 정말 더럽습니다. 시설도 후지고요. 싼 만큼 후지다고 생각하고 가시면 됩니다. 비데 리모컨도 안 달려 있고 바닥을 청소한지도 모르겠고 침구에서 냄새나고 샤워기에서 물도 제대로 나오지도 않아요. 이런 식으로 운영을 하는 게 맞는 건가 싶네요. 건물 겉만 번지르르하고 속은 썩었어요. 절대 가지 마시길...\n"
     ]
    },
    {
     "name": "stderr",
     "output_type": "stream",
     "text": [
      "\r 94%|█████████▍| 1593/1689 [3:24:29<08:13,  5.14s/it]"
     ]
    },
    {
     "name": "stdout",
     "output_type": "stream",
     "text": [
      "1593 : 주차 빼고는 다 좋은 것 같음.\n"
     ]
    },
    {
     "name": "stderr",
     "output_type": "stream",
     "text": [
      "\r 94%|█████████▍| 1594/1689 [3:24:30<06:19,  3.99s/it]"
     ]
    },
    {
     "name": "stdout",
     "output_type": "stream",
     "text": [
      "1594 : 지한 무드등 뷰이로구에 나옴~\n"
     ]
    },
    {
     "name": "stderr",
     "output_type": "stream",
     "text": [
      "\r 94%|█████████▍| 1595/1689 [3:24:34<06:29,  4.14s/it]"
     ]
    },
    {
     "name": "stdout",
     "output_type": "stream",
     "text": [
      "1595 : 펜션 선택이 좋았네요. 거실에서 바다가 보이니 너무 낭만적이었어요. 일출과 일몰을 보고 싶었지만 비가 와서 아쉬웠던 것 같아요. 하지만 비가 와도 나름 운치 있고 좋았습니다.\n"
     ]
    },
    {
     "name": "stderr",
     "output_type": "stream",
     "text": [
      "\r 94%|█████████▍| 1596/1689 [3:24:36<05:17,  3.42s/it]"
     ]
    },
    {
     "name": "stdout",
     "output_type": "stream",
     "text": [
      "1596 : 끈적지고 냄새 나는 옷에 좋은 스타일러비치! 그티닝당.\n"
     ]
    },
    {
     "name": "stderr",
     "output_type": "stream",
     "text": [
      "\r 95%|█████████▍| 1597/1689 [3:24:37<04:04,  2.66s/it]"
     ]
    },
    {
     "name": "stdout",
     "output_type": "stream",
     "text": [
      "1597 : 커피 마시러 종종 갑니다.\n"
     ]
    },
    {
     "name": "stderr",
     "output_type": "stream",
     "text": [
      "\r 95%|█████████▍| 1598/1689 [3:24:46<06:59,  4.61s/it]"
     ]
    },
    {
     "name": "stdout",
     "output_type": "stream",
     "text": [
      "1598 : 화장지 밑에 바로 휴지통이 있는 것만 빼면 다 좋았어요. 화장실도 샤워실도 취사장도 다 넓고 깨끗하며 시설도 잘 되어 있었어요. 어린이 도서관도 있구요. 애견 노린터도 있는데 어린이 놀이터는 없어요. 접근성도 좋아서 가까운 곳에 사는 시민으로 참 편하고 좋았어요. 바닷가라 전망도 좋고 밤에 산책하기도 좋아요. 집 나가면 고생이지만 즐거운 캠핑이었습니다.\n"
     ]
    },
    {
     "name": "stderr",
     "output_type": "stream",
     "text": [
      "\r 95%|█████████▍| 1599/1689 [3:24:48<05:50,  3.90s/it]"
     ]
    },
    {
     "name": "stdout",
     "output_type": "stream",
     "text": [
      "1599 : 강추하는 곳입니다. 설악산이랑도 차로 가깝고 시설도 이 정도 가격에 아주 훌륭합니다.\n"
     ]
    },
    {
     "name": "stderr",
     "output_type": "stream",
     "text": [
      "\r 95%|█████████▍| 1600/1689 [3:24:51<04:58,  3.35s/it]"
     ]
    },
    {
     "name": "stdout",
     "output_type": "stream",
     "text": [
      "1600 : 공사할 때 나는 나무의 거친 냄새가 힘들었어요. 주인분은 아주 친절하셨어요.\n"
     ]
    },
    {
     "name": "stderr",
     "output_type": "stream",
     "text": [
      "\r 95%|█████████▍| 1601/1689 [3:24:53<04:40,  3.19s/it]"
     ]
    },
    {
     "name": "stdout",
     "output_type": "stream",
     "text": [
      "1601 : 룸 컨디션이 국내 특급 호텔 이상으로 아주 깨끗하게 잘 관리되고 있어요. 직원분들은 모두 친절하고요. 믿을 만한 곳이에요.\n"
     ]
    },
    {
     "name": "stderr",
     "output_type": "stream",
     "text": [
      "\r 95%|█████████▍| 1602/1689 [3:25:16<13:03,  9.01s/it]"
     ]
    },
    {
     "name": "stdout",
     "output_type": "stream",
     "text": [
      "1602 : 1. 숙소에 딸린 풀장이 작습니다. 사실상 가족 목욕탕으로 보는 게 맞습니다. 순수 면적은 매트리스 두 개를 합친 거 될까 말까입니다. 4-5살까지는 잘 놀 듯합니다.   2. 도착해서 물 받기 시작하면 허리(최대 높이)까지 받으려고 할 때 4-5시간 걸렸던 듯합니다. 3시 체크인 하더라도 그날 물놀이 바로 하기 어려울 수 있습니다.   3. 따뜻한 물은 콸콸 잘 나오고 깨끗합니다.   4. 뷰가 좋아요. 숙소에서 해 뜨는 거 직방으로 보이는데 탁 트이고 좋았습니다.   5. 바베큐는 가스불에 불피 올려주십니다. 대하절이라 소금구이 해먹기 좋았는데 고기는 그냥 고기가 되어버린 건 좀 아쉽습니다.   6. 풀장 제외하고는 꽤 널찍했습니다. 깨끗하고요.   7. 엘리베이터가 없는데 계단도 가파라요. 아기가 있어서 유모차를 끌거나 짐이 많거나 어르신이 계시면 헬일 듯합니다. -> 가격을 낮추고 풀장이 없는 곳이면 오만하지만 이 가격에 풀장으로 기대하고 오기엔 아쉬웠습니다.\n"
     ]
    },
    {
     "name": "stderr",
     "output_type": "stream",
     "text": [
      "\r 95%|█████████▍| 1603/1689 [3:25:19<10:25,  7.27s/it]"
     ]
    },
    {
     "name": "stdout",
     "output_type": "stream",
     "text": [
      "1603 : 할 말이 많지만 하지 않겠습니다.. 야놀자 별점 낮은 순으로 보고들 가세요. 여사장의 말투가 신경질적입니다. 재방문의사 없음.\n"
     ]
    },
    {
     "name": "stderr",
     "output_type": "stream",
     "text": [
      "\r 95%|█████████▍| 1604/1689 [3:25:27<10:20,  7.30s/it]"
     ]
    },
    {
     "name": "stdout",
     "output_type": "stream",
     "text": [
      "1604 : 서비스 개판. 방이 넘치면서 레이트 체크아웃 요청해도 방이 딱 차서 안된다고 함ㅋㅋ 다른 곳은 안 그런데 유독 여기만 유난스러움. 코로나 1단계인데 샤워실도 안 됨. 어쩌지 2.5단계 안 되는 게 겁나 많음. 웰컴 드링크도 바뀌고 실망스러움.\n"
     ]
    },
    {
     "name": "stderr",
     "output_type": "stream",
     "text": [
      "\r 95%|█████████▌| 1605/1689 [3:25:30<08:28,  6.05s/it]"
     ]
    },
    {
     "name": "stdout",
     "output_type": "stream",
     "text": [
      "1605 : 비즈니스 호텔 그 자체입니다. 뷰는 그다기고 (앞에 건물이 많아요). 조식은 먹을 만 했는데 가격이 저렴하진 않네요.\n"
     ]
    },
    {
     "name": "stderr",
     "output_type": "stream",
     "text": [
      "\r 95%|█████████▌| 1606/1689 [3:25:31<06:15,  4.52s/it]"
     ]
    },
    {
     "name": "stdout",
     "output_type": "stream",
     "text": [
      "1606 : 깨끗하고 친절하며 위치가 좋고\n"
     ]
    },
    {
     "name": "stderr",
     "output_type": "stream",
     "text": [
      "\r 95%|█████████▌| 1607/1689 [3:25:32<04:46,  3.49s/it]"
     ]
    },
    {
     "name": "stdout",
     "output_type": "stream",
     "text": [
      "1607 : 혼자 지내기 좋아요! 깔끔해요.\n"
     ]
    },
    {
     "name": "stderr",
     "output_type": "stream",
     "text": [
      "\r 95%|█████████▌| 1608/1689 [3:25:35<04:29,  3.33s/it]"
     ]
    },
    {
     "name": "stdout",
     "output_type": "stream",
     "text": [
      "1608 : 캠핑, 펜션 같이 있었어. 가족 단위 가기 좋은 원주 두리캠핑장. 재방문의사 있음.\n"
     ]
    },
    {
     "name": "stderr",
     "output_type": "stream",
     "text": [
      "\r 95%|█████████▌| 1609/1689 [3:25:38<04:18,  3.23s/it]"
     ]
    },
    {
     "name": "stdout",
     "output_type": "stream",
     "text": [
      "1609 : 벽간 방음이 잘 안 되는 것 외에는 가성비 뛰어난 호텔입니다. 침구류도 깨끗했고, 프런트 직원분들도 친절했어요.\n"
     ]
    },
    {
     "name": "stderr",
     "output_type": "stream",
     "text": [
      "\r 95%|█████████▌| 1610/1689 [3:25:45<06:04,  4.61s/it]"
     ]
    },
    {
     "name": "stdout",
     "output_type": "stream",
     "text": [
      "1610 : 위치는 너무너무 좋아서 별 하나 더 줍니다. 청소 상태가 불결하고, 화장실에서 나는 냄새는 마치 습한 발랜 냄새 같습니다. 화장실에 여기저기 흗더져 있는 머리카락, 비어 있지 않은 커피포트, 먼지가 알레르기가 있는데, 머는 내내 재채기 증상을 거꾸로 먼지가 가득한 곳입니다. 비추천합니다 ㅠ 위치가 대박임에도 불구하고.\n"
     ]
    },
    {
     "name": "stderr",
     "output_type": "stream",
     "text": [
      "\r 95%|█████████▌| 1611/1689 [3:26:04<11:19,  8.71s/it]"
     ]
    },
    {
     "name": "stdout",
     "output_type": "stream",
     "text": [
      "1611 : 8시간 운전하고 도착한 오색온천장, 다정하게 반겨주시는 사장님 모습이 좋았습니다. 수많은 곳을 다녔지만 정말 깔끔하고 청결함에 큰 점수를 드립니다. 와이프가 깔끔쟁이라 청결하지 않으면 예약한 내가 조금 피곤하거든요. 만족했습니다. 오색 입산~대청봉~충청대피소~충청봉~끝청봉~한계령 삼거리~한계령 하산하여 택시로 이동해 다시 오색온천장에 도착해 사모님을 처음 보았어요. 예약할 때 목소리는 들어서 다정하고 친절함을 느꼈는데, 직접 만나 보니 더 친절하셨어요. 하루 더 자고 갈 수 있냐고 물어더니 다행히 방이 있어 가능했어요. 이틀 동안 감사했습니다. 아침에 나오면서 볼 수 없어 감사하다고 인사를 드리지 못해 이곳에서 인사를 대신할까 합니다. 정말 감사합니다. 기회 되면 또 뵙겠습니다. 건강하고 행복하세요. 멀면 목포에서 다녀간 손님입니다.\n"
     ]
    },
    {
     "name": "stderr",
     "output_type": "stream",
     "text": [
      "\r 95%|█████████▌| 1612/1689 [3:26:05<08:18,  6.48s/it]"
     ]
    },
    {
     "name": "stdout",
     "output_type": "stream",
     "text": [
      "1612 : 아무 때나 가도 괜찮은 시티 뷰.\n"
     ]
    },
    {
     "name": "stderr",
     "output_type": "stream",
     "text": [
      "\r 96%|█████████▌| 1613/1689 [3:26:11<08:03,  6.36s/it]"
     ]
    },
    {
     "name": "stdout",
     "output_type": "stream",
     "text": [
      "1613 : 조식 포함 예약했는데 체크인할 때도 아무 말 없더니, 조식을 먹으러 가니 평일은 선택 메뉴라고 하네요. 왜 체크인 할 때 안내가 없었냐고 했더니 직원은 웃기만 하네요. 코로나 때문에 평일이니까 그럴 수는 있다만, 안내는 잘 해줬으면 좋겠네요.\n"
     ]
    },
    {
     "name": "stderr",
     "output_type": "stream",
     "text": [
      "\r 96%|█████████▌| 1614/1689 [3:26:13<06:09,  4.92s/it]"
     ]
    },
    {
     "name": "stdout",
     "output_type": "stream",
     "text": [
      "1614 : 뷰는 말할 것도 없으며, 청결도 깨끗하고 최고의 숙소예요.\n"
     ]
    },
    {
     "name": "stderr",
     "output_type": "stream",
     "text": [
      "\r 96%|█████████▌| 1615/1689 [3:26:17<05:59,  4.86s/it]"
     ]
    },
    {
     "name": "stdout",
     "output_type": "stream",
     "text": [
      "1615 : 호캉스를 하려고 여기저기 고민하다가 결국 보고로 결정했는데, 역 앞이라서 교통도 편하고 차 가지고 오시는 분들도 자기 쉽고 방도 그렇고 전체적으로 너무 만족했어요~ 다음에 또 오려고요 ㅎㅎ\n"
     ]
    },
    {
     "name": "stderr",
     "output_type": "stream",
     "text": [
      "\r 96%|█████████▌| 1616/1689 [3:26:20<05:09,  4.24s/it]"
     ]
    },
    {
     "name": "stdout",
     "output_type": "stream",
     "text": [
      "1616 : 루프탑에서 보이는 송정 뷰가 최고예요. 직원분들이 친절하셔서 이용하는데 불편함 없이 잘 놀다 왔습니다^^\n"
     ]
    },
    {
     "name": "stderr",
     "output_type": "stream",
     "text": [
      "\r 96%|█████████▌| 1617/1689 [3:26:24<04:54,  4.10s/it]"
     ]
    },
    {
     "name": "stdout",
     "output_type": "stream",
     "text": [
      "1617 : 호텔이라 생각하지 말고 고급 모텔이라 생각하면... 봐줄만함...? 여기 아니면 잘 곳 없다... 예약은 앱에서 비싼 방만 뜨면 가서 예약하면 싼 방 있다.\n"
     ]
    },
    {
     "name": "stderr",
     "output_type": "stream",
     "text": [
      "\r 96%|█████████▌| 1618/1689 [3:26:46<11:03,  9.35s/it]"
     ]
    },
    {
     "name": "stdout",
     "output_type": "stream",
     "text": [
      "1618 : 지금까지 가본 캠핑장 중에선 제일 최악입니다. 보통은 강가에서 캠핑하다가 휴가철이라 자리가 없어서 보리울로 들어갔죠. 매점 사장님한테 사이트가 있냐고 무작 만 원 이상 구매하면 차단기를 열어준다고 하네요. 그래서 자리는 있냐고 무작 들어가서 알아서 찾아보라고 하네요. 이미 거기까지 갔고 어쩔 수 없어서 비용지도 않은 물건을 정상가익 두 배 되는 가격으로 만 원을 넘겨줘요. 일단 사고 운전해서 안쪽으로 들어갔죠. 어머, 난민촌인 줄 알았어요. 텐트가 백백이 쩌져 있고 여기저기에서 먼지가 일고… 그 어디에도 캠핑할 만한 공간은 없었습니다. 결국 저희는 몇 바퀴 돌면서 찾다가 그냥 나와 버렸죠. 매점에서 필요지도 않은 물건만 싼 채로 ㅋㅋㅋ 기가 막혀서 웃음만 나오네요…. 매점 앞절시 때도는 또 어떻게요? 그냥 여긴 사기꾼이라고 보시면 됩니다. 여러분, 여긴 절대 가지 마세요. 그냥 집에 가는 게 낫습니다. 저렇게 다닥다닥 붙어 앉아 캠핑하다가 코로나 걸려서 죽습니다.\n"
     ]
    },
    {
     "name": "stderr",
     "output_type": "stream",
     "text": [
      "\r 96%|█████████▌| 1619/1689 [3:26:53<10:07,  8.68s/it]"
     ]
    },
    {
     "name": "stdout",
     "output_type": "stream",
     "text": [
      "1619 : 더럽다는 후기 많은데, 전 더럽다고는 못 느꼈어요! 수영장도 있는데 가성비가 너무 좋아요ㅎㅎ 수영장과 로비가 이뻐서 마냥 좋았습니다! 식사는 안 했지만 맥주 수령하러 갔는데 분위기가 좋더라구요! 맥주 맛도 좋고 프론트는 기억 안 나지만 식당 직원은 친절해요.\n"
     ]
    },
    {
     "name": "stderr",
     "output_type": "stream",
     "text": [
      "\r 96%|█████████▌| 1620/1689 [3:26:54<07:31,  6.55s/it]"
     ]
    },
    {
     "name": "stdout",
     "output_type": "stream",
     "text": [
      "1620 : 직원분들 친절하시고 여름 정수기가 있어서 편리함.\n"
     ]
    },
    {
     "name": "stderr",
     "output_type": "stream",
     "text": [
      "\r 96%|█████████▌| 1621/1689 [3:26:56<05:45,  5.08s/it]"
     ]
    },
    {
     "name": "stdout",
     "output_type": "stream",
     "text": [
      "1621 : 다른 것은 좋은데, 엘리베이터가 개느려요. 유일한 단점..\n"
     ]
    },
    {
     "name": "stderr",
     "output_type": "stream",
     "text": [
      "\r 96%|█████████▌| 1622/1689 [3:26:57<04:15,  3.82s/it]"
     ]
    },
    {
     "name": "stdout",
     "output_type": "stream",
     "text": [
      "1622 : 가격이 조금 높은 웬 만족합니다.\n"
     ]
    },
    {
     "name": "stderr",
     "output_type": "stream",
     "text": [
      "\r 96%|█████████▌| 1623/1689 [3:27:05<05:35,  5.08s/it]"
     ]
    },
    {
     "name": "stdout",
     "output_type": "stream",
     "text": [
      "1623 : 바닷가가 보이는 부산 야경이 좋은 위치로, 베란다도 있어서 나가면 광포 롯데동 보이고, 바다가 보여서 위치가 좋았음. 방은 아담한데 샤워 시설도 좋고 편안하고 깨끗했음. 아쉬운 점은 침대 가운데 부분이 약간 꺼져 있어서 누워서 쉴 때 허리가 좀 아팠음. (평소 허리가 안 좋은 편이라 조금만 꺼져도 많이 불편함)\n"
     ]
    },
    {
     "name": "stderr",
     "output_type": "stream",
     "text": [
      "\r 96%|█████████▌| 1624/1689 [3:27:11<05:52,  5.42s/it]"
     ]
    },
    {
     "name": "stdout",
     "output_type": "stream",
     "text": [
      "1624 : 친구랑 같이 이용했는데 너무 좋았어요~ 저녁 시간에는 수다를 떨 수 없는 건 아쉽지만 그래도 장점이 많았던 호텔이었습니다~ 광안대교 뷰는 말할 것도 없고!! 화이트 인테리어라서 전체적으로 깔끔해 보였어요ㅎㅎ 시설도 좋았고요. 전 추천합니다!!\n"
     ]
    },
    {
     "name": "stderr",
     "output_type": "stream",
     "text": [
      "\r 96%|█████████▌| 1625/1689 [3:27:15<05:17,  4.96s/it]"
     ]
    },
    {
     "name": "stdout",
     "output_type": "stream",
     "text": [
      "1625 : 주차난이 심각함. 그러나 주변 주차장에서 무료 주차했음요. 하브풀을 선택했는데 차가치 부였어요. 나쁘지 않았지만 그래도~~~ 룸은 방향제가 굿 있었어요.\n"
     ]
    },
    {
     "name": "stderr",
     "output_type": "stream",
     "text": [
      "\r 96%|█████████▋| 1626/1689 [3:27:23<06:04,  5.78s/it]"
     ]
    },
    {
     "name": "stdout",
     "output_type": "stream",
     "text": [
      "1626 : 부산 시내하고 좀 떨어져 있지만 가격 생각하니 모든 게 용서되네요. 주차장 넓고 직원도 너무 친절한데다 전 객실 금연에 엄청 깨끗해서 냄새도 안 나고 어메니티 품질도 훌륭합니다. 샤워실 물 수압도 장난 아니구요. 가족 단위나 외국인들 위주로 많이 오는 것 같은데 다음에 부산 놀러 온다면 또 여기로 ㅎㅎ\n"
     ]
    },
    {
     "name": "stderr",
     "output_type": "stream",
     "text": [
      "\r 96%|█████████▋| 1627/1689 [3:27:29<06:10,  5.97s/it]"
     ]
    },
    {
     "name": "stdout",
     "output_type": "stream",
     "text": [
      "1627 : 침대가 푹신하고 이불이 포근해서 좋고 방에 준비된 커피, 홍차, 녹차 3종류가 준비되어 있어요. 호텔 시설도 좋지만 도보로 경복궁과 대한민국 역사박물관, 조계사를 다녀올 수 있어서 좋은 추억 만들었습니다. 저녁에 바에서 먹은 치키는 파사파사에서 맛있었어요.\n"
     ]
    },
    {
     "name": "stderr",
     "output_type": "stream",
     "text": [
      "\r 96%|█████████▋| 1628/1689 [3:27:37<06:42,  6.60s/it]"
     ]
    },
    {
     "name": "stdout",
     "output_type": "stream",
     "text": [
      "1628 : 신관 방이 넘나 깔끔하고 뷰도 좋고 수영장도 건물에 있어서 좋았어요ㅎㅎㅎㅎ (어메니티 바이레도 우왕굿) 아이들이 노는 시설도 있어 빗 오는 날에는 거기서 쉬었어요. 디너나 조식 뷔페도 너무 훌륭하고 수영장 간식들도 너무 맛있구!!!! 행복한 구글캉스였어요~~~\n"
     ]
    },
    {
     "name": "stderr",
     "output_type": "stream",
     "text": [
      "\r 96%|█████████▋| 1629/1689 [3:27:40<05:30,  5.50s/it]"
     ]
    },
    {
     "name": "stdout",
     "output_type": "stream",
     "text": [
      "1629 : 너무 깨끗하고 뷰가 너무너무 좋아요. 직원분들도 너무 친절하시고, 별침대 이용할 수도 있어서 너무 좋아요!!\n"
     ]
    },
    {
     "name": "stderr",
     "output_type": "stream",
     "text": [
      "\r 97%|█████████▋| 1630/1689 [3:27:42<04:27,  4.53s/it]"
     ]
    },
    {
     "name": "stdout",
     "output_type": "stream",
     "text": [
      "1630 : 코로나 때문에 고민했는데 소독 방역도 열심히 하고 실내가 깔끔해요. 살짝 좁지만 만족스럽습니다.\n"
     ]
    },
    {
     "name": "stderr",
     "output_type": "stream",
     "text": [
      "\r 97%|█████████▋| 1631/1689 [3:27:44<03:34,  3.70s/it]"
     ]
    },
    {
     "name": "stdout",
     "output_type": "stream",
     "text": [
      "1631 : 벌레도 없고 객실이 정말 깔끔하고 화장실도 너무 깨끗해요.\n"
     ]
    },
    {
     "name": "stderr",
     "output_type": "stream",
     "text": [
      "\r 97%|█████████▋| 1632/1689 [3:27:46<02:56,  3.10s/it]"
     ]
    },
    {
     "name": "stdout",
     "output_type": "stream",
     "text": [
      "1632 : 최악의 방음 상태. 통통한 남자 직원이 없이는 표현을 하지 못한다.\n"
     ]
    },
    {
     "name": "stderr",
     "output_type": "stream",
     "text": [
      "\r 97%|█████████▋| 1633/1689 [3:27:50<03:05,  3.31s/it]"
     ]
    },
    {
     "name": "stdout",
     "output_type": "stream",
     "text": [
      "1633 : 호텔이 아주 깨끗하고 전망이 끝내줘요. 강추합니다. 직원도 너무 친절했어요. 다시 부산에 오면 또 들릴 거예요. 그리핀 베이 호텔 굳굳굳\n"
     ]
    },
    {
     "name": "stderr",
     "output_type": "stream",
     "text": [
      "\r 97%|█████████▋| 1634/1689 [3:27:50<02:23,  2.60s/it]"
     ]
    },
    {
     "name": "stdout",
     "output_type": "stream",
     "text": [
      "1634 : 깨끗하고 가격도 괜찮고 만족해요!\n"
     ]
    },
    {
     "name": "stderr",
     "output_type": "stream",
     "text": [
      "\r 97%|█████████▋| 1635/1689 [3:27:52<01:56,  2.15s/it]"
     ]
    },
    {
     "name": "stdout",
     "output_type": "stream",
     "text": [
      "1635 : 조용히 식탁가기 좋은 곳 같아요.\n"
     ]
    },
    {
     "name": "stderr",
     "output_type": "stream",
     "text": [
      "\r 97%|█████████▋| 1636/1689 [3:27:59<03:21,  3.79s/it]"
     ]
    },
    {
     "name": "stdout",
     "output_type": "stream",
     "text": [
      "1636 : 비슷한 급수의 호텔들을 출장 때마다 인근 지역을 다 걸어봤는데, 가격만큼의 만족은 아니네요. 무엇보다 사이트로 미리 선지불하고 갔는데, 또 같은 오류를 요구하는 곳은 이 급수에서는 여기가 처음인 듯합니다. 전망은 1도 기대할 이유가 없고, 객실의 어메니티는 깔끔하지만 그 역시 만족할 수준은 아니었어요. 애매합니다. 가격도 서비스도..\n"
     ]
    },
    {
     "name": "stderr",
     "output_type": "stream",
     "text": [
      "\r 97%|█████████▋| 1637/1689 [3:28:23<08:27,  9.77s/it]"
     ]
    },
    {
     "name": "stdout",
     "output_type": "stream",
     "text": [
      "1637 : 문을 열고 들어가자마자 보이는 바닥제는 틈이 들려 있고, 만약에 별떡 일어나기가까지.. 바닥을 물티슈로 한번 싹 닦으니 야외 벤치 닦은 거 마냥 시커멓이더군요. 샤워실 수재구면에는 머리카락이 그대로 있고, 프라이팬은 고기도 벗겨진 데다가 바닥면이 찌그러져서 제대로 사용하기 어렵고, 수저도 다 채가갑입니다. 더구나 식기류에 안 닿게 주위하라는 소독제가 주방 옆에 떡하니 있던데, 식기를 다시 씻어 사용하면서도 찝찝함이 갑시치 않더군요. 바닥은 보일러를 돌리니 뜨끈하지만, 현관과 창 주변의 우풍이 꽤 있더군요. 홈페이지에서 예약하면 비수기 주중으로 나오는데, 회원 예약 센터에서는 준성수기 주중이라고 기본가보다 회원이랑을 더 비싸게 가격 부르는 총체적 문제점까지..(방은 화이트 패밀리였습니다. 원래 회원 할인 받아서 화이트 브랜드를 예약하려 했으나 예약 센터에서 이상한 소리하길래 홈페이지에서 그냥 예약했음) 제가 묵었던 호실만의 문제였는지는 모르겠지만, 저런 것이 용서될 만큼 싼 것도 아니고 재이용은 글쎄요..\n"
     ]
    },
    {
     "name": "stderr",
     "output_type": "stream",
     "text": [
      "\r 97%|█████████▋| 1638/1689 [3:28:30<07:39,  9.01s/it]"
     ]
    },
    {
     "name": "stdout",
     "output_type": "stream",
     "text": [
      "1638 : 차량 통행이 많지 않은 곳으로 해변 이동이 가능하며, 아이들과 산책하기 좋은 곳에 위치해 있어요. 가끔 지나다니는 기차 보는 맛도 있어요. 최신 시설은 아니지만 청결하게 관리되고 있구요. 본관 전자렌지는 3층에만 있다는 게 아쉬워요. 엘리베이터 O, 주차장은 건물 뒷편에 매우 넓으니 극과극으로 하세요.\n"
     ]
    },
    {
     "name": "stderr",
     "output_type": "stream",
     "text": [
      "\r 97%|█████████▋| 1639/1689 [3:28:32<05:48,  6.97s/it]"
     ]
    },
    {
     "name": "stdout",
     "output_type": "stream",
     "text": [
      "1639 : 날씨가 너무 좋아서 객실에서 보이는 소네 다을 듯한 마음 하늘이랑 구름이 너무 인상적이었어요.\n"
     ]
    },
    {
     "name": "stderr",
     "output_type": "stream",
     "text": [
      "\r 97%|█████████▋| 1640/1689 [3:29:33<18:48, 23.02s/it]"
     ]
    },
    {
     "name": "stdout",
     "output_type": "stream",
     "text": [
      "1640 : 스탠다드 호텔 운영하시는 사장님이 이 글을 읽으셨으면 합니다. 호텔 운영하시는 것은 좋으신데, 제휴업체를 관리하시는 것도 호텔 서비스라고 생각합니다. 주차장 층에서 자신들은 호텔에 주차하게끔 도와주는 쪽이라면서 당연히 요금을 내야 한다며 비윤리적이네요. 아, 그리고 호텔 숙박 시 주차 불가인 건 이해합니다. 제휴인데 숙박 시 주차비를 무조건 지불해야 한다는 것도 웃기네요. 모텔보다 못한 곳 같아요. 어쩔 수 없이 이용한다면 지불하면서 이용하겠지만, 이렇게 어쩔 수 없는 금액을 지불하게끔 만들어진 시스템에 바보같이 이용당한다면 이 호텔 이용 안 하고 싶습니다. 호텔 내부 서비스는 좋았으나, 나 몰랐라 하는 주차 서비스에서 안 좋은 기억을 가져갑니다.   ㅡㅡㅡㅡㅡㅡ 주차장에서 있었던 일 ㅡㅡㅡㅡㅡㅡ   여긴 1점도 아깝네요. 당연히 남포동에 주차할 곳이 없어 할 수 없이 하게 되는데, 직원분이 참 불친절도 이런 불친절이 없습니다. 내용은 이러습니다. 스탠다드 호텔 제휴 주차장인 골든 주차장에 주차를 했습니다. 스탠다드 호텔에 일단 숙박을 해도 주차 요금을 내야 한다는 시스템을 몰랐습니다. 호텔에 다시 가서 문의해 보니 주차 요금을 내게 되어 있다고 하여 주차 요금을 냈습니다. 그런데 차를 기다리는 동안에도 골든 주차장 어른분께서 \"남포동 이 동네 주차장 다~ 그렇다\" 하시며 우리가 헛걸음한 게 재밌으셨는지, 이런 일이 다반사라서 당연히 한다고 생각하시는지 \"넓히 그렇게 갔다 와도 결국 돈 내게 되어 있다\"는 식으로 말씀을 하시길래 차를 기다리는 동안 금만 설명하셔도 된다고 정중히 말씀드렸는데, 그때부터 혼자 신났었다가 혼자 화를 내시고 감정 키보드 표시면서 \"젊은 애리 어른이 말하는데 대꾸했다\"며 혼자 뻘뻘뻘 웃음 소소를 수셨습니다. 그렇게 말다듬이 펼쳐졌고, 자꾸 미치시면서 창가를 긴 오르솟으로 진입한 어른의 얼굴 왼쪽 바가지 치셨습니다. 경찰을 부르게 되었고, 경찰에게 일어난 일에 대해서 설명을 하시는데 저희가 먼저 욕을 했고 미쳤다며 자신이 한 일은 그냥 기억 안 하시더라구요. 결국 경찰분께서도 이런저런 양쪽 상황을 들으시고 주차장 관리하시는 어른분께서 잘못하셨다고 \"서비스업을 하시는 분께서 이렇게 하시면 안 됩니다\" 하며 일은 거기지 않고 그렇게 말물이 되어했습니다. 콘돈이라는 말 쓰기 싫지만, 세상에 이런 콘돈이 있을 수 없습니다. 아침 태블람부터 남포동의 불친절한 주차장 서비스에 기분이 상하여 주말을 시작하네요. 주차를 하러 오는 고객들이 고객이라 생각하지 않으시고, 자신인 공간을 내어준다는 생각을 가지고 일을 하시는 모습이, 편의를 위해 금액을 지불하고 서비스를 이용하는 고객들이 \"우\"이 되고 본인들이 \"값\"이 되는 모습이었습니다. 이러니 공영주차장을 이용할 수밖에 없게 되네요. 남포동에 정말 주차하기 싫어지는 순간이었습니다. 특히 골든 주차장은 더욱 그렇습니다. 절대 여기 가지 마세요, 서비스라고는 눈꼽만큼도 없는 곳입니다.\n"
     ]
    },
    {
     "name": "stderr",
     "output_type": "stream",
     "text": [
      "\r 97%|█████████▋| 1641/1689 [3:29:34<13:11, 16.49s/it]"
     ]
    },
    {
     "name": "stdout",
     "output_type": "stream",
     "text": [
      "1641 : 신규 캠핑장이라 깨끗해서 좋았습니다~\n"
     ]
    },
    {
     "name": "stderr",
     "output_type": "stream",
     "text": [
      "\r 97%|█████████▋| 1642/1689 [3:29:36<09:28, 12.09s/it]"
     ]
    },
    {
     "name": "stdout",
     "output_type": "stream",
     "text": [
      "1642 : 객실이 넓고 루프탑 수영장도 깔끔하니 좋았어요옹.\n"
     ]
    },
    {
     "name": "stderr",
     "output_type": "stream",
     "text": [
      "\r 97%|█████████▋| 1643/1689 [3:29:37<06:47,  8.86s/it]"
     ]
    },
    {
     "name": "stdout",
     "output_type": "stream",
     "text": [
      "1643 : 탁 트인 풍경, 그리고 사장님이 매우 친절합니다.\n"
     ]
    },
    {
     "name": "stderr",
     "output_type": "stream",
     "text": [
      "\r 97%|█████████▋| 1644/1689 [3:29:39<05:06,  6.80s/it]"
     ]
    },
    {
     "name": "stdout",
     "output_type": "stream",
     "text": [
      "1644 : 출장 와서 하루 묵기에는 최고입니다. 방이 깔끔하고 편안하며 가성비가 좋습니다.\n"
     ]
    },
    {
     "name": "stderr",
     "output_type": "stream",
     "text": [
      "\r 97%|█████████▋| 1645/1689 [3:29:40<03:42,  5.05s/it]"
     ]
    },
    {
     "name": "stdout",
     "output_type": "stream",
     "text": [
      "1645 : 깨끗한데 좀 시끄럽네요.\n"
     ]
    },
    {
     "name": "stderr",
     "output_type": "stream",
     "text": [
      "\r 97%|█████████▋| 1646/1689 [3:29:43<03:05,  4.32s/it]"
     ]
    },
    {
     "name": "stdout",
     "output_type": "stream",
     "text": [
      "1646 : 오고 코섬트로 방문했는데, 일단 가까워서 좋고 가성비도 좋으며, 아침 조식도 나쁘지 않았어요!\n"
     ]
    },
    {
     "name": "stderr",
     "output_type": "stream",
     "text": [
      "\r 98%|█████████▊| 1647/1689 [3:29:44<02:17,  3.29s/it]"
     ]
    },
    {
     "name": "stdout",
     "output_type": "stream",
     "text": [
      "1647 : 백화점 이용하기 좋았어요.\n"
     ]
    },
    {
     "name": "stderr",
     "output_type": "stream",
     "text": [
      "\r 98%|█████████▊| 1648/1689 [3:29:47<02:09,  3.15s/it]"
     ]
    },
    {
     "name": "stdout",
     "output_type": "stream",
     "text": [
      "1648 : 친절하고 깨끗하고 좋아요!! 다만 주변에 식당이나 기타 시설이 부족하다는 점이 아쉽습니다. 바로 앞에 편의점이 있어서 다행입니다.\n"
     ]
    },
    {
     "name": "stderr",
     "output_type": "stream",
     "text": [
      "\r 98%|█████████▊| 1649/1689 [3:29:48<01:48,  2.70s/it]"
     ]
    },
    {
     "name": "stdout",
     "output_type": "stream",
     "text": [
      "1649 : 위치가 좋고 방도 깨끗한데 방음이..ㅠㅠ\n"
     ]
    },
    {
     "name": "stderr",
     "output_type": "stream",
     "text": [
      "\r 98%|█████████▊| 1650/1689 [3:29:51<01:42,  2.63s/it]"
     ]
    },
    {
     "name": "stdout",
     "output_type": "stream",
     "text": [
      "1650 : 실내 사진만 보고 예약했는데, 엄청 오래된 건물에 하수구 냄새나고 곰팡이도 장난이 아님\n"
     ]
    },
    {
     "name": "stderr",
     "output_type": "stream",
     "text": [
      "\r 98%|█████████▊| 1651/1689 [3:29:55<02:00,  3.17s/it]"
     ]
    },
    {
     "name": "stdout",
     "output_type": "stream",
     "text": [
      "1651 : 부산역이랑 가까운 편이고, 뷰가 좋고, 방이 깔끔하고, 호캉스하기 좋아요! 다만, 로비가 조금 고급스럽지 않은 분위기인 건 아쉬웠어요. 그래도 추천합니다!\n"
     ]
    },
    {
     "name": "stderr",
     "output_type": "stream",
     "text": [
      "\r 98%|█████████▊| 1652/1689 [3:30:00<02:17,  3.72s/it]"
     ]
    },
    {
     "name": "stdout",
     "output_type": "stream",
     "text": [
      "1652 : 깔끔하고 위치가 좋고 친절해서 푹 쉬다 갑니다!! 해운대에서 걸어서 가기 편하고, 전철역도 바로 앞이라 이동하기에도 좋아요~ 주방도 있어서 아기랑 오기에도 좋을 것 같네요!! 굿굿굿♡\n"
     ]
    },
    {
     "name": "stderr",
     "output_type": "stream",
     "text": [
      "\r 98%|█████████▊| 1653/1689 [3:30:05<02:24,  4.01s/it]"
     ]
    },
    {
     "name": "stdout",
     "output_type": "stream",
     "text": [
      "1653 : 장점은 지배인님이 개친절하고, 시설이 깔끔합니다. 단점은 각 룸 간에 소음이 우출됩니다. 조금만 떠들어도 다 들립니다. 주차장은 조금 협소하지만, 지하는 칸별로 좀 넓은 편입니다.\n"
     ]
    },
    {
     "name": "stderr",
     "output_type": "stream",
     "text": [
      "\r 98%|█████████▊| 1654/1689 [3:30:10<02:35,  4.45s/it]"
     ]
    },
    {
     "name": "stdout",
     "output_type": "stream",
     "text": [
      "1654 : 다 좋았는데 체크아웃 시간에 엘리베이터가 부족해서 애매한 층 사람들이 엘리베이터를 이용하지 않았어요… 23층인데도 엘리베이터를 30분 기다리다가 결국 캐리어를 들고 계단 타고 프론트까지 내려갔네요… ㅠ\n"
     ]
    },
    {
     "name": "stderr",
     "output_type": "stream",
     "text": [
      "\r 98%|█████████▊| 1655/1689 [3:30:11<01:54,  3.36s/it]"
     ]
    },
    {
     "name": "stdout",
     "output_type": "stream",
     "text": [
      "1655 : 수영장 나이스 주차장\n"
     ]
    },
    {
     "name": "stderr",
     "output_type": "stream",
     "text": [
      "\r 98%|█████████▊| 1656/1689 [3:30:54<08:25, 15.33s/it]"
     ]
    },
    {
     "name": "stdout",
     "output_type": "stream",
     "text": [
      "1656 : 여름휴가 너무 기대했는데, 숙소 때문에 망할 줄 몰랐어요. 오션뷰도 좋고 고층에 배정되어서 좋았습니다. 리셉션에 있는 여자 직원분은 매우 친절하셨으며 방문했을 때는 남자 두 분이셨습니다. 라오호텔에 대한 리뷰는 꼭 남기고 싶어서 적습니다. 워나하면 송정에서 가장 크고 위치가 좋다고 알런지 곳이라 선택했지만, 그에 비해 서비스가 좋지 않았고 불쾌한 경험이 있었기 때문입니다.   첫 번째, 수건이 단 한 장도 배치되어 있지 않았고 해발락이 수전과 샤워기 전화부가 부속이 빠진 채로 돌릴 수 없게 고정되어 있었습니다. 발베드, 수건, 샤워타올 이렇게 제공되는 것으로 알고 있으나 아예 비치되어 있지 않았으며, 없다고 하니 가져다 주신다고 했습니다. 그런데 성수기라 수건 수요가 많아서 샤워타올 3장밖에 제공하지 못한다는 말... 너무 당황스러웠지만 여튼으로 가지고 온 수건이 있어 참았습니다. 그런데 나중에 보니 저녁에 수건 뭉치로 업체에서 생딱된 게 전부 엘리베이터로 이동되는 것을 보았으며, 층마다 있는 스태프실에는 수건이 가득 차 있었습니다. 정말 실망스럽습니다. 해당 호실에 수건이 모자라다는 것을 메모해두고 다음 직원한테 수건이 있고되면 가져다 드릴 것이라고 답을 했다면 처음 미숙했던 상황도 눈감고 좋지 않은 후기를 적을 일이 없었을 것입니다.   수건은 그렇다 치고 발메트라도 달라고 하니 가져다 주신다 하여 기다렸습니다. 새로운 야간 남자 직원이 오더니 죄송하다는 말 하나 없이 화장실 문에 발메트가 걸려 있을 거라고 하며... 있는데 달라고 했겠습니까? 호텔 측 잘못인데 투숙객이 못 본 거라고 잘못으로 돌리는 게 어이가 없더군요. 샤워기 수전 돌리는 건 투숙객이 돌려 달라고 할 때마다 공구를 들고 와서 돌려주실 겁니까? 1박에 30만원 가까이 하는데.. 이런 불편함까지 느껴야 하나요? (사진 첨부.)  두 번째는 청결도입니다. (사진 첨부) 처음 딱 입실했을 때, 다른 사람의 체모와 머리카락이 구석구석 발견되었으며, 선반 등은 사이사이에 찌든 때와 먼지가 앉아서 누고 싶지 않았습니다. 지금까지 가본 숙소 중 가장 더럽었음. 리뷰 읽어보시고 호텔을 재정비해주세요.\n"
     ]
    },
    {
     "name": "stderr",
     "output_type": "stream",
     "text": [
      "\r 98%|█████████▊| 1657/1689 [3:31:07<07:42, 14.46s/it]"
     ]
    },
    {
     "name": "stdout",
     "output_type": "stream",
     "text": [
      "1657 : 추천받아서 예약하고 왔어요! 비록 1박만 있었지만 너무 만족했습니다. 인테리어도 하얗게 깔끔하고 예쁘게 되어 있고 창가가 오션뷰라 아침부터 밤까지 너무 이뻐요… 다만 아침에 조금 눈부셔서 자기 직전에는 커튼 치고 자시는 것 추천해요ㅎㅎ 다음 날 아침에 무궁리에 시리얼이랑 컵라면 걸어놓고 가주시는데 P형 인카니 저희들에게 완전 안성맞춤이었습니다. 여기 옥상 테라스에 천국의 계단 등 보토 스팟이 있는데 다른 거 하나 빨빳서 가보진 못했습니다ㅜㅜ 다음에 오면 꼭 가보고 싶네요.\n"
     ]
    },
    {
     "name": "stderr",
     "output_type": "stream",
     "text": [
      "\r 98%|█████████▊| 1658/1689 [3:31:09<05:36, 10.85s/it]"
     ]
    },
    {
     "name": "stdout",
     "output_type": "stream",
     "text": [
      "1658 : 가성비 호텔이라고 해도 그렇지, 이건 좀 아닌 듯. 호텔 가운도 없고, 칫솔도 없어. 있는 게 뭐지?\n"
     ]
    },
    {
     "name": "stderr",
     "output_type": "stream",
     "text": [
      "\r 98%|█████████▊| 1659/1689 [3:31:12<04:14,  8.50s/it]"
     ]
    },
    {
     "name": "stdout",
     "output_type": "stream",
     "text": [
      "1659 : 동해안 자주 시 하루 묵고 갔습니다. 친절하시더라고요~~ 자전거도 숙소 내부에 보관하게 해 주셨어요!\n"
     ]
    },
    {
     "name": "stderr",
     "output_type": "stream",
     "text": [
      "\r 98%|█████████▊| 1660/1689 [3:31:18<03:45,  7.77s/it]"
     ]
    },
    {
     "name": "stdout",
     "output_type": "stream",
     "text": [
      "1660 : 호텔 전체적으로 인테리어가 모던한 느낌인데, 특히 화장실이 너무나도 깔끔해서 좋았어요. 여기 오시면 지하 라운지 바가 꼭 이용해보세요. 분위기 장난 아니에요ㅜ 가끔 라이브 콘서트도 한다고 들었는데, 그런 거 맞춰서 호캉스해도 좋을 듯!\n"
     ]
    },
    {
     "name": "stderr",
     "output_type": "stream",
     "text": [
      "\r 98%|█████████▊| 1661/1689 [3:31:19<02:39,  5.71s/it]"
     ]
    },
    {
     "name": "stdout",
     "output_type": "stream",
     "text": [
      "1661 : 단체 숙박도 굿입니다.\n"
     ]
    },
    {
     "name": "stderr",
     "output_type": "stream",
     "text": [
      "\r 98%|█████████▊| 1662/1689 [3:31:24<02:23,  5.32s/it]"
     ]
    },
    {
     "name": "stdout",
     "output_type": "stream",
     "text": [
      "1662 : 업무차 센텀에 가끔 오는데, 너무 쾌적한 호텔을 발견했어요ㅎㅎ! 벡스코도 가깝고, 주차와 시설 모두 만족스러웠어요~ 뷰도 좋았어요!\n"
     ]
    },
    {
     "name": "stderr",
     "output_type": "stream",
     "text": [
      "\r 98%|█████████▊| 1663/1689 [3:31:52<05:18, 12.25s/it]"
     ]
    },
    {
     "name": "stdout",
     "output_type": "stream",
     "text": [
      "1663 : 9월 10일 70대 부모님이 탑티크 룸에서 식사 후 어머니께 심한 식증도 중섭할 만큼 나타서 대학병원 응급실에 가게 되었고, 일요진이 혹시나 해서 CT까지 촬영하는 일이 있었습니다. 파크 하얏트에 의회 대헤 항의하였고, 식음료부 총괄 책임자는 책임을 회피하고 있습니다. 어떤 음식이 문제가 되었는지 특정할 수는 없지만, 아직 날도 따뜻한데 생과 연어회... 가능성이 없어 보이지는 않네요. 굳이라는 게 백 개 중에 한 개 이상할 수도 있고요. 하지만 파크 하얏트에서는 절대 실수를 안 하냐 봅니다. 음식에는 문제가 없었다는 말만 하네요. 배달 난 것 정도로 머리가 터질 정도로 아프고 몇 번이나 구토를 심하게 하지는 않아요. 어머니는 죽는 줄 알았다고 하시더군요. 하얏트 담당자가 말하기 48시간 이내 먹은 것이 문제일 수 있으니 거기서 먹은 게 문제가 아닐 수 있다고 뷰인하고 있습니다. 식중독 걸려보신 분들 아시겠지만 48시간이나 걸리지 않아요. 다행히도 지금은 많이 나아지셨지만 당일 밤늦게까지 병원에서 고생한 본인은 물론 아버지, 그리고 머리 속을 심하게 하지는 않아요. 파크 하얏트는 책임을 회피하고 일체의 책임을 거부하고 있습니다. 책임은 없지만 안타까운 마음으로 식사는 한 번 대접하겠다네요. 그것도 총괄님은 안 해도 된다고 했는데 담당이 하고 싶어해서 그러다고. 파크 하얏트 식음료부 총괄님, 동정 여런 그런 대처는 필요 없습니다.\n"
     ]
    },
    {
     "name": "stderr",
     "output_type": "stream",
     "text": [
      "\r 99%|█████████▊| 1664/1689 [3:32:04<05:02, 12.10s/it]"
     ]
    },
    {
     "name": "stdout",
     "output_type": "stream",
     "text": [
      "1664 : 발렛을 빼고는 모든 것이 마음에 들었다. 하지만 호텔에서는 발렛이 큰 비중을 차지한다고 생각된다. 발렛이 의미가 없는 곳이다. 내가 직접 정문이 아닌 지하로 내려가야 하고, 다시 지하로 가서 발렛비를 지불하고 나면 초과시간에 대해 무인 정산기에 가서 내 차 번호를 입력해서 직접 3시간 초과분에 대해 정산하고 지워내게 차 키를 준다. 세상 살다가 이런 발렛은 처음 본다. 정담 SSG 마트 발렛보다 못한 JW 메리어트 동대문 호텔 발렛. 발렛 이용하지 마시고 직접 주차장에 세우시길 권한다.\n"
     ]
    },
    {
     "name": "stderr",
     "output_type": "stream",
     "text": [
      "\r 99%|█████████▊| 1665/1689 [3:32:06<03:43,  9.30s/it]"
     ]
    },
    {
     "name": "stdout",
     "output_type": "stream",
     "text": [
      "1665 : 정말 최악임. 임의적으로 당일 캔슬시키고 알고다 핑계대고. 정말 그따위로 장사하지 마세요!!!!\n"
     ]
    },
    {
     "name": "stderr",
     "output_type": "stream",
     "text": [
      "\r 99%|█████████▊| 1666/1689 [3:32:08<02:43,  7.09s/it]"
     ]
    },
    {
     "name": "stdout",
     "output_type": "stream",
     "text": [
      "1666 : 시트가 많이 지저분하네요! 웬만하면 뭔가 묻었을 경우 갈아주세요!\n"
     ]
    },
    {
     "name": "stderr",
     "output_type": "stream",
     "text": [
      "\r 99%|█████████▊| 1667/1689 [3:32:09<01:55,  5.23s/it]"
     ]
    },
    {
     "name": "stdout",
     "output_type": "stream",
     "text": [
      "1667 : 방이 깨끗해서 좋았어요.\n"
     ]
    },
    {
     "name": "stderr",
     "output_type": "stream",
     "text": [
      "\r 99%|█████████▉| 1668/1689 [3:32:14<01:45,  5.02s/it]"
     ]
    },
    {
     "name": "stdout",
     "output_type": "stream",
     "text": [
      "1668 : 오션뷰로 넓은 창으로 광안대교가 보여서 너무너무 힐링되고, 조식도 광안대교를 보면서 눈 정화하면서 먹을 수 있어 좋았습니다~~ 다음에도 재방문하고 싶어요~~ㅎㅎ\n"
     ]
    },
    {
     "name": "stderr",
     "output_type": "stream",
     "text": [
      "\r 99%|█████████▉| 1669/1689 [3:32:24<02:10,  6.50s/it]"
     ]
    },
    {
     "name": "stdout",
     "output_type": "stream",
     "text": [
      "1669 : 청소 상태가 깨끗하다는 댓글, 진짜 믿기지가 않네요. 제가 받은 방만 그런 거길 비니다. 들어가서부터 그냥 자기 싫을 정도로 더럽고 찝찝하고, 화장실 비누부터 샴푸, 바디 어신까지 대용량 통에 들어있고, 전 손님들이 쓰던 걸 그대로 이어 쓰는 방식이더군요. 요즘 코로나 시국에 치약까지 쓰던 치약이 놓여져 있는 걸 보고 경악을 극치 못했습니다. 꼭 코로나가 아니더라도 최소한의 위생은 생각하셔야 해요.\n"
     ]
    },
    {
     "name": "stderr",
     "output_type": "stream",
     "text": [
      "\r 99%|█████████▉| 1670/1689 [3:32:28<01:49,  5.78s/it]"
     ]
    },
    {
     "name": "stdout",
     "output_type": "stream",
     "text": [
      "1670 : 지하철역 12번 출구 나가면 바로 위치하고 있어서 이동이 편리했습니다. 우선 객실은 깨끗하고 편안하며 주변에 음식점과 카페가 많고 무엇보다 가성비가 짱! 입니다.\n"
     ]
    },
    {
     "name": "stderr",
     "output_type": "stream",
     "text": [
      "\r 99%|█████████▉| 1671/1689 [3:32:29<01:21,  4.51s/it]"
     ]
    },
    {
     "name": "stdout",
     "output_type": "stream",
     "text": [
      "1671 : 외국인을 무시하는 프론트 ~ 도대첸 교육을 어떻게 받은지\n"
     ]
    },
    {
     "name": "stderr",
     "output_type": "stream",
     "text": [
      "\r 99%|█████████▉| 1672/1689 [3:32:33<01:10,  4.12s/it]"
     ]
    },
    {
     "name": "stdout",
     "output_type": "stream",
     "text": [
      "1672 : 방은 아담하니 마음에 듭니다~~ㅎ 각각 방에 있는 선풍기가 마음에 안 들어요 ㅠㅠ 나머지는 전부다 마음에 듭니다!!!\n"
     ]
    },
    {
     "name": "stderr",
     "output_type": "stream",
     "text": [
      "\r 99%|█████████▉| 1673/1689 [3:32:35<00:56,  3.50s/it]"
     ]
    },
    {
     "name": "stdout",
     "output_type": "stream",
     "text": [
      "1673 : 오랜만에 지인들과 여행 온 부산~ 신라스테이 바다 전망 객실이 아주 좋습니다^^\n"
     ]
    },
    {
     "name": "stderr",
     "output_type": "stream",
     "text": [
      "\r 99%|█████████▉| 1674/1689 [3:32:55<02:06,  8.41s/it]"
     ]
    },
    {
     "name": "stdout",
     "output_type": "stream",
     "text": [
      "1674 : 두 번 갈 일은 없을 듯… 체크인 2시간 줄 서 보기는 처음이네요. 로비가 인파가 출근 시간 지하철 순준입니다. 그러면서 호텔 측은 엄청 당당하고 뻔뻔합니다. 직원에게 이렇게 오래동안 서서 기다리는 건 문제가 아니냐고 물으니, 스위트룸이 아니면 줄 서라고 하더라고요. 헐… 와… 누가 보면 공짜로 채워주는 줄 알겠더군요. 방이 방음이 안 되어 2-3시간지 옆 방 대화 소리가 들리고(대화 가능). 조식에서 머리카락이 나왔고… 아이스링크에서 14살(?)인가, 이상은 헬멧을 안 써도 된다고 빌어주지 않아서 걱정스러던 중에 어떤 젊은 젊은 아기 엄마가 심하게 넘어져 머리가 얼음판에 부딪혀 119에 실려갔습니다. 다친 엄마가 실려 가는데 걱정스럽게 조작하던 아빠랑 5-6세 정도의 남자아이의 불안한 표정이 아직도 떠오라서 마음이 안 좋네요. 보안하니 종종 누군가는 실려 가겠더군요… 헬멧이 얼마나 한다고, 그걸 알기고… 다신 보지 말자…\n"
     ]
    },
    {
     "name": "stderr",
     "output_type": "stream",
     "text": [
      "\r 99%|█████████▉| 1675/1689 [3:32:57<01:33,  6.71s/it]"
     ]
    },
    {
     "name": "stdout",
     "output_type": "stream",
     "text": [
      "1675 : 스파는 때가 둥둥. 층간 소음이 심하고. 칫솔은 돈 주고 사야 하고. 이게 무슨 5성 호텔인가요?\n"
     ]
    },
    {
     "name": "stderr",
     "output_type": "stream",
     "text": [
      "\r 99%|█████████▉| 1676/1689 [3:33:01<01:16,  5.88s/it]"
     ]
    },
    {
     "name": "stdout",
     "output_type": "stream",
     "text": [
      "1676 : 구포 지하철역과 낙동강 뷰가 역대급 좋습니다. 제대로 힐링했어요. 침구는 매우 푹신하고, 생긴 지 얼마 되지 않아 시설들이 스마트하고 좋았습니다.\n"
     ]
    },
    {
     "name": "stderr",
     "output_type": "stream",
     "text": [
      "\r 99%|█████████▉| 1677/1689 [3:33:26<02:16, 11.39s/it]"
     ]
    },
    {
     "name": "stdout",
     "output_type": "stream",
     "text": [
      "1677 : 청소가 덜 되어 있어서 별이 아까워요!! 냄새도 냄새지만 현관부터 담배꽁초가 너무 많고 집안에는 바리가 너무 많아요! 물론 산이라서 그럴 수 있죠. 하지만 바퀴벌레 사체와 파리 먼지가 너무 많아요. 하지만 파리채 같은 거 문의하니까 다 구매하라고 하네요. 객실에 전자레인지 없고 욕실 2개짜리 방이었는데 2개는 커녕 1개입니다. 점프사진은 욕실입니다! 속옷도 무늬져 있습니다. 그릇도 깨져 있는데 말도 못하고 갑니다. 주차장은 구비가 제대로 되어 있지 않습니다. 그리고 수영장은 정말 멀어요. 그리고 수영장 주변 제가 갔을 때 공사 중이었고요. 수영장 이용료 별도이며 17시까지입니다. 제가 조금 늦게 입실했는데 15:40분에 입실했는데 수영장 이용할 거냐고 물어보시더라고요. 근데 짐 풀고 다시 내려가서 여쭤보니 수영장 사용 못 하단네요. 그럼 야간은 왜 말씀 안 하셨냐고 하니까 어차피 추워서 1시간도 못 논다고 하시더라고요. 또한 숙소 이름에 화이트 트랩한 곳은 주차장이 흡연장인 줄 알았어요ㅠㅠ 담배꽁초가 자리 잡네요! 숙소는 와우 파리바위예요.\n"
     ]
    },
    {
     "name": "stderr",
     "output_type": "stream",
     "text": [
      "\r 99%|█████████▉| 1678/1689 [3:33:30<01:42,  9.30s/it]"
     ]
    },
    {
     "name": "stdout",
     "output_type": "stream",
     "text": [
      "1678 : 샴푸 대체 때문에 환불 요청했더니 거절당했습니다. 사장님이 고객을 보고 시범 돈 몇 푼 때문에 채해 속에 숙박하길 원하시던데, 못 가서 죄송합니다. 꼭 번창하시길 바랍니다^^\n"
     ]
    },
    {
     "name": "stderr",
     "output_type": "stream",
     "text": [
      "\r 99%|█████████▉| 1679/1689 [3:33:39<01:32,  9.29s/it]"
     ]
    },
    {
     "name": "stdout",
     "output_type": "stream",
     "text": [
      "1679 : 기대 안 하고 갔는데 완전 대박이네요 ㅋㅋ 뷰는 어쩔 수 없었지만 드럼 세탁기도 있고 냉장고에 옷 컨디셔너까지 대박이었어요. 물놀이 후에 옷이 젖어 걱정했는데 완전 대만족이었어요. 9층에 식당이 있다 해서 조식 갔더니 생각보다 너무 괜찮았어요. 전망도 좋고 양식에 깔끔하고 너무 괜찮았네요. 담번에 또 가려고 합니다. 아들한테 너무 잘 다녀온 것 같아요.\n"
     ]
    },
    {
     "name": "stderr",
     "output_type": "stream",
     "text": [
      "\r 99%|█████████▉| 1680/1689 [3:33:44<01:10,  7.80s/it]"
     ]
    },
    {
     "name": "stdout",
     "output_type": "stream",
     "text": [
      "1680 : 라이트 숙박 이용했는데, 여기 진짜 뷰 맛집입니다. 날씨가 흐려도 광안대교 야경이 너무 예쁘고 만족스러웠어요. 화장실이랑 샤워실은 좁긴 하지만 큰 문제는 없었습니다~\n"
     ]
    },
    {
     "name": "stderr",
     "output_type": "stream",
     "text": [
      "\r100%|█████████▉| 1681/1689 [3:33:55<01:11,  8.90s/it]"
     ]
    },
    {
     "name": "stdout",
     "output_type": "stream",
     "text": [
      "1681 : 시나서 노을라 방 사진을 제대로 못 찍었는데, 너무 깔끔하고 아늑하고 매력있어요! 혜화에서 유튜브 선 그룹호텔 보면서 언젠가는 묵어봐야지 했는데, 드디어 성취! 직원분들이 친절하시고 청소도 철저하고 분위기가 너무너무 좋아요. 1박만 한 게 아쉬워서 다음에 또 오려고요. 다음에는 확실한 호캉스를 누려야겠어요. 방에만 있어야지..!! 지하 라운지가 올리브를 룸서비스로 받을 수도 있다고 하네요. 고층 코너 방에 숙박했는데 경치가 정말 좋았어요!!\n"
     ]
    },
    {
     "name": "stderr",
     "output_type": "stream",
     "text": [
      "\r100%|█████████▉| 1682/1689 [3:33:57<00:47,  6.74s/it]"
     ]
    },
    {
     "name": "stdout",
     "output_type": "stream",
     "text": [
      "1682 : 사장님께서 친절하시고 여행객들을 배려를 잘 해주십니다!!\n"
     ]
    },
    {
     "name": "stderr",
     "output_type": "stream",
     "text": [
      "\r100%|█████████▉| 1683/1689 [3:33:58<00:31,  5.23s/it]"
     ]
    },
    {
     "name": "stdout",
     "output_type": "stream",
     "text": [
      "1683 : 엘리베이터 너무 느려서 10분째 기다리고 있어요. 장난하나??\n"
     ]
    },
    {
     "name": "stderr",
     "output_type": "stream",
     "text": [
      "\r100%|█████████▉| 1684/1689 [3:34:03<00:24,  4.98s/it]"
     ]
    },
    {
     "name": "stdout",
     "output_type": "stream",
     "text": [
      "1684 : 미포항 뷰 15층은 바다가 거의 보여서 너무 만족스러웠어요. ㅎㅎ 친절하시고요, 수영장, 조식, 라운지, 헬스장 등 너무 만족스러웠어요.\n"
     ]
    },
    {
     "name": "stderr",
     "output_type": "stream",
     "text": [
      "\r100%|█████████▉| 1685/1689 [3:34:13<00:26,  6.63s/it]"
     ]
    },
    {
     "name": "stdout",
     "output_type": "stream",
     "text": [
      "1685 : 일반실 5만원이고, 프리미엄 6만원짜리는 스타일러스, 안마기도 있고, PC도 있지만 누립니다. 방도 넓고 화장실도 깨끗합니다. 주인인지 알바인지 젊고 스마트하면, 친절한 분들이 서빙하고 있습니다. 조용합니다. 다만, 중문이 없는 방이 있어 복도 소음에 취약할 수 있습니다. 점수가 왜 낮은지는 모르겠지만, 댓글 수가 없고 1인이 낮게 줘서 낮은 것 같습니다. 가성비는 좋다고 봅니다. 저는 출장을 많이 다녀봐서 비교할 수 있어요~^^\n"
     ]
    },
    {
     "name": "stderr",
     "output_type": "stream",
     "text": [
      "\r100%|█████████▉| 1686/1689 [3:34:36<00:34, 11.49s/it]"
     ]
    },
    {
     "name": "stdout",
     "output_type": "stream",
     "text": [
      "1686 : 일단 방은 이쁘고, 배달 음식은 금지여서 (외인지는 의문..) 룸서비스랑 조식으로 먹었는데 음식은 다 맛있었음. 근데 엘리베이터 문제 진짜 많음; 정말 너무너무 느리고 체크인할 때도 1층에서 얼리 떼마다 사람이 바글바글 차있어서 3-4대 엘리베이터를 보내고 올라가는데 체크아웃 할 때는 더 심함.. 체크아웃 할 때는 아예 줄을 서서 기다려서 타야 하는데 무슨 시장 바닥 같고 뭔가 호캉스의 끝판왕으로 끝나는 것 같아서 정말 별로였음. 내려오는데 15-20분은 걸린 듯;ㅋㅋ 조식 먹을 때 커피를 시켰는데 끝까지 안 와서 나갈 때 커피를 못 받았다고 데인크아웃이라도 안 된다고 물어보니까 안 된다고 함. 그게 끝.ㅋㅋㅋㅋ 뭔가 조치가 은근히 현저함. 그리고 수영장에 베드 5개인가 밖에 없음. 왜 5개밖에 없는지는 모르겠지만 누워있고 싶으면 일찍 가서 (동) 줄 서야 함. 수영복은 써야 하는데 사진만 찍을 거면 또 안 써도 된다고 함.. 뭔가... 이상한 시스템..ㅋㅋ\n"
     ]
    },
    {
     "name": "stderr",
     "output_type": "stream",
     "text": [
      "\r100%|█████████▉| 1687/1689 [3:34:39<00:17,  8.77s/it]"
     ]
    },
    {
     "name": "stdout",
     "output_type": "stream",
     "text": [
      "1687 : 웬만하면 다시 안 올 예정입니다. 거울 외풍이 있습니다. 싫고. 이건 뭐, 관리할 마음이 없다는 거지.\n"
     ]
    },
    {
     "name": "stderr",
     "output_type": "stream",
     "text": [
      "\r100%|█████████▉| 1688/1689 [3:34:43<00:07,  7.42s/it]"
     ]
    },
    {
     "name": "stdout",
     "output_type": "stream",
     "text": [
      "1688 : 도착 후 크게 기대하지 않았는데 직원분들이 친절하시고 2박 머무는 동안 매일 객실도 다 청소해 주셨습니다. 아침 조식도 괜찮아서 그런지 식사 시간이 길어졌어요... 좋아요!\n"
     ]
    },
    {
     "name": "stderr",
     "output_type": "stream",
     "text": [
      "100%|██████████| 1689/1689 [3:35:03<00:00,  7.64s/it]"
     ]
    },
    {
     "name": "stdout",
     "output_type": "stream",
     "text": [
      "1689 : 친구들이랑 멀티플렉스룸에서 투숙했는데 넓기도 넓고 게임할 것도 많아서 좋았어요. 친구들이랑 밤새 닌텐도 스위치 하는 게 재미있었어요. 게임해서 낸기하면서 하루 종일 놀았어요. 뷔페가 있는데 속이 너무 비어 있어서 아기는 힘들었고, 화장실 세면대 2개가 있고 욕조, 샤워실이 구분되어 있어서 좋더라고요. 목욕가 모이긴 좋은 거실과 침실, 알바룸이 있어서 넓은 공간에서 쾌적하게 지냈습니다. 다섯 명이라 두 명은 스탠다드 트윈룸, 세 명은 멀티플렉스룸에서 잤는데, 다섯인 멀티플렉스룸에서 자도 무방할 만큼 침대와 공간이 충분했어요. 방 가까이 붙여 달라고 했는데 옆방으로 잘 붙여 주셔서 감사합니다~ 딱 3시 체크인이라 체크인 전에 줄이 길고 사람이 몰려서 앉을 자리가 부족하고 좀 오래 걸리는 편이라 투숙 과정이 아쉬웠는데 이후부터는 다 좋았습니다. 다음에 또 멀티플렉스 하러 가려구요><\n"
     ]
    },
    {
     "name": "stderr",
     "output_type": "stream",
     "text": [
      "\n"
     ]
    }
   ],
   "source": [
    "from tqdm import tqdm\n",
    "import re\n",
    "test_result = []\n",
    "FastLanguageModel.for_inference(model) # for_inference는 학습을 비활성화시켜서 추론 속도를 2배 빠르게 만듦\n",
    "number = 0\n",
    "for test_i in tqdm(test[\"input\"]):\n",
    "  # 모델 테스트 모듈\n",
    "  number += 1\n",
    "  inputs = tokenizer(\n",
    "  [\n",
    "      alpaca_prompt.format(\n",
    "          f\"\"\"{test_i}\"\"\", # 질문\n",
    "          \"\",                                              # 생성된 답변칸 비어두기\n",
    "      )\n",
    "  ], return_tensors = \"pt\").to(\"cuda\") # PyTorch 텐서, GPU사용\n",
    "\n",
    "  outputs = model.generate(**inputs,            # 이전 입력값\n",
    "                           max_new_tokens = 1096, # 최대 64개의 단어\n",
    "                           stopping_criteria=stopping_criteria)    # 캐싱을 사용하여 이전 결과 저장\n",
    "\n",
    "  t =tokenizer.batch_decode(outputs,skip_special_tokens=True)[0]\n",
    "  #print(t)\n",
    "  match = re.search(r'Response:\\n\\s*(.*)', t, re.DOTALL)\n",
    "  if match:\n",
    "    output_text = match.group(1).strip()\n",
    "    #print(f\"[0]:{output_text}\")\n",
    "  else:\n",
    "    #print(f\"[1]:{t}\")\n",
    "    output_text = test_i\n",
    "  print(f\"{number} : {output_text}\")\n",
    "  test_result.append(output_text)\n"
   ]
  },
  {
   "cell_type": "markdown",
   "metadata": {},
   "source": [
    "## 9. 제출 csv 만들기"
   ]
  },
  {
   "cell_type": "code",
   "execution_count": 15,
   "metadata": {
    "executionInfo": {
     "elapsed": 25,
     "status": "ok",
     "timestamp": 1739978892797,
     "user": {
      "displayName": "송채원",
      "userId": "07880515647457255886"
     },
     "user_tz": -540
    },
    "id": "6WroLkr18sPV"
   },
   "outputs": [],
   "source": [
    "submission = pd.read_csv('./extracted_files/sample_submission.csv', encoding = 'utf-8-sig')"
   ]
  },
  {
   "cell_type": "code",
   "execution_count": 16,
   "metadata": {
    "executionInfo": {
     "elapsed": 2,
     "status": "ok",
     "timestamp": 1739978902206,
     "user": {
      "displayName": "송채원",
      "userId": "07880515647457255886"
     },
     "user_tz": -540
    },
    "id": "Cz6fRblF8uJI"
   },
   "outputs": [],
   "source": [
    "submission['output'] = test_result"
   ]
  },
  {
   "cell_type": "code",
   "execution_count": 17,
   "metadata": {
    "colab": {
     "base_uri": "https://localhost:8080/",
     "height": 423
    },
    "executionInfo": {
     "elapsed": 43,
     "status": "ok",
     "timestamp": 1739978903003,
     "user": {
      "displayName": "송채원",
      "userId": "07880515647457255886"
     },
     "user_tz": -540
    },
    "id": "l9vU5FPb8xNK",
    "outputId": "292e9adc-3810-4489-e889-b696c1e28a06"
   },
   "outputs": [
    {
     "data": {
      "application/vnd.google.colaboratory.intrinsic+json": {
       "summary": "{\n  \"name\": \"submission\",\n  \"rows\": 1689,\n  \"fields\": [\n    {\n      \"column\": \"ID\",\n      \"properties\": {\n        \"dtype\": \"string\",\n        \"num_unique_values\": 1689,\n        \"samples\": [\n          \"TEST_0988\",\n          \"TEST_1634\",\n          \"TEST_0752\"\n        ],\n        \"semantic_type\": \"\",\n        \"description\": \"\"\n      }\n    },\n    {\n      \"column\": \"output\",\n      \"properties\": {\n        \"dtype\": \"string\",\n        \"num_unique_values\": 1688,\n        \"samples\": [\n          \"\\uad00\\ub9ac\\ud558\\uc2dc\\ub294 \\ubd84\\ub4e4\\ub3c4 \\ucc29\\ud558\\uc2dc\\uace0 \\ubaa8\\ub4e0 \\uc2dc\\uc124\\uc774 \\uae68\\ub057\\ud574\\uc694~~ \\ub2e4\\uc74c\\uc5d0\\ub3c4 \\ub610 \\ub180\\ub7ec \\uc62c \\uac83 \\uac19\\uc544\\uc694\",\n          \"\\ubc29\\uc548\\uc5d0\\ub294 \\ucc3d\\ubb38\\uc774 \\uc5c6\\uc2b5\\ub2c8\\ub2e4. \\ud63c\\uc790 \\uc624\\uc168\\ub2e4\\uba74 2\\uc778\\uc2e4\\uc744 \\ucd94\\ucc9c\\ub4dc\\ub9bd\\ub2c8\\ub2e4. \\uacc4\\ub2e8\\ub9cc \\uc788\\uc2b5\\ub2c8\\ub2e4. \\uacf5\\uc6a9 \\uc2e4\\ub0b4\\ud654\\ub97c \\uc0ac\\uc6a9\\ud574\\uc57c \\ud569\\ub2c8\\ub2e4. 3\\uce35\\uc5d0\\uc11c \\uccb4\\ud06c\\uc778\\ud558\\uace0 4\\uce35\\uc5d0\\uc11c \\ubb34\\uac70\\uc6cc\\uc694. 2\\uce35\\uc740 \\ud638\\ud504\\uc9d1\\uc785\\ub2c8\\ub2e4. \\uc0dd\\uac01\\ubcf4\\ub2e4 \\uc2dc\\ub044\\ub7fd\\uc9c0 \\uc54a\\uace0 \\uc678\\uad6d\\uc778\\ub4e4\\uc774 \\ub9ce\\uc774 \\uc635\\ub2c8\\ub2e4. 5\\uc6d4\\uc778\\ub370 \\ubaa8\\uae30\\uac00 \\uc788\\uc2b5\\ub2c8\\ub2e4.\",\n          \"\\uc544\\uc8fc \\uc88b\\uc2b5\\ub2c8\\ub2e4. \\uc870\\uc2dd\\ub3c4 \\ub9ce\\uc558\\ub124\\uc694. \\uac00\\uc131\\ube44 \\ucd5c\\uace0^^\"\n        ],\n        \"semantic_type\": \"\",\n        \"description\": \"\"\n      }\n    }\n  ]\n}",
       "type": "dataframe",
       "variable_name": "submission"
      },
      "text/html": [
       "\n",
       "  <div id=\"df-17fa496b-aca8-4ace-8451-5719b9b15d6d\" class=\"colab-df-container\">\n",
       "    <div>\n",
       "<style scoped>\n",
       "    .dataframe tbody tr th:only-of-type {\n",
       "        vertical-align: middle;\n",
       "    }\n",
       "\n",
       "    .dataframe tbody tr th {\n",
       "        vertical-align: top;\n",
       "    }\n",
       "\n",
       "    .dataframe thead th {\n",
       "        text-align: right;\n",
       "    }\n",
       "</style>\n",
       "<table border=\"1\" class=\"dataframe\">\n",
       "  <thead>\n",
       "    <tr style=\"text-align: right;\">\n",
       "      <th></th>\n",
       "      <th>ID</th>\n",
       "      <th>output</th>\n",
       "    </tr>\n",
       "  </thead>\n",
       "  <tbody>\n",
       "    <tr>\n",
       "      <th>0</th>\n",
       "      <td>TEST_0000</td>\n",
       "      <td>너무너무 만족스러운 호텔이에요. 부산에 오면 꼭 추천하고 싶은 곳이에요. 최고입니다...</td>\n",
       "    </tr>\n",
       "    <tr>\n",
       "      <th>1</th>\n",
       "      <td>TEST_0001</td>\n",
       "      <td>프론트가 없고, 조식도 없으며, 일반 입주민들이 사이사이에 있어 호텔처럼 관리가 잘...</td>\n",
       "    </tr>\n",
       "    <tr>\n",
       "      <th>2</th>\n",
       "      <td>TEST_0002</td>\n",
       "      <td>진짜 불친절해요. 살면서 머물렀던 호텔 중에 최악이었습니다. 직원인지 사장인지 체크...</td>\n",
       "    </tr>\n",
       "    <tr>\n",
       "      <th>3</th>\n",
       "      <td>TEST_0003</td>\n",
       "      <td>뷰 맛집~~ 그런데 방음이 미흡하네요. 층간 소음과 발코니가 이중창이 아니라서 밤에...</td>\n",
       "    </tr>\n",
       "    <tr>\n",
       "      <th>4</th>\n",
       "      <td>TEST_0004</td>\n",
       "      <td>방 상태는 진짜 폐허 직전인데 전망은 좋아요. 보일러가 아주 잔잔하게 돌아서 추웠어...</td>\n",
       "    </tr>\n",
       "    <tr>\n",
       "      <th>...</th>\n",
       "      <td>...</td>\n",
       "      <td>...</td>\n",
       "    </tr>\n",
       "    <tr>\n",
       "      <th>1684</th>\n",
       "      <td>TEST_1684</td>\n",
       "      <td>일반실 5만원이고, 프리미엄 6만원짜리는 스타일러스, 안마기도 있고, PC도 있지만...</td>\n",
       "    </tr>\n",
       "    <tr>\n",
       "      <th>1685</th>\n",
       "      <td>TEST_1685</td>\n",
       "      <td>일단 방은 이쁘고, 배달 음식은 금지여서 (외인지는 의문..) 룸서비스랑 조식으로 ...</td>\n",
       "    </tr>\n",
       "    <tr>\n",
       "      <th>1686</th>\n",
       "      <td>TEST_1686</td>\n",
       "      <td>웬만하면 다시 안 올 예정입니다. 거울 외풍이 있습니다. 싫고. 이건 뭐, 관리할 ...</td>\n",
       "    </tr>\n",
       "    <tr>\n",
       "      <th>1687</th>\n",
       "      <td>TEST_1687</td>\n",
       "      <td>도착 후 크게 기대하지 않았는데 직원분들이 친절하시고 2박 머무는 동안 매일 객실도...</td>\n",
       "    </tr>\n",
       "    <tr>\n",
       "      <th>1688</th>\n",
       "      <td>TEST_1688</td>\n",
       "      <td>친구들이랑 멀티플렉스룸에서 투숙했는데 넓기도 넓고 게임할 것도 많아서 좋았어요. 친...</td>\n",
       "    </tr>\n",
       "  </tbody>\n",
       "</table>\n",
       "<p>1689 rows × 2 columns</p>\n",
       "</div>\n",
       "    <div class=\"colab-df-buttons\">\n",
       "\n",
       "  <div class=\"colab-df-container\">\n",
       "    <button class=\"colab-df-convert\" onclick=\"convertToInteractive('df-17fa496b-aca8-4ace-8451-5719b9b15d6d')\"\n",
       "            title=\"Convert this dataframe to an interactive table.\"\n",
       "            style=\"display:none;\">\n",
       "\n",
       "  <svg xmlns=\"http://www.w3.org/2000/svg\" height=\"24px\" viewBox=\"0 -960 960 960\">\n",
       "    <path d=\"M120-120v-720h720v720H120Zm60-500h600v-160H180v160Zm220 220h160v-160H400v160Zm0 220h160v-160H400v160ZM180-400h160v-160H180v160Zm440 0h160v-160H620v160ZM180-180h160v-160H180v160Zm440 0h160v-160H620v160Z\"/>\n",
       "  </svg>\n",
       "    </button>\n",
       "\n",
       "  <style>\n",
       "    .colab-df-container {\n",
       "      display:flex;\n",
       "      gap: 12px;\n",
       "    }\n",
       "\n",
       "    .colab-df-convert {\n",
       "      background-color: #E8F0FE;\n",
       "      border: none;\n",
       "      border-radius: 50%;\n",
       "      cursor: pointer;\n",
       "      display: none;\n",
       "      fill: #1967D2;\n",
       "      height: 32px;\n",
       "      padding: 0 0 0 0;\n",
       "      width: 32px;\n",
       "    }\n",
       "\n",
       "    .colab-df-convert:hover {\n",
       "      background-color: #E2EBFA;\n",
       "      box-shadow: 0px 1px 2px rgba(60, 64, 67, 0.3), 0px 1px 3px 1px rgba(60, 64, 67, 0.15);\n",
       "      fill: #174EA6;\n",
       "    }\n",
       "\n",
       "    .colab-df-buttons div {\n",
       "      margin-bottom: 4px;\n",
       "    }\n",
       "\n",
       "    [theme=dark] .colab-df-convert {\n",
       "      background-color: #3B4455;\n",
       "      fill: #D2E3FC;\n",
       "    }\n",
       "\n",
       "    [theme=dark] .colab-df-convert:hover {\n",
       "      background-color: #434B5C;\n",
       "      box-shadow: 0px 1px 3px 1px rgba(0, 0, 0, 0.15);\n",
       "      filter: drop-shadow(0px 1px 2px rgba(0, 0, 0, 0.3));\n",
       "      fill: #FFFFFF;\n",
       "    }\n",
       "  </style>\n",
       "\n",
       "    <script>\n",
       "      const buttonEl =\n",
       "        document.querySelector('#df-17fa496b-aca8-4ace-8451-5719b9b15d6d button.colab-df-convert');\n",
       "      buttonEl.style.display =\n",
       "        google.colab.kernel.accessAllowed ? 'block' : 'none';\n",
       "\n",
       "      async function convertToInteractive(key) {\n",
       "        const element = document.querySelector('#df-17fa496b-aca8-4ace-8451-5719b9b15d6d');\n",
       "        const dataTable =\n",
       "          await google.colab.kernel.invokeFunction('convertToInteractive',\n",
       "                                                    [key], {});\n",
       "        if (!dataTable) return;\n",
       "\n",
       "        const docLinkHtml = 'Like what you see? Visit the ' +\n",
       "          '<a target=\"_blank\" href=https://colab.research.google.com/notebooks/data_table.ipynb>data table notebook</a>'\n",
       "          + ' to learn more about interactive tables.';\n",
       "        element.innerHTML = '';\n",
       "        dataTable['output_type'] = 'display_data';\n",
       "        await google.colab.output.renderOutput(dataTable, element);\n",
       "        const docLink = document.createElement('div');\n",
       "        docLink.innerHTML = docLinkHtml;\n",
       "        element.appendChild(docLink);\n",
       "      }\n",
       "    </script>\n",
       "  </div>\n",
       "\n",
       "\n",
       "<div id=\"df-b2a56cb2-dc97-406a-8da1-3d07caa77dc7\">\n",
       "  <button class=\"colab-df-quickchart\" onclick=\"quickchart('df-b2a56cb2-dc97-406a-8da1-3d07caa77dc7')\"\n",
       "            title=\"Suggest charts\"\n",
       "            style=\"display:none;\">\n",
       "\n",
       "<svg xmlns=\"http://www.w3.org/2000/svg\" height=\"24px\"viewBox=\"0 0 24 24\"\n",
       "     width=\"24px\">\n",
       "    <g>\n",
       "        <path d=\"M19 3H5c-1.1 0-2 .9-2 2v14c0 1.1.9 2 2 2h14c1.1 0 2-.9 2-2V5c0-1.1-.9-2-2-2zM9 17H7v-7h2v7zm4 0h-2V7h2v10zm4 0h-2v-4h2v4z\"/>\n",
       "    </g>\n",
       "</svg>\n",
       "  </button>\n",
       "\n",
       "<style>\n",
       "  .colab-df-quickchart {\n",
       "      --bg-color: #E8F0FE;\n",
       "      --fill-color: #1967D2;\n",
       "      --hover-bg-color: #E2EBFA;\n",
       "      --hover-fill-color: #174EA6;\n",
       "      --disabled-fill-color: #AAA;\n",
       "      --disabled-bg-color: #DDD;\n",
       "  }\n",
       "\n",
       "  [theme=dark] .colab-df-quickchart {\n",
       "      --bg-color: #3B4455;\n",
       "      --fill-color: #D2E3FC;\n",
       "      --hover-bg-color: #434B5C;\n",
       "      --hover-fill-color: #FFFFFF;\n",
       "      --disabled-bg-color: #3B4455;\n",
       "      --disabled-fill-color: #666;\n",
       "  }\n",
       "\n",
       "  .colab-df-quickchart {\n",
       "    background-color: var(--bg-color);\n",
       "    border: none;\n",
       "    border-radius: 50%;\n",
       "    cursor: pointer;\n",
       "    display: none;\n",
       "    fill: var(--fill-color);\n",
       "    height: 32px;\n",
       "    padding: 0;\n",
       "    width: 32px;\n",
       "  }\n",
       "\n",
       "  .colab-df-quickchart:hover {\n",
       "    background-color: var(--hover-bg-color);\n",
       "    box-shadow: 0 1px 2px rgba(60, 64, 67, 0.3), 0 1px 3px 1px rgba(60, 64, 67, 0.15);\n",
       "    fill: var(--button-hover-fill-color);\n",
       "  }\n",
       "\n",
       "  .colab-df-quickchart-complete:disabled,\n",
       "  .colab-df-quickchart-complete:disabled:hover {\n",
       "    background-color: var(--disabled-bg-color);\n",
       "    fill: var(--disabled-fill-color);\n",
       "    box-shadow: none;\n",
       "  }\n",
       "\n",
       "  .colab-df-spinner {\n",
       "    border: 2px solid var(--fill-color);\n",
       "    border-color: transparent;\n",
       "    border-bottom-color: var(--fill-color);\n",
       "    animation:\n",
       "      spin 1s steps(1) infinite;\n",
       "  }\n",
       "\n",
       "  @keyframes spin {\n",
       "    0% {\n",
       "      border-color: transparent;\n",
       "      border-bottom-color: var(--fill-color);\n",
       "      border-left-color: var(--fill-color);\n",
       "    }\n",
       "    20% {\n",
       "      border-color: transparent;\n",
       "      border-left-color: var(--fill-color);\n",
       "      border-top-color: var(--fill-color);\n",
       "    }\n",
       "    30% {\n",
       "      border-color: transparent;\n",
       "      border-left-color: var(--fill-color);\n",
       "      border-top-color: var(--fill-color);\n",
       "      border-right-color: var(--fill-color);\n",
       "    }\n",
       "    40% {\n",
       "      border-color: transparent;\n",
       "      border-right-color: var(--fill-color);\n",
       "      border-top-color: var(--fill-color);\n",
       "    }\n",
       "    60% {\n",
       "      border-color: transparent;\n",
       "      border-right-color: var(--fill-color);\n",
       "    }\n",
       "    80% {\n",
       "      border-color: transparent;\n",
       "      border-right-color: var(--fill-color);\n",
       "      border-bottom-color: var(--fill-color);\n",
       "    }\n",
       "    90% {\n",
       "      border-color: transparent;\n",
       "      border-bottom-color: var(--fill-color);\n",
       "    }\n",
       "  }\n",
       "</style>\n",
       "\n",
       "  <script>\n",
       "    async function quickchart(key) {\n",
       "      const quickchartButtonEl =\n",
       "        document.querySelector('#' + key + ' button');\n",
       "      quickchartButtonEl.disabled = true;  // To prevent multiple clicks.\n",
       "      quickchartButtonEl.classList.add('colab-df-spinner');\n",
       "      try {\n",
       "        const charts = await google.colab.kernel.invokeFunction(\n",
       "            'suggestCharts', [key], {});\n",
       "      } catch (error) {\n",
       "        console.error('Error during call to suggestCharts:', error);\n",
       "      }\n",
       "      quickchartButtonEl.classList.remove('colab-df-spinner');\n",
       "      quickchartButtonEl.classList.add('colab-df-quickchart-complete');\n",
       "    }\n",
       "    (() => {\n",
       "      let quickchartButtonEl =\n",
       "        document.querySelector('#df-b2a56cb2-dc97-406a-8da1-3d07caa77dc7 button');\n",
       "      quickchartButtonEl.style.display =\n",
       "        google.colab.kernel.accessAllowed ? 'block' : 'none';\n",
       "    })();\n",
       "  </script>\n",
       "</div>\n",
       "\n",
       "  <div id=\"id_4555e082-0f6a-4b78-b07b-b9b8ad93cc1b\">\n",
       "    <style>\n",
       "      .colab-df-generate {\n",
       "        background-color: #E8F0FE;\n",
       "        border: none;\n",
       "        border-radius: 50%;\n",
       "        cursor: pointer;\n",
       "        display: none;\n",
       "        fill: #1967D2;\n",
       "        height: 32px;\n",
       "        padding: 0 0 0 0;\n",
       "        width: 32px;\n",
       "      }\n",
       "\n",
       "      .colab-df-generate:hover {\n",
       "        background-color: #E2EBFA;\n",
       "        box-shadow: 0px 1px 2px rgba(60, 64, 67, 0.3), 0px 1px 3px 1px rgba(60, 64, 67, 0.15);\n",
       "        fill: #174EA6;\n",
       "      }\n",
       "\n",
       "      [theme=dark] .colab-df-generate {\n",
       "        background-color: #3B4455;\n",
       "        fill: #D2E3FC;\n",
       "      }\n",
       "\n",
       "      [theme=dark] .colab-df-generate:hover {\n",
       "        background-color: #434B5C;\n",
       "        box-shadow: 0px 1px 3px 1px rgba(0, 0, 0, 0.15);\n",
       "        filter: drop-shadow(0px 1px 2px rgba(0, 0, 0, 0.3));\n",
       "        fill: #FFFFFF;\n",
       "      }\n",
       "    </style>\n",
       "    <button class=\"colab-df-generate\" onclick=\"generateWithVariable('submission')\"\n",
       "            title=\"Generate code using this dataframe.\"\n",
       "            style=\"display:none;\">\n",
       "\n",
       "  <svg xmlns=\"http://www.w3.org/2000/svg\" height=\"24px\"viewBox=\"0 0 24 24\"\n",
       "       width=\"24px\">\n",
       "    <path d=\"M7,19H8.4L18.45,9,17,7.55,7,17.6ZM5,21V16.75L18.45,3.32a2,2,0,0,1,2.83,0l1.4,1.43a1.91,1.91,0,0,1,.58,1.4,1.91,1.91,0,0,1-.58,1.4L9.25,21ZM18.45,9,17,7.55Zm-12,3A5.31,5.31,0,0,0,4.9,8.1,5.31,5.31,0,0,0,1,6.5,5.31,5.31,0,0,0,4.9,4.9,5.31,5.31,0,0,0,6.5,1,5.31,5.31,0,0,0,8.1,4.9,5.31,5.31,0,0,0,12,6.5,5.46,5.46,0,0,0,6.5,12Z\"/>\n",
       "  </svg>\n",
       "    </button>\n",
       "    <script>\n",
       "      (() => {\n",
       "      const buttonEl =\n",
       "        document.querySelector('#id_4555e082-0f6a-4b78-b07b-b9b8ad93cc1b button.colab-df-generate');\n",
       "      buttonEl.style.display =\n",
       "        google.colab.kernel.accessAllowed ? 'block' : 'none';\n",
       "\n",
       "      buttonEl.onclick = () => {\n",
       "        google.colab.notebook.generateWithVariable('submission');\n",
       "      }\n",
       "      })();\n",
       "    </script>\n",
       "  </div>\n",
       "\n",
       "    </div>\n",
       "  </div>\n"
      ],
      "text/plain": [
       "             ID                                             output\n",
       "0     TEST_0000  너무너무 만족스러운 호텔이에요. 부산에 오면 꼭 추천하고 싶은 곳이에요. 최고입니다...\n",
       "1     TEST_0001  프론트가 없고, 조식도 없으며, 일반 입주민들이 사이사이에 있어 호텔처럼 관리가 잘...\n",
       "2     TEST_0002  진짜 불친절해요. 살면서 머물렀던 호텔 중에 최악이었습니다. 직원인지 사장인지 체크...\n",
       "3     TEST_0003  뷰 맛집~~ 그런데 방음이 미흡하네요. 층간 소음과 발코니가 이중창이 아니라서 밤에...\n",
       "4     TEST_0004  방 상태는 진짜 폐허 직전인데 전망은 좋아요. 보일러가 아주 잔잔하게 돌아서 추웠어...\n",
       "...         ...                                                ...\n",
       "1684  TEST_1684  일반실 5만원이고, 프리미엄 6만원짜리는 스타일러스, 안마기도 있고, PC도 있지만...\n",
       "1685  TEST_1685  일단 방은 이쁘고, 배달 음식은 금지여서 (외인지는 의문..) 룸서비스랑 조식으로 ...\n",
       "1686  TEST_1686  웬만하면 다시 안 올 예정입니다. 거울 외풍이 있습니다. 싫고. 이건 뭐, 관리할 ...\n",
       "1687  TEST_1687  도착 후 크게 기대하지 않았는데 직원분들이 친절하시고 2박 머무는 동안 매일 객실도...\n",
       "1688  TEST_1688  친구들이랑 멀티플렉스룸에서 투숙했는데 넓기도 넓고 게임할 것도 많아서 좋았어요. 친...\n",
       "\n",
       "[1689 rows x 2 columns]"
      ]
     },
     "execution_count": 17,
     "metadata": {},
     "output_type": "execute_result"
    }
   ],
   "source": [
    "submission"
   ]
  },
  {
   "cell_type": "code",
   "execution_count": 18,
   "metadata": {
    "executionInfo": {
     "elapsed": 32,
     "status": "ok",
     "timestamp": 1739978912998,
     "user": {
      "displayName": "송채원",
      "userId": "07880515647457255886"
     },
     "user_tz": -540
    },
    "id": "3rYhHFp78Lhv"
   },
   "outputs": [],
   "source": [
    "submission.to_csv('/content/drive/MyDrive/한글리뷰/20250219(mistralai)2590steps_2-8.csv', index = False, encoding = 'utf-8-sig')"
   ]
  }
 ],
 "metadata": {
  "accelerator": "GPU",
  "colab": {
   "authorship_tag": "ABX9TyOuhhUWob/pebhEunXsiqPM",
   "gpuType": "A100",
   "machine_shape": "hm",
   "provenance": []
  },
  "kernelspec": {
   "display_name": "Python 3",
   "name": "python3"
  },
  "language_info": {
   "name": "python"
  },
  "widgets": {
   "application/vnd.jupyter.widget-state+json": {
    "0228b510692c42e3a6a89e9a5c2455af": {
     "model_module": "@jupyter-widgets/base",
     "model_module_version": "1.2.0",
     "model_name": "LayoutModel",
     "state": {
      "_model_module": "@jupyter-widgets/base",
      "_model_module_version": "1.2.0",
      "_model_name": "LayoutModel",
      "_view_count": null,
      "_view_module": "@jupyter-widgets/base",
      "_view_module_version": "1.2.0",
      "_view_name": "LayoutView",
      "align_content": null,
      "align_items": null,
      "align_self": null,
      "border": null,
      "bottom": null,
      "display": null,
      "flex": null,
      "flex_flow": null,
      "grid_area": null,
      "grid_auto_columns": null,
      "grid_auto_flow": null,
      "grid_auto_rows": null,
      "grid_column": null,
      "grid_gap": null,
      "grid_row": null,
      "grid_template_areas": null,
      "grid_template_columns": null,
      "grid_template_rows": null,
      "height": null,
      "justify_content": null,
      "justify_items": null,
      "left": null,
      "margin": null,
      "max_height": null,
      "max_width": null,
      "min_height": null,
      "min_width": null,
      "object_fit": null,
      "object_position": null,
      "order": null,
      "overflow": null,
      "overflow_x": null,
      "overflow_y": null,
      "padding": null,
      "right": null,
      "top": null,
      "visibility": null,
      "width": null
     }
    },
    "0296f02301e641c7bc43887fe1be1cfc": {
     "model_module": "@jupyter-widgets/base",
     "model_module_version": "1.2.0",
     "model_name": "LayoutModel",
     "state": {
      "_model_module": "@jupyter-widgets/base",
      "_model_module_version": "1.2.0",
      "_model_name": "LayoutModel",
      "_view_count": null,
      "_view_module": "@jupyter-widgets/base",
      "_view_module_version": "1.2.0",
      "_view_name": "LayoutView",
      "align_content": null,
      "align_items": null,
      "align_self": null,
      "border": null,
      "bottom": null,
      "display": null,
      "flex": null,
      "flex_flow": null,
      "grid_area": null,
      "grid_auto_columns": null,
      "grid_auto_flow": null,
      "grid_auto_rows": null,
      "grid_column": null,
      "grid_gap": null,
      "grid_row": null,
      "grid_template_areas": null,
      "grid_template_columns": null,
      "grid_template_rows": null,
      "height": null,
      "justify_content": null,
      "justify_items": null,
      "left": null,
      "margin": null,
      "max_height": null,
      "max_width": null,
      "min_height": null,
      "min_width": null,
      "object_fit": null,
      "object_position": null,
      "order": null,
      "overflow": null,
      "overflow_x": null,
      "overflow_y": null,
      "padding": null,
      "right": null,
      "top": null,
      "visibility": null,
      "width": null
     }
    },
    "031940df3d7448499c53c8ece03cb5d9": {
     "model_module": "@jupyter-widgets/controls",
     "model_module_version": "1.5.0",
     "model_name": "DescriptionStyleModel",
     "state": {
      "_model_module": "@jupyter-widgets/controls",
      "_model_module_version": "1.5.0",
      "_model_name": "DescriptionStyleModel",
      "_view_count": null,
      "_view_module": "@jupyter-widgets/base",
      "_view_module_version": "1.2.0",
      "_view_name": "StyleView",
      "description_width": ""
     }
    },
    "045a6a95a7fb4667a5cc70e42cf999be": {
     "model_module": "@jupyter-widgets/base",
     "model_module_version": "1.2.0",
     "model_name": "LayoutModel",
     "state": {
      "_model_module": "@jupyter-widgets/base",
      "_model_module_version": "1.2.0",
      "_model_name": "LayoutModel",
      "_view_count": null,
      "_view_module": "@jupyter-widgets/base",
      "_view_module_version": "1.2.0",
      "_view_name": "LayoutView",
      "align_content": null,
      "align_items": null,
      "align_self": null,
      "border": null,
      "bottom": null,
      "display": null,
      "flex": null,
      "flex_flow": null,
      "grid_area": null,
      "grid_auto_columns": null,
      "grid_auto_flow": null,
      "grid_auto_rows": null,
      "grid_column": null,
      "grid_gap": null,
      "grid_row": null,
      "grid_template_areas": null,
      "grid_template_columns": null,
      "grid_template_rows": null,
      "height": null,
      "justify_content": null,
      "justify_items": null,
      "left": null,
      "margin": null,
      "max_height": null,
      "max_width": null,
      "min_height": null,
      "min_width": null,
      "object_fit": null,
      "object_position": null,
      "order": null,
      "overflow": null,
      "overflow_x": null,
      "overflow_y": null,
      "padding": null,
      "right": null,
      "top": null,
      "visibility": null,
      "width": null
     }
    },
    "046c00a8ab524ee1bc7197fb8bad5aa5": {
     "model_module": "@jupyter-widgets/controls",
     "model_module_version": "1.5.0",
     "model_name": "HTMLModel",
     "state": {
      "_dom_classes": [],
      "_model_module": "@jupyter-widgets/controls",
      "_model_module_version": "1.5.0",
      "_model_name": "HTMLModel",
      "_view_count": null,
      "_view_module": "@jupyter-widgets/controls",
      "_view_module_version": "1.5.0",
      "_view_name": "HTMLView",
      "description": "",
      "description_tooltip": null,
      "layout": "IPY_MODEL_0296f02301e641c7bc43887fe1be1cfc",
      "placeholder": "​",
      "style": "IPY_MODEL_4f0e053845044922a90992d2ab2daf6c",
      "value": "Tokenizing train dataset (num_proc=8): 100%"
     }
    },
    "06265cc2eecf416db62c0816a7446e18": {
     "model_module": "@jupyter-widgets/controls",
     "model_module_version": "1.5.0",
     "model_name": "HTMLModel",
     "state": {
      "_dom_classes": [],
      "_model_module": "@jupyter-widgets/controls",
      "_model_module_version": "1.5.0",
      "_model_name": "HTMLModel",
      "_view_count": null,
      "_view_module": "@jupyter-widgets/controls",
      "_view_module_version": "1.5.0",
      "_view_name": "HTMLView",
      "description": "",
      "description_tooltip": null,
      "layout": "IPY_MODEL_b9ea9044ab1c4a8eb14b559634c23bd3",
      "placeholder": "​",
      "style": "IPY_MODEL_4f28099686ee4ab3bb99b15d7c8d1979",
      "value": " 11263/11263 [00:01&lt;00:00, 10389.35 examples/s]"
     }
    },
    "071a913a85c8405f9155b1bac2a78b71": {
     "model_module": "@jupyter-widgets/controls",
     "model_module_version": "1.5.0",
     "model_name": "HTMLModel",
     "state": {
      "_dom_classes": [],
      "_model_module": "@jupyter-widgets/controls",
      "_model_module_version": "1.5.0",
      "_model_name": "HTMLModel",
      "_view_count": null,
      "_view_module": "@jupyter-widgets/controls",
      "_view_module_version": "1.5.0",
      "_view_name": "HTMLView",
      "description": "",
      "description_tooltip": null,
      "layout": "IPY_MODEL_c3a1d526edf440d88c73b36e1fed9b82",
      "placeholder": "​",
      "style": "IPY_MODEL_e62bf01104814ab49f440346f68655a7",
      "value": " 11263/11263 [00:03&lt;00:00, 5521.12 examples/s]"
     }
    },
    "0769fdaed29a4cfdb08af1063582e09b": {
     "model_module": "@jupyter-widgets/base",
     "model_module_version": "1.2.0",
     "model_name": "LayoutModel",
     "state": {
      "_model_module": "@jupyter-widgets/base",
      "_model_module_version": "1.2.0",
      "_model_name": "LayoutModel",
      "_view_count": null,
      "_view_module": "@jupyter-widgets/base",
      "_view_module_version": "1.2.0",
      "_view_name": "LayoutView",
      "align_content": null,
      "align_items": null,
      "align_self": null,
      "border": null,
      "bottom": null,
      "display": null,
      "flex": null,
      "flex_flow": null,
      "grid_area": null,
      "grid_auto_columns": null,
      "grid_auto_flow": null,
      "grid_auto_rows": null,
      "grid_column": null,
      "grid_gap": null,
      "grid_row": null,
      "grid_template_areas": null,
      "grid_template_columns": null,
      "grid_template_rows": null,
      "height": null,
      "justify_content": null,
      "justify_items": null,
      "left": null,
      "margin": null,
      "max_height": null,
      "max_width": null,
      "min_height": null,
      "min_width": null,
      "object_fit": null,
      "object_position": null,
      "order": null,
      "overflow": null,
      "overflow_x": null,
      "overflow_y": null,
      "padding": null,
      "right": null,
      "top": null,
      "visibility": null,
      "width": null
     }
    },
    "08728ba41ead4424a34eeef180e55b22": {
     "model_module": "@jupyter-widgets/controls",
     "model_module_version": "1.5.0",
     "model_name": "DescriptionStyleModel",
     "state": {
      "_model_module": "@jupyter-widgets/controls",
      "_model_module_version": "1.5.0",
      "_model_name": "DescriptionStyleModel",
      "_view_count": null,
      "_view_module": "@jupyter-widgets/base",
      "_view_module_version": "1.2.0",
      "_view_name": "StyleView",
      "description_width": ""
     }
    },
    "095ae9c06f384191a8b2919019fa5897": {
     "model_module": "@jupyter-widgets/controls",
     "model_module_version": "1.5.0",
     "model_name": "HTMLModel",
     "state": {
      "_dom_classes": [],
      "_model_module": "@jupyter-widgets/controls",
      "_model_module_version": "1.5.0",
      "_model_name": "HTMLModel",
      "_view_count": null,
      "_view_module": "@jupyter-widgets/controls",
      "_view_module_version": "1.5.0",
      "_view_name": "HTMLView",
      "description": "",
      "description_tooltip": null,
      "layout": "IPY_MODEL_50a4f10599744b2eb76b0b451fc0b745",
      "placeholder": "​",
      "style": "IPY_MODEL_f3dbee22e0a74457b8fbdb637691b7c4",
      "value": " 3/3 [00:05&lt;00:00,  1.87s/it]"
     }
    },
    "0a5958e446ce4c2088f1b9c7165ed652": {
     "model_module": "@jupyter-widgets/base",
     "model_module_version": "1.2.0",
     "model_name": "LayoutModel",
     "state": {
      "_model_module": "@jupyter-widgets/base",
      "_model_module_version": "1.2.0",
      "_model_name": "LayoutModel",
      "_view_count": null,
      "_view_module": "@jupyter-widgets/base",
      "_view_module_version": "1.2.0",
      "_view_name": "LayoutView",
      "align_content": null,
      "align_items": null,
      "align_self": null,
      "border": null,
      "bottom": null,
      "display": null,
      "flex": null,
      "flex_flow": null,
      "grid_area": null,
      "grid_auto_columns": null,
      "grid_auto_flow": null,
      "grid_auto_rows": null,
      "grid_column": null,
      "grid_gap": null,
      "grid_row": null,
      "grid_template_areas": null,
      "grid_template_columns": null,
      "grid_template_rows": null,
      "height": null,
      "justify_content": null,
      "justify_items": null,
      "left": null,
      "margin": null,
      "max_height": null,
      "max_width": null,
      "min_height": null,
      "min_width": null,
      "object_fit": null,
      "object_position": null,
      "order": null,
      "overflow": null,
      "overflow_x": null,
      "overflow_y": null,
      "padding": null,
      "right": null,
      "top": null,
      "visibility": null,
      "width": null
     }
    },
    "0c1f352a09f141889f99bd5983f989b8": {
     "model_module": "@jupyter-widgets/controls",
     "model_module_version": "1.5.0",
     "model_name": "HBoxModel",
     "state": {
      "_dom_classes": [],
      "_model_module": "@jupyter-widgets/controls",
      "_model_module_version": "1.5.0",
      "_model_name": "HBoxModel",
      "_view_count": null,
      "_view_module": "@jupyter-widgets/controls",
      "_view_module_version": "1.5.0",
      "_view_name": "HBoxView",
      "box_style": "",
      "children": [
       "IPY_MODEL_e0ad8ed326d1466ab5b905b7516ad8c6",
       "IPY_MODEL_a2fb0de996cb4ac39f02a6cf4a919eed",
       "IPY_MODEL_348c5c38cec54b1cb87ed5bda2231b75"
      ],
      "layout": "IPY_MODEL_a47994a428a6458193d27536a989f83a"
     }
    },
    "0c3b87100e8b4b38bee39ab69bc42656": {
     "model_module": "@jupyter-widgets/controls",
     "model_module_version": "1.5.0",
     "model_name": "DescriptionStyleModel",
     "state": {
      "_model_module": "@jupyter-widgets/controls",
      "_model_module_version": "1.5.0",
      "_model_name": "DescriptionStyleModel",
      "_view_count": null,
      "_view_module": "@jupyter-widgets/base",
      "_view_module_version": "1.2.0",
      "_view_name": "StyleView",
      "description_width": ""
     }
    },
    "0d2c5f6c547643fd8a421a445630d5f4": {
     "model_module": "@jupyter-widgets/base",
     "model_module_version": "1.2.0",
     "model_name": "LayoutModel",
     "state": {
      "_model_module": "@jupyter-widgets/base",
      "_model_module_version": "1.2.0",
      "_model_name": "LayoutModel",
      "_view_count": null,
      "_view_module": "@jupyter-widgets/base",
      "_view_module_version": "1.2.0",
      "_view_name": "LayoutView",
      "align_content": null,
      "align_items": null,
      "align_self": null,
      "border": null,
      "bottom": null,
      "display": null,
      "flex": null,
      "flex_flow": null,
      "grid_area": null,
      "grid_auto_columns": null,
      "grid_auto_flow": null,
      "grid_auto_rows": null,
      "grid_column": null,
      "grid_gap": null,
      "grid_row": null,
      "grid_template_areas": null,
      "grid_template_columns": null,
      "grid_template_rows": null,
      "height": null,
      "justify_content": null,
      "justify_items": null,
      "left": null,
      "margin": null,
      "max_height": null,
      "max_width": null,
      "min_height": null,
      "min_width": null,
      "object_fit": null,
      "object_position": null,
      "order": null,
      "overflow": null,
      "overflow_x": null,
      "overflow_y": null,
      "padding": null,
      "right": null,
      "top": null,
      "visibility": null,
      "width": null
     }
    },
    "0f1d9cf441a34cf394a8acbeef96d3cc": {
     "model_module": "@jupyter-widgets/controls",
     "model_module_version": "1.5.0",
     "model_name": "FloatProgressModel",
     "state": {
      "_dom_classes": [],
      "_model_module": "@jupyter-widgets/controls",
      "_model_module_version": "1.5.0",
      "_model_name": "FloatProgressModel",
      "_view_count": null,
      "_view_module": "@jupyter-widgets/controls",
      "_view_module_version": "1.5.0",
      "_view_name": "ProgressView",
      "bar_style": "success",
      "description": "",
      "description_tooltip": null,
      "layout": "IPY_MODEL_713be063d7ba480da5fde9568656db66",
      "max": 11263,
      "min": 0,
      "orientation": "horizontal",
      "style": "IPY_MODEL_5c200dcc5ce543cd9958e093d4283c34",
      "value": 11263
     }
    },
    "0ff5fd398650407f92b18814351bc205": {
     "model_module": "@jupyter-widgets/controls",
     "model_module_version": "1.5.0",
     "model_name": "FloatProgressModel",
     "state": {
      "_dom_classes": [],
      "_model_module": "@jupyter-widgets/controls",
      "_model_module_version": "1.5.0",
      "_model_name": "FloatProgressModel",
      "_view_count": null,
      "_view_module": "@jupyter-widgets/controls",
      "_view_module_version": "1.5.0",
      "_view_name": "ProgressView",
      "bar_style": "success",
      "description": "",
      "description_tooltip": null,
      "layout": "IPY_MODEL_c6917dae001c4a2a9c5b6783b7305693",
      "max": 11263,
      "min": 0,
      "orientation": "horizontal",
      "style": "IPY_MODEL_a75b9e6ff5694038a4b2a884a90760f4",
      "value": 11263
     }
    },
    "11efa9564f8d40d3a11c244afbbe70f9": {
     "model_module": "@jupyter-widgets/controls",
     "model_module_version": "1.5.0",
     "model_name": "ProgressStyleModel",
     "state": {
      "_model_module": "@jupyter-widgets/controls",
      "_model_module_version": "1.5.0",
      "_model_name": "ProgressStyleModel",
      "_view_count": null,
      "_view_module": "@jupyter-widgets/base",
      "_view_module_version": "1.2.0",
      "_view_name": "StyleView",
      "bar_color": null,
      "description_width": ""
     }
    },
    "126fc7c9d9fe40819ea0ab9488c98741": {
     "model_module": "@jupyter-widgets/controls",
     "model_module_version": "1.5.0",
     "model_name": "HBoxModel",
     "state": {
      "_dom_classes": [],
      "_model_module": "@jupyter-widgets/controls",
      "_model_module_version": "1.5.0",
      "_model_name": "HBoxModel",
      "_view_count": null,
      "_view_module": "@jupyter-widgets/controls",
      "_view_module_version": "1.5.0",
      "_view_name": "HBoxView",
      "box_style": "",
      "children": [
       "IPY_MODEL_425336124a824904adb149aa49f60a2c",
       "IPY_MODEL_eef35ac1e48e428e94be461ce5e99f54",
       "IPY_MODEL_73addbfca3ec464cadae98fc89ca1d1a"
      ],
      "layout": "IPY_MODEL_b4098eb45e314a8f81ee6fb17c470a99"
     }
    },
    "13c19ce01e6d439e9c35f78fce940b76": {
     "model_module": "@jupyter-widgets/base",
     "model_module_version": "1.2.0",
     "model_name": "LayoutModel",
     "state": {
      "_model_module": "@jupyter-widgets/base",
      "_model_module_version": "1.2.0",
      "_model_name": "LayoutModel",
      "_view_count": null,
      "_view_module": "@jupyter-widgets/base",
      "_view_module_version": "1.2.0",
      "_view_name": "LayoutView",
      "align_content": null,
      "align_items": null,
      "align_self": null,
      "border": null,
      "bottom": null,
      "display": null,
      "flex": null,
      "flex_flow": null,
      "grid_area": null,
      "grid_auto_columns": null,
      "grid_auto_flow": null,
      "grid_auto_rows": null,
      "grid_column": null,
      "grid_gap": null,
      "grid_row": null,
      "grid_template_areas": null,
      "grid_template_columns": null,
      "grid_template_rows": null,
      "height": null,
      "justify_content": null,
      "justify_items": null,
      "left": null,
      "margin": null,
      "max_height": null,
      "max_width": null,
      "min_height": null,
      "min_width": null,
      "object_fit": null,
      "object_position": null,
      "order": null,
      "overflow": null,
      "overflow_x": null,
      "overflow_y": null,
      "padding": null,
      "right": null,
      "top": null,
      "visibility": null,
      "width": null
     }
    },
    "1413505759224776a6d016929ed6f0f3": {
     "model_module": "@jupyter-widgets/base",
     "model_module_version": "1.2.0",
     "model_name": "LayoutModel",
     "state": {
      "_model_module": "@jupyter-widgets/base",
      "_model_module_version": "1.2.0",
      "_model_name": "LayoutModel",
      "_view_count": null,
      "_view_module": "@jupyter-widgets/base",
      "_view_module_version": "1.2.0",
      "_view_name": "LayoutView",
      "align_content": null,
      "align_items": null,
      "align_self": null,
      "border": null,
      "bottom": null,
      "display": null,
      "flex": null,
      "flex_flow": null,
      "grid_area": null,
      "grid_auto_columns": null,
      "grid_auto_flow": null,
      "grid_auto_rows": null,
      "grid_column": null,
      "grid_gap": null,
      "grid_row": null,
      "grid_template_areas": null,
      "grid_template_columns": null,
      "grid_template_rows": null,
      "height": null,
      "justify_content": null,
      "justify_items": null,
      "left": null,
      "margin": null,
      "max_height": null,
      "max_width": null,
      "min_height": null,
      "min_width": null,
      "object_fit": null,
      "object_position": null,
      "order": null,
      "overflow": null,
      "overflow_x": null,
      "overflow_y": null,
      "padding": null,
      "right": null,
      "top": null,
      "visibility": null,
      "width": null
     }
    },
    "15c95c4c0ede4516b9f89ccdeeb87ac7": {
     "model_module": "@jupyter-widgets/controls",
     "model_module_version": "1.5.0",
     "model_name": "HBoxModel",
     "state": {
      "_dom_classes": [],
      "_model_module": "@jupyter-widgets/controls",
      "_model_module_version": "1.5.0",
      "_model_name": "HBoxModel",
      "_view_count": null,
      "_view_module": "@jupyter-widgets/controls",
      "_view_module_version": "1.5.0",
      "_view_name": "HBoxView",
      "box_style": "",
      "children": [
       "IPY_MODEL_046c00a8ab524ee1bc7197fb8bad5aa5",
       "IPY_MODEL_ac3064fadbb349deabeeaebb5550bfdf",
       "IPY_MODEL_523612ab3bfe4f30bb42b282203bc0a5"
      ],
      "layout": "IPY_MODEL_395a4fd973c64de2a124572732fe514e"
     }
    },
    "1711fa2112c04fb391c47360c1783ce1": {
     "model_module": "@jupyter-widgets/base",
     "model_module_version": "1.2.0",
     "model_name": "LayoutModel",
     "state": {
      "_model_module": "@jupyter-widgets/base",
      "_model_module_version": "1.2.0",
      "_model_name": "LayoutModel",
      "_view_count": null,
      "_view_module": "@jupyter-widgets/base",
      "_view_module_version": "1.2.0",
      "_view_name": "LayoutView",
      "align_content": null,
      "align_items": null,
      "align_self": null,
      "border": null,
      "bottom": null,
      "display": null,
      "flex": null,
      "flex_flow": null,
      "grid_area": null,
      "grid_auto_columns": null,
      "grid_auto_flow": null,
      "grid_auto_rows": null,
      "grid_column": null,
      "grid_gap": null,
      "grid_row": null,
      "grid_template_areas": null,
      "grid_template_columns": null,
      "grid_template_rows": null,
      "height": null,
      "justify_content": null,
      "justify_items": null,
      "left": null,
      "margin": null,
      "max_height": null,
      "max_width": null,
      "min_height": null,
      "min_width": null,
      "object_fit": null,
      "object_position": null,
      "order": null,
      "overflow": null,
      "overflow_x": null,
      "overflow_y": null,
      "padding": null,
      "right": null,
      "top": null,
      "visibility": null,
      "width": null
     }
    },
    "174326dbadf74abab4702c5b0a97f5dd": {
     "model_module": "@jupyter-widgets/controls",
     "model_module_version": "1.5.0",
     "model_name": "ProgressStyleModel",
     "state": {
      "_model_module": "@jupyter-widgets/controls",
      "_model_module_version": "1.5.0",
      "_model_name": "ProgressStyleModel",
      "_view_count": null,
      "_view_module": "@jupyter-widgets/base",
      "_view_module_version": "1.2.0",
      "_view_name": "StyleView",
      "bar_color": null,
      "description_width": ""
     }
    },
    "19bdde5bff304a838f1492d7b78b6d3b": {
     "model_module": "@jupyter-widgets/controls",
     "model_module_version": "1.5.0",
     "model_name": "HBoxModel",
     "state": {
      "_dom_classes": [],
      "_model_module": "@jupyter-widgets/controls",
      "_model_module_version": "1.5.0",
      "_model_name": "HBoxModel",
      "_view_count": null,
      "_view_module": "@jupyter-widgets/controls",
      "_view_module_version": "1.5.0",
      "_view_name": "HBoxView",
      "box_style": "",
      "children": [
       "IPY_MODEL_915220744b5b4b9ea7f548d0c8c72252",
       "IPY_MODEL_7d7f2772cf2547cda314e3af4b16529c",
       "IPY_MODEL_8535a7c34a2d4821afc15a1ee28f59db"
      ],
      "layout": "IPY_MODEL_9cff332484eb44d39dea0afb17c68df4"
     }
    },
    "245674309fbc46048ab06feff9118e8a": {
     "model_module": "@jupyter-widgets/controls",
     "model_module_version": "1.5.0",
     "model_name": "DescriptionStyleModel",
     "state": {
      "_model_module": "@jupyter-widgets/controls",
      "_model_module_version": "1.5.0",
      "_model_name": "DescriptionStyleModel",
      "_view_count": null,
      "_view_module": "@jupyter-widgets/base",
      "_view_module_version": "1.2.0",
      "_view_name": "StyleView",
      "description_width": ""
     }
    },
    "250fb1d472884d02aa4237c27c32b264": {
     "model_module": "@jupyter-widgets/base",
     "model_module_version": "1.2.0",
     "model_name": "LayoutModel",
     "state": {
      "_model_module": "@jupyter-widgets/base",
      "_model_module_version": "1.2.0",
      "_model_name": "LayoutModel",
      "_view_count": null,
      "_view_module": "@jupyter-widgets/base",
      "_view_module_version": "1.2.0",
      "_view_name": "LayoutView",
      "align_content": null,
      "align_items": null,
      "align_self": null,
      "border": null,
      "bottom": null,
      "display": null,
      "flex": null,
      "flex_flow": null,
      "grid_area": null,
      "grid_auto_columns": null,
      "grid_auto_flow": null,
      "grid_auto_rows": null,
      "grid_column": null,
      "grid_gap": null,
      "grid_row": null,
      "grid_template_areas": null,
      "grid_template_columns": null,
      "grid_template_rows": null,
      "height": null,
      "justify_content": null,
      "justify_items": null,
      "left": null,
      "margin": null,
      "max_height": null,
      "max_width": null,
      "min_height": null,
      "min_width": null,
      "object_fit": null,
      "object_position": null,
      "order": null,
      "overflow": null,
      "overflow_x": null,
      "overflow_y": null,
      "padding": null,
      "right": null,
      "top": null,
      "visibility": null,
      "width": null
     }
    },
    "25279137e25243e3aa67d4f8ae0ae127": {
     "model_module": "@jupyter-widgets/controls",
     "model_module_version": "1.5.0",
     "model_name": "HTMLModel",
     "state": {
      "_dom_classes": [],
      "_model_module": "@jupyter-widgets/controls",
      "_model_module_version": "1.5.0",
      "_model_name": "HTMLModel",
      "_view_count": null,
      "_view_module": "@jupyter-widgets/controls",
      "_view_module_version": "1.5.0",
      "_view_name": "HTMLView",
      "description": "",
      "description_tooltip": null,
      "layout": "IPY_MODEL_9e7a6dae3daa4da3b31a41a341a29fa0",
      "placeholder": "​",
      "style": "IPY_MODEL_83988b85ccd84c48917d03c8414b03c5",
      "value": "Applying chat template to train dataset (num_proc=8): 100%"
     }
    },
    "28c4d9b4f94c46e393c29a30bbb9db9c": {
     "model_module": "@jupyter-widgets/base",
     "model_module_version": "1.2.0",
     "model_name": "LayoutModel",
     "state": {
      "_model_module": "@jupyter-widgets/base",
      "_model_module_version": "1.2.0",
      "_model_name": "LayoutModel",
      "_view_count": null,
      "_view_module": "@jupyter-widgets/base",
      "_view_module_version": "1.2.0",
      "_view_name": "LayoutView",
      "align_content": null,
      "align_items": null,
      "align_self": null,
      "border": null,
      "bottom": null,
      "display": null,
      "flex": null,
      "flex_flow": null,
      "grid_area": null,
      "grid_auto_columns": null,
      "grid_auto_flow": null,
      "grid_auto_rows": null,
      "grid_column": null,
      "grid_gap": null,
      "grid_row": null,
      "grid_template_areas": null,
      "grid_template_columns": null,
      "grid_template_rows": null,
      "height": null,
      "justify_content": null,
      "justify_items": null,
      "left": null,
      "margin": null,
      "max_height": null,
      "max_width": null,
      "min_height": null,
      "min_width": null,
      "object_fit": null,
      "object_position": null,
      "order": null,
      "overflow": null,
      "overflow_x": null,
      "overflow_y": null,
      "padding": null,
      "right": null,
      "top": null,
      "visibility": null,
      "width": null
     }
    },
    "2a0bc8ad263747e1a322e04f4a474509": {
     "model_module": "@jupyter-widgets/controls",
     "model_module_version": "1.5.0",
     "model_name": "DescriptionStyleModel",
     "state": {
      "_model_module": "@jupyter-widgets/controls",
      "_model_module_version": "1.5.0",
      "_model_name": "DescriptionStyleModel",
      "_view_count": null,
      "_view_module": "@jupyter-widgets/base",
      "_view_module_version": "1.2.0",
      "_view_name": "StyleView",
      "description_width": ""
     }
    },
    "2a4006de8c5844e28d9a25887659f6f7": {
     "model_module": "@jupyter-widgets/base",
     "model_module_version": "1.2.0",
     "model_name": "LayoutModel",
     "state": {
      "_model_module": "@jupyter-widgets/base",
      "_model_module_version": "1.2.0",
      "_model_name": "LayoutModel",
      "_view_count": null,
      "_view_module": "@jupyter-widgets/base",
      "_view_module_version": "1.2.0",
      "_view_name": "LayoutView",
      "align_content": null,
      "align_items": null,
      "align_self": null,
      "border": null,
      "bottom": null,
      "display": null,
      "flex": null,
      "flex_flow": null,
      "grid_area": null,
      "grid_auto_columns": null,
      "grid_auto_flow": null,
      "grid_auto_rows": null,
      "grid_column": null,
      "grid_gap": null,
      "grid_row": null,
      "grid_template_areas": null,
      "grid_template_columns": null,
      "grid_template_rows": null,
      "height": null,
      "justify_content": null,
      "justify_items": null,
      "left": null,
      "margin": null,
      "max_height": null,
      "max_width": null,
      "min_height": null,
      "min_width": null,
      "object_fit": null,
      "object_position": null,
      "order": null,
      "overflow": null,
      "overflow_x": null,
      "overflow_y": null,
      "padding": null,
      "right": null,
      "top": null,
      "visibility": null,
      "width": null
     }
    },
    "34156096f4794ca1a68e8551aca31b28": {
     "model_module": "@jupyter-widgets/controls",
     "model_module_version": "1.5.0",
     "model_name": "ProgressStyleModel",
     "state": {
      "_model_module": "@jupyter-widgets/controls",
      "_model_module_version": "1.5.0",
      "_model_name": "ProgressStyleModel",
      "_view_count": null,
      "_view_module": "@jupyter-widgets/base",
      "_view_module_version": "1.2.0",
      "_view_name": "StyleView",
      "bar_color": null,
      "description_width": ""
     }
    },
    "348c5c38cec54b1cb87ed5bda2231b75": {
     "model_module": "@jupyter-widgets/controls",
     "model_module_version": "1.5.0",
     "model_name": "HTMLModel",
     "state": {
      "_dom_classes": [],
      "_model_module": "@jupyter-widgets/controls",
      "_model_module_version": "1.5.0",
      "_model_name": "HTMLModel",
      "_view_count": null,
      "_view_module": "@jupyter-widgets/controls",
      "_view_module_version": "1.5.0",
      "_view_name": "HTMLView",
      "description": "",
      "description_tooltip": null,
      "layout": "IPY_MODEL_1711fa2112c04fb391c47360c1783ce1",
      "placeholder": "​",
      "style": "IPY_MODEL_528c56ae24644e8f8938656b7fec79ee",
      "value": " 11263/11263 [00:02&lt;00:00, 6501.55 examples/s]"
     }
    },
    "34be30e37e834fe4811b30f8bb2e2734": {
     "model_module": "@jupyter-widgets/controls",
     "model_module_version": "1.5.0",
     "model_name": "DescriptionStyleModel",
     "state": {
      "_model_module": "@jupyter-widgets/controls",
      "_model_module_version": "1.5.0",
      "_model_name": "DescriptionStyleModel",
      "_view_count": null,
      "_view_module": "@jupyter-widgets/base",
      "_view_module_version": "1.2.0",
      "_view_name": "StyleView",
      "description_width": ""
     }
    },
    "35da243baefa4c71a3370355e40c27da": {
     "model_module": "@jupyter-widgets/controls",
     "model_module_version": "1.5.0",
     "model_name": "HTMLModel",
     "state": {
      "_dom_classes": [],
      "_model_module": "@jupyter-widgets/controls",
      "_model_module_version": "1.5.0",
      "_model_name": "HTMLModel",
      "_view_count": null,
      "_view_module": "@jupyter-widgets/controls",
      "_view_module_version": "1.5.0",
      "_view_name": "HTMLView",
      "description": "",
      "description_tooltip": null,
      "layout": "IPY_MODEL_c451b6e6a9884d28a1bf3382ab49a1b5",
      "placeholder": "​",
      "style": "IPY_MODEL_4875889dda1440bab98ff5572ddde648",
      "value": "Loading checkpoint shards: 100%"
     }
    },
    "366a51b83af344eb8fd5af0d22b23aba": {
     "model_module": "@jupyter-widgets/base",
     "model_module_version": "1.2.0",
     "model_name": "LayoutModel",
     "state": {
      "_model_module": "@jupyter-widgets/base",
      "_model_module_version": "1.2.0",
      "_model_name": "LayoutModel",
      "_view_count": null,
      "_view_module": "@jupyter-widgets/base",
      "_view_module_version": "1.2.0",
      "_view_name": "LayoutView",
      "align_content": null,
      "align_items": null,
      "align_self": null,
      "border": null,
      "bottom": null,
      "display": null,
      "flex": null,
      "flex_flow": null,
      "grid_area": null,
      "grid_auto_columns": null,
      "grid_auto_flow": null,
      "grid_auto_rows": null,
      "grid_column": null,
      "grid_gap": null,
      "grid_row": null,
      "grid_template_areas": null,
      "grid_template_columns": null,
      "grid_template_rows": null,
      "height": null,
      "justify_content": null,
      "justify_items": null,
      "left": null,
      "margin": null,
      "max_height": null,
      "max_width": null,
      "min_height": null,
      "min_width": null,
      "object_fit": null,
      "object_position": null,
      "order": null,
      "overflow": null,
      "overflow_x": null,
      "overflow_y": null,
      "padding": null,
      "right": null,
      "top": null,
      "visibility": null,
      "width": null
     }
    },
    "379a4305a38446edbbf4715e05abe606": {
     "model_module": "@jupyter-widgets/base",
     "model_module_version": "1.2.0",
     "model_name": "LayoutModel",
     "state": {
      "_model_module": "@jupyter-widgets/base",
      "_model_module_version": "1.2.0",
      "_model_name": "LayoutModel",
      "_view_count": null,
      "_view_module": "@jupyter-widgets/base",
      "_view_module_version": "1.2.0",
      "_view_name": "LayoutView",
      "align_content": null,
      "align_items": null,
      "align_self": null,
      "border": null,
      "bottom": null,
      "display": null,
      "flex": null,
      "flex_flow": null,
      "grid_area": null,
      "grid_auto_columns": null,
      "grid_auto_flow": null,
      "grid_auto_rows": null,
      "grid_column": null,
      "grid_gap": null,
      "grid_row": null,
      "grid_template_areas": null,
      "grid_template_columns": null,
      "grid_template_rows": null,
      "height": null,
      "justify_content": null,
      "justify_items": null,
      "left": null,
      "margin": null,
      "max_height": null,
      "max_width": null,
      "min_height": null,
      "min_width": null,
      "object_fit": null,
      "object_position": null,
      "order": null,
      "overflow": null,
      "overflow_x": null,
      "overflow_y": null,
      "padding": null,
      "right": null,
      "top": null,
      "visibility": null,
      "width": null
     }
    },
    "381726579564459c949369a7b32cbb29": {
     "model_module": "@jupyter-widgets/controls",
     "model_module_version": "1.5.0",
     "model_name": "DescriptionStyleModel",
     "state": {
      "_model_module": "@jupyter-widgets/controls",
      "_model_module_version": "1.5.0",
      "_model_name": "DescriptionStyleModel",
      "_view_count": null,
      "_view_module": "@jupyter-widgets/base",
      "_view_module_version": "1.2.0",
      "_view_name": "StyleView",
      "description_width": ""
     }
    },
    "395a4fd973c64de2a124572732fe514e": {
     "model_module": "@jupyter-widgets/base",
     "model_module_version": "1.2.0",
     "model_name": "LayoutModel",
     "state": {
      "_model_module": "@jupyter-widgets/base",
      "_model_module_version": "1.2.0",
      "_model_name": "LayoutModel",
      "_view_count": null,
      "_view_module": "@jupyter-widgets/base",
      "_view_module_version": "1.2.0",
      "_view_name": "LayoutView",
      "align_content": null,
      "align_items": null,
      "align_self": null,
      "border": null,
      "bottom": null,
      "display": null,
      "flex": null,
      "flex_flow": null,
      "grid_area": null,
      "grid_auto_columns": null,
      "grid_auto_flow": null,
      "grid_auto_rows": null,
      "grid_column": null,
      "grid_gap": null,
      "grid_row": null,
      "grid_template_areas": null,
      "grid_template_columns": null,
      "grid_template_rows": null,
      "height": null,
      "justify_content": null,
      "justify_items": null,
      "left": null,
      "margin": null,
      "max_height": null,
      "max_width": null,
      "min_height": null,
      "min_width": null,
      "object_fit": null,
      "object_position": null,
      "order": null,
      "overflow": null,
      "overflow_x": null,
      "overflow_y": null,
      "padding": null,
      "right": null,
      "top": null,
      "visibility": null,
      "width": null
     }
    },
    "3aa3165f01ad4d0d9c9f52ac31a0b9d3": {
     "model_module": "@jupyter-widgets/controls",
     "model_module_version": "1.5.0",
     "model_name": "HTMLModel",
     "state": {
      "_dom_classes": [],
      "_model_module": "@jupyter-widgets/controls",
      "_model_module_version": "1.5.0",
      "_model_name": "HTMLModel",
      "_view_count": null,
      "_view_module": "@jupyter-widgets/controls",
      "_view_module_version": "1.5.0",
      "_view_name": "HTMLView",
      "description": "",
      "description_tooltip": null,
      "layout": "IPY_MODEL_0228b510692c42e3a6a89e9a5c2455af",
      "placeholder": "​",
      "style": "IPY_MODEL_7056b62bd72f4929a25684f200e88e7f",
      "value": "Converting train dataset to ChatML (num_proc=2): 100%"
     }
    },
    "3ee3dfb1ae764b8099af8674ba53ba3a": {
     "model_module": "@jupyter-widgets/base",
     "model_module_version": "1.2.0",
     "model_name": "LayoutModel",
     "state": {
      "_model_module": "@jupyter-widgets/base",
      "_model_module_version": "1.2.0",
      "_model_name": "LayoutModel",
      "_view_count": null,
      "_view_module": "@jupyter-widgets/base",
      "_view_module_version": "1.2.0",
      "_view_name": "LayoutView",
      "align_content": null,
      "align_items": null,
      "align_self": null,
      "border": null,
      "bottom": null,
      "display": null,
      "flex": null,
      "flex_flow": null,
      "grid_area": null,
      "grid_auto_columns": null,
      "grid_auto_flow": null,
      "grid_auto_rows": null,
      "grid_column": null,
      "grid_gap": null,
      "grid_row": null,
      "grid_template_areas": null,
      "grid_template_columns": null,
      "grid_template_rows": null,
      "height": null,
      "justify_content": null,
      "justify_items": null,
      "left": null,
      "margin": null,
      "max_height": null,
      "max_width": null,
      "min_height": null,
      "min_width": null,
      "object_fit": null,
      "object_position": null,
      "order": null,
      "overflow": null,
      "overflow_x": null,
      "overflow_y": null,
      "padding": null,
      "right": null,
      "top": null,
      "visibility": null,
      "width": null
     }
    },
    "3fff8ef6d72f426ba8bdd268a8498024": {
     "model_module": "@jupyter-widgets/controls",
     "model_module_version": "1.5.0",
     "model_name": "DescriptionStyleModel",
     "state": {
      "_model_module": "@jupyter-widgets/controls",
      "_model_module_version": "1.5.0",
      "_model_name": "DescriptionStyleModel",
      "_view_count": null,
      "_view_module": "@jupyter-widgets/base",
      "_view_module_version": "1.2.0",
      "_view_name": "StyleView",
      "description_width": ""
     }
    },
    "418507d7deec434bbfe413ebf584ca73": {
     "model_module": "@jupyter-widgets/base",
     "model_module_version": "1.2.0",
     "model_name": "LayoutModel",
     "state": {
      "_model_module": "@jupyter-widgets/base",
      "_model_module_version": "1.2.0",
      "_model_name": "LayoutModel",
      "_view_count": null,
      "_view_module": "@jupyter-widgets/base",
      "_view_module_version": "1.2.0",
      "_view_name": "LayoutView",
      "align_content": null,
      "align_items": null,
      "align_self": null,
      "border": null,
      "bottom": null,
      "display": null,
      "flex": null,
      "flex_flow": null,
      "grid_area": null,
      "grid_auto_columns": null,
      "grid_auto_flow": null,
      "grid_auto_rows": null,
      "grid_column": null,
      "grid_gap": null,
      "grid_row": null,
      "grid_template_areas": null,
      "grid_template_columns": null,
      "grid_template_rows": null,
      "height": null,
      "justify_content": null,
      "justify_items": null,
      "left": null,
      "margin": null,
      "max_height": null,
      "max_width": null,
      "min_height": null,
      "min_width": null,
      "object_fit": null,
      "object_position": null,
      "order": null,
      "overflow": null,
      "overflow_x": null,
      "overflow_y": null,
      "padding": null,
      "right": null,
      "top": null,
      "visibility": null,
      "width": null
     }
    },
    "425336124a824904adb149aa49f60a2c": {
     "model_module": "@jupyter-widgets/controls",
     "model_module_version": "1.5.0",
     "model_name": "HTMLModel",
     "state": {
      "_dom_classes": [],
      "_model_module": "@jupyter-widgets/controls",
      "_model_module_version": "1.5.0",
      "_model_name": "HTMLModel",
      "_view_count": null,
      "_view_module": "@jupyter-widgets/controls",
      "_view_module_version": "1.5.0",
      "_view_name": "HTMLView",
      "description": "",
      "description_tooltip": null,
      "layout": "IPY_MODEL_6f536a4229fa4921949cfbd2fde07aea",
      "placeholder": "​",
      "style": "IPY_MODEL_08728ba41ead4424a34eeef180e55b22",
      "value": "Map: 100%"
     }
    },
    "48707bf916f34669a4a0a2c422d3c226": {
     "model_module": "@jupyter-widgets/controls",
     "model_module_version": "1.5.0",
     "model_name": "HTMLModel",
     "state": {
      "_dom_classes": [],
      "_model_module": "@jupyter-widgets/controls",
      "_model_module_version": "1.5.0",
      "_model_name": "HTMLModel",
      "_view_count": null,
      "_view_module": "@jupyter-widgets/controls",
      "_view_module_version": "1.5.0",
      "_view_name": "HTMLView",
      "description": "",
      "description_tooltip": null,
      "layout": "IPY_MODEL_acba9704ed904f33828d9c68b57b9bdb",
      "placeholder": "​",
      "style": "IPY_MODEL_88e1239c6bf34649bb640bb20ee83916",
      "value": "Tokenizing train dataset (num_proc=8): 100%"
     }
    },
    "4875889dda1440bab98ff5572ddde648": {
     "model_module": "@jupyter-widgets/controls",
     "model_module_version": "1.5.0",
     "model_name": "DescriptionStyleModel",
     "state": {
      "_model_module": "@jupyter-widgets/controls",
      "_model_module_version": "1.5.0",
      "_model_name": "DescriptionStyleModel",
      "_view_count": null,
      "_view_module": "@jupyter-widgets/base",
      "_view_module_version": "1.2.0",
      "_view_name": "StyleView",
      "description_width": ""
     }
    },
    "48c35a72dfcd4fe2a2ce4003608c74ab": {
     "model_module": "@jupyter-widgets/controls",
     "model_module_version": "1.5.0",
     "model_name": "ProgressStyleModel",
     "state": {
      "_model_module": "@jupyter-widgets/controls",
      "_model_module_version": "1.5.0",
      "_model_name": "ProgressStyleModel",
      "_view_count": null,
      "_view_module": "@jupyter-widgets/base",
      "_view_module_version": "1.2.0",
      "_view_name": "StyleView",
      "bar_color": null,
      "description_width": ""
     }
    },
    "49e1e9d5d203494d9d88dee6e7e6c041": {
     "model_module": "@jupyter-widgets/controls",
     "model_module_version": "1.5.0",
     "model_name": "DescriptionStyleModel",
     "state": {
      "_model_module": "@jupyter-widgets/controls",
      "_model_module_version": "1.5.0",
      "_model_name": "DescriptionStyleModel",
      "_view_count": null,
      "_view_module": "@jupyter-widgets/base",
      "_view_module_version": "1.2.0",
      "_view_name": "StyleView",
      "description_width": ""
     }
    },
    "4a4c04e3025b499497b9bc49d37dacf4": {
     "model_module": "@jupyter-widgets/controls",
     "model_module_version": "1.5.0",
     "model_name": "DescriptionStyleModel",
     "state": {
      "_model_module": "@jupyter-widgets/controls",
      "_model_module_version": "1.5.0",
      "_model_name": "DescriptionStyleModel",
      "_view_count": null,
      "_view_module": "@jupyter-widgets/base",
      "_view_module_version": "1.2.0",
      "_view_name": "StyleView",
      "description_width": ""
     }
    },
    "4aa43ce31dfe47629de3bdc171d53a85": {
     "model_module": "@jupyter-widgets/controls",
     "model_module_version": "1.5.0",
     "model_name": "HTMLModel",
     "state": {
      "_dom_classes": [],
      "_model_module": "@jupyter-widgets/controls",
      "_model_module_version": "1.5.0",
      "_model_name": "HTMLModel",
      "_view_count": null,
      "_view_module": "@jupyter-widgets/controls",
      "_view_module_version": "1.5.0",
      "_view_name": "HTMLView",
      "description": "",
      "description_tooltip": null,
      "layout": "IPY_MODEL_5a03ec13229b44c58e414fe8a3b3b92b",
      "placeholder": "​",
      "style": "IPY_MODEL_031940df3d7448499c53c8ece03cb5d9",
      "value": "Applying chat template to train dataset (num_proc=2): 100%"
     }
    },
    "4c8dbcee10c84dc1987a3fb02be7203a": {
     "model_module": "@jupyter-widgets/base",
     "model_module_version": "1.2.0",
     "model_name": "LayoutModel",
     "state": {
      "_model_module": "@jupyter-widgets/base",
      "_model_module_version": "1.2.0",
      "_model_name": "LayoutModel",
      "_view_count": null,
      "_view_module": "@jupyter-widgets/base",
      "_view_module_version": "1.2.0",
      "_view_name": "LayoutView",
      "align_content": null,
      "align_items": null,
      "align_self": null,
      "border": null,
      "bottom": null,
      "display": null,
      "flex": null,
      "flex_flow": null,
      "grid_area": null,
      "grid_auto_columns": null,
      "grid_auto_flow": null,
      "grid_auto_rows": null,
      "grid_column": null,
      "grid_gap": null,
      "grid_row": null,
      "grid_template_areas": null,
      "grid_template_columns": null,
      "grid_template_rows": null,
      "height": null,
      "justify_content": null,
      "justify_items": null,
      "left": null,
      "margin": null,
      "max_height": null,
      "max_width": null,
      "min_height": null,
      "min_width": null,
      "object_fit": null,
      "object_position": null,
      "order": null,
      "overflow": null,
      "overflow_x": null,
      "overflow_y": null,
      "padding": null,
      "right": null,
      "top": null,
      "visibility": null,
      "width": null
     }
    },
    "4f0e053845044922a90992d2ab2daf6c": {
     "model_module": "@jupyter-widgets/controls",
     "model_module_version": "1.5.0",
     "model_name": "DescriptionStyleModel",
     "state": {
      "_model_module": "@jupyter-widgets/controls",
      "_model_module_version": "1.5.0",
      "_model_name": "DescriptionStyleModel",
      "_view_count": null,
      "_view_module": "@jupyter-widgets/base",
      "_view_module_version": "1.2.0",
      "_view_name": "StyleView",
      "description_width": ""
     }
    },
    "4f28099686ee4ab3bb99b15d7c8d1979": {
     "model_module": "@jupyter-widgets/controls",
     "model_module_version": "1.5.0",
     "model_name": "DescriptionStyleModel",
     "state": {
      "_model_module": "@jupyter-widgets/controls",
      "_model_module_version": "1.5.0",
      "_model_name": "DescriptionStyleModel",
      "_view_count": null,
      "_view_module": "@jupyter-widgets/base",
      "_view_module_version": "1.2.0",
      "_view_name": "StyleView",
      "description_width": ""
     }
    },
    "50a4f10599744b2eb76b0b451fc0b745": {
     "model_module": "@jupyter-widgets/base",
     "model_module_version": "1.2.0",
     "model_name": "LayoutModel",
     "state": {
      "_model_module": "@jupyter-widgets/base",
      "_model_module_version": "1.2.0",
      "_model_name": "LayoutModel",
      "_view_count": null,
      "_view_module": "@jupyter-widgets/base",
      "_view_module_version": "1.2.0",
      "_view_name": "LayoutView",
      "align_content": null,
      "align_items": null,
      "align_self": null,
      "border": null,
      "bottom": null,
      "display": null,
      "flex": null,
      "flex_flow": null,
      "grid_area": null,
      "grid_auto_columns": null,
      "grid_auto_flow": null,
      "grid_auto_rows": null,
      "grid_column": null,
      "grid_gap": null,
      "grid_row": null,
      "grid_template_areas": null,
      "grid_template_columns": null,
      "grid_template_rows": null,
      "height": null,
      "justify_content": null,
      "justify_items": null,
      "left": null,
      "margin": null,
      "max_height": null,
      "max_width": null,
      "min_height": null,
      "min_width": null,
      "object_fit": null,
      "object_position": null,
      "order": null,
      "overflow": null,
      "overflow_x": null,
      "overflow_y": null,
      "padding": null,
      "right": null,
      "top": null,
      "visibility": null,
      "width": null
     }
    },
    "523612ab3bfe4f30bb42b282203bc0a5": {
     "model_module": "@jupyter-widgets/controls",
     "model_module_version": "1.5.0",
     "model_name": "HTMLModel",
     "state": {
      "_dom_classes": [],
      "_model_module": "@jupyter-widgets/controls",
      "_model_module_version": "1.5.0",
      "_model_name": "HTMLModel",
      "_view_count": null,
      "_view_module": "@jupyter-widgets/controls",
      "_view_module_version": "1.5.0",
      "_view_name": "HTMLView",
      "description": "",
      "description_tooltip": null,
      "layout": "IPY_MODEL_9cab64c17c4d4f5a8179cd8adbff9a21",
      "placeholder": "​",
      "style": "IPY_MODEL_553e0815910b4e188eecdc2273afd21f",
      "value": " 11263/11263 [00:04&lt;00:00, 3756.84 examples/s]"
     }
    },
    "528c56ae24644e8f8938656b7fec79ee": {
     "model_module": "@jupyter-widgets/controls",
     "model_module_version": "1.5.0",
     "model_name": "DescriptionStyleModel",
     "state": {
      "_model_module": "@jupyter-widgets/controls",
      "_model_module_version": "1.5.0",
      "_model_name": "DescriptionStyleModel",
      "_view_count": null,
      "_view_module": "@jupyter-widgets/base",
      "_view_module_version": "1.2.0",
      "_view_name": "StyleView",
      "description_width": ""
     }
    },
    "52b903fd1e4b4ffcbe08c7ade26ee082": {
     "model_module": "@jupyter-widgets/controls",
     "model_module_version": "1.5.0",
     "model_name": "FloatProgressModel",
     "state": {
      "_dom_classes": [],
      "_model_module": "@jupyter-widgets/controls",
      "_model_module_version": "1.5.0",
      "_model_name": "FloatProgressModel",
      "_view_count": null,
      "_view_module": "@jupyter-widgets/controls",
      "_view_module_version": "1.5.0",
      "_view_name": "ProgressView",
      "bar_style": "success",
      "description": "",
      "description_tooltip": null,
      "layout": "IPY_MODEL_9ad3733092f64d61bc0a51f8d11e3201",
      "max": 11263,
      "min": 0,
      "orientation": "horizontal",
      "style": "IPY_MODEL_53ef660eb05946a2828b2e0e23836c50",
      "value": 11263
     }
    },
    "53ef660eb05946a2828b2e0e23836c50": {
     "model_module": "@jupyter-widgets/controls",
     "model_module_version": "1.5.0",
     "model_name": "ProgressStyleModel",
     "state": {
      "_model_module": "@jupyter-widgets/controls",
      "_model_module_version": "1.5.0",
      "_model_name": "ProgressStyleModel",
      "_view_count": null,
      "_view_module": "@jupyter-widgets/base",
      "_view_module_version": "1.2.0",
      "_view_name": "StyleView",
      "bar_color": null,
      "description_width": ""
     }
    },
    "54bc6e30f52c4ed8bfd4ee27c30de3ce": {
     "model_module": "@jupyter-widgets/controls",
     "model_module_version": "1.5.0",
     "model_name": "DescriptionStyleModel",
     "state": {
      "_model_module": "@jupyter-widgets/controls",
      "_model_module_version": "1.5.0",
      "_model_name": "DescriptionStyleModel",
      "_view_count": null,
      "_view_module": "@jupyter-widgets/base",
      "_view_module_version": "1.2.0",
      "_view_name": "StyleView",
      "description_width": ""
     }
    },
    "553e0815910b4e188eecdc2273afd21f": {
     "model_module": "@jupyter-widgets/controls",
     "model_module_version": "1.5.0",
     "model_name": "DescriptionStyleModel",
     "state": {
      "_model_module": "@jupyter-widgets/controls",
      "_model_module_version": "1.5.0",
      "_model_name": "DescriptionStyleModel",
      "_view_count": null,
      "_view_module": "@jupyter-widgets/base",
      "_view_module_version": "1.2.0",
      "_view_name": "StyleView",
      "description_width": ""
     }
    },
    "56f2ba12ed7a41179210d08e17c9f1e7": {
     "model_module": "@jupyter-widgets/base",
     "model_module_version": "1.2.0",
     "model_name": "LayoutModel",
     "state": {
      "_model_module": "@jupyter-widgets/base",
      "_model_module_version": "1.2.0",
      "_model_name": "LayoutModel",
      "_view_count": null,
      "_view_module": "@jupyter-widgets/base",
      "_view_module_version": "1.2.0",
      "_view_name": "LayoutView",
      "align_content": null,
      "align_items": null,
      "align_self": null,
      "border": null,
      "bottom": null,
      "display": null,
      "flex": null,
      "flex_flow": null,
      "grid_area": null,
      "grid_auto_columns": null,
      "grid_auto_flow": null,
      "grid_auto_rows": null,
      "grid_column": null,
      "grid_gap": null,
      "grid_row": null,
      "grid_template_areas": null,
      "grid_template_columns": null,
      "grid_template_rows": null,
      "height": null,
      "justify_content": null,
      "justify_items": null,
      "left": null,
      "margin": null,
      "max_height": null,
      "max_width": null,
      "min_height": null,
      "min_width": null,
      "object_fit": null,
      "object_position": null,
      "order": null,
      "overflow": null,
      "overflow_x": null,
      "overflow_y": null,
      "padding": null,
      "right": null,
      "top": null,
      "visibility": null,
      "width": null
     }
    },
    "59f501f82e3349baac46df82e8db4829": {
     "model_module": "@jupyter-widgets/controls",
     "model_module_version": "1.5.0",
     "model_name": "ProgressStyleModel",
     "state": {
      "_model_module": "@jupyter-widgets/controls",
      "_model_module_version": "1.5.0",
      "_model_name": "ProgressStyleModel",
      "_view_count": null,
      "_view_module": "@jupyter-widgets/base",
      "_view_module_version": "1.2.0",
      "_view_name": "StyleView",
      "bar_color": null,
      "description_width": ""
     }
    },
    "5a03ec13229b44c58e414fe8a3b3b92b": {
     "model_module": "@jupyter-widgets/base",
     "model_module_version": "1.2.0",
     "model_name": "LayoutModel",
     "state": {
      "_model_module": "@jupyter-widgets/base",
      "_model_module_version": "1.2.0",
      "_model_name": "LayoutModel",
      "_view_count": null,
      "_view_module": "@jupyter-widgets/base",
      "_view_module_version": "1.2.0",
      "_view_name": "LayoutView",
      "align_content": null,
      "align_items": null,
      "align_self": null,
      "border": null,
      "bottom": null,
      "display": null,
      "flex": null,
      "flex_flow": null,
      "grid_area": null,
      "grid_auto_columns": null,
      "grid_auto_flow": null,
      "grid_auto_rows": null,
      "grid_column": null,
      "grid_gap": null,
      "grid_row": null,
      "grid_template_areas": null,
      "grid_template_columns": null,
      "grid_template_rows": null,
      "height": null,
      "justify_content": null,
      "justify_items": null,
      "left": null,
      "margin": null,
      "max_height": null,
      "max_width": null,
      "min_height": null,
      "min_width": null,
      "object_fit": null,
      "object_position": null,
      "order": null,
      "overflow": null,
      "overflow_x": null,
      "overflow_y": null,
      "padding": null,
      "right": null,
      "top": null,
      "visibility": null,
      "width": null
     }
    },
    "5bbebf76167e47f68360098b04bd7e81": {
     "model_module": "@jupyter-widgets/base",
     "model_module_version": "1.2.0",
     "model_name": "LayoutModel",
     "state": {
      "_model_module": "@jupyter-widgets/base",
      "_model_module_version": "1.2.0",
      "_model_name": "LayoutModel",
      "_view_count": null,
      "_view_module": "@jupyter-widgets/base",
      "_view_module_version": "1.2.0",
      "_view_name": "LayoutView",
      "align_content": null,
      "align_items": null,
      "align_self": null,
      "border": null,
      "bottom": null,
      "display": null,
      "flex": null,
      "flex_flow": null,
      "grid_area": null,
      "grid_auto_columns": null,
      "grid_auto_flow": null,
      "grid_auto_rows": null,
      "grid_column": null,
      "grid_gap": null,
      "grid_row": null,
      "grid_template_areas": null,
      "grid_template_columns": null,
      "grid_template_rows": null,
      "height": null,
      "justify_content": null,
      "justify_items": null,
      "left": null,
      "margin": null,
      "max_height": null,
      "max_width": null,
      "min_height": null,
      "min_width": null,
      "object_fit": null,
      "object_position": null,
      "order": null,
      "overflow": null,
      "overflow_x": null,
      "overflow_y": null,
      "padding": null,
      "right": null,
      "top": null,
      "visibility": null,
      "width": null
     }
    },
    "5c200dcc5ce543cd9958e093d4283c34": {
     "model_module": "@jupyter-widgets/controls",
     "model_module_version": "1.5.0",
     "model_name": "ProgressStyleModel",
     "state": {
      "_model_module": "@jupyter-widgets/controls",
      "_model_module_version": "1.5.0",
      "_model_name": "ProgressStyleModel",
      "_view_count": null,
      "_view_module": "@jupyter-widgets/base",
      "_view_module_version": "1.2.0",
      "_view_name": "StyleView",
      "bar_color": null,
      "description_width": ""
     }
    },
    "5eae0e03ab9a4f188082271cf19cc3e6": {
     "model_module": "@jupyter-widgets/controls",
     "model_module_version": "1.5.0",
     "model_name": "HTMLModel",
     "state": {
      "_dom_classes": [],
      "_model_module": "@jupyter-widgets/controls",
      "_model_module_version": "1.5.0",
      "_model_name": "HTMLModel",
      "_view_count": null,
      "_view_module": "@jupyter-widgets/controls",
      "_view_module_version": "1.5.0",
      "_view_name": "HTMLView",
      "description": "",
      "description_tooltip": null,
      "layout": "IPY_MODEL_94b9508f1ab34523b2892dbbfff041b4",
      "placeholder": "​",
      "style": "IPY_MODEL_ec9b264d026d4395b3aef34c0b88b6b5",
      "value": " 11263/11263 [00:04&lt;00:00, 3583.55 examples/s]"
     }
    },
    "5fd765dbbb7a44a48c39ff8a00d42764": {
     "model_module": "@jupyter-widgets/base",
     "model_module_version": "1.2.0",
     "model_name": "LayoutModel",
     "state": {
      "_model_module": "@jupyter-widgets/base",
      "_model_module_version": "1.2.0",
      "_model_name": "LayoutModel",
      "_view_count": null,
      "_view_module": "@jupyter-widgets/base",
      "_view_module_version": "1.2.0",
      "_view_name": "LayoutView",
      "align_content": null,
      "align_items": null,
      "align_self": null,
      "border": null,
      "bottom": null,
      "display": null,
      "flex": null,
      "flex_flow": null,
      "grid_area": null,
      "grid_auto_columns": null,
      "grid_auto_flow": null,
      "grid_auto_rows": null,
      "grid_column": null,
      "grid_gap": null,
      "grid_row": null,
      "grid_template_areas": null,
      "grid_template_columns": null,
      "grid_template_rows": null,
      "height": null,
      "justify_content": null,
      "justify_items": null,
      "left": null,
      "margin": null,
      "max_height": null,
      "max_width": null,
      "min_height": null,
      "min_width": null,
      "object_fit": null,
      "object_position": null,
      "order": null,
      "overflow": null,
      "overflow_x": null,
      "overflow_y": null,
      "padding": null,
      "right": null,
      "top": null,
      "visibility": null,
      "width": null
     }
    },
    "606ee906e39a4c2689a853dc3e53e317": {
     "model_module": "@jupyter-widgets/base",
     "model_module_version": "1.2.0",
     "model_name": "LayoutModel",
     "state": {
      "_model_module": "@jupyter-widgets/base",
      "_model_module_version": "1.2.0",
      "_model_name": "LayoutModel",
      "_view_count": null,
      "_view_module": "@jupyter-widgets/base",
      "_view_module_version": "1.2.0",
      "_view_name": "LayoutView",
      "align_content": null,
      "align_items": null,
      "align_self": null,
      "border": null,
      "bottom": null,
      "display": null,
      "flex": null,
      "flex_flow": null,
      "grid_area": null,
      "grid_auto_columns": null,
      "grid_auto_flow": null,
      "grid_auto_rows": null,
      "grid_column": null,
      "grid_gap": null,
      "grid_row": null,
      "grid_template_areas": null,
      "grid_template_columns": null,
      "grid_template_rows": null,
      "height": null,
      "justify_content": null,
      "justify_items": null,
      "left": null,
      "margin": null,
      "max_height": null,
      "max_width": null,
      "min_height": null,
      "min_width": null,
      "object_fit": null,
      "object_position": null,
      "order": null,
      "overflow": null,
      "overflow_x": null,
      "overflow_y": null,
      "padding": null,
      "right": null,
      "top": null,
      "visibility": null,
      "width": null
     }
    },
    "628cefe131674055859960a593573466": {
     "model_module": "@jupyter-widgets/controls",
     "model_module_version": "1.5.0",
     "model_name": "HTMLModel",
     "state": {
      "_dom_classes": [],
      "_model_module": "@jupyter-widgets/controls",
      "_model_module_version": "1.5.0",
      "_model_name": "HTMLModel",
      "_view_count": null,
      "_view_module": "@jupyter-widgets/controls",
      "_view_module_version": "1.5.0",
      "_view_name": "HTMLView",
      "description": "",
      "description_tooltip": null,
      "layout": "IPY_MODEL_cacb775e78c3435e8f805fe121306af0",
      "placeholder": "​",
      "style": "IPY_MODEL_0c3b87100e8b4b38bee39ab69bc42656",
      "value": " 11263/11263 [00:00&lt;00:00, 82623.10 examples/s]"
     }
    },
    "64bc8d747b954311ada2dd7f7a6a7633": {
     "model_module": "@jupyter-widgets/controls",
     "model_module_version": "1.5.0",
     "model_name": "HTMLModel",
     "state": {
      "_dom_classes": [],
      "_model_module": "@jupyter-widgets/controls",
      "_model_module_version": "1.5.0",
      "_model_name": "HTMLModel",
      "_view_count": null,
      "_view_module": "@jupyter-widgets/controls",
      "_view_module_version": "1.5.0",
      "_view_name": "HTMLView",
      "description": "",
      "description_tooltip": null,
      "layout": "IPY_MODEL_4c8dbcee10c84dc1987a3fb02be7203a",
      "placeholder": "​",
      "style": "IPY_MODEL_a2d7213d15e940b5a65dd4a44f46bc78",
      "value": "Tokenizing train dataset (num_proc=8): 100%"
     }
    },
    "661fb2d1e3f04e21bc894fb58733bbcf": {
     "model_module": "@jupyter-widgets/base",
     "model_module_version": "1.2.0",
     "model_name": "LayoutModel",
     "state": {
      "_model_module": "@jupyter-widgets/base",
      "_model_module_version": "1.2.0",
      "_model_name": "LayoutModel",
      "_view_count": null,
      "_view_module": "@jupyter-widgets/base",
      "_view_module_version": "1.2.0",
      "_view_name": "LayoutView",
      "align_content": null,
      "align_items": null,
      "align_self": null,
      "border": null,
      "bottom": null,
      "display": null,
      "flex": null,
      "flex_flow": null,
      "grid_area": null,
      "grid_auto_columns": null,
      "grid_auto_flow": null,
      "grid_auto_rows": null,
      "grid_column": null,
      "grid_gap": null,
      "grid_row": null,
      "grid_template_areas": null,
      "grid_template_columns": null,
      "grid_template_rows": null,
      "height": null,
      "justify_content": null,
      "justify_items": null,
      "left": null,
      "margin": null,
      "max_height": null,
      "max_width": null,
      "min_height": null,
      "min_width": null,
      "object_fit": null,
      "object_position": null,
      "order": null,
      "overflow": null,
      "overflow_x": null,
      "overflow_y": null,
      "padding": null,
      "right": null,
      "top": null,
      "visibility": null,
      "width": null
     }
    },
    "670981d5bde64ebf934bd40d033b3763": {
     "model_module": "@jupyter-widgets/controls",
     "model_module_version": "1.5.0",
     "model_name": "HTMLModel",
     "state": {
      "_dom_classes": [],
      "_model_module": "@jupyter-widgets/controls",
      "_model_module_version": "1.5.0",
      "_model_name": "HTMLModel",
      "_view_count": null,
      "_view_module": "@jupyter-widgets/controls",
      "_view_module_version": "1.5.0",
      "_view_name": "HTMLView",
      "description": "",
      "description_tooltip": null,
      "layout": "IPY_MODEL_661fb2d1e3f04e21bc894fb58733bbcf",
      "placeholder": "​",
      "style": "IPY_MODEL_4a4c04e3025b499497b9bc49d37dacf4",
      "value": " 11263/11263 [00:05&lt;00:00, 1805.28 examples/s]"
     }
    },
    "67a47b9482a64d749ea98098e51234c4": {
     "model_module": "@jupyter-widgets/controls",
     "model_module_version": "1.5.0",
     "model_name": "HBoxModel",
     "state": {
      "_dom_classes": [],
      "_model_module": "@jupyter-widgets/controls",
      "_model_module_version": "1.5.0",
      "_model_name": "HBoxModel",
      "_view_count": null,
      "_view_module": "@jupyter-widgets/controls",
      "_view_module_version": "1.5.0",
      "_view_name": "HBoxView",
      "box_style": "",
      "children": [
       "IPY_MODEL_4aa43ce31dfe47629de3bdc171d53a85",
       "IPY_MODEL_92d1f36dbef046139e6f0abfaf674474",
       "IPY_MODEL_9e339c4bd7fd46b18529fd1ec7ce3c4d"
      ],
      "layout": "IPY_MODEL_a2397be5c2b142e58c3d8bf3e52c6342"
     }
    },
    "68559dad8fa74cdfbe20d37a7fb2da44": {
     "model_module": "@jupyter-widgets/controls",
     "model_module_version": "1.5.0",
     "model_name": "FloatProgressModel",
     "state": {
      "_dom_classes": [],
      "_model_module": "@jupyter-widgets/controls",
      "_model_module_version": "1.5.0",
      "_model_name": "FloatProgressModel",
      "_view_count": null,
      "_view_module": "@jupyter-widgets/controls",
      "_view_module_version": "1.5.0",
      "_view_name": "ProgressView",
      "bar_style": "success",
      "description": "",
      "description_tooltip": null,
      "layout": "IPY_MODEL_379a4305a38446edbbf4715e05abe606",
      "max": 11263,
      "min": 0,
      "orientation": "horizontal",
      "style": "IPY_MODEL_cac85c2106f24605848c32df09af8cc2",
      "value": 11263
     }
    },
    "6900293e474d40be88c6dec0290ae5b8": {
     "model_module": "@jupyter-widgets/controls",
     "model_module_version": "1.5.0",
     "model_name": "ProgressStyleModel",
     "state": {
      "_model_module": "@jupyter-widgets/controls",
      "_model_module_version": "1.5.0",
      "_model_name": "ProgressStyleModel",
      "_view_count": null,
      "_view_module": "@jupyter-widgets/base",
      "_view_module_version": "1.2.0",
      "_view_name": "StyleView",
      "bar_color": null,
      "description_width": ""
     }
    },
    "695f394f3cc142bf8d5f1f71cf2ab24d": {
     "model_module": "@jupyter-widgets/base",
     "model_module_version": "1.2.0",
     "model_name": "LayoutModel",
     "state": {
      "_model_module": "@jupyter-widgets/base",
      "_model_module_version": "1.2.0",
      "_model_name": "LayoutModel",
      "_view_count": null,
      "_view_module": "@jupyter-widgets/base",
      "_view_module_version": "1.2.0",
      "_view_name": "LayoutView",
      "align_content": null,
      "align_items": null,
      "align_self": null,
      "border": null,
      "bottom": null,
      "display": null,
      "flex": null,
      "flex_flow": null,
      "grid_area": null,
      "grid_auto_columns": null,
      "grid_auto_flow": null,
      "grid_auto_rows": null,
      "grid_column": null,
      "grid_gap": null,
      "grid_row": null,
      "grid_template_areas": null,
      "grid_template_columns": null,
      "grid_template_rows": null,
      "height": null,
      "justify_content": null,
      "justify_items": null,
      "left": null,
      "margin": null,
      "max_height": null,
      "max_width": null,
      "min_height": null,
      "min_width": null,
      "object_fit": null,
      "object_position": null,
      "order": null,
      "overflow": null,
      "overflow_x": null,
      "overflow_y": null,
      "padding": null,
      "right": null,
      "top": null,
      "visibility": null,
      "width": null
     }
    },
    "6a78b203aa8641009379b4820bc98f54": {
     "model_module": "@jupyter-widgets/controls",
     "model_module_version": "1.5.0",
     "model_name": "FloatProgressModel",
     "state": {
      "_dom_classes": [],
      "_model_module": "@jupyter-widgets/controls",
      "_model_module_version": "1.5.0",
      "_model_name": "FloatProgressModel",
      "_view_count": null,
      "_view_module": "@jupyter-widgets/controls",
      "_view_module_version": "1.5.0",
      "_view_name": "ProgressView",
      "bar_style": "success",
      "description": "",
      "description_tooltip": null,
      "layout": "IPY_MODEL_a2ddcfae70424087888252ccf20eeed3",
      "max": 11263,
      "min": 0,
      "orientation": "horizontal",
      "style": "IPY_MODEL_59f501f82e3349baac46df82e8db4829",
      "value": 11263
     }
    },
    "6c586a083d234b7eab2e7109dc46a4bb": {
     "model_module": "@jupyter-widgets/controls",
     "model_module_version": "1.5.0",
     "model_name": "DescriptionStyleModel",
     "state": {
      "_model_module": "@jupyter-widgets/controls",
      "_model_module_version": "1.5.0",
      "_model_name": "DescriptionStyleModel",
      "_view_count": null,
      "_view_module": "@jupyter-widgets/base",
      "_view_module_version": "1.2.0",
      "_view_name": "StyleView",
      "description_width": ""
     }
    },
    "6c7fa11f4cc5477ca8b1e09b2adccab0": {
     "model_module": "@jupyter-widgets/controls",
     "model_module_version": "1.5.0",
     "model_name": "FloatProgressModel",
     "state": {
      "_dom_classes": [],
      "_model_module": "@jupyter-widgets/controls",
      "_model_module_version": "1.5.0",
      "_model_name": "FloatProgressModel",
      "_view_count": null,
      "_view_module": "@jupyter-widgets/controls",
      "_view_module_version": "1.5.0",
      "_view_name": "ProgressView",
      "bar_style": "success",
      "description": "",
      "description_tooltip": null,
      "layout": "IPY_MODEL_695f394f3cc142bf8d5f1f71cf2ab24d",
      "max": 11263,
      "min": 0,
      "orientation": "horizontal",
      "style": "IPY_MODEL_11efa9564f8d40d3a11c244afbbe70f9",
      "value": 11263
     }
    },
    "6d4776952daa4e06817de9511a4a23a1": {
     "model_module": "@jupyter-widgets/base",
     "model_module_version": "1.2.0",
     "model_name": "LayoutModel",
     "state": {
      "_model_module": "@jupyter-widgets/base",
      "_model_module_version": "1.2.0",
      "_model_name": "LayoutModel",
      "_view_count": null,
      "_view_module": "@jupyter-widgets/base",
      "_view_module_version": "1.2.0",
      "_view_name": "LayoutView",
      "align_content": null,
      "align_items": null,
      "align_self": null,
      "border": null,
      "bottom": null,
      "display": null,
      "flex": null,
      "flex_flow": null,
      "grid_area": null,
      "grid_auto_columns": null,
      "grid_auto_flow": null,
      "grid_auto_rows": null,
      "grid_column": null,
      "grid_gap": null,
      "grid_row": null,
      "grid_template_areas": null,
      "grid_template_columns": null,
      "grid_template_rows": null,
      "height": null,
      "justify_content": null,
      "justify_items": null,
      "left": null,
      "margin": null,
      "max_height": null,
      "max_width": null,
      "min_height": null,
      "min_width": null,
      "object_fit": null,
      "object_position": null,
      "order": null,
      "overflow": null,
      "overflow_x": null,
      "overflow_y": null,
      "padding": null,
      "right": null,
      "top": null,
      "visibility": null,
      "width": null
     }
    },
    "6f536a4229fa4921949cfbd2fde07aea": {
     "model_module": "@jupyter-widgets/base",
     "model_module_version": "1.2.0",
     "model_name": "LayoutModel",
     "state": {
      "_model_module": "@jupyter-widgets/base",
      "_model_module_version": "1.2.0",
      "_model_name": "LayoutModel",
      "_view_count": null,
      "_view_module": "@jupyter-widgets/base",
      "_view_module_version": "1.2.0",
      "_view_name": "LayoutView",
      "align_content": null,
      "align_items": null,
      "align_self": null,
      "border": null,
      "bottom": null,
      "display": null,
      "flex": null,
      "flex_flow": null,
      "grid_area": null,
      "grid_auto_columns": null,
      "grid_auto_flow": null,
      "grid_auto_rows": null,
      "grid_column": null,
      "grid_gap": null,
      "grid_row": null,
      "grid_template_areas": null,
      "grid_template_columns": null,
      "grid_template_rows": null,
      "height": null,
      "justify_content": null,
      "justify_items": null,
      "left": null,
      "margin": null,
      "max_height": null,
      "max_width": null,
      "min_height": null,
      "min_width": null,
      "object_fit": null,
      "object_position": null,
      "order": null,
      "overflow": null,
      "overflow_x": null,
      "overflow_y": null,
      "padding": null,
      "right": null,
      "top": null,
      "visibility": null,
      "width": null
     }
    },
    "7056b62bd72f4929a25684f200e88e7f": {
     "model_module": "@jupyter-widgets/controls",
     "model_module_version": "1.5.0",
     "model_name": "DescriptionStyleModel",
     "state": {
      "_model_module": "@jupyter-widgets/controls",
      "_model_module_version": "1.5.0",
      "_model_name": "DescriptionStyleModel",
      "_view_count": null,
      "_view_module": "@jupyter-widgets/base",
      "_view_module_version": "1.2.0",
      "_view_name": "StyleView",
      "description_width": ""
     }
    },
    "70c5a63475bd425083ce0ee381c15693": {
     "model_module": "@jupyter-widgets/base",
     "model_module_version": "1.2.0",
     "model_name": "LayoutModel",
     "state": {
      "_model_module": "@jupyter-widgets/base",
      "_model_module_version": "1.2.0",
      "_model_name": "LayoutModel",
      "_view_count": null,
      "_view_module": "@jupyter-widgets/base",
      "_view_module_version": "1.2.0",
      "_view_name": "LayoutView",
      "align_content": null,
      "align_items": null,
      "align_self": null,
      "border": null,
      "bottom": null,
      "display": null,
      "flex": null,
      "flex_flow": null,
      "grid_area": null,
      "grid_auto_columns": null,
      "grid_auto_flow": null,
      "grid_auto_rows": null,
      "grid_column": null,
      "grid_gap": null,
      "grid_row": null,
      "grid_template_areas": null,
      "grid_template_columns": null,
      "grid_template_rows": null,
      "height": null,
      "justify_content": null,
      "justify_items": null,
      "left": null,
      "margin": null,
      "max_height": null,
      "max_width": null,
      "min_height": null,
      "min_width": null,
      "object_fit": null,
      "object_position": null,
      "order": null,
      "overflow": null,
      "overflow_x": null,
      "overflow_y": null,
      "padding": null,
      "right": null,
      "top": null,
      "visibility": null,
      "width": null
     }
    },
    "70d267fd84cb45a897b896297c446db7": {
     "model_module": "@jupyter-widgets/base",
     "model_module_version": "1.2.0",
     "model_name": "LayoutModel",
     "state": {
      "_model_module": "@jupyter-widgets/base",
      "_model_module_version": "1.2.0",
      "_model_name": "LayoutModel",
      "_view_count": null,
      "_view_module": "@jupyter-widgets/base",
      "_view_module_version": "1.2.0",
      "_view_name": "LayoutView",
      "align_content": null,
      "align_items": null,
      "align_self": null,
      "border": null,
      "bottom": null,
      "display": null,
      "flex": null,
      "flex_flow": null,
      "grid_area": null,
      "grid_auto_columns": null,
      "grid_auto_flow": null,
      "grid_auto_rows": null,
      "grid_column": null,
      "grid_gap": null,
      "grid_row": null,
      "grid_template_areas": null,
      "grid_template_columns": null,
      "grid_template_rows": null,
      "height": null,
      "justify_content": null,
      "justify_items": null,
      "left": null,
      "margin": null,
      "max_height": null,
      "max_width": null,
      "min_height": null,
      "min_width": null,
      "object_fit": null,
      "object_position": null,
      "order": null,
      "overflow": null,
      "overflow_x": null,
      "overflow_y": null,
      "padding": null,
      "right": null,
      "top": null,
      "visibility": null,
      "width": null
     }
    },
    "7110e7cb3fcd4e8688021890d0b9edb5": {
     "model_module": "@jupyter-widgets/controls",
     "model_module_version": "1.5.0",
     "model_name": "HBoxModel",
     "state": {
      "_dom_classes": [],
      "_model_module": "@jupyter-widgets/controls",
      "_model_module_version": "1.5.0",
      "_model_name": "HBoxModel",
      "_view_count": null,
      "_view_module": "@jupyter-widgets/controls",
      "_view_module_version": "1.5.0",
      "_view_name": "HBoxView",
      "box_style": "",
      "children": [
       "IPY_MODEL_b5cf53b7badc45b6b668d577e89db62d",
       "IPY_MODEL_0f1d9cf441a34cf394a8acbeef96d3cc",
       "IPY_MODEL_06265cc2eecf416db62c0816a7446e18"
      ],
      "layout": "IPY_MODEL_70d267fd84cb45a897b896297c446db7"
     }
    },
    "713be063d7ba480da5fde9568656db66": {
     "model_module": "@jupyter-widgets/base",
     "model_module_version": "1.2.0",
     "model_name": "LayoutModel",
     "state": {
      "_model_module": "@jupyter-widgets/base",
      "_model_module_version": "1.2.0",
      "_model_name": "LayoutModel",
      "_view_count": null,
      "_view_module": "@jupyter-widgets/base",
      "_view_module_version": "1.2.0",
      "_view_name": "LayoutView",
      "align_content": null,
      "align_items": null,
      "align_self": null,
      "border": null,
      "bottom": null,
      "display": null,
      "flex": null,
      "flex_flow": null,
      "grid_area": null,
      "grid_auto_columns": null,
      "grid_auto_flow": null,
      "grid_auto_rows": null,
      "grid_column": null,
      "grid_gap": null,
      "grid_row": null,
      "grid_template_areas": null,
      "grid_template_columns": null,
      "grid_template_rows": null,
      "height": null,
      "justify_content": null,
      "justify_items": null,
      "left": null,
      "margin": null,
      "max_height": null,
      "max_width": null,
      "min_height": null,
      "min_width": null,
      "object_fit": null,
      "object_position": null,
      "order": null,
      "overflow": null,
      "overflow_x": null,
      "overflow_y": null,
      "padding": null,
      "right": null,
      "top": null,
      "visibility": null,
      "width": null
     }
    },
    "724ec8012acd44c69138e00acf99c145": {
     "model_module": "@jupyter-widgets/controls",
     "model_module_version": "1.5.0",
     "model_name": "HBoxModel",
     "state": {
      "_dom_classes": [],
      "_model_module": "@jupyter-widgets/controls",
      "_model_module_version": "1.5.0",
      "_model_name": "HBoxModel",
      "_view_count": null,
      "_view_module": "@jupyter-widgets/controls",
      "_view_module_version": "1.5.0",
      "_view_name": "HBoxView",
      "box_style": "",
      "children": [
       "IPY_MODEL_f0a5b41b16904af895584aeb3d786015",
       "IPY_MODEL_0ff5fd398650407f92b18814351bc205",
       "IPY_MODEL_f67e6bf5c1d64fa8ba9278f732c58fd2"
      ],
      "layout": "IPY_MODEL_c188ce0603ab4999bdd90e62bb42b544"
     }
    },
    "7273de52ccc9481194b02e90faf9e77b": {
     "model_module": "@jupyter-widgets/controls",
     "model_module_version": "1.5.0",
     "model_name": "DescriptionStyleModel",
     "state": {
      "_model_module": "@jupyter-widgets/controls",
      "_model_module_version": "1.5.0",
      "_model_name": "DescriptionStyleModel",
      "_view_count": null,
      "_view_module": "@jupyter-widgets/base",
      "_view_module_version": "1.2.0",
      "_view_name": "StyleView",
      "description_width": ""
     }
    },
    "732cde52fda94e1ba8d3650d2333d2ce": {
     "model_module": "@jupyter-widgets/controls",
     "model_module_version": "1.5.0",
     "model_name": "HBoxModel",
     "state": {
      "_dom_classes": [],
      "_model_module": "@jupyter-widgets/controls",
      "_model_module_version": "1.5.0",
      "_model_name": "HBoxModel",
      "_view_count": null,
      "_view_module": "@jupyter-widgets/controls",
      "_view_module_version": "1.5.0",
      "_view_name": "HBoxView",
      "box_style": "",
      "children": [
       "IPY_MODEL_35da243baefa4c71a3370355e40c27da",
       "IPY_MODEL_c6909b3b4a184cc4b9c2927add4bfe6e",
       "IPY_MODEL_095ae9c06f384191a8b2919019fa5897"
      ],
      "layout": "IPY_MODEL_aa6c959f26174516ab81c2a4dcf335c2"
     }
    },
    "73addbfca3ec464cadae98fc89ca1d1a": {
     "model_module": "@jupyter-widgets/controls",
     "model_module_version": "1.5.0",
     "model_name": "HTMLModel",
     "state": {
      "_dom_classes": [],
      "_model_module": "@jupyter-widgets/controls",
      "_model_module_version": "1.5.0",
      "_model_name": "HTMLModel",
      "_view_count": null,
      "_view_module": "@jupyter-widgets/controls",
      "_view_module_version": "1.5.0",
      "_view_name": "HTMLView",
      "description": "",
      "description_tooltip": null,
      "layout": "IPY_MODEL_6d4776952daa4e06817de9511a4a23a1",
      "placeholder": "​",
      "style": "IPY_MODEL_b829dadcbc5e4a409c899ec2eb3208e2",
      "value": " 11263/11263 [00:00&lt;00:00, 84950.51 examples/s]"
     }
    },
    "750975ea257d40b4ba1ae557f632dda0": {
     "model_module": "@jupyter-widgets/controls",
     "model_module_version": "1.5.0",
     "model_name": "HTMLModel",
     "state": {
      "_dom_classes": [],
      "_model_module": "@jupyter-widgets/controls",
      "_model_module_version": "1.5.0",
      "_model_name": "HTMLModel",
      "_view_count": null,
      "_view_module": "@jupyter-widgets/controls",
      "_view_module_version": "1.5.0",
      "_view_name": "HTMLView",
      "description": "",
      "description_tooltip": null,
      "layout": "IPY_MODEL_3ee3dfb1ae764b8099af8674ba53ba3a",
      "placeholder": "​",
      "style": "IPY_MODEL_b8a4dc593aa44f8dba7c602f20838974",
      "value": " 11263/11263 [00:00&lt;00:00, 25552.30 examples/s]"
     }
    },
    "7510ef74d675451493592b81d35f1b42": {
     "model_module": "@jupyter-widgets/controls",
     "model_module_version": "1.5.0",
     "model_name": "HBoxModel",
     "state": {
      "_dom_classes": [],
      "_model_module": "@jupyter-widgets/controls",
      "_model_module_version": "1.5.0",
      "_model_name": "HBoxModel",
      "_view_count": null,
      "_view_module": "@jupyter-widgets/controls",
      "_view_module_version": "1.5.0",
      "_view_name": "HBoxView",
      "box_style": "",
      "children": [
       "IPY_MODEL_64bc8d747b954311ada2dd7f7a6a7633",
       "IPY_MODEL_784af8f3ae724d1d94499b4ccec9a994",
       "IPY_MODEL_5eae0e03ab9a4f188082271cf19cc3e6"
      ],
      "layout": "IPY_MODEL_d983c63cbfca49dc81ddea282e853299"
     }
    },
    "76444c7d3b844b1a8900b92200b38175": {
     "model_module": "@jupyter-widgets/base",
     "model_module_version": "1.2.0",
     "model_name": "LayoutModel",
     "state": {
      "_model_module": "@jupyter-widgets/base",
      "_model_module_version": "1.2.0",
      "_model_name": "LayoutModel",
      "_view_count": null,
      "_view_module": "@jupyter-widgets/base",
      "_view_module_version": "1.2.0",
      "_view_name": "LayoutView",
      "align_content": null,
      "align_items": null,
      "align_self": null,
      "border": null,
      "bottom": null,
      "display": null,
      "flex": null,
      "flex_flow": null,
      "grid_area": null,
      "grid_auto_columns": null,
      "grid_auto_flow": null,
      "grid_auto_rows": null,
      "grid_column": null,
      "grid_gap": null,
      "grid_row": null,
      "grid_template_areas": null,
      "grid_template_columns": null,
      "grid_template_rows": null,
      "height": null,
      "justify_content": null,
      "justify_items": null,
      "left": null,
      "margin": null,
      "max_height": null,
      "max_width": null,
      "min_height": null,
      "min_width": null,
      "object_fit": null,
      "object_position": null,
      "order": null,
      "overflow": null,
      "overflow_x": null,
      "overflow_y": null,
      "padding": null,
      "right": null,
      "top": null,
      "visibility": null,
      "width": null
     }
    },
    "76dea870d02c4b88a92217b8a317caf3": {
     "model_module": "@jupyter-widgets/base",
     "model_module_version": "1.2.0",
     "model_name": "LayoutModel",
     "state": {
      "_model_module": "@jupyter-widgets/base",
      "_model_module_version": "1.2.0",
      "_model_name": "LayoutModel",
      "_view_count": null,
      "_view_module": "@jupyter-widgets/base",
      "_view_module_version": "1.2.0",
      "_view_name": "LayoutView",
      "align_content": null,
      "align_items": null,
      "align_self": null,
      "border": null,
      "bottom": null,
      "display": null,
      "flex": null,
      "flex_flow": null,
      "grid_area": null,
      "grid_auto_columns": null,
      "grid_auto_flow": null,
      "grid_auto_rows": null,
      "grid_column": null,
      "grid_gap": null,
      "grid_row": null,
      "grid_template_areas": null,
      "grid_template_columns": null,
      "grid_template_rows": null,
      "height": null,
      "justify_content": null,
      "justify_items": null,
      "left": null,
      "margin": null,
      "max_height": null,
      "max_width": null,
      "min_height": null,
      "min_width": null,
      "object_fit": null,
      "object_position": null,
      "order": null,
      "overflow": null,
      "overflow_x": null,
      "overflow_y": null,
      "padding": null,
      "right": null,
      "top": null,
      "visibility": null,
      "width": null
     }
    },
    "784af8f3ae724d1d94499b4ccec9a994": {
     "model_module": "@jupyter-widgets/controls",
     "model_module_version": "1.5.0",
     "model_name": "FloatProgressModel",
     "state": {
      "_dom_classes": [],
      "_model_module": "@jupyter-widgets/controls",
      "_model_module_version": "1.5.0",
      "_model_name": "FloatProgressModel",
      "_view_count": null,
      "_view_module": "@jupyter-widgets/controls",
      "_view_module_version": "1.5.0",
      "_view_name": "ProgressView",
      "bar_style": "success",
      "description": "",
      "description_tooltip": null,
      "layout": "IPY_MODEL_0d2c5f6c547643fd8a421a445630d5f4",
      "max": 11263,
      "min": 0,
      "orientation": "horizontal",
      "style": "IPY_MODEL_c7670af74f5c48d4a601f469af5ad87b",
      "value": 11263
     }
    },
    "78c8fc9a57e54e17972d324800a49628": {
     "model_module": "@jupyter-widgets/controls",
     "model_module_version": "1.5.0",
     "model_name": "HTMLModel",
     "state": {
      "_dom_classes": [],
      "_model_module": "@jupyter-widgets/controls",
      "_model_module_version": "1.5.0",
      "_model_name": "HTMLModel",
      "_view_count": null,
      "_view_module": "@jupyter-widgets/controls",
      "_view_module_version": "1.5.0",
      "_view_name": "HTMLView",
      "description": "",
      "description_tooltip": null,
      "layout": "IPY_MODEL_606ee906e39a4c2689a853dc3e53e317",
      "placeholder": "​",
      "style": "IPY_MODEL_54bc6e30f52c4ed8bfd4ee27c30de3ce",
      "value": "Tokenizing train dataset (num_proc=2): 100%"
     }
    },
    "7a16b88762344cc4a44411127318dc41": {
     "model_module": "@jupyter-widgets/controls",
     "model_module_version": "1.5.0",
     "model_name": "HTMLModel",
     "state": {
      "_dom_classes": [],
      "_model_module": "@jupyter-widgets/controls",
      "_model_module_version": "1.5.0",
      "_model_name": "HTMLModel",
      "_view_count": null,
      "_view_module": "@jupyter-widgets/controls",
      "_view_module_version": "1.5.0",
      "_view_name": "HTMLView",
      "description": "",
      "description_tooltip": null,
      "layout": "IPY_MODEL_7a6180e04ef641c4977f42b48e3f44a1",
      "placeholder": "​",
      "style": "IPY_MODEL_6c586a083d234b7eab2e7109dc46a4bb",
      "value": " 3/3 [00:05&lt;00:00,  1.93s/it]"
     }
    },
    "7a6180e04ef641c4977f42b48e3f44a1": {
     "model_module": "@jupyter-widgets/base",
     "model_module_version": "1.2.0",
     "model_name": "LayoutModel",
     "state": {
      "_model_module": "@jupyter-widgets/base",
      "_model_module_version": "1.2.0",
      "_model_name": "LayoutModel",
      "_view_count": null,
      "_view_module": "@jupyter-widgets/base",
      "_view_module_version": "1.2.0",
      "_view_name": "LayoutView",
      "align_content": null,
      "align_items": null,
      "align_self": null,
      "border": null,
      "bottom": null,
      "display": null,
      "flex": null,
      "flex_flow": null,
      "grid_area": null,
      "grid_auto_columns": null,
      "grid_auto_flow": null,
      "grid_auto_rows": null,
      "grid_column": null,
      "grid_gap": null,
      "grid_row": null,
      "grid_template_areas": null,
      "grid_template_columns": null,
      "grid_template_rows": null,
      "height": null,
      "justify_content": null,
      "justify_items": null,
      "left": null,
      "margin": null,
      "max_height": null,
      "max_width": null,
      "min_height": null,
      "min_width": null,
      "object_fit": null,
      "object_position": null,
      "order": null,
      "overflow": null,
      "overflow_x": null,
      "overflow_y": null,
      "padding": null,
      "right": null,
      "top": null,
      "visibility": null,
      "width": null
     }
    },
    "7d7f2772cf2547cda314e3af4b16529c": {
     "model_module": "@jupyter-widgets/controls",
     "model_module_version": "1.5.0",
     "model_name": "FloatProgressModel",
     "state": {
      "_dom_classes": [],
      "_model_module": "@jupyter-widgets/controls",
      "_model_module_version": "1.5.0",
      "_model_name": "FloatProgressModel",
      "_view_count": null,
      "_view_module": "@jupyter-widgets/controls",
      "_view_module_version": "1.5.0",
      "_view_name": "ProgressView",
      "bar_style": "success",
      "description": "",
      "description_tooltip": null,
      "layout": "IPY_MODEL_5bbebf76167e47f68360098b04bd7e81",
      "max": 11263,
      "min": 0,
      "orientation": "horizontal",
      "style": "IPY_MODEL_9bbd862c0b7d4bd9a7358c4870046a90",
      "value": 11263
     }
    },
    "820e3fd9ca694443a2d04e7301528a74": {
     "model_module": "@jupyter-widgets/base",
     "model_module_version": "1.2.0",
     "model_name": "LayoutModel",
     "state": {
      "_model_module": "@jupyter-widgets/base",
      "_model_module_version": "1.2.0",
      "_model_name": "LayoutModel",
      "_view_count": null,
      "_view_module": "@jupyter-widgets/base",
      "_view_module_version": "1.2.0",
      "_view_name": "LayoutView",
      "align_content": null,
      "align_items": null,
      "align_self": null,
      "border": null,
      "bottom": null,
      "display": null,
      "flex": null,
      "flex_flow": null,
      "grid_area": null,
      "grid_auto_columns": null,
      "grid_auto_flow": null,
      "grid_auto_rows": null,
      "grid_column": null,
      "grid_gap": null,
      "grid_row": null,
      "grid_template_areas": null,
      "grid_template_columns": null,
      "grid_template_rows": null,
      "height": null,
      "justify_content": null,
      "justify_items": null,
      "left": null,
      "margin": null,
      "max_height": null,
      "max_width": null,
      "min_height": null,
      "min_width": null,
      "object_fit": null,
      "object_position": null,
      "order": null,
      "overflow": null,
      "overflow_x": null,
      "overflow_y": null,
      "padding": null,
      "right": null,
      "top": null,
      "visibility": null,
      "width": null
     }
    },
    "83988b85ccd84c48917d03c8414b03c5": {
     "model_module": "@jupyter-widgets/controls",
     "model_module_version": "1.5.0",
     "model_name": "DescriptionStyleModel",
     "state": {
      "_model_module": "@jupyter-widgets/controls",
      "_model_module_version": "1.5.0",
      "_model_name": "DescriptionStyleModel",
      "_view_count": null,
      "_view_module": "@jupyter-widgets/base",
      "_view_module_version": "1.2.0",
      "_view_name": "StyleView",
      "description_width": ""
     }
    },
    "8535a7c34a2d4821afc15a1ee28f59db": {
     "model_module": "@jupyter-widgets/controls",
     "model_module_version": "1.5.0",
     "model_name": "HTMLModel",
     "state": {
      "_dom_classes": [],
      "_model_module": "@jupyter-widgets/controls",
      "_model_module_version": "1.5.0",
      "_model_name": "HTMLModel",
      "_view_count": null,
      "_view_module": "@jupyter-widgets/controls",
      "_view_module_version": "1.5.0",
      "_view_name": "HTMLView",
      "description": "",
      "description_tooltip": null,
      "layout": "IPY_MODEL_c860f91dc7274dd587c72f31c647c0fa",
      "placeholder": "​",
      "style": "IPY_MODEL_a3977769beb1417fb0332f20b19905ee",
      "value": " 11263/11263 [00:02&lt;00:00, 5849.04 examples/s]"
     }
    },
    "859c9a6e5ab24b16a771b3933604db95": {
     "model_module": "@jupyter-widgets/controls",
     "model_module_version": "1.5.0",
     "model_name": "ProgressStyleModel",
     "state": {
      "_model_module": "@jupyter-widgets/controls",
      "_model_module_version": "1.5.0",
      "_model_name": "ProgressStyleModel",
      "_view_count": null,
      "_view_module": "@jupyter-widgets/base",
      "_view_module_version": "1.2.0",
      "_view_name": "StyleView",
      "bar_color": null,
      "description_width": ""
     }
    },
    "85d79be4241d4068b9c9a02e34a07f05": {
     "model_module": "@jupyter-widgets/controls",
     "model_module_version": "1.5.0",
     "model_name": "HBoxModel",
     "state": {
      "_dom_classes": [],
      "_model_module": "@jupyter-widgets/controls",
      "_model_module_version": "1.5.0",
      "_model_name": "HBoxModel",
      "_view_count": null,
      "_view_module": "@jupyter-widgets/controls",
      "_view_module_version": "1.5.0",
      "_view_name": "HBoxView",
      "box_style": "",
      "children": [
       "IPY_MODEL_78c8fc9a57e54e17972d324800a49628",
       "IPY_MODEL_68559dad8fa74cdfbe20d37a7fb2da44",
       "IPY_MODEL_670981d5bde64ebf934bd40d033b3763"
      ],
      "layout": "IPY_MODEL_366a51b83af344eb8fd5af0d22b23aba"
     }
    },
    "88e1239c6bf34649bb640bb20ee83916": {
     "model_module": "@jupyter-widgets/controls",
     "model_module_version": "1.5.0",
     "model_name": "DescriptionStyleModel",
     "state": {
      "_model_module": "@jupyter-widgets/controls",
      "_model_module_version": "1.5.0",
      "_model_name": "DescriptionStyleModel",
      "_view_count": null,
      "_view_module": "@jupyter-widgets/base",
      "_view_module_version": "1.2.0",
      "_view_name": "StyleView",
      "description_width": ""
     }
    },
    "8a1638f247e34f6ebaddb54ccb189ce6": {
     "model_module": "@jupyter-widgets/base",
     "model_module_version": "1.2.0",
     "model_name": "LayoutModel",
     "state": {
      "_model_module": "@jupyter-widgets/base",
      "_model_module_version": "1.2.0",
      "_model_name": "LayoutModel",
      "_view_count": null,
      "_view_module": "@jupyter-widgets/base",
      "_view_module_version": "1.2.0",
      "_view_name": "LayoutView",
      "align_content": null,
      "align_items": null,
      "align_self": null,
      "border": null,
      "bottom": null,
      "display": null,
      "flex": null,
      "flex_flow": null,
      "grid_area": null,
      "grid_auto_columns": null,
      "grid_auto_flow": null,
      "grid_auto_rows": null,
      "grid_column": null,
      "grid_gap": null,
      "grid_row": null,
      "grid_template_areas": null,
      "grid_template_columns": null,
      "grid_template_rows": null,
      "height": null,
      "justify_content": null,
      "justify_items": null,
      "left": null,
      "margin": null,
      "max_height": null,
      "max_width": null,
      "min_height": null,
      "min_width": null,
      "object_fit": null,
      "object_position": null,
      "order": null,
      "overflow": null,
      "overflow_x": null,
      "overflow_y": null,
      "padding": null,
      "right": null,
      "top": null,
      "visibility": null,
      "width": null
     }
    },
    "90d2f0bb3e06431c83f448d262c5b943": {
     "model_module": "@jupyter-widgets/controls",
     "model_module_version": "1.5.0",
     "model_name": "HBoxModel",
     "state": {
      "_dom_classes": [],
      "_model_module": "@jupyter-widgets/controls",
      "_model_module_version": "1.5.0",
      "_model_name": "HBoxModel",
      "_view_count": null,
      "_view_module": "@jupyter-widgets/controls",
      "_view_module_version": "1.5.0",
      "_view_name": "HBoxView",
      "box_style": "",
      "children": [
       "IPY_MODEL_af1b27152cad4455b472b77c7b79d2f1",
       "IPY_MODEL_6a78b203aa8641009379b4820bc98f54",
       "IPY_MODEL_ba1e850582c846cb90a159bd3507962c"
      ],
      "layout": "IPY_MODEL_8a1638f247e34f6ebaddb54ccb189ce6"
     }
    },
    "915220744b5b4b9ea7f548d0c8c72252": {
     "model_module": "@jupyter-widgets/controls",
     "model_module_version": "1.5.0",
     "model_name": "HTMLModel",
     "state": {
      "_dom_classes": [],
      "_model_module": "@jupyter-widgets/controls",
      "_model_module_version": "1.5.0",
      "_model_name": "HTMLModel",
      "_view_count": null,
      "_view_module": "@jupyter-widgets/controls",
      "_view_module_version": "1.5.0",
      "_view_name": "HTMLView",
      "description": "",
      "description_tooltip": null,
      "layout": "IPY_MODEL_2a4006de8c5844e28d9a25887659f6f7",
      "placeholder": "​",
      "style": "IPY_MODEL_34be30e37e834fe4811b30f8bb2e2734",
      "value": "Applying chat template to train dataset (num_proc=8): 100%"
     }
    },
    "92d1f36dbef046139e6f0abfaf674474": {
     "model_module": "@jupyter-widgets/controls",
     "model_module_version": "1.5.0",
     "model_name": "FloatProgressModel",
     "state": {
      "_dom_classes": [],
      "_model_module": "@jupyter-widgets/controls",
      "_model_module_version": "1.5.0",
      "_model_name": "FloatProgressModel",
      "_view_count": null,
      "_view_module": "@jupyter-widgets/controls",
      "_view_module_version": "1.5.0",
      "_view_name": "ProgressView",
      "bar_style": "success",
      "description": "",
      "description_tooltip": null,
      "layout": "IPY_MODEL_28c4d9b4f94c46e393c29a30bbb9db9c",
      "max": 11263,
      "min": 0,
      "orientation": "horizontal",
      "style": "IPY_MODEL_bdbde916319a401dbdc8e1d941c23521",
      "value": 11263
     }
    },
    "94b9508f1ab34523b2892dbbfff041b4": {
     "model_module": "@jupyter-widgets/base",
     "model_module_version": "1.2.0",
     "model_name": "LayoutModel",
     "state": {
      "_model_module": "@jupyter-widgets/base",
      "_model_module_version": "1.2.0",
      "_model_name": "LayoutModel",
      "_view_count": null,
      "_view_module": "@jupyter-widgets/base",
      "_view_module_version": "1.2.0",
      "_view_name": "LayoutView",
      "align_content": null,
      "align_items": null,
      "align_self": null,
      "border": null,
      "bottom": null,
      "display": null,
      "flex": null,
      "flex_flow": null,
      "grid_area": null,
      "grid_auto_columns": null,
      "grid_auto_flow": null,
      "grid_auto_rows": null,
      "grid_column": null,
      "grid_gap": null,
      "grid_row": null,
      "grid_template_areas": null,
      "grid_template_columns": null,
      "grid_template_rows": null,
      "height": null,
      "justify_content": null,
      "justify_items": null,
      "left": null,
      "margin": null,
      "max_height": null,
      "max_width": null,
      "min_height": null,
      "min_width": null,
      "object_fit": null,
      "object_position": null,
      "order": null,
      "overflow": null,
      "overflow_x": null,
      "overflow_y": null,
      "padding": null,
      "right": null,
      "top": null,
      "visibility": null,
      "width": null
     }
    },
    "9a485a40c01e49259360b5a04906a034": {
     "model_module": "@jupyter-widgets/controls",
     "model_module_version": "1.5.0",
     "model_name": "ProgressStyleModel",
     "state": {
      "_model_module": "@jupyter-widgets/controls",
      "_model_module_version": "1.5.0",
      "_model_name": "ProgressStyleModel",
      "_view_count": null,
      "_view_module": "@jupyter-widgets/base",
      "_view_module_version": "1.2.0",
      "_view_name": "StyleView",
      "bar_color": null,
      "description_width": ""
     }
    },
    "9a90545b8e2f40feb2033873921fc9b7": {
     "model_module": "@jupyter-widgets/controls",
     "model_module_version": "1.5.0",
     "model_name": "HBoxModel",
     "state": {
      "_dom_classes": [],
      "_model_module": "@jupyter-widgets/controls",
      "_model_module_version": "1.5.0",
      "_model_name": "HBoxModel",
      "_view_count": null,
      "_view_module": "@jupyter-widgets/controls",
      "_view_module_version": "1.5.0",
      "_view_name": "HBoxView",
      "box_style": "",
      "children": [
       "IPY_MODEL_25279137e25243e3aa67d4f8ae0ae127",
       "IPY_MODEL_afc14bf9861640e2b0e2870fc8a4894b",
       "IPY_MODEL_071a913a85c8405f9155b1bac2a78b71"
      ],
      "layout": "IPY_MODEL_fe5b792816b141239c44d76cc5713dfe"
     }
    },
    "9ad3733092f64d61bc0a51f8d11e3201": {
     "model_module": "@jupyter-widgets/base",
     "model_module_version": "1.2.0",
     "model_name": "LayoutModel",
     "state": {
      "_model_module": "@jupyter-widgets/base",
      "_model_module_version": "1.2.0",
      "_model_name": "LayoutModel",
      "_view_count": null,
      "_view_module": "@jupyter-widgets/base",
      "_view_module_version": "1.2.0",
      "_view_name": "LayoutView",
      "align_content": null,
      "align_items": null,
      "align_self": null,
      "border": null,
      "bottom": null,
      "display": null,
      "flex": null,
      "flex_flow": null,
      "grid_area": null,
      "grid_auto_columns": null,
      "grid_auto_flow": null,
      "grid_auto_rows": null,
      "grid_column": null,
      "grid_gap": null,
      "grid_row": null,
      "grid_template_areas": null,
      "grid_template_columns": null,
      "grid_template_rows": null,
      "height": null,
      "justify_content": null,
      "justify_items": null,
      "left": null,
      "margin": null,
      "max_height": null,
      "max_width": null,
      "min_height": null,
      "min_width": null,
      "object_fit": null,
      "object_position": null,
      "order": null,
      "overflow": null,
      "overflow_x": null,
      "overflow_y": null,
      "padding": null,
      "right": null,
      "top": null,
      "visibility": null,
      "width": null
     }
    },
    "9bbd862c0b7d4bd9a7358c4870046a90": {
     "model_module": "@jupyter-widgets/controls",
     "model_module_version": "1.5.0",
     "model_name": "ProgressStyleModel",
     "state": {
      "_model_module": "@jupyter-widgets/controls",
      "_model_module_version": "1.5.0",
      "_model_name": "ProgressStyleModel",
      "_view_count": null,
      "_view_module": "@jupyter-widgets/base",
      "_view_module_version": "1.2.0",
      "_view_name": "StyleView",
      "bar_color": null,
      "description_width": ""
     }
    },
    "9cab64c17c4d4f5a8179cd8adbff9a21": {
     "model_module": "@jupyter-widgets/base",
     "model_module_version": "1.2.0",
     "model_name": "LayoutModel",
     "state": {
      "_model_module": "@jupyter-widgets/base",
      "_model_module_version": "1.2.0",
      "_model_name": "LayoutModel",
      "_view_count": null,
      "_view_module": "@jupyter-widgets/base",
      "_view_module_version": "1.2.0",
      "_view_name": "LayoutView",
      "align_content": null,
      "align_items": null,
      "align_self": null,
      "border": null,
      "bottom": null,
      "display": null,
      "flex": null,
      "flex_flow": null,
      "grid_area": null,
      "grid_auto_columns": null,
      "grid_auto_flow": null,
      "grid_auto_rows": null,
      "grid_column": null,
      "grid_gap": null,
      "grid_row": null,
      "grid_template_areas": null,
      "grid_template_columns": null,
      "grid_template_rows": null,
      "height": null,
      "justify_content": null,
      "justify_items": null,
      "left": null,
      "margin": null,
      "max_height": null,
      "max_width": null,
      "min_height": null,
      "min_width": null,
      "object_fit": null,
      "object_position": null,
      "order": null,
      "overflow": null,
      "overflow_x": null,
      "overflow_y": null,
      "padding": null,
      "right": null,
      "top": null,
      "visibility": null,
      "width": null
     }
    },
    "9cff332484eb44d39dea0afb17c68df4": {
     "model_module": "@jupyter-widgets/base",
     "model_module_version": "1.2.0",
     "model_name": "LayoutModel",
     "state": {
      "_model_module": "@jupyter-widgets/base",
      "_model_module_version": "1.2.0",
      "_model_name": "LayoutModel",
      "_view_count": null,
      "_view_module": "@jupyter-widgets/base",
      "_view_module_version": "1.2.0",
      "_view_name": "LayoutView",
      "align_content": null,
      "align_items": null,
      "align_self": null,
      "border": null,
      "bottom": null,
      "display": null,
      "flex": null,
      "flex_flow": null,
      "grid_area": null,
      "grid_auto_columns": null,
      "grid_auto_flow": null,
      "grid_auto_rows": null,
      "grid_column": null,
      "grid_gap": null,
      "grid_row": null,
      "grid_template_areas": null,
      "grid_template_columns": null,
      "grid_template_rows": null,
      "height": null,
      "justify_content": null,
      "justify_items": null,
      "left": null,
      "margin": null,
      "max_height": null,
      "max_width": null,
      "min_height": null,
      "min_width": null,
      "object_fit": null,
      "object_position": null,
      "order": null,
      "overflow": null,
      "overflow_x": null,
      "overflow_y": null,
      "padding": null,
      "right": null,
      "top": null,
      "visibility": null,
      "width": null
     }
    },
    "9e339c4bd7fd46b18529fd1ec7ce3c4d": {
     "model_module": "@jupyter-widgets/controls",
     "model_module_version": "1.5.0",
     "model_name": "HTMLModel",
     "state": {
      "_dom_classes": [],
      "_model_module": "@jupyter-widgets/controls",
      "_model_module_version": "1.5.0",
      "_model_name": "HTMLModel",
      "_view_count": null,
      "_view_module": "@jupyter-widgets/controls",
      "_view_module_version": "1.5.0",
      "_view_name": "HTMLView",
      "description": "",
      "description_tooltip": null,
      "layout": "IPY_MODEL_dd7918da6d324778b82583b3956d6ccb",
      "placeholder": "​",
      "style": "IPY_MODEL_c0f8825335e6497ebae220d799746dd5",
      "value": " 11263/11263 [00:02&lt;00:00, 7624.21 examples/s]"
     }
    },
    "9e7a6dae3daa4da3b31a41a341a29fa0": {
     "model_module": "@jupyter-widgets/base",
     "model_module_version": "1.2.0",
     "model_name": "LayoutModel",
     "state": {
      "_model_module": "@jupyter-widgets/base",
      "_model_module_version": "1.2.0",
      "_model_name": "LayoutModel",
      "_view_count": null,
      "_view_module": "@jupyter-widgets/base",
      "_view_module_version": "1.2.0",
      "_view_name": "LayoutView",
      "align_content": null,
      "align_items": null,
      "align_self": null,
      "border": null,
      "bottom": null,
      "display": null,
      "flex": null,
      "flex_flow": null,
      "grid_area": null,
      "grid_auto_columns": null,
      "grid_auto_flow": null,
      "grid_auto_rows": null,
      "grid_column": null,
      "grid_gap": null,
      "grid_row": null,
      "grid_template_areas": null,
      "grid_template_columns": null,
      "grid_template_rows": null,
      "height": null,
      "justify_content": null,
      "justify_items": null,
      "left": null,
      "margin": null,
      "max_height": null,
      "max_width": null,
      "min_height": null,
      "min_width": null,
      "object_fit": null,
      "object_position": null,
      "order": null,
      "overflow": null,
      "overflow_x": null,
      "overflow_y": null,
      "padding": null,
      "right": null,
      "top": null,
      "visibility": null,
      "width": null
     }
    },
    "a2397be5c2b142e58c3d8bf3e52c6342": {
     "model_module": "@jupyter-widgets/base",
     "model_module_version": "1.2.0",
     "model_name": "LayoutModel",
     "state": {
      "_model_module": "@jupyter-widgets/base",
      "_model_module_version": "1.2.0",
      "_model_name": "LayoutModel",
      "_view_count": null,
      "_view_module": "@jupyter-widgets/base",
      "_view_module_version": "1.2.0",
      "_view_name": "LayoutView",
      "align_content": null,
      "align_items": null,
      "align_self": null,
      "border": null,
      "bottom": null,
      "display": null,
      "flex": null,
      "flex_flow": null,
      "grid_area": null,
      "grid_auto_columns": null,
      "grid_auto_flow": null,
      "grid_auto_rows": null,
      "grid_column": null,
      "grid_gap": null,
      "grid_row": null,
      "grid_template_areas": null,
      "grid_template_columns": null,
      "grid_template_rows": null,
      "height": null,
      "justify_content": null,
      "justify_items": null,
      "left": null,
      "margin": null,
      "max_height": null,
      "max_width": null,
      "min_height": null,
      "min_width": null,
      "object_fit": null,
      "object_position": null,
      "order": null,
      "overflow": null,
      "overflow_x": null,
      "overflow_y": null,
      "padding": null,
      "right": null,
      "top": null,
      "visibility": null,
      "width": null
     }
    },
    "a2d7213d15e940b5a65dd4a44f46bc78": {
     "model_module": "@jupyter-widgets/controls",
     "model_module_version": "1.5.0",
     "model_name": "DescriptionStyleModel",
     "state": {
      "_model_module": "@jupyter-widgets/controls",
      "_model_module_version": "1.5.0",
      "_model_name": "DescriptionStyleModel",
      "_view_count": null,
      "_view_module": "@jupyter-widgets/base",
      "_view_module_version": "1.2.0",
      "_view_name": "StyleView",
      "description_width": ""
     }
    },
    "a2ddcfae70424087888252ccf20eeed3": {
     "model_module": "@jupyter-widgets/base",
     "model_module_version": "1.2.0",
     "model_name": "LayoutModel",
     "state": {
      "_model_module": "@jupyter-widgets/base",
      "_model_module_version": "1.2.0",
      "_model_name": "LayoutModel",
      "_view_count": null,
      "_view_module": "@jupyter-widgets/base",
      "_view_module_version": "1.2.0",
      "_view_name": "LayoutView",
      "align_content": null,
      "align_items": null,
      "align_self": null,
      "border": null,
      "bottom": null,
      "display": null,
      "flex": null,
      "flex_flow": null,
      "grid_area": null,
      "grid_auto_columns": null,
      "grid_auto_flow": null,
      "grid_auto_rows": null,
      "grid_column": null,
      "grid_gap": null,
      "grid_row": null,
      "grid_template_areas": null,
      "grid_template_columns": null,
      "grid_template_rows": null,
      "height": null,
      "justify_content": null,
      "justify_items": null,
      "left": null,
      "margin": null,
      "max_height": null,
      "max_width": null,
      "min_height": null,
      "min_width": null,
      "object_fit": null,
      "object_position": null,
      "order": null,
      "overflow": null,
      "overflow_x": null,
      "overflow_y": null,
      "padding": null,
      "right": null,
      "top": null,
      "visibility": null,
      "width": null
     }
    },
    "a2fb0de996cb4ac39f02a6cf4a919eed": {
     "model_module": "@jupyter-widgets/controls",
     "model_module_version": "1.5.0",
     "model_name": "FloatProgressModel",
     "state": {
      "_dom_classes": [],
      "_model_module": "@jupyter-widgets/controls",
      "_model_module_version": "1.5.0",
      "_model_name": "FloatProgressModel",
      "_view_count": null,
      "_view_module": "@jupyter-widgets/controls",
      "_view_module_version": "1.5.0",
      "_view_name": "ProgressView",
      "bar_style": "success",
      "description": "",
      "description_tooltip": null,
      "layout": "IPY_MODEL_418507d7deec434bbfe413ebf584ca73",
      "max": 11263,
      "min": 0,
      "orientation": "horizontal",
      "style": "IPY_MODEL_859c9a6e5ab24b16a771b3933604db95",
      "value": 11263
     }
    },
    "a3977769beb1417fb0332f20b19905ee": {
     "model_module": "@jupyter-widgets/controls",
     "model_module_version": "1.5.0",
     "model_name": "DescriptionStyleModel",
     "state": {
      "_model_module": "@jupyter-widgets/controls",
      "_model_module_version": "1.5.0",
      "_model_name": "DescriptionStyleModel",
      "_view_count": null,
      "_view_module": "@jupyter-widgets/base",
      "_view_module_version": "1.2.0",
      "_view_name": "StyleView",
      "description_width": ""
     }
    },
    "a47994a428a6458193d27536a989f83a": {
     "model_module": "@jupyter-widgets/base",
     "model_module_version": "1.2.0",
     "model_name": "LayoutModel",
     "state": {
      "_model_module": "@jupyter-widgets/base",
      "_model_module_version": "1.2.0",
      "_model_name": "LayoutModel",
      "_view_count": null,
      "_view_module": "@jupyter-widgets/base",
      "_view_module_version": "1.2.0",
      "_view_name": "LayoutView",
      "align_content": null,
      "align_items": null,
      "align_self": null,
      "border": null,
      "bottom": null,
      "display": null,
      "flex": null,
      "flex_flow": null,
      "grid_area": null,
      "grid_auto_columns": null,
      "grid_auto_flow": null,
      "grid_auto_rows": null,
      "grid_column": null,
      "grid_gap": null,
      "grid_row": null,
      "grid_template_areas": null,
      "grid_template_columns": null,
      "grid_template_rows": null,
      "height": null,
      "justify_content": null,
      "justify_items": null,
      "left": null,
      "margin": null,
      "max_height": null,
      "max_width": null,
      "min_height": null,
      "min_width": null,
      "object_fit": null,
      "object_position": null,
      "order": null,
      "overflow": null,
      "overflow_x": null,
      "overflow_y": null,
      "padding": null,
      "right": null,
      "top": null,
      "visibility": null,
      "width": null
     }
    },
    "a75b9e6ff5694038a4b2a884a90760f4": {
     "model_module": "@jupyter-widgets/controls",
     "model_module_version": "1.5.0",
     "model_name": "ProgressStyleModel",
     "state": {
      "_model_module": "@jupyter-widgets/controls",
      "_model_module_version": "1.5.0",
      "_model_name": "ProgressStyleModel",
      "_view_count": null,
      "_view_module": "@jupyter-widgets/base",
      "_view_module_version": "1.2.0",
      "_view_name": "StyleView",
      "bar_color": null,
      "description_width": ""
     }
    },
    "aa6c959f26174516ab81c2a4dcf335c2": {
     "model_module": "@jupyter-widgets/base",
     "model_module_version": "1.2.0",
     "model_name": "LayoutModel",
     "state": {
      "_model_module": "@jupyter-widgets/base",
      "_model_module_version": "1.2.0",
      "_model_name": "LayoutModel",
      "_view_count": null,
      "_view_module": "@jupyter-widgets/base",
      "_view_module_version": "1.2.0",
      "_view_name": "LayoutView",
      "align_content": null,
      "align_items": null,
      "align_self": null,
      "border": null,
      "bottom": null,
      "display": null,
      "flex": null,
      "flex_flow": null,
      "grid_area": null,
      "grid_auto_columns": null,
      "grid_auto_flow": null,
      "grid_auto_rows": null,
      "grid_column": null,
      "grid_gap": null,
      "grid_row": null,
      "grid_template_areas": null,
      "grid_template_columns": null,
      "grid_template_rows": null,
      "height": null,
      "justify_content": null,
      "justify_items": null,
      "left": null,
      "margin": null,
      "max_height": null,
      "max_width": null,
      "min_height": null,
      "min_width": null,
      "object_fit": null,
      "object_position": null,
      "order": null,
      "overflow": null,
      "overflow_x": null,
      "overflow_y": null,
      "padding": null,
      "right": null,
      "top": null,
      "visibility": null,
      "width": null
     }
    },
    "ac3064fadbb349deabeeaebb5550bfdf": {
     "model_module": "@jupyter-widgets/controls",
     "model_module_version": "1.5.0",
     "model_name": "FloatProgressModel",
     "state": {
      "_dom_classes": [],
      "_model_module": "@jupyter-widgets/controls",
      "_model_module_version": "1.5.0",
      "_model_name": "FloatProgressModel",
      "_view_count": null,
      "_view_module": "@jupyter-widgets/controls",
      "_view_module_version": "1.5.0",
      "_view_name": "ProgressView",
      "bar_style": "success",
      "description": "",
      "description_tooltip": null,
      "layout": "IPY_MODEL_820e3fd9ca694443a2d04e7301528a74",
      "max": 11263,
      "min": 0,
      "orientation": "horizontal",
      "style": "IPY_MODEL_174326dbadf74abab4702c5b0a97f5dd",
      "value": 11263
     }
    },
    "acba9704ed904f33828d9c68b57b9bdb": {
     "model_module": "@jupyter-widgets/base",
     "model_module_version": "1.2.0",
     "model_name": "LayoutModel",
     "state": {
      "_model_module": "@jupyter-widgets/base",
      "_model_module_version": "1.2.0",
      "_model_name": "LayoutModel",
      "_view_count": null,
      "_view_module": "@jupyter-widgets/base",
      "_view_module_version": "1.2.0",
      "_view_name": "LayoutView",
      "align_content": null,
      "align_items": null,
      "align_self": null,
      "border": null,
      "bottom": null,
      "display": null,
      "flex": null,
      "flex_flow": null,
      "grid_area": null,
      "grid_auto_columns": null,
      "grid_auto_flow": null,
      "grid_auto_rows": null,
      "grid_column": null,
      "grid_gap": null,
      "grid_row": null,
      "grid_template_areas": null,
      "grid_template_columns": null,
      "grid_template_rows": null,
      "height": null,
      "justify_content": null,
      "justify_items": null,
      "left": null,
      "margin": null,
      "max_height": null,
      "max_width": null,
      "min_height": null,
      "min_width": null,
      "object_fit": null,
      "object_position": null,
      "order": null,
      "overflow": null,
      "overflow_x": null,
      "overflow_y": null,
      "padding": null,
      "right": null,
      "top": null,
      "visibility": null,
      "width": null
     }
    },
    "af1b27152cad4455b472b77c7b79d2f1": {
     "model_module": "@jupyter-widgets/controls",
     "model_module_version": "1.5.0",
     "model_name": "HTMLModel",
     "state": {
      "_dom_classes": [],
      "_model_module": "@jupyter-widgets/controls",
      "_model_module_version": "1.5.0",
      "_model_name": "HTMLModel",
      "_view_count": null,
      "_view_module": "@jupyter-widgets/controls",
      "_view_module_version": "1.5.0",
      "_view_name": "HTMLView",
      "description": "",
      "description_tooltip": null,
      "layout": "IPY_MODEL_b7c4e6fe66494da8922f50dff1d3b24f",
      "placeholder": "​",
      "style": "IPY_MODEL_49e1e9d5d203494d9d88dee6e7e6c041",
      "value": "Converting train dataset to ChatML (num_proc=8): 100%"
     }
    },
    "afc14bf9861640e2b0e2870fc8a4894b": {
     "model_module": "@jupyter-widgets/controls",
     "model_module_version": "1.5.0",
     "model_name": "FloatProgressModel",
     "state": {
      "_dom_classes": [],
      "_model_module": "@jupyter-widgets/controls",
      "_model_module_version": "1.5.0",
      "_model_name": "FloatProgressModel",
      "_view_count": null,
      "_view_module": "@jupyter-widgets/controls",
      "_view_module_version": "1.5.0",
      "_view_name": "ProgressView",
      "bar_style": "success",
      "description": "",
      "description_tooltip": null,
      "layout": "IPY_MODEL_b8b4055c14304b8c9d85b45b0b1de868",
      "max": 11263,
      "min": 0,
      "orientation": "horizontal",
      "style": "IPY_MODEL_6900293e474d40be88c6dec0290ae5b8",
      "value": 11263
     }
    },
    "b4098eb45e314a8f81ee6fb17c470a99": {
     "model_module": "@jupyter-widgets/base",
     "model_module_version": "1.2.0",
     "model_name": "LayoutModel",
     "state": {
      "_model_module": "@jupyter-widgets/base",
      "_model_module_version": "1.2.0",
      "_model_name": "LayoutModel",
      "_view_count": null,
      "_view_module": "@jupyter-widgets/base",
      "_view_module_version": "1.2.0",
      "_view_name": "LayoutView",
      "align_content": null,
      "align_items": null,
      "align_self": null,
      "border": null,
      "bottom": null,
      "display": null,
      "flex": null,
      "flex_flow": null,
      "grid_area": null,
      "grid_auto_columns": null,
      "grid_auto_flow": null,
      "grid_auto_rows": null,
      "grid_column": null,
      "grid_gap": null,
      "grid_row": null,
      "grid_template_areas": null,
      "grid_template_columns": null,
      "grid_template_rows": null,
      "height": null,
      "justify_content": null,
      "justify_items": null,
      "left": null,
      "margin": null,
      "max_height": null,
      "max_width": null,
      "min_height": null,
      "min_width": null,
      "object_fit": null,
      "object_position": null,
      "order": null,
      "overflow": null,
      "overflow_x": null,
      "overflow_y": null,
      "padding": null,
      "right": null,
      "top": null,
      "visibility": null,
      "width": null
     }
    },
    "b50844cbff374bada3461b4f1304f039": {
     "model_module": "@jupyter-widgets/controls",
     "model_module_version": "1.5.0",
     "model_name": "FloatProgressModel",
     "state": {
      "_dom_classes": [],
      "_model_module": "@jupyter-widgets/controls",
      "_model_module_version": "1.5.0",
      "_model_name": "FloatProgressModel",
      "_view_count": null,
      "_view_module": "@jupyter-widgets/controls",
      "_view_module_version": "1.5.0",
      "_view_name": "ProgressView",
      "bar_style": "success",
      "description": "",
      "description_tooltip": null,
      "layout": "IPY_MODEL_56f2ba12ed7a41179210d08e17c9f1e7",
      "max": 11263,
      "min": 0,
      "orientation": "horizontal",
      "style": "IPY_MODEL_9a485a40c01e49259360b5a04906a034",
      "value": 11263
     }
    },
    "b5cf53b7badc45b6b668d577e89db62d": {
     "model_module": "@jupyter-widgets/controls",
     "model_module_version": "1.5.0",
     "model_name": "HTMLModel",
     "state": {
      "_dom_classes": [],
      "_model_module": "@jupyter-widgets/controls",
      "_model_module_version": "1.5.0",
      "_model_name": "HTMLModel",
      "_view_count": null,
      "_view_module": "@jupyter-widgets/controls",
      "_view_module_version": "1.5.0",
      "_view_name": "HTMLView",
      "description": "",
      "description_tooltip": null,
      "layout": "IPY_MODEL_250fb1d472884d02aa4237c27c32b264",
      "placeholder": "​",
      "style": "IPY_MODEL_381726579564459c949369a7b32cbb29",
      "value": "Tokenizing train dataset (num_proc=8): 100%"
     }
    },
    "b7c4e6fe66494da8922f50dff1d3b24f": {
     "model_module": "@jupyter-widgets/base",
     "model_module_version": "1.2.0",
     "model_name": "LayoutModel",
     "state": {
      "_model_module": "@jupyter-widgets/base",
      "_model_module_version": "1.2.0",
      "_model_name": "LayoutModel",
      "_view_count": null,
      "_view_module": "@jupyter-widgets/base",
      "_view_module_version": "1.2.0",
      "_view_name": "LayoutView",
      "align_content": null,
      "align_items": null,
      "align_self": null,
      "border": null,
      "bottom": null,
      "display": null,
      "flex": null,
      "flex_flow": null,
      "grid_area": null,
      "grid_auto_columns": null,
      "grid_auto_flow": null,
      "grid_auto_rows": null,
      "grid_column": null,
      "grid_gap": null,
      "grid_row": null,
      "grid_template_areas": null,
      "grid_template_columns": null,
      "grid_template_rows": null,
      "height": null,
      "justify_content": null,
      "justify_items": null,
      "left": null,
      "margin": null,
      "max_height": null,
      "max_width": null,
      "min_height": null,
      "min_width": null,
      "object_fit": null,
      "object_position": null,
      "order": null,
      "overflow": null,
      "overflow_x": null,
      "overflow_y": null,
      "padding": null,
      "right": null,
      "top": null,
      "visibility": null,
      "width": null
     }
    },
    "b829dadcbc5e4a409c899ec2eb3208e2": {
     "model_module": "@jupyter-widgets/controls",
     "model_module_version": "1.5.0",
     "model_name": "DescriptionStyleModel",
     "state": {
      "_model_module": "@jupyter-widgets/controls",
      "_model_module_version": "1.5.0",
      "_model_name": "DescriptionStyleModel",
      "_view_count": null,
      "_view_module": "@jupyter-widgets/base",
      "_view_module_version": "1.2.0",
      "_view_name": "StyleView",
      "description_width": ""
     }
    },
    "b8a4dc593aa44f8dba7c602f20838974": {
     "model_module": "@jupyter-widgets/controls",
     "model_module_version": "1.5.0",
     "model_name": "DescriptionStyleModel",
     "state": {
      "_model_module": "@jupyter-widgets/controls",
      "_model_module_version": "1.5.0",
      "_model_name": "DescriptionStyleModel",
      "_view_count": null,
      "_view_module": "@jupyter-widgets/base",
      "_view_module_version": "1.2.0",
      "_view_name": "StyleView",
      "description_width": ""
     }
    },
    "b8b4055c14304b8c9d85b45b0b1de868": {
     "model_module": "@jupyter-widgets/base",
     "model_module_version": "1.2.0",
     "model_name": "LayoutModel",
     "state": {
      "_model_module": "@jupyter-widgets/base",
      "_model_module_version": "1.2.0",
      "_model_name": "LayoutModel",
      "_view_count": null,
      "_view_module": "@jupyter-widgets/base",
      "_view_module_version": "1.2.0",
      "_view_name": "LayoutView",
      "align_content": null,
      "align_items": null,
      "align_self": null,
      "border": null,
      "bottom": null,
      "display": null,
      "flex": null,
      "flex_flow": null,
      "grid_area": null,
      "grid_auto_columns": null,
      "grid_auto_flow": null,
      "grid_auto_rows": null,
      "grid_column": null,
      "grid_gap": null,
      "grid_row": null,
      "grid_template_areas": null,
      "grid_template_columns": null,
      "grid_template_rows": null,
      "height": null,
      "justify_content": null,
      "justify_items": null,
      "left": null,
      "margin": null,
      "max_height": null,
      "max_width": null,
      "min_height": null,
      "min_width": null,
      "object_fit": null,
      "object_position": null,
      "order": null,
      "overflow": null,
      "overflow_x": null,
      "overflow_y": null,
      "padding": null,
      "right": null,
      "top": null,
      "visibility": null,
      "width": null
     }
    },
    "b9ea9044ab1c4a8eb14b559634c23bd3": {
     "model_module": "@jupyter-widgets/base",
     "model_module_version": "1.2.0",
     "model_name": "LayoutModel",
     "state": {
      "_model_module": "@jupyter-widgets/base",
      "_model_module_version": "1.2.0",
      "_model_name": "LayoutModel",
      "_view_count": null,
      "_view_module": "@jupyter-widgets/base",
      "_view_module_version": "1.2.0",
      "_view_name": "LayoutView",
      "align_content": null,
      "align_items": null,
      "align_self": null,
      "border": null,
      "bottom": null,
      "display": null,
      "flex": null,
      "flex_flow": null,
      "grid_area": null,
      "grid_auto_columns": null,
      "grid_auto_flow": null,
      "grid_auto_rows": null,
      "grid_column": null,
      "grid_gap": null,
      "grid_row": null,
      "grid_template_areas": null,
      "grid_template_columns": null,
      "grid_template_rows": null,
      "height": null,
      "justify_content": null,
      "justify_items": null,
      "left": null,
      "margin": null,
      "max_height": null,
      "max_width": null,
      "min_height": null,
      "min_width": null,
      "object_fit": null,
      "object_position": null,
      "order": null,
      "overflow": null,
      "overflow_x": null,
      "overflow_y": null,
      "padding": null,
      "right": null,
      "top": null,
      "visibility": null,
      "width": null
     }
    },
    "ba1e850582c846cb90a159bd3507962c": {
     "model_module": "@jupyter-widgets/controls",
     "model_module_version": "1.5.0",
     "model_name": "HTMLModel",
     "state": {
      "_dom_classes": [],
      "_model_module": "@jupyter-widgets/controls",
      "_model_module_version": "1.5.0",
      "_model_name": "HTMLModel",
      "_view_count": null,
      "_view_module": "@jupyter-widgets/controls",
      "_view_module_version": "1.5.0",
      "_view_name": "HTMLView",
      "description": "",
      "description_tooltip": null,
      "layout": "IPY_MODEL_f7407602c0ca4d598423d0ced1c8de9a",
      "placeholder": "​",
      "style": "IPY_MODEL_3fff8ef6d72f426ba8bdd268a8498024",
      "value": " 11263/11263 [00:00&lt;00:00, 32922.21 examples/s]"
     }
    },
    "bb70d283ff1b4bbd88fde0421b2254f0": {
     "model_module": "@jupyter-widgets/controls",
     "model_module_version": "1.5.0",
     "model_name": "HBoxModel",
     "state": {
      "_dom_classes": [],
      "_model_module": "@jupyter-widgets/controls",
      "_model_module_version": "1.5.0",
      "_model_name": "HBoxModel",
      "_view_count": null,
      "_view_module": "@jupyter-widgets/controls",
      "_view_module_version": "1.5.0",
      "_view_name": "HBoxView",
      "box_style": "",
      "children": [
       "IPY_MODEL_d987b615b1a0470a830126545b154bcc",
       "IPY_MODEL_52b903fd1e4b4ffcbe08c7ade26ee082",
       "IPY_MODEL_628cefe131674055859960a593573466"
      ],
      "layout": "IPY_MODEL_fd5eb2bb31534e94bcdad208f746a02a"
     }
    },
    "bdbde916319a401dbdc8e1d941c23521": {
     "model_module": "@jupyter-widgets/controls",
     "model_module_version": "1.5.0",
     "model_name": "ProgressStyleModel",
     "state": {
      "_model_module": "@jupyter-widgets/controls",
      "_model_module_version": "1.5.0",
      "_model_name": "ProgressStyleModel",
      "_view_count": null,
      "_view_module": "@jupyter-widgets/base",
      "_view_module_version": "1.2.0",
      "_view_name": "StyleView",
      "bar_color": null,
      "description_width": ""
     }
    },
    "bfa1f0855df7419789e71fd657f74ff9": {
     "model_module": "@jupyter-widgets/controls",
     "model_module_version": "1.5.0",
     "model_name": "DescriptionStyleModel",
     "state": {
      "_model_module": "@jupyter-widgets/controls",
      "_model_module_version": "1.5.0",
      "_model_name": "DescriptionStyleModel",
      "_view_count": null,
      "_view_module": "@jupyter-widgets/base",
      "_view_module_version": "1.2.0",
      "_view_name": "StyleView",
      "description_width": ""
     }
    },
    "c0f8825335e6497ebae220d799746dd5": {
     "model_module": "@jupyter-widgets/controls",
     "model_module_version": "1.5.0",
     "model_name": "DescriptionStyleModel",
     "state": {
      "_model_module": "@jupyter-widgets/controls",
      "_model_module_version": "1.5.0",
      "_model_name": "DescriptionStyleModel",
      "_view_count": null,
      "_view_module": "@jupyter-widgets/base",
      "_view_module_version": "1.2.0",
      "_view_name": "StyleView",
      "description_width": ""
     }
    },
    "c188ce0603ab4999bdd90e62bb42b544": {
     "model_module": "@jupyter-widgets/base",
     "model_module_version": "1.2.0",
     "model_name": "LayoutModel",
     "state": {
      "_model_module": "@jupyter-widgets/base",
      "_model_module_version": "1.2.0",
      "_model_name": "LayoutModel",
      "_view_count": null,
      "_view_module": "@jupyter-widgets/base",
      "_view_module_version": "1.2.0",
      "_view_name": "LayoutView",
      "align_content": null,
      "align_items": null,
      "align_self": null,
      "border": null,
      "bottom": null,
      "display": null,
      "flex": null,
      "flex_flow": null,
      "grid_area": null,
      "grid_auto_columns": null,
      "grid_auto_flow": null,
      "grid_auto_rows": null,
      "grid_column": null,
      "grid_gap": null,
      "grid_row": null,
      "grid_template_areas": null,
      "grid_template_columns": null,
      "grid_template_rows": null,
      "height": null,
      "justify_content": null,
      "justify_items": null,
      "left": null,
      "margin": null,
      "max_height": null,
      "max_width": null,
      "min_height": null,
      "min_width": null,
      "object_fit": null,
      "object_position": null,
      "order": null,
      "overflow": null,
      "overflow_x": null,
      "overflow_y": null,
      "padding": null,
      "right": null,
      "top": null,
      "visibility": null,
      "width": null
     }
    },
    "c1bf0c7ebcca4c3389e04b2d49e84954": {
     "model_module": "@jupyter-widgets/controls",
     "model_module_version": "1.5.0",
     "model_name": "HBoxModel",
     "state": {
      "_dom_classes": [],
      "_model_module": "@jupyter-widgets/controls",
      "_model_module_version": "1.5.0",
      "_model_name": "HBoxModel",
      "_view_count": null,
      "_view_module": "@jupyter-widgets/controls",
      "_view_module_version": "1.5.0",
      "_view_name": "HBoxView",
      "box_style": "",
      "children": [
       "IPY_MODEL_48707bf916f34669a4a0a2c422d3c226",
       "IPY_MODEL_6c7fa11f4cc5477ca8b1e09b2adccab0",
       "IPY_MODEL_d2b2701e01bf4047ae82060037c1c4ee"
      ],
      "layout": "IPY_MODEL_fa8e82023bec4265908b9a6db2a0d9e7"
     }
    },
    "c3a1d526edf440d88c73b36e1fed9b82": {
     "model_module": "@jupyter-widgets/base",
     "model_module_version": "1.2.0",
     "model_name": "LayoutModel",
     "state": {
      "_model_module": "@jupyter-widgets/base",
      "_model_module_version": "1.2.0",
      "_model_name": "LayoutModel",
      "_view_count": null,
      "_view_module": "@jupyter-widgets/base",
      "_view_module_version": "1.2.0",
      "_view_name": "LayoutView",
      "align_content": null,
      "align_items": null,
      "align_self": null,
      "border": null,
      "bottom": null,
      "display": null,
      "flex": null,
      "flex_flow": null,
      "grid_area": null,
      "grid_auto_columns": null,
      "grid_auto_flow": null,
      "grid_auto_rows": null,
      "grid_column": null,
      "grid_gap": null,
      "grid_row": null,
      "grid_template_areas": null,
      "grid_template_columns": null,
      "grid_template_rows": null,
      "height": null,
      "justify_content": null,
      "justify_items": null,
      "left": null,
      "margin": null,
      "max_height": null,
      "max_width": null,
      "min_height": null,
      "min_width": null,
      "object_fit": null,
      "object_position": null,
      "order": null,
      "overflow": null,
      "overflow_x": null,
      "overflow_y": null,
      "padding": null,
      "right": null,
      "top": null,
      "visibility": null,
      "width": null
     }
    },
    "c451b6e6a9884d28a1bf3382ab49a1b5": {
     "model_module": "@jupyter-widgets/base",
     "model_module_version": "1.2.0",
     "model_name": "LayoutModel",
     "state": {
      "_model_module": "@jupyter-widgets/base",
      "_model_module_version": "1.2.0",
      "_model_name": "LayoutModel",
      "_view_count": null,
      "_view_module": "@jupyter-widgets/base",
      "_view_module_version": "1.2.0",
      "_view_name": "LayoutView",
      "align_content": null,
      "align_items": null,
      "align_self": null,
      "border": null,
      "bottom": null,
      "display": null,
      "flex": null,
      "flex_flow": null,
      "grid_area": null,
      "grid_auto_columns": null,
      "grid_auto_flow": null,
      "grid_auto_rows": null,
      "grid_column": null,
      "grid_gap": null,
      "grid_row": null,
      "grid_template_areas": null,
      "grid_template_columns": null,
      "grid_template_rows": null,
      "height": null,
      "justify_content": null,
      "justify_items": null,
      "left": null,
      "margin": null,
      "max_height": null,
      "max_width": null,
      "min_height": null,
      "min_width": null,
      "object_fit": null,
      "object_position": null,
      "order": null,
      "overflow": null,
      "overflow_x": null,
      "overflow_y": null,
      "padding": null,
      "right": null,
      "top": null,
      "visibility": null,
      "width": null
     }
    },
    "c6909b3b4a184cc4b9c2927add4bfe6e": {
     "model_module": "@jupyter-widgets/controls",
     "model_module_version": "1.5.0",
     "model_name": "FloatProgressModel",
     "state": {
      "_dom_classes": [],
      "_model_module": "@jupyter-widgets/controls",
      "_model_module_version": "1.5.0",
      "_model_name": "FloatProgressModel",
      "_view_count": null,
      "_view_module": "@jupyter-widgets/controls",
      "_view_module_version": "1.5.0",
      "_view_name": "ProgressView",
      "bar_style": "success",
      "description": "",
      "description_tooltip": null,
      "layout": "IPY_MODEL_5fd765dbbb7a44a48c39ff8a00d42764",
      "max": 3,
      "min": 0,
      "orientation": "horizontal",
      "style": "IPY_MODEL_efcba2ca9c704d6b9aee9a2943e67af4",
      "value": 3
     }
    },
    "c6917dae001c4a2a9c5b6783b7305693": {
     "model_module": "@jupyter-widgets/base",
     "model_module_version": "1.2.0",
     "model_name": "LayoutModel",
     "state": {
      "_model_module": "@jupyter-widgets/base",
      "_model_module_version": "1.2.0",
      "_model_name": "LayoutModel",
      "_view_count": null,
      "_view_module": "@jupyter-widgets/base",
      "_view_module_version": "1.2.0",
      "_view_name": "LayoutView",
      "align_content": null,
      "align_items": null,
      "align_self": null,
      "border": null,
      "bottom": null,
      "display": null,
      "flex": null,
      "flex_flow": null,
      "grid_area": null,
      "grid_auto_columns": null,
      "grid_auto_flow": null,
      "grid_auto_rows": null,
      "grid_column": null,
      "grid_gap": null,
      "grid_row": null,
      "grid_template_areas": null,
      "grid_template_columns": null,
      "grid_template_rows": null,
      "height": null,
      "justify_content": null,
      "justify_items": null,
      "left": null,
      "margin": null,
      "max_height": null,
      "max_width": null,
      "min_height": null,
      "min_width": null,
      "object_fit": null,
      "object_position": null,
      "order": null,
      "overflow": null,
      "overflow_x": null,
      "overflow_y": null,
      "padding": null,
      "right": null,
      "top": null,
      "visibility": null,
      "width": null
     }
    },
    "c7670af74f5c48d4a601f469af5ad87b": {
     "model_module": "@jupyter-widgets/controls",
     "model_module_version": "1.5.0",
     "model_name": "ProgressStyleModel",
     "state": {
      "_model_module": "@jupyter-widgets/controls",
      "_model_module_version": "1.5.0",
      "_model_name": "ProgressStyleModel",
      "_view_count": null,
      "_view_module": "@jupyter-widgets/base",
      "_view_module_version": "1.2.0",
      "_view_name": "StyleView",
      "bar_color": null,
      "description_width": ""
     }
    },
    "c860f91dc7274dd587c72f31c647c0fa": {
     "model_module": "@jupyter-widgets/base",
     "model_module_version": "1.2.0",
     "model_name": "LayoutModel",
     "state": {
      "_model_module": "@jupyter-widgets/base",
      "_model_module_version": "1.2.0",
      "_model_name": "LayoutModel",
      "_view_count": null,
      "_view_module": "@jupyter-widgets/base",
      "_view_module_version": "1.2.0",
      "_view_name": "LayoutView",
      "align_content": null,
      "align_items": null,
      "align_self": null,
      "border": null,
      "bottom": null,
      "display": null,
      "flex": null,
      "flex_flow": null,
      "grid_area": null,
      "grid_auto_columns": null,
      "grid_auto_flow": null,
      "grid_auto_rows": null,
      "grid_column": null,
      "grid_gap": null,
      "grid_row": null,
      "grid_template_areas": null,
      "grid_template_columns": null,
      "grid_template_rows": null,
      "height": null,
      "justify_content": null,
      "justify_items": null,
      "left": null,
      "margin": null,
      "max_height": null,
      "max_width": null,
      "min_height": null,
      "min_width": null,
      "object_fit": null,
      "object_position": null,
      "order": null,
      "overflow": null,
      "overflow_x": null,
      "overflow_y": null,
      "padding": null,
      "right": null,
      "top": null,
      "visibility": null,
      "width": null
     }
    },
    "cac85c2106f24605848c32df09af8cc2": {
     "model_module": "@jupyter-widgets/controls",
     "model_module_version": "1.5.0",
     "model_name": "ProgressStyleModel",
     "state": {
      "_model_module": "@jupyter-widgets/controls",
      "_model_module_version": "1.5.0",
      "_model_name": "ProgressStyleModel",
      "_view_count": null,
      "_view_module": "@jupyter-widgets/base",
      "_view_module_version": "1.2.0",
      "_view_name": "StyleView",
      "bar_color": null,
      "description_width": ""
     }
    },
    "cacb775e78c3435e8f805fe121306af0": {
     "model_module": "@jupyter-widgets/base",
     "model_module_version": "1.2.0",
     "model_name": "LayoutModel",
     "state": {
      "_model_module": "@jupyter-widgets/base",
      "_model_module_version": "1.2.0",
      "_model_name": "LayoutModel",
      "_view_count": null,
      "_view_module": "@jupyter-widgets/base",
      "_view_module_version": "1.2.0",
      "_view_name": "LayoutView",
      "align_content": null,
      "align_items": null,
      "align_self": null,
      "border": null,
      "bottom": null,
      "display": null,
      "flex": null,
      "flex_flow": null,
      "grid_area": null,
      "grid_auto_columns": null,
      "grid_auto_flow": null,
      "grid_auto_rows": null,
      "grid_column": null,
      "grid_gap": null,
      "grid_row": null,
      "grid_template_areas": null,
      "grid_template_columns": null,
      "grid_template_rows": null,
      "height": null,
      "justify_content": null,
      "justify_items": null,
      "left": null,
      "margin": null,
      "max_height": null,
      "max_width": null,
      "min_height": null,
      "min_width": null,
      "object_fit": null,
      "object_position": null,
      "order": null,
      "overflow": null,
      "overflow_x": null,
      "overflow_y": null,
      "padding": null,
      "right": null,
      "top": null,
      "visibility": null,
      "width": null
     }
    },
    "d00ffb1543df463e92f4af668d2c908b": {
     "model_module": "@jupyter-widgets/base",
     "model_module_version": "1.2.0",
     "model_name": "LayoutModel",
     "state": {
      "_model_module": "@jupyter-widgets/base",
      "_model_module_version": "1.2.0",
      "_model_name": "LayoutModel",
      "_view_count": null,
      "_view_module": "@jupyter-widgets/base",
      "_view_module_version": "1.2.0",
      "_view_name": "LayoutView",
      "align_content": null,
      "align_items": null,
      "align_self": null,
      "border": null,
      "bottom": null,
      "display": null,
      "flex": null,
      "flex_flow": null,
      "grid_area": null,
      "grid_auto_columns": null,
      "grid_auto_flow": null,
      "grid_auto_rows": null,
      "grid_column": null,
      "grid_gap": null,
      "grid_row": null,
      "grid_template_areas": null,
      "grid_template_columns": null,
      "grid_template_rows": null,
      "height": null,
      "justify_content": null,
      "justify_items": null,
      "left": null,
      "margin": null,
      "max_height": null,
      "max_width": null,
      "min_height": null,
      "min_width": null,
      "object_fit": null,
      "object_position": null,
      "order": null,
      "overflow": null,
      "overflow_x": null,
      "overflow_y": null,
      "padding": null,
      "right": null,
      "top": null,
      "visibility": null,
      "width": null
     }
    },
    "d2b2701e01bf4047ae82060037c1c4ee": {
     "model_module": "@jupyter-widgets/controls",
     "model_module_version": "1.5.0",
     "model_name": "HTMLModel",
     "state": {
      "_dom_classes": [],
      "_model_module": "@jupyter-widgets/controls",
      "_model_module_version": "1.5.0",
      "_model_name": "HTMLModel",
      "_view_count": null,
      "_view_module": "@jupyter-widgets/controls",
      "_view_module_version": "1.5.0",
      "_view_name": "HTMLView",
      "description": "",
      "description_tooltip": null,
      "layout": "IPY_MODEL_045a6a95a7fb4667a5cc70e42cf999be",
      "placeholder": "​",
      "style": "IPY_MODEL_245674309fbc46048ab06feff9118e8a",
      "value": " 11263/11263 [00:01&lt;00:00, 11492.05 examples/s]"
     }
    },
    "d4a3f8bf516b49fcbdf644c4a87d68a3": {
     "model_module": "@jupyter-widgets/controls",
     "model_module_version": "1.5.0",
     "model_name": "FloatProgressModel",
     "state": {
      "_dom_classes": [],
      "_model_module": "@jupyter-widgets/controls",
      "_model_module_version": "1.5.0",
      "_model_name": "FloatProgressModel",
      "_view_count": null,
      "_view_module": "@jupyter-widgets/controls",
      "_view_module_version": "1.5.0",
      "_view_name": "ProgressView",
      "bar_style": "success",
      "description": "",
      "description_tooltip": null,
      "layout": "IPY_MODEL_70c5a63475bd425083ce0ee381c15693",
      "max": 3,
      "min": 0,
      "orientation": "horizontal",
      "style": "IPY_MODEL_34156096f4794ca1a68e8551aca31b28",
      "value": 3
     }
    },
    "d62009a7e7e54dba8396e0ed555ecfa4": {
     "model_module": "@jupyter-widgets/controls",
     "model_module_version": "1.5.0",
     "model_name": "HTMLModel",
     "state": {
      "_dom_classes": [],
      "_model_module": "@jupyter-widgets/controls",
      "_model_module_version": "1.5.0",
      "_model_name": "HTMLModel",
      "_view_count": null,
      "_view_module": "@jupyter-widgets/controls",
      "_view_module_version": "1.5.0",
      "_view_name": "HTMLView",
      "description": "",
      "description_tooltip": null,
      "layout": "IPY_MODEL_d00ffb1543df463e92f4af668d2c908b",
      "placeholder": "​",
      "style": "IPY_MODEL_7273de52ccc9481194b02e90faf9e77b",
      "value": "Loading checkpoint shards: 100%"
     }
    },
    "d983c63cbfca49dc81ddea282e853299": {
     "model_module": "@jupyter-widgets/base",
     "model_module_version": "1.2.0",
     "model_name": "LayoutModel",
     "state": {
      "_model_module": "@jupyter-widgets/base",
      "_model_module_version": "1.2.0",
      "_model_name": "LayoutModel",
      "_view_count": null,
      "_view_module": "@jupyter-widgets/base",
      "_view_module_version": "1.2.0",
      "_view_name": "LayoutView",
      "align_content": null,
      "align_items": null,
      "align_self": null,
      "border": null,
      "bottom": null,
      "display": null,
      "flex": null,
      "flex_flow": null,
      "grid_area": null,
      "grid_auto_columns": null,
      "grid_auto_flow": null,
      "grid_auto_rows": null,
      "grid_column": null,
      "grid_gap": null,
      "grid_row": null,
      "grid_template_areas": null,
      "grid_template_columns": null,
      "grid_template_rows": null,
      "height": null,
      "justify_content": null,
      "justify_items": null,
      "left": null,
      "margin": null,
      "max_height": null,
      "max_width": null,
      "min_height": null,
      "min_width": null,
      "object_fit": null,
      "object_position": null,
      "order": null,
      "overflow": null,
      "overflow_x": null,
      "overflow_y": null,
      "padding": null,
      "right": null,
      "top": null,
      "visibility": null,
      "width": null
     }
    },
    "d987b615b1a0470a830126545b154bcc": {
     "model_module": "@jupyter-widgets/controls",
     "model_module_version": "1.5.0",
     "model_name": "HTMLModel",
     "state": {
      "_dom_classes": [],
      "_model_module": "@jupyter-widgets/controls",
      "_model_module_version": "1.5.0",
      "_model_name": "HTMLModel",
      "_view_count": null,
      "_view_module": "@jupyter-widgets/controls",
      "_view_module_version": "1.5.0",
      "_view_name": "HTMLView",
      "description": "",
      "description_tooltip": null,
      "layout": "IPY_MODEL_0769fdaed29a4cfdb08af1063582e09b",
      "placeholder": "​",
      "style": "IPY_MODEL_f3d52d65db254410bd107c70abc103b1",
      "value": "Map: 100%"
     }
    },
    "dd7918da6d324778b82583b3956d6ccb": {
     "model_module": "@jupyter-widgets/base",
     "model_module_version": "1.2.0",
     "model_name": "LayoutModel",
     "state": {
      "_model_module": "@jupyter-widgets/base",
      "_model_module_version": "1.2.0",
      "_model_name": "LayoutModel",
      "_view_count": null,
      "_view_module": "@jupyter-widgets/base",
      "_view_module_version": "1.2.0",
      "_view_name": "LayoutView",
      "align_content": null,
      "align_items": null,
      "align_self": null,
      "border": null,
      "bottom": null,
      "display": null,
      "flex": null,
      "flex_flow": null,
      "grid_area": null,
      "grid_auto_columns": null,
      "grid_auto_flow": null,
      "grid_auto_rows": null,
      "grid_column": null,
      "grid_gap": null,
      "grid_row": null,
      "grid_template_areas": null,
      "grid_template_columns": null,
      "grid_template_rows": null,
      "height": null,
      "justify_content": null,
      "justify_items": null,
      "left": null,
      "margin": null,
      "max_height": null,
      "max_width": null,
      "min_height": null,
      "min_width": null,
      "object_fit": null,
      "object_position": null,
      "order": null,
      "overflow": null,
      "overflow_x": null,
      "overflow_y": null,
      "padding": null,
      "right": null,
      "top": null,
      "visibility": null,
      "width": null
     }
    },
    "e0ad8ed326d1466ab5b905b7516ad8c6": {
     "model_module": "@jupyter-widgets/controls",
     "model_module_version": "1.5.0",
     "model_name": "HTMLModel",
     "state": {
      "_dom_classes": [],
      "_model_module": "@jupyter-widgets/controls",
      "_model_module_version": "1.5.0",
      "_model_name": "HTMLModel",
      "_view_count": null,
      "_view_module": "@jupyter-widgets/controls",
      "_view_module_version": "1.5.0",
      "_view_name": "HTMLView",
      "description": "",
      "description_tooltip": null,
      "layout": "IPY_MODEL_76444c7d3b844b1a8900b92200b38175",
      "placeholder": "​",
      "style": "IPY_MODEL_e573ba9bb032428da42f47e5012e2ddf",
      "value": "Tokenizing train dataset (num_proc=2): 100%"
     }
    },
    "e573ba9bb032428da42f47e5012e2ddf": {
     "model_module": "@jupyter-widgets/controls",
     "model_module_version": "1.5.0",
     "model_name": "DescriptionStyleModel",
     "state": {
      "_model_module": "@jupyter-widgets/controls",
      "_model_module_version": "1.5.0",
      "_model_name": "DescriptionStyleModel",
      "_view_count": null,
      "_view_module": "@jupyter-widgets/base",
      "_view_module_version": "1.2.0",
      "_view_name": "StyleView",
      "description_width": ""
     }
    },
    "e62bf01104814ab49f440346f68655a7": {
     "model_module": "@jupyter-widgets/controls",
     "model_module_version": "1.5.0",
     "model_name": "DescriptionStyleModel",
     "state": {
      "_model_module": "@jupyter-widgets/controls",
      "_model_module_version": "1.5.0",
      "_model_name": "DescriptionStyleModel",
      "_view_count": null,
      "_view_module": "@jupyter-widgets/base",
      "_view_module_version": "1.2.0",
      "_view_name": "StyleView",
      "description_width": ""
     }
    },
    "e92a866744874ffe807d4a7542a7b442": {
     "model_module": "@jupyter-widgets/controls",
     "model_module_version": "1.5.0",
     "model_name": "HBoxModel",
     "state": {
      "_dom_classes": [],
      "_model_module": "@jupyter-widgets/controls",
      "_model_module_version": "1.5.0",
      "_model_name": "HBoxModel",
      "_view_count": null,
      "_view_module": "@jupyter-widgets/controls",
      "_view_module_version": "1.5.0",
      "_view_name": "HBoxView",
      "box_style": "",
      "children": [
       "IPY_MODEL_d62009a7e7e54dba8396e0ed555ecfa4",
       "IPY_MODEL_d4a3f8bf516b49fcbdf644c4a87d68a3",
       "IPY_MODEL_7a16b88762344cc4a44411127318dc41"
      ],
      "layout": "IPY_MODEL_76dea870d02c4b88a92217b8a317caf3"
     }
    },
    "ec9b264d026d4395b3aef34c0b88b6b5": {
     "model_module": "@jupyter-widgets/controls",
     "model_module_version": "1.5.0",
     "model_name": "DescriptionStyleModel",
     "state": {
      "_model_module": "@jupyter-widgets/controls",
      "_model_module_version": "1.5.0",
      "_model_name": "DescriptionStyleModel",
      "_view_count": null,
      "_view_module": "@jupyter-widgets/base",
      "_view_module_version": "1.2.0",
      "_view_name": "StyleView",
      "description_width": ""
     }
    },
    "eef35ac1e48e428e94be461ce5e99f54": {
     "model_module": "@jupyter-widgets/controls",
     "model_module_version": "1.5.0",
     "model_name": "FloatProgressModel",
     "state": {
      "_dom_classes": [],
      "_model_module": "@jupyter-widgets/controls",
      "_model_module_version": "1.5.0",
      "_model_name": "FloatProgressModel",
      "_view_count": null,
      "_view_module": "@jupyter-widgets/controls",
      "_view_module_version": "1.5.0",
      "_view_name": "ProgressView",
      "bar_style": "success",
      "description": "",
      "description_tooltip": null,
      "layout": "IPY_MODEL_0a5958e446ce4c2088f1b9c7165ed652",
      "max": 11263,
      "min": 0,
      "orientation": "horizontal",
      "style": "IPY_MODEL_48c35a72dfcd4fe2a2ce4003608c74ab",
      "value": 11263
     }
    },
    "efcba2ca9c704d6b9aee9a2943e67af4": {
     "model_module": "@jupyter-widgets/controls",
     "model_module_version": "1.5.0",
     "model_name": "ProgressStyleModel",
     "state": {
      "_model_module": "@jupyter-widgets/controls",
      "_model_module_version": "1.5.0",
      "_model_name": "ProgressStyleModel",
      "_view_count": null,
      "_view_module": "@jupyter-widgets/base",
      "_view_module_version": "1.2.0",
      "_view_name": "StyleView",
      "bar_color": null,
      "description_width": ""
     }
    },
    "f0a5b41b16904af895584aeb3d786015": {
     "model_module": "@jupyter-widgets/controls",
     "model_module_version": "1.5.0",
     "model_name": "HTMLModel",
     "state": {
      "_dom_classes": [],
      "_model_module": "@jupyter-widgets/controls",
      "_model_module_version": "1.5.0",
      "_model_name": "HTMLModel",
      "_view_count": null,
      "_view_module": "@jupyter-widgets/controls",
      "_view_module_version": "1.5.0",
      "_view_name": "HTMLView",
      "description": "",
      "description_tooltip": null,
      "layout": "IPY_MODEL_13c19ce01e6d439e9c35f78fce940b76",
      "placeholder": "​",
      "style": "IPY_MODEL_2a0bc8ad263747e1a322e04f4a474509",
      "value": "Converting train dataset to ChatML (num_proc=8): 100%"
     }
    },
    "f3d52d65db254410bd107c70abc103b1": {
     "model_module": "@jupyter-widgets/controls",
     "model_module_version": "1.5.0",
     "model_name": "DescriptionStyleModel",
     "state": {
      "_model_module": "@jupyter-widgets/controls",
      "_model_module_version": "1.5.0",
      "_model_name": "DescriptionStyleModel",
      "_view_count": null,
      "_view_module": "@jupyter-widgets/base",
      "_view_module_version": "1.2.0",
      "_view_name": "StyleView",
      "description_width": ""
     }
    },
    "f3dbee22e0a74457b8fbdb637691b7c4": {
     "model_module": "@jupyter-widgets/controls",
     "model_module_version": "1.5.0",
     "model_name": "DescriptionStyleModel",
     "state": {
      "_model_module": "@jupyter-widgets/controls",
      "_model_module_version": "1.5.0",
      "_model_name": "DescriptionStyleModel",
      "_view_count": null,
      "_view_module": "@jupyter-widgets/base",
      "_view_module_version": "1.2.0",
      "_view_name": "StyleView",
      "description_width": ""
     }
    },
    "f67e6bf5c1d64fa8ba9278f732c58fd2": {
     "model_module": "@jupyter-widgets/controls",
     "model_module_version": "1.5.0",
     "model_name": "HTMLModel",
     "state": {
      "_dom_classes": [],
      "_model_module": "@jupyter-widgets/controls",
      "_model_module_version": "1.5.0",
      "_model_name": "HTMLModel",
      "_view_count": null,
      "_view_module": "@jupyter-widgets/controls",
      "_view_module_version": "1.5.0",
      "_view_name": "HTMLView",
      "description": "",
      "description_tooltip": null,
      "layout": "IPY_MODEL_1413505759224776a6d016929ed6f0f3",
      "placeholder": "​",
      "style": "IPY_MODEL_bfa1f0855df7419789e71fd657f74ff9",
      "value": " 11263/11263 [00:00&lt;00:00, 30452.52 examples/s]"
     }
    },
    "f703558af90541509ec55ec15e4897af": {
     "model_module": "@jupyter-widgets/base",
     "model_module_version": "1.2.0",
     "model_name": "LayoutModel",
     "state": {
      "_model_module": "@jupyter-widgets/base",
      "_model_module_version": "1.2.0",
      "_model_name": "LayoutModel",
      "_view_count": null,
      "_view_module": "@jupyter-widgets/base",
      "_view_module_version": "1.2.0",
      "_view_name": "LayoutView",
      "align_content": null,
      "align_items": null,
      "align_self": null,
      "border": null,
      "bottom": null,
      "display": null,
      "flex": null,
      "flex_flow": null,
      "grid_area": null,
      "grid_auto_columns": null,
      "grid_auto_flow": null,
      "grid_auto_rows": null,
      "grid_column": null,
      "grid_gap": null,
      "grid_row": null,
      "grid_template_areas": null,
      "grid_template_columns": null,
      "grid_template_rows": null,
      "height": null,
      "justify_content": null,
      "justify_items": null,
      "left": null,
      "margin": null,
      "max_height": null,
      "max_width": null,
      "min_height": null,
      "min_width": null,
      "object_fit": null,
      "object_position": null,
      "order": null,
      "overflow": null,
      "overflow_x": null,
      "overflow_y": null,
      "padding": null,
      "right": null,
      "top": null,
      "visibility": null,
      "width": null
     }
    },
    "f7407602c0ca4d598423d0ced1c8de9a": {
     "model_module": "@jupyter-widgets/base",
     "model_module_version": "1.2.0",
     "model_name": "LayoutModel",
     "state": {
      "_model_module": "@jupyter-widgets/base",
      "_model_module_version": "1.2.0",
      "_model_name": "LayoutModel",
      "_view_count": null,
      "_view_module": "@jupyter-widgets/base",
      "_view_module_version": "1.2.0",
      "_view_name": "LayoutView",
      "align_content": null,
      "align_items": null,
      "align_self": null,
      "border": null,
      "bottom": null,
      "display": null,
      "flex": null,
      "flex_flow": null,
      "grid_area": null,
      "grid_auto_columns": null,
      "grid_auto_flow": null,
      "grid_auto_rows": null,
      "grid_column": null,
      "grid_gap": null,
      "grid_row": null,
      "grid_template_areas": null,
      "grid_template_columns": null,
      "grid_template_rows": null,
      "height": null,
      "justify_content": null,
      "justify_items": null,
      "left": null,
      "margin": null,
      "max_height": null,
      "max_width": null,
      "min_height": null,
      "min_width": null,
      "object_fit": null,
      "object_position": null,
      "order": null,
      "overflow": null,
      "overflow_x": null,
      "overflow_y": null,
      "padding": null,
      "right": null,
      "top": null,
      "visibility": null,
      "width": null
     }
    },
    "f7669c196d0f43fd867a01c88b1eea27": {
     "model_module": "@jupyter-widgets/controls",
     "model_module_version": "1.5.0",
     "model_name": "HBoxModel",
     "state": {
      "_dom_classes": [],
      "_model_module": "@jupyter-widgets/controls",
      "_model_module_version": "1.5.0",
      "_model_name": "HBoxModel",
      "_view_count": null,
      "_view_module": "@jupyter-widgets/controls",
      "_view_module_version": "1.5.0",
      "_view_name": "HBoxView",
      "box_style": "",
      "children": [
       "IPY_MODEL_3aa3165f01ad4d0d9c9f52ac31a0b9d3",
       "IPY_MODEL_b50844cbff374bada3461b4f1304f039",
       "IPY_MODEL_750975ea257d40b4ba1ae557f632dda0"
      ],
      "layout": "IPY_MODEL_f703558af90541509ec55ec15e4897af"
     }
    },
    "fa8e82023bec4265908b9a6db2a0d9e7": {
     "model_module": "@jupyter-widgets/base",
     "model_module_version": "1.2.0",
     "model_name": "LayoutModel",
     "state": {
      "_model_module": "@jupyter-widgets/base",
      "_model_module_version": "1.2.0",
      "_model_name": "LayoutModel",
      "_view_count": null,
      "_view_module": "@jupyter-widgets/base",
      "_view_module_version": "1.2.0",
      "_view_name": "LayoutView",
      "align_content": null,
      "align_items": null,
      "align_self": null,
      "border": null,
      "bottom": null,
      "display": null,
      "flex": null,
      "flex_flow": null,
      "grid_area": null,
      "grid_auto_columns": null,
      "grid_auto_flow": null,
      "grid_auto_rows": null,
      "grid_column": null,
      "grid_gap": null,
      "grid_row": null,
      "grid_template_areas": null,
      "grid_template_columns": null,
      "grid_template_rows": null,
      "height": null,
      "justify_content": null,
      "justify_items": null,
      "left": null,
      "margin": null,
      "max_height": null,
      "max_width": null,
      "min_height": null,
      "min_width": null,
      "object_fit": null,
      "object_position": null,
      "order": null,
      "overflow": null,
      "overflow_x": null,
      "overflow_y": null,
      "padding": null,
      "right": null,
      "top": null,
      "visibility": null,
      "width": null
     }
    },
    "fd5eb2bb31534e94bcdad208f746a02a": {
     "model_module": "@jupyter-widgets/base",
     "model_module_version": "1.2.0",
     "model_name": "LayoutModel",
     "state": {
      "_model_module": "@jupyter-widgets/base",
      "_model_module_version": "1.2.0",
      "_model_name": "LayoutModel",
      "_view_count": null,
      "_view_module": "@jupyter-widgets/base",
      "_view_module_version": "1.2.0",
      "_view_name": "LayoutView",
      "align_content": null,
      "align_items": null,
      "align_self": null,
      "border": null,
      "bottom": null,
      "display": null,
      "flex": null,
      "flex_flow": null,
      "grid_area": null,
      "grid_auto_columns": null,
      "grid_auto_flow": null,
      "grid_auto_rows": null,
      "grid_column": null,
      "grid_gap": null,
      "grid_row": null,
      "grid_template_areas": null,
      "grid_template_columns": null,
      "grid_template_rows": null,
      "height": null,
      "justify_content": null,
      "justify_items": null,
      "left": null,
      "margin": null,
      "max_height": null,
      "max_width": null,
      "min_height": null,
      "min_width": null,
      "object_fit": null,
      "object_position": null,
      "order": null,
      "overflow": null,
      "overflow_x": null,
      "overflow_y": null,
      "padding": null,
      "right": null,
      "top": null,
      "visibility": null,
      "width": null
     }
    },
    "fe5b792816b141239c44d76cc5713dfe": {
     "model_module": "@jupyter-widgets/base",
     "model_module_version": "1.2.0",
     "model_name": "LayoutModel",
     "state": {
      "_model_module": "@jupyter-widgets/base",
      "_model_module_version": "1.2.0",
      "_model_name": "LayoutModel",
      "_view_count": null,
      "_view_module": "@jupyter-widgets/base",
      "_view_module_version": "1.2.0",
      "_view_name": "LayoutView",
      "align_content": null,
      "align_items": null,
      "align_self": null,
      "border": null,
      "bottom": null,
      "display": null,
      "flex": null,
      "flex_flow": null,
      "grid_area": null,
      "grid_auto_columns": null,
      "grid_auto_flow": null,
      "grid_auto_rows": null,
      "grid_column": null,
      "grid_gap": null,
      "grid_row": null,
      "grid_template_areas": null,
      "grid_template_columns": null,
      "grid_template_rows": null,
      "height": null,
      "justify_content": null,
      "justify_items": null,
      "left": null,
      "margin": null,
      "max_height": null,
      "max_width": null,
      "min_height": null,
      "min_width": null,
      "object_fit": null,
      "object_position": null,
      "order": null,
      "overflow": null,
      "overflow_x": null,
      "overflow_y": null,
      "padding": null,
      "right": null,
      "top": null,
      "visibility": null,
      "width": null
     }
    }
   }
  }
 },
 "nbformat": 4,
 "nbformat_minor": 0
}
